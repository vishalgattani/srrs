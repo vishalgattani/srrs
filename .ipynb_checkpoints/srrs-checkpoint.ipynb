{
 "cells": [
  {
   "cell_type": "markdown",
   "id": "b6b27e0b",
   "metadata": {},
   "source": [
    "# Self-Replicating Robot System Configurations\n",
    "\n",
    "|ID|Design Option|Characteristics|\n",
    "|-|-|-|\n",
    "|1|Centralized homogeneous (CHO)|One robot is responsible for both printing components and assembling them. Constructed robots are of the normal type and either gather resources or complete other objectives.|\n",
    "|2|Decentralized homogeneous (DHO)| All robots have the capability to print components, assemble them, and gather resources or complete other objectives.|\n",
    "|3|Hierarchical homogeneous (HHO)|There are a variable number of robots capable of printing components and assembling them. There are also a variable number of normal type robots.|\n",
    "|4|Centralized heterogeneous (CHE)|One robot is responsible for printing components, and another (distinct) robot is responsible for assembling them. Constructed robots are of the normal type and either gather resources or complete other objectives.|\n",
    "|5|Decentralized heterogeneous (DHE)|Robots have either the capability to print components or the capability to assemble them. All robots can gather resources or complete other objectives.|\n",
    "|6|Hierarchical heterogeneous (CHE)|There are a variable number of robots capable of printing components, a variable number capable of assembling them (distinct from the printing group), and a variable number of normal type robots. All robots can gather resources or complete other objectives.|\n",
    "\n"
   ]
  },
  {
   "cell_type": "markdown",
   "id": "93fcd801",
   "metadata": {},
   "source": [
    "# Libraries "
   ]
  },
  {
   "cell_type": "code",
   "execution_count": 78,
   "id": "9a2484fd",
   "metadata": {},
   "outputs": [
    {
     "name": "stdout",
     "output_type": "stream",
     "text": [
      "3.9.14\n"
     ]
    }
   ],
   "source": [
    "import platform\n",
    "print(platform.python_version())"
   ]
  },
  {
   "cell_type": "code",
   "execution_count": 79,
   "id": "c5caec0a",
   "metadata": {},
   "outputs": [],
   "source": [
    "import random\n",
    "import numpy as np\n",
    "import pandas as pd\n",
    "pd.set_option('display.max_columns', None)\n",
    "import matplotlib.pyplot as plt\n",
    "import sys\n",
    "from matplotlib.patches import Rectangle\n",
    "\n",
    "from _plotly_future_ import v4_subplots\n",
    "import plotly\n",
    "import plotly.io as pio\n",
    "import numpy as np\n",
    "import chart_studio\n",
    "import chart_studio.plotly as cspy\n",
    "import chart_studio.tools as tls\n",
    "\n",
    "from plotly.subplots import make_subplots\n",
    "import plotly.graph_objects as go\n",
    "\n",
    "\n",
    "import plotly.express as px\n",
    "\n",
    "username = 'vishalgattani' # your username\\n\",\n",
    "api_key = 'WSy2EFPTbxYYm3Rmcx53' # your api key - go to profile > settings > regenerate key\\n\",\n",
    "chart_studio.tools.set_credentials_file(username=username, api_key=api_key)\n"
   ]
  },
  {
   "cell_type": "markdown",
   "id": "9ca83a64",
   "metadata": {},
   "source": [
    "# Global Variables"
   ]
  },
  {
   "cell_type": "code",
   "execution_count": 80,
   "id": "19883ecb",
   "metadata": {},
   "outputs": [],
   "source": [
    "timesteps = 1500\n",
    "\n",
    "# set random number generator\n",
    "random.seed()\n",
    "\n",
    "# global variables\n",
    "rid = 1\n",
    "nid = 0\n",
    "aid = 0\n",
    "pid = 0\n",
    "decimalPlaces = 3\n",
    "\n",
    "# simulation parameters\n",
    "Num_Steps = 100\t\t\t\t#; % Number of iterations/time-steps that the simulation goes through.\n",
    "NonPr = 300.0 \t\t\t\t#; % The robot system=s starting quantity of nonprintable components.\n",
    "Printable = 100.0 \t\t\t#; % The robot system’s starting quantity of printable components.\n",
    "Materials = 50.0 \t\t\t#; % The robot system’s starting quantity of raw printing materials.\n",
    "Env_Materials = 500.0 \t\t#; % The environment’s quantity of collectable raw printing materials.\n",
    "BaseCost_NonPr = 1 \t\t\t#; % Base robot cost of nonprintable components.\n",
    "PrintCost_NonPr = 1 \t\t#; % Print capability cost of nonprintable components.\n",
    "AssembleCost_NonPr = 1 \t\t#; % Assemble capability cost of nonprintable components.\n",
    "BaseCost_Pr = 2 \t\t\t#; % Base robot cost of printable components.\n",
    "PrintCost_Pr = 2 \t\t\t#; % Print capability cost of printable components.\n",
    "AssembleCost_Pr = 2 \t\t#; % Assemble capability cost of printable components.\n",
    "BaseCost_Time = 2 \t\t\t#; % Base robot cost of build time (in time-steps).\n",
    "PrintCost_Time = 2 \t\t\t#; % Print capability cost of build time (in time-steps).\n",
    "AssembleCost_Time = 2 \t\t#; % Assemble capability cost of build time (in time-steps).\n",
    "Print_Efficiency = 1.0 \t\t#; % Factor that scales raw printing materials to printable components.\n",
    "Print_Amount = 1.0 \t\t\t#; % Amount of raw materials converted per print task.\n",
    "Collect_Amount = 1.0 \t\t#; % Raw printing materials per collecting robot per timestep.\n",
    "QualityThreshold = 0.5 \t\t#; % Robots with a quality below this are non-functional.\n",
    "Quality_incr_Chance = 5.0 \t#; % Chance that a new robot’s build quality will increase.\n",
    "Quality_incr_Lower = 0.01 \t#; % Lower bound for quality increase amount.\n",
    "Quality_incr_Upper = 0.05 \t#; % Upper bound for quality increase amount.\n",
    "Quality_decr_Chance = 50.0 \t#; % Chance that a new robot s build quality will decrease.\n",
    "Quality_decr_Lower = 0.01 \t#; % Lower bound for quality decrease amount.\n",
    "Quality_decr_Upper = 0.25 \t#; % Upper bound for quality decrease amount.\n",
    "RiskAmount_Collect = 1.0 \t#; % Risk chance for the collect task type.\n",
    "RiskAmount_Assemble = 0.1 \t#; % Risk chance for the assemble task type.\n",
    "RiskAmount_Print = 0.1 \t\t#; % Risk chance for the print task type.\n",
    "RiskQuality_Modifier = 5.0 \t#; % Multiplier for impact of quality defects on risk amount.\n",
    "RiskFactory_Modifier = 0.1 \t#; % Multiplier for impact of factory-made robots on risk amount\n",
    "\n",
    "# [replicator,normal,assembler,printer]\n",
    "cost_Pr = [6,2,4,4]\t\t\t#; % Total cost printable\n",
    "cost_NonPr = [3,1,2,2]\t\t#; % Total cost nonprintable\n",
    "\n",
    "timecost_base = 2\t\t\t#; % time cost basic\n",
    "timecost_print = 2\t\t\t#; % time cost print capability\n",
    "timecost_assemble = 2\t\t#; % time cost assemble capability\n",
    "\n",
    "timecost_normal = timecost_base\n",
    "timecost_replicator = timecost_base+timecost_assemble+timecost_print\n",
    "timecost_printer = timecost_base+timecost_print\n",
    "timecost_assembler = timecost_base+timecost_assemble\n",
    "\n",
    "timecost_repair_base = 1\n",
    "timecost_repair_normal = timecost_repair_base\n",
    "timecost_repair_replicator = timecost_repair_base\n",
    "timecost_repair_printer = timecost_repair_base\n",
    "timecost_repair_assembler = timecost_repair_base\n",
    "\n",
    "table_columns = [\"Time\",\"NonPr\",\"Printable\",\"Materials\",\"Env_Materials\",\n",
    "\t\t\"#Replicator\",\"#Normal\",\"#Assembler\",\"#Printer\",\n",
    "\t\t\"#Assembling\",\"#Printing\",\"#Collecting\",\"#Idle\",\n",
    "\t\t\"#In\",\"#Out\",\n",
    "\t\t\"Average Build Quality in-service\",\"Average Build Quality of System\",\n",
    "\t\t\"#WasteReplicator\",\"#WasteNormal\",\"#WasteAssembler\",\"#WastePrinter\",\n",
    "\t\t\"Environment Exhaust Time\", \"Printable Exhaust Time\", \n",
    "\t\t\"NonPr Exhaust Time\",\"Material Exhaust Time\",\"Average Risk\"]\n",
    "\n",
    "\n",
    "# table_columns = [\"Time\",\"NonPr\",\"Printable\",\"Materials\",\"Env_Materials\",\n",
    "# \t\t\"#Replicator\",\"#Normal\",\"#Assembler\",\"#Printer\",\n",
    "# \t\t\"#Assembling\",\"#Printing\",\"#Collecting\",\"#Idle\",\n",
    "# \t\t\"#In\",\"#Out\",\n",
    "# \t\t\"Average Build Quality in-service\",\"Average Build Quality of System\",\n",
    "# \t\t\"#WasteReplicator\",\"#WasteNormal\",\"#WasteAssembler\",\"#WastePrinter\",\n",
    "# \t\t\"Environment Exhaust Time\", \"Printable Exhaust Time\", \n",
    "# \t\t\"NonPr Exhaust Time\",\"Material Exhaust Time\"]\n",
    "\n",
    "\n",
    "def resetGlobal(t,r,n,a,p):\n",
    "    global rid,nid,aid,pid,Num_Steps,NonPr,Printable,Materials,Env_Materials\n",
    "    \n",
    "    # global variables\n",
    "    rid = r\n",
    "    nid = n\n",
    "    aid = a\n",
    "    pid = p\n",
    "\n",
    "    # simulation parameters\n",
    "    Num_Steps = 100\t\t\t\t#; % Number of iterations/time-steps that the simulation goes through.\n",
    "    NonPr = 300.0 \t\t\t\t#; % The robot system=s starting quantity of nonprintable components.\n",
    "    Printable = 100.0 \t\t\t#; % The robot system’s starting quantity of printable components.\n",
    "    Materials = 50.0 \t\t\t#; % The robot system’s starting quantity of raw printing materials.\n",
    "    Env_Materials = 500.0 \t\t#; % The environment’s quantity of collectable raw printing materials.\n",
    "    timesteps = t\n"
   ]
  },
  {
   "cell_type": "markdown",
   "id": "863feea1",
   "metadata": {},
   "source": [
    "# Object::Robot"
   ]
  },
  {
   "cell_type": "code",
   "execution_count": 95,
   "id": "68ea171c",
   "metadata": {},
   "outputs": [],
   "source": [
    "# robot object\n",
    "class Robot:\n",
    "    def __init__(self,type,build_qual,id):\n",
    "        self.time = 0\n",
    "        self.type = type\n",
    "        self.current_task = \"idle\"\n",
    "        self.prev_task = \"idle\"\n",
    "        self.next_task = \"\"\n",
    "        self.id = self.type[0]+str(id)\n",
    "        self.build_qual = round(build_qual,decimalPlaces)\n",
    "        self.factory_made = True\n",
    "        self.tasks_dur = 0\n",
    "        self.taskindex = 0\n",
    "        self.previouslyBuilt = \"\"\n",
    "        self.prevTaskDur = 0\n",
    "        self.curr_repair_task_dur = 0\n",
    "        self.prev_repair_task_dur = 0\n",
    "        self.factory = False\n",
    "        self.riskAmount = 0\n",
    "        self.riskSet = False\n",
    "        self.numTasksPerformed = 0\n",
    "        self.numTasksFailed = 0\n",
    "        self.downTime = 0\n",
    "        self.failureTimes = [0]\n",
    "        self.operationalTimes = [0]\n",
    "        self.MTBF = 0\n",
    "        self.MTTR = 0\n",
    "        self.MDT = 0\n",
    "        self.Aoss = 0\n",
    "        \n",
    "\n",
    "        if(self.type == \"Replicator\"):\n",
    "            self.tasks = [\"Assemble\",\"Print\",\"Collect\",\"Repair\"]\n",
    "            self.beingbuiltlist = []\n",
    "        if(self.type == \"Normal\"):\n",
    "            self.tasks = [\"Collect\",\"Repairing\"]\n",
    "        if(self.type == \"Assembler\"):\n",
    "            self.tasks = [\"Assemble\",\"Collect\",\"Repair\"]\n",
    "            self.beingbuiltlist = []\n",
    "        if(self.type == \"Printer\"):\n",
    "            self.tasks = [\"Print\",\"Collect\",\"Repair\"]\n",
    "        self.num_tasks = len(self.tasks)\n",
    "    \n",
    "    def taskFail(self):\n",
    "        self.numTasksFailed += 1\n",
    "    \n",
    "    def taskSuccess(self):\n",
    "        self.numTasksPerformed += 1\n",
    "        \n",
    "    def gettaskFail(self):\n",
    "        return self.numTasksFailed\n",
    "    \n",
    "    def gettaskSuccess(self):\n",
    "        return self.numTasksPerformed\n",
    "    \n",
    "    def get_type(self):\n",
    "        return self.type\n",
    "\n",
    "    def __str__(self):\n",
    "        return str(self.id)+\" \"+str(self.current_task)+\" \"+str(self.riskAmount)+\",F:\"+str(self.numTasksFailed)+\",P:\"+str(self.numTasksPerformed)\n",
    "\n",
    "    def set_curr_task(self,tasktype):\n",
    "        self.current_task = tasktype\n",
    "        if(self.current_task == \"idle\"):\n",
    "            self.tasks_dur = 0\n",
    "        if(self.current_task == \"collecting\"):\n",
    "            self.tasks_dur = 1\n",
    "        if(self.current_task == \"assembling\"):\n",
    "            self.tasks_dur = 2\n",
    "        if(self.current_task == \"printing\"):\n",
    "            self.tasks_dur = 2\n",
    "        if(self.current_task == \"repair\"):\n",
    "            self.failureTimes.append(self.getRobotTime())\n",
    "            if(self.prev_task == \"repair\"):\n",
    "                self.curr_repair_task_dur = self.get_task_dur()\n",
    "                self.prev_repair_task_dur = self.curr_repair_task_dur\n",
    "                self.tasks_dur = self.get_prev_task_dur() + 1\n",
    "            else:\n",
    "                self.tasks_dur = self.get_prev_task_dur() \n",
    "            self.curr_repair_task_dur = self.tasks_dur\n",
    "            \n",
    "    def addDownTime(self,duration):\n",
    "        self.downTime += duration\n",
    "    \n",
    "    def getDownTime(self):\n",
    "        return self.downTime\n",
    "        \n",
    "    def setFactory(self):\n",
    "        self.factory = True\n",
    "    def setRobotTime(self,time):\n",
    "        self.time = time\n",
    "    def getRobotTime(self):\n",
    "        return self.time\n",
    "    # methods of robot object\n",
    "    def set_prev_task(self,tasktype):\n",
    "        self.prev_task = tasktype\n",
    "    def set_next_task(self,tasktype):\n",
    "        self.next_task = tasktype\n",
    "    def set_task_dur(self,task_dur):\n",
    "        self.tasks_dur = task_dur\n",
    "    def get_task_dur(self):\n",
    "        return self.tasks_dur\n",
    "    def get_robot_id(self):\n",
    "        return self.id\n",
    "    def get_buid_qual(self):\n",
    "        return self.build_qual\n",
    "    def get_curr_task(self):\n",
    "        return self.current_task\n",
    "    def get_prev_task(self):\n",
    "        return self.prev_task\n",
    "    def get_task_dur(self):\n",
    "        return self.tasks_dur\n",
    "    def get_prev_task_dur(self):\n",
    "        if(self.prev_task == \"idle\"):\n",
    "            return 0\n",
    "        if(self.prev_task == \"collecting\"):\n",
    "            return 1\n",
    "        if(self.prev_task == \"assembling\"):\n",
    "            return 2\n",
    "        if(self.prev_task == \"printing\"):\n",
    "            return 2\n",
    "        if(self.prev_task == \"repair\"):\n",
    "            return self.prev_repair_task_dur \n",
    "#             return 2\n",
    "\n",
    "    def set_previously_built(self, val):\n",
    "        self.previouslyBuilt = val\n",
    "\n",
    "    def get_previously_built(self):\n",
    "        return self.previouslyBuilt\n",
    "    \n",
    "    def setRiskAmount(self,risk):\n",
    "        self.riskAmount = risk\n",
    "        if risk>0.0:\n",
    "            self.riskSet = True\n",
    "        else:\n",
    "            self.riskSet = False\n",
    "    def getRiskAmount(self):\n",
    "        return self.riskAmount\n",
    "    def getRisk(self):\n",
    "        return self.riskSet\n"
   ]
  },
  {
   "cell_type": "markdown",
   "id": "62047ab7",
   "metadata": {},
   "source": [
    "# Function::Configuration Handler"
   ]
  },
  {
   "cell_type": "code",
   "execution_count": 96,
   "id": "5a35cb86",
   "metadata": {},
   "outputs": [],
   "source": [
    "def configHandler(t,totlist,robotlist,useless,checkENV,checkPrint,checkNonPr,checkMat):\n",
    "        n_replicator = 0\n",
    "        n_normal = 0\n",
    "        n_assembler = 0\n",
    "        n_printer = 0\n",
    "\n",
    "        c_flag = 0\n",
    "        p_flag = 0\n",
    "        a_flag = 0\n",
    "        i_flag = 0\n",
    "\n",
    "        useless_c_flag = 0\n",
    "        useless_p_flag = 0\n",
    "        useless_a_flag = 0\n",
    "        useless_r_flag = 0\n",
    "\n",
    "        tot_build_qual_inservice = 0\n",
    "        tot_build_qual_inoutservice = 0\n",
    "\n",
    "        build_quality_list = []\n",
    "\n",
    "\n",
    "        for i in totlist:\n",
    "#             print(i.get_buid_qual())\n",
    "            if(i.get_buid_qual()>=0.5):\n",
    "                tot_build_qual_inoutservice = tot_build_qual_inoutservice + i.get_buid_qual()\n",
    "                tot_build_qual_inservice = tot_build_qual_inservice + i.get_buid_qual()\n",
    "            else:\n",
    "                tot_build_qual_inoutservice = tot_build_qual_inoutservice + i.get_buid_qual()\n",
    "            build_quality_list.append(i.get_buid_qual())\n",
    "        \n",
    "        avg_risk = 0\n",
    "        for i in robotlist:\n",
    "            if i.get_curr_task()==\"collecting\":\n",
    "                c_flag+=1\n",
    "            elif i.get_curr_task()==\"printing\":\n",
    "                p_flag+=1\n",
    "            elif i.get_curr_task()==\"assembling\":\n",
    "                a_flag+=1\n",
    "            elif i.get_curr_task()==\"idle\":\n",
    "                # print(i)\n",
    "                i_flag+=1\n",
    "\n",
    "            if(checkType(i,\"Replicator\")):\n",
    "                n_replicator += 1;\n",
    "            elif(checkType(i, \"Normal\")):\n",
    "                n_normal += 1;\n",
    "            elif(checkType(i, \"Assembler\")):\n",
    "                n_assembler += 1;\n",
    "            elif(checkType(i, \"Printer\")):\n",
    "                n_printer += 1;\n",
    "#             print(i,i.factory)\n",
    "                \n",
    "            avg_risk += i.getRisk()\n",
    "        avg_risk = avg_risk/len(robotlist)\n",
    "        \n",
    "        for i in useless:\n",
    "            if(checkType(i,\"Replicator\")):\n",
    "                useless_r_flag += 1;\n",
    "            elif(checkType(i, \"Normal\")):\n",
    "                useless_c_flag += 1;\n",
    "            elif(checkType(i, \"Assembler\")):\n",
    "                useless_a_flag += 1;\n",
    "            elif(checkType(i, \"Printer\")):\n",
    "                useless_p_flag += 1;\n",
    "\n",
    "\n",
    "\n",
    "        avg_build_qual_inservice = round(tot_build_qual_inservice/len(robotlist),decimalPlaces)\n",
    "        avg_build_qual_inoutservice = round(tot_build_qual_inoutservice/len(totlist),decimalPlaces)\n",
    "        \n",
    "        neatPrint = False\n",
    "        if neatPrint:\n",
    "            print(\"=\"*50)\n",
    "            print(t,\":\\t\\t\",len(robotlist),[NonPr,Printable,Materials,Env_Materials])\t\t\t\n",
    "            print(\"Time\\t\\t\",t)\n",
    "            print(\"#Replicator:\\t\",n_replicator)\n",
    "            print(\"#Normal:\\t\",n_normal)\n",
    "            print(\"#Assembling:\\t\",n_assembler)\n",
    "            print(\"#Printing:\\t\",n_printer)\n",
    "            print(\"#Robots\\t\\t\",len(robotlist))\n",
    "            print(\"Materials\\t\",[NonPr,Printable,Materials,Env_Materials])\n",
    "            print(\"#Assembling:\\t\",a_flag)\n",
    "            print(\"#Printing:\\t\",p_flag)\n",
    "            print(\"#Collecting:\\t\",c_flag)\n",
    "            print(\"#Idle:\\t\\t\",i_flag)\n",
    "            \n",
    "        \n",
    "            \n",
    "        ids=[]\n",
    "        for j in totlist:\n",
    "            isWaste = False\n",
    "            if j.build_qual<=QualityThreshold:\n",
    "                isWaste = True\n",
    "            ids.append(j.id)\n",
    "\n",
    "        if (Env_Materials == 0 and checkENV == 0):\n",
    "            checkENV = t\n",
    "        if (Printable == 0 and checkPrint == 0):\n",
    "            checkPrint = t\n",
    "        if (NonPr == 0 and checkNonPr == 0):\n",
    "            checkNonPr = t\n",
    "        if (Materials <= 1 and checkMat == 0):\n",
    "            checkMat = t\n",
    "            \n",
    "# \t\t\"#Replicator\",\"#Normal\",\"#Assembler\",\"#Printer\",\n",
    "# \t\t\"#Assembling\",\"#Printing\",\"#Collecting\",\"#Idle\",\n",
    "# \t\t\"#In\",\"#Out\",\n",
    "# \t\t\"Average Build Quality in-service\",\"Average Build Quality of System\",\n",
    "# \t\t\"#WasteReplicator\",\"#WasteNormal\",\"#WasteAssembler\",\"#WastePrinter\",\n",
    "# \t\t\"Environment Exhaust Time\", \"Printable Exhaust Time\", \n",
    "# \t\t\"NonPr Exhaust Time\",\"Material Exhaust Time\",\"Average Risk of tasks being performed\"]\n",
    "\n",
    "        \n",
    "        return build_quality_list,[n_replicator,n_normal,n_assembler,n_printer,\n",
    "        a_flag,p_flag,c_flag,i_flag,\n",
    "        len(robotlist),len(useless),\n",
    "        avg_build_qual_inservice,avg_build_qual_inoutservice,\n",
    "        useless_r_flag,useless_c_flag,useless_a_flag,useless_p_flag,\n",
    "        checkENV,checkPrint,checkNonPr,checkMat,avg_risk]"
   ]
  },
  {
   "cell_type": "markdown",
   "id": "a233925d",
   "metadata": {},
   "source": [
    "# Functions::Tasks"
   ]
  },
  {
   "cell_type": "code",
   "execution_count": 97,
   "id": "3a2cb904",
   "metadata": {},
   "outputs": [],
   "source": [
    "# print current resources\n",
    "def printResources():\n",
    "    print(NonPr,Printable,Materials,Env_Materials)\n",
    "\n",
    "# check if robot can collect from Env_Materials\n",
    "def collectCheck(robot):\n",
    "    global Materials, Env_Materials, Collect_Amount\n",
    "    if (Env_Materials - Collect_Amount >= 0):\n",
    "        robot.setRiskAmount(taskRisk(robot))\n",
    "        return True\n",
    "    else:\n",
    "        robot.setRiskAmount(0)\n",
    "        return False\n",
    "\n",
    "# task function - collecting\n",
    "def collecting(robot):\n",
    "    global Materials, Env_Materials, Collect_Amount\n",
    "    \n",
    "    robot.set_prev_task(robot.get_curr_task())\n",
    "    robot.set_curr_task(\"collecting\")\n",
    "    robot.set_task_dur(1)\n",
    "    flag = 1\n",
    "    if robot.getRisk() == False:\n",
    "        robot.setRiskAmount(taskRisk(robot))\n",
    "    elif robot.getRiskAmount() > 2:\n",
    "        robot.taskFail()\n",
    "        flag = 0\n",
    "#         pass\n",
    "        repairing(robot)\n",
    "    if flag:\n",
    "        Materials = Materials + Collect_Amount\n",
    "        Env_Materials = Env_Materials - Collect_Amount\n",
    "        robot.taskSuccess()\n",
    "    \n",
    "\n",
    "# build robot task - assembler and replicator\n",
    "# assemble task\n",
    "\n",
    "def assembleCheck(robot,tobuild):\n",
    "    # global rid,nid,aid,pid,Printable,NonPr,Quality_incr_Chance,Quality_incr_Lower, Quality_incr_Upper\n",
    "    \n",
    "    if(tobuild == \"Replicator\"):\n",
    "        i=0\n",
    "        # rid = rid+1\n",
    "        # robotid = rid\n",
    "    if(tobuild == \"Normal\"):\n",
    "        i=1\n",
    "        # nid = nid+1\n",
    "        # robotid = nid\n",
    "    if(tobuild == \"Assembler\"):\n",
    "        i=2\n",
    "        # aid = aid+1\n",
    "        # robotid = aid\n",
    "    if(tobuild == \"Printer\"):\n",
    "        i=3\n",
    "        # pid = pid+1\n",
    "        # robotid = pid\n",
    "\n",
    "    if Printable - cost_Pr[i] >= 0 and NonPr - cost_NonPr[i] >= 0:\n",
    "        if(robot.getRisk() == False):\n",
    "            robot.setRiskAmount(taskRisk(robot))\n",
    "        return True\n",
    "    else:\n",
    "        robot.setRiskAmount(0)\n",
    "        return False\n",
    "\n",
    "\n",
    "def assembling(robot,tobuild):\n",
    "    global rid,nid,aid,pid,Printable,NonPr,Quality_incr_Chance,Quality_incr_Lower, Quality_incr_Upper \n",
    "    \n",
    "    if(tobuild == \"Replicator\"):\n",
    "        i=0\n",
    "        taskDur = timecost_replicator\n",
    "    if(tobuild == \"Normal\"):\n",
    "        i=1\n",
    "        taskDur = timecost_normal\n",
    "    if(tobuild == \"Assembler\"):\n",
    "        i=2\n",
    "        taskDur = timecost_assembler\n",
    "    if(tobuild == \"Printer\"):\n",
    "        i=3\n",
    "        taskDur = timecost_printer\n",
    "\n",
    "    robot.set_prev_task(robot.get_curr_task())\n",
    "    robot.set_curr_task(\"assembling\")\n",
    "    robot.set_task_dur(taskDur)\n",
    "    flag = 1\n",
    "    if robot.getRisk() == True and robot.get_prev_task()==\"assembling\":\n",
    "        robot.setRiskAmount(taskRisk(robot))\n",
    "    if robot.getRiskAmount() > 2:\n",
    "        robot.taskFail()\n",
    "        flag = 0\n",
    "        repairing(robot)\n",
    "#         pass\n",
    "    if flag:\n",
    "        if(robot.getRisk() == True and robot.get_task_dur() - 1 == 0):\n",
    "            robot.setRiskAmount(0)\n",
    "\n",
    "\n",
    "\n",
    "        if(robot.type==\"Assembler\" or robot.type==\"Replicator\"):\n",
    "            if(tobuild == \"Replicator\"):\n",
    "                i=0\n",
    "                rid = rid+1\n",
    "                robotid = rid\n",
    "            if(tobuild == \"Normal\"):\n",
    "                i=1\n",
    "                nid = nid+1\n",
    "                robotid = nid\n",
    "            if(tobuild == \"Assembler\"):\n",
    "                i=2\n",
    "                aid = aid+1\n",
    "                robotid = aid\n",
    "            if(tobuild == \"Printer\"):\n",
    "                i=3\n",
    "                pid = pid+1\n",
    "                robotid = pid\n",
    "\n",
    "            # subtract resources\n",
    "            Printable = Printable - cost_Pr[i]\n",
    "            NonPr = NonPr - cost_NonPr[i]\n",
    "\n",
    "            robot.beingbuiltlist.append(tobuild[0]+str(robotid))\n",
    "            return True\n",
    "    else:\n",
    "        robot.set_prev_task(robot.get_curr_task())\n",
    "        robot.set_curr_task(\"idle\")\n",
    "        robot.set_task_dur(0)\n",
    "        robot.setRiskAmount(0)\n",
    "        return False\n",
    "\n",
    "def assemble(builder,tobuild):\n",
    "    global rid,nid,aid,pid,Printable,NonPr,Quality_incr_Chance,Quality_incr_Lower, Quality_incr_Upper\n",
    "\n",
    "    if(builder.type==\"Assembler\" or builder.type==\"Replicator\"):\n",
    "        if(tobuild == \"Replicator\"):\n",
    "            i=0\n",
    "\n",
    "        if(tobuild == \"Normal\"):\n",
    "            i=1\n",
    "\n",
    "        if(tobuild == \"Assembler\"):\n",
    "            i=2\n",
    "\n",
    "        if(tobuild == \"Printer\"):\n",
    "            i=3\n",
    "\n",
    "        AssemblerQuality = builder.get_buid_qual()\n",
    "        # robot's build quality\t\t\n",
    "        rand = round(random.uniform(0,1),decimalPlaces)\n",
    "        if rand > round((1.0 - Quality_incr_Chance/100),decimalPlaces):\n",
    "            RobotQuality = AssemblerQuality + random.uniform(Quality_incr_Lower, Quality_incr_Upper)\n",
    "        elif rand < Quality_decr_Chance :\n",
    "            RobotQuality = AssemblerQuality - random.uniform(Quality_decr_Lower, Quality_decr_Upper)\n",
    "        else :\n",
    "            RobotQuality = AssemblerQuality\n",
    "        # print(builder,builder.beingbuiltlist)\n",
    "        newRobot = Robot(tobuild,RobotQuality,builder.beingbuiltlist.pop(0)[1:])\n",
    "        builder.taskSuccess()\n",
    "        return newRobot\n",
    "    else:\n",
    "        return None\n",
    "\n",
    "\n",
    "def printCheck(robot):\n",
    "    if(robot.type==\"Replicator\" or robot.type==\"Printer\"):\n",
    "        global Print_Efficiency, Print_Amount, Materials, Printable\n",
    "        if Materials - (Print_Efficiency*Print_Amount) > 0:\n",
    "#             if(robot.getRisk() == False):\n",
    "#                 robot.setRiskAmount(taskRisk(robot))\n",
    "            return True\n",
    "        else:\n",
    "            return False\n",
    "    else:\n",
    "        return False\n",
    "\n",
    "def printing(robot):\n",
    "    global Print_Efficiency, Print_Amount, Materials, Printable\n",
    "    robot.set_prev_task(robot.get_curr_task())\n",
    "    robot.set_curr_task(\"printing\")\n",
    "    robot.set_task_dur(PrintCost_Time)\n",
    "    \n",
    "    flag = 1\n",
    "    if robot.getRisk() == False:\n",
    "        robot.setRiskAmount(taskRisk(robot))\n",
    "    if robot.getRiskAmount() > 2:\n",
    "        robot.taskFail()\n",
    "        flag = 0\n",
    "        repairing(robot)\n",
    "#         pass\n",
    "    if flag:\n",
    "        if(robot.getRisk() == True and robot.get_task_dur() - 1 == 0):\n",
    "            robot.taskSuccess()\n",
    "            robot.setRiskAmount(0)\n",
    "\n",
    "\n",
    "        Materials = Materials - (Print_Efficiency*Print_Amount)\n",
    "        Printable = Printable + (Print_Efficiency*Print_Amount)\n",
    "\n",
    "def repairing(robot):\n",
    "    robot.set_next_task(robot.get_curr_task())\n",
    "    robot.set_prev_task(robot.get_curr_task())\n",
    "    repair_task_dur = robot.get_task_dur()\n",
    "    robot.set_curr_task(\"repair\")\n",
    "    robot.set_task_dur(repair_task_dur)\n",
    "    robot.addDownTime(repair_task_dur)\n",
    "#     robot.setRiskAmount(0)\n",
    "    \n",
    "\n",
    "def resetTasks(robot):\n",
    "    robot.set_prev_task(robot.get_curr_task())\n",
    "    robot.set_task_dur(0)\n",
    "    robot.set_curr_task(\"idle\")\n",
    "\n",
    "def checkCurrentTask(robot,current_task):\n",
    "    return robot.get_curr_task() == current_task\n",
    "def checkPreviousTask(robot,previous_task):\n",
    "    return robot.get_prev_task() == previous_task\n",
    "\n",
    "def checkType(robot,robot_type):\n",
    "    return robot.get_type() == robot_type\n",
    "\n"
   ]
  },
  {
   "cell_type": "markdown",
   "id": "680ad25e",
   "metadata": {},
   "source": [
    "# Task Risk\n",
    "\n",
    "RiskTask = RiskTask_Type + (1.0 − RobotQuality) ∗ RiskTask_Type ∗ RiskQuality_Modifier\n",
    "\n",
    "if Robot ∈ FactoryMade : RiskTask = RiskTask ∗ RiskFactory_Modifier"
   ]
  },
  {
   "cell_type": "code",
   "execution_count": 98,
   "id": "e3c9b235",
   "metadata": {},
   "outputs": [],
   "source": [
    "def taskRisk(robot):\n",
    "    rand = round(random.uniform(0,1),decimalPlaces)\n",
    "    if robot.factory == True:\n",
    "        currTask = robot.get_curr_task()\n",
    "        if(currTask == \"idle\"):\n",
    "            RiskTask_Type = 0\n",
    "        elif(currTask == \"collecting\"):\n",
    "            RiskTask_Type = 1\n",
    "        elif(currTask == \"assembling\"):\n",
    "            RiskTask_Type = 2\n",
    "        elif(currTask == \"printing\"):\n",
    "            RiskTask_Type = 2\n",
    "        elif(currTask == \"repair\"):\n",
    "            RiskTask_Type = 0\n",
    "        riskTask = RiskTask_Type * rand * RiskFactory_Modifier\n",
    "    else:\n",
    "        currTask = robot.get_curr_task()\n",
    "        if(currTask == \"idle\"):\n",
    "            RiskTask_Type = 0            \n",
    "        elif(currTask == \"collecting\"):\n",
    "            RiskTask_Type = 1\n",
    "        elif(currTask == \"assembling\"):\n",
    "            RiskTask_Type = 2\n",
    "        elif(currTask == \"printing\"):\n",
    "            RiskTask_Type = 2\n",
    "        elif(currTask == \"repair\"):\n",
    "            RiskTask_Type = 0\n",
    "        \n",
    "#         riskTask = RiskTask_Type + (1.0 - robot.get_buid_qual()) * RiskTask_Type * RiskQuality_Modifier\n",
    "        riskTask = RiskTask_Type + (1.0 - robot.get_buid_qual()) * rand * RiskQuality_Modifier\n",
    "    \n",
    "    return riskTask"
   ]
  },
  {
   "cell_type": "code",
   "execution_count": 101,
   "id": "5bae2bdb",
   "metadata": {},
   "outputs": [],
   "source": [
    "def CHO(timesteps,df,init_build_qual):\n",
    "    resetGlobal(timesteps,1,0,0,0)\n",
    "    robot = Robot(\"Replicator\",init_build_qual,rid)\n",
    "    robot.setFactory()\n",
    "    totlist = [robot]\n",
    "    robotlist = [robot]\n",
    "    useless = []\n",
    "\n",
    "    # number of bots working\n",
    "    listnumCollecting = []\n",
    "    listnumPrinting = []\n",
    "    listnumAssembling = []\n",
    "\n",
    "    # use lists\n",
    "    tcoordslist = []\n",
    "    rcoordslist = []\n",
    "    wastecoordslist = []\n",
    "    t_build_quality_list = []\n",
    "    \n",
    "    #Lists used for visualization\n",
    "    checkENV = 0\n",
    "    checkPrint = 0\n",
    "    checkNonPr = 0\n",
    "    checkMat = 0\n",
    "\n",
    "    for t in range(0,timesteps):\n",
    "        print(t,\"=\"*20)\n",
    "        for i in range(len(robotlist)):\n",
    "            # assign risks for tasks\n",
    "            robotlist[i].setRobotTime(t)\n",
    "            print(robotlist[i],robotlist[i].failureTimes,robotlist[i].getDownTime())\n",
    "            \n",
    "            # IDLE\n",
    "            \n",
    "            if(robotlist[i].current_task==\"idle\"):\n",
    "                \n",
    "                # Replicator\n",
    "                if(robotlist[i].type == \"Replicator\"):\n",
    "                    if(assembleCheck(robotlist[i],\"Normal\")):\n",
    "                        isAssembling = assembling(robotlist[i],\"Normal\")\n",
    "                    elif(printCheck(robotlist[i])):\n",
    "                        isPrinting = printing(robotlist[i])\t\n",
    "                    else:\n",
    "                        robotlist[i].set_prev_task(robotlist[i].get_curr_task())\n",
    "                        robotlist[i].set_task_dur(0)\n",
    "                        robotlist[i].set_curr_task(\"idle\")\n",
    "\n",
    "                # Normal\n",
    "                elif(robotlist[i].type == \"Normal\"):\n",
    "\n",
    "                    # print(t,robotlist[i].id,canCollect)\n",
    "                    if (collectCheck(robotlist[i])):\n",
    "                        collecting(robotlist[i])\n",
    "                    else:\n",
    "                        robotlist[i].set_prev_task(robotlist[i].get_curr_task())\n",
    "                        robotlist[i].set_task_dur(0)\n",
    "                        robotlist[i].set_curr_task(\"idle\")\n",
    "                        \n",
    "            elif(robotlist[i].current_task==\"repair\"):\n",
    "                prevTask = robotlist[i].get_prev_task()\n",
    "#                 nextTask = robotlist[i].get_next_task()\n",
    "                if(robotlist[i].tasks_dur - 1 == 0 and robotlist[i].type == \"Replicator\"):\n",
    "                    if(prevTask==\"assembling\" and assembleCheck(robotlist[i],\"Normal\")):\n",
    "                        assembling(robotlist[i],\"Normal\")\n",
    "                    elif(prevTask==\"printing\" and printCheck(robotlist[i])):\n",
    "                        printing(robotlist[i])\n",
    "                    else:\n",
    "                        robotlist[i].set_prev_task(robotlist[i].get_curr_task())\n",
    "                        robotlist[i].set_task_dur(0)\n",
    "                        robotlist[i].set_curr_task(\"idle\")\n",
    "                elif(robotlist[i].tasks_dur - 1 == 0 and robotlist[i].type == \"Normal\"):\n",
    "                    if(prevTask==\"collecting\" and collectCheck(robotlist[i])):\n",
    "                        collecting(robotlist[i])\n",
    "                    else:\n",
    "                        robotlist[i].set_prev_task(robotlist[i].get_curr_task())\n",
    "                        robotlist[i].set_task_dur(0)\n",
    "                        robotlist[i].set_curr_task(\"idle\")\n",
    "                else:\n",
    "                    robotlist[i].set_task_dur(robotlist[i].tasks_dur - 1)\n",
    "                            \n",
    "\n",
    "            # NOT IDLE\n",
    "            else:\n",
    "            \n",
    "                \n",
    "                # reduce task duration every time step\n",
    "                if(robotlist[i].tasks_dur - 1 != 0):\n",
    "                    robotlist[i].set_task_dur(robotlist[i].tasks_dur - 1)\n",
    "\n",
    "                # Replicator \n",
    "                elif(robotlist[i].tasks_dur - 1 == 0 and robotlist[i].type == \"Replicator\"):\n",
    "                    \n",
    "                    # check if it can keep assembling next time step\n",
    "                    if(assembleCheck(robotlist[i],\"Normal\")):\n",
    "                        assembling(robotlist[i],\"Normal\")\n",
    "                    elif(printCheck(robotlist[i])):\n",
    "                        printing(robotlist[i])\n",
    "                    else:\n",
    "                        isAssembling = False\n",
    "                        robotlist[i].set_prev_task(robotlist[i].get_curr_task())\n",
    "                        robotlist[i].set_task_dur(0)\n",
    "                        robotlist[i].set_curr_task(\"idle\")\n",
    "\n",
    "                    # it enters this loop only when it has to pop a new robot\n",
    "                    if(robotlist[i].get_prev_task()==\"assembling\"):\n",
    "\n",
    "                        newbot = assemble(robotlist[i],\"Normal\")\n",
    "\n",
    "                        if newbot and newbot.build_qual>=0.5:\n",
    "                            if(newbot.type == \"Normal\"):\n",
    "                                canCollect = collectCheck(newbot)\n",
    "                                if canCollect:\n",
    "                                    collecting(newbot)\n",
    "                            totlist.append(newbot)\n",
    "                            robotlist.append(newbot)\n",
    "                        else:\n",
    "                            totlist.append(newbot)\n",
    "                            useless.append(newbot)\n",
    "                        robotlist[i].set_prev_task(robotlist[i].current_task)\n",
    "\n",
    "                # Normal\n",
    "                elif(robotlist[i].type == \"Normal\"):\n",
    "                    canCollect = collectCheck(robotlist[i])\n",
    "                    if(canCollect):\n",
    "                        collecting(robotlist[i])\n",
    "                    else:\n",
    "                        robotlist[i].set_prev_task(robotlist[i].get_curr_task())\n",
    "                        robotlist[i].set_task_dur(0)\n",
    "                        robotlist[i].set_curr_task(\"idle\")\n",
    "                        \n",
    "            \n",
    "        #after simulation record\n",
    "        build_quality_list,vals = configHandler(t,totlist,robotlist,useless,checkENV,checkPrint,checkNonPr,checkMat)\n",
    "        df.loc[len(df)] = [t,NonPr,Printable,Materials,Env_Materials]+vals\n",
    "        tcoordslist.append(t)\n",
    "        rcoordslist.append(len(robotlist)) \n",
    "        wastecoordslist.append(len(useless))\n",
    "        t_build_quality_list.append(build_quality_list)\n",
    "        \n",
    "    df[\"Print Capacity\"] = df[[\"#Printer\", \"#Replicator\"]].sum(axis=1)\n",
    "    df[\"Assembling Capacity\"] = df[[\"#Assembler\", \"#Replicator\"]].sum(axis=1)\n",
    "    df[\"Collection Capacity\"] = df[[\"#Printer\", \"#Replicator\", \"#Assembler\", \"#Normal\"]].sum(axis=1)\n",
    "    return df"
   ]
  },
  {
   "cell_type": "markdown",
   "id": "d375486c",
   "metadata": {},
   "source": [
    "# Testing"
   ]
  },
  {
   "cell_type": "code",
   "execution_count": 102,
   "id": "81cd2b90",
   "metadata": {
    "scrolled": true
   },
   "outputs": [
    {
     "name": "stdout",
     "output_type": "stream",
     "text": [
      "0 ====================\n",
      "R1 idle 0,F:0,P:0 [0] 0\n",
      "1 ====================\n",
      "R1 assembling 0.0,F:0,P:0 [0] 0\n",
      "2 ====================\n",
      "R1 assembling 0.0,F:0,P:0 [0] 0\n",
      "3 ====================\n",
      "R1 assembling 0.17700000000000002,F:0,P:1 [0] 0\n",
      "N1 collecting 0.21089999999999995,F:0,P:1 [0] 0\n",
      "4 ====================\n",
      "R1 assembling 0.17700000000000002,F:0,P:1 [0] 0\n",
      "N1 collecting 1.8084499999999997,F:0,P:2 [0] 0\n",
      "5 ====================\n",
      "R1 assembling 0.13,F:0,P:2 [0] 0\n",
      "N1 collecting 1.6839999999999997,F:0,P:3 [0] 0\n",
      "N2 collecting 0.55238,F:0,P:1 [0] 0\n",
      "6 ====================\n",
      "R1 assembling 0.13,F:0,P:2 [0] 0\n",
      "N1 collecting 1.2127999999999999,F:0,P:4 [0] 0\n",
      "N2 repair 2.5715600000000003,F:1,P:1 [0, 5] 1\n",
      "7 ====================\n",
      "R1 assembling 0.0006000000000000001,F:0,P:3 [0] 0\n",
      "N1 collecting 1.3496,F:0,P:5 [0] 0\n",
      "N2 collecting 1.172835,F:1,P:2 [0, 5] 1\n",
      "N3 collecting 0.5765549999999999,F:0,P:1 [0] 0\n",
      "8 ====================\n",
      "R1 assembling 0.0006000000000000001,F:0,P:3 [0] 0\n",
      "N1 collecting 1.23085,F:0,P:6 [0] 0\n",
      "N2 repair 2.8652550000000003,F:2,P:2 [0, 5, 7] 2\n",
      "N3 collecting 1.8737149999999998,F:0,P:2 [0] 0\n",
      "9 ====================\n",
      "R1 assembling 0.0632,F:0,P:4 [0] 0\n",
      "N1 collecting 1.8967999999999998,F:0,P:7 [0] 0\n",
      "N2 collecting 1.8107950000000002,F:2,P:3 [0, 5, 7] 2\n",
      "N3 collecting 1.02261,F:0,P:3 [0] 0\n",
      "N4 collecting 0.5014,F:0,P:1 [0] 0\n",
      "10 ====================\n",
      "R1 assembling 0.0632,F:0,P:4 [0] 0\n",
      "N1 collecting 1.8112999999999997,F:0,P:8 [0] 0\n",
      "N2 repair 2.6824250000000003,F:3,P:3 [0, 5, 7, 9] 3\n",
      "N3 collecting 1.502265,F:0,P:4 [0] 0\n",
      "N4 collecting 1.8273099999999998,F:0,P:2 [0] 0\n",
      "11 ====================\n",
      "R1 assembling 0.016800000000000002,F:0,P:5 [0] 0\n",
      "N1 collecting 1.5766499999999999,F:0,P:9 [0] 0\n",
      "N2 collecting 0.91804,F:3,P:4 [0, 5, 7, 9] 3\n",
      "N3 repair 2.5390949999999997,F:1,P:4 [0, 10] 1\n",
      "N4 collecting 1.0218,F:0,P:3 [0] 0\n",
      "N5 collecting 0.4539999999999999,F:0,P:1 [0] 0\n",
      "12 ====================\n",
      "R1 assembling 0.016800000000000002,F:0,P:5 [0] 0\n",
      "N1 collecting 1.6735499999999999,F:0,P:10 [0] 0\n",
      "N2 repair 2.476255,F:4,P:4 [0, 5, 7, 9, 11] 4\n",
      "N3 collecting 0.9270099999999998,F:1,P:5 [0, 10] 1\n",
      "N4 collecting 1.93086,F:0,P:4 [0] 0\n",
      "N5 collecting 1.064,F:0,P:2 [0] 0\n",
      "13 ====================\n",
      "R1 assembling 0.1472,F:0,P:6 [0] 0\n",
      "N1 collecting 1.34675,F:0,P:11 [0] 0\n",
      "N2 collecting 0.82079,F:4,P:5 [0, 5, 7, 9, 11] 4\n",
      "N3 repair 2.4405799999999997,F:2,P:5 [0, 10, 12] 2\n",
      "N4 collecting 1.48287,F:0,P:5 [0] 0\n",
      "N5 collecting 1.315,F:0,P:3 [0] 0\n",
      "N6 collecting 0.2787300000000001,F:0,P:1 [0] 0\n",
      "14 ====================\n",
      "R1 assembling 0.1472,F:0,P:6 [0] 0\n",
      "N1 collecting 1.02375,F:0,P:12 [0] 0\n",
      "N2 repair 2.0600250000000004,F:5,P:5 [0, 5, 7, 9, 11, 13] 5\n",
      "N3 collecting 1.4244299999999999,F:2,P:6 [0, 10, 12] 2\n",
      "N4 collecting 1.7085,F:0,P:6 [0] 0\n",
      "N5 collecting 1.434,F:0,P:4 [0] 0\n",
      "N6 collecting 1.05814,F:0,P:2 [0] 0\n",
      "15 ====================\n",
      "R1 assembling 0.1446,F:0,P:7 [0] 0\n",
      "N1 collecting 1.1149499999999999,F:0,P:13 [0] 0\n",
      "N2 collecting 1.005565,F:5,P:6 [0, 5, 7, 9, 11, 13] 5\n",
      "N3 collecting 1.253555,F:2,P:7 [0, 10, 12] 2\n",
      "N4 collecting 1.92759,F:0,P:7 [0] 0\n",
      "N5 collecting 1.378,F:0,P:5 [0] 0\n",
      "N6 collecting 1.4608450000000002,F:0,P:3 [0] 0\n",
      "N7 collecting 0.216195,F:0,P:1 [0] 0\n",
      "16 ====================\n",
      "R1 assembling 0.1446,F:0,P:7 [0] 0\n",
      "N1 collecting 1.07885,F:0,P:14 [0] 0\n",
      "N2 collecting 1.4881950000000002,F:5,P:7 [0, 5, 7, 9, 11, 13] 5\n",
      "N3 collecting 1.7445149999999998,F:2,P:8 [0, 10, 12] 2\n",
      "N4 collecting 1.5962299999999998,F:0,P:8 [0] 0\n",
      "N5 collecting 1.0965,F:0,P:6 [0] 0\n",
      "N6 collecting 1.628425,F:0,P:4 [0] 0\n",
      "N7 collecting 1.233235,F:0,P:2 [0] 0\n",
      "17 ====================\n",
      "R1 assembling 0.10540000000000001,F:0,P:8 [0] 0\n",
      "N1 collecting 1.5566999999999998,F:0,P:15 [0] 0\n",
      "N2 collecting 1.10503,F:5,P:8 [0, 5, 7, 9, 11, 13] 5\n",
      "N3 collecting 1.298775,F:2,P:9 [0, 10, 12] 2\n",
      "N4 collecting 1.07194,F:0,P:9 [0] 0\n",
      "N5 collecting 1.359,F:0,P:7 [0] 0\n",
      "N6 collecting 1.5018850000000001,F:0,P:5 [0] 0\n",
      "N7 collecting 1.207675,F:0,P:3 [0] 0\n",
      "N8 collecting 0.9819499999999998,F:0,P:1 [0] 0\n",
      "18 ====================\n",
      "R1 assembling 0.10540000000000001,F:0,P:8 [0] 0\n",
      "N1 collecting 1.4740499999999999,F:0,P:16 [0] 0\n",
      "N2 collecting 1.1789399999999999,F:5,P:9 [0, 5, 7, 9, 11, 13] 5\n",
      "N3 collecting 1.534565,F:2,P:10 [0, 10, 12] 2\n",
      "N4 collecting 1.5155699999999999,F:0,P:10 [0] 0\n",
      "N5 collecting 1.1405,F:0,P:8 [0] 0\n",
      "N6 collecting 1.086355,F:0,P:6 [0] 0\n",
      "N7 collecting 1.9308099999999997,F:0,P:4 [0] 0\n",
      "N8 collecting 1.876375,F:0,P:2 [0] 0\n",
      "19 ====================\n",
      "R1 assembling 0.033800000000000004,F:0,P:9 [0] 0\n",
      "N1 collecting 1.5814,F:0,P:17 [0] 0\n",
      "N2 collecting 1.73521,F:5,P:10 [0, 5, 7, 9, 11, 13] 5\n",
      "N3 collecting 1.85595,F:2,P:11 [0, 10, 12] 2\n",
      "N4 collecting 1.16568,F:0,P:11 [0] 0\n",
      "N5 collecting 1.1315,F:0,P:9 [0] 0\n",
      "N6 collecting 1.39159,F:0,P:7 [0] 0\n",
      "N7 collecting 1.84774,F:0,P:5 [0] 0\n",
      "N8 collecting 1.009225,F:0,P:3 [0] 0\n",
      "N9 collecting 1.5171199999999998,F:0,P:1 [0] 0\n",
      "20 ====================\n",
      "R1 assembling 0.033800000000000004,F:0,P:9 [0] 0\n",
      "N1 collecting 1.3154,F:0,P:18 [0] 0\n",
      "N2 repair 2.289535,F:6,P:10 [0, 5, 7, 9, 11, 13, 19] 6\n",
      "N3 repair 2.3695199999999996,F:3,P:11 [0, 10, 12, 19] 3\n",
      "N4 repair 2.0736499999999998,F:1,P:11 [0, 19] 1\n",
      "N5 collecting 1.4709999999999999,F:0,P:10 [0] 0\n",
      "N6 collecting 1.0513,F:0,P:8 [0] 0\n",
      "N7 collecting 1.1022399999999999,F:0,P:6 [0] 0\n",
      "N8 collecting 1.269575,F:0,P:4 [0] 0\n",
      "N9 collecting 1.30976,F:0,P:2 [0] 0\n",
      "21 ====================\n",
      "R1 assembling 0.0592,F:0,P:10 [0] 0\n",
      "N1 collecting 1.6716499999999996,F:0,P:19 [0] 0\n",
      "N2 collecting 0.219785,F:6,P:11 [0, 5, 7, 9, 11, 13, 19] 6\n",
      "N3 collecting 0.7638949999999999,F:3,P:12 [0, 10, 12, 19] 3\n",
      "N4 collecting 0.83276,F:1,P:12 [0, 19] 1\n",
      "N5 collecting 1.396,F:0,P:11 [0] 0\n",
      "N6 collecting 1.6164550000000002,F:0,P:9 [0] 0\n",
      "N7 collecting 1.53463,F:0,P:7 [0] 0\n",
      "N8 collecting 1.037925,F:0,P:5 [0] 0\n",
      "N9 collecting 1.05984,F:0,P:3 [0] 0\n",
      "N10 collecting 1.6956749999999998,F:0,P:1 [0] 0\n",
      "22 ====================\n",
      "R1 assembling 0.0592,F:0,P:10 [0] 0\n",
      "N1 collecting 1.09975,F:0,P:20 [0] 0\n",
      "N2 collecting 1.445405,F:6,P:12 [0, 5, 7, 9, 11, 13, 19] 6\n",
      "N3 collecting 1.16473,F:3,P:13 [0, 10, 12, 19] 3\n",
      "N4 collecting 1.11336,F:1,P:13 [0, 19] 1\n",
      "N5 collecting 1.0445,F:0,P:12 [0] 0\n",
      "N6 collecting 1.110295,F:0,P:10 [0] 0\n",
      "N7 collecting 1.7305899999999999,F:0,P:8 [0] 0\n",
      "N8 collecting 1.9347999999999999,F:0,P:6 [0] 0\n",
      "N9 repair 2.44496,F:1,P:3 [0, 21] 1\n",
      "N10 repair 2.5732,F:1,P:1 [0, 21] 1\n",
      "23 ====================\n",
      "R1 assembling 0.1664,F:0,P:11 [0] 0\n",
      "N1 collecting 1.8103499999999997,F:0,P:21 [0] 0\n",
      "N2 collecting 1.45124,F:6,P:13 [0, 5, 7, 9, 11, 13, 19] 6\n",
      "N3 collecting 1.079135,F:3,P:14 [0, 10, 12, 19] 3\n",
      "N4 collecting 1.83603,F:1,P:14 [0, 19] 1\n",
      "N5 collecting 1.087,F:0,P:13 [0] 0\n",
      "N6 collecting 1.507015,F:0,P:11 [0] 0\n",
      "N7 collecting 1.07029,F:0,P:9 [0] 0\n",
      "N8 collecting 1.564775,F:0,P:7 [0] 0\n",
      "N9 collecting 1.48896,F:1,P:4 [0, 21] 1\n",
      "N10 collecting 1.378275,F:1,P:2 [0, 21] 1\n",
      "N11 collecting 0.15246,F:0,P:1 [0] 0\n",
      "24 ====================\n",
      "R1 assembling 0.1664,F:0,P:11 [0] 0\n",
      "N1 collecting 1.7153499999999997,F:0,P:22 [0] 0\n",
      "N2 collecting 1.05057,F:6,P:14 [0, 5, 7, 9, 11, 13, 19] 6\n",
      "N3 repair 2.3291449999999996,F:4,P:14 [0, 10, 12, 19, 23] 4\n",
      "N4 collecting 1.9908099999999997,F:1,P:15 [0, 19] 1\n",
      "N5 collecting 1.045,F:0,P:14 [0] 0\n",
      "N6 collecting 1.05985,F:0,P:12 [0] 0\n",
      "N7 collecting 1.7028999999999999,F:0,P:10 [0] 0\n",
      "N8 collecting 1.6201249999999998,F:0,P:8 [0] 0\n",
      "N9 repair 2.53472,F:2,P:4 [0, 21, 23] 2\n",
      "N10 repair 2.071225,F:2,P:2 [0, 21, 23] 2\n",
      "N11 collecting 1.157905,F:0,P:2 [0] 0\n",
      "25 ====================\n",
      "R1 assembling 0.1574,F:0,P:12 [0] 0\n",
      "N1 collecting 1.1691,F:0,P:23 [0] 0\n",
      "N2 repair 2.34983,F:7,P:14 [0, 5, 7, 9, 11, 13, 19, 24] 7\n",
      "N3 collecting 0.7606649999999998,F:4,P:15 [0, 10, 12, 19, 23] 4\n",
      "N4 collecting 1.0654,F:1,P:16 [0, 19] 1\n",
      "N5 collecting 1.1764999999999999,F:0,P:15 [0] 0\n",
      "N6 collecting 1.7840350000000003,F:0,P:13 [0] 0\n",
      "N7 collecting 1.17466,F:0,P:11 [0] 0\n",
      "N8 collecting 1.419225,F:0,P:9 [0] 0\n",
      "N9 collecting 1.37456,F:2,P:5 [0, 21, 23] 2\n",
      "N10 collecting 1.509375,F:2,P:3 [0, 21, 23] 2\n",
      "N11 repair 2.68795,F:1,P:2 [0, 24] 1\n",
      "N12 collecting 0.446195,F:0,P:1 [0] 0\n",
      "26 ====================\n",
      "R1 assembling 0.1574,F:0,P:12 [0] 0\n",
      "N1 collecting 1.2546,F:0,P:24 [0] 0\n",
      "N2 collecting 1.50154,F:7,P:15 [0, 5, 7, 9, 11, 13, 19, 24] 7\n",
      "N3 repair 2.0917399999999997,F:5,P:15 [0, 10, 12, 19, 23, 25] 5\n",
      "N4 collecting 1.82186,F:1,P:17 [0, 19] 1\n",
      "N5 collecting 1.4394999999999998,F:0,P:16 [0] 0\n",
      "N6 collecting 1.052155,F:0,P:14 [0] 0\n",
      "N7 collecting 1.179985,F:0,P:12 [0] 0\n",
      "N8 collecting 1.9245499999999998,F:0,P:10 [0] 0\n",
      "N9 repair 2.72304,F:3,P:5 [0, 21, 23, 25] 3\n",
      "N10 repair 2.4610749999999997,F:3,P:3 [0, 21, 23, 25] 3\n",
      "N11 collecting 0.18875999999999998,F:1,P:3 [0, 24] 1\n",
      "N12 collecting 1.413575,F:0,P:2 [0] 0\n",
      "27 ====================\n",
      "R1 assembling 0.11399999999999999,F:0,P:13 [0] 0\n",
      "N1 collecting 1.7467,F:0,P:25 [0] 0\n",
      "N2 repair 2.736885,F:8,P:15 [0, 5, 7, 9, 11, 13, 19, 24, 26] 8\n",
      "N3 collecting 0.6686099999999999,F:5,P:16 [0, 10, 12, 19, 23, 25] 5\n",
      "N4 collecting 1.28776,F:1,P:18 [0, 19] 1\n",
      "N5 collecting 1.4939999999999998,F:0,P:17 [0] 0\n",
      "N6 collecting 1.2026350000000001,F:0,P:15 [0] 0\n",
      "N7 collecting 1.19596,F:0,P:13 [0] 0\n",
      "N8 collecting 1.3751499999999999,F:0,P:11 [0] 0\n",
      "N9 collecting 1.3904,F:3,P:6 [0, 21, 23, 25] 3\n",
      "N10 collecting 1.32825,F:3,P:4 [0, 21, 23, 25] 3\n",
      "N11 repair 2.20153,F:2,P:3 [0, 24, 26] 2\n",
      "N12 collecting 1.460175,F:0,P:3 [0] 0\n",
      "N13 collecting 0.6218100000000001,F:0,P:1 [0] 0\n",
      "28 ====================\n",
      "R1 assembling 0.11399999999999999,F:0,P:13 [0] 0\n",
      "N1 collecting 1.54435,F:0,P:26 [0] 0\n",
      "N2 collecting 0.91804,F:8,P:16 [0, 5, 7, 9, 11, 13, 19, 24, 26] 8\n",
      "N3 repair 2.222555,F:6,P:16 [0, 10, 12, 19, 23, 25, 27] 6\n",
      "N4 collecting 1.6332899999999997,F:1,P:19 [0, 19] 1\n",
      "N5 collecting 1.3255,F:0,P:18 [0] 0\n",
      "N6 collecting 1.7147800000000002,F:0,P:16 [0] 0\n",
      "N7 collecting 1.633675,F:0,P:14 [0] 0\n",
      "N8 collecting 1.435625,F:0,P:12 [0] 0\n",
      "N9 collecting 1.33968,F:3,P:7 [0, 21, 23, 25] 3\n",
      "N10 repair 2.157475,F:4,P:4 [0, 21, 23, 25, 27] 4\n",
      "N11 collecting 1.7532899999999998,F:2,P:4 [0, 24, 26] 2\n",
      "N12 repair 2.1090799999999996,F:1,P:3 [0, 27] 1\n",
      "N13 repair 2.3592400000000002,F:1,P:1 [0, 27] 1\n",
      "29 ====================\n",
      "R1 assembling 0.10700000000000001,F:0,P:14 [0] 0\n",
      "N1 collecting 1.2014,F:0,P:27 [0] 0\n",
      "N2 repair 2.34205,F:9,P:16 [0, 5, 7, 9, 11, 13, 19, 24, 26, 28] 9\n",
      "N3 collecting 0.7493599999999999,F:6,P:17 [0, 10, 12, 19, 23, 25, 27] 6\n",
      "N4 collecting 1.78044,F:1,P:20 [0, 19] 1\n",
      "N5 collecting 1.0965,F:0,P:19 [0] 0\n",
      "N6 collecting 1.2223000000000002,F:0,P:17 [0] 0\n",
      "N7 collecting 1.4174799999999999,F:0,P:15 [0] 0\n",
      "N8 collecting 1.23985,F:0,P:13 [0] 0\n",
      "N9 collecting 1.24992,F:3,P:8 [0, 21, 23, 25] 3\n",
      "N10 collecting 1.3972499999999999,F:4,P:5 [0, 21, 23, 25, 27] 4\n",
      "N11 collecting 1.6171,F:2,P:5 [0, 24, 26] 2\n",
      "N12 collecting 0.6698749999999999,F:1,P:4 [0, 27] 1\n",
      "N13 collecting 1.16466,F:1,P:2 [0, 27] 1\n",
      "N14 collecting 0.10989,F:0,P:1 [0] 0\n",
      "30 ====================\n",
      "R1 assembling 0.10700000000000001,F:0,P:14 [0] 0\n",
      "N1 collecting 1.35815,F:0,P:28 [0] 0\n",
      "N2 collecting 0.87136,F:9,P:17 [0, 5, 7, 9, 11, 13, 19, 24, 26, 28] 9\n",
      "N3 collecting 1.415055,F:6,P:18 [0, 10, 12, 19, 23, 25, 27] 6\n",
      "N4 collecting 1.98972,F:1,P:21 [0, 19] 1\n",
      "N5 collecting 1.4714999999999998,F:0,P:20 [0] 0\n",
      "N6 collecting 1.182115,F:0,P:18 [0] 0\n",
      "N7 collecting 1.812595,F:0,P:16 [0] 0\n",
      "N8 collecting 1.7359499999999999,F:0,P:14 [0] 0\n",
      "N9 collecting 1.45584,F:3,P:9 [0, 21, 23, 25] 3\n",
      "N10 collecting 1.5692499999999998,F:4,P:6 [0, 21, 23, 25, 27] 4\n",
      "N11 collecting 1.814935,F:2,P:6 [0, 24, 26] 2\n",
      "N12 collecting 1.194555,F:1,P:5 [0, 27] 1\n",
      "N13 repair 2.19427,F:2,P:2 [0, 27, 29] 2\n",
      "N14 repair 2.005345,F:1,P:1 [0, 29] 1\n",
      "31 ====================\n",
      "R1 assembling 0.18220000000000003,F:0,P:15 [0] 0\n",
      "N1 collecting 1.64885,F:0,P:29 [0] 0\n",
      "N2 repair 2.91388,F:10,P:17 [0, 5, 7, 9, 11, 13, 19, 24, 26, 28, 30] 10\n",
      "N3 collecting 1.902785,F:6,P:19 [0, 10, 12, 19, 23, 25, 27] 6\n",
      "N4 collecting 1.96792,F:1,P:22 [0, 19] 1\n",
      "N5 collecting 1.21,F:0,P:21 [0] 0\n",
      "N6 collecting 1.614745,F:0,P:19 [0] 0\n",
      "N7 repair 2.0351799999999995,F:1,P:16 [0, 30] 1\n",
      "N8 collecting 1.183475,F:0,P:15 [0] 0\n",
      "N9 repair 2.07536,F:4,P:9 [0, 21, 23, 25, 30] 4\n",
      "N10 repair 2.091925,F:5,P:6 [0, 21, 23, 25, 27, 30] 5\n",
      "N11 repair 2.3249500000000003,F:3,P:6 [0, 24, 26, 30] 3\n",
      "N12 collecting 1.1992150000000001,F:1,P:6 [0, 27] 1\n",
      "N13 collecting 0.10575000000000001,F:2,P:3 [0, 27, 29] 2\n",
      "N14 collecting 1.1805750000000002,F:1,P:2 [0, 29] 1\n",
      "N15 collecting 0.64008,F:0,P:1 [0] 0\n",
      "32 ====================\n",
      "R1 assembling 0.18220000000000003,F:0,P:15 [0] 0\n",
      "N1 collecting 1.6317499999999998,F:0,P:30 [0] 0\n",
      "N2 collecting 1.5112649999999999,F:10,P:18 [0, 5, 7, 9, 11, 13, 19, 24, 26, 28, 30] 10\n",
      "N3 collecting 1.44251,F:6,P:20 [0, 10, 12, 19, 23, 25, 27] 6\n",
      "N4 collecting 1.01962,F:1,P:23 [0, 19] 1\n",
      "N5 collecting 1.337,F:0,P:22 [0] 0\n",
      "N6 collecting 1.496755,F:0,P:20 [0] 0\n",
      "N7 collecting 0.21513,F:1,P:17 [0, 30] 1\n",
      "N8 collecting 1.029725,F:0,P:16 [0] 0\n",
      "N9 collecting 1.6456000000000002,F:4,P:10 [0, 21, 23, 25, 30] 4\n",
      "N10 collecting 0.35189999999999994,F:5,P:7 [0, 21, 23, 25, 27, 30] 5\n",
      "N11 collecting 1.31406,F:3,P:7 [0, 24, 26, 30] 3\n",
      "N12 collecting 1.159605,F:1,P:7 [0, 27] 1\n",
      "N13 collecting 1.5343900000000001,F:2,P:4 [0, 27, 29] 2\n",
      "N14 repair 2.055835,F:2,P:2 [0, 29, 31] 2\n",
      "N15 collecting 1.96768,F:0,P:2 [0] 0\n",
      "33 ====================\n",
      "R1 assembling 0.1208,F:0,P:16 [0] 0\n",
      "N1 collecting 1.2384499999999998,F:0,P:31 [0] 0\n",
      "N2 collecting 1.052515,F:10,P:19 [0, 5, 7, 9, 11, 13, 19, 24, 26, 28, 30] 10\n",
      "N3 collecting 1.7235199999999997,F:6,P:21 [0, 10, 12, 19, 23, 25, 27] 6\n",
      "N4 collecting 1.9537499999999999,F:1,P:24 [0, 19] 1\n",
      "N5 collecting 1.039,F:0,P:23 [0] 0\n",
      "N6 collecting 1.802845,F:0,P:21 [0] 0\n",
      "N7 repair 2.0170749999999997,F:2,P:17 [0, 30, 32] 2\n",
      "N8 collecting 1.9286499999999998,F:0,P:17 [0] 0\n",
      "N9 collecting 1.4699200000000001,F:4,P:11 [0, 21, 23, 25, 30] 4\n",
      "N10 repair 2.48005,F:6,P:7 [0, 21, 23, 25, 27, 30, 32] 6\n",
      "N11 collecting 1.161535,F:3,P:8 [0, 24, 26, 30] 3\n",
      "N12 collecting 1.61745,F:1,P:8 [0, 27] 1\n",
      "N13 repair 2.07865,F:3,P:4 [0, 27, 29, 32] 3\n",
      "N14 collecting 1.28898,F:2,P:3 [0, 29, 31] 2\n",
      "N15 collecting 1.4775399999999999,F:0,P:3 [0] 0\n",
      "N16 collecting 1.1456300000000001,F:0,P:1 [0] 0\n",
      "34 ====================\n",
      "R1 assembling 0.1208,F:0,P:16 [0] 0\n",
      "N1 collecting 1.4113499999999999,F:0,P:32 [0] 0\n",
      "N2 repair 2.386785,F:11,P:19 [0, 5, 7, 9, 11, 13, 19, 24, 26, 28, 30, 33] 11\n",
      "N3 collecting 1.22287,F:6,P:22 [0, 10, 12, 19, 23, 25, 27] 6\n",
      "N4 collecting 1.08829,F:1,P:25 [0, 19] 1\n",
      "N5 collecting 1.446,F:0,P:24 [0] 0\n",
      "N6 collecting 1.284715,F:0,P:22 [0] 0\n",
      "N7 collecting 0.7359149999999998,F:2,P:18 [0, 30, 32] 2\n",
      "N8 collecting 1.67855,F:0,P:18 [0] 0\n",
      "N9 collecting 1.8447999999999998,F:4,P:12 [0, 21, 23, 25, 30] 4\n",
      "N10 collecting 1.178175,F:6,P:8 [0, 21, 23, 25, 27, 30, 32] 6\n",
      "N11 collecting 1.923835,F:3,P:9 [0, 24, 26, 30] 3\n",
      "N12 collecting 1.01864,F:1,P:9 [0, 27] 1\n",
      "N13 collecting 0.08460000000000001,F:3,P:5 [0, 27, 29, 32] 3\n",
      "N14 repair 2.40184,F:3,P:3 [0, 29, 31, 33] 3\n",
      "N15 repair 2.02942,F:1,P:3 [0, 33] 1\n",
      "N16 repair 2.46207,F:1,P:1 [0, 33] 1\n",
      "35 ====================\n",
      "R1 assembling 0.0054,F:0,P:17 [0] 0\n",
      "N1 collecting 1.7628499999999998,F:0,P:33 [0] 0\n",
      "N2 collecting 1.347885,F:11,P:20 [0, 5, 7, 9, 11, 13, 19, 24, 26, 28, 30, 33] 11\n",
      "N3 repair 2.5697799999999997,F:7,P:22 [0, 10, 12, 19, 23, 25, 27, 34] 7\n",
      "N4 collecting 1.71395,F:1,P:26 [0, 19] 1\n",
      "N5 collecting 1.3944999999999999,F:0,P:25 [0] 0\n",
      "N6 collecting 1.25137,F:0,P:23 [0] 0\n",
      "N7 repair 2.0511549999999996,F:3,P:18 [0, 30, 32, 34] 3\n",
      "N8 collecting 1.288025,F:0,P:19 [0] 0\n",
      "N9 collecting 1.35728,F:4,P:13 [0, 21, 23, 25, 30] 4\n",
      "N10 collecting 1.391575,F:6,P:9 [0, 21, 23, 25, 27, 30, 32] 6\n",
      "N11 repair 2.49919,F:4,P:9 [0, 24, 26, 30, 34] 4\n",
      "N12 collecting 1.6593899999999997,F:1,P:10 [0, 27] 1\n",
      "N13 collecting 1.81075,F:3,P:6 [0, 27, 29, 32] 3\n",
      "N14 collecting 0.37867500000000004,F:3,P:4 [0, 29, 31, 33] 3\n",
      "N15 collecting 0.9576,F:1,P:4 [0, 33] 1\n",
      "N16 collecting 0.6973400000000001,F:1,P:2 [0, 33] 1\n",
      "N17 collecting 1.3867200000000002,F:0,P:1 [0] 0\n",
      "36 ====================\n",
      "R1 assembling 0.0054,F:0,P:17 [0] 0\n",
      "N1 collecting 1.5063499999999999,F:0,P:34 [0] 0\n",
      "N2 repair 2.21368,F:12,P:20 [0, 5, 7, 9, 11, 13, 19, 24, 26, 28, 30, 33, 35] 12\n",
      "N3 collecting 0.253555,F:7,P:23 [0, 10, 12, 19, 23, 25, 27, 34] 7\n",
      "N4 collecting 1.45562,F:1,P:27 [0, 19] 1\n",
      "N5 collecting 1.286,F:0,P:26 [0] 0\n",
      "N6 collecting 1.5403600000000002,F:0,P:24 [0] 0\n",
      "N7 collecting 0.04685999999999999,F:3,P:19 [0, 30, 32, 34] 3\n",
      "N8 collecting 1.3146749999999998,F:0,P:20 [0] 0\n",
      "N9 repair 2.58224,F:5,P:13 [0, 21, 23, 25, 30, 35] 5\n",
      "N10 collecting 1.450225,F:6,P:10 [0, 21, 23, 25, 27, 30, 32] 6\n",
      "N11 collecting 1.55727,F:4,P:10 [0, 24, 26, 30, 34] 4\n",
      "N12 collecting 1.9716099999999999,F:1,P:11 [0, 27] 1\n",
      "N13 repair 2.37193,F:4,P:6 [0, 27, 29, 32, 35] 4\n",
      "N14 collecting 1.47817,F:3,P:5 [0, 29, 31, 33] 3\n",
      "N15 collecting 1.36036,F:1,P:5 [0, 33] 1\n",
      "N16 collecting 1.7530100000000002,F:1,P:3 [0, 33] 1\n",
      "N17 collecting 1.2592,F:0,P:2 [0] 0\n",
      "37 ====================\n",
      "R1 assembling 0.1212,F:0,P:18 [0] 0\n",
      "N1 collecting 1.2698,F:0,P:35 [0] 0\n",
      "N2 collecting 1.73883,F:12,P:21 [0, 5, 7, 9, 11, 13, 19, 24, 26, 28, 30, 33, 35] 12\n",
      "N3 collecting 1.392445,F:7,P:24 [0, 10, 12, 19, 23, 25, 27, 34] 7\n",
      "N4 collecting 1.80878,F:1,P:28 [0, 19] 1\n",
      "N5 collecting 1.3875,F:0,P:27 [0] 0\n",
      "N6 collecting 1.8310600000000001,F:0,P:25 [0] 0\n",
      "N7 collecting 1.19596,F:3,P:20 [0, 30, 32, 34] 3\n",
      "N8 collecting 1.386425,F:0,P:21 [0] 0\n",
      "N9 collecting 0.03167999999999999,F:5,P:14 [0, 21, 23, 25, 30, 35] 5\n",
      "N10 repair 2.143675,F:7,P:10 [0, 21, 23, 25, 27, 30, 32, 36] 7\n",
      "N11 collecting 1.94743,F:4,P:11 [0, 24, 26, 30, 34] 4\n",
      "N12 collecting 1.860935,F:1,P:12 [0, 27] 1\n",
      "N13 collecting 0.3933900000000001,F:4,P:7 [0, 27, 29, 32, 35] 4\n",
      "N14 collecting 1.2673,F:3,P:6 [0, 29, 31, 33] 3\n",
      "N15 collecting 1.3502800000000001,F:1,P:6 [0, 33] 1\n",
      "N16 collecting 1.795495,F:1,P:4 [0, 33] 1\n",
      "N17 repair 2.34208,F:1,P:2 [0, 36] 1\n",
      "N18 collecting 0.70269,F:0,P:1 [0] 0\n",
      "38 ====================\n",
      "R1 assembling 0.1212,F:0,P:18 [0] 0\n",
      "N1 collecting 1.2147,F:0,P:36 [0] 0\n",
      "N2 repair 2.40429,F:13,P:21 [0, 5, 7, 9, 11, 13, 19, 24, 26, 28, 30, 33, 35, 37] 13\n",
      "N3 collecting 1.4715799999999999,F:7,P:25 [0, 10, 12, 19, 23, 25, 27, 34] 7\n",
      "N4 collecting 1.74229,F:1,P:29 [0, 19] 1\n",
      "N5 collecting 1.199,F:0,P:28 [0] 0\n",
      "N6 collecting 1.1949400000000001,F:0,P:26 [0] 0\n",
      "N7 collecting 1.399375,F:3,P:21 [0, 30, 32, 34] 3\n",
      "N8 collecting 1.6642,F:0,P:22 [0] 0\n",
      "N9 collecting 1.72336,F:5,P:15 [0, 21, 23, 25, 30, 35] 5\n",
      "N10 collecting 0.9815249999999999,F:7,P:11 [0, 21, 23, 25, 27, 30, 32, 36] 7\n",
      "N11 repair 2.35036,F:5,P:11 [0, 24, 26, 30, 34, 37] 5\n",
      "N12 collecting 1.739775,F:1,P:13 [0, 27] 1\n",
      "N13 collecting 1.9432900000000002,F:4,P:8 [0, 27, 29, 32, 35] 4\n",
      "N14 collecting 1.75438,F:3,P:7 [0, 29, 31, 33] 3\n",
      "N15 collecting 1.54054,F:1,P:7 [0, 33] 1\n",
      "N16 collecting 1.8570250000000001,F:1,P:5 [0, 33] 1\n",
      "N17 collecting 0.48672000000000004,F:1,P:3 [0, 36] 1\n",
      "N18 collecting 1.12213,F:0,P:2 [0] 0\n",
      "39 ====================\n",
      "R1 assembling 0.0194,F:0,P:19 [0] 0\n",
      "N1 collecting 1.1444,F:0,P:37 [0] 0\n",
      "N2 collecting 0.44151500000000005,F:13,P:22 [0, 5, 7, 9, 11, 13, 19, 24, 26, 28, 30, 33, 35, 37] 13\n",
      "N3 collecting 1.266475,F:7,P:26 [0, 10, 12, 19, 23, 25, 27, 34] 7\n",
      "N4 collecting 1.67471,F:1,P:30 [0, 19] 1\n",
      "N5 collecting 1.3644999999999998,F:0,P:29 [0] 0\n",
      "N6 collecting 1.100035,F:0,P:27 [0] 0\n",
      "N7 collecting 1.4686,F:3,P:22 [0, 30, 32, 34] 3\n",
      "N8 repair 2.0239749999999996,F:1,P:22 [0, 38] 1\n",
      "N9 repair 2.4185600000000003,F:6,P:15 [0, 21, 23, 25, 30, 35, 38] 6\n",
      "N10 collecting 1.4209,F:7,P:12 [0, 21, 23, 25, 27, 30, 32, 36] 7\n",
      "N11 collecting 1.021845,F:5,P:12 [0, 24, 26, 30, 34, 37] 5\n",
      "N12 collecting 1.49396,F:1,P:14 [0, 27] 1\n",
      "N13 collecting 1.3510900000000001,F:4,P:9 [0, 27, 29, 32, 35] 4\n",
      "N14 collecting 1.212355,F:3,P:8 [0, 29, 31, 33] 3\n",
      "N15 collecting 1.78876,F:1,P:8 [0, 33] 1\n",
      "N16 collecting 1.045415,F:1,P:6 [0, 33] 1\n",
      "N17 collecting 1.53856,F:1,P:4 [0, 36] 1\n",
      "N18 collecting 1.18231,F:0,P:3 [0] 0\n",
      "N19 collecting 0.011505000000000003,F:0,P:1 [0] 0\n",
      "40 ====================\n",
      "R1 assembling 0.0194,F:0,P:19 [0] 0\n",
      "N1 collecting 1.4968499999999998,F:0,P:38 [0] 0\n",
      "N2 repair 2.42374,F:14,P:22 [0, 5, 7, 9, 11, 13, 19, 24, 26, 28, 30, 33, 35, 37, 39] 14\n",
      "N3 repair 2.348525,F:8,P:26 [0, 10, 12, 19, 23, 25, 27, 34, 39] 8\n",
      "N4 collecting 1.25724,F:1,P:31 [0, 19] 1\n",
      "N5 collecting 1.4235,F:0,P:30 [0] 0\n",
      "N6 collecting 1.385605,F:0,P:28 [0] 0\n",
      "N7 collecting 1.1427100000000001,F:3,P:23 [0, 30, 32, 34] 3\n",
      "N8 collecting 0.17834999999999995,F:1,P:23 [0, 38] 1\n",
      "N9 collecting 0.46640000000000004,F:6,P:16 [0, 21, 23, 25, 30, 35, 38] 6\n",
      "N10 collecting 1.2691,F:7,P:13 [0, 21, 23, 25, 27, 30, 32, 36] 7\n",
      "N11 collecting 1.956505,F:5,P:13 [0, 24, 26, 30, 34, 37] 5\n",
      "N12 collecting 1.40309,F:1,P:15 [0, 27] 1\n",
      "N13 collecting 1.97995,F:4,P:10 [0, 27, 29, 32, 35] 4\n",
      "N14 collecting 1.844965,F:3,P:9 [0, 29, 31, 33] 3\n",
      "N15 collecting 1.95508,F:1,P:9 [0, 33] 1\n",
      "N16 collecting 1.5083550000000001,F:1,P:7 [0, 33] 1\n",
      "N17 repair 2.33488,F:2,P:4 [0, 36, 39] 2\n",
      "N18 repair 2.02306,F:1,P:3 [0, 39] 1\n",
      "N19 collecting 1.5637450000000002,F:0,P:2 [0] 0\n",
      "41 ====================\n",
      "R1 assembling 0.1008,F:0,P:20 [0] 0\n",
      "N1 collecting 1.6915999999999998,F:0,P:39 [0] 0\n",
      "N2 collecting 1.2448000000000001,F:14,P:23 [0, 5, 7, 9, 11, 13, 19, 24, 26, 28, 30, 33, 35, 37, 39] 14\n",
      "N3 collecting 0.124355,F:8,P:27 [0, 10, 12, 19, 23, 25, 27, 34, 39] 8\n",
      "N4 collecting 1.68234,F:1,P:32 [0, 19] 1\n",
      "N5 collecting 1.4124999999999999,F:0,P:31 [0] 0\n",
      "N6 collecting 1.368505,F:0,P:29 [0] 0\n",
      "N7 collecting 1.6539099999999998,F:3,P:24 [0, 30, 32, 34] 3\n",
      "N8 collecting 1.228575,F:1,P:24 [0, 38] 1\n",
      "N9 repair 2.43616,F:7,P:16 [0, 21, 23, 25, 30, 35, 38, 40] 7\n",
      "N10 collecting 1.9315,F:7,P:14 [0, 21, 23, 25, 27, 30, 32, 36] 7\n",
      "N11 collecting 1.2686199999999999,F:5,P:14 [0, 24, 26, 30, 34, 37] 5\n",
      "N12 collecting 1.5207549999999999,F:1,P:16 [0, 27] 1\n",
      "N13 collecting 1.9573900000000002,F:4,P:11 [0, 27, 29, 32, 35] 4\n",
      "N14 repair 2.29789,F:4,P:9 [0, 29, 31, 33, 40] 4\n",
      "N15 collecting 1.9752399999999999,F:1,P:10 [0, 33] 1\n",
      "N16 collecting 1.6079750000000002,F:1,P:8 [0, 33] 1\n",
      "N17 collecting 0.9360000000000002,F:2,P:5 [0, 36, 39] 2\n",
      "N18 collecting 1.0850099999999998,F:1,P:4 [0, 39] 1\n",
      "N19 collecting 1.7929600000000003,F:0,P:3 [0] 0\n",
      "N20 collecting 0.4827900000000001,F:0,P:1 [0] 0\n",
      "42 ====================\n",
      "R1 assembling 0.1008,F:0,P:20 [0] 0\n",
      "N1 collecting 1.08075,F:0,P:40 [0] 0\n",
      "N2 collecting 1.990005,F:14,P:24 [0, 5, 7, 9, 11, 13, 19, 24, 26, 28, 30, 33, 35, 37, 39] 14\n",
      "N3 repair 2.3356049999999997,F:9,P:27 [0, 10, 12, 19, 23, 25, 27, 34, 39, 41] 9\n",
      "N4 collecting 1.69978,F:1,P:33 [0, 19] 1\n",
      "N5 collecting 1.277,F:0,P:32 [0] 0\n",
      "N6 collecting 1.6267150000000001,F:0,P:30 [0] 0\n",
      "N7 collecting 1.610245,F:3,P:25 [0, 30, 32, 34] 3\n",
      "N8 collecting 1.06355,F:1,P:25 [0, 38] 1\n",
      "N9 collecting 0.82016,F:7,P:17 [0, 21, 23, 25, 30, 35, 38, 40] 7\n",
      "N10 collecting 1.7331249999999998,F:7,P:15 [0, 21, 23, 25, 27, 30, 32, 36] 7\n",
      "N11 repair 2.210605,F:6,P:14 [0, 24, 26, 30, 34, 37, 41] 6\n",
      "N12 collecting 1.935495,F:1,P:17 [0, 27] 1\n",
      "N13 repair 2.2802800000000003,F:5,P:11 [0, 27, 29, 32, 35, 41] 5\n",
      "N14 collecting 0.607365,F:4,P:10 [0, 29, 31, 33, 40] 4\n",
      "N15 collecting 1.6211799999999998,F:1,P:11 [0, 33] 1\n",
      "N16 repair 2.3595200000000003,F:2,P:8 [0, 33, 41] 2\n",
      "N17 collecting 1.72432,F:2,P:6 [0, 36, 39] 2\n",
      "N18 repair 2.40715,F:2,P:4 [0, 39, 41] 2\n",
      "N19 collecting 1.137175,F:0,P:4 [0] 0\n",
      "N20 collecting 1.59136,F:0,P:2 [0] 0\n",
      "43 ====================\n",
      "R1 assembling 0.10160000000000001,F:0,P:21 [0] 0\n",
      "N1 collecting 1.6887499999999998,F:0,P:41 [0] 0\n",
      "N2 repair 2.748555,F:15,P:24 [0, 5, 7, 9, 11, 13, 19, 24, 26, 28, 30, 33, 35, 37, 39, 42] 15\n",
      "N3 collecting 1.5649349999999997,F:9,P:28 [0, 10, 12, 19, 23, 25, 27, 34, 39, 41] 9\n",
      "N4 collecting 1.25942,F:1,P:34 [0, 19] 1\n",
      "N5 collecting 1.1085,F:0,P:33 [0] 0\n",
      "N6 collecting 1.1197,F:0,P:31 [0] 0\n",
      "N7 collecting 1.721005,F:3,P:26 [0, 30, 32, 34] 3\n",
      "N8 collecting 1.8445999999999998,F:1,P:26 [0, 38] 1\n",
      "N9 repair 2.32528,F:8,P:17 [0, 21, 23, 25, 30, 35, 38, 40, 42] 8\n",
      "N10 repair 2.2695999999999996,F:8,P:15 [0, 21, 23, 25, 27, 30, 32, 36, 42] 8\n",
      "N11 collecting 0.92565,F:6,P:15 [0, 24, 26, 30, 34, 37, 41] 6\n",
      "N12 repair 2.131215,F:2,P:17 [0, 27, 42] 2\n",
      "N13 collecting 0.24534,F:5,P:12 [0, 27, 29, 32, 35, 41] 5\n",
      "N14 repair 2.03059,F:5,P:10 [0, 29, 31, 33, 40, 42] 5\n",
      "N15 collecting 1.4233600000000002,F:1,P:12 [0, 33] 1\n",
      "N16 collecting 0.4981000000000001,F:2,P:9 [0, 33, 41] 2\n",
      "N17 collecting 1.7070400000000001,F:2,P:7 [0, 36, 39] 2\n",
      "N18 collecting 1.3983,F:2,P:5 [0, 39, 41] 2\n",
      "N19 collecting 1.1159350000000001,F:0,P:5 [0] 0\n",
      "N20 collecting 1.08701,F:0,P:3 [0] 0\n",
      "N21 collecting 0.35014500000000004,F:0,P:1 [0] 0\n",
      "44 ====================\n",
      "R1 assembling 0.10160000000000001,F:0,P:21 [0] 0\n",
      "N1 collecting 1.7789999999999997,F:0,P:42 [0] 0\n",
      "N2 collecting 1.8924850000000002,F:15,P:25 [0, 5, 7, 9, 11, 13, 19, 24, 26, 28, 30, 33, 35, 37, 39, 42] 15\n",
      "N3 repair 2.581085,F:10,P:28 [0, 10, 12, 19, 23, 25, 27, 34, 39, 41, 43] 10\n",
      "N4 repair 2.03659,F:2,P:34 [0, 19, 43] 2\n",
      "N5 collecting 1.4964999999999997,F:0,P:34 [0] 0\n",
      "N6 collecting 1.7635150000000002,F:0,P:32 [0] 0\n",
      "N7 collecting 1.38553,F:3,P:27 [0, 30, 32, 34] 3\n",
      "N8 collecting 1.95735,F:1,P:27 [0, 38] 1\n",
      "N9 collecting 0.82192,F:8,P:18 [0, 21, 23, 25, 30, 35, 38, 40, 42] 8\n",
      "N10 collecting 0.4139999999999999,F:8,P:16 [0, 21, 23, 25, 27, 30, 32, 36, 42] 8\n",
      "N11 collecting 1.695145,F:6,P:16 [0, 24, 26, 30, 34, 37, 41] 6\n",
      "N12 collecting 0.385615,F:2,P:18 [0, 27, 42] 2\n",
      "N13 collecting 1.4512,F:5,P:13 [0, 27, 29, 32, 35, 41] 5\n",
      "N14 collecting 0.6934950000000001,F:5,P:11 [0, 29, 31, 33, 40, 42] 5\n",
      "N15 collecting 1.02268,F:1,P:13 [0, 33] 1\n",
      "N16 collecting 1.7661950000000002,F:2,P:10 [0, 33, 41] 2\n",
      "N17 repair 2.3636800000000004,F:3,P:7 [0, 36, 39, 43] 3\n",
      "N18 collecting 1.4602,F:2,P:6 [0, 39, 41] 2\n",
      "N19 collecting 1.234525,F:0,P:6 [0] 0\n",
      "N20 collecting 1.3927,F:0,P:4 [0] 0\n",
      "N21 collecting 1.5233349999999999,F:0,P:2 [0] 0\n",
      "45 ====================\n",
      "R1 assembling 0.1874,F:0,P:22 [0] 0\n",
      "N1 collecting 1.61085,F:0,P:43 [0] 0\n",
      "N2 repair 2.1767250000000002,F:16,P:25 [0, 5, 7, 9, 11, 13, 19, 24, 26, 28, 30, 33, 35, 37, 39, 42, 44] 16\n",
      "N3 collecting 1.4664199999999998,F:10,P:29 [0, 10, 12, 19, 23, 25, 27, 34, 39, 41, 43] 10\n",
      "N4 collecting 0.4556199999999999,F:2,P:35 [0, 19, 43] 2\n",
      "N5 collecting 1.015,F:0,P:35 [0] 0\n",
      "N6 collecting 1.553185,F:0,P:33 [0] 0\n",
      "N7 collecting 1.6145049999999999,F:3,P:28 [0, 30, 32, 34] 3\n",
      "N8 collecting 1.1107,F:1,P:28 [0, 38] 1\n",
      "N9 collecting 1.06688,F:8,P:19 [0, 21, 23, 25, 30, 35, 38, 40, 42] 8\n",
      "N10 repair 2.564575,F:9,P:16 [0, 21, 23, 25, 27, 30, 32, 36, 42, 44] 9\n",
      "N11 collecting 1.27951,F:6,P:17 [0, 24, 26, 30, 34, 37, 41] 6\n",
      "N12 collecting 1.690845,F:2,P:19 [0, 27, 42] 2\n",
      "N13 collecting 1.8798400000000002,F:5,P:14 [0, 27, 29, 32, 35, 41] 5\n",
      "N14 collecting 1.9251550000000002,F:5,P:12 [0, 29, 31, 33, 40, 42] 5\n",
      "N15 collecting 1.33012,F:1,P:14 [0, 33] 1\n",
      "N16 collecting 1.3838300000000001,F:2,P:11 [0, 33, 41] 2\n",
      "N17 collecting 0.61344,F:3,P:8 [0, 36, 39, 43] 3\n",
      "N18 repair 2.11864,F:3,P:6 [0, 39, 41, 44] 3\n",
      "N19 collecting 1.314175,F:0,P:7 [0] 0\n",
      "N20 collecting 1.22176,F:0,P:5 [0] 0\n",
      "N21 repair 2.08934,F:1,P:2 [0, 44] 1\n",
      "N22 collecting 0.06878000000000001,F:0,P:1 [0] 0\n",
      "46 ====================\n",
      "R1 assembling 0.1874,F:0,P:22 [0] 0\n",
      "N1 collecting 1.3058999999999998,F:0,P:44 [0] 0\n",
      "N2 collecting 1.270085,F:16,P:26 [0, 5, 7, 9, 11, 13, 19, 24, 26, 28, 30, 33, 35, 37, 39, 42, 44] 16\n",
      "N3 repair 2.43412,F:11,P:29 [0, 10, 12, 19, 23, 25, 27, 34, 39, 41, 43, 45] 11\n",
      "N4 collecting 1.85129,F:2,P:36 [0, 19, 43] 2\n",
      "N5 collecting 1.4314999999999998,F:0,P:36 [0] 0\n",
      "N6 collecting 1.151335,F:0,P:34 [0] 0\n",
      "N7 collecting 1.7497599999999998,F:3,P:29 [0, 30, 32, 34] 3\n",
      "N8 collecting 1.2931499999999998,F:1,P:29 [0, 38] 1\n",
      "N9 collecting 1.16368,F:8,P:20 [0, 21, 23, 25, 30, 35, 38, 40, 42] 8\n",
      "N10 collecting 0.05174999999999999,F:9,P:17 [0, 21, 23, 25, 27, 30, 32, 36, 42, 44] 9\n",
      "N11 repair 2.0526999999999997,F:7,P:17 [0, 24, 26, 30, 34, 37, 41, 45] 7\n",
      "N12 collecting 1.6244399999999999,F:2,P:20 [0, 27, 42] 2\n",
      "N13 collecting 1.9503400000000002,F:5,P:15 [0, 27, 29, 32, 35, 41] 5\n",
      "N14 collecting 1.5925150000000001,F:5,P:13 [0, 29, 31, 33, 40, 42] 5\n",
      "N15 collecting 1.43344,F:1,P:15 [0, 33] 1\n",
      "N16 collecting 1.467335,F:2,P:12 [0, 33, 41] 2\n",
      "N17 repair 2.24704,F:4,P:8 [0, 36, 39, 43, 45] 4\n",
      "N18 collecting 0.5380799999999999,F:3,P:7 [0, 39, 41, 44] 3\n",
      "N19 collecting 1.6929550000000002,F:0,P:8 [0] 0\n",
      "N20 collecting 1.37961,F:0,P:6 [0] 0\n",
      "N21 collecting 0.05522,F:1,P:3 [0, 44] 1\n",
      "N22 collecting 1.7104250000000003,F:0,P:2 [0] 0\n",
      "47 ====================\n",
      "R1 assembling 0.10880000000000001,F:0,P:23 [0] 0\n",
      "N1 collecting 1.1919,F:0,P:45 [0] 0\n",
      "N2 collecting 1.4920849999999999,F:16,P:27 [0, 5, 7, 9, 11, 13, 19, 24, 26, 28, 30, 33, 35, 37, 39, 42, 44] 16\n",
      "N3 collecting 0.876945,F:11,P:30 [0, 10, 12, 19, 23, 25, 27, 34, 39, 41, 43, 45] 11\n",
      "N4 collecting 1.45671,F:2,P:37 [0, 19, 43] 2\n",
      "N5 collecting 1.269,F:0,P:37 [0] 0\n",
      "N6 collecting 1.81054,F:0,P:35 [0] 0\n",
      "N7 collecting 1.08733,F:3,P:30 [0, 30, 32, 34] 3\n",
      "N8 collecting 1.7892499999999998,F:1,P:30 [0, 38] 1\n",
      "N9 repair 2.7248,F:9,P:20 [0, 21, 23, 25, 30, 35, 38, 40, 42, 46] 9\n",
      "N10 collecting 1.884925,F:9,P:18 [0, 21, 23, 25, 27, 30, 32, 36, 42, 44] 9\n",
      "N11 collecting 0.150645,F:7,P:18 [0, 24, 26, 30, 34, 37, 41, 45] 7\n",
      "N12 repair 2.02753,F:3,P:20 [0, 27, 42, 46] 3\n",
      "N13 collecting 1.09165,F:5,P:16 [0, 27, 29, 32, 35, 41] 5\n",
      "N14 repair 2.4523300000000003,F:6,P:13 [0, 29, 31, 33, 40, 42, 46] 6\n",
      "N15 collecting 1.8416800000000002,F:1,P:16 [0, 33] 1\n",
      "N16 repair 2.164675,F:3,P:12 [0, 33, 41, 46] 3\n",
      "N17 collecting 0.9705600000000002,F:4,P:9 [0, 36, 39, 43, 45] 4\n",
      "N18 collecting 1.86907,F:3,P:8 [0, 39, 41, 44] 3\n",
      "N19 collecting 1.319485,F:0,P:9 [0] 0\n",
      "N20 collecting 1.7007,F:0,P:7 [0] 0\n",
      "N21 repair 2.0416499999999997,F:2,P:3 [0, 44, 46] 2\n",
      "N22 collecting 1.07059,F:0,P:3 [0] 0\n",
      "N23 collecting 0.36036000000000007,F:0,P:1 [0] 0\n",
      "48 ====================\n",
      "R1 assembling 0.10880000000000001,F:0,P:23 [0] 0\n",
      "N1 collecting 1.1634,F:0,P:46 [0] 0\n",
      "N2 repair 2.1358800000000002,F:17,P:27 [0, 5, 7, 9, 11, 13, 19, 24, 26, 28, 30, 33, 35, 37, 39, 42, 44, 47] 17\n",
      "N3 collecting 1.20349,F:11,P:31 [0, 10, 12, 19, 23, 25, 27, 34, 39, 41, 43, 45] 11\n",
      "N4 collecting 1.49813,F:2,P:38 [0, 19, 43] 2\n",
      "N5 collecting 1.1444999999999999,F:0,P:38 [0] 0\n",
      "N6 collecting 1.7412850000000002,F:0,P:36 [0] 0\n",
      "N7 collecting 1.9510449999999997,F:3,P:31 [0, 30, 32, 34] 3\n",
      "N8 collecting 1.20295,F:1,P:31 [0, 38] 1\n",
      "N9 collecting 0.3696,F:9,P:21 [0, 21, 23, 25, 30, 35, 38, 40, 42, 46] 9\n",
      "N10 collecting 1.27945,F:9,P:19 [0, 21, 23, 25, 27, 30, 32, 36, 42, 44] 9\n",
      "N11 repair 2.72062,F:8,P:18 [0, 24, 26, 30, 34, 37, 41, 45, 47] 8\n",
      "N12 collecting 0.8015199999999999,F:3,P:21 [0, 27, 42, 46] 3\n",
      "N13 collecting 1.21573,F:5,P:17 [0, 27, 29, 32, 35, 41] 5\n",
      "N14 collecting 0.26136000000000004,F:6,P:14 [0, 29, 31, 33, 40, 42, 46] 6\n",
      "N15 collecting 1.02898,F:1,P:17 [0, 33] 1\n",
      "N16 collecting 1.2789450000000002,F:3,P:13 [0, 33, 41, 46] 3\n",
      "N17 collecting 1.53712,F:4,P:10 [0, 36, 39, 43, 45] 4\n",
      "N18 repair 2.6301699999999997,F:4,P:8 [0, 39, 41, 44, 47] 4\n",
      "N19 collecting 1.073455,F:0,P:10 [0] 0\n",
      "N20 collecting 1.3773,F:0,P:8 [0] 0\n",
      "N21 collecting 0.27108,F:2,P:4 [0, 44, 46] 2\n",
      "N22 collecting 1.8036400000000001,F:0,P:4 [0] 0\n",
      "N23 collecting 1.20592,F:0,P:2 [0] 0\n",
      "49 ====================\n",
      "R1 assembling 0.1378,F:0,P:24 [0] 0\n",
      "N1 collecting 1.3305999999999998,F:0,P:47 [0] 0\n",
      "N2 collecting 0.12837,F:17,P:28 [0, 5, 7, 9, 11, 13, 19, 24, 26, 28, 30, 33, 35, 37, 39, 42, 44, 47] 17\n",
      "N3 collecting 1.36822,F:11,P:32 [0, 10, 12, 19, 23, 25, 27, 34, 39, 41, 43, 45] 11\n",
      "N4 collecting 1.4599799999999998,F:2,P:39 [0, 19, 43] 2\n",
      "N5 collecting 1.13,F:0,P:39 [0] 0\n",
      "N6 collecting 1.1197,F:0,P:37 [0] 0\n",
      "N7 collecting 1.48564,F:3,P:32 [0, 30, 32, 34] 3\n",
      "N8 collecting 1.6549749999999999,F:1,P:32 [0, 38] 1\n",
      "N9 repair 2.4854399999999996,F:10,P:21 [0, 21, 23, 25, 30, 35, 38, 40, 42, 46, 48] 10\n",
      "N10 collecting 1.3312,F:9,P:20 [0, 21, 23, 25, 27, 30, 32, 36, 42, 44] 9\n",
      "N11 collecting 1.7369549999999998,F:8,P:19 [0, 24, 26, 30, 34, 37, 41, 45, 47] 8\n",
      "N12 collecting 1.770065,F:3,P:22 [0, 27, 42, 46] 3\n",
      "N13 collecting 1.26226,F:5,P:18 [0, 27, 29, 32, 35, 41] 5\n",
      "N14 repair 2.3498650000000003,F:7,P:14 [0, 29, 31, 33, 40, 42, 46, 48] 7\n",
      "N15 collecting 1.04284,F:1,P:18 [0, 33] 1\n",
      "N16 repair 2.273085,F:4,P:13 [0, 33, 41, 46, 48] 4\n",
      "N17 repair 2.3536,F:5,P:10 [0, 36, 39, 43, 45, 48] 5\n",
      "N18 collecting 0.54693,F:4,P:9 [0, 39, 41, 44, 47] 4\n",
      "N19 collecting 1.3637350000000001,F:0,P:11 [0] 0\n",
      "N20 collecting 1.27412,F:0,P:9 [0] 0\n",
      "N21 collecting 1.85842,F:2,P:5 [0, 44, 46] 2\n",
      "N22 collecting 1.27512,F:0,P:5 [0] 0\n",
      "N23 collecting 1.26364,F:0,P:3 [0] 0\n",
      "N24 collecting 0.6810900000000002,F:0,P:1 [0] 0\n",
      "50 ====================\n",
      "R1 assembling 0.1378,F:0,P:24 [0] 0\n",
      "N1 collecting 1.1596,F:0,P:48 [0] 0\n",
      "N2 repair 2.33038,F:18,P:28 [0, 5, 7, 9, 11, 13, 19, 24, 26, 28, 30, 33, 35, 37, 39, 42, 44, 47, 49] 18\n",
      "N3 collecting 1.20672,F:11,P:33 [0, 10, 12, 19, 23, 25, 27, 34, 39, 41, 43, 45] 11\n",
      "N4 collecting 1.90688,F:2,P:40 [0, 19, 43] 2\n",
      "N5 collecting 1.3555,F:0,P:40 [0] 0\n",
      "N6 collecting 1.597645,F:0,P:38 [0] 0\n",
      "N7 collecting 1.6091799999999998,F:3,P:33 [0, 30, 32, 34] 3\n",
      "N8 collecting 1.138375,F:1,P:33 [0, 38] 1\n",
      "N9 collecting 0.66,F:10,P:22 [0, 21, 23, 25, 30, 35, 38, 40, 42, 46, 48] 10\n",
      "N10 repair 2.564575,F:10,P:20 [0, 21, 23, 25, 27, 30, 32, 36, 42, 44, 49] 10\n",
      "N11 repair 2.7496599999999995,F:9,P:19 [0, 24, 26, 30, 34, 37, 41, 45, 47, 49] 9\n",
      "N12 collecting 1.86909,F:3,P:23 [0, 27, 42, 46] 3\n",
      "N13 collecting 1.20868,F:5,P:19 [0, 27, 29, 32, 35, 41] 5\n",
      "N14 collecting 1.3394700000000002,F:7,P:15 [0, 29, 31, 33, 40, 42, 46, 48] 7\n",
      "N15 collecting 1.60606,F:1,P:19 [0, 33] 1\n",
      "N16 collecting 0.6519250000000001,F:4,P:14 [0, 33, 41, 46, 48] 4\n",
      "N17 collecting 0.37584000000000006,F:5,P:11 [0, 36, 39, 43, 45, 48] 5\n",
      "N18 repair 2.37175,F:5,P:9 [0, 39, 41, 44, 47, 49] 5\n",
      "N19 collecting 1.8425200000000002,F:0,P:12 [0] 0\n",
      "N20 collecting 1.3934700000000002,F:0,P:10 [0] 0\n",
      "N21 idle 0,F:2,P:5 [0, 44, 46] 2\n",
      "N22 idle 0,F:0,P:5 [0] 0\n",
      "N23 idle 0,F:0,P:3 [0] 0\n",
      "N24 idle 0,F:0,P:1 [0] 0\n",
      "51 ====================\n",
      "R1 assembling 0.07700000000000001,F:0,P:25 [0] 0\n",
      "N1 idle 0,F:0,P:48 [0] 0\n",
      "N2 idle 0,F:18,P:28 [0, 5, 7, 9, 11, 13, 19, 24, 26, 28, 30, 33, 35, 37, 39, 42, 44, 47, 49] 18\n",
      "N3 idle 0,F:11,P:33 [0, 10, 12, 19, 23, 25, 27, 34, 39, 41, 43, 45] 11\n",
      "N4 idle 0,F:2,P:40 [0, 19, 43] 2\n",
      "N5 idle 0,F:0,P:40 [0] 0\n",
      "N6 idle 0,F:0,P:38 [0] 0\n",
      "N7 idle 0,F:3,P:33 [0, 30, 32, 34] 3\n",
      "N8 idle 0,F:1,P:33 [0, 38] 1\n",
      "N9 idle 0,F:10,P:22 [0, 21, 23, 25, 30, 35, 38, 40, 42, 46, 48] 10\n",
      "N10 idle 0,F:10,P:20 [0, 21, 23, 25, 27, 30, 32, 36, 42, 44, 49] 10\n",
      "N11 idle 0,F:9,P:19 [0, 24, 26, 30, 34, 37, 41, 45, 47, 49] 9\n",
      "N12 idle 0,F:3,P:23 [0, 27, 42, 46] 3\n",
      "N13 idle 0,F:5,P:19 [0, 27, 29, 32, 35, 41] 5\n",
      "N14 idle 0,F:7,P:15 [0, 29, 31, 33, 40, 42, 46, 48] 7\n",
      "N15 idle 0,F:1,P:19 [0, 33] 1\n",
      "N16 idle 0,F:4,P:14 [0, 33, 41, 46, 48] 4\n",
      "N17 idle 0,F:5,P:11 [0, 36, 39, 43, 45, 48] 5\n",
      "N18 idle 0,F:5,P:9 [0, 39, 41, 44, 47, 49] 5\n",
      "N19 idle 0,F:0,P:12 [0] 0\n",
      "N20 idle 0,F:0,P:10 [0] 0\n",
      "N21 idle 0,F:2,P:5 [0, 44, 46] 2\n",
      "N22 idle 0,F:0,P:5 [0] 0\n",
      "N23 idle 0,F:0,P:3 [0] 0\n",
      "N24 idle 0,F:0,P:1 [0] 0\n",
      "N25 idle 0,F:0,P:0 [0] 0\n",
      "52 ====================\n",
      "R1 assembling 0.07700000000000001,F:0,P:25 [0] 0\n",
      "N1 idle 0,F:0,P:48 [0] 0\n",
      "N2 idle 0,F:18,P:28 [0, 5, 7, 9, 11, 13, 19, 24, 26, 28, 30, 33, 35, 37, 39, 42, 44, 47, 49] 18\n",
      "N3 idle 0,F:11,P:33 [0, 10, 12, 19, 23, 25, 27, 34, 39, 41, 43, 45] 11\n",
      "N4 idle 0,F:2,P:40 [0, 19, 43] 2\n",
      "N5 idle 0,F:0,P:40 [0] 0\n",
      "N6 idle 0,F:0,P:38 [0] 0\n",
      "N7 idle 0,F:3,P:33 [0, 30, 32, 34] 3\n",
      "N8 idle 0,F:1,P:33 [0, 38] 1\n",
      "N9 idle 0,F:10,P:22 [0, 21, 23, 25, 30, 35, 38, 40, 42, 46, 48] 10\n",
      "N10 idle 0,F:10,P:20 [0, 21, 23, 25, 27, 30, 32, 36, 42, 44, 49] 10\n",
      "N11 idle 0,F:9,P:19 [0, 24, 26, 30, 34, 37, 41, 45, 47, 49] 9\n",
      "N12 idle 0,F:3,P:23 [0, 27, 42, 46] 3\n",
      "N13 idle 0,F:5,P:19 [0, 27, 29, 32, 35, 41] 5\n",
      "N14 idle 0,F:7,P:15 [0, 29, 31, 33, 40, 42, 46, 48] 7\n",
      "N15 idle 0,F:1,P:19 [0, 33] 1\n",
      "N16 idle 0,F:4,P:14 [0, 33, 41, 46, 48] 4\n",
      "N17 idle 0,F:5,P:11 [0, 36, 39, 43, 45, 48] 5\n",
      "N18 idle 0,F:5,P:9 [0, 39, 41, 44, 47, 49] 5\n",
      "N19 idle 0,F:0,P:12 [0] 0\n",
      "N20 idle 0,F:0,P:10 [0] 0\n",
      "N21 idle 0,F:2,P:5 [0, 44, 46] 2\n",
      "N22 idle 0,F:0,P:5 [0] 0\n",
      "N23 idle 0,F:0,P:3 [0] 0\n",
      "N24 idle 0,F:0,P:1 [0] 0\n",
      "N25 idle 0,F:0,P:0 [0] 0\n",
      "53 ====================\n",
      "R1 assembling 0.188,F:0,P:26 [0] 0\n",
      "N1 idle 0,F:0,P:48 [0] 0\n",
      "N2 idle 0,F:18,P:28 [0, 5, 7, 9, 11, 13, 19, 24, 26, 28, 30, 33, 35, 37, 39, 42, 44, 47, 49] 18\n",
      "N3 idle 0,F:11,P:33 [0, 10, 12, 19, 23, 25, 27, 34, 39, 41, 43, 45] 11\n",
      "N4 idle 0,F:2,P:40 [0, 19, 43] 2\n",
      "N5 idle 0,F:0,P:40 [0] 0\n",
      "N6 idle 0,F:0,P:38 [0] 0\n",
      "N7 idle 0,F:3,P:33 [0, 30, 32, 34] 3\n",
      "N8 idle 0,F:1,P:33 [0, 38] 1\n",
      "N9 idle 0,F:10,P:22 [0, 21, 23, 25, 30, 35, 38, 40, 42, 46, 48] 10\n",
      "N10 idle 0,F:10,P:20 [0, 21, 23, 25, 27, 30, 32, 36, 42, 44, 49] 10\n",
      "N11 idle 0,F:9,P:19 [0, 24, 26, 30, 34, 37, 41, 45, 47, 49] 9\n",
      "N12 idle 0,F:3,P:23 [0, 27, 42, 46] 3\n",
      "N13 idle 0,F:5,P:19 [0, 27, 29, 32, 35, 41] 5\n",
      "N14 idle 0,F:7,P:15 [0, 29, 31, 33, 40, 42, 46, 48] 7\n",
      "N15 idle 0,F:1,P:19 [0, 33] 1\n",
      "N16 idle 0,F:4,P:14 [0, 33, 41, 46, 48] 4\n",
      "N17 idle 0,F:5,P:11 [0, 36, 39, 43, 45, 48] 5\n",
      "N18 idle 0,F:5,P:9 [0, 39, 41, 44, 47, 49] 5\n",
      "N19 idle 0,F:0,P:12 [0] 0\n",
      "N20 idle 0,F:0,P:10 [0] 0\n",
      "N21 idle 0,F:2,P:5 [0, 44, 46] 2\n",
      "N22 idle 0,F:0,P:5 [0] 0\n",
      "N23 idle 0,F:0,P:3 [0] 0\n",
      "N24 idle 0,F:0,P:1 [0] 0\n",
      "N25 idle 0,F:0,P:0 [0] 0\n",
      "N26 idle 0,F:0,P:0 [0] 0\n",
      "54 ====================\n",
      "R1 assembling 0.188,F:0,P:26 [0] 0\n",
      "N1 idle 0,F:0,P:48 [0] 0\n",
      "N2 idle 0,F:18,P:28 [0, 5, 7, 9, 11, 13, 19, 24, 26, 28, 30, 33, 35, 37, 39, 42, 44, 47, 49] 18\n",
      "N3 idle 0,F:11,P:33 [0, 10, 12, 19, 23, 25, 27, 34, 39, 41, 43, 45] 11\n",
      "N4 idle 0,F:2,P:40 [0, 19, 43] 2\n",
      "N5 idle 0,F:0,P:40 [0] 0\n",
      "N6 idle 0,F:0,P:38 [0] 0\n",
      "N7 idle 0,F:3,P:33 [0, 30, 32, 34] 3\n",
      "N8 idle 0,F:1,P:33 [0, 38] 1\n",
      "N9 idle 0,F:10,P:22 [0, 21, 23, 25, 30, 35, 38, 40, 42, 46, 48] 10\n",
      "N10 idle 0,F:10,P:20 [0, 21, 23, 25, 27, 30, 32, 36, 42, 44, 49] 10\n",
      "N11 idle 0,F:9,P:19 [0, 24, 26, 30, 34, 37, 41, 45, 47, 49] 9\n",
      "N12 idle 0,F:3,P:23 [0, 27, 42, 46] 3\n",
      "N13 idle 0,F:5,P:19 [0, 27, 29, 32, 35, 41] 5\n",
      "N14 idle 0,F:7,P:15 [0, 29, 31, 33, 40, 42, 46, 48] 7\n",
      "N15 idle 0,F:1,P:19 [0, 33] 1\n",
      "N16 idle 0,F:4,P:14 [0, 33, 41, 46, 48] 4\n",
      "N17 idle 0,F:5,P:11 [0, 36, 39, 43, 45, 48] 5\n",
      "N18 idle 0,F:5,P:9 [0, 39, 41, 44, 47, 49] 5\n",
      "N19 idle 0,F:0,P:12 [0] 0\n",
      "N20 idle 0,F:0,P:10 [0] 0\n",
      "N21 idle 0,F:2,P:5 [0, 44, 46] 2\n",
      "N22 idle 0,F:0,P:5 [0] 0\n",
      "N23 idle 0,F:0,P:3 [0] 0\n",
      "N24 idle 0,F:0,P:1 [0] 0\n",
      "N25 idle 0,F:0,P:0 [0] 0\n",
      "N26 idle 0,F:0,P:0 [0] 0\n",
      "55 ====================\n",
      "R1 assembling 0.11040000000000001,F:0,P:27 [0] 0\n",
      "N1 idle 0,F:0,P:48 [0] 0\n",
      "N2 idle 0,F:18,P:28 [0, 5, 7, 9, 11, 13, 19, 24, 26, 28, 30, 33, 35, 37, 39, 42, 44, 47, 49] 18\n",
      "N3 idle 0,F:11,P:33 [0, 10, 12, 19, 23, 25, 27, 34, 39, 41, 43, 45] 11\n",
      "N4 idle 0,F:2,P:40 [0, 19, 43] 2\n",
      "N5 idle 0,F:0,P:40 [0] 0\n",
      "N6 idle 0,F:0,P:38 [0] 0\n",
      "N7 idle 0,F:3,P:33 [0, 30, 32, 34] 3\n",
      "N8 idle 0,F:1,P:33 [0, 38] 1\n",
      "N9 idle 0,F:10,P:22 [0, 21, 23, 25, 30, 35, 38, 40, 42, 46, 48] 10\n",
      "N10 idle 0,F:10,P:20 [0, 21, 23, 25, 27, 30, 32, 36, 42, 44, 49] 10\n",
      "N11 idle 0,F:9,P:19 [0, 24, 26, 30, 34, 37, 41, 45, 47, 49] 9\n",
      "N12 idle 0,F:3,P:23 [0, 27, 42, 46] 3\n",
      "N13 idle 0,F:5,P:19 [0, 27, 29, 32, 35, 41] 5\n",
      "N14 idle 0,F:7,P:15 [0, 29, 31, 33, 40, 42, 46, 48] 7\n",
      "N15 idle 0,F:1,P:19 [0, 33] 1\n",
      "N16 idle 0,F:4,P:14 [0, 33, 41, 46, 48] 4\n",
      "N17 idle 0,F:5,P:11 [0, 36, 39, 43, 45, 48] 5\n",
      "N18 idle 0,F:5,P:9 [0, 39, 41, 44, 47, 49] 5\n",
      "N19 idle 0,F:0,P:12 [0] 0\n",
      "N20 idle 0,F:0,P:10 [0] 0\n",
      "N21 idle 0,F:2,P:5 [0, 44, 46] 2\n",
      "N22 idle 0,F:0,P:5 [0] 0\n",
      "N23 idle 0,F:0,P:3 [0] 0\n",
      "N24 idle 0,F:0,P:1 [0] 0\n",
      "N25 idle 0,F:0,P:0 [0] 0\n",
      "N26 idle 0,F:0,P:0 [0] 0\n",
      "N27 idle 0,F:0,P:0 [0] 0\n",
      "56 ====================\n",
      "R1 assembling 0.11040000000000001,F:0,P:27 [0] 0\n",
      "N1 idle 0,F:0,P:48 [0] 0\n",
      "N2 idle 0,F:18,P:28 [0, 5, 7, 9, 11, 13, 19, 24, 26, 28, 30, 33, 35, 37, 39, 42, 44, 47, 49] 18\n",
      "N3 idle 0,F:11,P:33 [0, 10, 12, 19, 23, 25, 27, 34, 39, 41, 43, 45] 11\n",
      "N4 idle 0,F:2,P:40 [0, 19, 43] 2\n",
      "N5 idle 0,F:0,P:40 [0] 0\n",
      "N6 idle 0,F:0,P:38 [0] 0\n",
      "N7 idle 0,F:3,P:33 [0, 30, 32, 34] 3\n",
      "N8 idle 0,F:1,P:33 [0, 38] 1\n",
      "N9 idle 0,F:10,P:22 [0, 21, 23, 25, 30, 35, 38, 40, 42, 46, 48] 10\n",
      "N10 idle 0,F:10,P:20 [0, 21, 23, 25, 27, 30, 32, 36, 42, 44, 49] 10\n",
      "N11 idle 0,F:9,P:19 [0, 24, 26, 30, 34, 37, 41, 45, 47, 49] 9\n",
      "N12 idle 0,F:3,P:23 [0, 27, 42, 46] 3\n",
      "N13 idle 0,F:5,P:19 [0, 27, 29, 32, 35, 41] 5\n",
      "N14 idle 0,F:7,P:15 [0, 29, 31, 33, 40, 42, 46, 48] 7\n",
      "N15 idle 0,F:1,P:19 [0, 33] 1\n",
      "N16 idle 0,F:4,P:14 [0, 33, 41, 46, 48] 4\n",
      "N17 idle 0,F:5,P:11 [0, 36, 39, 43, 45, 48] 5\n",
      "N18 idle 0,F:5,P:9 [0, 39, 41, 44, 47, 49] 5\n",
      "N19 idle 0,F:0,P:12 [0] 0\n",
      "N20 idle 0,F:0,P:10 [0] 0\n",
      "N21 idle 0,F:2,P:5 [0, 44, 46] 2\n",
      "N22 idle 0,F:0,P:5 [0] 0\n",
      "N23 idle 0,F:0,P:3 [0] 0\n",
      "N24 idle 0,F:0,P:1 [0] 0\n",
      "N25 idle 0,F:0,P:0 [0] 0\n",
      "N26 idle 0,F:0,P:0 [0] 0\n",
      "N27 idle 0,F:0,P:0 [0] 0\n",
      "57 ====================\n",
      "R1 assembling 0.1638,F:0,P:28 [0] 0\n",
      "N1 idle 0,F:0,P:48 [0] 0\n",
      "N2 idle 0,F:18,P:28 [0, 5, 7, 9, 11, 13, 19, 24, 26, 28, 30, 33, 35, 37, 39, 42, 44, 47, 49] 18\n",
      "N3 idle 0,F:11,P:33 [0, 10, 12, 19, 23, 25, 27, 34, 39, 41, 43, 45] 11\n",
      "N4 idle 0,F:2,P:40 [0, 19, 43] 2\n",
      "N5 idle 0,F:0,P:40 [0] 0\n",
      "N6 idle 0,F:0,P:38 [0] 0\n",
      "N7 idle 0,F:3,P:33 [0, 30, 32, 34] 3\n",
      "N8 idle 0,F:1,P:33 [0, 38] 1\n",
      "N9 idle 0,F:10,P:22 [0, 21, 23, 25, 30, 35, 38, 40, 42, 46, 48] 10\n",
      "N10 idle 0,F:10,P:20 [0, 21, 23, 25, 27, 30, 32, 36, 42, 44, 49] 10\n",
      "N11 idle 0,F:9,P:19 [0, 24, 26, 30, 34, 37, 41, 45, 47, 49] 9\n",
      "N12 idle 0,F:3,P:23 [0, 27, 42, 46] 3\n",
      "N13 idle 0,F:5,P:19 [0, 27, 29, 32, 35, 41] 5\n",
      "N14 idle 0,F:7,P:15 [0, 29, 31, 33, 40, 42, 46, 48] 7\n",
      "N15 idle 0,F:1,P:19 [0, 33] 1\n",
      "N16 idle 0,F:4,P:14 [0, 33, 41, 46, 48] 4\n",
      "N17 idle 0,F:5,P:11 [0, 36, 39, 43, 45, 48] 5\n",
      "N18 idle 0,F:5,P:9 [0, 39, 41, 44, 47, 49] 5\n",
      "N19 idle 0,F:0,P:12 [0] 0\n",
      "N20 idle 0,F:0,P:10 [0] 0\n",
      "N21 idle 0,F:2,P:5 [0, 44, 46] 2\n",
      "N22 idle 0,F:0,P:5 [0] 0\n",
      "N23 idle 0,F:0,P:3 [0] 0\n",
      "N24 idle 0,F:0,P:1 [0] 0\n",
      "N25 idle 0,F:0,P:0 [0] 0\n",
      "N26 idle 0,F:0,P:0 [0] 0\n",
      "N27 idle 0,F:0,P:0 [0] 0\n",
      "N28 idle 0,F:0,P:0 [0] 0\n",
      "58 ====================\n",
      "R1 assembling 0.1638,F:0,P:28 [0] 0\n",
      "N1 idle 0,F:0,P:48 [0] 0\n",
      "N2 idle 0,F:18,P:28 [0, 5, 7, 9, 11, 13, 19, 24, 26, 28, 30, 33, 35, 37, 39, 42, 44, 47, 49] 18\n",
      "N3 idle 0,F:11,P:33 [0, 10, 12, 19, 23, 25, 27, 34, 39, 41, 43, 45] 11\n",
      "N4 idle 0,F:2,P:40 [0, 19, 43] 2\n",
      "N5 idle 0,F:0,P:40 [0] 0\n",
      "N6 idle 0,F:0,P:38 [0] 0\n",
      "N7 idle 0,F:3,P:33 [0, 30, 32, 34] 3\n",
      "N8 idle 0,F:1,P:33 [0, 38] 1\n",
      "N9 idle 0,F:10,P:22 [0, 21, 23, 25, 30, 35, 38, 40, 42, 46, 48] 10\n",
      "N10 idle 0,F:10,P:20 [0, 21, 23, 25, 27, 30, 32, 36, 42, 44, 49] 10\n",
      "N11 idle 0,F:9,P:19 [0, 24, 26, 30, 34, 37, 41, 45, 47, 49] 9\n",
      "N12 idle 0,F:3,P:23 [0, 27, 42, 46] 3\n",
      "N13 idle 0,F:5,P:19 [0, 27, 29, 32, 35, 41] 5\n",
      "N14 idle 0,F:7,P:15 [0, 29, 31, 33, 40, 42, 46, 48] 7\n",
      "N15 idle 0,F:1,P:19 [0, 33] 1\n",
      "N16 idle 0,F:4,P:14 [0, 33, 41, 46, 48] 4\n",
      "N17 idle 0,F:5,P:11 [0, 36, 39, 43, 45, 48] 5\n",
      "N18 idle 0,F:5,P:9 [0, 39, 41, 44, 47, 49] 5\n",
      "N19 idle 0,F:0,P:12 [0] 0\n",
      "N20 idle 0,F:0,P:10 [0] 0\n",
      "N21 idle 0,F:2,P:5 [0, 44, 46] 2\n",
      "N22 idle 0,F:0,P:5 [0] 0\n",
      "N23 idle 0,F:0,P:3 [0] 0\n",
      "N24 idle 0,F:0,P:1 [0] 0\n",
      "N25 idle 0,F:0,P:0 [0] 0\n",
      "N26 idle 0,F:0,P:0 [0] 0\n",
      "N27 idle 0,F:0,P:0 [0] 0\n",
      "N28 idle 0,F:0,P:0 [0] 0\n",
      "59 ====================\n",
      "R1 assembling 0.17520000000000002,F:0,P:29 [0] 0\n",
      "N1 idle 0,F:0,P:48 [0] 0\n",
      "N2 idle 0,F:18,P:28 [0, 5, 7, 9, 11, 13, 19, 24, 26, 28, 30, 33, 35, 37, 39, 42, 44, 47, 49] 18\n",
      "N3 idle 0,F:11,P:33 [0, 10, 12, 19, 23, 25, 27, 34, 39, 41, 43, 45] 11\n",
      "N4 idle 0,F:2,P:40 [0, 19, 43] 2\n",
      "N5 idle 0,F:0,P:40 [0] 0\n",
      "N6 idle 0,F:0,P:38 [0] 0\n",
      "N7 idle 0,F:3,P:33 [0, 30, 32, 34] 3\n",
      "N8 idle 0,F:1,P:33 [0, 38] 1\n",
      "N9 idle 0,F:10,P:22 [0, 21, 23, 25, 30, 35, 38, 40, 42, 46, 48] 10\n",
      "N10 idle 0,F:10,P:20 [0, 21, 23, 25, 27, 30, 32, 36, 42, 44, 49] 10\n",
      "N11 idle 0,F:9,P:19 [0, 24, 26, 30, 34, 37, 41, 45, 47, 49] 9\n",
      "N12 idle 0,F:3,P:23 [0, 27, 42, 46] 3\n",
      "N13 idle 0,F:5,P:19 [0, 27, 29, 32, 35, 41] 5\n",
      "N14 idle 0,F:7,P:15 [0, 29, 31, 33, 40, 42, 46, 48] 7\n",
      "N15 idle 0,F:1,P:19 [0, 33] 1\n",
      "N16 idle 0,F:4,P:14 [0, 33, 41, 46, 48] 4\n",
      "N17 idle 0,F:5,P:11 [0, 36, 39, 43, 45, 48] 5\n",
      "N18 idle 0,F:5,P:9 [0, 39, 41, 44, 47, 49] 5\n",
      "N19 idle 0,F:0,P:12 [0] 0\n",
      "N20 idle 0,F:0,P:10 [0] 0\n",
      "N21 idle 0,F:2,P:5 [0, 44, 46] 2\n",
      "N22 idle 0,F:0,P:5 [0] 0\n",
      "N23 idle 0,F:0,P:3 [0] 0\n",
      "N24 idle 0,F:0,P:1 [0] 0\n",
      "N25 idle 0,F:0,P:0 [0] 0\n",
      "N26 idle 0,F:0,P:0 [0] 0\n",
      "N27 idle 0,F:0,P:0 [0] 0\n",
      "N28 idle 0,F:0,P:0 [0] 0\n",
      "N29 idle 0,F:0,P:0 [0] 0\n",
      "60 ====================\n",
      "R1 assembling 0.17520000000000002,F:0,P:29 [0] 0\n",
      "N1 idle 0,F:0,P:48 [0] 0\n",
      "N2 idle 0,F:18,P:28 [0, 5, 7, 9, 11, 13, 19, 24, 26, 28, 30, 33, 35, 37, 39, 42, 44, 47, 49] 18\n",
      "N3 idle 0,F:11,P:33 [0, 10, 12, 19, 23, 25, 27, 34, 39, 41, 43, 45] 11\n",
      "N4 idle 0,F:2,P:40 [0, 19, 43] 2\n",
      "N5 idle 0,F:0,P:40 [0] 0\n",
      "N6 idle 0,F:0,P:38 [0] 0\n",
      "N7 idle 0,F:3,P:33 [0, 30, 32, 34] 3\n",
      "N8 idle 0,F:1,P:33 [0, 38] 1\n",
      "N9 idle 0,F:10,P:22 [0, 21, 23, 25, 30, 35, 38, 40, 42, 46, 48] 10\n",
      "N10 idle 0,F:10,P:20 [0, 21, 23, 25, 27, 30, 32, 36, 42, 44, 49] 10\n",
      "N11 idle 0,F:9,P:19 [0, 24, 26, 30, 34, 37, 41, 45, 47, 49] 9\n",
      "N12 idle 0,F:3,P:23 [0, 27, 42, 46] 3\n",
      "N13 idle 0,F:5,P:19 [0, 27, 29, 32, 35, 41] 5\n",
      "N14 idle 0,F:7,P:15 [0, 29, 31, 33, 40, 42, 46, 48] 7\n",
      "N15 idle 0,F:1,P:19 [0, 33] 1\n",
      "N16 idle 0,F:4,P:14 [0, 33, 41, 46, 48] 4\n",
      "N17 idle 0,F:5,P:11 [0, 36, 39, 43, 45, 48] 5\n",
      "N18 idle 0,F:5,P:9 [0, 39, 41, 44, 47, 49] 5\n",
      "N19 idle 0,F:0,P:12 [0] 0\n",
      "N20 idle 0,F:0,P:10 [0] 0\n",
      "N21 idle 0,F:2,P:5 [0, 44, 46] 2\n",
      "N22 idle 0,F:0,P:5 [0] 0\n",
      "N23 idle 0,F:0,P:3 [0] 0\n",
      "N24 idle 0,F:0,P:1 [0] 0\n",
      "N25 idle 0,F:0,P:0 [0] 0\n",
      "N26 idle 0,F:0,P:0 [0] 0\n",
      "N27 idle 0,F:0,P:0 [0] 0\n",
      "N28 idle 0,F:0,P:0 [0] 0\n",
      "N29 idle 0,F:0,P:0 [0] 0\n",
      "61 ====================\n",
      "R1 assembling 0.04580000000000001,F:0,P:30 [0] 0\n",
      "N1 idle 0,F:0,P:48 [0] 0\n",
      "N2 idle 0,F:18,P:28 [0, 5, 7, 9, 11, 13, 19, 24, 26, 28, 30, 33, 35, 37, 39, 42, 44, 47, 49] 18\n",
      "N3 idle 0,F:11,P:33 [0, 10, 12, 19, 23, 25, 27, 34, 39, 41, 43, 45] 11\n",
      "N4 idle 0,F:2,P:40 [0, 19, 43] 2\n",
      "N5 idle 0,F:0,P:40 [0] 0\n",
      "N6 idle 0,F:0,P:38 [0] 0\n",
      "N7 idle 0,F:3,P:33 [0, 30, 32, 34] 3\n",
      "N8 idle 0,F:1,P:33 [0, 38] 1\n",
      "N9 idle 0,F:10,P:22 [0, 21, 23, 25, 30, 35, 38, 40, 42, 46, 48] 10\n",
      "N10 idle 0,F:10,P:20 [0, 21, 23, 25, 27, 30, 32, 36, 42, 44, 49] 10\n",
      "N11 idle 0,F:9,P:19 [0, 24, 26, 30, 34, 37, 41, 45, 47, 49] 9\n",
      "N12 idle 0,F:3,P:23 [0, 27, 42, 46] 3\n",
      "N13 idle 0,F:5,P:19 [0, 27, 29, 32, 35, 41] 5\n",
      "N14 idle 0,F:7,P:15 [0, 29, 31, 33, 40, 42, 46, 48] 7\n",
      "N15 idle 0,F:1,P:19 [0, 33] 1\n",
      "N16 idle 0,F:4,P:14 [0, 33, 41, 46, 48] 4\n",
      "N17 idle 0,F:5,P:11 [0, 36, 39, 43, 45, 48] 5\n",
      "N18 idle 0,F:5,P:9 [0, 39, 41, 44, 47, 49] 5\n",
      "N19 idle 0,F:0,P:12 [0] 0\n",
      "N20 idle 0,F:0,P:10 [0] 0\n",
      "N21 idle 0,F:2,P:5 [0, 44, 46] 2\n",
      "N22 idle 0,F:0,P:5 [0] 0\n",
      "N23 idle 0,F:0,P:3 [0] 0\n",
      "N24 idle 0,F:0,P:1 [0] 0\n",
      "N25 idle 0,F:0,P:0 [0] 0\n",
      "N26 idle 0,F:0,P:0 [0] 0\n",
      "N27 idle 0,F:0,P:0 [0] 0\n",
      "N28 idle 0,F:0,P:0 [0] 0\n",
      "N29 idle 0,F:0,P:0 [0] 0\n",
      "N30 idle 0,F:0,P:0 [0] 0\n",
      "62 ====================\n",
      "R1 assembling 0.04580000000000001,F:0,P:30 [0] 0\n",
      "N1 idle 0,F:0,P:48 [0] 0\n",
      "N2 idle 0,F:18,P:28 [0, 5, 7, 9, 11, 13, 19, 24, 26, 28, 30, 33, 35, 37, 39, 42, 44, 47, 49] 18\n",
      "N3 idle 0,F:11,P:33 [0, 10, 12, 19, 23, 25, 27, 34, 39, 41, 43, 45] 11\n",
      "N4 idle 0,F:2,P:40 [0, 19, 43] 2\n",
      "N5 idle 0,F:0,P:40 [0] 0\n",
      "N6 idle 0,F:0,P:38 [0] 0\n",
      "N7 idle 0,F:3,P:33 [0, 30, 32, 34] 3\n",
      "N8 idle 0,F:1,P:33 [0, 38] 1\n",
      "N9 idle 0,F:10,P:22 [0, 21, 23, 25, 30, 35, 38, 40, 42, 46, 48] 10\n",
      "N10 idle 0,F:10,P:20 [0, 21, 23, 25, 27, 30, 32, 36, 42, 44, 49] 10\n",
      "N11 idle 0,F:9,P:19 [0, 24, 26, 30, 34, 37, 41, 45, 47, 49] 9\n",
      "N12 idle 0,F:3,P:23 [0, 27, 42, 46] 3\n",
      "N13 idle 0,F:5,P:19 [0, 27, 29, 32, 35, 41] 5\n",
      "N14 idle 0,F:7,P:15 [0, 29, 31, 33, 40, 42, 46, 48] 7\n",
      "N15 idle 0,F:1,P:19 [0, 33] 1\n",
      "N16 idle 0,F:4,P:14 [0, 33, 41, 46, 48] 4\n",
      "N17 idle 0,F:5,P:11 [0, 36, 39, 43, 45, 48] 5\n",
      "N18 idle 0,F:5,P:9 [0, 39, 41, 44, 47, 49] 5\n",
      "N19 idle 0,F:0,P:12 [0] 0\n",
      "N20 idle 0,F:0,P:10 [0] 0\n",
      "N21 idle 0,F:2,P:5 [0, 44, 46] 2\n",
      "N22 idle 0,F:0,P:5 [0] 0\n",
      "N23 idle 0,F:0,P:3 [0] 0\n",
      "N24 idle 0,F:0,P:1 [0] 0\n",
      "N25 idle 0,F:0,P:0 [0] 0\n",
      "N26 idle 0,F:0,P:0 [0] 0\n",
      "N27 idle 0,F:0,P:0 [0] 0\n",
      "N28 idle 0,F:0,P:0 [0] 0\n",
      "N29 idle 0,F:0,P:0 [0] 0\n",
      "N30 idle 0,F:0,P:0 [0] 0\n",
      "63 ====================\n",
      "R1 assembling 0.0294,F:0,P:31 [0] 0\n",
      "N1 idle 0,F:0,P:48 [0] 0\n",
      "N2 idle 0,F:18,P:28 [0, 5, 7, 9, 11, 13, 19, 24, 26, 28, 30, 33, 35, 37, 39, 42, 44, 47, 49] 18\n",
      "N3 idle 0,F:11,P:33 [0, 10, 12, 19, 23, 25, 27, 34, 39, 41, 43, 45] 11\n",
      "N4 idle 0,F:2,P:40 [0, 19, 43] 2\n",
      "N5 idle 0,F:0,P:40 [0] 0\n",
      "N6 idle 0,F:0,P:38 [0] 0\n",
      "N7 idle 0,F:3,P:33 [0, 30, 32, 34] 3\n",
      "N8 idle 0,F:1,P:33 [0, 38] 1\n",
      "N9 idle 0,F:10,P:22 [0, 21, 23, 25, 30, 35, 38, 40, 42, 46, 48] 10\n",
      "N10 idle 0,F:10,P:20 [0, 21, 23, 25, 27, 30, 32, 36, 42, 44, 49] 10\n",
      "N11 idle 0,F:9,P:19 [0, 24, 26, 30, 34, 37, 41, 45, 47, 49] 9\n",
      "N12 idle 0,F:3,P:23 [0, 27, 42, 46] 3\n",
      "N13 idle 0,F:5,P:19 [0, 27, 29, 32, 35, 41] 5\n",
      "N14 idle 0,F:7,P:15 [0, 29, 31, 33, 40, 42, 46, 48] 7\n",
      "N15 idle 0,F:1,P:19 [0, 33] 1\n",
      "N16 idle 0,F:4,P:14 [0, 33, 41, 46, 48] 4\n",
      "N17 idle 0,F:5,P:11 [0, 36, 39, 43, 45, 48] 5\n",
      "N18 idle 0,F:5,P:9 [0, 39, 41, 44, 47, 49] 5\n",
      "N19 idle 0,F:0,P:12 [0] 0\n",
      "N20 idle 0,F:0,P:10 [0] 0\n",
      "N21 idle 0,F:2,P:5 [0, 44, 46] 2\n",
      "N22 idle 0,F:0,P:5 [0] 0\n",
      "N23 idle 0,F:0,P:3 [0] 0\n",
      "N24 idle 0,F:0,P:1 [0] 0\n",
      "N25 idle 0,F:0,P:0 [0] 0\n",
      "N26 idle 0,F:0,P:0 [0] 0\n",
      "N27 idle 0,F:0,P:0 [0] 0\n",
      "N28 idle 0,F:0,P:0 [0] 0\n",
      "N29 idle 0,F:0,P:0 [0] 0\n",
      "N30 idle 0,F:0,P:0 [0] 0\n",
      "N31 idle 0,F:0,P:0 [0] 0\n",
      "64 ====================\n",
      "R1 assembling 0.0294,F:0,P:31 [0] 0\n",
      "N1 idle 0,F:0,P:48 [0] 0\n",
      "N2 idle 0,F:18,P:28 [0, 5, 7, 9, 11, 13, 19, 24, 26, 28, 30, 33, 35, 37, 39, 42, 44, 47, 49] 18\n",
      "N3 idle 0,F:11,P:33 [0, 10, 12, 19, 23, 25, 27, 34, 39, 41, 43, 45] 11\n",
      "N4 idle 0,F:2,P:40 [0, 19, 43] 2\n",
      "N5 idle 0,F:0,P:40 [0] 0\n",
      "N6 idle 0,F:0,P:38 [0] 0\n",
      "N7 idle 0,F:3,P:33 [0, 30, 32, 34] 3\n",
      "N8 idle 0,F:1,P:33 [0, 38] 1\n",
      "N9 idle 0,F:10,P:22 [0, 21, 23, 25, 30, 35, 38, 40, 42, 46, 48] 10\n",
      "N10 idle 0,F:10,P:20 [0, 21, 23, 25, 27, 30, 32, 36, 42, 44, 49] 10\n",
      "N11 idle 0,F:9,P:19 [0, 24, 26, 30, 34, 37, 41, 45, 47, 49] 9\n",
      "N12 idle 0,F:3,P:23 [0, 27, 42, 46] 3\n",
      "N13 idle 0,F:5,P:19 [0, 27, 29, 32, 35, 41] 5\n",
      "N14 idle 0,F:7,P:15 [0, 29, 31, 33, 40, 42, 46, 48] 7\n",
      "N15 idle 0,F:1,P:19 [0, 33] 1\n",
      "N16 idle 0,F:4,P:14 [0, 33, 41, 46, 48] 4\n",
      "N17 idle 0,F:5,P:11 [0, 36, 39, 43, 45, 48] 5\n",
      "N18 idle 0,F:5,P:9 [0, 39, 41, 44, 47, 49] 5\n",
      "N19 idle 0,F:0,P:12 [0] 0\n",
      "N20 idle 0,F:0,P:10 [0] 0\n",
      "N21 idle 0,F:2,P:5 [0, 44, 46] 2\n",
      "N22 idle 0,F:0,P:5 [0] 0\n",
      "N23 idle 0,F:0,P:3 [0] 0\n",
      "N24 idle 0,F:0,P:1 [0] 0\n",
      "N25 idle 0,F:0,P:0 [0] 0\n",
      "N26 idle 0,F:0,P:0 [0] 0\n",
      "N27 idle 0,F:0,P:0 [0] 0\n",
      "N28 idle 0,F:0,P:0 [0] 0\n",
      "N29 idle 0,F:0,P:0 [0] 0\n",
      "N30 idle 0,F:0,P:0 [0] 0\n",
      "N31 idle 0,F:0,P:0 [0] 0\n",
      "65 ====================\n",
      "R1 assembling 0.1844,F:0,P:32 [0] 0\n",
      "N1 idle 0,F:0,P:48 [0] 0\n",
      "N2 idle 0,F:18,P:28 [0, 5, 7, 9, 11, 13, 19, 24, 26, 28, 30, 33, 35, 37, 39, 42, 44, 47, 49] 18\n",
      "N3 idle 0,F:11,P:33 [0, 10, 12, 19, 23, 25, 27, 34, 39, 41, 43, 45] 11\n",
      "N4 idle 0,F:2,P:40 [0, 19, 43] 2\n",
      "N5 idle 0,F:0,P:40 [0] 0\n",
      "N6 idle 0,F:0,P:38 [0] 0\n",
      "N7 idle 0,F:3,P:33 [0, 30, 32, 34] 3\n",
      "N8 idle 0,F:1,P:33 [0, 38] 1\n",
      "N9 idle 0,F:10,P:22 [0, 21, 23, 25, 30, 35, 38, 40, 42, 46, 48] 10\n",
      "N10 idle 0,F:10,P:20 [0, 21, 23, 25, 27, 30, 32, 36, 42, 44, 49] 10\n",
      "N11 idle 0,F:9,P:19 [0, 24, 26, 30, 34, 37, 41, 45, 47, 49] 9\n",
      "N12 idle 0,F:3,P:23 [0, 27, 42, 46] 3\n",
      "N13 idle 0,F:5,P:19 [0, 27, 29, 32, 35, 41] 5\n",
      "N14 idle 0,F:7,P:15 [0, 29, 31, 33, 40, 42, 46, 48] 7\n",
      "N15 idle 0,F:1,P:19 [0, 33] 1\n",
      "N16 idle 0,F:4,P:14 [0, 33, 41, 46, 48] 4\n",
      "N17 idle 0,F:5,P:11 [0, 36, 39, 43, 45, 48] 5\n",
      "N18 idle 0,F:5,P:9 [0, 39, 41, 44, 47, 49] 5\n",
      "N19 idle 0,F:0,P:12 [0] 0\n",
      "N20 idle 0,F:0,P:10 [0] 0\n",
      "N21 idle 0,F:2,P:5 [0, 44, 46] 2\n",
      "N22 idle 0,F:0,P:5 [0] 0\n",
      "N23 idle 0,F:0,P:3 [0] 0\n",
      "N24 idle 0,F:0,P:1 [0] 0\n",
      "N25 idle 0,F:0,P:0 [0] 0\n",
      "N26 idle 0,F:0,P:0 [0] 0\n",
      "N27 idle 0,F:0,P:0 [0] 0\n",
      "N28 idle 0,F:0,P:0 [0] 0\n",
      "N29 idle 0,F:0,P:0 [0] 0\n",
      "N30 idle 0,F:0,P:0 [0] 0\n",
      "N31 idle 0,F:0,P:0 [0] 0\n",
      "N32 idle 0,F:0,P:0 [0] 0\n",
      "66 ====================\n",
      "R1 assembling 0.1844,F:0,P:32 [0] 0\n",
      "N1 idle 0,F:0,P:48 [0] 0\n",
      "N2 idle 0,F:18,P:28 [0, 5, 7, 9, 11, 13, 19, 24, 26, 28, 30, 33, 35, 37, 39, 42, 44, 47, 49] 18\n",
      "N3 idle 0,F:11,P:33 [0, 10, 12, 19, 23, 25, 27, 34, 39, 41, 43, 45] 11\n",
      "N4 idle 0,F:2,P:40 [0, 19, 43] 2\n",
      "N5 idle 0,F:0,P:40 [0] 0\n",
      "N6 idle 0,F:0,P:38 [0] 0\n",
      "N7 idle 0,F:3,P:33 [0, 30, 32, 34] 3\n",
      "N8 idle 0,F:1,P:33 [0, 38] 1\n",
      "N9 idle 0,F:10,P:22 [0, 21, 23, 25, 30, 35, 38, 40, 42, 46, 48] 10\n",
      "N10 idle 0,F:10,P:20 [0, 21, 23, 25, 27, 30, 32, 36, 42, 44, 49] 10\n",
      "N11 idle 0,F:9,P:19 [0, 24, 26, 30, 34, 37, 41, 45, 47, 49] 9\n",
      "N12 idle 0,F:3,P:23 [0, 27, 42, 46] 3\n",
      "N13 idle 0,F:5,P:19 [0, 27, 29, 32, 35, 41] 5\n",
      "N14 idle 0,F:7,P:15 [0, 29, 31, 33, 40, 42, 46, 48] 7\n",
      "N15 idle 0,F:1,P:19 [0, 33] 1\n",
      "N16 idle 0,F:4,P:14 [0, 33, 41, 46, 48] 4\n",
      "N17 idle 0,F:5,P:11 [0, 36, 39, 43, 45, 48] 5\n",
      "N18 idle 0,F:5,P:9 [0, 39, 41, 44, 47, 49] 5\n",
      "N19 idle 0,F:0,P:12 [0] 0\n",
      "N20 idle 0,F:0,P:10 [0] 0\n",
      "N21 idle 0,F:2,P:5 [0, 44, 46] 2\n",
      "N22 idle 0,F:0,P:5 [0] 0\n",
      "N23 idle 0,F:0,P:3 [0] 0\n",
      "N24 idle 0,F:0,P:1 [0] 0\n",
      "N25 idle 0,F:0,P:0 [0] 0\n",
      "N26 idle 0,F:0,P:0 [0] 0\n",
      "N27 idle 0,F:0,P:0 [0] 0\n",
      "N28 idle 0,F:0,P:0 [0] 0\n",
      "N29 idle 0,F:0,P:0 [0] 0\n",
      "N30 idle 0,F:0,P:0 [0] 0\n",
      "N31 idle 0,F:0,P:0 [0] 0\n",
      "N32 idle 0,F:0,P:0 [0] 0\n",
      "67 ====================\n",
      "R1 assembling 0.1458,F:0,P:33 [0] 0\n",
      "N1 idle 0,F:0,P:48 [0] 0\n",
      "N2 idle 0,F:18,P:28 [0, 5, 7, 9, 11, 13, 19, 24, 26, 28, 30, 33, 35, 37, 39, 42, 44, 47, 49] 18\n",
      "N3 idle 0,F:11,P:33 [0, 10, 12, 19, 23, 25, 27, 34, 39, 41, 43, 45] 11\n",
      "N4 idle 0,F:2,P:40 [0, 19, 43] 2\n",
      "N5 idle 0,F:0,P:40 [0] 0\n",
      "N6 idle 0,F:0,P:38 [0] 0\n",
      "N7 idle 0,F:3,P:33 [0, 30, 32, 34] 3\n",
      "N8 idle 0,F:1,P:33 [0, 38] 1\n",
      "N9 idle 0,F:10,P:22 [0, 21, 23, 25, 30, 35, 38, 40, 42, 46, 48] 10\n",
      "N10 idle 0,F:10,P:20 [0, 21, 23, 25, 27, 30, 32, 36, 42, 44, 49] 10\n",
      "N11 idle 0,F:9,P:19 [0, 24, 26, 30, 34, 37, 41, 45, 47, 49] 9\n",
      "N12 idle 0,F:3,P:23 [0, 27, 42, 46] 3\n",
      "N13 idle 0,F:5,P:19 [0, 27, 29, 32, 35, 41] 5\n",
      "N14 idle 0,F:7,P:15 [0, 29, 31, 33, 40, 42, 46, 48] 7\n",
      "N15 idle 0,F:1,P:19 [0, 33] 1\n",
      "N16 idle 0,F:4,P:14 [0, 33, 41, 46, 48] 4\n",
      "N17 idle 0,F:5,P:11 [0, 36, 39, 43, 45, 48] 5\n",
      "N18 idle 0,F:5,P:9 [0, 39, 41, 44, 47, 49] 5\n",
      "N19 idle 0,F:0,P:12 [0] 0\n",
      "N20 idle 0,F:0,P:10 [0] 0\n",
      "N21 idle 0,F:2,P:5 [0, 44, 46] 2\n",
      "N22 idle 0,F:0,P:5 [0] 0\n",
      "N23 idle 0,F:0,P:3 [0] 0\n",
      "N24 idle 0,F:0,P:1 [0] 0\n",
      "N25 idle 0,F:0,P:0 [0] 0\n",
      "N26 idle 0,F:0,P:0 [0] 0\n",
      "N27 idle 0,F:0,P:0 [0] 0\n",
      "N28 idle 0,F:0,P:0 [0] 0\n",
      "N29 idle 0,F:0,P:0 [0] 0\n",
      "N30 idle 0,F:0,P:0 [0] 0\n",
      "N31 idle 0,F:0,P:0 [0] 0\n",
      "N32 idle 0,F:0,P:0 [0] 0\n",
      "N33 idle 0,F:0,P:0 [0] 0\n",
      "68 ====================\n",
      "R1 assembling 0.1458,F:0,P:33 [0] 0\n",
      "N1 idle 0,F:0,P:48 [0] 0\n",
      "N2 idle 0,F:18,P:28 [0, 5, 7, 9, 11, 13, 19, 24, 26, 28, 30, 33, 35, 37, 39, 42, 44, 47, 49] 18\n",
      "N3 idle 0,F:11,P:33 [0, 10, 12, 19, 23, 25, 27, 34, 39, 41, 43, 45] 11\n",
      "N4 idle 0,F:2,P:40 [0, 19, 43] 2\n",
      "N5 idle 0,F:0,P:40 [0] 0\n",
      "N6 idle 0,F:0,P:38 [0] 0\n",
      "N7 idle 0,F:3,P:33 [0, 30, 32, 34] 3\n",
      "N8 idle 0,F:1,P:33 [0, 38] 1\n",
      "N9 idle 0,F:10,P:22 [0, 21, 23, 25, 30, 35, 38, 40, 42, 46, 48] 10\n",
      "N10 idle 0,F:10,P:20 [0, 21, 23, 25, 27, 30, 32, 36, 42, 44, 49] 10\n",
      "N11 idle 0,F:9,P:19 [0, 24, 26, 30, 34, 37, 41, 45, 47, 49] 9\n",
      "N12 idle 0,F:3,P:23 [0, 27, 42, 46] 3\n",
      "N13 idle 0,F:5,P:19 [0, 27, 29, 32, 35, 41] 5\n",
      "N14 idle 0,F:7,P:15 [0, 29, 31, 33, 40, 42, 46, 48] 7\n",
      "N15 idle 0,F:1,P:19 [0, 33] 1\n",
      "N16 idle 0,F:4,P:14 [0, 33, 41, 46, 48] 4\n",
      "N17 idle 0,F:5,P:11 [0, 36, 39, 43, 45, 48] 5\n",
      "N18 idle 0,F:5,P:9 [0, 39, 41, 44, 47, 49] 5\n",
      "N19 idle 0,F:0,P:12 [0] 0\n",
      "N20 idle 0,F:0,P:10 [0] 0\n",
      "N21 idle 0,F:2,P:5 [0, 44, 46] 2\n",
      "N22 idle 0,F:0,P:5 [0] 0\n",
      "N23 idle 0,F:0,P:3 [0] 0\n",
      "N24 idle 0,F:0,P:1 [0] 0\n",
      "N25 idle 0,F:0,P:0 [0] 0\n",
      "N26 idle 0,F:0,P:0 [0] 0\n",
      "N27 idle 0,F:0,P:0 [0] 0\n",
      "N28 idle 0,F:0,P:0 [0] 0\n",
      "N29 idle 0,F:0,P:0 [0] 0\n",
      "N30 idle 0,F:0,P:0 [0] 0\n",
      "N31 idle 0,F:0,P:0 [0] 0\n",
      "N32 idle 0,F:0,P:0 [0] 0\n",
      "N33 idle 0,F:0,P:0 [0] 0\n",
      "69 ====================\n",
      "R1 assembling 0.0952,F:0,P:34 [0] 0\n",
      "N1 idle 0,F:0,P:48 [0] 0\n",
      "N2 idle 0,F:18,P:28 [0, 5, 7, 9, 11, 13, 19, 24, 26, 28, 30, 33, 35, 37, 39, 42, 44, 47, 49] 18\n",
      "N3 idle 0,F:11,P:33 [0, 10, 12, 19, 23, 25, 27, 34, 39, 41, 43, 45] 11\n",
      "N4 idle 0,F:2,P:40 [0, 19, 43] 2\n",
      "N5 idle 0,F:0,P:40 [0] 0\n",
      "N6 idle 0,F:0,P:38 [0] 0\n",
      "N7 idle 0,F:3,P:33 [0, 30, 32, 34] 3\n",
      "N8 idle 0,F:1,P:33 [0, 38] 1\n",
      "N9 idle 0,F:10,P:22 [0, 21, 23, 25, 30, 35, 38, 40, 42, 46, 48] 10\n",
      "N10 idle 0,F:10,P:20 [0, 21, 23, 25, 27, 30, 32, 36, 42, 44, 49] 10\n",
      "N11 idle 0,F:9,P:19 [0, 24, 26, 30, 34, 37, 41, 45, 47, 49] 9\n",
      "N12 idle 0,F:3,P:23 [0, 27, 42, 46] 3\n",
      "N13 idle 0,F:5,P:19 [0, 27, 29, 32, 35, 41] 5\n",
      "N14 idle 0,F:7,P:15 [0, 29, 31, 33, 40, 42, 46, 48] 7\n",
      "N15 idle 0,F:1,P:19 [0, 33] 1\n",
      "N16 idle 0,F:4,P:14 [0, 33, 41, 46, 48] 4\n",
      "N17 idle 0,F:5,P:11 [0, 36, 39, 43, 45, 48] 5\n",
      "N18 idle 0,F:5,P:9 [0, 39, 41, 44, 47, 49] 5\n",
      "N19 idle 0,F:0,P:12 [0] 0\n",
      "N20 idle 0,F:0,P:10 [0] 0\n",
      "N21 idle 0,F:2,P:5 [0, 44, 46] 2\n",
      "N22 idle 0,F:0,P:5 [0] 0\n",
      "N23 idle 0,F:0,P:3 [0] 0\n",
      "N24 idle 0,F:0,P:1 [0] 0\n",
      "N25 idle 0,F:0,P:0 [0] 0\n",
      "N26 idle 0,F:0,P:0 [0] 0\n",
      "N27 idle 0,F:0,P:0 [0] 0\n",
      "N28 idle 0,F:0,P:0 [0] 0\n",
      "N29 idle 0,F:0,P:0 [0] 0\n",
      "N30 idle 0,F:0,P:0 [0] 0\n",
      "N31 idle 0,F:0,P:0 [0] 0\n",
      "N32 idle 0,F:0,P:0 [0] 0\n",
      "N33 idle 0,F:0,P:0 [0] 0\n",
      "N34 idle 0,F:0,P:0 [0] 0\n",
      "70 ====================\n",
      "R1 assembling 0.0952,F:0,P:34 [0] 0\n",
      "N1 idle 0,F:0,P:48 [0] 0\n",
      "N2 idle 0,F:18,P:28 [0, 5, 7, 9, 11, 13, 19, 24, 26, 28, 30, 33, 35, 37, 39, 42, 44, 47, 49] 18\n",
      "N3 idle 0,F:11,P:33 [0, 10, 12, 19, 23, 25, 27, 34, 39, 41, 43, 45] 11\n",
      "N4 idle 0,F:2,P:40 [0, 19, 43] 2\n",
      "N5 idle 0,F:0,P:40 [0] 0\n",
      "N6 idle 0,F:0,P:38 [0] 0\n",
      "N7 idle 0,F:3,P:33 [0, 30, 32, 34] 3\n",
      "N8 idle 0,F:1,P:33 [0, 38] 1\n",
      "N9 idle 0,F:10,P:22 [0, 21, 23, 25, 30, 35, 38, 40, 42, 46, 48] 10\n",
      "N10 idle 0,F:10,P:20 [0, 21, 23, 25, 27, 30, 32, 36, 42, 44, 49] 10\n",
      "N11 idle 0,F:9,P:19 [0, 24, 26, 30, 34, 37, 41, 45, 47, 49] 9\n",
      "N12 idle 0,F:3,P:23 [0, 27, 42, 46] 3\n",
      "N13 idle 0,F:5,P:19 [0, 27, 29, 32, 35, 41] 5\n",
      "N14 idle 0,F:7,P:15 [0, 29, 31, 33, 40, 42, 46, 48] 7\n",
      "N15 idle 0,F:1,P:19 [0, 33] 1\n",
      "N16 idle 0,F:4,P:14 [0, 33, 41, 46, 48] 4\n",
      "N17 idle 0,F:5,P:11 [0, 36, 39, 43, 45, 48] 5\n",
      "N18 idle 0,F:5,P:9 [0, 39, 41, 44, 47, 49] 5\n",
      "N19 idle 0,F:0,P:12 [0] 0\n",
      "N20 idle 0,F:0,P:10 [0] 0\n",
      "N21 idle 0,F:2,P:5 [0, 44, 46] 2\n",
      "N22 idle 0,F:0,P:5 [0] 0\n",
      "N23 idle 0,F:0,P:3 [0] 0\n",
      "N24 idle 0,F:0,P:1 [0] 0\n",
      "N25 idle 0,F:0,P:0 [0] 0\n",
      "N26 idle 0,F:0,P:0 [0] 0\n",
      "N27 idle 0,F:0,P:0 [0] 0\n",
      "N28 idle 0,F:0,P:0 [0] 0\n",
      "N29 idle 0,F:0,P:0 [0] 0\n",
      "N30 idle 0,F:0,P:0 [0] 0\n",
      "N31 idle 0,F:0,P:0 [0] 0\n",
      "N32 idle 0,F:0,P:0 [0] 0\n",
      "N33 idle 0,F:0,P:0 [0] 0\n",
      "N34 idle 0,F:0,P:0 [0] 0\n",
      "71 ====================\n",
      "R1 assembling 0.1836,F:0,P:35 [0] 0\n",
      "N1 idle 0,F:0,P:48 [0] 0\n",
      "N2 idle 0,F:18,P:28 [0, 5, 7, 9, 11, 13, 19, 24, 26, 28, 30, 33, 35, 37, 39, 42, 44, 47, 49] 18\n",
      "N3 idle 0,F:11,P:33 [0, 10, 12, 19, 23, 25, 27, 34, 39, 41, 43, 45] 11\n",
      "N4 idle 0,F:2,P:40 [0, 19, 43] 2\n",
      "N5 idle 0,F:0,P:40 [0] 0\n",
      "N6 idle 0,F:0,P:38 [0] 0\n",
      "N7 idle 0,F:3,P:33 [0, 30, 32, 34] 3\n",
      "N8 idle 0,F:1,P:33 [0, 38] 1\n",
      "N9 idle 0,F:10,P:22 [0, 21, 23, 25, 30, 35, 38, 40, 42, 46, 48] 10\n",
      "N10 idle 0,F:10,P:20 [0, 21, 23, 25, 27, 30, 32, 36, 42, 44, 49] 10\n",
      "N11 idle 0,F:9,P:19 [0, 24, 26, 30, 34, 37, 41, 45, 47, 49] 9\n",
      "N12 idle 0,F:3,P:23 [0, 27, 42, 46] 3\n",
      "N13 idle 0,F:5,P:19 [0, 27, 29, 32, 35, 41] 5\n",
      "N14 idle 0,F:7,P:15 [0, 29, 31, 33, 40, 42, 46, 48] 7\n",
      "N15 idle 0,F:1,P:19 [0, 33] 1\n",
      "N16 idle 0,F:4,P:14 [0, 33, 41, 46, 48] 4\n",
      "N17 idle 0,F:5,P:11 [0, 36, 39, 43, 45, 48] 5\n",
      "N18 idle 0,F:5,P:9 [0, 39, 41, 44, 47, 49] 5\n",
      "N19 idle 0,F:0,P:12 [0] 0\n",
      "N20 idle 0,F:0,P:10 [0] 0\n",
      "N21 idle 0,F:2,P:5 [0, 44, 46] 2\n",
      "N22 idle 0,F:0,P:5 [0] 0\n",
      "N23 idle 0,F:0,P:3 [0] 0\n",
      "N24 idle 0,F:0,P:1 [0] 0\n",
      "N25 idle 0,F:0,P:0 [0] 0\n",
      "N26 idle 0,F:0,P:0 [0] 0\n",
      "N27 idle 0,F:0,P:0 [0] 0\n",
      "N28 idle 0,F:0,P:0 [0] 0\n",
      "N29 idle 0,F:0,P:0 [0] 0\n",
      "N30 idle 0,F:0,P:0 [0] 0\n",
      "N31 idle 0,F:0,P:0 [0] 0\n",
      "N32 idle 0,F:0,P:0 [0] 0\n",
      "N33 idle 0,F:0,P:0 [0] 0\n",
      "N34 idle 0,F:0,P:0 [0] 0\n",
      "N35 idle 0,F:0,P:0 [0] 0\n",
      "72 ====================\n",
      "R1 assembling 0.1836,F:0,P:35 [0] 0\n",
      "N1 idle 0,F:0,P:48 [0] 0\n",
      "N2 idle 0,F:18,P:28 [0, 5, 7, 9, 11, 13, 19, 24, 26, 28, 30, 33, 35, 37, 39, 42, 44, 47, 49] 18\n",
      "N3 idle 0,F:11,P:33 [0, 10, 12, 19, 23, 25, 27, 34, 39, 41, 43, 45] 11\n",
      "N4 idle 0,F:2,P:40 [0, 19, 43] 2\n",
      "N5 idle 0,F:0,P:40 [0] 0\n",
      "N6 idle 0,F:0,P:38 [0] 0\n",
      "N7 idle 0,F:3,P:33 [0, 30, 32, 34] 3\n",
      "N8 idle 0,F:1,P:33 [0, 38] 1\n",
      "N9 idle 0,F:10,P:22 [0, 21, 23, 25, 30, 35, 38, 40, 42, 46, 48] 10\n",
      "N10 idle 0,F:10,P:20 [0, 21, 23, 25, 27, 30, 32, 36, 42, 44, 49] 10\n",
      "N11 idle 0,F:9,P:19 [0, 24, 26, 30, 34, 37, 41, 45, 47, 49] 9\n",
      "N12 idle 0,F:3,P:23 [0, 27, 42, 46] 3\n",
      "N13 idle 0,F:5,P:19 [0, 27, 29, 32, 35, 41] 5\n",
      "N14 idle 0,F:7,P:15 [0, 29, 31, 33, 40, 42, 46, 48] 7\n",
      "N15 idle 0,F:1,P:19 [0, 33] 1\n",
      "N16 idle 0,F:4,P:14 [0, 33, 41, 46, 48] 4\n",
      "N17 idle 0,F:5,P:11 [0, 36, 39, 43, 45, 48] 5\n",
      "N18 idle 0,F:5,P:9 [0, 39, 41, 44, 47, 49] 5\n",
      "N19 idle 0,F:0,P:12 [0] 0\n",
      "N20 idle 0,F:0,P:10 [0] 0\n",
      "N21 idle 0,F:2,P:5 [0, 44, 46] 2\n",
      "N22 idle 0,F:0,P:5 [0] 0\n",
      "N23 idle 0,F:0,P:3 [0] 0\n",
      "N24 idle 0,F:0,P:1 [0] 0\n",
      "N25 idle 0,F:0,P:0 [0] 0\n",
      "N26 idle 0,F:0,P:0 [0] 0\n",
      "N27 idle 0,F:0,P:0 [0] 0\n",
      "N28 idle 0,F:0,P:0 [0] 0\n",
      "N29 idle 0,F:0,P:0 [0] 0\n",
      "N30 idle 0,F:0,P:0 [0] 0\n",
      "N31 idle 0,F:0,P:0 [0] 0\n",
      "N32 idle 0,F:0,P:0 [0] 0\n",
      "N33 idle 0,F:0,P:0 [0] 0\n",
      "N34 idle 0,F:0,P:0 [0] 0\n",
      "N35 idle 0,F:0,P:0 [0] 0\n",
      "73 ====================\n",
      "R1 assembling 0.044000000000000004,F:0,P:36 [0] 0\n",
      "N1 idle 0,F:0,P:48 [0] 0\n",
      "N2 idle 0,F:18,P:28 [0, 5, 7, 9, 11, 13, 19, 24, 26, 28, 30, 33, 35, 37, 39, 42, 44, 47, 49] 18\n",
      "N3 idle 0,F:11,P:33 [0, 10, 12, 19, 23, 25, 27, 34, 39, 41, 43, 45] 11\n",
      "N4 idle 0,F:2,P:40 [0, 19, 43] 2\n",
      "N5 idle 0,F:0,P:40 [0] 0\n",
      "N6 idle 0,F:0,P:38 [0] 0\n",
      "N7 idle 0,F:3,P:33 [0, 30, 32, 34] 3\n",
      "N8 idle 0,F:1,P:33 [0, 38] 1\n",
      "N9 idle 0,F:10,P:22 [0, 21, 23, 25, 30, 35, 38, 40, 42, 46, 48] 10\n",
      "N10 idle 0,F:10,P:20 [0, 21, 23, 25, 27, 30, 32, 36, 42, 44, 49] 10\n",
      "N11 idle 0,F:9,P:19 [0, 24, 26, 30, 34, 37, 41, 45, 47, 49] 9\n",
      "N12 idle 0,F:3,P:23 [0, 27, 42, 46] 3\n",
      "N13 idle 0,F:5,P:19 [0, 27, 29, 32, 35, 41] 5\n",
      "N14 idle 0,F:7,P:15 [0, 29, 31, 33, 40, 42, 46, 48] 7\n",
      "N15 idle 0,F:1,P:19 [0, 33] 1\n",
      "N16 idle 0,F:4,P:14 [0, 33, 41, 46, 48] 4\n",
      "N17 idle 0,F:5,P:11 [0, 36, 39, 43, 45, 48] 5\n",
      "N18 idle 0,F:5,P:9 [0, 39, 41, 44, 47, 49] 5\n",
      "N19 idle 0,F:0,P:12 [0] 0\n",
      "N20 idle 0,F:0,P:10 [0] 0\n",
      "N21 idle 0,F:2,P:5 [0, 44, 46] 2\n",
      "N22 idle 0,F:0,P:5 [0] 0\n",
      "N23 idle 0,F:0,P:3 [0] 0\n",
      "N24 idle 0,F:0,P:1 [0] 0\n",
      "N25 idle 0,F:0,P:0 [0] 0\n",
      "N26 idle 0,F:0,P:0 [0] 0\n",
      "N27 idle 0,F:0,P:0 [0] 0\n",
      "N28 idle 0,F:0,P:0 [0] 0\n",
      "N29 idle 0,F:0,P:0 [0] 0\n",
      "N30 idle 0,F:0,P:0 [0] 0\n",
      "N31 idle 0,F:0,P:0 [0] 0\n",
      "N32 idle 0,F:0,P:0 [0] 0\n",
      "N33 idle 0,F:0,P:0 [0] 0\n",
      "N34 idle 0,F:0,P:0 [0] 0\n",
      "N35 idle 0,F:0,P:0 [0] 0\n",
      "N36 idle 0,F:0,P:0 [0] 0\n",
      "74 ====================\n",
      "R1 assembling 0.044000000000000004,F:0,P:36 [0] 0\n",
      "N1 idle 0,F:0,P:48 [0] 0\n",
      "N2 idle 0,F:18,P:28 [0, 5, 7, 9, 11, 13, 19, 24, 26, 28, 30, 33, 35, 37, 39, 42, 44, 47, 49] 18\n",
      "N3 idle 0,F:11,P:33 [0, 10, 12, 19, 23, 25, 27, 34, 39, 41, 43, 45] 11\n",
      "N4 idle 0,F:2,P:40 [0, 19, 43] 2\n",
      "N5 idle 0,F:0,P:40 [0] 0\n",
      "N6 idle 0,F:0,P:38 [0] 0\n",
      "N7 idle 0,F:3,P:33 [0, 30, 32, 34] 3\n",
      "N8 idle 0,F:1,P:33 [0, 38] 1\n",
      "N9 idle 0,F:10,P:22 [0, 21, 23, 25, 30, 35, 38, 40, 42, 46, 48] 10\n",
      "N10 idle 0,F:10,P:20 [0, 21, 23, 25, 27, 30, 32, 36, 42, 44, 49] 10\n",
      "N11 idle 0,F:9,P:19 [0, 24, 26, 30, 34, 37, 41, 45, 47, 49] 9\n",
      "N12 idle 0,F:3,P:23 [0, 27, 42, 46] 3\n",
      "N13 idle 0,F:5,P:19 [0, 27, 29, 32, 35, 41] 5\n",
      "N14 idle 0,F:7,P:15 [0, 29, 31, 33, 40, 42, 46, 48] 7\n",
      "N15 idle 0,F:1,P:19 [0, 33] 1\n",
      "N16 idle 0,F:4,P:14 [0, 33, 41, 46, 48] 4\n",
      "N17 idle 0,F:5,P:11 [0, 36, 39, 43, 45, 48] 5\n",
      "N18 idle 0,F:5,P:9 [0, 39, 41, 44, 47, 49] 5\n",
      "N19 idle 0,F:0,P:12 [0] 0\n",
      "N20 idle 0,F:0,P:10 [0] 0\n",
      "N21 idle 0,F:2,P:5 [0, 44, 46] 2\n",
      "N22 idle 0,F:0,P:5 [0] 0\n",
      "N23 idle 0,F:0,P:3 [0] 0\n",
      "N24 idle 0,F:0,P:1 [0] 0\n",
      "N25 idle 0,F:0,P:0 [0] 0\n",
      "N26 idle 0,F:0,P:0 [0] 0\n",
      "N27 idle 0,F:0,P:0 [0] 0\n",
      "N28 idle 0,F:0,P:0 [0] 0\n",
      "N29 idle 0,F:0,P:0 [0] 0\n",
      "N30 idle 0,F:0,P:0 [0] 0\n",
      "N31 idle 0,F:0,P:0 [0] 0\n",
      "N32 idle 0,F:0,P:0 [0] 0\n",
      "N33 idle 0,F:0,P:0 [0] 0\n",
      "N34 idle 0,F:0,P:0 [0] 0\n",
      "N35 idle 0,F:0,P:0 [0] 0\n",
      "N36 idle 0,F:0,P:0 [0] 0\n"
     ]
    },
    {
     "data": {
      "text/html": [
       "<div>\n",
       "<style scoped>\n",
       "    .dataframe tbody tr th:only-of-type {\n",
       "        vertical-align: middle;\n",
       "    }\n",
       "\n",
       "    .dataframe tbody tr th {\n",
       "        vertical-align: top;\n",
       "    }\n",
       "\n",
       "    .dataframe thead th {\n",
       "        text-align: right;\n",
       "    }\n",
       "</style>\n",
       "<table border=\"1\" class=\"dataframe\">\n",
       "  <thead>\n",
       "    <tr style=\"text-align: right;\">\n",
       "      <th></th>\n",
       "      <th>Time</th>\n",
       "      <th>NonPr</th>\n",
       "      <th>Printable</th>\n",
       "      <th>Materials</th>\n",
       "      <th>Env_Materials</th>\n",
       "      <th>#Replicator</th>\n",
       "      <th>#Normal</th>\n",
       "      <th>#Assembler</th>\n",
       "      <th>#Printer</th>\n",
       "      <th>#Assembling</th>\n",
       "      <th>#Printing</th>\n",
       "      <th>#Collecting</th>\n",
       "      <th>#Idle</th>\n",
       "      <th>#In</th>\n",
       "      <th>#Out</th>\n",
       "      <th>Average Build Quality in-service</th>\n",
       "      <th>Average Build Quality of System</th>\n",
       "      <th>#WasteReplicator</th>\n",
       "      <th>#WasteNormal</th>\n",
       "      <th>#WasteAssembler</th>\n",
       "      <th>#WastePrinter</th>\n",
       "      <th>Environment Exhaust Time</th>\n",
       "      <th>Printable Exhaust Time</th>\n",
       "      <th>NonPr Exhaust Time</th>\n",
       "      <th>Material Exhaust Time</th>\n",
       "      <th>Average Risk</th>\n",
       "      <th>Print Capacity</th>\n",
       "      <th>Assembling Capacity</th>\n",
       "      <th>Collection Capacity</th>\n",
       "    </tr>\n",
       "  </thead>\n",
       "  <tbody>\n",
       "    <tr>\n",
       "      <th>count</th>\n",
       "      <td>75.000000</td>\n",
       "      <td>75.000000</td>\n",
       "      <td>75.000000</td>\n",
       "      <td>75.000000</td>\n",
       "      <td>75.000000</td>\n",
       "      <td>75.0</td>\n",
       "      <td>75.000000</td>\n",
       "      <td>75.0</td>\n",
       "      <td>75.0</td>\n",
       "      <td>75.0</td>\n",
       "      <td>75.0</td>\n",
       "      <td>75.000000</td>\n",
       "      <td>75.000000</td>\n",
       "      <td>75.000000</td>\n",
       "      <td>75.0</td>\n",
       "      <td>75.000000</td>\n",
       "      <td>75.000000</td>\n",
       "      <td>75.0</td>\n",
       "      <td>75.0</td>\n",
       "      <td>75.0</td>\n",
       "      <td>75.0</td>\n",
       "      <td>75.000000</td>\n",
       "      <td>75.0</td>\n",
       "      <td>75.0</td>\n",
       "      <td>75.0</td>\n",
       "      <td>75.000000</td>\n",
       "      <td>75.0</td>\n",
       "      <td>75.0</td>\n",
       "      <td>75.000000</td>\n",
       "    </tr>\n",
       "    <tr>\n",
       "      <th>mean</th>\n",
       "      <td>37.000000</td>\n",
       "      <td>280.746667</td>\n",
       "      <td>61.493333</td>\n",
       "      <td>331.173333</td>\n",
       "      <td>218.826667</td>\n",
       "      <td>1.0</td>\n",
       "      <td>18.253333</td>\n",
       "      <td>0.0</td>\n",
       "      <td>0.0</td>\n",
       "      <td>1.0</td>\n",
       "      <td>0.0</td>\n",
       "      <td>6.666667</td>\n",
       "      <td>10.306667</td>\n",
       "      <td>19.253333</td>\n",
       "      <td>0.0</td>\n",
       "      <td>0.757027</td>\n",
       "      <td>0.757027</td>\n",
       "      <td>0.0</td>\n",
       "      <td>0.0</td>\n",
       "      <td>0.0</td>\n",
       "      <td>0.0</td>\n",
       "      <td>21.320000</td>\n",
       "      <td>0.0</td>\n",
       "      <td>0.0</td>\n",
       "      <td>0.0</td>\n",
       "      <td>0.648501</td>\n",
       "      <td>1.0</td>\n",
       "      <td>1.0</td>\n",
       "      <td>19.253333</td>\n",
       "    </tr>\n",
       "    <tr>\n",
       "      <th>std</th>\n",
       "      <td>21.794495</td>\n",
       "      <td>10.900153</td>\n",
       "      <td>21.800306</td>\n",
       "      <td>200.328202</td>\n",
       "      <td>200.328202</td>\n",
       "      <td>0.0</td>\n",
       "      <td>10.900153</td>\n",
       "      <td>0.0</td>\n",
       "      <td>0.0</td>\n",
       "      <td>0.0</td>\n",
       "      <td>0.0</td>\n",
       "      <td>6.781002</td>\n",
       "      <td>14.718047</td>\n",
       "      <td>10.900153</td>\n",
       "      <td>0.0</td>\n",
       "      <td>0.024225</td>\n",
       "      <td>0.024225</td>\n",
       "      <td>0.0</td>\n",
       "      <td>0.0</td>\n",
       "      <td>0.0</td>\n",
       "      <td>0.0</td>\n",
       "      <td>29.798948</td>\n",
       "      <td>0.0</td>\n",
       "      <td>0.0</td>\n",
       "      <td>0.0</td>\n",
       "      <td>0.467741</td>\n",
       "      <td>0.0</td>\n",
       "      <td>0.0</td>\n",
       "      <td>10.900153</td>\n",
       "    </tr>\n",
       "    <tr>\n",
       "      <th>min</th>\n",
       "      <td>0.000000</td>\n",
       "      <td>262.000000</td>\n",
       "      <td>24.000000</td>\n",
       "      <td>50.000000</td>\n",
       "      <td>0.000000</td>\n",
       "      <td>1.0</td>\n",
       "      <td>0.000000</td>\n",
       "      <td>0.0</td>\n",
       "      <td>0.0</td>\n",
       "      <td>1.0</td>\n",
       "      <td>0.0</td>\n",
       "      <td>0.000000</td>\n",
       "      <td>0.000000</td>\n",
       "      <td>1.000000</td>\n",
       "      <td>0.0</td>\n",
       "      <td>0.736000</td>\n",
       "      <td>0.736000</td>\n",
       "      <td>0.0</td>\n",
       "      <td>0.0</td>\n",
       "      <td>0.0</td>\n",
       "      <td>0.0</td>\n",
       "      <td>0.000000</td>\n",
       "      <td>0.0</td>\n",
       "      <td>0.0</td>\n",
       "      <td>0.0</td>\n",
       "      <td>0.000000</td>\n",
       "      <td>1.0</td>\n",
       "      <td>1.0</td>\n",
       "      <td>1.000000</td>\n",
       "    </tr>\n",
       "    <tr>\n",
       "      <th>25%</th>\n",
       "      <td>18.500000</td>\n",
       "      <td>271.500000</td>\n",
       "      <td>43.000000</td>\n",
       "      <td>127.000000</td>\n",
       "      <td>0.000000</td>\n",
       "      <td>1.0</td>\n",
       "      <td>9.000000</td>\n",
       "      <td>0.0</td>\n",
       "      <td>0.0</td>\n",
       "      <td>1.0</td>\n",
       "      <td>0.0</td>\n",
       "      <td>0.000000</td>\n",
       "      <td>0.000000</td>\n",
       "      <td>10.000000</td>\n",
       "      <td>0.0</td>\n",
       "      <td>0.745500</td>\n",
       "      <td>0.745500</td>\n",
       "      <td>0.0</td>\n",
       "      <td>0.0</td>\n",
       "      <td>0.0</td>\n",
       "      <td>0.0</td>\n",
       "      <td>0.000000</td>\n",
       "      <td>0.0</td>\n",
       "      <td>0.0</td>\n",
       "      <td>0.0</td>\n",
       "      <td>0.033908</td>\n",
       "      <td>1.0</td>\n",
       "      <td>1.0</td>\n",
       "      <td>10.000000</td>\n",
       "    </tr>\n",
       "    <tr>\n",
       "      <th>50%</th>\n",
       "      <td>37.000000</td>\n",
       "      <td>281.000000</td>\n",
       "      <td>62.000000</td>\n",
       "      <td>340.000000</td>\n",
       "      <td>210.000000</td>\n",
       "      <td>1.0</td>\n",
       "      <td>18.000000</td>\n",
       "      <td>0.0</td>\n",
       "      <td>0.0</td>\n",
       "      <td>1.0</td>\n",
       "      <td>0.0</td>\n",
       "      <td>5.000000</td>\n",
       "      <td>0.000000</td>\n",
       "      <td>19.000000</td>\n",
       "      <td>0.0</td>\n",
       "      <td>0.750000</td>\n",
       "      <td>0.750000</td>\n",
       "      <td>0.0</td>\n",
       "      <td>0.0</td>\n",
       "      <td>0.0</td>\n",
       "      <td>0.0</td>\n",
       "      <td>0.000000</td>\n",
       "      <td>0.0</td>\n",
       "      <td>0.0</td>\n",
       "      <td>0.0</td>\n",
       "      <td>1.000000</td>\n",
       "      <td>1.0</td>\n",
       "      <td>1.0</td>\n",
       "      <td>19.000000</td>\n",
       "    </tr>\n",
       "    <tr>\n",
       "      <th>75%</th>\n",
       "      <td>55.500000</td>\n",
       "      <td>290.000000</td>\n",
       "      <td>80.000000</td>\n",
       "      <td>550.000000</td>\n",
       "      <td>423.000000</td>\n",
       "      <td>1.0</td>\n",
       "      <td>27.500000</td>\n",
       "      <td>0.0</td>\n",
       "      <td>0.0</td>\n",
       "      <td>1.0</td>\n",
       "      <td>0.0</td>\n",
       "      <td>12.500000</td>\n",
       "      <td>27.500000</td>\n",
       "      <td>28.500000</td>\n",
       "      <td>0.0</td>\n",
       "      <td>0.754000</td>\n",
       "      <td>0.754000</td>\n",
       "      <td>0.0</td>\n",
       "      <td>0.0</td>\n",
       "      <td>0.0</td>\n",
       "      <td>0.0</td>\n",
       "      <td>55.500000</td>\n",
       "      <td>0.0</td>\n",
       "      <td>0.0</td>\n",
       "      <td>0.0</td>\n",
       "      <td>1.000000</td>\n",
       "      <td>1.0</td>\n",
       "      <td>1.0</td>\n",
       "      <td>28.500000</td>\n",
       "    </tr>\n",
       "    <tr>\n",
       "      <th>max</th>\n",
       "      <td>74.000000</td>\n",
       "      <td>299.000000</td>\n",
       "      <td>98.000000</td>\n",
       "      <td>550.000000</td>\n",
       "      <td>500.000000</td>\n",
       "      <td>1.0</td>\n",
       "      <td>37.000000</td>\n",
       "      <td>0.0</td>\n",
       "      <td>0.0</td>\n",
       "      <td>1.0</td>\n",
       "      <td>0.0</td>\n",
       "      <td>20.000000</td>\n",
       "      <td>37.000000</td>\n",
       "      <td>38.000000</td>\n",
       "      <td>0.0</td>\n",
       "      <td>0.857000</td>\n",
       "      <td>0.857000</td>\n",
       "      <td>0.0</td>\n",
       "      <td>0.0</td>\n",
       "      <td>0.0</td>\n",
       "      <td>0.0</td>\n",
       "      <td>74.000000</td>\n",
       "      <td>0.0</td>\n",
       "      <td>0.0</td>\n",
       "      <td>0.0</td>\n",
       "      <td>1.000000</td>\n",
       "      <td>1.0</td>\n",
       "      <td>1.0</td>\n",
       "      <td>38.000000</td>\n",
       "    </tr>\n",
       "  </tbody>\n",
       "</table>\n",
       "</div>"
      ],
      "text/plain": [
       "            Time       NonPr  Printable   Materials  Env_Materials  \\\n",
       "count  75.000000   75.000000  75.000000   75.000000      75.000000   \n",
       "mean   37.000000  280.746667  61.493333  331.173333     218.826667   \n",
       "std    21.794495   10.900153  21.800306  200.328202     200.328202   \n",
       "min     0.000000  262.000000  24.000000   50.000000       0.000000   \n",
       "25%    18.500000  271.500000  43.000000  127.000000       0.000000   \n",
       "50%    37.000000  281.000000  62.000000  340.000000     210.000000   \n",
       "75%    55.500000  290.000000  80.000000  550.000000     423.000000   \n",
       "max    74.000000  299.000000  98.000000  550.000000     500.000000   \n",
       "\n",
       "       #Replicator    #Normal  #Assembler  #Printer  #Assembling  #Printing  \\\n",
       "count         75.0  75.000000        75.0      75.0         75.0       75.0   \n",
       "mean           1.0  18.253333         0.0       0.0          1.0        0.0   \n",
       "std            0.0  10.900153         0.0       0.0          0.0        0.0   \n",
       "min            1.0   0.000000         0.0       0.0          1.0        0.0   \n",
       "25%            1.0   9.000000         0.0       0.0          1.0        0.0   \n",
       "50%            1.0  18.000000         0.0       0.0          1.0        0.0   \n",
       "75%            1.0  27.500000         0.0       0.0          1.0        0.0   \n",
       "max            1.0  37.000000         0.0       0.0          1.0        0.0   \n",
       "\n",
       "       #Collecting      #Idle        #In  #Out  \\\n",
       "count    75.000000  75.000000  75.000000  75.0   \n",
       "mean      6.666667  10.306667  19.253333   0.0   \n",
       "std       6.781002  14.718047  10.900153   0.0   \n",
       "min       0.000000   0.000000   1.000000   0.0   \n",
       "25%       0.000000   0.000000  10.000000   0.0   \n",
       "50%       5.000000   0.000000  19.000000   0.0   \n",
       "75%      12.500000  27.500000  28.500000   0.0   \n",
       "max      20.000000  37.000000  38.000000   0.0   \n",
       "\n",
       "       Average Build Quality in-service  Average Build Quality of System  \\\n",
       "count                         75.000000                        75.000000   \n",
       "mean                           0.757027                         0.757027   \n",
       "std                            0.024225                         0.024225   \n",
       "min                            0.736000                         0.736000   \n",
       "25%                            0.745500                         0.745500   \n",
       "50%                            0.750000                         0.750000   \n",
       "75%                            0.754000                         0.754000   \n",
       "max                            0.857000                         0.857000   \n",
       "\n",
       "       #WasteReplicator  #WasteNormal  #WasteAssembler  #WastePrinter  \\\n",
       "count              75.0          75.0             75.0           75.0   \n",
       "mean                0.0           0.0              0.0            0.0   \n",
       "std                 0.0           0.0              0.0            0.0   \n",
       "min                 0.0           0.0              0.0            0.0   \n",
       "25%                 0.0           0.0              0.0            0.0   \n",
       "50%                 0.0           0.0              0.0            0.0   \n",
       "75%                 0.0           0.0              0.0            0.0   \n",
       "max                 0.0           0.0              0.0            0.0   \n",
       "\n",
       "       Environment Exhaust Time  Printable Exhaust Time  NonPr Exhaust Time  \\\n",
       "count                 75.000000                    75.0                75.0   \n",
       "mean                  21.320000                     0.0                 0.0   \n",
       "std                   29.798948                     0.0                 0.0   \n",
       "min                    0.000000                     0.0                 0.0   \n",
       "25%                    0.000000                     0.0                 0.0   \n",
       "50%                    0.000000                     0.0                 0.0   \n",
       "75%                   55.500000                     0.0                 0.0   \n",
       "max                   74.000000                     0.0                 0.0   \n",
       "\n",
       "       Material Exhaust Time  Average Risk  Print Capacity  \\\n",
       "count                   75.0     75.000000            75.0   \n",
       "mean                     0.0      0.648501             1.0   \n",
       "std                      0.0      0.467741             0.0   \n",
       "min                      0.0      0.000000             1.0   \n",
       "25%                      0.0      0.033908             1.0   \n",
       "50%                      0.0      1.000000             1.0   \n",
       "75%                      0.0      1.000000             1.0   \n",
       "max                      0.0      1.000000             1.0   \n",
       "\n",
       "       Assembling Capacity  Collection Capacity  \n",
       "count                 75.0            75.000000  \n",
       "mean                   1.0            19.253333  \n",
       "std                    0.0            10.900153  \n",
       "min                    1.0             1.000000  \n",
       "25%                    1.0            10.000000  \n",
       "50%                    1.0            19.000000  \n",
       "75%                    1.0            28.500000  \n",
       "max                    1.0            38.000000  "
      ]
     },
     "metadata": {},
     "output_type": "display_data"
    }
   ],
   "source": [
    "def main(configname,timesteps):\n",
    "    df = pd.DataFrame(columns = table_columns)\n",
    "    build_qual_range = [0.85,0.95]\n",
    "    init_build_qual = random.uniform(build_qual_range[0],build_qual_range[1])\n",
    "    if configname==\"CHO\":\n",
    "        df = CHO(timesteps,df,init_build_qual)  \n",
    "#         plotdf(df,configname,[\"#In\", \"#Out\"])\n",
    "    \n",
    "#     display(df)\n",
    "    display(df.describe())\n",
    "    \n",
    "        \n",
    "if __name__ == \"__main__\":\n",
    "    main(\"CHO\",75) #2000"
   ]
  },
  {
   "cell_type": "code",
   "execution_count": null,
   "id": "35c40470",
   "metadata": {},
   "outputs": [],
   "source": []
  },
  {
   "cell_type": "code",
   "execution_count": null,
   "id": "f34b5222",
   "metadata": {},
   "outputs": [],
   "source": []
  },
  {
   "cell_type": "code",
   "execution_count": null,
   "id": "4b9acb99",
   "metadata": {},
   "outputs": [],
   "source": []
  },
  {
   "cell_type": "code",
   "execution_count": null,
   "id": "036f3ae5",
   "metadata": {},
   "outputs": [],
   "source": []
  },
  {
   "cell_type": "code",
   "execution_count": null,
   "id": "757ec44d",
   "metadata": {},
   "outputs": [],
   "source": []
  },
  {
   "cell_type": "markdown",
   "id": "70e4e302",
   "metadata": {},
   "source": [
    "# Do not run below"
   ]
  },
  {
   "cell_type": "code",
   "execution_count": 1619,
   "id": "943985e5",
   "metadata": {},
   "outputs": [],
   "source": [
    "def DHO(timesteps,robotlist,df):\n",
    "    totlist = robotlist\n",
    "    useless = []\n",
    "\n",
    "    # number of bots working\n",
    "    listnumCollecting = []\n",
    "    listnumPrinting = []\n",
    "    listnumAssembling = []\n",
    "\n",
    "    # use lists\n",
    "    tcoordslist = []\n",
    "    rcoordslist = []\n",
    "    wastecoordslist = []\n",
    "    t_build_quality_list = []\n",
    "\n",
    "    #Lists used for visualization\n",
    "    checkENV = 0\n",
    "    checkPrint = 0\n",
    "    checkNonPr = 0\n",
    "    checkMat = 0\n",
    "    \n",
    "    for t in range(0,timesteps):\n",
    "\n",
    "        for i in range(len(robotlist)):\n",
    "            # IDLE\n",
    "            if(robotlist[i].current_task==\"idle\"):\n",
    "\n",
    "                # Replicator\n",
    "                if(robotlist[i].type == \"Replicator\"):\n",
    "\n",
    "                    if(assembleCheck(robotlist[i],\"Replicator\")):\n",
    "                        assembling(robotlist[i],\"Replicator\")\n",
    "                    elif(printCheck(robotlist[i])):\n",
    "                        printing(robotlist[i])\n",
    "                    elif(collectCheck(robotlist[i])):\n",
    "                        collecting(robotlist[i])\t\n",
    "                    else:\n",
    "                        robotlist[i].set_prev_task(robotlist[i].get_curr_task())\n",
    "                        robotlist[i].set_task_dur(0)\n",
    "                        robotlist[i].set_curr_task(\"idle\")\n",
    "\n",
    "                # Normal\n",
    "                elif(robotlist[i].type == \"Normal\"):\n",
    "                    canCollect = collectCheck(robotlist[i])\n",
    "                    # print(t,robotlist[i].id,canCollect)\n",
    "                    if canCollect:\n",
    "                        collecting(robotlist[i])\n",
    "                    else:\n",
    "                        robotlist[i].set_prev_task(robotlist[i].get_curr_task())\n",
    "                        robotlist[i].set_task_dur(0)\n",
    "                        robotlist[i].set_curr_task(\"idle\")\n",
    "\n",
    "            # NOT IDLE\n",
    "            else:\n",
    "                # reduce task duration every time step\n",
    "                if(robotlist[i].tasks_dur - 1 != 0):\n",
    "                    robotlist[i].set_task_dur(robotlist[i].tasks_dur - 1)\n",
    "\n",
    "                # Replicator \n",
    "                elif(robotlist[i].tasks_dur - 1 == 0 and robotlist[i].type == \"Replicator\"):\n",
    "                    # check if it can keep assembling next time step\n",
    "                    if(assembleCheck(robotlist[i],\"Replicator\")):\n",
    "                        isAssembling = assembling(robotlist[i],\"Replicator\")\n",
    "                    elif(printCheck(robotlist[i])):\n",
    "                        isPrinting = printing(robotlist[i])\t\n",
    "                    elif(collectCheck(robotlist[i])):\n",
    "                        collecting(robotlist[i])\t\n",
    "                    else:\n",
    "                        robotlist[i].set_prev_task(robotlist[i].get_curr_task())\n",
    "                        robotlist[i].set_task_dur(0)\n",
    "                        robotlist[i].set_curr_task(\"idle\")\n",
    "\n",
    "                    # it enters this loop only when it has to pop a new robot\n",
    "                    if(robotlist[i].get_prev_task()==\"assembling\"):\n",
    "                        newbot = assemble(robotlist[i],\"Replicator\")\n",
    "                        if newbot and newbot.build_qual>=0.5:\n",
    "                            if(newbot.type == \"Normal\"):\n",
    "                                canCollect = collectCheck(newbot)\n",
    "                                if canCollect:\n",
    "                                    collecting(newbot)\n",
    "                            if(newbot.type == \"Replicator\"):\n",
    "                                if(assembleCheck(newbot,\"Replicator\")):\n",
    "                                    assembling(newbot,\"Replicator\")\n",
    "                                elif(printCheck(robotlist[i])):\n",
    "                                    printing(robotlist[i])\n",
    "                                elif(collectCheck(robotlist[i])):\n",
    "                                    collecting(robotlist[i])\t\n",
    "                                else:\n",
    "                                    newbot.set_prev_task(robotlist[i].get_curr_task())\n",
    "                                    newbot.set_task_dur(0)\n",
    "                                    newbot.set_curr_task(\"idle\")\n",
    "                            totlist.append(newbot)\n",
    "                            robotlist.append(newbot)\n",
    "                        else:\n",
    "                            totlist.append(newbot)\n",
    "                            useless.append(newbot)\n",
    "                        robotlist[i].set_prev_task(robotlist[i].current_task)\n",
    "\n",
    "                # Normal\n",
    "                elif(robotlist[i].type == \"Normal\"):\n",
    "                    canCollect = collectCheck(robotlist[i])\n",
    "                    if(canCollect):\n",
    "                        collecting(robotlist[i])\n",
    "                    else:\n",
    "                        robotlist[i].set_prev_task(robotlist[i].get_curr_task())\n",
    "                        robotlist[i].set_task_dur(0)\n",
    "                        robotlist[i].set_curr_task(\"idle\")\n",
    "\n",
    "        build_quality_list,vals = configHandler(t,totlist,robotlist,useless,checkENV,checkPrint,checkNonPr,checkMat)\n",
    "        df.loc[len(df)] = [t,NonPr,Printable,Materials,Env_Materials]+vals\n",
    "        tcoordslist.append(t)\n",
    "        rcoordslist.append(len(robotlist)) \n",
    "        wastecoordslist.append(len(useless))\n",
    "        t_build_quality_list.append(build_quality_list)\n",
    "        \n",
    "    df[\"Print Capacity\"] = df[[\"#Printer\", \"#Replicator\"]].sum(axis=1)\n",
    "    df[\"Assembling Capacity\"] = df[[\"#Assembler\", \"#Replicator\"]].sum(axis=1)\n",
    "    df[\"Collection Capacity\"] = df[[\"#Printer\", \"#Replicator\", \"#Assembler\", \"#Normal\"]].sum(axis=1)\n",
    "    return df"
   ]
  },
  {
   "cell_type": "code",
   "execution_count": 1620,
   "id": "3393fd3b",
   "metadata": {},
   "outputs": [],
   "source": [
    "def HHO(timesteps,robotlist,df):\n",
    "    totlist = robotlist\n",
    "    useless = []\n",
    "\n",
    "    # number of bots working\n",
    "    listnumCollecting = []\n",
    "    listnumPrinting = []\n",
    "    listnumAssembling = []\n",
    "\n",
    "    # use lists\n",
    "    tcoordslist = []\n",
    "    rcoordslist = []\n",
    "    wastecoordslist = []\n",
    "    t_build_quality_list = []\n",
    "\n",
    "    #Lists used for visualization\n",
    "    checkENV = 0\n",
    "    checkPrint = 0\n",
    "    checkNonPr = 0\n",
    "    checkMat = 0\n",
    "    \n",
    "    for t in range(0, timesteps):\n",
    "\n",
    "        for i in range(len(robotlist)):\n",
    "            # IDLE\n",
    "            if (robotlist[i].current_task == \"idle\"):\n",
    "                # Replicator\n",
    "                if (robotlist[i].type == \"Replicator\"):\n",
    "\n",
    "                    if (robotlist[i].get_previously_built() == \"\"):\n",
    "                        if (assembleCheck(robotlist[i],\"Replicator\")):\n",
    "                            isAssembling = assembling(robotlist[i], \"Replicator\")\n",
    "                        elif (assembleCheck(robotlist[i],\"Normal\")):\n",
    "                            isAssembling = assembling(robotlist[i], \"Normal\")\n",
    "                        elif (printCheck(robotlist[i])):\n",
    "                            printing(robotlist[i])\n",
    "                        else:\n",
    "                            robotlist[i].set_prev_task(robotlist[i].get_curr_task())\n",
    "                            robotlist[i].set_task_dur(0)\n",
    "                            robotlist[i].set_curr_task(\"idle\")\n",
    "\n",
    "                    else:\n",
    "                        if (assembleCheck(robotlist[i],\"Normal\") and robotlist[i].get_previously_built() == \"Replicator\"):\n",
    "                            assembling(robotlist[i], \"Normal\")\n",
    "                        elif (assembleCheck(robotlist[i],\"Replicator\") and robotlist[i].get_previously_built() == \"Normal\"):\n",
    "                            assembling(robotlist[i], \"Replicator\")\n",
    "                        elif (printCheck(robotlist[i])):\n",
    "                            printing(robotlist[i])\n",
    "                        else:\n",
    "                            robotlist[i].set_prev_task(robotlist[i].get_curr_task())\n",
    "                            robotlist[i].set_task_dur(0)\n",
    "                            robotlist[i].set_curr_task(\"idle\")\n",
    "\n",
    "                # Normal\n",
    "                elif (robotlist[i].type == \"Normal\"):\n",
    "                    canCollect = collectCheck(robotlist[i])\n",
    "                    if canCollect:\n",
    "                        collecting(robotlist[i])\n",
    "                    else:\n",
    "                        robotlist[i].set_prev_task(robotlist[i].get_curr_task())\n",
    "                        robotlist[i].set_task_dur(0)\n",
    "                        robotlist[i].set_curr_task(\"idle\")\n",
    "\n",
    "            # NOT IDLE\n",
    "            else:\n",
    "                # reduce task duration every time step\n",
    "                if (robotlist[i].tasks_dur - 1 != 0):\n",
    "                    robotlist[i].set_task_dur(robotlist[i].tasks_dur - 1)\n",
    "\n",
    "                # Replicator\n",
    "                elif (robotlist[i].tasks_dur - 1 == 0 and robotlist[i].type == \"Replicator\"):\n",
    "                    # check if it can keep assembling next time step\n",
    "                    if (assembleCheck(robotlist[i],\"Normal\") and robotlist[i].get_previously_built() == \"Replicator\"):\n",
    "                        assembling(robotlist[i], \"Normal\")\n",
    "                    elif (assembleCheck(robotlist[i],\"Replicator\") and robotlist[i].get_previously_built() == \"Normal\"):\n",
    "                        assembling(robotlist[i], \"Replicator\")\n",
    "                        # checking if robot can collect\n",
    "                    elif (printCheck(robotlist[i])):\n",
    "                        printing(robotlist[i])\n",
    "                    else:\n",
    "                        robotlist[i].set_prev_task(robotlist[i].get_curr_task())\n",
    "                        robotlist[i].set_task_dur(0)\n",
    "                        robotlist[i].set_curr_task(\"idle\")\n",
    "\n",
    "                    # it enters this loop only when it has to pop a new robot\n",
    "                    if (robotlist[i].get_prev_task() == \"assembling\"):\n",
    "\n",
    "                        if (robotlist[i].get_previously_built() == \"Normal\"):\n",
    "                            newbot = assemble(robotlist[i], \"Replicator\")\n",
    "                        elif (robotlist[i].get_previously_built() == \"Replicator\"):\n",
    "                            newbot = assemble(robotlist[i], \"Normal\")\n",
    "                        else:\n",
    "                            newbot = assemble(robotlist[i], \"Replicator\")\n",
    "\n",
    "                        if newbot and newbot.build_qual >= 0.5:\n",
    "\n",
    "                            if (newbot.type == \"Normal\"):\n",
    "                                canCollect = collectCheck(newbot)\n",
    "                                if canCollect:\n",
    "                                    collecting(newbot)\n",
    "\n",
    "                            if (newbot.type == \"Replicator\"):\n",
    "\n",
    "                                if (newbot.get_previously_built() == \"\"):\n",
    "                                    if (assembleCheck(newbot,\"Replicator\")):\n",
    "                                        isAssembling = assembling(newbot, \"Replicator\")\n",
    "                                    elif (assembleCheck(newbot,\"Normal\")):\n",
    "                                        isAssembling = assembling(newbot, \"Normal\")\n",
    "                                    elif (printCheck(newbot)):\n",
    "                                        printing(newbot)\n",
    "                                    else:\n",
    "                                        newbot.set_prev_task(newbot.get_curr_task())\n",
    "                                        newbot.set_task_dur(0)\n",
    "                                        newbot.set_curr_task(\"idle\")\n",
    "\n",
    "                                else:\n",
    "                                    if (assembleCheck(newbot,\"Normal\") and newbot.get_previously_built() == \"Replicator\"):\n",
    "                                        assembling(newbot, \"Normal\")\n",
    "                                    elif (assembleCheck(newbot,\"Replicator\") and newbot.get_previously_built() == \"Normal\"):\n",
    "                                        assembling(newbot, \"Replicator\")\n",
    "                                    # checking if robot can collect\n",
    "                                    elif (printCheck(newbot)):\n",
    "                                        printing(newbot)\n",
    "                                    else:\n",
    "                                        newbot.set_prev_task(newbot.get_curr_task())\n",
    "                                        newbot.set_task_dur(0)\n",
    "                                        newbot.set_curr_task(\"idle\")\n",
    "\n",
    "\n",
    "                            totlist.append(newbot)\n",
    "                            robotlist.append(newbot)\n",
    "                        else:\n",
    "                            totlist.append(newbot)\n",
    "                            useless.append(newbot)\n",
    "#                         robotlist[i].set_prev_task(robotlist[i].current_task)\n",
    "\n",
    "                # Normal\n",
    "                elif (robotlist[i].type == \"Normal\"):\n",
    "                    canCollect = collectCheck(robotlist[i])\n",
    "                    if (canCollect):\n",
    "                        collecting(robotlist[i])\n",
    "                    else:\n",
    "                        robotlist[i].set_prev_task(robotlist[i].get_curr_task())\n",
    "                        robotlist[i].set_task_dur(0)\n",
    "                        robotlist[i].set_curr_task(\"idle\")\n",
    "\n",
    "\n",
    "                        \n",
    "        build_quality_list,vals = configHandler(t,totlist,robotlist,useless,checkENV,checkPrint,checkNonPr,checkMat)\n",
    "        df.loc[len(df)] = [t,NonPr,Printable,Materials,Env_Materials]+vals\n",
    "        tcoordslist.append(t)\n",
    "        rcoordslist.append(len(robotlist)) \n",
    "        wastecoordslist.append(len(useless))\n",
    "        t_build_quality_list.append(build_quality_list)\n",
    "        \n",
    "    df[\"Print Capacity\"] = df[[\"#Printer\", \"#Replicator\"]].sum(axis=1)\n",
    "    df[\"Assembling Capacity\"] = df[[\"#Assembler\", \"#Replicator\"]].sum(axis=1)\n",
    "    df[\"Collection Capacity\"] = df[[\"#Printer\", \"#Replicator\", \"#Assembler\", \"#Normal\"]].sum(axis=1)\n",
    "    return df"
   ]
  },
  {
   "cell_type": "code",
   "execution_count": 1621,
   "id": "308272ac",
   "metadata": {},
   "outputs": [],
   "source": [
    "def CHE(timesteps,robotlist,df):\n",
    "    totlist = robotlist\n",
    "    useless = []\n",
    "\n",
    "    # number of bots working\n",
    "    listnumCollecting = []\n",
    "    listnumPrinting = []\n",
    "    listnumAssembling = []\n",
    "\n",
    "    # use lists\n",
    "    tcoordslist = []\n",
    "    rcoordslist = []\n",
    "    wastecoordslist = []\n",
    "    t_build_quality_list = []\n",
    "\n",
    "    #Lists used for visualization\n",
    "    checkENV = 0\n",
    "    checkPrint = 0\n",
    "    checkNonPr = 0\n",
    "    checkMat = 0\n",
    "    \n",
    "    for t in range(0,timesteps):\n",
    "\n",
    "        #Parsing through complete robot list to check their availability\n",
    "        for i in range(len(robotlist)):\n",
    "            #Checking if robot is idle\n",
    "            if(robotlist[i].current_task==\"idle\"):\n",
    "\n",
    "                #If idle and replicator\n",
    "                if(robotlist[i].type == \"Replicator\"):\n",
    "\n",
    "                    #Checking if robot can assemble\n",
    "                    if(assembleCheck(robotlist[i],\"Replicator\")):\n",
    "                        #Starting the assembly process + reducing resources\n",
    "                        assembling(robotlist[i],\"Replicator\")\n",
    "\n",
    "                    #checking if robot can print\n",
    "                    elif(printCheck(robotlist[i])):\n",
    "                        #Starting the printing process + reducing resources\n",
    "                        printing(robotlist[i])\n",
    "\n",
    "                    #checking if robot can collect\n",
    "                    elif(collectCheck(robotlist[i])):\n",
    "                        #Starting the collecting process + reducing resources\n",
    "                        collecting(robotlist[i])\n",
    "\n",
    "                    #If can't do any task then set robot to idle\n",
    "                    else:\n",
    "                        robotlist[i].set_prev_task(robotlist[i].get_curr_task())\n",
    "                        robotlist[i].set_task_dur(0)\n",
    "                        robotlist[i].set_curr_task(\"idle\")\n",
    "\n",
    "                # If idle and printer\n",
    "                elif(robotlist[i].type == \"Printer\"):\n",
    "                    if(printCheck(robotlist[i])):\n",
    "                        isPrinting = printing(robotlist[i])\n",
    "                    elif(collectCheck(robotlist[i])):\n",
    "                        collecting(robotlist[i])\n",
    "                    else:\n",
    "                        robotlist[i].set_prev_task(robotlist[i].get_curr_task())\n",
    "                        robotlist[i].set_task_dur(0)\n",
    "                        robotlist[i].set_curr_task(\"idle\")\n",
    "\n",
    "                # If idle and assembler\n",
    "                elif(robotlist[i].type == \"Assembler\"):\n",
    "\n",
    "                    if(assembleCheck(robotlist[i],\"Normal\")):\n",
    "                        assembling(robotlist[i],\"Normal\")\n",
    "                    elif(collectCheck(robotlist[i])):\n",
    "                        collecting(robotlist[i])\n",
    "                    else:\n",
    "                        robotlist[i].set_prev_task(robotlist[i].get_curr_task())\n",
    "                        robotlist[i].set_task_dur(0)\n",
    "                        robotlist[i].set_curr_task(\"idle\")\n",
    "\n",
    "                #If idle and collector\n",
    "                elif(robotlist[i].type == \"Normal\"):\n",
    "                    # checking if robot can collect\n",
    "                    if (collectCheck(robotlist[i])):\n",
    "                        # Starting the collecting process + reducing resources\n",
    "                        collecting(robotlist[i])\n",
    "                    else:\n",
    "                        robotlist[i].set_prev_task(robotlist[i].get_curr_task())\n",
    "                        robotlist[i].set_task_dur(0)\n",
    "                        robotlist[i].set_curr_task(\"idle\")\n",
    "\n",
    "            #If robot is not idle\n",
    "            else:\n",
    "\n",
    "                #Reduce task duration if task not ending in the next time step\n",
    "                if(robotlist[i].tasks_dur - 1 != 0):\n",
    "                    robotlist[i].set_task_dur(robotlist[i].tasks_dur - 1)\n",
    "\n",
    "                #If task is ending in the next time step and Printer\n",
    "                elif(robotlist[i].tasks_dur - 1 == 0 and robotlist[i].type == \"Printer\"):\n",
    "\n",
    "                    # checking if robot can print\n",
    "                    if(printCheck(robotlist[i])):\n",
    "                        # Starting the printing process + reducing resources\n",
    "                        printing(robotlist[i])\n",
    "\n",
    "                    # checking if robot can collect\n",
    "                    elif(collectCheck(robotlist[i])):\n",
    "                        # Starting the collecting process + reducing resources\n",
    "                        collecting(robotlist[i])\n",
    "\n",
    "                    # If can't do any task then set robot to idle\n",
    "                    else:\n",
    "                        robotlist[i].set_prev_task(robotlist[i].get_curr_task())\n",
    "                        robotlist[i].set_task_dur(0)\n",
    "                        robotlist[i].set_curr_task(\"idle\")\n",
    "\n",
    "\n",
    "\n",
    "\n",
    "                #If task is ending in the next time step and current robot is Assembler\n",
    "                elif(robotlist[i].tasks_dur - 1 == 0 and robotlist[i].type == \"Assembler\"):\n",
    "\n",
    "                    # check if it can keep assembling next time step\n",
    "                    if(assembleCheck(robotlist[i],\"Normal\")):\n",
    "                        # Starting the assembly process + reducing resources\n",
    "                        assembling(robotlist[i],\"Normal\")\n",
    "\n",
    "                    # checking if robot can collect\n",
    "                    elif(collectCheck(robotlist[i])):\n",
    "                        # Starting the collecting process + reducing resources\n",
    "                        collecting(robotlist[i])\n",
    "\n",
    "                    # If can't do any task then set robot to idle\n",
    "                    else:\n",
    "                        robotlist[i].set_prev_task(robotlist[i].get_curr_task())\n",
    "                        robotlist[i].set_task_dur(0)\n",
    "                        robotlist[i].set_curr_task(\"idle\")\n",
    "\n",
    "                    #If robot task is ending in the next step\n",
    "                    #Create a new robot for the robot list that can start working the next cycle\n",
    "                    if(robotlist[i].get_prev_task()==\"assembling\"):\n",
    "\n",
    "                        # Build a new replicator\n",
    "                        newbot = assemble(robotlist[i],\"Normal\")\n",
    "\n",
    "                        # If newbot passes the quality check\n",
    "                        if newbot and newbot.build_qual>=0.5:\n",
    "\n",
    "                            #If newbot is a collector\n",
    "                            if(newbot.type == \"Normal\"):\n",
    "                                # checking if robot can collect\n",
    "                                if(collectCheck(newbot)):\n",
    "                                    # Starting the collecting process + reducing resources\n",
    "                                    collecting(newbot)\n",
    "                                else:\n",
    "                                    newbot.set_prev_task(newbot.get_curr_task())\n",
    "                                    newbot.set_task_dur(0)\n",
    "                                    newbot.set_curr_task(\"idle\")\n",
    "\n",
    "                            #Adding the newbot to the total robot list and robot list\n",
    "                            totlist.append(newbot)\n",
    "                            robotlist.append(newbot)\n",
    "\n",
    "                        # If newbot does not pass the quality check\n",
    "                        else:\n",
    "                            # Adding the newbot to the total robot list and useless list\n",
    "                            totlist.append(newbot)\n",
    "                            useless.append(newbot)\n",
    "\n",
    "                #If task is ending in the next time step and Collector\n",
    "                elif(robotlist[i].type == \"Normal\"):\n",
    "\n",
    "                    # checking if robot can collect\n",
    "                    if(collectCheck(robotlist[i])):\n",
    "                        # Starting the collecting process + reducing resources\n",
    "                        collecting(robotlist[i])\n",
    "                    else:\n",
    "                        robotlist[i].set_prev_task(robotlist[i].get_curr_task())\n",
    "                        robotlist[i].set_task_dur(0)\n",
    "                        # set current task to idle if can not collect\n",
    "                        robotlist[i].set_curr_task(\"idle\")\n",
    "\n",
    "\n",
    "\n",
    "                        \n",
    "        build_quality_list,vals = configHandler(t,totlist,robotlist,useless,checkENV,checkPrint,checkNonPr,checkMat)\n",
    "        df.loc[len(df)] = [t,NonPr,Printable,Materials,Env_Materials]+vals\n",
    "        tcoordslist.append(t)\n",
    "        rcoordslist.append(len(robotlist)) \n",
    "        wastecoordslist.append(len(useless))\n",
    "        t_build_quality_list.append(build_quality_list)\n",
    "        \n",
    "    df[\"Print Capacity\"] = df[[\"#Printer\", \"#Replicator\"]].sum(axis=1)\n",
    "    df[\"Assembling Capacity\"] = df[[\"#Assembler\", \"#Replicator\"]].sum(axis=1)\n",
    "    df[\"Collection Capacity\"] = df[[\"#Printer\", \"#Replicator\", \"#Assembler\", \"#Normal\"]].sum(axis=1)\n",
    "    return df"
   ]
  },
  {
   "cell_type": "code",
   "execution_count": 1622,
   "id": "764fb465",
   "metadata": {},
   "outputs": [],
   "source": [
    "def DHE(timesteps,robotlist,df):\n",
    "    totlist = robotlist\n",
    "    useless = []\n",
    "\n",
    "    # number of bots working\n",
    "    listnumCollecting = []\n",
    "    listnumPrinting = []\n",
    "    listnumAssembling = []\n",
    "\n",
    "    # use lists\n",
    "    tcoordslist = []\n",
    "    rcoordslist = []\n",
    "    wastecoordslist = []\n",
    "    t_build_quality_list = []\n",
    "\n",
    "    #Lists used for visualization\n",
    "    checkENV = 0\n",
    "    checkPrint = 0\n",
    "    checkNonPr = 0\n",
    "    checkMat = 0\n",
    "    \n",
    "    for t in range(0, timesteps):\n",
    "\n",
    "        # Parsing through complete robot list to check their availability\n",
    "        for i in range(len(robotlist)):\n",
    "            # Checking if robot is idle\n",
    "            if (robotlist[i].current_task == \"idle\"):\n",
    "\n",
    "                # If idle and printer\n",
    "                if (robotlist[i].type == \"Printer\"):\n",
    "\n",
    "                    if (printCheck(robotlist[i])):\n",
    "                        printing(robotlist[i])\n",
    "                    elif (collectCheck(robotlist[i])):\n",
    "                        collecting(robotlist[i])\n",
    "                    else:\n",
    "                        robotlist[i].set_prev_task(robotlist[i].get_curr_task())\n",
    "                        robotlist[i].set_task_dur(0)\n",
    "                        robotlist[i].set_curr_task(\"idle\")\n",
    "\n",
    "                # If idle and assembler\n",
    "                elif (robotlist[i].type == \"Assembler\"):\n",
    "\n",
    "                    if (robotlist[i].get_previously_built() == \"\"):\n",
    "                        if (assembleCheck(robotlist[i],\"Assembler\")):\n",
    "                            isAssembling = assembling(robotlist[i], \"Assembler\")\n",
    "                        elif (assembleCheck(robotlist[i],\"Printer\")):\n",
    "                            isAssembling = assembling(robotlist[i], \"Printer\")\n",
    "                        elif (collectCheck(robotlist[i])):\n",
    "                            collecting(robotlist[i])\n",
    "                        else:\n",
    "                            robotlist[i].set_prev_task(robotlist[i].get_curr_task())\n",
    "                            robotlist[i].set_task_dur(0)\n",
    "                            robotlist[i].set_curr_task(\"idle\")\n",
    "                    else:\n",
    "                        if (assembleCheck(robotlist[i],\"Printer\") and robotlist[i].get_previously_built() == \"Assembler\"):\n",
    "                            assembling(robotlist[i], \"Printer\")\n",
    "                        elif (assembleCheck(robotlist[i],\"Assembler\") and robotlist[i].get_previously_built() == \"Printer\"):\n",
    "                            assembling(robotlist[i], \"Assembler\")\n",
    "                        # checking if robot can collect\n",
    "                        elif (collectCheck(robotlist[i])):\n",
    "                            # Starting the collecting process + reducing resources\n",
    "                            collecting(robotlist[i])\n",
    "                        else:\n",
    "                            robotlist[i].set_prev_task(robotlist[i].get_curr_task())\n",
    "                            robotlist[i].set_task_dur(0)\n",
    "                            robotlist[i].set_curr_task(\"idle\")\n",
    "\n",
    "\n",
    "            # If robot is not idle\n",
    "            else:\n",
    "\n",
    "                # Reduce task duration if task not ending in the next time step\n",
    "                if (robotlist[i].tasks_dur - 1 != 0):\n",
    "                    robotlist[i].set_task_dur(robotlist[i].tasks_dur - 1)\n",
    "\n",
    "                # If task is ending in the next time step and Printer\n",
    "                elif (robotlist[i].tasks_dur - 1 == 0 and robotlist[i].type == \"Printer\"):\n",
    "\n",
    "                    if (printCheck(robotlist[i])):\n",
    "                        printing(robotlist[i])\n",
    "                    elif (collectCheck(robotlist[i])):\n",
    "                        collecting(robotlist[i])\n",
    "                    else:\n",
    "                        robotlist[i].set_prev_task(robotlist[i].get_curr_task())\n",
    "                        robotlist[i].set_task_dur(0)\n",
    "                        robotlist[i].set_curr_task(\"idle\")\n",
    "\n",
    "\n",
    "                # If task is ending in the next time step and current robot is Assembler\n",
    "                elif (robotlist[i].tasks_dur - 1 == 0 and robotlist[i].type == \"Assembler\"):\n",
    "\n",
    "                    if (assembleCheck(robotlist[i],\"Printer\") and robotlist[i].get_previously_built() == \"Assembler\"):\n",
    "                        assembling(robotlist[i], \"Printer\")\n",
    "                    elif (assembleCheck(robotlist[i],\"Assembler\") and robotlist[i].get_previously_built() == \"Printer\"):\n",
    "                        assembling(robotlist[i], \"Assembler\")\n",
    "                        # checking if robot can collect\n",
    "                    elif (collectCheck(robotlist[i])):\n",
    "                        # Starting the collecting process + reducing resources\n",
    "                        collecting(robotlist[i])\n",
    "                    else:\n",
    "                        robotlist[i].set_prev_task(robotlist[i].get_curr_task())\n",
    "                        robotlist[i].set_task_dur(0)\n",
    "                        robotlist[i].set_curr_task(\"idle\")\n",
    "\n",
    "                    # If robot task is ending in the next step\n",
    "                    # Create a new robot for the robot list that can start working the next cycle\n",
    "                    if (robotlist[i].get_prev_task() == \"assembling\"):\n",
    "\n",
    "                        # Build a new robot in a fixed pattern\n",
    "                        if (robotlist[i].get_previously_built() == \"Printer\"):\n",
    "                            newbot = assemble(robotlist[i], \"Assembler\")\n",
    "                        elif (robotlist[i].get_previously_built() == \"Assembler\"):\n",
    "                            newbot = assemble(robotlist[i], \"Printer\")\n",
    "                        else:\n",
    "                            newbot = assemble(robotlist[i], \"Assembler\")\n",
    "\n",
    "                        # Build a new replicator\n",
    "                        # newbot = assemble(robotlist[i], robotlist[i].get_previously_built())\n",
    "                        # If newbot passes the quality check\n",
    "                        if newbot and newbot.build_qual >= 0.5:\n",
    "\n",
    "                            # If newbot is a collector))\n",
    "                            if (newbot.type == \"Printer\"):\n",
    "                                if (printCheck(newbot)):\n",
    "                                    printing(newbot)\n",
    "                                elif (collectCheck(newbot)):\n",
    "                                    collecting(newbot)\n",
    "                                else:\n",
    "                                    newbot.set_prev_task(newbot.get_curr_task())\n",
    "                                    newbot.set_task_dur(0)\n",
    "                                    newbot.set_curr_task(\"idle\")\n",
    "                            # If idle and assembler\n",
    "                            elif (newbot.type == \"Assembler\"):\n",
    "                                if (newbot.get_previously_built() == \"\"):\n",
    "                                    if (assembleCheck(newbot,\"Assembler\")):\n",
    "                                        isAssembling = assembling(newbot, \"Assembler\")\n",
    "                                    elif (assembleCheck(newbot,\"Printer\")):\n",
    "                                        isAssembling = assembling(newbot, \"Printer\")\n",
    "                                    elif (collectCheck(newbot)):\n",
    "                                        collecting(newbot)\n",
    "                                    else:\n",
    "                                        newbot.set_prev_task(newbot.get_curr_task())\n",
    "                                        newbot.set_task_dur(0)\n",
    "                                        newbot.set_curr_task(\"idle\")\n",
    "                                else:\n",
    "                                    if (newbot[i].get_previously_built() == \"Assembler\" and assembleCheck(newbot,\"Printer\")):\n",
    "                                        isAssembling = assembling(newbot, \"Printer\")\n",
    "                                    elif (newbot[i].get_previously_built() == \"Printer\" and assembleCheck(newbot,\"Assembler\")):\n",
    "                                        isAssembling = assembling(newbot, \"Assembler\")\n",
    "                                    elif (collectCheck(newbot)):\n",
    "                                        collecting(newbot)\n",
    "                                    else:\n",
    "                                        newbot.set_prev_task(newbot.get_curr_task())\n",
    "                                        newbot.set_task_dur(0)\n",
    "                                        newbot.set_curr_task(\"idle\")\n",
    "\n",
    "                            # Adding the newbot to the total robot list and robot list\n",
    "                            totlist.append(newbot)\n",
    "                            robotlist.append(newbot)\n",
    "\n",
    "                        # If newbot does not pass the quality check\n",
    "                        else:\n",
    "                            # Adding the newbot to the total robot list and useless list\n",
    "                            totlist.append(newbot)\n",
    "                            useless.append(newbot)\n",
    "\n",
    "                    # check if it can keep assembling next time step\n",
    "\n",
    "\n",
    "                # If task is ending in the next time step and Collector\n",
    "                elif (robotlist[i].type == \"Normal\"):\n",
    "\n",
    "                    # checking if robot can collect\n",
    "                    if (collectCheck(robotlist[i])):\n",
    "                        # Starting the collecting process + reducing resources\n",
    "                        collecting(robotlist[i])\n",
    "                    else:\n",
    "                        robotlist[i].set_prev_task(robotlist[i].get_curr_task())\n",
    "                        robotlist[i].set_task_dur(0)\n",
    "                        # set current task to idle if can not collect\n",
    "                        robotlist[i].set_curr_task(\"idle\")\n",
    "                        \n",
    "                        \n",
    "        build_quality_list,vals = configHandler(t,totlist,robotlist,useless,checkENV,checkPrint,checkNonPr,checkMat)\n",
    "        df.loc[len(df)] = [t,NonPr,Printable,Materials,Env_Materials]+vals\n",
    "        tcoordslist.append(t)\n",
    "        rcoordslist.append(len(robotlist)) \n",
    "        wastecoordslist.append(len(useless))\n",
    "        t_build_quality_list.append(build_quality_list)\n",
    "        \n",
    "    df[\"Print Capacity\"] = df[[\"#Printer\", \"#Replicator\"]].sum(axis=1)\n",
    "    df[\"Assembling Capacity\"] = df[[\"#Assembler\", \"#Replicator\"]].sum(axis=1)\n",
    "    df[\"Collection Capacity\"] = df[[\"#Printer\", \"#Replicator\", \"#Assembler\", \"#Normal\"]].sum(axis=1)\n",
    "    return df\n"
   ]
  },
  {
   "cell_type": "code",
   "execution_count": 1623,
   "id": "390295d6",
   "metadata": {},
   "outputs": [],
   "source": [
    "def HHE(timesteps,robotlist,df):\n",
    "    totlist = robotlist\n",
    "    useless = []\n",
    "\n",
    "    # number of bots working\n",
    "    listnumCollecting = []\n",
    "    listnumPrinting = []\n",
    "    listnumAssembling = []\n",
    "\n",
    "    # use lists\n",
    "    tcoordslist = []\n",
    "    rcoordslist = []\n",
    "    wastecoordslist = []\n",
    "    t_build_quality_list = []\n",
    "\n",
    "    #Lists used for visualization\n",
    "    checkENV = 0\n",
    "    checkPrint = 0\n",
    "    checkNonPr = 0\n",
    "    checkMat = 0\n",
    "    # For loop for each time step\n",
    "    for t in range(0, timesteps):\n",
    "\n",
    "        # Parsing through complete robot list to check their availability\n",
    "        for i in range(len(robotlist)):\n",
    "            # Checking if robot is idle\n",
    "            if (robotlist[i].current_task == \"idle\"):\n",
    "\n",
    "                # If idle and replicator\n",
    "                if (robotlist[i].type == \"Replicator\"):\n",
    "\n",
    "                    # Checking if robot can assemble\n",
    "                    if (assembleCheck(robotlist[i],\"Replicator\")):\n",
    "                        # Starting the assembly process + reducing resources\n",
    "                        assembling(robotlist[i], \"Replicator\")\n",
    "\n",
    "                    # checking if robot can print\n",
    "                    elif (printCheck(robotlist[i])):\n",
    "                        # Starting the printing process + reducing resources\n",
    "                        printing(robotlist[i])\n",
    "\n",
    "                    # checking if robot can collect\n",
    "                    elif (collectCheck(robotlist[i])):\n",
    "                        # Starting the collecting process + reducing resources\n",
    "                        collecting(robotlist[i])\n",
    "\n",
    "                    # If can't do any task then set robot to idle\n",
    "                    else:\n",
    "                        resetTasks(robotlist[i])\n",
    "\n",
    "                # If idle and printer\n",
    "                elif (robotlist[i].type == \"Printer\"):\n",
    "\n",
    "                    if (printCheck(robotlist[i])):\n",
    "                        printing(robotlist[i])\n",
    "                    elif (collectCheck(robotlist[i])):\n",
    "                        collecting(robotlist[i])\n",
    "                    else:\n",
    "                        resetTasks(robotlist[i])\n",
    "                        \n",
    "                # If idle and assembler\n",
    "                elif (robotlist[i].type == \"Assembler\"):\n",
    "\n",
    "                    if (robotlist[i].get_previously_built() == \"\"):\n",
    "                        if (assembleCheck(robotlist[i],\"Normal\")):\n",
    "                            isAssembling = assembling(robotlist[i], \"Normal\")\n",
    "                        elif (assembleCheck(robotlist[i],\"Assembler\")):\n",
    "                            isAssembling = assembling(robotlist[i], \"Assembler\")\n",
    "                        elif (assembleCheck(robotlist[i],\"Printer\")):\n",
    "                            isAssembling = assembling(robotlist[i], \"Printer\")\n",
    "                        elif (collectCheck(robotlist[i])):\n",
    "                            collecting(robotlist[i])\n",
    "                        else:\n",
    "                            robotlist[i].set_prev_task(robotlist[i].get_curr_task())\n",
    "                            robotlist[i].set_task_dur(0)\n",
    "                            robotlist[i].set_curr_task(\"idle\")\n",
    "                    else:\n",
    "                        if (robotlist[i].get_previously_built() == \"Assembler\" and assembleCheck(robotlist[i],\"Printer\")):\n",
    "                            isAssembling = assembling(robotlist[i], \"Printer\")\n",
    "                        elif (robotlist[i].get_previously_built() == \"Printer\" and assembleCheck(robotlist[i],\"Normal\")):\n",
    "                            isAssembling = assembling(robotlist[i], \"Normal\")\n",
    "                        elif (robotlist[i].get_previously_built() == \"Normal\" and assembleCheck(robotlist[i],\"Assembler\")):\n",
    "                            isAssembling = assembling(robotlist[i], \"Assembler\")\n",
    "                        elif (collectCheck(robotlist[i])):\n",
    "                            collecting(robotlist[i])\n",
    "                        else:\n",
    "                            resetTasks(robotlist[i])\n",
    "\n",
    "                # If idle and collector\n",
    "                elif (robotlist[i].type == \"Normal\"):\n",
    "                    # checking if robot can collect\n",
    "                    if (collectCheck(robotlist[i])):\n",
    "                        # Starting the collecting process + reducing resources\n",
    "                        collecting(robotlist[i])\n",
    "                    else:\n",
    "                        resetTasks(robotlist[i])\n",
    "\n",
    "            # If robot is not idle\n",
    "            else:\n",
    "\n",
    "                # Reduce task duration if task not ending in the next time step\n",
    "                if (robotlist[i].tasks_dur - 1 != 0):\n",
    "                    robotlist[i].set_task_dur(robotlist[i].tasks_dur - 1)\n",
    "\n",
    "                # If task is ending in the next time step and Printer\n",
    "                elif (robotlist[i].tasks_dur - 1 == 0 and robotlist[i].type == \"Printer\"):\n",
    "\n",
    "                    # checking if robot can print\n",
    "                    if (printCheck(robotlist[i])):\n",
    "                        # Starting the printing process + reducing resources\n",
    "                        printing(robotlist[i])\n",
    "\n",
    "                    # checking if robot can collect\n",
    "                    elif (collectCheck(robotlist[i])):\n",
    "                        # Starting the collecting process + reducing resources\n",
    "                        collecting(robotlist[i])\n",
    "\n",
    "                    # If can't do any task then set robot to idle\n",
    "                    else:\n",
    "                        resetTasks(robotlist[i])\n",
    "\n",
    "\n",
    "                # If task is ending in the next time step and current robot is Assembler\n",
    "                elif (robotlist[i].tasks_dur - 1 == 0 and robotlist[i].type == \"Assembler\"):\n",
    "\n",
    "                    if (assembleCheck(robotlist[i],\"Normal\") and robotlist[i].get_previously_built() == \"Printer\"):\n",
    "                        assembling(robotlist[i], \"Normal\")\n",
    "                    elif (assembleCheck(robotlist[i],\"Printer\") and robotlist[i].get_previously_built() == \"Assembler\"):\n",
    "                        assembling(robotlist[i], \"Printer\")\n",
    "                    elif (assembleCheck(robotlist[i],\"Assembler\") and robotlist[i].get_previously_built() == \"Normal\"):\n",
    "                        assembling(robotlist[i], \"Assembler\")\n",
    "                        # checking if robot can collect\n",
    "                    elif (collectCheck(robotlist[i])):\n",
    "                        # Starting the collecting process + reducing resources\n",
    "                        collecting(robotlist[i])\n",
    "\n",
    "                        # If can't do any task then set robot to idle\n",
    "                    else:\n",
    "                        resetTasks(robotlist[i])\n",
    "\n",
    "                    # If robot task is ending in the next step\n",
    "                    # Create a new robot for the robot list that can start working the next cycle\n",
    "                    if (robotlist[i].get_prev_task() == \"assembling\"):\n",
    "\n",
    "                        # Build a new robot in a fixed pattern\n",
    "                        if (robotlist[i].get_previously_built() == \"\"):\n",
    "                            newbot = assemble(robotlist[i], \"Normal\")\n",
    "                        elif (robotlist[i].get_previously_built() == \"Normal\"):\n",
    "                            newbot = assemble(robotlist[i], \"Printer\")\n",
    "                        elif (robotlist[i].get_previously_built() == \"Printer\"):\n",
    "                            newbot = assemble(robotlist[i], \"Assembler\")\n",
    "                        elif (robotlist[i].get_previously_built() == \"Assembler\"):\n",
    "                            newbot = assemble(robotlist[i], \"Normal\")\n",
    "                        else:\n",
    "                            newbot = assemble(robotlist[i], \"Normal\")\n",
    "\n",
    "                        # Build a new replicator\n",
    "                        # newbot = assemble(robotlist[i], robotlist[i].get_previously_built())\n",
    "                        # If newbot passes the quality check\n",
    "                        if newbot and newbot.build_qual >= 0.5:\n",
    "\n",
    "                            # If newbot is a collector))\n",
    "                            if (checkType(newbot,\"Normal\")):\n",
    "                                # checking if robot can collect\n",
    "                                if (collectCheck(newbot)):\n",
    "                                    # Starting the collecting process + reducing resources\n",
    "                                    collecting(newbot)\n",
    "                                else:\n",
    "                                    resetTasks(newbot)\n",
    "\n",
    "                            elif (newbot.type == \"Printer\"):\n",
    "                                if (printCheck(newbot)):\n",
    "                                    printing(newbot)\n",
    "                                elif (collectCheck(newbot)):\n",
    "                                    collecting(newbot)\n",
    "                                else:\n",
    "                                    newbot.set_prev_task(newbot.get_curr_task())\n",
    "                                    newbot.set_task_dur(0)\n",
    "                                    newbot.set_curr_task(\"idle\")\n",
    "                            # If idle and assembler\n",
    "                            elif (checkType(newbot,\"Assembler\")):\n",
    "                                if (newbot.get_previously_built() == \"\"):\n",
    "                                    if (assembleCheck(newbot,\"Normal\")):\n",
    "                                        isAssembling = assembling(newbot, \"Normal\")\n",
    "                                    elif (assembleCheck(newbot,\"Assembler\")):\n",
    "                                        isAssembling = assembling(newbot, \"Assembler\")\n",
    "                                    elif (assembleCheck(newbot,\"Printer\")):\n",
    "                                        isAssembling = assembling(newbot, \"Printer\")\n",
    "                                    elif (collectCheck(newbot)):\n",
    "                                        collecting(newbot)\n",
    "                                    else:\n",
    "                                        resetTasks(newbot)\n",
    "                                else:\n",
    "                                    if (newbot[i].get_previously_built() == \"Assembler\" and assembleCheck(newbot,\"Printer\")):\n",
    "                                        isAssembling = assembling(newbot, \"Printer\")\n",
    "                                    elif (newbot[i].get_previously_built() == \"Printer\" and assembleCheck(newbot,\"Normal\")):\n",
    "                                        isAssembling = assembling(newbot, \"Normal\")\n",
    "                                    elif (newbot[i].get_previously_built() == \"Normal\" and assembleCheck(newbot,\"Printer\")):\n",
    "                                        isAssembling = assembling(newbot, \"Printer\")\n",
    "                                    elif (collectCheck(newbot)):\n",
    "                                        collecting(newbot)\n",
    "                                    else:\n",
    "                                        resetTasks(newbot)\n",
    "                            # Adding the newbot to the total robot list and robot list\n",
    "                            totlist.append(newbot)\n",
    "                            robotlist.append(newbot)\n",
    "\n",
    "                        # If newbot does not pass the quality check\n",
    "                        else:\n",
    "                            # Adding the newbot to the total robot list and useless list\n",
    "                            totlist.append(newbot)\n",
    "                            useless.append(newbot)\n",
    "\n",
    "                    # check if it can keep assembling next time step\n",
    "\n",
    "\n",
    "                # If task is ending in the next time step and Collector\n",
    "                elif (robotlist[i].type == \"Normal\"):\n",
    "\n",
    "                    # checking if robot can collect\n",
    "                    if (collectCheck(robotlist[i])):\n",
    "                        # Starting the collecting process + reducing resources\n",
    "                        collecting(robotlist[i])\n",
    "                    else:\n",
    "                        robotlist[i].set_prev_task(robotlist[i].get_curr_task())\n",
    "                        robotlist[i].set_task_dur(0)\n",
    "                        # set current task to idle if can not collect\n",
    "                        robotlist[i].set_curr_task(\"idle\")\n",
    "        \n",
    "        build_quality_list,vals = configHandler(t,totlist,robotlist,useless,checkENV,checkPrint,checkNonPr,checkMat)\n",
    "        df.loc[len(df)] = [t,NonPr,Printable,Materials,Env_Materials]+vals\n",
    "        tcoordslist.append(t)\n",
    "        rcoordslist.append(len(robotlist)) \n",
    "        wastecoordslist.append(len(useless))\n",
    "        t_build_quality_list.append(build_quality_list)\n",
    "        \n",
    "    df[\"Print Capacity\"] = df[[\"#Printer\", \"#Replicator\"]].sum(axis=1)\n",
    "    df[\"Assembling Capacity\"] = df[[\"#Assembler\", \"#Replicator\"]].sum(axis=1)\n",
    "    df[\"Collection Capacity\"] = df[[\"#Printer\", \"#Replicator\", \"#Assembler\", \"#Normal\"]].sum(axis=1)\n",
    "    return df"
   ]
  },
  {
   "cell_type": "code",
   "execution_count": 1624,
   "id": "5a51cf20",
   "metadata": {},
   "outputs": [],
   "source": [
    "def plotdf(df,configname,cols):\n",
    "    fig = px.bar(df, x=\"Time\", y=cols, title=configname+ \" - Habitat over Time\") #,labels={'#In':'#in-service','#Out':'#out-service'})\n",
    "    fig.update_layout(hovermode=\"x\")\n",
    "    fig.update_xaxes(title_text='Time')\n",
    "    fig.update_yaxes(title_text='#Robots')\n",
    "    fig.show()\n",
    "   \n",
    "        \n",
    "#     ['Time', 'NonPr', 'Printable', 'Materials', 'Env_Materials',\n",
    "#        '#Replicator', '#Normal', '#Assembler', '#Printer', '#Assembling',\n",
    "#        '#Printing', '#Collecting', '#Idle', '#In', '#Out',\n",
    "#        'Average Build Quality in-service', 'Average Build Quality of System',\n",
    "#        '#WasteReplicator', '#WasteNormal', '#WasteAssembler', '#WastePrinter',\n",
    "#        'Environment Exhaust Time', 'Printable Exhaust Time',\n",
    "#        'NonPr Exhaust Time', 'Material Exhaust Time', 'Print Capacity',\n",
    "#        'Assembling Capacity', 'Collection Capacity']\n",
    "\n",
    "#     pio.write_html(fig, file=configname+' - Habitat over time.html', auto_open=False, include_plotlyjs='cdn')\n",
    "    fig.write_html(configname+' - Habitat over time.html', include_plotlyjs='cdn')\n",
    "    cspy.iplot(fig,filename=configname+' - Habitat over time.html',auto_open=False)\n",
    "\n",
    "    fig = make_subplots(rows=2, cols=2,\n",
    "        subplot_titles=(\"Types of Robots vs Time\", \"Resources vs Time\",\n",
    "                        \"Tasks of Robots vs Time\", \"Build Quality vs Time\"),\n",
    "        specs=[[{\"type\": \"bar\"}, {\"type\": \"scatter\"}],[{\"type\": \"bar\"}, {\"type\": \"scatter\"}]])\n",
    "    \n",
    "    fig.add_trace(go.Bar(x=df['Time'],y=df['#Replicator'],name='#Replicator'),row=1, col=1)\n",
    "    fig.add_trace(go.Bar(x=df['Time'],y=df['#Normal'],name='#Normal'),row=1, col=1)\n",
    "    fig.add_trace(go.Bar(x=df['Time'],y=df['#Assembler'],name='#Assembler'),row=1, col=1)\n",
    "    fig.add_trace(go.Bar(x=df['Time'],y=df['#Printer'],name='#Printer'),row=1, col=1)\n",
    "    \n",
    "\n",
    "    fig.add_trace(go.Bar(x=df['Time'],y=df['#Assembling'],name='#Assembling'),row=2, col=1)\n",
    "    fig.add_trace(go.Bar(x=df['Time'],y=df['#Printing'],name='#Printing'),row=2, col=1)\n",
    "    fig.add_trace(go.Bar(x=df['Time'],y=df['#Collecting'],name='#Collecting'),row=2, col=1)\n",
    "    fig.add_trace(go.Bar(x=df['Time'],y=df['#Idle'],name='#Idle'),row=2, col=1)\n",
    "    \n",
    "    fig.add_trace(go.Scatter(x=df[\"Time\"], y=df['NonPr'], mode=\"lines\",name='NonPr'),row=1, col=2)\n",
    "    fig.add_trace(go.Scatter(x=df[\"Time\"], y=df['Printable'], mode=\"lines\",name='Printable'),row=1, col=2)\n",
    "    fig.add_trace(go.Scatter(x=df[\"Time\"], y=df['Materials'], mode=\"lines\",name='Materials'),row=1, col=2)\n",
    "    fig.add_trace(go.Scatter(x=df[\"Time\"], y=df['Env_Materials'], mode=\"lines\",name='Env_Materials'),row=1, col=2)\n",
    "\n",
    "    fig.add_trace(go.Scatter(x=df[\"Time\"], y=df['Average Build Quality in-service'], mode=\"lines\",name='Avg. Quality #in'),row=2, col=2)#                               \n",
    "    fig.add_trace(go.Scatter(x=df[\"Time\"], y=df['Average Build Quality of System'], mode=\"lines\",name='Avg. Quality #total'),row=2, col=2)#                               \n",
    "    fig.update_layout(hovermode=\"x\",title=configname+\" - Characteristics\")\n",
    "#     fig.update_layout(height=700, showlegend=False)\n",
    "\n",
    "    fig.show()\n",
    "    fig.write_html(configname+' - Characteristics.html', include_plotlyjs='cdn')\n",
    "    cspy.iplot(fig,filename=configname+' - Characteristics.html',auto_open=False)\n",
    "#     pio.write_html(fig, file=configname+' - Characteristics.html', auto_open=False, include_plotlyjs='cdn')\n",
    "    "
   ]
  },
  {
   "cell_type": "markdown",
   "id": "bb048060",
   "metadata": {},
   "source": [
    "# main( )"
   ]
  },
  {
   "cell_type": "code",
   "execution_count": 14,
   "id": "29213aca",
   "metadata": {},
   "outputs": [],
   "source": [
    "def main(configname,timesteps):\n",
    "    build_qual_range = [0.85,0.95]\n",
    "    init_build_qual = random.uniform(build_qual_range[0],build_qual_range[1])\n",
    "    df = pd.DataFrame(columns = table_columns)\n",
    "    \n",
    "    if configname==\"CHO\":\n",
    "        robot = Robot(\"Replicator\",init_build_qual,rid)\n",
    "        robotlist = [robot]\n",
    "        resetGlobal(timesteps,1,0,0,0)\n",
    "        df = CHO(timesteps,robotlist,df)  \n",
    "        plotdf(df,configname,[\"#In\", \"#Out\"])\n",
    "        \n",
    "    elif configname==\"DHO\":\n",
    "        robot = Robot(\"Replicator\",init_build_qual,rid)\n",
    "        robotlist = [robot]\n",
    "        resetGlobal(timesteps,1,0,0,0)\n",
    "        df = DHO(timesteps,robotlist,df)  \n",
    "        plotdf(df,configname,[\"#In\", \"#Out\"])\n",
    "        \n",
    "    elif configname==\"HHO\":\n",
    "        robot = Robot(\"Replicator\",init_build_qual,rid)\n",
    "        robotlist = [robot]\n",
    "        resetGlobal(timesteps,1,0,0,0)\n",
    "        df = HHO(timesteps,robotlist,df)  \n",
    "        plotdf(df,configname,[\"#In\", \"#Out\"])\n",
    "        \n",
    "    elif configname==\"CHE\":\n",
    "        robot1 = Robot(\"Printer\",init_build_qual,pid)\n",
    "        robot2 = Robot(\"Assembler\",init_build_qual,aid)\n",
    "        robotlist = [robot1,robot2]\n",
    "        resetGlobal(timesteps,0,0,1,1)\n",
    "        df = CHE(timesteps,robotlist,df)  \n",
    "        plotdf(df,configname,[\"#In\", \"#Out\"])\n",
    "        \n",
    "    elif configname==\"DHE\":\n",
    "        robot1 = Robot(\"Printer\",init_build_qual,pid)\n",
    "        robot2 = Robot(\"Assembler\",init_build_qual,aid)\n",
    "        robotlist = [robot1,robot2]\n",
    "        resetGlobal(timesteps,0,0,1,1)\n",
    "        df = DHE(timesteps,robotlist,df)  \n",
    "        plotdf(df,configname,[\"#In\", \"#Out\"])\n",
    "        \n",
    "    elif configname==\"HHE\":\n",
    "        robot1 = Robot(\"Printer\",init_build_qual,pid)\n",
    "        robot2 = Robot(\"Assembler\",init_build_qual,aid)\n",
    "        robotlist = [robot1,robot2]\n",
    "        resetGlobal(timesteps,0,0,1,1)\n",
    "        df = HHE(timesteps,robotlist,df)  \n",
    "        plotdf(df,configname,[\"#In\", \"#Out\"])\n",
    "#         display(df.head())\n",
    "        \n",
    "#         fig = px.bar(df, x=\"Time\", y=[\"#In\", \"#Out\"], title=configname,labels={'#In':'#in-service','#Out':'#out-service'})\n",
    "#         fig.show()\n"
   ]
  },
  {
   "cell_type": "markdown",
   "id": "09466134",
   "metadata": {},
   "source": [
    "# Run"
   ]
  },
  {
   "cell_type": "code",
   "execution_count": 1626,
   "id": "8e4ebd16",
   "metadata": {
    "scrolled": false
   },
   "outputs": [
    {
     "data": {
      "application/vnd.plotly.v1+json": {
       "config": {
        "plotlyServerURL": "https://plotly.com"
       },
       "data": [
        {
         "alignmentgroup": "True",
         "hovertemplate": "variable=#In<br>Time=%{x}<br>value=%{y}<extra></extra>",
         "legendgroup": "#In",
         "marker": {
          "color": "#636efa",
          "pattern": {
           "shape": ""
          }
         },
         "name": "#In",
         "offsetgroup": "#In",
         "orientation": "v",
         "showlegend": true,
         "textposition": "auto",
         "type": "bar",
         "x": [
          0,
          1,
          2,
          3,
          4,
          5,
          6,
          7,
          8,
          9,
          10,
          11,
          12,
          13,
          14,
          15,
          16,
          17,
          18,
          19,
          20,
          21,
          22,
          23,
          24,
          25,
          26,
          27,
          28,
          29,
          30,
          31,
          32,
          33,
          34,
          35,
          36,
          37,
          38,
          39,
          40,
          41,
          42,
          43,
          44,
          45,
          46,
          47,
          48,
          49,
          50,
          51,
          52,
          53,
          54,
          55,
          56,
          57,
          58,
          59,
          60,
          61,
          62,
          63,
          64,
          65,
          66,
          67,
          68,
          69,
          70,
          71,
          72,
          73,
          74
         ],
         "xaxis": "x",
         "y": [
          1,
          1,
          3,
          3,
          5,
          5,
          7,
          7,
          9,
          9,
          11,
          11,
          13,
          13,
          15,
          15,
          17,
          17,
          19,
          19,
          21,
          21,
          23,
          23,
          25,
          25,
          27,
          27,
          29,
          29,
          31,
          31,
          33,
          33,
          35,
          35,
          37,
          37,
          39,
          39,
          41,
          41,
          43,
          43,
          45,
          45,
          47,
          47,
          49,
          49,
          51,
          51,
          53,
          53,
          55,
          55,
          57,
          57,
          59,
          59,
          61,
          61,
          63,
          63,
          65,
          65,
          67,
          67,
          69,
          69,
          71,
          71,
          73,
          73,
          75
         ],
         "yaxis": "y"
        },
        {
         "alignmentgroup": "True",
         "hovertemplate": "variable=#Out<br>Time=%{x}<br>value=%{y}<extra></extra>",
         "legendgroup": "#Out",
         "marker": {
          "color": "#EF553B",
          "pattern": {
           "shape": ""
          }
         },
         "name": "#Out",
         "offsetgroup": "#Out",
         "orientation": "v",
         "showlegend": true,
         "textposition": "auto",
         "type": "bar",
         "x": [
          0,
          1,
          2,
          3,
          4,
          5,
          6,
          7,
          8,
          9,
          10,
          11,
          12,
          13,
          14,
          15,
          16,
          17,
          18,
          19,
          20,
          21,
          22,
          23,
          24,
          25,
          26,
          27,
          28,
          29,
          30,
          31,
          32,
          33,
          34,
          35,
          36,
          37,
          38,
          39,
          40,
          41,
          42,
          43,
          44,
          45,
          46,
          47,
          48,
          49,
          50,
          51,
          52,
          53,
          54,
          55,
          56,
          57,
          58,
          59,
          60,
          61,
          62,
          63,
          64,
          65,
          66,
          67,
          68,
          69,
          70,
          71,
          72,
          73,
          74
         ],
         "xaxis": "x",
         "y": [
          0,
          0,
          0,
          0,
          0,
          0,
          0,
          0,
          0,
          0,
          0,
          0,
          0,
          0,
          0,
          0,
          0,
          0,
          0,
          0,
          0,
          0,
          0,
          0,
          0,
          0,
          0,
          0,
          0,
          0,
          0,
          0,
          0,
          0,
          0,
          0,
          0,
          0,
          0,
          0,
          0,
          0,
          0,
          0,
          0,
          0,
          0,
          0,
          0,
          0,
          0,
          0,
          0,
          0,
          0,
          0,
          0,
          0,
          0,
          0,
          0,
          0,
          0,
          0,
          0,
          0,
          0,
          0,
          0,
          0,
          0,
          0,
          0,
          0,
          0
         ],
         "yaxis": "y"
        }
       ],
       "layout": {
        "barmode": "relative",
        "hovermode": "x",
        "legend": {
         "title": {
          "text": "variable"
         },
         "tracegroupgap": 0
        },
        "template": {
         "data": {
          "bar": [
           {
            "error_x": {
             "color": "#2a3f5f"
            },
            "error_y": {
             "color": "#2a3f5f"
            },
            "marker": {
             "line": {
              "color": "#E5ECF6",
              "width": 0.5
             },
             "pattern": {
              "fillmode": "overlay",
              "size": 10,
              "solidity": 0.2
             }
            },
            "type": "bar"
           }
          ],
          "barpolar": [
           {
            "marker": {
             "line": {
              "color": "#E5ECF6",
              "width": 0.5
             },
             "pattern": {
              "fillmode": "overlay",
              "size": 10,
              "solidity": 0.2
             }
            },
            "type": "barpolar"
           }
          ],
          "carpet": [
           {
            "aaxis": {
             "endlinecolor": "#2a3f5f",
             "gridcolor": "white",
             "linecolor": "white",
             "minorgridcolor": "white",
             "startlinecolor": "#2a3f5f"
            },
            "baxis": {
             "endlinecolor": "#2a3f5f",
             "gridcolor": "white",
             "linecolor": "white",
             "minorgridcolor": "white",
             "startlinecolor": "#2a3f5f"
            },
            "type": "carpet"
           }
          ],
          "choropleth": [
           {
            "colorbar": {
             "outlinewidth": 0,
             "ticks": ""
            },
            "type": "choropleth"
           }
          ],
          "contour": [
           {
            "colorbar": {
             "outlinewidth": 0,
             "ticks": ""
            },
            "colorscale": [
             [
              0,
              "#0d0887"
             ],
             [
              0.1111111111111111,
              "#46039f"
             ],
             [
              0.2222222222222222,
              "#7201a8"
             ],
             [
              0.3333333333333333,
              "#9c179e"
             ],
             [
              0.4444444444444444,
              "#bd3786"
             ],
             [
              0.5555555555555556,
              "#d8576b"
             ],
             [
              0.6666666666666666,
              "#ed7953"
             ],
             [
              0.7777777777777778,
              "#fb9f3a"
             ],
             [
              0.8888888888888888,
              "#fdca26"
             ],
             [
              1,
              "#f0f921"
             ]
            ],
            "type": "contour"
           }
          ],
          "contourcarpet": [
           {
            "colorbar": {
             "outlinewidth": 0,
             "ticks": ""
            },
            "type": "contourcarpet"
           }
          ],
          "heatmap": [
           {
            "colorbar": {
             "outlinewidth": 0,
             "ticks": ""
            },
            "colorscale": [
             [
              0,
              "#0d0887"
             ],
             [
              0.1111111111111111,
              "#46039f"
             ],
             [
              0.2222222222222222,
              "#7201a8"
             ],
             [
              0.3333333333333333,
              "#9c179e"
             ],
             [
              0.4444444444444444,
              "#bd3786"
             ],
             [
              0.5555555555555556,
              "#d8576b"
             ],
             [
              0.6666666666666666,
              "#ed7953"
             ],
             [
              0.7777777777777778,
              "#fb9f3a"
             ],
             [
              0.8888888888888888,
              "#fdca26"
             ],
             [
              1,
              "#f0f921"
             ]
            ],
            "type": "heatmap"
           }
          ],
          "heatmapgl": [
           {
            "colorbar": {
             "outlinewidth": 0,
             "ticks": ""
            },
            "colorscale": [
             [
              0,
              "#0d0887"
             ],
             [
              0.1111111111111111,
              "#46039f"
             ],
             [
              0.2222222222222222,
              "#7201a8"
             ],
             [
              0.3333333333333333,
              "#9c179e"
             ],
             [
              0.4444444444444444,
              "#bd3786"
             ],
             [
              0.5555555555555556,
              "#d8576b"
             ],
             [
              0.6666666666666666,
              "#ed7953"
             ],
             [
              0.7777777777777778,
              "#fb9f3a"
             ],
             [
              0.8888888888888888,
              "#fdca26"
             ],
             [
              1,
              "#f0f921"
             ]
            ],
            "type": "heatmapgl"
           }
          ],
          "histogram": [
           {
            "marker": {
             "pattern": {
              "fillmode": "overlay",
              "size": 10,
              "solidity": 0.2
             }
            },
            "type": "histogram"
           }
          ],
          "histogram2d": [
           {
            "colorbar": {
             "outlinewidth": 0,
             "ticks": ""
            },
            "colorscale": [
             [
              0,
              "#0d0887"
             ],
             [
              0.1111111111111111,
              "#46039f"
             ],
             [
              0.2222222222222222,
              "#7201a8"
             ],
             [
              0.3333333333333333,
              "#9c179e"
             ],
             [
              0.4444444444444444,
              "#bd3786"
             ],
             [
              0.5555555555555556,
              "#d8576b"
             ],
             [
              0.6666666666666666,
              "#ed7953"
             ],
             [
              0.7777777777777778,
              "#fb9f3a"
             ],
             [
              0.8888888888888888,
              "#fdca26"
             ],
             [
              1,
              "#f0f921"
             ]
            ],
            "type": "histogram2d"
           }
          ],
          "histogram2dcontour": [
           {
            "colorbar": {
             "outlinewidth": 0,
             "ticks": ""
            },
            "colorscale": [
             [
              0,
              "#0d0887"
             ],
             [
              0.1111111111111111,
              "#46039f"
             ],
             [
              0.2222222222222222,
              "#7201a8"
             ],
             [
              0.3333333333333333,
              "#9c179e"
             ],
             [
              0.4444444444444444,
              "#bd3786"
             ],
             [
              0.5555555555555556,
              "#d8576b"
             ],
             [
              0.6666666666666666,
              "#ed7953"
             ],
             [
              0.7777777777777778,
              "#fb9f3a"
             ],
             [
              0.8888888888888888,
              "#fdca26"
             ],
             [
              1,
              "#f0f921"
             ]
            ],
            "type": "histogram2dcontour"
           }
          ],
          "mesh3d": [
           {
            "colorbar": {
             "outlinewidth": 0,
             "ticks": ""
            },
            "type": "mesh3d"
           }
          ],
          "parcoords": [
           {
            "line": {
             "colorbar": {
              "outlinewidth": 0,
              "ticks": ""
             }
            },
            "type": "parcoords"
           }
          ],
          "pie": [
           {
            "automargin": true,
            "type": "pie"
           }
          ],
          "scatter": [
           {
            "fillpattern": {
             "fillmode": "overlay",
             "size": 10,
             "solidity": 0.2
            },
            "type": "scatter"
           }
          ],
          "scatter3d": [
           {
            "line": {
             "colorbar": {
              "outlinewidth": 0,
              "ticks": ""
             }
            },
            "marker": {
             "colorbar": {
              "outlinewidth": 0,
              "ticks": ""
             }
            },
            "type": "scatter3d"
           }
          ],
          "scattercarpet": [
           {
            "marker": {
             "colorbar": {
              "outlinewidth": 0,
              "ticks": ""
             }
            },
            "type": "scattercarpet"
           }
          ],
          "scattergeo": [
           {
            "marker": {
             "colorbar": {
              "outlinewidth": 0,
              "ticks": ""
             }
            },
            "type": "scattergeo"
           }
          ],
          "scattergl": [
           {
            "marker": {
             "colorbar": {
              "outlinewidth": 0,
              "ticks": ""
             }
            },
            "type": "scattergl"
           }
          ],
          "scattermapbox": [
           {
            "marker": {
             "colorbar": {
              "outlinewidth": 0,
              "ticks": ""
             }
            },
            "type": "scattermapbox"
           }
          ],
          "scatterpolar": [
           {
            "marker": {
             "colorbar": {
              "outlinewidth": 0,
              "ticks": ""
             }
            },
            "type": "scatterpolar"
           }
          ],
          "scatterpolargl": [
           {
            "marker": {
             "colorbar": {
              "outlinewidth": 0,
              "ticks": ""
             }
            },
            "type": "scatterpolargl"
           }
          ],
          "scatterternary": [
           {
            "marker": {
             "colorbar": {
              "outlinewidth": 0,
              "ticks": ""
             }
            },
            "type": "scatterternary"
           }
          ],
          "surface": [
           {
            "colorbar": {
             "outlinewidth": 0,
             "ticks": ""
            },
            "colorscale": [
             [
              0,
              "#0d0887"
             ],
             [
              0.1111111111111111,
              "#46039f"
             ],
             [
              0.2222222222222222,
              "#7201a8"
             ],
             [
              0.3333333333333333,
              "#9c179e"
             ],
             [
              0.4444444444444444,
              "#bd3786"
             ],
             [
              0.5555555555555556,
              "#d8576b"
             ],
             [
              0.6666666666666666,
              "#ed7953"
             ],
             [
              0.7777777777777778,
              "#fb9f3a"
             ],
             [
              0.8888888888888888,
              "#fdca26"
             ],
             [
              1,
              "#f0f921"
             ]
            ],
            "type": "surface"
           }
          ],
          "table": [
           {
            "cells": {
             "fill": {
              "color": "#EBF0F8"
             },
             "line": {
              "color": "white"
             }
            },
            "header": {
             "fill": {
              "color": "#C8D4E3"
             },
             "line": {
              "color": "white"
             }
            },
            "type": "table"
           }
          ]
         },
         "layout": {
          "annotationdefaults": {
           "arrowcolor": "#2a3f5f",
           "arrowhead": 0,
           "arrowwidth": 1
          },
          "autotypenumbers": "strict",
          "coloraxis": {
           "colorbar": {
            "outlinewidth": 0,
            "ticks": ""
           }
          },
          "colorscale": {
           "diverging": [
            [
             0,
             "#8e0152"
            ],
            [
             0.1,
             "#c51b7d"
            ],
            [
             0.2,
             "#de77ae"
            ],
            [
             0.3,
             "#f1b6da"
            ],
            [
             0.4,
             "#fde0ef"
            ],
            [
             0.5,
             "#f7f7f7"
            ],
            [
             0.6,
             "#e6f5d0"
            ],
            [
             0.7,
             "#b8e186"
            ],
            [
             0.8,
             "#7fbc41"
            ],
            [
             0.9,
             "#4d9221"
            ],
            [
             1,
             "#276419"
            ]
           ],
           "sequential": [
            [
             0,
             "#0d0887"
            ],
            [
             0.1111111111111111,
             "#46039f"
            ],
            [
             0.2222222222222222,
             "#7201a8"
            ],
            [
             0.3333333333333333,
             "#9c179e"
            ],
            [
             0.4444444444444444,
             "#bd3786"
            ],
            [
             0.5555555555555556,
             "#d8576b"
            ],
            [
             0.6666666666666666,
             "#ed7953"
            ],
            [
             0.7777777777777778,
             "#fb9f3a"
            ],
            [
             0.8888888888888888,
             "#fdca26"
            ],
            [
             1,
             "#f0f921"
            ]
           ],
           "sequentialminus": [
            [
             0,
             "#0d0887"
            ],
            [
             0.1111111111111111,
             "#46039f"
            ],
            [
             0.2222222222222222,
             "#7201a8"
            ],
            [
             0.3333333333333333,
             "#9c179e"
            ],
            [
             0.4444444444444444,
             "#bd3786"
            ],
            [
             0.5555555555555556,
             "#d8576b"
            ],
            [
             0.6666666666666666,
             "#ed7953"
            ],
            [
             0.7777777777777778,
             "#fb9f3a"
            ],
            [
             0.8888888888888888,
             "#fdca26"
            ],
            [
             1,
             "#f0f921"
            ]
           ]
          },
          "colorway": [
           "#636efa",
           "#EF553B",
           "#00cc96",
           "#ab63fa",
           "#FFA15A",
           "#19d3f3",
           "#FF6692",
           "#B6E880",
           "#FF97FF",
           "#FECB52"
          ],
          "font": {
           "color": "#2a3f5f"
          },
          "geo": {
           "bgcolor": "white",
           "lakecolor": "white",
           "landcolor": "#E5ECF6",
           "showlakes": true,
           "showland": true,
           "subunitcolor": "white"
          },
          "hoverlabel": {
           "align": "left"
          },
          "hovermode": "closest",
          "mapbox": {
           "style": "light"
          },
          "paper_bgcolor": "white",
          "plot_bgcolor": "#E5ECF6",
          "polar": {
           "angularaxis": {
            "gridcolor": "white",
            "linecolor": "white",
            "ticks": ""
           },
           "bgcolor": "#E5ECF6",
           "radialaxis": {
            "gridcolor": "white",
            "linecolor": "white",
            "ticks": ""
           }
          },
          "scene": {
           "xaxis": {
            "backgroundcolor": "#E5ECF6",
            "gridcolor": "white",
            "gridwidth": 2,
            "linecolor": "white",
            "showbackground": true,
            "ticks": "",
            "zerolinecolor": "white"
           },
           "yaxis": {
            "backgroundcolor": "#E5ECF6",
            "gridcolor": "white",
            "gridwidth": 2,
            "linecolor": "white",
            "showbackground": true,
            "ticks": "",
            "zerolinecolor": "white"
           },
           "zaxis": {
            "backgroundcolor": "#E5ECF6",
            "gridcolor": "white",
            "gridwidth": 2,
            "linecolor": "white",
            "showbackground": true,
            "ticks": "",
            "zerolinecolor": "white"
           }
          },
          "shapedefaults": {
           "line": {
            "color": "#2a3f5f"
           }
          },
          "ternary": {
           "aaxis": {
            "gridcolor": "white",
            "linecolor": "white",
            "ticks": ""
           },
           "baxis": {
            "gridcolor": "white",
            "linecolor": "white",
            "ticks": ""
           },
           "bgcolor": "#E5ECF6",
           "caxis": {
            "gridcolor": "white",
            "linecolor": "white",
            "ticks": ""
           }
          },
          "title": {
           "x": 0.05
          },
          "xaxis": {
           "automargin": true,
           "gridcolor": "white",
           "linecolor": "white",
           "ticks": "",
           "title": {
            "standoff": 15
           },
           "zerolinecolor": "white",
           "zerolinewidth": 2
          },
          "yaxis": {
           "automargin": true,
           "gridcolor": "white",
           "linecolor": "white",
           "ticks": "",
           "title": {
            "standoff": 15
           },
           "zerolinecolor": "white",
           "zerolinewidth": 2
          }
         }
        },
        "title": {
         "text": "CHO - Habitat over Time"
        },
        "xaxis": {
         "anchor": "y",
         "domain": [
          0,
          1
         ],
         "title": {
          "text": "Time"
         }
        },
        "yaxis": {
         "anchor": "x",
         "domain": [
          0,
          1
         ],
         "title": {
          "text": "#Robots"
         }
        }
       }
      },
      "text/html": [
       "<div>                            <div id=\"d12b3d73-9d36-4eff-93de-14289750308f\" class=\"plotly-graph-div\" style=\"height:525px; width:100%;\"></div>            <script type=\"text/javascript\">                require([\"plotly\"], function(Plotly) {                    window.PLOTLYENV=window.PLOTLYENV || {};                                    if (document.getElementById(\"d12b3d73-9d36-4eff-93de-14289750308f\")) {                    Plotly.newPlot(                        \"d12b3d73-9d36-4eff-93de-14289750308f\",                        [{\"alignmentgroup\":\"True\",\"hovertemplate\":\"variable=#In<br>Time=%{x}<br>value=%{y}<extra></extra>\",\"legendgroup\":\"#In\",\"marker\":{\"color\":\"#636efa\",\"pattern\":{\"shape\":\"\"}},\"name\":\"#In\",\"offsetgroup\":\"#In\",\"orientation\":\"v\",\"showlegend\":true,\"textposition\":\"auto\",\"x\":[0.0,1.0,2.0,3.0,4.0,5.0,6.0,7.0,8.0,9.0,10.0,11.0,12.0,13.0,14.0,15.0,16.0,17.0,18.0,19.0,20.0,21.0,22.0,23.0,24.0,25.0,26.0,27.0,28.0,29.0,30.0,31.0,32.0,33.0,34.0,35.0,36.0,37.0,38.0,39.0,40.0,41.0,42.0,43.0,44.0,45.0,46.0,47.0,48.0,49.0,50.0,51.0,52.0,53.0,54.0,55.0,56.0,57.0,58.0,59.0,60.0,61.0,62.0,63.0,64.0,65.0,66.0,67.0,68.0,69.0,70.0,71.0,72.0,73.0,74.0],\"xaxis\":\"x\",\"y\":[1.0,1.0,3.0,3.0,5.0,5.0,7.0,7.0,9.0,9.0,11.0,11.0,13.0,13.0,15.0,15.0,17.0,17.0,19.0,19.0,21.0,21.0,23.0,23.0,25.0,25.0,27.0,27.0,29.0,29.0,31.0,31.0,33.0,33.0,35.0,35.0,37.0,37.0,39.0,39.0,41.0,41.0,43.0,43.0,45.0,45.0,47.0,47.0,49.0,49.0,51.0,51.0,53.0,53.0,55.0,55.0,57.0,57.0,59.0,59.0,61.0,61.0,63.0,63.0,65.0,65.0,67.0,67.0,69.0,69.0,71.0,71.0,73.0,73.0,75.0],\"yaxis\":\"y\",\"type\":\"bar\"},{\"alignmentgroup\":\"True\",\"hovertemplate\":\"variable=#Out<br>Time=%{x}<br>value=%{y}<extra></extra>\",\"legendgroup\":\"#Out\",\"marker\":{\"color\":\"#EF553B\",\"pattern\":{\"shape\":\"\"}},\"name\":\"#Out\",\"offsetgroup\":\"#Out\",\"orientation\":\"v\",\"showlegend\":true,\"textposition\":\"auto\",\"x\":[0.0,1.0,2.0,3.0,4.0,5.0,6.0,7.0,8.0,9.0,10.0,11.0,12.0,13.0,14.0,15.0,16.0,17.0,18.0,19.0,20.0,21.0,22.0,23.0,24.0,25.0,26.0,27.0,28.0,29.0,30.0,31.0,32.0,33.0,34.0,35.0,36.0,37.0,38.0,39.0,40.0,41.0,42.0,43.0,44.0,45.0,46.0,47.0,48.0,49.0,50.0,51.0,52.0,53.0,54.0,55.0,56.0,57.0,58.0,59.0,60.0,61.0,62.0,63.0,64.0,65.0,66.0,67.0,68.0,69.0,70.0,71.0,72.0,73.0,74.0],\"xaxis\":\"x\",\"y\":[0.0,0.0,0.0,0.0,0.0,0.0,0.0,0.0,0.0,0.0,0.0,0.0,0.0,0.0,0.0,0.0,0.0,0.0,0.0,0.0,0.0,0.0,0.0,0.0,0.0,0.0,0.0,0.0,0.0,0.0,0.0,0.0,0.0,0.0,0.0,0.0,0.0,0.0,0.0,0.0,0.0,0.0,0.0,0.0,0.0,0.0,0.0,0.0,0.0,0.0,0.0,0.0,0.0,0.0,0.0,0.0,0.0,0.0,0.0,0.0,0.0,0.0,0.0,0.0,0.0,0.0,0.0,0.0,0.0,0.0,0.0,0.0,0.0,0.0,0.0],\"yaxis\":\"y\",\"type\":\"bar\"}],                        {\"template\":{\"data\":{\"histogram2dcontour\":[{\"type\":\"histogram2dcontour\",\"colorbar\":{\"outlinewidth\":0,\"ticks\":\"\"},\"colorscale\":[[0.0,\"#0d0887\"],[0.1111111111111111,\"#46039f\"],[0.2222222222222222,\"#7201a8\"],[0.3333333333333333,\"#9c179e\"],[0.4444444444444444,\"#bd3786\"],[0.5555555555555556,\"#d8576b\"],[0.6666666666666666,\"#ed7953\"],[0.7777777777777778,\"#fb9f3a\"],[0.8888888888888888,\"#fdca26\"],[1.0,\"#f0f921\"]]}],\"choropleth\":[{\"type\":\"choropleth\",\"colorbar\":{\"outlinewidth\":0,\"ticks\":\"\"}}],\"histogram2d\":[{\"type\":\"histogram2d\",\"colorbar\":{\"outlinewidth\":0,\"ticks\":\"\"},\"colorscale\":[[0.0,\"#0d0887\"],[0.1111111111111111,\"#46039f\"],[0.2222222222222222,\"#7201a8\"],[0.3333333333333333,\"#9c179e\"],[0.4444444444444444,\"#bd3786\"],[0.5555555555555556,\"#d8576b\"],[0.6666666666666666,\"#ed7953\"],[0.7777777777777778,\"#fb9f3a\"],[0.8888888888888888,\"#fdca26\"],[1.0,\"#f0f921\"]]}],\"heatmap\":[{\"type\":\"heatmap\",\"colorbar\":{\"outlinewidth\":0,\"ticks\":\"\"},\"colorscale\":[[0.0,\"#0d0887\"],[0.1111111111111111,\"#46039f\"],[0.2222222222222222,\"#7201a8\"],[0.3333333333333333,\"#9c179e\"],[0.4444444444444444,\"#bd3786\"],[0.5555555555555556,\"#d8576b\"],[0.6666666666666666,\"#ed7953\"],[0.7777777777777778,\"#fb9f3a\"],[0.8888888888888888,\"#fdca26\"],[1.0,\"#f0f921\"]]}],\"heatmapgl\":[{\"type\":\"heatmapgl\",\"colorbar\":{\"outlinewidth\":0,\"ticks\":\"\"},\"colorscale\":[[0.0,\"#0d0887\"],[0.1111111111111111,\"#46039f\"],[0.2222222222222222,\"#7201a8\"],[0.3333333333333333,\"#9c179e\"],[0.4444444444444444,\"#bd3786\"],[0.5555555555555556,\"#d8576b\"],[0.6666666666666666,\"#ed7953\"],[0.7777777777777778,\"#fb9f3a\"],[0.8888888888888888,\"#fdca26\"],[1.0,\"#f0f921\"]]}],\"contourcarpet\":[{\"type\":\"contourcarpet\",\"colorbar\":{\"outlinewidth\":0,\"ticks\":\"\"}}],\"contour\":[{\"type\":\"contour\",\"colorbar\":{\"outlinewidth\":0,\"ticks\":\"\"},\"colorscale\":[[0.0,\"#0d0887\"],[0.1111111111111111,\"#46039f\"],[0.2222222222222222,\"#7201a8\"],[0.3333333333333333,\"#9c179e\"],[0.4444444444444444,\"#bd3786\"],[0.5555555555555556,\"#d8576b\"],[0.6666666666666666,\"#ed7953\"],[0.7777777777777778,\"#fb9f3a\"],[0.8888888888888888,\"#fdca26\"],[1.0,\"#f0f921\"]]}],\"surface\":[{\"type\":\"surface\",\"colorbar\":{\"outlinewidth\":0,\"ticks\":\"\"},\"colorscale\":[[0.0,\"#0d0887\"],[0.1111111111111111,\"#46039f\"],[0.2222222222222222,\"#7201a8\"],[0.3333333333333333,\"#9c179e\"],[0.4444444444444444,\"#bd3786\"],[0.5555555555555556,\"#d8576b\"],[0.6666666666666666,\"#ed7953\"],[0.7777777777777778,\"#fb9f3a\"],[0.8888888888888888,\"#fdca26\"],[1.0,\"#f0f921\"]]}],\"mesh3d\":[{\"type\":\"mesh3d\",\"colorbar\":{\"outlinewidth\":0,\"ticks\":\"\"}}],\"scatter\":[{\"fillpattern\":{\"fillmode\":\"overlay\",\"size\":10,\"solidity\":0.2},\"type\":\"scatter\"}],\"parcoords\":[{\"type\":\"parcoords\",\"line\":{\"colorbar\":{\"outlinewidth\":0,\"ticks\":\"\"}}}],\"scatterpolargl\":[{\"type\":\"scatterpolargl\",\"marker\":{\"colorbar\":{\"outlinewidth\":0,\"ticks\":\"\"}}}],\"bar\":[{\"error_x\":{\"color\":\"#2a3f5f\"},\"error_y\":{\"color\":\"#2a3f5f\"},\"marker\":{\"line\":{\"color\":\"#E5ECF6\",\"width\":0.5},\"pattern\":{\"fillmode\":\"overlay\",\"size\":10,\"solidity\":0.2}},\"type\":\"bar\"}],\"scattergeo\":[{\"type\":\"scattergeo\",\"marker\":{\"colorbar\":{\"outlinewidth\":0,\"ticks\":\"\"}}}],\"scatterpolar\":[{\"type\":\"scatterpolar\",\"marker\":{\"colorbar\":{\"outlinewidth\":0,\"ticks\":\"\"}}}],\"histogram\":[{\"marker\":{\"pattern\":{\"fillmode\":\"overlay\",\"size\":10,\"solidity\":0.2}},\"type\":\"histogram\"}],\"scattergl\":[{\"type\":\"scattergl\",\"marker\":{\"colorbar\":{\"outlinewidth\":0,\"ticks\":\"\"}}}],\"scatter3d\":[{\"type\":\"scatter3d\",\"line\":{\"colorbar\":{\"outlinewidth\":0,\"ticks\":\"\"}},\"marker\":{\"colorbar\":{\"outlinewidth\":0,\"ticks\":\"\"}}}],\"scattermapbox\":[{\"type\":\"scattermapbox\",\"marker\":{\"colorbar\":{\"outlinewidth\":0,\"ticks\":\"\"}}}],\"scatterternary\":[{\"type\":\"scatterternary\",\"marker\":{\"colorbar\":{\"outlinewidth\":0,\"ticks\":\"\"}}}],\"scattercarpet\":[{\"type\":\"scattercarpet\",\"marker\":{\"colorbar\":{\"outlinewidth\":0,\"ticks\":\"\"}}}],\"carpet\":[{\"aaxis\":{\"endlinecolor\":\"#2a3f5f\",\"gridcolor\":\"white\",\"linecolor\":\"white\",\"minorgridcolor\":\"white\",\"startlinecolor\":\"#2a3f5f\"},\"baxis\":{\"endlinecolor\":\"#2a3f5f\",\"gridcolor\":\"white\",\"linecolor\":\"white\",\"minorgridcolor\":\"white\",\"startlinecolor\":\"#2a3f5f\"},\"type\":\"carpet\"}],\"table\":[{\"cells\":{\"fill\":{\"color\":\"#EBF0F8\"},\"line\":{\"color\":\"white\"}},\"header\":{\"fill\":{\"color\":\"#C8D4E3\"},\"line\":{\"color\":\"white\"}},\"type\":\"table\"}],\"barpolar\":[{\"marker\":{\"line\":{\"color\":\"#E5ECF6\",\"width\":0.5},\"pattern\":{\"fillmode\":\"overlay\",\"size\":10,\"solidity\":0.2}},\"type\":\"barpolar\"}],\"pie\":[{\"automargin\":true,\"type\":\"pie\"}]},\"layout\":{\"autotypenumbers\":\"strict\",\"colorway\":[\"#636efa\",\"#EF553B\",\"#00cc96\",\"#ab63fa\",\"#FFA15A\",\"#19d3f3\",\"#FF6692\",\"#B6E880\",\"#FF97FF\",\"#FECB52\"],\"font\":{\"color\":\"#2a3f5f\"},\"hovermode\":\"closest\",\"hoverlabel\":{\"align\":\"left\"},\"paper_bgcolor\":\"white\",\"plot_bgcolor\":\"#E5ECF6\",\"polar\":{\"bgcolor\":\"#E5ECF6\",\"angularaxis\":{\"gridcolor\":\"white\",\"linecolor\":\"white\",\"ticks\":\"\"},\"radialaxis\":{\"gridcolor\":\"white\",\"linecolor\":\"white\",\"ticks\":\"\"}},\"ternary\":{\"bgcolor\":\"#E5ECF6\",\"aaxis\":{\"gridcolor\":\"white\",\"linecolor\":\"white\",\"ticks\":\"\"},\"baxis\":{\"gridcolor\":\"white\",\"linecolor\":\"white\",\"ticks\":\"\"},\"caxis\":{\"gridcolor\":\"white\",\"linecolor\":\"white\",\"ticks\":\"\"}},\"coloraxis\":{\"colorbar\":{\"outlinewidth\":0,\"ticks\":\"\"}},\"colorscale\":{\"sequential\":[[0.0,\"#0d0887\"],[0.1111111111111111,\"#46039f\"],[0.2222222222222222,\"#7201a8\"],[0.3333333333333333,\"#9c179e\"],[0.4444444444444444,\"#bd3786\"],[0.5555555555555556,\"#d8576b\"],[0.6666666666666666,\"#ed7953\"],[0.7777777777777778,\"#fb9f3a\"],[0.8888888888888888,\"#fdca26\"],[1.0,\"#f0f921\"]],\"sequentialminus\":[[0.0,\"#0d0887\"],[0.1111111111111111,\"#46039f\"],[0.2222222222222222,\"#7201a8\"],[0.3333333333333333,\"#9c179e\"],[0.4444444444444444,\"#bd3786\"],[0.5555555555555556,\"#d8576b\"],[0.6666666666666666,\"#ed7953\"],[0.7777777777777778,\"#fb9f3a\"],[0.8888888888888888,\"#fdca26\"],[1.0,\"#f0f921\"]],\"diverging\":[[0,\"#8e0152\"],[0.1,\"#c51b7d\"],[0.2,\"#de77ae\"],[0.3,\"#f1b6da\"],[0.4,\"#fde0ef\"],[0.5,\"#f7f7f7\"],[0.6,\"#e6f5d0\"],[0.7,\"#b8e186\"],[0.8,\"#7fbc41\"],[0.9,\"#4d9221\"],[1,\"#276419\"]]},\"xaxis\":{\"gridcolor\":\"white\",\"linecolor\":\"white\",\"ticks\":\"\",\"title\":{\"standoff\":15},\"zerolinecolor\":\"white\",\"automargin\":true,\"zerolinewidth\":2},\"yaxis\":{\"gridcolor\":\"white\",\"linecolor\":\"white\",\"ticks\":\"\",\"title\":{\"standoff\":15},\"zerolinecolor\":\"white\",\"automargin\":true,\"zerolinewidth\":2},\"scene\":{\"xaxis\":{\"backgroundcolor\":\"#E5ECF6\",\"gridcolor\":\"white\",\"linecolor\":\"white\",\"showbackground\":true,\"ticks\":\"\",\"zerolinecolor\":\"white\",\"gridwidth\":2},\"yaxis\":{\"backgroundcolor\":\"#E5ECF6\",\"gridcolor\":\"white\",\"linecolor\":\"white\",\"showbackground\":true,\"ticks\":\"\",\"zerolinecolor\":\"white\",\"gridwidth\":2},\"zaxis\":{\"backgroundcolor\":\"#E5ECF6\",\"gridcolor\":\"white\",\"linecolor\":\"white\",\"showbackground\":true,\"ticks\":\"\",\"zerolinecolor\":\"white\",\"gridwidth\":2}},\"shapedefaults\":{\"line\":{\"color\":\"#2a3f5f\"}},\"annotationdefaults\":{\"arrowcolor\":\"#2a3f5f\",\"arrowhead\":0,\"arrowwidth\":1},\"geo\":{\"bgcolor\":\"white\",\"landcolor\":\"#E5ECF6\",\"subunitcolor\":\"white\",\"showland\":true,\"showlakes\":true,\"lakecolor\":\"white\"},\"title\":{\"x\":0.05},\"mapbox\":{\"style\":\"light\"}}},\"xaxis\":{\"anchor\":\"y\",\"domain\":[0.0,1.0],\"title\":{\"text\":\"Time\"}},\"yaxis\":{\"anchor\":\"x\",\"domain\":[0.0,1.0],\"title\":{\"text\":\"#Robots\"}},\"legend\":{\"title\":{\"text\":\"variable\"},\"tracegroupgap\":0},\"title\":{\"text\":\"CHO - Habitat over Time\"},\"barmode\":\"relative\",\"hovermode\":\"x\"},                        {\"responsive\": true}                    ).then(function(){\n",
       "                            \n",
       "var gd = document.getElementById('d12b3d73-9d36-4eff-93de-14289750308f');\n",
       "var x = new MutationObserver(function (mutations, observer) {{\n",
       "        var display = window.getComputedStyle(gd).display;\n",
       "        if (!display || display === 'none') {{\n",
       "            console.log([gd, 'removed!']);\n",
       "            Plotly.purge(gd);\n",
       "            observer.disconnect();\n",
       "        }}\n",
       "}});\n",
       "\n",
       "// Listen for the removal of the full notebook cells\n",
       "var notebookContainer = gd.closest('#notebook-container');\n",
       "if (notebookContainer) {{\n",
       "    x.observe(notebookContainer, {childList: true});\n",
       "}}\n",
       "\n",
       "// Listen for the clearing of the current output cell\n",
       "var outputEl = gd.closest('.output');\n",
       "if (outputEl) {{\n",
       "    x.observe(outputEl, {childList: true});\n",
       "}}\n",
       "\n",
       "                        })                };                });            </script>        </div>"
      ]
     },
     "metadata": {},
     "output_type": "display_data"
    },
    {
     "data": {
      "application/vnd.plotly.v1+json": {
       "config": {
        "plotlyServerURL": "https://plotly.com"
       },
       "data": [
        {
         "name": "#Replicator",
         "type": "bar",
         "x": [
          0,
          1,
          2,
          3,
          4,
          5,
          6,
          7,
          8,
          9,
          10,
          11,
          12,
          13,
          14,
          15,
          16,
          17,
          18,
          19,
          20,
          21,
          22,
          23,
          24,
          25,
          26,
          27,
          28,
          29,
          30,
          31,
          32,
          33,
          34,
          35,
          36,
          37,
          38,
          39,
          40,
          41,
          42,
          43,
          44,
          45,
          46,
          47,
          48,
          49,
          50,
          51,
          52,
          53,
          54,
          55,
          56,
          57,
          58,
          59,
          60,
          61,
          62,
          63,
          64,
          65,
          66,
          67,
          68,
          69,
          70,
          71,
          72,
          73,
          74
         ],
         "xaxis": "x",
         "y": [
          1,
          1,
          1,
          1,
          1,
          1,
          1,
          1,
          1,
          1,
          1,
          1,
          1,
          1,
          1,
          1,
          1,
          1,
          1,
          1,
          1,
          1,
          1,
          1,
          1,
          1,
          1,
          1,
          1,
          1,
          1,
          1,
          1,
          1,
          1,
          1,
          1,
          1,
          1,
          1,
          1,
          1,
          1,
          1,
          1,
          1,
          1,
          1,
          1,
          1,
          1,
          1,
          1,
          1,
          1,
          1,
          1,
          1,
          1,
          1,
          1,
          1,
          1,
          1,
          1,
          1,
          1,
          1,
          1,
          1,
          1,
          1,
          1,
          1,
          1
         ],
         "yaxis": "y"
        },
        {
         "name": "#Normal",
         "type": "bar",
         "x": [
          0,
          1,
          2,
          3,
          4,
          5,
          6,
          7,
          8,
          9,
          10,
          11,
          12,
          13,
          14,
          15,
          16,
          17,
          18,
          19,
          20,
          21,
          22,
          23,
          24,
          25,
          26,
          27,
          28,
          29,
          30,
          31,
          32,
          33,
          34,
          35,
          36,
          37,
          38,
          39,
          40,
          41,
          42,
          43,
          44,
          45,
          46,
          47,
          48,
          49,
          50,
          51,
          52,
          53,
          54,
          55,
          56,
          57,
          58,
          59,
          60,
          61,
          62,
          63,
          64,
          65,
          66,
          67,
          68,
          69,
          70,
          71,
          72,
          73,
          74
         ],
         "xaxis": "x",
         "y": [
          0,
          0,
          2,
          2,
          4,
          4,
          6,
          6,
          8,
          8,
          10,
          10,
          12,
          12,
          14,
          14,
          16,
          16,
          18,
          18,
          20,
          20,
          22,
          22,
          24,
          24,
          26,
          26,
          28,
          28,
          30,
          30,
          32,
          32,
          34,
          34,
          36,
          36,
          38,
          38,
          40,
          40,
          42,
          42,
          44,
          44,
          46,
          46,
          48,
          48,
          50,
          50,
          52,
          52,
          54,
          54,
          56,
          56,
          58,
          58,
          60,
          60,
          62,
          62,
          64,
          64,
          66,
          66,
          68,
          68,
          70,
          70,
          72,
          72,
          74
         ],
         "yaxis": "y"
        },
        {
         "name": "#Assembler",
         "type": "bar",
         "x": [
          0,
          1,
          2,
          3,
          4,
          5,
          6,
          7,
          8,
          9,
          10,
          11,
          12,
          13,
          14,
          15,
          16,
          17,
          18,
          19,
          20,
          21,
          22,
          23,
          24,
          25,
          26,
          27,
          28,
          29,
          30,
          31,
          32,
          33,
          34,
          35,
          36,
          37,
          38,
          39,
          40,
          41,
          42,
          43,
          44,
          45,
          46,
          47,
          48,
          49,
          50,
          51,
          52,
          53,
          54,
          55,
          56,
          57,
          58,
          59,
          60,
          61,
          62,
          63,
          64,
          65,
          66,
          67,
          68,
          69,
          70,
          71,
          72,
          73,
          74
         ],
         "xaxis": "x",
         "y": [
          0,
          0,
          0,
          0,
          0,
          0,
          0,
          0,
          0,
          0,
          0,
          0,
          0,
          0,
          0,
          0,
          0,
          0,
          0,
          0,
          0,
          0,
          0,
          0,
          0,
          0,
          0,
          0,
          0,
          0,
          0,
          0,
          0,
          0,
          0,
          0,
          0,
          0,
          0,
          0,
          0,
          0,
          0,
          0,
          0,
          0,
          0,
          0,
          0,
          0,
          0,
          0,
          0,
          0,
          0,
          0,
          0,
          0,
          0,
          0,
          0,
          0,
          0,
          0,
          0,
          0,
          0,
          0,
          0,
          0,
          0,
          0,
          0,
          0,
          0
         ],
         "yaxis": "y"
        },
        {
         "name": "#Printer",
         "type": "bar",
         "x": [
          0,
          1,
          2,
          3,
          4,
          5,
          6,
          7,
          8,
          9,
          10,
          11,
          12,
          13,
          14,
          15,
          16,
          17,
          18,
          19,
          20,
          21,
          22,
          23,
          24,
          25,
          26,
          27,
          28,
          29,
          30,
          31,
          32,
          33,
          34,
          35,
          36,
          37,
          38,
          39,
          40,
          41,
          42,
          43,
          44,
          45,
          46,
          47,
          48,
          49,
          50,
          51,
          52,
          53,
          54,
          55,
          56,
          57,
          58,
          59,
          60,
          61,
          62,
          63,
          64,
          65,
          66,
          67,
          68,
          69,
          70,
          71,
          72,
          73,
          74
         ],
         "xaxis": "x",
         "y": [
          0,
          0,
          0,
          0,
          0,
          0,
          0,
          0,
          0,
          0,
          0,
          0,
          0,
          0,
          0,
          0,
          0,
          0,
          0,
          0,
          0,
          0,
          0,
          0,
          0,
          0,
          0,
          0,
          0,
          0,
          0,
          0,
          0,
          0,
          0,
          0,
          0,
          0,
          0,
          0,
          0,
          0,
          0,
          0,
          0,
          0,
          0,
          0,
          0,
          0,
          0,
          0,
          0,
          0,
          0,
          0,
          0,
          0,
          0,
          0,
          0,
          0,
          0,
          0,
          0,
          0,
          0,
          0,
          0,
          0,
          0,
          0,
          0,
          0,
          0
         ],
         "yaxis": "y"
        },
        {
         "name": "#Assembling",
         "type": "bar",
         "x": [
          0,
          1,
          2,
          3,
          4,
          5,
          6,
          7,
          8,
          9,
          10,
          11,
          12,
          13,
          14,
          15,
          16,
          17,
          18,
          19,
          20,
          21,
          22,
          23,
          24,
          25,
          26,
          27,
          28,
          29,
          30,
          31,
          32,
          33,
          34,
          35,
          36,
          37,
          38,
          39,
          40,
          41,
          42,
          43,
          44,
          45,
          46,
          47,
          48,
          49,
          50,
          51,
          52,
          53,
          54,
          55,
          56,
          57,
          58,
          59,
          60,
          61,
          62,
          63,
          64,
          65,
          66,
          67,
          68,
          69,
          70,
          71,
          72,
          73,
          74
         ],
         "xaxis": "x3",
         "y": [
          1,
          1,
          1,
          1,
          1,
          1,
          1,
          1,
          1,
          1,
          1,
          1,
          1,
          1,
          1,
          1,
          1,
          1,
          1,
          1,
          1,
          1,
          1,
          1,
          1,
          1,
          1,
          1,
          1,
          1,
          1,
          1,
          1,
          1,
          1,
          1,
          1,
          1,
          1,
          1,
          1,
          1,
          1,
          1,
          1,
          1,
          1,
          1,
          1,
          1,
          1,
          1,
          1,
          1,
          1,
          1,
          1,
          1,
          1,
          1,
          1,
          1,
          1,
          1,
          1,
          1,
          1,
          1,
          1,
          1,
          1,
          1,
          1,
          1,
          1
         ],
         "yaxis": "y3"
        },
        {
         "name": "#Printing",
         "type": "bar",
         "x": [
          0,
          1,
          2,
          3,
          4,
          5,
          6,
          7,
          8,
          9,
          10,
          11,
          12,
          13,
          14,
          15,
          16,
          17,
          18,
          19,
          20,
          21,
          22,
          23,
          24,
          25,
          26,
          27,
          28,
          29,
          30,
          31,
          32,
          33,
          34,
          35,
          36,
          37,
          38,
          39,
          40,
          41,
          42,
          43,
          44,
          45,
          46,
          47,
          48,
          49,
          50,
          51,
          52,
          53,
          54,
          55,
          56,
          57,
          58,
          59,
          60,
          61,
          62,
          63,
          64,
          65,
          66,
          67,
          68,
          69,
          70,
          71,
          72,
          73,
          74
         ],
         "xaxis": "x3",
         "y": [
          0,
          0,
          0,
          0,
          0,
          0,
          0,
          0,
          0,
          0,
          0,
          0,
          0,
          0,
          0,
          0,
          0,
          0,
          0,
          0,
          0,
          0,
          0,
          0,
          0,
          0,
          0,
          0,
          0,
          0,
          0,
          0,
          0,
          0,
          0,
          0,
          0,
          0,
          0,
          0,
          0,
          0,
          0,
          0,
          0,
          0,
          0,
          0,
          0,
          0,
          0,
          0,
          0,
          0,
          0,
          0,
          0,
          0,
          0,
          0,
          0,
          0,
          0,
          0,
          0,
          0,
          0,
          0,
          0,
          0,
          0,
          0,
          0,
          0,
          0
         ],
         "yaxis": "y3"
        },
        {
         "name": "#Collecting",
         "type": "bar",
         "x": [
          0,
          1,
          2,
          3,
          4,
          5,
          6,
          7,
          8,
          9,
          10,
          11,
          12,
          13,
          14,
          15,
          16,
          17,
          18,
          19,
          20,
          21,
          22,
          23,
          24,
          25,
          26,
          27,
          28,
          29,
          30,
          31,
          32,
          33,
          34,
          35,
          36,
          37,
          38,
          39,
          40,
          41,
          42,
          43,
          44,
          45,
          46,
          47,
          48,
          49,
          50,
          51,
          52,
          53,
          54,
          55,
          56,
          57,
          58,
          59,
          60,
          61,
          62,
          63,
          64,
          65,
          66,
          67,
          68,
          69,
          70,
          71,
          72,
          73,
          74
         ],
         "xaxis": "x3",
         "y": [
          0,
          0,
          2,
          2,
          4,
          4,
          6,
          6,
          8,
          8,
          10,
          10,
          12,
          12,
          14,
          14,
          16,
          16,
          18,
          18,
          20,
          20,
          22,
          22,
          24,
          24,
          26,
          26,
          28,
          28,
          30,
          30,
          32,
          4,
          0,
          0,
          0,
          0,
          0,
          0,
          0,
          0,
          0,
          0,
          0,
          0,
          0,
          0,
          0,
          0,
          0,
          0,
          0,
          0,
          0,
          0,
          0,
          0,
          0,
          0,
          0,
          0,
          0,
          0,
          0,
          0,
          0,
          0,
          0,
          0,
          0,
          0,
          0,
          0,
          0
         ],
         "yaxis": "y3"
        },
        {
         "name": "#Idle",
         "type": "bar",
         "x": [
          0,
          1,
          2,
          3,
          4,
          5,
          6,
          7,
          8,
          9,
          10,
          11,
          12,
          13,
          14,
          15,
          16,
          17,
          18,
          19,
          20,
          21,
          22,
          23,
          24,
          25,
          26,
          27,
          28,
          29,
          30,
          31,
          32,
          33,
          34,
          35,
          36,
          37,
          38,
          39,
          40,
          41,
          42,
          43,
          44,
          45,
          46,
          47,
          48,
          49,
          50,
          51,
          52,
          53,
          54,
          55,
          56,
          57,
          58,
          59,
          60,
          61,
          62,
          63,
          64,
          65,
          66,
          67,
          68,
          69,
          70,
          71,
          72,
          73,
          74
         ],
         "xaxis": "x3",
         "y": [
          0,
          0,
          0,
          0,
          0,
          0,
          0,
          0,
          0,
          0,
          0,
          0,
          0,
          0,
          0,
          0,
          0,
          0,
          0,
          0,
          0,
          0,
          0,
          0,
          0,
          0,
          0,
          0,
          0,
          0,
          0,
          0,
          0,
          28,
          34,
          34,
          36,
          36,
          38,
          38,
          40,
          40,
          42,
          42,
          44,
          44,
          46,
          46,
          48,
          48,
          50,
          50,
          52,
          52,
          54,
          54,
          56,
          56,
          58,
          58,
          60,
          60,
          62,
          62,
          64,
          64,
          66,
          66,
          68,
          68,
          70,
          70,
          72,
          72,
          74
         ],
         "yaxis": "y3"
        },
        {
         "mode": "lines",
         "name": "NonPr",
         "type": "scatter",
         "x": [
          0,
          1,
          2,
          3,
          4,
          5,
          6,
          7,
          8,
          9,
          10,
          11,
          12,
          13,
          14,
          15,
          16,
          17,
          18,
          19,
          20,
          21,
          22,
          23,
          24,
          25,
          26,
          27,
          28,
          29,
          30,
          31,
          32,
          33,
          34,
          35,
          36,
          37,
          38,
          39,
          40,
          41,
          42,
          43,
          44,
          45,
          46,
          47,
          48,
          49,
          50,
          51,
          52,
          53,
          54,
          55,
          56,
          57,
          58,
          59,
          60,
          61,
          62,
          63,
          64,
          65,
          66,
          67,
          68,
          69,
          70,
          71,
          72,
          73,
          74
         ],
         "xaxis": "x2",
         "y": [
          299,
          299,
          298,
          298,
          297,
          297,
          296,
          296,
          295,
          295,
          294,
          294,
          293,
          293,
          292,
          292,
          291,
          291,
          290,
          290,
          289,
          289,
          288,
          288,
          287,
          287,
          286,
          286,
          285,
          285,
          284,
          284,
          283,
          283,
          282,
          282,
          281,
          281,
          280,
          280,
          279,
          279,
          278,
          278,
          277,
          277,
          276,
          276,
          275,
          275,
          274,
          274,
          273,
          273,
          272,
          272,
          271,
          271,
          270,
          270,
          269,
          269,
          268,
          268,
          267,
          267,
          266,
          266,
          265,
          265,
          264,
          264,
          263,
          263,
          262
         ],
         "yaxis": "y2"
        },
        {
         "mode": "lines",
         "name": "Printable",
         "type": "scatter",
         "x": [
          0,
          1,
          2,
          3,
          4,
          5,
          6,
          7,
          8,
          9,
          10,
          11,
          12,
          13,
          14,
          15,
          16,
          17,
          18,
          19,
          20,
          21,
          22,
          23,
          24,
          25,
          26,
          27,
          28,
          29,
          30,
          31,
          32,
          33,
          34,
          35,
          36,
          37,
          38,
          39,
          40,
          41,
          42,
          43,
          44,
          45,
          46,
          47,
          48,
          49,
          50,
          51,
          52,
          53,
          54,
          55,
          56,
          57,
          58,
          59,
          60,
          61,
          62,
          63,
          64,
          65,
          66,
          67,
          68,
          69,
          70,
          71,
          72,
          73,
          74
         ],
         "xaxis": "x2",
         "y": [
          98,
          98,
          96,
          96,
          94,
          94,
          92,
          92,
          90,
          90,
          88,
          88,
          86,
          86,
          84,
          84,
          82,
          82,
          80,
          80,
          78,
          78,
          76,
          76,
          74,
          74,
          72,
          72,
          70,
          70,
          68,
          68,
          66,
          66,
          64,
          64,
          62,
          62,
          60,
          60,
          58,
          58,
          56,
          56,
          54,
          54,
          52,
          52,
          50,
          50,
          48,
          48,
          46,
          46,
          44,
          44,
          42,
          42,
          40,
          40,
          38,
          38,
          36,
          36,
          34,
          34,
          32,
          32,
          30,
          30,
          28,
          28,
          26,
          26,
          24
         ],
         "yaxis": "y2"
        },
        {
         "mode": "lines",
         "name": "Materials",
         "type": "scatter",
         "x": [
          0,
          1,
          2,
          3,
          4,
          5,
          6,
          7,
          8,
          9,
          10,
          11,
          12,
          13,
          14,
          15,
          16,
          17,
          18,
          19,
          20,
          21,
          22,
          23,
          24,
          25,
          26,
          27,
          28,
          29,
          30,
          31,
          32,
          33,
          34,
          35,
          36,
          37,
          38,
          39,
          40,
          41,
          42,
          43,
          44,
          45,
          46,
          47,
          48,
          49,
          50,
          51,
          52,
          53,
          54,
          55,
          56,
          57,
          58,
          59,
          60,
          61,
          62,
          63,
          64,
          65,
          66,
          67,
          68,
          69,
          70,
          71,
          72,
          73,
          74
         ],
         "xaxis": "x2",
         "y": [
          50,
          50,
          51,
          53,
          56,
          60,
          65,
          71,
          78,
          86,
          95,
          105,
          116,
          128,
          141,
          155,
          170,
          186,
          203,
          221,
          240,
          260,
          281,
          303,
          326,
          350,
          375,
          401,
          428,
          456,
          485,
          515,
          546,
          550,
          550,
          550,
          550,
          550,
          550,
          550,
          550,
          550,
          550,
          550,
          550,
          550,
          550,
          550,
          550,
          550,
          550,
          550,
          550,
          550,
          550,
          550,
          550,
          550,
          550,
          550,
          550,
          550,
          550,
          550,
          550,
          550,
          550,
          550,
          550,
          550,
          550,
          550,
          550,
          550,
          550
         ],
         "yaxis": "y2"
        },
        {
         "mode": "lines",
         "name": "Env_Materials",
         "type": "scatter",
         "x": [
          0,
          1,
          2,
          3,
          4,
          5,
          6,
          7,
          8,
          9,
          10,
          11,
          12,
          13,
          14,
          15,
          16,
          17,
          18,
          19,
          20,
          21,
          22,
          23,
          24,
          25,
          26,
          27,
          28,
          29,
          30,
          31,
          32,
          33,
          34,
          35,
          36,
          37,
          38,
          39,
          40,
          41,
          42,
          43,
          44,
          45,
          46,
          47,
          48,
          49,
          50,
          51,
          52,
          53,
          54,
          55,
          56,
          57,
          58,
          59,
          60,
          61,
          62,
          63,
          64,
          65,
          66,
          67,
          68,
          69,
          70,
          71,
          72,
          73,
          74
         ],
         "xaxis": "x2",
         "y": [
          500,
          500,
          499,
          497,
          494,
          490,
          485,
          479,
          472,
          464,
          455,
          445,
          434,
          422,
          409,
          395,
          380,
          364,
          347,
          329,
          310,
          290,
          269,
          247,
          224,
          200,
          175,
          149,
          122,
          94,
          65,
          35,
          4,
          0,
          0,
          0,
          0,
          0,
          0,
          0,
          0,
          0,
          0,
          0,
          0,
          0,
          0,
          0,
          0,
          0,
          0,
          0,
          0,
          0,
          0,
          0,
          0,
          0,
          0,
          0,
          0,
          0,
          0,
          0,
          0,
          0,
          0,
          0,
          0,
          0,
          0,
          0,
          0,
          0,
          0
         ],
         "yaxis": "y2"
        },
        {
         "mode": "lines",
         "name": "Avg. Quality #in",
         "type": "scatter",
         "x": [
          0,
          1,
          2,
          3,
          4,
          5,
          6,
          7,
          8,
          9,
          10,
          11,
          12,
          13,
          14,
          15,
          16,
          17,
          18,
          19,
          20,
          21,
          22,
          23,
          24,
          25,
          26,
          27,
          28,
          29,
          30,
          31,
          32,
          33,
          34,
          35,
          36,
          37,
          38,
          39,
          40,
          41,
          42,
          43,
          44,
          45,
          46,
          47,
          48,
          49,
          50,
          51,
          52,
          53,
          54,
          55,
          56,
          57,
          58,
          59,
          60,
          61,
          62,
          63,
          64,
          65,
          66,
          67,
          68,
          69,
          70,
          71,
          72,
          73,
          74
         ],
         "xaxis": "x4",
         "y": [
          0.949,
          0.949,
          0.888,
          0.888,
          0.885,
          0.885,
          0.858,
          0.858,
          0.846,
          0.846,
          0.861,
          0.861,
          0.87,
          0.87,
          0.861,
          0.861,
          0.866,
          0.866,
          0.873,
          0.873,
          0.862,
          0.862,
          0.848,
          0.848,
          0.855,
          0.855,
          0.848,
          0.848,
          0.846,
          0.846,
          0.85,
          0.85,
          0.847,
          0.847,
          0.849,
          0.849,
          0.847,
          0.847,
          0.851,
          0.851,
          0.852,
          0.852,
          0.857,
          0.857,
          0.856,
          0.856,
          0.859,
          0.859,
          0.861,
          0.861,
          0.861,
          0.861,
          0.859,
          0.859,
          0.855,
          0.855,
          0.852,
          0.852,
          0.849,
          0.849,
          0.851,
          0.851,
          0.85,
          0.85,
          0.85,
          0.85,
          0.852,
          0.852,
          0.853,
          0.853,
          0.853,
          0.853,
          0.854,
          0.854,
          0.854
         ],
         "yaxis": "y4"
        },
        {
         "mode": "lines",
         "name": "Avg. Quality #total",
         "type": "scatter",
         "x": [
          0,
          1,
          2,
          3,
          4,
          5,
          6,
          7,
          8,
          9,
          10,
          11,
          12,
          13,
          14,
          15,
          16,
          17,
          18,
          19,
          20,
          21,
          22,
          23,
          24,
          25,
          26,
          27,
          28,
          29,
          30,
          31,
          32,
          33,
          34,
          35,
          36,
          37,
          38,
          39,
          40,
          41,
          42,
          43,
          44,
          45,
          46,
          47,
          48,
          49,
          50,
          51,
          52,
          53,
          54,
          55,
          56,
          57,
          58,
          59,
          60,
          61,
          62,
          63,
          64,
          65,
          66,
          67,
          68,
          69,
          70,
          71,
          72,
          73,
          74
         ],
         "xaxis": "x4",
         "y": [
          0.949,
          0.949,
          0.888,
          0.888,
          0.885,
          0.885,
          0.858,
          0.858,
          0.846,
          0.846,
          0.861,
          0.861,
          0.87,
          0.87,
          0.861,
          0.861,
          0.866,
          0.866,
          0.873,
          0.873,
          0.862,
          0.862,
          0.848,
          0.848,
          0.855,
          0.855,
          0.848,
          0.848,
          0.846,
          0.846,
          0.85,
          0.85,
          0.847,
          0.847,
          0.849,
          0.849,
          0.847,
          0.847,
          0.851,
          0.851,
          0.852,
          0.852,
          0.857,
          0.857,
          0.856,
          0.856,
          0.859,
          0.859,
          0.861,
          0.861,
          0.861,
          0.861,
          0.859,
          0.859,
          0.855,
          0.855,
          0.852,
          0.852,
          0.849,
          0.849,
          0.851,
          0.851,
          0.85,
          0.85,
          0.85,
          0.85,
          0.852,
          0.852,
          0.853,
          0.853,
          0.853,
          0.853,
          0.854,
          0.854,
          0.854
         ],
         "yaxis": "y4"
        }
       ],
       "layout": {
        "annotations": [
         {
          "font": {
           "size": 16
          },
          "showarrow": false,
          "text": "Types of Robots vs Time",
          "x": 0.225,
          "xanchor": "center",
          "xref": "paper",
          "y": 1,
          "yanchor": "bottom",
          "yref": "paper"
         },
         {
          "font": {
           "size": 16
          },
          "showarrow": false,
          "text": "Resources vs Time",
          "x": 0.775,
          "xanchor": "center",
          "xref": "paper",
          "y": 1,
          "yanchor": "bottom",
          "yref": "paper"
         },
         {
          "font": {
           "size": 16
          },
          "showarrow": false,
          "text": "Tasks of Robots vs Time",
          "x": 0.225,
          "xanchor": "center",
          "xref": "paper",
          "y": 0.375,
          "yanchor": "bottom",
          "yref": "paper"
         },
         {
          "font": {
           "size": 16
          },
          "showarrow": false,
          "text": "Build Quality vs Time",
          "x": 0.775,
          "xanchor": "center",
          "xref": "paper",
          "y": 0.375,
          "yanchor": "bottom",
          "yref": "paper"
         }
        ],
        "hovermode": "x",
        "template": {
         "data": {
          "bar": [
           {
            "error_x": {
             "color": "#2a3f5f"
            },
            "error_y": {
             "color": "#2a3f5f"
            },
            "marker": {
             "line": {
              "color": "#E5ECF6",
              "width": 0.5
             },
             "pattern": {
              "fillmode": "overlay",
              "size": 10,
              "solidity": 0.2
             }
            },
            "type": "bar"
           }
          ],
          "barpolar": [
           {
            "marker": {
             "line": {
              "color": "#E5ECF6",
              "width": 0.5
             },
             "pattern": {
              "fillmode": "overlay",
              "size": 10,
              "solidity": 0.2
             }
            },
            "type": "barpolar"
           }
          ],
          "carpet": [
           {
            "aaxis": {
             "endlinecolor": "#2a3f5f",
             "gridcolor": "white",
             "linecolor": "white",
             "minorgridcolor": "white",
             "startlinecolor": "#2a3f5f"
            },
            "baxis": {
             "endlinecolor": "#2a3f5f",
             "gridcolor": "white",
             "linecolor": "white",
             "minorgridcolor": "white",
             "startlinecolor": "#2a3f5f"
            },
            "type": "carpet"
           }
          ],
          "choropleth": [
           {
            "colorbar": {
             "outlinewidth": 0,
             "ticks": ""
            },
            "type": "choropleth"
           }
          ],
          "contour": [
           {
            "colorbar": {
             "outlinewidth": 0,
             "ticks": ""
            },
            "colorscale": [
             [
              0,
              "#0d0887"
             ],
             [
              0.1111111111111111,
              "#46039f"
             ],
             [
              0.2222222222222222,
              "#7201a8"
             ],
             [
              0.3333333333333333,
              "#9c179e"
             ],
             [
              0.4444444444444444,
              "#bd3786"
             ],
             [
              0.5555555555555556,
              "#d8576b"
             ],
             [
              0.6666666666666666,
              "#ed7953"
             ],
             [
              0.7777777777777778,
              "#fb9f3a"
             ],
             [
              0.8888888888888888,
              "#fdca26"
             ],
             [
              1,
              "#f0f921"
             ]
            ],
            "type": "contour"
           }
          ],
          "contourcarpet": [
           {
            "colorbar": {
             "outlinewidth": 0,
             "ticks": ""
            },
            "type": "contourcarpet"
           }
          ],
          "heatmap": [
           {
            "colorbar": {
             "outlinewidth": 0,
             "ticks": ""
            },
            "colorscale": [
             [
              0,
              "#0d0887"
             ],
             [
              0.1111111111111111,
              "#46039f"
             ],
             [
              0.2222222222222222,
              "#7201a8"
             ],
             [
              0.3333333333333333,
              "#9c179e"
             ],
             [
              0.4444444444444444,
              "#bd3786"
             ],
             [
              0.5555555555555556,
              "#d8576b"
             ],
             [
              0.6666666666666666,
              "#ed7953"
             ],
             [
              0.7777777777777778,
              "#fb9f3a"
             ],
             [
              0.8888888888888888,
              "#fdca26"
             ],
             [
              1,
              "#f0f921"
             ]
            ],
            "type": "heatmap"
           }
          ],
          "heatmapgl": [
           {
            "colorbar": {
             "outlinewidth": 0,
             "ticks": ""
            },
            "colorscale": [
             [
              0,
              "#0d0887"
             ],
             [
              0.1111111111111111,
              "#46039f"
             ],
             [
              0.2222222222222222,
              "#7201a8"
             ],
             [
              0.3333333333333333,
              "#9c179e"
             ],
             [
              0.4444444444444444,
              "#bd3786"
             ],
             [
              0.5555555555555556,
              "#d8576b"
             ],
             [
              0.6666666666666666,
              "#ed7953"
             ],
             [
              0.7777777777777778,
              "#fb9f3a"
             ],
             [
              0.8888888888888888,
              "#fdca26"
             ],
             [
              1,
              "#f0f921"
             ]
            ],
            "type": "heatmapgl"
           }
          ],
          "histogram": [
           {
            "marker": {
             "pattern": {
              "fillmode": "overlay",
              "size": 10,
              "solidity": 0.2
             }
            },
            "type": "histogram"
           }
          ],
          "histogram2d": [
           {
            "colorbar": {
             "outlinewidth": 0,
             "ticks": ""
            },
            "colorscale": [
             [
              0,
              "#0d0887"
             ],
             [
              0.1111111111111111,
              "#46039f"
             ],
             [
              0.2222222222222222,
              "#7201a8"
             ],
             [
              0.3333333333333333,
              "#9c179e"
             ],
             [
              0.4444444444444444,
              "#bd3786"
             ],
             [
              0.5555555555555556,
              "#d8576b"
             ],
             [
              0.6666666666666666,
              "#ed7953"
             ],
             [
              0.7777777777777778,
              "#fb9f3a"
             ],
             [
              0.8888888888888888,
              "#fdca26"
             ],
             [
              1,
              "#f0f921"
             ]
            ],
            "type": "histogram2d"
           }
          ],
          "histogram2dcontour": [
           {
            "colorbar": {
             "outlinewidth": 0,
             "ticks": ""
            },
            "colorscale": [
             [
              0,
              "#0d0887"
             ],
             [
              0.1111111111111111,
              "#46039f"
             ],
             [
              0.2222222222222222,
              "#7201a8"
             ],
             [
              0.3333333333333333,
              "#9c179e"
             ],
             [
              0.4444444444444444,
              "#bd3786"
             ],
             [
              0.5555555555555556,
              "#d8576b"
             ],
             [
              0.6666666666666666,
              "#ed7953"
             ],
             [
              0.7777777777777778,
              "#fb9f3a"
             ],
             [
              0.8888888888888888,
              "#fdca26"
             ],
             [
              1,
              "#f0f921"
             ]
            ],
            "type": "histogram2dcontour"
           }
          ],
          "mesh3d": [
           {
            "colorbar": {
             "outlinewidth": 0,
             "ticks": ""
            },
            "type": "mesh3d"
           }
          ],
          "parcoords": [
           {
            "line": {
             "colorbar": {
              "outlinewidth": 0,
              "ticks": ""
             }
            },
            "type": "parcoords"
           }
          ],
          "pie": [
           {
            "automargin": true,
            "type": "pie"
           }
          ],
          "scatter": [
           {
            "fillpattern": {
             "fillmode": "overlay",
             "size": 10,
             "solidity": 0.2
            },
            "type": "scatter"
           }
          ],
          "scatter3d": [
           {
            "line": {
             "colorbar": {
              "outlinewidth": 0,
              "ticks": ""
             }
            },
            "marker": {
             "colorbar": {
              "outlinewidth": 0,
              "ticks": ""
             }
            },
            "type": "scatter3d"
           }
          ],
          "scattercarpet": [
           {
            "marker": {
             "colorbar": {
              "outlinewidth": 0,
              "ticks": ""
             }
            },
            "type": "scattercarpet"
           }
          ],
          "scattergeo": [
           {
            "marker": {
             "colorbar": {
              "outlinewidth": 0,
              "ticks": ""
             }
            },
            "type": "scattergeo"
           }
          ],
          "scattergl": [
           {
            "marker": {
             "colorbar": {
              "outlinewidth": 0,
              "ticks": ""
             }
            },
            "type": "scattergl"
           }
          ],
          "scattermapbox": [
           {
            "marker": {
             "colorbar": {
              "outlinewidth": 0,
              "ticks": ""
             }
            },
            "type": "scattermapbox"
           }
          ],
          "scatterpolar": [
           {
            "marker": {
             "colorbar": {
              "outlinewidth": 0,
              "ticks": ""
             }
            },
            "type": "scatterpolar"
           }
          ],
          "scatterpolargl": [
           {
            "marker": {
             "colorbar": {
              "outlinewidth": 0,
              "ticks": ""
             }
            },
            "type": "scatterpolargl"
           }
          ],
          "scatterternary": [
           {
            "marker": {
             "colorbar": {
              "outlinewidth": 0,
              "ticks": ""
             }
            },
            "type": "scatterternary"
           }
          ],
          "surface": [
           {
            "colorbar": {
             "outlinewidth": 0,
             "ticks": ""
            },
            "colorscale": [
             [
              0,
              "#0d0887"
             ],
             [
              0.1111111111111111,
              "#46039f"
             ],
             [
              0.2222222222222222,
              "#7201a8"
             ],
             [
              0.3333333333333333,
              "#9c179e"
             ],
             [
              0.4444444444444444,
              "#bd3786"
             ],
             [
              0.5555555555555556,
              "#d8576b"
             ],
             [
              0.6666666666666666,
              "#ed7953"
             ],
             [
              0.7777777777777778,
              "#fb9f3a"
             ],
             [
              0.8888888888888888,
              "#fdca26"
             ],
             [
              1,
              "#f0f921"
             ]
            ],
            "type": "surface"
           }
          ],
          "table": [
           {
            "cells": {
             "fill": {
              "color": "#EBF0F8"
             },
             "line": {
              "color": "white"
             }
            },
            "header": {
             "fill": {
              "color": "#C8D4E3"
             },
             "line": {
              "color": "white"
             }
            },
            "type": "table"
           }
          ]
         },
         "layout": {
          "annotationdefaults": {
           "arrowcolor": "#2a3f5f",
           "arrowhead": 0,
           "arrowwidth": 1
          },
          "autotypenumbers": "strict",
          "coloraxis": {
           "colorbar": {
            "outlinewidth": 0,
            "ticks": ""
           }
          },
          "colorscale": {
           "diverging": [
            [
             0,
             "#8e0152"
            ],
            [
             0.1,
             "#c51b7d"
            ],
            [
             0.2,
             "#de77ae"
            ],
            [
             0.3,
             "#f1b6da"
            ],
            [
             0.4,
             "#fde0ef"
            ],
            [
             0.5,
             "#f7f7f7"
            ],
            [
             0.6,
             "#e6f5d0"
            ],
            [
             0.7,
             "#b8e186"
            ],
            [
             0.8,
             "#7fbc41"
            ],
            [
             0.9,
             "#4d9221"
            ],
            [
             1,
             "#276419"
            ]
           ],
           "sequential": [
            [
             0,
             "#0d0887"
            ],
            [
             0.1111111111111111,
             "#46039f"
            ],
            [
             0.2222222222222222,
             "#7201a8"
            ],
            [
             0.3333333333333333,
             "#9c179e"
            ],
            [
             0.4444444444444444,
             "#bd3786"
            ],
            [
             0.5555555555555556,
             "#d8576b"
            ],
            [
             0.6666666666666666,
             "#ed7953"
            ],
            [
             0.7777777777777778,
             "#fb9f3a"
            ],
            [
             0.8888888888888888,
             "#fdca26"
            ],
            [
             1,
             "#f0f921"
            ]
           ],
           "sequentialminus": [
            [
             0,
             "#0d0887"
            ],
            [
             0.1111111111111111,
             "#46039f"
            ],
            [
             0.2222222222222222,
             "#7201a8"
            ],
            [
             0.3333333333333333,
             "#9c179e"
            ],
            [
             0.4444444444444444,
             "#bd3786"
            ],
            [
             0.5555555555555556,
             "#d8576b"
            ],
            [
             0.6666666666666666,
             "#ed7953"
            ],
            [
             0.7777777777777778,
             "#fb9f3a"
            ],
            [
             0.8888888888888888,
             "#fdca26"
            ],
            [
             1,
             "#f0f921"
            ]
           ]
          },
          "colorway": [
           "#636efa",
           "#EF553B",
           "#00cc96",
           "#ab63fa",
           "#FFA15A",
           "#19d3f3",
           "#FF6692",
           "#B6E880",
           "#FF97FF",
           "#FECB52"
          ],
          "font": {
           "color": "#2a3f5f"
          },
          "geo": {
           "bgcolor": "white",
           "lakecolor": "white",
           "landcolor": "#E5ECF6",
           "showlakes": true,
           "showland": true,
           "subunitcolor": "white"
          },
          "hoverlabel": {
           "align": "left"
          },
          "hovermode": "closest",
          "mapbox": {
           "style": "light"
          },
          "paper_bgcolor": "white",
          "plot_bgcolor": "#E5ECF6",
          "polar": {
           "angularaxis": {
            "gridcolor": "white",
            "linecolor": "white",
            "ticks": ""
           },
           "bgcolor": "#E5ECF6",
           "radialaxis": {
            "gridcolor": "white",
            "linecolor": "white",
            "ticks": ""
           }
          },
          "scene": {
           "xaxis": {
            "backgroundcolor": "#E5ECF6",
            "gridcolor": "white",
            "gridwidth": 2,
            "linecolor": "white",
            "showbackground": true,
            "ticks": "",
            "zerolinecolor": "white"
           },
           "yaxis": {
            "backgroundcolor": "#E5ECF6",
            "gridcolor": "white",
            "gridwidth": 2,
            "linecolor": "white",
            "showbackground": true,
            "ticks": "",
            "zerolinecolor": "white"
           },
           "zaxis": {
            "backgroundcolor": "#E5ECF6",
            "gridcolor": "white",
            "gridwidth": 2,
            "linecolor": "white",
            "showbackground": true,
            "ticks": "",
            "zerolinecolor": "white"
           }
          },
          "shapedefaults": {
           "line": {
            "color": "#2a3f5f"
           }
          },
          "ternary": {
           "aaxis": {
            "gridcolor": "white",
            "linecolor": "white",
            "ticks": ""
           },
           "baxis": {
            "gridcolor": "white",
            "linecolor": "white",
            "ticks": ""
           },
           "bgcolor": "#E5ECF6",
           "caxis": {
            "gridcolor": "white",
            "linecolor": "white",
            "ticks": ""
           }
          },
          "title": {
           "x": 0.05
          },
          "xaxis": {
           "automargin": true,
           "gridcolor": "white",
           "linecolor": "white",
           "ticks": "",
           "title": {
            "standoff": 15
           },
           "zerolinecolor": "white",
           "zerolinewidth": 2
          },
          "yaxis": {
           "automargin": true,
           "gridcolor": "white",
           "linecolor": "white",
           "ticks": "",
           "title": {
            "standoff": 15
           },
           "zerolinecolor": "white",
           "zerolinewidth": 2
          }
         }
        },
        "title": {
         "text": "CHO - Characteristics"
        },
        "xaxis": {
         "anchor": "y",
         "domain": [
          0,
          0.45
         ]
        },
        "xaxis2": {
         "anchor": "y2",
         "domain": [
          0.55,
          1
         ]
        },
        "xaxis3": {
         "anchor": "y3",
         "domain": [
          0,
          0.45
         ]
        },
        "xaxis4": {
         "anchor": "y4",
         "domain": [
          0.55,
          1
         ]
        },
        "yaxis": {
         "anchor": "x",
         "domain": [
          0.625,
          1
         ]
        },
        "yaxis2": {
         "anchor": "x2",
         "domain": [
          0.625,
          1
         ]
        },
        "yaxis3": {
         "anchor": "x3",
         "domain": [
          0,
          0.375
         ]
        },
        "yaxis4": {
         "anchor": "x4",
         "domain": [
          0,
          0.375
         ]
        }
       }
      },
      "text/html": [
       "<div>                            <div id=\"68a2a367-b27f-4ef9-bab4-6b46a1999af7\" class=\"plotly-graph-div\" style=\"height:525px; width:100%;\"></div>            <script type=\"text/javascript\">                require([\"plotly\"], function(Plotly) {                    window.PLOTLYENV=window.PLOTLYENV || {};                                    if (document.getElementById(\"68a2a367-b27f-4ef9-bab4-6b46a1999af7\")) {                    Plotly.newPlot(                        \"68a2a367-b27f-4ef9-bab4-6b46a1999af7\",                        [{\"name\":\"#Replicator\",\"x\":[0.0,1.0,2.0,3.0,4.0,5.0,6.0,7.0,8.0,9.0,10.0,11.0,12.0,13.0,14.0,15.0,16.0,17.0,18.0,19.0,20.0,21.0,22.0,23.0,24.0,25.0,26.0,27.0,28.0,29.0,30.0,31.0,32.0,33.0,34.0,35.0,36.0,37.0,38.0,39.0,40.0,41.0,42.0,43.0,44.0,45.0,46.0,47.0,48.0,49.0,50.0,51.0,52.0,53.0,54.0,55.0,56.0,57.0,58.0,59.0,60.0,61.0,62.0,63.0,64.0,65.0,66.0,67.0,68.0,69.0,70.0,71.0,72.0,73.0,74.0],\"y\":[1.0,1.0,1.0,1.0,1.0,1.0,1.0,1.0,1.0,1.0,1.0,1.0,1.0,1.0,1.0,1.0,1.0,1.0,1.0,1.0,1.0,1.0,1.0,1.0,1.0,1.0,1.0,1.0,1.0,1.0,1.0,1.0,1.0,1.0,1.0,1.0,1.0,1.0,1.0,1.0,1.0,1.0,1.0,1.0,1.0,1.0,1.0,1.0,1.0,1.0,1.0,1.0,1.0,1.0,1.0,1.0,1.0,1.0,1.0,1.0,1.0,1.0,1.0,1.0,1.0,1.0,1.0,1.0,1.0,1.0,1.0,1.0,1.0,1.0,1.0],\"type\":\"bar\",\"xaxis\":\"x\",\"yaxis\":\"y\"},{\"name\":\"#Normal\",\"x\":[0.0,1.0,2.0,3.0,4.0,5.0,6.0,7.0,8.0,9.0,10.0,11.0,12.0,13.0,14.0,15.0,16.0,17.0,18.0,19.0,20.0,21.0,22.0,23.0,24.0,25.0,26.0,27.0,28.0,29.0,30.0,31.0,32.0,33.0,34.0,35.0,36.0,37.0,38.0,39.0,40.0,41.0,42.0,43.0,44.0,45.0,46.0,47.0,48.0,49.0,50.0,51.0,52.0,53.0,54.0,55.0,56.0,57.0,58.0,59.0,60.0,61.0,62.0,63.0,64.0,65.0,66.0,67.0,68.0,69.0,70.0,71.0,72.0,73.0,74.0],\"y\":[0.0,0.0,2.0,2.0,4.0,4.0,6.0,6.0,8.0,8.0,10.0,10.0,12.0,12.0,14.0,14.0,16.0,16.0,18.0,18.0,20.0,20.0,22.0,22.0,24.0,24.0,26.0,26.0,28.0,28.0,30.0,30.0,32.0,32.0,34.0,34.0,36.0,36.0,38.0,38.0,40.0,40.0,42.0,42.0,44.0,44.0,46.0,46.0,48.0,48.0,50.0,50.0,52.0,52.0,54.0,54.0,56.0,56.0,58.0,58.0,60.0,60.0,62.0,62.0,64.0,64.0,66.0,66.0,68.0,68.0,70.0,70.0,72.0,72.0,74.0],\"type\":\"bar\",\"xaxis\":\"x\",\"yaxis\":\"y\"},{\"name\":\"#Assembler\",\"x\":[0.0,1.0,2.0,3.0,4.0,5.0,6.0,7.0,8.0,9.0,10.0,11.0,12.0,13.0,14.0,15.0,16.0,17.0,18.0,19.0,20.0,21.0,22.0,23.0,24.0,25.0,26.0,27.0,28.0,29.0,30.0,31.0,32.0,33.0,34.0,35.0,36.0,37.0,38.0,39.0,40.0,41.0,42.0,43.0,44.0,45.0,46.0,47.0,48.0,49.0,50.0,51.0,52.0,53.0,54.0,55.0,56.0,57.0,58.0,59.0,60.0,61.0,62.0,63.0,64.0,65.0,66.0,67.0,68.0,69.0,70.0,71.0,72.0,73.0,74.0],\"y\":[0.0,0.0,0.0,0.0,0.0,0.0,0.0,0.0,0.0,0.0,0.0,0.0,0.0,0.0,0.0,0.0,0.0,0.0,0.0,0.0,0.0,0.0,0.0,0.0,0.0,0.0,0.0,0.0,0.0,0.0,0.0,0.0,0.0,0.0,0.0,0.0,0.0,0.0,0.0,0.0,0.0,0.0,0.0,0.0,0.0,0.0,0.0,0.0,0.0,0.0,0.0,0.0,0.0,0.0,0.0,0.0,0.0,0.0,0.0,0.0,0.0,0.0,0.0,0.0,0.0,0.0,0.0,0.0,0.0,0.0,0.0,0.0,0.0,0.0,0.0],\"type\":\"bar\",\"xaxis\":\"x\",\"yaxis\":\"y\"},{\"name\":\"#Printer\",\"x\":[0.0,1.0,2.0,3.0,4.0,5.0,6.0,7.0,8.0,9.0,10.0,11.0,12.0,13.0,14.0,15.0,16.0,17.0,18.0,19.0,20.0,21.0,22.0,23.0,24.0,25.0,26.0,27.0,28.0,29.0,30.0,31.0,32.0,33.0,34.0,35.0,36.0,37.0,38.0,39.0,40.0,41.0,42.0,43.0,44.0,45.0,46.0,47.0,48.0,49.0,50.0,51.0,52.0,53.0,54.0,55.0,56.0,57.0,58.0,59.0,60.0,61.0,62.0,63.0,64.0,65.0,66.0,67.0,68.0,69.0,70.0,71.0,72.0,73.0,74.0],\"y\":[0.0,0.0,0.0,0.0,0.0,0.0,0.0,0.0,0.0,0.0,0.0,0.0,0.0,0.0,0.0,0.0,0.0,0.0,0.0,0.0,0.0,0.0,0.0,0.0,0.0,0.0,0.0,0.0,0.0,0.0,0.0,0.0,0.0,0.0,0.0,0.0,0.0,0.0,0.0,0.0,0.0,0.0,0.0,0.0,0.0,0.0,0.0,0.0,0.0,0.0,0.0,0.0,0.0,0.0,0.0,0.0,0.0,0.0,0.0,0.0,0.0,0.0,0.0,0.0,0.0,0.0,0.0,0.0,0.0,0.0,0.0,0.0,0.0,0.0,0.0],\"type\":\"bar\",\"xaxis\":\"x\",\"yaxis\":\"y\"},{\"name\":\"#Assembling\",\"x\":[0.0,1.0,2.0,3.0,4.0,5.0,6.0,7.0,8.0,9.0,10.0,11.0,12.0,13.0,14.0,15.0,16.0,17.0,18.0,19.0,20.0,21.0,22.0,23.0,24.0,25.0,26.0,27.0,28.0,29.0,30.0,31.0,32.0,33.0,34.0,35.0,36.0,37.0,38.0,39.0,40.0,41.0,42.0,43.0,44.0,45.0,46.0,47.0,48.0,49.0,50.0,51.0,52.0,53.0,54.0,55.0,56.0,57.0,58.0,59.0,60.0,61.0,62.0,63.0,64.0,65.0,66.0,67.0,68.0,69.0,70.0,71.0,72.0,73.0,74.0],\"y\":[1.0,1.0,1.0,1.0,1.0,1.0,1.0,1.0,1.0,1.0,1.0,1.0,1.0,1.0,1.0,1.0,1.0,1.0,1.0,1.0,1.0,1.0,1.0,1.0,1.0,1.0,1.0,1.0,1.0,1.0,1.0,1.0,1.0,1.0,1.0,1.0,1.0,1.0,1.0,1.0,1.0,1.0,1.0,1.0,1.0,1.0,1.0,1.0,1.0,1.0,1.0,1.0,1.0,1.0,1.0,1.0,1.0,1.0,1.0,1.0,1.0,1.0,1.0,1.0,1.0,1.0,1.0,1.0,1.0,1.0,1.0,1.0,1.0,1.0,1.0],\"type\":\"bar\",\"xaxis\":\"x3\",\"yaxis\":\"y3\"},{\"name\":\"#Printing\",\"x\":[0.0,1.0,2.0,3.0,4.0,5.0,6.0,7.0,8.0,9.0,10.0,11.0,12.0,13.0,14.0,15.0,16.0,17.0,18.0,19.0,20.0,21.0,22.0,23.0,24.0,25.0,26.0,27.0,28.0,29.0,30.0,31.0,32.0,33.0,34.0,35.0,36.0,37.0,38.0,39.0,40.0,41.0,42.0,43.0,44.0,45.0,46.0,47.0,48.0,49.0,50.0,51.0,52.0,53.0,54.0,55.0,56.0,57.0,58.0,59.0,60.0,61.0,62.0,63.0,64.0,65.0,66.0,67.0,68.0,69.0,70.0,71.0,72.0,73.0,74.0],\"y\":[0.0,0.0,0.0,0.0,0.0,0.0,0.0,0.0,0.0,0.0,0.0,0.0,0.0,0.0,0.0,0.0,0.0,0.0,0.0,0.0,0.0,0.0,0.0,0.0,0.0,0.0,0.0,0.0,0.0,0.0,0.0,0.0,0.0,0.0,0.0,0.0,0.0,0.0,0.0,0.0,0.0,0.0,0.0,0.0,0.0,0.0,0.0,0.0,0.0,0.0,0.0,0.0,0.0,0.0,0.0,0.0,0.0,0.0,0.0,0.0,0.0,0.0,0.0,0.0,0.0,0.0,0.0,0.0,0.0,0.0,0.0,0.0,0.0,0.0,0.0],\"type\":\"bar\",\"xaxis\":\"x3\",\"yaxis\":\"y3\"},{\"name\":\"#Collecting\",\"x\":[0.0,1.0,2.0,3.0,4.0,5.0,6.0,7.0,8.0,9.0,10.0,11.0,12.0,13.0,14.0,15.0,16.0,17.0,18.0,19.0,20.0,21.0,22.0,23.0,24.0,25.0,26.0,27.0,28.0,29.0,30.0,31.0,32.0,33.0,34.0,35.0,36.0,37.0,38.0,39.0,40.0,41.0,42.0,43.0,44.0,45.0,46.0,47.0,48.0,49.0,50.0,51.0,52.0,53.0,54.0,55.0,56.0,57.0,58.0,59.0,60.0,61.0,62.0,63.0,64.0,65.0,66.0,67.0,68.0,69.0,70.0,71.0,72.0,73.0,74.0],\"y\":[0.0,0.0,2.0,2.0,4.0,4.0,6.0,6.0,8.0,8.0,10.0,10.0,12.0,12.0,14.0,14.0,16.0,16.0,18.0,18.0,20.0,20.0,22.0,22.0,24.0,24.0,26.0,26.0,28.0,28.0,30.0,30.0,32.0,4.0,0.0,0.0,0.0,0.0,0.0,0.0,0.0,0.0,0.0,0.0,0.0,0.0,0.0,0.0,0.0,0.0,0.0,0.0,0.0,0.0,0.0,0.0,0.0,0.0,0.0,0.0,0.0,0.0,0.0,0.0,0.0,0.0,0.0,0.0,0.0,0.0,0.0,0.0,0.0,0.0,0.0],\"type\":\"bar\",\"xaxis\":\"x3\",\"yaxis\":\"y3\"},{\"name\":\"#Idle\",\"x\":[0.0,1.0,2.0,3.0,4.0,5.0,6.0,7.0,8.0,9.0,10.0,11.0,12.0,13.0,14.0,15.0,16.0,17.0,18.0,19.0,20.0,21.0,22.0,23.0,24.0,25.0,26.0,27.0,28.0,29.0,30.0,31.0,32.0,33.0,34.0,35.0,36.0,37.0,38.0,39.0,40.0,41.0,42.0,43.0,44.0,45.0,46.0,47.0,48.0,49.0,50.0,51.0,52.0,53.0,54.0,55.0,56.0,57.0,58.0,59.0,60.0,61.0,62.0,63.0,64.0,65.0,66.0,67.0,68.0,69.0,70.0,71.0,72.0,73.0,74.0],\"y\":[0.0,0.0,0.0,0.0,0.0,0.0,0.0,0.0,0.0,0.0,0.0,0.0,0.0,0.0,0.0,0.0,0.0,0.0,0.0,0.0,0.0,0.0,0.0,0.0,0.0,0.0,0.0,0.0,0.0,0.0,0.0,0.0,0.0,28.0,34.0,34.0,36.0,36.0,38.0,38.0,40.0,40.0,42.0,42.0,44.0,44.0,46.0,46.0,48.0,48.0,50.0,50.0,52.0,52.0,54.0,54.0,56.0,56.0,58.0,58.0,60.0,60.0,62.0,62.0,64.0,64.0,66.0,66.0,68.0,68.0,70.0,70.0,72.0,72.0,74.0],\"type\":\"bar\",\"xaxis\":\"x3\",\"yaxis\":\"y3\"},{\"mode\":\"lines\",\"name\":\"NonPr\",\"x\":[0.0,1.0,2.0,3.0,4.0,5.0,6.0,7.0,8.0,9.0,10.0,11.0,12.0,13.0,14.0,15.0,16.0,17.0,18.0,19.0,20.0,21.0,22.0,23.0,24.0,25.0,26.0,27.0,28.0,29.0,30.0,31.0,32.0,33.0,34.0,35.0,36.0,37.0,38.0,39.0,40.0,41.0,42.0,43.0,44.0,45.0,46.0,47.0,48.0,49.0,50.0,51.0,52.0,53.0,54.0,55.0,56.0,57.0,58.0,59.0,60.0,61.0,62.0,63.0,64.0,65.0,66.0,67.0,68.0,69.0,70.0,71.0,72.0,73.0,74.0],\"y\":[299.0,299.0,298.0,298.0,297.0,297.0,296.0,296.0,295.0,295.0,294.0,294.0,293.0,293.0,292.0,292.0,291.0,291.0,290.0,290.0,289.0,289.0,288.0,288.0,287.0,287.0,286.0,286.0,285.0,285.0,284.0,284.0,283.0,283.0,282.0,282.0,281.0,281.0,280.0,280.0,279.0,279.0,278.0,278.0,277.0,277.0,276.0,276.0,275.0,275.0,274.0,274.0,273.0,273.0,272.0,272.0,271.0,271.0,270.0,270.0,269.0,269.0,268.0,268.0,267.0,267.0,266.0,266.0,265.0,265.0,264.0,264.0,263.0,263.0,262.0],\"type\":\"scatter\",\"xaxis\":\"x2\",\"yaxis\":\"y2\"},{\"mode\":\"lines\",\"name\":\"Printable\",\"x\":[0.0,1.0,2.0,3.0,4.0,5.0,6.0,7.0,8.0,9.0,10.0,11.0,12.0,13.0,14.0,15.0,16.0,17.0,18.0,19.0,20.0,21.0,22.0,23.0,24.0,25.0,26.0,27.0,28.0,29.0,30.0,31.0,32.0,33.0,34.0,35.0,36.0,37.0,38.0,39.0,40.0,41.0,42.0,43.0,44.0,45.0,46.0,47.0,48.0,49.0,50.0,51.0,52.0,53.0,54.0,55.0,56.0,57.0,58.0,59.0,60.0,61.0,62.0,63.0,64.0,65.0,66.0,67.0,68.0,69.0,70.0,71.0,72.0,73.0,74.0],\"y\":[98.0,98.0,96.0,96.0,94.0,94.0,92.0,92.0,90.0,90.0,88.0,88.0,86.0,86.0,84.0,84.0,82.0,82.0,80.0,80.0,78.0,78.0,76.0,76.0,74.0,74.0,72.0,72.0,70.0,70.0,68.0,68.0,66.0,66.0,64.0,64.0,62.0,62.0,60.0,60.0,58.0,58.0,56.0,56.0,54.0,54.0,52.0,52.0,50.0,50.0,48.0,48.0,46.0,46.0,44.0,44.0,42.0,42.0,40.0,40.0,38.0,38.0,36.0,36.0,34.0,34.0,32.0,32.0,30.0,30.0,28.0,28.0,26.0,26.0,24.0],\"type\":\"scatter\",\"xaxis\":\"x2\",\"yaxis\":\"y2\"},{\"mode\":\"lines\",\"name\":\"Materials\",\"x\":[0.0,1.0,2.0,3.0,4.0,5.0,6.0,7.0,8.0,9.0,10.0,11.0,12.0,13.0,14.0,15.0,16.0,17.0,18.0,19.0,20.0,21.0,22.0,23.0,24.0,25.0,26.0,27.0,28.0,29.0,30.0,31.0,32.0,33.0,34.0,35.0,36.0,37.0,38.0,39.0,40.0,41.0,42.0,43.0,44.0,45.0,46.0,47.0,48.0,49.0,50.0,51.0,52.0,53.0,54.0,55.0,56.0,57.0,58.0,59.0,60.0,61.0,62.0,63.0,64.0,65.0,66.0,67.0,68.0,69.0,70.0,71.0,72.0,73.0,74.0],\"y\":[50.0,50.0,51.0,53.0,56.0,60.0,65.0,71.0,78.0,86.0,95.0,105.0,116.0,128.0,141.0,155.0,170.0,186.0,203.0,221.0,240.0,260.0,281.0,303.0,326.0,350.0,375.0,401.0,428.0,456.0,485.0,515.0,546.0,550.0,550.0,550.0,550.0,550.0,550.0,550.0,550.0,550.0,550.0,550.0,550.0,550.0,550.0,550.0,550.0,550.0,550.0,550.0,550.0,550.0,550.0,550.0,550.0,550.0,550.0,550.0,550.0,550.0,550.0,550.0,550.0,550.0,550.0,550.0,550.0,550.0,550.0,550.0,550.0,550.0,550.0],\"type\":\"scatter\",\"xaxis\":\"x2\",\"yaxis\":\"y2\"},{\"mode\":\"lines\",\"name\":\"Env_Materials\",\"x\":[0.0,1.0,2.0,3.0,4.0,5.0,6.0,7.0,8.0,9.0,10.0,11.0,12.0,13.0,14.0,15.0,16.0,17.0,18.0,19.0,20.0,21.0,22.0,23.0,24.0,25.0,26.0,27.0,28.0,29.0,30.0,31.0,32.0,33.0,34.0,35.0,36.0,37.0,38.0,39.0,40.0,41.0,42.0,43.0,44.0,45.0,46.0,47.0,48.0,49.0,50.0,51.0,52.0,53.0,54.0,55.0,56.0,57.0,58.0,59.0,60.0,61.0,62.0,63.0,64.0,65.0,66.0,67.0,68.0,69.0,70.0,71.0,72.0,73.0,74.0],\"y\":[500.0,500.0,499.0,497.0,494.0,490.0,485.0,479.0,472.0,464.0,455.0,445.0,434.0,422.0,409.0,395.0,380.0,364.0,347.0,329.0,310.0,290.0,269.0,247.0,224.0,200.0,175.0,149.0,122.0,94.0,65.0,35.0,4.0,0.0,0.0,0.0,0.0,0.0,0.0,0.0,0.0,0.0,0.0,0.0,0.0,0.0,0.0,0.0,0.0,0.0,0.0,0.0,0.0,0.0,0.0,0.0,0.0,0.0,0.0,0.0,0.0,0.0,0.0,0.0,0.0,0.0,0.0,0.0,0.0,0.0,0.0,0.0,0.0,0.0,0.0],\"type\":\"scatter\",\"xaxis\":\"x2\",\"yaxis\":\"y2\"},{\"mode\":\"lines\",\"name\":\"Avg. Quality #in\",\"x\":[0.0,1.0,2.0,3.0,4.0,5.0,6.0,7.0,8.0,9.0,10.0,11.0,12.0,13.0,14.0,15.0,16.0,17.0,18.0,19.0,20.0,21.0,22.0,23.0,24.0,25.0,26.0,27.0,28.0,29.0,30.0,31.0,32.0,33.0,34.0,35.0,36.0,37.0,38.0,39.0,40.0,41.0,42.0,43.0,44.0,45.0,46.0,47.0,48.0,49.0,50.0,51.0,52.0,53.0,54.0,55.0,56.0,57.0,58.0,59.0,60.0,61.0,62.0,63.0,64.0,65.0,66.0,67.0,68.0,69.0,70.0,71.0,72.0,73.0,74.0],\"y\":[0.949,0.949,0.888,0.888,0.885,0.885,0.858,0.858,0.846,0.846,0.861,0.861,0.87,0.87,0.861,0.861,0.866,0.866,0.873,0.873,0.862,0.862,0.848,0.848,0.855,0.855,0.848,0.848,0.846,0.846,0.85,0.85,0.847,0.847,0.849,0.849,0.847,0.847,0.851,0.851,0.852,0.852,0.857,0.857,0.856,0.856,0.859,0.859,0.861,0.861,0.861,0.861,0.859,0.859,0.855,0.855,0.852,0.852,0.849,0.849,0.851,0.851,0.85,0.85,0.85,0.85,0.852,0.852,0.853,0.853,0.853,0.853,0.854,0.854,0.854],\"type\":\"scatter\",\"xaxis\":\"x4\",\"yaxis\":\"y4\"},{\"mode\":\"lines\",\"name\":\"Avg. Quality #total\",\"x\":[0.0,1.0,2.0,3.0,4.0,5.0,6.0,7.0,8.0,9.0,10.0,11.0,12.0,13.0,14.0,15.0,16.0,17.0,18.0,19.0,20.0,21.0,22.0,23.0,24.0,25.0,26.0,27.0,28.0,29.0,30.0,31.0,32.0,33.0,34.0,35.0,36.0,37.0,38.0,39.0,40.0,41.0,42.0,43.0,44.0,45.0,46.0,47.0,48.0,49.0,50.0,51.0,52.0,53.0,54.0,55.0,56.0,57.0,58.0,59.0,60.0,61.0,62.0,63.0,64.0,65.0,66.0,67.0,68.0,69.0,70.0,71.0,72.0,73.0,74.0],\"y\":[0.949,0.949,0.888,0.888,0.885,0.885,0.858,0.858,0.846,0.846,0.861,0.861,0.87,0.87,0.861,0.861,0.866,0.866,0.873,0.873,0.862,0.862,0.848,0.848,0.855,0.855,0.848,0.848,0.846,0.846,0.85,0.85,0.847,0.847,0.849,0.849,0.847,0.847,0.851,0.851,0.852,0.852,0.857,0.857,0.856,0.856,0.859,0.859,0.861,0.861,0.861,0.861,0.859,0.859,0.855,0.855,0.852,0.852,0.849,0.849,0.851,0.851,0.85,0.85,0.85,0.85,0.852,0.852,0.853,0.853,0.853,0.853,0.854,0.854,0.854],\"type\":\"scatter\",\"xaxis\":\"x4\",\"yaxis\":\"y4\"}],                        {\"template\":{\"data\":{\"histogram2dcontour\":[{\"type\":\"histogram2dcontour\",\"colorbar\":{\"outlinewidth\":0,\"ticks\":\"\"},\"colorscale\":[[0.0,\"#0d0887\"],[0.1111111111111111,\"#46039f\"],[0.2222222222222222,\"#7201a8\"],[0.3333333333333333,\"#9c179e\"],[0.4444444444444444,\"#bd3786\"],[0.5555555555555556,\"#d8576b\"],[0.6666666666666666,\"#ed7953\"],[0.7777777777777778,\"#fb9f3a\"],[0.8888888888888888,\"#fdca26\"],[1.0,\"#f0f921\"]]}],\"choropleth\":[{\"type\":\"choropleth\",\"colorbar\":{\"outlinewidth\":0,\"ticks\":\"\"}}],\"histogram2d\":[{\"type\":\"histogram2d\",\"colorbar\":{\"outlinewidth\":0,\"ticks\":\"\"},\"colorscale\":[[0.0,\"#0d0887\"],[0.1111111111111111,\"#46039f\"],[0.2222222222222222,\"#7201a8\"],[0.3333333333333333,\"#9c179e\"],[0.4444444444444444,\"#bd3786\"],[0.5555555555555556,\"#d8576b\"],[0.6666666666666666,\"#ed7953\"],[0.7777777777777778,\"#fb9f3a\"],[0.8888888888888888,\"#fdca26\"],[1.0,\"#f0f921\"]]}],\"heatmap\":[{\"type\":\"heatmap\",\"colorbar\":{\"outlinewidth\":0,\"ticks\":\"\"},\"colorscale\":[[0.0,\"#0d0887\"],[0.1111111111111111,\"#46039f\"],[0.2222222222222222,\"#7201a8\"],[0.3333333333333333,\"#9c179e\"],[0.4444444444444444,\"#bd3786\"],[0.5555555555555556,\"#d8576b\"],[0.6666666666666666,\"#ed7953\"],[0.7777777777777778,\"#fb9f3a\"],[0.8888888888888888,\"#fdca26\"],[1.0,\"#f0f921\"]]}],\"heatmapgl\":[{\"type\":\"heatmapgl\",\"colorbar\":{\"outlinewidth\":0,\"ticks\":\"\"},\"colorscale\":[[0.0,\"#0d0887\"],[0.1111111111111111,\"#46039f\"],[0.2222222222222222,\"#7201a8\"],[0.3333333333333333,\"#9c179e\"],[0.4444444444444444,\"#bd3786\"],[0.5555555555555556,\"#d8576b\"],[0.6666666666666666,\"#ed7953\"],[0.7777777777777778,\"#fb9f3a\"],[0.8888888888888888,\"#fdca26\"],[1.0,\"#f0f921\"]]}],\"contourcarpet\":[{\"type\":\"contourcarpet\",\"colorbar\":{\"outlinewidth\":0,\"ticks\":\"\"}}],\"contour\":[{\"type\":\"contour\",\"colorbar\":{\"outlinewidth\":0,\"ticks\":\"\"},\"colorscale\":[[0.0,\"#0d0887\"],[0.1111111111111111,\"#46039f\"],[0.2222222222222222,\"#7201a8\"],[0.3333333333333333,\"#9c179e\"],[0.4444444444444444,\"#bd3786\"],[0.5555555555555556,\"#d8576b\"],[0.6666666666666666,\"#ed7953\"],[0.7777777777777778,\"#fb9f3a\"],[0.8888888888888888,\"#fdca26\"],[1.0,\"#f0f921\"]]}],\"surface\":[{\"type\":\"surface\",\"colorbar\":{\"outlinewidth\":0,\"ticks\":\"\"},\"colorscale\":[[0.0,\"#0d0887\"],[0.1111111111111111,\"#46039f\"],[0.2222222222222222,\"#7201a8\"],[0.3333333333333333,\"#9c179e\"],[0.4444444444444444,\"#bd3786\"],[0.5555555555555556,\"#d8576b\"],[0.6666666666666666,\"#ed7953\"],[0.7777777777777778,\"#fb9f3a\"],[0.8888888888888888,\"#fdca26\"],[1.0,\"#f0f921\"]]}],\"mesh3d\":[{\"type\":\"mesh3d\",\"colorbar\":{\"outlinewidth\":0,\"ticks\":\"\"}}],\"scatter\":[{\"fillpattern\":{\"fillmode\":\"overlay\",\"size\":10,\"solidity\":0.2},\"type\":\"scatter\"}],\"parcoords\":[{\"type\":\"parcoords\",\"line\":{\"colorbar\":{\"outlinewidth\":0,\"ticks\":\"\"}}}],\"scatterpolargl\":[{\"type\":\"scatterpolargl\",\"marker\":{\"colorbar\":{\"outlinewidth\":0,\"ticks\":\"\"}}}],\"bar\":[{\"error_x\":{\"color\":\"#2a3f5f\"},\"error_y\":{\"color\":\"#2a3f5f\"},\"marker\":{\"line\":{\"color\":\"#E5ECF6\",\"width\":0.5},\"pattern\":{\"fillmode\":\"overlay\",\"size\":10,\"solidity\":0.2}},\"type\":\"bar\"}],\"scattergeo\":[{\"type\":\"scattergeo\",\"marker\":{\"colorbar\":{\"outlinewidth\":0,\"ticks\":\"\"}}}],\"scatterpolar\":[{\"type\":\"scatterpolar\",\"marker\":{\"colorbar\":{\"outlinewidth\":0,\"ticks\":\"\"}}}],\"histogram\":[{\"marker\":{\"pattern\":{\"fillmode\":\"overlay\",\"size\":10,\"solidity\":0.2}},\"type\":\"histogram\"}],\"scattergl\":[{\"type\":\"scattergl\",\"marker\":{\"colorbar\":{\"outlinewidth\":0,\"ticks\":\"\"}}}],\"scatter3d\":[{\"type\":\"scatter3d\",\"line\":{\"colorbar\":{\"outlinewidth\":0,\"ticks\":\"\"}},\"marker\":{\"colorbar\":{\"outlinewidth\":0,\"ticks\":\"\"}}}],\"scattermapbox\":[{\"type\":\"scattermapbox\",\"marker\":{\"colorbar\":{\"outlinewidth\":0,\"ticks\":\"\"}}}],\"scatterternary\":[{\"type\":\"scatterternary\",\"marker\":{\"colorbar\":{\"outlinewidth\":0,\"ticks\":\"\"}}}],\"scattercarpet\":[{\"type\":\"scattercarpet\",\"marker\":{\"colorbar\":{\"outlinewidth\":0,\"ticks\":\"\"}}}],\"carpet\":[{\"aaxis\":{\"endlinecolor\":\"#2a3f5f\",\"gridcolor\":\"white\",\"linecolor\":\"white\",\"minorgridcolor\":\"white\",\"startlinecolor\":\"#2a3f5f\"},\"baxis\":{\"endlinecolor\":\"#2a3f5f\",\"gridcolor\":\"white\",\"linecolor\":\"white\",\"minorgridcolor\":\"white\",\"startlinecolor\":\"#2a3f5f\"},\"type\":\"carpet\"}],\"table\":[{\"cells\":{\"fill\":{\"color\":\"#EBF0F8\"},\"line\":{\"color\":\"white\"}},\"header\":{\"fill\":{\"color\":\"#C8D4E3\"},\"line\":{\"color\":\"white\"}},\"type\":\"table\"}],\"barpolar\":[{\"marker\":{\"line\":{\"color\":\"#E5ECF6\",\"width\":0.5},\"pattern\":{\"fillmode\":\"overlay\",\"size\":10,\"solidity\":0.2}},\"type\":\"barpolar\"}],\"pie\":[{\"automargin\":true,\"type\":\"pie\"}]},\"layout\":{\"autotypenumbers\":\"strict\",\"colorway\":[\"#636efa\",\"#EF553B\",\"#00cc96\",\"#ab63fa\",\"#FFA15A\",\"#19d3f3\",\"#FF6692\",\"#B6E880\",\"#FF97FF\",\"#FECB52\"],\"font\":{\"color\":\"#2a3f5f\"},\"hovermode\":\"closest\",\"hoverlabel\":{\"align\":\"left\"},\"paper_bgcolor\":\"white\",\"plot_bgcolor\":\"#E5ECF6\",\"polar\":{\"bgcolor\":\"#E5ECF6\",\"angularaxis\":{\"gridcolor\":\"white\",\"linecolor\":\"white\",\"ticks\":\"\"},\"radialaxis\":{\"gridcolor\":\"white\",\"linecolor\":\"white\",\"ticks\":\"\"}},\"ternary\":{\"bgcolor\":\"#E5ECF6\",\"aaxis\":{\"gridcolor\":\"white\",\"linecolor\":\"white\",\"ticks\":\"\"},\"baxis\":{\"gridcolor\":\"white\",\"linecolor\":\"white\",\"ticks\":\"\"},\"caxis\":{\"gridcolor\":\"white\",\"linecolor\":\"white\",\"ticks\":\"\"}},\"coloraxis\":{\"colorbar\":{\"outlinewidth\":0,\"ticks\":\"\"}},\"colorscale\":{\"sequential\":[[0.0,\"#0d0887\"],[0.1111111111111111,\"#46039f\"],[0.2222222222222222,\"#7201a8\"],[0.3333333333333333,\"#9c179e\"],[0.4444444444444444,\"#bd3786\"],[0.5555555555555556,\"#d8576b\"],[0.6666666666666666,\"#ed7953\"],[0.7777777777777778,\"#fb9f3a\"],[0.8888888888888888,\"#fdca26\"],[1.0,\"#f0f921\"]],\"sequentialminus\":[[0.0,\"#0d0887\"],[0.1111111111111111,\"#46039f\"],[0.2222222222222222,\"#7201a8\"],[0.3333333333333333,\"#9c179e\"],[0.4444444444444444,\"#bd3786\"],[0.5555555555555556,\"#d8576b\"],[0.6666666666666666,\"#ed7953\"],[0.7777777777777778,\"#fb9f3a\"],[0.8888888888888888,\"#fdca26\"],[1.0,\"#f0f921\"]],\"diverging\":[[0,\"#8e0152\"],[0.1,\"#c51b7d\"],[0.2,\"#de77ae\"],[0.3,\"#f1b6da\"],[0.4,\"#fde0ef\"],[0.5,\"#f7f7f7\"],[0.6,\"#e6f5d0\"],[0.7,\"#b8e186\"],[0.8,\"#7fbc41\"],[0.9,\"#4d9221\"],[1,\"#276419\"]]},\"xaxis\":{\"gridcolor\":\"white\",\"linecolor\":\"white\",\"ticks\":\"\",\"title\":{\"standoff\":15},\"zerolinecolor\":\"white\",\"automargin\":true,\"zerolinewidth\":2},\"yaxis\":{\"gridcolor\":\"white\",\"linecolor\":\"white\",\"ticks\":\"\",\"title\":{\"standoff\":15},\"zerolinecolor\":\"white\",\"automargin\":true,\"zerolinewidth\":2},\"scene\":{\"xaxis\":{\"backgroundcolor\":\"#E5ECF6\",\"gridcolor\":\"white\",\"linecolor\":\"white\",\"showbackground\":true,\"ticks\":\"\",\"zerolinecolor\":\"white\",\"gridwidth\":2},\"yaxis\":{\"backgroundcolor\":\"#E5ECF6\",\"gridcolor\":\"white\",\"linecolor\":\"white\",\"showbackground\":true,\"ticks\":\"\",\"zerolinecolor\":\"white\",\"gridwidth\":2},\"zaxis\":{\"backgroundcolor\":\"#E5ECF6\",\"gridcolor\":\"white\",\"linecolor\":\"white\",\"showbackground\":true,\"ticks\":\"\",\"zerolinecolor\":\"white\",\"gridwidth\":2}},\"shapedefaults\":{\"line\":{\"color\":\"#2a3f5f\"}},\"annotationdefaults\":{\"arrowcolor\":\"#2a3f5f\",\"arrowhead\":0,\"arrowwidth\":1},\"geo\":{\"bgcolor\":\"white\",\"landcolor\":\"#E5ECF6\",\"subunitcolor\":\"white\",\"showland\":true,\"showlakes\":true,\"lakecolor\":\"white\"},\"title\":{\"x\":0.05},\"mapbox\":{\"style\":\"light\"}}},\"xaxis\":{\"anchor\":\"y\",\"domain\":[0.0,0.45]},\"yaxis\":{\"anchor\":\"x\",\"domain\":[0.625,1.0]},\"xaxis2\":{\"anchor\":\"y2\",\"domain\":[0.55,1.0]},\"yaxis2\":{\"anchor\":\"x2\",\"domain\":[0.625,1.0]},\"xaxis3\":{\"anchor\":\"y3\",\"domain\":[0.0,0.45]},\"yaxis3\":{\"anchor\":\"x3\",\"domain\":[0.0,0.375]},\"xaxis4\":{\"anchor\":\"y4\",\"domain\":[0.55,1.0]},\"yaxis4\":{\"anchor\":\"x4\",\"domain\":[0.0,0.375]},\"annotations\":[{\"font\":{\"size\":16},\"showarrow\":false,\"text\":\"Types of Robots vs Time\",\"x\":0.225,\"xanchor\":\"center\",\"xref\":\"paper\",\"y\":1.0,\"yanchor\":\"bottom\",\"yref\":\"paper\"},{\"font\":{\"size\":16},\"showarrow\":false,\"text\":\"Resources vs Time\",\"x\":0.775,\"xanchor\":\"center\",\"xref\":\"paper\",\"y\":1.0,\"yanchor\":\"bottom\",\"yref\":\"paper\"},{\"font\":{\"size\":16},\"showarrow\":false,\"text\":\"Tasks of Robots vs Time\",\"x\":0.225,\"xanchor\":\"center\",\"xref\":\"paper\",\"y\":0.375,\"yanchor\":\"bottom\",\"yref\":\"paper\"},{\"font\":{\"size\":16},\"showarrow\":false,\"text\":\"Build Quality vs Time\",\"x\":0.775,\"xanchor\":\"center\",\"xref\":\"paper\",\"y\":0.375,\"yanchor\":\"bottom\",\"yref\":\"paper\"}],\"hovermode\":\"x\",\"title\":{\"text\":\"CHO - Characteristics\"}},                        {\"responsive\": true}                    ).then(function(){\n",
       "                            \n",
       "var gd = document.getElementById('68a2a367-b27f-4ef9-bab4-6b46a1999af7');\n",
       "var x = new MutationObserver(function (mutations, observer) {{\n",
       "        var display = window.getComputedStyle(gd).display;\n",
       "        if (!display || display === 'none') {{\n",
       "            console.log([gd, 'removed!']);\n",
       "            Plotly.purge(gd);\n",
       "            observer.disconnect();\n",
       "        }}\n",
       "}});\n",
       "\n",
       "// Listen for the removal of the full notebook cells\n",
       "var notebookContainer = gd.closest('#notebook-container');\n",
       "if (notebookContainer) {{\n",
       "    x.observe(notebookContainer, {childList: true});\n",
       "}}\n",
       "\n",
       "// Listen for the clearing of the current output cell\n",
       "var outputEl = gd.closest('.output');\n",
       "if (outputEl) {{\n",
       "    x.observe(outputEl, {childList: true});\n",
       "}}\n",
       "\n",
       "                        })                };                });            </script>        </div>"
      ]
     },
     "metadata": {},
     "output_type": "display_data"
    },
    {
     "data": {
      "application/vnd.plotly.v1+json": {
       "config": {
        "plotlyServerURL": "https://plotly.com"
       },
       "data": [
        {
         "alignmentgroup": "True",
         "hovertemplate": "variable=#In<br>Time=%{x}<br>value=%{y}<extra></extra>",
         "legendgroup": "#In",
         "marker": {
          "color": "#636efa",
          "pattern": {
           "shape": ""
          }
         },
         "name": "#In",
         "offsetgroup": "#In",
         "orientation": "v",
         "showlegend": true,
         "textposition": "auto",
         "type": "bar",
         "x": [
          0,
          1,
          2,
          3,
          4,
          5,
          6,
          7,
          8,
          9,
          10,
          11,
          12,
          13,
          14,
          15,
          16,
          17,
          18,
          19,
          20,
          21,
          22,
          23,
          24,
          25,
          26,
          27,
          28,
          29,
          30,
          31,
          32,
          33,
          34,
          35,
          36,
          37,
          38,
          39,
          40,
          41,
          42,
          43,
          44,
          45,
          46,
          47,
          48,
          49,
          50,
          51,
          52,
          53,
          54,
          55,
          56,
          57,
          58,
          59,
          60,
          61,
          62,
          63,
          64,
          65,
          66,
          67,
          68,
          69,
          70,
          71,
          72,
          73,
          74
         ],
         "xaxis": "x",
         "y": [
          1,
          1,
          1,
          1,
          1,
          1,
          3,
          3,
          3,
          5,
          5,
          5,
          11,
          11,
          11,
          21,
          21,
          21,
          33,
          34,
          34,
          34,
          40,
          44,
          46,
          47,
          51,
          53,
          57,
          59,
          63,
          66,
          72,
          76,
          81,
          85,
          91,
          96,
          101,
          104,
          109,
          117,
          123,
          129,
          138,
          142,
          150,
          151,
          153,
          154,
          154,
          154,
          154,
          154,
          154,
          154,
          154,
          154,
          154,
          154,
          154,
          154,
          154,
          154,
          154,
          154,
          154,
          154,
          154,
          154,
          154,
          154,
          154,
          154,
          154
         ],
         "yaxis": "y"
        },
        {
         "alignmentgroup": "True",
         "hovertemplate": "variable=#Out<br>Time=%{x}<br>value=%{y}<extra></extra>",
         "legendgroup": "#Out",
         "marker": {
          "color": "#EF553B",
          "pattern": {
           "shape": ""
          }
         },
         "name": "#Out",
         "offsetgroup": "#Out",
         "orientation": "v",
         "showlegend": true,
         "textposition": "auto",
         "type": "bar",
         "x": [
          0,
          1,
          2,
          3,
          4,
          5,
          6,
          7,
          8,
          9,
          10,
          11,
          12,
          13,
          14,
          15,
          16,
          17,
          18,
          19,
          20,
          21,
          22,
          23,
          24,
          25,
          26,
          27,
          28,
          29,
          30,
          31,
          32,
          33,
          34,
          35,
          36,
          37,
          38,
          39,
          40,
          41,
          42,
          43,
          44,
          45,
          46,
          47,
          48,
          49,
          50,
          51,
          52,
          53,
          54,
          55,
          56,
          57,
          58,
          59,
          60,
          61,
          62,
          63,
          64,
          65,
          66,
          67,
          68,
          69,
          70,
          71,
          72,
          73,
          74
         ],
         "xaxis": "x",
         "y": [
          0,
          0,
          0,
          0,
          0,
          0,
          0,
          0,
          0,
          0,
          0,
          0,
          0,
          0,
          0,
          0,
          0,
          0,
          0,
          1,
          1,
          1,
          1,
          1,
          1,
          2,
          2,
          2,
          2,
          2,
          2,
          3,
          5,
          5,
          6,
          8,
          8,
          9,
          10,
          11,
          12,
          12,
          14,
          16,
          17,
          19,
          19,
          20,
          22,
          23,
          23,
          23,
          23,
          23,
          23,
          23,
          23,
          23,
          23,
          23,
          23,
          23,
          23,
          23,
          23,
          23,
          23,
          23,
          23,
          23,
          23,
          23,
          23,
          23,
          23
         ],
         "yaxis": "y"
        }
       ],
       "layout": {
        "barmode": "relative",
        "hovermode": "x",
        "legend": {
         "title": {
          "text": "variable"
         },
         "tracegroupgap": 0
        },
        "template": {
         "data": {
          "bar": [
           {
            "error_x": {
             "color": "#2a3f5f"
            },
            "error_y": {
             "color": "#2a3f5f"
            },
            "marker": {
             "line": {
              "color": "#E5ECF6",
              "width": 0.5
             },
             "pattern": {
              "fillmode": "overlay",
              "size": 10,
              "solidity": 0.2
             }
            },
            "type": "bar"
           }
          ],
          "barpolar": [
           {
            "marker": {
             "line": {
              "color": "#E5ECF6",
              "width": 0.5
             },
             "pattern": {
              "fillmode": "overlay",
              "size": 10,
              "solidity": 0.2
             }
            },
            "type": "barpolar"
           }
          ],
          "carpet": [
           {
            "aaxis": {
             "endlinecolor": "#2a3f5f",
             "gridcolor": "white",
             "linecolor": "white",
             "minorgridcolor": "white",
             "startlinecolor": "#2a3f5f"
            },
            "baxis": {
             "endlinecolor": "#2a3f5f",
             "gridcolor": "white",
             "linecolor": "white",
             "minorgridcolor": "white",
             "startlinecolor": "#2a3f5f"
            },
            "type": "carpet"
           }
          ],
          "choropleth": [
           {
            "colorbar": {
             "outlinewidth": 0,
             "ticks": ""
            },
            "type": "choropleth"
           }
          ],
          "contour": [
           {
            "colorbar": {
             "outlinewidth": 0,
             "ticks": ""
            },
            "colorscale": [
             [
              0,
              "#0d0887"
             ],
             [
              0.1111111111111111,
              "#46039f"
             ],
             [
              0.2222222222222222,
              "#7201a8"
             ],
             [
              0.3333333333333333,
              "#9c179e"
             ],
             [
              0.4444444444444444,
              "#bd3786"
             ],
             [
              0.5555555555555556,
              "#d8576b"
             ],
             [
              0.6666666666666666,
              "#ed7953"
             ],
             [
              0.7777777777777778,
              "#fb9f3a"
             ],
             [
              0.8888888888888888,
              "#fdca26"
             ],
             [
              1,
              "#f0f921"
             ]
            ],
            "type": "contour"
           }
          ],
          "contourcarpet": [
           {
            "colorbar": {
             "outlinewidth": 0,
             "ticks": ""
            },
            "type": "contourcarpet"
           }
          ],
          "heatmap": [
           {
            "colorbar": {
             "outlinewidth": 0,
             "ticks": ""
            },
            "colorscale": [
             [
              0,
              "#0d0887"
             ],
             [
              0.1111111111111111,
              "#46039f"
             ],
             [
              0.2222222222222222,
              "#7201a8"
             ],
             [
              0.3333333333333333,
              "#9c179e"
             ],
             [
              0.4444444444444444,
              "#bd3786"
             ],
             [
              0.5555555555555556,
              "#d8576b"
             ],
             [
              0.6666666666666666,
              "#ed7953"
             ],
             [
              0.7777777777777778,
              "#fb9f3a"
             ],
             [
              0.8888888888888888,
              "#fdca26"
             ],
             [
              1,
              "#f0f921"
             ]
            ],
            "type": "heatmap"
           }
          ],
          "heatmapgl": [
           {
            "colorbar": {
             "outlinewidth": 0,
             "ticks": ""
            },
            "colorscale": [
             [
              0,
              "#0d0887"
             ],
             [
              0.1111111111111111,
              "#46039f"
             ],
             [
              0.2222222222222222,
              "#7201a8"
             ],
             [
              0.3333333333333333,
              "#9c179e"
             ],
             [
              0.4444444444444444,
              "#bd3786"
             ],
             [
              0.5555555555555556,
              "#d8576b"
             ],
             [
              0.6666666666666666,
              "#ed7953"
             ],
             [
              0.7777777777777778,
              "#fb9f3a"
             ],
             [
              0.8888888888888888,
              "#fdca26"
             ],
             [
              1,
              "#f0f921"
             ]
            ],
            "type": "heatmapgl"
           }
          ],
          "histogram": [
           {
            "marker": {
             "pattern": {
              "fillmode": "overlay",
              "size": 10,
              "solidity": 0.2
             }
            },
            "type": "histogram"
           }
          ],
          "histogram2d": [
           {
            "colorbar": {
             "outlinewidth": 0,
             "ticks": ""
            },
            "colorscale": [
             [
              0,
              "#0d0887"
             ],
             [
              0.1111111111111111,
              "#46039f"
             ],
             [
              0.2222222222222222,
              "#7201a8"
             ],
             [
              0.3333333333333333,
              "#9c179e"
             ],
             [
              0.4444444444444444,
              "#bd3786"
             ],
             [
              0.5555555555555556,
              "#d8576b"
             ],
             [
              0.6666666666666666,
              "#ed7953"
             ],
             [
              0.7777777777777778,
              "#fb9f3a"
             ],
             [
              0.8888888888888888,
              "#fdca26"
             ],
             [
              1,
              "#f0f921"
             ]
            ],
            "type": "histogram2d"
           }
          ],
          "histogram2dcontour": [
           {
            "colorbar": {
             "outlinewidth": 0,
             "ticks": ""
            },
            "colorscale": [
             [
              0,
              "#0d0887"
             ],
             [
              0.1111111111111111,
              "#46039f"
             ],
             [
              0.2222222222222222,
              "#7201a8"
             ],
             [
              0.3333333333333333,
              "#9c179e"
             ],
             [
              0.4444444444444444,
              "#bd3786"
             ],
             [
              0.5555555555555556,
              "#d8576b"
             ],
             [
              0.6666666666666666,
              "#ed7953"
             ],
             [
              0.7777777777777778,
              "#fb9f3a"
             ],
             [
              0.8888888888888888,
              "#fdca26"
             ],
             [
              1,
              "#f0f921"
             ]
            ],
            "type": "histogram2dcontour"
           }
          ],
          "mesh3d": [
           {
            "colorbar": {
             "outlinewidth": 0,
             "ticks": ""
            },
            "type": "mesh3d"
           }
          ],
          "parcoords": [
           {
            "line": {
             "colorbar": {
              "outlinewidth": 0,
              "ticks": ""
             }
            },
            "type": "parcoords"
           }
          ],
          "pie": [
           {
            "automargin": true,
            "type": "pie"
           }
          ],
          "scatter": [
           {
            "fillpattern": {
             "fillmode": "overlay",
             "size": 10,
             "solidity": 0.2
            },
            "type": "scatter"
           }
          ],
          "scatter3d": [
           {
            "line": {
             "colorbar": {
              "outlinewidth": 0,
              "ticks": ""
             }
            },
            "marker": {
             "colorbar": {
              "outlinewidth": 0,
              "ticks": ""
             }
            },
            "type": "scatter3d"
           }
          ],
          "scattercarpet": [
           {
            "marker": {
             "colorbar": {
              "outlinewidth": 0,
              "ticks": ""
             }
            },
            "type": "scattercarpet"
           }
          ],
          "scattergeo": [
           {
            "marker": {
             "colorbar": {
              "outlinewidth": 0,
              "ticks": ""
             }
            },
            "type": "scattergeo"
           }
          ],
          "scattergl": [
           {
            "marker": {
             "colorbar": {
              "outlinewidth": 0,
              "ticks": ""
             }
            },
            "type": "scattergl"
           }
          ],
          "scattermapbox": [
           {
            "marker": {
             "colorbar": {
              "outlinewidth": 0,
              "ticks": ""
             }
            },
            "type": "scattermapbox"
           }
          ],
          "scatterpolar": [
           {
            "marker": {
             "colorbar": {
              "outlinewidth": 0,
              "ticks": ""
             }
            },
            "type": "scatterpolar"
           }
          ],
          "scatterpolargl": [
           {
            "marker": {
             "colorbar": {
              "outlinewidth": 0,
              "ticks": ""
             }
            },
            "type": "scatterpolargl"
           }
          ],
          "scatterternary": [
           {
            "marker": {
             "colorbar": {
              "outlinewidth": 0,
              "ticks": ""
             }
            },
            "type": "scatterternary"
           }
          ],
          "surface": [
           {
            "colorbar": {
             "outlinewidth": 0,
             "ticks": ""
            },
            "colorscale": [
             [
              0,
              "#0d0887"
             ],
             [
              0.1111111111111111,
              "#46039f"
             ],
             [
              0.2222222222222222,
              "#7201a8"
             ],
             [
              0.3333333333333333,
              "#9c179e"
             ],
             [
              0.4444444444444444,
              "#bd3786"
             ],
             [
              0.5555555555555556,
              "#d8576b"
             ],
             [
              0.6666666666666666,
              "#ed7953"
             ],
             [
              0.7777777777777778,
              "#fb9f3a"
             ],
             [
              0.8888888888888888,
              "#fdca26"
             ],
             [
              1,
              "#f0f921"
             ]
            ],
            "type": "surface"
           }
          ],
          "table": [
           {
            "cells": {
             "fill": {
              "color": "#EBF0F8"
             },
             "line": {
              "color": "white"
             }
            },
            "header": {
             "fill": {
              "color": "#C8D4E3"
             },
             "line": {
              "color": "white"
             }
            },
            "type": "table"
           }
          ]
         },
         "layout": {
          "annotationdefaults": {
           "arrowcolor": "#2a3f5f",
           "arrowhead": 0,
           "arrowwidth": 1
          },
          "autotypenumbers": "strict",
          "coloraxis": {
           "colorbar": {
            "outlinewidth": 0,
            "ticks": ""
           }
          },
          "colorscale": {
           "diverging": [
            [
             0,
             "#8e0152"
            ],
            [
             0.1,
             "#c51b7d"
            ],
            [
             0.2,
             "#de77ae"
            ],
            [
             0.3,
             "#f1b6da"
            ],
            [
             0.4,
             "#fde0ef"
            ],
            [
             0.5,
             "#f7f7f7"
            ],
            [
             0.6,
             "#e6f5d0"
            ],
            [
             0.7,
             "#b8e186"
            ],
            [
             0.8,
             "#7fbc41"
            ],
            [
             0.9,
             "#4d9221"
            ],
            [
             1,
             "#276419"
            ]
           ],
           "sequential": [
            [
             0,
             "#0d0887"
            ],
            [
             0.1111111111111111,
             "#46039f"
            ],
            [
             0.2222222222222222,
             "#7201a8"
            ],
            [
             0.3333333333333333,
             "#9c179e"
            ],
            [
             0.4444444444444444,
             "#bd3786"
            ],
            [
             0.5555555555555556,
             "#d8576b"
            ],
            [
             0.6666666666666666,
             "#ed7953"
            ],
            [
             0.7777777777777778,
             "#fb9f3a"
            ],
            [
             0.8888888888888888,
             "#fdca26"
            ],
            [
             1,
             "#f0f921"
            ]
           ],
           "sequentialminus": [
            [
             0,
             "#0d0887"
            ],
            [
             0.1111111111111111,
             "#46039f"
            ],
            [
             0.2222222222222222,
             "#7201a8"
            ],
            [
             0.3333333333333333,
             "#9c179e"
            ],
            [
             0.4444444444444444,
             "#bd3786"
            ],
            [
             0.5555555555555556,
             "#d8576b"
            ],
            [
             0.6666666666666666,
             "#ed7953"
            ],
            [
             0.7777777777777778,
             "#fb9f3a"
            ],
            [
             0.8888888888888888,
             "#fdca26"
            ],
            [
             1,
             "#f0f921"
            ]
           ]
          },
          "colorway": [
           "#636efa",
           "#EF553B",
           "#00cc96",
           "#ab63fa",
           "#FFA15A",
           "#19d3f3",
           "#FF6692",
           "#B6E880",
           "#FF97FF",
           "#FECB52"
          ],
          "font": {
           "color": "#2a3f5f"
          },
          "geo": {
           "bgcolor": "white",
           "lakecolor": "white",
           "landcolor": "#E5ECF6",
           "showlakes": true,
           "showland": true,
           "subunitcolor": "white"
          },
          "hoverlabel": {
           "align": "left"
          },
          "hovermode": "closest",
          "mapbox": {
           "style": "light"
          },
          "paper_bgcolor": "white",
          "plot_bgcolor": "#E5ECF6",
          "polar": {
           "angularaxis": {
            "gridcolor": "white",
            "linecolor": "white",
            "ticks": ""
           },
           "bgcolor": "#E5ECF6",
           "radialaxis": {
            "gridcolor": "white",
            "linecolor": "white",
            "ticks": ""
           }
          },
          "scene": {
           "xaxis": {
            "backgroundcolor": "#E5ECF6",
            "gridcolor": "white",
            "gridwidth": 2,
            "linecolor": "white",
            "showbackground": true,
            "ticks": "",
            "zerolinecolor": "white"
           },
           "yaxis": {
            "backgroundcolor": "#E5ECF6",
            "gridcolor": "white",
            "gridwidth": 2,
            "linecolor": "white",
            "showbackground": true,
            "ticks": "",
            "zerolinecolor": "white"
           },
           "zaxis": {
            "backgroundcolor": "#E5ECF6",
            "gridcolor": "white",
            "gridwidth": 2,
            "linecolor": "white",
            "showbackground": true,
            "ticks": "",
            "zerolinecolor": "white"
           }
          },
          "shapedefaults": {
           "line": {
            "color": "#2a3f5f"
           }
          },
          "ternary": {
           "aaxis": {
            "gridcolor": "white",
            "linecolor": "white",
            "ticks": ""
           },
           "baxis": {
            "gridcolor": "white",
            "linecolor": "white",
            "ticks": ""
           },
           "bgcolor": "#E5ECF6",
           "caxis": {
            "gridcolor": "white",
            "linecolor": "white",
            "ticks": ""
           }
          },
          "title": {
           "x": 0.05
          },
          "xaxis": {
           "automargin": true,
           "gridcolor": "white",
           "linecolor": "white",
           "ticks": "",
           "title": {
            "standoff": 15
           },
           "zerolinecolor": "white",
           "zerolinewidth": 2
          },
          "yaxis": {
           "automargin": true,
           "gridcolor": "white",
           "linecolor": "white",
           "ticks": "",
           "title": {
            "standoff": 15
           },
           "zerolinecolor": "white",
           "zerolinewidth": 2
          }
         }
        },
        "title": {
         "text": "DHO - Habitat over Time"
        },
        "xaxis": {
         "anchor": "y",
         "domain": [
          0,
          1
         ],
         "title": {
          "text": "Time"
         }
        },
        "yaxis": {
         "anchor": "x",
         "domain": [
          0,
          1
         ],
         "title": {
          "text": "#Robots"
         }
        }
       }
      },
      "text/html": [
       "<div>                            <div id=\"bc37a698-9c12-4cdf-ac89-c1d4fe8cddf7\" class=\"plotly-graph-div\" style=\"height:525px; width:100%;\"></div>            <script type=\"text/javascript\">                require([\"plotly\"], function(Plotly) {                    window.PLOTLYENV=window.PLOTLYENV || {};                                    if (document.getElementById(\"bc37a698-9c12-4cdf-ac89-c1d4fe8cddf7\")) {                    Plotly.newPlot(                        \"bc37a698-9c12-4cdf-ac89-c1d4fe8cddf7\",                        [{\"alignmentgroup\":\"True\",\"hovertemplate\":\"variable=#In<br>Time=%{x}<br>value=%{y}<extra></extra>\",\"legendgroup\":\"#In\",\"marker\":{\"color\":\"#636efa\",\"pattern\":{\"shape\":\"\"}},\"name\":\"#In\",\"offsetgroup\":\"#In\",\"orientation\":\"v\",\"showlegend\":true,\"textposition\":\"auto\",\"x\":[0.0,1.0,2.0,3.0,4.0,5.0,6.0,7.0,8.0,9.0,10.0,11.0,12.0,13.0,14.0,15.0,16.0,17.0,18.0,19.0,20.0,21.0,22.0,23.0,24.0,25.0,26.0,27.0,28.0,29.0,30.0,31.0,32.0,33.0,34.0,35.0,36.0,37.0,38.0,39.0,40.0,41.0,42.0,43.0,44.0,45.0,46.0,47.0,48.0,49.0,50.0,51.0,52.0,53.0,54.0,55.0,56.0,57.0,58.0,59.0,60.0,61.0,62.0,63.0,64.0,65.0,66.0,67.0,68.0,69.0,70.0,71.0,72.0,73.0,74.0],\"xaxis\":\"x\",\"y\":[1.0,1.0,1.0,1.0,1.0,1.0,3.0,3.0,3.0,5.0,5.0,5.0,11.0,11.0,11.0,21.0,21.0,21.0,33.0,34.0,34.0,34.0,40.0,44.0,46.0,47.0,51.0,53.0,57.0,59.0,63.0,66.0,72.0,76.0,81.0,85.0,91.0,96.0,101.0,104.0,109.0,117.0,123.0,129.0,138.0,142.0,150.0,151.0,153.0,154.0,154.0,154.0,154.0,154.0,154.0,154.0,154.0,154.0,154.0,154.0,154.0,154.0,154.0,154.0,154.0,154.0,154.0,154.0,154.0,154.0,154.0,154.0,154.0,154.0,154.0],\"yaxis\":\"y\",\"type\":\"bar\"},{\"alignmentgroup\":\"True\",\"hovertemplate\":\"variable=#Out<br>Time=%{x}<br>value=%{y}<extra></extra>\",\"legendgroup\":\"#Out\",\"marker\":{\"color\":\"#EF553B\",\"pattern\":{\"shape\":\"\"}},\"name\":\"#Out\",\"offsetgroup\":\"#Out\",\"orientation\":\"v\",\"showlegend\":true,\"textposition\":\"auto\",\"x\":[0.0,1.0,2.0,3.0,4.0,5.0,6.0,7.0,8.0,9.0,10.0,11.0,12.0,13.0,14.0,15.0,16.0,17.0,18.0,19.0,20.0,21.0,22.0,23.0,24.0,25.0,26.0,27.0,28.0,29.0,30.0,31.0,32.0,33.0,34.0,35.0,36.0,37.0,38.0,39.0,40.0,41.0,42.0,43.0,44.0,45.0,46.0,47.0,48.0,49.0,50.0,51.0,52.0,53.0,54.0,55.0,56.0,57.0,58.0,59.0,60.0,61.0,62.0,63.0,64.0,65.0,66.0,67.0,68.0,69.0,70.0,71.0,72.0,73.0,74.0],\"xaxis\":\"x\",\"y\":[0.0,0.0,0.0,0.0,0.0,0.0,0.0,0.0,0.0,0.0,0.0,0.0,0.0,0.0,0.0,0.0,0.0,0.0,0.0,1.0,1.0,1.0,1.0,1.0,1.0,2.0,2.0,2.0,2.0,2.0,2.0,3.0,5.0,5.0,6.0,8.0,8.0,9.0,10.0,11.0,12.0,12.0,14.0,16.0,17.0,19.0,19.0,20.0,22.0,23.0,23.0,23.0,23.0,23.0,23.0,23.0,23.0,23.0,23.0,23.0,23.0,23.0,23.0,23.0,23.0,23.0,23.0,23.0,23.0,23.0,23.0,23.0,23.0,23.0,23.0],\"yaxis\":\"y\",\"type\":\"bar\"}],                        {\"template\":{\"data\":{\"histogram2dcontour\":[{\"type\":\"histogram2dcontour\",\"colorbar\":{\"outlinewidth\":0,\"ticks\":\"\"},\"colorscale\":[[0.0,\"#0d0887\"],[0.1111111111111111,\"#46039f\"],[0.2222222222222222,\"#7201a8\"],[0.3333333333333333,\"#9c179e\"],[0.4444444444444444,\"#bd3786\"],[0.5555555555555556,\"#d8576b\"],[0.6666666666666666,\"#ed7953\"],[0.7777777777777778,\"#fb9f3a\"],[0.8888888888888888,\"#fdca26\"],[1.0,\"#f0f921\"]]}],\"choropleth\":[{\"type\":\"choropleth\",\"colorbar\":{\"outlinewidth\":0,\"ticks\":\"\"}}],\"histogram2d\":[{\"type\":\"histogram2d\",\"colorbar\":{\"outlinewidth\":0,\"ticks\":\"\"},\"colorscale\":[[0.0,\"#0d0887\"],[0.1111111111111111,\"#46039f\"],[0.2222222222222222,\"#7201a8\"],[0.3333333333333333,\"#9c179e\"],[0.4444444444444444,\"#bd3786\"],[0.5555555555555556,\"#d8576b\"],[0.6666666666666666,\"#ed7953\"],[0.7777777777777778,\"#fb9f3a\"],[0.8888888888888888,\"#fdca26\"],[1.0,\"#f0f921\"]]}],\"heatmap\":[{\"type\":\"heatmap\",\"colorbar\":{\"outlinewidth\":0,\"ticks\":\"\"},\"colorscale\":[[0.0,\"#0d0887\"],[0.1111111111111111,\"#46039f\"],[0.2222222222222222,\"#7201a8\"],[0.3333333333333333,\"#9c179e\"],[0.4444444444444444,\"#bd3786\"],[0.5555555555555556,\"#d8576b\"],[0.6666666666666666,\"#ed7953\"],[0.7777777777777778,\"#fb9f3a\"],[0.8888888888888888,\"#fdca26\"],[1.0,\"#f0f921\"]]}],\"heatmapgl\":[{\"type\":\"heatmapgl\",\"colorbar\":{\"outlinewidth\":0,\"ticks\":\"\"},\"colorscale\":[[0.0,\"#0d0887\"],[0.1111111111111111,\"#46039f\"],[0.2222222222222222,\"#7201a8\"],[0.3333333333333333,\"#9c179e\"],[0.4444444444444444,\"#bd3786\"],[0.5555555555555556,\"#d8576b\"],[0.6666666666666666,\"#ed7953\"],[0.7777777777777778,\"#fb9f3a\"],[0.8888888888888888,\"#fdca26\"],[1.0,\"#f0f921\"]]}],\"contourcarpet\":[{\"type\":\"contourcarpet\",\"colorbar\":{\"outlinewidth\":0,\"ticks\":\"\"}}],\"contour\":[{\"type\":\"contour\",\"colorbar\":{\"outlinewidth\":0,\"ticks\":\"\"},\"colorscale\":[[0.0,\"#0d0887\"],[0.1111111111111111,\"#46039f\"],[0.2222222222222222,\"#7201a8\"],[0.3333333333333333,\"#9c179e\"],[0.4444444444444444,\"#bd3786\"],[0.5555555555555556,\"#d8576b\"],[0.6666666666666666,\"#ed7953\"],[0.7777777777777778,\"#fb9f3a\"],[0.8888888888888888,\"#fdca26\"],[1.0,\"#f0f921\"]]}],\"surface\":[{\"type\":\"surface\",\"colorbar\":{\"outlinewidth\":0,\"ticks\":\"\"},\"colorscale\":[[0.0,\"#0d0887\"],[0.1111111111111111,\"#46039f\"],[0.2222222222222222,\"#7201a8\"],[0.3333333333333333,\"#9c179e\"],[0.4444444444444444,\"#bd3786\"],[0.5555555555555556,\"#d8576b\"],[0.6666666666666666,\"#ed7953\"],[0.7777777777777778,\"#fb9f3a\"],[0.8888888888888888,\"#fdca26\"],[1.0,\"#f0f921\"]]}],\"mesh3d\":[{\"type\":\"mesh3d\",\"colorbar\":{\"outlinewidth\":0,\"ticks\":\"\"}}],\"scatter\":[{\"fillpattern\":{\"fillmode\":\"overlay\",\"size\":10,\"solidity\":0.2},\"type\":\"scatter\"}],\"parcoords\":[{\"type\":\"parcoords\",\"line\":{\"colorbar\":{\"outlinewidth\":0,\"ticks\":\"\"}}}],\"scatterpolargl\":[{\"type\":\"scatterpolargl\",\"marker\":{\"colorbar\":{\"outlinewidth\":0,\"ticks\":\"\"}}}],\"bar\":[{\"error_x\":{\"color\":\"#2a3f5f\"},\"error_y\":{\"color\":\"#2a3f5f\"},\"marker\":{\"line\":{\"color\":\"#E5ECF6\",\"width\":0.5},\"pattern\":{\"fillmode\":\"overlay\",\"size\":10,\"solidity\":0.2}},\"type\":\"bar\"}],\"scattergeo\":[{\"type\":\"scattergeo\",\"marker\":{\"colorbar\":{\"outlinewidth\":0,\"ticks\":\"\"}}}],\"scatterpolar\":[{\"type\":\"scatterpolar\",\"marker\":{\"colorbar\":{\"outlinewidth\":0,\"ticks\":\"\"}}}],\"histogram\":[{\"marker\":{\"pattern\":{\"fillmode\":\"overlay\",\"size\":10,\"solidity\":0.2}},\"type\":\"histogram\"}],\"scattergl\":[{\"type\":\"scattergl\",\"marker\":{\"colorbar\":{\"outlinewidth\":0,\"ticks\":\"\"}}}],\"scatter3d\":[{\"type\":\"scatter3d\",\"line\":{\"colorbar\":{\"outlinewidth\":0,\"ticks\":\"\"}},\"marker\":{\"colorbar\":{\"outlinewidth\":0,\"ticks\":\"\"}}}],\"scattermapbox\":[{\"type\":\"scattermapbox\",\"marker\":{\"colorbar\":{\"outlinewidth\":0,\"ticks\":\"\"}}}],\"scatterternary\":[{\"type\":\"scatterternary\",\"marker\":{\"colorbar\":{\"outlinewidth\":0,\"ticks\":\"\"}}}],\"scattercarpet\":[{\"type\":\"scattercarpet\",\"marker\":{\"colorbar\":{\"outlinewidth\":0,\"ticks\":\"\"}}}],\"carpet\":[{\"aaxis\":{\"endlinecolor\":\"#2a3f5f\",\"gridcolor\":\"white\",\"linecolor\":\"white\",\"minorgridcolor\":\"white\",\"startlinecolor\":\"#2a3f5f\"},\"baxis\":{\"endlinecolor\":\"#2a3f5f\",\"gridcolor\":\"white\",\"linecolor\":\"white\",\"minorgridcolor\":\"white\",\"startlinecolor\":\"#2a3f5f\"},\"type\":\"carpet\"}],\"table\":[{\"cells\":{\"fill\":{\"color\":\"#EBF0F8\"},\"line\":{\"color\":\"white\"}},\"header\":{\"fill\":{\"color\":\"#C8D4E3\"},\"line\":{\"color\":\"white\"}},\"type\":\"table\"}],\"barpolar\":[{\"marker\":{\"line\":{\"color\":\"#E5ECF6\",\"width\":0.5},\"pattern\":{\"fillmode\":\"overlay\",\"size\":10,\"solidity\":0.2}},\"type\":\"barpolar\"}],\"pie\":[{\"automargin\":true,\"type\":\"pie\"}]},\"layout\":{\"autotypenumbers\":\"strict\",\"colorway\":[\"#636efa\",\"#EF553B\",\"#00cc96\",\"#ab63fa\",\"#FFA15A\",\"#19d3f3\",\"#FF6692\",\"#B6E880\",\"#FF97FF\",\"#FECB52\"],\"font\":{\"color\":\"#2a3f5f\"},\"hovermode\":\"closest\",\"hoverlabel\":{\"align\":\"left\"},\"paper_bgcolor\":\"white\",\"plot_bgcolor\":\"#E5ECF6\",\"polar\":{\"bgcolor\":\"#E5ECF6\",\"angularaxis\":{\"gridcolor\":\"white\",\"linecolor\":\"white\",\"ticks\":\"\"},\"radialaxis\":{\"gridcolor\":\"white\",\"linecolor\":\"white\",\"ticks\":\"\"}},\"ternary\":{\"bgcolor\":\"#E5ECF6\",\"aaxis\":{\"gridcolor\":\"white\",\"linecolor\":\"white\",\"ticks\":\"\"},\"baxis\":{\"gridcolor\":\"white\",\"linecolor\":\"white\",\"ticks\":\"\"},\"caxis\":{\"gridcolor\":\"white\",\"linecolor\":\"white\",\"ticks\":\"\"}},\"coloraxis\":{\"colorbar\":{\"outlinewidth\":0,\"ticks\":\"\"}},\"colorscale\":{\"sequential\":[[0.0,\"#0d0887\"],[0.1111111111111111,\"#46039f\"],[0.2222222222222222,\"#7201a8\"],[0.3333333333333333,\"#9c179e\"],[0.4444444444444444,\"#bd3786\"],[0.5555555555555556,\"#d8576b\"],[0.6666666666666666,\"#ed7953\"],[0.7777777777777778,\"#fb9f3a\"],[0.8888888888888888,\"#fdca26\"],[1.0,\"#f0f921\"]],\"sequentialminus\":[[0.0,\"#0d0887\"],[0.1111111111111111,\"#46039f\"],[0.2222222222222222,\"#7201a8\"],[0.3333333333333333,\"#9c179e\"],[0.4444444444444444,\"#bd3786\"],[0.5555555555555556,\"#d8576b\"],[0.6666666666666666,\"#ed7953\"],[0.7777777777777778,\"#fb9f3a\"],[0.8888888888888888,\"#fdca26\"],[1.0,\"#f0f921\"]],\"diverging\":[[0,\"#8e0152\"],[0.1,\"#c51b7d\"],[0.2,\"#de77ae\"],[0.3,\"#f1b6da\"],[0.4,\"#fde0ef\"],[0.5,\"#f7f7f7\"],[0.6,\"#e6f5d0\"],[0.7,\"#b8e186\"],[0.8,\"#7fbc41\"],[0.9,\"#4d9221\"],[1,\"#276419\"]]},\"xaxis\":{\"gridcolor\":\"white\",\"linecolor\":\"white\",\"ticks\":\"\",\"title\":{\"standoff\":15},\"zerolinecolor\":\"white\",\"automargin\":true,\"zerolinewidth\":2},\"yaxis\":{\"gridcolor\":\"white\",\"linecolor\":\"white\",\"ticks\":\"\",\"title\":{\"standoff\":15},\"zerolinecolor\":\"white\",\"automargin\":true,\"zerolinewidth\":2},\"scene\":{\"xaxis\":{\"backgroundcolor\":\"#E5ECF6\",\"gridcolor\":\"white\",\"linecolor\":\"white\",\"showbackground\":true,\"ticks\":\"\",\"zerolinecolor\":\"white\",\"gridwidth\":2},\"yaxis\":{\"backgroundcolor\":\"#E5ECF6\",\"gridcolor\":\"white\",\"linecolor\":\"white\",\"showbackground\":true,\"ticks\":\"\",\"zerolinecolor\":\"white\",\"gridwidth\":2},\"zaxis\":{\"backgroundcolor\":\"#E5ECF6\",\"gridcolor\":\"white\",\"linecolor\":\"white\",\"showbackground\":true,\"ticks\":\"\",\"zerolinecolor\":\"white\",\"gridwidth\":2}},\"shapedefaults\":{\"line\":{\"color\":\"#2a3f5f\"}},\"annotationdefaults\":{\"arrowcolor\":\"#2a3f5f\",\"arrowhead\":0,\"arrowwidth\":1},\"geo\":{\"bgcolor\":\"white\",\"landcolor\":\"#E5ECF6\",\"subunitcolor\":\"white\",\"showland\":true,\"showlakes\":true,\"lakecolor\":\"white\"},\"title\":{\"x\":0.05},\"mapbox\":{\"style\":\"light\"}}},\"xaxis\":{\"anchor\":\"y\",\"domain\":[0.0,1.0],\"title\":{\"text\":\"Time\"}},\"yaxis\":{\"anchor\":\"x\",\"domain\":[0.0,1.0],\"title\":{\"text\":\"#Robots\"}},\"legend\":{\"title\":{\"text\":\"variable\"},\"tracegroupgap\":0},\"title\":{\"text\":\"DHO - Habitat over Time\"},\"barmode\":\"relative\",\"hovermode\":\"x\"},                        {\"responsive\": true}                    ).then(function(){\n",
       "                            \n",
       "var gd = document.getElementById('bc37a698-9c12-4cdf-ac89-c1d4fe8cddf7');\n",
       "var x = new MutationObserver(function (mutations, observer) {{\n",
       "        var display = window.getComputedStyle(gd).display;\n",
       "        if (!display || display === 'none') {{\n",
       "            console.log([gd, 'removed!']);\n",
       "            Plotly.purge(gd);\n",
       "            observer.disconnect();\n",
       "        }}\n",
       "}});\n",
       "\n",
       "// Listen for the removal of the full notebook cells\n",
       "var notebookContainer = gd.closest('#notebook-container');\n",
       "if (notebookContainer) {{\n",
       "    x.observe(notebookContainer, {childList: true});\n",
       "}}\n",
       "\n",
       "// Listen for the clearing of the current output cell\n",
       "var outputEl = gd.closest('.output');\n",
       "if (outputEl) {{\n",
       "    x.observe(outputEl, {childList: true});\n",
       "}}\n",
       "\n",
       "                        })                };                });            </script>        </div>"
      ]
     },
     "metadata": {},
     "output_type": "display_data"
    },
    {
     "data": {
      "application/vnd.plotly.v1+json": {
       "config": {
        "plotlyServerURL": "https://plotly.com"
       },
       "data": [
        {
         "name": "#Replicator",
         "type": "bar",
         "x": [
          0,
          1,
          2,
          3,
          4,
          5,
          6,
          7,
          8,
          9,
          10,
          11,
          12,
          13,
          14,
          15,
          16,
          17,
          18,
          19,
          20,
          21,
          22,
          23,
          24,
          25,
          26,
          27,
          28,
          29,
          30,
          31,
          32,
          33,
          34,
          35,
          36,
          37,
          38,
          39,
          40,
          41,
          42,
          43,
          44,
          45,
          46,
          47,
          48,
          49,
          50,
          51,
          52,
          53,
          54,
          55,
          56,
          57,
          58,
          59,
          60,
          61,
          62,
          63,
          64,
          65,
          66,
          67,
          68,
          69,
          70,
          71,
          72,
          73,
          74
         ],
         "xaxis": "x",
         "y": [
          1,
          1,
          1,
          1,
          1,
          1,
          3,
          3,
          3,
          5,
          5,
          5,
          11,
          11,
          11,
          21,
          21,
          21,
          33,
          34,
          34,
          34,
          40,
          44,
          46,
          47,
          51,
          53,
          57,
          59,
          63,
          66,
          72,
          76,
          81,
          85,
          91,
          96,
          101,
          104,
          109,
          117,
          123,
          129,
          138,
          142,
          150,
          151,
          153,
          154,
          154,
          154,
          154,
          154,
          154,
          154,
          154,
          154,
          154,
          154,
          154,
          154,
          154,
          154,
          154,
          154,
          154,
          154,
          154,
          154,
          154,
          154,
          154,
          154,
          154
         ],
         "yaxis": "y"
        },
        {
         "name": "#Normal",
         "type": "bar",
         "x": [
          0,
          1,
          2,
          3,
          4,
          5,
          6,
          7,
          8,
          9,
          10,
          11,
          12,
          13,
          14,
          15,
          16,
          17,
          18,
          19,
          20,
          21,
          22,
          23,
          24,
          25,
          26,
          27,
          28,
          29,
          30,
          31,
          32,
          33,
          34,
          35,
          36,
          37,
          38,
          39,
          40,
          41,
          42,
          43,
          44,
          45,
          46,
          47,
          48,
          49,
          50,
          51,
          52,
          53,
          54,
          55,
          56,
          57,
          58,
          59,
          60,
          61,
          62,
          63,
          64,
          65,
          66,
          67,
          68,
          69,
          70,
          71,
          72,
          73,
          74
         ],
         "xaxis": "x",
         "y": [
          0,
          0,
          0,
          0,
          0,
          0,
          0,
          0,
          0,
          0,
          0,
          0,
          0,
          0,
          0,
          0,
          0,
          0,
          0,
          0,
          0,
          0,
          0,
          0,
          0,
          0,
          0,
          0,
          0,
          0,
          0,
          0,
          0,
          0,
          0,
          0,
          0,
          0,
          0,
          0,
          0,
          0,
          0,
          0,
          0,
          0,
          0,
          0,
          0,
          0,
          0,
          0,
          0,
          0,
          0,
          0,
          0,
          0,
          0,
          0,
          0,
          0,
          0,
          0,
          0,
          0,
          0,
          0,
          0,
          0,
          0,
          0,
          0,
          0,
          0
         ],
         "yaxis": "y"
        },
        {
         "name": "#Assembler",
         "type": "bar",
         "x": [
          0,
          1,
          2,
          3,
          4,
          5,
          6,
          7,
          8,
          9,
          10,
          11,
          12,
          13,
          14,
          15,
          16,
          17,
          18,
          19,
          20,
          21,
          22,
          23,
          24,
          25,
          26,
          27,
          28,
          29,
          30,
          31,
          32,
          33,
          34,
          35,
          36,
          37,
          38,
          39,
          40,
          41,
          42,
          43,
          44,
          45,
          46,
          47,
          48,
          49,
          50,
          51,
          52,
          53,
          54,
          55,
          56,
          57,
          58,
          59,
          60,
          61,
          62,
          63,
          64,
          65,
          66,
          67,
          68,
          69,
          70,
          71,
          72,
          73,
          74
         ],
         "xaxis": "x",
         "y": [
          0,
          0,
          0,
          0,
          0,
          0,
          0,
          0,
          0,
          0,
          0,
          0,
          0,
          0,
          0,
          0,
          0,
          0,
          0,
          0,
          0,
          0,
          0,
          0,
          0,
          0,
          0,
          0,
          0,
          0,
          0,
          0,
          0,
          0,
          0,
          0,
          0,
          0,
          0,
          0,
          0,
          0,
          0,
          0,
          0,
          0,
          0,
          0,
          0,
          0,
          0,
          0,
          0,
          0,
          0,
          0,
          0,
          0,
          0,
          0,
          0,
          0,
          0,
          0,
          0,
          0,
          0,
          0,
          0,
          0,
          0,
          0,
          0,
          0,
          0
         ],
         "yaxis": "y"
        },
        {
         "name": "#Printer",
         "type": "bar",
         "x": [
          0,
          1,
          2,
          3,
          4,
          5,
          6,
          7,
          8,
          9,
          10,
          11,
          12,
          13,
          14,
          15,
          16,
          17,
          18,
          19,
          20,
          21,
          22,
          23,
          24,
          25,
          26,
          27,
          28,
          29,
          30,
          31,
          32,
          33,
          34,
          35,
          36,
          37,
          38,
          39,
          40,
          41,
          42,
          43,
          44,
          45,
          46,
          47,
          48,
          49,
          50,
          51,
          52,
          53,
          54,
          55,
          56,
          57,
          58,
          59,
          60,
          61,
          62,
          63,
          64,
          65,
          66,
          67,
          68,
          69,
          70,
          71,
          72,
          73,
          74
         ],
         "xaxis": "x",
         "y": [
          0,
          0,
          0,
          0,
          0,
          0,
          0,
          0,
          0,
          0,
          0,
          0,
          0,
          0,
          0,
          0,
          0,
          0,
          0,
          0,
          0,
          0,
          0,
          0,
          0,
          0,
          0,
          0,
          0,
          0,
          0,
          0,
          0,
          0,
          0,
          0,
          0,
          0,
          0,
          0,
          0,
          0,
          0,
          0,
          0,
          0,
          0,
          0,
          0,
          0,
          0,
          0,
          0,
          0,
          0,
          0,
          0,
          0,
          0,
          0,
          0,
          0,
          0,
          0,
          0,
          0,
          0,
          0,
          0,
          0,
          0,
          0,
          0,
          0,
          0
         ],
         "yaxis": "y"
        },
        {
         "name": "#Assembling",
         "type": "bar",
         "x": [
          0,
          1,
          2,
          3,
          4,
          5,
          6,
          7,
          8,
          9,
          10,
          11,
          12,
          13,
          14,
          15,
          16,
          17,
          18,
          19,
          20,
          21,
          22,
          23,
          24,
          25,
          26,
          27,
          28,
          29,
          30,
          31,
          32,
          33,
          34,
          35,
          36,
          37,
          38,
          39,
          40,
          41,
          42,
          43,
          44,
          45,
          46,
          47,
          48,
          49,
          50,
          51,
          52,
          53,
          54,
          55,
          56,
          57,
          58,
          59,
          60,
          61,
          62,
          63,
          64,
          65,
          66,
          67,
          68,
          69,
          70,
          71,
          72,
          73,
          74
         ],
         "xaxis": "x3",
         "y": [
          1,
          1,
          1,
          1,
          1,
          1,
          3,
          3,
          3,
          5,
          5,
          5,
          11,
          11,
          11,
          11,
          13,
          13,
          2,
          6,
          10,
          12,
          8,
          8,
          9,
          11,
          10,
          10,
          10,
          14,
          15,
          17,
          16,
          18,
          18,
          18,
          17,
          17,
          19,
          22,
          24,
          26,
          25,
          26,
          18,
          13,
          5,
          3,
          1,
          0,
          0,
          0,
          0,
          0,
          0,
          0,
          0,
          0,
          0,
          0,
          0,
          0,
          0,
          0,
          0,
          0,
          0,
          0,
          0,
          0,
          0,
          0,
          0,
          0,
          0
         ],
         "yaxis": "y3"
        },
        {
         "name": "#Printing",
         "type": "bar",
         "x": [
          0,
          1,
          2,
          3,
          4,
          5,
          6,
          7,
          8,
          9,
          10,
          11,
          12,
          13,
          14,
          15,
          16,
          17,
          18,
          19,
          20,
          21,
          22,
          23,
          24,
          25,
          26,
          27,
          28,
          29,
          30,
          31,
          32,
          33,
          34,
          35,
          36,
          37,
          38,
          39,
          40,
          41,
          42,
          43,
          44,
          45,
          46,
          47,
          48,
          49,
          50,
          51,
          52,
          53,
          54,
          55,
          56,
          57,
          58,
          59,
          60,
          61,
          62,
          63,
          64,
          65,
          66,
          67,
          68,
          69,
          70,
          71,
          72,
          73,
          74
         ],
         "xaxis": "x3",
         "y": [
          0,
          0,
          0,
          0,
          0,
          0,
          0,
          0,
          0,
          0,
          0,
          0,
          0,
          0,
          0,
          6,
          8,
          8,
          19,
          27,
          23,
          13,
          18,
          28,
          22,
          23,
          27,
          28,
          27,
          37,
          27,
          29,
          37,
          38,
          38,
          42,
          47,
          51,
          53,
          50,
          55,
          60,
          67,
          62,
          73,
          31,
          2,
          0,
          0,
          0,
          0,
          0,
          0,
          0,
          0,
          0,
          0,
          0,
          0,
          0,
          0,
          0,
          0,
          0,
          0,
          0,
          0,
          0,
          0,
          0,
          0,
          0,
          0,
          0,
          0
         ],
         "yaxis": "y3"
        },
        {
         "name": "#Collecting",
         "type": "bar",
         "x": [
          0,
          1,
          2,
          3,
          4,
          5,
          6,
          7,
          8,
          9,
          10,
          11,
          12,
          13,
          14,
          15,
          16,
          17,
          18,
          19,
          20,
          21,
          22,
          23,
          24,
          25,
          26,
          27,
          28,
          29,
          30,
          31,
          32,
          33,
          34,
          35,
          36,
          37,
          38,
          39,
          40,
          41,
          42,
          43,
          44,
          45,
          46,
          47,
          48,
          49,
          50,
          51,
          52,
          53,
          54,
          55,
          56,
          57,
          58,
          59,
          60,
          61,
          62,
          63,
          64,
          65,
          66,
          67,
          68,
          69,
          70,
          71,
          72,
          73,
          74
         ],
         "xaxis": "x3",
         "y": [
          0,
          0,
          0,
          0,
          0,
          0,
          0,
          0,
          0,
          0,
          0,
          0,
          0,
          0,
          0,
          0,
          0,
          0,
          0,
          0,
          1,
          9,
          10,
          4,
          15,
          12,
          10,
          13,
          16,
          6,
          17,
          17,
          13,
          16,
          20,
          21,
          23,
          23,
          24,
          29,
          25,
          23,
          25,
          35,
          38,
          16,
          0,
          0,
          0,
          0,
          0,
          0,
          0,
          0,
          0,
          0,
          0,
          0,
          0,
          0,
          0,
          0,
          0,
          0,
          0,
          0,
          0,
          0,
          0,
          0,
          0,
          0,
          0,
          0,
          0
         ],
         "yaxis": "y3"
        },
        {
         "name": "#Idle",
         "type": "bar",
         "x": [
          0,
          1,
          2,
          3,
          4,
          5,
          6,
          7,
          8,
          9,
          10,
          11,
          12,
          13,
          14,
          15,
          16,
          17,
          18,
          19,
          20,
          21,
          22,
          23,
          24,
          25,
          26,
          27,
          28,
          29,
          30,
          31,
          32,
          33,
          34,
          35,
          36,
          37,
          38,
          39,
          40,
          41,
          42,
          43,
          44,
          45,
          46,
          47,
          48,
          49,
          50,
          51,
          52,
          53,
          54,
          55,
          56,
          57,
          58,
          59,
          60,
          61,
          62,
          63,
          64,
          65,
          66,
          67,
          68,
          69,
          70,
          71,
          72,
          73,
          74
         ],
         "xaxis": "x3",
         "y": [
          0,
          0,
          0,
          0,
          0,
          0,
          0,
          0,
          0,
          0,
          0,
          0,
          0,
          0,
          0,
          4,
          0,
          0,
          12,
          1,
          0,
          0,
          4,
          4,
          0,
          1,
          4,
          2,
          4,
          2,
          4,
          3,
          6,
          4,
          5,
          4,
          4,
          5,
          5,
          3,
          5,
          8,
          6,
          6,
          9,
          82,
          143,
          148,
          152,
          154,
          154,
          154,
          154,
          154,
          154,
          154,
          154,
          154,
          154,
          154,
          154,
          154,
          154,
          154,
          154,
          154,
          154,
          154,
          154,
          154,
          154,
          154,
          154,
          154,
          154
         ],
         "yaxis": "y3"
        },
        {
         "mode": "lines",
         "name": "NonPr",
         "type": "scatter",
         "x": [
          0,
          1,
          2,
          3,
          4,
          5,
          6,
          7,
          8,
          9,
          10,
          11,
          12,
          13,
          14,
          15,
          16,
          17,
          18,
          19,
          20,
          21,
          22,
          23,
          24,
          25,
          26,
          27,
          28,
          29,
          30,
          31,
          32,
          33,
          34,
          35,
          36,
          37,
          38,
          39,
          40,
          41,
          42,
          43,
          44,
          45,
          46,
          47,
          48,
          49,
          50,
          51,
          52,
          53,
          54,
          55,
          56,
          57,
          58,
          59,
          60,
          61,
          62,
          63,
          64,
          65,
          66,
          67,
          68,
          69,
          70,
          71,
          72,
          73,
          74
         ],
         "xaxis": "x2",
         "y": [
          297,
          297,
          297,
          297,
          297,
          297,
          291,
          291,
          291,
          285,
          285,
          285,
          267,
          267,
          267,
          249,
          246,
          246,
          240,
          231,
          225,
          222,
          219,
          213,
          207,
          201,
          192,
          186,
          180,
          171,
          165,
          156,
          147,
          138,
          126,
          117,
          105,
          93,
          78,
          66,
          51,
          36,
          21,
          3,
          0,
          0,
          0,
          0,
          0,
          0,
          0,
          0,
          0,
          0,
          0,
          0,
          0,
          0,
          0,
          0,
          0,
          0,
          0,
          0,
          0,
          0,
          0,
          0,
          0,
          0,
          0,
          0,
          0,
          0,
          0
         ],
         "yaxis": "y2"
        },
        {
         "mode": "lines",
         "name": "Printable",
         "type": "scatter",
         "x": [
          0,
          1,
          2,
          3,
          4,
          5,
          6,
          7,
          8,
          9,
          10,
          11,
          12,
          13,
          14,
          15,
          16,
          17,
          18,
          19,
          20,
          21,
          22,
          23,
          24,
          25,
          26,
          27,
          28,
          29,
          30,
          31,
          32,
          33,
          34,
          35,
          36,
          37,
          38,
          39,
          40,
          41,
          42,
          43,
          44,
          45,
          46,
          47,
          48,
          49,
          50,
          51,
          52,
          53,
          54,
          55,
          56,
          57,
          58,
          59,
          60,
          61,
          62,
          63,
          64,
          65,
          66,
          67,
          68,
          69,
          70,
          71,
          72,
          73,
          74
         ],
         "xaxis": "x2",
         "y": [
          94,
          94,
          94,
          94,
          94,
          94,
          82,
          82,
          82,
          70,
          70,
          70,
          34,
          34,
          34,
          2,
          0,
          4,
          6,
          1,
          1,
          1,
          5,
          6,
          5,
          5,
          0,
          2,
          4,
          4,
          6,
          2,
          4,
          6,
          0,
          4,
          4,
          6,
          2,
          3,
          2,
          2,
          5,
          0,
          35,
          49,
          49,
          49,
          49,
          49,
          49,
          49,
          49,
          49,
          49,
          49,
          49,
          49,
          49,
          49,
          49,
          49,
          49,
          49,
          49,
          49,
          49,
          49,
          49,
          49,
          49,
          49,
          49,
          49,
          49
         ],
         "yaxis": "y2"
        },
        {
         "mode": "lines",
         "name": "Materials",
         "type": "scatter",
         "x": [
          0,
          1,
          2,
          3,
          4,
          5,
          6,
          7,
          8,
          9,
          10,
          11,
          12,
          13,
          14,
          15,
          16,
          17,
          18,
          19,
          20,
          21,
          22,
          23,
          24,
          25,
          26,
          27,
          28,
          29,
          30,
          31,
          32,
          33,
          34,
          35,
          36,
          37,
          38,
          39,
          40,
          41,
          42,
          43,
          44,
          45,
          46,
          47,
          48,
          49,
          50,
          51,
          52,
          53,
          54,
          55,
          56,
          57,
          58,
          59,
          60,
          61,
          62,
          63,
          64,
          65,
          66,
          67,
          68,
          69,
          70,
          71,
          72,
          73,
          74
         ],
         "xaxis": "x2",
         "y": [
          50,
          50,
          50,
          50,
          50,
          50,
          50,
          50,
          50,
          50,
          50,
          50,
          50,
          50,
          50,
          46,
          42,
          38,
          24,
          11,
          2,
          2,
          1,
          1,
          1,
          2,
          1,
          1,
          1,
          1,
          1,
          1,
          2,
          1,
          1,
          1,
          2,
          1,
          1,
          2,
          1,
          1,
          1,
          2,
          1,
          1,
          1,
          1,
          1,
          1,
          1,
          1,
          1,
          1,
          1,
          1,
          1,
          1,
          1,
          1,
          1,
          1,
          1,
          1,
          1,
          1,
          1,
          1,
          1,
          1,
          1,
          1,
          1,
          1,
          1
         ],
         "yaxis": "y2"
        },
        {
         "mode": "lines",
         "name": "Env_Materials",
         "type": "scatter",
         "x": [
          0,
          1,
          2,
          3,
          4,
          5,
          6,
          7,
          8,
          9,
          10,
          11,
          12,
          13,
          14,
          15,
          16,
          17,
          18,
          19,
          20,
          21,
          22,
          23,
          24,
          25,
          26,
          27,
          28,
          29,
          30,
          31,
          32,
          33,
          34,
          35,
          36,
          37,
          38,
          39,
          40,
          41,
          42,
          43,
          44,
          45,
          46,
          47,
          48,
          49,
          50,
          51,
          52,
          53,
          54,
          55,
          56,
          57,
          58,
          59,
          60,
          61,
          62,
          63,
          64,
          65,
          66,
          67,
          68,
          69,
          70,
          71,
          72,
          73,
          74
         ],
         "xaxis": "x2",
         "y": [
          500,
          500,
          500,
          500,
          500,
          500,
          500,
          500,
          500,
          500,
          500,
          500,
          500,
          500,
          500,
          500,
          500,
          500,
          500,
          500,
          497,
          491,
          482,
          469,
          458,
          445,
          433,
          419,
          405,
          387,
          373,
          359,
          338,
          319,
          301,
          279,
          254,
          229,
          203,
          177,
          149,
          119,
          86,
          54,
          14,
          0,
          0,
          0,
          0,
          0,
          0,
          0,
          0,
          0,
          0,
          0,
          0,
          0,
          0,
          0,
          0,
          0,
          0,
          0,
          0,
          0,
          0,
          0,
          0,
          0,
          0,
          0,
          0,
          0,
          0
         ],
         "yaxis": "y2"
        },
        {
         "mode": "lines",
         "name": "Avg. Quality #in",
         "type": "scatter",
         "x": [
          0,
          1,
          2,
          3,
          4,
          5,
          6,
          7,
          8,
          9,
          10,
          11,
          12,
          13,
          14,
          15,
          16,
          17,
          18,
          19,
          20,
          21,
          22,
          23,
          24,
          25,
          26,
          27,
          28,
          29,
          30,
          31,
          32,
          33,
          34,
          35,
          36,
          37,
          38,
          39,
          40,
          41,
          42,
          43,
          44,
          45,
          46,
          47,
          48,
          49,
          50,
          51,
          52,
          53,
          54,
          55,
          56,
          57,
          58,
          59,
          60,
          61,
          62,
          63,
          64,
          65,
          66,
          67,
          68,
          69,
          70,
          71,
          72,
          73,
          74
         ],
         "xaxis": "x4",
         "y": [
          0.943,
          0.943,
          0.943,
          0.943,
          0.943,
          0.943,
          0.93,
          0.93,
          0.93,
          0.888,
          0.888,
          0.888,
          0.858,
          0.858,
          0.858,
          0.765,
          0.765,
          0.765,
          0.753,
          0.73,
          0.73,
          0.73,
          0.71,
          0.701,
          0.706,
          0.691,
          0.691,
          0.689,
          0.696,
          0.694,
          0.7,
          0.684,
          0.658,
          0.663,
          0.655,
          0.637,
          0.643,
          0.634,
          0.639,
          0.631,
          0.628,
          0.63,
          0.62,
          0.609,
          0.606,
          0.602,
          0.603,
          0.599,
          0.591,
          0.588,
          0.588,
          0.588,
          0.588,
          0.588,
          0.588,
          0.588,
          0.588,
          0.588,
          0.588,
          0.588,
          0.588,
          0.588,
          0.588,
          0.588,
          0.588,
          0.588,
          0.588,
          0.588,
          0.588,
          0.588,
          0.588,
          0.588,
          0.588,
          0.588,
          0.588
         ],
         "yaxis": "y4"
        },
        {
         "mode": "lines",
         "name": "Avg. Quality #total",
         "type": "scatter",
         "x": [
          0,
          1,
          2,
          3,
          4,
          5,
          6,
          7,
          8,
          9,
          10,
          11,
          12,
          13,
          14,
          15,
          16,
          17,
          18,
          19,
          20,
          21,
          22,
          23,
          24,
          25,
          26,
          27,
          28,
          29,
          30,
          31,
          32,
          33,
          34,
          35,
          36,
          37,
          38,
          39,
          40,
          41,
          42,
          43,
          44,
          45,
          46,
          47,
          48,
          49,
          50,
          51,
          52,
          53,
          54,
          55,
          56,
          57,
          58,
          59,
          60,
          61,
          62,
          63,
          64,
          65,
          66,
          67,
          68,
          69,
          70,
          71,
          72,
          73,
          74
         ],
         "xaxis": "x4",
         "y": [
          0.943,
          0.943,
          0.943,
          0.943,
          0.943,
          0.943,
          0.93,
          0.93,
          0.93,
          0.888,
          0.888,
          0.888,
          0.858,
          0.858,
          0.858,
          0.765,
          0.765,
          0.765,
          0.753,
          0.745,
          0.745,
          0.745,
          0.723,
          0.712,
          0.716,
          0.71,
          0.709,
          0.706,
          0.712,
          0.71,
          0.715,
          0.704,
          0.686,
          0.69,
          0.685,
          0.676,
          0.679,
          0.672,
          0.679,
          0.673,
          0.673,
          0.672,
          0.665,
          0.66,
          0.657,
          0.656,
          0.654,
          0.653,
          0.649,
          0.645,
          0.645,
          0.645,
          0.645,
          0.645,
          0.645,
          0.645,
          0.645,
          0.645,
          0.645,
          0.645,
          0.645,
          0.645,
          0.645,
          0.645,
          0.645,
          0.645,
          0.645,
          0.645,
          0.645,
          0.645,
          0.645,
          0.645,
          0.645,
          0.645,
          0.645
         ],
         "yaxis": "y4"
        }
       ],
       "layout": {
        "annotations": [
         {
          "font": {
           "size": 16
          },
          "showarrow": false,
          "text": "Types of Robots vs Time",
          "x": 0.225,
          "xanchor": "center",
          "xref": "paper",
          "y": 1,
          "yanchor": "bottom",
          "yref": "paper"
         },
         {
          "font": {
           "size": 16
          },
          "showarrow": false,
          "text": "Resources vs Time",
          "x": 0.775,
          "xanchor": "center",
          "xref": "paper",
          "y": 1,
          "yanchor": "bottom",
          "yref": "paper"
         },
         {
          "font": {
           "size": 16
          },
          "showarrow": false,
          "text": "Tasks of Robots vs Time",
          "x": 0.225,
          "xanchor": "center",
          "xref": "paper",
          "y": 0.375,
          "yanchor": "bottom",
          "yref": "paper"
         },
         {
          "font": {
           "size": 16
          },
          "showarrow": false,
          "text": "Build Quality vs Time",
          "x": 0.775,
          "xanchor": "center",
          "xref": "paper",
          "y": 0.375,
          "yanchor": "bottom",
          "yref": "paper"
         }
        ],
        "hovermode": "x",
        "template": {
         "data": {
          "bar": [
           {
            "error_x": {
             "color": "#2a3f5f"
            },
            "error_y": {
             "color": "#2a3f5f"
            },
            "marker": {
             "line": {
              "color": "#E5ECF6",
              "width": 0.5
             },
             "pattern": {
              "fillmode": "overlay",
              "size": 10,
              "solidity": 0.2
             }
            },
            "type": "bar"
           }
          ],
          "barpolar": [
           {
            "marker": {
             "line": {
              "color": "#E5ECF6",
              "width": 0.5
             },
             "pattern": {
              "fillmode": "overlay",
              "size": 10,
              "solidity": 0.2
             }
            },
            "type": "barpolar"
           }
          ],
          "carpet": [
           {
            "aaxis": {
             "endlinecolor": "#2a3f5f",
             "gridcolor": "white",
             "linecolor": "white",
             "minorgridcolor": "white",
             "startlinecolor": "#2a3f5f"
            },
            "baxis": {
             "endlinecolor": "#2a3f5f",
             "gridcolor": "white",
             "linecolor": "white",
             "minorgridcolor": "white",
             "startlinecolor": "#2a3f5f"
            },
            "type": "carpet"
           }
          ],
          "choropleth": [
           {
            "colorbar": {
             "outlinewidth": 0,
             "ticks": ""
            },
            "type": "choropleth"
           }
          ],
          "contour": [
           {
            "colorbar": {
             "outlinewidth": 0,
             "ticks": ""
            },
            "colorscale": [
             [
              0,
              "#0d0887"
             ],
             [
              0.1111111111111111,
              "#46039f"
             ],
             [
              0.2222222222222222,
              "#7201a8"
             ],
             [
              0.3333333333333333,
              "#9c179e"
             ],
             [
              0.4444444444444444,
              "#bd3786"
             ],
             [
              0.5555555555555556,
              "#d8576b"
             ],
             [
              0.6666666666666666,
              "#ed7953"
             ],
             [
              0.7777777777777778,
              "#fb9f3a"
             ],
             [
              0.8888888888888888,
              "#fdca26"
             ],
             [
              1,
              "#f0f921"
             ]
            ],
            "type": "contour"
           }
          ],
          "contourcarpet": [
           {
            "colorbar": {
             "outlinewidth": 0,
             "ticks": ""
            },
            "type": "contourcarpet"
           }
          ],
          "heatmap": [
           {
            "colorbar": {
             "outlinewidth": 0,
             "ticks": ""
            },
            "colorscale": [
             [
              0,
              "#0d0887"
             ],
             [
              0.1111111111111111,
              "#46039f"
             ],
             [
              0.2222222222222222,
              "#7201a8"
             ],
             [
              0.3333333333333333,
              "#9c179e"
             ],
             [
              0.4444444444444444,
              "#bd3786"
             ],
             [
              0.5555555555555556,
              "#d8576b"
             ],
             [
              0.6666666666666666,
              "#ed7953"
             ],
             [
              0.7777777777777778,
              "#fb9f3a"
             ],
             [
              0.8888888888888888,
              "#fdca26"
             ],
             [
              1,
              "#f0f921"
             ]
            ],
            "type": "heatmap"
           }
          ],
          "heatmapgl": [
           {
            "colorbar": {
             "outlinewidth": 0,
             "ticks": ""
            },
            "colorscale": [
             [
              0,
              "#0d0887"
             ],
             [
              0.1111111111111111,
              "#46039f"
             ],
             [
              0.2222222222222222,
              "#7201a8"
             ],
             [
              0.3333333333333333,
              "#9c179e"
             ],
             [
              0.4444444444444444,
              "#bd3786"
             ],
             [
              0.5555555555555556,
              "#d8576b"
             ],
             [
              0.6666666666666666,
              "#ed7953"
             ],
             [
              0.7777777777777778,
              "#fb9f3a"
             ],
             [
              0.8888888888888888,
              "#fdca26"
             ],
             [
              1,
              "#f0f921"
             ]
            ],
            "type": "heatmapgl"
           }
          ],
          "histogram": [
           {
            "marker": {
             "pattern": {
              "fillmode": "overlay",
              "size": 10,
              "solidity": 0.2
             }
            },
            "type": "histogram"
           }
          ],
          "histogram2d": [
           {
            "colorbar": {
             "outlinewidth": 0,
             "ticks": ""
            },
            "colorscale": [
             [
              0,
              "#0d0887"
             ],
             [
              0.1111111111111111,
              "#46039f"
             ],
             [
              0.2222222222222222,
              "#7201a8"
             ],
             [
              0.3333333333333333,
              "#9c179e"
             ],
             [
              0.4444444444444444,
              "#bd3786"
             ],
             [
              0.5555555555555556,
              "#d8576b"
             ],
             [
              0.6666666666666666,
              "#ed7953"
             ],
             [
              0.7777777777777778,
              "#fb9f3a"
             ],
             [
              0.8888888888888888,
              "#fdca26"
             ],
             [
              1,
              "#f0f921"
             ]
            ],
            "type": "histogram2d"
           }
          ],
          "histogram2dcontour": [
           {
            "colorbar": {
             "outlinewidth": 0,
             "ticks": ""
            },
            "colorscale": [
             [
              0,
              "#0d0887"
             ],
             [
              0.1111111111111111,
              "#46039f"
             ],
             [
              0.2222222222222222,
              "#7201a8"
             ],
             [
              0.3333333333333333,
              "#9c179e"
             ],
             [
              0.4444444444444444,
              "#bd3786"
             ],
             [
              0.5555555555555556,
              "#d8576b"
             ],
             [
              0.6666666666666666,
              "#ed7953"
             ],
             [
              0.7777777777777778,
              "#fb9f3a"
             ],
             [
              0.8888888888888888,
              "#fdca26"
             ],
             [
              1,
              "#f0f921"
             ]
            ],
            "type": "histogram2dcontour"
           }
          ],
          "mesh3d": [
           {
            "colorbar": {
             "outlinewidth": 0,
             "ticks": ""
            },
            "type": "mesh3d"
           }
          ],
          "parcoords": [
           {
            "line": {
             "colorbar": {
              "outlinewidth": 0,
              "ticks": ""
             }
            },
            "type": "parcoords"
           }
          ],
          "pie": [
           {
            "automargin": true,
            "type": "pie"
           }
          ],
          "scatter": [
           {
            "fillpattern": {
             "fillmode": "overlay",
             "size": 10,
             "solidity": 0.2
            },
            "type": "scatter"
           }
          ],
          "scatter3d": [
           {
            "line": {
             "colorbar": {
              "outlinewidth": 0,
              "ticks": ""
             }
            },
            "marker": {
             "colorbar": {
              "outlinewidth": 0,
              "ticks": ""
             }
            },
            "type": "scatter3d"
           }
          ],
          "scattercarpet": [
           {
            "marker": {
             "colorbar": {
              "outlinewidth": 0,
              "ticks": ""
             }
            },
            "type": "scattercarpet"
           }
          ],
          "scattergeo": [
           {
            "marker": {
             "colorbar": {
              "outlinewidth": 0,
              "ticks": ""
             }
            },
            "type": "scattergeo"
           }
          ],
          "scattergl": [
           {
            "marker": {
             "colorbar": {
              "outlinewidth": 0,
              "ticks": ""
             }
            },
            "type": "scattergl"
           }
          ],
          "scattermapbox": [
           {
            "marker": {
             "colorbar": {
              "outlinewidth": 0,
              "ticks": ""
             }
            },
            "type": "scattermapbox"
           }
          ],
          "scatterpolar": [
           {
            "marker": {
             "colorbar": {
              "outlinewidth": 0,
              "ticks": ""
             }
            },
            "type": "scatterpolar"
           }
          ],
          "scatterpolargl": [
           {
            "marker": {
             "colorbar": {
              "outlinewidth": 0,
              "ticks": ""
             }
            },
            "type": "scatterpolargl"
           }
          ],
          "scatterternary": [
           {
            "marker": {
             "colorbar": {
              "outlinewidth": 0,
              "ticks": ""
             }
            },
            "type": "scatterternary"
           }
          ],
          "surface": [
           {
            "colorbar": {
             "outlinewidth": 0,
             "ticks": ""
            },
            "colorscale": [
             [
              0,
              "#0d0887"
             ],
             [
              0.1111111111111111,
              "#46039f"
             ],
             [
              0.2222222222222222,
              "#7201a8"
             ],
             [
              0.3333333333333333,
              "#9c179e"
             ],
             [
              0.4444444444444444,
              "#bd3786"
             ],
             [
              0.5555555555555556,
              "#d8576b"
             ],
             [
              0.6666666666666666,
              "#ed7953"
             ],
             [
              0.7777777777777778,
              "#fb9f3a"
             ],
             [
              0.8888888888888888,
              "#fdca26"
             ],
             [
              1,
              "#f0f921"
             ]
            ],
            "type": "surface"
           }
          ],
          "table": [
           {
            "cells": {
             "fill": {
              "color": "#EBF0F8"
             },
             "line": {
              "color": "white"
             }
            },
            "header": {
             "fill": {
              "color": "#C8D4E3"
             },
             "line": {
              "color": "white"
             }
            },
            "type": "table"
           }
          ]
         },
         "layout": {
          "annotationdefaults": {
           "arrowcolor": "#2a3f5f",
           "arrowhead": 0,
           "arrowwidth": 1
          },
          "autotypenumbers": "strict",
          "coloraxis": {
           "colorbar": {
            "outlinewidth": 0,
            "ticks": ""
           }
          },
          "colorscale": {
           "diverging": [
            [
             0,
             "#8e0152"
            ],
            [
             0.1,
             "#c51b7d"
            ],
            [
             0.2,
             "#de77ae"
            ],
            [
             0.3,
             "#f1b6da"
            ],
            [
             0.4,
             "#fde0ef"
            ],
            [
             0.5,
             "#f7f7f7"
            ],
            [
             0.6,
             "#e6f5d0"
            ],
            [
             0.7,
             "#b8e186"
            ],
            [
             0.8,
             "#7fbc41"
            ],
            [
             0.9,
             "#4d9221"
            ],
            [
             1,
             "#276419"
            ]
           ],
           "sequential": [
            [
             0,
             "#0d0887"
            ],
            [
             0.1111111111111111,
             "#46039f"
            ],
            [
             0.2222222222222222,
             "#7201a8"
            ],
            [
             0.3333333333333333,
             "#9c179e"
            ],
            [
             0.4444444444444444,
             "#bd3786"
            ],
            [
             0.5555555555555556,
             "#d8576b"
            ],
            [
             0.6666666666666666,
             "#ed7953"
            ],
            [
             0.7777777777777778,
             "#fb9f3a"
            ],
            [
             0.8888888888888888,
             "#fdca26"
            ],
            [
             1,
             "#f0f921"
            ]
           ],
           "sequentialminus": [
            [
             0,
             "#0d0887"
            ],
            [
             0.1111111111111111,
             "#46039f"
            ],
            [
             0.2222222222222222,
             "#7201a8"
            ],
            [
             0.3333333333333333,
             "#9c179e"
            ],
            [
             0.4444444444444444,
             "#bd3786"
            ],
            [
             0.5555555555555556,
             "#d8576b"
            ],
            [
             0.6666666666666666,
             "#ed7953"
            ],
            [
             0.7777777777777778,
             "#fb9f3a"
            ],
            [
             0.8888888888888888,
             "#fdca26"
            ],
            [
             1,
             "#f0f921"
            ]
           ]
          },
          "colorway": [
           "#636efa",
           "#EF553B",
           "#00cc96",
           "#ab63fa",
           "#FFA15A",
           "#19d3f3",
           "#FF6692",
           "#B6E880",
           "#FF97FF",
           "#FECB52"
          ],
          "font": {
           "color": "#2a3f5f"
          },
          "geo": {
           "bgcolor": "white",
           "lakecolor": "white",
           "landcolor": "#E5ECF6",
           "showlakes": true,
           "showland": true,
           "subunitcolor": "white"
          },
          "hoverlabel": {
           "align": "left"
          },
          "hovermode": "closest",
          "mapbox": {
           "style": "light"
          },
          "paper_bgcolor": "white",
          "plot_bgcolor": "#E5ECF6",
          "polar": {
           "angularaxis": {
            "gridcolor": "white",
            "linecolor": "white",
            "ticks": ""
           },
           "bgcolor": "#E5ECF6",
           "radialaxis": {
            "gridcolor": "white",
            "linecolor": "white",
            "ticks": ""
           }
          },
          "scene": {
           "xaxis": {
            "backgroundcolor": "#E5ECF6",
            "gridcolor": "white",
            "gridwidth": 2,
            "linecolor": "white",
            "showbackground": true,
            "ticks": "",
            "zerolinecolor": "white"
           },
           "yaxis": {
            "backgroundcolor": "#E5ECF6",
            "gridcolor": "white",
            "gridwidth": 2,
            "linecolor": "white",
            "showbackground": true,
            "ticks": "",
            "zerolinecolor": "white"
           },
           "zaxis": {
            "backgroundcolor": "#E5ECF6",
            "gridcolor": "white",
            "gridwidth": 2,
            "linecolor": "white",
            "showbackground": true,
            "ticks": "",
            "zerolinecolor": "white"
           }
          },
          "shapedefaults": {
           "line": {
            "color": "#2a3f5f"
           }
          },
          "ternary": {
           "aaxis": {
            "gridcolor": "white",
            "linecolor": "white",
            "ticks": ""
           },
           "baxis": {
            "gridcolor": "white",
            "linecolor": "white",
            "ticks": ""
           },
           "bgcolor": "#E5ECF6",
           "caxis": {
            "gridcolor": "white",
            "linecolor": "white",
            "ticks": ""
           }
          },
          "title": {
           "x": 0.05
          },
          "xaxis": {
           "automargin": true,
           "gridcolor": "white",
           "linecolor": "white",
           "ticks": "",
           "title": {
            "standoff": 15
           },
           "zerolinecolor": "white",
           "zerolinewidth": 2
          },
          "yaxis": {
           "automargin": true,
           "gridcolor": "white",
           "linecolor": "white",
           "ticks": "",
           "title": {
            "standoff": 15
           },
           "zerolinecolor": "white",
           "zerolinewidth": 2
          }
         }
        },
        "title": {
         "text": "DHO - Characteristics"
        },
        "xaxis": {
         "anchor": "y",
         "domain": [
          0,
          0.45
         ]
        },
        "xaxis2": {
         "anchor": "y2",
         "domain": [
          0.55,
          1
         ]
        },
        "xaxis3": {
         "anchor": "y3",
         "domain": [
          0,
          0.45
         ]
        },
        "xaxis4": {
         "anchor": "y4",
         "domain": [
          0.55,
          1
         ]
        },
        "yaxis": {
         "anchor": "x",
         "domain": [
          0.625,
          1
         ]
        },
        "yaxis2": {
         "anchor": "x2",
         "domain": [
          0.625,
          1
         ]
        },
        "yaxis3": {
         "anchor": "x3",
         "domain": [
          0,
          0.375
         ]
        },
        "yaxis4": {
         "anchor": "x4",
         "domain": [
          0,
          0.375
         ]
        }
       }
      },
      "text/html": [
       "<div>                            <div id=\"f78da9a6-0991-41ca-8a91-b4af41361a5a\" class=\"plotly-graph-div\" style=\"height:525px; width:100%;\"></div>            <script type=\"text/javascript\">                require([\"plotly\"], function(Plotly) {                    window.PLOTLYENV=window.PLOTLYENV || {};                                    if (document.getElementById(\"f78da9a6-0991-41ca-8a91-b4af41361a5a\")) {                    Plotly.newPlot(                        \"f78da9a6-0991-41ca-8a91-b4af41361a5a\",                        [{\"name\":\"#Replicator\",\"x\":[0.0,1.0,2.0,3.0,4.0,5.0,6.0,7.0,8.0,9.0,10.0,11.0,12.0,13.0,14.0,15.0,16.0,17.0,18.0,19.0,20.0,21.0,22.0,23.0,24.0,25.0,26.0,27.0,28.0,29.0,30.0,31.0,32.0,33.0,34.0,35.0,36.0,37.0,38.0,39.0,40.0,41.0,42.0,43.0,44.0,45.0,46.0,47.0,48.0,49.0,50.0,51.0,52.0,53.0,54.0,55.0,56.0,57.0,58.0,59.0,60.0,61.0,62.0,63.0,64.0,65.0,66.0,67.0,68.0,69.0,70.0,71.0,72.0,73.0,74.0],\"y\":[1.0,1.0,1.0,1.0,1.0,1.0,3.0,3.0,3.0,5.0,5.0,5.0,11.0,11.0,11.0,21.0,21.0,21.0,33.0,34.0,34.0,34.0,40.0,44.0,46.0,47.0,51.0,53.0,57.0,59.0,63.0,66.0,72.0,76.0,81.0,85.0,91.0,96.0,101.0,104.0,109.0,117.0,123.0,129.0,138.0,142.0,150.0,151.0,153.0,154.0,154.0,154.0,154.0,154.0,154.0,154.0,154.0,154.0,154.0,154.0,154.0,154.0,154.0,154.0,154.0,154.0,154.0,154.0,154.0,154.0,154.0,154.0,154.0,154.0,154.0],\"type\":\"bar\",\"xaxis\":\"x\",\"yaxis\":\"y\"},{\"name\":\"#Normal\",\"x\":[0.0,1.0,2.0,3.0,4.0,5.0,6.0,7.0,8.0,9.0,10.0,11.0,12.0,13.0,14.0,15.0,16.0,17.0,18.0,19.0,20.0,21.0,22.0,23.0,24.0,25.0,26.0,27.0,28.0,29.0,30.0,31.0,32.0,33.0,34.0,35.0,36.0,37.0,38.0,39.0,40.0,41.0,42.0,43.0,44.0,45.0,46.0,47.0,48.0,49.0,50.0,51.0,52.0,53.0,54.0,55.0,56.0,57.0,58.0,59.0,60.0,61.0,62.0,63.0,64.0,65.0,66.0,67.0,68.0,69.0,70.0,71.0,72.0,73.0,74.0],\"y\":[0.0,0.0,0.0,0.0,0.0,0.0,0.0,0.0,0.0,0.0,0.0,0.0,0.0,0.0,0.0,0.0,0.0,0.0,0.0,0.0,0.0,0.0,0.0,0.0,0.0,0.0,0.0,0.0,0.0,0.0,0.0,0.0,0.0,0.0,0.0,0.0,0.0,0.0,0.0,0.0,0.0,0.0,0.0,0.0,0.0,0.0,0.0,0.0,0.0,0.0,0.0,0.0,0.0,0.0,0.0,0.0,0.0,0.0,0.0,0.0,0.0,0.0,0.0,0.0,0.0,0.0,0.0,0.0,0.0,0.0,0.0,0.0,0.0,0.0,0.0],\"type\":\"bar\",\"xaxis\":\"x\",\"yaxis\":\"y\"},{\"name\":\"#Assembler\",\"x\":[0.0,1.0,2.0,3.0,4.0,5.0,6.0,7.0,8.0,9.0,10.0,11.0,12.0,13.0,14.0,15.0,16.0,17.0,18.0,19.0,20.0,21.0,22.0,23.0,24.0,25.0,26.0,27.0,28.0,29.0,30.0,31.0,32.0,33.0,34.0,35.0,36.0,37.0,38.0,39.0,40.0,41.0,42.0,43.0,44.0,45.0,46.0,47.0,48.0,49.0,50.0,51.0,52.0,53.0,54.0,55.0,56.0,57.0,58.0,59.0,60.0,61.0,62.0,63.0,64.0,65.0,66.0,67.0,68.0,69.0,70.0,71.0,72.0,73.0,74.0],\"y\":[0.0,0.0,0.0,0.0,0.0,0.0,0.0,0.0,0.0,0.0,0.0,0.0,0.0,0.0,0.0,0.0,0.0,0.0,0.0,0.0,0.0,0.0,0.0,0.0,0.0,0.0,0.0,0.0,0.0,0.0,0.0,0.0,0.0,0.0,0.0,0.0,0.0,0.0,0.0,0.0,0.0,0.0,0.0,0.0,0.0,0.0,0.0,0.0,0.0,0.0,0.0,0.0,0.0,0.0,0.0,0.0,0.0,0.0,0.0,0.0,0.0,0.0,0.0,0.0,0.0,0.0,0.0,0.0,0.0,0.0,0.0,0.0,0.0,0.0,0.0],\"type\":\"bar\",\"xaxis\":\"x\",\"yaxis\":\"y\"},{\"name\":\"#Printer\",\"x\":[0.0,1.0,2.0,3.0,4.0,5.0,6.0,7.0,8.0,9.0,10.0,11.0,12.0,13.0,14.0,15.0,16.0,17.0,18.0,19.0,20.0,21.0,22.0,23.0,24.0,25.0,26.0,27.0,28.0,29.0,30.0,31.0,32.0,33.0,34.0,35.0,36.0,37.0,38.0,39.0,40.0,41.0,42.0,43.0,44.0,45.0,46.0,47.0,48.0,49.0,50.0,51.0,52.0,53.0,54.0,55.0,56.0,57.0,58.0,59.0,60.0,61.0,62.0,63.0,64.0,65.0,66.0,67.0,68.0,69.0,70.0,71.0,72.0,73.0,74.0],\"y\":[0.0,0.0,0.0,0.0,0.0,0.0,0.0,0.0,0.0,0.0,0.0,0.0,0.0,0.0,0.0,0.0,0.0,0.0,0.0,0.0,0.0,0.0,0.0,0.0,0.0,0.0,0.0,0.0,0.0,0.0,0.0,0.0,0.0,0.0,0.0,0.0,0.0,0.0,0.0,0.0,0.0,0.0,0.0,0.0,0.0,0.0,0.0,0.0,0.0,0.0,0.0,0.0,0.0,0.0,0.0,0.0,0.0,0.0,0.0,0.0,0.0,0.0,0.0,0.0,0.0,0.0,0.0,0.0,0.0,0.0,0.0,0.0,0.0,0.0,0.0],\"type\":\"bar\",\"xaxis\":\"x\",\"yaxis\":\"y\"},{\"name\":\"#Assembling\",\"x\":[0.0,1.0,2.0,3.0,4.0,5.0,6.0,7.0,8.0,9.0,10.0,11.0,12.0,13.0,14.0,15.0,16.0,17.0,18.0,19.0,20.0,21.0,22.0,23.0,24.0,25.0,26.0,27.0,28.0,29.0,30.0,31.0,32.0,33.0,34.0,35.0,36.0,37.0,38.0,39.0,40.0,41.0,42.0,43.0,44.0,45.0,46.0,47.0,48.0,49.0,50.0,51.0,52.0,53.0,54.0,55.0,56.0,57.0,58.0,59.0,60.0,61.0,62.0,63.0,64.0,65.0,66.0,67.0,68.0,69.0,70.0,71.0,72.0,73.0,74.0],\"y\":[1.0,1.0,1.0,1.0,1.0,1.0,3.0,3.0,3.0,5.0,5.0,5.0,11.0,11.0,11.0,11.0,13.0,13.0,2.0,6.0,10.0,12.0,8.0,8.0,9.0,11.0,10.0,10.0,10.0,14.0,15.0,17.0,16.0,18.0,18.0,18.0,17.0,17.0,19.0,22.0,24.0,26.0,25.0,26.0,18.0,13.0,5.0,3.0,1.0,0.0,0.0,0.0,0.0,0.0,0.0,0.0,0.0,0.0,0.0,0.0,0.0,0.0,0.0,0.0,0.0,0.0,0.0,0.0,0.0,0.0,0.0,0.0,0.0,0.0,0.0],\"type\":\"bar\",\"xaxis\":\"x3\",\"yaxis\":\"y3\"},{\"name\":\"#Printing\",\"x\":[0.0,1.0,2.0,3.0,4.0,5.0,6.0,7.0,8.0,9.0,10.0,11.0,12.0,13.0,14.0,15.0,16.0,17.0,18.0,19.0,20.0,21.0,22.0,23.0,24.0,25.0,26.0,27.0,28.0,29.0,30.0,31.0,32.0,33.0,34.0,35.0,36.0,37.0,38.0,39.0,40.0,41.0,42.0,43.0,44.0,45.0,46.0,47.0,48.0,49.0,50.0,51.0,52.0,53.0,54.0,55.0,56.0,57.0,58.0,59.0,60.0,61.0,62.0,63.0,64.0,65.0,66.0,67.0,68.0,69.0,70.0,71.0,72.0,73.0,74.0],\"y\":[0.0,0.0,0.0,0.0,0.0,0.0,0.0,0.0,0.0,0.0,0.0,0.0,0.0,0.0,0.0,6.0,8.0,8.0,19.0,27.0,23.0,13.0,18.0,28.0,22.0,23.0,27.0,28.0,27.0,37.0,27.0,29.0,37.0,38.0,38.0,42.0,47.0,51.0,53.0,50.0,55.0,60.0,67.0,62.0,73.0,31.0,2.0,0.0,0.0,0.0,0.0,0.0,0.0,0.0,0.0,0.0,0.0,0.0,0.0,0.0,0.0,0.0,0.0,0.0,0.0,0.0,0.0,0.0,0.0,0.0,0.0,0.0,0.0,0.0,0.0],\"type\":\"bar\",\"xaxis\":\"x3\",\"yaxis\":\"y3\"},{\"name\":\"#Collecting\",\"x\":[0.0,1.0,2.0,3.0,4.0,5.0,6.0,7.0,8.0,9.0,10.0,11.0,12.0,13.0,14.0,15.0,16.0,17.0,18.0,19.0,20.0,21.0,22.0,23.0,24.0,25.0,26.0,27.0,28.0,29.0,30.0,31.0,32.0,33.0,34.0,35.0,36.0,37.0,38.0,39.0,40.0,41.0,42.0,43.0,44.0,45.0,46.0,47.0,48.0,49.0,50.0,51.0,52.0,53.0,54.0,55.0,56.0,57.0,58.0,59.0,60.0,61.0,62.0,63.0,64.0,65.0,66.0,67.0,68.0,69.0,70.0,71.0,72.0,73.0,74.0],\"y\":[0.0,0.0,0.0,0.0,0.0,0.0,0.0,0.0,0.0,0.0,0.0,0.0,0.0,0.0,0.0,0.0,0.0,0.0,0.0,0.0,1.0,9.0,10.0,4.0,15.0,12.0,10.0,13.0,16.0,6.0,17.0,17.0,13.0,16.0,20.0,21.0,23.0,23.0,24.0,29.0,25.0,23.0,25.0,35.0,38.0,16.0,0.0,0.0,0.0,0.0,0.0,0.0,0.0,0.0,0.0,0.0,0.0,0.0,0.0,0.0,0.0,0.0,0.0,0.0,0.0,0.0,0.0,0.0,0.0,0.0,0.0,0.0,0.0,0.0,0.0],\"type\":\"bar\",\"xaxis\":\"x3\",\"yaxis\":\"y3\"},{\"name\":\"#Idle\",\"x\":[0.0,1.0,2.0,3.0,4.0,5.0,6.0,7.0,8.0,9.0,10.0,11.0,12.0,13.0,14.0,15.0,16.0,17.0,18.0,19.0,20.0,21.0,22.0,23.0,24.0,25.0,26.0,27.0,28.0,29.0,30.0,31.0,32.0,33.0,34.0,35.0,36.0,37.0,38.0,39.0,40.0,41.0,42.0,43.0,44.0,45.0,46.0,47.0,48.0,49.0,50.0,51.0,52.0,53.0,54.0,55.0,56.0,57.0,58.0,59.0,60.0,61.0,62.0,63.0,64.0,65.0,66.0,67.0,68.0,69.0,70.0,71.0,72.0,73.0,74.0],\"y\":[0.0,0.0,0.0,0.0,0.0,0.0,0.0,0.0,0.0,0.0,0.0,0.0,0.0,0.0,0.0,4.0,0.0,0.0,12.0,1.0,0.0,0.0,4.0,4.0,0.0,1.0,4.0,2.0,4.0,2.0,4.0,3.0,6.0,4.0,5.0,4.0,4.0,5.0,5.0,3.0,5.0,8.0,6.0,6.0,9.0,82.0,143.0,148.0,152.0,154.0,154.0,154.0,154.0,154.0,154.0,154.0,154.0,154.0,154.0,154.0,154.0,154.0,154.0,154.0,154.0,154.0,154.0,154.0,154.0,154.0,154.0,154.0,154.0,154.0,154.0],\"type\":\"bar\",\"xaxis\":\"x3\",\"yaxis\":\"y3\"},{\"mode\":\"lines\",\"name\":\"NonPr\",\"x\":[0.0,1.0,2.0,3.0,4.0,5.0,6.0,7.0,8.0,9.0,10.0,11.0,12.0,13.0,14.0,15.0,16.0,17.0,18.0,19.0,20.0,21.0,22.0,23.0,24.0,25.0,26.0,27.0,28.0,29.0,30.0,31.0,32.0,33.0,34.0,35.0,36.0,37.0,38.0,39.0,40.0,41.0,42.0,43.0,44.0,45.0,46.0,47.0,48.0,49.0,50.0,51.0,52.0,53.0,54.0,55.0,56.0,57.0,58.0,59.0,60.0,61.0,62.0,63.0,64.0,65.0,66.0,67.0,68.0,69.0,70.0,71.0,72.0,73.0,74.0],\"y\":[297.0,297.0,297.0,297.0,297.0,297.0,291.0,291.0,291.0,285.0,285.0,285.0,267.0,267.0,267.0,249.0,246.0,246.0,240.0,231.0,225.0,222.0,219.0,213.0,207.0,201.0,192.0,186.0,180.0,171.0,165.0,156.0,147.0,138.0,126.0,117.0,105.0,93.0,78.0,66.0,51.0,36.0,21.0,3.0,0.0,0.0,0.0,0.0,0.0,0.0,0.0,0.0,0.0,0.0,0.0,0.0,0.0,0.0,0.0,0.0,0.0,0.0,0.0,0.0,0.0,0.0,0.0,0.0,0.0,0.0,0.0,0.0,0.0,0.0,0.0],\"type\":\"scatter\",\"xaxis\":\"x2\",\"yaxis\":\"y2\"},{\"mode\":\"lines\",\"name\":\"Printable\",\"x\":[0.0,1.0,2.0,3.0,4.0,5.0,6.0,7.0,8.0,9.0,10.0,11.0,12.0,13.0,14.0,15.0,16.0,17.0,18.0,19.0,20.0,21.0,22.0,23.0,24.0,25.0,26.0,27.0,28.0,29.0,30.0,31.0,32.0,33.0,34.0,35.0,36.0,37.0,38.0,39.0,40.0,41.0,42.0,43.0,44.0,45.0,46.0,47.0,48.0,49.0,50.0,51.0,52.0,53.0,54.0,55.0,56.0,57.0,58.0,59.0,60.0,61.0,62.0,63.0,64.0,65.0,66.0,67.0,68.0,69.0,70.0,71.0,72.0,73.0,74.0],\"y\":[94.0,94.0,94.0,94.0,94.0,94.0,82.0,82.0,82.0,70.0,70.0,70.0,34.0,34.0,34.0,2.0,0.0,4.0,6.0,1.0,1.0,1.0,5.0,6.0,5.0,5.0,0.0,2.0,4.0,4.0,6.0,2.0,4.0,6.0,0.0,4.0,4.0,6.0,2.0,3.0,2.0,2.0,5.0,0.0,35.0,49.0,49.0,49.0,49.0,49.0,49.0,49.0,49.0,49.0,49.0,49.0,49.0,49.0,49.0,49.0,49.0,49.0,49.0,49.0,49.0,49.0,49.0,49.0,49.0,49.0,49.0,49.0,49.0,49.0,49.0],\"type\":\"scatter\",\"xaxis\":\"x2\",\"yaxis\":\"y2\"},{\"mode\":\"lines\",\"name\":\"Materials\",\"x\":[0.0,1.0,2.0,3.0,4.0,5.0,6.0,7.0,8.0,9.0,10.0,11.0,12.0,13.0,14.0,15.0,16.0,17.0,18.0,19.0,20.0,21.0,22.0,23.0,24.0,25.0,26.0,27.0,28.0,29.0,30.0,31.0,32.0,33.0,34.0,35.0,36.0,37.0,38.0,39.0,40.0,41.0,42.0,43.0,44.0,45.0,46.0,47.0,48.0,49.0,50.0,51.0,52.0,53.0,54.0,55.0,56.0,57.0,58.0,59.0,60.0,61.0,62.0,63.0,64.0,65.0,66.0,67.0,68.0,69.0,70.0,71.0,72.0,73.0,74.0],\"y\":[50.0,50.0,50.0,50.0,50.0,50.0,50.0,50.0,50.0,50.0,50.0,50.0,50.0,50.0,50.0,46.0,42.0,38.0,24.0,11.0,2.0,2.0,1.0,1.0,1.0,2.0,1.0,1.0,1.0,1.0,1.0,1.0,2.0,1.0,1.0,1.0,2.0,1.0,1.0,2.0,1.0,1.0,1.0,2.0,1.0,1.0,1.0,1.0,1.0,1.0,1.0,1.0,1.0,1.0,1.0,1.0,1.0,1.0,1.0,1.0,1.0,1.0,1.0,1.0,1.0,1.0,1.0,1.0,1.0,1.0,1.0,1.0,1.0,1.0,1.0],\"type\":\"scatter\",\"xaxis\":\"x2\",\"yaxis\":\"y2\"},{\"mode\":\"lines\",\"name\":\"Env_Materials\",\"x\":[0.0,1.0,2.0,3.0,4.0,5.0,6.0,7.0,8.0,9.0,10.0,11.0,12.0,13.0,14.0,15.0,16.0,17.0,18.0,19.0,20.0,21.0,22.0,23.0,24.0,25.0,26.0,27.0,28.0,29.0,30.0,31.0,32.0,33.0,34.0,35.0,36.0,37.0,38.0,39.0,40.0,41.0,42.0,43.0,44.0,45.0,46.0,47.0,48.0,49.0,50.0,51.0,52.0,53.0,54.0,55.0,56.0,57.0,58.0,59.0,60.0,61.0,62.0,63.0,64.0,65.0,66.0,67.0,68.0,69.0,70.0,71.0,72.0,73.0,74.0],\"y\":[500.0,500.0,500.0,500.0,500.0,500.0,500.0,500.0,500.0,500.0,500.0,500.0,500.0,500.0,500.0,500.0,500.0,500.0,500.0,500.0,497.0,491.0,482.0,469.0,458.0,445.0,433.0,419.0,405.0,387.0,373.0,359.0,338.0,319.0,301.0,279.0,254.0,229.0,203.0,177.0,149.0,119.0,86.0,54.0,14.0,0.0,0.0,0.0,0.0,0.0,0.0,0.0,0.0,0.0,0.0,0.0,0.0,0.0,0.0,0.0,0.0,0.0,0.0,0.0,0.0,0.0,0.0,0.0,0.0,0.0,0.0,0.0,0.0,0.0,0.0],\"type\":\"scatter\",\"xaxis\":\"x2\",\"yaxis\":\"y2\"},{\"mode\":\"lines\",\"name\":\"Avg. Quality #in\",\"x\":[0.0,1.0,2.0,3.0,4.0,5.0,6.0,7.0,8.0,9.0,10.0,11.0,12.0,13.0,14.0,15.0,16.0,17.0,18.0,19.0,20.0,21.0,22.0,23.0,24.0,25.0,26.0,27.0,28.0,29.0,30.0,31.0,32.0,33.0,34.0,35.0,36.0,37.0,38.0,39.0,40.0,41.0,42.0,43.0,44.0,45.0,46.0,47.0,48.0,49.0,50.0,51.0,52.0,53.0,54.0,55.0,56.0,57.0,58.0,59.0,60.0,61.0,62.0,63.0,64.0,65.0,66.0,67.0,68.0,69.0,70.0,71.0,72.0,73.0,74.0],\"y\":[0.943,0.943,0.943,0.943,0.943,0.943,0.93,0.93,0.93,0.888,0.888,0.888,0.858,0.858,0.858,0.765,0.765,0.765,0.753,0.73,0.73,0.73,0.71,0.701,0.706,0.691,0.691,0.689,0.696,0.694,0.7,0.684,0.658,0.663,0.655,0.637,0.643,0.634,0.639,0.631,0.628,0.63,0.62,0.609,0.606,0.602,0.603,0.599,0.591,0.588,0.588,0.588,0.588,0.588,0.588,0.588,0.588,0.588,0.588,0.588,0.588,0.588,0.588,0.588,0.588,0.588,0.588,0.588,0.588,0.588,0.588,0.588,0.588,0.588,0.588],\"type\":\"scatter\",\"xaxis\":\"x4\",\"yaxis\":\"y4\"},{\"mode\":\"lines\",\"name\":\"Avg. Quality #total\",\"x\":[0.0,1.0,2.0,3.0,4.0,5.0,6.0,7.0,8.0,9.0,10.0,11.0,12.0,13.0,14.0,15.0,16.0,17.0,18.0,19.0,20.0,21.0,22.0,23.0,24.0,25.0,26.0,27.0,28.0,29.0,30.0,31.0,32.0,33.0,34.0,35.0,36.0,37.0,38.0,39.0,40.0,41.0,42.0,43.0,44.0,45.0,46.0,47.0,48.0,49.0,50.0,51.0,52.0,53.0,54.0,55.0,56.0,57.0,58.0,59.0,60.0,61.0,62.0,63.0,64.0,65.0,66.0,67.0,68.0,69.0,70.0,71.0,72.0,73.0,74.0],\"y\":[0.943,0.943,0.943,0.943,0.943,0.943,0.93,0.93,0.93,0.888,0.888,0.888,0.858,0.858,0.858,0.765,0.765,0.765,0.753,0.745,0.745,0.745,0.723,0.712,0.716,0.71,0.709,0.706,0.712,0.71,0.715,0.704,0.686,0.69,0.685,0.676,0.679,0.672,0.679,0.673,0.673,0.672,0.665,0.66,0.657,0.656,0.654,0.653,0.649,0.645,0.645,0.645,0.645,0.645,0.645,0.645,0.645,0.645,0.645,0.645,0.645,0.645,0.645,0.645,0.645,0.645,0.645,0.645,0.645,0.645,0.645,0.645,0.645,0.645,0.645],\"type\":\"scatter\",\"xaxis\":\"x4\",\"yaxis\":\"y4\"}],                        {\"template\":{\"data\":{\"histogram2dcontour\":[{\"type\":\"histogram2dcontour\",\"colorbar\":{\"outlinewidth\":0,\"ticks\":\"\"},\"colorscale\":[[0.0,\"#0d0887\"],[0.1111111111111111,\"#46039f\"],[0.2222222222222222,\"#7201a8\"],[0.3333333333333333,\"#9c179e\"],[0.4444444444444444,\"#bd3786\"],[0.5555555555555556,\"#d8576b\"],[0.6666666666666666,\"#ed7953\"],[0.7777777777777778,\"#fb9f3a\"],[0.8888888888888888,\"#fdca26\"],[1.0,\"#f0f921\"]]}],\"choropleth\":[{\"type\":\"choropleth\",\"colorbar\":{\"outlinewidth\":0,\"ticks\":\"\"}}],\"histogram2d\":[{\"type\":\"histogram2d\",\"colorbar\":{\"outlinewidth\":0,\"ticks\":\"\"},\"colorscale\":[[0.0,\"#0d0887\"],[0.1111111111111111,\"#46039f\"],[0.2222222222222222,\"#7201a8\"],[0.3333333333333333,\"#9c179e\"],[0.4444444444444444,\"#bd3786\"],[0.5555555555555556,\"#d8576b\"],[0.6666666666666666,\"#ed7953\"],[0.7777777777777778,\"#fb9f3a\"],[0.8888888888888888,\"#fdca26\"],[1.0,\"#f0f921\"]]}],\"heatmap\":[{\"type\":\"heatmap\",\"colorbar\":{\"outlinewidth\":0,\"ticks\":\"\"},\"colorscale\":[[0.0,\"#0d0887\"],[0.1111111111111111,\"#46039f\"],[0.2222222222222222,\"#7201a8\"],[0.3333333333333333,\"#9c179e\"],[0.4444444444444444,\"#bd3786\"],[0.5555555555555556,\"#d8576b\"],[0.6666666666666666,\"#ed7953\"],[0.7777777777777778,\"#fb9f3a\"],[0.8888888888888888,\"#fdca26\"],[1.0,\"#f0f921\"]]}],\"heatmapgl\":[{\"type\":\"heatmapgl\",\"colorbar\":{\"outlinewidth\":0,\"ticks\":\"\"},\"colorscale\":[[0.0,\"#0d0887\"],[0.1111111111111111,\"#46039f\"],[0.2222222222222222,\"#7201a8\"],[0.3333333333333333,\"#9c179e\"],[0.4444444444444444,\"#bd3786\"],[0.5555555555555556,\"#d8576b\"],[0.6666666666666666,\"#ed7953\"],[0.7777777777777778,\"#fb9f3a\"],[0.8888888888888888,\"#fdca26\"],[1.0,\"#f0f921\"]]}],\"contourcarpet\":[{\"type\":\"contourcarpet\",\"colorbar\":{\"outlinewidth\":0,\"ticks\":\"\"}}],\"contour\":[{\"type\":\"contour\",\"colorbar\":{\"outlinewidth\":0,\"ticks\":\"\"},\"colorscale\":[[0.0,\"#0d0887\"],[0.1111111111111111,\"#46039f\"],[0.2222222222222222,\"#7201a8\"],[0.3333333333333333,\"#9c179e\"],[0.4444444444444444,\"#bd3786\"],[0.5555555555555556,\"#d8576b\"],[0.6666666666666666,\"#ed7953\"],[0.7777777777777778,\"#fb9f3a\"],[0.8888888888888888,\"#fdca26\"],[1.0,\"#f0f921\"]]}],\"surface\":[{\"type\":\"surface\",\"colorbar\":{\"outlinewidth\":0,\"ticks\":\"\"},\"colorscale\":[[0.0,\"#0d0887\"],[0.1111111111111111,\"#46039f\"],[0.2222222222222222,\"#7201a8\"],[0.3333333333333333,\"#9c179e\"],[0.4444444444444444,\"#bd3786\"],[0.5555555555555556,\"#d8576b\"],[0.6666666666666666,\"#ed7953\"],[0.7777777777777778,\"#fb9f3a\"],[0.8888888888888888,\"#fdca26\"],[1.0,\"#f0f921\"]]}],\"mesh3d\":[{\"type\":\"mesh3d\",\"colorbar\":{\"outlinewidth\":0,\"ticks\":\"\"}}],\"scatter\":[{\"fillpattern\":{\"fillmode\":\"overlay\",\"size\":10,\"solidity\":0.2},\"type\":\"scatter\"}],\"parcoords\":[{\"type\":\"parcoords\",\"line\":{\"colorbar\":{\"outlinewidth\":0,\"ticks\":\"\"}}}],\"scatterpolargl\":[{\"type\":\"scatterpolargl\",\"marker\":{\"colorbar\":{\"outlinewidth\":0,\"ticks\":\"\"}}}],\"bar\":[{\"error_x\":{\"color\":\"#2a3f5f\"},\"error_y\":{\"color\":\"#2a3f5f\"},\"marker\":{\"line\":{\"color\":\"#E5ECF6\",\"width\":0.5},\"pattern\":{\"fillmode\":\"overlay\",\"size\":10,\"solidity\":0.2}},\"type\":\"bar\"}],\"scattergeo\":[{\"type\":\"scattergeo\",\"marker\":{\"colorbar\":{\"outlinewidth\":0,\"ticks\":\"\"}}}],\"scatterpolar\":[{\"type\":\"scatterpolar\",\"marker\":{\"colorbar\":{\"outlinewidth\":0,\"ticks\":\"\"}}}],\"histogram\":[{\"marker\":{\"pattern\":{\"fillmode\":\"overlay\",\"size\":10,\"solidity\":0.2}},\"type\":\"histogram\"}],\"scattergl\":[{\"type\":\"scattergl\",\"marker\":{\"colorbar\":{\"outlinewidth\":0,\"ticks\":\"\"}}}],\"scatter3d\":[{\"type\":\"scatter3d\",\"line\":{\"colorbar\":{\"outlinewidth\":0,\"ticks\":\"\"}},\"marker\":{\"colorbar\":{\"outlinewidth\":0,\"ticks\":\"\"}}}],\"scattermapbox\":[{\"type\":\"scattermapbox\",\"marker\":{\"colorbar\":{\"outlinewidth\":0,\"ticks\":\"\"}}}],\"scatterternary\":[{\"type\":\"scatterternary\",\"marker\":{\"colorbar\":{\"outlinewidth\":0,\"ticks\":\"\"}}}],\"scattercarpet\":[{\"type\":\"scattercarpet\",\"marker\":{\"colorbar\":{\"outlinewidth\":0,\"ticks\":\"\"}}}],\"carpet\":[{\"aaxis\":{\"endlinecolor\":\"#2a3f5f\",\"gridcolor\":\"white\",\"linecolor\":\"white\",\"minorgridcolor\":\"white\",\"startlinecolor\":\"#2a3f5f\"},\"baxis\":{\"endlinecolor\":\"#2a3f5f\",\"gridcolor\":\"white\",\"linecolor\":\"white\",\"minorgridcolor\":\"white\",\"startlinecolor\":\"#2a3f5f\"},\"type\":\"carpet\"}],\"table\":[{\"cells\":{\"fill\":{\"color\":\"#EBF0F8\"},\"line\":{\"color\":\"white\"}},\"header\":{\"fill\":{\"color\":\"#C8D4E3\"},\"line\":{\"color\":\"white\"}},\"type\":\"table\"}],\"barpolar\":[{\"marker\":{\"line\":{\"color\":\"#E5ECF6\",\"width\":0.5},\"pattern\":{\"fillmode\":\"overlay\",\"size\":10,\"solidity\":0.2}},\"type\":\"barpolar\"}],\"pie\":[{\"automargin\":true,\"type\":\"pie\"}]},\"layout\":{\"autotypenumbers\":\"strict\",\"colorway\":[\"#636efa\",\"#EF553B\",\"#00cc96\",\"#ab63fa\",\"#FFA15A\",\"#19d3f3\",\"#FF6692\",\"#B6E880\",\"#FF97FF\",\"#FECB52\"],\"font\":{\"color\":\"#2a3f5f\"},\"hovermode\":\"closest\",\"hoverlabel\":{\"align\":\"left\"},\"paper_bgcolor\":\"white\",\"plot_bgcolor\":\"#E5ECF6\",\"polar\":{\"bgcolor\":\"#E5ECF6\",\"angularaxis\":{\"gridcolor\":\"white\",\"linecolor\":\"white\",\"ticks\":\"\"},\"radialaxis\":{\"gridcolor\":\"white\",\"linecolor\":\"white\",\"ticks\":\"\"}},\"ternary\":{\"bgcolor\":\"#E5ECF6\",\"aaxis\":{\"gridcolor\":\"white\",\"linecolor\":\"white\",\"ticks\":\"\"},\"baxis\":{\"gridcolor\":\"white\",\"linecolor\":\"white\",\"ticks\":\"\"},\"caxis\":{\"gridcolor\":\"white\",\"linecolor\":\"white\",\"ticks\":\"\"}},\"coloraxis\":{\"colorbar\":{\"outlinewidth\":0,\"ticks\":\"\"}},\"colorscale\":{\"sequential\":[[0.0,\"#0d0887\"],[0.1111111111111111,\"#46039f\"],[0.2222222222222222,\"#7201a8\"],[0.3333333333333333,\"#9c179e\"],[0.4444444444444444,\"#bd3786\"],[0.5555555555555556,\"#d8576b\"],[0.6666666666666666,\"#ed7953\"],[0.7777777777777778,\"#fb9f3a\"],[0.8888888888888888,\"#fdca26\"],[1.0,\"#f0f921\"]],\"sequentialminus\":[[0.0,\"#0d0887\"],[0.1111111111111111,\"#46039f\"],[0.2222222222222222,\"#7201a8\"],[0.3333333333333333,\"#9c179e\"],[0.4444444444444444,\"#bd3786\"],[0.5555555555555556,\"#d8576b\"],[0.6666666666666666,\"#ed7953\"],[0.7777777777777778,\"#fb9f3a\"],[0.8888888888888888,\"#fdca26\"],[1.0,\"#f0f921\"]],\"diverging\":[[0,\"#8e0152\"],[0.1,\"#c51b7d\"],[0.2,\"#de77ae\"],[0.3,\"#f1b6da\"],[0.4,\"#fde0ef\"],[0.5,\"#f7f7f7\"],[0.6,\"#e6f5d0\"],[0.7,\"#b8e186\"],[0.8,\"#7fbc41\"],[0.9,\"#4d9221\"],[1,\"#276419\"]]},\"xaxis\":{\"gridcolor\":\"white\",\"linecolor\":\"white\",\"ticks\":\"\",\"title\":{\"standoff\":15},\"zerolinecolor\":\"white\",\"automargin\":true,\"zerolinewidth\":2},\"yaxis\":{\"gridcolor\":\"white\",\"linecolor\":\"white\",\"ticks\":\"\",\"title\":{\"standoff\":15},\"zerolinecolor\":\"white\",\"automargin\":true,\"zerolinewidth\":2},\"scene\":{\"xaxis\":{\"backgroundcolor\":\"#E5ECF6\",\"gridcolor\":\"white\",\"linecolor\":\"white\",\"showbackground\":true,\"ticks\":\"\",\"zerolinecolor\":\"white\",\"gridwidth\":2},\"yaxis\":{\"backgroundcolor\":\"#E5ECF6\",\"gridcolor\":\"white\",\"linecolor\":\"white\",\"showbackground\":true,\"ticks\":\"\",\"zerolinecolor\":\"white\",\"gridwidth\":2},\"zaxis\":{\"backgroundcolor\":\"#E5ECF6\",\"gridcolor\":\"white\",\"linecolor\":\"white\",\"showbackground\":true,\"ticks\":\"\",\"zerolinecolor\":\"white\",\"gridwidth\":2}},\"shapedefaults\":{\"line\":{\"color\":\"#2a3f5f\"}},\"annotationdefaults\":{\"arrowcolor\":\"#2a3f5f\",\"arrowhead\":0,\"arrowwidth\":1},\"geo\":{\"bgcolor\":\"white\",\"landcolor\":\"#E5ECF6\",\"subunitcolor\":\"white\",\"showland\":true,\"showlakes\":true,\"lakecolor\":\"white\"},\"title\":{\"x\":0.05},\"mapbox\":{\"style\":\"light\"}}},\"xaxis\":{\"anchor\":\"y\",\"domain\":[0.0,0.45]},\"yaxis\":{\"anchor\":\"x\",\"domain\":[0.625,1.0]},\"xaxis2\":{\"anchor\":\"y2\",\"domain\":[0.55,1.0]},\"yaxis2\":{\"anchor\":\"x2\",\"domain\":[0.625,1.0]},\"xaxis3\":{\"anchor\":\"y3\",\"domain\":[0.0,0.45]},\"yaxis3\":{\"anchor\":\"x3\",\"domain\":[0.0,0.375]},\"xaxis4\":{\"anchor\":\"y4\",\"domain\":[0.55,1.0]},\"yaxis4\":{\"anchor\":\"x4\",\"domain\":[0.0,0.375]},\"annotations\":[{\"font\":{\"size\":16},\"showarrow\":false,\"text\":\"Types of Robots vs Time\",\"x\":0.225,\"xanchor\":\"center\",\"xref\":\"paper\",\"y\":1.0,\"yanchor\":\"bottom\",\"yref\":\"paper\"},{\"font\":{\"size\":16},\"showarrow\":false,\"text\":\"Resources vs Time\",\"x\":0.775,\"xanchor\":\"center\",\"xref\":\"paper\",\"y\":1.0,\"yanchor\":\"bottom\",\"yref\":\"paper\"},{\"font\":{\"size\":16},\"showarrow\":false,\"text\":\"Tasks of Robots vs Time\",\"x\":0.225,\"xanchor\":\"center\",\"xref\":\"paper\",\"y\":0.375,\"yanchor\":\"bottom\",\"yref\":\"paper\"},{\"font\":{\"size\":16},\"showarrow\":false,\"text\":\"Build Quality vs Time\",\"x\":0.775,\"xanchor\":\"center\",\"xref\":\"paper\",\"y\":0.375,\"yanchor\":\"bottom\",\"yref\":\"paper\"}],\"hovermode\":\"x\",\"title\":{\"text\":\"DHO - Characteristics\"}},                        {\"responsive\": true}                    ).then(function(){\n",
       "                            \n",
       "var gd = document.getElementById('f78da9a6-0991-41ca-8a91-b4af41361a5a');\n",
       "var x = new MutationObserver(function (mutations, observer) {{\n",
       "        var display = window.getComputedStyle(gd).display;\n",
       "        if (!display || display === 'none') {{\n",
       "            console.log([gd, 'removed!']);\n",
       "            Plotly.purge(gd);\n",
       "            observer.disconnect();\n",
       "        }}\n",
       "}});\n",
       "\n",
       "// Listen for the removal of the full notebook cells\n",
       "var notebookContainer = gd.closest('#notebook-container');\n",
       "if (notebookContainer) {{\n",
       "    x.observe(notebookContainer, {childList: true});\n",
       "}}\n",
       "\n",
       "// Listen for the clearing of the current output cell\n",
       "var outputEl = gd.closest('.output');\n",
       "if (outputEl) {{\n",
       "    x.observe(outputEl, {childList: true});\n",
       "}}\n",
       "\n",
       "                        })                };                });            </script>        </div>"
      ]
     },
     "metadata": {},
     "output_type": "display_data"
    },
    {
     "data": {
      "application/vnd.plotly.v1+json": {
       "config": {
        "plotlyServerURL": "https://plotly.com"
       },
       "data": [
        {
         "alignmentgroup": "True",
         "hovertemplate": "variable=#In<br>Time=%{x}<br>value=%{y}<extra></extra>",
         "legendgroup": "#In",
         "marker": {
          "color": "#636efa",
          "pattern": {
           "shape": ""
          }
         },
         "name": "#In",
         "offsetgroup": "#In",
         "orientation": "v",
         "showlegend": true,
         "textposition": "auto",
         "type": "bar",
         "x": [
          0,
          1,
          2,
          3,
          4,
          5,
          6,
          7,
          8,
          9,
          10,
          11,
          12,
          13,
          14,
          15,
          16,
          17,
          18,
          19,
          20,
          21,
          22,
          23,
          24,
          25,
          26,
          27,
          28,
          29,
          30,
          31,
          32,
          33,
          34,
          35,
          36,
          37,
          38,
          39,
          40,
          41,
          42,
          43,
          44,
          45,
          46,
          47,
          48,
          49,
          50,
          51,
          52,
          53,
          54,
          55,
          56,
          57,
          58,
          59,
          60,
          61,
          62,
          63,
          64,
          65,
          66,
          67,
          68,
          69,
          70,
          71,
          72,
          73,
          74
         ],
         "xaxis": "x",
         "y": [
          1,
          1,
          1,
          1,
          1,
          1,
          3,
          3,
          5,
          7,
          9,
          9,
          11,
          15,
          19,
          21,
          29,
          37,
          42,
          52,
          60,
          67,
          70,
          72,
          76,
          87,
          103,
          115,
          122,
          134,
          148,
          168,
          182,
          201,
          225,
          247,
          262,
          270,
          273,
          275,
          276,
          276,
          276,
          276,
          276,
          276,
          276,
          276,
          276,
          276,
          276,
          276,
          276,
          276,
          276,
          276,
          276,
          276,
          276,
          276,
          276,
          276,
          276,
          276,
          276,
          276,
          276,
          276,
          276,
          276,
          276,
          276,
          276,
          276,
          276
         ],
         "yaxis": "y"
        },
        {
         "alignmentgroup": "True",
         "hovertemplate": "variable=#Out<br>Time=%{x}<br>value=%{y}<extra></extra>",
         "legendgroup": "#Out",
         "marker": {
          "color": "#EF553B",
          "pattern": {
           "shape": ""
          }
         },
         "name": "#Out",
         "offsetgroup": "#Out",
         "orientation": "v",
         "showlegend": true,
         "textposition": "auto",
         "type": "bar",
         "x": [
          0,
          1,
          2,
          3,
          4,
          5,
          6,
          7,
          8,
          9,
          10,
          11,
          12,
          13,
          14,
          15,
          16,
          17,
          18,
          19,
          20,
          21,
          22,
          23,
          24,
          25,
          26,
          27,
          28,
          29,
          30,
          31,
          32,
          33,
          34,
          35,
          36,
          37,
          38,
          39,
          40,
          41,
          42,
          43,
          44,
          45,
          46,
          47,
          48,
          49,
          50,
          51,
          52,
          53,
          54,
          55,
          56,
          57,
          58,
          59,
          60,
          61,
          62,
          63,
          64,
          65,
          66,
          67,
          68,
          69,
          70,
          71,
          72,
          73,
          74
         ],
         "xaxis": "x",
         "y": [
          0,
          0,
          0,
          0,
          0,
          0,
          0,
          0,
          0,
          0,
          0,
          0,
          0,
          0,
          0,
          0,
          0,
          0,
          1,
          1,
          3,
          4,
          5,
          7,
          7,
          8,
          10,
          12,
          13,
          17,
          19,
          23,
          27,
          30,
          38,
          50,
          57,
          61,
          62,
          64,
          65,
          65,
          65,
          65,
          65,
          65,
          65,
          65,
          65,
          65,
          65,
          65,
          65,
          65,
          65,
          65,
          65,
          65,
          65,
          65,
          65,
          65,
          65,
          65,
          65,
          65,
          65,
          65,
          65,
          65,
          65,
          65,
          65,
          65,
          65
         ],
         "yaxis": "y"
        }
       ],
       "layout": {
        "barmode": "relative",
        "hovermode": "x",
        "legend": {
         "title": {
          "text": "variable"
         },
         "tracegroupgap": 0
        },
        "template": {
         "data": {
          "bar": [
           {
            "error_x": {
             "color": "#2a3f5f"
            },
            "error_y": {
             "color": "#2a3f5f"
            },
            "marker": {
             "line": {
              "color": "#E5ECF6",
              "width": 0.5
             },
             "pattern": {
              "fillmode": "overlay",
              "size": 10,
              "solidity": 0.2
             }
            },
            "type": "bar"
           }
          ],
          "barpolar": [
           {
            "marker": {
             "line": {
              "color": "#E5ECF6",
              "width": 0.5
             },
             "pattern": {
              "fillmode": "overlay",
              "size": 10,
              "solidity": 0.2
             }
            },
            "type": "barpolar"
           }
          ],
          "carpet": [
           {
            "aaxis": {
             "endlinecolor": "#2a3f5f",
             "gridcolor": "white",
             "linecolor": "white",
             "minorgridcolor": "white",
             "startlinecolor": "#2a3f5f"
            },
            "baxis": {
             "endlinecolor": "#2a3f5f",
             "gridcolor": "white",
             "linecolor": "white",
             "minorgridcolor": "white",
             "startlinecolor": "#2a3f5f"
            },
            "type": "carpet"
           }
          ],
          "choropleth": [
           {
            "colorbar": {
             "outlinewidth": 0,
             "ticks": ""
            },
            "type": "choropleth"
           }
          ],
          "contour": [
           {
            "colorbar": {
             "outlinewidth": 0,
             "ticks": ""
            },
            "colorscale": [
             [
              0,
              "#0d0887"
             ],
             [
              0.1111111111111111,
              "#46039f"
             ],
             [
              0.2222222222222222,
              "#7201a8"
             ],
             [
              0.3333333333333333,
              "#9c179e"
             ],
             [
              0.4444444444444444,
              "#bd3786"
             ],
             [
              0.5555555555555556,
              "#d8576b"
             ],
             [
              0.6666666666666666,
              "#ed7953"
             ],
             [
              0.7777777777777778,
              "#fb9f3a"
             ],
             [
              0.8888888888888888,
              "#fdca26"
             ],
             [
              1,
              "#f0f921"
             ]
            ],
            "type": "contour"
           }
          ],
          "contourcarpet": [
           {
            "colorbar": {
             "outlinewidth": 0,
             "ticks": ""
            },
            "type": "contourcarpet"
           }
          ],
          "heatmap": [
           {
            "colorbar": {
             "outlinewidth": 0,
             "ticks": ""
            },
            "colorscale": [
             [
              0,
              "#0d0887"
             ],
             [
              0.1111111111111111,
              "#46039f"
             ],
             [
              0.2222222222222222,
              "#7201a8"
             ],
             [
              0.3333333333333333,
              "#9c179e"
             ],
             [
              0.4444444444444444,
              "#bd3786"
             ],
             [
              0.5555555555555556,
              "#d8576b"
             ],
             [
              0.6666666666666666,
              "#ed7953"
             ],
             [
              0.7777777777777778,
              "#fb9f3a"
             ],
             [
              0.8888888888888888,
              "#fdca26"
             ],
             [
              1,
              "#f0f921"
             ]
            ],
            "type": "heatmap"
           }
          ],
          "heatmapgl": [
           {
            "colorbar": {
             "outlinewidth": 0,
             "ticks": ""
            },
            "colorscale": [
             [
              0,
              "#0d0887"
             ],
             [
              0.1111111111111111,
              "#46039f"
             ],
             [
              0.2222222222222222,
              "#7201a8"
             ],
             [
              0.3333333333333333,
              "#9c179e"
             ],
             [
              0.4444444444444444,
              "#bd3786"
             ],
             [
              0.5555555555555556,
              "#d8576b"
             ],
             [
              0.6666666666666666,
              "#ed7953"
             ],
             [
              0.7777777777777778,
              "#fb9f3a"
             ],
             [
              0.8888888888888888,
              "#fdca26"
             ],
             [
              1,
              "#f0f921"
             ]
            ],
            "type": "heatmapgl"
           }
          ],
          "histogram": [
           {
            "marker": {
             "pattern": {
              "fillmode": "overlay",
              "size": 10,
              "solidity": 0.2
             }
            },
            "type": "histogram"
           }
          ],
          "histogram2d": [
           {
            "colorbar": {
             "outlinewidth": 0,
             "ticks": ""
            },
            "colorscale": [
             [
              0,
              "#0d0887"
             ],
             [
              0.1111111111111111,
              "#46039f"
             ],
             [
              0.2222222222222222,
              "#7201a8"
             ],
             [
              0.3333333333333333,
              "#9c179e"
             ],
             [
              0.4444444444444444,
              "#bd3786"
             ],
             [
              0.5555555555555556,
              "#d8576b"
             ],
             [
              0.6666666666666666,
              "#ed7953"
             ],
             [
              0.7777777777777778,
              "#fb9f3a"
             ],
             [
              0.8888888888888888,
              "#fdca26"
             ],
             [
              1,
              "#f0f921"
             ]
            ],
            "type": "histogram2d"
           }
          ],
          "histogram2dcontour": [
           {
            "colorbar": {
             "outlinewidth": 0,
             "ticks": ""
            },
            "colorscale": [
             [
              0,
              "#0d0887"
             ],
             [
              0.1111111111111111,
              "#46039f"
             ],
             [
              0.2222222222222222,
              "#7201a8"
             ],
             [
              0.3333333333333333,
              "#9c179e"
             ],
             [
              0.4444444444444444,
              "#bd3786"
             ],
             [
              0.5555555555555556,
              "#d8576b"
             ],
             [
              0.6666666666666666,
              "#ed7953"
             ],
             [
              0.7777777777777778,
              "#fb9f3a"
             ],
             [
              0.8888888888888888,
              "#fdca26"
             ],
             [
              1,
              "#f0f921"
             ]
            ],
            "type": "histogram2dcontour"
           }
          ],
          "mesh3d": [
           {
            "colorbar": {
             "outlinewidth": 0,
             "ticks": ""
            },
            "type": "mesh3d"
           }
          ],
          "parcoords": [
           {
            "line": {
             "colorbar": {
              "outlinewidth": 0,
              "ticks": ""
             }
            },
            "type": "parcoords"
           }
          ],
          "pie": [
           {
            "automargin": true,
            "type": "pie"
           }
          ],
          "scatter": [
           {
            "fillpattern": {
             "fillmode": "overlay",
             "size": 10,
             "solidity": 0.2
            },
            "type": "scatter"
           }
          ],
          "scatter3d": [
           {
            "line": {
             "colorbar": {
              "outlinewidth": 0,
              "ticks": ""
             }
            },
            "marker": {
             "colorbar": {
              "outlinewidth": 0,
              "ticks": ""
             }
            },
            "type": "scatter3d"
           }
          ],
          "scattercarpet": [
           {
            "marker": {
             "colorbar": {
              "outlinewidth": 0,
              "ticks": ""
             }
            },
            "type": "scattercarpet"
           }
          ],
          "scattergeo": [
           {
            "marker": {
             "colorbar": {
              "outlinewidth": 0,
              "ticks": ""
             }
            },
            "type": "scattergeo"
           }
          ],
          "scattergl": [
           {
            "marker": {
             "colorbar": {
              "outlinewidth": 0,
              "ticks": ""
             }
            },
            "type": "scattergl"
           }
          ],
          "scattermapbox": [
           {
            "marker": {
             "colorbar": {
              "outlinewidth": 0,
              "ticks": ""
             }
            },
            "type": "scattermapbox"
           }
          ],
          "scatterpolar": [
           {
            "marker": {
             "colorbar": {
              "outlinewidth": 0,
              "ticks": ""
             }
            },
            "type": "scatterpolar"
           }
          ],
          "scatterpolargl": [
           {
            "marker": {
             "colorbar": {
              "outlinewidth": 0,
              "ticks": ""
             }
            },
            "type": "scatterpolargl"
           }
          ],
          "scatterternary": [
           {
            "marker": {
             "colorbar": {
              "outlinewidth": 0,
              "ticks": ""
             }
            },
            "type": "scatterternary"
           }
          ],
          "surface": [
           {
            "colorbar": {
             "outlinewidth": 0,
             "ticks": ""
            },
            "colorscale": [
             [
              0,
              "#0d0887"
             ],
             [
              0.1111111111111111,
              "#46039f"
             ],
             [
              0.2222222222222222,
              "#7201a8"
             ],
             [
              0.3333333333333333,
              "#9c179e"
             ],
             [
              0.4444444444444444,
              "#bd3786"
             ],
             [
              0.5555555555555556,
              "#d8576b"
             ],
             [
              0.6666666666666666,
              "#ed7953"
             ],
             [
              0.7777777777777778,
              "#fb9f3a"
             ],
             [
              0.8888888888888888,
              "#fdca26"
             ],
             [
              1,
              "#f0f921"
             ]
            ],
            "type": "surface"
           }
          ],
          "table": [
           {
            "cells": {
             "fill": {
              "color": "#EBF0F8"
             },
             "line": {
              "color": "white"
             }
            },
            "header": {
             "fill": {
              "color": "#C8D4E3"
             },
             "line": {
              "color": "white"
             }
            },
            "type": "table"
           }
          ]
         },
         "layout": {
          "annotationdefaults": {
           "arrowcolor": "#2a3f5f",
           "arrowhead": 0,
           "arrowwidth": 1
          },
          "autotypenumbers": "strict",
          "coloraxis": {
           "colorbar": {
            "outlinewidth": 0,
            "ticks": ""
           }
          },
          "colorscale": {
           "diverging": [
            [
             0,
             "#8e0152"
            ],
            [
             0.1,
             "#c51b7d"
            ],
            [
             0.2,
             "#de77ae"
            ],
            [
             0.3,
             "#f1b6da"
            ],
            [
             0.4,
             "#fde0ef"
            ],
            [
             0.5,
             "#f7f7f7"
            ],
            [
             0.6,
             "#e6f5d0"
            ],
            [
             0.7,
             "#b8e186"
            ],
            [
             0.8,
             "#7fbc41"
            ],
            [
             0.9,
             "#4d9221"
            ],
            [
             1,
             "#276419"
            ]
           ],
           "sequential": [
            [
             0,
             "#0d0887"
            ],
            [
             0.1111111111111111,
             "#46039f"
            ],
            [
             0.2222222222222222,
             "#7201a8"
            ],
            [
             0.3333333333333333,
             "#9c179e"
            ],
            [
             0.4444444444444444,
             "#bd3786"
            ],
            [
             0.5555555555555556,
             "#d8576b"
            ],
            [
             0.6666666666666666,
             "#ed7953"
            ],
            [
             0.7777777777777778,
             "#fb9f3a"
            ],
            [
             0.8888888888888888,
             "#fdca26"
            ],
            [
             1,
             "#f0f921"
            ]
           ],
           "sequentialminus": [
            [
             0,
             "#0d0887"
            ],
            [
             0.1111111111111111,
             "#46039f"
            ],
            [
             0.2222222222222222,
             "#7201a8"
            ],
            [
             0.3333333333333333,
             "#9c179e"
            ],
            [
             0.4444444444444444,
             "#bd3786"
            ],
            [
             0.5555555555555556,
             "#d8576b"
            ],
            [
             0.6666666666666666,
             "#ed7953"
            ],
            [
             0.7777777777777778,
             "#fb9f3a"
            ],
            [
             0.8888888888888888,
             "#fdca26"
            ],
            [
             1,
             "#f0f921"
            ]
           ]
          },
          "colorway": [
           "#636efa",
           "#EF553B",
           "#00cc96",
           "#ab63fa",
           "#FFA15A",
           "#19d3f3",
           "#FF6692",
           "#B6E880",
           "#FF97FF",
           "#FECB52"
          ],
          "font": {
           "color": "#2a3f5f"
          },
          "geo": {
           "bgcolor": "white",
           "lakecolor": "white",
           "landcolor": "#E5ECF6",
           "showlakes": true,
           "showland": true,
           "subunitcolor": "white"
          },
          "hoverlabel": {
           "align": "left"
          },
          "hovermode": "closest",
          "mapbox": {
           "style": "light"
          },
          "paper_bgcolor": "white",
          "plot_bgcolor": "#E5ECF6",
          "polar": {
           "angularaxis": {
            "gridcolor": "white",
            "linecolor": "white",
            "ticks": ""
           },
           "bgcolor": "#E5ECF6",
           "radialaxis": {
            "gridcolor": "white",
            "linecolor": "white",
            "ticks": ""
           }
          },
          "scene": {
           "xaxis": {
            "backgroundcolor": "#E5ECF6",
            "gridcolor": "white",
            "gridwidth": 2,
            "linecolor": "white",
            "showbackground": true,
            "ticks": "",
            "zerolinecolor": "white"
           },
           "yaxis": {
            "backgroundcolor": "#E5ECF6",
            "gridcolor": "white",
            "gridwidth": 2,
            "linecolor": "white",
            "showbackground": true,
            "ticks": "",
            "zerolinecolor": "white"
           },
           "zaxis": {
            "backgroundcolor": "#E5ECF6",
            "gridcolor": "white",
            "gridwidth": 2,
            "linecolor": "white",
            "showbackground": true,
            "ticks": "",
            "zerolinecolor": "white"
           }
          },
          "shapedefaults": {
           "line": {
            "color": "#2a3f5f"
           }
          },
          "ternary": {
           "aaxis": {
            "gridcolor": "white",
            "linecolor": "white",
            "ticks": ""
           },
           "baxis": {
            "gridcolor": "white",
            "linecolor": "white",
            "ticks": ""
           },
           "bgcolor": "#E5ECF6",
           "caxis": {
            "gridcolor": "white",
            "linecolor": "white",
            "ticks": ""
           }
          },
          "title": {
           "x": 0.05
          },
          "xaxis": {
           "automargin": true,
           "gridcolor": "white",
           "linecolor": "white",
           "ticks": "",
           "title": {
            "standoff": 15
           },
           "zerolinecolor": "white",
           "zerolinewidth": 2
          },
          "yaxis": {
           "automargin": true,
           "gridcolor": "white",
           "linecolor": "white",
           "ticks": "",
           "title": {
            "standoff": 15
           },
           "zerolinecolor": "white",
           "zerolinewidth": 2
          }
         }
        },
        "title": {
         "text": "HHO - Habitat over Time"
        },
        "xaxis": {
         "anchor": "y",
         "domain": [
          0,
          1
         ],
         "title": {
          "text": "Time"
         }
        },
        "yaxis": {
         "anchor": "x",
         "domain": [
          0,
          1
         ],
         "title": {
          "text": "#Robots"
         }
        }
       }
      },
      "text/html": [
       "<div>                            <div id=\"07beca76-e2af-46c1-944f-fda9b6b8f497\" class=\"plotly-graph-div\" style=\"height:525px; width:100%;\"></div>            <script type=\"text/javascript\">                require([\"plotly\"], function(Plotly) {                    window.PLOTLYENV=window.PLOTLYENV || {};                                    if (document.getElementById(\"07beca76-e2af-46c1-944f-fda9b6b8f497\")) {                    Plotly.newPlot(                        \"07beca76-e2af-46c1-944f-fda9b6b8f497\",                        [{\"alignmentgroup\":\"True\",\"hovertemplate\":\"variable=#In<br>Time=%{x}<br>value=%{y}<extra></extra>\",\"legendgroup\":\"#In\",\"marker\":{\"color\":\"#636efa\",\"pattern\":{\"shape\":\"\"}},\"name\":\"#In\",\"offsetgroup\":\"#In\",\"orientation\":\"v\",\"showlegend\":true,\"textposition\":\"auto\",\"x\":[0.0,1.0,2.0,3.0,4.0,5.0,6.0,7.0,8.0,9.0,10.0,11.0,12.0,13.0,14.0,15.0,16.0,17.0,18.0,19.0,20.0,21.0,22.0,23.0,24.0,25.0,26.0,27.0,28.0,29.0,30.0,31.0,32.0,33.0,34.0,35.0,36.0,37.0,38.0,39.0,40.0,41.0,42.0,43.0,44.0,45.0,46.0,47.0,48.0,49.0,50.0,51.0,52.0,53.0,54.0,55.0,56.0,57.0,58.0,59.0,60.0,61.0,62.0,63.0,64.0,65.0,66.0,67.0,68.0,69.0,70.0,71.0,72.0,73.0,74.0],\"xaxis\":\"x\",\"y\":[1.0,1.0,1.0,1.0,1.0,1.0,3.0,3.0,5.0,7.0,9.0,9.0,11.0,15.0,19.0,21.0,29.0,37.0,42.0,52.0,60.0,67.0,70.0,72.0,76.0,87.0,103.0,115.0,122.0,134.0,148.0,168.0,182.0,201.0,225.0,247.0,262.0,270.0,273.0,275.0,276.0,276.0,276.0,276.0,276.0,276.0,276.0,276.0,276.0,276.0,276.0,276.0,276.0,276.0,276.0,276.0,276.0,276.0,276.0,276.0,276.0,276.0,276.0,276.0,276.0,276.0,276.0,276.0,276.0,276.0,276.0,276.0,276.0,276.0,276.0],\"yaxis\":\"y\",\"type\":\"bar\"},{\"alignmentgroup\":\"True\",\"hovertemplate\":\"variable=#Out<br>Time=%{x}<br>value=%{y}<extra></extra>\",\"legendgroup\":\"#Out\",\"marker\":{\"color\":\"#EF553B\",\"pattern\":{\"shape\":\"\"}},\"name\":\"#Out\",\"offsetgroup\":\"#Out\",\"orientation\":\"v\",\"showlegend\":true,\"textposition\":\"auto\",\"x\":[0.0,1.0,2.0,3.0,4.0,5.0,6.0,7.0,8.0,9.0,10.0,11.0,12.0,13.0,14.0,15.0,16.0,17.0,18.0,19.0,20.0,21.0,22.0,23.0,24.0,25.0,26.0,27.0,28.0,29.0,30.0,31.0,32.0,33.0,34.0,35.0,36.0,37.0,38.0,39.0,40.0,41.0,42.0,43.0,44.0,45.0,46.0,47.0,48.0,49.0,50.0,51.0,52.0,53.0,54.0,55.0,56.0,57.0,58.0,59.0,60.0,61.0,62.0,63.0,64.0,65.0,66.0,67.0,68.0,69.0,70.0,71.0,72.0,73.0,74.0],\"xaxis\":\"x\",\"y\":[0.0,0.0,0.0,0.0,0.0,0.0,0.0,0.0,0.0,0.0,0.0,0.0,0.0,0.0,0.0,0.0,0.0,0.0,1.0,1.0,3.0,4.0,5.0,7.0,7.0,8.0,10.0,12.0,13.0,17.0,19.0,23.0,27.0,30.0,38.0,50.0,57.0,61.0,62.0,64.0,65.0,65.0,65.0,65.0,65.0,65.0,65.0,65.0,65.0,65.0,65.0,65.0,65.0,65.0,65.0,65.0,65.0,65.0,65.0,65.0,65.0,65.0,65.0,65.0,65.0,65.0,65.0,65.0,65.0,65.0,65.0,65.0,65.0,65.0,65.0],\"yaxis\":\"y\",\"type\":\"bar\"}],                        {\"template\":{\"data\":{\"histogram2dcontour\":[{\"type\":\"histogram2dcontour\",\"colorbar\":{\"outlinewidth\":0,\"ticks\":\"\"},\"colorscale\":[[0.0,\"#0d0887\"],[0.1111111111111111,\"#46039f\"],[0.2222222222222222,\"#7201a8\"],[0.3333333333333333,\"#9c179e\"],[0.4444444444444444,\"#bd3786\"],[0.5555555555555556,\"#d8576b\"],[0.6666666666666666,\"#ed7953\"],[0.7777777777777778,\"#fb9f3a\"],[0.8888888888888888,\"#fdca26\"],[1.0,\"#f0f921\"]]}],\"choropleth\":[{\"type\":\"choropleth\",\"colorbar\":{\"outlinewidth\":0,\"ticks\":\"\"}}],\"histogram2d\":[{\"type\":\"histogram2d\",\"colorbar\":{\"outlinewidth\":0,\"ticks\":\"\"},\"colorscale\":[[0.0,\"#0d0887\"],[0.1111111111111111,\"#46039f\"],[0.2222222222222222,\"#7201a8\"],[0.3333333333333333,\"#9c179e\"],[0.4444444444444444,\"#bd3786\"],[0.5555555555555556,\"#d8576b\"],[0.6666666666666666,\"#ed7953\"],[0.7777777777777778,\"#fb9f3a\"],[0.8888888888888888,\"#fdca26\"],[1.0,\"#f0f921\"]]}],\"heatmap\":[{\"type\":\"heatmap\",\"colorbar\":{\"outlinewidth\":0,\"ticks\":\"\"},\"colorscale\":[[0.0,\"#0d0887\"],[0.1111111111111111,\"#46039f\"],[0.2222222222222222,\"#7201a8\"],[0.3333333333333333,\"#9c179e\"],[0.4444444444444444,\"#bd3786\"],[0.5555555555555556,\"#d8576b\"],[0.6666666666666666,\"#ed7953\"],[0.7777777777777778,\"#fb9f3a\"],[0.8888888888888888,\"#fdca26\"],[1.0,\"#f0f921\"]]}],\"heatmapgl\":[{\"type\":\"heatmapgl\",\"colorbar\":{\"outlinewidth\":0,\"ticks\":\"\"},\"colorscale\":[[0.0,\"#0d0887\"],[0.1111111111111111,\"#46039f\"],[0.2222222222222222,\"#7201a8\"],[0.3333333333333333,\"#9c179e\"],[0.4444444444444444,\"#bd3786\"],[0.5555555555555556,\"#d8576b\"],[0.6666666666666666,\"#ed7953\"],[0.7777777777777778,\"#fb9f3a\"],[0.8888888888888888,\"#fdca26\"],[1.0,\"#f0f921\"]]}],\"contourcarpet\":[{\"type\":\"contourcarpet\",\"colorbar\":{\"outlinewidth\":0,\"ticks\":\"\"}}],\"contour\":[{\"type\":\"contour\",\"colorbar\":{\"outlinewidth\":0,\"ticks\":\"\"},\"colorscale\":[[0.0,\"#0d0887\"],[0.1111111111111111,\"#46039f\"],[0.2222222222222222,\"#7201a8\"],[0.3333333333333333,\"#9c179e\"],[0.4444444444444444,\"#bd3786\"],[0.5555555555555556,\"#d8576b\"],[0.6666666666666666,\"#ed7953\"],[0.7777777777777778,\"#fb9f3a\"],[0.8888888888888888,\"#fdca26\"],[1.0,\"#f0f921\"]]}],\"surface\":[{\"type\":\"surface\",\"colorbar\":{\"outlinewidth\":0,\"ticks\":\"\"},\"colorscale\":[[0.0,\"#0d0887\"],[0.1111111111111111,\"#46039f\"],[0.2222222222222222,\"#7201a8\"],[0.3333333333333333,\"#9c179e\"],[0.4444444444444444,\"#bd3786\"],[0.5555555555555556,\"#d8576b\"],[0.6666666666666666,\"#ed7953\"],[0.7777777777777778,\"#fb9f3a\"],[0.8888888888888888,\"#fdca26\"],[1.0,\"#f0f921\"]]}],\"mesh3d\":[{\"type\":\"mesh3d\",\"colorbar\":{\"outlinewidth\":0,\"ticks\":\"\"}}],\"scatter\":[{\"fillpattern\":{\"fillmode\":\"overlay\",\"size\":10,\"solidity\":0.2},\"type\":\"scatter\"}],\"parcoords\":[{\"type\":\"parcoords\",\"line\":{\"colorbar\":{\"outlinewidth\":0,\"ticks\":\"\"}}}],\"scatterpolargl\":[{\"type\":\"scatterpolargl\",\"marker\":{\"colorbar\":{\"outlinewidth\":0,\"ticks\":\"\"}}}],\"bar\":[{\"error_x\":{\"color\":\"#2a3f5f\"},\"error_y\":{\"color\":\"#2a3f5f\"},\"marker\":{\"line\":{\"color\":\"#E5ECF6\",\"width\":0.5},\"pattern\":{\"fillmode\":\"overlay\",\"size\":10,\"solidity\":0.2}},\"type\":\"bar\"}],\"scattergeo\":[{\"type\":\"scattergeo\",\"marker\":{\"colorbar\":{\"outlinewidth\":0,\"ticks\":\"\"}}}],\"scatterpolar\":[{\"type\":\"scatterpolar\",\"marker\":{\"colorbar\":{\"outlinewidth\":0,\"ticks\":\"\"}}}],\"histogram\":[{\"marker\":{\"pattern\":{\"fillmode\":\"overlay\",\"size\":10,\"solidity\":0.2}},\"type\":\"histogram\"}],\"scattergl\":[{\"type\":\"scattergl\",\"marker\":{\"colorbar\":{\"outlinewidth\":0,\"ticks\":\"\"}}}],\"scatter3d\":[{\"type\":\"scatter3d\",\"line\":{\"colorbar\":{\"outlinewidth\":0,\"ticks\":\"\"}},\"marker\":{\"colorbar\":{\"outlinewidth\":0,\"ticks\":\"\"}}}],\"scattermapbox\":[{\"type\":\"scattermapbox\",\"marker\":{\"colorbar\":{\"outlinewidth\":0,\"ticks\":\"\"}}}],\"scatterternary\":[{\"type\":\"scatterternary\",\"marker\":{\"colorbar\":{\"outlinewidth\":0,\"ticks\":\"\"}}}],\"scattercarpet\":[{\"type\":\"scattercarpet\",\"marker\":{\"colorbar\":{\"outlinewidth\":0,\"ticks\":\"\"}}}],\"carpet\":[{\"aaxis\":{\"endlinecolor\":\"#2a3f5f\",\"gridcolor\":\"white\",\"linecolor\":\"white\",\"minorgridcolor\":\"white\",\"startlinecolor\":\"#2a3f5f\"},\"baxis\":{\"endlinecolor\":\"#2a3f5f\",\"gridcolor\":\"white\",\"linecolor\":\"white\",\"minorgridcolor\":\"white\",\"startlinecolor\":\"#2a3f5f\"},\"type\":\"carpet\"}],\"table\":[{\"cells\":{\"fill\":{\"color\":\"#EBF0F8\"},\"line\":{\"color\":\"white\"}},\"header\":{\"fill\":{\"color\":\"#C8D4E3\"},\"line\":{\"color\":\"white\"}},\"type\":\"table\"}],\"barpolar\":[{\"marker\":{\"line\":{\"color\":\"#E5ECF6\",\"width\":0.5},\"pattern\":{\"fillmode\":\"overlay\",\"size\":10,\"solidity\":0.2}},\"type\":\"barpolar\"}],\"pie\":[{\"automargin\":true,\"type\":\"pie\"}]},\"layout\":{\"autotypenumbers\":\"strict\",\"colorway\":[\"#636efa\",\"#EF553B\",\"#00cc96\",\"#ab63fa\",\"#FFA15A\",\"#19d3f3\",\"#FF6692\",\"#B6E880\",\"#FF97FF\",\"#FECB52\"],\"font\":{\"color\":\"#2a3f5f\"},\"hovermode\":\"closest\",\"hoverlabel\":{\"align\":\"left\"},\"paper_bgcolor\":\"white\",\"plot_bgcolor\":\"#E5ECF6\",\"polar\":{\"bgcolor\":\"#E5ECF6\",\"angularaxis\":{\"gridcolor\":\"white\",\"linecolor\":\"white\",\"ticks\":\"\"},\"radialaxis\":{\"gridcolor\":\"white\",\"linecolor\":\"white\",\"ticks\":\"\"}},\"ternary\":{\"bgcolor\":\"#E5ECF6\",\"aaxis\":{\"gridcolor\":\"white\",\"linecolor\":\"white\",\"ticks\":\"\"},\"baxis\":{\"gridcolor\":\"white\",\"linecolor\":\"white\",\"ticks\":\"\"},\"caxis\":{\"gridcolor\":\"white\",\"linecolor\":\"white\",\"ticks\":\"\"}},\"coloraxis\":{\"colorbar\":{\"outlinewidth\":0,\"ticks\":\"\"}},\"colorscale\":{\"sequential\":[[0.0,\"#0d0887\"],[0.1111111111111111,\"#46039f\"],[0.2222222222222222,\"#7201a8\"],[0.3333333333333333,\"#9c179e\"],[0.4444444444444444,\"#bd3786\"],[0.5555555555555556,\"#d8576b\"],[0.6666666666666666,\"#ed7953\"],[0.7777777777777778,\"#fb9f3a\"],[0.8888888888888888,\"#fdca26\"],[1.0,\"#f0f921\"]],\"sequentialminus\":[[0.0,\"#0d0887\"],[0.1111111111111111,\"#46039f\"],[0.2222222222222222,\"#7201a8\"],[0.3333333333333333,\"#9c179e\"],[0.4444444444444444,\"#bd3786\"],[0.5555555555555556,\"#d8576b\"],[0.6666666666666666,\"#ed7953\"],[0.7777777777777778,\"#fb9f3a\"],[0.8888888888888888,\"#fdca26\"],[1.0,\"#f0f921\"]],\"diverging\":[[0,\"#8e0152\"],[0.1,\"#c51b7d\"],[0.2,\"#de77ae\"],[0.3,\"#f1b6da\"],[0.4,\"#fde0ef\"],[0.5,\"#f7f7f7\"],[0.6,\"#e6f5d0\"],[0.7,\"#b8e186\"],[0.8,\"#7fbc41\"],[0.9,\"#4d9221\"],[1,\"#276419\"]]},\"xaxis\":{\"gridcolor\":\"white\",\"linecolor\":\"white\",\"ticks\":\"\",\"title\":{\"standoff\":15},\"zerolinecolor\":\"white\",\"automargin\":true,\"zerolinewidth\":2},\"yaxis\":{\"gridcolor\":\"white\",\"linecolor\":\"white\",\"ticks\":\"\",\"title\":{\"standoff\":15},\"zerolinecolor\":\"white\",\"automargin\":true,\"zerolinewidth\":2},\"scene\":{\"xaxis\":{\"backgroundcolor\":\"#E5ECF6\",\"gridcolor\":\"white\",\"linecolor\":\"white\",\"showbackground\":true,\"ticks\":\"\",\"zerolinecolor\":\"white\",\"gridwidth\":2},\"yaxis\":{\"backgroundcolor\":\"#E5ECF6\",\"gridcolor\":\"white\",\"linecolor\":\"white\",\"showbackground\":true,\"ticks\":\"\",\"zerolinecolor\":\"white\",\"gridwidth\":2},\"zaxis\":{\"backgroundcolor\":\"#E5ECF6\",\"gridcolor\":\"white\",\"linecolor\":\"white\",\"showbackground\":true,\"ticks\":\"\",\"zerolinecolor\":\"white\",\"gridwidth\":2}},\"shapedefaults\":{\"line\":{\"color\":\"#2a3f5f\"}},\"annotationdefaults\":{\"arrowcolor\":\"#2a3f5f\",\"arrowhead\":0,\"arrowwidth\":1},\"geo\":{\"bgcolor\":\"white\",\"landcolor\":\"#E5ECF6\",\"subunitcolor\":\"white\",\"showland\":true,\"showlakes\":true,\"lakecolor\":\"white\"},\"title\":{\"x\":0.05},\"mapbox\":{\"style\":\"light\"}}},\"xaxis\":{\"anchor\":\"y\",\"domain\":[0.0,1.0],\"title\":{\"text\":\"Time\"}},\"yaxis\":{\"anchor\":\"x\",\"domain\":[0.0,1.0],\"title\":{\"text\":\"#Robots\"}},\"legend\":{\"title\":{\"text\":\"variable\"},\"tracegroupgap\":0},\"title\":{\"text\":\"HHO - Habitat over Time\"},\"barmode\":\"relative\",\"hovermode\":\"x\"},                        {\"responsive\": true}                    ).then(function(){\n",
       "                            \n",
       "var gd = document.getElementById('07beca76-e2af-46c1-944f-fda9b6b8f497');\n",
       "var x = new MutationObserver(function (mutations, observer) {{\n",
       "        var display = window.getComputedStyle(gd).display;\n",
       "        if (!display || display === 'none') {{\n",
       "            console.log([gd, 'removed!']);\n",
       "            Plotly.purge(gd);\n",
       "            observer.disconnect();\n",
       "        }}\n",
       "}});\n",
       "\n",
       "// Listen for the removal of the full notebook cells\n",
       "var notebookContainer = gd.closest('#notebook-container');\n",
       "if (notebookContainer) {{\n",
       "    x.observe(notebookContainer, {childList: true});\n",
       "}}\n",
       "\n",
       "// Listen for the clearing of the current output cell\n",
       "var outputEl = gd.closest('.output');\n",
       "if (outputEl) {{\n",
       "    x.observe(outputEl, {childList: true});\n",
       "}}\n",
       "\n",
       "                        })                };                });            </script>        </div>"
      ]
     },
     "metadata": {},
     "output_type": "display_data"
    },
    {
     "data": {
      "application/vnd.plotly.v1+json": {
       "config": {
        "plotlyServerURL": "https://plotly.com"
       },
       "data": [
        {
         "name": "#Replicator",
         "type": "bar",
         "x": [
          0,
          1,
          2,
          3,
          4,
          5,
          6,
          7,
          8,
          9,
          10,
          11,
          12,
          13,
          14,
          15,
          16,
          17,
          18,
          19,
          20,
          21,
          22,
          23,
          24,
          25,
          26,
          27,
          28,
          29,
          30,
          31,
          32,
          33,
          34,
          35,
          36,
          37,
          38,
          39,
          40,
          41,
          42,
          43,
          44,
          45,
          46,
          47,
          48,
          49,
          50,
          51,
          52,
          53,
          54,
          55,
          56,
          57,
          58,
          59,
          60,
          61,
          62,
          63,
          64,
          65,
          66,
          67,
          68,
          69,
          70,
          71,
          72,
          73,
          74
         ],
         "xaxis": "x",
         "y": [
          1,
          1,
          1,
          1,
          1,
          1,
          3,
          3,
          3,
          5,
          5,
          5,
          7,
          9,
          11,
          13,
          17,
          21,
          24,
          34,
          42,
          48,
          49,
          50,
          54,
          63,
          75,
          81,
          88,
          96,
          108,
          125,
          139,
          155,
          176,
          195,
          204,
          205,
          205,
          205,
          205,
          205,
          205,
          205,
          205,
          205,
          205,
          205,
          205,
          205,
          205,
          205,
          205,
          205,
          205,
          205,
          205,
          205,
          205,
          205,
          205,
          205,
          205,
          205,
          205,
          205,
          205,
          205,
          205,
          205,
          205,
          205,
          205,
          205,
          205
         ],
         "yaxis": "y"
        },
        {
         "name": "#Normal",
         "type": "bar",
         "x": [
          0,
          1,
          2,
          3,
          4,
          5,
          6,
          7,
          8,
          9,
          10,
          11,
          12,
          13,
          14,
          15,
          16,
          17,
          18,
          19,
          20,
          21,
          22,
          23,
          24,
          25,
          26,
          27,
          28,
          29,
          30,
          31,
          32,
          33,
          34,
          35,
          36,
          37,
          38,
          39,
          40,
          41,
          42,
          43,
          44,
          45,
          46,
          47,
          48,
          49,
          50,
          51,
          52,
          53,
          54,
          55,
          56,
          57,
          58,
          59,
          60,
          61,
          62,
          63,
          64,
          65,
          66,
          67,
          68,
          69,
          70,
          71,
          72,
          73,
          74
         ],
         "xaxis": "x",
         "y": [
          0,
          0,
          0,
          0,
          0,
          0,
          0,
          0,
          2,
          2,
          4,
          4,
          4,
          6,
          8,
          8,
          12,
          16,
          18,
          18,
          18,
          19,
          21,
          22,
          22,
          24,
          28,
          34,
          34,
          38,
          40,
          43,
          43,
          46,
          49,
          52,
          58,
          65,
          68,
          70,
          71,
          71,
          71,
          71,
          71,
          71,
          71,
          71,
          71,
          71,
          71,
          71,
          71,
          71,
          71,
          71,
          71,
          71,
          71,
          71,
          71,
          71,
          71,
          71,
          71,
          71,
          71,
          71,
          71,
          71,
          71,
          71,
          71,
          71,
          71
         ],
         "yaxis": "y"
        },
        {
         "name": "#Assembler",
         "type": "bar",
         "x": [
          0,
          1,
          2,
          3,
          4,
          5,
          6,
          7,
          8,
          9,
          10,
          11,
          12,
          13,
          14,
          15,
          16,
          17,
          18,
          19,
          20,
          21,
          22,
          23,
          24,
          25,
          26,
          27,
          28,
          29,
          30,
          31,
          32,
          33,
          34,
          35,
          36,
          37,
          38,
          39,
          40,
          41,
          42,
          43,
          44,
          45,
          46,
          47,
          48,
          49,
          50,
          51,
          52,
          53,
          54,
          55,
          56,
          57,
          58,
          59,
          60,
          61,
          62,
          63,
          64,
          65,
          66,
          67,
          68,
          69,
          70,
          71,
          72,
          73,
          74
         ],
         "xaxis": "x",
         "y": [
          0,
          0,
          0,
          0,
          0,
          0,
          0,
          0,
          0,
          0,
          0,
          0,
          0,
          0,
          0,
          0,
          0,
          0,
          0,
          0,
          0,
          0,
          0,
          0,
          0,
          0,
          0,
          0,
          0,
          0,
          0,
          0,
          0,
          0,
          0,
          0,
          0,
          0,
          0,
          0,
          0,
          0,
          0,
          0,
          0,
          0,
          0,
          0,
          0,
          0,
          0,
          0,
          0,
          0,
          0,
          0,
          0,
          0,
          0,
          0,
          0,
          0,
          0,
          0,
          0,
          0,
          0,
          0,
          0,
          0,
          0,
          0,
          0,
          0,
          0
         ],
         "yaxis": "y"
        },
        {
         "name": "#Printer",
         "type": "bar",
         "x": [
          0,
          1,
          2,
          3,
          4,
          5,
          6,
          7,
          8,
          9,
          10,
          11,
          12,
          13,
          14,
          15,
          16,
          17,
          18,
          19,
          20,
          21,
          22,
          23,
          24,
          25,
          26,
          27,
          28,
          29,
          30,
          31,
          32,
          33,
          34,
          35,
          36,
          37,
          38,
          39,
          40,
          41,
          42,
          43,
          44,
          45,
          46,
          47,
          48,
          49,
          50,
          51,
          52,
          53,
          54,
          55,
          56,
          57,
          58,
          59,
          60,
          61,
          62,
          63,
          64,
          65,
          66,
          67,
          68,
          69,
          70,
          71,
          72,
          73,
          74
         ],
         "xaxis": "x",
         "y": [
          0,
          0,
          0,
          0,
          0,
          0,
          0,
          0,
          0,
          0,
          0,
          0,
          0,
          0,
          0,
          0,
          0,
          0,
          0,
          0,
          0,
          0,
          0,
          0,
          0,
          0,
          0,
          0,
          0,
          0,
          0,
          0,
          0,
          0,
          0,
          0,
          0,
          0,
          0,
          0,
          0,
          0,
          0,
          0,
          0,
          0,
          0,
          0,
          0,
          0,
          0,
          0,
          0,
          0,
          0,
          0,
          0,
          0,
          0,
          0,
          0,
          0,
          0,
          0,
          0,
          0,
          0,
          0,
          0,
          0,
          0,
          0,
          0,
          0,
          0
         ],
         "yaxis": "y"
        },
        {
         "name": "#Assembling",
         "type": "bar",
         "x": [
          0,
          1,
          2,
          3,
          4,
          5,
          6,
          7,
          8,
          9,
          10,
          11,
          12,
          13,
          14,
          15,
          16,
          17,
          18,
          19,
          20,
          21,
          22,
          23,
          24,
          25,
          26,
          27,
          28,
          29,
          30,
          31,
          32,
          33,
          34,
          35,
          36,
          37,
          38,
          39,
          40,
          41,
          42,
          43,
          44,
          45,
          46,
          47,
          48,
          49,
          50,
          51,
          52,
          53,
          54,
          55,
          56,
          57,
          58,
          59,
          60,
          61,
          62,
          63,
          64,
          65,
          66,
          67,
          68,
          69,
          70,
          71,
          72,
          73,
          74
         ],
         "xaxis": "x3",
         "y": [
          1,
          1,
          1,
          1,
          1,
          1,
          3,
          3,
          3,
          5,
          5,
          5,
          7,
          9,
          11,
          13,
          15,
          11,
          11,
          12,
          10,
          11,
          12,
          16,
          22,
          24,
          22,
          21,
          28,
          31,
          36,
          36,
          44,
          50,
          53,
          36,
          18,
          7,
          3,
          1,
          0,
          0,
          0,
          0,
          0,
          0,
          0,
          0,
          0,
          0,
          0,
          0,
          0,
          0,
          0,
          0,
          0,
          0,
          0,
          0,
          0,
          0,
          0,
          0,
          0,
          0,
          0,
          0,
          0,
          0,
          0,
          0,
          0,
          0,
          0
         ],
         "yaxis": "y3"
        },
        {
         "name": "#Printing",
         "type": "bar",
         "x": [
          0,
          1,
          2,
          3,
          4,
          5,
          6,
          7,
          8,
          9,
          10,
          11,
          12,
          13,
          14,
          15,
          16,
          17,
          18,
          19,
          20,
          21,
          22,
          23,
          24,
          25,
          26,
          27,
          28,
          29,
          30,
          31,
          32,
          33,
          34,
          35,
          36,
          37,
          38,
          39,
          40,
          41,
          42,
          43,
          44,
          45,
          46,
          47,
          48,
          49,
          50,
          51,
          52,
          53,
          54,
          55,
          56,
          57,
          58,
          59,
          60,
          61,
          62,
          63,
          64,
          65,
          66,
          67,
          68,
          69,
          70,
          71,
          72,
          73,
          74
         ],
         "xaxis": "x3",
         "y": [
          0,
          0,
          0,
          0,
          0,
          0,
          0,
          0,
          0,
          0,
          0,
          0,
          0,
          0,
          0,
          0,
          2,
          10,
          12,
          22,
          30,
          37,
          36,
          33,
          32,
          38,
          51,
          58,
          59,
          63,
          70,
          86,
          91,
          103,
          116,
          135,
          14,
          0,
          0,
          0,
          0,
          0,
          0,
          0,
          0,
          0,
          0,
          0,
          0,
          0,
          0,
          0,
          0,
          0,
          0,
          0,
          0,
          0,
          0,
          0,
          0,
          0,
          0,
          0,
          0,
          0,
          0,
          0,
          0,
          0,
          0,
          0,
          0,
          0,
          0
         ],
         "yaxis": "y3"
        },
        {
         "name": "#Collecting",
         "type": "bar",
         "x": [
          0,
          1,
          2,
          3,
          4,
          5,
          6,
          7,
          8,
          9,
          10,
          11,
          12,
          13,
          14,
          15,
          16,
          17,
          18,
          19,
          20,
          21,
          22,
          23,
          24,
          25,
          26,
          27,
          28,
          29,
          30,
          31,
          32,
          33,
          34,
          35,
          36,
          37,
          38,
          39,
          40,
          41,
          42,
          43,
          44,
          45,
          46,
          47,
          48,
          49,
          50,
          51,
          52,
          53,
          54,
          55,
          56,
          57,
          58,
          59,
          60,
          61,
          62,
          63,
          64,
          65,
          66,
          67,
          68,
          69,
          70,
          71,
          72,
          73,
          74
         ],
         "xaxis": "x3",
         "y": [
          0,
          0,
          0,
          0,
          0,
          0,
          0,
          0,
          2,
          2,
          4,
          4,
          4,
          6,
          8,
          8,
          12,
          16,
          18,
          18,
          18,
          18,
          21,
          21,
          22,
          24,
          28,
          34,
          34,
          36,
          40,
          42,
          43,
          36,
          0,
          0,
          0,
          0,
          0,
          0,
          0,
          0,
          0,
          0,
          0,
          0,
          0,
          0,
          0,
          0,
          0,
          0,
          0,
          0,
          0,
          0,
          0,
          0,
          0,
          0,
          0,
          0,
          0,
          0,
          0,
          0,
          0,
          0,
          0,
          0,
          0,
          0,
          0,
          0,
          0
         ],
         "yaxis": "y3"
        },
        {
         "name": "#Idle",
         "type": "bar",
         "x": [
          0,
          1,
          2,
          3,
          4,
          5,
          6,
          7,
          8,
          9,
          10,
          11,
          12,
          13,
          14,
          15,
          16,
          17,
          18,
          19,
          20,
          21,
          22,
          23,
          24,
          25,
          26,
          27,
          28,
          29,
          30,
          31,
          32,
          33,
          34,
          35,
          36,
          37,
          38,
          39,
          40,
          41,
          42,
          43,
          44,
          45,
          46,
          47,
          48,
          49,
          50,
          51,
          52,
          53,
          54,
          55,
          56,
          57,
          58,
          59,
          60,
          61,
          62,
          63,
          64,
          65,
          66,
          67,
          68,
          69,
          70,
          71,
          72,
          73,
          74
         ],
         "xaxis": "x3",
         "y": [
          0,
          0,
          0,
          0,
          0,
          0,
          0,
          0,
          0,
          0,
          0,
          0,
          0,
          0,
          0,
          0,
          0,
          0,
          1,
          0,
          2,
          1,
          1,
          2,
          0,
          1,
          2,
          2,
          1,
          4,
          2,
          4,
          4,
          12,
          56,
          76,
          230,
          263,
          270,
          274,
          276,
          276,
          276,
          276,
          276,
          276,
          276,
          276,
          276,
          276,
          276,
          276,
          276,
          276,
          276,
          276,
          276,
          276,
          276,
          276,
          276,
          276,
          276,
          276,
          276,
          276,
          276,
          276,
          276,
          276,
          276,
          276,
          276,
          276,
          276
         ],
         "yaxis": "y3"
        },
        {
         "mode": "lines",
         "name": "NonPr",
         "type": "scatter",
         "x": [
          0,
          1,
          2,
          3,
          4,
          5,
          6,
          7,
          8,
          9,
          10,
          11,
          12,
          13,
          14,
          15,
          16,
          17,
          18,
          19,
          20,
          21,
          22,
          23,
          24,
          25,
          26,
          27,
          28,
          29,
          30,
          31,
          32,
          33,
          34,
          35,
          36,
          37,
          38,
          39,
          40,
          41,
          42,
          43,
          44,
          45,
          46,
          47,
          48,
          49,
          50,
          51,
          52,
          53,
          54,
          55,
          56,
          57,
          58,
          59,
          60,
          61,
          62,
          63,
          64,
          65,
          66,
          67,
          68,
          69,
          70,
          71,
          72,
          73,
          74
         ],
         "xaxis": "x2",
         "y": [
          297,
          297,
          297,
          297,
          297,
          297,
          293,
          293,
          290,
          286,
          283,
          283,
          279,
          272,
          265,
          261,
          250,
          248,
          245,
          239,
          233,
          222,
          216,
          204,
          197,
          188,
          175,
          160,
          145,
          128,
          111,
          89,
          67,
          41,
          11,
          0,
          0,
          0,
          0,
          0,
          0,
          0,
          0,
          0,
          0,
          0,
          0,
          0,
          0,
          0,
          0,
          0,
          0,
          0,
          0,
          0,
          0,
          0,
          0,
          0,
          0,
          0,
          0,
          0,
          0,
          0,
          0,
          0,
          0,
          0,
          0,
          0,
          0,
          0,
          0
         ],
         "yaxis": "y2"
        },
        {
         "mode": "lines",
         "name": "Printable",
         "type": "scatter",
         "x": [
          0,
          1,
          2,
          3,
          4,
          5,
          6,
          7,
          8,
          9,
          10,
          11,
          12,
          13,
          14,
          15,
          16,
          17,
          18,
          19,
          20,
          21,
          22,
          23,
          24,
          25,
          26,
          27,
          28,
          29,
          30,
          31,
          32,
          33,
          34,
          35,
          36,
          37,
          38,
          39,
          40,
          41,
          42,
          43,
          44,
          45,
          46,
          47,
          48,
          49,
          50,
          51,
          52,
          53,
          54,
          55,
          56,
          57,
          58,
          59,
          60,
          61,
          62,
          63,
          64,
          65,
          66,
          67,
          68,
          69,
          70,
          71,
          72,
          73,
          74
         ],
         "xaxis": "x2",
         "y": [
          94,
          94,
          94,
          94,
          94,
          94,
          86,
          86,
          80,
          72,
          66,
          66,
          58,
          44,
          30,
          22,
          1,
          2,
          2,
          1,
          4,
          1,
          7,
          0,
          2,
          3,
          2,
          2,
          2,
          0,
          1,
          1,
          2,
          2,
          0,
          49,
          49,
          49,
          49,
          49,
          49,
          49,
          49,
          49,
          49,
          49,
          49,
          49,
          49,
          49,
          49,
          49,
          49,
          49,
          49,
          49,
          49,
          49,
          49,
          49,
          49,
          49,
          49,
          49,
          49,
          49,
          49,
          49,
          49,
          49,
          49,
          49,
          49,
          49,
          49
         ],
         "yaxis": "y2"
        },
        {
         "mode": "lines",
         "name": "Materials",
         "type": "scatter",
         "x": [
          0,
          1,
          2,
          3,
          4,
          5,
          6,
          7,
          8,
          9,
          10,
          11,
          12,
          13,
          14,
          15,
          16,
          17,
          18,
          19,
          20,
          21,
          22,
          23,
          24,
          25,
          26,
          27,
          28,
          29,
          30,
          31,
          32,
          33,
          34,
          35,
          36,
          37,
          38,
          39,
          40,
          41,
          42,
          43,
          44,
          45,
          46,
          47,
          48,
          49,
          50,
          51,
          52,
          53,
          54,
          55,
          56,
          57,
          58,
          59,
          60,
          61,
          62,
          63,
          64,
          65,
          66,
          67,
          68,
          69,
          70,
          71,
          72,
          73,
          74
         ],
         "xaxis": "x2",
         "y": [
          50,
          50,
          50,
          50,
          50,
          50,
          50,
          50,
          51,
          53,
          56,
          60,
          64,
          69,
          76,
          84,
          93,
          102,
          113,
          120,
          123,
          122,
          124,
          128,
          134,
          138,
          139,
          140,
          144,
          147,
          151,
          148,
          146,
          130,
          72,
          1,
          1,
          1,
          1,
          1,
          1,
          1,
          1,
          1,
          1,
          1,
          1,
          1,
          1,
          1,
          1,
          1,
          1,
          1,
          1,
          1,
          1,
          1,
          1,
          1,
          1,
          1,
          1,
          1,
          1,
          1,
          1,
          1,
          1,
          1,
          1,
          1,
          1,
          1,
          1
         ],
         "yaxis": "y2"
        },
        {
         "mode": "lines",
         "name": "Env_Materials",
         "type": "scatter",
         "x": [
          0,
          1,
          2,
          3,
          4,
          5,
          6,
          7,
          8,
          9,
          10,
          11,
          12,
          13,
          14,
          15,
          16,
          17,
          18,
          19,
          20,
          21,
          22,
          23,
          24,
          25,
          26,
          27,
          28,
          29,
          30,
          31,
          32,
          33,
          34,
          35,
          36,
          37,
          38,
          39,
          40,
          41,
          42,
          43,
          44,
          45,
          46,
          47,
          48,
          49,
          50,
          51,
          52,
          53,
          54,
          55,
          56,
          57,
          58,
          59,
          60,
          61,
          62,
          63,
          64,
          65,
          66,
          67,
          68,
          69,
          70,
          71,
          72,
          73,
          74
         ],
         "xaxis": "x2",
         "y": [
          500,
          500,
          500,
          500,
          500,
          500,
          500,
          500,
          499,
          497,
          494,
          490,
          486,
          481,
          474,
          466,
          456,
          442,
          425,
          407,
          389,
          371,
          351,
          330,
          308,
          285,
          259,
          228,
          194,
          159,
          120,
          79,
          36,
          0,
          0,
          0,
          0,
          0,
          0,
          0,
          0,
          0,
          0,
          0,
          0,
          0,
          0,
          0,
          0,
          0,
          0,
          0,
          0,
          0,
          0,
          0,
          0,
          0,
          0,
          0,
          0,
          0,
          0,
          0,
          0,
          0,
          0,
          0,
          0,
          0,
          0,
          0,
          0,
          0,
          0
         ],
         "yaxis": "y2"
        },
        {
         "mode": "lines",
         "name": "Avg. Quality #in",
         "type": "scatter",
         "x": [
          0,
          1,
          2,
          3,
          4,
          5,
          6,
          7,
          8,
          9,
          10,
          11,
          12,
          13,
          14,
          15,
          16,
          17,
          18,
          19,
          20,
          21,
          22,
          23,
          24,
          25,
          26,
          27,
          28,
          29,
          30,
          31,
          32,
          33,
          34,
          35,
          36,
          37,
          38,
          39,
          40,
          41,
          42,
          43,
          44,
          45,
          46,
          47,
          48,
          49,
          50,
          51,
          52,
          53,
          54,
          55,
          56,
          57,
          58,
          59,
          60,
          61,
          62,
          63,
          64,
          65,
          66,
          67,
          68,
          69,
          70,
          71,
          72,
          73,
          74
         ],
         "xaxis": "x4",
         "y": [
          0.918,
          0.918,
          0.918,
          0.918,
          0.918,
          0.918,
          0.933,
          0.933,
          0.89,
          0.913,
          0.887,
          0.887,
          0.905,
          0.88,
          0.892,
          0.888,
          0.877,
          0.862,
          0.825,
          0.806,
          0.767,
          0.746,
          0.733,
          0.713,
          0.713,
          0.697,
          0.696,
          0.683,
          0.679,
          0.655,
          0.646,
          0.635,
          0.623,
          0.615,
          0.592,
          0.565,
          0.551,
          0.544,
          0.544,
          0.54,
          0.538,
          0.538,
          0.538,
          0.538,
          0.538,
          0.538,
          0.538,
          0.538,
          0.538,
          0.538,
          0.538,
          0.538,
          0.538,
          0.538,
          0.538,
          0.538,
          0.538,
          0.538,
          0.538,
          0.538,
          0.538,
          0.538,
          0.538,
          0.538,
          0.538,
          0.538,
          0.538,
          0.538,
          0.538,
          0.538,
          0.538,
          0.538,
          0.538,
          0.538,
          0.538
         ],
         "yaxis": "y4"
        },
        {
         "mode": "lines",
         "name": "Avg. Quality #total",
         "type": "scatter",
         "x": [
          0,
          1,
          2,
          3,
          4,
          5,
          6,
          7,
          8,
          9,
          10,
          11,
          12,
          13,
          14,
          15,
          16,
          17,
          18,
          19,
          20,
          21,
          22,
          23,
          24,
          25,
          26,
          27,
          28,
          29,
          30,
          31,
          32,
          33,
          34,
          35,
          36,
          37,
          38,
          39,
          40,
          41,
          42,
          43,
          44,
          45,
          46,
          47,
          48,
          49,
          50,
          51,
          52,
          53,
          54,
          55,
          56,
          57,
          58,
          59,
          60,
          61,
          62,
          63,
          64,
          65,
          66,
          67,
          68,
          69,
          70,
          71,
          72,
          73,
          74
         ],
         "xaxis": "x4",
         "y": [
          0.918,
          0.918,
          0.918,
          0.918,
          0.918,
          0.918,
          0.933,
          0.933,
          0.89,
          0.913,
          0.887,
          0.887,
          0.905,
          0.88,
          0.892,
          0.888,
          0.877,
          0.862,
          0.835,
          0.813,
          0.79,
          0.769,
          0.763,
          0.751,
          0.749,
          0.734,
          0.735,
          0.725,
          0.72,
          0.703,
          0.694,
          0.686,
          0.681,
          0.674,
          0.658,
          0.642,
          0.633,
          0.629,
          0.629,
          0.628,
          0.627,
          0.627,
          0.627,
          0.627,
          0.627,
          0.627,
          0.627,
          0.627,
          0.627,
          0.627,
          0.627,
          0.627,
          0.627,
          0.627,
          0.627,
          0.627,
          0.627,
          0.627,
          0.627,
          0.627,
          0.627,
          0.627,
          0.627,
          0.627,
          0.627,
          0.627,
          0.627,
          0.627,
          0.627,
          0.627,
          0.627,
          0.627,
          0.627,
          0.627,
          0.627
         ],
         "yaxis": "y4"
        }
       ],
       "layout": {
        "annotations": [
         {
          "font": {
           "size": 16
          },
          "showarrow": false,
          "text": "Types of Robots vs Time",
          "x": 0.225,
          "xanchor": "center",
          "xref": "paper",
          "y": 1,
          "yanchor": "bottom",
          "yref": "paper"
         },
         {
          "font": {
           "size": 16
          },
          "showarrow": false,
          "text": "Resources vs Time",
          "x": 0.775,
          "xanchor": "center",
          "xref": "paper",
          "y": 1,
          "yanchor": "bottom",
          "yref": "paper"
         },
         {
          "font": {
           "size": 16
          },
          "showarrow": false,
          "text": "Tasks of Robots vs Time",
          "x": 0.225,
          "xanchor": "center",
          "xref": "paper",
          "y": 0.375,
          "yanchor": "bottom",
          "yref": "paper"
         },
         {
          "font": {
           "size": 16
          },
          "showarrow": false,
          "text": "Build Quality vs Time",
          "x": 0.775,
          "xanchor": "center",
          "xref": "paper",
          "y": 0.375,
          "yanchor": "bottom",
          "yref": "paper"
         }
        ],
        "hovermode": "x",
        "template": {
         "data": {
          "bar": [
           {
            "error_x": {
             "color": "#2a3f5f"
            },
            "error_y": {
             "color": "#2a3f5f"
            },
            "marker": {
             "line": {
              "color": "#E5ECF6",
              "width": 0.5
             },
             "pattern": {
              "fillmode": "overlay",
              "size": 10,
              "solidity": 0.2
             }
            },
            "type": "bar"
           }
          ],
          "barpolar": [
           {
            "marker": {
             "line": {
              "color": "#E5ECF6",
              "width": 0.5
             },
             "pattern": {
              "fillmode": "overlay",
              "size": 10,
              "solidity": 0.2
             }
            },
            "type": "barpolar"
           }
          ],
          "carpet": [
           {
            "aaxis": {
             "endlinecolor": "#2a3f5f",
             "gridcolor": "white",
             "linecolor": "white",
             "minorgridcolor": "white",
             "startlinecolor": "#2a3f5f"
            },
            "baxis": {
             "endlinecolor": "#2a3f5f",
             "gridcolor": "white",
             "linecolor": "white",
             "minorgridcolor": "white",
             "startlinecolor": "#2a3f5f"
            },
            "type": "carpet"
           }
          ],
          "choropleth": [
           {
            "colorbar": {
             "outlinewidth": 0,
             "ticks": ""
            },
            "type": "choropleth"
           }
          ],
          "contour": [
           {
            "colorbar": {
             "outlinewidth": 0,
             "ticks": ""
            },
            "colorscale": [
             [
              0,
              "#0d0887"
             ],
             [
              0.1111111111111111,
              "#46039f"
             ],
             [
              0.2222222222222222,
              "#7201a8"
             ],
             [
              0.3333333333333333,
              "#9c179e"
             ],
             [
              0.4444444444444444,
              "#bd3786"
             ],
             [
              0.5555555555555556,
              "#d8576b"
             ],
             [
              0.6666666666666666,
              "#ed7953"
             ],
             [
              0.7777777777777778,
              "#fb9f3a"
             ],
             [
              0.8888888888888888,
              "#fdca26"
             ],
             [
              1,
              "#f0f921"
             ]
            ],
            "type": "contour"
           }
          ],
          "contourcarpet": [
           {
            "colorbar": {
             "outlinewidth": 0,
             "ticks": ""
            },
            "type": "contourcarpet"
           }
          ],
          "heatmap": [
           {
            "colorbar": {
             "outlinewidth": 0,
             "ticks": ""
            },
            "colorscale": [
             [
              0,
              "#0d0887"
             ],
             [
              0.1111111111111111,
              "#46039f"
             ],
             [
              0.2222222222222222,
              "#7201a8"
             ],
             [
              0.3333333333333333,
              "#9c179e"
             ],
             [
              0.4444444444444444,
              "#bd3786"
             ],
             [
              0.5555555555555556,
              "#d8576b"
             ],
             [
              0.6666666666666666,
              "#ed7953"
             ],
             [
              0.7777777777777778,
              "#fb9f3a"
             ],
             [
              0.8888888888888888,
              "#fdca26"
             ],
             [
              1,
              "#f0f921"
             ]
            ],
            "type": "heatmap"
           }
          ],
          "heatmapgl": [
           {
            "colorbar": {
             "outlinewidth": 0,
             "ticks": ""
            },
            "colorscale": [
             [
              0,
              "#0d0887"
             ],
             [
              0.1111111111111111,
              "#46039f"
             ],
             [
              0.2222222222222222,
              "#7201a8"
             ],
             [
              0.3333333333333333,
              "#9c179e"
             ],
             [
              0.4444444444444444,
              "#bd3786"
             ],
             [
              0.5555555555555556,
              "#d8576b"
             ],
             [
              0.6666666666666666,
              "#ed7953"
             ],
             [
              0.7777777777777778,
              "#fb9f3a"
             ],
             [
              0.8888888888888888,
              "#fdca26"
             ],
             [
              1,
              "#f0f921"
             ]
            ],
            "type": "heatmapgl"
           }
          ],
          "histogram": [
           {
            "marker": {
             "pattern": {
              "fillmode": "overlay",
              "size": 10,
              "solidity": 0.2
             }
            },
            "type": "histogram"
           }
          ],
          "histogram2d": [
           {
            "colorbar": {
             "outlinewidth": 0,
             "ticks": ""
            },
            "colorscale": [
             [
              0,
              "#0d0887"
             ],
             [
              0.1111111111111111,
              "#46039f"
             ],
             [
              0.2222222222222222,
              "#7201a8"
             ],
             [
              0.3333333333333333,
              "#9c179e"
             ],
             [
              0.4444444444444444,
              "#bd3786"
             ],
             [
              0.5555555555555556,
              "#d8576b"
             ],
             [
              0.6666666666666666,
              "#ed7953"
             ],
             [
              0.7777777777777778,
              "#fb9f3a"
             ],
             [
              0.8888888888888888,
              "#fdca26"
             ],
             [
              1,
              "#f0f921"
             ]
            ],
            "type": "histogram2d"
           }
          ],
          "histogram2dcontour": [
           {
            "colorbar": {
             "outlinewidth": 0,
             "ticks": ""
            },
            "colorscale": [
             [
              0,
              "#0d0887"
             ],
             [
              0.1111111111111111,
              "#46039f"
             ],
             [
              0.2222222222222222,
              "#7201a8"
             ],
             [
              0.3333333333333333,
              "#9c179e"
             ],
             [
              0.4444444444444444,
              "#bd3786"
             ],
             [
              0.5555555555555556,
              "#d8576b"
             ],
             [
              0.6666666666666666,
              "#ed7953"
             ],
             [
              0.7777777777777778,
              "#fb9f3a"
             ],
             [
              0.8888888888888888,
              "#fdca26"
             ],
             [
              1,
              "#f0f921"
             ]
            ],
            "type": "histogram2dcontour"
           }
          ],
          "mesh3d": [
           {
            "colorbar": {
             "outlinewidth": 0,
             "ticks": ""
            },
            "type": "mesh3d"
           }
          ],
          "parcoords": [
           {
            "line": {
             "colorbar": {
              "outlinewidth": 0,
              "ticks": ""
             }
            },
            "type": "parcoords"
           }
          ],
          "pie": [
           {
            "automargin": true,
            "type": "pie"
           }
          ],
          "scatter": [
           {
            "fillpattern": {
             "fillmode": "overlay",
             "size": 10,
             "solidity": 0.2
            },
            "type": "scatter"
           }
          ],
          "scatter3d": [
           {
            "line": {
             "colorbar": {
              "outlinewidth": 0,
              "ticks": ""
             }
            },
            "marker": {
             "colorbar": {
              "outlinewidth": 0,
              "ticks": ""
             }
            },
            "type": "scatter3d"
           }
          ],
          "scattercarpet": [
           {
            "marker": {
             "colorbar": {
              "outlinewidth": 0,
              "ticks": ""
             }
            },
            "type": "scattercarpet"
           }
          ],
          "scattergeo": [
           {
            "marker": {
             "colorbar": {
              "outlinewidth": 0,
              "ticks": ""
             }
            },
            "type": "scattergeo"
           }
          ],
          "scattergl": [
           {
            "marker": {
             "colorbar": {
              "outlinewidth": 0,
              "ticks": ""
             }
            },
            "type": "scattergl"
           }
          ],
          "scattermapbox": [
           {
            "marker": {
             "colorbar": {
              "outlinewidth": 0,
              "ticks": ""
             }
            },
            "type": "scattermapbox"
           }
          ],
          "scatterpolar": [
           {
            "marker": {
             "colorbar": {
              "outlinewidth": 0,
              "ticks": ""
             }
            },
            "type": "scatterpolar"
           }
          ],
          "scatterpolargl": [
           {
            "marker": {
             "colorbar": {
              "outlinewidth": 0,
              "ticks": ""
             }
            },
            "type": "scatterpolargl"
           }
          ],
          "scatterternary": [
           {
            "marker": {
             "colorbar": {
              "outlinewidth": 0,
              "ticks": ""
             }
            },
            "type": "scatterternary"
           }
          ],
          "surface": [
           {
            "colorbar": {
             "outlinewidth": 0,
             "ticks": ""
            },
            "colorscale": [
             [
              0,
              "#0d0887"
             ],
             [
              0.1111111111111111,
              "#46039f"
             ],
             [
              0.2222222222222222,
              "#7201a8"
             ],
             [
              0.3333333333333333,
              "#9c179e"
             ],
             [
              0.4444444444444444,
              "#bd3786"
             ],
             [
              0.5555555555555556,
              "#d8576b"
             ],
             [
              0.6666666666666666,
              "#ed7953"
             ],
             [
              0.7777777777777778,
              "#fb9f3a"
             ],
             [
              0.8888888888888888,
              "#fdca26"
             ],
             [
              1,
              "#f0f921"
             ]
            ],
            "type": "surface"
           }
          ],
          "table": [
           {
            "cells": {
             "fill": {
              "color": "#EBF0F8"
             },
             "line": {
              "color": "white"
             }
            },
            "header": {
             "fill": {
              "color": "#C8D4E3"
             },
             "line": {
              "color": "white"
             }
            },
            "type": "table"
           }
          ]
         },
         "layout": {
          "annotationdefaults": {
           "arrowcolor": "#2a3f5f",
           "arrowhead": 0,
           "arrowwidth": 1
          },
          "autotypenumbers": "strict",
          "coloraxis": {
           "colorbar": {
            "outlinewidth": 0,
            "ticks": ""
           }
          },
          "colorscale": {
           "diverging": [
            [
             0,
             "#8e0152"
            ],
            [
             0.1,
             "#c51b7d"
            ],
            [
             0.2,
             "#de77ae"
            ],
            [
             0.3,
             "#f1b6da"
            ],
            [
             0.4,
             "#fde0ef"
            ],
            [
             0.5,
             "#f7f7f7"
            ],
            [
             0.6,
             "#e6f5d0"
            ],
            [
             0.7,
             "#b8e186"
            ],
            [
             0.8,
             "#7fbc41"
            ],
            [
             0.9,
             "#4d9221"
            ],
            [
             1,
             "#276419"
            ]
           ],
           "sequential": [
            [
             0,
             "#0d0887"
            ],
            [
             0.1111111111111111,
             "#46039f"
            ],
            [
             0.2222222222222222,
             "#7201a8"
            ],
            [
             0.3333333333333333,
             "#9c179e"
            ],
            [
             0.4444444444444444,
             "#bd3786"
            ],
            [
             0.5555555555555556,
             "#d8576b"
            ],
            [
             0.6666666666666666,
             "#ed7953"
            ],
            [
             0.7777777777777778,
             "#fb9f3a"
            ],
            [
             0.8888888888888888,
             "#fdca26"
            ],
            [
             1,
             "#f0f921"
            ]
           ],
           "sequentialminus": [
            [
             0,
             "#0d0887"
            ],
            [
             0.1111111111111111,
             "#46039f"
            ],
            [
             0.2222222222222222,
             "#7201a8"
            ],
            [
             0.3333333333333333,
             "#9c179e"
            ],
            [
             0.4444444444444444,
             "#bd3786"
            ],
            [
             0.5555555555555556,
             "#d8576b"
            ],
            [
             0.6666666666666666,
             "#ed7953"
            ],
            [
             0.7777777777777778,
             "#fb9f3a"
            ],
            [
             0.8888888888888888,
             "#fdca26"
            ],
            [
             1,
             "#f0f921"
            ]
           ]
          },
          "colorway": [
           "#636efa",
           "#EF553B",
           "#00cc96",
           "#ab63fa",
           "#FFA15A",
           "#19d3f3",
           "#FF6692",
           "#B6E880",
           "#FF97FF",
           "#FECB52"
          ],
          "font": {
           "color": "#2a3f5f"
          },
          "geo": {
           "bgcolor": "white",
           "lakecolor": "white",
           "landcolor": "#E5ECF6",
           "showlakes": true,
           "showland": true,
           "subunitcolor": "white"
          },
          "hoverlabel": {
           "align": "left"
          },
          "hovermode": "closest",
          "mapbox": {
           "style": "light"
          },
          "paper_bgcolor": "white",
          "plot_bgcolor": "#E5ECF6",
          "polar": {
           "angularaxis": {
            "gridcolor": "white",
            "linecolor": "white",
            "ticks": ""
           },
           "bgcolor": "#E5ECF6",
           "radialaxis": {
            "gridcolor": "white",
            "linecolor": "white",
            "ticks": ""
           }
          },
          "scene": {
           "xaxis": {
            "backgroundcolor": "#E5ECF6",
            "gridcolor": "white",
            "gridwidth": 2,
            "linecolor": "white",
            "showbackground": true,
            "ticks": "",
            "zerolinecolor": "white"
           },
           "yaxis": {
            "backgroundcolor": "#E5ECF6",
            "gridcolor": "white",
            "gridwidth": 2,
            "linecolor": "white",
            "showbackground": true,
            "ticks": "",
            "zerolinecolor": "white"
           },
           "zaxis": {
            "backgroundcolor": "#E5ECF6",
            "gridcolor": "white",
            "gridwidth": 2,
            "linecolor": "white",
            "showbackground": true,
            "ticks": "",
            "zerolinecolor": "white"
           }
          },
          "shapedefaults": {
           "line": {
            "color": "#2a3f5f"
           }
          },
          "ternary": {
           "aaxis": {
            "gridcolor": "white",
            "linecolor": "white",
            "ticks": ""
           },
           "baxis": {
            "gridcolor": "white",
            "linecolor": "white",
            "ticks": ""
           },
           "bgcolor": "#E5ECF6",
           "caxis": {
            "gridcolor": "white",
            "linecolor": "white",
            "ticks": ""
           }
          },
          "title": {
           "x": 0.05
          },
          "xaxis": {
           "automargin": true,
           "gridcolor": "white",
           "linecolor": "white",
           "ticks": "",
           "title": {
            "standoff": 15
           },
           "zerolinecolor": "white",
           "zerolinewidth": 2
          },
          "yaxis": {
           "automargin": true,
           "gridcolor": "white",
           "linecolor": "white",
           "ticks": "",
           "title": {
            "standoff": 15
           },
           "zerolinecolor": "white",
           "zerolinewidth": 2
          }
         }
        },
        "title": {
         "text": "HHO - Characteristics"
        },
        "xaxis": {
         "anchor": "y",
         "domain": [
          0,
          0.45
         ]
        },
        "xaxis2": {
         "anchor": "y2",
         "domain": [
          0.55,
          1
         ]
        },
        "xaxis3": {
         "anchor": "y3",
         "domain": [
          0,
          0.45
         ]
        },
        "xaxis4": {
         "anchor": "y4",
         "domain": [
          0.55,
          1
         ]
        },
        "yaxis": {
         "anchor": "x",
         "domain": [
          0.625,
          1
         ]
        },
        "yaxis2": {
         "anchor": "x2",
         "domain": [
          0.625,
          1
         ]
        },
        "yaxis3": {
         "anchor": "x3",
         "domain": [
          0,
          0.375
         ]
        },
        "yaxis4": {
         "anchor": "x4",
         "domain": [
          0,
          0.375
         ]
        }
       }
      },
      "text/html": [
       "<div>                            <div id=\"c7c88f04-5f4f-47ff-ad87-a7a9e81937d7\" class=\"plotly-graph-div\" style=\"height:525px; width:100%;\"></div>            <script type=\"text/javascript\">                require([\"plotly\"], function(Plotly) {                    window.PLOTLYENV=window.PLOTLYENV || {};                                    if (document.getElementById(\"c7c88f04-5f4f-47ff-ad87-a7a9e81937d7\")) {                    Plotly.newPlot(                        \"c7c88f04-5f4f-47ff-ad87-a7a9e81937d7\",                        [{\"name\":\"#Replicator\",\"x\":[0.0,1.0,2.0,3.0,4.0,5.0,6.0,7.0,8.0,9.0,10.0,11.0,12.0,13.0,14.0,15.0,16.0,17.0,18.0,19.0,20.0,21.0,22.0,23.0,24.0,25.0,26.0,27.0,28.0,29.0,30.0,31.0,32.0,33.0,34.0,35.0,36.0,37.0,38.0,39.0,40.0,41.0,42.0,43.0,44.0,45.0,46.0,47.0,48.0,49.0,50.0,51.0,52.0,53.0,54.0,55.0,56.0,57.0,58.0,59.0,60.0,61.0,62.0,63.0,64.0,65.0,66.0,67.0,68.0,69.0,70.0,71.0,72.0,73.0,74.0],\"y\":[1.0,1.0,1.0,1.0,1.0,1.0,3.0,3.0,3.0,5.0,5.0,5.0,7.0,9.0,11.0,13.0,17.0,21.0,24.0,34.0,42.0,48.0,49.0,50.0,54.0,63.0,75.0,81.0,88.0,96.0,108.0,125.0,139.0,155.0,176.0,195.0,204.0,205.0,205.0,205.0,205.0,205.0,205.0,205.0,205.0,205.0,205.0,205.0,205.0,205.0,205.0,205.0,205.0,205.0,205.0,205.0,205.0,205.0,205.0,205.0,205.0,205.0,205.0,205.0,205.0,205.0,205.0,205.0,205.0,205.0,205.0,205.0,205.0,205.0,205.0],\"type\":\"bar\",\"xaxis\":\"x\",\"yaxis\":\"y\"},{\"name\":\"#Normal\",\"x\":[0.0,1.0,2.0,3.0,4.0,5.0,6.0,7.0,8.0,9.0,10.0,11.0,12.0,13.0,14.0,15.0,16.0,17.0,18.0,19.0,20.0,21.0,22.0,23.0,24.0,25.0,26.0,27.0,28.0,29.0,30.0,31.0,32.0,33.0,34.0,35.0,36.0,37.0,38.0,39.0,40.0,41.0,42.0,43.0,44.0,45.0,46.0,47.0,48.0,49.0,50.0,51.0,52.0,53.0,54.0,55.0,56.0,57.0,58.0,59.0,60.0,61.0,62.0,63.0,64.0,65.0,66.0,67.0,68.0,69.0,70.0,71.0,72.0,73.0,74.0],\"y\":[0.0,0.0,0.0,0.0,0.0,0.0,0.0,0.0,2.0,2.0,4.0,4.0,4.0,6.0,8.0,8.0,12.0,16.0,18.0,18.0,18.0,19.0,21.0,22.0,22.0,24.0,28.0,34.0,34.0,38.0,40.0,43.0,43.0,46.0,49.0,52.0,58.0,65.0,68.0,70.0,71.0,71.0,71.0,71.0,71.0,71.0,71.0,71.0,71.0,71.0,71.0,71.0,71.0,71.0,71.0,71.0,71.0,71.0,71.0,71.0,71.0,71.0,71.0,71.0,71.0,71.0,71.0,71.0,71.0,71.0,71.0,71.0,71.0,71.0,71.0],\"type\":\"bar\",\"xaxis\":\"x\",\"yaxis\":\"y\"},{\"name\":\"#Assembler\",\"x\":[0.0,1.0,2.0,3.0,4.0,5.0,6.0,7.0,8.0,9.0,10.0,11.0,12.0,13.0,14.0,15.0,16.0,17.0,18.0,19.0,20.0,21.0,22.0,23.0,24.0,25.0,26.0,27.0,28.0,29.0,30.0,31.0,32.0,33.0,34.0,35.0,36.0,37.0,38.0,39.0,40.0,41.0,42.0,43.0,44.0,45.0,46.0,47.0,48.0,49.0,50.0,51.0,52.0,53.0,54.0,55.0,56.0,57.0,58.0,59.0,60.0,61.0,62.0,63.0,64.0,65.0,66.0,67.0,68.0,69.0,70.0,71.0,72.0,73.0,74.0],\"y\":[0.0,0.0,0.0,0.0,0.0,0.0,0.0,0.0,0.0,0.0,0.0,0.0,0.0,0.0,0.0,0.0,0.0,0.0,0.0,0.0,0.0,0.0,0.0,0.0,0.0,0.0,0.0,0.0,0.0,0.0,0.0,0.0,0.0,0.0,0.0,0.0,0.0,0.0,0.0,0.0,0.0,0.0,0.0,0.0,0.0,0.0,0.0,0.0,0.0,0.0,0.0,0.0,0.0,0.0,0.0,0.0,0.0,0.0,0.0,0.0,0.0,0.0,0.0,0.0,0.0,0.0,0.0,0.0,0.0,0.0,0.0,0.0,0.0,0.0,0.0],\"type\":\"bar\",\"xaxis\":\"x\",\"yaxis\":\"y\"},{\"name\":\"#Printer\",\"x\":[0.0,1.0,2.0,3.0,4.0,5.0,6.0,7.0,8.0,9.0,10.0,11.0,12.0,13.0,14.0,15.0,16.0,17.0,18.0,19.0,20.0,21.0,22.0,23.0,24.0,25.0,26.0,27.0,28.0,29.0,30.0,31.0,32.0,33.0,34.0,35.0,36.0,37.0,38.0,39.0,40.0,41.0,42.0,43.0,44.0,45.0,46.0,47.0,48.0,49.0,50.0,51.0,52.0,53.0,54.0,55.0,56.0,57.0,58.0,59.0,60.0,61.0,62.0,63.0,64.0,65.0,66.0,67.0,68.0,69.0,70.0,71.0,72.0,73.0,74.0],\"y\":[0.0,0.0,0.0,0.0,0.0,0.0,0.0,0.0,0.0,0.0,0.0,0.0,0.0,0.0,0.0,0.0,0.0,0.0,0.0,0.0,0.0,0.0,0.0,0.0,0.0,0.0,0.0,0.0,0.0,0.0,0.0,0.0,0.0,0.0,0.0,0.0,0.0,0.0,0.0,0.0,0.0,0.0,0.0,0.0,0.0,0.0,0.0,0.0,0.0,0.0,0.0,0.0,0.0,0.0,0.0,0.0,0.0,0.0,0.0,0.0,0.0,0.0,0.0,0.0,0.0,0.0,0.0,0.0,0.0,0.0,0.0,0.0,0.0,0.0,0.0],\"type\":\"bar\",\"xaxis\":\"x\",\"yaxis\":\"y\"},{\"name\":\"#Assembling\",\"x\":[0.0,1.0,2.0,3.0,4.0,5.0,6.0,7.0,8.0,9.0,10.0,11.0,12.0,13.0,14.0,15.0,16.0,17.0,18.0,19.0,20.0,21.0,22.0,23.0,24.0,25.0,26.0,27.0,28.0,29.0,30.0,31.0,32.0,33.0,34.0,35.0,36.0,37.0,38.0,39.0,40.0,41.0,42.0,43.0,44.0,45.0,46.0,47.0,48.0,49.0,50.0,51.0,52.0,53.0,54.0,55.0,56.0,57.0,58.0,59.0,60.0,61.0,62.0,63.0,64.0,65.0,66.0,67.0,68.0,69.0,70.0,71.0,72.0,73.0,74.0],\"y\":[1.0,1.0,1.0,1.0,1.0,1.0,3.0,3.0,3.0,5.0,5.0,5.0,7.0,9.0,11.0,13.0,15.0,11.0,11.0,12.0,10.0,11.0,12.0,16.0,22.0,24.0,22.0,21.0,28.0,31.0,36.0,36.0,44.0,50.0,53.0,36.0,18.0,7.0,3.0,1.0,0.0,0.0,0.0,0.0,0.0,0.0,0.0,0.0,0.0,0.0,0.0,0.0,0.0,0.0,0.0,0.0,0.0,0.0,0.0,0.0,0.0,0.0,0.0,0.0,0.0,0.0,0.0,0.0,0.0,0.0,0.0,0.0,0.0,0.0,0.0],\"type\":\"bar\",\"xaxis\":\"x3\",\"yaxis\":\"y3\"},{\"name\":\"#Printing\",\"x\":[0.0,1.0,2.0,3.0,4.0,5.0,6.0,7.0,8.0,9.0,10.0,11.0,12.0,13.0,14.0,15.0,16.0,17.0,18.0,19.0,20.0,21.0,22.0,23.0,24.0,25.0,26.0,27.0,28.0,29.0,30.0,31.0,32.0,33.0,34.0,35.0,36.0,37.0,38.0,39.0,40.0,41.0,42.0,43.0,44.0,45.0,46.0,47.0,48.0,49.0,50.0,51.0,52.0,53.0,54.0,55.0,56.0,57.0,58.0,59.0,60.0,61.0,62.0,63.0,64.0,65.0,66.0,67.0,68.0,69.0,70.0,71.0,72.0,73.0,74.0],\"y\":[0.0,0.0,0.0,0.0,0.0,0.0,0.0,0.0,0.0,0.0,0.0,0.0,0.0,0.0,0.0,0.0,2.0,10.0,12.0,22.0,30.0,37.0,36.0,33.0,32.0,38.0,51.0,58.0,59.0,63.0,70.0,86.0,91.0,103.0,116.0,135.0,14.0,0.0,0.0,0.0,0.0,0.0,0.0,0.0,0.0,0.0,0.0,0.0,0.0,0.0,0.0,0.0,0.0,0.0,0.0,0.0,0.0,0.0,0.0,0.0,0.0,0.0,0.0,0.0,0.0,0.0,0.0,0.0,0.0,0.0,0.0,0.0,0.0,0.0,0.0],\"type\":\"bar\",\"xaxis\":\"x3\",\"yaxis\":\"y3\"},{\"name\":\"#Collecting\",\"x\":[0.0,1.0,2.0,3.0,4.0,5.0,6.0,7.0,8.0,9.0,10.0,11.0,12.0,13.0,14.0,15.0,16.0,17.0,18.0,19.0,20.0,21.0,22.0,23.0,24.0,25.0,26.0,27.0,28.0,29.0,30.0,31.0,32.0,33.0,34.0,35.0,36.0,37.0,38.0,39.0,40.0,41.0,42.0,43.0,44.0,45.0,46.0,47.0,48.0,49.0,50.0,51.0,52.0,53.0,54.0,55.0,56.0,57.0,58.0,59.0,60.0,61.0,62.0,63.0,64.0,65.0,66.0,67.0,68.0,69.0,70.0,71.0,72.0,73.0,74.0],\"y\":[0.0,0.0,0.0,0.0,0.0,0.0,0.0,0.0,2.0,2.0,4.0,4.0,4.0,6.0,8.0,8.0,12.0,16.0,18.0,18.0,18.0,18.0,21.0,21.0,22.0,24.0,28.0,34.0,34.0,36.0,40.0,42.0,43.0,36.0,0.0,0.0,0.0,0.0,0.0,0.0,0.0,0.0,0.0,0.0,0.0,0.0,0.0,0.0,0.0,0.0,0.0,0.0,0.0,0.0,0.0,0.0,0.0,0.0,0.0,0.0,0.0,0.0,0.0,0.0,0.0,0.0,0.0,0.0,0.0,0.0,0.0,0.0,0.0,0.0,0.0],\"type\":\"bar\",\"xaxis\":\"x3\",\"yaxis\":\"y3\"},{\"name\":\"#Idle\",\"x\":[0.0,1.0,2.0,3.0,4.0,5.0,6.0,7.0,8.0,9.0,10.0,11.0,12.0,13.0,14.0,15.0,16.0,17.0,18.0,19.0,20.0,21.0,22.0,23.0,24.0,25.0,26.0,27.0,28.0,29.0,30.0,31.0,32.0,33.0,34.0,35.0,36.0,37.0,38.0,39.0,40.0,41.0,42.0,43.0,44.0,45.0,46.0,47.0,48.0,49.0,50.0,51.0,52.0,53.0,54.0,55.0,56.0,57.0,58.0,59.0,60.0,61.0,62.0,63.0,64.0,65.0,66.0,67.0,68.0,69.0,70.0,71.0,72.0,73.0,74.0],\"y\":[0.0,0.0,0.0,0.0,0.0,0.0,0.0,0.0,0.0,0.0,0.0,0.0,0.0,0.0,0.0,0.0,0.0,0.0,1.0,0.0,2.0,1.0,1.0,2.0,0.0,1.0,2.0,2.0,1.0,4.0,2.0,4.0,4.0,12.0,56.0,76.0,230.0,263.0,270.0,274.0,276.0,276.0,276.0,276.0,276.0,276.0,276.0,276.0,276.0,276.0,276.0,276.0,276.0,276.0,276.0,276.0,276.0,276.0,276.0,276.0,276.0,276.0,276.0,276.0,276.0,276.0,276.0,276.0,276.0,276.0,276.0,276.0,276.0,276.0,276.0],\"type\":\"bar\",\"xaxis\":\"x3\",\"yaxis\":\"y3\"},{\"mode\":\"lines\",\"name\":\"NonPr\",\"x\":[0.0,1.0,2.0,3.0,4.0,5.0,6.0,7.0,8.0,9.0,10.0,11.0,12.0,13.0,14.0,15.0,16.0,17.0,18.0,19.0,20.0,21.0,22.0,23.0,24.0,25.0,26.0,27.0,28.0,29.0,30.0,31.0,32.0,33.0,34.0,35.0,36.0,37.0,38.0,39.0,40.0,41.0,42.0,43.0,44.0,45.0,46.0,47.0,48.0,49.0,50.0,51.0,52.0,53.0,54.0,55.0,56.0,57.0,58.0,59.0,60.0,61.0,62.0,63.0,64.0,65.0,66.0,67.0,68.0,69.0,70.0,71.0,72.0,73.0,74.0],\"y\":[297.0,297.0,297.0,297.0,297.0,297.0,293.0,293.0,290.0,286.0,283.0,283.0,279.0,272.0,265.0,261.0,250.0,248.0,245.0,239.0,233.0,222.0,216.0,204.0,197.0,188.0,175.0,160.0,145.0,128.0,111.0,89.0,67.0,41.0,11.0,0.0,0.0,0.0,0.0,0.0,0.0,0.0,0.0,0.0,0.0,0.0,0.0,0.0,0.0,0.0,0.0,0.0,0.0,0.0,0.0,0.0,0.0,0.0,0.0,0.0,0.0,0.0,0.0,0.0,0.0,0.0,0.0,0.0,0.0,0.0,0.0,0.0,0.0,0.0,0.0],\"type\":\"scatter\",\"xaxis\":\"x2\",\"yaxis\":\"y2\"},{\"mode\":\"lines\",\"name\":\"Printable\",\"x\":[0.0,1.0,2.0,3.0,4.0,5.0,6.0,7.0,8.0,9.0,10.0,11.0,12.0,13.0,14.0,15.0,16.0,17.0,18.0,19.0,20.0,21.0,22.0,23.0,24.0,25.0,26.0,27.0,28.0,29.0,30.0,31.0,32.0,33.0,34.0,35.0,36.0,37.0,38.0,39.0,40.0,41.0,42.0,43.0,44.0,45.0,46.0,47.0,48.0,49.0,50.0,51.0,52.0,53.0,54.0,55.0,56.0,57.0,58.0,59.0,60.0,61.0,62.0,63.0,64.0,65.0,66.0,67.0,68.0,69.0,70.0,71.0,72.0,73.0,74.0],\"y\":[94.0,94.0,94.0,94.0,94.0,94.0,86.0,86.0,80.0,72.0,66.0,66.0,58.0,44.0,30.0,22.0,1.0,2.0,2.0,1.0,4.0,1.0,7.0,0.0,2.0,3.0,2.0,2.0,2.0,0.0,1.0,1.0,2.0,2.0,0.0,49.0,49.0,49.0,49.0,49.0,49.0,49.0,49.0,49.0,49.0,49.0,49.0,49.0,49.0,49.0,49.0,49.0,49.0,49.0,49.0,49.0,49.0,49.0,49.0,49.0,49.0,49.0,49.0,49.0,49.0,49.0,49.0,49.0,49.0,49.0,49.0,49.0,49.0,49.0,49.0],\"type\":\"scatter\",\"xaxis\":\"x2\",\"yaxis\":\"y2\"},{\"mode\":\"lines\",\"name\":\"Materials\",\"x\":[0.0,1.0,2.0,3.0,4.0,5.0,6.0,7.0,8.0,9.0,10.0,11.0,12.0,13.0,14.0,15.0,16.0,17.0,18.0,19.0,20.0,21.0,22.0,23.0,24.0,25.0,26.0,27.0,28.0,29.0,30.0,31.0,32.0,33.0,34.0,35.0,36.0,37.0,38.0,39.0,40.0,41.0,42.0,43.0,44.0,45.0,46.0,47.0,48.0,49.0,50.0,51.0,52.0,53.0,54.0,55.0,56.0,57.0,58.0,59.0,60.0,61.0,62.0,63.0,64.0,65.0,66.0,67.0,68.0,69.0,70.0,71.0,72.0,73.0,74.0],\"y\":[50.0,50.0,50.0,50.0,50.0,50.0,50.0,50.0,51.0,53.0,56.0,60.0,64.0,69.0,76.0,84.0,93.0,102.0,113.0,120.0,123.0,122.0,124.0,128.0,134.0,138.0,139.0,140.0,144.0,147.0,151.0,148.0,146.0,130.0,72.0,1.0,1.0,1.0,1.0,1.0,1.0,1.0,1.0,1.0,1.0,1.0,1.0,1.0,1.0,1.0,1.0,1.0,1.0,1.0,1.0,1.0,1.0,1.0,1.0,1.0,1.0,1.0,1.0,1.0,1.0,1.0,1.0,1.0,1.0,1.0,1.0,1.0,1.0,1.0,1.0],\"type\":\"scatter\",\"xaxis\":\"x2\",\"yaxis\":\"y2\"},{\"mode\":\"lines\",\"name\":\"Env_Materials\",\"x\":[0.0,1.0,2.0,3.0,4.0,5.0,6.0,7.0,8.0,9.0,10.0,11.0,12.0,13.0,14.0,15.0,16.0,17.0,18.0,19.0,20.0,21.0,22.0,23.0,24.0,25.0,26.0,27.0,28.0,29.0,30.0,31.0,32.0,33.0,34.0,35.0,36.0,37.0,38.0,39.0,40.0,41.0,42.0,43.0,44.0,45.0,46.0,47.0,48.0,49.0,50.0,51.0,52.0,53.0,54.0,55.0,56.0,57.0,58.0,59.0,60.0,61.0,62.0,63.0,64.0,65.0,66.0,67.0,68.0,69.0,70.0,71.0,72.0,73.0,74.0],\"y\":[500.0,500.0,500.0,500.0,500.0,500.0,500.0,500.0,499.0,497.0,494.0,490.0,486.0,481.0,474.0,466.0,456.0,442.0,425.0,407.0,389.0,371.0,351.0,330.0,308.0,285.0,259.0,228.0,194.0,159.0,120.0,79.0,36.0,0.0,0.0,0.0,0.0,0.0,0.0,0.0,0.0,0.0,0.0,0.0,0.0,0.0,0.0,0.0,0.0,0.0,0.0,0.0,0.0,0.0,0.0,0.0,0.0,0.0,0.0,0.0,0.0,0.0,0.0,0.0,0.0,0.0,0.0,0.0,0.0,0.0,0.0,0.0,0.0,0.0,0.0],\"type\":\"scatter\",\"xaxis\":\"x2\",\"yaxis\":\"y2\"},{\"mode\":\"lines\",\"name\":\"Avg. Quality #in\",\"x\":[0.0,1.0,2.0,3.0,4.0,5.0,6.0,7.0,8.0,9.0,10.0,11.0,12.0,13.0,14.0,15.0,16.0,17.0,18.0,19.0,20.0,21.0,22.0,23.0,24.0,25.0,26.0,27.0,28.0,29.0,30.0,31.0,32.0,33.0,34.0,35.0,36.0,37.0,38.0,39.0,40.0,41.0,42.0,43.0,44.0,45.0,46.0,47.0,48.0,49.0,50.0,51.0,52.0,53.0,54.0,55.0,56.0,57.0,58.0,59.0,60.0,61.0,62.0,63.0,64.0,65.0,66.0,67.0,68.0,69.0,70.0,71.0,72.0,73.0,74.0],\"y\":[0.918,0.918,0.918,0.918,0.918,0.918,0.933,0.933,0.89,0.913,0.887,0.887,0.905,0.88,0.892,0.888,0.877,0.862,0.825,0.806,0.767,0.746,0.733,0.713,0.713,0.697,0.696,0.683,0.679,0.655,0.646,0.635,0.623,0.615,0.592,0.565,0.551,0.544,0.544,0.54,0.538,0.538,0.538,0.538,0.538,0.538,0.538,0.538,0.538,0.538,0.538,0.538,0.538,0.538,0.538,0.538,0.538,0.538,0.538,0.538,0.538,0.538,0.538,0.538,0.538,0.538,0.538,0.538,0.538,0.538,0.538,0.538,0.538,0.538,0.538],\"type\":\"scatter\",\"xaxis\":\"x4\",\"yaxis\":\"y4\"},{\"mode\":\"lines\",\"name\":\"Avg. Quality #total\",\"x\":[0.0,1.0,2.0,3.0,4.0,5.0,6.0,7.0,8.0,9.0,10.0,11.0,12.0,13.0,14.0,15.0,16.0,17.0,18.0,19.0,20.0,21.0,22.0,23.0,24.0,25.0,26.0,27.0,28.0,29.0,30.0,31.0,32.0,33.0,34.0,35.0,36.0,37.0,38.0,39.0,40.0,41.0,42.0,43.0,44.0,45.0,46.0,47.0,48.0,49.0,50.0,51.0,52.0,53.0,54.0,55.0,56.0,57.0,58.0,59.0,60.0,61.0,62.0,63.0,64.0,65.0,66.0,67.0,68.0,69.0,70.0,71.0,72.0,73.0,74.0],\"y\":[0.918,0.918,0.918,0.918,0.918,0.918,0.933,0.933,0.89,0.913,0.887,0.887,0.905,0.88,0.892,0.888,0.877,0.862,0.835,0.813,0.79,0.769,0.763,0.751,0.749,0.734,0.735,0.725,0.72,0.703,0.694,0.686,0.681,0.674,0.658,0.642,0.633,0.629,0.629,0.628,0.627,0.627,0.627,0.627,0.627,0.627,0.627,0.627,0.627,0.627,0.627,0.627,0.627,0.627,0.627,0.627,0.627,0.627,0.627,0.627,0.627,0.627,0.627,0.627,0.627,0.627,0.627,0.627,0.627,0.627,0.627,0.627,0.627,0.627,0.627],\"type\":\"scatter\",\"xaxis\":\"x4\",\"yaxis\":\"y4\"}],                        {\"template\":{\"data\":{\"histogram2dcontour\":[{\"type\":\"histogram2dcontour\",\"colorbar\":{\"outlinewidth\":0,\"ticks\":\"\"},\"colorscale\":[[0.0,\"#0d0887\"],[0.1111111111111111,\"#46039f\"],[0.2222222222222222,\"#7201a8\"],[0.3333333333333333,\"#9c179e\"],[0.4444444444444444,\"#bd3786\"],[0.5555555555555556,\"#d8576b\"],[0.6666666666666666,\"#ed7953\"],[0.7777777777777778,\"#fb9f3a\"],[0.8888888888888888,\"#fdca26\"],[1.0,\"#f0f921\"]]}],\"choropleth\":[{\"type\":\"choropleth\",\"colorbar\":{\"outlinewidth\":0,\"ticks\":\"\"}}],\"histogram2d\":[{\"type\":\"histogram2d\",\"colorbar\":{\"outlinewidth\":0,\"ticks\":\"\"},\"colorscale\":[[0.0,\"#0d0887\"],[0.1111111111111111,\"#46039f\"],[0.2222222222222222,\"#7201a8\"],[0.3333333333333333,\"#9c179e\"],[0.4444444444444444,\"#bd3786\"],[0.5555555555555556,\"#d8576b\"],[0.6666666666666666,\"#ed7953\"],[0.7777777777777778,\"#fb9f3a\"],[0.8888888888888888,\"#fdca26\"],[1.0,\"#f0f921\"]]}],\"heatmap\":[{\"type\":\"heatmap\",\"colorbar\":{\"outlinewidth\":0,\"ticks\":\"\"},\"colorscale\":[[0.0,\"#0d0887\"],[0.1111111111111111,\"#46039f\"],[0.2222222222222222,\"#7201a8\"],[0.3333333333333333,\"#9c179e\"],[0.4444444444444444,\"#bd3786\"],[0.5555555555555556,\"#d8576b\"],[0.6666666666666666,\"#ed7953\"],[0.7777777777777778,\"#fb9f3a\"],[0.8888888888888888,\"#fdca26\"],[1.0,\"#f0f921\"]]}],\"heatmapgl\":[{\"type\":\"heatmapgl\",\"colorbar\":{\"outlinewidth\":0,\"ticks\":\"\"},\"colorscale\":[[0.0,\"#0d0887\"],[0.1111111111111111,\"#46039f\"],[0.2222222222222222,\"#7201a8\"],[0.3333333333333333,\"#9c179e\"],[0.4444444444444444,\"#bd3786\"],[0.5555555555555556,\"#d8576b\"],[0.6666666666666666,\"#ed7953\"],[0.7777777777777778,\"#fb9f3a\"],[0.8888888888888888,\"#fdca26\"],[1.0,\"#f0f921\"]]}],\"contourcarpet\":[{\"type\":\"contourcarpet\",\"colorbar\":{\"outlinewidth\":0,\"ticks\":\"\"}}],\"contour\":[{\"type\":\"contour\",\"colorbar\":{\"outlinewidth\":0,\"ticks\":\"\"},\"colorscale\":[[0.0,\"#0d0887\"],[0.1111111111111111,\"#46039f\"],[0.2222222222222222,\"#7201a8\"],[0.3333333333333333,\"#9c179e\"],[0.4444444444444444,\"#bd3786\"],[0.5555555555555556,\"#d8576b\"],[0.6666666666666666,\"#ed7953\"],[0.7777777777777778,\"#fb9f3a\"],[0.8888888888888888,\"#fdca26\"],[1.0,\"#f0f921\"]]}],\"surface\":[{\"type\":\"surface\",\"colorbar\":{\"outlinewidth\":0,\"ticks\":\"\"},\"colorscale\":[[0.0,\"#0d0887\"],[0.1111111111111111,\"#46039f\"],[0.2222222222222222,\"#7201a8\"],[0.3333333333333333,\"#9c179e\"],[0.4444444444444444,\"#bd3786\"],[0.5555555555555556,\"#d8576b\"],[0.6666666666666666,\"#ed7953\"],[0.7777777777777778,\"#fb9f3a\"],[0.8888888888888888,\"#fdca26\"],[1.0,\"#f0f921\"]]}],\"mesh3d\":[{\"type\":\"mesh3d\",\"colorbar\":{\"outlinewidth\":0,\"ticks\":\"\"}}],\"scatter\":[{\"fillpattern\":{\"fillmode\":\"overlay\",\"size\":10,\"solidity\":0.2},\"type\":\"scatter\"}],\"parcoords\":[{\"type\":\"parcoords\",\"line\":{\"colorbar\":{\"outlinewidth\":0,\"ticks\":\"\"}}}],\"scatterpolargl\":[{\"type\":\"scatterpolargl\",\"marker\":{\"colorbar\":{\"outlinewidth\":0,\"ticks\":\"\"}}}],\"bar\":[{\"error_x\":{\"color\":\"#2a3f5f\"},\"error_y\":{\"color\":\"#2a3f5f\"},\"marker\":{\"line\":{\"color\":\"#E5ECF6\",\"width\":0.5},\"pattern\":{\"fillmode\":\"overlay\",\"size\":10,\"solidity\":0.2}},\"type\":\"bar\"}],\"scattergeo\":[{\"type\":\"scattergeo\",\"marker\":{\"colorbar\":{\"outlinewidth\":0,\"ticks\":\"\"}}}],\"scatterpolar\":[{\"type\":\"scatterpolar\",\"marker\":{\"colorbar\":{\"outlinewidth\":0,\"ticks\":\"\"}}}],\"histogram\":[{\"marker\":{\"pattern\":{\"fillmode\":\"overlay\",\"size\":10,\"solidity\":0.2}},\"type\":\"histogram\"}],\"scattergl\":[{\"type\":\"scattergl\",\"marker\":{\"colorbar\":{\"outlinewidth\":0,\"ticks\":\"\"}}}],\"scatter3d\":[{\"type\":\"scatter3d\",\"line\":{\"colorbar\":{\"outlinewidth\":0,\"ticks\":\"\"}},\"marker\":{\"colorbar\":{\"outlinewidth\":0,\"ticks\":\"\"}}}],\"scattermapbox\":[{\"type\":\"scattermapbox\",\"marker\":{\"colorbar\":{\"outlinewidth\":0,\"ticks\":\"\"}}}],\"scatterternary\":[{\"type\":\"scatterternary\",\"marker\":{\"colorbar\":{\"outlinewidth\":0,\"ticks\":\"\"}}}],\"scattercarpet\":[{\"type\":\"scattercarpet\",\"marker\":{\"colorbar\":{\"outlinewidth\":0,\"ticks\":\"\"}}}],\"carpet\":[{\"aaxis\":{\"endlinecolor\":\"#2a3f5f\",\"gridcolor\":\"white\",\"linecolor\":\"white\",\"minorgridcolor\":\"white\",\"startlinecolor\":\"#2a3f5f\"},\"baxis\":{\"endlinecolor\":\"#2a3f5f\",\"gridcolor\":\"white\",\"linecolor\":\"white\",\"minorgridcolor\":\"white\",\"startlinecolor\":\"#2a3f5f\"},\"type\":\"carpet\"}],\"table\":[{\"cells\":{\"fill\":{\"color\":\"#EBF0F8\"},\"line\":{\"color\":\"white\"}},\"header\":{\"fill\":{\"color\":\"#C8D4E3\"},\"line\":{\"color\":\"white\"}},\"type\":\"table\"}],\"barpolar\":[{\"marker\":{\"line\":{\"color\":\"#E5ECF6\",\"width\":0.5},\"pattern\":{\"fillmode\":\"overlay\",\"size\":10,\"solidity\":0.2}},\"type\":\"barpolar\"}],\"pie\":[{\"automargin\":true,\"type\":\"pie\"}]},\"layout\":{\"autotypenumbers\":\"strict\",\"colorway\":[\"#636efa\",\"#EF553B\",\"#00cc96\",\"#ab63fa\",\"#FFA15A\",\"#19d3f3\",\"#FF6692\",\"#B6E880\",\"#FF97FF\",\"#FECB52\"],\"font\":{\"color\":\"#2a3f5f\"},\"hovermode\":\"closest\",\"hoverlabel\":{\"align\":\"left\"},\"paper_bgcolor\":\"white\",\"plot_bgcolor\":\"#E5ECF6\",\"polar\":{\"bgcolor\":\"#E5ECF6\",\"angularaxis\":{\"gridcolor\":\"white\",\"linecolor\":\"white\",\"ticks\":\"\"},\"radialaxis\":{\"gridcolor\":\"white\",\"linecolor\":\"white\",\"ticks\":\"\"}},\"ternary\":{\"bgcolor\":\"#E5ECF6\",\"aaxis\":{\"gridcolor\":\"white\",\"linecolor\":\"white\",\"ticks\":\"\"},\"baxis\":{\"gridcolor\":\"white\",\"linecolor\":\"white\",\"ticks\":\"\"},\"caxis\":{\"gridcolor\":\"white\",\"linecolor\":\"white\",\"ticks\":\"\"}},\"coloraxis\":{\"colorbar\":{\"outlinewidth\":0,\"ticks\":\"\"}},\"colorscale\":{\"sequential\":[[0.0,\"#0d0887\"],[0.1111111111111111,\"#46039f\"],[0.2222222222222222,\"#7201a8\"],[0.3333333333333333,\"#9c179e\"],[0.4444444444444444,\"#bd3786\"],[0.5555555555555556,\"#d8576b\"],[0.6666666666666666,\"#ed7953\"],[0.7777777777777778,\"#fb9f3a\"],[0.8888888888888888,\"#fdca26\"],[1.0,\"#f0f921\"]],\"sequentialminus\":[[0.0,\"#0d0887\"],[0.1111111111111111,\"#46039f\"],[0.2222222222222222,\"#7201a8\"],[0.3333333333333333,\"#9c179e\"],[0.4444444444444444,\"#bd3786\"],[0.5555555555555556,\"#d8576b\"],[0.6666666666666666,\"#ed7953\"],[0.7777777777777778,\"#fb9f3a\"],[0.8888888888888888,\"#fdca26\"],[1.0,\"#f0f921\"]],\"diverging\":[[0,\"#8e0152\"],[0.1,\"#c51b7d\"],[0.2,\"#de77ae\"],[0.3,\"#f1b6da\"],[0.4,\"#fde0ef\"],[0.5,\"#f7f7f7\"],[0.6,\"#e6f5d0\"],[0.7,\"#b8e186\"],[0.8,\"#7fbc41\"],[0.9,\"#4d9221\"],[1,\"#276419\"]]},\"xaxis\":{\"gridcolor\":\"white\",\"linecolor\":\"white\",\"ticks\":\"\",\"title\":{\"standoff\":15},\"zerolinecolor\":\"white\",\"automargin\":true,\"zerolinewidth\":2},\"yaxis\":{\"gridcolor\":\"white\",\"linecolor\":\"white\",\"ticks\":\"\",\"title\":{\"standoff\":15},\"zerolinecolor\":\"white\",\"automargin\":true,\"zerolinewidth\":2},\"scene\":{\"xaxis\":{\"backgroundcolor\":\"#E5ECF6\",\"gridcolor\":\"white\",\"linecolor\":\"white\",\"showbackground\":true,\"ticks\":\"\",\"zerolinecolor\":\"white\",\"gridwidth\":2},\"yaxis\":{\"backgroundcolor\":\"#E5ECF6\",\"gridcolor\":\"white\",\"linecolor\":\"white\",\"showbackground\":true,\"ticks\":\"\",\"zerolinecolor\":\"white\",\"gridwidth\":2},\"zaxis\":{\"backgroundcolor\":\"#E5ECF6\",\"gridcolor\":\"white\",\"linecolor\":\"white\",\"showbackground\":true,\"ticks\":\"\",\"zerolinecolor\":\"white\",\"gridwidth\":2}},\"shapedefaults\":{\"line\":{\"color\":\"#2a3f5f\"}},\"annotationdefaults\":{\"arrowcolor\":\"#2a3f5f\",\"arrowhead\":0,\"arrowwidth\":1},\"geo\":{\"bgcolor\":\"white\",\"landcolor\":\"#E5ECF6\",\"subunitcolor\":\"white\",\"showland\":true,\"showlakes\":true,\"lakecolor\":\"white\"},\"title\":{\"x\":0.05},\"mapbox\":{\"style\":\"light\"}}},\"xaxis\":{\"anchor\":\"y\",\"domain\":[0.0,0.45]},\"yaxis\":{\"anchor\":\"x\",\"domain\":[0.625,1.0]},\"xaxis2\":{\"anchor\":\"y2\",\"domain\":[0.55,1.0]},\"yaxis2\":{\"anchor\":\"x2\",\"domain\":[0.625,1.0]},\"xaxis3\":{\"anchor\":\"y3\",\"domain\":[0.0,0.45]},\"yaxis3\":{\"anchor\":\"x3\",\"domain\":[0.0,0.375]},\"xaxis4\":{\"anchor\":\"y4\",\"domain\":[0.55,1.0]},\"yaxis4\":{\"anchor\":\"x4\",\"domain\":[0.0,0.375]},\"annotations\":[{\"font\":{\"size\":16},\"showarrow\":false,\"text\":\"Types of Robots vs Time\",\"x\":0.225,\"xanchor\":\"center\",\"xref\":\"paper\",\"y\":1.0,\"yanchor\":\"bottom\",\"yref\":\"paper\"},{\"font\":{\"size\":16},\"showarrow\":false,\"text\":\"Resources vs Time\",\"x\":0.775,\"xanchor\":\"center\",\"xref\":\"paper\",\"y\":1.0,\"yanchor\":\"bottom\",\"yref\":\"paper\"},{\"font\":{\"size\":16},\"showarrow\":false,\"text\":\"Tasks of Robots vs Time\",\"x\":0.225,\"xanchor\":\"center\",\"xref\":\"paper\",\"y\":0.375,\"yanchor\":\"bottom\",\"yref\":\"paper\"},{\"font\":{\"size\":16},\"showarrow\":false,\"text\":\"Build Quality vs Time\",\"x\":0.775,\"xanchor\":\"center\",\"xref\":\"paper\",\"y\":0.375,\"yanchor\":\"bottom\",\"yref\":\"paper\"}],\"hovermode\":\"x\",\"title\":{\"text\":\"HHO - Characteristics\"}},                        {\"responsive\": true}                    ).then(function(){\n",
       "                            \n",
       "var gd = document.getElementById('c7c88f04-5f4f-47ff-ad87-a7a9e81937d7');\n",
       "var x = new MutationObserver(function (mutations, observer) {{\n",
       "        var display = window.getComputedStyle(gd).display;\n",
       "        if (!display || display === 'none') {{\n",
       "            console.log([gd, 'removed!']);\n",
       "            Plotly.purge(gd);\n",
       "            observer.disconnect();\n",
       "        }}\n",
       "}});\n",
       "\n",
       "// Listen for the removal of the full notebook cells\n",
       "var notebookContainer = gd.closest('#notebook-container');\n",
       "if (notebookContainer) {{\n",
       "    x.observe(notebookContainer, {childList: true});\n",
       "}}\n",
       "\n",
       "// Listen for the clearing of the current output cell\n",
       "var outputEl = gd.closest('.output');\n",
       "if (outputEl) {{\n",
       "    x.observe(outputEl, {childList: true});\n",
       "}}\n",
       "\n",
       "                        })                };                });            </script>        </div>"
      ]
     },
     "metadata": {},
     "output_type": "display_data"
    },
    {
     "data": {
      "application/vnd.plotly.v1+json": {
       "config": {
        "plotlyServerURL": "https://plotly.com"
       },
       "data": [
        {
         "alignmentgroup": "True",
         "hovertemplate": "variable=#In<br>Time=%{x}<br>value=%{y}<extra></extra>",
         "legendgroup": "#In",
         "marker": {
          "color": "#636efa",
          "pattern": {
           "shape": ""
          }
         },
         "name": "#In",
         "offsetgroup": "#In",
         "orientation": "v",
         "showlegend": true,
         "textposition": "auto",
         "type": "bar",
         "x": [
          0,
          1,
          2,
          3,
          4,
          5,
          6,
          7,
          8,
          9,
          10,
          11,
          12,
          13,
          14,
          15,
          16,
          17,
          18,
          19,
          20,
          21,
          22,
          23,
          24,
          25,
          26,
          27,
          28,
          29,
          30,
          31,
          32,
          33,
          34,
          35,
          36,
          37,
          38,
          39,
          40,
          41,
          42,
          43,
          44,
          45,
          46,
          47,
          48,
          49,
          50,
          51,
          52,
          53,
          54,
          55,
          56,
          57,
          58,
          59,
          60,
          61,
          62,
          63,
          64,
          65,
          66,
          67,
          68,
          69,
          70,
          71,
          72,
          73,
          74
         ],
         "xaxis": "x",
         "y": [
          2,
          2,
          4,
          4,
          6,
          6,
          8,
          8,
          10,
          10,
          12,
          12,
          14,
          14,
          16,
          16,
          18,
          18,
          20,
          20,
          22,
          22,
          24,
          24,
          26,
          26,
          28,
          28,
          30,
          30,
          32,
          32,
          34,
          34,
          36,
          36,
          38,
          38,
          40,
          40,
          42,
          42,
          44,
          44,
          46,
          46,
          48,
          48,
          50,
          50,
          52,
          52,
          54,
          54,
          56,
          56,
          58,
          58,
          60,
          60,
          62,
          62,
          64,
          64,
          66,
          66,
          68,
          68,
          70,
          70,
          72,
          72,
          74,
          74,
          76
         ],
         "yaxis": "y"
        },
        {
         "alignmentgroup": "True",
         "hovertemplate": "variable=#Out<br>Time=%{x}<br>value=%{y}<extra></extra>",
         "legendgroup": "#Out",
         "marker": {
          "color": "#EF553B",
          "pattern": {
           "shape": ""
          }
         },
         "name": "#Out",
         "offsetgroup": "#Out",
         "orientation": "v",
         "showlegend": true,
         "textposition": "auto",
         "type": "bar",
         "x": [
          0,
          1,
          2,
          3,
          4,
          5,
          6,
          7,
          8,
          9,
          10,
          11,
          12,
          13,
          14,
          15,
          16,
          17,
          18,
          19,
          20,
          21,
          22,
          23,
          24,
          25,
          26,
          27,
          28,
          29,
          30,
          31,
          32,
          33,
          34,
          35,
          36,
          37,
          38,
          39,
          40,
          41,
          42,
          43,
          44,
          45,
          46,
          47,
          48,
          49,
          50,
          51,
          52,
          53,
          54,
          55,
          56,
          57,
          58,
          59,
          60,
          61,
          62,
          63,
          64,
          65,
          66,
          67,
          68,
          69,
          70,
          71,
          72,
          73,
          74
         ],
         "xaxis": "x",
         "y": [
          0,
          0,
          0,
          0,
          0,
          0,
          0,
          0,
          0,
          0,
          0,
          0,
          0,
          0,
          0,
          0,
          0,
          0,
          0,
          0,
          0,
          0,
          0,
          0,
          0,
          0,
          0,
          0,
          0,
          0,
          0,
          0,
          0,
          0,
          0,
          0,
          0,
          0,
          0,
          0,
          0,
          0,
          0,
          0,
          0,
          0,
          0,
          0,
          0,
          0,
          0,
          0,
          0,
          0,
          0,
          0,
          0,
          0,
          0,
          0,
          0,
          0,
          0,
          0,
          0,
          0,
          0,
          0,
          0,
          0,
          0,
          0,
          0,
          0,
          0
         ],
         "yaxis": "y"
        }
       ],
       "layout": {
        "barmode": "relative",
        "hovermode": "x",
        "legend": {
         "title": {
          "text": "variable"
         },
         "tracegroupgap": 0
        },
        "template": {
         "data": {
          "bar": [
           {
            "error_x": {
             "color": "#2a3f5f"
            },
            "error_y": {
             "color": "#2a3f5f"
            },
            "marker": {
             "line": {
              "color": "#E5ECF6",
              "width": 0.5
             },
             "pattern": {
              "fillmode": "overlay",
              "size": 10,
              "solidity": 0.2
             }
            },
            "type": "bar"
           }
          ],
          "barpolar": [
           {
            "marker": {
             "line": {
              "color": "#E5ECF6",
              "width": 0.5
             },
             "pattern": {
              "fillmode": "overlay",
              "size": 10,
              "solidity": 0.2
             }
            },
            "type": "barpolar"
           }
          ],
          "carpet": [
           {
            "aaxis": {
             "endlinecolor": "#2a3f5f",
             "gridcolor": "white",
             "linecolor": "white",
             "minorgridcolor": "white",
             "startlinecolor": "#2a3f5f"
            },
            "baxis": {
             "endlinecolor": "#2a3f5f",
             "gridcolor": "white",
             "linecolor": "white",
             "minorgridcolor": "white",
             "startlinecolor": "#2a3f5f"
            },
            "type": "carpet"
           }
          ],
          "choropleth": [
           {
            "colorbar": {
             "outlinewidth": 0,
             "ticks": ""
            },
            "type": "choropleth"
           }
          ],
          "contour": [
           {
            "colorbar": {
             "outlinewidth": 0,
             "ticks": ""
            },
            "colorscale": [
             [
              0,
              "#0d0887"
             ],
             [
              0.1111111111111111,
              "#46039f"
             ],
             [
              0.2222222222222222,
              "#7201a8"
             ],
             [
              0.3333333333333333,
              "#9c179e"
             ],
             [
              0.4444444444444444,
              "#bd3786"
             ],
             [
              0.5555555555555556,
              "#d8576b"
             ],
             [
              0.6666666666666666,
              "#ed7953"
             ],
             [
              0.7777777777777778,
              "#fb9f3a"
             ],
             [
              0.8888888888888888,
              "#fdca26"
             ],
             [
              1,
              "#f0f921"
             ]
            ],
            "type": "contour"
           }
          ],
          "contourcarpet": [
           {
            "colorbar": {
             "outlinewidth": 0,
             "ticks": ""
            },
            "type": "contourcarpet"
           }
          ],
          "heatmap": [
           {
            "colorbar": {
             "outlinewidth": 0,
             "ticks": ""
            },
            "colorscale": [
             [
              0,
              "#0d0887"
             ],
             [
              0.1111111111111111,
              "#46039f"
             ],
             [
              0.2222222222222222,
              "#7201a8"
             ],
             [
              0.3333333333333333,
              "#9c179e"
             ],
             [
              0.4444444444444444,
              "#bd3786"
             ],
             [
              0.5555555555555556,
              "#d8576b"
             ],
             [
              0.6666666666666666,
              "#ed7953"
             ],
             [
              0.7777777777777778,
              "#fb9f3a"
             ],
             [
              0.8888888888888888,
              "#fdca26"
             ],
             [
              1,
              "#f0f921"
             ]
            ],
            "type": "heatmap"
           }
          ],
          "heatmapgl": [
           {
            "colorbar": {
             "outlinewidth": 0,
             "ticks": ""
            },
            "colorscale": [
             [
              0,
              "#0d0887"
             ],
             [
              0.1111111111111111,
              "#46039f"
             ],
             [
              0.2222222222222222,
              "#7201a8"
             ],
             [
              0.3333333333333333,
              "#9c179e"
             ],
             [
              0.4444444444444444,
              "#bd3786"
             ],
             [
              0.5555555555555556,
              "#d8576b"
             ],
             [
              0.6666666666666666,
              "#ed7953"
             ],
             [
              0.7777777777777778,
              "#fb9f3a"
             ],
             [
              0.8888888888888888,
              "#fdca26"
             ],
             [
              1,
              "#f0f921"
             ]
            ],
            "type": "heatmapgl"
           }
          ],
          "histogram": [
           {
            "marker": {
             "pattern": {
              "fillmode": "overlay",
              "size": 10,
              "solidity": 0.2
             }
            },
            "type": "histogram"
           }
          ],
          "histogram2d": [
           {
            "colorbar": {
             "outlinewidth": 0,
             "ticks": ""
            },
            "colorscale": [
             [
              0,
              "#0d0887"
             ],
             [
              0.1111111111111111,
              "#46039f"
             ],
             [
              0.2222222222222222,
              "#7201a8"
             ],
             [
              0.3333333333333333,
              "#9c179e"
             ],
             [
              0.4444444444444444,
              "#bd3786"
             ],
             [
              0.5555555555555556,
              "#d8576b"
             ],
             [
              0.6666666666666666,
              "#ed7953"
             ],
             [
              0.7777777777777778,
              "#fb9f3a"
             ],
             [
              0.8888888888888888,
              "#fdca26"
             ],
             [
              1,
              "#f0f921"
             ]
            ],
            "type": "histogram2d"
           }
          ],
          "histogram2dcontour": [
           {
            "colorbar": {
             "outlinewidth": 0,
             "ticks": ""
            },
            "colorscale": [
             [
              0,
              "#0d0887"
             ],
             [
              0.1111111111111111,
              "#46039f"
             ],
             [
              0.2222222222222222,
              "#7201a8"
             ],
             [
              0.3333333333333333,
              "#9c179e"
             ],
             [
              0.4444444444444444,
              "#bd3786"
             ],
             [
              0.5555555555555556,
              "#d8576b"
             ],
             [
              0.6666666666666666,
              "#ed7953"
             ],
             [
              0.7777777777777778,
              "#fb9f3a"
             ],
             [
              0.8888888888888888,
              "#fdca26"
             ],
             [
              1,
              "#f0f921"
             ]
            ],
            "type": "histogram2dcontour"
           }
          ],
          "mesh3d": [
           {
            "colorbar": {
             "outlinewidth": 0,
             "ticks": ""
            },
            "type": "mesh3d"
           }
          ],
          "parcoords": [
           {
            "line": {
             "colorbar": {
              "outlinewidth": 0,
              "ticks": ""
             }
            },
            "type": "parcoords"
           }
          ],
          "pie": [
           {
            "automargin": true,
            "type": "pie"
           }
          ],
          "scatter": [
           {
            "fillpattern": {
             "fillmode": "overlay",
             "size": 10,
             "solidity": 0.2
            },
            "type": "scatter"
           }
          ],
          "scatter3d": [
           {
            "line": {
             "colorbar": {
              "outlinewidth": 0,
              "ticks": ""
             }
            },
            "marker": {
             "colorbar": {
              "outlinewidth": 0,
              "ticks": ""
             }
            },
            "type": "scatter3d"
           }
          ],
          "scattercarpet": [
           {
            "marker": {
             "colorbar": {
              "outlinewidth": 0,
              "ticks": ""
             }
            },
            "type": "scattercarpet"
           }
          ],
          "scattergeo": [
           {
            "marker": {
             "colorbar": {
              "outlinewidth": 0,
              "ticks": ""
             }
            },
            "type": "scattergeo"
           }
          ],
          "scattergl": [
           {
            "marker": {
             "colorbar": {
              "outlinewidth": 0,
              "ticks": ""
             }
            },
            "type": "scattergl"
           }
          ],
          "scattermapbox": [
           {
            "marker": {
             "colorbar": {
              "outlinewidth": 0,
              "ticks": ""
             }
            },
            "type": "scattermapbox"
           }
          ],
          "scatterpolar": [
           {
            "marker": {
             "colorbar": {
              "outlinewidth": 0,
              "ticks": ""
             }
            },
            "type": "scatterpolar"
           }
          ],
          "scatterpolargl": [
           {
            "marker": {
             "colorbar": {
              "outlinewidth": 0,
              "ticks": ""
             }
            },
            "type": "scatterpolargl"
           }
          ],
          "scatterternary": [
           {
            "marker": {
             "colorbar": {
              "outlinewidth": 0,
              "ticks": ""
             }
            },
            "type": "scatterternary"
           }
          ],
          "surface": [
           {
            "colorbar": {
             "outlinewidth": 0,
             "ticks": ""
            },
            "colorscale": [
             [
              0,
              "#0d0887"
             ],
             [
              0.1111111111111111,
              "#46039f"
             ],
             [
              0.2222222222222222,
              "#7201a8"
             ],
             [
              0.3333333333333333,
              "#9c179e"
             ],
             [
              0.4444444444444444,
              "#bd3786"
             ],
             [
              0.5555555555555556,
              "#d8576b"
             ],
             [
              0.6666666666666666,
              "#ed7953"
             ],
             [
              0.7777777777777778,
              "#fb9f3a"
             ],
             [
              0.8888888888888888,
              "#fdca26"
             ],
             [
              1,
              "#f0f921"
             ]
            ],
            "type": "surface"
           }
          ],
          "table": [
           {
            "cells": {
             "fill": {
              "color": "#EBF0F8"
             },
             "line": {
              "color": "white"
             }
            },
            "header": {
             "fill": {
              "color": "#C8D4E3"
             },
             "line": {
              "color": "white"
             }
            },
            "type": "table"
           }
          ]
         },
         "layout": {
          "annotationdefaults": {
           "arrowcolor": "#2a3f5f",
           "arrowhead": 0,
           "arrowwidth": 1
          },
          "autotypenumbers": "strict",
          "coloraxis": {
           "colorbar": {
            "outlinewidth": 0,
            "ticks": ""
           }
          },
          "colorscale": {
           "diverging": [
            [
             0,
             "#8e0152"
            ],
            [
             0.1,
             "#c51b7d"
            ],
            [
             0.2,
             "#de77ae"
            ],
            [
             0.3,
             "#f1b6da"
            ],
            [
             0.4,
             "#fde0ef"
            ],
            [
             0.5,
             "#f7f7f7"
            ],
            [
             0.6,
             "#e6f5d0"
            ],
            [
             0.7,
             "#b8e186"
            ],
            [
             0.8,
             "#7fbc41"
            ],
            [
             0.9,
             "#4d9221"
            ],
            [
             1,
             "#276419"
            ]
           ],
           "sequential": [
            [
             0,
             "#0d0887"
            ],
            [
             0.1111111111111111,
             "#46039f"
            ],
            [
             0.2222222222222222,
             "#7201a8"
            ],
            [
             0.3333333333333333,
             "#9c179e"
            ],
            [
             0.4444444444444444,
             "#bd3786"
            ],
            [
             0.5555555555555556,
             "#d8576b"
            ],
            [
             0.6666666666666666,
             "#ed7953"
            ],
            [
             0.7777777777777778,
             "#fb9f3a"
            ],
            [
             0.8888888888888888,
             "#fdca26"
            ],
            [
             1,
             "#f0f921"
            ]
           ],
           "sequentialminus": [
            [
             0,
             "#0d0887"
            ],
            [
             0.1111111111111111,
             "#46039f"
            ],
            [
             0.2222222222222222,
             "#7201a8"
            ],
            [
             0.3333333333333333,
             "#9c179e"
            ],
            [
             0.4444444444444444,
             "#bd3786"
            ],
            [
             0.5555555555555556,
             "#d8576b"
            ],
            [
             0.6666666666666666,
             "#ed7953"
            ],
            [
             0.7777777777777778,
             "#fb9f3a"
            ],
            [
             0.8888888888888888,
             "#fdca26"
            ],
            [
             1,
             "#f0f921"
            ]
           ]
          },
          "colorway": [
           "#636efa",
           "#EF553B",
           "#00cc96",
           "#ab63fa",
           "#FFA15A",
           "#19d3f3",
           "#FF6692",
           "#B6E880",
           "#FF97FF",
           "#FECB52"
          ],
          "font": {
           "color": "#2a3f5f"
          },
          "geo": {
           "bgcolor": "white",
           "lakecolor": "white",
           "landcolor": "#E5ECF6",
           "showlakes": true,
           "showland": true,
           "subunitcolor": "white"
          },
          "hoverlabel": {
           "align": "left"
          },
          "hovermode": "closest",
          "mapbox": {
           "style": "light"
          },
          "paper_bgcolor": "white",
          "plot_bgcolor": "#E5ECF6",
          "polar": {
           "angularaxis": {
            "gridcolor": "white",
            "linecolor": "white",
            "ticks": ""
           },
           "bgcolor": "#E5ECF6",
           "radialaxis": {
            "gridcolor": "white",
            "linecolor": "white",
            "ticks": ""
           }
          },
          "scene": {
           "xaxis": {
            "backgroundcolor": "#E5ECF6",
            "gridcolor": "white",
            "gridwidth": 2,
            "linecolor": "white",
            "showbackground": true,
            "ticks": "",
            "zerolinecolor": "white"
           },
           "yaxis": {
            "backgroundcolor": "#E5ECF6",
            "gridcolor": "white",
            "gridwidth": 2,
            "linecolor": "white",
            "showbackground": true,
            "ticks": "",
            "zerolinecolor": "white"
           },
           "zaxis": {
            "backgroundcolor": "#E5ECF6",
            "gridcolor": "white",
            "gridwidth": 2,
            "linecolor": "white",
            "showbackground": true,
            "ticks": "",
            "zerolinecolor": "white"
           }
          },
          "shapedefaults": {
           "line": {
            "color": "#2a3f5f"
           }
          },
          "ternary": {
           "aaxis": {
            "gridcolor": "white",
            "linecolor": "white",
            "ticks": ""
           },
           "baxis": {
            "gridcolor": "white",
            "linecolor": "white",
            "ticks": ""
           },
           "bgcolor": "#E5ECF6",
           "caxis": {
            "gridcolor": "white",
            "linecolor": "white",
            "ticks": ""
           }
          },
          "title": {
           "x": 0.05
          },
          "xaxis": {
           "automargin": true,
           "gridcolor": "white",
           "linecolor": "white",
           "ticks": "",
           "title": {
            "standoff": 15
           },
           "zerolinecolor": "white",
           "zerolinewidth": 2
          },
          "yaxis": {
           "automargin": true,
           "gridcolor": "white",
           "linecolor": "white",
           "ticks": "",
           "title": {
            "standoff": 15
           },
           "zerolinecolor": "white",
           "zerolinewidth": 2
          }
         }
        },
        "title": {
         "text": "CHE - Habitat over Time"
        },
        "xaxis": {
         "anchor": "y",
         "domain": [
          0,
          1
         ],
         "title": {
          "text": "Time"
         }
        },
        "yaxis": {
         "anchor": "x",
         "domain": [
          0,
          1
         ],
         "title": {
          "text": "#Robots"
         }
        }
       }
      },
      "text/html": [
       "<div>                            <div id=\"4e70d2e9-4817-4869-b187-2af2ff7b73d3\" class=\"plotly-graph-div\" style=\"height:525px; width:100%;\"></div>            <script type=\"text/javascript\">                require([\"plotly\"], function(Plotly) {                    window.PLOTLYENV=window.PLOTLYENV || {};                                    if (document.getElementById(\"4e70d2e9-4817-4869-b187-2af2ff7b73d3\")) {                    Plotly.newPlot(                        \"4e70d2e9-4817-4869-b187-2af2ff7b73d3\",                        [{\"alignmentgroup\":\"True\",\"hovertemplate\":\"variable=#In<br>Time=%{x}<br>value=%{y}<extra></extra>\",\"legendgroup\":\"#In\",\"marker\":{\"color\":\"#636efa\",\"pattern\":{\"shape\":\"\"}},\"name\":\"#In\",\"offsetgroup\":\"#In\",\"orientation\":\"v\",\"showlegend\":true,\"textposition\":\"auto\",\"x\":[0.0,1.0,2.0,3.0,4.0,5.0,6.0,7.0,8.0,9.0,10.0,11.0,12.0,13.0,14.0,15.0,16.0,17.0,18.0,19.0,20.0,21.0,22.0,23.0,24.0,25.0,26.0,27.0,28.0,29.0,30.0,31.0,32.0,33.0,34.0,35.0,36.0,37.0,38.0,39.0,40.0,41.0,42.0,43.0,44.0,45.0,46.0,47.0,48.0,49.0,50.0,51.0,52.0,53.0,54.0,55.0,56.0,57.0,58.0,59.0,60.0,61.0,62.0,63.0,64.0,65.0,66.0,67.0,68.0,69.0,70.0,71.0,72.0,73.0,74.0],\"xaxis\":\"x\",\"y\":[2.0,2.0,4.0,4.0,6.0,6.0,8.0,8.0,10.0,10.0,12.0,12.0,14.0,14.0,16.0,16.0,18.0,18.0,20.0,20.0,22.0,22.0,24.0,24.0,26.0,26.0,28.0,28.0,30.0,30.0,32.0,32.0,34.0,34.0,36.0,36.0,38.0,38.0,40.0,40.0,42.0,42.0,44.0,44.0,46.0,46.0,48.0,48.0,50.0,50.0,52.0,52.0,54.0,54.0,56.0,56.0,58.0,58.0,60.0,60.0,62.0,62.0,64.0,64.0,66.0,66.0,68.0,68.0,70.0,70.0,72.0,72.0,74.0,74.0,76.0],\"yaxis\":\"y\",\"type\":\"bar\"},{\"alignmentgroup\":\"True\",\"hovertemplate\":\"variable=#Out<br>Time=%{x}<br>value=%{y}<extra></extra>\",\"legendgroup\":\"#Out\",\"marker\":{\"color\":\"#EF553B\",\"pattern\":{\"shape\":\"\"}},\"name\":\"#Out\",\"offsetgroup\":\"#Out\",\"orientation\":\"v\",\"showlegend\":true,\"textposition\":\"auto\",\"x\":[0.0,1.0,2.0,3.0,4.0,5.0,6.0,7.0,8.0,9.0,10.0,11.0,12.0,13.0,14.0,15.0,16.0,17.0,18.0,19.0,20.0,21.0,22.0,23.0,24.0,25.0,26.0,27.0,28.0,29.0,30.0,31.0,32.0,33.0,34.0,35.0,36.0,37.0,38.0,39.0,40.0,41.0,42.0,43.0,44.0,45.0,46.0,47.0,48.0,49.0,50.0,51.0,52.0,53.0,54.0,55.0,56.0,57.0,58.0,59.0,60.0,61.0,62.0,63.0,64.0,65.0,66.0,67.0,68.0,69.0,70.0,71.0,72.0,73.0,74.0],\"xaxis\":\"x\",\"y\":[0.0,0.0,0.0,0.0,0.0,0.0,0.0,0.0,0.0,0.0,0.0,0.0,0.0,0.0,0.0,0.0,0.0,0.0,0.0,0.0,0.0,0.0,0.0,0.0,0.0,0.0,0.0,0.0,0.0,0.0,0.0,0.0,0.0,0.0,0.0,0.0,0.0,0.0,0.0,0.0,0.0,0.0,0.0,0.0,0.0,0.0,0.0,0.0,0.0,0.0,0.0,0.0,0.0,0.0,0.0,0.0,0.0,0.0,0.0,0.0,0.0,0.0,0.0,0.0,0.0,0.0,0.0,0.0,0.0,0.0,0.0,0.0,0.0,0.0,0.0],\"yaxis\":\"y\",\"type\":\"bar\"}],                        {\"template\":{\"data\":{\"histogram2dcontour\":[{\"type\":\"histogram2dcontour\",\"colorbar\":{\"outlinewidth\":0,\"ticks\":\"\"},\"colorscale\":[[0.0,\"#0d0887\"],[0.1111111111111111,\"#46039f\"],[0.2222222222222222,\"#7201a8\"],[0.3333333333333333,\"#9c179e\"],[0.4444444444444444,\"#bd3786\"],[0.5555555555555556,\"#d8576b\"],[0.6666666666666666,\"#ed7953\"],[0.7777777777777778,\"#fb9f3a\"],[0.8888888888888888,\"#fdca26\"],[1.0,\"#f0f921\"]]}],\"choropleth\":[{\"type\":\"choropleth\",\"colorbar\":{\"outlinewidth\":0,\"ticks\":\"\"}}],\"histogram2d\":[{\"type\":\"histogram2d\",\"colorbar\":{\"outlinewidth\":0,\"ticks\":\"\"},\"colorscale\":[[0.0,\"#0d0887\"],[0.1111111111111111,\"#46039f\"],[0.2222222222222222,\"#7201a8\"],[0.3333333333333333,\"#9c179e\"],[0.4444444444444444,\"#bd3786\"],[0.5555555555555556,\"#d8576b\"],[0.6666666666666666,\"#ed7953\"],[0.7777777777777778,\"#fb9f3a\"],[0.8888888888888888,\"#fdca26\"],[1.0,\"#f0f921\"]]}],\"heatmap\":[{\"type\":\"heatmap\",\"colorbar\":{\"outlinewidth\":0,\"ticks\":\"\"},\"colorscale\":[[0.0,\"#0d0887\"],[0.1111111111111111,\"#46039f\"],[0.2222222222222222,\"#7201a8\"],[0.3333333333333333,\"#9c179e\"],[0.4444444444444444,\"#bd3786\"],[0.5555555555555556,\"#d8576b\"],[0.6666666666666666,\"#ed7953\"],[0.7777777777777778,\"#fb9f3a\"],[0.8888888888888888,\"#fdca26\"],[1.0,\"#f0f921\"]]}],\"heatmapgl\":[{\"type\":\"heatmapgl\",\"colorbar\":{\"outlinewidth\":0,\"ticks\":\"\"},\"colorscale\":[[0.0,\"#0d0887\"],[0.1111111111111111,\"#46039f\"],[0.2222222222222222,\"#7201a8\"],[0.3333333333333333,\"#9c179e\"],[0.4444444444444444,\"#bd3786\"],[0.5555555555555556,\"#d8576b\"],[0.6666666666666666,\"#ed7953\"],[0.7777777777777778,\"#fb9f3a\"],[0.8888888888888888,\"#fdca26\"],[1.0,\"#f0f921\"]]}],\"contourcarpet\":[{\"type\":\"contourcarpet\",\"colorbar\":{\"outlinewidth\":0,\"ticks\":\"\"}}],\"contour\":[{\"type\":\"contour\",\"colorbar\":{\"outlinewidth\":0,\"ticks\":\"\"},\"colorscale\":[[0.0,\"#0d0887\"],[0.1111111111111111,\"#46039f\"],[0.2222222222222222,\"#7201a8\"],[0.3333333333333333,\"#9c179e\"],[0.4444444444444444,\"#bd3786\"],[0.5555555555555556,\"#d8576b\"],[0.6666666666666666,\"#ed7953\"],[0.7777777777777778,\"#fb9f3a\"],[0.8888888888888888,\"#fdca26\"],[1.0,\"#f0f921\"]]}],\"surface\":[{\"type\":\"surface\",\"colorbar\":{\"outlinewidth\":0,\"ticks\":\"\"},\"colorscale\":[[0.0,\"#0d0887\"],[0.1111111111111111,\"#46039f\"],[0.2222222222222222,\"#7201a8\"],[0.3333333333333333,\"#9c179e\"],[0.4444444444444444,\"#bd3786\"],[0.5555555555555556,\"#d8576b\"],[0.6666666666666666,\"#ed7953\"],[0.7777777777777778,\"#fb9f3a\"],[0.8888888888888888,\"#fdca26\"],[1.0,\"#f0f921\"]]}],\"mesh3d\":[{\"type\":\"mesh3d\",\"colorbar\":{\"outlinewidth\":0,\"ticks\":\"\"}}],\"scatter\":[{\"fillpattern\":{\"fillmode\":\"overlay\",\"size\":10,\"solidity\":0.2},\"type\":\"scatter\"}],\"parcoords\":[{\"type\":\"parcoords\",\"line\":{\"colorbar\":{\"outlinewidth\":0,\"ticks\":\"\"}}}],\"scatterpolargl\":[{\"type\":\"scatterpolargl\",\"marker\":{\"colorbar\":{\"outlinewidth\":0,\"ticks\":\"\"}}}],\"bar\":[{\"error_x\":{\"color\":\"#2a3f5f\"},\"error_y\":{\"color\":\"#2a3f5f\"},\"marker\":{\"line\":{\"color\":\"#E5ECF6\",\"width\":0.5},\"pattern\":{\"fillmode\":\"overlay\",\"size\":10,\"solidity\":0.2}},\"type\":\"bar\"}],\"scattergeo\":[{\"type\":\"scattergeo\",\"marker\":{\"colorbar\":{\"outlinewidth\":0,\"ticks\":\"\"}}}],\"scatterpolar\":[{\"type\":\"scatterpolar\",\"marker\":{\"colorbar\":{\"outlinewidth\":0,\"ticks\":\"\"}}}],\"histogram\":[{\"marker\":{\"pattern\":{\"fillmode\":\"overlay\",\"size\":10,\"solidity\":0.2}},\"type\":\"histogram\"}],\"scattergl\":[{\"type\":\"scattergl\",\"marker\":{\"colorbar\":{\"outlinewidth\":0,\"ticks\":\"\"}}}],\"scatter3d\":[{\"type\":\"scatter3d\",\"line\":{\"colorbar\":{\"outlinewidth\":0,\"ticks\":\"\"}},\"marker\":{\"colorbar\":{\"outlinewidth\":0,\"ticks\":\"\"}}}],\"scattermapbox\":[{\"type\":\"scattermapbox\",\"marker\":{\"colorbar\":{\"outlinewidth\":0,\"ticks\":\"\"}}}],\"scatterternary\":[{\"type\":\"scatterternary\",\"marker\":{\"colorbar\":{\"outlinewidth\":0,\"ticks\":\"\"}}}],\"scattercarpet\":[{\"type\":\"scattercarpet\",\"marker\":{\"colorbar\":{\"outlinewidth\":0,\"ticks\":\"\"}}}],\"carpet\":[{\"aaxis\":{\"endlinecolor\":\"#2a3f5f\",\"gridcolor\":\"white\",\"linecolor\":\"white\",\"minorgridcolor\":\"white\",\"startlinecolor\":\"#2a3f5f\"},\"baxis\":{\"endlinecolor\":\"#2a3f5f\",\"gridcolor\":\"white\",\"linecolor\":\"white\",\"minorgridcolor\":\"white\",\"startlinecolor\":\"#2a3f5f\"},\"type\":\"carpet\"}],\"table\":[{\"cells\":{\"fill\":{\"color\":\"#EBF0F8\"},\"line\":{\"color\":\"white\"}},\"header\":{\"fill\":{\"color\":\"#C8D4E3\"},\"line\":{\"color\":\"white\"}},\"type\":\"table\"}],\"barpolar\":[{\"marker\":{\"line\":{\"color\":\"#E5ECF6\",\"width\":0.5},\"pattern\":{\"fillmode\":\"overlay\",\"size\":10,\"solidity\":0.2}},\"type\":\"barpolar\"}],\"pie\":[{\"automargin\":true,\"type\":\"pie\"}]},\"layout\":{\"autotypenumbers\":\"strict\",\"colorway\":[\"#636efa\",\"#EF553B\",\"#00cc96\",\"#ab63fa\",\"#FFA15A\",\"#19d3f3\",\"#FF6692\",\"#B6E880\",\"#FF97FF\",\"#FECB52\"],\"font\":{\"color\":\"#2a3f5f\"},\"hovermode\":\"closest\",\"hoverlabel\":{\"align\":\"left\"},\"paper_bgcolor\":\"white\",\"plot_bgcolor\":\"#E5ECF6\",\"polar\":{\"bgcolor\":\"#E5ECF6\",\"angularaxis\":{\"gridcolor\":\"white\",\"linecolor\":\"white\",\"ticks\":\"\"},\"radialaxis\":{\"gridcolor\":\"white\",\"linecolor\":\"white\",\"ticks\":\"\"}},\"ternary\":{\"bgcolor\":\"#E5ECF6\",\"aaxis\":{\"gridcolor\":\"white\",\"linecolor\":\"white\",\"ticks\":\"\"},\"baxis\":{\"gridcolor\":\"white\",\"linecolor\":\"white\",\"ticks\":\"\"},\"caxis\":{\"gridcolor\":\"white\",\"linecolor\":\"white\",\"ticks\":\"\"}},\"coloraxis\":{\"colorbar\":{\"outlinewidth\":0,\"ticks\":\"\"}},\"colorscale\":{\"sequential\":[[0.0,\"#0d0887\"],[0.1111111111111111,\"#46039f\"],[0.2222222222222222,\"#7201a8\"],[0.3333333333333333,\"#9c179e\"],[0.4444444444444444,\"#bd3786\"],[0.5555555555555556,\"#d8576b\"],[0.6666666666666666,\"#ed7953\"],[0.7777777777777778,\"#fb9f3a\"],[0.8888888888888888,\"#fdca26\"],[1.0,\"#f0f921\"]],\"sequentialminus\":[[0.0,\"#0d0887\"],[0.1111111111111111,\"#46039f\"],[0.2222222222222222,\"#7201a8\"],[0.3333333333333333,\"#9c179e\"],[0.4444444444444444,\"#bd3786\"],[0.5555555555555556,\"#d8576b\"],[0.6666666666666666,\"#ed7953\"],[0.7777777777777778,\"#fb9f3a\"],[0.8888888888888888,\"#fdca26\"],[1.0,\"#f0f921\"]],\"diverging\":[[0,\"#8e0152\"],[0.1,\"#c51b7d\"],[0.2,\"#de77ae\"],[0.3,\"#f1b6da\"],[0.4,\"#fde0ef\"],[0.5,\"#f7f7f7\"],[0.6,\"#e6f5d0\"],[0.7,\"#b8e186\"],[0.8,\"#7fbc41\"],[0.9,\"#4d9221\"],[1,\"#276419\"]]},\"xaxis\":{\"gridcolor\":\"white\",\"linecolor\":\"white\",\"ticks\":\"\",\"title\":{\"standoff\":15},\"zerolinecolor\":\"white\",\"automargin\":true,\"zerolinewidth\":2},\"yaxis\":{\"gridcolor\":\"white\",\"linecolor\":\"white\",\"ticks\":\"\",\"title\":{\"standoff\":15},\"zerolinecolor\":\"white\",\"automargin\":true,\"zerolinewidth\":2},\"scene\":{\"xaxis\":{\"backgroundcolor\":\"#E5ECF6\",\"gridcolor\":\"white\",\"linecolor\":\"white\",\"showbackground\":true,\"ticks\":\"\",\"zerolinecolor\":\"white\",\"gridwidth\":2},\"yaxis\":{\"backgroundcolor\":\"#E5ECF6\",\"gridcolor\":\"white\",\"linecolor\":\"white\",\"showbackground\":true,\"ticks\":\"\",\"zerolinecolor\":\"white\",\"gridwidth\":2},\"zaxis\":{\"backgroundcolor\":\"#E5ECF6\",\"gridcolor\":\"white\",\"linecolor\":\"white\",\"showbackground\":true,\"ticks\":\"\",\"zerolinecolor\":\"white\",\"gridwidth\":2}},\"shapedefaults\":{\"line\":{\"color\":\"#2a3f5f\"}},\"annotationdefaults\":{\"arrowcolor\":\"#2a3f5f\",\"arrowhead\":0,\"arrowwidth\":1},\"geo\":{\"bgcolor\":\"white\",\"landcolor\":\"#E5ECF6\",\"subunitcolor\":\"white\",\"showland\":true,\"showlakes\":true,\"lakecolor\":\"white\"},\"title\":{\"x\":0.05},\"mapbox\":{\"style\":\"light\"}}},\"xaxis\":{\"anchor\":\"y\",\"domain\":[0.0,1.0],\"title\":{\"text\":\"Time\"}},\"yaxis\":{\"anchor\":\"x\",\"domain\":[0.0,1.0],\"title\":{\"text\":\"#Robots\"}},\"legend\":{\"title\":{\"text\":\"variable\"},\"tracegroupgap\":0},\"title\":{\"text\":\"CHE - Habitat over Time\"},\"barmode\":\"relative\",\"hovermode\":\"x\"},                        {\"responsive\": true}                    ).then(function(){\n",
       "                            \n",
       "var gd = document.getElementById('4e70d2e9-4817-4869-b187-2af2ff7b73d3');\n",
       "var x = new MutationObserver(function (mutations, observer) {{\n",
       "        var display = window.getComputedStyle(gd).display;\n",
       "        if (!display || display === 'none') {{\n",
       "            console.log([gd, 'removed!']);\n",
       "            Plotly.purge(gd);\n",
       "            observer.disconnect();\n",
       "        }}\n",
       "}});\n",
       "\n",
       "// Listen for the removal of the full notebook cells\n",
       "var notebookContainer = gd.closest('#notebook-container');\n",
       "if (notebookContainer) {{\n",
       "    x.observe(notebookContainer, {childList: true});\n",
       "}}\n",
       "\n",
       "// Listen for the clearing of the current output cell\n",
       "var outputEl = gd.closest('.output');\n",
       "if (outputEl) {{\n",
       "    x.observe(outputEl, {childList: true});\n",
       "}}\n",
       "\n",
       "                        })                };                });            </script>        </div>"
      ]
     },
     "metadata": {},
     "output_type": "display_data"
    },
    {
     "data": {
      "application/vnd.plotly.v1+json": {
       "config": {
        "plotlyServerURL": "https://plotly.com"
       },
       "data": [
        {
         "name": "#Replicator",
         "type": "bar",
         "x": [
          0,
          1,
          2,
          3,
          4,
          5,
          6,
          7,
          8,
          9,
          10,
          11,
          12,
          13,
          14,
          15,
          16,
          17,
          18,
          19,
          20,
          21,
          22,
          23,
          24,
          25,
          26,
          27,
          28,
          29,
          30,
          31,
          32,
          33,
          34,
          35,
          36,
          37,
          38,
          39,
          40,
          41,
          42,
          43,
          44,
          45,
          46,
          47,
          48,
          49,
          50,
          51,
          52,
          53,
          54,
          55,
          56,
          57,
          58,
          59,
          60,
          61,
          62,
          63,
          64,
          65,
          66,
          67,
          68,
          69,
          70,
          71,
          72,
          73,
          74
         ],
         "xaxis": "x",
         "y": [
          0,
          0,
          0,
          0,
          0,
          0,
          0,
          0,
          0,
          0,
          0,
          0,
          0,
          0,
          0,
          0,
          0,
          0,
          0,
          0,
          0,
          0,
          0,
          0,
          0,
          0,
          0,
          0,
          0,
          0,
          0,
          0,
          0,
          0,
          0,
          0,
          0,
          0,
          0,
          0,
          0,
          0,
          0,
          0,
          0,
          0,
          0,
          0,
          0,
          0,
          0,
          0,
          0,
          0,
          0,
          0,
          0,
          0,
          0,
          0,
          0,
          0,
          0,
          0,
          0,
          0,
          0,
          0,
          0,
          0,
          0,
          0,
          0,
          0,
          0
         ],
         "yaxis": "y"
        },
        {
         "name": "#Normal",
         "type": "bar",
         "x": [
          0,
          1,
          2,
          3,
          4,
          5,
          6,
          7,
          8,
          9,
          10,
          11,
          12,
          13,
          14,
          15,
          16,
          17,
          18,
          19,
          20,
          21,
          22,
          23,
          24,
          25,
          26,
          27,
          28,
          29,
          30,
          31,
          32,
          33,
          34,
          35,
          36,
          37,
          38,
          39,
          40,
          41,
          42,
          43,
          44,
          45,
          46,
          47,
          48,
          49,
          50,
          51,
          52,
          53,
          54,
          55,
          56,
          57,
          58,
          59,
          60,
          61,
          62,
          63,
          64,
          65,
          66,
          67,
          68,
          69,
          70,
          71,
          72,
          73,
          74
         ],
         "xaxis": "x",
         "y": [
          0,
          0,
          2,
          2,
          4,
          4,
          6,
          6,
          8,
          8,
          10,
          10,
          12,
          12,
          14,
          14,
          16,
          16,
          18,
          18,
          20,
          20,
          22,
          22,
          24,
          24,
          26,
          26,
          28,
          28,
          30,
          30,
          32,
          32,
          34,
          34,
          36,
          36,
          38,
          38,
          40,
          40,
          42,
          42,
          44,
          44,
          46,
          46,
          48,
          48,
          50,
          50,
          52,
          52,
          54,
          54,
          56,
          56,
          58,
          58,
          60,
          60,
          62,
          62,
          64,
          64,
          66,
          66,
          68,
          68,
          70,
          70,
          72,
          72,
          74
         ],
         "yaxis": "y"
        },
        {
         "name": "#Assembler",
         "type": "bar",
         "x": [
          0,
          1,
          2,
          3,
          4,
          5,
          6,
          7,
          8,
          9,
          10,
          11,
          12,
          13,
          14,
          15,
          16,
          17,
          18,
          19,
          20,
          21,
          22,
          23,
          24,
          25,
          26,
          27,
          28,
          29,
          30,
          31,
          32,
          33,
          34,
          35,
          36,
          37,
          38,
          39,
          40,
          41,
          42,
          43,
          44,
          45,
          46,
          47,
          48,
          49,
          50,
          51,
          52,
          53,
          54,
          55,
          56,
          57,
          58,
          59,
          60,
          61,
          62,
          63,
          64,
          65,
          66,
          67,
          68,
          69,
          70,
          71,
          72,
          73,
          74
         ],
         "xaxis": "x",
         "y": [
          1,
          1,
          1,
          1,
          1,
          1,
          1,
          1,
          1,
          1,
          1,
          1,
          1,
          1,
          1,
          1,
          1,
          1,
          1,
          1,
          1,
          1,
          1,
          1,
          1,
          1,
          1,
          1,
          1,
          1,
          1,
          1,
          1,
          1,
          1,
          1,
          1,
          1,
          1,
          1,
          1,
          1,
          1,
          1,
          1,
          1,
          1,
          1,
          1,
          1,
          1,
          1,
          1,
          1,
          1,
          1,
          1,
          1,
          1,
          1,
          1,
          1,
          1,
          1,
          1,
          1,
          1,
          1,
          1,
          1,
          1,
          1,
          1,
          1,
          1
         ],
         "yaxis": "y"
        },
        {
         "name": "#Printer",
         "type": "bar",
         "x": [
          0,
          1,
          2,
          3,
          4,
          5,
          6,
          7,
          8,
          9,
          10,
          11,
          12,
          13,
          14,
          15,
          16,
          17,
          18,
          19,
          20,
          21,
          22,
          23,
          24,
          25,
          26,
          27,
          28,
          29,
          30,
          31,
          32,
          33,
          34,
          35,
          36,
          37,
          38,
          39,
          40,
          41,
          42,
          43,
          44,
          45,
          46,
          47,
          48,
          49,
          50,
          51,
          52,
          53,
          54,
          55,
          56,
          57,
          58,
          59,
          60,
          61,
          62,
          63,
          64,
          65,
          66,
          67,
          68,
          69,
          70,
          71,
          72,
          73,
          74
         ],
         "xaxis": "x",
         "y": [
          1,
          1,
          1,
          1,
          1,
          1,
          1,
          1,
          1,
          1,
          1,
          1,
          1,
          1,
          1,
          1,
          1,
          1,
          1,
          1,
          1,
          1,
          1,
          1,
          1,
          1,
          1,
          1,
          1,
          1,
          1,
          1,
          1,
          1,
          1,
          1,
          1,
          1,
          1,
          1,
          1,
          1,
          1,
          1,
          1,
          1,
          1,
          1,
          1,
          1,
          1,
          1,
          1,
          1,
          1,
          1,
          1,
          1,
          1,
          1,
          1,
          1,
          1,
          1,
          1,
          1,
          1,
          1,
          1,
          1,
          1,
          1,
          1,
          1,
          1
         ],
         "yaxis": "y"
        },
        {
         "name": "#Assembling",
         "type": "bar",
         "x": [
          0,
          1,
          2,
          3,
          4,
          5,
          6,
          7,
          8,
          9,
          10,
          11,
          12,
          13,
          14,
          15,
          16,
          17,
          18,
          19,
          20,
          21,
          22,
          23,
          24,
          25,
          26,
          27,
          28,
          29,
          30,
          31,
          32,
          33,
          34,
          35,
          36,
          37,
          38,
          39,
          40,
          41,
          42,
          43,
          44,
          45,
          46,
          47,
          48,
          49,
          50,
          51,
          52,
          53,
          54,
          55,
          56,
          57,
          58,
          59,
          60,
          61,
          62,
          63,
          64,
          65,
          66,
          67,
          68,
          69,
          70,
          71,
          72,
          73,
          74
         ],
         "xaxis": "x3",
         "y": [
          1,
          1,
          1,
          1,
          1,
          1,
          1,
          1,
          1,
          1,
          1,
          1,
          1,
          1,
          1,
          1,
          1,
          1,
          1,
          1,
          1,
          1,
          1,
          1,
          1,
          1,
          1,
          1,
          1,
          1,
          1,
          1,
          1,
          1,
          1,
          1,
          1,
          1,
          1,
          1,
          1,
          1,
          1,
          1,
          1,
          1,
          1,
          1,
          1,
          1,
          1,
          1,
          1,
          1,
          1,
          1,
          1,
          1,
          1,
          1,
          1,
          1,
          1,
          1,
          1,
          1,
          1,
          1,
          1,
          1,
          1,
          1,
          1,
          1,
          1
         ],
         "yaxis": "y3"
        },
        {
         "name": "#Printing",
         "type": "bar",
         "x": [
          0,
          1,
          2,
          3,
          4,
          5,
          6,
          7,
          8,
          9,
          10,
          11,
          12,
          13,
          14,
          15,
          16,
          17,
          18,
          19,
          20,
          21,
          22,
          23,
          24,
          25,
          26,
          27,
          28,
          29,
          30,
          31,
          32,
          33,
          34,
          35,
          36,
          37,
          38,
          39,
          40,
          41,
          42,
          43,
          44,
          45,
          46,
          47,
          48,
          49,
          50,
          51,
          52,
          53,
          54,
          55,
          56,
          57,
          58,
          59,
          60,
          61,
          62,
          63,
          64,
          65,
          66,
          67,
          68,
          69,
          70,
          71,
          72,
          73,
          74
         ],
         "xaxis": "x3",
         "y": [
          1,
          1,
          1,
          1,
          1,
          1,
          1,
          1,
          1,
          1,
          1,
          1,
          1,
          1,
          1,
          1,
          1,
          1,
          1,
          1,
          1,
          1,
          1,
          1,
          1,
          1,
          1,
          1,
          1,
          1,
          1,
          1,
          1,
          1,
          1,
          1,
          1,
          1,
          1,
          1,
          1,
          1,
          1,
          1,
          1,
          1,
          1,
          1,
          1,
          1,
          1,
          1,
          1,
          1,
          1,
          1,
          1,
          1,
          1,
          1,
          1,
          1,
          1,
          1,
          1,
          1,
          1,
          1,
          1,
          1,
          1,
          1,
          1,
          1,
          1
         ],
         "yaxis": "y3"
        },
        {
         "name": "#Collecting",
         "type": "bar",
         "x": [
          0,
          1,
          2,
          3,
          4,
          5,
          6,
          7,
          8,
          9,
          10,
          11,
          12,
          13,
          14,
          15,
          16,
          17,
          18,
          19,
          20,
          21,
          22,
          23,
          24,
          25,
          26,
          27,
          28,
          29,
          30,
          31,
          32,
          33,
          34,
          35,
          36,
          37,
          38,
          39,
          40,
          41,
          42,
          43,
          44,
          45,
          46,
          47,
          48,
          49,
          50,
          51,
          52,
          53,
          54,
          55,
          56,
          57,
          58,
          59,
          60,
          61,
          62,
          63,
          64,
          65,
          66,
          67,
          68,
          69,
          70,
          71,
          72,
          73,
          74
         ],
         "xaxis": "x3",
         "y": [
          0,
          0,
          2,
          2,
          4,
          4,
          6,
          6,
          8,
          8,
          10,
          10,
          12,
          12,
          14,
          14,
          16,
          16,
          18,
          18,
          20,
          20,
          22,
          22,
          24,
          24,
          26,
          26,
          28,
          28,
          30,
          30,
          32,
          4,
          0,
          0,
          0,
          0,
          0,
          0,
          0,
          0,
          0,
          0,
          0,
          0,
          0,
          0,
          0,
          0,
          0,
          0,
          0,
          0,
          0,
          0,
          0,
          0,
          0,
          0,
          0,
          0,
          0,
          0,
          0,
          0,
          0,
          0,
          0,
          0,
          0,
          0,
          0,
          0,
          0
         ],
         "yaxis": "y3"
        },
        {
         "name": "#Idle",
         "type": "bar",
         "x": [
          0,
          1,
          2,
          3,
          4,
          5,
          6,
          7,
          8,
          9,
          10,
          11,
          12,
          13,
          14,
          15,
          16,
          17,
          18,
          19,
          20,
          21,
          22,
          23,
          24,
          25,
          26,
          27,
          28,
          29,
          30,
          31,
          32,
          33,
          34,
          35,
          36,
          37,
          38,
          39,
          40,
          41,
          42,
          43,
          44,
          45,
          46,
          47,
          48,
          49,
          50,
          51,
          52,
          53,
          54,
          55,
          56,
          57,
          58,
          59,
          60,
          61,
          62,
          63,
          64,
          65,
          66,
          67,
          68,
          69,
          70,
          71,
          72,
          73,
          74
         ],
         "xaxis": "x3",
         "y": [
          0,
          0,
          0,
          0,
          0,
          0,
          0,
          0,
          0,
          0,
          0,
          0,
          0,
          0,
          0,
          0,
          0,
          0,
          0,
          0,
          0,
          0,
          0,
          0,
          0,
          0,
          0,
          0,
          0,
          0,
          0,
          0,
          0,
          28,
          34,
          34,
          36,
          36,
          38,
          38,
          40,
          40,
          42,
          42,
          44,
          44,
          46,
          46,
          48,
          48,
          50,
          50,
          52,
          52,
          54,
          54,
          56,
          56,
          58,
          58,
          60,
          60,
          62,
          62,
          64,
          64,
          66,
          66,
          68,
          68,
          70,
          70,
          72,
          72,
          74
         ],
         "yaxis": "y3"
        },
        {
         "mode": "lines",
         "name": "NonPr",
         "type": "scatter",
         "x": [
          0,
          1,
          2,
          3,
          4,
          5,
          6,
          7,
          8,
          9,
          10,
          11,
          12,
          13,
          14,
          15,
          16,
          17,
          18,
          19,
          20,
          21,
          22,
          23,
          24,
          25,
          26,
          27,
          28,
          29,
          30,
          31,
          32,
          33,
          34,
          35,
          36,
          37,
          38,
          39,
          40,
          41,
          42,
          43,
          44,
          45,
          46,
          47,
          48,
          49,
          50,
          51,
          52,
          53,
          54,
          55,
          56,
          57,
          58,
          59,
          60,
          61,
          62,
          63,
          64,
          65,
          66,
          67,
          68,
          69,
          70,
          71,
          72,
          73,
          74
         ],
         "xaxis": "x2",
         "y": [
          299,
          299,
          298,
          298,
          297,
          297,
          296,
          296,
          295,
          295,
          294,
          294,
          293,
          293,
          292,
          292,
          291,
          291,
          290,
          290,
          289,
          289,
          288,
          288,
          287,
          287,
          286,
          286,
          285,
          285,
          284,
          284,
          283,
          283,
          282,
          282,
          281,
          281,
          280,
          280,
          279,
          279,
          278,
          278,
          277,
          277,
          276,
          276,
          275,
          275,
          274,
          274,
          273,
          273,
          272,
          272,
          271,
          271,
          270,
          270,
          269,
          269,
          268,
          268,
          267,
          267,
          266,
          266,
          265,
          265,
          264,
          264,
          263,
          263,
          262
         ],
         "yaxis": "y2"
        },
        {
         "mode": "lines",
         "name": "Printable",
         "type": "scatter",
         "x": [
          0,
          1,
          2,
          3,
          4,
          5,
          6,
          7,
          8,
          9,
          10,
          11,
          12,
          13,
          14,
          15,
          16,
          17,
          18,
          19,
          20,
          21,
          22,
          23,
          24,
          25,
          26,
          27,
          28,
          29,
          30,
          31,
          32,
          33,
          34,
          35,
          36,
          37,
          38,
          39,
          40,
          41,
          42,
          43,
          44,
          45,
          46,
          47,
          48,
          49,
          50,
          51,
          52,
          53,
          54,
          55,
          56,
          57,
          58,
          59,
          60,
          61,
          62,
          63,
          64,
          65,
          66,
          67,
          68,
          69,
          70,
          71,
          72,
          73,
          74
         ],
         "xaxis": "x2",
         "y": [
          99,
          99,
          98,
          98,
          97,
          97,
          96,
          96,
          95,
          95,
          94,
          94,
          93,
          93,
          92,
          92,
          91,
          91,
          90,
          90,
          89,
          89,
          88,
          88,
          87,
          87,
          86,
          86,
          85,
          85,
          84,
          84,
          83,
          83,
          82,
          82,
          81,
          81,
          80,
          80,
          79,
          79,
          78,
          78,
          77,
          77,
          76,
          76,
          75,
          75,
          74,
          74,
          73,
          73,
          72,
          72,
          71,
          71,
          70,
          70,
          69,
          69,
          68,
          68,
          67,
          67,
          66,
          66,
          65,
          65,
          64,
          64,
          63,
          63,
          62
         ],
         "yaxis": "y2"
        },
        {
         "mode": "lines",
         "name": "Materials",
         "type": "scatter",
         "x": [
          0,
          1,
          2,
          3,
          4,
          5,
          6,
          7,
          8,
          9,
          10,
          11,
          12,
          13,
          14,
          15,
          16,
          17,
          18,
          19,
          20,
          21,
          22,
          23,
          24,
          25,
          26,
          27,
          28,
          29,
          30,
          31,
          32,
          33,
          34,
          35,
          36,
          37,
          38,
          39,
          40,
          41,
          42,
          43,
          44,
          45,
          46,
          47,
          48,
          49,
          50,
          51,
          52,
          53,
          54,
          55,
          56,
          57,
          58,
          59,
          60,
          61,
          62,
          63,
          64,
          65,
          66,
          67,
          68,
          69,
          70,
          71,
          72,
          73,
          74
         ],
         "xaxis": "x2",
         "y": [
          49,
          49,
          49,
          51,
          53,
          57,
          61,
          67,
          73,
          81,
          89,
          99,
          109,
          121,
          133,
          147,
          161,
          177,
          193,
          211,
          229,
          249,
          269,
          291,
          313,
          337,
          361,
          387,
          413,
          441,
          469,
          499,
          529,
          533,
          532,
          532,
          531,
          531,
          530,
          530,
          529,
          529,
          528,
          528,
          527,
          527,
          526,
          526,
          525,
          525,
          524,
          524,
          523,
          523,
          522,
          522,
          521,
          521,
          520,
          520,
          519,
          519,
          518,
          518,
          517,
          517,
          516,
          516,
          515,
          515,
          514,
          514,
          513,
          513,
          512
         ],
         "yaxis": "y2"
        },
        {
         "mode": "lines",
         "name": "Env_Materials",
         "type": "scatter",
         "x": [
          0,
          1,
          2,
          3,
          4,
          5,
          6,
          7,
          8,
          9,
          10,
          11,
          12,
          13,
          14,
          15,
          16,
          17,
          18,
          19,
          20,
          21,
          22,
          23,
          24,
          25,
          26,
          27,
          28,
          29,
          30,
          31,
          32,
          33,
          34,
          35,
          36,
          37,
          38,
          39,
          40,
          41,
          42,
          43,
          44,
          45,
          46,
          47,
          48,
          49,
          50,
          51,
          52,
          53,
          54,
          55,
          56,
          57,
          58,
          59,
          60,
          61,
          62,
          63,
          64,
          65,
          66,
          67,
          68,
          69,
          70,
          71,
          72,
          73,
          74
         ],
         "xaxis": "x2",
         "y": [
          500,
          500,
          499,
          497,
          494,
          490,
          485,
          479,
          472,
          464,
          455,
          445,
          434,
          422,
          409,
          395,
          380,
          364,
          347,
          329,
          310,
          290,
          269,
          247,
          224,
          200,
          175,
          149,
          122,
          94,
          65,
          35,
          4,
          0,
          0,
          0,
          0,
          0,
          0,
          0,
          0,
          0,
          0,
          0,
          0,
          0,
          0,
          0,
          0,
          0,
          0,
          0,
          0,
          0,
          0,
          0,
          0,
          0,
          0,
          0,
          0,
          0,
          0,
          0,
          0,
          0,
          0,
          0,
          0,
          0,
          0,
          0,
          0,
          0,
          0
         ],
         "yaxis": "y2"
        },
        {
         "mode": "lines",
         "name": "Avg. Quality #in",
         "type": "scatter",
         "x": [
          0,
          1,
          2,
          3,
          4,
          5,
          6,
          7,
          8,
          9,
          10,
          11,
          12,
          13,
          14,
          15,
          16,
          17,
          18,
          19,
          20,
          21,
          22,
          23,
          24,
          25,
          26,
          27,
          28,
          29,
          30,
          31,
          32,
          33,
          34,
          35,
          36,
          37,
          38,
          39,
          40,
          41,
          42,
          43,
          44,
          45,
          46,
          47,
          48,
          49,
          50,
          51,
          52,
          53,
          54,
          55,
          56,
          57,
          58,
          59,
          60,
          61,
          62,
          63,
          64,
          65,
          66,
          67,
          68,
          69,
          70,
          71,
          72,
          73,
          74
         ],
         "xaxis": "x4",
         "y": [
          0.864,
          0.864,
          0.778,
          0.778,
          0.788,
          0.788,
          0.748,
          0.748,
          0.725,
          0.725,
          0.739,
          0.739,
          0.743,
          0.743,
          0.751,
          0.751,
          0.738,
          0.738,
          0.732,
          0.732,
          0.732,
          0.732,
          0.722,
          0.722,
          0.729,
          0.729,
          0.737,
          0.737,
          0.732,
          0.732,
          0.725,
          0.725,
          0.724,
          0.724,
          0.73,
          0.73,
          0.726,
          0.726,
          0.727,
          0.727,
          0.732,
          0.732,
          0.732,
          0.732,
          0.727,
          0.727,
          0.731,
          0.731,
          0.734,
          0.734,
          0.73,
          0.73,
          0.732,
          0.732,
          0.735,
          0.735,
          0.739,
          0.739,
          0.741,
          0.741,
          0.743,
          0.743,
          0.743,
          0.743,
          0.742,
          0.742,
          0.738,
          0.738,
          0.736,
          0.736,
          0.734,
          0.734,
          0.731,
          0.731,
          0.729
         ],
         "yaxis": "y4"
        },
        {
         "mode": "lines",
         "name": "Avg. Quality #total",
         "type": "scatter",
         "x": [
          0,
          1,
          2,
          3,
          4,
          5,
          6,
          7,
          8,
          9,
          10,
          11,
          12,
          13,
          14,
          15,
          16,
          17,
          18,
          19,
          20,
          21,
          22,
          23,
          24,
          25,
          26,
          27,
          28,
          29,
          30,
          31,
          32,
          33,
          34,
          35,
          36,
          37,
          38,
          39,
          40,
          41,
          42,
          43,
          44,
          45,
          46,
          47,
          48,
          49,
          50,
          51,
          52,
          53,
          54,
          55,
          56,
          57,
          58,
          59,
          60,
          61,
          62,
          63,
          64,
          65,
          66,
          67,
          68,
          69,
          70,
          71,
          72,
          73,
          74
         ],
         "xaxis": "x4",
         "y": [
          0.864,
          0.864,
          0.778,
          0.778,
          0.788,
          0.788,
          0.748,
          0.748,
          0.725,
          0.725,
          0.739,
          0.739,
          0.743,
          0.743,
          0.751,
          0.751,
          0.738,
          0.738,
          0.732,
          0.732,
          0.732,
          0.732,
          0.722,
          0.722,
          0.729,
          0.729,
          0.737,
          0.737,
          0.732,
          0.732,
          0.725,
          0.725,
          0.724,
          0.724,
          0.73,
          0.73,
          0.726,
          0.726,
          0.727,
          0.727,
          0.732,
          0.732,
          0.732,
          0.732,
          0.727,
          0.727,
          0.731,
          0.731,
          0.734,
          0.734,
          0.73,
          0.73,
          0.732,
          0.732,
          0.735,
          0.735,
          0.739,
          0.739,
          0.741,
          0.741,
          0.743,
          0.743,
          0.743,
          0.743,
          0.742,
          0.742,
          0.738,
          0.738,
          0.736,
          0.736,
          0.734,
          0.734,
          0.731,
          0.731,
          0.729
         ],
         "yaxis": "y4"
        }
       ],
       "layout": {
        "annotations": [
         {
          "font": {
           "size": 16
          },
          "showarrow": false,
          "text": "Types of Robots vs Time",
          "x": 0.225,
          "xanchor": "center",
          "xref": "paper",
          "y": 1,
          "yanchor": "bottom",
          "yref": "paper"
         },
         {
          "font": {
           "size": 16
          },
          "showarrow": false,
          "text": "Resources vs Time",
          "x": 0.775,
          "xanchor": "center",
          "xref": "paper",
          "y": 1,
          "yanchor": "bottom",
          "yref": "paper"
         },
         {
          "font": {
           "size": 16
          },
          "showarrow": false,
          "text": "Tasks of Robots vs Time",
          "x": 0.225,
          "xanchor": "center",
          "xref": "paper",
          "y": 0.375,
          "yanchor": "bottom",
          "yref": "paper"
         },
         {
          "font": {
           "size": 16
          },
          "showarrow": false,
          "text": "Build Quality vs Time",
          "x": 0.775,
          "xanchor": "center",
          "xref": "paper",
          "y": 0.375,
          "yanchor": "bottom",
          "yref": "paper"
         }
        ],
        "hovermode": "x",
        "template": {
         "data": {
          "bar": [
           {
            "error_x": {
             "color": "#2a3f5f"
            },
            "error_y": {
             "color": "#2a3f5f"
            },
            "marker": {
             "line": {
              "color": "#E5ECF6",
              "width": 0.5
             },
             "pattern": {
              "fillmode": "overlay",
              "size": 10,
              "solidity": 0.2
             }
            },
            "type": "bar"
           }
          ],
          "barpolar": [
           {
            "marker": {
             "line": {
              "color": "#E5ECF6",
              "width": 0.5
             },
             "pattern": {
              "fillmode": "overlay",
              "size": 10,
              "solidity": 0.2
             }
            },
            "type": "barpolar"
           }
          ],
          "carpet": [
           {
            "aaxis": {
             "endlinecolor": "#2a3f5f",
             "gridcolor": "white",
             "linecolor": "white",
             "minorgridcolor": "white",
             "startlinecolor": "#2a3f5f"
            },
            "baxis": {
             "endlinecolor": "#2a3f5f",
             "gridcolor": "white",
             "linecolor": "white",
             "minorgridcolor": "white",
             "startlinecolor": "#2a3f5f"
            },
            "type": "carpet"
           }
          ],
          "choropleth": [
           {
            "colorbar": {
             "outlinewidth": 0,
             "ticks": ""
            },
            "type": "choropleth"
           }
          ],
          "contour": [
           {
            "colorbar": {
             "outlinewidth": 0,
             "ticks": ""
            },
            "colorscale": [
             [
              0,
              "#0d0887"
             ],
             [
              0.1111111111111111,
              "#46039f"
             ],
             [
              0.2222222222222222,
              "#7201a8"
             ],
             [
              0.3333333333333333,
              "#9c179e"
             ],
             [
              0.4444444444444444,
              "#bd3786"
             ],
             [
              0.5555555555555556,
              "#d8576b"
             ],
             [
              0.6666666666666666,
              "#ed7953"
             ],
             [
              0.7777777777777778,
              "#fb9f3a"
             ],
             [
              0.8888888888888888,
              "#fdca26"
             ],
             [
              1,
              "#f0f921"
             ]
            ],
            "type": "contour"
           }
          ],
          "contourcarpet": [
           {
            "colorbar": {
             "outlinewidth": 0,
             "ticks": ""
            },
            "type": "contourcarpet"
           }
          ],
          "heatmap": [
           {
            "colorbar": {
             "outlinewidth": 0,
             "ticks": ""
            },
            "colorscale": [
             [
              0,
              "#0d0887"
             ],
             [
              0.1111111111111111,
              "#46039f"
             ],
             [
              0.2222222222222222,
              "#7201a8"
             ],
             [
              0.3333333333333333,
              "#9c179e"
             ],
             [
              0.4444444444444444,
              "#bd3786"
             ],
             [
              0.5555555555555556,
              "#d8576b"
             ],
             [
              0.6666666666666666,
              "#ed7953"
             ],
             [
              0.7777777777777778,
              "#fb9f3a"
             ],
             [
              0.8888888888888888,
              "#fdca26"
             ],
             [
              1,
              "#f0f921"
             ]
            ],
            "type": "heatmap"
           }
          ],
          "heatmapgl": [
           {
            "colorbar": {
             "outlinewidth": 0,
             "ticks": ""
            },
            "colorscale": [
             [
              0,
              "#0d0887"
             ],
             [
              0.1111111111111111,
              "#46039f"
             ],
             [
              0.2222222222222222,
              "#7201a8"
             ],
             [
              0.3333333333333333,
              "#9c179e"
             ],
             [
              0.4444444444444444,
              "#bd3786"
             ],
             [
              0.5555555555555556,
              "#d8576b"
             ],
             [
              0.6666666666666666,
              "#ed7953"
             ],
             [
              0.7777777777777778,
              "#fb9f3a"
             ],
             [
              0.8888888888888888,
              "#fdca26"
             ],
             [
              1,
              "#f0f921"
             ]
            ],
            "type": "heatmapgl"
           }
          ],
          "histogram": [
           {
            "marker": {
             "pattern": {
              "fillmode": "overlay",
              "size": 10,
              "solidity": 0.2
             }
            },
            "type": "histogram"
           }
          ],
          "histogram2d": [
           {
            "colorbar": {
             "outlinewidth": 0,
             "ticks": ""
            },
            "colorscale": [
             [
              0,
              "#0d0887"
             ],
             [
              0.1111111111111111,
              "#46039f"
             ],
             [
              0.2222222222222222,
              "#7201a8"
             ],
             [
              0.3333333333333333,
              "#9c179e"
             ],
             [
              0.4444444444444444,
              "#bd3786"
             ],
             [
              0.5555555555555556,
              "#d8576b"
             ],
             [
              0.6666666666666666,
              "#ed7953"
             ],
             [
              0.7777777777777778,
              "#fb9f3a"
             ],
             [
              0.8888888888888888,
              "#fdca26"
             ],
             [
              1,
              "#f0f921"
             ]
            ],
            "type": "histogram2d"
           }
          ],
          "histogram2dcontour": [
           {
            "colorbar": {
             "outlinewidth": 0,
             "ticks": ""
            },
            "colorscale": [
             [
              0,
              "#0d0887"
             ],
             [
              0.1111111111111111,
              "#46039f"
             ],
             [
              0.2222222222222222,
              "#7201a8"
             ],
             [
              0.3333333333333333,
              "#9c179e"
             ],
             [
              0.4444444444444444,
              "#bd3786"
             ],
             [
              0.5555555555555556,
              "#d8576b"
             ],
             [
              0.6666666666666666,
              "#ed7953"
             ],
             [
              0.7777777777777778,
              "#fb9f3a"
             ],
             [
              0.8888888888888888,
              "#fdca26"
             ],
             [
              1,
              "#f0f921"
             ]
            ],
            "type": "histogram2dcontour"
           }
          ],
          "mesh3d": [
           {
            "colorbar": {
             "outlinewidth": 0,
             "ticks": ""
            },
            "type": "mesh3d"
           }
          ],
          "parcoords": [
           {
            "line": {
             "colorbar": {
              "outlinewidth": 0,
              "ticks": ""
             }
            },
            "type": "parcoords"
           }
          ],
          "pie": [
           {
            "automargin": true,
            "type": "pie"
           }
          ],
          "scatter": [
           {
            "fillpattern": {
             "fillmode": "overlay",
             "size": 10,
             "solidity": 0.2
            },
            "type": "scatter"
           }
          ],
          "scatter3d": [
           {
            "line": {
             "colorbar": {
              "outlinewidth": 0,
              "ticks": ""
             }
            },
            "marker": {
             "colorbar": {
              "outlinewidth": 0,
              "ticks": ""
             }
            },
            "type": "scatter3d"
           }
          ],
          "scattercarpet": [
           {
            "marker": {
             "colorbar": {
              "outlinewidth": 0,
              "ticks": ""
             }
            },
            "type": "scattercarpet"
           }
          ],
          "scattergeo": [
           {
            "marker": {
             "colorbar": {
              "outlinewidth": 0,
              "ticks": ""
             }
            },
            "type": "scattergeo"
           }
          ],
          "scattergl": [
           {
            "marker": {
             "colorbar": {
              "outlinewidth": 0,
              "ticks": ""
             }
            },
            "type": "scattergl"
           }
          ],
          "scattermapbox": [
           {
            "marker": {
             "colorbar": {
              "outlinewidth": 0,
              "ticks": ""
             }
            },
            "type": "scattermapbox"
           }
          ],
          "scatterpolar": [
           {
            "marker": {
             "colorbar": {
              "outlinewidth": 0,
              "ticks": ""
             }
            },
            "type": "scatterpolar"
           }
          ],
          "scatterpolargl": [
           {
            "marker": {
             "colorbar": {
              "outlinewidth": 0,
              "ticks": ""
             }
            },
            "type": "scatterpolargl"
           }
          ],
          "scatterternary": [
           {
            "marker": {
             "colorbar": {
              "outlinewidth": 0,
              "ticks": ""
             }
            },
            "type": "scatterternary"
           }
          ],
          "surface": [
           {
            "colorbar": {
             "outlinewidth": 0,
             "ticks": ""
            },
            "colorscale": [
             [
              0,
              "#0d0887"
             ],
             [
              0.1111111111111111,
              "#46039f"
             ],
             [
              0.2222222222222222,
              "#7201a8"
             ],
             [
              0.3333333333333333,
              "#9c179e"
             ],
             [
              0.4444444444444444,
              "#bd3786"
             ],
             [
              0.5555555555555556,
              "#d8576b"
             ],
             [
              0.6666666666666666,
              "#ed7953"
             ],
             [
              0.7777777777777778,
              "#fb9f3a"
             ],
             [
              0.8888888888888888,
              "#fdca26"
             ],
             [
              1,
              "#f0f921"
             ]
            ],
            "type": "surface"
           }
          ],
          "table": [
           {
            "cells": {
             "fill": {
              "color": "#EBF0F8"
             },
             "line": {
              "color": "white"
             }
            },
            "header": {
             "fill": {
              "color": "#C8D4E3"
             },
             "line": {
              "color": "white"
             }
            },
            "type": "table"
           }
          ]
         },
         "layout": {
          "annotationdefaults": {
           "arrowcolor": "#2a3f5f",
           "arrowhead": 0,
           "arrowwidth": 1
          },
          "autotypenumbers": "strict",
          "coloraxis": {
           "colorbar": {
            "outlinewidth": 0,
            "ticks": ""
           }
          },
          "colorscale": {
           "diverging": [
            [
             0,
             "#8e0152"
            ],
            [
             0.1,
             "#c51b7d"
            ],
            [
             0.2,
             "#de77ae"
            ],
            [
             0.3,
             "#f1b6da"
            ],
            [
             0.4,
             "#fde0ef"
            ],
            [
             0.5,
             "#f7f7f7"
            ],
            [
             0.6,
             "#e6f5d0"
            ],
            [
             0.7,
             "#b8e186"
            ],
            [
             0.8,
             "#7fbc41"
            ],
            [
             0.9,
             "#4d9221"
            ],
            [
             1,
             "#276419"
            ]
           ],
           "sequential": [
            [
             0,
             "#0d0887"
            ],
            [
             0.1111111111111111,
             "#46039f"
            ],
            [
             0.2222222222222222,
             "#7201a8"
            ],
            [
             0.3333333333333333,
             "#9c179e"
            ],
            [
             0.4444444444444444,
             "#bd3786"
            ],
            [
             0.5555555555555556,
             "#d8576b"
            ],
            [
             0.6666666666666666,
             "#ed7953"
            ],
            [
             0.7777777777777778,
             "#fb9f3a"
            ],
            [
             0.8888888888888888,
             "#fdca26"
            ],
            [
             1,
             "#f0f921"
            ]
           ],
           "sequentialminus": [
            [
             0,
             "#0d0887"
            ],
            [
             0.1111111111111111,
             "#46039f"
            ],
            [
             0.2222222222222222,
             "#7201a8"
            ],
            [
             0.3333333333333333,
             "#9c179e"
            ],
            [
             0.4444444444444444,
             "#bd3786"
            ],
            [
             0.5555555555555556,
             "#d8576b"
            ],
            [
             0.6666666666666666,
             "#ed7953"
            ],
            [
             0.7777777777777778,
             "#fb9f3a"
            ],
            [
             0.8888888888888888,
             "#fdca26"
            ],
            [
             1,
             "#f0f921"
            ]
           ]
          },
          "colorway": [
           "#636efa",
           "#EF553B",
           "#00cc96",
           "#ab63fa",
           "#FFA15A",
           "#19d3f3",
           "#FF6692",
           "#B6E880",
           "#FF97FF",
           "#FECB52"
          ],
          "font": {
           "color": "#2a3f5f"
          },
          "geo": {
           "bgcolor": "white",
           "lakecolor": "white",
           "landcolor": "#E5ECF6",
           "showlakes": true,
           "showland": true,
           "subunitcolor": "white"
          },
          "hoverlabel": {
           "align": "left"
          },
          "hovermode": "closest",
          "mapbox": {
           "style": "light"
          },
          "paper_bgcolor": "white",
          "plot_bgcolor": "#E5ECF6",
          "polar": {
           "angularaxis": {
            "gridcolor": "white",
            "linecolor": "white",
            "ticks": ""
           },
           "bgcolor": "#E5ECF6",
           "radialaxis": {
            "gridcolor": "white",
            "linecolor": "white",
            "ticks": ""
           }
          },
          "scene": {
           "xaxis": {
            "backgroundcolor": "#E5ECF6",
            "gridcolor": "white",
            "gridwidth": 2,
            "linecolor": "white",
            "showbackground": true,
            "ticks": "",
            "zerolinecolor": "white"
           },
           "yaxis": {
            "backgroundcolor": "#E5ECF6",
            "gridcolor": "white",
            "gridwidth": 2,
            "linecolor": "white",
            "showbackground": true,
            "ticks": "",
            "zerolinecolor": "white"
           },
           "zaxis": {
            "backgroundcolor": "#E5ECF6",
            "gridcolor": "white",
            "gridwidth": 2,
            "linecolor": "white",
            "showbackground": true,
            "ticks": "",
            "zerolinecolor": "white"
           }
          },
          "shapedefaults": {
           "line": {
            "color": "#2a3f5f"
           }
          },
          "ternary": {
           "aaxis": {
            "gridcolor": "white",
            "linecolor": "white",
            "ticks": ""
           },
           "baxis": {
            "gridcolor": "white",
            "linecolor": "white",
            "ticks": ""
           },
           "bgcolor": "#E5ECF6",
           "caxis": {
            "gridcolor": "white",
            "linecolor": "white",
            "ticks": ""
           }
          },
          "title": {
           "x": 0.05
          },
          "xaxis": {
           "automargin": true,
           "gridcolor": "white",
           "linecolor": "white",
           "ticks": "",
           "title": {
            "standoff": 15
           },
           "zerolinecolor": "white",
           "zerolinewidth": 2
          },
          "yaxis": {
           "automargin": true,
           "gridcolor": "white",
           "linecolor": "white",
           "ticks": "",
           "title": {
            "standoff": 15
           },
           "zerolinecolor": "white",
           "zerolinewidth": 2
          }
         }
        },
        "title": {
         "text": "CHE - Characteristics"
        },
        "xaxis": {
         "anchor": "y",
         "domain": [
          0,
          0.45
         ]
        },
        "xaxis2": {
         "anchor": "y2",
         "domain": [
          0.55,
          1
         ]
        },
        "xaxis3": {
         "anchor": "y3",
         "domain": [
          0,
          0.45
         ]
        },
        "xaxis4": {
         "anchor": "y4",
         "domain": [
          0.55,
          1
         ]
        },
        "yaxis": {
         "anchor": "x",
         "domain": [
          0.625,
          1
         ]
        },
        "yaxis2": {
         "anchor": "x2",
         "domain": [
          0.625,
          1
         ]
        },
        "yaxis3": {
         "anchor": "x3",
         "domain": [
          0,
          0.375
         ]
        },
        "yaxis4": {
         "anchor": "x4",
         "domain": [
          0,
          0.375
         ]
        }
       }
      },
      "text/html": [
       "<div>                            <div id=\"5049925c-916a-4eea-9f4a-0363ad57aaa6\" class=\"plotly-graph-div\" style=\"height:525px; width:100%;\"></div>            <script type=\"text/javascript\">                require([\"plotly\"], function(Plotly) {                    window.PLOTLYENV=window.PLOTLYENV || {};                                    if (document.getElementById(\"5049925c-916a-4eea-9f4a-0363ad57aaa6\")) {                    Plotly.newPlot(                        \"5049925c-916a-4eea-9f4a-0363ad57aaa6\",                        [{\"name\":\"#Replicator\",\"x\":[0.0,1.0,2.0,3.0,4.0,5.0,6.0,7.0,8.0,9.0,10.0,11.0,12.0,13.0,14.0,15.0,16.0,17.0,18.0,19.0,20.0,21.0,22.0,23.0,24.0,25.0,26.0,27.0,28.0,29.0,30.0,31.0,32.0,33.0,34.0,35.0,36.0,37.0,38.0,39.0,40.0,41.0,42.0,43.0,44.0,45.0,46.0,47.0,48.0,49.0,50.0,51.0,52.0,53.0,54.0,55.0,56.0,57.0,58.0,59.0,60.0,61.0,62.0,63.0,64.0,65.0,66.0,67.0,68.0,69.0,70.0,71.0,72.0,73.0,74.0],\"y\":[0.0,0.0,0.0,0.0,0.0,0.0,0.0,0.0,0.0,0.0,0.0,0.0,0.0,0.0,0.0,0.0,0.0,0.0,0.0,0.0,0.0,0.0,0.0,0.0,0.0,0.0,0.0,0.0,0.0,0.0,0.0,0.0,0.0,0.0,0.0,0.0,0.0,0.0,0.0,0.0,0.0,0.0,0.0,0.0,0.0,0.0,0.0,0.0,0.0,0.0,0.0,0.0,0.0,0.0,0.0,0.0,0.0,0.0,0.0,0.0,0.0,0.0,0.0,0.0,0.0,0.0,0.0,0.0,0.0,0.0,0.0,0.0,0.0,0.0,0.0],\"type\":\"bar\",\"xaxis\":\"x\",\"yaxis\":\"y\"},{\"name\":\"#Normal\",\"x\":[0.0,1.0,2.0,3.0,4.0,5.0,6.0,7.0,8.0,9.0,10.0,11.0,12.0,13.0,14.0,15.0,16.0,17.0,18.0,19.0,20.0,21.0,22.0,23.0,24.0,25.0,26.0,27.0,28.0,29.0,30.0,31.0,32.0,33.0,34.0,35.0,36.0,37.0,38.0,39.0,40.0,41.0,42.0,43.0,44.0,45.0,46.0,47.0,48.0,49.0,50.0,51.0,52.0,53.0,54.0,55.0,56.0,57.0,58.0,59.0,60.0,61.0,62.0,63.0,64.0,65.0,66.0,67.0,68.0,69.0,70.0,71.0,72.0,73.0,74.0],\"y\":[0.0,0.0,2.0,2.0,4.0,4.0,6.0,6.0,8.0,8.0,10.0,10.0,12.0,12.0,14.0,14.0,16.0,16.0,18.0,18.0,20.0,20.0,22.0,22.0,24.0,24.0,26.0,26.0,28.0,28.0,30.0,30.0,32.0,32.0,34.0,34.0,36.0,36.0,38.0,38.0,40.0,40.0,42.0,42.0,44.0,44.0,46.0,46.0,48.0,48.0,50.0,50.0,52.0,52.0,54.0,54.0,56.0,56.0,58.0,58.0,60.0,60.0,62.0,62.0,64.0,64.0,66.0,66.0,68.0,68.0,70.0,70.0,72.0,72.0,74.0],\"type\":\"bar\",\"xaxis\":\"x\",\"yaxis\":\"y\"},{\"name\":\"#Assembler\",\"x\":[0.0,1.0,2.0,3.0,4.0,5.0,6.0,7.0,8.0,9.0,10.0,11.0,12.0,13.0,14.0,15.0,16.0,17.0,18.0,19.0,20.0,21.0,22.0,23.0,24.0,25.0,26.0,27.0,28.0,29.0,30.0,31.0,32.0,33.0,34.0,35.0,36.0,37.0,38.0,39.0,40.0,41.0,42.0,43.0,44.0,45.0,46.0,47.0,48.0,49.0,50.0,51.0,52.0,53.0,54.0,55.0,56.0,57.0,58.0,59.0,60.0,61.0,62.0,63.0,64.0,65.0,66.0,67.0,68.0,69.0,70.0,71.0,72.0,73.0,74.0],\"y\":[1.0,1.0,1.0,1.0,1.0,1.0,1.0,1.0,1.0,1.0,1.0,1.0,1.0,1.0,1.0,1.0,1.0,1.0,1.0,1.0,1.0,1.0,1.0,1.0,1.0,1.0,1.0,1.0,1.0,1.0,1.0,1.0,1.0,1.0,1.0,1.0,1.0,1.0,1.0,1.0,1.0,1.0,1.0,1.0,1.0,1.0,1.0,1.0,1.0,1.0,1.0,1.0,1.0,1.0,1.0,1.0,1.0,1.0,1.0,1.0,1.0,1.0,1.0,1.0,1.0,1.0,1.0,1.0,1.0,1.0,1.0,1.0,1.0,1.0,1.0],\"type\":\"bar\",\"xaxis\":\"x\",\"yaxis\":\"y\"},{\"name\":\"#Printer\",\"x\":[0.0,1.0,2.0,3.0,4.0,5.0,6.0,7.0,8.0,9.0,10.0,11.0,12.0,13.0,14.0,15.0,16.0,17.0,18.0,19.0,20.0,21.0,22.0,23.0,24.0,25.0,26.0,27.0,28.0,29.0,30.0,31.0,32.0,33.0,34.0,35.0,36.0,37.0,38.0,39.0,40.0,41.0,42.0,43.0,44.0,45.0,46.0,47.0,48.0,49.0,50.0,51.0,52.0,53.0,54.0,55.0,56.0,57.0,58.0,59.0,60.0,61.0,62.0,63.0,64.0,65.0,66.0,67.0,68.0,69.0,70.0,71.0,72.0,73.0,74.0],\"y\":[1.0,1.0,1.0,1.0,1.0,1.0,1.0,1.0,1.0,1.0,1.0,1.0,1.0,1.0,1.0,1.0,1.0,1.0,1.0,1.0,1.0,1.0,1.0,1.0,1.0,1.0,1.0,1.0,1.0,1.0,1.0,1.0,1.0,1.0,1.0,1.0,1.0,1.0,1.0,1.0,1.0,1.0,1.0,1.0,1.0,1.0,1.0,1.0,1.0,1.0,1.0,1.0,1.0,1.0,1.0,1.0,1.0,1.0,1.0,1.0,1.0,1.0,1.0,1.0,1.0,1.0,1.0,1.0,1.0,1.0,1.0,1.0,1.0,1.0,1.0],\"type\":\"bar\",\"xaxis\":\"x\",\"yaxis\":\"y\"},{\"name\":\"#Assembling\",\"x\":[0.0,1.0,2.0,3.0,4.0,5.0,6.0,7.0,8.0,9.0,10.0,11.0,12.0,13.0,14.0,15.0,16.0,17.0,18.0,19.0,20.0,21.0,22.0,23.0,24.0,25.0,26.0,27.0,28.0,29.0,30.0,31.0,32.0,33.0,34.0,35.0,36.0,37.0,38.0,39.0,40.0,41.0,42.0,43.0,44.0,45.0,46.0,47.0,48.0,49.0,50.0,51.0,52.0,53.0,54.0,55.0,56.0,57.0,58.0,59.0,60.0,61.0,62.0,63.0,64.0,65.0,66.0,67.0,68.0,69.0,70.0,71.0,72.0,73.0,74.0],\"y\":[1.0,1.0,1.0,1.0,1.0,1.0,1.0,1.0,1.0,1.0,1.0,1.0,1.0,1.0,1.0,1.0,1.0,1.0,1.0,1.0,1.0,1.0,1.0,1.0,1.0,1.0,1.0,1.0,1.0,1.0,1.0,1.0,1.0,1.0,1.0,1.0,1.0,1.0,1.0,1.0,1.0,1.0,1.0,1.0,1.0,1.0,1.0,1.0,1.0,1.0,1.0,1.0,1.0,1.0,1.0,1.0,1.0,1.0,1.0,1.0,1.0,1.0,1.0,1.0,1.0,1.0,1.0,1.0,1.0,1.0,1.0,1.0,1.0,1.0,1.0],\"type\":\"bar\",\"xaxis\":\"x3\",\"yaxis\":\"y3\"},{\"name\":\"#Printing\",\"x\":[0.0,1.0,2.0,3.0,4.0,5.0,6.0,7.0,8.0,9.0,10.0,11.0,12.0,13.0,14.0,15.0,16.0,17.0,18.0,19.0,20.0,21.0,22.0,23.0,24.0,25.0,26.0,27.0,28.0,29.0,30.0,31.0,32.0,33.0,34.0,35.0,36.0,37.0,38.0,39.0,40.0,41.0,42.0,43.0,44.0,45.0,46.0,47.0,48.0,49.0,50.0,51.0,52.0,53.0,54.0,55.0,56.0,57.0,58.0,59.0,60.0,61.0,62.0,63.0,64.0,65.0,66.0,67.0,68.0,69.0,70.0,71.0,72.0,73.0,74.0],\"y\":[1.0,1.0,1.0,1.0,1.0,1.0,1.0,1.0,1.0,1.0,1.0,1.0,1.0,1.0,1.0,1.0,1.0,1.0,1.0,1.0,1.0,1.0,1.0,1.0,1.0,1.0,1.0,1.0,1.0,1.0,1.0,1.0,1.0,1.0,1.0,1.0,1.0,1.0,1.0,1.0,1.0,1.0,1.0,1.0,1.0,1.0,1.0,1.0,1.0,1.0,1.0,1.0,1.0,1.0,1.0,1.0,1.0,1.0,1.0,1.0,1.0,1.0,1.0,1.0,1.0,1.0,1.0,1.0,1.0,1.0,1.0,1.0,1.0,1.0,1.0],\"type\":\"bar\",\"xaxis\":\"x3\",\"yaxis\":\"y3\"},{\"name\":\"#Collecting\",\"x\":[0.0,1.0,2.0,3.0,4.0,5.0,6.0,7.0,8.0,9.0,10.0,11.0,12.0,13.0,14.0,15.0,16.0,17.0,18.0,19.0,20.0,21.0,22.0,23.0,24.0,25.0,26.0,27.0,28.0,29.0,30.0,31.0,32.0,33.0,34.0,35.0,36.0,37.0,38.0,39.0,40.0,41.0,42.0,43.0,44.0,45.0,46.0,47.0,48.0,49.0,50.0,51.0,52.0,53.0,54.0,55.0,56.0,57.0,58.0,59.0,60.0,61.0,62.0,63.0,64.0,65.0,66.0,67.0,68.0,69.0,70.0,71.0,72.0,73.0,74.0],\"y\":[0.0,0.0,2.0,2.0,4.0,4.0,6.0,6.0,8.0,8.0,10.0,10.0,12.0,12.0,14.0,14.0,16.0,16.0,18.0,18.0,20.0,20.0,22.0,22.0,24.0,24.0,26.0,26.0,28.0,28.0,30.0,30.0,32.0,4.0,0.0,0.0,0.0,0.0,0.0,0.0,0.0,0.0,0.0,0.0,0.0,0.0,0.0,0.0,0.0,0.0,0.0,0.0,0.0,0.0,0.0,0.0,0.0,0.0,0.0,0.0,0.0,0.0,0.0,0.0,0.0,0.0,0.0,0.0,0.0,0.0,0.0,0.0,0.0,0.0,0.0],\"type\":\"bar\",\"xaxis\":\"x3\",\"yaxis\":\"y3\"},{\"name\":\"#Idle\",\"x\":[0.0,1.0,2.0,3.0,4.0,5.0,6.0,7.0,8.0,9.0,10.0,11.0,12.0,13.0,14.0,15.0,16.0,17.0,18.0,19.0,20.0,21.0,22.0,23.0,24.0,25.0,26.0,27.0,28.0,29.0,30.0,31.0,32.0,33.0,34.0,35.0,36.0,37.0,38.0,39.0,40.0,41.0,42.0,43.0,44.0,45.0,46.0,47.0,48.0,49.0,50.0,51.0,52.0,53.0,54.0,55.0,56.0,57.0,58.0,59.0,60.0,61.0,62.0,63.0,64.0,65.0,66.0,67.0,68.0,69.0,70.0,71.0,72.0,73.0,74.0],\"y\":[0.0,0.0,0.0,0.0,0.0,0.0,0.0,0.0,0.0,0.0,0.0,0.0,0.0,0.0,0.0,0.0,0.0,0.0,0.0,0.0,0.0,0.0,0.0,0.0,0.0,0.0,0.0,0.0,0.0,0.0,0.0,0.0,0.0,28.0,34.0,34.0,36.0,36.0,38.0,38.0,40.0,40.0,42.0,42.0,44.0,44.0,46.0,46.0,48.0,48.0,50.0,50.0,52.0,52.0,54.0,54.0,56.0,56.0,58.0,58.0,60.0,60.0,62.0,62.0,64.0,64.0,66.0,66.0,68.0,68.0,70.0,70.0,72.0,72.0,74.0],\"type\":\"bar\",\"xaxis\":\"x3\",\"yaxis\":\"y3\"},{\"mode\":\"lines\",\"name\":\"NonPr\",\"x\":[0.0,1.0,2.0,3.0,4.0,5.0,6.0,7.0,8.0,9.0,10.0,11.0,12.0,13.0,14.0,15.0,16.0,17.0,18.0,19.0,20.0,21.0,22.0,23.0,24.0,25.0,26.0,27.0,28.0,29.0,30.0,31.0,32.0,33.0,34.0,35.0,36.0,37.0,38.0,39.0,40.0,41.0,42.0,43.0,44.0,45.0,46.0,47.0,48.0,49.0,50.0,51.0,52.0,53.0,54.0,55.0,56.0,57.0,58.0,59.0,60.0,61.0,62.0,63.0,64.0,65.0,66.0,67.0,68.0,69.0,70.0,71.0,72.0,73.0,74.0],\"y\":[299.0,299.0,298.0,298.0,297.0,297.0,296.0,296.0,295.0,295.0,294.0,294.0,293.0,293.0,292.0,292.0,291.0,291.0,290.0,290.0,289.0,289.0,288.0,288.0,287.0,287.0,286.0,286.0,285.0,285.0,284.0,284.0,283.0,283.0,282.0,282.0,281.0,281.0,280.0,280.0,279.0,279.0,278.0,278.0,277.0,277.0,276.0,276.0,275.0,275.0,274.0,274.0,273.0,273.0,272.0,272.0,271.0,271.0,270.0,270.0,269.0,269.0,268.0,268.0,267.0,267.0,266.0,266.0,265.0,265.0,264.0,264.0,263.0,263.0,262.0],\"type\":\"scatter\",\"xaxis\":\"x2\",\"yaxis\":\"y2\"},{\"mode\":\"lines\",\"name\":\"Printable\",\"x\":[0.0,1.0,2.0,3.0,4.0,5.0,6.0,7.0,8.0,9.0,10.0,11.0,12.0,13.0,14.0,15.0,16.0,17.0,18.0,19.0,20.0,21.0,22.0,23.0,24.0,25.0,26.0,27.0,28.0,29.0,30.0,31.0,32.0,33.0,34.0,35.0,36.0,37.0,38.0,39.0,40.0,41.0,42.0,43.0,44.0,45.0,46.0,47.0,48.0,49.0,50.0,51.0,52.0,53.0,54.0,55.0,56.0,57.0,58.0,59.0,60.0,61.0,62.0,63.0,64.0,65.0,66.0,67.0,68.0,69.0,70.0,71.0,72.0,73.0,74.0],\"y\":[99.0,99.0,98.0,98.0,97.0,97.0,96.0,96.0,95.0,95.0,94.0,94.0,93.0,93.0,92.0,92.0,91.0,91.0,90.0,90.0,89.0,89.0,88.0,88.0,87.0,87.0,86.0,86.0,85.0,85.0,84.0,84.0,83.0,83.0,82.0,82.0,81.0,81.0,80.0,80.0,79.0,79.0,78.0,78.0,77.0,77.0,76.0,76.0,75.0,75.0,74.0,74.0,73.0,73.0,72.0,72.0,71.0,71.0,70.0,70.0,69.0,69.0,68.0,68.0,67.0,67.0,66.0,66.0,65.0,65.0,64.0,64.0,63.0,63.0,62.0],\"type\":\"scatter\",\"xaxis\":\"x2\",\"yaxis\":\"y2\"},{\"mode\":\"lines\",\"name\":\"Materials\",\"x\":[0.0,1.0,2.0,3.0,4.0,5.0,6.0,7.0,8.0,9.0,10.0,11.0,12.0,13.0,14.0,15.0,16.0,17.0,18.0,19.0,20.0,21.0,22.0,23.0,24.0,25.0,26.0,27.0,28.0,29.0,30.0,31.0,32.0,33.0,34.0,35.0,36.0,37.0,38.0,39.0,40.0,41.0,42.0,43.0,44.0,45.0,46.0,47.0,48.0,49.0,50.0,51.0,52.0,53.0,54.0,55.0,56.0,57.0,58.0,59.0,60.0,61.0,62.0,63.0,64.0,65.0,66.0,67.0,68.0,69.0,70.0,71.0,72.0,73.0,74.0],\"y\":[49.0,49.0,49.0,51.0,53.0,57.0,61.0,67.0,73.0,81.0,89.0,99.0,109.0,121.0,133.0,147.0,161.0,177.0,193.0,211.0,229.0,249.0,269.0,291.0,313.0,337.0,361.0,387.0,413.0,441.0,469.0,499.0,529.0,533.0,532.0,532.0,531.0,531.0,530.0,530.0,529.0,529.0,528.0,528.0,527.0,527.0,526.0,526.0,525.0,525.0,524.0,524.0,523.0,523.0,522.0,522.0,521.0,521.0,520.0,520.0,519.0,519.0,518.0,518.0,517.0,517.0,516.0,516.0,515.0,515.0,514.0,514.0,513.0,513.0,512.0],\"type\":\"scatter\",\"xaxis\":\"x2\",\"yaxis\":\"y2\"},{\"mode\":\"lines\",\"name\":\"Env_Materials\",\"x\":[0.0,1.0,2.0,3.0,4.0,5.0,6.0,7.0,8.0,9.0,10.0,11.0,12.0,13.0,14.0,15.0,16.0,17.0,18.0,19.0,20.0,21.0,22.0,23.0,24.0,25.0,26.0,27.0,28.0,29.0,30.0,31.0,32.0,33.0,34.0,35.0,36.0,37.0,38.0,39.0,40.0,41.0,42.0,43.0,44.0,45.0,46.0,47.0,48.0,49.0,50.0,51.0,52.0,53.0,54.0,55.0,56.0,57.0,58.0,59.0,60.0,61.0,62.0,63.0,64.0,65.0,66.0,67.0,68.0,69.0,70.0,71.0,72.0,73.0,74.0],\"y\":[500.0,500.0,499.0,497.0,494.0,490.0,485.0,479.0,472.0,464.0,455.0,445.0,434.0,422.0,409.0,395.0,380.0,364.0,347.0,329.0,310.0,290.0,269.0,247.0,224.0,200.0,175.0,149.0,122.0,94.0,65.0,35.0,4.0,0.0,0.0,0.0,0.0,0.0,0.0,0.0,0.0,0.0,0.0,0.0,0.0,0.0,0.0,0.0,0.0,0.0,0.0,0.0,0.0,0.0,0.0,0.0,0.0,0.0,0.0,0.0,0.0,0.0,0.0,0.0,0.0,0.0,0.0,0.0,0.0,0.0,0.0,0.0,0.0,0.0,0.0],\"type\":\"scatter\",\"xaxis\":\"x2\",\"yaxis\":\"y2\"},{\"mode\":\"lines\",\"name\":\"Avg. Quality #in\",\"x\":[0.0,1.0,2.0,3.0,4.0,5.0,6.0,7.0,8.0,9.0,10.0,11.0,12.0,13.0,14.0,15.0,16.0,17.0,18.0,19.0,20.0,21.0,22.0,23.0,24.0,25.0,26.0,27.0,28.0,29.0,30.0,31.0,32.0,33.0,34.0,35.0,36.0,37.0,38.0,39.0,40.0,41.0,42.0,43.0,44.0,45.0,46.0,47.0,48.0,49.0,50.0,51.0,52.0,53.0,54.0,55.0,56.0,57.0,58.0,59.0,60.0,61.0,62.0,63.0,64.0,65.0,66.0,67.0,68.0,69.0,70.0,71.0,72.0,73.0,74.0],\"y\":[0.864,0.864,0.778,0.778,0.788,0.788,0.748,0.748,0.725,0.725,0.739,0.739,0.743,0.743,0.751,0.751,0.738,0.738,0.732,0.732,0.732,0.732,0.722,0.722,0.729,0.729,0.737,0.737,0.732,0.732,0.725,0.725,0.724,0.724,0.73,0.73,0.726,0.726,0.727,0.727,0.732,0.732,0.732,0.732,0.727,0.727,0.731,0.731,0.734,0.734,0.73,0.73,0.732,0.732,0.735,0.735,0.739,0.739,0.741,0.741,0.743,0.743,0.743,0.743,0.742,0.742,0.738,0.738,0.736,0.736,0.734,0.734,0.731,0.731,0.729],\"type\":\"scatter\",\"xaxis\":\"x4\",\"yaxis\":\"y4\"},{\"mode\":\"lines\",\"name\":\"Avg. Quality #total\",\"x\":[0.0,1.0,2.0,3.0,4.0,5.0,6.0,7.0,8.0,9.0,10.0,11.0,12.0,13.0,14.0,15.0,16.0,17.0,18.0,19.0,20.0,21.0,22.0,23.0,24.0,25.0,26.0,27.0,28.0,29.0,30.0,31.0,32.0,33.0,34.0,35.0,36.0,37.0,38.0,39.0,40.0,41.0,42.0,43.0,44.0,45.0,46.0,47.0,48.0,49.0,50.0,51.0,52.0,53.0,54.0,55.0,56.0,57.0,58.0,59.0,60.0,61.0,62.0,63.0,64.0,65.0,66.0,67.0,68.0,69.0,70.0,71.0,72.0,73.0,74.0],\"y\":[0.864,0.864,0.778,0.778,0.788,0.788,0.748,0.748,0.725,0.725,0.739,0.739,0.743,0.743,0.751,0.751,0.738,0.738,0.732,0.732,0.732,0.732,0.722,0.722,0.729,0.729,0.737,0.737,0.732,0.732,0.725,0.725,0.724,0.724,0.73,0.73,0.726,0.726,0.727,0.727,0.732,0.732,0.732,0.732,0.727,0.727,0.731,0.731,0.734,0.734,0.73,0.73,0.732,0.732,0.735,0.735,0.739,0.739,0.741,0.741,0.743,0.743,0.743,0.743,0.742,0.742,0.738,0.738,0.736,0.736,0.734,0.734,0.731,0.731,0.729],\"type\":\"scatter\",\"xaxis\":\"x4\",\"yaxis\":\"y4\"}],                        {\"template\":{\"data\":{\"histogram2dcontour\":[{\"type\":\"histogram2dcontour\",\"colorbar\":{\"outlinewidth\":0,\"ticks\":\"\"},\"colorscale\":[[0.0,\"#0d0887\"],[0.1111111111111111,\"#46039f\"],[0.2222222222222222,\"#7201a8\"],[0.3333333333333333,\"#9c179e\"],[0.4444444444444444,\"#bd3786\"],[0.5555555555555556,\"#d8576b\"],[0.6666666666666666,\"#ed7953\"],[0.7777777777777778,\"#fb9f3a\"],[0.8888888888888888,\"#fdca26\"],[1.0,\"#f0f921\"]]}],\"choropleth\":[{\"type\":\"choropleth\",\"colorbar\":{\"outlinewidth\":0,\"ticks\":\"\"}}],\"histogram2d\":[{\"type\":\"histogram2d\",\"colorbar\":{\"outlinewidth\":0,\"ticks\":\"\"},\"colorscale\":[[0.0,\"#0d0887\"],[0.1111111111111111,\"#46039f\"],[0.2222222222222222,\"#7201a8\"],[0.3333333333333333,\"#9c179e\"],[0.4444444444444444,\"#bd3786\"],[0.5555555555555556,\"#d8576b\"],[0.6666666666666666,\"#ed7953\"],[0.7777777777777778,\"#fb9f3a\"],[0.8888888888888888,\"#fdca26\"],[1.0,\"#f0f921\"]]}],\"heatmap\":[{\"type\":\"heatmap\",\"colorbar\":{\"outlinewidth\":0,\"ticks\":\"\"},\"colorscale\":[[0.0,\"#0d0887\"],[0.1111111111111111,\"#46039f\"],[0.2222222222222222,\"#7201a8\"],[0.3333333333333333,\"#9c179e\"],[0.4444444444444444,\"#bd3786\"],[0.5555555555555556,\"#d8576b\"],[0.6666666666666666,\"#ed7953\"],[0.7777777777777778,\"#fb9f3a\"],[0.8888888888888888,\"#fdca26\"],[1.0,\"#f0f921\"]]}],\"heatmapgl\":[{\"type\":\"heatmapgl\",\"colorbar\":{\"outlinewidth\":0,\"ticks\":\"\"},\"colorscale\":[[0.0,\"#0d0887\"],[0.1111111111111111,\"#46039f\"],[0.2222222222222222,\"#7201a8\"],[0.3333333333333333,\"#9c179e\"],[0.4444444444444444,\"#bd3786\"],[0.5555555555555556,\"#d8576b\"],[0.6666666666666666,\"#ed7953\"],[0.7777777777777778,\"#fb9f3a\"],[0.8888888888888888,\"#fdca26\"],[1.0,\"#f0f921\"]]}],\"contourcarpet\":[{\"type\":\"contourcarpet\",\"colorbar\":{\"outlinewidth\":0,\"ticks\":\"\"}}],\"contour\":[{\"type\":\"contour\",\"colorbar\":{\"outlinewidth\":0,\"ticks\":\"\"},\"colorscale\":[[0.0,\"#0d0887\"],[0.1111111111111111,\"#46039f\"],[0.2222222222222222,\"#7201a8\"],[0.3333333333333333,\"#9c179e\"],[0.4444444444444444,\"#bd3786\"],[0.5555555555555556,\"#d8576b\"],[0.6666666666666666,\"#ed7953\"],[0.7777777777777778,\"#fb9f3a\"],[0.8888888888888888,\"#fdca26\"],[1.0,\"#f0f921\"]]}],\"surface\":[{\"type\":\"surface\",\"colorbar\":{\"outlinewidth\":0,\"ticks\":\"\"},\"colorscale\":[[0.0,\"#0d0887\"],[0.1111111111111111,\"#46039f\"],[0.2222222222222222,\"#7201a8\"],[0.3333333333333333,\"#9c179e\"],[0.4444444444444444,\"#bd3786\"],[0.5555555555555556,\"#d8576b\"],[0.6666666666666666,\"#ed7953\"],[0.7777777777777778,\"#fb9f3a\"],[0.8888888888888888,\"#fdca26\"],[1.0,\"#f0f921\"]]}],\"mesh3d\":[{\"type\":\"mesh3d\",\"colorbar\":{\"outlinewidth\":0,\"ticks\":\"\"}}],\"scatter\":[{\"fillpattern\":{\"fillmode\":\"overlay\",\"size\":10,\"solidity\":0.2},\"type\":\"scatter\"}],\"parcoords\":[{\"type\":\"parcoords\",\"line\":{\"colorbar\":{\"outlinewidth\":0,\"ticks\":\"\"}}}],\"scatterpolargl\":[{\"type\":\"scatterpolargl\",\"marker\":{\"colorbar\":{\"outlinewidth\":0,\"ticks\":\"\"}}}],\"bar\":[{\"error_x\":{\"color\":\"#2a3f5f\"},\"error_y\":{\"color\":\"#2a3f5f\"},\"marker\":{\"line\":{\"color\":\"#E5ECF6\",\"width\":0.5},\"pattern\":{\"fillmode\":\"overlay\",\"size\":10,\"solidity\":0.2}},\"type\":\"bar\"}],\"scattergeo\":[{\"type\":\"scattergeo\",\"marker\":{\"colorbar\":{\"outlinewidth\":0,\"ticks\":\"\"}}}],\"scatterpolar\":[{\"type\":\"scatterpolar\",\"marker\":{\"colorbar\":{\"outlinewidth\":0,\"ticks\":\"\"}}}],\"histogram\":[{\"marker\":{\"pattern\":{\"fillmode\":\"overlay\",\"size\":10,\"solidity\":0.2}},\"type\":\"histogram\"}],\"scattergl\":[{\"type\":\"scattergl\",\"marker\":{\"colorbar\":{\"outlinewidth\":0,\"ticks\":\"\"}}}],\"scatter3d\":[{\"type\":\"scatter3d\",\"line\":{\"colorbar\":{\"outlinewidth\":0,\"ticks\":\"\"}},\"marker\":{\"colorbar\":{\"outlinewidth\":0,\"ticks\":\"\"}}}],\"scattermapbox\":[{\"type\":\"scattermapbox\",\"marker\":{\"colorbar\":{\"outlinewidth\":0,\"ticks\":\"\"}}}],\"scatterternary\":[{\"type\":\"scatterternary\",\"marker\":{\"colorbar\":{\"outlinewidth\":0,\"ticks\":\"\"}}}],\"scattercarpet\":[{\"type\":\"scattercarpet\",\"marker\":{\"colorbar\":{\"outlinewidth\":0,\"ticks\":\"\"}}}],\"carpet\":[{\"aaxis\":{\"endlinecolor\":\"#2a3f5f\",\"gridcolor\":\"white\",\"linecolor\":\"white\",\"minorgridcolor\":\"white\",\"startlinecolor\":\"#2a3f5f\"},\"baxis\":{\"endlinecolor\":\"#2a3f5f\",\"gridcolor\":\"white\",\"linecolor\":\"white\",\"minorgridcolor\":\"white\",\"startlinecolor\":\"#2a3f5f\"},\"type\":\"carpet\"}],\"table\":[{\"cells\":{\"fill\":{\"color\":\"#EBF0F8\"},\"line\":{\"color\":\"white\"}},\"header\":{\"fill\":{\"color\":\"#C8D4E3\"},\"line\":{\"color\":\"white\"}},\"type\":\"table\"}],\"barpolar\":[{\"marker\":{\"line\":{\"color\":\"#E5ECF6\",\"width\":0.5},\"pattern\":{\"fillmode\":\"overlay\",\"size\":10,\"solidity\":0.2}},\"type\":\"barpolar\"}],\"pie\":[{\"automargin\":true,\"type\":\"pie\"}]},\"layout\":{\"autotypenumbers\":\"strict\",\"colorway\":[\"#636efa\",\"#EF553B\",\"#00cc96\",\"#ab63fa\",\"#FFA15A\",\"#19d3f3\",\"#FF6692\",\"#B6E880\",\"#FF97FF\",\"#FECB52\"],\"font\":{\"color\":\"#2a3f5f\"},\"hovermode\":\"closest\",\"hoverlabel\":{\"align\":\"left\"},\"paper_bgcolor\":\"white\",\"plot_bgcolor\":\"#E5ECF6\",\"polar\":{\"bgcolor\":\"#E5ECF6\",\"angularaxis\":{\"gridcolor\":\"white\",\"linecolor\":\"white\",\"ticks\":\"\"},\"radialaxis\":{\"gridcolor\":\"white\",\"linecolor\":\"white\",\"ticks\":\"\"}},\"ternary\":{\"bgcolor\":\"#E5ECF6\",\"aaxis\":{\"gridcolor\":\"white\",\"linecolor\":\"white\",\"ticks\":\"\"},\"baxis\":{\"gridcolor\":\"white\",\"linecolor\":\"white\",\"ticks\":\"\"},\"caxis\":{\"gridcolor\":\"white\",\"linecolor\":\"white\",\"ticks\":\"\"}},\"coloraxis\":{\"colorbar\":{\"outlinewidth\":0,\"ticks\":\"\"}},\"colorscale\":{\"sequential\":[[0.0,\"#0d0887\"],[0.1111111111111111,\"#46039f\"],[0.2222222222222222,\"#7201a8\"],[0.3333333333333333,\"#9c179e\"],[0.4444444444444444,\"#bd3786\"],[0.5555555555555556,\"#d8576b\"],[0.6666666666666666,\"#ed7953\"],[0.7777777777777778,\"#fb9f3a\"],[0.8888888888888888,\"#fdca26\"],[1.0,\"#f0f921\"]],\"sequentialminus\":[[0.0,\"#0d0887\"],[0.1111111111111111,\"#46039f\"],[0.2222222222222222,\"#7201a8\"],[0.3333333333333333,\"#9c179e\"],[0.4444444444444444,\"#bd3786\"],[0.5555555555555556,\"#d8576b\"],[0.6666666666666666,\"#ed7953\"],[0.7777777777777778,\"#fb9f3a\"],[0.8888888888888888,\"#fdca26\"],[1.0,\"#f0f921\"]],\"diverging\":[[0,\"#8e0152\"],[0.1,\"#c51b7d\"],[0.2,\"#de77ae\"],[0.3,\"#f1b6da\"],[0.4,\"#fde0ef\"],[0.5,\"#f7f7f7\"],[0.6,\"#e6f5d0\"],[0.7,\"#b8e186\"],[0.8,\"#7fbc41\"],[0.9,\"#4d9221\"],[1,\"#276419\"]]},\"xaxis\":{\"gridcolor\":\"white\",\"linecolor\":\"white\",\"ticks\":\"\",\"title\":{\"standoff\":15},\"zerolinecolor\":\"white\",\"automargin\":true,\"zerolinewidth\":2},\"yaxis\":{\"gridcolor\":\"white\",\"linecolor\":\"white\",\"ticks\":\"\",\"title\":{\"standoff\":15},\"zerolinecolor\":\"white\",\"automargin\":true,\"zerolinewidth\":2},\"scene\":{\"xaxis\":{\"backgroundcolor\":\"#E5ECF6\",\"gridcolor\":\"white\",\"linecolor\":\"white\",\"showbackground\":true,\"ticks\":\"\",\"zerolinecolor\":\"white\",\"gridwidth\":2},\"yaxis\":{\"backgroundcolor\":\"#E5ECF6\",\"gridcolor\":\"white\",\"linecolor\":\"white\",\"showbackground\":true,\"ticks\":\"\",\"zerolinecolor\":\"white\",\"gridwidth\":2},\"zaxis\":{\"backgroundcolor\":\"#E5ECF6\",\"gridcolor\":\"white\",\"linecolor\":\"white\",\"showbackground\":true,\"ticks\":\"\",\"zerolinecolor\":\"white\",\"gridwidth\":2}},\"shapedefaults\":{\"line\":{\"color\":\"#2a3f5f\"}},\"annotationdefaults\":{\"arrowcolor\":\"#2a3f5f\",\"arrowhead\":0,\"arrowwidth\":1},\"geo\":{\"bgcolor\":\"white\",\"landcolor\":\"#E5ECF6\",\"subunitcolor\":\"white\",\"showland\":true,\"showlakes\":true,\"lakecolor\":\"white\"},\"title\":{\"x\":0.05},\"mapbox\":{\"style\":\"light\"}}},\"xaxis\":{\"anchor\":\"y\",\"domain\":[0.0,0.45]},\"yaxis\":{\"anchor\":\"x\",\"domain\":[0.625,1.0]},\"xaxis2\":{\"anchor\":\"y2\",\"domain\":[0.55,1.0]},\"yaxis2\":{\"anchor\":\"x2\",\"domain\":[0.625,1.0]},\"xaxis3\":{\"anchor\":\"y3\",\"domain\":[0.0,0.45]},\"yaxis3\":{\"anchor\":\"x3\",\"domain\":[0.0,0.375]},\"xaxis4\":{\"anchor\":\"y4\",\"domain\":[0.55,1.0]},\"yaxis4\":{\"anchor\":\"x4\",\"domain\":[0.0,0.375]},\"annotations\":[{\"font\":{\"size\":16},\"showarrow\":false,\"text\":\"Types of Robots vs Time\",\"x\":0.225,\"xanchor\":\"center\",\"xref\":\"paper\",\"y\":1.0,\"yanchor\":\"bottom\",\"yref\":\"paper\"},{\"font\":{\"size\":16},\"showarrow\":false,\"text\":\"Resources vs Time\",\"x\":0.775,\"xanchor\":\"center\",\"xref\":\"paper\",\"y\":1.0,\"yanchor\":\"bottom\",\"yref\":\"paper\"},{\"font\":{\"size\":16},\"showarrow\":false,\"text\":\"Tasks of Robots vs Time\",\"x\":0.225,\"xanchor\":\"center\",\"xref\":\"paper\",\"y\":0.375,\"yanchor\":\"bottom\",\"yref\":\"paper\"},{\"font\":{\"size\":16},\"showarrow\":false,\"text\":\"Build Quality vs Time\",\"x\":0.775,\"xanchor\":\"center\",\"xref\":\"paper\",\"y\":0.375,\"yanchor\":\"bottom\",\"yref\":\"paper\"}],\"hovermode\":\"x\",\"title\":{\"text\":\"CHE - Characteristics\"}},                        {\"responsive\": true}                    ).then(function(){\n",
       "                            \n",
       "var gd = document.getElementById('5049925c-916a-4eea-9f4a-0363ad57aaa6');\n",
       "var x = new MutationObserver(function (mutations, observer) {{\n",
       "        var display = window.getComputedStyle(gd).display;\n",
       "        if (!display || display === 'none') {{\n",
       "            console.log([gd, 'removed!']);\n",
       "            Plotly.purge(gd);\n",
       "            observer.disconnect();\n",
       "        }}\n",
       "}});\n",
       "\n",
       "// Listen for the removal of the full notebook cells\n",
       "var notebookContainer = gd.closest('#notebook-container');\n",
       "if (notebookContainer) {{\n",
       "    x.observe(notebookContainer, {childList: true});\n",
       "}}\n",
       "\n",
       "// Listen for the clearing of the current output cell\n",
       "var outputEl = gd.closest('.output');\n",
       "if (outputEl) {{\n",
       "    x.observe(outputEl, {childList: true});\n",
       "}}\n",
       "\n",
       "                        })                };                });            </script>        </div>"
      ]
     },
     "metadata": {},
     "output_type": "display_data"
    },
    {
     "data": {
      "application/vnd.plotly.v1+json": {
       "config": {
        "plotlyServerURL": "https://plotly.com"
       },
       "data": [
        {
         "alignmentgroup": "True",
         "hovertemplate": "variable=#In<br>Time=%{x}<br>value=%{y}<extra></extra>",
         "legendgroup": "#In",
         "marker": {
          "color": "#636efa",
          "pattern": {
           "shape": ""
          }
         },
         "name": "#In",
         "offsetgroup": "#In",
         "orientation": "v",
         "showlegend": true,
         "textposition": "auto",
         "type": "bar",
         "x": [
          0,
          1,
          2,
          3,
          4,
          5,
          6,
          7,
          8,
          9,
          10,
          11,
          12,
          13,
          14,
          15,
          16,
          17,
          18,
          19,
          20,
          21,
          22,
          23,
          24,
          25,
          26,
          27,
          28,
          29,
          30,
          31,
          32,
          33,
          34,
          35,
          36,
          37,
          38,
          39,
          40,
          41,
          42,
          43,
          44,
          45,
          46,
          47,
          48,
          49,
          50,
          51,
          52,
          53,
          54,
          55,
          56,
          57,
          58,
          59,
          60,
          61,
          62,
          63,
          64,
          65,
          66,
          67,
          68,
          69,
          70,
          71,
          72,
          73,
          74
         ],
         "xaxis": "x",
         "y": [
          2,
          2,
          2,
          2,
          4,
          4,
          6,
          6,
          11,
          11,
          15,
          15,
          23,
          24,
          34,
          34,
          47,
          48,
          59,
          62,
          67,
          70,
          74,
          82,
          90,
          96,
          101,
          108,
          118,
          125,
          131,
          143,
          150,
          166,
          172,
          184,
          205,
          214,
          218,
          219,
          219,
          219,
          219,
          219,
          219,
          219,
          219,
          219,
          219,
          219,
          219,
          219,
          219,
          219,
          219,
          219,
          219,
          219,
          219,
          219,
          219,
          219,
          219,
          219,
          219,
          219,
          219,
          219,
          219,
          219,
          219,
          219,
          219,
          219,
          219
         ],
         "yaxis": "y"
        },
        {
         "alignmentgroup": "True",
         "hovertemplate": "variable=#Out<br>Time=%{x}<br>value=%{y}<extra></extra>",
         "legendgroup": "#Out",
         "marker": {
          "color": "#EF553B",
          "pattern": {
           "shape": ""
          }
         },
         "name": "#Out",
         "offsetgroup": "#Out",
         "orientation": "v",
         "showlegend": true,
         "textposition": "auto",
         "type": "bar",
         "x": [
          0,
          1,
          2,
          3,
          4,
          5,
          6,
          7,
          8,
          9,
          10,
          11,
          12,
          13,
          14,
          15,
          16,
          17,
          18,
          19,
          20,
          21,
          22,
          23,
          24,
          25,
          26,
          27,
          28,
          29,
          30,
          31,
          32,
          33,
          34,
          35,
          36,
          37,
          38,
          39,
          40,
          41,
          42,
          43,
          44,
          45,
          46,
          47,
          48,
          49,
          50,
          51,
          52,
          53,
          54,
          55,
          56,
          57,
          58,
          59,
          60,
          61,
          62,
          63,
          64,
          65,
          66,
          67,
          68,
          69,
          70,
          71,
          72,
          73,
          74
         ],
         "xaxis": "x",
         "y": [
          0,
          0,
          0,
          0,
          0,
          0,
          0,
          0,
          1,
          1,
          1,
          1,
          1,
          2,
          4,
          4,
          9,
          10,
          11,
          14,
          15,
          16,
          18,
          20,
          22,
          22,
          25,
          28,
          32,
          35,
          37,
          43,
          48,
          52,
          56,
          62,
          73,
          80,
          82,
          83,
          83,
          83,
          83,
          83,
          83,
          83,
          83,
          83,
          83,
          83,
          83,
          83,
          83,
          83,
          83,
          83,
          83,
          83,
          83,
          83,
          83,
          83,
          83,
          83,
          83,
          83,
          83,
          83,
          83,
          83,
          83,
          83,
          83,
          83,
          83
         ],
         "yaxis": "y"
        }
       ],
       "layout": {
        "barmode": "relative",
        "hovermode": "x",
        "legend": {
         "title": {
          "text": "variable"
         },
         "tracegroupgap": 0
        },
        "template": {
         "data": {
          "bar": [
           {
            "error_x": {
             "color": "#2a3f5f"
            },
            "error_y": {
             "color": "#2a3f5f"
            },
            "marker": {
             "line": {
              "color": "#E5ECF6",
              "width": 0.5
             },
             "pattern": {
              "fillmode": "overlay",
              "size": 10,
              "solidity": 0.2
             }
            },
            "type": "bar"
           }
          ],
          "barpolar": [
           {
            "marker": {
             "line": {
              "color": "#E5ECF6",
              "width": 0.5
             },
             "pattern": {
              "fillmode": "overlay",
              "size": 10,
              "solidity": 0.2
             }
            },
            "type": "barpolar"
           }
          ],
          "carpet": [
           {
            "aaxis": {
             "endlinecolor": "#2a3f5f",
             "gridcolor": "white",
             "linecolor": "white",
             "minorgridcolor": "white",
             "startlinecolor": "#2a3f5f"
            },
            "baxis": {
             "endlinecolor": "#2a3f5f",
             "gridcolor": "white",
             "linecolor": "white",
             "minorgridcolor": "white",
             "startlinecolor": "#2a3f5f"
            },
            "type": "carpet"
           }
          ],
          "choropleth": [
           {
            "colorbar": {
             "outlinewidth": 0,
             "ticks": ""
            },
            "type": "choropleth"
           }
          ],
          "contour": [
           {
            "colorbar": {
             "outlinewidth": 0,
             "ticks": ""
            },
            "colorscale": [
             [
              0,
              "#0d0887"
             ],
             [
              0.1111111111111111,
              "#46039f"
             ],
             [
              0.2222222222222222,
              "#7201a8"
             ],
             [
              0.3333333333333333,
              "#9c179e"
             ],
             [
              0.4444444444444444,
              "#bd3786"
             ],
             [
              0.5555555555555556,
              "#d8576b"
             ],
             [
              0.6666666666666666,
              "#ed7953"
             ],
             [
              0.7777777777777778,
              "#fb9f3a"
             ],
             [
              0.8888888888888888,
              "#fdca26"
             ],
             [
              1,
              "#f0f921"
             ]
            ],
            "type": "contour"
           }
          ],
          "contourcarpet": [
           {
            "colorbar": {
             "outlinewidth": 0,
             "ticks": ""
            },
            "type": "contourcarpet"
           }
          ],
          "heatmap": [
           {
            "colorbar": {
             "outlinewidth": 0,
             "ticks": ""
            },
            "colorscale": [
             [
              0,
              "#0d0887"
             ],
             [
              0.1111111111111111,
              "#46039f"
             ],
             [
              0.2222222222222222,
              "#7201a8"
             ],
             [
              0.3333333333333333,
              "#9c179e"
             ],
             [
              0.4444444444444444,
              "#bd3786"
             ],
             [
              0.5555555555555556,
              "#d8576b"
             ],
             [
              0.6666666666666666,
              "#ed7953"
             ],
             [
              0.7777777777777778,
              "#fb9f3a"
             ],
             [
              0.8888888888888888,
              "#fdca26"
             ],
             [
              1,
              "#f0f921"
             ]
            ],
            "type": "heatmap"
           }
          ],
          "heatmapgl": [
           {
            "colorbar": {
             "outlinewidth": 0,
             "ticks": ""
            },
            "colorscale": [
             [
              0,
              "#0d0887"
             ],
             [
              0.1111111111111111,
              "#46039f"
             ],
             [
              0.2222222222222222,
              "#7201a8"
             ],
             [
              0.3333333333333333,
              "#9c179e"
             ],
             [
              0.4444444444444444,
              "#bd3786"
             ],
             [
              0.5555555555555556,
              "#d8576b"
             ],
             [
              0.6666666666666666,
              "#ed7953"
             ],
             [
              0.7777777777777778,
              "#fb9f3a"
             ],
             [
              0.8888888888888888,
              "#fdca26"
             ],
             [
              1,
              "#f0f921"
             ]
            ],
            "type": "heatmapgl"
           }
          ],
          "histogram": [
           {
            "marker": {
             "pattern": {
              "fillmode": "overlay",
              "size": 10,
              "solidity": 0.2
             }
            },
            "type": "histogram"
           }
          ],
          "histogram2d": [
           {
            "colorbar": {
             "outlinewidth": 0,
             "ticks": ""
            },
            "colorscale": [
             [
              0,
              "#0d0887"
             ],
             [
              0.1111111111111111,
              "#46039f"
             ],
             [
              0.2222222222222222,
              "#7201a8"
             ],
             [
              0.3333333333333333,
              "#9c179e"
             ],
             [
              0.4444444444444444,
              "#bd3786"
             ],
             [
              0.5555555555555556,
              "#d8576b"
             ],
             [
              0.6666666666666666,
              "#ed7953"
             ],
             [
              0.7777777777777778,
              "#fb9f3a"
             ],
             [
              0.8888888888888888,
              "#fdca26"
             ],
             [
              1,
              "#f0f921"
             ]
            ],
            "type": "histogram2d"
           }
          ],
          "histogram2dcontour": [
           {
            "colorbar": {
             "outlinewidth": 0,
             "ticks": ""
            },
            "colorscale": [
             [
              0,
              "#0d0887"
             ],
             [
              0.1111111111111111,
              "#46039f"
             ],
             [
              0.2222222222222222,
              "#7201a8"
             ],
             [
              0.3333333333333333,
              "#9c179e"
             ],
             [
              0.4444444444444444,
              "#bd3786"
             ],
             [
              0.5555555555555556,
              "#d8576b"
             ],
             [
              0.6666666666666666,
              "#ed7953"
             ],
             [
              0.7777777777777778,
              "#fb9f3a"
             ],
             [
              0.8888888888888888,
              "#fdca26"
             ],
             [
              1,
              "#f0f921"
             ]
            ],
            "type": "histogram2dcontour"
           }
          ],
          "mesh3d": [
           {
            "colorbar": {
             "outlinewidth": 0,
             "ticks": ""
            },
            "type": "mesh3d"
           }
          ],
          "parcoords": [
           {
            "line": {
             "colorbar": {
              "outlinewidth": 0,
              "ticks": ""
             }
            },
            "type": "parcoords"
           }
          ],
          "pie": [
           {
            "automargin": true,
            "type": "pie"
           }
          ],
          "scatter": [
           {
            "fillpattern": {
             "fillmode": "overlay",
             "size": 10,
             "solidity": 0.2
            },
            "type": "scatter"
           }
          ],
          "scatter3d": [
           {
            "line": {
             "colorbar": {
              "outlinewidth": 0,
              "ticks": ""
             }
            },
            "marker": {
             "colorbar": {
              "outlinewidth": 0,
              "ticks": ""
             }
            },
            "type": "scatter3d"
           }
          ],
          "scattercarpet": [
           {
            "marker": {
             "colorbar": {
              "outlinewidth": 0,
              "ticks": ""
             }
            },
            "type": "scattercarpet"
           }
          ],
          "scattergeo": [
           {
            "marker": {
             "colorbar": {
              "outlinewidth": 0,
              "ticks": ""
             }
            },
            "type": "scattergeo"
           }
          ],
          "scattergl": [
           {
            "marker": {
             "colorbar": {
              "outlinewidth": 0,
              "ticks": ""
             }
            },
            "type": "scattergl"
           }
          ],
          "scattermapbox": [
           {
            "marker": {
             "colorbar": {
              "outlinewidth": 0,
              "ticks": ""
             }
            },
            "type": "scattermapbox"
           }
          ],
          "scatterpolar": [
           {
            "marker": {
             "colorbar": {
              "outlinewidth": 0,
              "ticks": ""
             }
            },
            "type": "scatterpolar"
           }
          ],
          "scatterpolargl": [
           {
            "marker": {
             "colorbar": {
              "outlinewidth": 0,
              "ticks": ""
             }
            },
            "type": "scatterpolargl"
           }
          ],
          "scatterternary": [
           {
            "marker": {
             "colorbar": {
              "outlinewidth": 0,
              "ticks": ""
             }
            },
            "type": "scatterternary"
           }
          ],
          "surface": [
           {
            "colorbar": {
             "outlinewidth": 0,
             "ticks": ""
            },
            "colorscale": [
             [
              0,
              "#0d0887"
             ],
             [
              0.1111111111111111,
              "#46039f"
             ],
             [
              0.2222222222222222,
              "#7201a8"
             ],
             [
              0.3333333333333333,
              "#9c179e"
             ],
             [
              0.4444444444444444,
              "#bd3786"
             ],
             [
              0.5555555555555556,
              "#d8576b"
             ],
             [
              0.6666666666666666,
              "#ed7953"
             ],
             [
              0.7777777777777778,
              "#fb9f3a"
             ],
             [
              0.8888888888888888,
              "#fdca26"
             ],
             [
              1,
              "#f0f921"
             ]
            ],
            "type": "surface"
           }
          ],
          "table": [
           {
            "cells": {
             "fill": {
              "color": "#EBF0F8"
             },
             "line": {
              "color": "white"
             }
            },
            "header": {
             "fill": {
              "color": "#C8D4E3"
             },
             "line": {
              "color": "white"
             }
            },
            "type": "table"
           }
          ]
         },
         "layout": {
          "annotationdefaults": {
           "arrowcolor": "#2a3f5f",
           "arrowhead": 0,
           "arrowwidth": 1
          },
          "autotypenumbers": "strict",
          "coloraxis": {
           "colorbar": {
            "outlinewidth": 0,
            "ticks": ""
           }
          },
          "colorscale": {
           "diverging": [
            [
             0,
             "#8e0152"
            ],
            [
             0.1,
             "#c51b7d"
            ],
            [
             0.2,
             "#de77ae"
            ],
            [
             0.3,
             "#f1b6da"
            ],
            [
             0.4,
             "#fde0ef"
            ],
            [
             0.5,
             "#f7f7f7"
            ],
            [
             0.6,
             "#e6f5d0"
            ],
            [
             0.7,
             "#b8e186"
            ],
            [
             0.8,
             "#7fbc41"
            ],
            [
             0.9,
             "#4d9221"
            ],
            [
             1,
             "#276419"
            ]
           ],
           "sequential": [
            [
             0,
             "#0d0887"
            ],
            [
             0.1111111111111111,
             "#46039f"
            ],
            [
             0.2222222222222222,
             "#7201a8"
            ],
            [
             0.3333333333333333,
             "#9c179e"
            ],
            [
             0.4444444444444444,
             "#bd3786"
            ],
            [
             0.5555555555555556,
             "#d8576b"
            ],
            [
             0.6666666666666666,
             "#ed7953"
            ],
            [
             0.7777777777777778,
             "#fb9f3a"
            ],
            [
             0.8888888888888888,
             "#fdca26"
            ],
            [
             1,
             "#f0f921"
            ]
           ],
           "sequentialminus": [
            [
             0,
             "#0d0887"
            ],
            [
             0.1111111111111111,
             "#46039f"
            ],
            [
             0.2222222222222222,
             "#7201a8"
            ],
            [
             0.3333333333333333,
             "#9c179e"
            ],
            [
             0.4444444444444444,
             "#bd3786"
            ],
            [
             0.5555555555555556,
             "#d8576b"
            ],
            [
             0.6666666666666666,
             "#ed7953"
            ],
            [
             0.7777777777777778,
             "#fb9f3a"
            ],
            [
             0.8888888888888888,
             "#fdca26"
            ],
            [
             1,
             "#f0f921"
            ]
           ]
          },
          "colorway": [
           "#636efa",
           "#EF553B",
           "#00cc96",
           "#ab63fa",
           "#FFA15A",
           "#19d3f3",
           "#FF6692",
           "#B6E880",
           "#FF97FF",
           "#FECB52"
          ],
          "font": {
           "color": "#2a3f5f"
          },
          "geo": {
           "bgcolor": "white",
           "lakecolor": "white",
           "landcolor": "#E5ECF6",
           "showlakes": true,
           "showland": true,
           "subunitcolor": "white"
          },
          "hoverlabel": {
           "align": "left"
          },
          "hovermode": "closest",
          "mapbox": {
           "style": "light"
          },
          "paper_bgcolor": "white",
          "plot_bgcolor": "#E5ECF6",
          "polar": {
           "angularaxis": {
            "gridcolor": "white",
            "linecolor": "white",
            "ticks": ""
           },
           "bgcolor": "#E5ECF6",
           "radialaxis": {
            "gridcolor": "white",
            "linecolor": "white",
            "ticks": ""
           }
          },
          "scene": {
           "xaxis": {
            "backgroundcolor": "#E5ECF6",
            "gridcolor": "white",
            "gridwidth": 2,
            "linecolor": "white",
            "showbackground": true,
            "ticks": "",
            "zerolinecolor": "white"
           },
           "yaxis": {
            "backgroundcolor": "#E5ECF6",
            "gridcolor": "white",
            "gridwidth": 2,
            "linecolor": "white",
            "showbackground": true,
            "ticks": "",
            "zerolinecolor": "white"
           },
           "zaxis": {
            "backgroundcolor": "#E5ECF6",
            "gridcolor": "white",
            "gridwidth": 2,
            "linecolor": "white",
            "showbackground": true,
            "ticks": "",
            "zerolinecolor": "white"
           }
          },
          "shapedefaults": {
           "line": {
            "color": "#2a3f5f"
           }
          },
          "ternary": {
           "aaxis": {
            "gridcolor": "white",
            "linecolor": "white",
            "ticks": ""
           },
           "baxis": {
            "gridcolor": "white",
            "linecolor": "white",
            "ticks": ""
           },
           "bgcolor": "#E5ECF6",
           "caxis": {
            "gridcolor": "white",
            "linecolor": "white",
            "ticks": ""
           }
          },
          "title": {
           "x": 0.05
          },
          "xaxis": {
           "automargin": true,
           "gridcolor": "white",
           "linecolor": "white",
           "ticks": "",
           "title": {
            "standoff": 15
           },
           "zerolinecolor": "white",
           "zerolinewidth": 2
          },
          "yaxis": {
           "automargin": true,
           "gridcolor": "white",
           "linecolor": "white",
           "ticks": "",
           "title": {
            "standoff": 15
           },
           "zerolinecolor": "white",
           "zerolinewidth": 2
          }
         }
        },
        "title": {
         "text": "DHE - Habitat over Time"
        },
        "xaxis": {
         "anchor": "y",
         "domain": [
          0,
          1
         ],
         "title": {
          "text": "Time"
         }
        },
        "yaxis": {
         "anchor": "x",
         "domain": [
          0,
          1
         ],
         "title": {
          "text": "#Robots"
         }
        }
       }
      },
      "text/html": [
       "<div>                            <div id=\"05f46abd-1376-4aca-8955-abb562c31098\" class=\"plotly-graph-div\" style=\"height:525px; width:100%;\"></div>            <script type=\"text/javascript\">                require([\"plotly\"], function(Plotly) {                    window.PLOTLYENV=window.PLOTLYENV || {};                                    if (document.getElementById(\"05f46abd-1376-4aca-8955-abb562c31098\")) {                    Plotly.newPlot(                        \"05f46abd-1376-4aca-8955-abb562c31098\",                        [{\"alignmentgroup\":\"True\",\"hovertemplate\":\"variable=#In<br>Time=%{x}<br>value=%{y}<extra></extra>\",\"legendgroup\":\"#In\",\"marker\":{\"color\":\"#636efa\",\"pattern\":{\"shape\":\"\"}},\"name\":\"#In\",\"offsetgroup\":\"#In\",\"orientation\":\"v\",\"showlegend\":true,\"textposition\":\"auto\",\"x\":[0.0,1.0,2.0,3.0,4.0,5.0,6.0,7.0,8.0,9.0,10.0,11.0,12.0,13.0,14.0,15.0,16.0,17.0,18.0,19.0,20.0,21.0,22.0,23.0,24.0,25.0,26.0,27.0,28.0,29.0,30.0,31.0,32.0,33.0,34.0,35.0,36.0,37.0,38.0,39.0,40.0,41.0,42.0,43.0,44.0,45.0,46.0,47.0,48.0,49.0,50.0,51.0,52.0,53.0,54.0,55.0,56.0,57.0,58.0,59.0,60.0,61.0,62.0,63.0,64.0,65.0,66.0,67.0,68.0,69.0,70.0,71.0,72.0,73.0,74.0],\"xaxis\":\"x\",\"y\":[2.0,2.0,2.0,2.0,4.0,4.0,6.0,6.0,11.0,11.0,15.0,15.0,23.0,24.0,34.0,34.0,47.0,48.0,59.0,62.0,67.0,70.0,74.0,82.0,90.0,96.0,101.0,108.0,118.0,125.0,131.0,143.0,150.0,166.0,172.0,184.0,205.0,214.0,218.0,219.0,219.0,219.0,219.0,219.0,219.0,219.0,219.0,219.0,219.0,219.0,219.0,219.0,219.0,219.0,219.0,219.0,219.0,219.0,219.0,219.0,219.0,219.0,219.0,219.0,219.0,219.0,219.0,219.0,219.0,219.0,219.0,219.0,219.0,219.0,219.0],\"yaxis\":\"y\",\"type\":\"bar\"},{\"alignmentgroup\":\"True\",\"hovertemplate\":\"variable=#Out<br>Time=%{x}<br>value=%{y}<extra></extra>\",\"legendgroup\":\"#Out\",\"marker\":{\"color\":\"#EF553B\",\"pattern\":{\"shape\":\"\"}},\"name\":\"#Out\",\"offsetgroup\":\"#Out\",\"orientation\":\"v\",\"showlegend\":true,\"textposition\":\"auto\",\"x\":[0.0,1.0,2.0,3.0,4.0,5.0,6.0,7.0,8.0,9.0,10.0,11.0,12.0,13.0,14.0,15.0,16.0,17.0,18.0,19.0,20.0,21.0,22.0,23.0,24.0,25.0,26.0,27.0,28.0,29.0,30.0,31.0,32.0,33.0,34.0,35.0,36.0,37.0,38.0,39.0,40.0,41.0,42.0,43.0,44.0,45.0,46.0,47.0,48.0,49.0,50.0,51.0,52.0,53.0,54.0,55.0,56.0,57.0,58.0,59.0,60.0,61.0,62.0,63.0,64.0,65.0,66.0,67.0,68.0,69.0,70.0,71.0,72.0,73.0,74.0],\"xaxis\":\"x\",\"y\":[0.0,0.0,0.0,0.0,0.0,0.0,0.0,0.0,1.0,1.0,1.0,1.0,1.0,2.0,4.0,4.0,9.0,10.0,11.0,14.0,15.0,16.0,18.0,20.0,22.0,22.0,25.0,28.0,32.0,35.0,37.0,43.0,48.0,52.0,56.0,62.0,73.0,80.0,82.0,83.0,83.0,83.0,83.0,83.0,83.0,83.0,83.0,83.0,83.0,83.0,83.0,83.0,83.0,83.0,83.0,83.0,83.0,83.0,83.0,83.0,83.0,83.0,83.0,83.0,83.0,83.0,83.0,83.0,83.0,83.0,83.0,83.0,83.0,83.0,83.0],\"yaxis\":\"y\",\"type\":\"bar\"}],                        {\"template\":{\"data\":{\"histogram2dcontour\":[{\"type\":\"histogram2dcontour\",\"colorbar\":{\"outlinewidth\":0,\"ticks\":\"\"},\"colorscale\":[[0.0,\"#0d0887\"],[0.1111111111111111,\"#46039f\"],[0.2222222222222222,\"#7201a8\"],[0.3333333333333333,\"#9c179e\"],[0.4444444444444444,\"#bd3786\"],[0.5555555555555556,\"#d8576b\"],[0.6666666666666666,\"#ed7953\"],[0.7777777777777778,\"#fb9f3a\"],[0.8888888888888888,\"#fdca26\"],[1.0,\"#f0f921\"]]}],\"choropleth\":[{\"type\":\"choropleth\",\"colorbar\":{\"outlinewidth\":0,\"ticks\":\"\"}}],\"histogram2d\":[{\"type\":\"histogram2d\",\"colorbar\":{\"outlinewidth\":0,\"ticks\":\"\"},\"colorscale\":[[0.0,\"#0d0887\"],[0.1111111111111111,\"#46039f\"],[0.2222222222222222,\"#7201a8\"],[0.3333333333333333,\"#9c179e\"],[0.4444444444444444,\"#bd3786\"],[0.5555555555555556,\"#d8576b\"],[0.6666666666666666,\"#ed7953\"],[0.7777777777777778,\"#fb9f3a\"],[0.8888888888888888,\"#fdca26\"],[1.0,\"#f0f921\"]]}],\"heatmap\":[{\"type\":\"heatmap\",\"colorbar\":{\"outlinewidth\":0,\"ticks\":\"\"},\"colorscale\":[[0.0,\"#0d0887\"],[0.1111111111111111,\"#46039f\"],[0.2222222222222222,\"#7201a8\"],[0.3333333333333333,\"#9c179e\"],[0.4444444444444444,\"#bd3786\"],[0.5555555555555556,\"#d8576b\"],[0.6666666666666666,\"#ed7953\"],[0.7777777777777778,\"#fb9f3a\"],[0.8888888888888888,\"#fdca26\"],[1.0,\"#f0f921\"]]}],\"heatmapgl\":[{\"type\":\"heatmapgl\",\"colorbar\":{\"outlinewidth\":0,\"ticks\":\"\"},\"colorscale\":[[0.0,\"#0d0887\"],[0.1111111111111111,\"#46039f\"],[0.2222222222222222,\"#7201a8\"],[0.3333333333333333,\"#9c179e\"],[0.4444444444444444,\"#bd3786\"],[0.5555555555555556,\"#d8576b\"],[0.6666666666666666,\"#ed7953\"],[0.7777777777777778,\"#fb9f3a\"],[0.8888888888888888,\"#fdca26\"],[1.0,\"#f0f921\"]]}],\"contourcarpet\":[{\"type\":\"contourcarpet\",\"colorbar\":{\"outlinewidth\":0,\"ticks\":\"\"}}],\"contour\":[{\"type\":\"contour\",\"colorbar\":{\"outlinewidth\":0,\"ticks\":\"\"},\"colorscale\":[[0.0,\"#0d0887\"],[0.1111111111111111,\"#46039f\"],[0.2222222222222222,\"#7201a8\"],[0.3333333333333333,\"#9c179e\"],[0.4444444444444444,\"#bd3786\"],[0.5555555555555556,\"#d8576b\"],[0.6666666666666666,\"#ed7953\"],[0.7777777777777778,\"#fb9f3a\"],[0.8888888888888888,\"#fdca26\"],[1.0,\"#f0f921\"]]}],\"surface\":[{\"type\":\"surface\",\"colorbar\":{\"outlinewidth\":0,\"ticks\":\"\"},\"colorscale\":[[0.0,\"#0d0887\"],[0.1111111111111111,\"#46039f\"],[0.2222222222222222,\"#7201a8\"],[0.3333333333333333,\"#9c179e\"],[0.4444444444444444,\"#bd3786\"],[0.5555555555555556,\"#d8576b\"],[0.6666666666666666,\"#ed7953\"],[0.7777777777777778,\"#fb9f3a\"],[0.8888888888888888,\"#fdca26\"],[1.0,\"#f0f921\"]]}],\"mesh3d\":[{\"type\":\"mesh3d\",\"colorbar\":{\"outlinewidth\":0,\"ticks\":\"\"}}],\"scatter\":[{\"fillpattern\":{\"fillmode\":\"overlay\",\"size\":10,\"solidity\":0.2},\"type\":\"scatter\"}],\"parcoords\":[{\"type\":\"parcoords\",\"line\":{\"colorbar\":{\"outlinewidth\":0,\"ticks\":\"\"}}}],\"scatterpolargl\":[{\"type\":\"scatterpolargl\",\"marker\":{\"colorbar\":{\"outlinewidth\":0,\"ticks\":\"\"}}}],\"bar\":[{\"error_x\":{\"color\":\"#2a3f5f\"},\"error_y\":{\"color\":\"#2a3f5f\"},\"marker\":{\"line\":{\"color\":\"#E5ECF6\",\"width\":0.5},\"pattern\":{\"fillmode\":\"overlay\",\"size\":10,\"solidity\":0.2}},\"type\":\"bar\"}],\"scattergeo\":[{\"type\":\"scattergeo\",\"marker\":{\"colorbar\":{\"outlinewidth\":0,\"ticks\":\"\"}}}],\"scatterpolar\":[{\"type\":\"scatterpolar\",\"marker\":{\"colorbar\":{\"outlinewidth\":0,\"ticks\":\"\"}}}],\"histogram\":[{\"marker\":{\"pattern\":{\"fillmode\":\"overlay\",\"size\":10,\"solidity\":0.2}},\"type\":\"histogram\"}],\"scattergl\":[{\"type\":\"scattergl\",\"marker\":{\"colorbar\":{\"outlinewidth\":0,\"ticks\":\"\"}}}],\"scatter3d\":[{\"type\":\"scatter3d\",\"line\":{\"colorbar\":{\"outlinewidth\":0,\"ticks\":\"\"}},\"marker\":{\"colorbar\":{\"outlinewidth\":0,\"ticks\":\"\"}}}],\"scattermapbox\":[{\"type\":\"scattermapbox\",\"marker\":{\"colorbar\":{\"outlinewidth\":0,\"ticks\":\"\"}}}],\"scatterternary\":[{\"type\":\"scatterternary\",\"marker\":{\"colorbar\":{\"outlinewidth\":0,\"ticks\":\"\"}}}],\"scattercarpet\":[{\"type\":\"scattercarpet\",\"marker\":{\"colorbar\":{\"outlinewidth\":0,\"ticks\":\"\"}}}],\"carpet\":[{\"aaxis\":{\"endlinecolor\":\"#2a3f5f\",\"gridcolor\":\"white\",\"linecolor\":\"white\",\"minorgridcolor\":\"white\",\"startlinecolor\":\"#2a3f5f\"},\"baxis\":{\"endlinecolor\":\"#2a3f5f\",\"gridcolor\":\"white\",\"linecolor\":\"white\",\"minorgridcolor\":\"white\",\"startlinecolor\":\"#2a3f5f\"},\"type\":\"carpet\"}],\"table\":[{\"cells\":{\"fill\":{\"color\":\"#EBF0F8\"},\"line\":{\"color\":\"white\"}},\"header\":{\"fill\":{\"color\":\"#C8D4E3\"},\"line\":{\"color\":\"white\"}},\"type\":\"table\"}],\"barpolar\":[{\"marker\":{\"line\":{\"color\":\"#E5ECF6\",\"width\":0.5},\"pattern\":{\"fillmode\":\"overlay\",\"size\":10,\"solidity\":0.2}},\"type\":\"barpolar\"}],\"pie\":[{\"automargin\":true,\"type\":\"pie\"}]},\"layout\":{\"autotypenumbers\":\"strict\",\"colorway\":[\"#636efa\",\"#EF553B\",\"#00cc96\",\"#ab63fa\",\"#FFA15A\",\"#19d3f3\",\"#FF6692\",\"#B6E880\",\"#FF97FF\",\"#FECB52\"],\"font\":{\"color\":\"#2a3f5f\"},\"hovermode\":\"closest\",\"hoverlabel\":{\"align\":\"left\"},\"paper_bgcolor\":\"white\",\"plot_bgcolor\":\"#E5ECF6\",\"polar\":{\"bgcolor\":\"#E5ECF6\",\"angularaxis\":{\"gridcolor\":\"white\",\"linecolor\":\"white\",\"ticks\":\"\"},\"radialaxis\":{\"gridcolor\":\"white\",\"linecolor\":\"white\",\"ticks\":\"\"}},\"ternary\":{\"bgcolor\":\"#E5ECF6\",\"aaxis\":{\"gridcolor\":\"white\",\"linecolor\":\"white\",\"ticks\":\"\"},\"baxis\":{\"gridcolor\":\"white\",\"linecolor\":\"white\",\"ticks\":\"\"},\"caxis\":{\"gridcolor\":\"white\",\"linecolor\":\"white\",\"ticks\":\"\"}},\"coloraxis\":{\"colorbar\":{\"outlinewidth\":0,\"ticks\":\"\"}},\"colorscale\":{\"sequential\":[[0.0,\"#0d0887\"],[0.1111111111111111,\"#46039f\"],[0.2222222222222222,\"#7201a8\"],[0.3333333333333333,\"#9c179e\"],[0.4444444444444444,\"#bd3786\"],[0.5555555555555556,\"#d8576b\"],[0.6666666666666666,\"#ed7953\"],[0.7777777777777778,\"#fb9f3a\"],[0.8888888888888888,\"#fdca26\"],[1.0,\"#f0f921\"]],\"sequentialminus\":[[0.0,\"#0d0887\"],[0.1111111111111111,\"#46039f\"],[0.2222222222222222,\"#7201a8\"],[0.3333333333333333,\"#9c179e\"],[0.4444444444444444,\"#bd3786\"],[0.5555555555555556,\"#d8576b\"],[0.6666666666666666,\"#ed7953\"],[0.7777777777777778,\"#fb9f3a\"],[0.8888888888888888,\"#fdca26\"],[1.0,\"#f0f921\"]],\"diverging\":[[0,\"#8e0152\"],[0.1,\"#c51b7d\"],[0.2,\"#de77ae\"],[0.3,\"#f1b6da\"],[0.4,\"#fde0ef\"],[0.5,\"#f7f7f7\"],[0.6,\"#e6f5d0\"],[0.7,\"#b8e186\"],[0.8,\"#7fbc41\"],[0.9,\"#4d9221\"],[1,\"#276419\"]]},\"xaxis\":{\"gridcolor\":\"white\",\"linecolor\":\"white\",\"ticks\":\"\",\"title\":{\"standoff\":15},\"zerolinecolor\":\"white\",\"automargin\":true,\"zerolinewidth\":2},\"yaxis\":{\"gridcolor\":\"white\",\"linecolor\":\"white\",\"ticks\":\"\",\"title\":{\"standoff\":15},\"zerolinecolor\":\"white\",\"automargin\":true,\"zerolinewidth\":2},\"scene\":{\"xaxis\":{\"backgroundcolor\":\"#E5ECF6\",\"gridcolor\":\"white\",\"linecolor\":\"white\",\"showbackground\":true,\"ticks\":\"\",\"zerolinecolor\":\"white\",\"gridwidth\":2},\"yaxis\":{\"backgroundcolor\":\"#E5ECF6\",\"gridcolor\":\"white\",\"linecolor\":\"white\",\"showbackground\":true,\"ticks\":\"\",\"zerolinecolor\":\"white\",\"gridwidth\":2},\"zaxis\":{\"backgroundcolor\":\"#E5ECF6\",\"gridcolor\":\"white\",\"linecolor\":\"white\",\"showbackground\":true,\"ticks\":\"\",\"zerolinecolor\":\"white\",\"gridwidth\":2}},\"shapedefaults\":{\"line\":{\"color\":\"#2a3f5f\"}},\"annotationdefaults\":{\"arrowcolor\":\"#2a3f5f\",\"arrowhead\":0,\"arrowwidth\":1},\"geo\":{\"bgcolor\":\"white\",\"landcolor\":\"#E5ECF6\",\"subunitcolor\":\"white\",\"showland\":true,\"showlakes\":true,\"lakecolor\":\"white\"},\"title\":{\"x\":0.05},\"mapbox\":{\"style\":\"light\"}}},\"xaxis\":{\"anchor\":\"y\",\"domain\":[0.0,1.0],\"title\":{\"text\":\"Time\"}},\"yaxis\":{\"anchor\":\"x\",\"domain\":[0.0,1.0],\"title\":{\"text\":\"#Robots\"}},\"legend\":{\"title\":{\"text\":\"variable\"},\"tracegroupgap\":0},\"title\":{\"text\":\"DHE - Habitat over Time\"},\"barmode\":\"relative\",\"hovermode\":\"x\"},                        {\"responsive\": true}                    ).then(function(){\n",
       "                            \n",
       "var gd = document.getElementById('05f46abd-1376-4aca-8955-abb562c31098');\n",
       "var x = new MutationObserver(function (mutations, observer) {{\n",
       "        var display = window.getComputedStyle(gd).display;\n",
       "        if (!display || display === 'none') {{\n",
       "            console.log([gd, 'removed!']);\n",
       "            Plotly.purge(gd);\n",
       "            observer.disconnect();\n",
       "        }}\n",
       "}});\n",
       "\n",
       "// Listen for the removal of the full notebook cells\n",
       "var notebookContainer = gd.closest('#notebook-container');\n",
       "if (notebookContainer) {{\n",
       "    x.observe(notebookContainer, {childList: true});\n",
       "}}\n",
       "\n",
       "// Listen for the clearing of the current output cell\n",
       "var outputEl = gd.closest('.output');\n",
       "if (outputEl) {{\n",
       "    x.observe(outputEl, {childList: true});\n",
       "}}\n",
       "\n",
       "                        })                };                });            </script>        </div>"
      ]
     },
     "metadata": {},
     "output_type": "display_data"
    },
    {
     "data": {
      "application/vnd.plotly.v1+json": {
       "config": {
        "plotlyServerURL": "https://plotly.com"
       },
       "data": [
        {
         "name": "#Replicator",
         "type": "bar",
         "x": [
          0,
          1,
          2,
          3,
          4,
          5,
          6,
          7,
          8,
          9,
          10,
          11,
          12,
          13,
          14,
          15,
          16,
          17,
          18,
          19,
          20,
          21,
          22,
          23,
          24,
          25,
          26,
          27,
          28,
          29,
          30,
          31,
          32,
          33,
          34,
          35,
          36,
          37,
          38,
          39,
          40,
          41,
          42,
          43,
          44,
          45,
          46,
          47,
          48,
          49,
          50,
          51,
          52,
          53,
          54,
          55,
          56,
          57,
          58,
          59,
          60,
          61,
          62,
          63,
          64,
          65,
          66,
          67,
          68,
          69,
          70,
          71,
          72,
          73,
          74
         ],
         "xaxis": "x",
         "y": [
          0,
          0,
          0,
          0,
          0,
          0,
          0,
          0,
          0,
          0,
          0,
          0,
          0,
          0,
          0,
          0,
          0,
          0,
          0,
          0,
          0,
          0,
          0,
          0,
          0,
          0,
          0,
          0,
          0,
          0,
          0,
          0,
          0,
          0,
          0,
          0,
          0,
          0,
          0,
          0,
          0,
          0,
          0,
          0,
          0,
          0,
          0,
          0,
          0,
          0,
          0,
          0,
          0,
          0,
          0,
          0,
          0,
          0,
          0,
          0,
          0,
          0,
          0,
          0,
          0,
          0,
          0,
          0,
          0,
          0,
          0,
          0,
          0,
          0,
          0
         ],
         "yaxis": "y"
        },
        {
         "name": "#Normal",
         "type": "bar",
         "x": [
          0,
          1,
          2,
          3,
          4,
          5,
          6,
          7,
          8,
          9,
          10,
          11,
          12,
          13,
          14,
          15,
          16,
          17,
          18,
          19,
          20,
          21,
          22,
          23,
          24,
          25,
          26,
          27,
          28,
          29,
          30,
          31,
          32,
          33,
          34,
          35,
          36,
          37,
          38,
          39,
          40,
          41,
          42,
          43,
          44,
          45,
          46,
          47,
          48,
          49,
          50,
          51,
          52,
          53,
          54,
          55,
          56,
          57,
          58,
          59,
          60,
          61,
          62,
          63,
          64,
          65,
          66,
          67,
          68,
          69,
          70,
          71,
          72,
          73,
          74
         ],
         "xaxis": "x",
         "y": [
          0,
          0,
          0,
          0,
          0,
          0,
          0,
          0,
          0,
          0,
          0,
          0,
          0,
          0,
          0,
          0,
          0,
          0,
          0,
          0,
          0,
          0,
          0,
          0,
          0,
          0,
          0,
          0,
          0,
          0,
          0,
          0,
          0,
          0,
          0,
          0,
          0,
          0,
          0,
          0,
          0,
          0,
          0,
          0,
          0,
          0,
          0,
          0,
          0,
          0,
          0,
          0,
          0,
          0,
          0,
          0,
          0,
          0,
          0,
          0,
          0,
          0,
          0,
          0,
          0,
          0,
          0,
          0,
          0,
          0,
          0,
          0,
          0,
          0,
          0
         ],
         "yaxis": "y"
        },
        {
         "name": "#Assembler",
         "type": "bar",
         "x": [
          0,
          1,
          2,
          3,
          4,
          5,
          6,
          7,
          8,
          9,
          10,
          11,
          12,
          13,
          14,
          15,
          16,
          17,
          18,
          19,
          20,
          21,
          22,
          23,
          24,
          25,
          26,
          27,
          28,
          29,
          30,
          31,
          32,
          33,
          34,
          35,
          36,
          37,
          38,
          39,
          40,
          41,
          42,
          43,
          44,
          45,
          46,
          47,
          48,
          49,
          50,
          51,
          52,
          53,
          54,
          55,
          56,
          57,
          58,
          59,
          60,
          61,
          62,
          63,
          64,
          65,
          66,
          67,
          68,
          69,
          70,
          71,
          72,
          73,
          74
         ],
         "xaxis": "x",
         "y": [
          1,
          1,
          1,
          1,
          3,
          3,
          5,
          5,
          6,
          6,
          8,
          8,
          14,
          15,
          21,
          21,
          27,
          28,
          34,
          34,
          38,
          40,
          42,
          43,
          45,
          49,
          52,
          53,
          58,
          63,
          68,
          73,
          75,
          82,
          86,
          94,
          100,
          104,
          106,
          107,
          107,
          107,
          107,
          107,
          107,
          107,
          107,
          107,
          107,
          107,
          107,
          107,
          107,
          107,
          107,
          107,
          107,
          107,
          107,
          107,
          107,
          107,
          107,
          107,
          107,
          107,
          107,
          107,
          107,
          107,
          107,
          107,
          107,
          107,
          107
         ],
         "yaxis": "y"
        },
        {
         "name": "#Printer",
         "type": "bar",
         "x": [
          0,
          1,
          2,
          3,
          4,
          5,
          6,
          7,
          8,
          9,
          10,
          11,
          12,
          13,
          14,
          15,
          16,
          17,
          18,
          19,
          20,
          21,
          22,
          23,
          24,
          25,
          26,
          27,
          28,
          29,
          30,
          31,
          32,
          33,
          34,
          35,
          36,
          37,
          38,
          39,
          40,
          41,
          42,
          43,
          44,
          45,
          46,
          47,
          48,
          49,
          50,
          51,
          52,
          53,
          54,
          55,
          56,
          57,
          58,
          59,
          60,
          61,
          62,
          63,
          64,
          65,
          66,
          67,
          68,
          69,
          70,
          71,
          72,
          73,
          74
         ],
         "xaxis": "x",
         "y": [
          1,
          1,
          1,
          1,
          1,
          1,
          1,
          1,
          5,
          5,
          7,
          7,
          9,
          9,
          13,
          13,
          20,
          20,
          25,
          28,
          29,
          30,
          32,
          39,
          45,
          47,
          49,
          55,
          60,
          62,
          63,
          70,
          75,
          84,
          86,
          90,
          105,
          110,
          112,
          112,
          112,
          112,
          112,
          112,
          112,
          112,
          112,
          112,
          112,
          112,
          112,
          112,
          112,
          112,
          112,
          112,
          112,
          112,
          112,
          112,
          112,
          112,
          112,
          112,
          112,
          112,
          112,
          112,
          112,
          112,
          112,
          112,
          112,
          112,
          112
         ],
         "yaxis": "y"
        },
        {
         "name": "#Assembling",
         "type": "bar",
         "x": [
          0,
          1,
          2,
          3,
          4,
          5,
          6,
          7,
          8,
          9,
          10,
          11,
          12,
          13,
          14,
          15,
          16,
          17,
          18,
          19,
          20,
          21,
          22,
          23,
          24,
          25,
          26,
          27,
          28,
          29,
          30,
          31,
          32,
          33,
          34,
          35,
          36,
          37,
          38,
          39,
          40,
          41,
          42,
          43,
          44,
          45,
          46,
          47,
          48,
          49,
          50,
          51,
          52,
          53,
          54,
          55,
          56,
          57,
          58,
          59,
          60,
          61,
          62,
          63,
          64,
          65,
          66,
          67,
          68,
          69,
          70,
          71,
          72,
          73,
          74
         ],
         "xaxis": "x3",
         "y": [
          1,
          1,
          1,
          1,
          3,
          3,
          5,
          5,
          5,
          6,
          8,
          8,
          14,
          14,
          19,
          21,
          15,
          17,
          11,
          10,
          10,
          15,
          19,
          17,
          16,
          18,
          23,
          29,
          24,
          26,
          29,
          34,
          36,
          32,
          46,
          39,
          14,
          4,
          1,
          0,
          0,
          0,
          0,
          0,
          0,
          0,
          0,
          0,
          0,
          0,
          0,
          0,
          0,
          0,
          0,
          0,
          0,
          0,
          0,
          0,
          0,
          0,
          0,
          0,
          0,
          0,
          0,
          0,
          0,
          0,
          0,
          0,
          0,
          0,
          0
         ],
         "yaxis": "y3"
        },
        {
         "name": "#Printing",
         "type": "bar",
         "x": [
          0,
          1,
          2,
          3,
          4,
          5,
          6,
          7,
          8,
          9,
          10,
          11,
          12,
          13,
          14,
          15,
          16,
          17,
          18,
          19,
          20,
          21,
          22,
          23,
          24,
          25,
          26,
          27,
          28,
          29,
          30,
          31,
          32,
          33,
          34,
          35,
          36,
          37,
          38,
          39,
          40,
          41,
          42,
          43,
          44,
          45,
          46,
          47,
          48,
          49,
          50,
          51,
          52,
          53,
          54,
          55,
          56,
          57,
          58,
          59,
          60,
          61,
          62,
          63,
          64,
          65,
          66,
          67,
          68,
          69,
          70,
          71,
          72,
          73,
          74
         ],
         "xaxis": "x3",
         "y": [
          1,
          1,
          1,
          1,
          1,
          1,
          1,
          1,
          5,
          5,
          7,
          7,
          9,
          9,
          13,
          13,
          19,
          20,
          24,
          25,
          28,
          29,
          30,
          38,
          43,
          47,
          49,
          53,
          59,
          60,
          62,
          69,
          72,
          83,
          84,
          88,
          38,
          2,
          0,
          0,
          0,
          0,
          0,
          0,
          0,
          0,
          0,
          0,
          0,
          0,
          0,
          0,
          0,
          0,
          0,
          0,
          0,
          0,
          0,
          0,
          0,
          0,
          0,
          0,
          0,
          0,
          0,
          0,
          0,
          0,
          0,
          0,
          0,
          0,
          0
         ],
         "yaxis": "y3"
        },
        {
         "name": "#Collecting",
         "type": "bar",
         "x": [
          0,
          1,
          2,
          3,
          4,
          5,
          6,
          7,
          8,
          9,
          10,
          11,
          12,
          13,
          14,
          15,
          16,
          17,
          18,
          19,
          20,
          21,
          22,
          23,
          24,
          25,
          26,
          27,
          28,
          29,
          30,
          31,
          32,
          33,
          34,
          35,
          36,
          37,
          38,
          39,
          40,
          41,
          42,
          43,
          44,
          45,
          46,
          47,
          48,
          49,
          50,
          51,
          52,
          53,
          54,
          55,
          56,
          57,
          58,
          59,
          60,
          61,
          62,
          63,
          64,
          65,
          66,
          67,
          68,
          69,
          70,
          71,
          72,
          73,
          74
         ],
         "xaxis": "x3",
         "y": [
          0,
          0,
          0,
          0,
          0,
          0,
          0,
          0,
          0,
          0,
          0,
          0,
          0,
          0,
          0,
          0,
          8,
          10,
          23,
          24,
          28,
          25,
          23,
          25,
          29,
          31,
          26,
          23,
          31,
          36,
          38,
          34,
          37,
          47,
          24,
          0,
          0,
          0,
          0,
          0,
          0,
          0,
          0,
          0,
          0,
          0,
          0,
          0,
          0,
          0,
          0,
          0,
          0,
          0,
          0,
          0,
          0,
          0,
          0,
          0,
          0,
          0,
          0,
          0,
          0,
          0,
          0,
          0,
          0,
          0,
          0,
          0,
          0,
          0,
          0
         ],
         "yaxis": "y3"
        },
        {
         "name": "#Idle",
         "type": "bar",
         "x": [
          0,
          1,
          2,
          3,
          4,
          5,
          6,
          7,
          8,
          9,
          10,
          11,
          12,
          13,
          14,
          15,
          16,
          17,
          18,
          19,
          20,
          21,
          22,
          23,
          24,
          25,
          26,
          27,
          28,
          29,
          30,
          31,
          32,
          33,
          34,
          35,
          36,
          37,
          38,
          39,
          40,
          41,
          42,
          43,
          44,
          45,
          46,
          47,
          48,
          49,
          50,
          51,
          52,
          53,
          54,
          55,
          56,
          57,
          58,
          59,
          60,
          61,
          62,
          63,
          64,
          65,
          66,
          67,
          68,
          69,
          70,
          71,
          72,
          73,
          74
         ],
         "xaxis": "x3",
         "y": [
          0,
          0,
          0,
          0,
          0,
          0,
          0,
          0,
          1,
          0,
          0,
          0,
          0,
          1,
          2,
          0,
          5,
          1,
          1,
          3,
          1,
          1,
          2,
          2,
          2,
          0,
          3,
          3,
          4,
          3,
          2,
          6,
          5,
          4,
          18,
          57,
          153,
          208,
          217,
          219,
          219,
          219,
          219,
          219,
          219,
          219,
          219,
          219,
          219,
          219,
          219,
          219,
          219,
          219,
          219,
          219,
          219,
          219,
          219,
          219,
          219,
          219,
          219,
          219,
          219,
          219,
          219,
          219,
          219,
          219,
          219,
          219,
          219,
          219,
          219
         ],
         "yaxis": "y3"
        },
        {
         "mode": "lines",
         "name": "NonPr",
         "type": "scatter",
         "x": [
          0,
          1,
          2,
          3,
          4,
          5,
          6,
          7,
          8,
          9,
          10,
          11,
          12,
          13,
          14,
          15,
          16,
          17,
          18,
          19,
          20,
          21,
          22,
          23,
          24,
          25,
          26,
          27,
          28,
          29,
          30,
          31,
          32,
          33,
          34,
          35,
          36,
          37,
          38,
          39,
          40,
          41,
          42,
          43,
          44,
          45,
          46,
          47,
          48,
          49,
          50,
          51,
          52,
          53,
          54,
          55,
          56,
          57,
          58,
          59,
          60,
          61,
          62,
          63,
          64,
          65,
          66,
          67,
          68,
          69,
          70,
          71,
          72,
          73,
          74
         ],
         "xaxis": "x2",
         "y": [
          298,
          298,
          298,
          298,
          294,
          294,
          290,
          290,
          284,
          282,
          276,
          276,
          262,
          260,
          242,
          238,
          226,
          222,
          216,
          212,
          206,
          198,
          188,
          180,
          170,
          162,
          148,
          128,
          118,
          102,
          90,
          66,
          48,
          30,
          6,
          0,
          0,
          0,
          0,
          0,
          0,
          0,
          0,
          0,
          0,
          0,
          0,
          0,
          0,
          0,
          0,
          0,
          0,
          0,
          0,
          0,
          0,
          0,
          0,
          0,
          0,
          0,
          0,
          0,
          0,
          0,
          0,
          0,
          0,
          0,
          0,
          0,
          0,
          0,
          0
         ],
         "yaxis": "y2"
        },
        {
         "mode": "lines",
         "name": "Printable",
         "type": "scatter",
         "x": [
          0,
          1,
          2,
          3,
          4,
          5,
          6,
          7,
          8,
          9,
          10,
          11,
          12,
          13,
          14,
          15,
          16,
          17,
          18,
          19,
          20,
          21,
          22,
          23,
          24,
          25,
          26,
          27,
          28,
          29,
          30,
          31,
          32,
          33,
          34,
          35,
          36,
          37,
          38,
          39,
          40,
          41,
          42,
          43,
          44,
          45,
          46,
          47,
          48,
          49,
          50,
          51,
          52,
          53,
          54,
          55,
          56,
          57,
          58,
          59,
          60,
          61,
          62,
          63,
          64,
          65,
          66,
          67,
          68,
          69,
          70,
          71,
          72,
          73,
          74
         ],
         "xaxis": "x2",
         "y": [
          97,
          97,
          98,
          98,
          91,
          91,
          84,
          84,
          75,
          73,
          65,
          68,
          45,
          45,
          16,
          14,
          0,
          2,
          2,
          7,
          10,
          8,
          4,
          7,
          9,
          17,
          13,
          0,
          10,
          8,
          16,
          2,
          3,
          9,
          3,
          36,
          49,
          49,
          49,
          49,
          49,
          49,
          49,
          49,
          49,
          49,
          49,
          49,
          49,
          49,
          49,
          49,
          49,
          49,
          49,
          49,
          49,
          49,
          49,
          49,
          49,
          49,
          49,
          49,
          49,
          49,
          49,
          49,
          49,
          49,
          49,
          49,
          49,
          49,
          49
         ],
         "yaxis": "y2"
        },
        {
         "mode": "lines",
         "name": "Materials",
         "type": "scatter",
         "x": [
          0,
          1,
          2,
          3,
          4,
          5,
          6,
          7,
          8,
          9,
          10,
          11,
          12,
          13,
          14,
          15,
          16,
          17,
          18,
          19,
          20,
          21,
          22,
          23,
          24,
          25,
          26,
          27,
          28,
          29,
          30,
          31,
          32,
          33,
          34,
          35,
          36,
          37,
          38,
          39,
          40,
          41,
          42,
          43,
          44,
          45,
          46,
          47,
          48,
          49,
          50,
          51,
          52,
          53,
          54,
          55,
          56,
          57,
          58,
          59,
          60,
          61,
          62,
          63,
          64,
          65,
          66,
          67,
          68,
          69,
          70,
          71,
          72,
          73,
          74
         ],
         "xaxis": "x2",
         "y": [
          49,
          49,
          48,
          48,
          47,
          47,
          46,
          46,
          43,
          41,
          37,
          34,
          29,
          25,
          18,
          12,
          6,
          6,
          11,
          22,
          32,
          42,
          48,
          55,
          61,
          67,
          69,
          65,
          65,
          69,
          73,
          73,
          73,
          76,
          59,
          14,
          1,
          1,
          1,
          1,
          1,
          1,
          1,
          1,
          1,
          1,
          1,
          1,
          1,
          1,
          1,
          1,
          1,
          1,
          1,
          1,
          1,
          1,
          1,
          1,
          1,
          1,
          1,
          1,
          1,
          1,
          1,
          1,
          1,
          1,
          1,
          1,
          1,
          1,
          1
         ],
         "yaxis": "y2"
        },
        {
         "mode": "lines",
         "name": "Env_Materials",
         "type": "scatter",
         "x": [
          0,
          1,
          2,
          3,
          4,
          5,
          6,
          7,
          8,
          9,
          10,
          11,
          12,
          13,
          14,
          15,
          16,
          17,
          18,
          19,
          20,
          21,
          22,
          23,
          24,
          25,
          26,
          27,
          28,
          29,
          30,
          31,
          32,
          33,
          34,
          35,
          36,
          37,
          38,
          39,
          40,
          41,
          42,
          43,
          44,
          45,
          46,
          47,
          48,
          49,
          50,
          51,
          52,
          53,
          54,
          55,
          56,
          57,
          58,
          59,
          60,
          61,
          62,
          63,
          64,
          65,
          66,
          67,
          68,
          69,
          70,
          71,
          72,
          73,
          74
         ],
         "xaxis": "x2",
         "y": [
          500,
          500,
          500,
          500,
          500,
          500,
          500,
          500,
          500,
          500,
          500,
          500,
          500,
          500,
          500,
          500,
          496,
          486,
          469,
          445,
          420,
          396,
          374,
          348,
          320,
          290,
          264,
          241,
          211,
          177,
          141,
          107,
          70,
          25,
          0,
          0,
          0,
          0,
          0,
          0,
          0,
          0,
          0,
          0,
          0,
          0,
          0,
          0,
          0,
          0,
          0,
          0,
          0,
          0,
          0,
          0,
          0,
          0,
          0,
          0,
          0,
          0,
          0,
          0,
          0,
          0,
          0,
          0,
          0,
          0,
          0,
          0,
          0,
          0,
          0
         ],
         "yaxis": "y2"
        },
        {
         "mode": "lines",
         "name": "Avg. Quality #in",
         "type": "scatter",
         "x": [
          0,
          1,
          2,
          3,
          4,
          5,
          6,
          7,
          8,
          9,
          10,
          11,
          12,
          13,
          14,
          15,
          16,
          17,
          18,
          19,
          20,
          21,
          22,
          23,
          24,
          25,
          26,
          27,
          28,
          29,
          30,
          31,
          32,
          33,
          34,
          35,
          36,
          37,
          38,
          39,
          40,
          41,
          42,
          43,
          44,
          45,
          46,
          47,
          48,
          49,
          50,
          51,
          52,
          53,
          54,
          55,
          56,
          57,
          58,
          59,
          60,
          61,
          62,
          63,
          64,
          65,
          66,
          67,
          68,
          69,
          70,
          71,
          72,
          73,
          74
         ],
         "xaxis": "x4",
         "y": [
          0.869,
          0.869,
          0.869,
          0.869,
          0.795,
          0.795,
          0.717,
          0.717,
          0.627,
          0.627,
          0.628,
          0.628,
          0.613,
          0.588,
          0.554,
          0.554,
          0.524,
          0.513,
          0.526,
          0.501,
          0.504,
          0.505,
          0.494,
          0.493,
          0.5,
          0.509,
          0.496,
          0.484,
          0.477,
          0.469,
          0.468,
          0.453,
          0.441,
          0.445,
          0.437,
          0.429,
          0.414,
          0.402,
          0.402,
          0.4,
          0.4,
          0.4,
          0.4,
          0.4,
          0.4,
          0.4,
          0.4,
          0.4,
          0.4,
          0.4,
          0.4,
          0.4,
          0.4,
          0.4,
          0.4,
          0.4,
          0.4,
          0.4,
          0.4,
          0.4,
          0.4,
          0.4,
          0.4,
          0.4,
          0.4,
          0.4,
          0.4,
          0.4,
          0.4,
          0.4,
          0.4,
          0.4,
          0.4,
          0.4,
          0.4
         ],
         "yaxis": "y4"
        },
        {
         "mode": "lines",
         "name": "Avg. Quality #total",
         "type": "scatter",
         "x": [
          0,
          1,
          2,
          3,
          4,
          5,
          6,
          7,
          8,
          9,
          10,
          11,
          12,
          13,
          14,
          15,
          16,
          17,
          18,
          19,
          20,
          21,
          22,
          23,
          24,
          25,
          26,
          27,
          28,
          29,
          30,
          31,
          32,
          33,
          34,
          35,
          36,
          37,
          38,
          39,
          40,
          41,
          42,
          43,
          44,
          45,
          46,
          47,
          48,
          49,
          50,
          51,
          52,
          53,
          54,
          55,
          56,
          57,
          58,
          59,
          60,
          61,
          62,
          63,
          64,
          65,
          66,
          67,
          68,
          69,
          70,
          71,
          72,
          73,
          74
         ],
         "xaxis": "x4",
         "y": [
          0.869,
          0.869,
          0.869,
          0.869,
          0.795,
          0.795,
          0.717,
          0.717,
          0.665,
          0.665,
          0.656,
          0.656,
          0.632,
          0.616,
          0.597,
          0.597,
          0.601,
          0.593,
          0.591,
          0.578,
          0.581,
          0.582,
          0.574,
          0.573,
          0.583,
          0.586,
          0.581,
          0.571,
          0.569,
          0.566,
          0.563,
          0.551,
          0.546,
          0.545,
          0.541,
          0.532,
          0.521,
          0.511,
          0.511,
          0.511,
          0.511,
          0.511,
          0.511,
          0.511,
          0.511,
          0.511,
          0.511,
          0.511,
          0.511,
          0.511,
          0.511,
          0.511,
          0.511,
          0.511,
          0.511,
          0.511,
          0.511,
          0.511,
          0.511,
          0.511,
          0.511,
          0.511,
          0.511,
          0.511,
          0.511,
          0.511,
          0.511,
          0.511,
          0.511,
          0.511,
          0.511,
          0.511,
          0.511,
          0.511,
          0.511
         ],
         "yaxis": "y4"
        }
       ],
       "layout": {
        "annotations": [
         {
          "font": {
           "size": 16
          },
          "showarrow": false,
          "text": "Types of Robots vs Time",
          "x": 0.225,
          "xanchor": "center",
          "xref": "paper",
          "y": 1,
          "yanchor": "bottom",
          "yref": "paper"
         },
         {
          "font": {
           "size": 16
          },
          "showarrow": false,
          "text": "Resources vs Time",
          "x": 0.775,
          "xanchor": "center",
          "xref": "paper",
          "y": 1,
          "yanchor": "bottom",
          "yref": "paper"
         },
         {
          "font": {
           "size": 16
          },
          "showarrow": false,
          "text": "Tasks of Robots vs Time",
          "x": 0.225,
          "xanchor": "center",
          "xref": "paper",
          "y": 0.375,
          "yanchor": "bottom",
          "yref": "paper"
         },
         {
          "font": {
           "size": 16
          },
          "showarrow": false,
          "text": "Build Quality vs Time",
          "x": 0.775,
          "xanchor": "center",
          "xref": "paper",
          "y": 0.375,
          "yanchor": "bottom",
          "yref": "paper"
         }
        ],
        "hovermode": "x",
        "template": {
         "data": {
          "bar": [
           {
            "error_x": {
             "color": "#2a3f5f"
            },
            "error_y": {
             "color": "#2a3f5f"
            },
            "marker": {
             "line": {
              "color": "#E5ECF6",
              "width": 0.5
             },
             "pattern": {
              "fillmode": "overlay",
              "size": 10,
              "solidity": 0.2
             }
            },
            "type": "bar"
           }
          ],
          "barpolar": [
           {
            "marker": {
             "line": {
              "color": "#E5ECF6",
              "width": 0.5
             },
             "pattern": {
              "fillmode": "overlay",
              "size": 10,
              "solidity": 0.2
             }
            },
            "type": "barpolar"
           }
          ],
          "carpet": [
           {
            "aaxis": {
             "endlinecolor": "#2a3f5f",
             "gridcolor": "white",
             "linecolor": "white",
             "minorgridcolor": "white",
             "startlinecolor": "#2a3f5f"
            },
            "baxis": {
             "endlinecolor": "#2a3f5f",
             "gridcolor": "white",
             "linecolor": "white",
             "minorgridcolor": "white",
             "startlinecolor": "#2a3f5f"
            },
            "type": "carpet"
           }
          ],
          "choropleth": [
           {
            "colorbar": {
             "outlinewidth": 0,
             "ticks": ""
            },
            "type": "choropleth"
           }
          ],
          "contour": [
           {
            "colorbar": {
             "outlinewidth": 0,
             "ticks": ""
            },
            "colorscale": [
             [
              0,
              "#0d0887"
             ],
             [
              0.1111111111111111,
              "#46039f"
             ],
             [
              0.2222222222222222,
              "#7201a8"
             ],
             [
              0.3333333333333333,
              "#9c179e"
             ],
             [
              0.4444444444444444,
              "#bd3786"
             ],
             [
              0.5555555555555556,
              "#d8576b"
             ],
             [
              0.6666666666666666,
              "#ed7953"
             ],
             [
              0.7777777777777778,
              "#fb9f3a"
             ],
             [
              0.8888888888888888,
              "#fdca26"
             ],
             [
              1,
              "#f0f921"
             ]
            ],
            "type": "contour"
           }
          ],
          "contourcarpet": [
           {
            "colorbar": {
             "outlinewidth": 0,
             "ticks": ""
            },
            "type": "contourcarpet"
           }
          ],
          "heatmap": [
           {
            "colorbar": {
             "outlinewidth": 0,
             "ticks": ""
            },
            "colorscale": [
             [
              0,
              "#0d0887"
             ],
             [
              0.1111111111111111,
              "#46039f"
             ],
             [
              0.2222222222222222,
              "#7201a8"
             ],
             [
              0.3333333333333333,
              "#9c179e"
             ],
             [
              0.4444444444444444,
              "#bd3786"
             ],
             [
              0.5555555555555556,
              "#d8576b"
             ],
             [
              0.6666666666666666,
              "#ed7953"
             ],
             [
              0.7777777777777778,
              "#fb9f3a"
             ],
             [
              0.8888888888888888,
              "#fdca26"
             ],
             [
              1,
              "#f0f921"
             ]
            ],
            "type": "heatmap"
           }
          ],
          "heatmapgl": [
           {
            "colorbar": {
             "outlinewidth": 0,
             "ticks": ""
            },
            "colorscale": [
             [
              0,
              "#0d0887"
             ],
             [
              0.1111111111111111,
              "#46039f"
             ],
             [
              0.2222222222222222,
              "#7201a8"
             ],
             [
              0.3333333333333333,
              "#9c179e"
             ],
             [
              0.4444444444444444,
              "#bd3786"
             ],
             [
              0.5555555555555556,
              "#d8576b"
             ],
             [
              0.6666666666666666,
              "#ed7953"
             ],
             [
              0.7777777777777778,
              "#fb9f3a"
             ],
             [
              0.8888888888888888,
              "#fdca26"
             ],
             [
              1,
              "#f0f921"
             ]
            ],
            "type": "heatmapgl"
           }
          ],
          "histogram": [
           {
            "marker": {
             "pattern": {
              "fillmode": "overlay",
              "size": 10,
              "solidity": 0.2
             }
            },
            "type": "histogram"
           }
          ],
          "histogram2d": [
           {
            "colorbar": {
             "outlinewidth": 0,
             "ticks": ""
            },
            "colorscale": [
             [
              0,
              "#0d0887"
             ],
             [
              0.1111111111111111,
              "#46039f"
             ],
             [
              0.2222222222222222,
              "#7201a8"
             ],
             [
              0.3333333333333333,
              "#9c179e"
             ],
             [
              0.4444444444444444,
              "#bd3786"
             ],
             [
              0.5555555555555556,
              "#d8576b"
             ],
             [
              0.6666666666666666,
              "#ed7953"
             ],
             [
              0.7777777777777778,
              "#fb9f3a"
             ],
             [
              0.8888888888888888,
              "#fdca26"
             ],
             [
              1,
              "#f0f921"
             ]
            ],
            "type": "histogram2d"
           }
          ],
          "histogram2dcontour": [
           {
            "colorbar": {
             "outlinewidth": 0,
             "ticks": ""
            },
            "colorscale": [
             [
              0,
              "#0d0887"
             ],
             [
              0.1111111111111111,
              "#46039f"
             ],
             [
              0.2222222222222222,
              "#7201a8"
             ],
             [
              0.3333333333333333,
              "#9c179e"
             ],
             [
              0.4444444444444444,
              "#bd3786"
             ],
             [
              0.5555555555555556,
              "#d8576b"
             ],
             [
              0.6666666666666666,
              "#ed7953"
             ],
             [
              0.7777777777777778,
              "#fb9f3a"
             ],
             [
              0.8888888888888888,
              "#fdca26"
             ],
             [
              1,
              "#f0f921"
             ]
            ],
            "type": "histogram2dcontour"
           }
          ],
          "mesh3d": [
           {
            "colorbar": {
             "outlinewidth": 0,
             "ticks": ""
            },
            "type": "mesh3d"
           }
          ],
          "parcoords": [
           {
            "line": {
             "colorbar": {
              "outlinewidth": 0,
              "ticks": ""
             }
            },
            "type": "parcoords"
           }
          ],
          "pie": [
           {
            "automargin": true,
            "type": "pie"
           }
          ],
          "scatter": [
           {
            "fillpattern": {
             "fillmode": "overlay",
             "size": 10,
             "solidity": 0.2
            },
            "type": "scatter"
           }
          ],
          "scatter3d": [
           {
            "line": {
             "colorbar": {
              "outlinewidth": 0,
              "ticks": ""
             }
            },
            "marker": {
             "colorbar": {
              "outlinewidth": 0,
              "ticks": ""
             }
            },
            "type": "scatter3d"
           }
          ],
          "scattercarpet": [
           {
            "marker": {
             "colorbar": {
              "outlinewidth": 0,
              "ticks": ""
             }
            },
            "type": "scattercarpet"
           }
          ],
          "scattergeo": [
           {
            "marker": {
             "colorbar": {
              "outlinewidth": 0,
              "ticks": ""
             }
            },
            "type": "scattergeo"
           }
          ],
          "scattergl": [
           {
            "marker": {
             "colorbar": {
              "outlinewidth": 0,
              "ticks": ""
             }
            },
            "type": "scattergl"
           }
          ],
          "scattermapbox": [
           {
            "marker": {
             "colorbar": {
              "outlinewidth": 0,
              "ticks": ""
             }
            },
            "type": "scattermapbox"
           }
          ],
          "scatterpolar": [
           {
            "marker": {
             "colorbar": {
              "outlinewidth": 0,
              "ticks": ""
             }
            },
            "type": "scatterpolar"
           }
          ],
          "scatterpolargl": [
           {
            "marker": {
             "colorbar": {
              "outlinewidth": 0,
              "ticks": ""
             }
            },
            "type": "scatterpolargl"
           }
          ],
          "scatterternary": [
           {
            "marker": {
             "colorbar": {
              "outlinewidth": 0,
              "ticks": ""
             }
            },
            "type": "scatterternary"
           }
          ],
          "surface": [
           {
            "colorbar": {
             "outlinewidth": 0,
             "ticks": ""
            },
            "colorscale": [
             [
              0,
              "#0d0887"
             ],
             [
              0.1111111111111111,
              "#46039f"
             ],
             [
              0.2222222222222222,
              "#7201a8"
             ],
             [
              0.3333333333333333,
              "#9c179e"
             ],
             [
              0.4444444444444444,
              "#bd3786"
             ],
             [
              0.5555555555555556,
              "#d8576b"
             ],
             [
              0.6666666666666666,
              "#ed7953"
             ],
             [
              0.7777777777777778,
              "#fb9f3a"
             ],
             [
              0.8888888888888888,
              "#fdca26"
             ],
             [
              1,
              "#f0f921"
             ]
            ],
            "type": "surface"
           }
          ],
          "table": [
           {
            "cells": {
             "fill": {
              "color": "#EBF0F8"
             },
             "line": {
              "color": "white"
             }
            },
            "header": {
             "fill": {
              "color": "#C8D4E3"
             },
             "line": {
              "color": "white"
             }
            },
            "type": "table"
           }
          ]
         },
         "layout": {
          "annotationdefaults": {
           "arrowcolor": "#2a3f5f",
           "arrowhead": 0,
           "arrowwidth": 1
          },
          "autotypenumbers": "strict",
          "coloraxis": {
           "colorbar": {
            "outlinewidth": 0,
            "ticks": ""
           }
          },
          "colorscale": {
           "diverging": [
            [
             0,
             "#8e0152"
            ],
            [
             0.1,
             "#c51b7d"
            ],
            [
             0.2,
             "#de77ae"
            ],
            [
             0.3,
             "#f1b6da"
            ],
            [
             0.4,
             "#fde0ef"
            ],
            [
             0.5,
             "#f7f7f7"
            ],
            [
             0.6,
             "#e6f5d0"
            ],
            [
             0.7,
             "#b8e186"
            ],
            [
             0.8,
             "#7fbc41"
            ],
            [
             0.9,
             "#4d9221"
            ],
            [
             1,
             "#276419"
            ]
           ],
           "sequential": [
            [
             0,
             "#0d0887"
            ],
            [
             0.1111111111111111,
             "#46039f"
            ],
            [
             0.2222222222222222,
             "#7201a8"
            ],
            [
             0.3333333333333333,
             "#9c179e"
            ],
            [
             0.4444444444444444,
             "#bd3786"
            ],
            [
             0.5555555555555556,
             "#d8576b"
            ],
            [
             0.6666666666666666,
             "#ed7953"
            ],
            [
             0.7777777777777778,
             "#fb9f3a"
            ],
            [
             0.8888888888888888,
             "#fdca26"
            ],
            [
             1,
             "#f0f921"
            ]
           ],
           "sequentialminus": [
            [
             0,
             "#0d0887"
            ],
            [
             0.1111111111111111,
             "#46039f"
            ],
            [
             0.2222222222222222,
             "#7201a8"
            ],
            [
             0.3333333333333333,
             "#9c179e"
            ],
            [
             0.4444444444444444,
             "#bd3786"
            ],
            [
             0.5555555555555556,
             "#d8576b"
            ],
            [
             0.6666666666666666,
             "#ed7953"
            ],
            [
             0.7777777777777778,
             "#fb9f3a"
            ],
            [
             0.8888888888888888,
             "#fdca26"
            ],
            [
             1,
             "#f0f921"
            ]
           ]
          },
          "colorway": [
           "#636efa",
           "#EF553B",
           "#00cc96",
           "#ab63fa",
           "#FFA15A",
           "#19d3f3",
           "#FF6692",
           "#B6E880",
           "#FF97FF",
           "#FECB52"
          ],
          "font": {
           "color": "#2a3f5f"
          },
          "geo": {
           "bgcolor": "white",
           "lakecolor": "white",
           "landcolor": "#E5ECF6",
           "showlakes": true,
           "showland": true,
           "subunitcolor": "white"
          },
          "hoverlabel": {
           "align": "left"
          },
          "hovermode": "closest",
          "mapbox": {
           "style": "light"
          },
          "paper_bgcolor": "white",
          "plot_bgcolor": "#E5ECF6",
          "polar": {
           "angularaxis": {
            "gridcolor": "white",
            "linecolor": "white",
            "ticks": ""
           },
           "bgcolor": "#E5ECF6",
           "radialaxis": {
            "gridcolor": "white",
            "linecolor": "white",
            "ticks": ""
           }
          },
          "scene": {
           "xaxis": {
            "backgroundcolor": "#E5ECF6",
            "gridcolor": "white",
            "gridwidth": 2,
            "linecolor": "white",
            "showbackground": true,
            "ticks": "",
            "zerolinecolor": "white"
           },
           "yaxis": {
            "backgroundcolor": "#E5ECF6",
            "gridcolor": "white",
            "gridwidth": 2,
            "linecolor": "white",
            "showbackground": true,
            "ticks": "",
            "zerolinecolor": "white"
           },
           "zaxis": {
            "backgroundcolor": "#E5ECF6",
            "gridcolor": "white",
            "gridwidth": 2,
            "linecolor": "white",
            "showbackground": true,
            "ticks": "",
            "zerolinecolor": "white"
           }
          },
          "shapedefaults": {
           "line": {
            "color": "#2a3f5f"
           }
          },
          "ternary": {
           "aaxis": {
            "gridcolor": "white",
            "linecolor": "white",
            "ticks": ""
           },
           "baxis": {
            "gridcolor": "white",
            "linecolor": "white",
            "ticks": ""
           },
           "bgcolor": "#E5ECF6",
           "caxis": {
            "gridcolor": "white",
            "linecolor": "white",
            "ticks": ""
           }
          },
          "title": {
           "x": 0.05
          },
          "xaxis": {
           "automargin": true,
           "gridcolor": "white",
           "linecolor": "white",
           "ticks": "",
           "title": {
            "standoff": 15
           },
           "zerolinecolor": "white",
           "zerolinewidth": 2
          },
          "yaxis": {
           "automargin": true,
           "gridcolor": "white",
           "linecolor": "white",
           "ticks": "",
           "title": {
            "standoff": 15
           },
           "zerolinecolor": "white",
           "zerolinewidth": 2
          }
         }
        },
        "title": {
         "text": "DHE - Characteristics"
        },
        "xaxis": {
         "anchor": "y",
         "domain": [
          0,
          0.45
         ]
        },
        "xaxis2": {
         "anchor": "y2",
         "domain": [
          0.55,
          1
         ]
        },
        "xaxis3": {
         "anchor": "y3",
         "domain": [
          0,
          0.45
         ]
        },
        "xaxis4": {
         "anchor": "y4",
         "domain": [
          0.55,
          1
         ]
        },
        "yaxis": {
         "anchor": "x",
         "domain": [
          0.625,
          1
         ]
        },
        "yaxis2": {
         "anchor": "x2",
         "domain": [
          0.625,
          1
         ]
        },
        "yaxis3": {
         "anchor": "x3",
         "domain": [
          0,
          0.375
         ]
        },
        "yaxis4": {
         "anchor": "x4",
         "domain": [
          0,
          0.375
         ]
        }
       }
      },
      "text/html": [
       "<div>                            <div id=\"447f22cf-7d80-4d91-bc5d-c499ac9e1530\" class=\"plotly-graph-div\" style=\"height:525px; width:100%;\"></div>            <script type=\"text/javascript\">                require([\"plotly\"], function(Plotly) {                    window.PLOTLYENV=window.PLOTLYENV || {};                                    if (document.getElementById(\"447f22cf-7d80-4d91-bc5d-c499ac9e1530\")) {                    Plotly.newPlot(                        \"447f22cf-7d80-4d91-bc5d-c499ac9e1530\",                        [{\"name\":\"#Replicator\",\"x\":[0.0,1.0,2.0,3.0,4.0,5.0,6.0,7.0,8.0,9.0,10.0,11.0,12.0,13.0,14.0,15.0,16.0,17.0,18.0,19.0,20.0,21.0,22.0,23.0,24.0,25.0,26.0,27.0,28.0,29.0,30.0,31.0,32.0,33.0,34.0,35.0,36.0,37.0,38.0,39.0,40.0,41.0,42.0,43.0,44.0,45.0,46.0,47.0,48.0,49.0,50.0,51.0,52.0,53.0,54.0,55.0,56.0,57.0,58.0,59.0,60.0,61.0,62.0,63.0,64.0,65.0,66.0,67.0,68.0,69.0,70.0,71.0,72.0,73.0,74.0],\"y\":[0.0,0.0,0.0,0.0,0.0,0.0,0.0,0.0,0.0,0.0,0.0,0.0,0.0,0.0,0.0,0.0,0.0,0.0,0.0,0.0,0.0,0.0,0.0,0.0,0.0,0.0,0.0,0.0,0.0,0.0,0.0,0.0,0.0,0.0,0.0,0.0,0.0,0.0,0.0,0.0,0.0,0.0,0.0,0.0,0.0,0.0,0.0,0.0,0.0,0.0,0.0,0.0,0.0,0.0,0.0,0.0,0.0,0.0,0.0,0.0,0.0,0.0,0.0,0.0,0.0,0.0,0.0,0.0,0.0,0.0,0.0,0.0,0.0,0.0,0.0],\"type\":\"bar\",\"xaxis\":\"x\",\"yaxis\":\"y\"},{\"name\":\"#Normal\",\"x\":[0.0,1.0,2.0,3.0,4.0,5.0,6.0,7.0,8.0,9.0,10.0,11.0,12.0,13.0,14.0,15.0,16.0,17.0,18.0,19.0,20.0,21.0,22.0,23.0,24.0,25.0,26.0,27.0,28.0,29.0,30.0,31.0,32.0,33.0,34.0,35.0,36.0,37.0,38.0,39.0,40.0,41.0,42.0,43.0,44.0,45.0,46.0,47.0,48.0,49.0,50.0,51.0,52.0,53.0,54.0,55.0,56.0,57.0,58.0,59.0,60.0,61.0,62.0,63.0,64.0,65.0,66.0,67.0,68.0,69.0,70.0,71.0,72.0,73.0,74.0],\"y\":[0.0,0.0,0.0,0.0,0.0,0.0,0.0,0.0,0.0,0.0,0.0,0.0,0.0,0.0,0.0,0.0,0.0,0.0,0.0,0.0,0.0,0.0,0.0,0.0,0.0,0.0,0.0,0.0,0.0,0.0,0.0,0.0,0.0,0.0,0.0,0.0,0.0,0.0,0.0,0.0,0.0,0.0,0.0,0.0,0.0,0.0,0.0,0.0,0.0,0.0,0.0,0.0,0.0,0.0,0.0,0.0,0.0,0.0,0.0,0.0,0.0,0.0,0.0,0.0,0.0,0.0,0.0,0.0,0.0,0.0,0.0,0.0,0.0,0.0,0.0],\"type\":\"bar\",\"xaxis\":\"x\",\"yaxis\":\"y\"},{\"name\":\"#Assembler\",\"x\":[0.0,1.0,2.0,3.0,4.0,5.0,6.0,7.0,8.0,9.0,10.0,11.0,12.0,13.0,14.0,15.0,16.0,17.0,18.0,19.0,20.0,21.0,22.0,23.0,24.0,25.0,26.0,27.0,28.0,29.0,30.0,31.0,32.0,33.0,34.0,35.0,36.0,37.0,38.0,39.0,40.0,41.0,42.0,43.0,44.0,45.0,46.0,47.0,48.0,49.0,50.0,51.0,52.0,53.0,54.0,55.0,56.0,57.0,58.0,59.0,60.0,61.0,62.0,63.0,64.0,65.0,66.0,67.0,68.0,69.0,70.0,71.0,72.0,73.0,74.0],\"y\":[1.0,1.0,1.0,1.0,3.0,3.0,5.0,5.0,6.0,6.0,8.0,8.0,14.0,15.0,21.0,21.0,27.0,28.0,34.0,34.0,38.0,40.0,42.0,43.0,45.0,49.0,52.0,53.0,58.0,63.0,68.0,73.0,75.0,82.0,86.0,94.0,100.0,104.0,106.0,107.0,107.0,107.0,107.0,107.0,107.0,107.0,107.0,107.0,107.0,107.0,107.0,107.0,107.0,107.0,107.0,107.0,107.0,107.0,107.0,107.0,107.0,107.0,107.0,107.0,107.0,107.0,107.0,107.0,107.0,107.0,107.0,107.0,107.0,107.0,107.0],\"type\":\"bar\",\"xaxis\":\"x\",\"yaxis\":\"y\"},{\"name\":\"#Printer\",\"x\":[0.0,1.0,2.0,3.0,4.0,5.0,6.0,7.0,8.0,9.0,10.0,11.0,12.0,13.0,14.0,15.0,16.0,17.0,18.0,19.0,20.0,21.0,22.0,23.0,24.0,25.0,26.0,27.0,28.0,29.0,30.0,31.0,32.0,33.0,34.0,35.0,36.0,37.0,38.0,39.0,40.0,41.0,42.0,43.0,44.0,45.0,46.0,47.0,48.0,49.0,50.0,51.0,52.0,53.0,54.0,55.0,56.0,57.0,58.0,59.0,60.0,61.0,62.0,63.0,64.0,65.0,66.0,67.0,68.0,69.0,70.0,71.0,72.0,73.0,74.0],\"y\":[1.0,1.0,1.0,1.0,1.0,1.0,1.0,1.0,5.0,5.0,7.0,7.0,9.0,9.0,13.0,13.0,20.0,20.0,25.0,28.0,29.0,30.0,32.0,39.0,45.0,47.0,49.0,55.0,60.0,62.0,63.0,70.0,75.0,84.0,86.0,90.0,105.0,110.0,112.0,112.0,112.0,112.0,112.0,112.0,112.0,112.0,112.0,112.0,112.0,112.0,112.0,112.0,112.0,112.0,112.0,112.0,112.0,112.0,112.0,112.0,112.0,112.0,112.0,112.0,112.0,112.0,112.0,112.0,112.0,112.0,112.0,112.0,112.0,112.0,112.0],\"type\":\"bar\",\"xaxis\":\"x\",\"yaxis\":\"y\"},{\"name\":\"#Assembling\",\"x\":[0.0,1.0,2.0,3.0,4.0,5.0,6.0,7.0,8.0,9.0,10.0,11.0,12.0,13.0,14.0,15.0,16.0,17.0,18.0,19.0,20.0,21.0,22.0,23.0,24.0,25.0,26.0,27.0,28.0,29.0,30.0,31.0,32.0,33.0,34.0,35.0,36.0,37.0,38.0,39.0,40.0,41.0,42.0,43.0,44.0,45.0,46.0,47.0,48.0,49.0,50.0,51.0,52.0,53.0,54.0,55.0,56.0,57.0,58.0,59.0,60.0,61.0,62.0,63.0,64.0,65.0,66.0,67.0,68.0,69.0,70.0,71.0,72.0,73.0,74.0],\"y\":[1.0,1.0,1.0,1.0,3.0,3.0,5.0,5.0,5.0,6.0,8.0,8.0,14.0,14.0,19.0,21.0,15.0,17.0,11.0,10.0,10.0,15.0,19.0,17.0,16.0,18.0,23.0,29.0,24.0,26.0,29.0,34.0,36.0,32.0,46.0,39.0,14.0,4.0,1.0,0.0,0.0,0.0,0.0,0.0,0.0,0.0,0.0,0.0,0.0,0.0,0.0,0.0,0.0,0.0,0.0,0.0,0.0,0.0,0.0,0.0,0.0,0.0,0.0,0.0,0.0,0.0,0.0,0.0,0.0,0.0,0.0,0.0,0.0,0.0,0.0],\"type\":\"bar\",\"xaxis\":\"x3\",\"yaxis\":\"y3\"},{\"name\":\"#Printing\",\"x\":[0.0,1.0,2.0,3.0,4.0,5.0,6.0,7.0,8.0,9.0,10.0,11.0,12.0,13.0,14.0,15.0,16.0,17.0,18.0,19.0,20.0,21.0,22.0,23.0,24.0,25.0,26.0,27.0,28.0,29.0,30.0,31.0,32.0,33.0,34.0,35.0,36.0,37.0,38.0,39.0,40.0,41.0,42.0,43.0,44.0,45.0,46.0,47.0,48.0,49.0,50.0,51.0,52.0,53.0,54.0,55.0,56.0,57.0,58.0,59.0,60.0,61.0,62.0,63.0,64.0,65.0,66.0,67.0,68.0,69.0,70.0,71.0,72.0,73.0,74.0],\"y\":[1.0,1.0,1.0,1.0,1.0,1.0,1.0,1.0,5.0,5.0,7.0,7.0,9.0,9.0,13.0,13.0,19.0,20.0,24.0,25.0,28.0,29.0,30.0,38.0,43.0,47.0,49.0,53.0,59.0,60.0,62.0,69.0,72.0,83.0,84.0,88.0,38.0,2.0,0.0,0.0,0.0,0.0,0.0,0.0,0.0,0.0,0.0,0.0,0.0,0.0,0.0,0.0,0.0,0.0,0.0,0.0,0.0,0.0,0.0,0.0,0.0,0.0,0.0,0.0,0.0,0.0,0.0,0.0,0.0,0.0,0.0,0.0,0.0,0.0,0.0],\"type\":\"bar\",\"xaxis\":\"x3\",\"yaxis\":\"y3\"},{\"name\":\"#Collecting\",\"x\":[0.0,1.0,2.0,3.0,4.0,5.0,6.0,7.0,8.0,9.0,10.0,11.0,12.0,13.0,14.0,15.0,16.0,17.0,18.0,19.0,20.0,21.0,22.0,23.0,24.0,25.0,26.0,27.0,28.0,29.0,30.0,31.0,32.0,33.0,34.0,35.0,36.0,37.0,38.0,39.0,40.0,41.0,42.0,43.0,44.0,45.0,46.0,47.0,48.0,49.0,50.0,51.0,52.0,53.0,54.0,55.0,56.0,57.0,58.0,59.0,60.0,61.0,62.0,63.0,64.0,65.0,66.0,67.0,68.0,69.0,70.0,71.0,72.0,73.0,74.0],\"y\":[0.0,0.0,0.0,0.0,0.0,0.0,0.0,0.0,0.0,0.0,0.0,0.0,0.0,0.0,0.0,0.0,8.0,10.0,23.0,24.0,28.0,25.0,23.0,25.0,29.0,31.0,26.0,23.0,31.0,36.0,38.0,34.0,37.0,47.0,24.0,0.0,0.0,0.0,0.0,0.0,0.0,0.0,0.0,0.0,0.0,0.0,0.0,0.0,0.0,0.0,0.0,0.0,0.0,0.0,0.0,0.0,0.0,0.0,0.0,0.0,0.0,0.0,0.0,0.0,0.0,0.0,0.0,0.0,0.0,0.0,0.0,0.0,0.0,0.0,0.0],\"type\":\"bar\",\"xaxis\":\"x3\",\"yaxis\":\"y3\"},{\"name\":\"#Idle\",\"x\":[0.0,1.0,2.0,3.0,4.0,5.0,6.0,7.0,8.0,9.0,10.0,11.0,12.0,13.0,14.0,15.0,16.0,17.0,18.0,19.0,20.0,21.0,22.0,23.0,24.0,25.0,26.0,27.0,28.0,29.0,30.0,31.0,32.0,33.0,34.0,35.0,36.0,37.0,38.0,39.0,40.0,41.0,42.0,43.0,44.0,45.0,46.0,47.0,48.0,49.0,50.0,51.0,52.0,53.0,54.0,55.0,56.0,57.0,58.0,59.0,60.0,61.0,62.0,63.0,64.0,65.0,66.0,67.0,68.0,69.0,70.0,71.0,72.0,73.0,74.0],\"y\":[0.0,0.0,0.0,0.0,0.0,0.0,0.0,0.0,1.0,0.0,0.0,0.0,0.0,1.0,2.0,0.0,5.0,1.0,1.0,3.0,1.0,1.0,2.0,2.0,2.0,0.0,3.0,3.0,4.0,3.0,2.0,6.0,5.0,4.0,18.0,57.0,153.0,208.0,217.0,219.0,219.0,219.0,219.0,219.0,219.0,219.0,219.0,219.0,219.0,219.0,219.0,219.0,219.0,219.0,219.0,219.0,219.0,219.0,219.0,219.0,219.0,219.0,219.0,219.0,219.0,219.0,219.0,219.0,219.0,219.0,219.0,219.0,219.0,219.0,219.0],\"type\":\"bar\",\"xaxis\":\"x3\",\"yaxis\":\"y3\"},{\"mode\":\"lines\",\"name\":\"NonPr\",\"x\":[0.0,1.0,2.0,3.0,4.0,5.0,6.0,7.0,8.0,9.0,10.0,11.0,12.0,13.0,14.0,15.0,16.0,17.0,18.0,19.0,20.0,21.0,22.0,23.0,24.0,25.0,26.0,27.0,28.0,29.0,30.0,31.0,32.0,33.0,34.0,35.0,36.0,37.0,38.0,39.0,40.0,41.0,42.0,43.0,44.0,45.0,46.0,47.0,48.0,49.0,50.0,51.0,52.0,53.0,54.0,55.0,56.0,57.0,58.0,59.0,60.0,61.0,62.0,63.0,64.0,65.0,66.0,67.0,68.0,69.0,70.0,71.0,72.0,73.0,74.0],\"y\":[298.0,298.0,298.0,298.0,294.0,294.0,290.0,290.0,284.0,282.0,276.0,276.0,262.0,260.0,242.0,238.0,226.0,222.0,216.0,212.0,206.0,198.0,188.0,180.0,170.0,162.0,148.0,128.0,118.0,102.0,90.0,66.0,48.0,30.0,6.0,0.0,0.0,0.0,0.0,0.0,0.0,0.0,0.0,0.0,0.0,0.0,0.0,0.0,0.0,0.0,0.0,0.0,0.0,0.0,0.0,0.0,0.0,0.0,0.0,0.0,0.0,0.0,0.0,0.0,0.0,0.0,0.0,0.0,0.0,0.0,0.0,0.0,0.0,0.0,0.0],\"type\":\"scatter\",\"xaxis\":\"x2\",\"yaxis\":\"y2\"},{\"mode\":\"lines\",\"name\":\"Printable\",\"x\":[0.0,1.0,2.0,3.0,4.0,5.0,6.0,7.0,8.0,9.0,10.0,11.0,12.0,13.0,14.0,15.0,16.0,17.0,18.0,19.0,20.0,21.0,22.0,23.0,24.0,25.0,26.0,27.0,28.0,29.0,30.0,31.0,32.0,33.0,34.0,35.0,36.0,37.0,38.0,39.0,40.0,41.0,42.0,43.0,44.0,45.0,46.0,47.0,48.0,49.0,50.0,51.0,52.0,53.0,54.0,55.0,56.0,57.0,58.0,59.0,60.0,61.0,62.0,63.0,64.0,65.0,66.0,67.0,68.0,69.0,70.0,71.0,72.0,73.0,74.0],\"y\":[97.0,97.0,98.0,98.0,91.0,91.0,84.0,84.0,75.0,73.0,65.0,68.0,45.0,45.0,16.0,14.0,0.0,2.0,2.0,7.0,10.0,8.0,4.0,7.0,9.0,17.0,13.0,0.0,10.0,8.0,16.0,2.0,3.0,9.0,3.0,36.0,49.0,49.0,49.0,49.0,49.0,49.0,49.0,49.0,49.0,49.0,49.0,49.0,49.0,49.0,49.0,49.0,49.0,49.0,49.0,49.0,49.0,49.0,49.0,49.0,49.0,49.0,49.0,49.0,49.0,49.0,49.0,49.0,49.0,49.0,49.0,49.0,49.0,49.0,49.0],\"type\":\"scatter\",\"xaxis\":\"x2\",\"yaxis\":\"y2\"},{\"mode\":\"lines\",\"name\":\"Materials\",\"x\":[0.0,1.0,2.0,3.0,4.0,5.0,6.0,7.0,8.0,9.0,10.0,11.0,12.0,13.0,14.0,15.0,16.0,17.0,18.0,19.0,20.0,21.0,22.0,23.0,24.0,25.0,26.0,27.0,28.0,29.0,30.0,31.0,32.0,33.0,34.0,35.0,36.0,37.0,38.0,39.0,40.0,41.0,42.0,43.0,44.0,45.0,46.0,47.0,48.0,49.0,50.0,51.0,52.0,53.0,54.0,55.0,56.0,57.0,58.0,59.0,60.0,61.0,62.0,63.0,64.0,65.0,66.0,67.0,68.0,69.0,70.0,71.0,72.0,73.0,74.0],\"y\":[49.0,49.0,48.0,48.0,47.0,47.0,46.0,46.0,43.0,41.0,37.0,34.0,29.0,25.0,18.0,12.0,6.0,6.0,11.0,22.0,32.0,42.0,48.0,55.0,61.0,67.0,69.0,65.0,65.0,69.0,73.0,73.0,73.0,76.0,59.0,14.0,1.0,1.0,1.0,1.0,1.0,1.0,1.0,1.0,1.0,1.0,1.0,1.0,1.0,1.0,1.0,1.0,1.0,1.0,1.0,1.0,1.0,1.0,1.0,1.0,1.0,1.0,1.0,1.0,1.0,1.0,1.0,1.0,1.0,1.0,1.0,1.0,1.0,1.0,1.0],\"type\":\"scatter\",\"xaxis\":\"x2\",\"yaxis\":\"y2\"},{\"mode\":\"lines\",\"name\":\"Env_Materials\",\"x\":[0.0,1.0,2.0,3.0,4.0,5.0,6.0,7.0,8.0,9.0,10.0,11.0,12.0,13.0,14.0,15.0,16.0,17.0,18.0,19.0,20.0,21.0,22.0,23.0,24.0,25.0,26.0,27.0,28.0,29.0,30.0,31.0,32.0,33.0,34.0,35.0,36.0,37.0,38.0,39.0,40.0,41.0,42.0,43.0,44.0,45.0,46.0,47.0,48.0,49.0,50.0,51.0,52.0,53.0,54.0,55.0,56.0,57.0,58.0,59.0,60.0,61.0,62.0,63.0,64.0,65.0,66.0,67.0,68.0,69.0,70.0,71.0,72.0,73.0,74.0],\"y\":[500.0,500.0,500.0,500.0,500.0,500.0,500.0,500.0,500.0,500.0,500.0,500.0,500.0,500.0,500.0,500.0,496.0,486.0,469.0,445.0,420.0,396.0,374.0,348.0,320.0,290.0,264.0,241.0,211.0,177.0,141.0,107.0,70.0,25.0,0.0,0.0,0.0,0.0,0.0,0.0,0.0,0.0,0.0,0.0,0.0,0.0,0.0,0.0,0.0,0.0,0.0,0.0,0.0,0.0,0.0,0.0,0.0,0.0,0.0,0.0,0.0,0.0,0.0,0.0,0.0,0.0,0.0,0.0,0.0,0.0,0.0,0.0,0.0,0.0,0.0],\"type\":\"scatter\",\"xaxis\":\"x2\",\"yaxis\":\"y2\"},{\"mode\":\"lines\",\"name\":\"Avg. Quality #in\",\"x\":[0.0,1.0,2.0,3.0,4.0,5.0,6.0,7.0,8.0,9.0,10.0,11.0,12.0,13.0,14.0,15.0,16.0,17.0,18.0,19.0,20.0,21.0,22.0,23.0,24.0,25.0,26.0,27.0,28.0,29.0,30.0,31.0,32.0,33.0,34.0,35.0,36.0,37.0,38.0,39.0,40.0,41.0,42.0,43.0,44.0,45.0,46.0,47.0,48.0,49.0,50.0,51.0,52.0,53.0,54.0,55.0,56.0,57.0,58.0,59.0,60.0,61.0,62.0,63.0,64.0,65.0,66.0,67.0,68.0,69.0,70.0,71.0,72.0,73.0,74.0],\"y\":[0.869,0.869,0.869,0.869,0.795,0.795,0.717,0.717,0.627,0.627,0.628,0.628,0.613,0.588,0.554,0.554,0.524,0.513,0.526,0.501,0.504,0.505,0.494,0.493,0.5,0.509,0.496,0.484,0.477,0.469,0.468,0.453,0.441,0.445,0.437,0.429,0.414,0.402,0.402,0.4,0.4,0.4,0.4,0.4,0.4,0.4,0.4,0.4,0.4,0.4,0.4,0.4,0.4,0.4,0.4,0.4,0.4,0.4,0.4,0.4,0.4,0.4,0.4,0.4,0.4,0.4,0.4,0.4,0.4,0.4,0.4,0.4,0.4,0.4,0.4],\"type\":\"scatter\",\"xaxis\":\"x4\",\"yaxis\":\"y4\"},{\"mode\":\"lines\",\"name\":\"Avg. Quality #total\",\"x\":[0.0,1.0,2.0,3.0,4.0,5.0,6.0,7.0,8.0,9.0,10.0,11.0,12.0,13.0,14.0,15.0,16.0,17.0,18.0,19.0,20.0,21.0,22.0,23.0,24.0,25.0,26.0,27.0,28.0,29.0,30.0,31.0,32.0,33.0,34.0,35.0,36.0,37.0,38.0,39.0,40.0,41.0,42.0,43.0,44.0,45.0,46.0,47.0,48.0,49.0,50.0,51.0,52.0,53.0,54.0,55.0,56.0,57.0,58.0,59.0,60.0,61.0,62.0,63.0,64.0,65.0,66.0,67.0,68.0,69.0,70.0,71.0,72.0,73.0,74.0],\"y\":[0.869,0.869,0.869,0.869,0.795,0.795,0.717,0.717,0.665,0.665,0.656,0.656,0.632,0.616,0.597,0.597,0.601,0.593,0.591,0.578,0.581,0.582,0.574,0.573,0.583,0.586,0.581,0.571,0.569,0.566,0.563,0.551,0.546,0.545,0.541,0.532,0.521,0.511,0.511,0.511,0.511,0.511,0.511,0.511,0.511,0.511,0.511,0.511,0.511,0.511,0.511,0.511,0.511,0.511,0.511,0.511,0.511,0.511,0.511,0.511,0.511,0.511,0.511,0.511,0.511,0.511,0.511,0.511,0.511,0.511,0.511,0.511,0.511,0.511,0.511],\"type\":\"scatter\",\"xaxis\":\"x4\",\"yaxis\":\"y4\"}],                        {\"template\":{\"data\":{\"histogram2dcontour\":[{\"type\":\"histogram2dcontour\",\"colorbar\":{\"outlinewidth\":0,\"ticks\":\"\"},\"colorscale\":[[0.0,\"#0d0887\"],[0.1111111111111111,\"#46039f\"],[0.2222222222222222,\"#7201a8\"],[0.3333333333333333,\"#9c179e\"],[0.4444444444444444,\"#bd3786\"],[0.5555555555555556,\"#d8576b\"],[0.6666666666666666,\"#ed7953\"],[0.7777777777777778,\"#fb9f3a\"],[0.8888888888888888,\"#fdca26\"],[1.0,\"#f0f921\"]]}],\"choropleth\":[{\"type\":\"choropleth\",\"colorbar\":{\"outlinewidth\":0,\"ticks\":\"\"}}],\"histogram2d\":[{\"type\":\"histogram2d\",\"colorbar\":{\"outlinewidth\":0,\"ticks\":\"\"},\"colorscale\":[[0.0,\"#0d0887\"],[0.1111111111111111,\"#46039f\"],[0.2222222222222222,\"#7201a8\"],[0.3333333333333333,\"#9c179e\"],[0.4444444444444444,\"#bd3786\"],[0.5555555555555556,\"#d8576b\"],[0.6666666666666666,\"#ed7953\"],[0.7777777777777778,\"#fb9f3a\"],[0.8888888888888888,\"#fdca26\"],[1.0,\"#f0f921\"]]}],\"heatmap\":[{\"type\":\"heatmap\",\"colorbar\":{\"outlinewidth\":0,\"ticks\":\"\"},\"colorscale\":[[0.0,\"#0d0887\"],[0.1111111111111111,\"#46039f\"],[0.2222222222222222,\"#7201a8\"],[0.3333333333333333,\"#9c179e\"],[0.4444444444444444,\"#bd3786\"],[0.5555555555555556,\"#d8576b\"],[0.6666666666666666,\"#ed7953\"],[0.7777777777777778,\"#fb9f3a\"],[0.8888888888888888,\"#fdca26\"],[1.0,\"#f0f921\"]]}],\"heatmapgl\":[{\"type\":\"heatmapgl\",\"colorbar\":{\"outlinewidth\":0,\"ticks\":\"\"},\"colorscale\":[[0.0,\"#0d0887\"],[0.1111111111111111,\"#46039f\"],[0.2222222222222222,\"#7201a8\"],[0.3333333333333333,\"#9c179e\"],[0.4444444444444444,\"#bd3786\"],[0.5555555555555556,\"#d8576b\"],[0.6666666666666666,\"#ed7953\"],[0.7777777777777778,\"#fb9f3a\"],[0.8888888888888888,\"#fdca26\"],[1.0,\"#f0f921\"]]}],\"contourcarpet\":[{\"type\":\"contourcarpet\",\"colorbar\":{\"outlinewidth\":0,\"ticks\":\"\"}}],\"contour\":[{\"type\":\"contour\",\"colorbar\":{\"outlinewidth\":0,\"ticks\":\"\"},\"colorscale\":[[0.0,\"#0d0887\"],[0.1111111111111111,\"#46039f\"],[0.2222222222222222,\"#7201a8\"],[0.3333333333333333,\"#9c179e\"],[0.4444444444444444,\"#bd3786\"],[0.5555555555555556,\"#d8576b\"],[0.6666666666666666,\"#ed7953\"],[0.7777777777777778,\"#fb9f3a\"],[0.8888888888888888,\"#fdca26\"],[1.0,\"#f0f921\"]]}],\"surface\":[{\"type\":\"surface\",\"colorbar\":{\"outlinewidth\":0,\"ticks\":\"\"},\"colorscale\":[[0.0,\"#0d0887\"],[0.1111111111111111,\"#46039f\"],[0.2222222222222222,\"#7201a8\"],[0.3333333333333333,\"#9c179e\"],[0.4444444444444444,\"#bd3786\"],[0.5555555555555556,\"#d8576b\"],[0.6666666666666666,\"#ed7953\"],[0.7777777777777778,\"#fb9f3a\"],[0.8888888888888888,\"#fdca26\"],[1.0,\"#f0f921\"]]}],\"mesh3d\":[{\"type\":\"mesh3d\",\"colorbar\":{\"outlinewidth\":0,\"ticks\":\"\"}}],\"scatter\":[{\"fillpattern\":{\"fillmode\":\"overlay\",\"size\":10,\"solidity\":0.2},\"type\":\"scatter\"}],\"parcoords\":[{\"type\":\"parcoords\",\"line\":{\"colorbar\":{\"outlinewidth\":0,\"ticks\":\"\"}}}],\"scatterpolargl\":[{\"type\":\"scatterpolargl\",\"marker\":{\"colorbar\":{\"outlinewidth\":0,\"ticks\":\"\"}}}],\"bar\":[{\"error_x\":{\"color\":\"#2a3f5f\"},\"error_y\":{\"color\":\"#2a3f5f\"},\"marker\":{\"line\":{\"color\":\"#E5ECF6\",\"width\":0.5},\"pattern\":{\"fillmode\":\"overlay\",\"size\":10,\"solidity\":0.2}},\"type\":\"bar\"}],\"scattergeo\":[{\"type\":\"scattergeo\",\"marker\":{\"colorbar\":{\"outlinewidth\":0,\"ticks\":\"\"}}}],\"scatterpolar\":[{\"type\":\"scatterpolar\",\"marker\":{\"colorbar\":{\"outlinewidth\":0,\"ticks\":\"\"}}}],\"histogram\":[{\"marker\":{\"pattern\":{\"fillmode\":\"overlay\",\"size\":10,\"solidity\":0.2}},\"type\":\"histogram\"}],\"scattergl\":[{\"type\":\"scattergl\",\"marker\":{\"colorbar\":{\"outlinewidth\":0,\"ticks\":\"\"}}}],\"scatter3d\":[{\"type\":\"scatter3d\",\"line\":{\"colorbar\":{\"outlinewidth\":0,\"ticks\":\"\"}},\"marker\":{\"colorbar\":{\"outlinewidth\":0,\"ticks\":\"\"}}}],\"scattermapbox\":[{\"type\":\"scattermapbox\",\"marker\":{\"colorbar\":{\"outlinewidth\":0,\"ticks\":\"\"}}}],\"scatterternary\":[{\"type\":\"scatterternary\",\"marker\":{\"colorbar\":{\"outlinewidth\":0,\"ticks\":\"\"}}}],\"scattercarpet\":[{\"type\":\"scattercarpet\",\"marker\":{\"colorbar\":{\"outlinewidth\":0,\"ticks\":\"\"}}}],\"carpet\":[{\"aaxis\":{\"endlinecolor\":\"#2a3f5f\",\"gridcolor\":\"white\",\"linecolor\":\"white\",\"minorgridcolor\":\"white\",\"startlinecolor\":\"#2a3f5f\"},\"baxis\":{\"endlinecolor\":\"#2a3f5f\",\"gridcolor\":\"white\",\"linecolor\":\"white\",\"minorgridcolor\":\"white\",\"startlinecolor\":\"#2a3f5f\"},\"type\":\"carpet\"}],\"table\":[{\"cells\":{\"fill\":{\"color\":\"#EBF0F8\"},\"line\":{\"color\":\"white\"}},\"header\":{\"fill\":{\"color\":\"#C8D4E3\"},\"line\":{\"color\":\"white\"}},\"type\":\"table\"}],\"barpolar\":[{\"marker\":{\"line\":{\"color\":\"#E5ECF6\",\"width\":0.5},\"pattern\":{\"fillmode\":\"overlay\",\"size\":10,\"solidity\":0.2}},\"type\":\"barpolar\"}],\"pie\":[{\"automargin\":true,\"type\":\"pie\"}]},\"layout\":{\"autotypenumbers\":\"strict\",\"colorway\":[\"#636efa\",\"#EF553B\",\"#00cc96\",\"#ab63fa\",\"#FFA15A\",\"#19d3f3\",\"#FF6692\",\"#B6E880\",\"#FF97FF\",\"#FECB52\"],\"font\":{\"color\":\"#2a3f5f\"},\"hovermode\":\"closest\",\"hoverlabel\":{\"align\":\"left\"},\"paper_bgcolor\":\"white\",\"plot_bgcolor\":\"#E5ECF6\",\"polar\":{\"bgcolor\":\"#E5ECF6\",\"angularaxis\":{\"gridcolor\":\"white\",\"linecolor\":\"white\",\"ticks\":\"\"},\"radialaxis\":{\"gridcolor\":\"white\",\"linecolor\":\"white\",\"ticks\":\"\"}},\"ternary\":{\"bgcolor\":\"#E5ECF6\",\"aaxis\":{\"gridcolor\":\"white\",\"linecolor\":\"white\",\"ticks\":\"\"},\"baxis\":{\"gridcolor\":\"white\",\"linecolor\":\"white\",\"ticks\":\"\"},\"caxis\":{\"gridcolor\":\"white\",\"linecolor\":\"white\",\"ticks\":\"\"}},\"coloraxis\":{\"colorbar\":{\"outlinewidth\":0,\"ticks\":\"\"}},\"colorscale\":{\"sequential\":[[0.0,\"#0d0887\"],[0.1111111111111111,\"#46039f\"],[0.2222222222222222,\"#7201a8\"],[0.3333333333333333,\"#9c179e\"],[0.4444444444444444,\"#bd3786\"],[0.5555555555555556,\"#d8576b\"],[0.6666666666666666,\"#ed7953\"],[0.7777777777777778,\"#fb9f3a\"],[0.8888888888888888,\"#fdca26\"],[1.0,\"#f0f921\"]],\"sequentialminus\":[[0.0,\"#0d0887\"],[0.1111111111111111,\"#46039f\"],[0.2222222222222222,\"#7201a8\"],[0.3333333333333333,\"#9c179e\"],[0.4444444444444444,\"#bd3786\"],[0.5555555555555556,\"#d8576b\"],[0.6666666666666666,\"#ed7953\"],[0.7777777777777778,\"#fb9f3a\"],[0.8888888888888888,\"#fdca26\"],[1.0,\"#f0f921\"]],\"diverging\":[[0,\"#8e0152\"],[0.1,\"#c51b7d\"],[0.2,\"#de77ae\"],[0.3,\"#f1b6da\"],[0.4,\"#fde0ef\"],[0.5,\"#f7f7f7\"],[0.6,\"#e6f5d0\"],[0.7,\"#b8e186\"],[0.8,\"#7fbc41\"],[0.9,\"#4d9221\"],[1,\"#276419\"]]},\"xaxis\":{\"gridcolor\":\"white\",\"linecolor\":\"white\",\"ticks\":\"\",\"title\":{\"standoff\":15},\"zerolinecolor\":\"white\",\"automargin\":true,\"zerolinewidth\":2},\"yaxis\":{\"gridcolor\":\"white\",\"linecolor\":\"white\",\"ticks\":\"\",\"title\":{\"standoff\":15},\"zerolinecolor\":\"white\",\"automargin\":true,\"zerolinewidth\":2},\"scene\":{\"xaxis\":{\"backgroundcolor\":\"#E5ECF6\",\"gridcolor\":\"white\",\"linecolor\":\"white\",\"showbackground\":true,\"ticks\":\"\",\"zerolinecolor\":\"white\",\"gridwidth\":2},\"yaxis\":{\"backgroundcolor\":\"#E5ECF6\",\"gridcolor\":\"white\",\"linecolor\":\"white\",\"showbackground\":true,\"ticks\":\"\",\"zerolinecolor\":\"white\",\"gridwidth\":2},\"zaxis\":{\"backgroundcolor\":\"#E5ECF6\",\"gridcolor\":\"white\",\"linecolor\":\"white\",\"showbackground\":true,\"ticks\":\"\",\"zerolinecolor\":\"white\",\"gridwidth\":2}},\"shapedefaults\":{\"line\":{\"color\":\"#2a3f5f\"}},\"annotationdefaults\":{\"arrowcolor\":\"#2a3f5f\",\"arrowhead\":0,\"arrowwidth\":1},\"geo\":{\"bgcolor\":\"white\",\"landcolor\":\"#E5ECF6\",\"subunitcolor\":\"white\",\"showland\":true,\"showlakes\":true,\"lakecolor\":\"white\"},\"title\":{\"x\":0.05},\"mapbox\":{\"style\":\"light\"}}},\"xaxis\":{\"anchor\":\"y\",\"domain\":[0.0,0.45]},\"yaxis\":{\"anchor\":\"x\",\"domain\":[0.625,1.0]},\"xaxis2\":{\"anchor\":\"y2\",\"domain\":[0.55,1.0]},\"yaxis2\":{\"anchor\":\"x2\",\"domain\":[0.625,1.0]},\"xaxis3\":{\"anchor\":\"y3\",\"domain\":[0.0,0.45]},\"yaxis3\":{\"anchor\":\"x3\",\"domain\":[0.0,0.375]},\"xaxis4\":{\"anchor\":\"y4\",\"domain\":[0.55,1.0]},\"yaxis4\":{\"anchor\":\"x4\",\"domain\":[0.0,0.375]},\"annotations\":[{\"font\":{\"size\":16},\"showarrow\":false,\"text\":\"Types of Robots vs Time\",\"x\":0.225,\"xanchor\":\"center\",\"xref\":\"paper\",\"y\":1.0,\"yanchor\":\"bottom\",\"yref\":\"paper\"},{\"font\":{\"size\":16},\"showarrow\":false,\"text\":\"Resources vs Time\",\"x\":0.775,\"xanchor\":\"center\",\"xref\":\"paper\",\"y\":1.0,\"yanchor\":\"bottom\",\"yref\":\"paper\"},{\"font\":{\"size\":16},\"showarrow\":false,\"text\":\"Tasks of Robots vs Time\",\"x\":0.225,\"xanchor\":\"center\",\"xref\":\"paper\",\"y\":0.375,\"yanchor\":\"bottom\",\"yref\":\"paper\"},{\"font\":{\"size\":16},\"showarrow\":false,\"text\":\"Build Quality vs Time\",\"x\":0.775,\"xanchor\":\"center\",\"xref\":\"paper\",\"y\":0.375,\"yanchor\":\"bottom\",\"yref\":\"paper\"}],\"hovermode\":\"x\",\"title\":{\"text\":\"DHE - Characteristics\"}},                        {\"responsive\": true}                    ).then(function(){\n",
       "                            \n",
       "var gd = document.getElementById('447f22cf-7d80-4d91-bc5d-c499ac9e1530');\n",
       "var x = new MutationObserver(function (mutations, observer) {{\n",
       "        var display = window.getComputedStyle(gd).display;\n",
       "        if (!display || display === 'none') {{\n",
       "            console.log([gd, 'removed!']);\n",
       "            Plotly.purge(gd);\n",
       "            observer.disconnect();\n",
       "        }}\n",
       "}});\n",
       "\n",
       "// Listen for the removal of the full notebook cells\n",
       "var notebookContainer = gd.closest('#notebook-container');\n",
       "if (notebookContainer) {{\n",
       "    x.observe(notebookContainer, {childList: true});\n",
       "}}\n",
       "\n",
       "// Listen for the clearing of the current output cell\n",
       "var outputEl = gd.closest('.output');\n",
       "if (outputEl) {{\n",
       "    x.observe(outputEl, {childList: true});\n",
       "}}\n",
       "\n",
       "                        })                };                });            </script>        </div>"
      ]
     },
     "metadata": {},
     "output_type": "display_data"
    },
    {
     "data": {
      "application/vnd.plotly.v1+json": {
       "config": {
        "plotlyServerURL": "https://plotly.com"
       },
       "data": [
        {
         "alignmentgroup": "True",
         "hovertemplate": "variable=#In<br>Time=%{x}<br>value=%{y}<extra></extra>",
         "legendgroup": "#In",
         "marker": {
          "color": "#636efa",
          "pattern": {
           "shape": ""
          }
         },
         "name": "#In",
         "offsetgroup": "#In",
         "orientation": "v",
         "showlegend": true,
         "textposition": "auto",
         "type": "bar",
         "x": [
          0,
          1,
          2,
          3,
          4,
          5,
          6,
          7,
          8,
          9,
          10,
          11,
          12,
          13,
          14,
          15,
          16,
          17,
          18,
          19,
          20,
          21,
          22,
          23,
          24,
          25,
          26,
          27,
          28,
          29,
          30,
          31,
          32,
          33,
          34,
          35,
          36,
          37,
          38,
          39,
          40,
          41,
          42,
          43,
          44,
          45,
          46,
          47,
          48,
          49,
          50,
          51,
          52,
          53,
          54,
          55,
          56,
          57,
          58,
          59,
          60,
          61,
          62,
          63,
          64,
          65,
          66,
          67,
          68,
          69,
          70,
          71,
          72,
          73,
          74
         ],
         "xaxis": "x",
         "y": [
          2,
          2,
          4,
          4,
          4,
          4,
          6,
          8,
          8,
          10,
          13,
          15,
          21,
          22,
          25,
          29,
          33,
          42,
          47,
          53,
          63,
          67,
          74,
          76,
          84,
          85,
          92,
          96,
          97,
          106,
          111,
          124,
          128,
          139,
          152,
          161,
          167,
          188,
          200,
          206,
          215,
          231,
          250,
          258,
          262,
          266,
          266,
          266,
          266,
          266,
          266,
          266,
          266,
          266,
          266,
          266,
          266,
          266,
          266,
          266,
          266,
          266,
          266,
          266,
          266,
          266,
          266,
          266,
          266,
          266,
          266,
          266,
          266,
          266,
          266
         ],
         "yaxis": "y"
        },
        {
         "alignmentgroup": "True",
         "hovertemplate": "variable=#Out<br>Time=%{x}<br>value=%{y}<extra></extra>",
         "legendgroup": "#Out",
         "marker": {
          "color": "#EF553B",
          "pattern": {
           "shape": ""
          }
         },
         "name": "#Out",
         "offsetgroup": "#Out",
         "orientation": "v",
         "showlegend": true,
         "textposition": "auto",
         "type": "bar",
         "x": [
          0,
          1,
          2,
          3,
          4,
          5,
          6,
          7,
          8,
          9,
          10,
          11,
          12,
          13,
          14,
          15,
          16,
          17,
          18,
          19,
          20,
          21,
          22,
          23,
          24,
          25,
          26,
          27,
          28,
          29,
          30,
          31,
          32,
          33,
          34,
          35,
          36,
          37,
          38,
          39,
          40,
          41,
          42,
          43,
          44,
          45,
          46,
          47,
          48,
          49,
          50,
          51,
          52,
          53,
          54,
          55,
          56,
          57,
          58,
          59,
          60,
          61,
          62,
          63,
          64,
          65,
          66,
          67,
          68,
          69,
          70,
          71,
          72,
          73,
          74
         ],
         "xaxis": "x",
         "y": [
          0,
          0,
          0,
          0,
          0,
          0,
          0,
          0,
          0,
          0,
          1,
          1,
          1,
          2,
          3,
          5,
          5,
          6,
          9,
          11,
          17,
          17,
          20,
          22,
          24,
          25,
          26,
          30,
          31,
          34,
          37,
          40,
          42,
          45,
          50,
          53,
          55,
          62,
          74,
          78,
          83,
          91,
          98,
          102,
          106,
          110,
          110,
          110,
          110,
          110,
          110,
          110,
          110,
          110,
          110,
          110,
          110,
          110,
          110,
          110,
          110,
          110,
          110,
          110,
          110,
          110,
          110,
          110,
          110,
          110,
          110,
          110,
          110,
          110,
          110
         ],
         "yaxis": "y"
        }
       ],
       "layout": {
        "barmode": "relative",
        "hovermode": "x",
        "legend": {
         "title": {
          "text": "variable"
         },
         "tracegroupgap": 0
        },
        "template": {
         "data": {
          "bar": [
           {
            "error_x": {
             "color": "#2a3f5f"
            },
            "error_y": {
             "color": "#2a3f5f"
            },
            "marker": {
             "line": {
              "color": "#E5ECF6",
              "width": 0.5
             },
             "pattern": {
              "fillmode": "overlay",
              "size": 10,
              "solidity": 0.2
             }
            },
            "type": "bar"
           }
          ],
          "barpolar": [
           {
            "marker": {
             "line": {
              "color": "#E5ECF6",
              "width": 0.5
             },
             "pattern": {
              "fillmode": "overlay",
              "size": 10,
              "solidity": 0.2
             }
            },
            "type": "barpolar"
           }
          ],
          "carpet": [
           {
            "aaxis": {
             "endlinecolor": "#2a3f5f",
             "gridcolor": "white",
             "linecolor": "white",
             "minorgridcolor": "white",
             "startlinecolor": "#2a3f5f"
            },
            "baxis": {
             "endlinecolor": "#2a3f5f",
             "gridcolor": "white",
             "linecolor": "white",
             "minorgridcolor": "white",
             "startlinecolor": "#2a3f5f"
            },
            "type": "carpet"
           }
          ],
          "choropleth": [
           {
            "colorbar": {
             "outlinewidth": 0,
             "ticks": ""
            },
            "type": "choropleth"
           }
          ],
          "contour": [
           {
            "colorbar": {
             "outlinewidth": 0,
             "ticks": ""
            },
            "colorscale": [
             [
              0,
              "#0d0887"
             ],
             [
              0.1111111111111111,
              "#46039f"
             ],
             [
              0.2222222222222222,
              "#7201a8"
             ],
             [
              0.3333333333333333,
              "#9c179e"
             ],
             [
              0.4444444444444444,
              "#bd3786"
             ],
             [
              0.5555555555555556,
              "#d8576b"
             ],
             [
              0.6666666666666666,
              "#ed7953"
             ],
             [
              0.7777777777777778,
              "#fb9f3a"
             ],
             [
              0.8888888888888888,
              "#fdca26"
             ],
             [
              1,
              "#f0f921"
             ]
            ],
            "type": "contour"
           }
          ],
          "contourcarpet": [
           {
            "colorbar": {
             "outlinewidth": 0,
             "ticks": ""
            },
            "type": "contourcarpet"
           }
          ],
          "heatmap": [
           {
            "colorbar": {
             "outlinewidth": 0,
             "ticks": ""
            },
            "colorscale": [
             [
              0,
              "#0d0887"
             ],
             [
              0.1111111111111111,
              "#46039f"
             ],
             [
              0.2222222222222222,
              "#7201a8"
             ],
             [
              0.3333333333333333,
              "#9c179e"
             ],
             [
              0.4444444444444444,
              "#bd3786"
             ],
             [
              0.5555555555555556,
              "#d8576b"
             ],
             [
              0.6666666666666666,
              "#ed7953"
             ],
             [
              0.7777777777777778,
              "#fb9f3a"
             ],
             [
              0.8888888888888888,
              "#fdca26"
             ],
             [
              1,
              "#f0f921"
             ]
            ],
            "type": "heatmap"
           }
          ],
          "heatmapgl": [
           {
            "colorbar": {
             "outlinewidth": 0,
             "ticks": ""
            },
            "colorscale": [
             [
              0,
              "#0d0887"
             ],
             [
              0.1111111111111111,
              "#46039f"
             ],
             [
              0.2222222222222222,
              "#7201a8"
             ],
             [
              0.3333333333333333,
              "#9c179e"
             ],
             [
              0.4444444444444444,
              "#bd3786"
             ],
             [
              0.5555555555555556,
              "#d8576b"
             ],
             [
              0.6666666666666666,
              "#ed7953"
             ],
             [
              0.7777777777777778,
              "#fb9f3a"
             ],
             [
              0.8888888888888888,
              "#fdca26"
             ],
             [
              1,
              "#f0f921"
             ]
            ],
            "type": "heatmapgl"
           }
          ],
          "histogram": [
           {
            "marker": {
             "pattern": {
              "fillmode": "overlay",
              "size": 10,
              "solidity": 0.2
             }
            },
            "type": "histogram"
           }
          ],
          "histogram2d": [
           {
            "colorbar": {
             "outlinewidth": 0,
             "ticks": ""
            },
            "colorscale": [
             [
              0,
              "#0d0887"
             ],
             [
              0.1111111111111111,
              "#46039f"
             ],
             [
              0.2222222222222222,
              "#7201a8"
             ],
             [
              0.3333333333333333,
              "#9c179e"
             ],
             [
              0.4444444444444444,
              "#bd3786"
             ],
             [
              0.5555555555555556,
              "#d8576b"
             ],
             [
              0.6666666666666666,
              "#ed7953"
             ],
             [
              0.7777777777777778,
              "#fb9f3a"
             ],
             [
              0.8888888888888888,
              "#fdca26"
             ],
             [
              1,
              "#f0f921"
             ]
            ],
            "type": "histogram2d"
           }
          ],
          "histogram2dcontour": [
           {
            "colorbar": {
             "outlinewidth": 0,
             "ticks": ""
            },
            "colorscale": [
             [
              0,
              "#0d0887"
             ],
             [
              0.1111111111111111,
              "#46039f"
             ],
             [
              0.2222222222222222,
              "#7201a8"
             ],
             [
              0.3333333333333333,
              "#9c179e"
             ],
             [
              0.4444444444444444,
              "#bd3786"
             ],
             [
              0.5555555555555556,
              "#d8576b"
             ],
             [
              0.6666666666666666,
              "#ed7953"
             ],
             [
              0.7777777777777778,
              "#fb9f3a"
             ],
             [
              0.8888888888888888,
              "#fdca26"
             ],
             [
              1,
              "#f0f921"
             ]
            ],
            "type": "histogram2dcontour"
           }
          ],
          "mesh3d": [
           {
            "colorbar": {
             "outlinewidth": 0,
             "ticks": ""
            },
            "type": "mesh3d"
           }
          ],
          "parcoords": [
           {
            "line": {
             "colorbar": {
              "outlinewidth": 0,
              "ticks": ""
             }
            },
            "type": "parcoords"
           }
          ],
          "pie": [
           {
            "automargin": true,
            "type": "pie"
           }
          ],
          "scatter": [
           {
            "fillpattern": {
             "fillmode": "overlay",
             "size": 10,
             "solidity": 0.2
            },
            "type": "scatter"
           }
          ],
          "scatter3d": [
           {
            "line": {
             "colorbar": {
              "outlinewidth": 0,
              "ticks": ""
             }
            },
            "marker": {
             "colorbar": {
              "outlinewidth": 0,
              "ticks": ""
             }
            },
            "type": "scatter3d"
           }
          ],
          "scattercarpet": [
           {
            "marker": {
             "colorbar": {
              "outlinewidth": 0,
              "ticks": ""
             }
            },
            "type": "scattercarpet"
           }
          ],
          "scattergeo": [
           {
            "marker": {
             "colorbar": {
              "outlinewidth": 0,
              "ticks": ""
             }
            },
            "type": "scattergeo"
           }
          ],
          "scattergl": [
           {
            "marker": {
             "colorbar": {
              "outlinewidth": 0,
              "ticks": ""
             }
            },
            "type": "scattergl"
           }
          ],
          "scattermapbox": [
           {
            "marker": {
             "colorbar": {
              "outlinewidth": 0,
              "ticks": ""
             }
            },
            "type": "scattermapbox"
           }
          ],
          "scatterpolar": [
           {
            "marker": {
             "colorbar": {
              "outlinewidth": 0,
              "ticks": ""
             }
            },
            "type": "scatterpolar"
           }
          ],
          "scatterpolargl": [
           {
            "marker": {
             "colorbar": {
              "outlinewidth": 0,
              "ticks": ""
             }
            },
            "type": "scatterpolargl"
           }
          ],
          "scatterternary": [
           {
            "marker": {
             "colorbar": {
              "outlinewidth": 0,
              "ticks": ""
             }
            },
            "type": "scatterternary"
           }
          ],
          "surface": [
           {
            "colorbar": {
             "outlinewidth": 0,
             "ticks": ""
            },
            "colorscale": [
             [
              0,
              "#0d0887"
             ],
             [
              0.1111111111111111,
              "#46039f"
             ],
             [
              0.2222222222222222,
              "#7201a8"
             ],
             [
              0.3333333333333333,
              "#9c179e"
             ],
             [
              0.4444444444444444,
              "#bd3786"
             ],
             [
              0.5555555555555556,
              "#d8576b"
             ],
             [
              0.6666666666666666,
              "#ed7953"
             ],
             [
              0.7777777777777778,
              "#fb9f3a"
             ],
             [
              0.8888888888888888,
              "#fdca26"
             ],
             [
              1,
              "#f0f921"
             ]
            ],
            "type": "surface"
           }
          ],
          "table": [
           {
            "cells": {
             "fill": {
              "color": "#EBF0F8"
             },
             "line": {
              "color": "white"
             }
            },
            "header": {
             "fill": {
              "color": "#C8D4E3"
             },
             "line": {
              "color": "white"
             }
            },
            "type": "table"
           }
          ]
         },
         "layout": {
          "annotationdefaults": {
           "arrowcolor": "#2a3f5f",
           "arrowhead": 0,
           "arrowwidth": 1
          },
          "autotypenumbers": "strict",
          "coloraxis": {
           "colorbar": {
            "outlinewidth": 0,
            "ticks": ""
           }
          },
          "colorscale": {
           "diverging": [
            [
             0,
             "#8e0152"
            ],
            [
             0.1,
             "#c51b7d"
            ],
            [
             0.2,
             "#de77ae"
            ],
            [
             0.3,
             "#f1b6da"
            ],
            [
             0.4,
             "#fde0ef"
            ],
            [
             0.5,
             "#f7f7f7"
            ],
            [
             0.6,
             "#e6f5d0"
            ],
            [
             0.7,
             "#b8e186"
            ],
            [
             0.8,
             "#7fbc41"
            ],
            [
             0.9,
             "#4d9221"
            ],
            [
             1,
             "#276419"
            ]
           ],
           "sequential": [
            [
             0,
             "#0d0887"
            ],
            [
             0.1111111111111111,
             "#46039f"
            ],
            [
             0.2222222222222222,
             "#7201a8"
            ],
            [
             0.3333333333333333,
             "#9c179e"
            ],
            [
             0.4444444444444444,
             "#bd3786"
            ],
            [
             0.5555555555555556,
             "#d8576b"
            ],
            [
             0.6666666666666666,
             "#ed7953"
            ],
            [
             0.7777777777777778,
             "#fb9f3a"
            ],
            [
             0.8888888888888888,
             "#fdca26"
            ],
            [
             1,
             "#f0f921"
            ]
           ],
           "sequentialminus": [
            [
             0,
             "#0d0887"
            ],
            [
             0.1111111111111111,
             "#46039f"
            ],
            [
             0.2222222222222222,
             "#7201a8"
            ],
            [
             0.3333333333333333,
             "#9c179e"
            ],
            [
             0.4444444444444444,
             "#bd3786"
            ],
            [
             0.5555555555555556,
             "#d8576b"
            ],
            [
             0.6666666666666666,
             "#ed7953"
            ],
            [
             0.7777777777777778,
             "#fb9f3a"
            ],
            [
             0.8888888888888888,
             "#fdca26"
            ],
            [
             1,
             "#f0f921"
            ]
           ]
          },
          "colorway": [
           "#636efa",
           "#EF553B",
           "#00cc96",
           "#ab63fa",
           "#FFA15A",
           "#19d3f3",
           "#FF6692",
           "#B6E880",
           "#FF97FF",
           "#FECB52"
          ],
          "font": {
           "color": "#2a3f5f"
          },
          "geo": {
           "bgcolor": "white",
           "lakecolor": "white",
           "landcolor": "#E5ECF6",
           "showlakes": true,
           "showland": true,
           "subunitcolor": "white"
          },
          "hoverlabel": {
           "align": "left"
          },
          "hovermode": "closest",
          "mapbox": {
           "style": "light"
          },
          "paper_bgcolor": "white",
          "plot_bgcolor": "#E5ECF6",
          "polar": {
           "angularaxis": {
            "gridcolor": "white",
            "linecolor": "white",
            "ticks": ""
           },
           "bgcolor": "#E5ECF6",
           "radialaxis": {
            "gridcolor": "white",
            "linecolor": "white",
            "ticks": ""
           }
          },
          "scene": {
           "xaxis": {
            "backgroundcolor": "#E5ECF6",
            "gridcolor": "white",
            "gridwidth": 2,
            "linecolor": "white",
            "showbackground": true,
            "ticks": "",
            "zerolinecolor": "white"
           },
           "yaxis": {
            "backgroundcolor": "#E5ECF6",
            "gridcolor": "white",
            "gridwidth": 2,
            "linecolor": "white",
            "showbackground": true,
            "ticks": "",
            "zerolinecolor": "white"
           },
           "zaxis": {
            "backgroundcolor": "#E5ECF6",
            "gridcolor": "white",
            "gridwidth": 2,
            "linecolor": "white",
            "showbackground": true,
            "ticks": "",
            "zerolinecolor": "white"
           }
          },
          "shapedefaults": {
           "line": {
            "color": "#2a3f5f"
           }
          },
          "ternary": {
           "aaxis": {
            "gridcolor": "white",
            "linecolor": "white",
            "ticks": ""
           },
           "baxis": {
            "gridcolor": "white",
            "linecolor": "white",
            "ticks": ""
           },
           "bgcolor": "#E5ECF6",
           "caxis": {
            "gridcolor": "white",
            "linecolor": "white",
            "ticks": ""
           }
          },
          "title": {
           "x": 0.05
          },
          "xaxis": {
           "automargin": true,
           "gridcolor": "white",
           "linecolor": "white",
           "ticks": "",
           "title": {
            "standoff": 15
           },
           "zerolinecolor": "white",
           "zerolinewidth": 2
          },
          "yaxis": {
           "automargin": true,
           "gridcolor": "white",
           "linecolor": "white",
           "ticks": "",
           "title": {
            "standoff": 15
           },
           "zerolinecolor": "white",
           "zerolinewidth": 2
          }
         }
        },
        "title": {
         "text": "HHE - Habitat over Time"
        },
        "xaxis": {
         "anchor": "y",
         "domain": [
          0,
          1
         ],
         "title": {
          "text": "Time"
         }
        },
        "yaxis": {
         "anchor": "x",
         "domain": [
          0,
          1
         ],
         "title": {
          "text": "#Robots"
         }
        }
       }
      },
      "text/html": [
       "<div>                            <div id=\"4d0136b6-1ac3-4267-9bf6-beccdd223a22\" class=\"plotly-graph-div\" style=\"height:525px; width:100%;\"></div>            <script type=\"text/javascript\">                require([\"plotly\"], function(Plotly) {                    window.PLOTLYENV=window.PLOTLYENV || {};                                    if (document.getElementById(\"4d0136b6-1ac3-4267-9bf6-beccdd223a22\")) {                    Plotly.newPlot(                        \"4d0136b6-1ac3-4267-9bf6-beccdd223a22\",                        [{\"alignmentgroup\":\"True\",\"hovertemplate\":\"variable=#In<br>Time=%{x}<br>value=%{y}<extra></extra>\",\"legendgroup\":\"#In\",\"marker\":{\"color\":\"#636efa\",\"pattern\":{\"shape\":\"\"}},\"name\":\"#In\",\"offsetgroup\":\"#In\",\"orientation\":\"v\",\"showlegend\":true,\"textposition\":\"auto\",\"x\":[0.0,1.0,2.0,3.0,4.0,5.0,6.0,7.0,8.0,9.0,10.0,11.0,12.0,13.0,14.0,15.0,16.0,17.0,18.0,19.0,20.0,21.0,22.0,23.0,24.0,25.0,26.0,27.0,28.0,29.0,30.0,31.0,32.0,33.0,34.0,35.0,36.0,37.0,38.0,39.0,40.0,41.0,42.0,43.0,44.0,45.0,46.0,47.0,48.0,49.0,50.0,51.0,52.0,53.0,54.0,55.0,56.0,57.0,58.0,59.0,60.0,61.0,62.0,63.0,64.0,65.0,66.0,67.0,68.0,69.0,70.0,71.0,72.0,73.0,74.0],\"xaxis\":\"x\",\"y\":[2.0,2.0,4.0,4.0,4.0,4.0,6.0,8.0,8.0,10.0,13.0,15.0,21.0,22.0,25.0,29.0,33.0,42.0,47.0,53.0,63.0,67.0,74.0,76.0,84.0,85.0,92.0,96.0,97.0,106.0,111.0,124.0,128.0,139.0,152.0,161.0,167.0,188.0,200.0,206.0,215.0,231.0,250.0,258.0,262.0,266.0,266.0,266.0,266.0,266.0,266.0,266.0,266.0,266.0,266.0,266.0,266.0,266.0,266.0,266.0,266.0,266.0,266.0,266.0,266.0,266.0,266.0,266.0,266.0,266.0,266.0,266.0,266.0,266.0,266.0],\"yaxis\":\"y\",\"type\":\"bar\"},{\"alignmentgroup\":\"True\",\"hovertemplate\":\"variable=#Out<br>Time=%{x}<br>value=%{y}<extra></extra>\",\"legendgroup\":\"#Out\",\"marker\":{\"color\":\"#EF553B\",\"pattern\":{\"shape\":\"\"}},\"name\":\"#Out\",\"offsetgroup\":\"#Out\",\"orientation\":\"v\",\"showlegend\":true,\"textposition\":\"auto\",\"x\":[0.0,1.0,2.0,3.0,4.0,5.0,6.0,7.0,8.0,9.0,10.0,11.0,12.0,13.0,14.0,15.0,16.0,17.0,18.0,19.0,20.0,21.0,22.0,23.0,24.0,25.0,26.0,27.0,28.0,29.0,30.0,31.0,32.0,33.0,34.0,35.0,36.0,37.0,38.0,39.0,40.0,41.0,42.0,43.0,44.0,45.0,46.0,47.0,48.0,49.0,50.0,51.0,52.0,53.0,54.0,55.0,56.0,57.0,58.0,59.0,60.0,61.0,62.0,63.0,64.0,65.0,66.0,67.0,68.0,69.0,70.0,71.0,72.0,73.0,74.0],\"xaxis\":\"x\",\"y\":[0.0,0.0,0.0,0.0,0.0,0.0,0.0,0.0,0.0,0.0,1.0,1.0,1.0,2.0,3.0,5.0,5.0,6.0,9.0,11.0,17.0,17.0,20.0,22.0,24.0,25.0,26.0,30.0,31.0,34.0,37.0,40.0,42.0,45.0,50.0,53.0,55.0,62.0,74.0,78.0,83.0,91.0,98.0,102.0,106.0,110.0,110.0,110.0,110.0,110.0,110.0,110.0,110.0,110.0,110.0,110.0,110.0,110.0,110.0,110.0,110.0,110.0,110.0,110.0,110.0,110.0,110.0,110.0,110.0,110.0,110.0,110.0,110.0,110.0,110.0],\"yaxis\":\"y\",\"type\":\"bar\"}],                        {\"template\":{\"data\":{\"histogram2dcontour\":[{\"type\":\"histogram2dcontour\",\"colorbar\":{\"outlinewidth\":0,\"ticks\":\"\"},\"colorscale\":[[0.0,\"#0d0887\"],[0.1111111111111111,\"#46039f\"],[0.2222222222222222,\"#7201a8\"],[0.3333333333333333,\"#9c179e\"],[0.4444444444444444,\"#bd3786\"],[0.5555555555555556,\"#d8576b\"],[0.6666666666666666,\"#ed7953\"],[0.7777777777777778,\"#fb9f3a\"],[0.8888888888888888,\"#fdca26\"],[1.0,\"#f0f921\"]]}],\"choropleth\":[{\"type\":\"choropleth\",\"colorbar\":{\"outlinewidth\":0,\"ticks\":\"\"}}],\"histogram2d\":[{\"type\":\"histogram2d\",\"colorbar\":{\"outlinewidth\":0,\"ticks\":\"\"},\"colorscale\":[[0.0,\"#0d0887\"],[0.1111111111111111,\"#46039f\"],[0.2222222222222222,\"#7201a8\"],[0.3333333333333333,\"#9c179e\"],[0.4444444444444444,\"#bd3786\"],[0.5555555555555556,\"#d8576b\"],[0.6666666666666666,\"#ed7953\"],[0.7777777777777778,\"#fb9f3a\"],[0.8888888888888888,\"#fdca26\"],[1.0,\"#f0f921\"]]}],\"heatmap\":[{\"type\":\"heatmap\",\"colorbar\":{\"outlinewidth\":0,\"ticks\":\"\"},\"colorscale\":[[0.0,\"#0d0887\"],[0.1111111111111111,\"#46039f\"],[0.2222222222222222,\"#7201a8\"],[0.3333333333333333,\"#9c179e\"],[0.4444444444444444,\"#bd3786\"],[0.5555555555555556,\"#d8576b\"],[0.6666666666666666,\"#ed7953\"],[0.7777777777777778,\"#fb9f3a\"],[0.8888888888888888,\"#fdca26\"],[1.0,\"#f0f921\"]]}],\"heatmapgl\":[{\"type\":\"heatmapgl\",\"colorbar\":{\"outlinewidth\":0,\"ticks\":\"\"},\"colorscale\":[[0.0,\"#0d0887\"],[0.1111111111111111,\"#46039f\"],[0.2222222222222222,\"#7201a8\"],[0.3333333333333333,\"#9c179e\"],[0.4444444444444444,\"#bd3786\"],[0.5555555555555556,\"#d8576b\"],[0.6666666666666666,\"#ed7953\"],[0.7777777777777778,\"#fb9f3a\"],[0.8888888888888888,\"#fdca26\"],[1.0,\"#f0f921\"]]}],\"contourcarpet\":[{\"type\":\"contourcarpet\",\"colorbar\":{\"outlinewidth\":0,\"ticks\":\"\"}}],\"contour\":[{\"type\":\"contour\",\"colorbar\":{\"outlinewidth\":0,\"ticks\":\"\"},\"colorscale\":[[0.0,\"#0d0887\"],[0.1111111111111111,\"#46039f\"],[0.2222222222222222,\"#7201a8\"],[0.3333333333333333,\"#9c179e\"],[0.4444444444444444,\"#bd3786\"],[0.5555555555555556,\"#d8576b\"],[0.6666666666666666,\"#ed7953\"],[0.7777777777777778,\"#fb9f3a\"],[0.8888888888888888,\"#fdca26\"],[1.0,\"#f0f921\"]]}],\"surface\":[{\"type\":\"surface\",\"colorbar\":{\"outlinewidth\":0,\"ticks\":\"\"},\"colorscale\":[[0.0,\"#0d0887\"],[0.1111111111111111,\"#46039f\"],[0.2222222222222222,\"#7201a8\"],[0.3333333333333333,\"#9c179e\"],[0.4444444444444444,\"#bd3786\"],[0.5555555555555556,\"#d8576b\"],[0.6666666666666666,\"#ed7953\"],[0.7777777777777778,\"#fb9f3a\"],[0.8888888888888888,\"#fdca26\"],[1.0,\"#f0f921\"]]}],\"mesh3d\":[{\"type\":\"mesh3d\",\"colorbar\":{\"outlinewidth\":0,\"ticks\":\"\"}}],\"scatter\":[{\"fillpattern\":{\"fillmode\":\"overlay\",\"size\":10,\"solidity\":0.2},\"type\":\"scatter\"}],\"parcoords\":[{\"type\":\"parcoords\",\"line\":{\"colorbar\":{\"outlinewidth\":0,\"ticks\":\"\"}}}],\"scatterpolargl\":[{\"type\":\"scatterpolargl\",\"marker\":{\"colorbar\":{\"outlinewidth\":0,\"ticks\":\"\"}}}],\"bar\":[{\"error_x\":{\"color\":\"#2a3f5f\"},\"error_y\":{\"color\":\"#2a3f5f\"},\"marker\":{\"line\":{\"color\":\"#E5ECF6\",\"width\":0.5},\"pattern\":{\"fillmode\":\"overlay\",\"size\":10,\"solidity\":0.2}},\"type\":\"bar\"}],\"scattergeo\":[{\"type\":\"scattergeo\",\"marker\":{\"colorbar\":{\"outlinewidth\":0,\"ticks\":\"\"}}}],\"scatterpolar\":[{\"type\":\"scatterpolar\",\"marker\":{\"colorbar\":{\"outlinewidth\":0,\"ticks\":\"\"}}}],\"histogram\":[{\"marker\":{\"pattern\":{\"fillmode\":\"overlay\",\"size\":10,\"solidity\":0.2}},\"type\":\"histogram\"}],\"scattergl\":[{\"type\":\"scattergl\",\"marker\":{\"colorbar\":{\"outlinewidth\":0,\"ticks\":\"\"}}}],\"scatter3d\":[{\"type\":\"scatter3d\",\"line\":{\"colorbar\":{\"outlinewidth\":0,\"ticks\":\"\"}},\"marker\":{\"colorbar\":{\"outlinewidth\":0,\"ticks\":\"\"}}}],\"scattermapbox\":[{\"type\":\"scattermapbox\",\"marker\":{\"colorbar\":{\"outlinewidth\":0,\"ticks\":\"\"}}}],\"scatterternary\":[{\"type\":\"scatterternary\",\"marker\":{\"colorbar\":{\"outlinewidth\":0,\"ticks\":\"\"}}}],\"scattercarpet\":[{\"type\":\"scattercarpet\",\"marker\":{\"colorbar\":{\"outlinewidth\":0,\"ticks\":\"\"}}}],\"carpet\":[{\"aaxis\":{\"endlinecolor\":\"#2a3f5f\",\"gridcolor\":\"white\",\"linecolor\":\"white\",\"minorgridcolor\":\"white\",\"startlinecolor\":\"#2a3f5f\"},\"baxis\":{\"endlinecolor\":\"#2a3f5f\",\"gridcolor\":\"white\",\"linecolor\":\"white\",\"minorgridcolor\":\"white\",\"startlinecolor\":\"#2a3f5f\"},\"type\":\"carpet\"}],\"table\":[{\"cells\":{\"fill\":{\"color\":\"#EBF0F8\"},\"line\":{\"color\":\"white\"}},\"header\":{\"fill\":{\"color\":\"#C8D4E3\"},\"line\":{\"color\":\"white\"}},\"type\":\"table\"}],\"barpolar\":[{\"marker\":{\"line\":{\"color\":\"#E5ECF6\",\"width\":0.5},\"pattern\":{\"fillmode\":\"overlay\",\"size\":10,\"solidity\":0.2}},\"type\":\"barpolar\"}],\"pie\":[{\"automargin\":true,\"type\":\"pie\"}]},\"layout\":{\"autotypenumbers\":\"strict\",\"colorway\":[\"#636efa\",\"#EF553B\",\"#00cc96\",\"#ab63fa\",\"#FFA15A\",\"#19d3f3\",\"#FF6692\",\"#B6E880\",\"#FF97FF\",\"#FECB52\"],\"font\":{\"color\":\"#2a3f5f\"},\"hovermode\":\"closest\",\"hoverlabel\":{\"align\":\"left\"},\"paper_bgcolor\":\"white\",\"plot_bgcolor\":\"#E5ECF6\",\"polar\":{\"bgcolor\":\"#E5ECF6\",\"angularaxis\":{\"gridcolor\":\"white\",\"linecolor\":\"white\",\"ticks\":\"\"},\"radialaxis\":{\"gridcolor\":\"white\",\"linecolor\":\"white\",\"ticks\":\"\"}},\"ternary\":{\"bgcolor\":\"#E5ECF6\",\"aaxis\":{\"gridcolor\":\"white\",\"linecolor\":\"white\",\"ticks\":\"\"},\"baxis\":{\"gridcolor\":\"white\",\"linecolor\":\"white\",\"ticks\":\"\"},\"caxis\":{\"gridcolor\":\"white\",\"linecolor\":\"white\",\"ticks\":\"\"}},\"coloraxis\":{\"colorbar\":{\"outlinewidth\":0,\"ticks\":\"\"}},\"colorscale\":{\"sequential\":[[0.0,\"#0d0887\"],[0.1111111111111111,\"#46039f\"],[0.2222222222222222,\"#7201a8\"],[0.3333333333333333,\"#9c179e\"],[0.4444444444444444,\"#bd3786\"],[0.5555555555555556,\"#d8576b\"],[0.6666666666666666,\"#ed7953\"],[0.7777777777777778,\"#fb9f3a\"],[0.8888888888888888,\"#fdca26\"],[1.0,\"#f0f921\"]],\"sequentialminus\":[[0.0,\"#0d0887\"],[0.1111111111111111,\"#46039f\"],[0.2222222222222222,\"#7201a8\"],[0.3333333333333333,\"#9c179e\"],[0.4444444444444444,\"#bd3786\"],[0.5555555555555556,\"#d8576b\"],[0.6666666666666666,\"#ed7953\"],[0.7777777777777778,\"#fb9f3a\"],[0.8888888888888888,\"#fdca26\"],[1.0,\"#f0f921\"]],\"diverging\":[[0,\"#8e0152\"],[0.1,\"#c51b7d\"],[0.2,\"#de77ae\"],[0.3,\"#f1b6da\"],[0.4,\"#fde0ef\"],[0.5,\"#f7f7f7\"],[0.6,\"#e6f5d0\"],[0.7,\"#b8e186\"],[0.8,\"#7fbc41\"],[0.9,\"#4d9221\"],[1,\"#276419\"]]},\"xaxis\":{\"gridcolor\":\"white\",\"linecolor\":\"white\",\"ticks\":\"\",\"title\":{\"standoff\":15},\"zerolinecolor\":\"white\",\"automargin\":true,\"zerolinewidth\":2},\"yaxis\":{\"gridcolor\":\"white\",\"linecolor\":\"white\",\"ticks\":\"\",\"title\":{\"standoff\":15},\"zerolinecolor\":\"white\",\"automargin\":true,\"zerolinewidth\":2},\"scene\":{\"xaxis\":{\"backgroundcolor\":\"#E5ECF6\",\"gridcolor\":\"white\",\"linecolor\":\"white\",\"showbackground\":true,\"ticks\":\"\",\"zerolinecolor\":\"white\",\"gridwidth\":2},\"yaxis\":{\"backgroundcolor\":\"#E5ECF6\",\"gridcolor\":\"white\",\"linecolor\":\"white\",\"showbackground\":true,\"ticks\":\"\",\"zerolinecolor\":\"white\",\"gridwidth\":2},\"zaxis\":{\"backgroundcolor\":\"#E5ECF6\",\"gridcolor\":\"white\",\"linecolor\":\"white\",\"showbackground\":true,\"ticks\":\"\",\"zerolinecolor\":\"white\",\"gridwidth\":2}},\"shapedefaults\":{\"line\":{\"color\":\"#2a3f5f\"}},\"annotationdefaults\":{\"arrowcolor\":\"#2a3f5f\",\"arrowhead\":0,\"arrowwidth\":1},\"geo\":{\"bgcolor\":\"white\",\"landcolor\":\"#E5ECF6\",\"subunitcolor\":\"white\",\"showland\":true,\"showlakes\":true,\"lakecolor\":\"white\"},\"title\":{\"x\":0.05},\"mapbox\":{\"style\":\"light\"}}},\"xaxis\":{\"anchor\":\"y\",\"domain\":[0.0,1.0],\"title\":{\"text\":\"Time\"}},\"yaxis\":{\"anchor\":\"x\",\"domain\":[0.0,1.0],\"title\":{\"text\":\"#Robots\"}},\"legend\":{\"title\":{\"text\":\"variable\"},\"tracegroupgap\":0},\"title\":{\"text\":\"HHE - Habitat over Time\"},\"barmode\":\"relative\",\"hovermode\":\"x\"},                        {\"responsive\": true}                    ).then(function(){\n",
       "                            \n",
       "var gd = document.getElementById('4d0136b6-1ac3-4267-9bf6-beccdd223a22');\n",
       "var x = new MutationObserver(function (mutations, observer) {{\n",
       "        var display = window.getComputedStyle(gd).display;\n",
       "        if (!display || display === 'none') {{\n",
       "            console.log([gd, 'removed!']);\n",
       "            Plotly.purge(gd);\n",
       "            observer.disconnect();\n",
       "        }}\n",
       "}});\n",
       "\n",
       "// Listen for the removal of the full notebook cells\n",
       "var notebookContainer = gd.closest('#notebook-container');\n",
       "if (notebookContainer) {{\n",
       "    x.observe(notebookContainer, {childList: true});\n",
       "}}\n",
       "\n",
       "// Listen for the clearing of the current output cell\n",
       "var outputEl = gd.closest('.output');\n",
       "if (outputEl) {{\n",
       "    x.observe(outputEl, {childList: true});\n",
       "}}\n",
       "\n",
       "                        })                };                });            </script>        </div>"
      ]
     },
     "metadata": {},
     "output_type": "display_data"
    },
    {
     "data": {
      "application/vnd.plotly.v1+json": {
       "config": {
        "plotlyServerURL": "https://plotly.com"
       },
       "data": [
        {
         "name": "#Replicator",
         "type": "bar",
         "x": [
          0,
          1,
          2,
          3,
          4,
          5,
          6,
          7,
          8,
          9,
          10,
          11,
          12,
          13,
          14,
          15,
          16,
          17,
          18,
          19,
          20,
          21,
          22,
          23,
          24,
          25,
          26,
          27,
          28,
          29,
          30,
          31,
          32,
          33,
          34,
          35,
          36,
          37,
          38,
          39,
          40,
          41,
          42,
          43,
          44,
          45,
          46,
          47,
          48,
          49,
          50,
          51,
          52,
          53,
          54,
          55,
          56,
          57,
          58,
          59,
          60,
          61,
          62,
          63,
          64,
          65,
          66,
          67,
          68,
          69,
          70,
          71,
          72,
          73,
          74
         ],
         "xaxis": "x",
         "y": [
          0,
          0,
          0,
          0,
          0,
          0,
          0,
          0,
          0,
          0,
          0,
          0,
          0,
          0,
          0,
          0,
          0,
          0,
          0,
          0,
          0,
          0,
          0,
          0,
          0,
          0,
          0,
          0,
          0,
          0,
          0,
          0,
          0,
          0,
          0,
          0,
          0,
          0,
          0,
          0,
          0,
          0,
          0,
          0,
          0,
          0,
          0,
          0,
          0,
          0,
          0,
          0,
          0,
          0,
          0,
          0,
          0,
          0,
          0,
          0,
          0,
          0,
          0,
          0,
          0,
          0,
          0,
          0,
          0,
          0,
          0,
          0,
          0,
          0,
          0
         ],
         "yaxis": "y"
        },
        {
         "name": "#Normal",
         "type": "bar",
         "x": [
          0,
          1,
          2,
          3,
          4,
          5,
          6,
          7,
          8,
          9,
          10,
          11,
          12,
          13,
          14,
          15,
          16,
          17,
          18,
          19,
          20,
          21,
          22,
          23,
          24,
          25,
          26,
          27,
          28,
          29,
          30,
          31,
          32,
          33,
          34,
          35,
          36,
          37,
          38,
          39,
          40,
          41,
          42,
          43,
          44,
          45,
          46,
          47,
          48,
          49,
          50,
          51,
          52,
          53,
          54,
          55,
          56,
          57,
          58,
          59,
          60,
          61,
          62,
          63,
          64,
          65,
          66,
          67,
          68,
          69,
          70,
          71,
          72,
          73,
          74
         ],
         "xaxis": "x",
         "y": [
          0,
          0,
          2,
          2,
          2,
          2,
          2,
          4,
          4,
          4,
          5,
          5,
          9,
          10,
          10,
          13,
          13,
          17,
          22,
          22,
          26,
          26,
          30,
          30,
          32,
          33,
          39,
          41,
          41,
          47,
          50,
          50,
          52,
          58,
          60,
          60,
          63,
          71,
          76,
          77,
          80,
          83,
          84,
          88,
          92,
          95,
          95,
          95,
          95,
          95,
          95,
          95,
          95,
          95,
          95,
          95,
          95,
          95,
          95,
          95,
          95,
          95,
          95,
          95,
          95,
          95,
          95,
          95,
          95,
          95,
          95,
          95,
          95,
          95,
          95
         ],
         "yaxis": "y"
        },
        {
         "name": "#Assembler",
         "type": "bar",
         "x": [
          0,
          1,
          2,
          3,
          4,
          5,
          6,
          7,
          8,
          9,
          10,
          11,
          12,
          13,
          14,
          15,
          16,
          17,
          18,
          19,
          20,
          21,
          22,
          23,
          24,
          25,
          26,
          27,
          28,
          29,
          30,
          31,
          32,
          33,
          34,
          35,
          36,
          37,
          38,
          39,
          40,
          41,
          42,
          43,
          44,
          45,
          46,
          47,
          48,
          49,
          50,
          51,
          52,
          53,
          54,
          55,
          56,
          57,
          58,
          59,
          60,
          61,
          62,
          63,
          64,
          65,
          66,
          67,
          68,
          69,
          70,
          71,
          72,
          73,
          74
         ],
         "xaxis": "x",
         "y": [
          1,
          1,
          1,
          1,
          1,
          1,
          3,
          3,
          3,
          5,
          5,
          5,
          7,
          7,
          9,
          10,
          12,
          16,
          16,
          20,
          21,
          23,
          24,
          24,
          25,
          25,
          25,
          26,
          26,
          26,
          26,
          33,
          35,
          37,
          42,
          46,
          46,
          47,
          49,
          53,
          58,
          62,
          71,
          75,
          75,
          76,
          76,
          76,
          76,
          76,
          76,
          76,
          76,
          76,
          76,
          76,
          76,
          76,
          76,
          76,
          76,
          76,
          76,
          76,
          76,
          76,
          76,
          76,
          76,
          76,
          76,
          76,
          76,
          76,
          76
         ],
         "yaxis": "y"
        },
        {
         "name": "#Printer",
         "type": "bar",
         "x": [
          0,
          1,
          2,
          3,
          4,
          5,
          6,
          7,
          8,
          9,
          10,
          11,
          12,
          13,
          14,
          15,
          16,
          17,
          18,
          19,
          20,
          21,
          22,
          23,
          24,
          25,
          26,
          27,
          28,
          29,
          30,
          31,
          32,
          33,
          34,
          35,
          36,
          37,
          38,
          39,
          40,
          41,
          42,
          43,
          44,
          45,
          46,
          47,
          48,
          49,
          50,
          51,
          52,
          53,
          54,
          55,
          56,
          57,
          58,
          59,
          60,
          61,
          62,
          63,
          64,
          65,
          66,
          67,
          68,
          69,
          70,
          71,
          72,
          73,
          74
         ],
         "xaxis": "x",
         "y": [
          1,
          1,
          1,
          1,
          1,
          1,
          1,
          1,
          1,
          1,
          3,
          5,
          5,
          5,
          6,
          6,
          8,
          9,
          9,
          11,
          16,
          18,
          20,
          22,
          27,
          27,
          28,
          29,
          30,
          33,
          35,
          41,
          41,
          44,
          50,
          55,
          58,
          70,
          75,
          76,
          77,
          86,
          95,
          95,
          95,
          95,
          95,
          95,
          95,
          95,
          95,
          95,
          95,
          95,
          95,
          95,
          95,
          95,
          95,
          95,
          95,
          95,
          95,
          95,
          95,
          95,
          95,
          95,
          95,
          95,
          95,
          95,
          95,
          95,
          95
         ],
         "yaxis": "y"
        },
        {
         "name": "#Assembling",
         "type": "bar",
         "x": [
          0,
          1,
          2,
          3,
          4,
          5,
          6,
          7,
          8,
          9,
          10,
          11,
          12,
          13,
          14,
          15,
          16,
          17,
          18,
          19,
          20,
          21,
          22,
          23,
          24,
          25,
          26,
          27,
          28,
          29,
          30,
          31,
          32,
          33,
          34,
          35,
          36,
          37,
          38,
          39,
          40,
          41,
          42,
          43,
          44,
          45,
          46,
          47,
          48,
          49,
          50,
          51,
          52,
          53,
          54,
          55,
          56,
          57,
          58,
          59,
          60,
          61,
          62,
          63,
          64,
          65,
          66,
          67,
          68,
          69,
          70,
          71,
          72,
          73,
          74
         ],
         "xaxis": "x3",
         "y": [
          1,
          1,
          1,
          1,
          1,
          1,
          3,
          3,
          3,
          5,
          5,
          5,
          7,
          7,
          9,
          9,
          12,
          16,
          16,
          20,
          10,
          11,
          8,
          12,
          8,
          14,
          11,
          9,
          18,
          16,
          19,
          15,
          24,
          24,
          21,
          25,
          35,
          29,
          25,
          31,
          41,
          39,
          17,
          8,
          4,
          0,
          0,
          0,
          0,
          0,
          0,
          0,
          0,
          0,
          0,
          0,
          0,
          0,
          0,
          0,
          0,
          0,
          0,
          0,
          0,
          0,
          0,
          0,
          0,
          0,
          0,
          0,
          0,
          0,
          0
         ],
         "yaxis": "y3"
        },
        {
         "name": "#Printing",
         "type": "bar",
         "x": [
          0,
          1,
          2,
          3,
          4,
          5,
          6,
          7,
          8,
          9,
          10,
          11,
          12,
          13,
          14,
          15,
          16,
          17,
          18,
          19,
          20,
          21,
          22,
          23,
          24,
          25,
          26,
          27,
          28,
          29,
          30,
          31,
          32,
          33,
          34,
          35,
          36,
          37,
          38,
          39,
          40,
          41,
          42,
          43,
          44,
          45,
          46,
          47,
          48,
          49,
          50,
          51,
          52,
          53,
          54,
          55,
          56,
          57,
          58,
          59,
          60,
          61,
          62,
          63,
          64,
          65,
          66,
          67,
          68,
          69,
          70,
          71,
          72,
          73,
          74
         ],
         "xaxis": "x3",
         "y": [
          1,
          1,
          1,
          1,
          1,
          1,
          1,
          1,
          1,
          1,
          3,
          5,
          5,
          5,
          5,
          6,
          8,
          8,
          9,
          9,
          13,
          18,
          20,
          20,
          26,
          27,
          27,
          28,
          29,
          32,
          33,
          39,
          41,
          43,
          50,
          54,
          57,
          66,
          70,
          75,
          76,
          83,
          82,
          16,
          0,
          0,
          0,
          0,
          0,
          0,
          0,
          0,
          0,
          0,
          0,
          0,
          0,
          0,
          0,
          0,
          0,
          0,
          0,
          0,
          0,
          0,
          0,
          0,
          0,
          0,
          0,
          0,
          0,
          0,
          0
         ],
         "yaxis": "y3"
        },
        {
         "name": "#Collecting",
         "type": "bar",
         "x": [
          0,
          1,
          2,
          3,
          4,
          5,
          6,
          7,
          8,
          9,
          10,
          11,
          12,
          13,
          14,
          15,
          16,
          17,
          18,
          19,
          20,
          21,
          22,
          23,
          24,
          25,
          26,
          27,
          28,
          29,
          30,
          31,
          32,
          33,
          34,
          35,
          36,
          37,
          38,
          39,
          40,
          41,
          42,
          43,
          44,
          45,
          46,
          47,
          48,
          49,
          50,
          51,
          52,
          53,
          54,
          55,
          56,
          57,
          58,
          59,
          60,
          61,
          62,
          63,
          64,
          65,
          66,
          67,
          68,
          69,
          70,
          71,
          72,
          73,
          74
         ],
         "xaxis": "x3",
         "y": [
          0,
          0,
          2,
          2,
          2,
          2,
          2,
          4,
          4,
          4,
          4,
          5,
          9,
          9,
          10,
          12,
          13,
          17,
          19,
          22,
          34,
          38,
          43,
          42,
          48,
          43,
          53,
          55,
          26,
          0,
          0,
          0,
          0,
          0,
          0,
          0,
          0,
          0,
          0,
          0,
          0,
          0,
          0,
          0,
          0,
          0,
          0,
          0,
          0,
          0,
          0,
          0,
          0,
          0,
          0,
          0,
          0,
          0,
          0,
          0,
          0,
          0,
          0,
          0,
          0,
          0,
          0,
          0,
          0,
          0,
          0,
          0,
          0,
          0,
          0
         ],
         "yaxis": "y3"
        },
        {
         "name": "#Idle",
         "type": "bar",
         "x": [
          0,
          1,
          2,
          3,
          4,
          5,
          6,
          7,
          8,
          9,
          10,
          11,
          12,
          13,
          14,
          15,
          16,
          17,
          18,
          19,
          20,
          21,
          22,
          23,
          24,
          25,
          26,
          27,
          28,
          29,
          30,
          31,
          32,
          33,
          34,
          35,
          36,
          37,
          38,
          39,
          40,
          41,
          42,
          43,
          44,
          45,
          46,
          47,
          48,
          49,
          50,
          51,
          52,
          53,
          54,
          55,
          56,
          57,
          58,
          59,
          60,
          61,
          62,
          63,
          64,
          65,
          66,
          67,
          68,
          69,
          70,
          71,
          72,
          73,
          74
         ],
         "xaxis": "x3",
         "y": [
          0,
          0,
          0,
          0,
          0,
          0,
          0,
          0,
          0,
          0,
          1,
          0,
          0,
          1,
          1,
          2,
          0,
          1,
          3,
          2,
          6,
          0,
          3,
          2,
          2,
          1,
          1,
          4,
          24,
          58,
          59,
          70,
          63,
          72,
          81,
          82,
          75,
          93,
          105,
          100,
          98,
          109,
          151,
          234,
          258,
          266,
          266,
          266,
          266,
          266,
          266,
          266,
          266,
          266,
          266,
          266,
          266,
          266,
          266,
          266,
          266,
          266,
          266,
          266,
          266,
          266,
          266,
          266,
          266,
          266,
          266,
          266,
          266,
          266,
          266
         ],
         "yaxis": "y3"
        },
        {
         "mode": "lines",
         "name": "NonPr",
         "type": "scatter",
         "x": [
          0,
          1,
          2,
          3,
          4,
          5,
          6,
          7,
          8,
          9,
          10,
          11,
          12,
          13,
          14,
          15,
          16,
          17,
          18,
          19,
          20,
          21,
          22,
          23,
          24,
          25,
          26,
          27,
          28,
          29,
          30,
          31,
          32,
          33,
          34,
          35,
          36,
          37,
          38,
          39,
          40,
          41,
          42,
          43,
          44,
          45,
          46,
          47,
          48,
          49,
          50,
          51,
          52,
          53,
          54,
          55,
          56,
          57,
          58,
          59,
          60,
          61,
          62,
          63,
          64,
          65,
          66,
          67,
          68,
          69,
          70,
          71,
          72,
          73,
          74
         ],
         "xaxis": "x2",
         "y": [
          299,
          299,
          297,
          297,
          297,
          297,
          294,
          292,
          292,
          289,
          286,
          285,
          278,
          276,
          272,
          266,
          261,
          250,
          242,
          234,
          229,
          225,
          219,
          215,
          209,
          200,
          197,
          189,
          181,
          174,
          164,
          155,
          143,
          131,
          119,
          105,
          91,
          75,
          59,
          41,
          18,
          0,
          0,
          0,
          0,
          0,
          0,
          0,
          0,
          0,
          0,
          0,
          0,
          0,
          0,
          0,
          0,
          0,
          0,
          0,
          0,
          0,
          0,
          0,
          0,
          0,
          0,
          0,
          0,
          0,
          0,
          0,
          0,
          0,
          0
         ],
         "yaxis": "y2"
        },
        {
         "mode": "lines",
         "name": "Printable",
         "type": "scatter",
         "x": [
          0,
          1,
          2,
          3,
          4,
          5,
          6,
          7,
          8,
          9,
          10,
          11,
          12,
          13,
          14,
          15,
          16,
          17,
          18,
          19,
          20,
          21,
          22,
          23,
          24,
          25,
          26,
          27,
          28,
          29,
          30,
          31,
          32,
          33,
          34,
          35,
          36,
          37,
          38,
          39,
          40,
          41,
          42,
          43,
          44,
          45,
          46,
          47,
          48,
          49,
          50,
          51,
          52,
          53,
          54,
          55,
          56,
          57,
          58,
          59,
          60,
          61,
          62,
          63,
          64,
          65,
          66,
          67,
          68,
          69,
          70,
          71,
          72,
          73,
          74
         ],
         "xaxis": "x2",
         "y": [
          99,
          99,
          96,
          96,
          97,
          97,
          92,
          88,
          89,
          83,
          79,
          79,
          68,
          66,
          61,
          52,
          46,
          28,
          17,
          5,
          3,
          4,
          2,
          4,
          6,
          1,
          9,
          7,
          6,
          8,
          5,
          7,
          4,
          1,
          3,
          1,
          3,
          3,
          9,
          10,
          3,
          8,
          49,
          49,
          49,
          49,
          49,
          49,
          49,
          49,
          49,
          49,
          49,
          49,
          49,
          49,
          49,
          49,
          49,
          49,
          49,
          49,
          49,
          49,
          49,
          49,
          49,
          49,
          49,
          49,
          49,
          49,
          49,
          49,
          49
         ],
         "yaxis": "y2"
        },
        {
         "mode": "lines",
         "name": "Materials",
         "type": "scatter",
         "x": [
          0,
          1,
          2,
          3,
          4,
          5,
          6,
          7,
          8,
          9,
          10,
          11,
          12,
          13,
          14,
          15,
          16,
          17,
          18,
          19,
          20,
          21,
          22,
          23,
          24,
          25,
          26,
          27,
          28,
          29,
          30,
          31,
          32,
          33,
          34,
          35,
          36,
          37,
          38,
          39,
          40,
          41,
          42,
          43,
          44,
          45,
          46,
          47,
          48,
          49,
          50,
          51,
          52,
          53,
          54,
          55,
          56,
          57,
          58,
          59,
          60,
          61,
          62,
          63,
          64,
          65,
          66,
          67,
          68,
          69,
          70,
          71,
          72,
          73,
          74
         ],
         "xaxis": "x2",
         "y": [
          49,
          49,
          49,
          51,
          52,
          54,
          55,
          58,
          61,
          65,
          67,
          70,
          74,
          81,
          88,
          96,
          105,
          116,
          129,
          147,
          167,
          194,
          223,
          255,
          289,
          319,
          354,
          395,
          406,
          390,
          373,
          353,
          332,
          311,
          285,
          259,
          229,
          197,
          159,
          122,
          83,
          42,
          1,
          1,
          1,
          1,
          1,
          1,
          1,
          1,
          1,
          1,
          1,
          1,
          1,
          1,
          1,
          1,
          1,
          1,
          1,
          1,
          1,
          1,
          1,
          1,
          1,
          1,
          1,
          1,
          1,
          1,
          1,
          1,
          1
         ],
         "yaxis": "y2"
        },
        {
         "mode": "lines",
         "name": "Env_Materials",
         "type": "scatter",
         "x": [
          0,
          1,
          2,
          3,
          4,
          5,
          6,
          7,
          8,
          9,
          10,
          11,
          12,
          13,
          14,
          15,
          16,
          17,
          18,
          19,
          20,
          21,
          22,
          23,
          24,
          25,
          26,
          27,
          28,
          29,
          30,
          31,
          32,
          33,
          34,
          35,
          36,
          37,
          38,
          39,
          40,
          41,
          42,
          43,
          44,
          45,
          46,
          47,
          48,
          49,
          50,
          51,
          52,
          53,
          54,
          55,
          56,
          57,
          58,
          59,
          60,
          61,
          62,
          63,
          64,
          65,
          66,
          67,
          68,
          69,
          70,
          71,
          72,
          73,
          74
         ],
         "xaxis": "x2",
         "y": [
          500,
          500,
          499,
          497,
          495,
          493,
          491,
          488,
          484,
          480,
          476,
          471,
          464,
          455,
          445,
          434,
          421,
          406,
          388,
          366,
          338,
          302,
          263,
          221,
          173,
          130,
          81,
          26,
          0,
          0,
          0,
          0,
          0,
          0,
          0,
          0,
          0,
          0,
          0,
          0,
          0,
          0,
          0,
          0,
          0,
          0,
          0,
          0,
          0,
          0,
          0,
          0,
          0,
          0,
          0,
          0,
          0,
          0,
          0,
          0,
          0,
          0,
          0,
          0,
          0,
          0,
          0,
          0,
          0,
          0,
          0,
          0,
          0,
          0,
          0
         ],
         "yaxis": "y2"
        },
        {
         "mode": "lines",
         "name": "Avg. Quality #in",
         "type": "scatter",
         "x": [
          0,
          1,
          2,
          3,
          4,
          5,
          6,
          7,
          8,
          9,
          10,
          11,
          12,
          13,
          14,
          15,
          16,
          17,
          18,
          19,
          20,
          21,
          22,
          23,
          24,
          25,
          26,
          27,
          28,
          29,
          30,
          31,
          32,
          33,
          34,
          35,
          36,
          37,
          38,
          39,
          40,
          41,
          42,
          43,
          44,
          45,
          46,
          47,
          48,
          49,
          50,
          51,
          52,
          53,
          54,
          55,
          56,
          57,
          58,
          59,
          60,
          61,
          62,
          63,
          64,
          65,
          66,
          67,
          68,
          69,
          70,
          71,
          72,
          73,
          74
         ],
         "xaxis": "x4",
         "y": [
          0.939,
          0.939,
          0.91,
          0.91,
          0.91,
          0.91,
          0.877,
          0.814,
          0.814,
          0.784,
          0.721,
          0.71,
          0.695,
          0.664,
          0.63,
          0.581,
          0.593,
          0.594,
          0.554,
          0.536,
          0.492,
          0.502,
          0.495,
          0.482,
          0.477,
          0.472,
          0.485,
          0.465,
          0.46,
          0.457,
          0.449,
          0.452,
          0.448,
          0.447,
          0.44,
          0.439,
          0.437,
          0.432,
          0.406,
          0.4,
          0.393,
          0.388,
          0.388,
          0.386,
          0.38,
          0.374,
          0.374,
          0.374,
          0.374,
          0.374,
          0.374,
          0.374,
          0.374,
          0.374,
          0.374,
          0.374,
          0.374,
          0.374,
          0.374,
          0.374,
          0.374,
          0.374,
          0.374,
          0.374,
          0.374,
          0.374,
          0.374,
          0.374,
          0.374,
          0.374,
          0.374,
          0.374,
          0.374,
          0.374,
          0.374
         ],
         "yaxis": "y4"
        },
        {
         "mode": "lines",
         "name": "Avg. Quality #total",
         "type": "scatter",
         "x": [
          0,
          1,
          2,
          3,
          4,
          5,
          6,
          7,
          8,
          9,
          10,
          11,
          12,
          13,
          14,
          15,
          16,
          17,
          18,
          19,
          20,
          21,
          22,
          23,
          24,
          25,
          26,
          27,
          28,
          29,
          30,
          31,
          32,
          33,
          34,
          35,
          36,
          37,
          38,
          39,
          40,
          41,
          42,
          43,
          44,
          45,
          46,
          47,
          48,
          49,
          50,
          51,
          52,
          53,
          54,
          55,
          56,
          57,
          58,
          59,
          60,
          61,
          62,
          63,
          64,
          65,
          66,
          67,
          68,
          69,
          70,
          71,
          72,
          73,
          74
         ],
         "xaxis": "x4",
         "y": [
          0.939,
          0.939,
          0.91,
          0.91,
          0.91,
          0.91,
          0.877,
          0.814,
          0.814,
          0.784,
          0.754,
          0.738,
          0.716,
          0.697,
          0.679,
          0.648,
          0.653,
          0.652,
          0.628,
          0.615,
          0.598,
          0.602,
          0.6,
          0.593,
          0.585,
          0.583,
          0.593,
          0.586,
          0.584,
          0.58,
          0.578,
          0.574,
          0.572,
          0.569,
          0.563,
          0.561,
          0.56,
          0.552,
          0.54,
          0.537,
          0.532,
          0.528,
          0.527,
          0.525,
          0.521,
          0.519,
          0.519,
          0.519,
          0.519,
          0.519,
          0.519,
          0.519,
          0.519,
          0.519,
          0.519,
          0.519,
          0.519,
          0.519,
          0.519,
          0.519,
          0.519,
          0.519,
          0.519,
          0.519,
          0.519,
          0.519,
          0.519,
          0.519,
          0.519,
          0.519,
          0.519,
          0.519,
          0.519,
          0.519,
          0.519
         ],
         "yaxis": "y4"
        }
       ],
       "layout": {
        "annotations": [
         {
          "font": {
           "size": 16
          },
          "showarrow": false,
          "text": "Types of Robots vs Time",
          "x": 0.225,
          "xanchor": "center",
          "xref": "paper",
          "y": 1,
          "yanchor": "bottom",
          "yref": "paper"
         },
         {
          "font": {
           "size": 16
          },
          "showarrow": false,
          "text": "Resources vs Time",
          "x": 0.775,
          "xanchor": "center",
          "xref": "paper",
          "y": 1,
          "yanchor": "bottom",
          "yref": "paper"
         },
         {
          "font": {
           "size": 16
          },
          "showarrow": false,
          "text": "Tasks of Robots vs Time",
          "x": 0.225,
          "xanchor": "center",
          "xref": "paper",
          "y": 0.375,
          "yanchor": "bottom",
          "yref": "paper"
         },
         {
          "font": {
           "size": 16
          },
          "showarrow": false,
          "text": "Build Quality vs Time",
          "x": 0.775,
          "xanchor": "center",
          "xref": "paper",
          "y": 0.375,
          "yanchor": "bottom",
          "yref": "paper"
         }
        ],
        "hovermode": "x",
        "template": {
         "data": {
          "bar": [
           {
            "error_x": {
             "color": "#2a3f5f"
            },
            "error_y": {
             "color": "#2a3f5f"
            },
            "marker": {
             "line": {
              "color": "#E5ECF6",
              "width": 0.5
             },
             "pattern": {
              "fillmode": "overlay",
              "size": 10,
              "solidity": 0.2
             }
            },
            "type": "bar"
           }
          ],
          "barpolar": [
           {
            "marker": {
             "line": {
              "color": "#E5ECF6",
              "width": 0.5
             },
             "pattern": {
              "fillmode": "overlay",
              "size": 10,
              "solidity": 0.2
             }
            },
            "type": "barpolar"
           }
          ],
          "carpet": [
           {
            "aaxis": {
             "endlinecolor": "#2a3f5f",
             "gridcolor": "white",
             "linecolor": "white",
             "minorgridcolor": "white",
             "startlinecolor": "#2a3f5f"
            },
            "baxis": {
             "endlinecolor": "#2a3f5f",
             "gridcolor": "white",
             "linecolor": "white",
             "minorgridcolor": "white",
             "startlinecolor": "#2a3f5f"
            },
            "type": "carpet"
           }
          ],
          "choropleth": [
           {
            "colorbar": {
             "outlinewidth": 0,
             "ticks": ""
            },
            "type": "choropleth"
           }
          ],
          "contour": [
           {
            "colorbar": {
             "outlinewidth": 0,
             "ticks": ""
            },
            "colorscale": [
             [
              0,
              "#0d0887"
             ],
             [
              0.1111111111111111,
              "#46039f"
             ],
             [
              0.2222222222222222,
              "#7201a8"
             ],
             [
              0.3333333333333333,
              "#9c179e"
             ],
             [
              0.4444444444444444,
              "#bd3786"
             ],
             [
              0.5555555555555556,
              "#d8576b"
             ],
             [
              0.6666666666666666,
              "#ed7953"
             ],
             [
              0.7777777777777778,
              "#fb9f3a"
             ],
             [
              0.8888888888888888,
              "#fdca26"
             ],
             [
              1,
              "#f0f921"
             ]
            ],
            "type": "contour"
           }
          ],
          "contourcarpet": [
           {
            "colorbar": {
             "outlinewidth": 0,
             "ticks": ""
            },
            "type": "contourcarpet"
           }
          ],
          "heatmap": [
           {
            "colorbar": {
             "outlinewidth": 0,
             "ticks": ""
            },
            "colorscale": [
             [
              0,
              "#0d0887"
             ],
             [
              0.1111111111111111,
              "#46039f"
             ],
             [
              0.2222222222222222,
              "#7201a8"
             ],
             [
              0.3333333333333333,
              "#9c179e"
             ],
             [
              0.4444444444444444,
              "#bd3786"
             ],
             [
              0.5555555555555556,
              "#d8576b"
             ],
             [
              0.6666666666666666,
              "#ed7953"
             ],
             [
              0.7777777777777778,
              "#fb9f3a"
             ],
             [
              0.8888888888888888,
              "#fdca26"
             ],
             [
              1,
              "#f0f921"
             ]
            ],
            "type": "heatmap"
           }
          ],
          "heatmapgl": [
           {
            "colorbar": {
             "outlinewidth": 0,
             "ticks": ""
            },
            "colorscale": [
             [
              0,
              "#0d0887"
             ],
             [
              0.1111111111111111,
              "#46039f"
             ],
             [
              0.2222222222222222,
              "#7201a8"
             ],
             [
              0.3333333333333333,
              "#9c179e"
             ],
             [
              0.4444444444444444,
              "#bd3786"
             ],
             [
              0.5555555555555556,
              "#d8576b"
             ],
             [
              0.6666666666666666,
              "#ed7953"
             ],
             [
              0.7777777777777778,
              "#fb9f3a"
             ],
             [
              0.8888888888888888,
              "#fdca26"
             ],
             [
              1,
              "#f0f921"
             ]
            ],
            "type": "heatmapgl"
           }
          ],
          "histogram": [
           {
            "marker": {
             "pattern": {
              "fillmode": "overlay",
              "size": 10,
              "solidity": 0.2
             }
            },
            "type": "histogram"
           }
          ],
          "histogram2d": [
           {
            "colorbar": {
             "outlinewidth": 0,
             "ticks": ""
            },
            "colorscale": [
             [
              0,
              "#0d0887"
             ],
             [
              0.1111111111111111,
              "#46039f"
             ],
             [
              0.2222222222222222,
              "#7201a8"
             ],
             [
              0.3333333333333333,
              "#9c179e"
             ],
             [
              0.4444444444444444,
              "#bd3786"
             ],
             [
              0.5555555555555556,
              "#d8576b"
             ],
             [
              0.6666666666666666,
              "#ed7953"
             ],
             [
              0.7777777777777778,
              "#fb9f3a"
             ],
             [
              0.8888888888888888,
              "#fdca26"
             ],
             [
              1,
              "#f0f921"
             ]
            ],
            "type": "histogram2d"
           }
          ],
          "histogram2dcontour": [
           {
            "colorbar": {
             "outlinewidth": 0,
             "ticks": ""
            },
            "colorscale": [
             [
              0,
              "#0d0887"
             ],
             [
              0.1111111111111111,
              "#46039f"
             ],
             [
              0.2222222222222222,
              "#7201a8"
             ],
             [
              0.3333333333333333,
              "#9c179e"
             ],
             [
              0.4444444444444444,
              "#bd3786"
             ],
             [
              0.5555555555555556,
              "#d8576b"
             ],
             [
              0.6666666666666666,
              "#ed7953"
             ],
             [
              0.7777777777777778,
              "#fb9f3a"
             ],
             [
              0.8888888888888888,
              "#fdca26"
             ],
             [
              1,
              "#f0f921"
             ]
            ],
            "type": "histogram2dcontour"
           }
          ],
          "mesh3d": [
           {
            "colorbar": {
             "outlinewidth": 0,
             "ticks": ""
            },
            "type": "mesh3d"
           }
          ],
          "parcoords": [
           {
            "line": {
             "colorbar": {
              "outlinewidth": 0,
              "ticks": ""
             }
            },
            "type": "parcoords"
           }
          ],
          "pie": [
           {
            "automargin": true,
            "type": "pie"
           }
          ],
          "scatter": [
           {
            "fillpattern": {
             "fillmode": "overlay",
             "size": 10,
             "solidity": 0.2
            },
            "type": "scatter"
           }
          ],
          "scatter3d": [
           {
            "line": {
             "colorbar": {
              "outlinewidth": 0,
              "ticks": ""
             }
            },
            "marker": {
             "colorbar": {
              "outlinewidth": 0,
              "ticks": ""
             }
            },
            "type": "scatter3d"
           }
          ],
          "scattercarpet": [
           {
            "marker": {
             "colorbar": {
              "outlinewidth": 0,
              "ticks": ""
             }
            },
            "type": "scattercarpet"
           }
          ],
          "scattergeo": [
           {
            "marker": {
             "colorbar": {
              "outlinewidth": 0,
              "ticks": ""
             }
            },
            "type": "scattergeo"
           }
          ],
          "scattergl": [
           {
            "marker": {
             "colorbar": {
              "outlinewidth": 0,
              "ticks": ""
             }
            },
            "type": "scattergl"
           }
          ],
          "scattermapbox": [
           {
            "marker": {
             "colorbar": {
              "outlinewidth": 0,
              "ticks": ""
             }
            },
            "type": "scattermapbox"
           }
          ],
          "scatterpolar": [
           {
            "marker": {
             "colorbar": {
              "outlinewidth": 0,
              "ticks": ""
             }
            },
            "type": "scatterpolar"
           }
          ],
          "scatterpolargl": [
           {
            "marker": {
             "colorbar": {
              "outlinewidth": 0,
              "ticks": ""
             }
            },
            "type": "scatterpolargl"
           }
          ],
          "scatterternary": [
           {
            "marker": {
             "colorbar": {
              "outlinewidth": 0,
              "ticks": ""
             }
            },
            "type": "scatterternary"
           }
          ],
          "surface": [
           {
            "colorbar": {
             "outlinewidth": 0,
             "ticks": ""
            },
            "colorscale": [
             [
              0,
              "#0d0887"
             ],
             [
              0.1111111111111111,
              "#46039f"
             ],
             [
              0.2222222222222222,
              "#7201a8"
             ],
             [
              0.3333333333333333,
              "#9c179e"
             ],
             [
              0.4444444444444444,
              "#bd3786"
             ],
             [
              0.5555555555555556,
              "#d8576b"
             ],
             [
              0.6666666666666666,
              "#ed7953"
             ],
             [
              0.7777777777777778,
              "#fb9f3a"
             ],
             [
              0.8888888888888888,
              "#fdca26"
             ],
             [
              1,
              "#f0f921"
             ]
            ],
            "type": "surface"
           }
          ],
          "table": [
           {
            "cells": {
             "fill": {
              "color": "#EBF0F8"
             },
             "line": {
              "color": "white"
             }
            },
            "header": {
             "fill": {
              "color": "#C8D4E3"
             },
             "line": {
              "color": "white"
             }
            },
            "type": "table"
           }
          ]
         },
         "layout": {
          "annotationdefaults": {
           "arrowcolor": "#2a3f5f",
           "arrowhead": 0,
           "arrowwidth": 1
          },
          "autotypenumbers": "strict",
          "coloraxis": {
           "colorbar": {
            "outlinewidth": 0,
            "ticks": ""
           }
          },
          "colorscale": {
           "diverging": [
            [
             0,
             "#8e0152"
            ],
            [
             0.1,
             "#c51b7d"
            ],
            [
             0.2,
             "#de77ae"
            ],
            [
             0.3,
             "#f1b6da"
            ],
            [
             0.4,
             "#fde0ef"
            ],
            [
             0.5,
             "#f7f7f7"
            ],
            [
             0.6,
             "#e6f5d0"
            ],
            [
             0.7,
             "#b8e186"
            ],
            [
             0.8,
             "#7fbc41"
            ],
            [
             0.9,
             "#4d9221"
            ],
            [
             1,
             "#276419"
            ]
           ],
           "sequential": [
            [
             0,
             "#0d0887"
            ],
            [
             0.1111111111111111,
             "#46039f"
            ],
            [
             0.2222222222222222,
             "#7201a8"
            ],
            [
             0.3333333333333333,
             "#9c179e"
            ],
            [
             0.4444444444444444,
             "#bd3786"
            ],
            [
             0.5555555555555556,
             "#d8576b"
            ],
            [
             0.6666666666666666,
             "#ed7953"
            ],
            [
             0.7777777777777778,
             "#fb9f3a"
            ],
            [
             0.8888888888888888,
             "#fdca26"
            ],
            [
             1,
             "#f0f921"
            ]
           ],
           "sequentialminus": [
            [
             0,
             "#0d0887"
            ],
            [
             0.1111111111111111,
             "#46039f"
            ],
            [
             0.2222222222222222,
             "#7201a8"
            ],
            [
             0.3333333333333333,
             "#9c179e"
            ],
            [
             0.4444444444444444,
             "#bd3786"
            ],
            [
             0.5555555555555556,
             "#d8576b"
            ],
            [
             0.6666666666666666,
             "#ed7953"
            ],
            [
             0.7777777777777778,
             "#fb9f3a"
            ],
            [
             0.8888888888888888,
             "#fdca26"
            ],
            [
             1,
             "#f0f921"
            ]
           ]
          },
          "colorway": [
           "#636efa",
           "#EF553B",
           "#00cc96",
           "#ab63fa",
           "#FFA15A",
           "#19d3f3",
           "#FF6692",
           "#B6E880",
           "#FF97FF",
           "#FECB52"
          ],
          "font": {
           "color": "#2a3f5f"
          },
          "geo": {
           "bgcolor": "white",
           "lakecolor": "white",
           "landcolor": "#E5ECF6",
           "showlakes": true,
           "showland": true,
           "subunitcolor": "white"
          },
          "hoverlabel": {
           "align": "left"
          },
          "hovermode": "closest",
          "mapbox": {
           "style": "light"
          },
          "paper_bgcolor": "white",
          "plot_bgcolor": "#E5ECF6",
          "polar": {
           "angularaxis": {
            "gridcolor": "white",
            "linecolor": "white",
            "ticks": ""
           },
           "bgcolor": "#E5ECF6",
           "radialaxis": {
            "gridcolor": "white",
            "linecolor": "white",
            "ticks": ""
           }
          },
          "scene": {
           "xaxis": {
            "backgroundcolor": "#E5ECF6",
            "gridcolor": "white",
            "gridwidth": 2,
            "linecolor": "white",
            "showbackground": true,
            "ticks": "",
            "zerolinecolor": "white"
           },
           "yaxis": {
            "backgroundcolor": "#E5ECF6",
            "gridcolor": "white",
            "gridwidth": 2,
            "linecolor": "white",
            "showbackground": true,
            "ticks": "",
            "zerolinecolor": "white"
           },
           "zaxis": {
            "backgroundcolor": "#E5ECF6",
            "gridcolor": "white",
            "gridwidth": 2,
            "linecolor": "white",
            "showbackground": true,
            "ticks": "",
            "zerolinecolor": "white"
           }
          },
          "shapedefaults": {
           "line": {
            "color": "#2a3f5f"
           }
          },
          "ternary": {
           "aaxis": {
            "gridcolor": "white",
            "linecolor": "white",
            "ticks": ""
           },
           "baxis": {
            "gridcolor": "white",
            "linecolor": "white",
            "ticks": ""
           },
           "bgcolor": "#E5ECF6",
           "caxis": {
            "gridcolor": "white",
            "linecolor": "white",
            "ticks": ""
           }
          },
          "title": {
           "x": 0.05
          },
          "xaxis": {
           "automargin": true,
           "gridcolor": "white",
           "linecolor": "white",
           "ticks": "",
           "title": {
            "standoff": 15
           },
           "zerolinecolor": "white",
           "zerolinewidth": 2
          },
          "yaxis": {
           "automargin": true,
           "gridcolor": "white",
           "linecolor": "white",
           "ticks": "",
           "title": {
            "standoff": 15
           },
           "zerolinecolor": "white",
           "zerolinewidth": 2
          }
         }
        },
        "title": {
         "text": "HHE - Characteristics"
        },
        "xaxis": {
         "anchor": "y",
         "domain": [
          0,
          0.45
         ]
        },
        "xaxis2": {
         "anchor": "y2",
         "domain": [
          0.55,
          1
         ]
        },
        "xaxis3": {
         "anchor": "y3",
         "domain": [
          0,
          0.45
         ]
        },
        "xaxis4": {
         "anchor": "y4",
         "domain": [
          0.55,
          1
         ]
        },
        "yaxis": {
         "anchor": "x",
         "domain": [
          0.625,
          1
         ]
        },
        "yaxis2": {
         "anchor": "x2",
         "domain": [
          0.625,
          1
         ]
        },
        "yaxis3": {
         "anchor": "x3",
         "domain": [
          0,
          0.375
         ]
        },
        "yaxis4": {
         "anchor": "x4",
         "domain": [
          0,
          0.375
         ]
        }
       }
      },
      "text/html": [
       "<div>                            <div id=\"60013fd1-29a9-48ea-8e47-dbded104c34c\" class=\"plotly-graph-div\" style=\"height:525px; width:100%;\"></div>            <script type=\"text/javascript\">                require([\"plotly\"], function(Plotly) {                    window.PLOTLYENV=window.PLOTLYENV || {};                                    if (document.getElementById(\"60013fd1-29a9-48ea-8e47-dbded104c34c\")) {                    Plotly.newPlot(                        \"60013fd1-29a9-48ea-8e47-dbded104c34c\",                        [{\"name\":\"#Replicator\",\"x\":[0.0,1.0,2.0,3.0,4.0,5.0,6.0,7.0,8.0,9.0,10.0,11.0,12.0,13.0,14.0,15.0,16.0,17.0,18.0,19.0,20.0,21.0,22.0,23.0,24.0,25.0,26.0,27.0,28.0,29.0,30.0,31.0,32.0,33.0,34.0,35.0,36.0,37.0,38.0,39.0,40.0,41.0,42.0,43.0,44.0,45.0,46.0,47.0,48.0,49.0,50.0,51.0,52.0,53.0,54.0,55.0,56.0,57.0,58.0,59.0,60.0,61.0,62.0,63.0,64.0,65.0,66.0,67.0,68.0,69.0,70.0,71.0,72.0,73.0,74.0],\"y\":[0.0,0.0,0.0,0.0,0.0,0.0,0.0,0.0,0.0,0.0,0.0,0.0,0.0,0.0,0.0,0.0,0.0,0.0,0.0,0.0,0.0,0.0,0.0,0.0,0.0,0.0,0.0,0.0,0.0,0.0,0.0,0.0,0.0,0.0,0.0,0.0,0.0,0.0,0.0,0.0,0.0,0.0,0.0,0.0,0.0,0.0,0.0,0.0,0.0,0.0,0.0,0.0,0.0,0.0,0.0,0.0,0.0,0.0,0.0,0.0,0.0,0.0,0.0,0.0,0.0,0.0,0.0,0.0,0.0,0.0,0.0,0.0,0.0,0.0,0.0],\"type\":\"bar\",\"xaxis\":\"x\",\"yaxis\":\"y\"},{\"name\":\"#Normal\",\"x\":[0.0,1.0,2.0,3.0,4.0,5.0,6.0,7.0,8.0,9.0,10.0,11.0,12.0,13.0,14.0,15.0,16.0,17.0,18.0,19.0,20.0,21.0,22.0,23.0,24.0,25.0,26.0,27.0,28.0,29.0,30.0,31.0,32.0,33.0,34.0,35.0,36.0,37.0,38.0,39.0,40.0,41.0,42.0,43.0,44.0,45.0,46.0,47.0,48.0,49.0,50.0,51.0,52.0,53.0,54.0,55.0,56.0,57.0,58.0,59.0,60.0,61.0,62.0,63.0,64.0,65.0,66.0,67.0,68.0,69.0,70.0,71.0,72.0,73.0,74.0],\"y\":[0.0,0.0,2.0,2.0,2.0,2.0,2.0,4.0,4.0,4.0,5.0,5.0,9.0,10.0,10.0,13.0,13.0,17.0,22.0,22.0,26.0,26.0,30.0,30.0,32.0,33.0,39.0,41.0,41.0,47.0,50.0,50.0,52.0,58.0,60.0,60.0,63.0,71.0,76.0,77.0,80.0,83.0,84.0,88.0,92.0,95.0,95.0,95.0,95.0,95.0,95.0,95.0,95.0,95.0,95.0,95.0,95.0,95.0,95.0,95.0,95.0,95.0,95.0,95.0,95.0,95.0,95.0,95.0,95.0,95.0,95.0,95.0,95.0,95.0,95.0],\"type\":\"bar\",\"xaxis\":\"x\",\"yaxis\":\"y\"},{\"name\":\"#Assembler\",\"x\":[0.0,1.0,2.0,3.0,4.0,5.0,6.0,7.0,8.0,9.0,10.0,11.0,12.0,13.0,14.0,15.0,16.0,17.0,18.0,19.0,20.0,21.0,22.0,23.0,24.0,25.0,26.0,27.0,28.0,29.0,30.0,31.0,32.0,33.0,34.0,35.0,36.0,37.0,38.0,39.0,40.0,41.0,42.0,43.0,44.0,45.0,46.0,47.0,48.0,49.0,50.0,51.0,52.0,53.0,54.0,55.0,56.0,57.0,58.0,59.0,60.0,61.0,62.0,63.0,64.0,65.0,66.0,67.0,68.0,69.0,70.0,71.0,72.0,73.0,74.0],\"y\":[1.0,1.0,1.0,1.0,1.0,1.0,3.0,3.0,3.0,5.0,5.0,5.0,7.0,7.0,9.0,10.0,12.0,16.0,16.0,20.0,21.0,23.0,24.0,24.0,25.0,25.0,25.0,26.0,26.0,26.0,26.0,33.0,35.0,37.0,42.0,46.0,46.0,47.0,49.0,53.0,58.0,62.0,71.0,75.0,75.0,76.0,76.0,76.0,76.0,76.0,76.0,76.0,76.0,76.0,76.0,76.0,76.0,76.0,76.0,76.0,76.0,76.0,76.0,76.0,76.0,76.0,76.0,76.0,76.0,76.0,76.0,76.0,76.0,76.0,76.0],\"type\":\"bar\",\"xaxis\":\"x\",\"yaxis\":\"y\"},{\"name\":\"#Printer\",\"x\":[0.0,1.0,2.0,3.0,4.0,5.0,6.0,7.0,8.0,9.0,10.0,11.0,12.0,13.0,14.0,15.0,16.0,17.0,18.0,19.0,20.0,21.0,22.0,23.0,24.0,25.0,26.0,27.0,28.0,29.0,30.0,31.0,32.0,33.0,34.0,35.0,36.0,37.0,38.0,39.0,40.0,41.0,42.0,43.0,44.0,45.0,46.0,47.0,48.0,49.0,50.0,51.0,52.0,53.0,54.0,55.0,56.0,57.0,58.0,59.0,60.0,61.0,62.0,63.0,64.0,65.0,66.0,67.0,68.0,69.0,70.0,71.0,72.0,73.0,74.0],\"y\":[1.0,1.0,1.0,1.0,1.0,1.0,1.0,1.0,1.0,1.0,3.0,5.0,5.0,5.0,6.0,6.0,8.0,9.0,9.0,11.0,16.0,18.0,20.0,22.0,27.0,27.0,28.0,29.0,30.0,33.0,35.0,41.0,41.0,44.0,50.0,55.0,58.0,70.0,75.0,76.0,77.0,86.0,95.0,95.0,95.0,95.0,95.0,95.0,95.0,95.0,95.0,95.0,95.0,95.0,95.0,95.0,95.0,95.0,95.0,95.0,95.0,95.0,95.0,95.0,95.0,95.0,95.0,95.0,95.0,95.0,95.0,95.0,95.0,95.0,95.0],\"type\":\"bar\",\"xaxis\":\"x\",\"yaxis\":\"y\"},{\"name\":\"#Assembling\",\"x\":[0.0,1.0,2.0,3.0,4.0,5.0,6.0,7.0,8.0,9.0,10.0,11.0,12.0,13.0,14.0,15.0,16.0,17.0,18.0,19.0,20.0,21.0,22.0,23.0,24.0,25.0,26.0,27.0,28.0,29.0,30.0,31.0,32.0,33.0,34.0,35.0,36.0,37.0,38.0,39.0,40.0,41.0,42.0,43.0,44.0,45.0,46.0,47.0,48.0,49.0,50.0,51.0,52.0,53.0,54.0,55.0,56.0,57.0,58.0,59.0,60.0,61.0,62.0,63.0,64.0,65.0,66.0,67.0,68.0,69.0,70.0,71.0,72.0,73.0,74.0],\"y\":[1.0,1.0,1.0,1.0,1.0,1.0,3.0,3.0,3.0,5.0,5.0,5.0,7.0,7.0,9.0,9.0,12.0,16.0,16.0,20.0,10.0,11.0,8.0,12.0,8.0,14.0,11.0,9.0,18.0,16.0,19.0,15.0,24.0,24.0,21.0,25.0,35.0,29.0,25.0,31.0,41.0,39.0,17.0,8.0,4.0,0.0,0.0,0.0,0.0,0.0,0.0,0.0,0.0,0.0,0.0,0.0,0.0,0.0,0.0,0.0,0.0,0.0,0.0,0.0,0.0,0.0,0.0,0.0,0.0,0.0,0.0,0.0,0.0,0.0,0.0],\"type\":\"bar\",\"xaxis\":\"x3\",\"yaxis\":\"y3\"},{\"name\":\"#Printing\",\"x\":[0.0,1.0,2.0,3.0,4.0,5.0,6.0,7.0,8.0,9.0,10.0,11.0,12.0,13.0,14.0,15.0,16.0,17.0,18.0,19.0,20.0,21.0,22.0,23.0,24.0,25.0,26.0,27.0,28.0,29.0,30.0,31.0,32.0,33.0,34.0,35.0,36.0,37.0,38.0,39.0,40.0,41.0,42.0,43.0,44.0,45.0,46.0,47.0,48.0,49.0,50.0,51.0,52.0,53.0,54.0,55.0,56.0,57.0,58.0,59.0,60.0,61.0,62.0,63.0,64.0,65.0,66.0,67.0,68.0,69.0,70.0,71.0,72.0,73.0,74.0],\"y\":[1.0,1.0,1.0,1.0,1.0,1.0,1.0,1.0,1.0,1.0,3.0,5.0,5.0,5.0,5.0,6.0,8.0,8.0,9.0,9.0,13.0,18.0,20.0,20.0,26.0,27.0,27.0,28.0,29.0,32.0,33.0,39.0,41.0,43.0,50.0,54.0,57.0,66.0,70.0,75.0,76.0,83.0,82.0,16.0,0.0,0.0,0.0,0.0,0.0,0.0,0.0,0.0,0.0,0.0,0.0,0.0,0.0,0.0,0.0,0.0,0.0,0.0,0.0,0.0,0.0,0.0,0.0,0.0,0.0,0.0,0.0,0.0,0.0,0.0,0.0],\"type\":\"bar\",\"xaxis\":\"x3\",\"yaxis\":\"y3\"},{\"name\":\"#Collecting\",\"x\":[0.0,1.0,2.0,3.0,4.0,5.0,6.0,7.0,8.0,9.0,10.0,11.0,12.0,13.0,14.0,15.0,16.0,17.0,18.0,19.0,20.0,21.0,22.0,23.0,24.0,25.0,26.0,27.0,28.0,29.0,30.0,31.0,32.0,33.0,34.0,35.0,36.0,37.0,38.0,39.0,40.0,41.0,42.0,43.0,44.0,45.0,46.0,47.0,48.0,49.0,50.0,51.0,52.0,53.0,54.0,55.0,56.0,57.0,58.0,59.0,60.0,61.0,62.0,63.0,64.0,65.0,66.0,67.0,68.0,69.0,70.0,71.0,72.0,73.0,74.0],\"y\":[0.0,0.0,2.0,2.0,2.0,2.0,2.0,4.0,4.0,4.0,4.0,5.0,9.0,9.0,10.0,12.0,13.0,17.0,19.0,22.0,34.0,38.0,43.0,42.0,48.0,43.0,53.0,55.0,26.0,0.0,0.0,0.0,0.0,0.0,0.0,0.0,0.0,0.0,0.0,0.0,0.0,0.0,0.0,0.0,0.0,0.0,0.0,0.0,0.0,0.0,0.0,0.0,0.0,0.0,0.0,0.0,0.0,0.0,0.0,0.0,0.0,0.0,0.0,0.0,0.0,0.0,0.0,0.0,0.0,0.0,0.0,0.0,0.0,0.0,0.0],\"type\":\"bar\",\"xaxis\":\"x3\",\"yaxis\":\"y3\"},{\"name\":\"#Idle\",\"x\":[0.0,1.0,2.0,3.0,4.0,5.0,6.0,7.0,8.0,9.0,10.0,11.0,12.0,13.0,14.0,15.0,16.0,17.0,18.0,19.0,20.0,21.0,22.0,23.0,24.0,25.0,26.0,27.0,28.0,29.0,30.0,31.0,32.0,33.0,34.0,35.0,36.0,37.0,38.0,39.0,40.0,41.0,42.0,43.0,44.0,45.0,46.0,47.0,48.0,49.0,50.0,51.0,52.0,53.0,54.0,55.0,56.0,57.0,58.0,59.0,60.0,61.0,62.0,63.0,64.0,65.0,66.0,67.0,68.0,69.0,70.0,71.0,72.0,73.0,74.0],\"y\":[0.0,0.0,0.0,0.0,0.0,0.0,0.0,0.0,0.0,0.0,1.0,0.0,0.0,1.0,1.0,2.0,0.0,1.0,3.0,2.0,6.0,0.0,3.0,2.0,2.0,1.0,1.0,4.0,24.0,58.0,59.0,70.0,63.0,72.0,81.0,82.0,75.0,93.0,105.0,100.0,98.0,109.0,151.0,234.0,258.0,266.0,266.0,266.0,266.0,266.0,266.0,266.0,266.0,266.0,266.0,266.0,266.0,266.0,266.0,266.0,266.0,266.0,266.0,266.0,266.0,266.0,266.0,266.0,266.0,266.0,266.0,266.0,266.0,266.0,266.0],\"type\":\"bar\",\"xaxis\":\"x3\",\"yaxis\":\"y3\"},{\"mode\":\"lines\",\"name\":\"NonPr\",\"x\":[0.0,1.0,2.0,3.0,4.0,5.0,6.0,7.0,8.0,9.0,10.0,11.0,12.0,13.0,14.0,15.0,16.0,17.0,18.0,19.0,20.0,21.0,22.0,23.0,24.0,25.0,26.0,27.0,28.0,29.0,30.0,31.0,32.0,33.0,34.0,35.0,36.0,37.0,38.0,39.0,40.0,41.0,42.0,43.0,44.0,45.0,46.0,47.0,48.0,49.0,50.0,51.0,52.0,53.0,54.0,55.0,56.0,57.0,58.0,59.0,60.0,61.0,62.0,63.0,64.0,65.0,66.0,67.0,68.0,69.0,70.0,71.0,72.0,73.0,74.0],\"y\":[299.0,299.0,297.0,297.0,297.0,297.0,294.0,292.0,292.0,289.0,286.0,285.0,278.0,276.0,272.0,266.0,261.0,250.0,242.0,234.0,229.0,225.0,219.0,215.0,209.0,200.0,197.0,189.0,181.0,174.0,164.0,155.0,143.0,131.0,119.0,105.0,91.0,75.0,59.0,41.0,18.0,0.0,0.0,0.0,0.0,0.0,0.0,0.0,0.0,0.0,0.0,0.0,0.0,0.0,0.0,0.0,0.0,0.0,0.0,0.0,0.0,0.0,0.0,0.0,0.0,0.0,0.0,0.0,0.0,0.0,0.0,0.0,0.0,0.0,0.0],\"type\":\"scatter\",\"xaxis\":\"x2\",\"yaxis\":\"y2\"},{\"mode\":\"lines\",\"name\":\"Printable\",\"x\":[0.0,1.0,2.0,3.0,4.0,5.0,6.0,7.0,8.0,9.0,10.0,11.0,12.0,13.0,14.0,15.0,16.0,17.0,18.0,19.0,20.0,21.0,22.0,23.0,24.0,25.0,26.0,27.0,28.0,29.0,30.0,31.0,32.0,33.0,34.0,35.0,36.0,37.0,38.0,39.0,40.0,41.0,42.0,43.0,44.0,45.0,46.0,47.0,48.0,49.0,50.0,51.0,52.0,53.0,54.0,55.0,56.0,57.0,58.0,59.0,60.0,61.0,62.0,63.0,64.0,65.0,66.0,67.0,68.0,69.0,70.0,71.0,72.0,73.0,74.0],\"y\":[99.0,99.0,96.0,96.0,97.0,97.0,92.0,88.0,89.0,83.0,79.0,79.0,68.0,66.0,61.0,52.0,46.0,28.0,17.0,5.0,3.0,4.0,2.0,4.0,6.0,1.0,9.0,7.0,6.0,8.0,5.0,7.0,4.0,1.0,3.0,1.0,3.0,3.0,9.0,10.0,3.0,8.0,49.0,49.0,49.0,49.0,49.0,49.0,49.0,49.0,49.0,49.0,49.0,49.0,49.0,49.0,49.0,49.0,49.0,49.0,49.0,49.0,49.0,49.0,49.0,49.0,49.0,49.0,49.0,49.0,49.0,49.0,49.0,49.0,49.0],\"type\":\"scatter\",\"xaxis\":\"x2\",\"yaxis\":\"y2\"},{\"mode\":\"lines\",\"name\":\"Materials\",\"x\":[0.0,1.0,2.0,3.0,4.0,5.0,6.0,7.0,8.0,9.0,10.0,11.0,12.0,13.0,14.0,15.0,16.0,17.0,18.0,19.0,20.0,21.0,22.0,23.0,24.0,25.0,26.0,27.0,28.0,29.0,30.0,31.0,32.0,33.0,34.0,35.0,36.0,37.0,38.0,39.0,40.0,41.0,42.0,43.0,44.0,45.0,46.0,47.0,48.0,49.0,50.0,51.0,52.0,53.0,54.0,55.0,56.0,57.0,58.0,59.0,60.0,61.0,62.0,63.0,64.0,65.0,66.0,67.0,68.0,69.0,70.0,71.0,72.0,73.0,74.0],\"y\":[49.0,49.0,49.0,51.0,52.0,54.0,55.0,58.0,61.0,65.0,67.0,70.0,74.0,81.0,88.0,96.0,105.0,116.0,129.0,147.0,167.0,194.0,223.0,255.0,289.0,319.0,354.0,395.0,406.0,390.0,373.0,353.0,332.0,311.0,285.0,259.0,229.0,197.0,159.0,122.0,83.0,42.0,1.0,1.0,1.0,1.0,1.0,1.0,1.0,1.0,1.0,1.0,1.0,1.0,1.0,1.0,1.0,1.0,1.0,1.0,1.0,1.0,1.0,1.0,1.0,1.0,1.0,1.0,1.0,1.0,1.0,1.0,1.0,1.0,1.0],\"type\":\"scatter\",\"xaxis\":\"x2\",\"yaxis\":\"y2\"},{\"mode\":\"lines\",\"name\":\"Env_Materials\",\"x\":[0.0,1.0,2.0,3.0,4.0,5.0,6.0,7.0,8.0,9.0,10.0,11.0,12.0,13.0,14.0,15.0,16.0,17.0,18.0,19.0,20.0,21.0,22.0,23.0,24.0,25.0,26.0,27.0,28.0,29.0,30.0,31.0,32.0,33.0,34.0,35.0,36.0,37.0,38.0,39.0,40.0,41.0,42.0,43.0,44.0,45.0,46.0,47.0,48.0,49.0,50.0,51.0,52.0,53.0,54.0,55.0,56.0,57.0,58.0,59.0,60.0,61.0,62.0,63.0,64.0,65.0,66.0,67.0,68.0,69.0,70.0,71.0,72.0,73.0,74.0],\"y\":[500.0,500.0,499.0,497.0,495.0,493.0,491.0,488.0,484.0,480.0,476.0,471.0,464.0,455.0,445.0,434.0,421.0,406.0,388.0,366.0,338.0,302.0,263.0,221.0,173.0,130.0,81.0,26.0,0.0,0.0,0.0,0.0,0.0,0.0,0.0,0.0,0.0,0.0,0.0,0.0,0.0,0.0,0.0,0.0,0.0,0.0,0.0,0.0,0.0,0.0,0.0,0.0,0.0,0.0,0.0,0.0,0.0,0.0,0.0,0.0,0.0,0.0,0.0,0.0,0.0,0.0,0.0,0.0,0.0,0.0,0.0,0.0,0.0,0.0,0.0],\"type\":\"scatter\",\"xaxis\":\"x2\",\"yaxis\":\"y2\"},{\"mode\":\"lines\",\"name\":\"Avg. Quality #in\",\"x\":[0.0,1.0,2.0,3.0,4.0,5.0,6.0,7.0,8.0,9.0,10.0,11.0,12.0,13.0,14.0,15.0,16.0,17.0,18.0,19.0,20.0,21.0,22.0,23.0,24.0,25.0,26.0,27.0,28.0,29.0,30.0,31.0,32.0,33.0,34.0,35.0,36.0,37.0,38.0,39.0,40.0,41.0,42.0,43.0,44.0,45.0,46.0,47.0,48.0,49.0,50.0,51.0,52.0,53.0,54.0,55.0,56.0,57.0,58.0,59.0,60.0,61.0,62.0,63.0,64.0,65.0,66.0,67.0,68.0,69.0,70.0,71.0,72.0,73.0,74.0],\"y\":[0.939,0.939,0.91,0.91,0.91,0.91,0.877,0.814,0.814,0.784,0.721,0.71,0.695,0.664,0.63,0.581,0.593,0.594,0.554,0.536,0.492,0.502,0.495,0.482,0.477,0.472,0.485,0.465,0.46,0.457,0.449,0.452,0.448,0.447,0.44,0.439,0.437,0.432,0.406,0.4,0.393,0.388,0.388,0.386,0.38,0.374,0.374,0.374,0.374,0.374,0.374,0.374,0.374,0.374,0.374,0.374,0.374,0.374,0.374,0.374,0.374,0.374,0.374,0.374,0.374,0.374,0.374,0.374,0.374,0.374,0.374,0.374,0.374,0.374,0.374],\"type\":\"scatter\",\"xaxis\":\"x4\",\"yaxis\":\"y4\"},{\"mode\":\"lines\",\"name\":\"Avg. Quality #total\",\"x\":[0.0,1.0,2.0,3.0,4.0,5.0,6.0,7.0,8.0,9.0,10.0,11.0,12.0,13.0,14.0,15.0,16.0,17.0,18.0,19.0,20.0,21.0,22.0,23.0,24.0,25.0,26.0,27.0,28.0,29.0,30.0,31.0,32.0,33.0,34.0,35.0,36.0,37.0,38.0,39.0,40.0,41.0,42.0,43.0,44.0,45.0,46.0,47.0,48.0,49.0,50.0,51.0,52.0,53.0,54.0,55.0,56.0,57.0,58.0,59.0,60.0,61.0,62.0,63.0,64.0,65.0,66.0,67.0,68.0,69.0,70.0,71.0,72.0,73.0,74.0],\"y\":[0.939,0.939,0.91,0.91,0.91,0.91,0.877,0.814,0.814,0.784,0.754,0.738,0.716,0.697,0.679,0.648,0.653,0.652,0.628,0.615,0.598,0.602,0.6,0.593,0.585,0.583,0.593,0.586,0.584,0.58,0.578,0.574,0.572,0.569,0.563,0.561,0.56,0.552,0.54,0.537,0.532,0.528,0.527,0.525,0.521,0.519,0.519,0.519,0.519,0.519,0.519,0.519,0.519,0.519,0.519,0.519,0.519,0.519,0.519,0.519,0.519,0.519,0.519,0.519,0.519,0.519,0.519,0.519,0.519,0.519,0.519,0.519,0.519,0.519,0.519],\"type\":\"scatter\",\"xaxis\":\"x4\",\"yaxis\":\"y4\"}],                        {\"template\":{\"data\":{\"histogram2dcontour\":[{\"type\":\"histogram2dcontour\",\"colorbar\":{\"outlinewidth\":0,\"ticks\":\"\"},\"colorscale\":[[0.0,\"#0d0887\"],[0.1111111111111111,\"#46039f\"],[0.2222222222222222,\"#7201a8\"],[0.3333333333333333,\"#9c179e\"],[0.4444444444444444,\"#bd3786\"],[0.5555555555555556,\"#d8576b\"],[0.6666666666666666,\"#ed7953\"],[0.7777777777777778,\"#fb9f3a\"],[0.8888888888888888,\"#fdca26\"],[1.0,\"#f0f921\"]]}],\"choropleth\":[{\"type\":\"choropleth\",\"colorbar\":{\"outlinewidth\":0,\"ticks\":\"\"}}],\"histogram2d\":[{\"type\":\"histogram2d\",\"colorbar\":{\"outlinewidth\":0,\"ticks\":\"\"},\"colorscale\":[[0.0,\"#0d0887\"],[0.1111111111111111,\"#46039f\"],[0.2222222222222222,\"#7201a8\"],[0.3333333333333333,\"#9c179e\"],[0.4444444444444444,\"#bd3786\"],[0.5555555555555556,\"#d8576b\"],[0.6666666666666666,\"#ed7953\"],[0.7777777777777778,\"#fb9f3a\"],[0.8888888888888888,\"#fdca26\"],[1.0,\"#f0f921\"]]}],\"heatmap\":[{\"type\":\"heatmap\",\"colorbar\":{\"outlinewidth\":0,\"ticks\":\"\"},\"colorscale\":[[0.0,\"#0d0887\"],[0.1111111111111111,\"#46039f\"],[0.2222222222222222,\"#7201a8\"],[0.3333333333333333,\"#9c179e\"],[0.4444444444444444,\"#bd3786\"],[0.5555555555555556,\"#d8576b\"],[0.6666666666666666,\"#ed7953\"],[0.7777777777777778,\"#fb9f3a\"],[0.8888888888888888,\"#fdca26\"],[1.0,\"#f0f921\"]]}],\"heatmapgl\":[{\"type\":\"heatmapgl\",\"colorbar\":{\"outlinewidth\":0,\"ticks\":\"\"},\"colorscale\":[[0.0,\"#0d0887\"],[0.1111111111111111,\"#46039f\"],[0.2222222222222222,\"#7201a8\"],[0.3333333333333333,\"#9c179e\"],[0.4444444444444444,\"#bd3786\"],[0.5555555555555556,\"#d8576b\"],[0.6666666666666666,\"#ed7953\"],[0.7777777777777778,\"#fb9f3a\"],[0.8888888888888888,\"#fdca26\"],[1.0,\"#f0f921\"]]}],\"contourcarpet\":[{\"type\":\"contourcarpet\",\"colorbar\":{\"outlinewidth\":0,\"ticks\":\"\"}}],\"contour\":[{\"type\":\"contour\",\"colorbar\":{\"outlinewidth\":0,\"ticks\":\"\"},\"colorscale\":[[0.0,\"#0d0887\"],[0.1111111111111111,\"#46039f\"],[0.2222222222222222,\"#7201a8\"],[0.3333333333333333,\"#9c179e\"],[0.4444444444444444,\"#bd3786\"],[0.5555555555555556,\"#d8576b\"],[0.6666666666666666,\"#ed7953\"],[0.7777777777777778,\"#fb9f3a\"],[0.8888888888888888,\"#fdca26\"],[1.0,\"#f0f921\"]]}],\"surface\":[{\"type\":\"surface\",\"colorbar\":{\"outlinewidth\":0,\"ticks\":\"\"},\"colorscale\":[[0.0,\"#0d0887\"],[0.1111111111111111,\"#46039f\"],[0.2222222222222222,\"#7201a8\"],[0.3333333333333333,\"#9c179e\"],[0.4444444444444444,\"#bd3786\"],[0.5555555555555556,\"#d8576b\"],[0.6666666666666666,\"#ed7953\"],[0.7777777777777778,\"#fb9f3a\"],[0.8888888888888888,\"#fdca26\"],[1.0,\"#f0f921\"]]}],\"mesh3d\":[{\"type\":\"mesh3d\",\"colorbar\":{\"outlinewidth\":0,\"ticks\":\"\"}}],\"scatter\":[{\"fillpattern\":{\"fillmode\":\"overlay\",\"size\":10,\"solidity\":0.2},\"type\":\"scatter\"}],\"parcoords\":[{\"type\":\"parcoords\",\"line\":{\"colorbar\":{\"outlinewidth\":0,\"ticks\":\"\"}}}],\"scatterpolargl\":[{\"type\":\"scatterpolargl\",\"marker\":{\"colorbar\":{\"outlinewidth\":0,\"ticks\":\"\"}}}],\"bar\":[{\"error_x\":{\"color\":\"#2a3f5f\"},\"error_y\":{\"color\":\"#2a3f5f\"},\"marker\":{\"line\":{\"color\":\"#E5ECF6\",\"width\":0.5},\"pattern\":{\"fillmode\":\"overlay\",\"size\":10,\"solidity\":0.2}},\"type\":\"bar\"}],\"scattergeo\":[{\"type\":\"scattergeo\",\"marker\":{\"colorbar\":{\"outlinewidth\":0,\"ticks\":\"\"}}}],\"scatterpolar\":[{\"type\":\"scatterpolar\",\"marker\":{\"colorbar\":{\"outlinewidth\":0,\"ticks\":\"\"}}}],\"histogram\":[{\"marker\":{\"pattern\":{\"fillmode\":\"overlay\",\"size\":10,\"solidity\":0.2}},\"type\":\"histogram\"}],\"scattergl\":[{\"type\":\"scattergl\",\"marker\":{\"colorbar\":{\"outlinewidth\":0,\"ticks\":\"\"}}}],\"scatter3d\":[{\"type\":\"scatter3d\",\"line\":{\"colorbar\":{\"outlinewidth\":0,\"ticks\":\"\"}},\"marker\":{\"colorbar\":{\"outlinewidth\":0,\"ticks\":\"\"}}}],\"scattermapbox\":[{\"type\":\"scattermapbox\",\"marker\":{\"colorbar\":{\"outlinewidth\":0,\"ticks\":\"\"}}}],\"scatterternary\":[{\"type\":\"scatterternary\",\"marker\":{\"colorbar\":{\"outlinewidth\":0,\"ticks\":\"\"}}}],\"scattercarpet\":[{\"type\":\"scattercarpet\",\"marker\":{\"colorbar\":{\"outlinewidth\":0,\"ticks\":\"\"}}}],\"carpet\":[{\"aaxis\":{\"endlinecolor\":\"#2a3f5f\",\"gridcolor\":\"white\",\"linecolor\":\"white\",\"minorgridcolor\":\"white\",\"startlinecolor\":\"#2a3f5f\"},\"baxis\":{\"endlinecolor\":\"#2a3f5f\",\"gridcolor\":\"white\",\"linecolor\":\"white\",\"minorgridcolor\":\"white\",\"startlinecolor\":\"#2a3f5f\"},\"type\":\"carpet\"}],\"table\":[{\"cells\":{\"fill\":{\"color\":\"#EBF0F8\"},\"line\":{\"color\":\"white\"}},\"header\":{\"fill\":{\"color\":\"#C8D4E3\"},\"line\":{\"color\":\"white\"}},\"type\":\"table\"}],\"barpolar\":[{\"marker\":{\"line\":{\"color\":\"#E5ECF6\",\"width\":0.5},\"pattern\":{\"fillmode\":\"overlay\",\"size\":10,\"solidity\":0.2}},\"type\":\"barpolar\"}],\"pie\":[{\"automargin\":true,\"type\":\"pie\"}]},\"layout\":{\"autotypenumbers\":\"strict\",\"colorway\":[\"#636efa\",\"#EF553B\",\"#00cc96\",\"#ab63fa\",\"#FFA15A\",\"#19d3f3\",\"#FF6692\",\"#B6E880\",\"#FF97FF\",\"#FECB52\"],\"font\":{\"color\":\"#2a3f5f\"},\"hovermode\":\"closest\",\"hoverlabel\":{\"align\":\"left\"},\"paper_bgcolor\":\"white\",\"plot_bgcolor\":\"#E5ECF6\",\"polar\":{\"bgcolor\":\"#E5ECF6\",\"angularaxis\":{\"gridcolor\":\"white\",\"linecolor\":\"white\",\"ticks\":\"\"},\"radialaxis\":{\"gridcolor\":\"white\",\"linecolor\":\"white\",\"ticks\":\"\"}},\"ternary\":{\"bgcolor\":\"#E5ECF6\",\"aaxis\":{\"gridcolor\":\"white\",\"linecolor\":\"white\",\"ticks\":\"\"},\"baxis\":{\"gridcolor\":\"white\",\"linecolor\":\"white\",\"ticks\":\"\"},\"caxis\":{\"gridcolor\":\"white\",\"linecolor\":\"white\",\"ticks\":\"\"}},\"coloraxis\":{\"colorbar\":{\"outlinewidth\":0,\"ticks\":\"\"}},\"colorscale\":{\"sequential\":[[0.0,\"#0d0887\"],[0.1111111111111111,\"#46039f\"],[0.2222222222222222,\"#7201a8\"],[0.3333333333333333,\"#9c179e\"],[0.4444444444444444,\"#bd3786\"],[0.5555555555555556,\"#d8576b\"],[0.6666666666666666,\"#ed7953\"],[0.7777777777777778,\"#fb9f3a\"],[0.8888888888888888,\"#fdca26\"],[1.0,\"#f0f921\"]],\"sequentialminus\":[[0.0,\"#0d0887\"],[0.1111111111111111,\"#46039f\"],[0.2222222222222222,\"#7201a8\"],[0.3333333333333333,\"#9c179e\"],[0.4444444444444444,\"#bd3786\"],[0.5555555555555556,\"#d8576b\"],[0.6666666666666666,\"#ed7953\"],[0.7777777777777778,\"#fb9f3a\"],[0.8888888888888888,\"#fdca26\"],[1.0,\"#f0f921\"]],\"diverging\":[[0,\"#8e0152\"],[0.1,\"#c51b7d\"],[0.2,\"#de77ae\"],[0.3,\"#f1b6da\"],[0.4,\"#fde0ef\"],[0.5,\"#f7f7f7\"],[0.6,\"#e6f5d0\"],[0.7,\"#b8e186\"],[0.8,\"#7fbc41\"],[0.9,\"#4d9221\"],[1,\"#276419\"]]},\"xaxis\":{\"gridcolor\":\"white\",\"linecolor\":\"white\",\"ticks\":\"\",\"title\":{\"standoff\":15},\"zerolinecolor\":\"white\",\"automargin\":true,\"zerolinewidth\":2},\"yaxis\":{\"gridcolor\":\"white\",\"linecolor\":\"white\",\"ticks\":\"\",\"title\":{\"standoff\":15},\"zerolinecolor\":\"white\",\"automargin\":true,\"zerolinewidth\":2},\"scene\":{\"xaxis\":{\"backgroundcolor\":\"#E5ECF6\",\"gridcolor\":\"white\",\"linecolor\":\"white\",\"showbackground\":true,\"ticks\":\"\",\"zerolinecolor\":\"white\",\"gridwidth\":2},\"yaxis\":{\"backgroundcolor\":\"#E5ECF6\",\"gridcolor\":\"white\",\"linecolor\":\"white\",\"showbackground\":true,\"ticks\":\"\",\"zerolinecolor\":\"white\",\"gridwidth\":2},\"zaxis\":{\"backgroundcolor\":\"#E5ECF6\",\"gridcolor\":\"white\",\"linecolor\":\"white\",\"showbackground\":true,\"ticks\":\"\",\"zerolinecolor\":\"white\",\"gridwidth\":2}},\"shapedefaults\":{\"line\":{\"color\":\"#2a3f5f\"}},\"annotationdefaults\":{\"arrowcolor\":\"#2a3f5f\",\"arrowhead\":0,\"arrowwidth\":1},\"geo\":{\"bgcolor\":\"white\",\"landcolor\":\"#E5ECF6\",\"subunitcolor\":\"white\",\"showland\":true,\"showlakes\":true,\"lakecolor\":\"white\"},\"title\":{\"x\":0.05},\"mapbox\":{\"style\":\"light\"}}},\"xaxis\":{\"anchor\":\"y\",\"domain\":[0.0,0.45]},\"yaxis\":{\"anchor\":\"x\",\"domain\":[0.625,1.0]},\"xaxis2\":{\"anchor\":\"y2\",\"domain\":[0.55,1.0]},\"yaxis2\":{\"anchor\":\"x2\",\"domain\":[0.625,1.0]},\"xaxis3\":{\"anchor\":\"y3\",\"domain\":[0.0,0.45]},\"yaxis3\":{\"anchor\":\"x3\",\"domain\":[0.0,0.375]},\"xaxis4\":{\"anchor\":\"y4\",\"domain\":[0.55,1.0]},\"yaxis4\":{\"anchor\":\"x4\",\"domain\":[0.0,0.375]},\"annotations\":[{\"font\":{\"size\":16},\"showarrow\":false,\"text\":\"Types of Robots vs Time\",\"x\":0.225,\"xanchor\":\"center\",\"xref\":\"paper\",\"y\":1.0,\"yanchor\":\"bottom\",\"yref\":\"paper\"},{\"font\":{\"size\":16},\"showarrow\":false,\"text\":\"Resources vs Time\",\"x\":0.775,\"xanchor\":\"center\",\"xref\":\"paper\",\"y\":1.0,\"yanchor\":\"bottom\",\"yref\":\"paper\"},{\"font\":{\"size\":16},\"showarrow\":false,\"text\":\"Tasks of Robots vs Time\",\"x\":0.225,\"xanchor\":\"center\",\"xref\":\"paper\",\"y\":0.375,\"yanchor\":\"bottom\",\"yref\":\"paper\"},{\"font\":{\"size\":16},\"showarrow\":false,\"text\":\"Build Quality vs Time\",\"x\":0.775,\"xanchor\":\"center\",\"xref\":\"paper\",\"y\":0.375,\"yanchor\":\"bottom\",\"yref\":\"paper\"}],\"hovermode\":\"x\",\"title\":{\"text\":\"HHE - Characteristics\"}},                        {\"responsive\": true}                    ).then(function(){\n",
       "                            \n",
       "var gd = document.getElementById('60013fd1-29a9-48ea-8e47-dbded104c34c');\n",
       "var x = new MutationObserver(function (mutations, observer) {{\n",
       "        var display = window.getComputedStyle(gd).display;\n",
       "        if (!display || display === 'none') {{\n",
       "            console.log([gd, 'removed!']);\n",
       "            Plotly.purge(gd);\n",
       "            observer.disconnect();\n",
       "        }}\n",
       "}});\n",
       "\n",
       "// Listen for the removal of the full notebook cells\n",
       "var notebookContainer = gd.closest('#notebook-container');\n",
       "if (notebookContainer) {{\n",
       "    x.observe(notebookContainer, {childList: true});\n",
       "}}\n",
       "\n",
       "// Listen for the clearing of the current output cell\n",
       "var outputEl = gd.closest('.output');\n",
       "if (outputEl) {{\n",
       "    x.observe(outputEl, {childList: true});\n",
       "}}\n",
       "\n",
       "                        })                };                });            </script>        </div>"
      ]
     },
     "metadata": {},
     "output_type": "display_data"
    }
   ],
   "source": [
    "if __name__ == \"__main__\":\n",
    "    main(\"CHO\",75) #2000\n",
    "    main(\"DHO\",75)\n",
    "    main(\"HHO\",75)\n",
    "    main(\"CHE\",75) #1500\n",
    "    main(\"DHE\",75)\n",
    "    main(\"HHE\",75)"
   ]
  },
  {
   "cell_type": "code",
   "execution_count": null,
   "id": "a82b21e9",
   "metadata": {},
   "outputs": [],
   "source": []
  },
  {
   "cell_type": "code",
   "execution_count": null,
   "id": "973e6087",
   "metadata": {},
   "outputs": [],
   "source": []
  }
 ],
 "metadata": {
  "kernelspec": {
   "display_name": "Python 3 (ipykernel)",
   "language": "python",
   "name": "python3"
  },
  "language_info": {
   "codemirror_mode": {
    "name": "ipython",
    "version": 3
   },
   "file_extension": ".py",
   "mimetype": "text/x-python",
   "name": "python",
   "nbconvert_exporter": "python",
   "pygments_lexer": "ipython3",
   "version": "3.9.14"
  }
 },
 "nbformat": 4,
 "nbformat_minor": 5
}
