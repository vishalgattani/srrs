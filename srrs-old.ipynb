{
 "cells": [
  {
   "cell_type": "markdown",
   "id": "b6b27e0b",
   "metadata": {},
   "source": [
    "# Self-Replicating Robot System Configurations\n",
    "\n",
    "|ID|Design Option|Characteristics|\n",
    "|-|-|-|\n",
    "|1|Centralized homogeneous (CHO)|One robot is responsible for both printing components and assembling them. Constructed robots are of the normal type and either gather resources or complete other objectives.|\n",
    "|2|Decentralized homogeneous (DHO)| All robots have the capability to print components, assemble them, and gather resources or complete other objectives.|\n",
    "|3|Hierarchical homogeneous (HHO)|There are a variable number of robots capable of printing components and assembling them. There are also a variable number of normal type robots.|\n",
    "|4|Centralized heterogeneous (CHE)|One robot is responsible for printing components, and another (distinct) robot is responsible for assembling them. Constructed robots are of the normal type and either gather resources or complete other objectives.|\n",
    "|5|Decentralized heterogeneous (DHE)|Robots have either the capability to print components or the capability to assemble them. All robots can gather resources or complete other objectives.|\n",
    "|6|Hierarchical heterogeneous (CHE)|There are a variable number of robots capable of printing components, a variable number capable of assembling them (distinct from the printing group), and a variable number of normal type robots. All robots can gather resources or complete other objectives.|\n",
    "\n"
   ]
  },
  {
   "cell_type": "markdown",
   "id": "93fcd801",
   "metadata": {},
   "source": [
    "# Libraries "
   ]
  },
  {
   "cell_type": "code",
   "execution_count": 1,
   "id": "9a2484fd",
   "metadata": {},
   "outputs": [
    {
     "name": "stdout",
     "output_type": "stream",
     "text": [
      "3.9.14\n"
     ]
    }
   ],
   "source": [
    "import platform\n",
    "print(platform.python_version())"
   ]
  },
  {
   "cell_type": "code",
   "execution_count": 2,
   "id": "c5caec0a",
   "metadata": {},
   "outputs": [],
   "source": [
    "import random\n",
    "import numpy as np\n",
    "import pandas as pd\n",
    "pd.set_option('display.max_columns', None)\n",
    "import matplotlib.pyplot as plt\n",
    "import sys\n",
    "from matplotlib.patches import Rectangle\n",
    "\n",
    "from _plotly_future_ import v4_subplots\n",
    "import plotly\n",
    "import plotly.io as pio\n",
    "import numpy as np\n",
    "import chart_studio\n",
    "import chart_studio.plotly as cspy\n",
    "import chart_studio.tools as tls\n",
    "\n",
    "from plotly.subplots import make_subplots\n",
    "import plotly.graph_objects as go\n",
    "\n",
    "\n",
    "import plotly.express as px\n",
    "\n",
    "username = 'vishalgattani' # your username\\n\",\n",
    "api_key = 'WSy2EFPTbxYYm3Rmcx53' # your api key - go to profile > settings > regenerate key\\n\",\n",
    "chart_studio.tools.set_credentials_file(username=username, api_key=api_key)\n"
   ]
  },
  {
   "cell_type": "markdown",
   "id": "9ca83a64",
   "metadata": {},
   "source": [
    "# Global Variables"
   ]
  },
  {
   "cell_type": "code",
   "execution_count": 3,
   "id": "19883ecb",
   "metadata": {},
   "outputs": [],
   "source": [
    "timesteps = 1500\n",
    "\n",
    "# set random number generator\n",
    "random.seed()\n",
    "\n",
    "# global variables\n",
    "rid = 1\n",
    "nid = 0\n",
    "aid = 0\n",
    "pid = 0\n",
    "decimalPlaces = 3\n",
    "\n",
    "# simulation parameters\n",
    "Num_Steps = 100\t\t\t\t#; % Number of iterations/time-steps that the simulation goes through.\n",
    "NonPr = 300.0 \t\t\t\t#; % The robot system=s starting quantity of nonprintable components.\n",
    "Printable = 100.0 \t\t\t#; % The robot system’s starting quantity of printable components.\n",
    "Materials = 50.0 \t\t\t#; % The robot system’s starting quantity of raw printing materials.\n",
    "Env_Materials = 500.0 \t\t#; % The environment’s quantity of collectable raw printing materials.\n",
    "BaseCost_NonPr = 1 \t\t\t#; % Base robot cost of nonprintable components.\n",
    "PrintCost_NonPr = 1 \t\t#; % Print capability cost of nonprintable components.\n",
    "AssembleCost_NonPr = 1 \t\t#; % Assemble capability cost of nonprintable components.\n",
    "BaseCost_Pr = 2 \t\t\t#; % Base robot cost of printable components.\n",
    "PrintCost_Pr = 2 \t\t\t#; % Print capability cost of printable components.\n",
    "AssembleCost_Pr = 2 \t\t#; % Assemble capability cost of printable components.\n",
    "BaseCost_Time = 2 \t\t\t#; % Base robot cost of build time (in time-steps).\n",
    "PrintCost_Time = 2 \t\t\t#; % Print capability cost of build time (in time-steps).\n",
    "AssembleCost_Time = 2 \t\t#; % Assemble capability cost of build time (in time-steps).\n",
    "Print_Efficiency = 1.0 \t\t#; % Factor that scales raw printing materials to printable components.\n",
    "Print_Amount = 1.0 \t\t\t#; % Amount of raw materials converted per print task.\n",
    "Collect_Amount = 1.0 \t\t#; % Raw printing materials per collecting robot per timestep.\n",
    "QualityThreshold = 0.5 \t\t#; % Robots with a quality below this are non-functional.\n",
    "Quality_incr_Chance = 5.0 \t#; % Chance that a new robot’s build quality will increase.\n",
    "Quality_incr_Lower = 0.01 \t#; % Lower bound for quality increase amount.\n",
    "Quality_incr_Upper = 0.05 \t#; % Upper bound for quality increase amount.\n",
    "Quality_decr_Chance = 50.0 \t#; % Chance that a new robot s build quality will decrease.\n",
    "Quality_decr_Lower = 0.01 \t#; % Lower bound for quality decrease amount.\n",
    "Quality_decr_Upper = 0.25 \t#; % Upper bound for quality decrease amount.\n",
    "RiskAmount_Collect = 1.0 \t#; % Risk chance for the collect task type.\n",
    "RiskAmount_Assemble = 0.1 \t#; % Risk chance for the assemble task type.\n",
    "RiskAmount_Print = 0.1 \t\t#; % Risk chance for the print task type.\n",
    "RiskQuality_Modifier = 5.0 \t#; % Multiplier for impact of quality defects on risk amount.\n",
    "RiskFactory_Modifier = 0.1 \t#; % Multiplier for impact of factory-made robots on risk amount\n",
    "\n",
    "# [replicator,normal,assembler,printer]\n",
    "cost_Pr = [6,2,4,4]\t\t\t#; % Total cost printable\n",
    "cost_NonPr = [3,1,2,2]\t\t#; % Total cost nonprintable\n",
    "\n",
    "timecost_base = 2\t\t\t#; % time cost basic\n",
    "timecost_print = 2\t\t\t#; % time cost print capability\n",
    "timecost_assemble = 2\t\t#; % time cost assemble capability\n",
    "\n",
    "timecost_normal = timecost_base\n",
    "timecost_replicator = timecost_base+timecost_assemble+timecost_print\n",
    "timecost_printer = timecost_base+timecost_print\n",
    "timecost_assembler = timecost_base+timecost_assemble\n",
    "\n",
    "timecost_repair_base = 1\n",
    "timecost_repair_normal = timecost_repair_base\n",
    "timecost_repair_replicator = timecost_repair_base\n",
    "timecost_repair_printer = timecost_repair_base\n",
    "timecost_repair_assembler = timecost_repair_base\n",
    "\n",
    "table_columns = [\"Time\",\"NonPr\",\"Printable\",\"Materials\",\"Env_Materials\",\n",
    "\t\t\"#Replicator\",\"#Normal\",\"#Assembler\",\"#Printer\",\n",
    "\t\t\"#Assembling\",\"#Printing\",\"#Collecting\",\"#Idle\",\n",
    "\t\t\"#In\",\"#Out\",\n",
    "\t\t\"Average Build Quality in-service\",\"Average Build Quality of System\",\n",
    "\t\t\"#WasteReplicator\",\"#WasteNormal\",\"#WasteAssembler\",\"#WastePrinter\",\n",
    "\t\t\"Environment Exhaust Time\", \"Printable Exhaust Time\", \n",
    "\t\t\"NonPr Exhaust Time\",\"Material Exhaust Time\",\"Average Risk\"]\n",
    "\n",
    "\n",
    "# table_columns = [\"Time\",\"NonPr\",\"Printable\",\"Materials\",\"Env_Materials\",\n",
    "# \t\t\"#Replicator\",\"#Normal\",\"#Assembler\",\"#Printer\",\n",
    "# \t\t\"#Assembling\",\"#Printing\",\"#Collecting\",\"#Idle\",\n",
    "# \t\t\"#In\",\"#Out\",\n",
    "# \t\t\"Average Build Quality in-service\",\"Average Build Quality of System\",\n",
    "# \t\t\"#WasteReplicator\",\"#WasteNormal\",\"#WasteAssembler\",\"#WastePrinter\",\n",
    "# \t\t\"Environment Exhaust Time\", \"Printable Exhaust Time\", \n",
    "# \t\t\"NonPr Exhaust Time\",\"Material Exhaust Time\"]\n",
    "\n",
    "\n",
    "def resetGlobal(t,r,n,a,p):\n",
    "    global rid,nid,aid,pid,Num_Steps,NonPr,Printable,Materials,Env_Materials\n",
    "    \n",
    "    # global variables\n",
    "    rid = r\n",
    "    nid = n\n",
    "    aid = a\n",
    "    pid = p\n",
    "\n",
    "    # simulation parameters\n",
    "    Num_Steps = 100\t\t\t\t#; % Number of iterations/time-steps that the simulation goes through.\n",
    "    NonPr = 300.0 \t\t\t\t#; % The robot system=s starting quantity of nonprintable components.\n",
    "    Printable = 100.0 \t\t\t#; % The robot system’s starting quantity of printable components.\n",
    "    Materials = 50.0 \t\t\t#; % The robot system’s starting quantity of raw printing materials.\n",
    "    Env_Materials = 500.0 \t\t#; % The environment’s quantity of collectable raw printing materials.\n",
    "    timesteps = t\n"
   ]
  },
  {
   "cell_type": "markdown",
   "id": "863feea1",
   "metadata": {},
   "source": [
    "# Object::Robot"
   ]
  },
  {
   "cell_type": "code",
   "execution_count": 34,
   "id": "68ea171c",
   "metadata": {},
   "outputs": [],
   "source": [
    "# robot object\n",
    "class Robot:\n",
    "    def __init__(self,type,build_qual,id):\n",
    "        self.type = type\n",
    "        self.current_task = \"idle\"\n",
    "        self.prev_task = \"idle\"\n",
    "        self.id = self.type[0]+str(id)\n",
    "        self.build_qual = round(build_qual,decimalPlaces)\n",
    "        self.factory_made = True\n",
    "        self.tasks_dur = 0\n",
    "        self.taskindex = 0\n",
    "        self.previouslyBuilt = \"\"\n",
    "        self.prevTaskDur = 0\n",
    "        self.curr_repair_task_dur = 0\n",
    "        self.prev_repair_task_dur = 0\n",
    "        self.factory = False\n",
    "        self.riskAmount = 0\n",
    "        self.riskSet = False\n",
    "        self.numTasksPerformed = 0\n",
    "        self.numTasksFailed = 0\n",
    "\n",
    "        if(self.type == \"Replicator\"):\n",
    "            self.tasks = [\"Assemble\",\"Print\",\"Collect\",\"Repair\"]\n",
    "            self.beingbuiltlist = []\n",
    "        if(self.type == \"Normal\"):\n",
    "            self.tasks = [\"Collect\",\"Repairing\"]\n",
    "        if(self.type == \"Assembler\"):\n",
    "            self.tasks = [\"Assemble\",\"Collect\",\"Repair\"]\n",
    "            self.beingbuiltlist = []\n",
    "        if(self.type == \"Printer\"):\n",
    "            self.tasks = [\"Print\",\"Collect\",\"Repair\"]\n",
    "        self.num_tasks = len(self.tasks)\n",
    "    \n",
    "    def taskFail(self):\n",
    "        self.numTasksFailed += 1\n",
    "    \n",
    "    def taskSuccess(self):\n",
    "        self.numTasksPerformed += 1\n",
    "        \n",
    "    def gettaskFail(self):\n",
    "        return self.numTasksFailed\n",
    "    \n",
    "    def gettaskSuccess(self):\n",
    "        return self.numTasksPerformed\n",
    "    \n",
    "    def get_type(self):\n",
    "        return self.type\n",
    "\n",
    "    def __str__(self):\n",
    "        return str(self.id)+\" \"+str(self.current_task)+\" \"+str(self.riskAmount)+\",F:\"+str(self.numTasksFailed)+\",P:\"+str(self.numTasksPerformed)\n",
    "\n",
    "    def set_curr_task(self,tasktype):\n",
    "        self.current_task = tasktype\n",
    "        if(self.current_task == \"idle\"):\n",
    "            self.tasks_dur = 0\n",
    "        if(self.current_task == \"collecting\"):\n",
    "            self.tasks_dur = 1\n",
    "        if(self.current_task == \"assembling\"):\n",
    "            self.tasks_dur = 2\n",
    "        if(self.current_task == \"printing\"):\n",
    "            self.tasks_dur = 2\n",
    "        if(self.current_task == \"repair\"):\n",
    "            if(self.prev_task == \"repair\"):\n",
    "                self.curr_repair_task_dur = self.get_task_dur()\n",
    "                self.prev_repair_task_dur = self.curr_repair_task_dur\n",
    "                self.tasks_dur = self.get_prev_task_dur() + 1\n",
    "            else:\n",
    "                self.tasks_dur = self.get_prev_task_dur() \n",
    "            self.curr_repair_task_dur = self.tasks_dur\n",
    "        \n",
    "    def setFactory(self):\n",
    "        self.factory = True\n",
    "\n",
    "    # methods of robot object\n",
    "    def set_prev_task(self,tasktype):\n",
    "        self.prev_task = tasktype\n",
    "    def set_task_dur(self,task_dur):\n",
    "        self.tasks_dur = task_dur\n",
    "    def get_task_dur(self):\n",
    "        return self.tasks_dur\n",
    "    def get_robot_id(self):\n",
    "        return self.id\n",
    "    def get_buid_qual(self):\n",
    "        return self.build_qual\n",
    "    def get_curr_task(self):\n",
    "        return self.current_task\n",
    "    def get_prev_task(self):\n",
    "        return self.prev_task\n",
    "    def get_task_dur(self):\n",
    "        return self.tasks_dur\n",
    "    def get_prev_task_dur(self):\n",
    "        if(self.prev_task == \"idle\"):\n",
    "            return 0\n",
    "        if(self.prev_task == \"collecting\"):\n",
    "            return 1\n",
    "        if(self.prev_task == \"assembling\"):\n",
    "            return 2\n",
    "        if(self.prev_task == \"printing\"):\n",
    "            return 2\n",
    "        if(self.prev_task == \"repair\"):\n",
    "#             return self.prev_repair_task_dur \n",
    "            return 2\n",
    "\n",
    "    def set_previously_built(self, val):\n",
    "        self.previouslyBuilt = val\n",
    "\n",
    "    def get_previously_built(self):\n",
    "        return self.previouslyBuilt\n",
    "    \n",
    "    def setRiskAmount(self,risk):\n",
    "        self.riskAmount = risk\n",
    "        if risk>0.0:\n",
    "            self.riskSet = True\n",
    "        else:\n",
    "            self.riskSet = False\n",
    "    def getRiskAmount(self):\n",
    "        return self.riskAmount\n",
    "    def getRisk(self):\n",
    "        return self.riskSet\n"
   ]
  },
  {
   "cell_type": "markdown",
   "id": "62047ab7",
   "metadata": {},
   "source": [
    "# Function::Configuration Handler"
   ]
  },
  {
   "cell_type": "code",
   "execution_count": 35,
   "id": "5a35cb86",
   "metadata": {},
   "outputs": [],
   "source": [
    "def configHandler(t,totlist,robotlist,useless,checkENV,checkPrint,checkNonPr,checkMat):\n",
    "        n_replicator = 0\n",
    "        n_normal = 0\n",
    "        n_assembler = 0\n",
    "        n_printer = 0\n",
    "\n",
    "        c_flag = 0\n",
    "        p_flag = 0\n",
    "        a_flag = 0\n",
    "        i_flag = 0\n",
    "\n",
    "        useless_c_flag = 0\n",
    "        useless_p_flag = 0\n",
    "        useless_a_flag = 0\n",
    "        useless_r_flag = 0\n",
    "\n",
    "        tot_build_qual_inservice = 0\n",
    "        tot_build_qual_inoutservice = 0\n",
    "\n",
    "        build_quality_list = []\n",
    "\n",
    "\n",
    "        for i in totlist:\n",
    "#             print(i.get_buid_qual())\n",
    "            if(i.get_buid_qual()>=0.5):\n",
    "                tot_build_qual_inoutservice = tot_build_qual_inoutservice + i.get_buid_qual()\n",
    "                tot_build_qual_inservice = tot_build_qual_inservice + i.get_buid_qual()\n",
    "            else:\n",
    "                tot_build_qual_inoutservice = tot_build_qual_inoutservice + i.get_buid_qual()\n",
    "            build_quality_list.append(i.get_buid_qual())\n",
    "        \n",
    "        avg_risk = 0\n",
    "        for i in robotlist:\n",
    "            if i.get_curr_task()==\"collecting\":\n",
    "                c_flag+=1\n",
    "            elif i.get_curr_task()==\"printing\":\n",
    "                p_flag+=1\n",
    "            elif i.get_curr_task()==\"assembling\":\n",
    "                a_flag+=1\n",
    "            elif i.get_curr_task()==\"idle\":\n",
    "                # print(i)\n",
    "                i_flag+=1\n",
    "\n",
    "            if(checkType(i,\"Replicator\")):\n",
    "                n_replicator += 1;\n",
    "            elif(checkType(i, \"Normal\")):\n",
    "                n_normal += 1;\n",
    "            elif(checkType(i, \"Assembler\")):\n",
    "                n_assembler += 1;\n",
    "            elif(checkType(i, \"Printer\")):\n",
    "                n_printer += 1;\n",
    "#             print(i,i.factory)\n",
    "                \n",
    "            avg_risk += i.getRisk()\n",
    "        avg_risk = avg_risk/len(robotlist)\n",
    "        \n",
    "        for i in useless:\n",
    "            if(checkType(i,\"Replicator\")):\n",
    "                useless_r_flag += 1;\n",
    "            elif(checkType(i, \"Normal\")):\n",
    "                useless_c_flag += 1;\n",
    "            elif(checkType(i, \"Assembler\")):\n",
    "                useless_a_flag += 1;\n",
    "            elif(checkType(i, \"Printer\")):\n",
    "                useless_p_flag += 1;\n",
    "\n",
    "\n",
    "\n",
    "        avg_build_qual_inservice = round(tot_build_qual_inservice/len(robotlist),decimalPlaces)\n",
    "        avg_build_qual_inoutservice = round(tot_build_qual_inoutservice/len(totlist),decimalPlaces)\n",
    "        \n",
    "        neatPrint = False\n",
    "        if neatPrint:\n",
    "            print(\"=\"*50)\n",
    "            print(t,\":\\t\\t\",len(robotlist),[NonPr,Printable,Materials,Env_Materials])\t\t\t\n",
    "            print(\"Time\\t\\t\",t)\n",
    "            print(\"#Replicator:\\t\",n_replicator)\n",
    "            print(\"#Normal:\\t\",n_normal)\n",
    "            print(\"#Assembling:\\t\",n_assembler)\n",
    "            print(\"#Printing:\\t\",n_printer)\n",
    "            print(\"#Robots\\t\\t\",len(robotlist))\n",
    "            print(\"Materials\\t\",[NonPr,Printable,Materials,Env_Materials])\n",
    "            print(\"#Assembling:\\t\",a_flag)\n",
    "            print(\"#Printing:\\t\",p_flag)\n",
    "            print(\"#Collecting:\\t\",c_flag)\n",
    "            print(\"#Idle:\\t\\t\",i_flag)\n",
    "            \n",
    "        \n",
    "            \n",
    "        ids=[]\n",
    "        for j in totlist:\n",
    "            isWaste = False\n",
    "            if j.build_qual<=QualityThreshold:\n",
    "                isWaste = True\n",
    "            ids.append(j.id)\n",
    "\n",
    "        if (Env_Materials == 0 and checkENV == 0):\n",
    "            checkENV = t\n",
    "        if (Printable == 0 and checkPrint == 0):\n",
    "            checkPrint = t\n",
    "        if (NonPr == 0 and checkNonPr == 0):\n",
    "            checkNonPr = t\n",
    "        if (Materials <= 1 and checkMat == 0):\n",
    "            checkMat = t\n",
    "            \n",
    "# \t\t\"#Replicator\",\"#Normal\",\"#Assembler\",\"#Printer\",\n",
    "# \t\t\"#Assembling\",\"#Printing\",\"#Collecting\",\"#Idle\",\n",
    "# \t\t\"#In\",\"#Out\",\n",
    "# \t\t\"Average Build Quality in-service\",\"Average Build Quality of System\",\n",
    "# \t\t\"#WasteReplicator\",\"#WasteNormal\",\"#WasteAssembler\",\"#WastePrinter\",\n",
    "# \t\t\"Environment Exhaust Time\", \"Printable Exhaust Time\", \n",
    "# \t\t\"NonPr Exhaust Time\",\"Material Exhaust Time\",\"Average Risk of tasks being performed\"]\n",
    "\n",
    "        \n",
    "        return build_quality_list,[n_replicator,n_normal,n_assembler,n_printer,\n",
    "        a_flag,p_flag,c_flag,i_flag,\n",
    "        len(robotlist),len(useless),\n",
    "        avg_build_qual_inservice,avg_build_qual_inoutservice,\n",
    "        useless_r_flag,useless_c_flag,useless_a_flag,useless_p_flag,\n",
    "        checkENV,checkPrint,checkNonPr,checkMat,avg_risk]"
   ]
  },
  {
   "cell_type": "markdown",
   "id": "a233925d",
   "metadata": {},
   "source": [
    "# Functions::Tasks"
   ]
  },
  {
   "cell_type": "code",
   "execution_count": 46,
   "id": "3a2cb904",
   "metadata": {},
   "outputs": [],
   "source": [
    "# print current resources\n",
    "def printResources():\n",
    "    print(NonPr,Printable,Materials,Env_Materials)\n",
    "\n",
    "# check if robot can collect from Env_Materials\n",
    "def collectCheck(robot):\n",
    "    global Materials, Env_Materials, Collect_Amount\n",
    "    if (Env_Materials - Collect_Amount >= 0):\n",
    "        robot.setRiskAmount(taskRisk(robot))\n",
    "        return True\n",
    "    else:\n",
    "        robot.setRiskAmount(0)\n",
    "        return False\n",
    "\n",
    "# task function - collecting\n",
    "def collecting(robot):\n",
    "    global Materials, Env_Materials, Collect_Amount\n",
    "    \n",
    "    robot.set_prev_task(robot.get_curr_task())\n",
    "    robot.set_curr_task(\"collecting\")\n",
    "    robot.set_task_dur(1)\n",
    "    flag = 1\n",
    "    if robot.getRisk() == False:\n",
    "        robot.setRiskAmount(taskRisk(robot))\n",
    "    elif robot.getRiskAmount() > 2:\n",
    "        robot.taskFail()\n",
    "        flag = 0\n",
    "        pass\n",
    "    if flag:\n",
    "        Materials = Materials + Collect_Amount\n",
    "        Env_Materials = Env_Materials - Collect_Amount\n",
    "        robot.taskSuccess()\n",
    "    \n",
    "\n",
    "# build robot task - assembler and replicator\n",
    "# assemble task\n",
    "\n",
    "def assembleCheck(robot,tobuild):\n",
    "    # global rid,nid,aid,pid,Printable,NonPr,Quality_incr_Chance,Quality_incr_Lower, Quality_incr_Upper\n",
    "    \n",
    "    if(tobuild == \"Replicator\"):\n",
    "        i=0\n",
    "        # rid = rid+1\n",
    "        # robotid = rid\n",
    "    if(tobuild == \"Normal\"):\n",
    "        i=1\n",
    "        # nid = nid+1\n",
    "        # robotid = nid\n",
    "    if(tobuild == \"Assembler\"):\n",
    "        i=2\n",
    "        # aid = aid+1\n",
    "        # robotid = aid\n",
    "    if(tobuild == \"Printer\"):\n",
    "        i=3\n",
    "        # pid = pid+1\n",
    "        # robotid = pid\n",
    "\n",
    "    if Printable - cost_Pr[i] >= 0 and NonPr - cost_NonPr[i] >= 0:\n",
    "        if(robot.getRisk() == False):\n",
    "            robot.setRiskAmount(taskRisk(robot))\n",
    "        return True\n",
    "    else:\n",
    "        robot.setRiskAmount(0)\n",
    "        return False\n",
    "\n",
    "\n",
    "def assembling(robot,tobuild):\n",
    "    global rid,nid,aid,pid,Printable,NonPr,Quality_incr_Chance,Quality_incr_Lower, Quality_incr_Upper \n",
    "    \n",
    "    if(tobuild == \"Replicator\"):\n",
    "        i=0\n",
    "        taskDur = timecost_replicator\n",
    "    if(tobuild == \"Normal\"):\n",
    "        i=1\n",
    "        taskDur = timecost_normal\n",
    "    if(tobuild == \"Assembler\"):\n",
    "        i=2\n",
    "        taskDur = timecost_assembler\n",
    "    if(tobuild == \"Printer\"):\n",
    "        i=3\n",
    "        taskDur = timecost_printer\n",
    "\n",
    "    robot.set_prev_task(robot.get_curr_task())\n",
    "    robot.set_curr_task(\"assembling\")\n",
    "    robot.set_task_dur(taskDur)\n",
    "    \n",
    "    if robot.getRisk() == True and robot.get_prev_task()==\"assembling\":\n",
    "        robot.setRiskAmount(taskRisk(robot))\n",
    "    if robot.getRiskAmount() > 2:\n",
    "        robot.taskFail()\n",
    "        pass\n",
    "    if(robot.getRisk() == True and robot.get_task_dur() - 1 == 0):\n",
    "        robot.setRiskAmount(0)\n",
    "        \n",
    "    \n",
    "    \n",
    "    if(robot.type==\"Assembler\" or robot.type==\"Replicator\"):\n",
    "        if(tobuild == \"Replicator\"):\n",
    "            i=0\n",
    "            rid = rid+1\n",
    "            robotid = rid\n",
    "        if(tobuild == \"Normal\"):\n",
    "            i=1\n",
    "            nid = nid+1\n",
    "            robotid = nid\n",
    "        if(tobuild == \"Assembler\"):\n",
    "            i=2\n",
    "            aid = aid+1\n",
    "            robotid = aid\n",
    "        if(tobuild == \"Printer\"):\n",
    "            i=3\n",
    "            pid = pid+1\n",
    "            robotid = pid\n",
    "\n",
    "        # subtract resources\n",
    "        Printable = Printable - cost_Pr[i]\n",
    "        NonPr = NonPr - cost_NonPr[i]\n",
    "\n",
    "        robot.beingbuiltlist.append(tobuild[0]+str(robotid))\n",
    "        return True\n",
    "    else:\n",
    "        robot.set_prev_task(robot.get_curr_task())\n",
    "        robot.set_curr_task(\"idle\")\n",
    "        robot.set_task_dur(0)\n",
    "        robot.setRiskAmount(0)\n",
    "        return False\n",
    "\n",
    "def assemble(builder,tobuild):\n",
    "    global rid,nid,aid,pid,Printable,NonPr,Quality_incr_Chance,Quality_incr_Lower, Quality_incr_Upper\n",
    "\n",
    "    if(builder.type==\"Assembler\" or builder.type==\"Replicator\"):\n",
    "        if(tobuild == \"Replicator\"):\n",
    "            i=0\n",
    "\n",
    "        if(tobuild == \"Normal\"):\n",
    "            i=1\n",
    "\n",
    "        if(tobuild == \"Assembler\"):\n",
    "            i=2\n",
    "\n",
    "        if(tobuild == \"Printer\"):\n",
    "            i=3\n",
    "\n",
    "        AssemblerQuality = builder.get_buid_qual()\n",
    "        # robot's build quality\t\t\n",
    "        rand = round(random.uniform(0,1),decimalPlaces)\n",
    "        if rand > round((1.0 - Quality_incr_Chance/100),decimalPlaces):\n",
    "            RobotQuality = AssemblerQuality + random.uniform(Quality_incr_Lower, Quality_incr_Upper)\n",
    "        elif rand < Quality_decr_Chance :\n",
    "            RobotQuality = AssemblerQuality - random.uniform(Quality_decr_Lower, Quality_decr_Upper)\n",
    "        else :\n",
    "            RobotQuality = AssemblerQuality\n",
    "        # print(builder,builder.beingbuiltlist)\n",
    "        newRobot = Robot(tobuild,RobotQuality,builder.beingbuiltlist.pop(0)[1:])\n",
    "        builder.taskSuccess()\n",
    "        return newRobot\n",
    "    else:\n",
    "        return None\n",
    "\n",
    "\n",
    "def printCheck(robot):\n",
    "    if(robot.type==\"Replicator\" or robot.type==\"Printer\"):\n",
    "        global Print_Efficiency, Print_Amount, Materials, Printable\n",
    "        if Materials - (Print_Efficiency*Print_Amount) > 0:\n",
    "#             if(robot.getRisk() == False):\n",
    "#                 robot.setRiskAmount(taskRisk(robot))\n",
    "            return True\n",
    "        else:\n",
    "            return False\n",
    "    else:\n",
    "        return False\n",
    "\n",
    "def printing(robot):\n",
    "    global Print_Efficiency, Print_Amount, Materials, Printable\n",
    "    robot.set_prev_task(robot.get_curr_task())\n",
    "    robot.set_curr_task(\"printing\")\n",
    "    robot.set_task_dur(PrintCost_Time)\n",
    "    \n",
    "    if robot.getRisk() == False:\n",
    "        robot.setRiskAmount(taskRisk(robot))\n",
    "    if robot.getRiskAmount() > 2:\n",
    "        robot.taskFail()\n",
    "        pass\n",
    "    if(robot.getRisk() == True and robot.get_task_dur() - 1 == 0):\n",
    "        robot.taskSuccess()\n",
    "        robot.setRiskAmount(0)\n",
    "\n",
    "    \n",
    "    Materials = Materials - (Print_Efficiency*Print_Amount)\n",
    "    Printable = Printable + (Print_Efficiency*Print_Amount)\n",
    "\n",
    "\n",
    "def resetTasks(robot):\n",
    "    robot.set_prev_task(robot.get_curr_task())\n",
    "    robot.set_task_dur(0)\n",
    "    robot.set_curr_task(\"idle\")\n",
    "\n",
    "def checkCurrentTask(robot,current_task):\n",
    "    return robot.get_curr_task() == current_task\n",
    "def checkPreviousTask(robot,previous_task):\n",
    "    return robot.get_prev_task() == previous_task\n",
    "\n",
    "def checkType(robot,robot_type):\n",
    "    return robot.get_type() == robot_type\n",
    "\n"
   ]
  },
  {
   "cell_type": "markdown",
   "id": "680ad25e",
   "metadata": {},
   "source": [
    "# Task Risk\n",
    "\n",
    "RiskTask = RiskTask_Type + (1.0 − RobotQuality) ∗ RiskTask_Type ∗ RiskQuality_Modifier\n",
    "\n",
    "if Robot ∈ FactoryMade : RiskTask = RiskTask ∗ RiskFactory_Modifier"
   ]
  },
  {
   "cell_type": "code",
   "execution_count": 47,
   "id": "e3c9b235",
   "metadata": {},
   "outputs": [],
   "source": [
    "def taskRisk(robot):\n",
    "    rand = round(random.uniform(0,1),decimalPlaces)\n",
    "    if robot.factory == True:\n",
    "        currTask = robot.get_curr_task()\n",
    "        if(currTask == \"idle\"):\n",
    "            RiskTask_Type = 0\n",
    "        elif(currTask == \"collecting\"):\n",
    "            RiskTask_Type = 1\n",
    "        elif(currTask == \"assembling\"):\n",
    "            RiskTask_Type = 2\n",
    "        elif(currTask == \"printing\"):\n",
    "            RiskTask_Type = 2\n",
    "        elif(currTask == \"repair\"):\n",
    "            RiskTask_Type = 0\n",
    "        riskTask = RiskTask_Type * rand * RiskFactory_Modifier\n",
    "    else:\n",
    "        currTask = robot.get_curr_task()\n",
    "        if(currTask == \"idle\"):\n",
    "            RiskTask_Type = 0            \n",
    "        elif(currTask == \"collecting\"):\n",
    "            RiskTask_Type = 1\n",
    "        elif(currTask == \"assembling\"):\n",
    "            RiskTask_Type = 2\n",
    "        elif(currTask == \"printing\"):\n",
    "            RiskTask_Type = 2\n",
    "        elif(currTask == \"repair\"):\n",
    "            RiskTask_Type = 0\n",
    "        \n",
    "#         riskTask = RiskTask_Type + (1.0 - robot.get_buid_qual()) * RiskTask_Type * RiskQuality_Modifier\n",
    "        riskTask = RiskTask_Type + (1.0 - robot.get_buid_qual()) * rand * RiskQuality_Modifier\n",
    "    \n",
    "    return riskTask"
   ]
  },
  {
   "cell_type": "code",
   "execution_count": 50,
   "id": "5bae2bdb",
   "metadata": {},
   "outputs": [],
   "source": [
    "def CHO(timesteps,df,init_build_qual):\n",
    "    resetGlobal(timesteps,1,0,0,0)\n",
    "    robot = Robot(\"Replicator\",init_build_qual,rid)\n",
    "    robot.setFactory()\n",
    "    totlist = [robot]\n",
    "    robotlist = [robot]\n",
    "    useless = []\n",
    "\n",
    "    # number of bots working\n",
    "    listnumCollecting = []\n",
    "    listnumPrinting = []\n",
    "    listnumAssembling = []\n",
    "\n",
    "    # use lists\n",
    "    tcoordslist = []\n",
    "    rcoordslist = []\n",
    "    wastecoordslist = []\n",
    "    t_build_quality_list = []\n",
    "    \n",
    "    #Lists used for visualization\n",
    "    checkENV = 0\n",
    "    checkPrint = 0\n",
    "    checkNonPr = 0\n",
    "    checkMat = 0\n",
    "\n",
    "    for t in range(0,timesteps):\n",
    "        print(t,\"=\"*20)\n",
    "        for i in range(len(robotlist)):\n",
    "            # assign risks for tasks\n",
    "            \n",
    "            print(robotlist[i])\n",
    "            \n",
    "            # IDLE\n",
    "            \n",
    "            if(robotlist[i].current_task==\"idle\"):\n",
    "                \n",
    "                # Replicator\n",
    "                if(robotlist[i].type == \"Replicator\"):\n",
    "                    if(assembleCheck(robotlist[i],\"Normal\")):\n",
    "                        isAssembling = assembling(robotlist[i],\"Normal\")\n",
    "                    elif(printCheck(robotlist[i])):\n",
    "                        isPrinting = printing(robotlist[i])\t\n",
    "                    else:\n",
    "                        robotlist[i].set_prev_task(robotlist[i].get_curr_task())\n",
    "                        robotlist[i].set_task_dur(0)\n",
    "                        robotlist[i].set_curr_task(\"idle\")\n",
    "\n",
    "                # Normal\n",
    "                elif(robotlist[i].type == \"Normal\"):\n",
    "\n",
    "                    # print(t,robotlist[i].id,canCollect)\n",
    "                    if (collectCheck(robotlist[i])):\n",
    "                        collecting(robotlist[i])\n",
    "                    else:\n",
    "                        robotlist[i].set_prev_task(robotlist[i].get_curr_task())\n",
    "                        robotlist[i].set_task_dur(0)\n",
    "                        robotlist[i].set_curr_task(\"idle\")\n",
    "                        \n",
    "            elif(robotlist[i].current_task==\"repair\"):\n",
    "                pass\n",
    "\n",
    "            # NOT IDLE\n",
    "            else:\n",
    "            \n",
    "                \n",
    "                # reduce task duration every time step\n",
    "                if(robotlist[i].tasks_dur - 1 != 0):\n",
    "                    robotlist[i].set_task_dur(robotlist[i].tasks_dur - 1)\n",
    "\n",
    "                # Replicator \n",
    "                elif(robotlist[i].tasks_dur - 1 == 0 and robotlist[i].type == \"Replicator\"):\n",
    "                    \n",
    "                    # check if it can keep assembling next time step\n",
    "                    if(assembleCheck(robotlist[i],\"Normal\")):\n",
    "                        assembling(robotlist[i],\"Normal\")\n",
    "                    elif(printCheck(robotlist[i])):\n",
    "                        printing(robotlist[i])\n",
    "                    else:\n",
    "                        isAssembling = False\n",
    "                        robotlist[i].set_prev_task(robotlist[i].get_curr_task())\n",
    "                        robotlist[i].set_task_dur(0)\n",
    "                        robotlist[i].set_curr_task(\"idle\")\n",
    "\n",
    "                    # it enters this loop only when it has to pop a new robot\n",
    "                    if(robotlist[i].get_prev_task()==\"assembling\"):\n",
    "\n",
    "                        newbot = assemble(robotlist[i],\"Normal\")\n",
    "\n",
    "                        if newbot and newbot.build_qual>=0.5:\n",
    "                            if(newbot.type == \"Normal\"):\n",
    "                                canCollect = collectCheck(newbot)\n",
    "                                if canCollect:\n",
    "                                    collecting(newbot)\n",
    "                            totlist.append(newbot)\n",
    "                            robotlist.append(newbot)\n",
    "                        else:\n",
    "                            totlist.append(newbot)\n",
    "                            useless.append(newbot)\n",
    "                        robotlist[i].set_prev_task(robotlist[i].current_task)\n",
    "\n",
    "                # Normal\n",
    "                elif(robotlist[i].type == \"Normal\"):\n",
    "                    canCollect = collectCheck(robotlist[i])\n",
    "                    if(canCollect):\n",
    "                        collecting(robotlist[i])\n",
    "                    else:\n",
    "                        robotlist[i].set_prev_task(robotlist[i].get_curr_task())\n",
    "                        robotlist[i].set_task_dur(0)\n",
    "                        robotlist[i].set_curr_task(\"idle\")\n",
    "                        \n",
    "            \n",
    "        #after simulation record\n",
    "        build_quality_list,vals = configHandler(t,totlist,robotlist,useless,checkENV,checkPrint,checkNonPr,checkMat)\n",
    "        df.loc[len(df)] = [t,NonPr,Printable,Materials,Env_Materials]+vals\n",
    "        tcoordslist.append(t)\n",
    "        rcoordslist.append(len(robotlist)) \n",
    "        wastecoordslist.append(len(useless))\n",
    "        t_build_quality_list.append(build_quality_list)\n",
    "        \n",
    "    df[\"Print Capacity\"] = df[[\"#Printer\", \"#Replicator\"]].sum(axis=1)\n",
    "    df[\"Assembling Capacity\"] = df[[\"#Assembler\", \"#Replicator\"]].sum(axis=1)\n",
    "    df[\"Collection Capacity\"] = df[[\"#Printer\", \"#Replicator\", \"#Assembler\", \"#Normal\"]].sum(axis=1)\n",
    "    return df"
   ]
  },
  {
   "cell_type": "markdown",
   "id": "d375486c",
   "metadata": {},
   "source": [
    "# Testing"
   ]
  },
  {
   "cell_type": "code",
   "execution_count": 51,
   "id": "81cd2b90",
   "metadata": {
    "scrolled": true
   },
   "outputs": [
    {
     "name": "stdout",
     "output_type": "stream",
     "text": [
      "0 ====================\n",
      "R1 idle 0,F:0,P:0\n",
      "1 ====================\n",
      "R1 assembling 0.0,F:0,P:0\n",
      "2 ====================\n",
      "R1 assembling 0.0,F:0,P:0\n",
      "3 ====================\n",
      "R1 assembling 0.137,F:0,P:1\n",
      "N1 collecting 0.72822,F:0,P:1\n",
      "4 ====================\n",
      "R1 assembling 0.137,F:0,P:1\n",
      "N1 collecting 1.18091,F:0,P:2\n",
      "5 ====================\n",
      "R1 assembling 0.0046,F:0,P:2\n",
      "N1 collecting 1.4499849999999999,F:0,P:3\n",
      "N2 collecting 0.8086800000000003,F:0,P:1\n",
      "6 ====================\n",
      "R1 assembling 0.0046,F:0,P:2\n",
      "N1 collecting 1.99844,F:0,P:4\n",
      "N2 collecting 1.55084,F:0,P:2\n",
      "7 ====================\n",
      "R1 assembling 0.071,F:0,P:3\n",
      "N1 collecting 1.72364,F:0,P:5\n",
      "N2 collecting 1.29886,F:0,P:3\n",
      "N3 collecting 0.7145999999999999,F:0,P:1\n",
      "8 ====================\n",
      "R1 assembling 0.071,F:0,P:3\n",
      "N1 collecting 1.73509,F:0,P:6\n",
      "N2 collecting 1.09962,F:0,P:4\n",
      "N3 collecting 1.0432,F:0,P:2\n",
      "9 ====================\n",
      "R1 assembling 0.012,F:0,P:4\n",
      "N1 collecting 1.57708,F:0,P:7\n",
      "N2 collecting 2.2950600000000003,F:1,P:4\n",
      "N3 collecting 1.603,F:0,P:3\n",
      "N4 collecting 0.74907,F:0,P:1\n",
      "10 ====================\n",
      "R1 assembling 0.012,F:0,P:4\n",
      "N1 collecting 2.0694299999999997,F:1,P:7\n",
      "N2 collecting 2.059195,F:2,P:4\n",
      "N3 collecting 1.0378,F:0,P:4\n",
      "N4 collecting 1.207495,F:0,P:2\n",
      "11 ====================\n",
      "R1 assembling 0.12480000000000001,F:0,P:5\n",
      "N1 collecting 1.88394,F:1,P:8\n",
      "N2 collecting 2.3990750000000003,F:3,P:4\n",
      "N3 collecting 2.2725999999999997,F:1,P:4\n",
      "N4 collecting 1.17748,F:0,P:3\n",
      "N5 collecting 0.22385000000000005,F:0,P:1\n",
      "12 ====================\n",
      "R1 assembling 0.12480000000000001,F:0,P:5\n",
      "N1 collecting 1.30686,F:1,P:9\n",
      "N2 collecting 2.434235,F:4,P:4\n",
      "N3 collecting 2.5696,F:2,P:4\n",
      "N4 collecting 2.2306150000000002,F:1,P:3\n",
      "N5 collecting 1.653975,F:0,P:2\n",
      "13 ====================\n",
      "R1 assembling 0.0002,F:0,P:6\n",
      "N1 collecting 1.040075,F:1,P:10\n",
      "N2 collecting 2.4356999999999998,F:5,P:4\n",
      "N3 collecting 2.6883999999999997,F:3,P:4\n",
      "N4 collecting 1.06786,F:1,P:4\n",
      "N5 collecting 1.6567500000000002,F:0,P:3\n",
      "N6 collecting 0.15475999999999995,F:0,P:1\n",
      "14 ====================\n",
      "R1 assembling 0.0002,F:0,P:6\n",
      "N1 collecting 1.79463,F:1,P:11\n",
      "N2 collecting 2.278945,F:6,P:4\n",
      "N3 collecting 2.7622,F:4,P:4\n",
      "N4 collecting 1.411075,F:1,P:5\n",
      "N5 collecting 1.718725,F:0,P:4\n",
      "N6 collecting 1.09646,F:0,P:2\n",
      "15 ====================\n",
      "R1 assembling 0.06,F:0,P:7\n",
      "N1 collecting 1.8713449999999998,F:1,P:12\n",
      "N2 collecting 1.602115,F:6,P:5\n",
      "N3 collecting 1.2591999999999999,F:4,P:5\n",
      "N4 collecting 2.037475,F:2,P:5\n",
      "N5 collecting 1.5929250000000001,F:0,P:5\n",
      "N6 collecting 1.8776799999999998,F:0,P:3\n",
      "N7 collecting 0.994175,F:0,P:1\n",
      "16 ====================\n",
      "R1 assembling 0.06,F:0,P:7\n",
      "N1 collecting 1.55647,F:1,P:13\n",
      "N2 collecting 1.6358100000000002,F:6,P:6\n",
      "N3 collecting 1.6263999999999998,F:4,P:6\n",
      "N4 collecting 2.27107,F:3,P:5\n",
      "N5 collecting 1.3320750000000001,F:0,P:6\n",
      "N6 collecting 1.69218,F:0,P:4\n",
      "N7 collecting 1.02964,F:0,P:2\n",
      "17 ====================\n",
      "R1 assembling 0.05580000000000001,F:0,P:8\n",
      "N1 collecting 1.942335,F:1,P:14\n",
      "N2 collecting 1.92002,F:6,P:7\n",
      "N3 collecting 1.7686,F:4,P:7\n",
      "N4 collecting 2.21104,F:4,P:5\n",
      "N5 collecting 1.18315,F:0,P:7\n",
      "N6 collecting 1.1802,F:0,P:5\n",
      "N7 collecting 1.16302,F:0,P:3\n",
      "N8 collecting 0.3486999999999999,F:0,P:1\n",
      "18 ====================\n",
      "R1 assembling 0.05580000000000001,F:0,P:8\n",
      "N1 collecting 2.015615,F:2,P:14\n",
      "N2 collecting 1.5288650000000001,F:6,P:8\n",
      "N3 collecting 2.3734,F:5,P:7\n",
      "N4 collecting 1.1305,F:4,P:6\n",
      "N5 collecting 1.3098750000000001,F:0,P:8\n",
      "N6 collecting 1.49078,F:0,P:6\n",
      "N7 collecting 1.979355,F:0,P:4\n",
      "N8 collecting 1.32968,F:0,P:2\n",
      "19 ====================\n",
      "R1 assembling 0.0698,F:0,P:9\n",
      "N1 collecting 1.594255,F:2,P:15\n",
      "N2 collecting 2.0313600000000003,F:7,P:8\n",
      "N3 collecting 1.8064,F:5,P:8\n",
      "N4 collecting 1.68121,F:4,P:7\n",
      "N5 collecting 1.03515,F:0,P:9\n",
      "N6 collecting 1.69006,F:0,P:7\n",
      "N7 collecting 1.344565,F:0,P:5\n",
      "N8 collecting 1.1648399999999999,F:0,P:3\n",
      "N9 collecting 0.7328,F:0,P:1\n",
      "20 ====================\n",
      "R1 assembling 0.0698,F:0,P:9\n",
      "N1 collecting 1.869055,F:2,P:16\n",
      "N2 collecting 2.3185000000000002,F:8,P:8\n",
      "N3 collecting 2.251,F:6,P:8\n",
      "N4 collecting 1.236205,F:4,P:8\n",
      "N5 collecting 1.6567500000000002,F:0,P:10\n",
      "N6 collecting 1.22472,F:0,P:8\n",
      "N7 collecting 1.391495,F:0,P:6\n",
      "N8 collecting 2.4106499999999995,F:1,P:3\n",
      "N9 collecting 1.81982,F:0,P:2\n",
      "21 ====================\n",
      "R1 assembling 0.08460000000000001,F:0,P:10\n",
      "N1 collecting 1.3389199999999999,F:2,P:17\n",
      "N2 collecting 2.041615,F:9,P:8\n",
      "N3 collecting 2.4706,F:7,P:8\n",
      "N4 collecting 1.961785,F:4,P:9\n",
      "N5 collecting 1.8306500000000003,F:0,P:11\n",
      "N6 collecting 1.6041999999999998,F:0,P:9\n",
      "N7 collecting 1.8645,F:0,P:7\n",
      "N8 collecting 1.88126,F:1,P:4\n",
      "N9 collecting 1.981265,F:0,P:3\n",
      "N10 collecting 1.4568050000000001,F:0,P:1\n",
      "22 ====================\n",
      "R1 assembling 0.08460000000000001,F:0,P:10\n",
      "N1 collecting 1.65265,F:2,P:18\n",
      "N2 collecting 2.0211050000000004,F:10,P:8\n",
      "N3 collecting 1.2538,F:7,P:9\n",
      "N4 collecting 1.434565,F:4,P:10\n",
      "N5 collecting 1.3015500000000002,F:0,P:12\n",
      "N6 collecting 1.21942,F:0,P:10\n",
      "N7 collecting 1.650845,F:0,P:8\n",
      "N8 collecting 2.244225,F:2,P:4\n",
      "N9 collecting 1.01145,F:0,P:4\n",
      "N10 collecting 1.36566,F:0,P:2\n",
      "23 ====================\n",
      "R1 assembling 0.19640000000000002,F:0,P:11\n",
      "N1 collecting 2.06485,F:3,P:18\n",
      "N2 collecting 2.0079200000000004,F:11,P:8\n",
      "N3 collecting 2.6937999999999995,F:8,P:9\n",
      "N4 collecting 2.21626,F:5,P:10\n",
      "N5 collecting 1.6919000000000002,F:0,P:13\n",
      "N6 collecting 1.16536,F:0,P:11\n",
      "N7 collecting 1.20007,F:0,P:9\n",
      "N8 collecting 1.1268,F:2,P:5\n",
      "N9 collecting 1.653795,F:0,P:5\n",
      "N10 collecting 2.75828,F:1,P:2\n",
      "N11 collecting 0.6314550000000001,F:0,P:1\n",
      "24 ====================\n",
      "R1 assembling 0.19640000000000002,F:0,P:11\n",
      "N1 collecting 1.49922,F:3,P:19\n",
      "N2 collecting 2.111935,F:12,P:8\n",
      "N3 collecting 1.5939999999999999,F:8,P:10\n",
      "N4 collecting 1.630315,F:5,P:11\n",
      "N5 collecting 1.21645,F:0,P:14\n",
      "N6 collecting 1.8691999999999998,F:0,P:12\n",
      "N7 collecting 1.129675,F:0,P:10\n",
      "N8 collecting 2.453445,F:3,P:5\n",
      "N9 collecting 2.029355,F:1,P:5\n",
      "N10 collecting 1.227565,F:1,P:3\n",
      "N11 collecting 2.2015000000000002,F:1,P:1\n",
      "25 ====================\n",
      "R1 assembling 0.048,F:0,P:12\n",
      "N1 collecting 2.10607,F:4,P:19\n",
      "N2 collecting 1.5947900000000002,F:12,P:9\n",
      "N3 collecting 2.359,F:9,P:10\n",
      "N4 collecting 1.9957150000000001,F:5,P:12\n",
      "N5 collecting 1.7871750000000002,F:0,P:15\n",
      "N6 collecting 1.8967599999999998,F:0,P:13\n",
      "N7 collecting 1.665665,F:0,P:11\n",
      "N8 collecting 1.9351499999999997,F:3,P:6\n",
      "N9 collecting 2.043095,F:2,P:5\n",
      "N10 collecting 1.84802,F:1,P:4\n",
      "N11 collecting 2.3256550000000002,F:2,P:1\n",
      "N12 collecting 0.6412400000000001,F:0,P:1\n",
      "26 ====================\n",
      "R1 assembling 0.048,F:0,P:12\n",
      "N1 collecting 1.54273,F:4,P:20\n",
      "N2 collecting 2.40347,F:13,P:9\n",
      "N3 collecting 2.251,F:10,P:10\n",
      "N4 collecting 2.2554100000000004,F:6,P:12\n",
      "N5 collecting 1.4329,F:0,P:16\n",
      "N6 collecting 1.0689,F:0,P:14\n",
      "N7 collecting 1.39026,F:0,P:12\n",
      "N8 collecting 2.371025,F:4,P:6\n",
      "N9 collecting 1.019465,F:2,P:6\n",
      "N10 collecting 1.320925,F:1,P:5\n",
      "N11 collecting 1.0534,F:2,P:2\n",
      "N12 collecting 1.3054400000000002,F:0,P:2\n",
      "27 ====================\n",
      "R1 assembling 0.16040000000000001,F:0,P:13\n",
      "N1 collecting 1.175185,F:4,P:21\n",
      "N2 collecting 1.3999450000000002,F:13,P:10\n",
      "N3 collecting 1.486,F:10,P:11\n",
      "N4 collecting 1.54027,F:6,P:13\n",
      "N5 collecting 1.1998,F:0,P:17\n",
      "N6 collecting 2.05046,F:1,P:14\n",
      "N7 collecting 1.317395,F:0,P:13\n",
      "N8 collecting 1.8257849999999998,F:4,P:7\n",
      "N9 collecting 1.8026449999999998,F:2,P:7\n",
      "N10 collecting 1.270355,F:1,P:6\n",
      "N11 collecting 1.324405,F:2,P:3\n",
      "N12 collecting 1.207,F:0,P:3\n",
      "N13 collecting 0.13366000000000003,F:0,P:1\n",
      "28 ====================\n",
      "R1 assembling 0.16040000000000001,F:0,P:13\n",
      "N1 collecting 1.19236,F:4,P:22\n",
      "N2 collecting 1.99913,F:13,P:11\n",
      "N3 collecting 1.6912,F:10,P:12\n",
      "N4 collecting 2.2006,F:7,P:13\n",
      "N5 collecting 1.6854250000000002,F:0,P:18\n",
      "N6 collecting 1.6837,F:1,P:15\n",
      "N7 collecting 2.137435,F:1,P:13\n",
      "N8 collecting 1.00634,F:4,P:8\n",
      "N9 collecting 1.18091,F:2,P:8\n",
      "N10 collecting 2.3187100000000003,F:2,P:6\n",
      "N11 collecting 2.03329,F:3,P:3\n",
      "N12 collecting 1.02944,F:0,P:4\n",
      "N13 collecting 1.05002,F:0,P:2\n",
      "29 ====================\n",
      "R1 assembling 0.196,F:0,P:14\n",
      "N1 collecting 1.033205,F:4,P:23\n",
      "N2 collecting 1.566955,F:13,P:12\n",
      "N3 collecting 2.5246,F:11,P:12\n",
      "N4 collecting 2.05444,F:8,P:13\n",
      "N5 collecting 1.1480000000000001,F:0,P:19\n",
      "N6 collecting 1.6306999999999998,F:1,P:16\n",
      "N7 collecting 1.524875,F:1,P:14\n",
      "N8 collecting 1.7703099999999998,F:4,P:9\n",
      "N9 collecting 1.958365,F:2,P:9\n",
      "N10 collecting 1.4570750000000001,F:2,P:7\n",
      "N11 collecting 2.290945,F:4,P:3\n",
      "N12 collecting 1.19964,F:0,P:5\n",
      "N13 collecting 1.01476,F:0,P:3\n",
      "N14 collecting 0.20015999999999992,F:0,P:1\n",
      "30 ====================\n",
      "R1 assembling 0.196,F:0,P:14\n",
      "N1 collecting 1.73738,F:4,P:24\n",
      "N2 collecting 2.1295150000000005,F:14,P:12\n",
      "N3 collecting 1.1854,F:11,P:13\n",
      "N4 collecting 1.04437,F:8,P:14\n",
      "N5 collecting 1.7936500000000002,F:0,P:20\n",
      "N6 collecting 1.62222,F:1,P:17\n",
      "N7 collecting 2.130025,F:2,P:14\n",
      "N8 collecting 1.67204,F:4,P:10\n",
      "N9 collecting 1.20839,F:2,P:10\n",
      "N10 collecting 2.021125,F:3,P:7\n",
      "N11 collecting 1.065415,F:4,P:4\n",
      "N12 collecting 1.21436,F:0,P:6\n",
      "N13 collecting 1.4108200000000002,F:0,P:4\n",
      "N14 collecting 1.15024,F:0,P:2\n",
      "31 ====================\n",
      "R1 assembling 0.1824,F:0,P:15\n",
      "N1 collecting 2.134695,F:5,P:24\n",
      "N2 collecting 2.2716200000000004,F:15,P:12\n",
      "N3 collecting 2.2582,F:12,P:13\n",
      "N4 collecting 2.03095,F:9,P:14\n",
      "N5 collecting 1.8806000000000003,F:0,P:21\n",
      "N6 collecting 2.01654,F:2,P:17\n",
      "N7 collecting 1.18772,F:2,P:15\n",
      "N8 collecting 2.3234749999999997,F:5,P:10\n",
      "N9 collecting 1.319455,F:2,P:11\n",
      "N10 collecting 1.87914,F:3,P:8\n",
      "N11 collecting 1.57138,F:4,P:5\n",
      "N12 collecting 1.4848400000000002,F:0,P:7\n",
      "N13 collecting 1.2271400000000001,F:0,P:5\n",
      "N14 collecting 1.03792,F:0,P:3\n",
      "N15 collecting 0.23664000000000002,F:0,P:1\n",
      "32 ====================\n",
      "R1 assembling 0.1824,F:0,P:15\n",
      "N1 collecting 2.061415,F:6,P:24\n",
      "N2 collecting 2.18372,F:16,P:12\n",
      "N3 collecting 1.8298,F:12,P:14\n",
      "N4 collecting 1.38106,F:9,P:15\n",
      "N5 collecting 1.6900500000000003,F:0,P:22\n",
      "N6 collecting 1.19186,F:2,P:18\n",
      "N7 collecting 1.16302,F:2,P:16\n",
      "N8 collecting 1.6355849999999998,F:5,P:11\n",
      "N9 collecting 1.63891,F:2,P:12\n",
      "N10 collecting 2.55211,F:4,P:8\n",
      "N11 collecting 1.716895,F:4,P:6\n",
      "N12 collecting 1.18032,F:0,P:8\n",
      "N13 collecting 1.7453800000000002,F:0,P:6\n",
      "N14 collecting 1.2784,F:0,P:4\n",
      "N15 collecting 1.3479999999999999,F:0,P:2\n",
      "33 ====================\n",
      "R1 assembling 0.0782,F:0,P:16\n",
      "N1 collecting 1.79005,F:6,P:25\n",
      "N2 collecting 1.50689,F:16,P:13\n",
      "N3 collecting 2.7640000000000002,F:13,P:14\n",
      "N4 collecting 1.074385,F:9,P:16\n",
      "N5 collecting 1.4255,F:0,P:23\n",
      "N6 collecting 1.6413,F:2,P:19\n",
      "N7 collecting 1.104975,F:2,P:17\n",
      "N8 collecting 1.2187299999999999,F:5,P:12\n",
      "N9 collecting 1.204955,F:2,P:13\n",
      "N10 collecting 1.573775,F:4,P:9\n",
      "N11 collecting 1.58473,F:4,P:7\n",
      "N12 collecting 1.2787600000000001,F:0,P:9\n",
      "N13 collecting 1.3271800000000002,F:0,P:7\n",
      "N14 collecting 1.00336,F:0,P:5\n",
      "N15 collecting 2.09098,F:1,P:2\n",
      "N16 collecting 0.22552500000000003,F:0,P:1\n",
      "34 ====================\n",
      "R1 assembling 0.0782,F:0,P:16\n",
      "N1 collecting 1.54273,F:6,P:26\n",
      "N2 collecting 2.20716,F:17,P:13\n",
      "N3 collecting 1.7686,F:13,P:15\n",
      "N4 collecting 1.63945,F:9,P:17\n",
      "N5 collecting 1.8223250000000002,F:0,P:24\n",
      "N6 collecting 1.2607599999999999,F:2,P:20\n",
      "N7 collecting 1.5545149999999999,F:2,P:18\n",
      "N8 collecting 2.10316,F:6,P:12\n",
      "N9 collecting 1.898825,F:2,P:14\n",
      "N10 collecting 2.5696149999999998,F:5,P:9\n",
      "N11 collecting 1.105465,F:4,P:8\n",
      "N12 collecting 1.2594400000000001,F:0,P:10\n",
      "N13 collecting 1.2747000000000002,F:0,P:8\n",
      "N14 collecting 1.10896,F:0,P:6\n",
      "N15 collecting 1.40542,F:1,P:3\n",
      "N16 collecting 1.724625,F:0,P:2\n",
      "35 ====================\n",
      "R1 assembling 0.1458,F:0,P:17\n",
      "N1 collecting 1.9320299999999997,F:6,P:27\n",
      "N2 collecting 2.00206,F:18,P:13\n",
      "N3 collecting 1.648,F:13,P:16\n",
      "N4 collecting 2.12752,F:10,P:17\n",
      "N5 collecting 1.2210750000000001,F:0,P:25\n",
      "N6 collecting 1.79076,F:2,P:21\n",
      "N7 collecting 2.065805,F:3,P:18\n",
      "N8 collecting 1.72593,F:6,P:13\n",
      "N9 collecting 1.768295,F:2,P:15\n",
      "N10 collecting 1.59517,F:5,P:10\n",
      "N11 collecting 1.04539,F:4,P:9\n",
      "N12 collecting 1.1904400000000002,F:0,P:11\n",
      "N13 collecting 1.37966,F:0,P:9\n",
      "N14 collecting 1.09744,F:0,P:7\n",
      "N15 collecting 2.5903599999999996,F:2,P:3\n",
      "N16 collecting 1.58125,F:0,P:3\n",
      "N17 collecting 1.62,F:0,P:1\n",
      "36 ====================\n",
      "R1 assembling 0.1458,F:0,P:17\n",
      "N1 collecting 1.28396,F:6,P:28\n",
      "N2 collecting 1.08497,F:18,P:14\n",
      "N3 collecting 2.0332,F:14,P:16\n",
      "N4 collecting 1.805185,F:10,P:18\n",
      "N5 collecting 1.4560250000000001,F:0,P:26\n",
      "N6 collecting 1.12614,F:2,P:22\n",
      "N7 collecting 1.621205,F:3,P:19\n",
      "N8 collecting 2.585,F:7,P:13\n",
      "N9 collecting 1.8026449999999998,F:2,P:16\n",
      "N10 collecting 2.8633100000000002,F:6,P:10\n",
      "N11 collecting 1.95052,F:4,P:10\n",
      "N12 collecting 1.7111600000000002,F:0,P:12\n",
      "N13 collecting 1.4567400000000001,F:0,P:10\n",
      "N14 collecting 1.3192,F:0,P:8\n",
      "N15 collecting 1.24186,F:2,P:4\n",
      "N16 collecting 1.2046000000000001,F:0,P:4\n",
      "N17 collecting 2.220625,F:1,P:1\n",
      "37 ====================\n",
      "R1 assembling 0.062200000000000005,F:0,P:18\n",
      "N1 collecting 1.14656,F:6,P:29\n",
      "N2 collecting 1.382365,F:18,P:15\n",
      "N3 collecting 2.1231999999999998,F:15,P:16\n",
      "N4 collecting 2.118385,F:11,P:18\n",
      "N5 collecting 1.6595250000000001,F:0,P:27\n",
      "N6 collecting 1.82044,F:2,P:23\n",
      "N7 collecting 1.92872,F:3,P:20\n",
      "N8 collecting 2.10316,F:8,P:13\n",
      "N9 collecting 2.00989,F:3,P:16\n",
      "N10 collecting 1.40456,F:6,P:11\n",
      "N11 collecting 1.826365,F:4,P:11\n",
      "N12 collecting 1.8362800000000004,F:0,P:13\n",
      "N13 collecting 1.15662,F:0,P:11\n",
      "N14 collecting 1.09408,F:0,P:9\n",
      "N15 collecting 1.45936,F:2,P:5\n",
      "N16 collecting 1.5084,F:0,P:5\n",
      "N17 collecting 1.1425,F:1,P:2\n",
      "N18 collecting 0.37653000000000014,F:0,P:1\n",
      "38 ====================\n",
      "R1 assembling 0.062200000000000005,F:0,P:18\n",
      "N1 collecting 1.218695,F:6,P:30\n",
      "N2 collecting 1.493705,F:18,P:16\n",
      "N3 collecting 1.3132,F:15,P:17\n",
      "N4 collecting 2.011375,F:12,P:18\n",
      "N5 collecting 1.9166750000000001,F:0,P:28\n",
      "N6 collecting 1.8278599999999998,F:2,P:24\n",
      "N7 collecting 1.608855,F:3,P:21\n",
      "N8 collecting 2.40114,F:9,P:13\n",
      "N9 collecting 1.255335,F:3,P:17\n",
      "N10 collecting 1.099195,F:6,P:12\n",
      "N11 collecting 1.2710050000000002,F:4,P:12\n",
      "N12 collecting 1.4186,F:0,P:14\n",
      "N13 collecting 1.7330800000000002,F:0,P:12\n",
      "N14 collecting 1.3062399999999998,F:0,P:10\n",
      "N15 collecting 1.04872,F:2,P:6\n",
      "N16 collecting 1.6525500000000002,F:0,P:6\n",
      "N17 collecting 1.3900000000000001,F:1,P:3\n",
      "N18 collecting 1.13203,F:0,P:2\n",
      "39 ====================\n",
      "R1 assembling 0.0318,F:0,P:19\n",
      "N1 collecting 1.72135,F:6,P:31\n",
      "N2 collecting 2.1104700000000003,F:19,P:16\n",
      "N3 collecting 1.963,F:15,P:18\n",
      "N4 collecting 1.13311,F:12,P:19\n",
      "N5 collecting 1.5707250000000001,F:0,P:29\n",
      "N6 collecting 1.38478,F:2,P:25\n",
      "N7 collecting 1.502645,F:3,P:22\n",
      "N8 collecting 1.118875,F:9,P:14\n",
      "N9 collecting 1.564485,F:3,P:18\n",
      "N10 collecting 1.98028,F:6,P:13\n",
      "N11 collecting 1.5006249999999999,F:4,P:13\n",
      "N12 collecting 1.5952400000000002,F:0,P:15\n",
      "N13 collecting 1.5625200000000001,F:0,P:13\n",
      "N14 collecting 1.28944,F:0,P:11\n",
      "N15 collecting 1.6490200000000002,F:2,P:7\n",
      "N16 collecting 1.437875,F:0,P:7\n",
      "N17 collecting 1.211875,F:1,P:4\n",
      "N18 collecting 1.80522,F:0,P:3\n",
      "N19 collecting 0.91683,F:0,P:1\n",
      "40 ====================\n",
      "R1 assembling 0.0318,F:0,P:19\n",
      "N1 collecting 1.237015,F:6,P:32\n",
      "N2 collecting 1.00293,F:19,P:17\n",
      "N3 collecting 2.2186000000000003,F:16,P:18\n",
      "N4 collecting 1.082215,F:12,P:20\n",
      "N5 collecting 1.44215,F:0,P:30\n",
      "N6 collecting 1.15688,F:2,P:26\n",
      "N7 collecting 1.89414,F:3,P:23\n",
      "N8 collecting 1.12363,F:9,P:15\n",
      "N9 collecting 1.85875,F:3,P:19\n",
      "N10 collecting 2.554055,F:7,P:13\n",
      "N11 collecting 2.13208,F:5,P:13\n",
      "N12 collecting 1.8887200000000002,F:0,P:16\n",
      "N13 collecting 1.4370600000000002,F:0,P:14\n",
      "N14 collecting 1.08256,F:0,P:12\n",
      "N15 collecting 2.6582199999999996,F:3,P:7\n",
      "N16 collecting 1.268925,F:0,P:8\n",
      "N17 collecting 2.336875,F:2,P:4\n",
      "N18 collecting 1.786475,F:0,P:4\n",
      "N19 collecting 2.52638,F:1,P:1\n",
      "41 ====================\n",
      "R1 assembling 0.0522,F:0,P:20\n",
      "N1 collecting 1.03893,F:6,P:33\n",
      "N2 collecting 2.0342900000000004,F:20,P:17\n",
      "N3 collecting 2.2258,F:17,P:18\n",
      "N4 collecting 1.2557800000000001,F:12,P:21\n",
      "N5 collecting 1.7353750000000003,F:0,P:31\n",
      "N6 collecting 1.6497799999999998,F:2,P:27\n",
      "N7 collecting 1.653315,F:3,P:24\n",
      "N8 collecting 1.83371,F:9,P:16\n",
      "N9 collecting 1.6457799999999998,F:3,P:20\n",
      "N10 collecting 1.923875,F:7,P:14\n",
      "N11 collecting 1.93717,F:5,P:14\n",
      "N12 collecting 1.5575200000000002,F:0,P:17\n",
      "N13 collecting 1.6240200000000002,F:0,P:15\n",
      "N14 collecting 1.0024,F:0,P:13\n",
      "N15 collecting 1.05742,F:3,P:8\n",
      "N16 collecting 1.013175,F:0,P:9\n",
      "N17 collecting 1.166875,F:2,P:5\n",
      "N18 collecting 1.150775,F:0,P:5\n",
      "N19 collecting 1.44088,F:1,P:2\n",
      "N20 collecting 0.84959,F:0,P:1\n",
      "42 ====================\n",
      "R1 assembling 0.0522,F:0,P:20\n",
      "N1 collecting 2.10149,F:7,P:33\n",
      "N2 collecting 2.08996,F:21,P:17\n",
      "N3 collecting 2.6686,F:18,P:18\n",
      "N4 collecting 1.9748350000000001,F:12,P:22\n",
      "N5 collecting 1.46435,F:0,P:32\n",
      "N6 collecting 1.53424,F:2,P:28\n",
      "N7 collecting 1.233415,F:3,P:25\n",
      "N8 collecting 1.087175,F:9,P:17\n",
      "N9 collecting 1.8759249999999998,F:3,P:21\n",
      "N10 collecting 1.737155,F:7,P:15\n",
      "N11 collecting 2.031955,F:6,P:14\n",
      "N12 collecting 1.5750000000000002,F:0,P:18\n",
      "N13 collecting 1.62566,F:0,P:16\n",
      "N14 collecting 1.10416,F:0,P:14\n",
      "N15 collecting 2.6199399999999997,F:4,P:8\n",
      "N16 collecting 1.383625,F:0,P:10\n",
      "N17 collecting 2.453125,F:3,P:5\n",
      "N18 collecting 1.06846,F:0,P:6\n",
      "N19 collecting 2.66666,F:2,P:2\n",
      "N20 collecting 1.55418,F:0,P:2\n",
      "43 ====================\n",
      "R1 assembling 0.0736,F:0,P:21\n",
      "N1 collecting 2.04882,F:8,P:33\n",
      "N2 collecting 1.12599,F:21,P:18\n",
      "N3 collecting 2.3482,F:19,P:18\n",
      "N4 collecting 1.977445,F:12,P:23\n",
      "N5 collecting 1.4569500000000002,F:0,P:33\n",
      "N6 collecting 1.30104,F:2,P:29\n",
      "N7 collecting 1.611325,F:3,P:26\n",
      "N8 collecting 1.36772,F:9,P:18\n",
      "N9 collecting 1.6183,F:3,P:22\n",
      "N10 collecting 2.207845,F:8,P:15\n",
      "N11 collecting 1.578055,F:6,P:15\n",
      "N12 collecting 1.45724,F:0,P:19\n",
      "N13 collecting 1.0533000000000001,F:0,P:17\n",
      "N14 collecting 1.3892799999999998,F:0,P:15\n",
      "N15 collecting 2.2702,F:5,P:8\n",
      "N16 collecting 1.44175,F:0,P:11\n",
      "N17 collecting 2.7643750000000002,F:4,P:5\n",
      "N18 collecting 1.574575,F:0,P:7\n",
      "N19 collecting 1.1837,F:2,P:3\n",
      "N20 collecting 1.4671599999999998,F:0,P:3\n",
      "N21 collecting 0.27674000000000004,F:0,P:1\n",
      "44 ====================\n",
      "R1 assembling 0.0736,F:0,P:21\n",
      "N1 collecting 1.1832,F:8,P:34\n",
      "N2 collecting 2.4371650000000002,F:22,P:18\n",
      "N3 collecting 1.504,F:19,P:19\n",
      "N4 collecting 1.47502,F:12,P:24\n",
      "N5 collecting 1.502275,F:0,P:34\n",
      "N6 collecting 1.9317399999999998,F:2,P:30\n",
      "N7 collecting 2.19548,F:4,P:26\n",
      "N8 collecting 2.08731,F:10,P:18\n",
      "N9 collecting 1.3973149999999999,F:3,P:23\n",
      "N10 collecting 2.85942,F:9,P:15\n",
      "N11 collecting 2.26558,F:7,P:15\n",
      "N12 collecting 1.5658,F:0,P:20\n",
      "N13 collecting 1.37884,F:0,P:18\n",
      "N14 collecting 1.0398399999999999,F:0,P:16\n",
      "N15 collecting 1.78648,F:5,P:9\n",
      "N16 collecting 1.1805750000000002,F:0,P:12\n",
      "N17 collecting 2.423125,F:5,P:5\n",
      "N18 collecting 1.287695,F:0,P:8\n",
      "N19 collecting 1.6112199999999999,F:2,P:4\n",
      "N20 collecting 1.3904450000000002,F:0,P:4\n",
      "N21 collecting 1.29044,F:0,P:2\n",
      "45 ====================\n",
      "R1 assembling 0.0968,F:0,P:22\n",
      "N1 collecting 2.0763,F:9,P:34\n",
      "N2 collecting 1.81454,F:22,P:19\n",
      "N3 collecting 1.756,F:19,P:20\n",
      "N4 collecting 1.98136,F:12,P:25\n",
      "N5 collecting 1.629925,F:0,P:35\n",
      "N6 collecting 1.6275199999999999,F:2,P:31\n",
      "N7 collecting 1.43966,F:4,P:27\n",
      "N8 collecting 2.39797,F:11,P:18\n",
      "N9 collecting 1.731655,F:3,P:24\n",
      "N10 collecting 2.196175,F:10,P:15\n",
      "N11 collecting 1.7943250000000002,F:7,P:16\n",
      "N12 collecting 1.03404,F:0,P:21\n",
      "N13 collecting 1.6240200000000002,F:0,P:19\n",
      "N14 collecting 1.38448,F:0,P:17\n",
      "N15 collecting 1.40368,F:5,P:10\n",
      "N16 collecting 1.5618750000000001,F:0,P:13\n",
      "N17 collecting 2.38,F:6,P:5\n",
      "N18 collecting 1.6414050000000002,F:0,P:9\n",
      "N19 collecting 2.1957199999999997,F:3,P:4\n",
      "N20 collecting 1.29083,F:0,P:5\n",
      "N21 collecting 1.00548,F:0,P:3\n",
      "N22 collecting 0.8049999999999999,F:0,P:1\n",
      "46 ====================\n",
      "R1 assembling 0.0968,F:0,P:22\n",
      "N1 collecting 1.04122,F:9,P:35\n",
      "N2 collecting 2.10461,F:23,P:19\n",
      "N3 collecting 2.6794000000000002,F:20,P:20\n",
      "N4 collecting 1.1566,F:12,P:26\n",
      "N5 collecting 1.1369,F:0,P:36\n",
      "N6 collecting 1.41552,F:2,P:32\n",
      "N7 collecting 1.2469999999999999,F:4,P:28\n",
      "N8 collecting 2.5041649999999995,F:12,P:18\n",
      "N9 collecting 1.5461649999999998,F:3,P:25\n",
      "N10 collecting 1.66519,F:10,P:16\n",
      "N11 collecting 1.9264899999999998,F:7,P:17\n",
      "N12 collecting 1.4857600000000002,F:0,P:22\n",
      "N13 collecting 1.7437400000000003,F:0,P:20\n",
      "N14 collecting 1.12192,F:0,P:18\n",
      "N15 collecting 2.64952,F:6,P:10\n",
      "N16 collecting 1.230175,F:0,P:14\n",
      "N17 collecting 2.243125,F:7,P:5\n",
      "N18 collecting 1.3325200000000001,F:0,P:10\n",
      "N19 collecting 1.76152,F:3,P:5\n",
      "N20 collecting 1.443115,F:0,P:6\n",
      "N21 collecting 2.12888,F:1,P:3\n",
      "N22 collecting 1.61663,F:0,P:2\n",
      "47 ====================\n",
      "R1 assembling 0.1008,F:0,P:23\n",
      "N1 collecting 1.541585,F:9,P:36\n",
      "N2 collecting 1.09962,F:23,P:20\n",
      "N3 collecting 1.1188,F:20,P:21\n",
      "N4 collecting 1.382365,F:12,P:27\n",
      "N5 collecting 1.431975,F:0,P:37\n",
      "N6 collecting 1.9486999999999999,F:2,P:33\n",
      "N7 collecting 1.5236399999999999,F:4,P:29\n",
      "N8 collecting 1.48501,F:12,P:19\n",
      "N9 collecting 1.014885,F:3,P:26\n",
      "N10 collecting 1.674915,F:10,P:17\n",
      "N11 collecting 2.23354,F:8,P:17\n",
      "N12 collecting 1.8372000000000002,F:0,P:23\n",
      "N13 collecting 1.60188,F:0,P:21\n",
      "N14 collecting 1.00912,F:0,P:19\n",
      "N15 collecting 1.81258,F:6,P:11\n",
      "N16 collecting 1.6269750000000003,F:0,P:15\n",
      "N17 collecting 1.271875,F:7,P:6\n",
      "N18 collecting 1.028525,F:0,P:11\n",
      "N19 collecting 1.3507,F:3,P:6\n",
      "N20 collecting 1.046945,F:0,P:7\n",
      "N21 collecting 2.33164,F:2,P:3\n",
      "N22 collecting 2.14954,F:1,P:2\n",
      "N23 collecting 1.5554999999999999,F:0,P:1\n",
      "48 ====================\n",
      "R1 assembling 0.1008,F:0,P:23\n",
      "N1 collecting 1.037785,F:9,P:37\n",
      "N2 collecting 1.4233850000000001,F:23,P:21\n",
      "N3 collecting 1.9162,F:20,P:22\n",
      "N4 collecting 1.07569,F:12,P:28\n",
      "N5 collecting 1.5309500000000003,F:0,P:38\n",
      "N6 collecting 1.01378,F:2,P:34\n",
      "N7 collecting 1.3087499999999999,F:4,P:30\n",
      "N8 collecting 1.9731899999999998,F:12,P:20\n",
      "N9 collecting 1.91371,F:3,P:27\n",
      "N10 collecting 2.200065,F:11,P:17\n",
      "N11 collecting 1.465915,F:8,P:18\n",
      "N12 collecting 1.6458400000000002,F:0,P:24\n",
      "N13 collecting 1.2911000000000001,F:0,P:22\n",
      "N14 collecting 1.0264,F:0,P:20\n",
      "N15 collecting 2.5747,F:7,P:11\n",
      "N16 collecting 1.067425,F:0,P:16\n",
      "N17 collecting 2.74,F:8,P:6\n",
      "N18 collecting 1.2445,F:0,P:12\n",
      "N19 collecting 1.38577,F:3,P:7\n",
      "N20 collecting 1.59082,F:0,P:8\n",
      "N21 collecting 1.6370500000000001,F:2,P:4\n",
      "N22 collecting 1.34293,F:1,P:3\n",
      "N23 collecting 2.1271,F:1,P:1\n",
      "49 ====================\n",
      "R1 assembling 0.1132,F:0,P:24\n",
      "N1 collecting 1.308005,F:9,P:38\n",
      "N2 collecting 2.0181750000000003,F:24,P:21\n",
      "N3 collecting 2.782,F:21,P:22\n",
      "N4 collecting 1.703395,F:12,P:29\n",
      "N5 collecting 1.5217,F:0,P:39\n",
      "N6 collecting 2.02078,F:3,P:34\n",
      "N7 collecting 2.004055,F:5,P:30\n",
      "N8 collecting 2.440765,F:13,P:20\n",
      "N9 collecting 2.0751549999999996,F:4,P:27\n",
      "N10 collecting 1.8519100000000002,F:11,P:18\n",
      "N11 collecting 1.570045,F:8,P:19\n",
      "N12 collecting 1.4213600000000002,F:0,P:25\n",
      "N13 collecting 1.40344,F:0,P:23\n",
      "N14 collecting 1.24528,F:0,P:21\n",
      "N15 collecting 1.26796,F:7,P:12\n",
      "N16 collecting 1.5378500000000002,F:0,P:17\n",
      "N17 collecting 1.12,F:8,P:7\n",
      "N18 collecting 1.305625,F:0,P:13\n",
      "N19 collecting 1.01336,F:3,P:8\n",
      "N20 collecting 1.541585,F:0,P:9\n",
      "N21 collecting 2.2056000000000004,F:3,P:4\n",
      "N22 collecting 2.16725,F:2,P:3\n",
      "N23 collecting 1.9333,F:1,P:2\n",
      "N24 collecting 1.1727899999999998,F:0,P:1\n",
      "50 ====================\n",
      "R1 assembling 0.1132,F:0,P:24\n",
      "N1 collecting 1.92287,F:9,P:39\n",
      "N2 collecting 1.52447,F:24,P:22\n",
      "N3 collecting 1.0468,F:21,P:23\n",
      "N4 collecting 1.8952300000000002,F:12,P:30\n",
      "N5 collecting 1.896325,F:0,P:40\n",
      "N6 collecting 1.49078,F:3,P:35\n",
      "N7 collecting 1.7718749999999999,F:5,P:31\n",
      "N8 collecting 1.052305,F:13,P:21\n",
      "N9 collecting 1.03893,F:4,P:28\n",
      "N10 collecting 1.869415,F:11,P:19\n",
      "N11 collecting 1.140175,F:8,P:20\n",
      "N12 collecting 1.63572,F:0,P:26\n",
      "N13 collecting 1.5116800000000001,F:0,P:24\n",
      "N14 collecting 1.252,F:0,P:22\n",
      "N15 collecting 2.3154399999999997,F:8,P:12\n",
      "N16 collecting 1.1116,F:0,P:18\n",
      "N17 collecting 1.31125,F:8,P:8\n",
      "N18 collecting 1.7962550000000002,F:0,P:14\n",
      "N19 collecting 1.8016,F:3,P:9\n",
      "N20 collecting 1.6503599999999998,F:0,P:10\n",
      "N21 collecting 2.2878,F:4,P:4\n",
      "N22 collecting 1.32683,F:2,P:4\n",
      "N23 collecting 2.3973999999999998,F:2,P:2\n",
      "N24 collecting 2.5480199999999997,F:1,P:1\n",
      "51 ====================\n",
      "R1 assembling 0.10700000000000001,F:0,P:25\n",
      "N1 collecting 1.603415,F:9,P:40\n",
      "N2 collecting 1.2798150000000001,F:24,P:23\n",
      "N3 collecting 1.3168,F:21,P:24\n",
      "N4 collecting 1.557235,F:12,P:31\n",
      "N5 collecting 1.0851,F:0,P:41\n",
      "N6 collecting 1.9423399999999997,F:3,P:36\n",
      "N7 collecting 1.35568,F:5,P:32\n",
      "N8 collecting 2.0952349999999997,F:14,P:21\n",
      "N9 collecting 1.910275,F:4,P:29\n",
      "N10 collecting 1.99195,F:11,P:20\n",
      "N11 collecting 1.24564,F:8,P:21\n",
      "N12 collecting 1.16744,F:0,P:27\n",
      "N13 collecting 1.28536,F:0,P:25\n",
      "N14 collecting 1.26064,F:0,P:23\n",
      "N15 collecting 1.33408,F:8,P:13\n",
      "N16 collecting 1.7254000000000003,F:0,P:19\n",
      "N17 collecting 2.6106249999999998,F:9,P:8\n",
      "N18 collecting 1.6748200000000002,F:0,P:15\n",
      "N19 collecting 1.3507,F:3,P:10\n",
      "N20 collecting 2.125535,F:1,P:10\n",
      "N21 collecting 1.44251,F:4,P:5\n",
      "N22 collecting 2.5472099999999998,F:3,P:4\n",
      "N23 collecting 1.6834,F:2,P:3\n",
      "N24 collecting 1.4239,F:1,P:2\n",
      "N25 collecting 0.38015999999999994,F:0,P:1\n",
      "52 ====================\n",
      "R1 assembling 0.10700000000000001,F:0,P:25\n",
      "N1 collecting 1.440825,F:9,P:41\n",
      "N2 collecting 2.4107950000000002,F:25,P:23\n",
      "N3 collecting 1.2034,F:21,P:25\n",
      "N4 collecting 1.426735,F:12,P:32\n",
      "N5 collecting 1.087875,F:0,P:42\n",
      "N6 collecting 1.17278,F:3,P:37\n",
      "N7 collecting 1.984295,F:5,P:33\n",
      "N8 collecting 1.613395,F:14,P:22\n",
      "N9 collecting 1.27022,F:4,P:30\n",
      "N10 collecting 2.258415,F:12,P:20\n",
      "N11 collecting 1.372465,F:8,P:22\n",
      "N12 collecting 1.0414,F:0,P:28\n",
      "N13 collecting 1.5239800000000001,F:0,P:26\n",
      "N14 collecting 1.32016,F:0,P:24\n",
      "N15 collecting 2.3258799999999997,F:9,P:13\n",
      "N16 collecting 1.56885,F:0,P:20\n",
      "N17 collecting 1.658125,F:9,P:9\n",
      "N18 collecting 1.393645,F:0,P:16\n",
      "N19 collecting 2.6165599999999998,F:4,P:10\n",
      "N20 collecting 1.34808,F:1,P:11\n",
      "N21 collecting 1.9617399999999998,F:4,P:6\n",
      "N22 idle 0,F:3,P:4\n",
      "N23 idle 0,F:2,P:3\n",
      "N24 idle 0,F:1,P:2\n",
      "N25 idle 0,F:0,P:1\n",
      "53 ====================\n",
      "R1 assembling 0.07840000000000001,F:0,P:26\n",
      "N1 idle 0,F:9,P:41\n",
      "N2 idle 0,F:25,P:23\n",
      "N3 idle 0,F:21,P:25\n",
      "N4 idle 0,F:12,P:32\n",
      "N5 idle 0,F:0,P:42\n",
      "N6 idle 0,F:3,P:37\n",
      "N7 idle 0,F:5,P:33\n",
      "N8 idle 0,F:14,P:22\n",
      "N9 idle 0,F:4,P:30\n",
      "N10 idle 0,F:12,P:20\n",
      "N11 idle 0,F:8,P:22\n",
      "N12 idle 0,F:0,P:28\n",
      "N13 idle 0,F:0,P:26\n",
      "N14 idle 0,F:0,P:24\n",
      "N15 idle 0,F:9,P:13\n",
      "N16 idle 0,F:0,P:20\n",
      "N17 idle 0,F:9,P:9\n",
      "N18 idle 0,F:0,P:16\n",
      "N19 idle 0,F:4,P:10\n",
      "N20 idle 0,F:1,P:11\n",
      "N21 idle 0,F:4,P:6\n",
      "N22 idle 0,F:3,P:4\n",
      "N23 idle 0,F:2,P:3\n",
      "N24 idle 0,F:1,P:2\n",
      "N25 idle 0,F:0,P:1\n",
      "N26 idle 0,F:0,P:0\n",
      "54 ====================\n",
      "R1 assembling 0.07840000000000001,F:0,P:26\n",
      "N1 idle 0,F:9,P:41\n",
      "N2 idle 0,F:25,P:23\n",
      "N3 idle 0,F:21,P:25\n",
      "N4 idle 0,F:12,P:32\n",
      "N5 idle 0,F:0,P:42\n",
      "N6 idle 0,F:3,P:37\n",
      "N7 idle 0,F:5,P:33\n",
      "N8 idle 0,F:14,P:22\n",
      "N9 idle 0,F:4,P:30\n",
      "N10 idle 0,F:12,P:20\n",
      "N11 idle 0,F:8,P:22\n",
      "N12 idle 0,F:0,P:28\n",
      "N13 idle 0,F:0,P:26\n",
      "N14 idle 0,F:0,P:24\n",
      "N15 idle 0,F:9,P:13\n",
      "N16 idle 0,F:0,P:20\n",
      "N17 idle 0,F:9,P:9\n",
      "N18 idle 0,F:0,P:16\n",
      "N19 idle 0,F:4,P:10\n",
      "N20 idle 0,F:1,P:11\n",
      "N21 idle 0,F:4,P:6\n",
      "N22 idle 0,F:3,P:4\n",
      "N23 idle 0,F:2,P:3\n",
      "N24 idle 0,F:1,P:2\n",
      "N25 idle 0,F:0,P:1\n",
      "N26 idle 0,F:0,P:0\n",
      "55 ====================\n",
      "R1 assembling 0.18500000000000003,F:0,P:27\n",
      "N1 idle 0,F:9,P:41\n",
      "N2 idle 0,F:25,P:23\n",
      "N3 idle 0,F:21,P:25\n",
      "N4 idle 0,F:12,P:32\n",
      "N5 idle 0,F:0,P:42\n",
      "N6 idle 0,F:3,P:37\n",
      "N7 idle 0,F:5,P:33\n",
      "N8 idle 0,F:14,P:22\n",
      "N9 idle 0,F:4,P:30\n",
      "N10 idle 0,F:12,P:20\n",
      "N11 idle 0,F:8,P:22\n",
      "N12 idle 0,F:0,P:28\n",
      "N13 idle 0,F:0,P:26\n",
      "N14 idle 0,F:0,P:24\n",
      "N15 idle 0,F:9,P:13\n",
      "N16 idle 0,F:0,P:20\n",
      "N17 idle 0,F:9,P:9\n",
      "N18 idle 0,F:0,P:16\n",
      "N19 idle 0,F:4,P:10\n",
      "N20 idle 0,F:1,P:11\n",
      "N21 idle 0,F:4,P:6\n",
      "N22 idle 0,F:3,P:4\n",
      "N23 idle 0,F:2,P:3\n",
      "N24 idle 0,F:1,P:2\n",
      "N25 idle 0,F:0,P:1\n",
      "N26 idle 0,F:0,P:0\n",
      "N27 idle 0,F:0,P:0\n",
      "56 ====================\n",
      "R1 assembling 0.18500000000000003,F:0,P:27\n",
      "N1 idle 0,F:9,P:41\n",
      "N2 idle 0,F:25,P:23\n",
      "N3 idle 0,F:21,P:25\n",
      "N4 idle 0,F:12,P:32\n",
      "N5 idle 0,F:0,P:42\n",
      "N6 idle 0,F:3,P:37\n",
      "N7 idle 0,F:5,P:33\n",
      "N8 idle 0,F:14,P:22\n",
      "N9 idle 0,F:4,P:30\n",
      "N10 idle 0,F:12,P:20\n",
      "N11 idle 0,F:8,P:22\n",
      "N12 idle 0,F:0,P:28\n",
      "N13 idle 0,F:0,P:26\n",
      "N14 idle 0,F:0,P:24\n",
      "N15 idle 0,F:9,P:13\n",
      "N16 idle 0,F:0,P:20\n",
      "N17 idle 0,F:9,P:9\n",
      "N18 idle 0,F:0,P:16\n",
      "N19 idle 0,F:4,P:10\n",
      "N20 idle 0,F:1,P:11\n",
      "N21 idle 0,F:4,P:6\n",
      "N22 idle 0,F:3,P:4\n",
      "N23 idle 0,F:2,P:3\n",
      "N24 idle 0,F:1,P:2\n",
      "N25 idle 0,F:0,P:1\n",
      "N26 idle 0,F:0,P:0\n",
      "N27 idle 0,F:0,P:0\n",
      "57 ====================\n",
      "R1 assembling 0.004200000000000001,F:0,P:28\n",
      "N1 idle 0,F:9,P:41\n",
      "N2 idle 0,F:25,P:23\n",
      "N3 idle 0,F:21,P:25\n",
      "N4 idle 0,F:12,P:32\n",
      "N5 idle 0,F:0,P:42\n",
      "N6 idle 0,F:3,P:37\n",
      "N7 idle 0,F:5,P:33\n",
      "N8 idle 0,F:14,P:22\n",
      "N9 idle 0,F:4,P:30\n",
      "N10 idle 0,F:12,P:20\n",
      "N11 idle 0,F:8,P:22\n",
      "N12 idle 0,F:0,P:28\n",
      "N13 idle 0,F:0,P:26\n",
      "N14 idle 0,F:0,P:24\n",
      "N15 idle 0,F:9,P:13\n",
      "N16 idle 0,F:0,P:20\n",
      "N17 idle 0,F:9,P:9\n",
      "N18 idle 0,F:0,P:16\n",
      "N19 idle 0,F:4,P:10\n",
      "N20 idle 0,F:1,P:11\n",
      "N21 idle 0,F:4,P:6\n",
      "N22 idle 0,F:3,P:4\n",
      "N23 idle 0,F:2,P:3\n",
      "N24 idle 0,F:1,P:2\n",
      "N25 idle 0,F:0,P:1\n",
      "N26 idle 0,F:0,P:0\n",
      "N27 idle 0,F:0,P:0\n",
      "N28 idle 0,F:0,P:0\n",
      "58 ====================\n",
      "R1 assembling 0.004200000000000001,F:0,P:28\n",
      "N1 idle 0,F:9,P:41\n",
      "N2 idle 0,F:25,P:23\n",
      "N3 idle 0,F:21,P:25\n",
      "N4 idle 0,F:12,P:32\n",
      "N5 idle 0,F:0,P:42\n",
      "N6 idle 0,F:3,P:37\n",
      "N7 idle 0,F:5,P:33\n",
      "N8 idle 0,F:14,P:22\n",
      "N9 idle 0,F:4,P:30\n",
      "N10 idle 0,F:12,P:20\n",
      "N11 idle 0,F:8,P:22\n",
      "N12 idle 0,F:0,P:28\n",
      "N13 idle 0,F:0,P:26\n",
      "N14 idle 0,F:0,P:24\n",
      "N15 idle 0,F:9,P:13\n",
      "N16 idle 0,F:0,P:20\n",
      "N17 idle 0,F:9,P:9\n",
      "N18 idle 0,F:0,P:16\n",
      "N19 idle 0,F:4,P:10\n",
      "N20 idle 0,F:1,P:11\n",
      "N21 idle 0,F:4,P:6\n",
      "N22 idle 0,F:3,P:4\n",
      "N23 idle 0,F:2,P:3\n",
      "N24 idle 0,F:1,P:2\n",
      "N25 idle 0,F:0,P:1\n",
      "N26 idle 0,F:0,P:0\n",
      "N27 idle 0,F:0,P:0\n",
      "N28 idle 0,F:0,P:0\n",
      "59 ====================\n",
      "R1 assembling 0.0282,F:0,P:29\n",
      "N1 idle 0,F:9,P:41\n",
      "N2 idle 0,F:25,P:23\n",
      "N3 idle 0,F:21,P:25\n",
      "N4 idle 0,F:12,P:32\n",
      "N5 idle 0,F:0,P:42\n",
      "N6 idle 0,F:3,P:37\n",
      "N7 idle 0,F:5,P:33\n",
      "N8 idle 0,F:14,P:22\n",
      "N9 idle 0,F:4,P:30\n",
      "N10 idle 0,F:12,P:20\n",
      "N11 idle 0,F:8,P:22\n",
      "N12 idle 0,F:0,P:28\n",
      "N13 idle 0,F:0,P:26\n",
      "N14 idle 0,F:0,P:24\n",
      "N15 idle 0,F:9,P:13\n",
      "N16 idle 0,F:0,P:20\n",
      "N17 idle 0,F:9,P:9\n",
      "N18 idle 0,F:0,P:16\n",
      "N19 idle 0,F:4,P:10\n",
      "N20 idle 0,F:1,P:11\n",
      "N21 idle 0,F:4,P:6\n",
      "N22 idle 0,F:3,P:4\n",
      "N23 idle 0,F:2,P:3\n",
      "N24 idle 0,F:1,P:2\n",
      "N25 idle 0,F:0,P:1\n",
      "N26 idle 0,F:0,P:0\n",
      "N27 idle 0,F:0,P:0\n",
      "N28 idle 0,F:0,P:0\n",
      "N29 idle 0,F:0,P:0\n",
      "60 ====================\n",
      "R1 assembling 0.0282,F:0,P:29\n",
      "N1 idle 0,F:9,P:41\n",
      "N2 idle 0,F:25,P:23\n",
      "N3 idle 0,F:21,P:25\n",
      "N4 idle 0,F:12,P:32\n",
      "N5 idle 0,F:0,P:42\n",
      "N6 idle 0,F:3,P:37\n",
      "N7 idle 0,F:5,P:33\n",
      "N8 idle 0,F:14,P:22\n",
      "N9 idle 0,F:4,P:30\n",
      "N10 idle 0,F:12,P:20\n",
      "N11 idle 0,F:8,P:22\n",
      "N12 idle 0,F:0,P:28\n",
      "N13 idle 0,F:0,P:26\n",
      "N14 idle 0,F:0,P:24\n",
      "N15 idle 0,F:9,P:13\n",
      "N16 idle 0,F:0,P:20\n",
      "N17 idle 0,F:9,P:9\n",
      "N18 idle 0,F:0,P:16\n",
      "N19 idle 0,F:4,P:10\n",
      "N20 idle 0,F:1,P:11\n",
      "N21 idle 0,F:4,P:6\n",
      "N22 idle 0,F:3,P:4\n",
      "N23 idle 0,F:2,P:3\n",
      "N24 idle 0,F:1,P:2\n",
      "N25 idle 0,F:0,P:1\n",
      "N26 idle 0,F:0,P:0\n",
      "N27 idle 0,F:0,P:0\n",
      "N28 idle 0,F:0,P:0\n",
      "N29 idle 0,F:0,P:0\n",
      "61 ====================\n",
      "R1 assembling 0.0286,F:0,P:30\n",
      "N1 idle 0,F:9,P:41\n",
      "N2 idle 0,F:25,P:23\n",
      "N3 idle 0,F:21,P:25\n",
      "N4 idle 0,F:12,P:32\n",
      "N5 idle 0,F:0,P:42\n",
      "N6 idle 0,F:3,P:37\n",
      "N7 idle 0,F:5,P:33\n",
      "N8 idle 0,F:14,P:22\n",
      "N9 idle 0,F:4,P:30\n",
      "N10 idle 0,F:12,P:20\n",
      "N11 idle 0,F:8,P:22\n",
      "N12 idle 0,F:0,P:28\n",
      "N13 idle 0,F:0,P:26\n",
      "N14 idle 0,F:0,P:24\n",
      "N15 idle 0,F:9,P:13\n",
      "N16 idle 0,F:0,P:20\n",
      "N17 idle 0,F:9,P:9\n",
      "N18 idle 0,F:0,P:16\n",
      "N19 idle 0,F:4,P:10\n",
      "N20 idle 0,F:1,P:11\n",
      "N21 idle 0,F:4,P:6\n",
      "N22 idle 0,F:3,P:4\n",
      "N23 idle 0,F:2,P:3\n",
      "N24 idle 0,F:1,P:2\n",
      "N25 idle 0,F:0,P:1\n",
      "N26 idle 0,F:0,P:0\n",
      "N27 idle 0,F:0,P:0\n",
      "N28 idle 0,F:0,P:0\n",
      "N29 idle 0,F:0,P:0\n",
      "N30 idle 0,F:0,P:0\n",
      "62 ====================\n",
      "R1 assembling 0.0286,F:0,P:30\n",
      "N1 idle 0,F:9,P:41\n",
      "N2 idle 0,F:25,P:23\n",
      "N3 idle 0,F:21,P:25\n",
      "N4 idle 0,F:12,P:32\n",
      "N5 idle 0,F:0,P:42\n",
      "N6 idle 0,F:3,P:37\n",
      "N7 idle 0,F:5,P:33\n",
      "N8 idle 0,F:14,P:22\n",
      "N9 idle 0,F:4,P:30\n",
      "N10 idle 0,F:12,P:20\n",
      "N11 idle 0,F:8,P:22\n",
      "N12 idle 0,F:0,P:28\n",
      "N13 idle 0,F:0,P:26\n",
      "N14 idle 0,F:0,P:24\n",
      "N15 idle 0,F:9,P:13\n",
      "N16 idle 0,F:0,P:20\n",
      "N17 idle 0,F:9,P:9\n",
      "N18 idle 0,F:0,P:16\n",
      "N19 idle 0,F:4,P:10\n",
      "N20 idle 0,F:1,P:11\n",
      "N21 idle 0,F:4,P:6\n",
      "N22 idle 0,F:3,P:4\n",
      "N23 idle 0,F:2,P:3\n",
      "N24 idle 0,F:1,P:2\n",
      "N25 idle 0,F:0,P:1\n",
      "N26 idle 0,F:0,P:0\n",
      "N27 idle 0,F:0,P:0\n",
      "N28 idle 0,F:0,P:0\n",
      "N29 idle 0,F:0,P:0\n",
      "N30 idle 0,F:0,P:0\n",
      "63 ====================\n",
      "R1 assembling 0.0956,F:0,P:31\n",
      "N1 idle 0,F:9,P:41\n",
      "N2 idle 0,F:25,P:23\n",
      "N3 idle 0,F:21,P:25\n",
      "N4 idle 0,F:12,P:32\n",
      "N5 idle 0,F:0,P:42\n",
      "N6 idle 0,F:3,P:37\n",
      "N7 idle 0,F:5,P:33\n",
      "N8 idle 0,F:14,P:22\n",
      "N9 idle 0,F:4,P:30\n",
      "N10 idle 0,F:12,P:20\n",
      "N11 idle 0,F:8,P:22\n",
      "N12 idle 0,F:0,P:28\n",
      "N13 idle 0,F:0,P:26\n",
      "N14 idle 0,F:0,P:24\n",
      "N15 idle 0,F:9,P:13\n",
      "N16 idle 0,F:0,P:20\n",
      "N17 idle 0,F:9,P:9\n",
      "N18 idle 0,F:0,P:16\n",
      "N19 idle 0,F:4,P:10\n",
      "N20 idle 0,F:1,P:11\n",
      "N21 idle 0,F:4,P:6\n",
      "N22 idle 0,F:3,P:4\n",
      "N23 idle 0,F:2,P:3\n",
      "N24 idle 0,F:1,P:2\n",
      "N25 idle 0,F:0,P:1\n",
      "N26 idle 0,F:0,P:0\n",
      "N27 idle 0,F:0,P:0\n",
      "N28 idle 0,F:0,P:0\n",
      "N29 idle 0,F:0,P:0\n",
      "N30 idle 0,F:0,P:0\n",
      "N31 idle 0,F:0,P:0\n",
      "64 ====================\n",
      "R1 assembling 0.0956,F:0,P:31\n",
      "N1 idle 0,F:9,P:41\n",
      "N2 idle 0,F:25,P:23\n",
      "N3 idle 0,F:21,P:25\n",
      "N4 idle 0,F:12,P:32\n",
      "N5 idle 0,F:0,P:42\n",
      "N6 idle 0,F:3,P:37\n",
      "N7 idle 0,F:5,P:33\n",
      "N8 idle 0,F:14,P:22\n",
      "N9 idle 0,F:4,P:30\n",
      "N10 idle 0,F:12,P:20\n",
      "N11 idle 0,F:8,P:22\n",
      "N12 idle 0,F:0,P:28\n",
      "N13 idle 0,F:0,P:26\n",
      "N14 idle 0,F:0,P:24\n",
      "N15 idle 0,F:9,P:13\n",
      "N16 idle 0,F:0,P:20\n",
      "N17 idle 0,F:9,P:9\n",
      "N18 idle 0,F:0,P:16\n",
      "N19 idle 0,F:4,P:10\n",
      "N20 idle 0,F:1,P:11\n",
      "N21 idle 0,F:4,P:6\n",
      "N22 idle 0,F:3,P:4\n",
      "N23 idle 0,F:2,P:3\n",
      "N24 idle 0,F:1,P:2\n",
      "N25 idle 0,F:0,P:1\n",
      "N26 idle 0,F:0,P:0\n",
      "N27 idle 0,F:0,P:0\n",
      "N28 idle 0,F:0,P:0\n",
      "N29 idle 0,F:0,P:0\n",
      "N30 idle 0,F:0,P:0\n",
      "N31 idle 0,F:0,P:0\n",
      "65 ====================\n",
      "R1 assembling 0.0228,F:0,P:32\n",
      "N1 idle 0,F:9,P:41\n",
      "N2 idle 0,F:25,P:23\n",
      "N3 idle 0,F:21,P:25\n",
      "N4 idle 0,F:12,P:32\n",
      "N5 idle 0,F:0,P:42\n",
      "N6 idle 0,F:3,P:37\n",
      "N7 idle 0,F:5,P:33\n",
      "N8 idle 0,F:14,P:22\n",
      "N9 idle 0,F:4,P:30\n",
      "N10 idle 0,F:12,P:20\n",
      "N11 idle 0,F:8,P:22\n",
      "N12 idle 0,F:0,P:28\n",
      "N13 idle 0,F:0,P:26\n",
      "N14 idle 0,F:0,P:24\n",
      "N15 idle 0,F:9,P:13\n",
      "N16 idle 0,F:0,P:20\n",
      "N17 idle 0,F:9,P:9\n",
      "N18 idle 0,F:0,P:16\n",
      "N19 idle 0,F:4,P:10\n",
      "N20 idle 0,F:1,P:11\n",
      "N21 idle 0,F:4,P:6\n",
      "N22 idle 0,F:3,P:4\n",
      "N23 idle 0,F:2,P:3\n",
      "N24 idle 0,F:1,P:2\n",
      "N25 idle 0,F:0,P:1\n",
      "N26 idle 0,F:0,P:0\n",
      "N27 idle 0,F:0,P:0\n",
      "N28 idle 0,F:0,P:0\n",
      "N29 idle 0,F:0,P:0\n",
      "N30 idle 0,F:0,P:0\n",
      "N31 idle 0,F:0,P:0\n",
      "N32 idle 0,F:0,P:0\n",
      "66 ====================\n",
      "R1 assembling 0.0228,F:0,P:32\n",
      "N1 idle 0,F:9,P:41\n",
      "N2 idle 0,F:25,P:23\n",
      "N3 idle 0,F:21,P:25\n",
      "N4 idle 0,F:12,P:32\n",
      "N5 idle 0,F:0,P:42\n",
      "N6 idle 0,F:3,P:37\n",
      "N7 idle 0,F:5,P:33\n",
      "N8 idle 0,F:14,P:22\n",
      "N9 idle 0,F:4,P:30\n",
      "N10 idle 0,F:12,P:20\n",
      "N11 idle 0,F:8,P:22\n",
      "N12 idle 0,F:0,P:28\n",
      "N13 idle 0,F:0,P:26\n",
      "N14 idle 0,F:0,P:24\n",
      "N15 idle 0,F:9,P:13\n",
      "N16 idle 0,F:0,P:20\n",
      "N17 idle 0,F:9,P:9\n",
      "N18 idle 0,F:0,P:16\n",
      "N19 idle 0,F:4,P:10\n",
      "N20 idle 0,F:1,P:11\n",
      "N21 idle 0,F:4,P:6\n",
      "N22 idle 0,F:3,P:4\n",
      "N23 idle 0,F:2,P:3\n",
      "N24 idle 0,F:1,P:2\n",
      "N25 idle 0,F:0,P:1\n",
      "N26 idle 0,F:0,P:0\n",
      "N27 idle 0,F:0,P:0\n",
      "N28 idle 0,F:0,P:0\n",
      "N29 idle 0,F:0,P:0\n",
      "N30 idle 0,F:0,P:0\n",
      "N31 idle 0,F:0,P:0\n",
      "N32 idle 0,F:0,P:0\n",
      "67 ====================\n",
      "R1 assembling 0.0118,F:0,P:33\n",
      "N1 idle 0,F:9,P:41\n",
      "N2 idle 0,F:25,P:23\n",
      "N3 idle 0,F:21,P:25\n",
      "N4 idle 0,F:12,P:32\n",
      "N5 idle 0,F:0,P:42\n",
      "N6 idle 0,F:3,P:37\n",
      "N7 idle 0,F:5,P:33\n",
      "N8 idle 0,F:14,P:22\n",
      "N9 idle 0,F:4,P:30\n",
      "N10 idle 0,F:12,P:20\n",
      "N11 idle 0,F:8,P:22\n",
      "N12 idle 0,F:0,P:28\n",
      "N13 idle 0,F:0,P:26\n",
      "N14 idle 0,F:0,P:24\n",
      "N15 idle 0,F:9,P:13\n",
      "N16 idle 0,F:0,P:20\n",
      "N17 idle 0,F:9,P:9\n",
      "N18 idle 0,F:0,P:16\n",
      "N19 idle 0,F:4,P:10\n",
      "N20 idle 0,F:1,P:11\n",
      "N21 idle 0,F:4,P:6\n",
      "N22 idle 0,F:3,P:4\n",
      "N23 idle 0,F:2,P:3\n",
      "N24 idle 0,F:1,P:2\n",
      "N25 idle 0,F:0,P:1\n",
      "N26 idle 0,F:0,P:0\n",
      "N27 idle 0,F:0,P:0\n",
      "N28 idle 0,F:0,P:0\n",
      "N29 idle 0,F:0,P:0\n",
      "N30 idle 0,F:0,P:0\n",
      "N31 idle 0,F:0,P:0\n",
      "N32 idle 0,F:0,P:0\n",
      "N33 idle 0,F:0,P:0\n",
      "68 ====================\n",
      "R1 assembling 0.0118,F:0,P:33\n",
      "N1 idle 0,F:9,P:41\n",
      "N2 idle 0,F:25,P:23\n",
      "N3 idle 0,F:21,P:25\n",
      "N4 idle 0,F:12,P:32\n",
      "N5 idle 0,F:0,P:42\n",
      "N6 idle 0,F:3,P:37\n",
      "N7 idle 0,F:5,P:33\n",
      "N8 idle 0,F:14,P:22\n",
      "N9 idle 0,F:4,P:30\n",
      "N10 idle 0,F:12,P:20\n",
      "N11 idle 0,F:8,P:22\n",
      "N12 idle 0,F:0,P:28\n",
      "N13 idle 0,F:0,P:26\n",
      "N14 idle 0,F:0,P:24\n",
      "N15 idle 0,F:9,P:13\n",
      "N16 idle 0,F:0,P:20\n",
      "N17 idle 0,F:9,P:9\n",
      "N18 idle 0,F:0,P:16\n",
      "N19 idle 0,F:4,P:10\n",
      "N20 idle 0,F:1,P:11\n",
      "N21 idle 0,F:4,P:6\n",
      "N22 idle 0,F:3,P:4\n",
      "N23 idle 0,F:2,P:3\n",
      "N24 idle 0,F:1,P:2\n",
      "N25 idle 0,F:0,P:1\n",
      "N26 idle 0,F:0,P:0\n",
      "N27 idle 0,F:0,P:0\n",
      "N28 idle 0,F:0,P:0\n",
      "N29 idle 0,F:0,P:0\n",
      "N30 idle 0,F:0,P:0\n",
      "N31 idle 0,F:0,P:0\n",
      "N32 idle 0,F:0,P:0\n",
      "N33 idle 0,F:0,P:0\n",
      "69 ====================\n",
      "R1 assembling 0.17220000000000002,F:0,P:34\n",
      "N1 idle 0,F:9,P:41\n",
      "N2 idle 0,F:25,P:23\n",
      "N3 idle 0,F:21,P:25\n",
      "N4 idle 0,F:12,P:32\n",
      "N5 idle 0,F:0,P:42\n",
      "N6 idle 0,F:3,P:37\n",
      "N7 idle 0,F:5,P:33\n",
      "N8 idle 0,F:14,P:22\n",
      "N9 idle 0,F:4,P:30\n",
      "N10 idle 0,F:12,P:20\n",
      "N11 idle 0,F:8,P:22\n",
      "N12 idle 0,F:0,P:28\n",
      "N13 idle 0,F:0,P:26\n",
      "N14 idle 0,F:0,P:24\n",
      "N15 idle 0,F:9,P:13\n",
      "N16 idle 0,F:0,P:20\n",
      "N17 idle 0,F:9,P:9\n",
      "N18 idle 0,F:0,P:16\n",
      "N19 idle 0,F:4,P:10\n",
      "N20 idle 0,F:1,P:11\n",
      "N21 idle 0,F:4,P:6\n",
      "N22 idle 0,F:3,P:4\n",
      "N23 idle 0,F:2,P:3\n",
      "N24 idle 0,F:1,P:2\n",
      "N25 idle 0,F:0,P:1\n",
      "N26 idle 0,F:0,P:0\n",
      "N27 idle 0,F:0,P:0\n",
      "N28 idle 0,F:0,P:0\n",
      "N29 idle 0,F:0,P:0\n",
      "N30 idle 0,F:0,P:0\n",
      "N31 idle 0,F:0,P:0\n",
      "N32 idle 0,F:0,P:0\n",
      "N33 idle 0,F:0,P:0\n",
      "N34 idle 0,F:0,P:0\n",
      "70 ====================\n",
      "R1 assembling 0.17220000000000002,F:0,P:34\n",
      "N1 idle 0,F:9,P:41\n",
      "N2 idle 0,F:25,P:23\n",
      "N3 idle 0,F:21,P:25\n",
      "N4 idle 0,F:12,P:32\n",
      "N5 idle 0,F:0,P:42\n",
      "N6 idle 0,F:3,P:37\n",
      "N7 idle 0,F:5,P:33\n",
      "N8 idle 0,F:14,P:22\n",
      "N9 idle 0,F:4,P:30\n",
      "N10 idle 0,F:12,P:20\n",
      "N11 idle 0,F:8,P:22\n",
      "N12 idle 0,F:0,P:28\n",
      "N13 idle 0,F:0,P:26\n",
      "N14 idle 0,F:0,P:24\n",
      "N15 idle 0,F:9,P:13\n",
      "N16 idle 0,F:0,P:20\n",
      "N17 idle 0,F:9,P:9\n",
      "N18 idle 0,F:0,P:16\n",
      "N19 idle 0,F:4,P:10\n",
      "N20 idle 0,F:1,P:11\n",
      "N21 idle 0,F:4,P:6\n",
      "N22 idle 0,F:3,P:4\n",
      "N23 idle 0,F:2,P:3\n",
      "N24 idle 0,F:1,P:2\n",
      "N25 idle 0,F:0,P:1\n",
      "N26 idle 0,F:0,P:0\n",
      "N27 idle 0,F:0,P:0\n",
      "N28 idle 0,F:0,P:0\n",
      "N29 idle 0,F:0,P:0\n",
      "N30 idle 0,F:0,P:0\n",
      "N31 idle 0,F:0,P:0\n",
      "N32 idle 0,F:0,P:0\n",
      "N33 idle 0,F:0,P:0\n",
      "N34 idle 0,F:0,P:0\n",
      "71 ====================\n",
      "R1 assembling 0.008400000000000001,F:0,P:35\n",
      "N1 idle 0,F:9,P:41\n",
      "N2 idle 0,F:25,P:23\n",
      "N3 idle 0,F:21,P:25\n",
      "N4 idle 0,F:12,P:32\n",
      "N5 idle 0,F:0,P:42\n",
      "N6 idle 0,F:3,P:37\n",
      "N7 idle 0,F:5,P:33\n",
      "N8 idle 0,F:14,P:22\n",
      "N9 idle 0,F:4,P:30\n",
      "N10 idle 0,F:12,P:20\n",
      "N11 idle 0,F:8,P:22\n",
      "N12 idle 0,F:0,P:28\n",
      "N13 idle 0,F:0,P:26\n",
      "N14 idle 0,F:0,P:24\n",
      "N15 idle 0,F:9,P:13\n",
      "N16 idle 0,F:0,P:20\n",
      "N17 idle 0,F:9,P:9\n",
      "N18 idle 0,F:0,P:16\n",
      "N19 idle 0,F:4,P:10\n",
      "N20 idle 0,F:1,P:11\n",
      "N21 idle 0,F:4,P:6\n",
      "N22 idle 0,F:3,P:4\n",
      "N23 idle 0,F:2,P:3\n",
      "N24 idle 0,F:1,P:2\n",
      "N25 idle 0,F:0,P:1\n",
      "N26 idle 0,F:0,P:0\n",
      "N27 idle 0,F:0,P:0\n",
      "N28 idle 0,F:0,P:0\n",
      "N29 idle 0,F:0,P:0\n",
      "N30 idle 0,F:0,P:0\n",
      "N31 idle 0,F:0,P:0\n",
      "N32 idle 0,F:0,P:0\n",
      "N33 idle 0,F:0,P:0\n",
      "N34 idle 0,F:0,P:0\n",
      "N35 idle 0,F:0,P:0\n",
      "72 ====================\n",
      "R1 assembling 0.008400000000000001,F:0,P:35\n",
      "N1 idle 0,F:9,P:41\n",
      "N2 idle 0,F:25,P:23\n",
      "N3 idle 0,F:21,P:25\n",
      "N4 idle 0,F:12,P:32\n",
      "N5 idle 0,F:0,P:42\n",
      "N6 idle 0,F:3,P:37\n",
      "N7 idle 0,F:5,P:33\n",
      "N8 idle 0,F:14,P:22\n",
      "N9 idle 0,F:4,P:30\n",
      "N10 idle 0,F:12,P:20\n",
      "N11 idle 0,F:8,P:22\n",
      "N12 idle 0,F:0,P:28\n",
      "N13 idle 0,F:0,P:26\n",
      "N14 idle 0,F:0,P:24\n",
      "N15 idle 0,F:9,P:13\n",
      "N16 idle 0,F:0,P:20\n",
      "N17 idle 0,F:9,P:9\n",
      "N18 idle 0,F:0,P:16\n",
      "N19 idle 0,F:4,P:10\n",
      "N20 idle 0,F:1,P:11\n",
      "N21 idle 0,F:4,P:6\n",
      "N22 idle 0,F:3,P:4\n",
      "N23 idle 0,F:2,P:3\n",
      "N24 idle 0,F:1,P:2\n",
      "N25 idle 0,F:0,P:1\n",
      "N26 idle 0,F:0,P:0\n",
      "N27 idle 0,F:0,P:0\n",
      "N28 idle 0,F:0,P:0\n",
      "N29 idle 0,F:0,P:0\n",
      "N30 idle 0,F:0,P:0\n",
      "N31 idle 0,F:0,P:0\n",
      "N32 idle 0,F:0,P:0\n",
      "N33 idle 0,F:0,P:0\n",
      "N34 idle 0,F:0,P:0\n",
      "N35 idle 0,F:0,P:0\n",
      "73 ====================\n",
      "R1 assembling 0.1512,F:0,P:36\n",
      "N1 idle 0,F:9,P:41\n",
      "N2 idle 0,F:25,P:23\n",
      "N3 idle 0,F:21,P:25\n",
      "N4 idle 0,F:12,P:32\n",
      "N5 idle 0,F:0,P:42\n",
      "N6 idle 0,F:3,P:37\n",
      "N7 idle 0,F:5,P:33\n",
      "N8 idle 0,F:14,P:22\n",
      "N9 idle 0,F:4,P:30\n",
      "N10 idle 0,F:12,P:20\n",
      "N11 idle 0,F:8,P:22\n",
      "N12 idle 0,F:0,P:28\n",
      "N13 idle 0,F:0,P:26\n",
      "N14 idle 0,F:0,P:24\n",
      "N15 idle 0,F:9,P:13\n",
      "N16 idle 0,F:0,P:20\n",
      "N17 idle 0,F:9,P:9\n",
      "N18 idle 0,F:0,P:16\n",
      "N19 idle 0,F:4,P:10\n",
      "N20 idle 0,F:1,P:11\n",
      "N21 idle 0,F:4,P:6\n",
      "N22 idle 0,F:3,P:4\n",
      "N23 idle 0,F:2,P:3\n",
      "N24 idle 0,F:1,P:2\n",
      "N25 idle 0,F:0,P:1\n",
      "N26 idle 0,F:0,P:0\n",
      "N27 idle 0,F:0,P:0\n",
      "N28 idle 0,F:0,P:0\n",
      "N29 idle 0,F:0,P:0\n",
      "N30 idle 0,F:0,P:0\n",
      "N31 idle 0,F:0,P:0\n",
      "N32 idle 0,F:0,P:0\n",
      "N33 idle 0,F:0,P:0\n",
      "N34 idle 0,F:0,P:0\n",
      "N35 idle 0,F:0,P:0\n",
      "N36 idle 0,F:0,P:0\n",
      "74 ====================\n",
      "R1 assembling 0.1512,F:0,P:36\n",
      "N1 idle 0,F:9,P:41\n",
      "N2 idle 0,F:25,P:23\n",
      "N3 idle 0,F:21,P:25\n",
      "N4 idle 0,F:12,P:32\n",
      "N5 idle 0,F:0,P:42\n",
      "N6 idle 0,F:3,P:37\n",
      "N7 idle 0,F:5,P:33\n",
      "N8 idle 0,F:14,P:22\n",
      "N9 idle 0,F:4,P:30\n",
      "N10 idle 0,F:12,P:20\n",
      "N11 idle 0,F:8,P:22\n",
      "N12 idle 0,F:0,P:28\n",
      "N13 idle 0,F:0,P:26\n",
      "N14 idle 0,F:0,P:24\n",
      "N15 idle 0,F:9,P:13\n",
      "N16 idle 0,F:0,P:20\n",
      "N17 idle 0,F:9,P:9\n",
      "N18 idle 0,F:0,P:16\n",
      "N19 idle 0,F:4,P:10\n",
      "N20 idle 0,F:1,P:11\n",
      "N21 idle 0,F:4,P:6\n",
      "N22 idle 0,F:3,P:4\n",
      "N23 idle 0,F:2,P:3\n",
      "N24 idle 0,F:1,P:2\n",
      "N25 idle 0,F:0,P:1\n",
      "N26 idle 0,F:0,P:0\n",
      "N27 idle 0,F:0,P:0\n",
      "N28 idle 0,F:0,P:0\n",
      "N29 idle 0,F:0,P:0\n",
      "N30 idle 0,F:0,P:0\n",
      "N31 idle 0,F:0,P:0\n",
      "N32 idle 0,F:0,P:0\n",
      "N33 idle 0,F:0,P:0\n",
      "N34 idle 0,F:0,P:0\n",
      "N35 idle 0,F:0,P:0\n",
      "N36 idle 0,F:0,P:0\n"
     ]
    },
    {
     "data": {
      "text/html": [
       "<div>\n",
       "<style scoped>\n",
       "    .dataframe tbody tr th:only-of-type {\n",
       "        vertical-align: middle;\n",
       "    }\n",
       "\n",
       "    .dataframe tbody tr th {\n",
       "        vertical-align: top;\n",
       "    }\n",
       "\n",
       "    .dataframe thead th {\n",
       "        text-align: right;\n",
       "    }\n",
       "</style>\n",
       "<table border=\"1\" class=\"dataframe\">\n",
       "  <thead>\n",
       "    <tr style=\"text-align: right;\">\n",
       "      <th></th>\n",
       "      <th>Time</th>\n",
       "      <th>NonPr</th>\n",
       "      <th>Printable</th>\n",
       "      <th>Materials</th>\n",
       "      <th>Env_Materials</th>\n",
       "      <th>#Replicator</th>\n",
       "      <th>#Normal</th>\n",
       "      <th>#Assembler</th>\n",
       "      <th>#Printer</th>\n",
       "      <th>#Assembling</th>\n",
       "      <th>#Printing</th>\n",
       "      <th>#Collecting</th>\n",
       "      <th>#Idle</th>\n",
       "      <th>#In</th>\n",
       "      <th>#Out</th>\n",
       "      <th>Average Build Quality in-service</th>\n",
       "      <th>Average Build Quality of System</th>\n",
       "      <th>#WasteReplicator</th>\n",
       "      <th>#WasteNormal</th>\n",
       "      <th>#WasteAssembler</th>\n",
       "      <th>#WastePrinter</th>\n",
       "      <th>Environment Exhaust Time</th>\n",
       "      <th>Printable Exhaust Time</th>\n",
       "      <th>NonPr Exhaust Time</th>\n",
       "      <th>Material Exhaust Time</th>\n",
       "      <th>Average Risk</th>\n",
       "      <th>Print Capacity</th>\n",
       "      <th>Assembling Capacity</th>\n",
       "      <th>Collection Capacity</th>\n",
       "    </tr>\n",
       "  </thead>\n",
       "  <tbody>\n",
       "    <tr>\n",
       "      <th>count</th>\n",
       "      <td>75.000000</td>\n",
       "      <td>75.000000</td>\n",
       "      <td>75.000000</td>\n",
       "      <td>75.000000</td>\n",
       "      <td>75.000000</td>\n",
       "      <td>75.0</td>\n",
       "      <td>75.000000</td>\n",
       "      <td>75.0</td>\n",
       "      <td>75.0</td>\n",
       "      <td>75.0</td>\n",
       "      <td>75.0</td>\n",
       "      <td>75.000000</td>\n",
       "      <td>75.000000</td>\n",
       "      <td>75.000000</td>\n",
       "      <td>75.0</td>\n",
       "      <td>75.000000</td>\n",
       "      <td>75.000000</td>\n",
       "      <td>75.0</td>\n",
       "      <td>75.0</td>\n",
       "      <td>75.0</td>\n",
       "      <td>75.0</td>\n",
       "      <td>75.000000</td>\n",
       "      <td>75.0</td>\n",
       "      <td>75.0</td>\n",
       "      <td>75.0</td>\n",
       "      <td>75.000000</td>\n",
       "      <td>75.0</td>\n",
       "      <td>75.0</td>\n",
       "      <td>75.000000</td>\n",
       "    </tr>\n",
       "    <tr>\n",
       "      <th>mean</th>\n",
       "      <td>37.000000</td>\n",
       "      <td>280.746667</td>\n",
       "      <td>61.493333</td>\n",
       "      <td>319.120000</td>\n",
       "      <td>230.880000</td>\n",
       "      <td>1.0</td>\n",
       "      <td>18.253333</td>\n",
       "      <td>0.0</td>\n",
       "      <td>0.0</td>\n",
       "      <td>1.0</td>\n",
       "      <td>0.0</td>\n",
       "      <td>8.613333</td>\n",
       "      <td>9.640000</td>\n",
       "      <td>19.253333</td>\n",
       "      <td>0.0</td>\n",
       "      <td>0.750920</td>\n",
       "      <td>0.750920</td>\n",
       "      <td>0.0</td>\n",
       "      <td>0.0</td>\n",
       "      <td>0.0</td>\n",
       "      <td>0.0</td>\n",
       "      <td>20.000000</td>\n",
       "      <td>0.0</td>\n",
       "      <td>0.0</td>\n",
       "      <td>0.0</td>\n",
       "      <td>0.674224</td>\n",
       "      <td>1.0</td>\n",
       "      <td>1.0</td>\n",
       "      <td>19.253333</td>\n",
       "    </tr>\n",
       "    <tr>\n",
       "      <th>std</th>\n",
       "      <td>21.794495</td>\n",
       "      <td>10.900153</td>\n",
       "      <td>21.800306</td>\n",
       "      <td>200.386583</td>\n",
       "      <td>200.386583</td>\n",
       "      <td>0.0</td>\n",
       "      <td>10.900153</td>\n",
       "      <td>0.0</td>\n",
       "      <td>0.0</td>\n",
       "      <td>0.0</td>\n",
       "      <td>0.0</td>\n",
       "      <td>8.464382</td>\n",
       "      <td>14.601592</td>\n",
       "      <td>10.900153</td>\n",
       "      <td>0.0</td>\n",
       "      <td>0.023086</td>\n",
       "      <td>0.023086</td>\n",
       "      <td>0.0</td>\n",
       "      <td>0.0</td>\n",
       "      <td>0.0</td>\n",
       "      <td>0.0</td>\n",
       "      <td>29.614642</td>\n",
       "      <td>0.0</td>\n",
       "      <td>0.0</td>\n",
       "      <td>0.0</td>\n",
       "      <td>0.459810</td>\n",
       "      <td>0.0</td>\n",
       "      <td>0.0</td>\n",
       "      <td>10.900153</td>\n",
       "    </tr>\n",
       "    <tr>\n",
       "      <th>min</th>\n",
       "      <td>0.000000</td>\n",
       "      <td>262.000000</td>\n",
       "      <td>24.000000</td>\n",
       "      <td>50.000000</td>\n",
       "      <td>0.000000</td>\n",
       "      <td>1.0</td>\n",
       "      <td>0.000000</td>\n",
       "      <td>0.0</td>\n",
       "      <td>0.0</td>\n",
       "      <td>1.0</td>\n",
       "      <td>0.0</td>\n",
       "      <td>0.000000</td>\n",
       "      <td>0.000000</td>\n",
       "      <td>1.000000</td>\n",
       "      <td>0.0</td>\n",
       "      <td>0.732000</td>\n",
       "      <td>0.732000</td>\n",
       "      <td>0.0</td>\n",
       "      <td>0.0</td>\n",
       "      <td>0.0</td>\n",
       "      <td>0.0</td>\n",
       "      <td>0.000000</td>\n",
       "      <td>0.0</td>\n",
       "      <td>0.0</td>\n",
       "      <td>0.0</td>\n",
       "      <td>0.000000</td>\n",
       "      <td>1.0</td>\n",
       "      <td>1.0</td>\n",
       "      <td>1.000000</td>\n",
       "    </tr>\n",
       "    <tr>\n",
       "      <th>25%</th>\n",
       "      <td>18.500000</td>\n",
       "      <td>271.500000</td>\n",
       "      <td>43.000000</td>\n",
       "      <td>116.000000</td>\n",
       "      <td>0.000000</td>\n",
       "      <td>1.0</td>\n",
       "      <td>9.000000</td>\n",
       "      <td>0.0</td>\n",
       "      <td>0.0</td>\n",
       "      <td>1.0</td>\n",
       "      <td>0.0</td>\n",
       "      <td>0.000000</td>\n",
       "      <td>0.000000</td>\n",
       "      <td>10.000000</td>\n",
       "      <td>0.0</td>\n",
       "      <td>0.738000</td>\n",
       "      <td>0.738000</td>\n",
       "      <td>0.0</td>\n",
       "      <td>0.0</td>\n",
       "      <td>0.0</td>\n",
       "      <td>0.0</td>\n",
       "      <td>0.000000</td>\n",
       "      <td>0.0</td>\n",
       "      <td>0.0</td>\n",
       "      <td>0.0</td>\n",
       "      <td>0.033908</td>\n",
       "      <td>1.0</td>\n",
       "      <td>1.0</td>\n",
       "      <td>10.000000</td>\n",
       "    </tr>\n",
       "    <tr>\n",
       "      <th>50%</th>\n",
       "      <td>37.000000</td>\n",
       "      <td>281.000000</td>\n",
       "      <td>62.000000</td>\n",
       "      <td>311.000000</td>\n",
       "      <td>239.000000</td>\n",
       "      <td>1.0</td>\n",
       "      <td>18.000000</td>\n",
       "      <td>0.0</td>\n",
       "      <td>0.0</td>\n",
       "      <td>1.0</td>\n",
       "      <td>0.0</td>\n",
       "      <td>7.000000</td>\n",
       "      <td>0.000000</td>\n",
       "      <td>19.000000</td>\n",
       "      <td>0.0</td>\n",
       "      <td>0.745000</td>\n",
       "      <td>0.745000</td>\n",
       "      <td>0.0</td>\n",
       "      <td>0.0</td>\n",
       "      <td>0.0</td>\n",
       "      <td>0.0</td>\n",
       "      <td>0.000000</td>\n",
       "      <td>0.0</td>\n",
       "      <td>0.0</td>\n",
       "      <td>0.0</td>\n",
       "      <td>1.000000</td>\n",
       "      <td>1.0</td>\n",
       "      <td>1.0</td>\n",
       "      <td>19.000000</td>\n",
       "    </tr>\n",
       "    <tr>\n",
       "      <th>75%</th>\n",
       "      <td>55.500000</td>\n",
       "      <td>290.000000</td>\n",
       "      <td>80.000000</td>\n",
       "      <td>550.000000</td>\n",
       "      <td>434.000000</td>\n",
       "      <td>1.0</td>\n",
       "      <td>27.500000</td>\n",
       "      <td>0.0</td>\n",
       "      <td>0.0</td>\n",
       "      <td>1.0</td>\n",
       "      <td>0.0</td>\n",
       "      <td>16.000000</td>\n",
       "      <td>27.500000</td>\n",
       "      <td>28.500000</td>\n",
       "      <td>0.0</td>\n",
       "      <td>0.755000</td>\n",
       "      <td>0.755000</td>\n",
       "      <td>0.0</td>\n",
       "      <td>0.0</td>\n",
       "      <td>0.0</td>\n",
       "      <td>0.0</td>\n",
       "      <td>55.500000</td>\n",
       "      <td>0.0</td>\n",
       "      <td>0.0</td>\n",
       "      <td>0.0</td>\n",
       "      <td>1.000000</td>\n",
       "      <td>1.0</td>\n",
       "      <td>1.0</td>\n",
       "      <td>28.500000</td>\n",
       "    </tr>\n",
       "    <tr>\n",
       "      <th>max</th>\n",
       "      <td>74.000000</td>\n",
       "      <td>299.000000</td>\n",
       "      <td>98.000000</td>\n",
       "      <td>550.000000</td>\n",
       "      <td>500.000000</td>\n",
       "      <td>1.0</td>\n",
       "      <td>37.000000</td>\n",
       "      <td>0.0</td>\n",
       "      <td>0.0</td>\n",
       "      <td>1.0</td>\n",
       "      <td>0.0</td>\n",
       "      <td>25.000000</td>\n",
       "      <td>37.000000</td>\n",
       "      <td>38.000000</td>\n",
       "      <td>0.0</td>\n",
       "      <td>0.856000</td>\n",
       "      <td>0.856000</td>\n",
       "      <td>0.0</td>\n",
       "      <td>0.0</td>\n",
       "      <td>0.0</td>\n",
       "      <td>0.0</td>\n",
       "      <td>74.000000</td>\n",
       "      <td>0.0</td>\n",
       "      <td>0.0</td>\n",
       "      <td>0.0</td>\n",
       "      <td>1.000000</td>\n",
       "      <td>1.0</td>\n",
       "      <td>1.0</td>\n",
       "      <td>38.000000</td>\n",
       "    </tr>\n",
       "  </tbody>\n",
       "</table>\n",
       "</div>"
      ],
      "text/plain": [
       "            Time       NonPr  Printable   Materials  Env_Materials  \\\n",
       "count  75.000000   75.000000  75.000000   75.000000      75.000000   \n",
       "mean   37.000000  280.746667  61.493333  319.120000     230.880000   \n",
       "std    21.794495   10.900153  21.800306  200.386583     200.386583   \n",
       "min     0.000000  262.000000  24.000000   50.000000       0.000000   \n",
       "25%    18.500000  271.500000  43.000000  116.000000       0.000000   \n",
       "50%    37.000000  281.000000  62.000000  311.000000     239.000000   \n",
       "75%    55.500000  290.000000  80.000000  550.000000     434.000000   \n",
       "max    74.000000  299.000000  98.000000  550.000000     500.000000   \n",
       "\n",
       "       #Replicator    #Normal  #Assembler  #Printer  #Assembling  #Printing  \\\n",
       "count         75.0  75.000000        75.0      75.0         75.0       75.0   \n",
       "mean           1.0  18.253333         0.0       0.0          1.0        0.0   \n",
       "std            0.0  10.900153         0.0       0.0          0.0        0.0   \n",
       "min            1.0   0.000000         0.0       0.0          1.0        0.0   \n",
       "25%            1.0   9.000000         0.0       0.0          1.0        0.0   \n",
       "50%            1.0  18.000000         0.0       0.0          1.0        0.0   \n",
       "75%            1.0  27.500000         0.0       0.0          1.0        0.0   \n",
       "max            1.0  37.000000         0.0       0.0          1.0        0.0   \n",
       "\n",
       "       #Collecting      #Idle        #In  #Out  \\\n",
       "count    75.000000  75.000000  75.000000  75.0   \n",
       "mean      8.613333   9.640000  19.253333   0.0   \n",
       "std       8.464382  14.601592  10.900153   0.0   \n",
       "min       0.000000   0.000000   1.000000   0.0   \n",
       "25%       0.000000   0.000000  10.000000   0.0   \n",
       "50%       7.000000   0.000000  19.000000   0.0   \n",
       "75%      16.000000  27.500000  28.500000   0.0   \n",
       "max      25.000000  37.000000  38.000000   0.0   \n",
       "\n",
       "       Average Build Quality in-service  Average Build Quality of System  \\\n",
       "count                         75.000000                        75.000000   \n",
       "mean                           0.750920                         0.750920   \n",
       "std                            0.023086                         0.023086   \n",
       "min                            0.732000                         0.732000   \n",
       "25%                            0.738000                         0.738000   \n",
       "50%                            0.745000                         0.745000   \n",
       "75%                            0.755000                         0.755000   \n",
       "max                            0.856000                         0.856000   \n",
       "\n",
       "       #WasteReplicator  #WasteNormal  #WasteAssembler  #WastePrinter  \\\n",
       "count              75.0          75.0             75.0           75.0   \n",
       "mean                0.0           0.0              0.0            0.0   \n",
       "std                 0.0           0.0              0.0            0.0   \n",
       "min                 0.0           0.0              0.0            0.0   \n",
       "25%                 0.0           0.0              0.0            0.0   \n",
       "50%                 0.0           0.0              0.0            0.0   \n",
       "75%                 0.0           0.0              0.0            0.0   \n",
       "max                 0.0           0.0              0.0            0.0   \n",
       "\n",
       "       Environment Exhaust Time  Printable Exhaust Time  NonPr Exhaust Time  \\\n",
       "count                 75.000000                    75.0                75.0   \n",
       "mean                  20.000000                     0.0                 0.0   \n",
       "std                   29.614642                     0.0                 0.0   \n",
       "min                    0.000000                     0.0                 0.0   \n",
       "25%                    0.000000                     0.0                 0.0   \n",
       "50%                    0.000000                     0.0                 0.0   \n",
       "75%                   55.500000                     0.0                 0.0   \n",
       "max                   74.000000                     0.0                 0.0   \n",
       "\n",
       "       Material Exhaust Time  Average Risk  Print Capacity  \\\n",
       "count                   75.0     75.000000            75.0   \n",
       "mean                     0.0      0.674224             1.0   \n",
       "std                      0.0      0.459810             0.0   \n",
       "min                      0.0      0.000000             1.0   \n",
       "25%                      0.0      0.033908             1.0   \n",
       "50%                      0.0      1.000000             1.0   \n",
       "75%                      0.0      1.000000             1.0   \n",
       "max                      0.0      1.000000             1.0   \n",
       "\n",
       "       Assembling Capacity  Collection Capacity  \n",
       "count                 75.0            75.000000  \n",
       "mean                   1.0            19.253333  \n",
       "std                    0.0            10.900153  \n",
       "min                    1.0             1.000000  \n",
       "25%                    1.0            10.000000  \n",
       "50%                    1.0            19.000000  \n",
       "75%                    1.0            28.500000  \n",
       "max                    1.0            38.000000  "
      ]
     },
     "metadata": {},
     "output_type": "display_data"
    }
   ],
   "source": [
    "def main(configname,timesteps):\n",
    "    df = pd.DataFrame(columns = table_columns)\n",
    "    build_qual_range = [0.85,0.95]\n",
    "    init_build_qual = random.uniform(build_qual_range[0],build_qual_range[1])\n",
    "    if configname==\"CHO\":\n",
    "        df = CHO(timesteps,df,init_build_qual)  \n",
    "#         plotdf(df,configname,[\"#In\", \"#Out\"])\n",
    "    \n",
    "#     display(df)\n",
    "    display(df.describe())\n",
    "    \n",
    "        \n",
    "if __name__ == \"__main__\":\n",
    "    main(\"CHO\",75) #2000"
   ]
  },
  {
   "cell_type": "code",
   "execution_count": null,
   "id": "35c40470",
   "metadata": {},
   "outputs": [],
   "source": []
  },
  {
   "cell_type": "code",
   "execution_count": null,
   "id": "f34b5222",
   "metadata": {},
   "outputs": [],
   "source": []
  },
  {
   "cell_type": "code",
   "execution_count": null,
   "id": "4b9acb99",
   "metadata": {},
   "outputs": [],
   "source": []
  },
  {
   "cell_type": "code",
   "execution_count": null,
   "id": "036f3ae5",
   "metadata": {},
   "outputs": [],
   "source": []
  },
  {
   "cell_type": "code",
   "execution_count": null,
   "id": "757ec44d",
   "metadata": {},
   "outputs": [],
   "source": []
  },
  {
   "cell_type": "markdown",
   "id": "70e4e302",
   "metadata": {},
   "source": [
    "# Do not run below"
   ]
  },
  {
   "cell_type": "code",
   "execution_count": 1619,
   "id": "943985e5",
   "metadata": {},
   "outputs": [],
   "source": [
    "def DHO(timesteps,robotlist,df):\n",
    "    totlist = robotlist\n",
    "    useless = []\n",
    "\n",
    "    # number of bots working\n",
    "    listnumCollecting = []\n",
    "    listnumPrinting = []\n",
    "    listnumAssembling = []\n",
    "\n",
    "    # use lists\n",
    "    tcoordslist = []\n",
    "    rcoordslist = []\n",
    "    wastecoordslist = []\n",
    "    t_build_quality_list = []\n",
    "\n",
    "    #Lists used for visualization\n",
    "    checkENV = 0\n",
    "    checkPrint = 0\n",
    "    checkNonPr = 0\n",
    "    checkMat = 0\n",
    "    \n",
    "    for t in range(0,timesteps):\n",
    "\n",
    "        for i in range(len(robotlist)):\n",
    "            # IDLE\n",
    "            if(robotlist[i].current_task==\"idle\"):\n",
    "\n",
    "                # Replicator\n",
    "                if(robotlist[i].type == \"Replicator\"):\n",
    "\n",
    "                    if(assembleCheck(robotlist[i],\"Replicator\")):\n",
    "                        assembling(robotlist[i],\"Replicator\")\n",
    "                    elif(printCheck(robotlist[i])):\n",
    "                        printing(robotlist[i])\n",
    "                    elif(collectCheck(robotlist[i])):\n",
    "                        collecting(robotlist[i])\t\n",
    "                    else:\n",
    "                        robotlist[i].set_prev_task(robotlist[i].get_curr_task())\n",
    "                        robotlist[i].set_task_dur(0)\n",
    "                        robotlist[i].set_curr_task(\"idle\")\n",
    "\n",
    "                # Normal\n",
    "                elif(robotlist[i].type == \"Normal\"):\n",
    "                    canCollect = collectCheck(robotlist[i])\n",
    "                    # print(t,robotlist[i].id,canCollect)\n",
    "                    if canCollect:\n",
    "                        collecting(robotlist[i])\n",
    "                    else:\n",
    "                        robotlist[i].set_prev_task(robotlist[i].get_curr_task())\n",
    "                        robotlist[i].set_task_dur(0)\n",
    "                        robotlist[i].set_curr_task(\"idle\")\n",
    "\n",
    "            # NOT IDLE\n",
    "            else:\n",
    "                # reduce task duration every time step\n",
    "                if(robotlist[i].tasks_dur - 1 != 0):\n",
    "                    robotlist[i].set_task_dur(robotlist[i].tasks_dur - 1)\n",
    "\n",
    "                # Replicator \n",
    "                elif(robotlist[i].tasks_dur - 1 == 0 and robotlist[i].type == \"Replicator\"):\n",
    "                    # check if it can keep assembling next time step\n",
    "                    if(assembleCheck(robotlist[i],\"Replicator\")):\n",
    "                        isAssembling = assembling(robotlist[i],\"Replicator\")\n",
    "                    elif(printCheck(robotlist[i])):\n",
    "                        isPrinting = printing(robotlist[i])\t\n",
    "                    elif(collectCheck(robotlist[i])):\n",
    "                        collecting(robotlist[i])\t\n",
    "                    else:\n",
    "                        robotlist[i].set_prev_task(robotlist[i].get_curr_task())\n",
    "                        robotlist[i].set_task_dur(0)\n",
    "                        robotlist[i].set_curr_task(\"idle\")\n",
    "\n",
    "                    # it enters this loop only when it has to pop a new robot\n",
    "                    if(robotlist[i].get_prev_task()==\"assembling\"):\n",
    "                        newbot = assemble(robotlist[i],\"Replicator\")\n",
    "                        if newbot and newbot.build_qual>=0.5:\n",
    "                            if(newbot.type == \"Normal\"):\n",
    "                                canCollect = collectCheck(newbot)\n",
    "                                if canCollect:\n",
    "                                    collecting(newbot)\n",
    "                            if(newbot.type == \"Replicator\"):\n",
    "                                if(assembleCheck(newbot,\"Replicator\")):\n",
    "                                    assembling(newbot,\"Replicator\")\n",
    "                                elif(printCheck(robotlist[i])):\n",
    "                                    printing(robotlist[i])\n",
    "                                elif(collectCheck(robotlist[i])):\n",
    "                                    collecting(robotlist[i])\t\n",
    "                                else:\n",
    "                                    newbot.set_prev_task(robotlist[i].get_curr_task())\n",
    "                                    newbot.set_task_dur(0)\n",
    "                                    newbot.set_curr_task(\"idle\")\n",
    "                            totlist.append(newbot)\n",
    "                            robotlist.append(newbot)\n",
    "                        else:\n",
    "                            totlist.append(newbot)\n",
    "                            useless.append(newbot)\n",
    "                        robotlist[i].set_prev_task(robotlist[i].current_task)\n",
    "\n",
    "                # Normal\n",
    "                elif(robotlist[i].type == \"Normal\"):\n",
    "                    canCollect = collectCheck(robotlist[i])\n",
    "                    if(canCollect):\n",
    "                        collecting(robotlist[i])\n",
    "                    else:\n",
    "                        robotlist[i].set_prev_task(robotlist[i].get_curr_task())\n",
    "                        robotlist[i].set_task_dur(0)\n",
    "                        robotlist[i].set_curr_task(\"idle\")\n",
    "\n",
    "        build_quality_list,vals = configHandler(t,totlist,robotlist,useless,checkENV,checkPrint,checkNonPr,checkMat)\n",
    "        df.loc[len(df)] = [t,NonPr,Printable,Materials,Env_Materials]+vals\n",
    "        tcoordslist.append(t)\n",
    "        rcoordslist.append(len(robotlist)) \n",
    "        wastecoordslist.append(len(useless))\n",
    "        t_build_quality_list.append(build_quality_list)\n",
    "        \n",
    "    df[\"Print Capacity\"] = df[[\"#Printer\", \"#Replicator\"]].sum(axis=1)\n",
    "    df[\"Assembling Capacity\"] = df[[\"#Assembler\", \"#Replicator\"]].sum(axis=1)\n",
    "    df[\"Collection Capacity\"] = df[[\"#Printer\", \"#Replicator\", \"#Assembler\", \"#Normal\"]].sum(axis=1)\n",
    "    return df"
   ]
  },
  {
   "cell_type": "code",
   "execution_count": 1620,
   "id": "3393fd3b",
   "metadata": {},
   "outputs": [],
   "source": [
    "def HHO(timesteps,robotlist,df):\n",
    "    totlist = robotlist\n",
    "    useless = []\n",
    "\n",
    "    # number of bots working\n",
    "    listnumCollecting = []\n",
    "    listnumPrinting = []\n",
    "    listnumAssembling = []\n",
    "\n",
    "    # use lists\n",
    "    tcoordslist = []\n",
    "    rcoordslist = []\n",
    "    wastecoordslist = []\n",
    "    t_build_quality_list = []\n",
    "\n",
    "    #Lists used for visualization\n",
    "    checkENV = 0\n",
    "    checkPrint = 0\n",
    "    checkNonPr = 0\n",
    "    checkMat = 0\n",
    "    \n",
    "    for t in range(0, timesteps):\n",
    "\n",
    "        for i in range(len(robotlist)):\n",
    "            # IDLE\n",
    "            if (robotlist[i].current_task == \"idle\"):\n",
    "                # Replicator\n",
    "                if (robotlist[i].type == \"Replicator\"):\n",
    "\n",
    "                    if (robotlist[i].get_previously_built() == \"\"):\n",
    "                        if (assembleCheck(robotlist[i],\"Replicator\")):\n",
    "                            isAssembling = assembling(robotlist[i], \"Replicator\")\n",
    "                        elif (assembleCheck(robotlist[i],\"Normal\")):\n",
    "                            isAssembling = assembling(robotlist[i], \"Normal\")\n",
    "                        elif (printCheck(robotlist[i])):\n",
    "                            printing(robotlist[i])\n",
    "                        else:\n",
    "                            robotlist[i].set_prev_task(robotlist[i].get_curr_task())\n",
    "                            robotlist[i].set_task_dur(0)\n",
    "                            robotlist[i].set_curr_task(\"idle\")\n",
    "\n",
    "                    else:\n",
    "                        if (assembleCheck(robotlist[i],\"Normal\") and robotlist[i].get_previously_built() == \"Replicator\"):\n",
    "                            assembling(robotlist[i], \"Normal\")\n",
    "                        elif (assembleCheck(robotlist[i],\"Replicator\") and robotlist[i].get_previously_built() == \"Normal\"):\n",
    "                            assembling(robotlist[i], \"Replicator\")\n",
    "                        elif (printCheck(robotlist[i])):\n",
    "                            printing(robotlist[i])\n",
    "                        else:\n",
    "                            robotlist[i].set_prev_task(robotlist[i].get_curr_task())\n",
    "                            robotlist[i].set_task_dur(0)\n",
    "                            robotlist[i].set_curr_task(\"idle\")\n",
    "\n",
    "                # Normal\n",
    "                elif (robotlist[i].type == \"Normal\"):\n",
    "                    canCollect = collectCheck(robotlist[i])\n",
    "                    if canCollect:\n",
    "                        collecting(robotlist[i])\n",
    "                    else:\n",
    "                        robotlist[i].set_prev_task(robotlist[i].get_curr_task())\n",
    "                        robotlist[i].set_task_dur(0)\n",
    "                        robotlist[i].set_curr_task(\"idle\")\n",
    "\n",
    "            # NOT IDLE\n",
    "            else:\n",
    "                # reduce task duration every time step\n",
    "                if (robotlist[i].tasks_dur - 1 != 0):\n",
    "                    robotlist[i].set_task_dur(robotlist[i].tasks_dur - 1)\n",
    "\n",
    "                # Replicator\n",
    "                elif (robotlist[i].tasks_dur - 1 == 0 and robotlist[i].type == \"Replicator\"):\n",
    "                    # check if it can keep assembling next time step\n",
    "                    if (assembleCheck(robotlist[i],\"Normal\") and robotlist[i].get_previously_built() == \"Replicator\"):\n",
    "                        assembling(robotlist[i], \"Normal\")\n",
    "                    elif (assembleCheck(robotlist[i],\"Replicator\") and robotlist[i].get_previously_built() == \"Normal\"):\n",
    "                        assembling(robotlist[i], \"Replicator\")\n",
    "                        # checking if robot can collect\n",
    "                    elif (printCheck(robotlist[i])):\n",
    "                        printing(robotlist[i])\n",
    "                    else:\n",
    "                        robotlist[i].set_prev_task(robotlist[i].get_curr_task())\n",
    "                        robotlist[i].set_task_dur(0)\n",
    "                        robotlist[i].set_curr_task(\"idle\")\n",
    "\n",
    "                    # it enters this loop only when it has to pop a new robot\n",
    "                    if (robotlist[i].get_prev_task() == \"assembling\"):\n",
    "\n",
    "                        if (robotlist[i].get_previously_built() == \"Normal\"):\n",
    "                            newbot = assemble(robotlist[i], \"Replicator\")\n",
    "                        elif (robotlist[i].get_previously_built() == \"Replicator\"):\n",
    "                            newbot = assemble(robotlist[i], \"Normal\")\n",
    "                        else:\n",
    "                            newbot = assemble(robotlist[i], \"Replicator\")\n",
    "\n",
    "                        if newbot and newbot.build_qual >= 0.5:\n",
    "\n",
    "                            if (newbot.type == \"Normal\"):\n",
    "                                canCollect = collectCheck(newbot)\n",
    "                                if canCollect:\n",
    "                                    collecting(newbot)\n",
    "\n",
    "                            if (newbot.type == \"Replicator\"):\n",
    "\n",
    "                                if (newbot.get_previously_built() == \"\"):\n",
    "                                    if (assembleCheck(newbot,\"Replicator\")):\n",
    "                                        isAssembling = assembling(newbot, \"Replicator\")\n",
    "                                    elif (assembleCheck(newbot,\"Normal\")):\n",
    "                                        isAssembling = assembling(newbot, \"Normal\")\n",
    "                                    elif (printCheck(newbot)):\n",
    "                                        printing(newbot)\n",
    "                                    else:\n",
    "                                        newbot.set_prev_task(newbot.get_curr_task())\n",
    "                                        newbot.set_task_dur(0)\n",
    "                                        newbot.set_curr_task(\"idle\")\n",
    "\n",
    "                                else:\n",
    "                                    if (assembleCheck(newbot,\"Normal\") and newbot.get_previously_built() == \"Replicator\"):\n",
    "                                        assembling(newbot, \"Normal\")\n",
    "                                    elif (assembleCheck(newbot,\"Replicator\") and newbot.get_previously_built() == \"Normal\"):\n",
    "                                        assembling(newbot, \"Replicator\")\n",
    "                                    # checking if robot can collect\n",
    "                                    elif (printCheck(newbot)):\n",
    "                                        printing(newbot)\n",
    "                                    else:\n",
    "                                        newbot.set_prev_task(newbot.get_curr_task())\n",
    "                                        newbot.set_task_dur(0)\n",
    "                                        newbot.set_curr_task(\"idle\")\n",
    "\n",
    "\n",
    "                            totlist.append(newbot)\n",
    "                            robotlist.append(newbot)\n",
    "                        else:\n",
    "                            totlist.append(newbot)\n",
    "                            useless.append(newbot)\n",
    "#                         robotlist[i].set_prev_task(robotlist[i].current_task)\n",
    "\n",
    "                # Normal\n",
    "                elif (robotlist[i].type == \"Normal\"):\n",
    "                    canCollect = collectCheck(robotlist[i])\n",
    "                    if (canCollect):\n",
    "                        collecting(robotlist[i])\n",
    "                    else:\n",
    "                        robotlist[i].set_prev_task(robotlist[i].get_curr_task())\n",
    "                        robotlist[i].set_task_dur(0)\n",
    "                        robotlist[i].set_curr_task(\"idle\")\n",
    "\n",
    "\n",
    "                        \n",
    "        build_quality_list,vals = configHandler(t,totlist,robotlist,useless,checkENV,checkPrint,checkNonPr,checkMat)\n",
    "        df.loc[len(df)] = [t,NonPr,Printable,Materials,Env_Materials]+vals\n",
    "        tcoordslist.append(t)\n",
    "        rcoordslist.append(len(robotlist)) \n",
    "        wastecoordslist.append(len(useless))\n",
    "        t_build_quality_list.append(build_quality_list)\n",
    "        \n",
    "    df[\"Print Capacity\"] = df[[\"#Printer\", \"#Replicator\"]].sum(axis=1)\n",
    "    df[\"Assembling Capacity\"] = df[[\"#Assembler\", \"#Replicator\"]].sum(axis=1)\n",
    "    df[\"Collection Capacity\"] = df[[\"#Printer\", \"#Replicator\", \"#Assembler\", \"#Normal\"]].sum(axis=1)\n",
    "    return df"
   ]
  },
  {
   "cell_type": "code",
   "execution_count": 1621,
   "id": "308272ac",
   "metadata": {},
   "outputs": [],
   "source": [
    "def CHE(timesteps,robotlist,df):\n",
    "    totlist = robotlist\n",
    "    useless = []\n",
    "\n",
    "    # number of bots working\n",
    "    listnumCollecting = []\n",
    "    listnumPrinting = []\n",
    "    listnumAssembling = []\n",
    "\n",
    "    # use lists\n",
    "    tcoordslist = []\n",
    "    rcoordslist = []\n",
    "    wastecoordslist = []\n",
    "    t_build_quality_list = []\n",
    "\n",
    "    #Lists used for visualization\n",
    "    checkENV = 0\n",
    "    checkPrint = 0\n",
    "    checkNonPr = 0\n",
    "    checkMat = 0\n",
    "    \n",
    "    for t in range(0,timesteps):\n",
    "\n",
    "        #Parsing through complete robot list to check their availability\n",
    "        for i in range(len(robotlist)):\n",
    "            #Checking if robot is idle\n",
    "            if(robotlist[i].current_task==\"idle\"):\n",
    "\n",
    "                #If idle and replicator\n",
    "                if(robotlist[i].type == \"Replicator\"):\n",
    "\n",
    "                    #Checking if robot can assemble\n",
    "                    if(assembleCheck(robotlist[i],\"Replicator\")):\n",
    "                        #Starting the assembly process + reducing resources\n",
    "                        assembling(robotlist[i],\"Replicator\")\n",
    "\n",
    "                    #checking if robot can print\n",
    "                    elif(printCheck(robotlist[i])):\n",
    "                        #Starting the printing process + reducing resources\n",
    "                        printing(robotlist[i])\n",
    "\n",
    "                    #checking if robot can collect\n",
    "                    elif(collectCheck(robotlist[i])):\n",
    "                        #Starting the collecting process + reducing resources\n",
    "                        collecting(robotlist[i])\n",
    "\n",
    "                    #If can't do any task then set robot to idle\n",
    "                    else:\n",
    "                        robotlist[i].set_prev_task(robotlist[i].get_curr_task())\n",
    "                        robotlist[i].set_task_dur(0)\n",
    "                        robotlist[i].set_curr_task(\"idle\")\n",
    "\n",
    "                # If idle and printer\n",
    "                elif(robotlist[i].type == \"Printer\"):\n",
    "                    if(printCheck(robotlist[i])):\n",
    "                        isPrinting = printing(robotlist[i])\n",
    "                    elif(collectCheck(robotlist[i])):\n",
    "                        collecting(robotlist[i])\n",
    "                    else:\n",
    "                        robotlist[i].set_prev_task(robotlist[i].get_curr_task())\n",
    "                        robotlist[i].set_task_dur(0)\n",
    "                        robotlist[i].set_curr_task(\"idle\")\n",
    "\n",
    "                # If idle and assembler\n",
    "                elif(robotlist[i].type == \"Assembler\"):\n",
    "\n",
    "                    if(assembleCheck(robotlist[i],\"Normal\")):\n",
    "                        assembling(robotlist[i],\"Normal\")\n",
    "                    elif(collectCheck(robotlist[i])):\n",
    "                        collecting(robotlist[i])\n",
    "                    else:\n",
    "                        robotlist[i].set_prev_task(robotlist[i].get_curr_task())\n",
    "                        robotlist[i].set_task_dur(0)\n",
    "                        robotlist[i].set_curr_task(\"idle\")\n",
    "\n",
    "                #If idle and collector\n",
    "                elif(robotlist[i].type == \"Normal\"):\n",
    "                    # checking if robot can collect\n",
    "                    if (collectCheck(robotlist[i])):\n",
    "                        # Starting the collecting process + reducing resources\n",
    "                        collecting(robotlist[i])\n",
    "                    else:\n",
    "                        robotlist[i].set_prev_task(robotlist[i].get_curr_task())\n",
    "                        robotlist[i].set_task_dur(0)\n",
    "                        robotlist[i].set_curr_task(\"idle\")\n",
    "\n",
    "            #If robot is not idle\n",
    "            else:\n",
    "\n",
    "                #Reduce task duration if task not ending in the next time step\n",
    "                if(robotlist[i].tasks_dur - 1 != 0):\n",
    "                    robotlist[i].set_task_dur(robotlist[i].tasks_dur - 1)\n",
    "\n",
    "                #If task is ending in the next time step and Printer\n",
    "                elif(robotlist[i].tasks_dur - 1 == 0 and robotlist[i].type == \"Printer\"):\n",
    "\n",
    "                    # checking if robot can print\n",
    "                    if(printCheck(robotlist[i])):\n",
    "                        # Starting the printing process + reducing resources\n",
    "                        printing(robotlist[i])\n",
    "\n",
    "                    # checking if robot can collect\n",
    "                    elif(collectCheck(robotlist[i])):\n",
    "                        # Starting the collecting process + reducing resources\n",
    "                        collecting(robotlist[i])\n",
    "\n",
    "                    # If can't do any task then set robot to idle\n",
    "                    else:\n",
    "                        robotlist[i].set_prev_task(robotlist[i].get_curr_task())\n",
    "                        robotlist[i].set_task_dur(0)\n",
    "                        robotlist[i].set_curr_task(\"idle\")\n",
    "\n",
    "\n",
    "\n",
    "\n",
    "                #If task is ending in the next time step and current robot is Assembler\n",
    "                elif(robotlist[i].tasks_dur - 1 == 0 and robotlist[i].type == \"Assembler\"):\n",
    "\n",
    "                    # check if it can keep assembling next time step\n",
    "                    if(assembleCheck(robotlist[i],\"Normal\")):\n",
    "                        # Starting the assembly process + reducing resources\n",
    "                        assembling(robotlist[i],\"Normal\")\n",
    "\n",
    "                    # checking if robot can collect\n",
    "                    elif(collectCheck(robotlist[i])):\n",
    "                        # Starting the collecting process + reducing resources\n",
    "                        collecting(robotlist[i])\n",
    "\n",
    "                    # If can't do any task then set robot to idle\n",
    "                    else:\n",
    "                        robotlist[i].set_prev_task(robotlist[i].get_curr_task())\n",
    "                        robotlist[i].set_task_dur(0)\n",
    "                        robotlist[i].set_curr_task(\"idle\")\n",
    "\n",
    "                    #If robot task is ending in the next step\n",
    "                    #Create a new robot for the robot list that can start working the next cycle\n",
    "                    if(robotlist[i].get_prev_task()==\"assembling\"):\n",
    "\n",
    "                        # Build a new replicator\n",
    "                        newbot = assemble(robotlist[i],\"Normal\")\n",
    "\n",
    "                        # If newbot passes the quality check\n",
    "                        if newbot and newbot.build_qual>=0.5:\n",
    "\n",
    "                            #If newbot is a collector\n",
    "                            if(newbot.type == \"Normal\"):\n",
    "                                # checking if robot can collect\n",
    "                                if(collectCheck(newbot)):\n",
    "                                    # Starting the collecting process + reducing resources\n",
    "                                    collecting(newbot)\n",
    "                                else:\n",
    "                                    newbot.set_prev_task(newbot.get_curr_task())\n",
    "                                    newbot.set_task_dur(0)\n",
    "                                    newbot.set_curr_task(\"idle\")\n",
    "\n",
    "                            #Adding the newbot to the total robot list and robot list\n",
    "                            totlist.append(newbot)\n",
    "                            robotlist.append(newbot)\n",
    "\n",
    "                        # If newbot does not pass the quality check\n",
    "                        else:\n",
    "                            # Adding the newbot to the total robot list and useless list\n",
    "                            totlist.append(newbot)\n",
    "                            useless.append(newbot)\n",
    "\n",
    "                #If task is ending in the next time step and Collector\n",
    "                elif(robotlist[i].type == \"Normal\"):\n",
    "\n",
    "                    # checking if robot can collect\n",
    "                    if(collectCheck(robotlist[i])):\n",
    "                        # Starting the collecting process + reducing resources\n",
    "                        collecting(robotlist[i])\n",
    "                    else:\n",
    "                        robotlist[i].set_prev_task(robotlist[i].get_curr_task())\n",
    "                        robotlist[i].set_task_dur(0)\n",
    "                        # set current task to idle if can not collect\n",
    "                        robotlist[i].set_curr_task(\"idle\")\n",
    "\n",
    "\n",
    "\n",
    "                        \n",
    "        build_quality_list,vals = configHandler(t,totlist,robotlist,useless,checkENV,checkPrint,checkNonPr,checkMat)\n",
    "        df.loc[len(df)] = [t,NonPr,Printable,Materials,Env_Materials]+vals\n",
    "        tcoordslist.append(t)\n",
    "        rcoordslist.append(len(robotlist)) \n",
    "        wastecoordslist.append(len(useless))\n",
    "        t_build_quality_list.append(build_quality_list)\n",
    "        \n",
    "    df[\"Print Capacity\"] = df[[\"#Printer\", \"#Replicator\"]].sum(axis=1)\n",
    "    df[\"Assembling Capacity\"] = df[[\"#Assembler\", \"#Replicator\"]].sum(axis=1)\n",
    "    df[\"Collection Capacity\"] = df[[\"#Printer\", \"#Replicator\", \"#Assembler\", \"#Normal\"]].sum(axis=1)\n",
    "    return df"
   ]
  },
  {
   "cell_type": "code",
   "execution_count": 1622,
   "id": "764fb465",
   "metadata": {},
   "outputs": [],
   "source": [
    "def DHE(timesteps,robotlist,df):\n",
    "    totlist = robotlist\n",
    "    useless = []\n",
    "\n",
    "    # number of bots working\n",
    "    listnumCollecting = []\n",
    "    listnumPrinting = []\n",
    "    listnumAssembling = []\n",
    "\n",
    "    # use lists\n",
    "    tcoordslist = []\n",
    "    rcoordslist = []\n",
    "    wastecoordslist = []\n",
    "    t_build_quality_list = []\n",
    "\n",
    "    #Lists used for visualization\n",
    "    checkENV = 0\n",
    "    checkPrint = 0\n",
    "    checkNonPr = 0\n",
    "    checkMat = 0\n",
    "    \n",
    "    for t in range(0, timesteps):\n",
    "\n",
    "        # Parsing through complete robot list to check their availability\n",
    "        for i in range(len(robotlist)):\n",
    "            # Checking if robot is idle\n",
    "            if (robotlist[i].current_task == \"idle\"):\n",
    "\n",
    "                # If idle and printer\n",
    "                if (robotlist[i].type == \"Printer\"):\n",
    "\n",
    "                    if (printCheck(robotlist[i])):\n",
    "                        printing(robotlist[i])\n",
    "                    elif (collectCheck(robotlist[i])):\n",
    "                        collecting(robotlist[i])\n",
    "                    else:\n",
    "                        robotlist[i].set_prev_task(robotlist[i].get_curr_task())\n",
    "                        robotlist[i].set_task_dur(0)\n",
    "                        robotlist[i].set_curr_task(\"idle\")\n",
    "\n",
    "                # If idle and assembler\n",
    "                elif (robotlist[i].type == \"Assembler\"):\n",
    "\n",
    "                    if (robotlist[i].get_previously_built() == \"\"):\n",
    "                        if (assembleCheck(robotlist[i],\"Assembler\")):\n",
    "                            isAssembling = assembling(robotlist[i], \"Assembler\")\n",
    "                        elif (assembleCheck(robotlist[i],\"Printer\")):\n",
    "                            isAssembling = assembling(robotlist[i], \"Printer\")\n",
    "                        elif (collectCheck(robotlist[i])):\n",
    "                            collecting(robotlist[i])\n",
    "                        else:\n",
    "                            robotlist[i].set_prev_task(robotlist[i].get_curr_task())\n",
    "                            robotlist[i].set_task_dur(0)\n",
    "                            robotlist[i].set_curr_task(\"idle\")\n",
    "                    else:\n",
    "                        if (assembleCheck(robotlist[i],\"Printer\") and robotlist[i].get_previously_built() == \"Assembler\"):\n",
    "                            assembling(robotlist[i], \"Printer\")\n",
    "                        elif (assembleCheck(robotlist[i],\"Assembler\") and robotlist[i].get_previously_built() == \"Printer\"):\n",
    "                            assembling(robotlist[i], \"Assembler\")\n",
    "                        # checking if robot can collect\n",
    "                        elif (collectCheck(robotlist[i])):\n",
    "                            # Starting the collecting process + reducing resources\n",
    "                            collecting(robotlist[i])\n",
    "                        else:\n",
    "                            robotlist[i].set_prev_task(robotlist[i].get_curr_task())\n",
    "                            robotlist[i].set_task_dur(0)\n",
    "                            robotlist[i].set_curr_task(\"idle\")\n",
    "\n",
    "\n",
    "            # If robot is not idle\n",
    "            else:\n",
    "\n",
    "                # Reduce task duration if task not ending in the next time step\n",
    "                if (robotlist[i].tasks_dur - 1 != 0):\n",
    "                    robotlist[i].set_task_dur(robotlist[i].tasks_dur - 1)\n",
    "\n",
    "                # If task is ending in the next time step and Printer\n",
    "                elif (robotlist[i].tasks_dur - 1 == 0 and robotlist[i].type == \"Printer\"):\n",
    "\n",
    "                    if (printCheck(robotlist[i])):\n",
    "                        printing(robotlist[i])\n",
    "                    elif (collectCheck(robotlist[i])):\n",
    "                        collecting(robotlist[i])\n",
    "                    else:\n",
    "                        robotlist[i].set_prev_task(robotlist[i].get_curr_task())\n",
    "                        robotlist[i].set_task_dur(0)\n",
    "                        robotlist[i].set_curr_task(\"idle\")\n",
    "\n",
    "\n",
    "                # If task is ending in the next time step and current robot is Assembler\n",
    "                elif (robotlist[i].tasks_dur - 1 == 0 and robotlist[i].type == \"Assembler\"):\n",
    "\n",
    "                    if (assembleCheck(robotlist[i],\"Printer\") and robotlist[i].get_previously_built() == \"Assembler\"):\n",
    "                        assembling(robotlist[i], \"Printer\")\n",
    "                    elif (assembleCheck(robotlist[i],\"Assembler\") and robotlist[i].get_previously_built() == \"Printer\"):\n",
    "                        assembling(robotlist[i], \"Assembler\")\n",
    "                        # checking if robot can collect\n",
    "                    elif (collectCheck(robotlist[i])):\n",
    "                        # Starting the collecting process + reducing resources\n",
    "                        collecting(robotlist[i])\n",
    "                    else:\n",
    "                        robotlist[i].set_prev_task(robotlist[i].get_curr_task())\n",
    "                        robotlist[i].set_task_dur(0)\n",
    "                        robotlist[i].set_curr_task(\"idle\")\n",
    "\n",
    "                    # If robot task is ending in the next step\n",
    "                    # Create a new robot for the robot list that can start working the next cycle\n",
    "                    if (robotlist[i].get_prev_task() == \"assembling\"):\n",
    "\n",
    "                        # Build a new robot in a fixed pattern\n",
    "                        if (robotlist[i].get_previously_built() == \"Printer\"):\n",
    "                            newbot = assemble(robotlist[i], \"Assembler\")\n",
    "                        elif (robotlist[i].get_previously_built() == \"Assembler\"):\n",
    "                            newbot = assemble(robotlist[i], \"Printer\")\n",
    "                        else:\n",
    "                            newbot = assemble(robotlist[i], \"Assembler\")\n",
    "\n",
    "                        # Build a new replicator\n",
    "                        # newbot = assemble(robotlist[i], robotlist[i].get_previously_built())\n",
    "                        # If newbot passes the quality check\n",
    "                        if newbot and newbot.build_qual >= 0.5:\n",
    "\n",
    "                            # If newbot is a collector))\n",
    "                            if (newbot.type == \"Printer\"):\n",
    "                                if (printCheck(newbot)):\n",
    "                                    printing(newbot)\n",
    "                                elif (collectCheck(newbot)):\n",
    "                                    collecting(newbot)\n",
    "                                else:\n",
    "                                    newbot.set_prev_task(newbot.get_curr_task())\n",
    "                                    newbot.set_task_dur(0)\n",
    "                                    newbot.set_curr_task(\"idle\")\n",
    "                            # If idle and assembler\n",
    "                            elif (newbot.type == \"Assembler\"):\n",
    "                                if (newbot.get_previously_built() == \"\"):\n",
    "                                    if (assembleCheck(newbot,\"Assembler\")):\n",
    "                                        isAssembling = assembling(newbot, \"Assembler\")\n",
    "                                    elif (assembleCheck(newbot,\"Printer\")):\n",
    "                                        isAssembling = assembling(newbot, \"Printer\")\n",
    "                                    elif (collectCheck(newbot)):\n",
    "                                        collecting(newbot)\n",
    "                                    else:\n",
    "                                        newbot.set_prev_task(newbot.get_curr_task())\n",
    "                                        newbot.set_task_dur(0)\n",
    "                                        newbot.set_curr_task(\"idle\")\n",
    "                                else:\n",
    "                                    if (newbot[i].get_previously_built() == \"Assembler\" and assembleCheck(newbot,\"Printer\")):\n",
    "                                        isAssembling = assembling(newbot, \"Printer\")\n",
    "                                    elif (newbot[i].get_previously_built() == \"Printer\" and assembleCheck(newbot,\"Assembler\")):\n",
    "                                        isAssembling = assembling(newbot, \"Assembler\")\n",
    "                                    elif (collectCheck(newbot)):\n",
    "                                        collecting(newbot)\n",
    "                                    else:\n",
    "                                        newbot.set_prev_task(newbot.get_curr_task())\n",
    "                                        newbot.set_task_dur(0)\n",
    "                                        newbot.set_curr_task(\"idle\")\n",
    "\n",
    "                            # Adding the newbot to the total robot list and robot list\n",
    "                            totlist.append(newbot)\n",
    "                            robotlist.append(newbot)\n",
    "\n",
    "                        # If newbot does not pass the quality check\n",
    "                        else:\n",
    "                            # Adding the newbot to the total robot list and useless list\n",
    "                            totlist.append(newbot)\n",
    "                            useless.append(newbot)\n",
    "\n",
    "                    # check if it can keep assembling next time step\n",
    "\n",
    "\n",
    "                # If task is ending in the next time step and Collector\n",
    "                elif (robotlist[i].type == \"Normal\"):\n",
    "\n",
    "                    # checking if robot can collect\n",
    "                    if (collectCheck(robotlist[i])):\n",
    "                        # Starting the collecting process + reducing resources\n",
    "                        collecting(robotlist[i])\n",
    "                    else:\n",
    "                        robotlist[i].set_prev_task(robotlist[i].get_curr_task())\n",
    "                        robotlist[i].set_task_dur(0)\n",
    "                        # set current task to idle if can not collect\n",
    "                        robotlist[i].set_curr_task(\"idle\")\n",
    "                        \n",
    "                        \n",
    "        build_quality_list,vals = configHandler(t,totlist,robotlist,useless,checkENV,checkPrint,checkNonPr,checkMat)\n",
    "        df.loc[len(df)] = [t,NonPr,Printable,Materials,Env_Materials]+vals\n",
    "        tcoordslist.append(t)\n",
    "        rcoordslist.append(len(robotlist)) \n",
    "        wastecoordslist.append(len(useless))\n",
    "        t_build_quality_list.append(build_quality_list)\n",
    "        \n",
    "    df[\"Print Capacity\"] = df[[\"#Printer\", \"#Replicator\"]].sum(axis=1)\n",
    "    df[\"Assembling Capacity\"] = df[[\"#Assembler\", \"#Replicator\"]].sum(axis=1)\n",
    "    df[\"Collection Capacity\"] = df[[\"#Printer\", \"#Replicator\", \"#Assembler\", \"#Normal\"]].sum(axis=1)\n",
    "    return df\n"
   ]
  },
  {
   "cell_type": "code",
   "execution_count": 1623,
   "id": "390295d6",
   "metadata": {},
   "outputs": [],
   "source": [
    "def HHE(timesteps,robotlist,df):\n",
    "    totlist = robotlist\n",
    "    useless = []\n",
    "\n",
    "    # number of bots working\n",
    "    listnumCollecting = []\n",
    "    listnumPrinting = []\n",
    "    listnumAssembling = []\n",
    "\n",
    "    # use lists\n",
    "    tcoordslist = []\n",
    "    rcoordslist = []\n",
    "    wastecoordslist = []\n",
    "    t_build_quality_list = []\n",
    "\n",
    "    #Lists used for visualization\n",
    "    checkENV = 0\n",
    "    checkPrint = 0\n",
    "    checkNonPr = 0\n",
    "    checkMat = 0\n",
    "    # For loop for each time step\n",
    "    for t in range(0, timesteps):\n",
    "\n",
    "        # Parsing through complete robot list to check their availability\n",
    "        for i in range(len(robotlist)):\n",
    "            # Checking if robot is idle\n",
    "            if (robotlist[i].current_task == \"idle\"):\n",
    "\n",
    "                # If idle and replicator\n",
    "                if (robotlist[i].type == \"Replicator\"):\n",
    "\n",
    "                    # Checking if robot can assemble\n",
    "                    if (assembleCheck(robotlist[i],\"Replicator\")):\n",
    "                        # Starting the assembly process + reducing resources\n",
    "                        assembling(robotlist[i], \"Replicator\")\n",
    "\n",
    "                    # checking if robot can print\n",
    "                    elif (printCheck(robotlist[i])):\n",
    "                        # Starting the printing process + reducing resources\n",
    "                        printing(robotlist[i])\n",
    "\n",
    "                    # checking if robot can collect\n",
    "                    elif (collectCheck(robotlist[i])):\n",
    "                        # Starting the collecting process + reducing resources\n",
    "                        collecting(robotlist[i])\n",
    "\n",
    "                    # If can't do any task then set robot to idle\n",
    "                    else:\n",
    "                        resetTasks(robotlist[i])\n",
    "\n",
    "                # If idle and printer\n",
    "                elif (robotlist[i].type == \"Printer\"):\n",
    "\n",
    "                    if (printCheck(robotlist[i])):\n",
    "                        printing(robotlist[i])\n",
    "                    elif (collectCheck(robotlist[i])):\n",
    "                        collecting(robotlist[i])\n",
    "                    else:\n",
    "                        resetTasks(robotlist[i])\n",
    "                        \n",
    "                # If idle and assembler\n",
    "                elif (robotlist[i].type == \"Assembler\"):\n",
    "\n",
    "                    if (robotlist[i].get_previously_built() == \"\"):\n",
    "                        if (assembleCheck(robotlist[i],\"Normal\")):\n",
    "                            isAssembling = assembling(robotlist[i], \"Normal\")\n",
    "                        elif (assembleCheck(robotlist[i],\"Assembler\")):\n",
    "                            isAssembling = assembling(robotlist[i], \"Assembler\")\n",
    "                        elif (assembleCheck(robotlist[i],\"Printer\")):\n",
    "                            isAssembling = assembling(robotlist[i], \"Printer\")\n",
    "                        elif (collectCheck(robotlist[i])):\n",
    "                            collecting(robotlist[i])\n",
    "                        else:\n",
    "                            robotlist[i].set_prev_task(robotlist[i].get_curr_task())\n",
    "                            robotlist[i].set_task_dur(0)\n",
    "                            robotlist[i].set_curr_task(\"idle\")\n",
    "                    else:\n",
    "                        if (robotlist[i].get_previously_built() == \"Assembler\" and assembleCheck(robotlist[i],\"Printer\")):\n",
    "                            isAssembling = assembling(robotlist[i], \"Printer\")\n",
    "                        elif (robotlist[i].get_previously_built() == \"Printer\" and assembleCheck(robotlist[i],\"Normal\")):\n",
    "                            isAssembling = assembling(robotlist[i], \"Normal\")\n",
    "                        elif (robotlist[i].get_previously_built() == \"Normal\" and assembleCheck(robotlist[i],\"Assembler\")):\n",
    "                            isAssembling = assembling(robotlist[i], \"Assembler\")\n",
    "                        elif (collectCheck(robotlist[i])):\n",
    "                            collecting(robotlist[i])\n",
    "                        else:\n",
    "                            resetTasks(robotlist[i])\n",
    "\n",
    "                # If idle and collector\n",
    "                elif (robotlist[i].type == \"Normal\"):\n",
    "                    # checking if robot can collect\n",
    "                    if (collectCheck(robotlist[i])):\n",
    "                        # Starting the collecting process + reducing resources\n",
    "                        collecting(robotlist[i])\n",
    "                    else:\n",
    "                        resetTasks(robotlist[i])\n",
    "\n",
    "            # If robot is not idle\n",
    "            else:\n",
    "\n",
    "                # Reduce task duration if task not ending in the next time step\n",
    "                if (robotlist[i].tasks_dur - 1 != 0):\n",
    "                    robotlist[i].set_task_dur(robotlist[i].tasks_dur - 1)\n",
    "\n",
    "                # If task is ending in the next time step and Printer\n",
    "                elif (robotlist[i].tasks_dur - 1 == 0 and robotlist[i].type == \"Printer\"):\n",
    "\n",
    "                    # checking if robot can print\n",
    "                    if (printCheck(robotlist[i])):\n",
    "                        # Starting the printing process + reducing resources\n",
    "                        printing(robotlist[i])\n",
    "\n",
    "                    # checking if robot can collect\n",
    "                    elif (collectCheck(robotlist[i])):\n",
    "                        # Starting the collecting process + reducing resources\n",
    "                        collecting(robotlist[i])\n",
    "\n",
    "                    # If can't do any task then set robot to idle\n",
    "                    else:\n",
    "                        resetTasks(robotlist[i])\n",
    "\n",
    "\n",
    "                # If task is ending in the next time step and current robot is Assembler\n",
    "                elif (robotlist[i].tasks_dur - 1 == 0 and robotlist[i].type == \"Assembler\"):\n",
    "\n",
    "                    if (assembleCheck(robotlist[i],\"Normal\") and robotlist[i].get_previously_built() == \"Printer\"):\n",
    "                        assembling(robotlist[i], \"Normal\")\n",
    "                    elif (assembleCheck(robotlist[i],\"Printer\") and robotlist[i].get_previously_built() == \"Assembler\"):\n",
    "                        assembling(robotlist[i], \"Printer\")\n",
    "                    elif (assembleCheck(robotlist[i],\"Assembler\") and robotlist[i].get_previously_built() == \"Normal\"):\n",
    "                        assembling(robotlist[i], \"Assembler\")\n",
    "                        # checking if robot can collect\n",
    "                    elif (collectCheck(robotlist[i])):\n",
    "                        # Starting the collecting process + reducing resources\n",
    "                        collecting(robotlist[i])\n",
    "\n",
    "                        # If can't do any task then set robot to idle\n",
    "                    else:\n",
    "                        resetTasks(robotlist[i])\n",
    "\n",
    "                    # If robot task is ending in the next step\n",
    "                    # Create a new robot for the robot list that can start working the next cycle\n",
    "                    if (robotlist[i].get_prev_task() == \"assembling\"):\n",
    "\n",
    "                        # Build a new robot in a fixed pattern\n",
    "                        if (robotlist[i].get_previously_built() == \"\"):\n",
    "                            newbot = assemble(robotlist[i], \"Normal\")\n",
    "                        elif (robotlist[i].get_previously_built() == \"Normal\"):\n",
    "                            newbot = assemble(robotlist[i], \"Printer\")\n",
    "                        elif (robotlist[i].get_previously_built() == \"Printer\"):\n",
    "                            newbot = assemble(robotlist[i], \"Assembler\")\n",
    "                        elif (robotlist[i].get_previously_built() == \"Assembler\"):\n",
    "                            newbot = assemble(robotlist[i], \"Normal\")\n",
    "                        else:\n",
    "                            newbot = assemble(robotlist[i], \"Normal\")\n",
    "\n",
    "                        # Build a new replicator\n",
    "                        # newbot = assemble(robotlist[i], robotlist[i].get_previously_built())\n",
    "                        # If newbot passes the quality check\n",
    "                        if newbot and newbot.build_qual >= 0.5:\n",
    "\n",
    "                            # If newbot is a collector))\n",
    "                            if (checkType(newbot,\"Normal\")):\n",
    "                                # checking if robot can collect\n",
    "                                if (collectCheck(newbot)):\n",
    "                                    # Starting the collecting process + reducing resources\n",
    "                                    collecting(newbot)\n",
    "                                else:\n",
    "                                    resetTasks(newbot)\n",
    "\n",
    "                            elif (newbot.type == \"Printer\"):\n",
    "                                if (printCheck(newbot)):\n",
    "                                    printing(newbot)\n",
    "                                elif (collectCheck(newbot)):\n",
    "                                    collecting(newbot)\n",
    "                                else:\n",
    "                                    newbot.set_prev_task(newbot.get_curr_task())\n",
    "                                    newbot.set_task_dur(0)\n",
    "                                    newbot.set_curr_task(\"idle\")\n",
    "                            # If idle and assembler\n",
    "                            elif (checkType(newbot,\"Assembler\")):\n",
    "                                if (newbot.get_previously_built() == \"\"):\n",
    "                                    if (assembleCheck(newbot,\"Normal\")):\n",
    "                                        isAssembling = assembling(newbot, \"Normal\")\n",
    "                                    elif (assembleCheck(newbot,\"Assembler\")):\n",
    "                                        isAssembling = assembling(newbot, \"Assembler\")\n",
    "                                    elif (assembleCheck(newbot,\"Printer\")):\n",
    "                                        isAssembling = assembling(newbot, \"Printer\")\n",
    "                                    elif (collectCheck(newbot)):\n",
    "                                        collecting(newbot)\n",
    "                                    else:\n",
    "                                        resetTasks(newbot)\n",
    "                                else:\n",
    "                                    if (newbot[i].get_previously_built() == \"Assembler\" and assembleCheck(newbot,\"Printer\")):\n",
    "                                        isAssembling = assembling(newbot, \"Printer\")\n",
    "                                    elif (newbot[i].get_previously_built() == \"Printer\" and assembleCheck(newbot,\"Normal\")):\n",
    "                                        isAssembling = assembling(newbot, \"Normal\")\n",
    "                                    elif (newbot[i].get_previously_built() == \"Normal\" and assembleCheck(newbot,\"Printer\")):\n",
    "                                        isAssembling = assembling(newbot, \"Printer\")\n",
    "                                    elif (collectCheck(newbot)):\n",
    "                                        collecting(newbot)\n",
    "                                    else:\n",
    "                                        resetTasks(newbot)\n",
    "                            # Adding the newbot to the total robot list and robot list\n",
    "                            totlist.append(newbot)\n",
    "                            robotlist.append(newbot)\n",
    "\n",
    "                        # If newbot does not pass the quality check\n",
    "                        else:\n",
    "                            # Adding the newbot to the total robot list and useless list\n",
    "                            totlist.append(newbot)\n",
    "                            useless.append(newbot)\n",
    "\n",
    "                    # check if it can keep assembling next time step\n",
    "\n",
    "\n",
    "                # If task is ending in the next time step and Collector\n",
    "                elif (robotlist[i].type == \"Normal\"):\n",
    "\n",
    "                    # checking if robot can collect\n",
    "                    if (collectCheck(robotlist[i])):\n",
    "                        # Starting the collecting process + reducing resources\n",
    "                        collecting(robotlist[i])\n",
    "                    else:\n",
    "                        robotlist[i].set_prev_task(robotlist[i].get_curr_task())\n",
    "                        robotlist[i].set_task_dur(0)\n",
    "                        # set current task to idle if can not collect\n",
    "                        robotlist[i].set_curr_task(\"idle\")\n",
    "        \n",
    "        build_quality_list,vals = configHandler(t,totlist,robotlist,useless,checkENV,checkPrint,checkNonPr,checkMat)\n",
    "        df.loc[len(df)] = [t,NonPr,Printable,Materials,Env_Materials]+vals\n",
    "        tcoordslist.append(t)\n",
    "        rcoordslist.append(len(robotlist)) \n",
    "        wastecoordslist.append(len(useless))\n",
    "        t_build_quality_list.append(build_quality_list)\n",
    "        \n",
    "    df[\"Print Capacity\"] = df[[\"#Printer\", \"#Replicator\"]].sum(axis=1)\n",
    "    df[\"Assembling Capacity\"] = df[[\"#Assembler\", \"#Replicator\"]].sum(axis=1)\n",
    "    df[\"Collection Capacity\"] = df[[\"#Printer\", \"#Replicator\", \"#Assembler\", \"#Normal\"]].sum(axis=1)\n",
    "    return df"
   ]
  },
  {
   "cell_type": "code",
   "execution_count": 1624,
   "id": "5a51cf20",
   "metadata": {},
   "outputs": [],
   "source": [
    "def plotdf(df,configname,cols):\n",
    "    fig = px.bar(df, x=\"Time\", y=cols, title=configname+ \" - Habitat over Time\") #,labels={'#In':'#in-service','#Out':'#out-service'})\n",
    "    fig.update_layout(hovermode=\"x\")\n",
    "    fig.update_xaxes(title_text='Time')\n",
    "    fig.update_yaxes(title_text='#Robots')\n",
    "    fig.show()\n",
    "   \n",
    "    fig.write_html(configname+' - Habitat over time.html', include_plotlyjs='cdn')\n",
    "    cspy.iplot(fig,filename=configname+' - Habitat over time.html',auto_open=False)\n",
    "\n",
    "    fig = make_subplots(rows=2, cols=2,\n",
    "        subplot_titles=(\"Types of Robots vs Time\", \"Resources vs Time\",\n",
    "                        \"Tasks of Robots vs Time\", \"Build Quality vs Time\"),\n",
    "        specs=[[{\"type\": \"bar\"}, {\"type\": \"scatter\"}],[{\"type\": \"bar\"}, {\"type\": \"scatter\"}]])\n",
    "    \n",
    "    fig.add_trace(go.Bar(x=df['Time'],y=df['#Replicator'],name='#Replicator'),row=1, col=1)\n",
    "    fig.add_trace(go.Bar(x=df['Time'],y=df['#Normal'],name='#Normal'),row=1, col=1)\n",
    "    fig.add_trace(go.Bar(x=df['Time'],y=df['#Assembler'],name='#Assembler'),row=1, col=1)\n",
    "    fig.add_trace(go.Bar(x=df['Time'],y=df['#Printer'],name='#Printer'),row=1, col=1)\n",
    "    \n",
    "\n",
    "    fig.add_trace(go.Bar(x=df['Time'],y=df['#Assembling'],name='#Assembling'),row=2, col=1)\n",
    "    fig.add_trace(go.Bar(x=df['Time'],y=df['#Printing'],name='#Printing'),row=2, col=1)\n",
    "    fig.add_trace(go.Bar(x=df['Time'],y=df['#Collecting'],name='#Collecting'),row=2, col=1)\n",
    "    fig.add_trace(go.Bar(x=df['Time'],y=df['#Idle'],name='#Idle'),row=2, col=1)\n",
    "    \n",
    "    fig.add_trace(go.Scatter(x=df[\"Time\"], y=df['NonPr'], mode=\"lines\",name='NonPr'),row=1, col=2)\n",
    "    fig.add_trace(go.Scatter(x=df[\"Time\"], y=df['Printable'], mode=\"lines\",name='Printable'),row=1, col=2)\n",
    "    fig.add_trace(go.Scatter(x=df[\"Time\"], y=df['Materials'], mode=\"lines\",name='Materials'),row=1, col=2)\n",
    "    fig.add_trace(go.Scatter(x=df[\"Time\"], y=df['Env_Materials'], mode=\"lines\",name='Env_Materials'),row=1, col=2)\n",
    "\n",
    "    fig.add_trace(go.Scatter(x=df[\"Time\"], y=df['Average Build Quality in-service'], mode=\"lines\",name='Avg. Quality #in'),row=2, col=2)#                               \n",
    "    fig.add_trace(go.Scatter(x=df[\"Time\"], y=df['Average Build Quality of System'], mode=\"lines\",name='Avg. Quality #total'),row=2, col=2)#                               \n",
    "    fig.update_layout(hovermode=\"x\",title=configname+\" - Characteristics\")\n",
    "#     fig.update_layout(height=700, showlegend=False)\n",
    "\n",
    "    fig.show()\n",
    "    fig.write_html(configname+' - Characteristics.html', include_plotlyjs='cdn')\n",
    "    cspy.iplot(fig,filename=configname+' - Characteristics.html',auto_open=False)\n",
    "#     pio.write_html(fig, file=configname+' - Characteristics.html', auto_open=False, include_plotlyjs='cdn')\n",
    "    "
   ]
  },
  {
   "cell_type": "markdown",
   "id": "bb048060",
   "metadata": {},
   "source": [
    "# main( )"
   ]
  },
  {
   "cell_type": "code",
   "execution_count": 14,
   "id": "29213aca",
   "metadata": {},
   "outputs": [],
   "source": [
    "def main(configname,timesteps):\n",
    "    build_qual_range = [0.85,0.95]\n",
    "    init_build_qual = random.uniform(build_qual_range[0],build_qual_range[1])\n",
    "    df = pd.DataFrame(columns = table_columns)\n",
    "    \n",
    "    if configname==\"CHO\":\n",
    "        robot = Robot(\"Replicator\",init_build_qual,rid)\n",
    "        robotlist = [robot]\n",
    "        resetGlobal(timesteps,1,0,0,0)\n",
    "        df = CHO(timesteps,robotlist,df)  \n",
    "        plotdf(df,configname,[\"#In\", \"#Out\"])\n",
    "        \n",
    "    elif configname==\"DHO\":\n",
    "        robot = Robot(\"Replicator\",init_build_qual,rid)\n",
    "        robotlist = [robot]\n",
    "        resetGlobal(timesteps,1,0,0,0)\n",
    "        df = DHO(timesteps,robotlist,df)  \n",
    "        plotdf(df,configname,[\"#In\", \"#Out\"])\n",
    "        \n",
    "    elif configname==\"HHO\":\n",
    "        robot = Robot(\"Replicator\",init_build_qual,rid)\n",
    "        robotlist = [robot]\n",
    "        resetGlobal(timesteps,1,0,0,0)\n",
    "        df = HHO(timesteps,robotlist,df)  \n",
    "        plotdf(df,configname,[\"#In\", \"#Out\"])\n",
    "        \n",
    "    elif configname==\"CHE\":\n",
    "        robot1 = Robot(\"Printer\",init_build_qual,pid)\n",
    "        robot2 = Robot(\"Assembler\",init_build_qual,aid)\n",
    "        robotlist = [robot1,robot2]\n",
    "        resetGlobal(timesteps,0,0,1,1)\n",
    "        df = CHE(timesteps,robotlist,df)  \n",
    "        plotdf(df,configname,[\"#In\", \"#Out\"])\n",
    "        \n",
    "    elif configname==\"DHE\":\n",
    "        robot1 = Robot(\"Printer\",init_build_qual,pid)\n",
    "        robot2 = Robot(\"Assembler\",init_build_qual,aid)\n",
    "        robotlist = [robot1,robot2]\n",
    "        resetGlobal(timesteps,0,0,1,1)\n",
    "        df = DHE(timesteps,robotlist,df)  \n",
    "        plotdf(df,configname,[\"#In\", \"#Out\"])\n",
    "        \n",
    "    elif configname==\"HHE\":\n",
    "        robot1 = Robot(\"Printer\",init_build_qual,pid)\n",
    "        robot2 = Robot(\"Assembler\",init_build_qual,aid)\n",
    "        robotlist = [robot1,robot2]\n",
    "        resetGlobal(timesteps,0,0,1,1)\n",
    "        df = HHE(timesteps,robotlist,df)  \n",
    "        plotdf(df,configname,[\"#In\", \"#Out\"])\n",
    "#         display(df.head())\n",
    "        \n",
    "#         fig = px.bar(df, x=\"Time\", y=[\"#In\", \"#Out\"], title=configname,labels={'#In':'#in-service','#Out':'#out-service'})\n",
    "#         fig.show()\n"
   ]
  },
  {
   "cell_type": "markdown",
   "id": "09466134",
   "metadata": {},
   "source": [
    "# Run"
   ]
  },
  {
   "cell_type": "code",
   "execution_count": 1626,
   "id": "8e4ebd16",
   "metadata": {
    "scrolled": false
   },
   "outputs": [
    {
     "data": {
      "application/vnd.plotly.v1+json": {
       "config": {
        "plotlyServerURL": "https://plotly.com"
       },
       "data": [
        {
         "alignmentgroup": "True",
         "hovertemplate": "variable=#In<br>Time=%{x}<br>value=%{y}<extra></extra>",
         "legendgroup": "#In",
         "marker": {
          "color": "#636efa",
          "pattern": {
           "shape": ""
          }
         },
         "name": "#In",
         "offsetgroup": "#In",
         "orientation": "v",
         "showlegend": true,
         "textposition": "auto",
         "type": "bar",
         "x": [
          0,
          1,
          2,
          3,
          4,
          5,
          6,
          7,
          8,
          9,
          10,
          11,
          12,
          13,
          14,
          15,
          16,
          17,
          18,
          19,
          20,
          21,
          22,
          23,
          24,
          25,
          26,
          27,
          28,
          29,
          30,
          31,
          32,
          33,
          34,
          35,
          36,
          37,
          38,
          39,
          40,
          41,
          42,
          43,
          44,
          45,
          46,
          47,
          48,
          49,
          50,
          51,
          52,
          53,
          54,
          55,
          56,
          57,
          58,
          59,
          60,
          61,
          62,
          63,
          64,
          65,
          66,
          67,
          68,
          69,
          70,
          71,
          72,
          73,
          74
         ],
         "xaxis": "x",
         "y": [
          1,
          1,
          3,
          3,
          5,
          5,
          7,
          7,
          9,
          9,
          11,
          11,
          13,
          13,
          15,
          15,
          17,
          17,
          19,
          19,
          21,
          21,
          23,
          23,
          25,
          25,
          27,
          27,
          29,
          29,
          31,
          31,
          33,
          33,
          35,
          35,
          37,
          37,
          39,
          39,
          41,
          41,
          43,
          43,
          45,
          45,
          47,
          47,
          49,
          49,
          51,
          51,
          53,
          53,
          55,
          55,
          57,
          57,
          59,
          59,
          61,
          61,
          63,
          63,
          65,
          65,
          67,
          67,
          69,
          69,
          71,
          71,
          73,
          73,
          75
         ],
         "yaxis": "y"
        },
        {
         "alignmentgroup": "True",
         "hovertemplate": "variable=#Out<br>Time=%{x}<br>value=%{y}<extra></extra>",
         "legendgroup": "#Out",
         "marker": {
          "color": "#EF553B",
          "pattern": {
           "shape": ""
          }
         },
         "name": "#Out",
         "offsetgroup": "#Out",
         "orientation": "v",
         "showlegend": true,
         "textposition": "auto",
         "type": "bar",
         "x": [
          0,
          1,
          2,
          3,
          4,
          5,
          6,
          7,
          8,
          9,
          10,
          11,
          12,
          13,
          14,
          15,
          16,
          17,
          18,
          19,
          20,
          21,
          22,
          23,
          24,
          25,
          26,
          27,
          28,
          29,
          30,
          31,
          32,
          33,
          34,
          35,
          36,
          37,
          38,
          39,
          40,
          41,
          42,
          43,
          44,
          45,
          46,
          47,
          48,
          49,
          50,
          51,
          52,
          53,
          54,
          55,
          56,
          57,
          58,
          59,
          60,
          61,
          62,
          63,
          64,
          65,
          66,
          67,
          68,
          69,
          70,
          71,
          72,
          73,
          74
         ],
         "xaxis": "x",
         "y": [
          0,
          0,
          0,
          0,
          0,
          0,
          0,
          0,
          0,
          0,
          0,
          0,
          0,
          0,
          0,
          0,
          0,
          0,
          0,
          0,
          0,
          0,
          0,
          0,
          0,
          0,
          0,
          0,
          0,
          0,
          0,
          0,
          0,
          0,
          0,
          0,
          0,
          0,
          0,
          0,
          0,
          0,
          0,
          0,
          0,
          0,
          0,
          0,
          0,
          0,
          0,
          0,
          0,
          0,
          0,
          0,
          0,
          0,
          0,
          0,
          0,
          0,
          0,
          0,
          0,
          0,
          0,
          0,
          0,
          0,
          0,
          0,
          0,
          0,
          0
         ],
         "yaxis": "y"
        }
       ],
       "layout": {
        "barmode": "relative",
        "hovermode": "x",
        "legend": {
         "title": {
          "text": "variable"
         },
         "tracegroupgap": 0
        },
        "template": {
         "data": {
          "bar": [
           {
            "error_x": {
             "color": "#2a3f5f"
            },
            "error_y": {
             "color": "#2a3f5f"
            },
            "marker": {
             "line": {
              "color": "#E5ECF6",
              "width": 0.5
             },
             "pattern": {
              "fillmode": "overlay",
              "size": 10,
              "solidity": 0.2
             }
            },
            "type": "bar"
           }
          ],
          "barpolar": [
           {
            "marker": {
             "line": {
              "color": "#E5ECF6",
              "width": 0.5
             },
             "pattern": {
              "fillmode": "overlay",
              "size": 10,
              "solidity": 0.2
             }
            },
            "type": "barpolar"
           }
          ],
          "carpet": [
           {
            "aaxis": {
             "endlinecolor": "#2a3f5f",
             "gridcolor": "white",
             "linecolor": "white",
             "minorgridcolor": "white",
             "startlinecolor": "#2a3f5f"
            },
            "baxis": {
             "endlinecolor": "#2a3f5f",
             "gridcolor": "white",
             "linecolor": "white",
             "minorgridcolor": "white",
             "startlinecolor": "#2a3f5f"
            },
            "type": "carpet"
           }
          ],
          "choropleth": [
           {
            "colorbar": {
             "outlinewidth": 0,
             "ticks": ""
            },
            "type": "choropleth"
           }
          ],
          "contour": [
           {
            "colorbar": {
             "outlinewidth": 0,
             "ticks": ""
            },
            "colorscale": [
             [
              0,
              "#0d0887"
             ],
             [
              0.1111111111111111,
              "#46039f"
             ],
             [
              0.2222222222222222,
              "#7201a8"
             ],
             [
              0.3333333333333333,
              "#9c179e"
             ],
             [
              0.4444444444444444,
              "#bd3786"
             ],
             [
              0.5555555555555556,
              "#d8576b"
             ],
             [
              0.6666666666666666,
              "#ed7953"
             ],
             [
              0.7777777777777778,
              "#fb9f3a"
             ],
             [
              0.8888888888888888,
              "#fdca26"
             ],
             [
              1,
              "#f0f921"
             ]
            ],
            "type": "contour"
           }
          ],
          "contourcarpet": [
           {
            "colorbar": {
             "outlinewidth": 0,
             "ticks": ""
            },
            "type": "contourcarpet"
           }
          ],
          "heatmap": [
           {
            "colorbar": {
             "outlinewidth": 0,
             "ticks": ""
            },
            "colorscale": [
             [
              0,
              "#0d0887"
             ],
             [
              0.1111111111111111,
              "#46039f"
             ],
             [
              0.2222222222222222,
              "#7201a8"
             ],
             [
              0.3333333333333333,
              "#9c179e"
             ],
             [
              0.4444444444444444,
              "#bd3786"
             ],
             [
              0.5555555555555556,
              "#d8576b"
             ],
             [
              0.6666666666666666,
              "#ed7953"
             ],
             [
              0.7777777777777778,
              "#fb9f3a"
             ],
             [
              0.8888888888888888,
              "#fdca26"
             ],
             [
              1,
              "#f0f921"
             ]
            ],
            "type": "heatmap"
           }
          ],
          "heatmapgl": [
           {
            "colorbar": {
             "outlinewidth": 0,
             "ticks": ""
            },
            "colorscale": [
             [
              0,
              "#0d0887"
             ],
             [
              0.1111111111111111,
              "#46039f"
             ],
             [
              0.2222222222222222,
              "#7201a8"
             ],
             [
              0.3333333333333333,
              "#9c179e"
             ],
             [
              0.4444444444444444,
              "#bd3786"
             ],
             [
              0.5555555555555556,
              "#d8576b"
             ],
             [
              0.6666666666666666,
              "#ed7953"
             ],
             [
              0.7777777777777778,
              "#fb9f3a"
             ],
             [
              0.8888888888888888,
              "#fdca26"
             ],
             [
              1,
              "#f0f921"
             ]
            ],
            "type": "heatmapgl"
           }
          ],
          "histogram": [
           {
            "marker": {
             "pattern": {
              "fillmode": "overlay",
              "size": 10,
              "solidity": 0.2
             }
            },
            "type": "histogram"
           }
          ],
          "histogram2d": [
           {
            "colorbar": {
             "outlinewidth": 0,
             "ticks": ""
            },
            "colorscale": [
             [
              0,
              "#0d0887"
             ],
             [
              0.1111111111111111,
              "#46039f"
             ],
             [
              0.2222222222222222,
              "#7201a8"
             ],
             [
              0.3333333333333333,
              "#9c179e"
             ],
             [
              0.4444444444444444,
              "#bd3786"
             ],
             [
              0.5555555555555556,
              "#d8576b"
             ],
             [
              0.6666666666666666,
              "#ed7953"
             ],
             [
              0.7777777777777778,
              "#fb9f3a"
             ],
             [
              0.8888888888888888,
              "#fdca26"
             ],
             [
              1,
              "#f0f921"
             ]
            ],
            "type": "histogram2d"
           }
          ],
          "histogram2dcontour": [
           {
            "colorbar": {
             "outlinewidth": 0,
             "ticks": ""
            },
            "colorscale": [
             [
              0,
              "#0d0887"
             ],
             [
              0.1111111111111111,
              "#46039f"
             ],
             [
              0.2222222222222222,
              "#7201a8"
             ],
             [
              0.3333333333333333,
              "#9c179e"
             ],
             [
              0.4444444444444444,
              "#bd3786"
             ],
             [
              0.5555555555555556,
              "#d8576b"
             ],
             [
              0.6666666666666666,
              "#ed7953"
             ],
             [
              0.7777777777777778,
              "#fb9f3a"
             ],
             [
              0.8888888888888888,
              "#fdca26"
             ],
             [
              1,
              "#f0f921"
             ]
            ],
            "type": "histogram2dcontour"
           }
          ],
          "mesh3d": [
           {
            "colorbar": {
             "outlinewidth": 0,
             "ticks": ""
            },
            "type": "mesh3d"
           }
          ],
          "parcoords": [
           {
            "line": {
             "colorbar": {
              "outlinewidth": 0,
              "ticks": ""
             }
            },
            "type": "parcoords"
           }
          ],
          "pie": [
           {
            "automargin": true,
            "type": "pie"
           }
          ],
          "scatter": [
           {
            "fillpattern": {
             "fillmode": "overlay",
             "size": 10,
             "solidity": 0.2
            },
            "type": "scatter"
           }
          ],
          "scatter3d": [
           {
            "line": {
             "colorbar": {
              "outlinewidth": 0,
              "ticks": ""
             }
            },
            "marker": {
             "colorbar": {
              "outlinewidth": 0,
              "ticks": ""
             }
            },
            "type": "scatter3d"
           }
          ],
          "scattercarpet": [
           {
            "marker": {
             "colorbar": {
              "outlinewidth": 0,
              "ticks": ""
             }
            },
            "type": "scattercarpet"
           }
          ],
          "scattergeo": [
           {
            "marker": {
             "colorbar": {
              "outlinewidth": 0,
              "ticks": ""
             }
            },
            "type": "scattergeo"
           }
          ],
          "scattergl": [
           {
            "marker": {
             "colorbar": {
              "outlinewidth": 0,
              "ticks": ""
             }
            },
            "type": "scattergl"
           }
          ],
          "scattermapbox": [
           {
            "marker": {
             "colorbar": {
              "outlinewidth": 0,
              "ticks": ""
             }
            },
            "type": "scattermapbox"
           }
          ],
          "scatterpolar": [
           {
            "marker": {
             "colorbar": {
              "outlinewidth": 0,
              "ticks": ""
             }
            },
            "type": "scatterpolar"
           }
          ],
          "scatterpolargl": [
           {
            "marker": {
             "colorbar": {
              "outlinewidth": 0,
              "ticks": ""
             }
            },
            "type": "scatterpolargl"
           }
          ],
          "scatterternary": [
           {
            "marker": {
             "colorbar": {
              "outlinewidth": 0,
              "ticks": ""
             }
            },
            "type": "scatterternary"
           }
          ],
          "surface": [
           {
            "colorbar": {
             "outlinewidth": 0,
             "ticks": ""
            },
            "colorscale": [
             [
              0,
              "#0d0887"
             ],
             [
              0.1111111111111111,
              "#46039f"
             ],
             [
              0.2222222222222222,
              "#7201a8"
             ],
             [
              0.3333333333333333,
              "#9c179e"
             ],
             [
              0.4444444444444444,
              "#bd3786"
             ],
             [
              0.5555555555555556,
              "#d8576b"
             ],
             [
              0.6666666666666666,
              "#ed7953"
             ],
             [
              0.7777777777777778,
              "#fb9f3a"
             ],
             [
              0.8888888888888888,
              "#fdca26"
             ],
             [
              1,
              "#f0f921"
             ]
            ],
            "type": "surface"
           }
          ],
          "table": [
           {
            "cells": {
             "fill": {
              "color": "#EBF0F8"
             },
             "line": {
              "color": "white"
             }
            },
            "header": {
             "fill": {
              "color": "#C8D4E3"
             },
             "line": {
              "color": "white"
             }
            },
            "type": "table"
           }
          ]
         },
         "layout": {
          "annotationdefaults": {
           "arrowcolor": "#2a3f5f",
           "arrowhead": 0,
           "arrowwidth": 1
          },
          "autotypenumbers": "strict",
          "coloraxis": {
           "colorbar": {
            "outlinewidth": 0,
            "ticks": ""
           }
          },
          "colorscale": {
           "diverging": [
            [
             0,
             "#8e0152"
            ],
            [
             0.1,
             "#c51b7d"
            ],
            [
             0.2,
             "#de77ae"
            ],
            [
             0.3,
             "#f1b6da"
            ],
            [
             0.4,
             "#fde0ef"
            ],
            [
             0.5,
             "#f7f7f7"
            ],
            [
             0.6,
             "#e6f5d0"
            ],
            [
             0.7,
             "#b8e186"
            ],
            [
             0.8,
             "#7fbc41"
            ],
            [
             0.9,
             "#4d9221"
            ],
            [
             1,
             "#276419"
            ]
           ],
           "sequential": [
            [
             0,
             "#0d0887"
            ],
            [
             0.1111111111111111,
             "#46039f"
            ],
            [
             0.2222222222222222,
             "#7201a8"
            ],
            [
             0.3333333333333333,
             "#9c179e"
            ],
            [
             0.4444444444444444,
             "#bd3786"
            ],
            [
             0.5555555555555556,
             "#d8576b"
            ],
            [
             0.6666666666666666,
             "#ed7953"
            ],
            [
             0.7777777777777778,
             "#fb9f3a"
            ],
            [
             0.8888888888888888,
             "#fdca26"
            ],
            [
             1,
             "#f0f921"
            ]
           ],
           "sequentialminus": [
            [
             0,
             "#0d0887"
            ],
            [
             0.1111111111111111,
             "#46039f"
            ],
            [
             0.2222222222222222,
             "#7201a8"
            ],
            [
             0.3333333333333333,
             "#9c179e"
            ],
            [
             0.4444444444444444,
             "#bd3786"
            ],
            [
             0.5555555555555556,
             "#d8576b"
            ],
            [
             0.6666666666666666,
             "#ed7953"
            ],
            [
             0.7777777777777778,
             "#fb9f3a"
            ],
            [
             0.8888888888888888,
             "#fdca26"
            ],
            [
             1,
             "#f0f921"
            ]
           ]
          },
          "colorway": [
           "#636efa",
           "#EF553B",
           "#00cc96",
           "#ab63fa",
           "#FFA15A",
           "#19d3f3",
           "#FF6692",
           "#B6E880",
           "#FF97FF",
           "#FECB52"
          ],
          "font": {
           "color": "#2a3f5f"
          },
          "geo": {
           "bgcolor": "white",
           "lakecolor": "white",
           "landcolor": "#E5ECF6",
           "showlakes": true,
           "showland": true,
           "subunitcolor": "white"
          },
          "hoverlabel": {
           "align": "left"
          },
          "hovermode": "closest",
          "mapbox": {
           "style": "light"
          },
          "paper_bgcolor": "white",
          "plot_bgcolor": "#E5ECF6",
          "polar": {
           "angularaxis": {
            "gridcolor": "white",
            "linecolor": "white",
            "ticks": ""
           },
           "bgcolor": "#E5ECF6",
           "radialaxis": {
            "gridcolor": "white",
            "linecolor": "white",
            "ticks": ""
           }
          },
          "scene": {
           "xaxis": {
            "backgroundcolor": "#E5ECF6",
            "gridcolor": "white",
            "gridwidth": 2,
            "linecolor": "white",
            "showbackground": true,
            "ticks": "",
            "zerolinecolor": "white"
           },
           "yaxis": {
            "backgroundcolor": "#E5ECF6",
            "gridcolor": "white",
            "gridwidth": 2,
            "linecolor": "white",
            "showbackground": true,
            "ticks": "",
            "zerolinecolor": "white"
           },
           "zaxis": {
            "backgroundcolor": "#E5ECF6",
            "gridcolor": "white",
            "gridwidth": 2,
            "linecolor": "white",
            "showbackground": true,
            "ticks": "",
            "zerolinecolor": "white"
           }
          },
          "shapedefaults": {
           "line": {
            "color": "#2a3f5f"
           }
          },
          "ternary": {
           "aaxis": {
            "gridcolor": "white",
            "linecolor": "white",
            "ticks": ""
           },
           "baxis": {
            "gridcolor": "white",
            "linecolor": "white",
            "ticks": ""
           },
           "bgcolor": "#E5ECF6",
           "caxis": {
            "gridcolor": "white",
            "linecolor": "white",
            "ticks": ""
           }
          },
          "title": {
           "x": 0.05
          },
          "xaxis": {
           "automargin": true,
           "gridcolor": "white",
           "linecolor": "white",
           "ticks": "",
           "title": {
            "standoff": 15
           },
           "zerolinecolor": "white",
           "zerolinewidth": 2
          },
          "yaxis": {
           "automargin": true,
           "gridcolor": "white",
           "linecolor": "white",
           "ticks": "",
           "title": {
            "standoff": 15
           },
           "zerolinecolor": "white",
           "zerolinewidth": 2
          }
         }
        },
        "title": {
         "text": "CHO - Habitat over Time"
        },
        "xaxis": {
         "anchor": "y",
         "domain": [
          0,
          1
         ],
         "title": {
          "text": "Time"
         }
        },
        "yaxis": {
         "anchor": "x",
         "domain": [
          0,
          1
         ],
         "title": {
          "text": "#Robots"
         }
        }
       }
      },
      "text/html": [
       "<div>                            <div id=\"d12b3d73-9d36-4eff-93de-14289750308f\" class=\"plotly-graph-div\" style=\"height:525px; width:100%;\"></div>            <script type=\"text/javascript\">                require([\"plotly\"], function(Plotly) {                    window.PLOTLYENV=window.PLOTLYENV || {};                                    if (document.getElementById(\"d12b3d73-9d36-4eff-93de-14289750308f\")) {                    Plotly.newPlot(                        \"d12b3d73-9d36-4eff-93de-14289750308f\",                        [{\"alignmentgroup\":\"True\",\"hovertemplate\":\"variable=#In<br>Time=%{x}<br>value=%{y}<extra></extra>\",\"legendgroup\":\"#In\",\"marker\":{\"color\":\"#636efa\",\"pattern\":{\"shape\":\"\"}},\"name\":\"#In\",\"offsetgroup\":\"#In\",\"orientation\":\"v\",\"showlegend\":true,\"textposition\":\"auto\",\"x\":[0.0,1.0,2.0,3.0,4.0,5.0,6.0,7.0,8.0,9.0,10.0,11.0,12.0,13.0,14.0,15.0,16.0,17.0,18.0,19.0,20.0,21.0,22.0,23.0,24.0,25.0,26.0,27.0,28.0,29.0,30.0,31.0,32.0,33.0,34.0,35.0,36.0,37.0,38.0,39.0,40.0,41.0,42.0,43.0,44.0,45.0,46.0,47.0,48.0,49.0,50.0,51.0,52.0,53.0,54.0,55.0,56.0,57.0,58.0,59.0,60.0,61.0,62.0,63.0,64.0,65.0,66.0,67.0,68.0,69.0,70.0,71.0,72.0,73.0,74.0],\"xaxis\":\"x\",\"y\":[1.0,1.0,3.0,3.0,5.0,5.0,7.0,7.0,9.0,9.0,11.0,11.0,13.0,13.0,15.0,15.0,17.0,17.0,19.0,19.0,21.0,21.0,23.0,23.0,25.0,25.0,27.0,27.0,29.0,29.0,31.0,31.0,33.0,33.0,35.0,35.0,37.0,37.0,39.0,39.0,41.0,41.0,43.0,43.0,45.0,45.0,47.0,47.0,49.0,49.0,51.0,51.0,53.0,53.0,55.0,55.0,57.0,57.0,59.0,59.0,61.0,61.0,63.0,63.0,65.0,65.0,67.0,67.0,69.0,69.0,71.0,71.0,73.0,73.0,75.0],\"yaxis\":\"y\",\"type\":\"bar\"},{\"alignmentgroup\":\"True\",\"hovertemplate\":\"variable=#Out<br>Time=%{x}<br>value=%{y}<extra></extra>\",\"legendgroup\":\"#Out\",\"marker\":{\"color\":\"#EF553B\",\"pattern\":{\"shape\":\"\"}},\"name\":\"#Out\",\"offsetgroup\":\"#Out\",\"orientation\":\"v\",\"showlegend\":true,\"textposition\":\"auto\",\"x\":[0.0,1.0,2.0,3.0,4.0,5.0,6.0,7.0,8.0,9.0,10.0,11.0,12.0,13.0,14.0,15.0,16.0,17.0,18.0,19.0,20.0,21.0,22.0,23.0,24.0,25.0,26.0,27.0,28.0,29.0,30.0,31.0,32.0,33.0,34.0,35.0,36.0,37.0,38.0,39.0,40.0,41.0,42.0,43.0,44.0,45.0,46.0,47.0,48.0,49.0,50.0,51.0,52.0,53.0,54.0,55.0,56.0,57.0,58.0,59.0,60.0,61.0,62.0,63.0,64.0,65.0,66.0,67.0,68.0,69.0,70.0,71.0,72.0,73.0,74.0],\"xaxis\":\"x\",\"y\":[0.0,0.0,0.0,0.0,0.0,0.0,0.0,0.0,0.0,0.0,0.0,0.0,0.0,0.0,0.0,0.0,0.0,0.0,0.0,0.0,0.0,0.0,0.0,0.0,0.0,0.0,0.0,0.0,0.0,0.0,0.0,0.0,0.0,0.0,0.0,0.0,0.0,0.0,0.0,0.0,0.0,0.0,0.0,0.0,0.0,0.0,0.0,0.0,0.0,0.0,0.0,0.0,0.0,0.0,0.0,0.0,0.0,0.0,0.0,0.0,0.0,0.0,0.0,0.0,0.0,0.0,0.0,0.0,0.0,0.0,0.0,0.0,0.0,0.0,0.0],\"yaxis\":\"y\",\"type\":\"bar\"}],                        {\"template\":{\"data\":{\"histogram2dcontour\":[{\"type\":\"histogram2dcontour\",\"colorbar\":{\"outlinewidth\":0,\"ticks\":\"\"},\"colorscale\":[[0.0,\"#0d0887\"],[0.1111111111111111,\"#46039f\"],[0.2222222222222222,\"#7201a8\"],[0.3333333333333333,\"#9c179e\"],[0.4444444444444444,\"#bd3786\"],[0.5555555555555556,\"#d8576b\"],[0.6666666666666666,\"#ed7953\"],[0.7777777777777778,\"#fb9f3a\"],[0.8888888888888888,\"#fdca26\"],[1.0,\"#f0f921\"]]}],\"choropleth\":[{\"type\":\"choropleth\",\"colorbar\":{\"outlinewidth\":0,\"ticks\":\"\"}}],\"histogram2d\":[{\"type\":\"histogram2d\",\"colorbar\":{\"outlinewidth\":0,\"ticks\":\"\"},\"colorscale\":[[0.0,\"#0d0887\"],[0.1111111111111111,\"#46039f\"],[0.2222222222222222,\"#7201a8\"],[0.3333333333333333,\"#9c179e\"],[0.4444444444444444,\"#bd3786\"],[0.5555555555555556,\"#d8576b\"],[0.6666666666666666,\"#ed7953\"],[0.7777777777777778,\"#fb9f3a\"],[0.8888888888888888,\"#fdca26\"],[1.0,\"#f0f921\"]]}],\"heatmap\":[{\"type\":\"heatmap\",\"colorbar\":{\"outlinewidth\":0,\"ticks\":\"\"},\"colorscale\":[[0.0,\"#0d0887\"],[0.1111111111111111,\"#46039f\"],[0.2222222222222222,\"#7201a8\"],[0.3333333333333333,\"#9c179e\"],[0.4444444444444444,\"#bd3786\"],[0.5555555555555556,\"#d8576b\"],[0.6666666666666666,\"#ed7953\"],[0.7777777777777778,\"#fb9f3a\"],[0.8888888888888888,\"#fdca26\"],[1.0,\"#f0f921\"]]}],\"heatmapgl\":[{\"type\":\"heatmapgl\",\"colorbar\":{\"outlinewidth\":0,\"ticks\":\"\"},\"colorscale\":[[0.0,\"#0d0887\"],[0.1111111111111111,\"#46039f\"],[0.2222222222222222,\"#7201a8\"],[0.3333333333333333,\"#9c179e\"],[0.4444444444444444,\"#bd3786\"],[0.5555555555555556,\"#d8576b\"],[0.6666666666666666,\"#ed7953\"],[0.7777777777777778,\"#fb9f3a\"],[0.8888888888888888,\"#fdca26\"],[1.0,\"#f0f921\"]]}],\"contourcarpet\":[{\"type\":\"contourcarpet\",\"colorbar\":{\"outlinewidth\":0,\"ticks\":\"\"}}],\"contour\":[{\"type\":\"contour\",\"colorbar\":{\"outlinewidth\":0,\"ticks\":\"\"},\"colorscale\":[[0.0,\"#0d0887\"],[0.1111111111111111,\"#46039f\"],[0.2222222222222222,\"#7201a8\"],[0.3333333333333333,\"#9c179e\"],[0.4444444444444444,\"#bd3786\"],[0.5555555555555556,\"#d8576b\"],[0.6666666666666666,\"#ed7953\"],[0.7777777777777778,\"#fb9f3a\"],[0.8888888888888888,\"#fdca26\"],[1.0,\"#f0f921\"]]}],\"surface\":[{\"type\":\"surface\",\"colorbar\":{\"outlinewidth\":0,\"ticks\":\"\"},\"colorscale\":[[0.0,\"#0d0887\"],[0.1111111111111111,\"#46039f\"],[0.2222222222222222,\"#7201a8\"],[0.3333333333333333,\"#9c179e\"],[0.4444444444444444,\"#bd3786\"],[0.5555555555555556,\"#d8576b\"],[0.6666666666666666,\"#ed7953\"],[0.7777777777777778,\"#fb9f3a\"],[0.8888888888888888,\"#fdca26\"],[1.0,\"#f0f921\"]]}],\"mesh3d\":[{\"type\":\"mesh3d\",\"colorbar\":{\"outlinewidth\":0,\"ticks\":\"\"}}],\"scatter\":[{\"fillpattern\":{\"fillmode\":\"overlay\",\"size\":10,\"solidity\":0.2},\"type\":\"scatter\"}],\"parcoords\":[{\"type\":\"parcoords\",\"line\":{\"colorbar\":{\"outlinewidth\":0,\"ticks\":\"\"}}}],\"scatterpolargl\":[{\"type\":\"scatterpolargl\",\"marker\":{\"colorbar\":{\"outlinewidth\":0,\"ticks\":\"\"}}}],\"bar\":[{\"error_x\":{\"color\":\"#2a3f5f\"},\"error_y\":{\"color\":\"#2a3f5f\"},\"marker\":{\"line\":{\"color\":\"#E5ECF6\",\"width\":0.5},\"pattern\":{\"fillmode\":\"overlay\",\"size\":10,\"solidity\":0.2}},\"type\":\"bar\"}],\"scattergeo\":[{\"type\":\"scattergeo\",\"marker\":{\"colorbar\":{\"outlinewidth\":0,\"ticks\":\"\"}}}],\"scatterpolar\":[{\"type\":\"scatterpolar\",\"marker\":{\"colorbar\":{\"outlinewidth\":0,\"ticks\":\"\"}}}],\"histogram\":[{\"marker\":{\"pattern\":{\"fillmode\":\"overlay\",\"size\":10,\"solidity\":0.2}},\"type\":\"histogram\"}],\"scattergl\":[{\"type\":\"scattergl\",\"marker\":{\"colorbar\":{\"outlinewidth\":0,\"ticks\":\"\"}}}],\"scatter3d\":[{\"type\":\"scatter3d\",\"line\":{\"colorbar\":{\"outlinewidth\":0,\"ticks\":\"\"}},\"marker\":{\"colorbar\":{\"outlinewidth\":0,\"ticks\":\"\"}}}],\"scattermapbox\":[{\"type\":\"scattermapbox\",\"marker\":{\"colorbar\":{\"outlinewidth\":0,\"ticks\":\"\"}}}],\"scatterternary\":[{\"type\":\"scatterternary\",\"marker\":{\"colorbar\":{\"outlinewidth\":0,\"ticks\":\"\"}}}],\"scattercarpet\":[{\"type\":\"scattercarpet\",\"marker\":{\"colorbar\":{\"outlinewidth\":0,\"ticks\":\"\"}}}],\"carpet\":[{\"aaxis\":{\"endlinecolor\":\"#2a3f5f\",\"gridcolor\":\"white\",\"linecolor\":\"white\",\"minorgridcolor\":\"white\",\"startlinecolor\":\"#2a3f5f\"},\"baxis\":{\"endlinecolor\":\"#2a3f5f\",\"gridcolor\":\"white\",\"linecolor\":\"white\",\"minorgridcolor\":\"white\",\"startlinecolor\":\"#2a3f5f\"},\"type\":\"carpet\"}],\"table\":[{\"cells\":{\"fill\":{\"color\":\"#EBF0F8\"},\"line\":{\"color\":\"white\"}},\"header\":{\"fill\":{\"color\":\"#C8D4E3\"},\"line\":{\"color\":\"white\"}},\"type\":\"table\"}],\"barpolar\":[{\"marker\":{\"line\":{\"color\":\"#E5ECF6\",\"width\":0.5},\"pattern\":{\"fillmode\":\"overlay\",\"size\":10,\"solidity\":0.2}},\"type\":\"barpolar\"}],\"pie\":[{\"automargin\":true,\"type\":\"pie\"}]},\"layout\":{\"autotypenumbers\":\"strict\",\"colorway\":[\"#636efa\",\"#EF553B\",\"#00cc96\",\"#ab63fa\",\"#FFA15A\",\"#19d3f3\",\"#FF6692\",\"#B6E880\",\"#FF97FF\",\"#FECB52\"],\"font\":{\"color\":\"#2a3f5f\"},\"hovermode\":\"closest\",\"hoverlabel\":{\"align\":\"left\"},\"paper_bgcolor\":\"white\",\"plot_bgcolor\":\"#E5ECF6\",\"polar\":{\"bgcolor\":\"#E5ECF6\",\"angularaxis\":{\"gridcolor\":\"white\",\"linecolor\":\"white\",\"ticks\":\"\"},\"radialaxis\":{\"gridcolor\":\"white\",\"linecolor\":\"white\",\"ticks\":\"\"}},\"ternary\":{\"bgcolor\":\"#E5ECF6\",\"aaxis\":{\"gridcolor\":\"white\",\"linecolor\":\"white\",\"ticks\":\"\"},\"baxis\":{\"gridcolor\":\"white\",\"linecolor\":\"white\",\"ticks\":\"\"},\"caxis\":{\"gridcolor\":\"white\",\"linecolor\":\"white\",\"ticks\":\"\"}},\"coloraxis\":{\"colorbar\":{\"outlinewidth\":0,\"ticks\":\"\"}},\"colorscale\":{\"sequential\":[[0.0,\"#0d0887\"],[0.1111111111111111,\"#46039f\"],[0.2222222222222222,\"#7201a8\"],[0.3333333333333333,\"#9c179e\"],[0.4444444444444444,\"#bd3786\"],[0.5555555555555556,\"#d8576b\"],[0.6666666666666666,\"#ed7953\"],[0.7777777777777778,\"#fb9f3a\"],[0.8888888888888888,\"#fdca26\"],[1.0,\"#f0f921\"]],\"sequentialminus\":[[0.0,\"#0d0887\"],[0.1111111111111111,\"#46039f\"],[0.2222222222222222,\"#7201a8\"],[0.3333333333333333,\"#9c179e\"],[0.4444444444444444,\"#bd3786\"],[0.5555555555555556,\"#d8576b\"],[0.6666666666666666,\"#ed7953\"],[0.7777777777777778,\"#fb9f3a\"],[0.8888888888888888,\"#fdca26\"],[1.0,\"#f0f921\"]],\"diverging\":[[0,\"#8e0152\"],[0.1,\"#c51b7d\"],[0.2,\"#de77ae\"],[0.3,\"#f1b6da\"],[0.4,\"#fde0ef\"],[0.5,\"#f7f7f7\"],[0.6,\"#e6f5d0\"],[0.7,\"#b8e186\"],[0.8,\"#7fbc41\"],[0.9,\"#4d9221\"],[1,\"#276419\"]]},\"xaxis\":{\"gridcolor\":\"white\",\"linecolor\":\"white\",\"ticks\":\"\",\"title\":{\"standoff\":15},\"zerolinecolor\":\"white\",\"automargin\":true,\"zerolinewidth\":2},\"yaxis\":{\"gridcolor\":\"white\",\"linecolor\":\"white\",\"ticks\":\"\",\"title\":{\"standoff\":15},\"zerolinecolor\":\"white\",\"automargin\":true,\"zerolinewidth\":2},\"scene\":{\"xaxis\":{\"backgroundcolor\":\"#E5ECF6\",\"gridcolor\":\"white\",\"linecolor\":\"white\",\"showbackground\":true,\"ticks\":\"\",\"zerolinecolor\":\"white\",\"gridwidth\":2},\"yaxis\":{\"backgroundcolor\":\"#E5ECF6\",\"gridcolor\":\"white\",\"linecolor\":\"white\",\"showbackground\":true,\"ticks\":\"\",\"zerolinecolor\":\"white\",\"gridwidth\":2},\"zaxis\":{\"backgroundcolor\":\"#E5ECF6\",\"gridcolor\":\"white\",\"linecolor\":\"white\",\"showbackground\":true,\"ticks\":\"\",\"zerolinecolor\":\"white\",\"gridwidth\":2}},\"shapedefaults\":{\"line\":{\"color\":\"#2a3f5f\"}},\"annotationdefaults\":{\"arrowcolor\":\"#2a3f5f\",\"arrowhead\":0,\"arrowwidth\":1},\"geo\":{\"bgcolor\":\"white\",\"landcolor\":\"#E5ECF6\",\"subunitcolor\":\"white\",\"showland\":true,\"showlakes\":true,\"lakecolor\":\"white\"},\"title\":{\"x\":0.05},\"mapbox\":{\"style\":\"light\"}}},\"xaxis\":{\"anchor\":\"y\",\"domain\":[0.0,1.0],\"title\":{\"text\":\"Time\"}},\"yaxis\":{\"anchor\":\"x\",\"domain\":[0.0,1.0],\"title\":{\"text\":\"#Robots\"}},\"legend\":{\"title\":{\"text\":\"variable\"},\"tracegroupgap\":0},\"title\":{\"text\":\"CHO - Habitat over Time\"},\"barmode\":\"relative\",\"hovermode\":\"x\"},                        {\"responsive\": true}                    ).then(function(){\n",
       "                            \n",
       "var gd = document.getElementById('d12b3d73-9d36-4eff-93de-14289750308f');\n",
       "var x = new MutationObserver(function (mutations, observer) {{\n",
       "        var display = window.getComputedStyle(gd).display;\n",
       "        if (!display || display === 'none') {{\n",
       "            console.log([gd, 'removed!']);\n",
       "            Plotly.purge(gd);\n",
       "            observer.disconnect();\n",
       "        }}\n",
       "}});\n",
       "\n",
       "// Listen for the removal of the full notebook cells\n",
       "var notebookContainer = gd.closest('#notebook-container');\n",
       "if (notebookContainer) {{\n",
       "    x.observe(notebookContainer, {childList: true});\n",
       "}}\n",
       "\n",
       "// Listen for the clearing of the current output cell\n",
       "var outputEl = gd.closest('.output');\n",
       "if (outputEl) {{\n",
       "    x.observe(outputEl, {childList: true});\n",
       "}}\n",
       "\n",
       "                        })                };                });            </script>        </div>"
      ]
     },
     "metadata": {},
     "output_type": "display_data"
    },
    {
     "data": {
      "application/vnd.plotly.v1+json": {
       "config": {
        "plotlyServerURL": "https://plotly.com"
       },
       "data": [
        {
         "name": "#Replicator",
         "type": "bar",
         "x": [
          0,
          1,
          2,
          3,
          4,
          5,
          6,
          7,
          8,
          9,
          10,
          11,
          12,
          13,
          14,
          15,
          16,
          17,
          18,
          19,
          20,
          21,
          22,
          23,
          24,
          25,
          26,
          27,
          28,
          29,
          30,
          31,
          32,
          33,
          34,
          35,
          36,
          37,
          38,
          39,
          40,
          41,
          42,
          43,
          44,
          45,
          46,
          47,
          48,
          49,
          50,
          51,
          52,
          53,
          54,
          55,
          56,
          57,
          58,
          59,
          60,
          61,
          62,
          63,
          64,
          65,
          66,
          67,
          68,
          69,
          70,
          71,
          72,
          73,
          74
         ],
         "xaxis": "x",
         "y": [
          1,
          1,
          1,
          1,
          1,
          1,
          1,
          1,
          1,
          1,
          1,
          1,
          1,
          1,
          1,
          1,
          1,
          1,
          1,
          1,
          1,
          1,
          1,
          1,
          1,
          1,
          1,
          1,
          1,
          1,
          1,
          1,
          1,
          1,
          1,
          1,
          1,
          1,
          1,
          1,
          1,
          1,
          1,
          1,
          1,
          1,
          1,
          1,
          1,
          1,
          1,
          1,
          1,
          1,
          1,
          1,
          1,
          1,
          1,
          1,
          1,
          1,
          1,
          1,
          1,
          1,
          1,
          1,
          1,
          1,
          1,
          1,
          1,
          1,
          1
         ],
         "yaxis": "y"
        },
        {
         "name": "#Normal",
         "type": "bar",
         "x": [
          0,
          1,
          2,
          3,
          4,
          5,
          6,
          7,
          8,
          9,
          10,
          11,
          12,
          13,
          14,
          15,
          16,
          17,
          18,
          19,
          20,
          21,
          22,
          23,
          24,
          25,
          26,
          27,
          28,
          29,
          30,
          31,
          32,
          33,
          34,
          35,
          36,
          37,
          38,
          39,
          40,
          41,
          42,
          43,
          44,
          45,
          46,
          47,
          48,
          49,
          50,
          51,
          52,
          53,
          54,
          55,
          56,
          57,
          58,
          59,
          60,
          61,
          62,
          63,
          64,
          65,
          66,
          67,
          68,
          69,
          70,
          71,
          72,
          73,
          74
         ],
         "xaxis": "x",
         "y": [
          0,
          0,
          2,
          2,
          4,
          4,
          6,
          6,
          8,
          8,
          10,
          10,
          12,
          12,
          14,
          14,
          16,
          16,
          18,
          18,
          20,
          20,
          22,
          22,
          24,
          24,
          26,
          26,
          28,
          28,
          30,
          30,
          32,
          32,
          34,
          34,
          36,
          36,
          38,
          38,
          40,
          40,
          42,
          42,
          44,
          44,
          46,
          46,
          48,
          48,
          50,
          50,
          52,
          52,
          54,
          54,
          56,
          56,
          58,
          58,
          60,
          60,
          62,
          62,
          64,
          64,
          66,
          66,
          68,
          68,
          70,
          70,
          72,
          72,
          74
         ],
         "yaxis": "y"
        },
        {
         "name": "#Assembler",
         "type": "bar",
         "x": [
          0,
          1,
          2,
          3,
          4,
          5,
          6,
          7,
          8,
          9,
          10,
          11,
          12,
          13,
          14,
          15,
          16,
          17,
          18,
          19,
          20,
          21,
          22,
          23,
          24,
          25,
          26,
          27,
          28,
          29,
          30,
          31,
          32,
          33,
          34,
          35,
          36,
          37,
          38,
          39,
          40,
          41,
          42,
          43,
          44,
          45,
          46,
          47,
          48,
          49,
          50,
          51,
          52,
          53,
          54,
          55,
          56,
          57,
          58,
          59,
          60,
          61,
          62,
          63,
          64,
          65,
          66,
          67,
          68,
          69,
          70,
          71,
          72,
          73,
          74
         ],
         "xaxis": "x",
         "y": [
          0,
          0,
          0,
          0,
          0,
          0,
          0,
          0,
          0,
          0,
          0,
          0,
          0,
          0,
          0,
          0,
          0,
          0,
          0,
          0,
          0,
          0,
          0,
          0,
          0,
          0,
          0,
          0,
          0,
          0,
          0,
          0,
          0,
          0,
          0,
          0,
          0,
          0,
          0,
          0,
          0,
          0,
          0,
          0,
          0,
          0,
          0,
          0,
          0,
          0,
          0,
          0,
          0,
          0,
          0,
          0,
          0,
          0,
          0,
          0,
          0,
          0,
          0,
          0,
          0,
          0,
          0,
          0,
          0,
          0,
          0,
          0,
          0,
          0,
          0
         ],
         "yaxis": "y"
        },
        {
         "name": "#Printer",
         "type": "bar",
         "x": [
          0,
          1,
          2,
          3,
          4,
          5,
          6,
          7,
          8,
          9,
          10,
          11,
          12,
          13,
          14,
          15,
          16,
          17,
          18,
          19,
          20,
          21,
          22,
          23,
          24,
          25,
          26,
          27,
          28,
          29,
          30,
          31,
          32,
          33,
          34,
          35,
          36,
          37,
          38,
          39,
          40,
          41,
          42,
          43,
          44,
          45,
          46,
          47,
          48,
          49,
          50,
          51,
          52,
          53,
          54,
          55,
          56,
          57,
          58,
          59,
          60,
          61,
          62,
          63,
          64,
          65,
          66,
          67,
          68,
          69,
          70,
          71,
          72,
          73,
          74
         ],
         "xaxis": "x",
         "y": [
          0,
          0,
          0,
          0,
          0,
          0,
          0,
          0,
          0,
          0,
          0,
          0,
          0,
          0,
          0,
          0,
          0,
          0,
          0,
          0,
          0,
          0,
          0,
          0,
          0,
          0,
          0,
          0,
          0,
          0,
          0,
          0,
          0,
          0,
          0,
          0,
          0,
          0,
          0,
          0,
          0,
          0,
          0,
          0,
          0,
          0,
          0,
          0,
          0,
          0,
          0,
          0,
          0,
          0,
          0,
          0,
          0,
          0,
          0,
          0,
          0,
          0,
          0,
          0,
          0,
          0,
          0,
          0,
          0,
          0,
          0,
          0,
          0,
          0,
          0
         ],
         "yaxis": "y"
        },
        {
         "name": "#Assembling",
         "type": "bar",
         "x": [
          0,
          1,
          2,
          3,
          4,
          5,
          6,
          7,
          8,
          9,
          10,
          11,
          12,
          13,
          14,
          15,
          16,
          17,
          18,
          19,
          20,
          21,
          22,
          23,
          24,
          25,
          26,
          27,
          28,
          29,
          30,
          31,
          32,
          33,
          34,
          35,
          36,
          37,
          38,
          39,
          40,
          41,
          42,
          43,
          44,
          45,
          46,
          47,
          48,
          49,
          50,
          51,
          52,
          53,
          54,
          55,
          56,
          57,
          58,
          59,
          60,
          61,
          62,
          63,
          64,
          65,
          66,
          67,
          68,
          69,
          70,
          71,
          72,
          73,
          74
         ],
         "xaxis": "x3",
         "y": [
          1,
          1,
          1,
          1,
          1,
          1,
          1,
          1,
          1,
          1,
          1,
          1,
          1,
          1,
          1,
          1,
          1,
          1,
          1,
          1,
          1,
          1,
          1,
          1,
          1,
          1,
          1,
          1,
          1,
          1,
          1,
          1,
          1,
          1,
          1,
          1,
          1,
          1,
          1,
          1,
          1,
          1,
          1,
          1,
          1,
          1,
          1,
          1,
          1,
          1,
          1,
          1,
          1,
          1,
          1,
          1,
          1,
          1,
          1,
          1,
          1,
          1,
          1,
          1,
          1,
          1,
          1,
          1,
          1,
          1,
          1,
          1,
          1,
          1,
          1
         ],
         "yaxis": "y3"
        },
        {
         "name": "#Printing",
         "type": "bar",
         "x": [
          0,
          1,
          2,
          3,
          4,
          5,
          6,
          7,
          8,
          9,
          10,
          11,
          12,
          13,
          14,
          15,
          16,
          17,
          18,
          19,
          20,
          21,
          22,
          23,
          24,
          25,
          26,
          27,
          28,
          29,
          30,
          31,
          32,
          33,
          34,
          35,
          36,
          37,
          38,
          39,
          40,
          41,
          42,
          43,
          44,
          45,
          46,
          47,
          48,
          49,
          50,
          51,
          52,
          53,
          54,
          55,
          56,
          57,
          58,
          59,
          60,
          61,
          62,
          63,
          64,
          65,
          66,
          67,
          68,
          69,
          70,
          71,
          72,
          73,
          74
         ],
         "xaxis": "x3",
         "y": [
          0,
          0,
          0,
          0,
          0,
          0,
          0,
          0,
          0,
          0,
          0,
          0,
          0,
          0,
          0,
          0,
          0,
          0,
          0,
          0,
          0,
          0,
          0,
          0,
          0,
          0,
          0,
          0,
          0,
          0,
          0,
          0,
          0,
          0,
          0,
          0,
          0,
          0,
          0,
          0,
          0,
          0,
          0,
          0,
          0,
          0,
          0,
          0,
          0,
          0,
          0,
          0,
          0,
          0,
          0,
          0,
          0,
          0,
          0,
          0,
          0,
          0,
          0,
          0,
          0,
          0,
          0,
          0,
          0,
          0,
          0,
          0,
          0,
          0,
          0
         ],
         "yaxis": "y3"
        },
        {
         "name": "#Collecting",
         "type": "bar",
         "x": [
          0,
          1,
          2,
          3,
          4,
          5,
          6,
          7,
          8,
          9,
          10,
          11,
          12,
          13,
          14,
          15,
          16,
          17,
          18,
          19,
          20,
          21,
          22,
          23,
          24,
          25,
          26,
          27,
          28,
          29,
          30,
          31,
          32,
          33,
          34,
          35,
          36,
          37,
          38,
          39,
          40,
          41,
          42,
          43,
          44,
          45,
          46,
          47,
          48,
          49,
          50,
          51,
          52,
          53,
          54,
          55,
          56,
          57,
          58,
          59,
          60,
          61,
          62,
          63,
          64,
          65,
          66,
          67,
          68,
          69,
          70,
          71,
          72,
          73,
          74
         ],
         "xaxis": "x3",
         "y": [
          0,
          0,
          2,
          2,
          4,
          4,
          6,
          6,
          8,
          8,
          10,
          10,
          12,
          12,
          14,
          14,
          16,
          16,
          18,
          18,
          20,
          20,
          22,
          22,
          24,
          24,
          26,
          26,
          28,
          28,
          30,
          30,
          32,
          4,
          0,
          0,
          0,
          0,
          0,
          0,
          0,
          0,
          0,
          0,
          0,
          0,
          0,
          0,
          0,
          0,
          0,
          0,
          0,
          0,
          0,
          0,
          0,
          0,
          0,
          0,
          0,
          0,
          0,
          0,
          0,
          0,
          0,
          0,
          0,
          0,
          0,
          0,
          0,
          0,
          0
         ],
         "yaxis": "y3"
        },
        {
         "name": "#Idle",
         "type": "bar",
         "x": [
          0,
          1,
          2,
          3,
          4,
          5,
          6,
          7,
          8,
          9,
          10,
          11,
          12,
          13,
          14,
          15,
          16,
          17,
          18,
          19,
          20,
          21,
          22,
          23,
          24,
          25,
          26,
          27,
          28,
          29,
          30,
          31,
          32,
          33,
          34,
          35,
          36,
          37,
          38,
          39,
          40,
          41,
          42,
          43,
          44,
          45,
          46,
          47,
          48,
          49,
          50,
          51,
          52,
          53,
          54,
          55,
          56,
          57,
          58,
          59,
          60,
          61,
          62,
          63,
          64,
          65,
          66,
          67,
          68,
          69,
          70,
          71,
          72,
          73,
          74
         ],
         "xaxis": "x3",
         "y": [
          0,
          0,
          0,
          0,
          0,
          0,
          0,
          0,
          0,
          0,
          0,
          0,
          0,
          0,
          0,
          0,
          0,
          0,
          0,
          0,
          0,
          0,
          0,
          0,
          0,
          0,
          0,
          0,
          0,
          0,
          0,
          0,
          0,
          28,
          34,
          34,
          36,
          36,
          38,
          38,
          40,
          40,
          42,
          42,
          44,
          44,
          46,
          46,
          48,
          48,
          50,
          50,
          52,
          52,
          54,
          54,
          56,
          56,
          58,
          58,
          60,
          60,
          62,
          62,
          64,
          64,
          66,
          66,
          68,
          68,
          70,
          70,
          72,
          72,
          74
         ],
         "yaxis": "y3"
        },
        {
         "mode": "lines",
         "name": "NonPr",
         "type": "scatter",
         "x": [
          0,
          1,
          2,
          3,
          4,
          5,
          6,
          7,
          8,
          9,
          10,
          11,
          12,
          13,
          14,
          15,
          16,
          17,
          18,
          19,
          20,
          21,
          22,
          23,
          24,
          25,
          26,
          27,
          28,
          29,
          30,
          31,
          32,
          33,
          34,
          35,
          36,
          37,
          38,
          39,
          40,
          41,
          42,
          43,
          44,
          45,
          46,
          47,
          48,
          49,
          50,
          51,
          52,
          53,
          54,
          55,
          56,
          57,
          58,
          59,
          60,
          61,
          62,
          63,
          64,
          65,
          66,
          67,
          68,
          69,
          70,
          71,
          72,
          73,
          74
         ],
         "xaxis": "x2",
         "y": [
          299,
          299,
          298,
          298,
          297,
          297,
          296,
          296,
          295,
          295,
          294,
          294,
          293,
          293,
          292,
          292,
          291,
          291,
          290,
          290,
          289,
          289,
          288,
          288,
          287,
          287,
          286,
          286,
          285,
          285,
          284,
          284,
          283,
          283,
          282,
          282,
          281,
          281,
          280,
          280,
          279,
          279,
          278,
          278,
          277,
          277,
          276,
          276,
          275,
          275,
          274,
          274,
          273,
          273,
          272,
          272,
          271,
          271,
          270,
          270,
          269,
          269,
          268,
          268,
          267,
          267,
          266,
          266,
          265,
          265,
          264,
          264,
          263,
          263,
          262
         ],
         "yaxis": "y2"
        },
        {
         "mode": "lines",
         "name": "Printable",
         "type": "scatter",
         "x": [
          0,
          1,
          2,
          3,
          4,
          5,
          6,
          7,
          8,
          9,
          10,
          11,
          12,
          13,
          14,
          15,
          16,
          17,
          18,
          19,
          20,
          21,
          22,
          23,
          24,
          25,
          26,
          27,
          28,
          29,
          30,
          31,
          32,
          33,
          34,
          35,
          36,
          37,
          38,
          39,
          40,
          41,
          42,
          43,
          44,
          45,
          46,
          47,
          48,
          49,
          50,
          51,
          52,
          53,
          54,
          55,
          56,
          57,
          58,
          59,
          60,
          61,
          62,
          63,
          64,
          65,
          66,
          67,
          68,
          69,
          70,
          71,
          72,
          73,
          74
         ],
         "xaxis": "x2",
         "y": [
          98,
          98,
          96,
          96,
          94,
          94,
          92,
          92,
          90,
          90,
          88,
          88,
          86,
          86,
          84,
          84,
          82,
          82,
          80,
          80,
          78,
          78,
          76,
          76,
          74,
          74,
          72,
          72,
          70,
          70,
          68,
          68,
          66,
          66,
          64,
          64,
          62,
          62,
          60,
          60,
          58,
          58,
          56,
          56,
          54,
          54,
          52,
          52,
          50,
          50,
          48,
          48,
          46,
          46,
          44,
          44,
          42,
          42,
          40,
          40,
          38,
          38,
          36,
          36,
          34,
          34,
          32,
          32,
          30,
          30,
          28,
          28,
          26,
          26,
          24
         ],
         "yaxis": "y2"
        },
        {
         "mode": "lines",
         "name": "Materials",
         "type": "scatter",
         "x": [
          0,
          1,
          2,
          3,
          4,
          5,
          6,
          7,
          8,
          9,
          10,
          11,
          12,
          13,
          14,
          15,
          16,
          17,
          18,
          19,
          20,
          21,
          22,
          23,
          24,
          25,
          26,
          27,
          28,
          29,
          30,
          31,
          32,
          33,
          34,
          35,
          36,
          37,
          38,
          39,
          40,
          41,
          42,
          43,
          44,
          45,
          46,
          47,
          48,
          49,
          50,
          51,
          52,
          53,
          54,
          55,
          56,
          57,
          58,
          59,
          60,
          61,
          62,
          63,
          64,
          65,
          66,
          67,
          68,
          69,
          70,
          71,
          72,
          73,
          74
         ],
         "xaxis": "x2",
         "y": [
          50,
          50,
          51,
          53,
          56,
          60,
          65,
          71,
          78,
          86,
          95,
          105,
          116,
          128,
          141,
          155,
          170,
          186,
          203,
          221,
          240,
          260,
          281,
          303,
          326,
          350,
          375,
          401,
          428,
          456,
          485,
          515,
          546,
          550,
          550,
          550,
          550,
          550,
          550,
          550,
          550,
          550,
          550,
          550,
          550,
          550,
          550,
          550,
          550,
          550,
          550,
          550,
          550,
          550,
          550,
          550,
          550,
          550,
          550,
          550,
          550,
          550,
          550,
          550,
          550,
          550,
          550,
          550,
          550,
          550,
          550,
          550,
          550,
          550,
          550
         ],
         "yaxis": "y2"
        },
        {
         "mode": "lines",
         "name": "Env_Materials",
         "type": "scatter",
         "x": [
          0,
          1,
          2,
          3,
          4,
          5,
          6,
          7,
          8,
          9,
          10,
          11,
          12,
          13,
          14,
          15,
          16,
          17,
          18,
          19,
          20,
          21,
          22,
          23,
          24,
          25,
          26,
          27,
          28,
          29,
          30,
          31,
          32,
          33,
          34,
          35,
          36,
          37,
          38,
          39,
          40,
          41,
          42,
          43,
          44,
          45,
          46,
          47,
          48,
          49,
          50,
          51,
          52,
          53,
          54,
          55,
          56,
          57,
          58,
          59,
          60,
          61,
          62,
          63,
          64,
          65,
          66,
          67,
          68,
          69,
          70,
          71,
          72,
          73,
          74
         ],
         "xaxis": "x2",
         "y": [
          500,
          500,
          499,
          497,
          494,
          490,
          485,
          479,
          472,
          464,
          455,
          445,
          434,
          422,
          409,
          395,
          380,
          364,
          347,
          329,
          310,
          290,
          269,
          247,
          224,
          200,
          175,
          149,
          122,
          94,
          65,
          35,
          4,
          0,
          0,
          0,
          0,
          0,
          0,
          0,
          0,
          0,
          0,
          0,
          0,
          0,
          0,
          0,
          0,
          0,
          0,
          0,
          0,
          0,
          0,
          0,
          0,
          0,
          0,
          0,
          0,
          0,
          0,
          0,
          0,
          0,
          0,
          0,
          0,
          0,
          0,
          0,
          0,
          0,
          0
         ],
         "yaxis": "y2"
        },
        {
         "mode": "lines",
         "name": "Avg. Quality #in",
         "type": "scatter",
         "x": [
          0,
          1,
          2,
          3,
          4,
          5,
          6,
          7,
          8,
          9,
          10,
          11,
          12,
          13,
          14,
          15,
          16,
          17,
          18,
          19,
          20,
          21,
          22,
          23,
          24,
          25,
          26,
          27,
          28,
          29,
          30,
          31,
          32,
          33,
          34,
          35,
          36,
          37,
          38,
          39,
          40,
          41,
          42,
          43,
          44,
          45,
          46,
          47,
          48,
          49,
          50,
          51,
          52,
          53,
          54,
          55,
          56,
          57,
          58,
          59,
          60,
          61,
          62,
          63,
          64,
          65,
          66,
          67,
          68,
          69,
          70,
          71,
          72,
          73,
          74
         ],
         "xaxis": "x4",
         "y": [
          0.949,
          0.949,
          0.888,
          0.888,
          0.885,
          0.885,
          0.858,
          0.858,
          0.846,
          0.846,
          0.861,
          0.861,
          0.87,
          0.87,
          0.861,
          0.861,
          0.866,
          0.866,
          0.873,
          0.873,
          0.862,
          0.862,
          0.848,
          0.848,
          0.855,
          0.855,
          0.848,
          0.848,
          0.846,
          0.846,
          0.85,
          0.85,
          0.847,
          0.847,
          0.849,
          0.849,
          0.847,
          0.847,
          0.851,
          0.851,
          0.852,
          0.852,
          0.857,
          0.857,
          0.856,
          0.856,
          0.859,
          0.859,
          0.861,
          0.861,
          0.861,
          0.861,
          0.859,
          0.859,
          0.855,
          0.855,
          0.852,
          0.852,
          0.849,
          0.849,
          0.851,
          0.851,
          0.85,
          0.85,
          0.85,
          0.85,
          0.852,
          0.852,
          0.853,
          0.853,
          0.853,
          0.853,
          0.854,
          0.854,
          0.854
         ],
         "yaxis": "y4"
        },
        {
         "mode": "lines",
         "name": "Avg. Quality #total",
         "type": "scatter",
         "x": [
          0,
          1,
          2,
          3,
          4,
          5,
          6,
          7,
          8,
          9,
          10,
          11,
          12,
          13,
          14,
          15,
          16,
          17,
          18,
          19,
          20,
          21,
          22,
          23,
          24,
          25,
          26,
          27,
          28,
          29,
          30,
          31,
          32,
          33,
          34,
          35,
          36,
          37,
          38,
          39,
          40,
          41,
          42,
          43,
          44,
          45,
          46,
          47,
          48,
          49,
          50,
          51,
          52,
          53,
          54,
          55,
          56,
          57,
          58,
          59,
          60,
          61,
          62,
          63,
          64,
          65,
          66,
          67,
          68,
          69,
          70,
          71,
          72,
          73,
          74
         ],
         "xaxis": "x4",
         "y": [
          0.949,
          0.949,
          0.888,
          0.888,
          0.885,
          0.885,
          0.858,
          0.858,
          0.846,
          0.846,
          0.861,
          0.861,
          0.87,
          0.87,
          0.861,
          0.861,
          0.866,
          0.866,
          0.873,
          0.873,
          0.862,
          0.862,
          0.848,
          0.848,
          0.855,
          0.855,
          0.848,
          0.848,
          0.846,
          0.846,
          0.85,
          0.85,
          0.847,
          0.847,
          0.849,
          0.849,
          0.847,
          0.847,
          0.851,
          0.851,
          0.852,
          0.852,
          0.857,
          0.857,
          0.856,
          0.856,
          0.859,
          0.859,
          0.861,
          0.861,
          0.861,
          0.861,
          0.859,
          0.859,
          0.855,
          0.855,
          0.852,
          0.852,
          0.849,
          0.849,
          0.851,
          0.851,
          0.85,
          0.85,
          0.85,
          0.85,
          0.852,
          0.852,
          0.853,
          0.853,
          0.853,
          0.853,
          0.854,
          0.854,
          0.854
         ],
         "yaxis": "y4"
        }
       ],
       "layout": {
        "annotations": [
         {
          "font": {
           "size": 16
          },
          "showarrow": false,
          "text": "Types of Robots vs Time",
          "x": 0.225,
          "xanchor": "center",
          "xref": "paper",
          "y": 1,
          "yanchor": "bottom",
          "yref": "paper"
         },
         {
          "font": {
           "size": 16
          },
          "showarrow": false,
          "text": "Resources vs Time",
          "x": 0.775,
          "xanchor": "center",
          "xref": "paper",
          "y": 1,
          "yanchor": "bottom",
          "yref": "paper"
         },
         {
          "font": {
           "size": 16
          },
          "showarrow": false,
          "text": "Tasks of Robots vs Time",
          "x": 0.225,
          "xanchor": "center",
          "xref": "paper",
          "y": 0.375,
          "yanchor": "bottom",
          "yref": "paper"
         },
         {
          "font": {
           "size": 16
          },
          "showarrow": false,
          "text": "Build Quality vs Time",
          "x": 0.775,
          "xanchor": "center",
          "xref": "paper",
          "y": 0.375,
          "yanchor": "bottom",
          "yref": "paper"
         }
        ],
        "hovermode": "x",
        "template": {
         "data": {
          "bar": [
           {
            "error_x": {
             "color": "#2a3f5f"
            },
            "error_y": {
             "color": "#2a3f5f"
            },
            "marker": {
             "line": {
              "color": "#E5ECF6",
              "width": 0.5
             },
             "pattern": {
              "fillmode": "overlay",
              "size": 10,
              "solidity": 0.2
             }
            },
            "type": "bar"
           }
          ],
          "barpolar": [
           {
            "marker": {
             "line": {
              "color": "#E5ECF6",
              "width": 0.5
             },
             "pattern": {
              "fillmode": "overlay",
              "size": 10,
              "solidity": 0.2
             }
            },
            "type": "barpolar"
           }
          ],
          "carpet": [
           {
            "aaxis": {
             "endlinecolor": "#2a3f5f",
             "gridcolor": "white",
             "linecolor": "white",
             "minorgridcolor": "white",
             "startlinecolor": "#2a3f5f"
            },
            "baxis": {
             "endlinecolor": "#2a3f5f",
             "gridcolor": "white",
             "linecolor": "white",
             "minorgridcolor": "white",
             "startlinecolor": "#2a3f5f"
            },
            "type": "carpet"
           }
          ],
          "choropleth": [
           {
            "colorbar": {
             "outlinewidth": 0,
             "ticks": ""
            },
            "type": "choropleth"
           }
          ],
          "contour": [
           {
            "colorbar": {
             "outlinewidth": 0,
             "ticks": ""
            },
            "colorscale": [
             [
              0,
              "#0d0887"
             ],
             [
              0.1111111111111111,
              "#46039f"
             ],
             [
              0.2222222222222222,
              "#7201a8"
             ],
             [
              0.3333333333333333,
              "#9c179e"
             ],
             [
              0.4444444444444444,
              "#bd3786"
             ],
             [
              0.5555555555555556,
              "#d8576b"
             ],
             [
              0.6666666666666666,
              "#ed7953"
             ],
             [
              0.7777777777777778,
              "#fb9f3a"
             ],
             [
              0.8888888888888888,
              "#fdca26"
             ],
             [
              1,
              "#f0f921"
             ]
            ],
            "type": "contour"
           }
          ],
          "contourcarpet": [
           {
            "colorbar": {
             "outlinewidth": 0,
             "ticks": ""
            },
            "type": "contourcarpet"
           }
          ],
          "heatmap": [
           {
            "colorbar": {
             "outlinewidth": 0,
             "ticks": ""
            },
            "colorscale": [
             [
              0,
              "#0d0887"
             ],
             [
              0.1111111111111111,
              "#46039f"
             ],
             [
              0.2222222222222222,
              "#7201a8"
             ],
             [
              0.3333333333333333,
              "#9c179e"
             ],
             [
              0.4444444444444444,
              "#bd3786"
             ],
             [
              0.5555555555555556,
              "#d8576b"
             ],
             [
              0.6666666666666666,
              "#ed7953"
             ],
             [
              0.7777777777777778,
              "#fb9f3a"
             ],
             [
              0.8888888888888888,
              "#fdca26"
             ],
             [
              1,
              "#f0f921"
             ]
            ],
            "type": "heatmap"
           }
          ],
          "heatmapgl": [
           {
            "colorbar": {
             "outlinewidth": 0,
             "ticks": ""
            },
            "colorscale": [
             [
              0,
              "#0d0887"
             ],
             [
              0.1111111111111111,
              "#46039f"
             ],
             [
              0.2222222222222222,
              "#7201a8"
             ],
             [
              0.3333333333333333,
              "#9c179e"
             ],
             [
              0.4444444444444444,
              "#bd3786"
             ],
             [
              0.5555555555555556,
              "#d8576b"
             ],
             [
              0.6666666666666666,
              "#ed7953"
             ],
             [
              0.7777777777777778,
              "#fb9f3a"
             ],
             [
              0.8888888888888888,
              "#fdca26"
             ],
             [
              1,
              "#f0f921"
             ]
            ],
            "type": "heatmapgl"
           }
          ],
          "histogram": [
           {
            "marker": {
             "pattern": {
              "fillmode": "overlay",
              "size": 10,
              "solidity": 0.2
             }
            },
            "type": "histogram"
           }
          ],
          "histogram2d": [
           {
            "colorbar": {
             "outlinewidth": 0,
             "ticks": ""
            },
            "colorscale": [
             [
              0,
              "#0d0887"
             ],
             [
              0.1111111111111111,
              "#46039f"
             ],
             [
              0.2222222222222222,
              "#7201a8"
             ],
             [
              0.3333333333333333,
              "#9c179e"
             ],
             [
              0.4444444444444444,
              "#bd3786"
             ],
             [
              0.5555555555555556,
              "#d8576b"
             ],
             [
              0.6666666666666666,
              "#ed7953"
             ],
             [
              0.7777777777777778,
              "#fb9f3a"
             ],
             [
              0.8888888888888888,
              "#fdca26"
             ],
             [
              1,
              "#f0f921"
             ]
            ],
            "type": "histogram2d"
           }
          ],
          "histogram2dcontour": [
           {
            "colorbar": {
             "outlinewidth": 0,
             "ticks": ""
            },
            "colorscale": [
             [
              0,
              "#0d0887"
             ],
             [
              0.1111111111111111,
              "#46039f"
             ],
             [
              0.2222222222222222,
              "#7201a8"
             ],
             [
              0.3333333333333333,
              "#9c179e"
             ],
             [
              0.4444444444444444,
              "#bd3786"
             ],
             [
              0.5555555555555556,
              "#d8576b"
             ],
             [
              0.6666666666666666,
              "#ed7953"
             ],
             [
              0.7777777777777778,
              "#fb9f3a"
             ],
             [
              0.8888888888888888,
              "#fdca26"
             ],
             [
              1,
              "#f0f921"
             ]
            ],
            "type": "histogram2dcontour"
           }
          ],
          "mesh3d": [
           {
            "colorbar": {
             "outlinewidth": 0,
             "ticks": ""
            },
            "type": "mesh3d"
           }
          ],
          "parcoords": [
           {
            "line": {
             "colorbar": {
              "outlinewidth": 0,
              "ticks": ""
             }
            },
            "type": "parcoords"
           }
          ],
          "pie": [
           {
            "automargin": true,
            "type": "pie"
           }
          ],
          "scatter": [
           {
            "fillpattern": {
             "fillmode": "overlay",
             "size": 10,
             "solidity": 0.2
            },
            "type": "scatter"
           }
          ],
          "scatter3d": [
           {
            "line": {
             "colorbar": {
              "outlinewidth": 0,
              "ticks": ""
             }
            },
            "marker": {
             "colorbar": {
              "outlinewidth": 0,
              "ticks": ""
             }
            },
            "type": "scatter3d"
           }
          ],
          "scattercarpet": [
           {
            "marker": {
             "colorbar": {
              "outlinewidth": 0,
              "ticks": ""
             }
            },
            "type": "scattercarpet"
           }
          ],
          "scattergeo": [
           {
            "marker": {
             "colorbar": {
              "outlinewidth": 0,
              "ticks": ""
             }
            },
            "type": "scattergeo"
           }
          ],
          "scattergl": [
           {
            "marker": {
             "colorbar": {
              "outlinewidth": 0,
              "ticks": ""
             }
            },
            "type": "scattergl"
           }
          ],
          "scattermapbox": [
           {
            "marker": {
             "colorbar": {
              "outlinewidth": 0,
              "ticks": ""
             }
            },
            "type": "scattermapbox"
           }
          ],
          "scatterpolar": [
           {
            "marker": {
             "colorbar": {
              "outlinewidth": 0,
              "ticks": ""
             }
            },
            "type": "scatterpolar"
           }
          ],
          "scatterpolargl": [
           {
            "marker": {
             "colorbar": {
              "outlinewidth": 0,
              "ticks": ""
             }
            },
            "type": "scatterpolargl"
           }
          ],
          "scatterternary": [
           {
            "marker": {
             "colorbar": {
              "outlinewidth": 0,
              "ticks": ""
             }
            },
            "type": "scatterternary"
           }
          ],
          "surface": [
           {
            "colorbar": {
             "outlinewidth": 0,
             "ticks": ""
            },
            "colorscale": [
             [
              0,
              "#0d0887"
             ],
             [
              0.1111111111111111,
              "#46039f"
             ],
             [
              0.2222222222222222,
              "#7201a8"
             ],
             [
              0.3333333333333333,
              "#9c179e"
             ],
             [
              0.4444444444444444,
              "#bd3786"
             ],
             [
              0.5555555555555556,
              "#d8576b"
             ],
             [
              0.6666666666666666,
              "#ed7953"
             ],
             [
              0.7777777777777778,
              "#fb9f3a"
             ],
             [
              0.8888888888888888,
              "#fdca26"
             ],
             [
              1,
              "#f0f921"
             ]
            ],
            "type": "surface"
           }
          ],
          "table": [
           {
            "cells": {
             "fill": {
              "color": "#EBF0F8"
             },
             "line": {
              "color": "white"
             }
            },
            "header": {
             "fill": {
              "color": "#C8D4E3"
             },
             "line": {
              "color": "white"
             }
            },
            "type": "table"
           }
          ]
         },
         "layout": {
          "annotationdefaults": {
           "arrowcolor": "#2a3f5f",
           "arrowhead": 0,
           "arrowwidth": 1
          },
          "autotypenumbers": "strict",
          "coloraxis": {
           "colorbar": {
            "outlinewidth": 0,
            "ticks": ""
           }
          },
          "colorscale": {
           "diverging": [
            [
             0,
             "#8e0152"
            ],
            [
             0.1,
             "#c51b7d"
            ],
            [
             0.2,
             "#de77ae"
            ],
            [
             0.3,
             "#f1b6da"
            ],
            [
             0.4,
             "#fde0ef"
            ],
            [
             0.5,
             "#f7f7f7"
            ],
            [
             0.6,
             "#e6f5d0"
            ],
            [
             0.7,
             "#b8e186"
            ],
            [
             0.8,
             "#7fbc41"
            ],
            [
             0.9,
             "#4d9221"
            ],
            [
             1,
             "#276419"
            ]
           ],
           "sequential": [
            [
             0,
             "#0d0887"
            ],
            [
             0.1111111111111111,
             "#46039f"
            ],
            [
             0.2222222222222222,
             "#7201a8"
            ],
            [
             0.3333333333333333,
             "#9c179e"
            ],
            [
             0.4444444444444444,
             "#bd3786"
            ],
            [
             0.5555555555555556,
             "#d8576b"
            ],
            [
             0.6666666666666666,
             "#ed7953"
            ],
            [
             0.7777777777777778,
             "#fb9f3a"
            ],
            [
             0.8888888888888888,
             "#fdca26"
            ],
            [
             1,
             "#f0f921"
            ]
           ],
           "sequentialminus": [
            [
             0,
             "#0d0887"
            ],
            [
             0.1111111111111111,
             "#46039f"
            ],
            [
             0.2222222222222222,
             "#7201a8"
            ],
            [
             0.3333333333333333,
             "#9c179e"
            ],
            [
             0.4444444444444444,
             "#bd3786"
            ],
            [
             0.5555555555555556,
             "#d8576b"
            ],
            [
             0.6666666666666666,
             "#ed7953"
            ],
            [
             0.7777777777777778,
             "#fb9f3a"
            ],
            [
             0.8888888888888888,
             "#fdca26"
            ],
            [
             1,
             "#f0f921"
            ]
           ]
          },
          "colorway": [
           "#636efa",
           "#EF553B",
           "#00cc96",
           "#ab63fa",
           "#FFA15A",
           "#19d3f3",
           "#FF6692",
           "#B6E880",
           "#FF97FF",
           "#FECB52"
          ],
          "font": {
           "color": "#2a3f5f"
          },
          "geo": {
           "bgcolor": "white",
           "lakecolor": "white",
           "landcolor": "#E5ECF6",
           "showlakes": true,
           "showland": true,
           "subunitcolor": "white"
          },
          "hoverlabel": {
           "align": "left"
          },
          "hovermode": "closest",
          "mapbox": {
           "style": "light"
          },
          "paper_bgcolor": "white",
          "plot_bgcolor": "#E5ECF6",
          "polar": {
           "angularaxis": {
            "gridcolor": "white",
            "linecolor": "white",
            "ticks": ""
           },
           "bgcolor": "#E5ECF6",
           "radialaxis": {
            "gridcolor": "white",
            "linecolor": "white",
            "ticks": ""
           }
          },
          "scene": {
           "xaxis": {
            "backgroundcolor": "#E5ECF6",
            "gridcolor": "white",
            "gridwidth": 2,
            "linecolor": "white",
            "showbackground": true,
            "ticks": "",
            "zerolinecolor": "white"
           },
           "yaxis": {
            "backgroundcolor": "#E5ECF6",
            "gridcolor": "white",
            "gridwidth": 2,
            "linecolor": "white",
            "showbackground": true,
            "ticks": "",
            "zerolinecolor": "white"
           },
           "zaxis": {
            "backgroundcolor": "#E5ECF6",
            "gridcolor": "white",
            "gridwidth": 2,
            "linecolor": "white",
            "showbackground": true,
            "ticks": "",
            "zerolinecolor": "white"
           }
          },
          "shapedefaults": {
           "line": {
            "color": "#2a3f5f"
           }
          },
          "ternary": {
           "aaxis": {
            "gridcolor": "white",
            "linecolor": "white",
            "ticks": ""
           },
           "baxis": {
            "gridcolor": "white",
            "linecolor": "white",
            "ticks": ""
           },
           "bgcolor": "#E5ECF6",
           "caxis": {
            "gridcolor": "white",
            "linecolor": "white",
            "ticks": ""
           }
          },
          "title": {
           "x": 0.05
          },
          "xaxis": {
           "automargin": true,
           "gridcolor": "white",
           "linecolor": "white",
           "ticks": "",
           "title": {
            "standoff": 15
           },
           "zerolinecolor": "white",
           "zerolinewidth": 2
          },
          "yaxis": {
           "automargin": true,
           "gridcolor": "white",
           "linecolor": "white",
           "ticks": "",
           "title": {
            "standoff": 15
           },
           "zerolinecolor": "white",
           "zerolinewidth": 2
          }
         }
        },
        "title": {
         "text": "CHO - Characteristics"
        },
        "xaxis": {
         "anchor": "y",
         "domain": [
          0,
          0.45
         ]
        },
        "xaxis2": {
         "anchor": "y2",
         "domain": [
          0.55,
          1
         ]
        },
        "xaxis3": {
         "anchor": "y3",
         "domain": [
          0,
          0.45
         ]
        },
        "xaxis4": {
         "anchor": "y4",
         "domain": [
          0.55,
          1
         ]
        },
        "yaxis": {
         "anchor": "x",
         "domain": [
          0.625,
          1
         ]
        },
        "yaxis2": {
         "anchor": "x2",
         "domain": [
          0.625,
          1
         ]
        },
        "yaxis3": {
         "anchor": "x3",
         "domain": [
          0,
          0.375
         ]
        },
        "yaxis4": {
         "anchor": "x4",
         "domain": [
          0,
          0.375
         ]
        }
       }
      },
      "text/html": [
       "<div>                            <div id=\"68a2a367-b27f-4ef9-bab4-6b46a1999af7\" class=\"plotly-graph-div\" style=\"height:525px; width:100%;\"></div>            <script type=\"text/javascript\">                require([\"plotly\"], function(Plotly) {                    window.PLOTLYENV=window.PLOTLYENV || {};                                    if (document.getElementById(\"68a2a367-b27f-4ef9-bab4-6b46a1999af7\")) {                    Plotly.newPlot(                        \"68a2a367-b27f-4ef9-bab4-6b46a1999af7\",                        [{\"name\":\"#Replicator\",\"x\":[0.0,1.0,2.0,3.0,4.0,5.0,6.0,7.0,8.0,9.0,10.0,11.0,12.0,13.0,14.0,15.0,16.0,17.0,18.0,19.0,20.0,21.0,22.0,23.0,24.0,25.0,26.0,27.0,28.0,29.0,30.0,31.0,32.0,33.0,34.0,35.0,36.0,37.0,38.0,39.0,40.0,41.0,42.0,43.0,44.0,45.0,46.0,47.0,48.0,49.0,50.0,51.0,52.0,53.0,54.0,55.0,56.0,57.0,58.0,59.0,60.0,61.0,62.0,63.0,64.0,65.0,66.0,67.0,68.0,69.0,70.0,71.0,72.0,73.0,74.0],\"y\":[1.0,1.0,1.0,1.0,1.0,1.0,1.0,1.0,1.0,1.0,1.0,1.0,1.0,1.0,1.0,1.0,1.0,1.0,1.0,1.0,1.0,1.0,1.0,1.0,1.0,1.0,1.0,1.0,1.0,1.0,1.0,1.0,1.0,1.0,1.0,1.0,1.0,1.0,1.0,1.0,1.0,1.0,1.0,1.0,1.0,1.0,1.0,1.0,1.0,1.0,1.0,1.0,1.0,1.0,1.0,1.0,1.0,1.0,1.0,1.0,1.0,1.0,1.0,1.0,1.0,1.0,1.0,1.0,1.0,1.0,1.0,1.0,1.0,1.0,1.0],\"type\":\"bar\",\"xaxis\":\"x\",\"yaxis\":\"y\"},{\"name\":\"#Normal\",\"x\":[0.0,1.0,2.0,3.0,4.0,5.0,6.0,7.0,8.0,9.0,10.0,11.0,12.0,13.0,14.0,15.0,16.0,17.0,18.0,19.0,20.0,21.0,22.0,23.0,24.0,25.0,26.0,27.0,28.0,29.0,30.0,31.0,32.0,33.0,34.0,35.0,36.0,37.0,38.0,39.0,40.0,41.0,42.0,43.0,44.0,45.0,46.0,47.0,48.0,49.0,50.0,51.0,52.0,53.0,54.0,55.0,56.0,57.0,58.0,59.0,60.0,61.0,62.0,63.0,64.0,65.0,66.0,67.0,68.0,69.0,70.0,71.0,72.0,73.0,74.0],\"y\":[0.0,0.0,2.0,2.0,4.0,4.0,6.0,6.0,8.0,8.0,10.0,10.0,12.0,12.0,14.0,14.0,16.0,16.0,18.0,18.0,20.0,20.0,22.0,22.0,24.0,24.0,26.0,26.0,28.0,28.0,30.0,30.0,32.0,32.0,34.0,34.0,36.0,36.0,38.0,38.0,40.0,40.0,42.0,42.0,44.0,44.0,46.0,46.0,48.0,48.0,50.0,50.0,52.0,52.0,54.0,54.0,56.0,56.0,58.0,58.0,60.0,60.0,62.0,62.0,64.0,64.0,66.0,66.0,68.0,68.0,70.0,70.0,72.0,72.0,74.0],\"type\":\"bar\",\"xaxis\":\"x\",\"yaxis\":\"y\"},{\"name\":\"#Assembler\",\"x\":[0.0,1.0,2.0,3.0,4.0,5.0,6.0,7.0,8.0,9.0,10.0,11.0,12.0,13.0,14.0,15.0,16.0,17.0,18.0,19.0,20.0,21.0,22.0,23.0,24.0,25.0,26.0,27.0,28.0,29.0,30.0,31.0,32.0,33.0,34.0,35.0,36.0,37.0,38.0,39.0,40.0,41.0,42.0,43.0,44.0,45.0,46.0,47.0,48.0,49.0,50.0,51.0,52.0,53.0,54.0,55.0,56.0,57.0,58.0,59.0,60.0,61.0,62.0,63.0,64.0,65.0,66.0,67.0,68.0,69.0,70.0,71.0,72.0,73.0,74.0],\"y\":[0.0,0.0,0.0,0.0,0.0,0.0,0.0,0.0,0.0,0.0,0.0,0.0,0.0,0.0,0.0,0.0,0.0,0.0,0.0,0.0,0.0,0.0,0.0,0.0,0.0,0.0,0.0,0.0,0.0,0.0,0.0,0.0,0.0,0.0,0.0,0.0,0.0,0.0,0.0,0.0,0.0,0.0,0.0,0.0,0.0,0.0,0.0,0.0,0.0,0.0,0.0,0.0,0.0,0.0,0.0,0.0,0.0,0.0,0.0,0.0,0.0,0.0,0.0,0.0,0.0,0.0,0.0,0.0,0.0,0.0,0.0,0.0,0.0,0.0,0.0],\"type\":\"bar\",\"xaxis\":\"x\",\"yaxis\":\"y\"},{\"name\":\"#Printer\",\"x\":[0.0,1.0,2.0,3.0,4.0,5.0,6.0,7.0,8.0,9.0,10.0,11.0,12.0,13.0,14.0,15.0,16.0,17.0,18.0,19.0,20.0,21.0,22.0,23.0,24.0,25.0,26.0,27.0,28.0,29.0,30.0,31.0,32.0,33.0,34.0,35.0,36.0,37.0,38.0,39.0,40.0,41.0,42.0,43.0,44.0,45.0,46.0,47.0,48.0,49.0,50.0,51.0,52.0,53.0,54.0,55.0,56.0,57.0,58.0,59.0,60.0,61.0,62.0,63.0,64.0,65.0,66.0,67.0,68.0,69.0,70.0,71.0,72.0,73.0,74.0],\"y\":[0.0,0.0,0.0,0.0,0.0,0.0,0.0,0.0,0.0,0.0,0.0,0.0,0.0,0.0,0.0,0.0,0.0,0.0,0.0,0.0,0.0,0.0,0.0,0.0,0.0,0.0,0.0,0.0,0.0,0.0,0.0,0.0,0.0,0.0,0.0,0.0,0.0,0.0,0.0,0.0,0.0,0.0,0.0,0.0,0.0,0.0,0.0,0.0,0.0,0.0,0.0,0.0,0.0,0.0,0.0,0.0,0.0,0.0,0.0,0.0,0.0,0.0,0.0,0.0,0.0,0.0,0.0,0.0,0.0,0.0,0.0,0.0,0.0,0.0,0.0],\"type\":\"bar\",\"xaxis\":\"x\",\"yaxis\":\"y\"},{\"name\":\"#Assembling\",\"x\":[0.0,1.0,2.0,3.0,4.0,5.0,6.0,7.0,8.0,9.0,10.0,11.0,12.0,13.0,14.0,15.0,16.0,17.0,18.0,19.0,20.0,21.0,22.0,23.0,24.0,25.0,26.0,27.0,28.0,29.0,30.0,31.0,32.0,33.0,34.0,35.0,36.0,37.0,38.0,39.0,40.0,41.0,42.0,43.0,44.0,45.0,46.0,47.0,48.0,49.0,50.0,51.0,52.0,53.0,54.0,55.0,56.0,57.0,58.0,59.0,60.0,61.0,62.0,63.0,64.0,65.0,66.0,67.0,68.0,69.0,70.0,71.0,72.0,73.0,74.0],\"y\":[1.0,1.0,1.0,1.0,1.0,1.0,1.0,1.0,1.0,1.0,1.0,1.0,1.0,1.0,1.0,1.0,1.0,1.0,1.0,1.0,1.0,1.0,1.0,1.0,1.0,1.0,1.0,1.0,1.0,1.0,1.0,1.0,1.0,1.0,1.0,1.0,1.0,1.0,1.0,1.0,1.0,1.0,1.0,1.0,1.0,1.0,1.0,1.0,1.0,1.0,1.0,1.0,1.0,1.0,1.0,1.0,1.0,1.0,1.0,1.0,1.0,1.0,1.0,1.0,1.0,1.0,1.0,1.0,1.0,1.0,1.0,1.0,1.0,1.0,1.0],\"type\":\"bar\",\"xaxis\":\"x3\",\"yaxis\":\"y3\"},{\"name\":\"#Printing\",\"x\":[0.0,1.0,2.0,3.0,4.0,5.0,6.0,7.0,8.0,9.0,10.0,11.0,12.0,13.0,14.0,15.0,16.0,17.0,18.0,19.0,20.0,21.0,22.0,23.0,24.0,25.0,26.0,27.0,28.0,29.0,30.0,31.0,32.0,33.0,34.0,35.0,36.0,37.0,38.0,39.0,40.0,41.0,42.0,43.0,44.0,45.0,46.0,47.0,48.0,49.0,50.0,51.0,52.0,53.0,54.0,55.0,56.0,57.0,58.0,59.0,60.0,61.0,62.0,63.0,64.0,65.0,66.0,67.0,68.0,69.0,70.0,71.0,72.0,73.0,74.0],\"y\":[0.0,0.0,0.0,0.0,0.0,0.0,0.0,0.0,0.0,0.0,0.0,0.0,0.0,0.0,0.0,0.0,0.0,0.0,0.0,0.0,0.0,0.0,0.0,0.0,0.0,0.0,0.0,0.0,0.0,0.0,0.0,0.0,0.0,0.0,0.0,0.0,0.0,0.0,0.0,0.0,0.0,0.0,0.0,0.0,0.0,0.0,0.0,0.0,0.0,0.0,0.0,0.0,0.0,0.0,0.0,0.0,0.0,0.0,0.0,0.0,0.0,0.0,0.0,0.0,0.0,0.0,0.0,0.0,0.0,0.0,0.0,0.0,0.0,0.0,0.0],\"type\":\"bar\",\"xaxis\":\"x3\",\"yaxis\":\"y3\"},{\"name\":\"#Collecting\",\"x\":[0.0,1.0,2.0,3.0,4.0,5.0,6.0,7.0,8.0,9.0,10.0,11.0,12.0,13.0,14.0,15.0,16.0,17.0,18.0,19.0,20.0,21.0,22.0,23.0,24.0,25.0,26.0,27.0,28.0,29.0,30.0,31.0,32.0,33.0,34.0,35.0,36.0,37.0,38.0,39.0,40.0,41.0,42.0,43.0,44.0,45.0,46.0,47.0,48.0,49.0,50.0,51.0,52.0,53.0,54.0,55.0,56.0,57.0,58.0,59.0,60.0,61.0,62.0,63.0,64.0,65.0,66.0,67.0,68.0,69.0,70.0,71.0,72.0,73.0,74.0],\"y\":[0.0,0.0,2.0,2.0,4.0,4.0,6.0,6.0,8.0,8.0,10.0,10.0,12.0,12.0,14.0,14.0,16.0,16.0,18.0,18.0,20.0,20.0,22.0,22.0,24.0,24.0,26.0,26.0,28.0,28.0,30.0,30.0,32.0,4.0,0.0,0.0,0.0,0.0,0.0,0.0,0.0,0.0,0.0,0.0,0.0,0.0,0.0,0.0,0.0,0.0,0.0,0.0,0.0,0.0,0.0,0.0,0.0,0.0,0.0,0.0,0.0,0.0,0.0,0.0,0.0,0.0,0.0,0.0,0.0,0.0,0.0,0.0,0.0,0.0,0.0],\"type\":\"bar\",\"xaxis\":\"x3\",\"yaxis\":\"y3\"},{\"name\":\"#Idle\",\"x\":[0.0,1.0,2.0,3.0,4.0,5.0,6.0,7.0,8.0,9.0,10.0,11.0,12.0,13.0,14.0,15.0,16.0,17.0,18.0,19.0,20.0,21.0,22.0,23.0,24.0,25.0,26.0,27.0,28.0,29.0,30.0,31.0,32.0,33.0,34.0,35.0,36.0,37.0,38.0,39.0,40.0,41.0,42.0,43.0,44.0,45.0,46.0,47.0,48.0,49.0,50.0,51.0,52.0,53.0,54.0,55.0,56.0,57.0,58.0,59.0,60.0,61.0,62.0,63.0,64.0,65.0,66.0,67.0,68.0,69.0,70.0,71.0,72.0,73.0,74.0],\"y\":[0.0,0.0,0.0,0.0,0.0,0.0,0.0,0.0,0.0,0.0,0.0,0.0,0.0,0.0,0.0,0.0,0.0,0.0,0.0,0.0,0.0,0.0,0.0,0.0,0.0,0.0,0.0,0.0,0.0,0.0,0.0,0.0,0.0,28.0,34.0,34.0,36.0,36.0,38.0,38.0,40.0,40.0,42.0,42.0,44.0,44.0,46.0,46.0,48.0,48.0,50.0,50.0,52.0,52.0,54.0,54.0,56.0,56.0,58.0,58.0,60.0,60.0,62.0,62.0,64.0,64.0,66.0,66.0,68.0,68.0,70.0,70.0,72.0,72.0,74.0],\"type\":\"bar\",\"xaxis\":\"x3\",\"yaxis\":\"y3\"},{\"mode\":\"lines\",\"name\":\"NonPr\",\"x\":[0.0,1.0,2.0,3.0,4.0,5.0,6.0,7.0,8.0,9.0,10.0,11.0,12.0,13.0,14.0,15.0,16.0,17.0,18.0,19.0,20.0,21.0,22.0,23.0,24.0,25.0,26.0,27.0,28.0,29.0,30.0,31.0,32.0,33.0,34.0,35.0,36.0,37.0,38.0,39.0,40.0,41.0,42.0,43.0,44.0,45.0,46.0,47.0,48.0,49.0,50.0,51.0,52.0,53.0,54.0,55.0,56.0,57.0,58.0,59.0,60.0,61.0,62.0,63.0,64.0,65.0,66.0,67.0,68.0,69.0,70.0,71.0,72.0,73.0,74.0],\"y\":[299.0,299.0,298.0,298.0,297.0,297.0,296.0,296.0,295.0,295.0,294.0,294.0,293.0,293.0,292.0,292.0,291.0,291.0,290.0,290.0,289.0,289.0,288.0,288.0,287.0,287.0,286.0,286.0,285.0,285.0,284.0,284.0,283.0,283.0,282.0,282.0,281.0,281.0,280.0,280.0,279.0,279.0,278.0,278.0,277.0,277.0,276.0,276.0,275.0,275.0,274.0,274.0,273.0,273.0,272.0,272.0,271.0,271.0,270.0,270.0,269.0,269.0,268.0,268.0,267.0,267.0,266.0,266.0,265.0,265.0,264.0,264.0,263.0,263.0,262.0],\"type\":\"scatter\",\"xaxis\":\"x2\",\"yaxis\":\"y2\"},{\"mode\":\"lines\",\"name\":\"Printable\",\"x\":[0.0,1.0,2.0,3.0,4.0,5.0,6.0,7.0,8.0,9.0,10.0,11.0,12.0,13.0,14.0,15.0,16.0,17.0,18.0,19.0,20.0,21.0,22.0,23.0,24.0,25.0,26.0,27.0,28.0,29.0,30.0,31.0,32.0,33.0,34.0,35.0,36.0,37.0,38.0,39.0,40.0,41.0,42.0,43.0,44.0,45.0,46.0,47.0,48.0,49.0,50.0,51.0,52.0,53.0,54.0,55.0,56.0,57.0,58.0,59.0,60.0,61.0,62.0,63.0,64.0,65.0,66.0,67.0,68.0,69.0,70.0,71.0,72.0,73.0,74.0],\"y\":[98.0,98.0,96.0,96.0,94.0,94.0,92.0,92.0,90.0,90.0,88.0,88.0,86.0,86.0,84.0,84.0,82.0,82.0,80.0,80.0,78.0,78.0,76.0,76.0,74.0,74.0,72.0,72.0,70.0,70.0,68.0,68.0,66.0,66.0,64.0,64.0,62.0,62.0,60.0,60.0,58.0,58.0,56.0,56.0,54.0,54.0,52.0,52.0,50.0,50.0,48.0,48.0,46.0,46.0,44.0,44.0,42.0,42.0,40.0,40.0,38.0,38.0,36.0,36.0,34.0,34.0,32.0,32.0,30.0,30.0,28.0,28.0,26.0,26.0,24.0],\"type\":\"scatter\",\"xaxis\":\"x2\",\"yaxis\":\"y2\"},{\"mode\":\"lines\",\"name\":\"Materials\",\"x\":[0.0,1.0,2.0,3.0,4.0,5.0,6.0,7.0,8.0,9.0,10.0,11.0,12.0,13.0,14.0,15.0,16.0,17.0,18.0,19.0,20.0,21.0,22.0,23.0,24.0,25.0,26.0,27.0,28.0,29.0,30.0,31.0,32.0,33.0,34.0,35.0,36.0,37.0,38.0,39.0,40.0,41.0,42.0,43.0,44.0,45.0,46.0,47.0,48.0,49.0,50.0,51.0,52.0,53.0,54.0,55.0,56.0,57.0,58.0,59.0,60.0,61.0,62.0,63.0,64.0,65.0,66.0,67.0,68.0,69.0,70.0,71.0,72.0,73.0,74.0],\"y\":[50.0,50.0,51.0,53.0,56.0,60.0,65.0,71.0,78.0,86.0,95.0,105.0,116.0,128.0,141.0,155.0,170.0,186.0,203.0,221.0,240.0,260.0,281.0,303.0,326.0,350.0,375.0,401.0,428.0,456.0,485.0,515.0,546.0,550.0,550.0,550.0,550.0,550.0,550.0,550.0,550.0,550.0,550.0,550.0,550.0,550.0,550.0,550.0,550.0,550.0,550.0,550.0,550.0,550.0,550.0,550.0,550.0,550.0,550.0,550.0,550.0,550.0,550.0,550.0,550.0,550.0,550.0,550.0,550.0,550.0,550.0,550.0,550.0,550.0,550.0],\"type\":\"scatter\",\"xaxis\":\"x2\",\"yaxis\":\"y2\"},{\"mode\":\"lines\",\"name\":\"Env_Materials\",\"x\":[0.0,1.0,2.0,3.0,4.0,5.0,6.0,7.0,8.0,9.0,10.0,11.0,12.0,13.0,14.0,15.0,16.0,17.0,18.0,19.0,20.0,21.0,22.0,23.0,24.0,25.0,26.0,27.0,28.0,29.0,30.0,31.0,32.0,33.0,34.0,35.0,36.0,37.0,38.0,39.0,40.0,41.0,42.0,43.0,44.0,45.0,46.0,47.0,48.0,49.0,50.0,51.0,52.0,53.0,54.0,55.0,56.0,57.0,58.0,59.0,60.0,61.0,62.0,63.0,64.0,65.0,66.0,67.0,68.0,69.0,70.0,71.0,72.0,73.0,74.0],\"y\":[500.0,500.0,499.0,497.0,494.0,490.0,485.0,479.0,472.0,464.0,455.0,445.0,434.0,422.0,409.0,395.0,380.0,364.0,347.0,329.0,310.0,290.0,269.0,247.0,224.0,200.0,175.0,149.0,122.0,94.0,65.0,35.0,4.0,0.0,0.0,0.0,0.0,0.0,0.0,0.0,0.0,0.0,0.0,0.0,0.0,0.0,0.0,0.0,0.0,0.0,0.0,0.0,0.0,0.0,0.0,0.0,0.0,0.0,0.0,0.0,0.0,0.0,0.0,0.0,0.0,0.0,0.0,0.0,0.0,0.0,0.0,0.0,0.0,0.0,0.0],\"type\":\"scatter\",\"xaxis\":\"x2\",\"yaxis\":\"y2\"},{\"mode\":\"lines\",\"name\":\"Avg. Quality #in\",\"x\":[0.0,1.0,2.0,3.0,4.0,5.0,6.0,7.0,8.0,9.0,10.0,11.0,12.0,13.0,14.0,15.0,16.0,17.0,18.0,19.0,20.0,21.0,22.0,23.0,24.0,25.0,26.0,27.0,28.0,29.0,30.0,31.0,32.0,33.0,34.0,35.0,36.0,37.0,38.0,39.0,40.0,41.0,42.0,43.0,44.0,45.0,46.0,47.0,48.0,49.0,50.0,51.0,52.0,53.0,54.0,55.0,56.0,57.0,58.0,59.0,60.0,61.0,62.0,63.0,64.0,65.0,66.0,67.0,68.0,69.0,70.0,71.0,72.0,73.0,74.0],\"y\":[0.949,0.949,0.888,0.888,0.885,0.885,0.858,0.858,0.846,0.846,0.861,0.861,0.87,0.87,0.861,0.861,0.866,0.866,0.873,0.873,0.862,0.862,0.848,0.848,0.855,0.855,0.848,0.848,0.846,0.846,0.85,0.85,0.847,0.847,0.849,0.849,0.847,0.847,0.851,0.851,0.852,0.852,0.857,0.857,0.856,0.856,0.859,0.859,0.861,0.861,0.861,0.861,0.859,0.859,0.855,0.855,0.852,0.852,0.849,0.849,0.851,0.851,0.85,0.85,0.85,0.85,0.852,0.852,0.853,0.853,0.853,0.853,0.854,0.854,0.854],\"type\":\"scatter\",\"xaxis\":\"x4\",\"yaxis\":\"y4\"},{\"mode\":\"lines\",\"name\":\"Avg. Quality #total\",\"x\":[0.0,1.0,2.0,3.0,4.0,5.0,6.0,7.0,8.0,9.0,10.0,11.0,12.0,13.0,14.0,15.0,16.0,17.0,18.0,19.0,20.0,21.0,22.0,23.0,24.0,25.0,26.0,27.0,28.0,29.0,30.0,31.0,32.0,33.0,34.0,35.0,36.0,37.0,38.0,39.0,40.0,41.0,42.0,43.0,44.0,45.0,46.0,47.0,48.0,49.0,50.0,51.0,52.0,53.0,54.0,55.0,56.0,57.0,58.0,59.0,60.0,61.0,62.0,63.0,64.0,65.0,66.0,67.0,68.0,69.0,70.0,71.0,72.0,73.0,74.0],\"y\":[0.949,0.949,0.888,0.888,0.885,0.885,0.858,0.858,0.846,0.846,0.861,0.861,0.87,0.87,0.861,0.861,0.866,0.866,0.873,0.873,0.862,0.862,0.848,0.848,0.855,0.855,0.848,0.848,0.846,0.846,0.85,0.85,0.847,0.847,0.849,0.849,0.847,0.847,0.851,0.851,0.852,0.852,0.857,0.857,0.856,0.856,0.859,0.859,0.861,0.861,0.861,0.861,0.859,0.859,0.855,0.855,0.852,0.852,0.849,0.849,0.851,0.851,0.85,0.85,0.85,0.85,0.852,0.852,0.853,0.853,0.853,0.853,0.854,0.854,0.854],\"type\":\"scatter\",\"xaxis\":\"x4\",\"yaxis\":\"y4\"}],                        {\"template\":{\"data\":{\"histogram2dcontour\":[{\"type\":\"histogram2dcontour\",\"colorbar\":{\"outlinewidth\":0,\"ticks\":\"\"},\"colorscale\":[[0.0,\"#0d0887\"],[0.1111111111111111,\"#46039f\"],[0.2222222222222222,\"#7201a8\"],[0.3333333333333333,\"#9c179e\"],[0.4444444444444444,\"#bd3786\"],[0.5555555555555556,\"#d8576b\"],[0.6666666666666666,\"#ed7953\"],[0.7777777777777778,\"#fb9f3a\"],[0.8888888888888888,\"#fdca26\"],[1.0,\"#f0f921\"]]}],\"choropleth\":[{\"type\":\"choropleth\",\"colorbar\":{\"outlinewidth\":0,\"ticks\":\"\"}}],\"histogram2d\":[{\"type\":\"histogram2d\",\"colorbar\":{\"outlinewidth\":0,\"ticks\":\"\"},\"colorscale\":[[0.0,\"#0d0887\"],[0.1111111111111111,\"#46039f\"],[0.2222222222222222,\"#7201a8\"],[0.3333333333333333,\"#9c179e\"],[0.4444444444444444,\"#bd3786\"],[0.5555555555555556,\"#d8576b\"],[0.6666666666666666,\"#ed7953\"],[0.7777777777777778,\"#fb9f3a\"],[0.8888888888888888,\"#fdca26\"],[1.0,\"#f0f921\"]]}],\"heatmap\":[{\"type\":\"heatmap\",\"colorbar\":{\"outlinewidth\":0,\"ticks\":\"\"},\"colorscale\":[[0.0,\"#0d0887\"],[0.1111111111111111,\"#46039f\"],[0.2222222222222222,\"#7201a8\"],[0.3333333333333333,\"#9c179e\"],[0.4444444444444444,\"#bd3786\"],[0.5555555555555556,\"#d8576b\"],[0.6666666666666666,\"#ed7953\"],[0.7777777777777778,\"#fb9f3a\"],[0.8888888888888888,\"#fdca26\"],[1.0,\"#f0f921\"]]}],\"heatmapgl\":[{\"type\":\"heatmapgl\",\"colorbar\":{\"outlinewidth\":0,\"ticks\":\"\"},\"colorscale\":[[0.0,\"#0d0887\"],[0.1111111111111111,\"#46039f\"],[0.2222222222222222,\"#7201a8\"],[0.3333333333333333,\"#9c179e\"],[0.4444444444444444,\"#bd3786\"],[0.5555555555555556,\"#d8576b\"],[0.6666666666666666,\"#ed7953\"],[0.7777777777777778,\"#fb9f3a\"],[0.8888888888888888,\"#fdca26\"],[1.0,\"#f0f921\"]]}],\"contourcarpet\":[{\"type\":\"contourcarpet\",\"colorbar\":{\"outlinewidth\":0,\"ticks\":\"\"}}],\"contour\":[{\"type\":\"contour\",\"colorbar\":{\"outlinewidth\":0,\"ticks\":\"\"},\"colorscale\":[[0.0,\"#0d0887\"],[0.1111111111111111,\"#46039f\"],[0.2222222222222222,\"#7201a8\"],[0.3333333333333333,\"#9c179e\"],[0.4444444444444444,\"#bd3786\"],[0.5555555555555556,\"#d8576b\"],[0.6666666666666666,\"#ed7953\"],[0.7777777777777778,\"#fb9f3a\"],[0.8888888888888888,\"#fdca26\"],[1.0,\"#f0f921\"]]}],\"surface\":[{\"type\":\"surface\",\"colorbar\":{\"outlinewidth\":0,\"ticks\":\"\"},\"colorscale\":[[0.0,\"#0d0887\"],[0.1111111111111111,\"#46039f\"],[0.2222222222222222,\"#7201a8\"],[0.3333333333333333,\"#9c179e\"],[0.4444444444444444,\"#bd3786\"],[0.5555555555555556,\"#d8576b\"],[0.6666666666666666,\"#ed7953\"],[0.7777777777777778,\"#fb9f3a\"],[0.8888888888888888,\"#fdca26\"],[1.0,\"#f0f921\"]]}],\"mesh3d\":[{\"type\":\"mesh3d\",\"colorbar\":{\"outlinewidth\":0,\"ticks\":\"\"}}],\"scatter\":[{\"fillpattern\":{\"fillmode\":\"overlay\",\"size\":10,\"solidity\":0.2},\"type\":\"scatter\"}],\"parcoords\":[{\"type\":\"parcoords\",\"line\":{\"colorbar\":{\"outlinewidth\":0,\"ticks\":\"\"}}}],\"scatterpolargl\":[{\"type\":\"scatterpolargl\",\"marker\":{\"colorbar\":{\"outlinewidth\":0,\"ticks\":\"\"}}}],\"bar\":[{\"error_x\":{\"color\":\"#2a3f5f\"},\"error_y\":{\"color\":\"#2a3f5f\"},\"marker\":{\"line\":{\"color\":\"#E5ECF6\",\"width\":0.5},\"pattern\":{\"fillmode\":\"overlay\",\"size\":10,\"solidity\":0.2}},\"type\":\"bar\"}],\"scattergeo\":[{\"type\":\"scattergeo\",\"marker\":{\"colorbar\":{\"outlinewidth\":0,\"ticks\":\"\"}}}],\"scatterpolar\":[{\"type\":\"scatterpolar\",\"marker\":{\"colorbar\":{\"outlinewidth\":0,\"ticks\":\"\"}}}],\"histogram\":[{\"marker\":{\"pattern\":{\"fillmode\":\"overlay\",\"size\":10,\"solidity\":0.2}},\"type\":\"histogram\"}],\"scattergl\":[{\"type\":\"scattergl\",\"marker\":{\"colorbar\":{\"outlinewidth\":0,\"ticks\":\"\"}}}],\"scatter3d\":[{\"type\":\"scatter3d\",\"line\":{\"colorbar\":{\"outlinewidth\":0,\"ticks\":\"\"}},\"marker\":{\"colorbar\":{\"outlinewidth\":0,\"ticks\":\"\"}}}],\"scattermapbox\":[{\"type\":\"scattermapbox\",\"marker\":{\"colorbar\":{\"outlinewidth\":0,\"ticks\":\"\"}}}],\"scatterternary\":[{\"type\":\"scatterternary\",\"marker\":{\"colorbar\":{\"outlinewidth\":0,\"ticks\":\"\"}}}],\"scattercarpet\":[{\"type\":\"scattercarpet\",\"marker\":{\"colorbar\":{\"outlinewidth\":0,\"ticks\":\"\"}}}],\"carpet\":[{\"aaxis\":{\"endlinecolor\":\"#2a3f5f\",\"gridcolor\":\"white\",\"linecolor\":\"white\",\"minorgridcolor\":\"white\",\"startlinecolor\":\"#2a3f5f\"},\"baxis\":{\"endlinecolor\":\"#2a3f5f\",\"gridcolor\":\"white\",\"linecolor\":\"white\",\"minorgridcolor\":\"white\",\"startlinecolor\":\"#2a3f5f\"},\"type\":\"carpet\"}],\"table\":[{\"cells\":{\"fill\":{\"color\":\"#EBF0F8\"},\"line\":{\"color\":\"white\"}},\"header\":{\"fill\":{\"color\":\"#C8D4E3\"},\"line\":{\"color\":\"white\"}},\"type\":\"table\"}],\"barpolar\":[{\"marker\":{\"line\":{\"color\":\"#E5ECF6\",\"width\":0.5},\"pattern\":{\"fillmode\":\"overlay\",\"size\":10,\"solidity\":0.2}},\"type\":\"barpolar\"}],\"pie\":[{\"automargin\":true,\"type\":\"pie\"}]},\"layout\":{\"autotypenumbers\":\"strict\",\"colorway\":[\"#636efa\",\"#EF553B\",\"#00cc96\",\"#ab63fa\",\"#FFA15A\",\"#19d3f3\",\"#FF6692\",\"#B6E880\",\"#FF97FF\",\"#FECB52\"],\"font\":{\"color\":\"#2a3f5f\"},\"hovermode\":\"closest\",\"hoverlabel\":{\"align\":\"left\"},\"paper_bgcolor\":\"white\",\"plot_bgcolor\":\"#E5ECF6\",\"polar\":{\"bgcolor\":\"#E5ECF6\",\"angularaxis\":{\"gridcolor\":\"white\",\"linecolor\":\"white\",\"ticks\":\"\"},\"radialaxis\":{\"gridcolor\":\"white\",\"linecolor\":\"white\",\"ticks\":\"\"}},\"ternary\":{\"bgcolor\":\"#E5ECF6\",\"aaxis\":{\"gridcolor\":\"white\",\"linecolor\":\"white\",\"ticks\":\"\"},\"baxis\":{\"gridcolor\":\"white\",\"linecolor\":\"white\",\"ticks\":\"\"},\"caxis\":{\"gridcolor\":\"white\",\"linecolor\":\"white\",\"ticks\":\"\"}},\"coloraxis\":{\"colorbar\":{\"outlinewidth\":0,\"ticks\":\"\"}},\"colorscale\":{\"sequential\":[[0.0,\"#0d0887\"],[0.1111111111111111,\"#46039f\"],[0.2222222222222222,\"#7201a8\"],[0.3333333333333333,\"#9c179e\"],[0.4444444444444444,\"#bd3786\"],[0.5555555555555556,\"#d8576b\"],[0.6666666666666666,\"#ed7953\"],[0.7777777777777778,\"#fb9f3a\"],[0.8888888888888888,\"#fdca26\"],[1.0,\"#f0f921\"]],\"sequentialminus\":[[0.0,\"#0d0887\"],[0.1111111111111111,\"#46039f\"],[0.2222222222222222,\"#7201a8\"],[0.3333333333333333,\"#9c179e\"],[0.4444444444444444,\"#bd3786\"],[0.5555555555555556,\"#d8576b\"],[0.6666666666666666,\"#ed7953\"],[0.7777777777777778,\"#fb9f3a\"],[0.8888888888888888,\"#fdca26\"],[1.0,\"#f0f921\"]],\"diverging\":[[0,\"#8e0152\"],[0.1,\"#c51b7d\"],[0.2,\"#de77ae\"],[0.3,\"#f1b6da\"],[0.4,\"#fde0ef\"],[0.5,\"#f7f7f7\"],[0.6,\"#e6f5d0\"],[0.7,\"#b8e186\"],[0.8,\"#7fbc41\"],[0.9,\"#4d9221\"],[1,\"#276419\"]]},\"xaxis\":{\"gridcolor\":\"white\",\"linecolor\":\"white\",\"ticks\":\"\",\"title\":{\"standoff\":15},\"zerolinecolor\":\"white\",\"automargin\":true,\"zerolinewidth\":2},\"yaxis\":{\"gridcolor\":\"white\",\"linecolor\":\"white\",\"ticks\":\"\",\"title\":{\"standoff\":15},\"zerolinecolor\":\"white\",\"automargin\":true,\"zerolinewidth\":2},\"scene\":{\"xaxis\":{\"backgroundcolor\":\"#E5ECF6\",\"gridcolor\":\"white\",\"linecolor\":\"white\",\"showbackground\":true,\"ticks\":\"\",\"zerolinecolor\":\"white\",\"gridwidth\":2},\"yaxis\":{\"backgroundcolor\":\"#E5ECF6\",\"gridcolor\":\"white\",\"linecolor\":\"white\",\"showbackground\":true,\"ticks\":\"\",\"zerolinecolor\":\"white\",\"gridwidth\":2},\"zaxis\":{\"backgroundcolor\":\"#E5ECF6\",\"gridcolor\":\"white\",\"linecolor\":\"white\",\"showbackground\":true,\"ticks\":\"\",\"zerolinecolor\":\"white\",\"gridwidth\":2}},\"shapedefaults\":{\"line\":{\"color\":\"#2a3f5f\"}},\"annotationdefaults\":{\"arrowcolor\":\"#2a3f5f\",\"arrowhead\":0,\"arrowwidth\":1},\"geo\":{\"bgcolor\":\"white\",\"landcolor\":\"#E5ECF6\",\"subunitcolor\":\"white\",\"showland\":true,\"showlakes\":true,\"lakecolor\":\"white\"},\"title\":{\"x\":0.05},\"mapbox\":{\"style\":\"light\"}}},\"xaxis\":{\"anchor\":\"y\",\"domain\":[0.0,0.45]},\"yaxis\":{\"anchor\":\"x\",\"domain\":[0.625,1.0]},\"xaxis2\":{\"anchor\":\"y2\",\"domain\":[0.55,1.0]},\"yaxis2\":{\"anchor\":\"x2\",\"domain\":[0.625,1.0]},\"xaxis3\":{\"anchor\":\"y3\",\"domain\":[0.0,0.45]},\"yaxis3\":{\"anchor\":\"x3\",\"domain\":[0.0,0.375]},\"xaxis4\":{\"anchor\":\"y4\",\"domain\":[0.55,1.0]},\"yaxis4\":{\"anchor\":\"x4\",\"domain\":[0.0,0.375]},\"annotations\":[{\"font\":{\"size\":16},\"showarrow\":false,\"text\":\"Types of Robots vs Time\",\"x\":0.225,\"xanchor\":\"center\",\"xref\":\"paper\",\"y\":1.0,\"yanchor\":\"bottom\",\"yref\":\"paper\"},{\"font\":{\"size\":16},\"showarrow\":false,\"text\":\"Resources vs Time\",\"x\":0.775,\"xanchor\":\"center\",\"xref\":\"paper\",\"y\":1.0,\"yanchor\":\"bottom\",\"yref\":\"paper\"},{\"font\":{\"size\":16},\"showarrow\":false,\"text\":\"Tasks of Robots vs Time\",\"x\":0.225,\"xanchor\":\"center\",\"xref\":\"paper\",\"y\":0.375,\"yanchor\":\"bottom\",\"yref\":\"paper\"},{\"font\":{\"size\":16},\"showarrow\":false,\"text\":\"Build Quality vs Time\",\"x\":0.775,\"xanchor\":\"center\",\"xref\":\"paper\",\"y\":0.375,\"yanchor\":\"bottom\",\"yref\":\"paper\"}],\"hovermode\":\"x\",\"title\":{\"text\":\"CHO - Characteristics\"}},                        {\"responsive\": true}                    ).then(function(){\n",
       "                            \n",
       "var gd = document.getElementById('68a2a367-b27f-4ef9-bab4-6b46a1999af7');\n",
       "var x = new MutationObserver(function (mutations, observer) {{\n",
       "        var display = window.getComputedStyle(gd).display;\n",
       "        if (!display || display === 'none') {{\n",
       "            console.log([gd, 'removed!']);\n",
       "            Plotly.purge(gd);\n",
       "            observer.disconnect();\n",
       "        }}\n",
       "}});\n",
       "\n",
       "// Listen for the removal of the full notebook cells\n",
       "var notebookContainer = gd.closest('#notebook-container');\n",
       "if (notebookContainer) {{\n",
       "    x.observe(notebookContainer, {childList: true});\n",
       "}}\n",
       "\n",
       "// Listen for the clearing of the current output cell\n",
       "var outputEl = gd.closest('.output');\n",
       "if (outputEl) {{\n",
       "    x.observe(outputEl, {childList: true});\n",
       "}}\n",
       "\n",
       "                        })                };                });            </script>        </div>"
      ]
     },
     "metadata": {},
     "output_type": "display_data"
    },
    {
     "data": {
      "application/vnd.plotly.v1+json": {
       "config": {
        "plotlyServerURL": "https://plotly.com"
       },
       "data": [
        {
         "alignmentgroup": "True",
         "hovertemplate": "variable=#In<br>Time=%{x}<br>value=%{y}<extra></extra>",
         "legendgroup": "#In",
         "marker": {
          "color": "#636efa",
          "pattern": {
           "shape": ""
          }
         },
         "name": "#In",
         "offsetgroup": "#In",
         "orientation": "v",
         "showlegend": true,
         "textposition": "auto",
         "type": "bar",
         "x": [
          0,
          1,
          2,
          3,
          4,
          5,
          6,
          7,
          8,
          9,
          10,
          11,
          12,
          13,
          14,
          15,
          16,
          17,
          18,
          19,
          20,
          21,
          22,
          23,
          24,
          25,
          26,
          27,
          28,
          29,
          30,
          31,
          32,
          33,
          34,
          35,
          36,
          37,
          38,
          39,
          40,
          41,
          42,
          43,
          44,
          45,
          46,
          47,
          48,
          49,
          50,
          51,
          52,
          53,
          54,
          55,
          56,
          57,
          58,
          59,
          60,
          61,
          62,
          63,
          64,
          65,
          66,
          67,
          68,
          69,
          70,
          71,
          72,
          73,
          74
         ],
         "xaxis": "x",
         "y": [
          1,
          1,
          1,
          1,
          1,
          1,
          3,
          3,
          3,
          5,
          5,
          5,
          11,
          11,
          11,
          21,
          21,
          21,
          33,
          34,
          34,
          34,
          40,
          44,
          46,
          47,
          51,
          53,
          57,
          59,
          63,
          66,
          72,
          76,
          81,
          85,
          91,
          96,
          101,
          104,
          109,
          117,
          123,
          129,
          138,
          142,
          150,
          151,
          153,
          154,
          154,
          154,
          154,
          154,
          154,
          154,
          154,
          154,
          154,
          154,
          154,
          154,
          154,
          154,
          154,
          154,
          154,
          154,
          154,
          154,
          154,
          154,
          154,
          154,
          154
         ],
         "yaxis": "y"
        },
        {
         "alignmentgroup": "True",
         "hovertemplate": "variable=#Out<br>Time=%{x}<br>value=%{y}<extra></extra>",
         "legendgroup": "#Out",
         "marker": {
          "color": "#EF553B",
          "pattern": {
           "shape": ""
          }
         },
         "name": "#Out",
         "offsetgroup": "#Out",
         "orientation": "v",
         "showlegend": true,
         "textposition": "auto",
         "type": "bar",
         "x": [
          0,
          1,
          2,
          3,
          4,
          5,
          6,
          7,
          8,
          9,
          10,
          11,
          12,
          13,
          14,
          15,
          16,
          17,
          18,
          19,
          20,
          21,
          22,
          23,
          24,
          25,
          26,
          27,
          28,
          29,
          30,
          31,
          32,
          33,
          34,
          35,
          36,
          37,
          38,
          39,
          40,
          41,
          42,
          43,
          44,
          45,
          46,
          47,
          48,
          49,
          50,
          51,
          52,
          53,
          54,
          55,
          56,
          57,
          58,
          59,
          60,
          61,
          62,
          63,
          64,
          65,
          66,
          67,
          68,
          69,
          70,
          71,
          72,
          73,
          74
         ],
         "xaxis": "x",
         "y": [
          0,
          0,
          0,
          0,
          0,
          0,
          0,
          0,
          0,
          0,
          0,
          0,
          0,
          0,
          0,
          0,
          0,
          0,
          0,
          1,
          1,
          1,
          1,
          1,
          1,
          2,
          2,
          2,
          2,
          2,
          2,
          3,
          5,
          5,
          6,
          8,
          8,
          9,
          10,
          11,
          12,
          12,
          14,
          16,
          17,
          19,
          19,
          20,
          22,
          23,
          23,
          23,
          23,
          23,
          23,
          23,
          23,
          23,
          23,
          23,
          23,
          23,
          23,
          23,
          23,
          23,
          23,
          23,
          23,
          23,
          23,
          23,
          23,
          23,
          23
         ],
         "yaxis": "y"
        }
       ],
       "layout": {
        "barmode": "relative",
        "hovermode": "x",
        "legend": {
         "title": {
          "text": "variable"
         },
         "tracegroupgap": 0
        },
        "template": {
         "data": {
          "bar": [
           {
            "error_x": {
             "color": "#2a3f5f"
            },
            "error_y": {
             "color": "#2a3f5f"
            },
            "marker": {
             "line": {
              "color": "#E5ECF6",
              "width": 0.5
             },
             "pattern": {
              "fillmode": "overlay",
              "size": 10,
              "solidity": 0.2
             }
            },
            "type": "bar"
           }
          ],
          "barpolar": [
           {
            "marker": {
             "line": {
              "color": "#E5ECF6",
              "width": 0.5
             },
             "pattern": {
              "fillmode": "overlay",
              "size": 10,
              "solidity": 0.2
             }
            },
            "type": "barpolar"
           }
          ],
          "carpet": [
           {
            "aaxis": {
             "endlinecolor": "#2a3f5f",
             "gridcolor": "white",
             "linecolor": "white",
             "minorgridcolor": "white",
             "startlinecolor": "#2a3f5f"
            },
            "baxis": {
             "endlinecolor": "#2a3f5f",
             "gridcolor": "white",
             "linecolor": "white",
             "minorgridcolor": "white",
             "startlinecolor": "#2a3f5f"
            },
            "type": "carpet"
           }
          ],
          "choropleth": [
           {
            "colorbar": {
             "outlinewidth": 0,
             "ticks": ""
            },
            "type": "choropleth"
           }
          ],
          "contour": [
           {
            "colorbar": {
             "outlinewidth": 0,
             "ticks": ""
            },
            "colorscale": [
             [
              0,
              "#0d0887"
             ],
             [
              0.1111111111111111,
              "#46039f"
             ],
             [
              0.2222222222222222,
              "#7201a8"
             ],
             [
              0.3333333333333333,
              "#9c179e"
             ],
             [
              0.4444444444444444,
              "#bd3786"
             ],
             [
              0.5555555555555556,
              "#d8576b"
             ],
             [
              0.6666666666666666,
              "#ed7953"
             ],
             [
              0.7777777777777778,
              "#fb9f3a"
             ],
             [
              0.8888888888888888,
              "#fdca26"
             ],
             [
              1,
              "#f0f921"
             ]
            ],
            "type": "contour"
           }
          ],
          "contourcarpet": [
           {
            "colorbar": {
             "outlinewidth": 0,
             "ticks": ""
            },
            "type": "contourcarpet"
           }
          ],
          "heatmap": [
           {
            "colorbar": {
             "outlinewidth": 0,
             "ticks": ""
            },
            "colorscale": [
             [
              0,
              "#0d0887"
             ],
             [
              0.1111111111111111,
              "#46039f"
             ],
             [
              0.2222222222222222,
              "#7201a8"
             ],
             [
              0.3333333333333333,
              "#9c179e"
             ],
             [
              0.4444444444444444,
              "#bd3786"
             ],
             [
              0.5555555555555556,
              "#d8576b"
             ],
             [
              0.6666666666666666,
              "#ed7953"
             ],
             [
              0.7777777777777778,
              "#fb9f3a"
             ],
             [
              0.8888888888888888,
              "#fdca26"
             ],
             [
              1,
              "#f0f921"
             ]
            ],
            "type": "heatmap"
           }
          ],
          "heatmapgl": [
           {
            "colorbar": {
             "outlinewidth": 0,
             "ticks": ""
            },
            "colorscale": [
             [
              0,
              "#0d0887"
             ],
             [
              0.1111111111111111,
              "#46039f"
             ],
             [
              0.2222222222222222,
              "#7201a8"
             ],
             [
              0.3333333333333333,
              "#9c179e"
             ],
             [
              0.4444444444444444,
              "#bd3786"
             ],
             [
              0.5555555555555556,
              "#d8576b"
             ],
             [
              0.6666666666666666,
              "#ed7953"
             ],
             [
              0.7777777777777778,
              "#fb9f3a"
             ],
             [
              0.8888888888888888,
              "#fdca26"
             ],
             [
              1,
              "#f0f921"
             ]
            ],
            "type": "heatmapgl"
           }
          ],
          "histogram": [
           {
            "marker": {
             "pattern": {
              "fillmode": "overlay",
              "size": 10,
              "solidity": 0.2
             }
            },
            "type": "histogram"
           }
          ],
          "histogram2d": [
           {
            "colorbar": {
             "outlinewidth": 0,
             "ticks": ""
            },
            "colorscale": [
             [
              0,
              "#0d0887"
             ],
             [
              0.1111111111111111,
              "#46039f"
             ],
             [
              0.2222222222222222,
              "#7201a8"
             ],
             [
              0.3333333333333333,
              "#9c179e"
             ],
             [
              0.4444444444444444,
              "#bd3786"
             ],
             [
              0.5555555555555556,
              "#d8576b"
             ],
             [
              0.6666666666666666,
              "#ed7953"
             ],
             [
              0.7777777777777778,
              "#fb9f3a"
             ],
             [
              0.8888888888888888,
              "#fdca26"
             ],
             [
              1,
              "#f0f921"
             ]
            ],
            "type": "histogram2d"
           }
          ],
          "histogram2dcontour": [
           {
            "colorbar": {
             "outlinewidth": 0,
             "ticks": ""
            },
            "colorscale": [
             [
              0,
              "#0d0887"
             ],
             [
              0.1111111111111111,
              "#46039f"
             ],
             [
              0.2222222222222222,
              "#7201a8"
             ],
             [
              0.3333333333333333,
              "#9c179e"
             ],
             [
              0.4444444444444444,
              "#bd3786"
             ],
             [
              0.5555555555555556,
              "#d8576b"
             ],
             [
              0.6666666666666666,
              "#ed7953"
             ],
             [
              0.7777777777777778,
              "#fb9f3a"
             ],
             [
              0.8888888888888888,
              "#fdca26"
             ],
             [
              1,
              "#f0f921"
             ]
            ],
            "type": "histogram2dcontour"
           }
          ],
          "mesh3d": [
           {
            "colorbar": {
             "outlinewidth": 0,
             "ticks": ""
            },
            "type": "mesh3d"
           }
          ],
          "parcoords": [
           {
            "line": {
             "colorbar": {
              "outlinewidth": 0,
              "ticks": ""
             }
            },
            "type": "parcoords"
           }
          ],
          "pie": [
           {
            "automargin": true,
            "type": "pie"
           }
          ],
          "scatter": [
           {
            "fillpattern": {
             "fillmode": "overlay",
             "size": 10,
             "solidity": 0.2
            },
            "type": "scatter"
           }
          ],
          "scatter3d": [
           {
            "line": {
             "colorbar": {
              "outlinewidth": 0,
              "ticks": ""
             }
            },
            "marker": {
             "colorbar": {
              "outlinewidth": 0,
              "ticks": ""
             }
            },
            "type": "scatter3d"
           }
          ],
          "scattercarpet": [
           {
            "marker": {
             "colorbar": {
              "outlinewidth": 0,
              "ticks": ""
             }
            },
            "type": "scattercarpet"
           }
          ],
          "scattergeo": [
           {
            "marker": {
             "colorbar": {
              "outlinewidth": 0,
              "ticks": ""
             }
            },
            "type": "scattergeo"
           }
          ],
          "scattergl": [
           {
            "marker": {
             "colorbar": {
              "outlinewidth": 0,
              "ticks": ""
             }
            },
            "type": "scattergl"
           }
          ],
          "scattermapbox": [
           {
            "marker": {
             "colorbar": {
              "outlinewidth": 0,
              "ticks": ""
             }
            },
            "type": "scattermapbox"
           }
          ],
          "scatterpolar": [
           {
            "marker": {
             "colorbar": {
              "outlinewidth": 0,
              "ticks": ""
             }
            },
            "type": "scatterpolar"
           }
          ],
          "scatterpolargl": [
           {
            "marker": {
             "colorbar": {
              "outlinewidth": 0,
              "ticks": ""
             }
            },
            "type": "scatterpolargl"
           }
          ],
          "scatterternary": [
           {
            "marker": {
             "colorbar": {
              "outlinewidth": 0,
              "ticks": ""
             }
            },
            "type": "scatterternary"
           }
          ],
          "surface": [
           {
            "colorbar": {
             "outlinewidth": 0,
             "ticks": ""
            },
            "colorscale": [
             [
              0,
              "#0d0887"
             ],
             [
              0.1111111111111111,
              "#46039f"
             ],
             [
              0.2222222222222222,
              "#7201a8"
             ],
             [
              0.3333333333333333,
              "#9c179e"
             ],
             [
              0.4444444444444444,
              "#bd3786"
             ],
             [
              0.5555555555555556,
              "#d8576b"
             ],
             [
              0.6666666666666666,
              "#ed7953"
             ],
             [
              0.7777777777777778,
              "#fb9f3a"
             ],
             [
              0.8888888888888888,
              "#fdca26"
             ],
             [
              1,
              "#f0f921"
             ]
            ],
            "type": "surface"
           }
          ],
          "table": [
           {
            "cells": {
             "fill": {
              "color": "#EBF0F8"
             },
             "line": {
              "color": "white"
             }
            },
            "header": {
             "fill": {
              "color": "#C8D4E3"
             },
             "line": {
              "color": "white"
             }
            },
            "type": "table"
           }
          ]
         },
         "layout": {
          "annotationdefaults": {
           "arrowcolor": "#2a3f5f",
           "arrowhead": 0,
           "arrowwidth": 1
          },
          "autotypenumbers": "strict",
          "coloraxis": {
           "colorbar": {
            "outlinewidth": 0,
            "ticks": ""
           }
          },
          "colorscale": {
           "diverging": [
            [
             0,
             "#8e0152"
            ],
            [
             0.1,
             "#c51b7d"
            ],
            [
             0.2,
             "#de77ae"
            ],
            [
             0.3,
             "#f1b6da"
            ],
            [
             0.4,
             "#fde0ef"
            ],
            [
             0.5,
             "#f7f7f7"
            ],
            [
             0.6,
             "#e6f5d0"
            ],
            [
             0.7,
             "#b8e186"
            ],
            [
             0.8,
             "#7fbc41"
            ],
            [
             0.9,
             "#4d9221"
            ],
            [
             1,
             "#276419"
            ]
           ],
           "sequential": [
            [
             0,
             "#0d0887"
            ],
            [
             0.1111111111111111,
             "#46039f"
            ],
            [
             0.2222222222222222,
             "#7201a8"
            ],
            [
             0.3333333333333333,
             "#9c179e"
            ],
            [
             0.4444444444444444,
             "#bd3786"
            ],
            [
             0.5555555555555556,
             "#d8576b"
            ],
            [
             0.6666666666666666,
             "#ed7953"
            ],
            [
             0.7777777777777778,
             "#fb9f3a"
            ],
            [
             0.8888888888888888,
             "#fdca26"
            ],
            [
             1,
             "#f0f921"
            ]
           ],
           "sequentialminus": [
            [
             0,
             "#0d0887"
            ],
            [
             0.1111111111111111,
             "#46039f"
            ],
            [
             0.2222222222222222,
             "#7201a8"
            ],
            [
             0.3333333333333333,
             "#9c179e"
            ],
            [
             0.4444444444444444,
             "#bd3786"
            ],
            [
             0.5555555555555556,
             "#d8576b"
            ],
            [
             0.6666666666666666,
             "#ed7953"
            ],
            [
             0.7777777777777778,
             "#fb9f3a"
            ],
            [
             0.8888888888888888,
             "#fdca26"
            ],
            [
             1,
             "#f0f921"
            ]
           ]
          },
          "colorway": [
           "#636efa",
           "#EF553B",
           "#00cc96",
           "#ab63fa",
           "#FFA15A",
           "#19d3f3",
           "#FF6692",
           "#B6E880",
           "#FF97FF",
           "#FECB52"
          ],
          "font": {
           "color": "#2a3f5f"
          },
          "geo": {
           "bgcolor": "white",
           "lakecolor": "white",
           "landcolor": "#E5ECF6",
           "showlakes": true,
           "showland": true,
           "subunitcolor": "white"
          },
          "hoverlabel": {
           "align": "left"
          },
          "hovermode": "closest",
          "mapbox": {
           "style": "light"
          },
          "paper_bgcolor": "white",
          "plot_bgcolor": "#E5ECF6",
          "polar": {
           "angularaxis": {
            "gridcolor": "white",
            "linecolor": "white",
            "ticks": ""
           },
           "bgcolor": "#E5ECF6",
           "radialaxis": {
            "gridcolor": "white",
            "linecolor": "white",
            "ticks": ""
           }
          },
          "scene": {
           "xaxis": {
            "backgroundcolor": "#E5ECF6",
            "gridcolor": "white",
            "gridwidth": 2,
            "linecolor": "white",
            "showbackground": true,
            "ticks": "",
            "zerolinecolor": "white"
           },
           "yaxis": {
            "backgroundcolor": "#E5ECF6",
            "gridcolor": "white",
            "gridwidth": 2,
            "linecolor": "white",
            "showbackground": true,
            "ticks": "",
            "zerolinecolor": "white"
           },
           "zaxis": {
            "backgroundcolor": "#E5ECF6",
            "gridcolor": "white",
            "gridwidth": 2,
            "linecolor": "white",
            "showbackground": true,
            "ticks": "",
            "zerolinecolor": "white"
           }
          },
          "shapedefaults": {
           "line": {
            "color": "#2a3f5f"
           }
          },
          "ternary": {
           "aaxis": {
            "gridcolor": "white",
            "linecolor": "white",
            "ticks": ""
           },
           "baxis": {
            "gridcolor": "white",
            "linecolor": "white",
            "ticks": ""
           },
           "bgcolor": "#E5ECF6",
           "caxis": {
            "gridcolor": "white",
            "linecolor": "white",
            "ticks": ""
           }
          },
          "title": {
           "x": 0.05
          },
          "xaxis": {
           "automargin": true,
           "gridcolor": "white",
           "linecolor": "white",
           "ticks": "",
           "title": {
            "standoff": 15
           },
           "zerolinecolor": "white",
           "zerolinewidth": 2
          },
          "yaxis": {
           "automargin": true,
           "gridcolor": "white",
           "linecolor": "white",
           "ticks": "",
           "title": {
            "standoff": 15
           },
           "zerolinecolor": "white",
           "zerolinewidth": 2
          }
         }
        },
        "title": {
         "text": "DHO - Habitat over Time"
        },
        "xaxis": {
         "anchor": "y",
         "domain": [
          0,
          1
         ],
         "title": {
          "text": "Time"
         }
        },
        "yaxis": {
         "anchor": "x",
         "domain": [
          0,
          1
         ],
         "title": {
          "text": "#Robots"
         }
        }
       }
      },
      "text/html": [
       "<div>                            <div id=\"bc37a698-9c12-4cdf-ac89-c1d4fe8cddf7\" class=\"plotly-graph-div\" style=\"height:525px; width:100%;\"></div>            <script type=\"text/javascript\">                require([\"plotly\"], function(Plotly) {                    window.PLOTLYENV=window.PLOTLYENV || {};                                    if (document.getElementById(\"bc37a698-9c12-4cdf-ac89-c1d4fe8cddf7\")) {                    Plotly.newPlot(                        \"bc37a698-9c12-4cdf-ac89-c1d4fe8cddf7\",                        [{\"alignmentgroup\":\"True\",\"hovertemplate\":\"variable=#In<br>Time=%{x}<br>value=%{y}<extra></extra>\",\"legendgroup\":\"#In\",\"marker\":{\"color\":\"#636efa\",\"pattern\":{\"shape\":\"\"}},\"name\":\"#In\",\"offsetgroup\":\"#In\",\"orientation\":\"v\",\"showlegend\":true,\"textposition\":\"auto\",\"x\":[0.0,1.0,2.0,3.0,4.0,5.0,6.0,7.0,8.0,9.0,10.0,11.0,12.0,13.0,14.0,15.0,16.0,17.0,18.0,19.0,20.0,21.0,22.0,23.0,24.0,25.0,26.0,27.0,28.0,29.0,30.0,31.0,32.0,33.0,34.0,35.0,36.0,37.0,38.0,39.0,40.0,41.0,42.0,43.0,44.0,45.0,46.0,47.0,48.0,49.0,50.0,51.0,52.0,53.0,54.0,55.0,56.0,57.0,58.0,59.0,60.0,61.0,62.0,63.0,64.0,65.0,66.0,67.0,68.0,69.0,70.0,71.0,72.0,73.0,74.0],\"xaxis\":\"x\",\"y\":[1.0,1.0,1.0,1.0,1.0,1.0,3.0,3.0,3.0,5.0,5.0,5.0,11.0,11.0,11.0,21.0,21.0,21.0,33.0,34.0,34.0,34.0,40.0,44.0,46.0,47.0,51.0,53.0,57.0,59.0,63.0,66.0,72.0,76.0,81.0,85.0,91.0,96.0,101.0,104.0,109.0,117.0,123.0,129.0,138.0,142.0,150.0,151.0,153.0,154.0,154.0,154.0,154.0,154.0,154.0,154.0,154.0,154.0,154.0,154.0,154.0,154.0,154.0,154.0,154.0,154.0,154.0,154.0,154.0,154.0,154.0,154.0,154.0,154.0,154.0],\"yaxis\":\"y\",\"type\":\"bar\"},{\"alignmentgroup\":\"True\",\"hovertemplate\":\"variable=#Out<br>Time=%{x}<br>value=%{y}<extra></extra>\",\"legendgroup\":\"#Out\",\"marker\":{\"color\":\"#EF553B\",\"pattern\":{\"shape\":\"\"}},\"name\":\"#Out\",\"offsetgroup\":\"#Out\",\"orientation\":\"v\",\"showlegend\":true,\"textposition\":\"auto\",\"x\":[0.0,1.0,2.0,3.0,4.0,5.0,6.0,7.0,8.0,9.0,10.0,11.0,12.0,13.0,14.0,15.0,16.0,17.0,18.0,19.0,20.0,21.0,22.0,23.0,24.0,25.0,26.0,27.0,28.0,29.0,30.0,31.0,32.0,33.0,34.0,35.0,36.0,37.0,38.0,39.0,40.0,41.0,42.0,43.0,44.0,45.0,46.0,47.0,48.0,49.0,50.0,51.0,52.0,53.0,54.0,55.0,56.0,57.0,58.0,59.0,60.0,61.0,62.0,63.0,64.0,65.0,66.0,67.0,68.0,69.0,70.0,71.0,72.0,73.0,74.0],\"xaxis\":\"x\",\"y\":[0.0,0.0,0.0,0.0,0.0,0.0,0.0,0.0,0.0,0.0,0.0,0.0,0.0,0.0,0.0,0.0,0.0,0.0,0.0,1.0,1.0,1.0,1.0,1.0,1.0,2.0,2.0,2.0,2.0,2.0,2.0,3.0,5.0,5.0,6.0,8.0,8.0,9.0,10.0,11.0,12.0,12.0,14.0,16.0,17.0,19.0,19.0,20.0,22.0,23.0,23.0,23.0,23.0,23.0,23.0,23.0,23.0,23.0,23.0,23.0,23.0,23.0,23.0,23.0,23.0,23.0,23.0,23.0,23.0,23.0,23.0,23.0,23.0,23.0,23.0],\"yaxis\":\"y\",\"type\":\"bar\"}],                        {\"template\":{\"data\":{\"histogram2dcontour\":[{\"type\":\"histogram2dcontour\",\"colorbar\":{\"outlinewidth\":0,\"ticks\":\"\"},\"colorscale\":[[0.0,\"#0d0887\"],[0.1111111111111111,\"#46039f\"],[0.2222222222222222,\"#7201a8\"],[0.3333333333333333,\"#9c179e\"],[0.4444444444444444,\"#bd3786\"],[0.5555555555555556,\"#d8576b\"],[0.6666666666666666,\"#ed7953\"],[0.7777777777777778,\"#fb9f3a\"],[0.8888888888888888,\"#fdca26\"],[1.0,\"#f0f921\"]]}],\"choropleth\":[{\"type\":\"choropleth\",\"colorbar\":{\"outlinewidth\":0,\"ticks\":\"\"}}],\"histogram2d\":[{\"type\":\"histogram2d\",\"colorbar\":{\"outlinewidth\":0,\"ticks\":\"\"},\"colorscale\":[[0.0,\"#0d0887\"],[0.1111111111111111,\"#46039f\"],[0.2222222222222222,\"#7201a8\"],[0.3333333333333333,\"#9c179e\"],[0.4444444444444444,\"#bd3786\"],[0.5555555555555556,\"#d8576b\"],[0.6666666666666666,\"#ed7953\"],[0.7777777777777778,\"#fb9f3a\"],[0.8888888888888888,\"#fdca26\"],[1.0,\"#f0f921\"]]}],\"heatmap\":[{\"type\":\"heatmap\",\"colorbar\":{\"outlinewidth\":0,\"ticks\":\"\"},\"colorscale\":[[0.0,\"#0d0887\"],[0.1111111111111111,\"#46039f\"],[0.2222222222222222,\"#7201a8\"],[0.3333333333333333,\"#9c179e\"],[0.4444444444444444,\"#bd3786\"],[0.5555555555555556,\"#d8576b\"],[0.6666666666666666,\"#ed7953\"],[0.7777777777777778,\"#fb9f3a\"],[0.8888888888888888,\"#fdca26\"],[1.0,\"#f0f921\"]]}],\"heatmapgl\":[{\"type\":\"heatmapgl\",\"colorbar\":{\"outlinewidth\":0,\"ticks\":\"\"},\"colorscale\":[[0.0,\"#0d0887\"],[0.1111111111111111,\"#46039f\"],[0.2222222222222222,\"#7201a8\"],[0.3333333333333333,\"#9c179e\"],[0.4444444444444444,\"#bd3786\"],[0.5555555555555556,\"#d8576b\"],[0.6666666666666666,\"#ed7953\"],[0.7777777777777778,\"#fb9f3a\"],[0.8888888888888888,\"#fdca26\"],[1.0,\"#f0f921\"]]}],\"contourcarpet\":[{\"type\":\"contourcarpet\",\"colorbar\":{\"outlinewidth\":0,\"ticks\":\"\"}}],\"contour\":[{\"type\":\"contour\",\"colorbar\":{\"outlinewidth\":0,\"ticks\":\"\"},\"colorscale\":[[0.0,\"#0d0887\"],[0.1111111111111111,\"#46039f\"],[0.2222222222222222,\"#7201a8\"],[0.3333333333333333,\"#9c179e\"],[0.4444444444444444,\"#bd3786\"],[0.5555555555555556,\"#d8576b\"],[0.6666666666666666,\"#ed7953\"],[0.7777777777777778,\"#fb9f3a\"],[0.8888888888888888,\"#fdca26\"],[1.0,\"#f0f921\"]]}],\"surface\":[{\"type\":\"surface\",\"colorbar\":{\"outlinewidth\":0,\"ticks\":\"\"},\"colorscale\":[[0.0,\"#0d0887\"],[0.1111111111111111,\"#46039f\"],[0.2222222222222222,\"#7201a8\"],[0.3333333333333333,\"#9c179e\"],[0.4444444444444444,\"#bd3786\"],[0.5555555555555556,\"#d8576b\"],[0.6666666666666666,\"#ed7953\"],[0.7777777777777778,\"#fb9f3a\"],[0.8888888888888888,\"#fdca26\"],[1.0,\"#f0f921\"]]}],\"mesh3d\":[{\"type\":\"mesh3d\",\"colorbar\":{\"outlinewidth\":0,\"ticks\":\"\"}}],\"scatter\":[{\"fillpattern\":{\"fillmode\":\"overlay\",\"size\":10,\"solidity\":0.2},\"type\":\"scatter\"}],\"parcoords\":[{\"type\":\"parcoords\",\"line\":{\"colorbar\":{\"outlinewidth\":0,\"ticks\":\"\"}}}],\"scatterpolargl\":[{\"type\":\"scatterpolargl\",\"marker\":{\"colorbar\":{\"outlinewidth\":0,\"ticks\":\"\"}}}],\"bar\":[{\"error_x\":{\"color\":\"#2a3f5f\"},\"error_y\":{\"color\":\"#2a3f5f\"},\"marker\":{\"line\":{\"color\":\"#E5ECF6\",\"width\":0.5},\"pattern\":{\"fillmode\":\"overlay\",\"size\":10,\"solidity\":0.2}},\"type\":\"bar\"}],\"scattergeo\":[{\"type\":\"scattergeo\",\"marker\":{\"colorbar\":{\"outlinewidth\":0,\"ticks\":\"\"}}}],\"scatterpolar\":[{\"type\":\"scatterpolar\",\"marker\":{\"colorbar\":{\"outlinewidth\":0,\"ticks\":\"\"}}}],\"histogram\":[{\"marker\":{\"pattern\":{\"fillmode\":\"overlay\",\"size\":10,\"solidity\":0.2}},\"type\":\"histogram\"}],\"scattergl\":[{\"type\":\"scattergl\",\"marker\":{\"colorbar\":{\"outlinewidth\":0,\"ticks\":\"\"}}}],\"scatter3d\":[{\"type\":\"scatter3d\",\"line\":{\"colorbar\":{\"outlinewidth\":0,\"ticks\":\"\"}},\"marker\":{\"colorbar\":{\"outlinewidth\":0,\"ticks\":\"\"}}}],\"scattermapbox\":[{\"type\":\"scattermapbox\",\"marker\":{\"colorbar\":{\"outlinewidth\":0,\"ticks\":\"\"}}}],\"scatterternary\":[{\"type\":\"scatterternary\",\"marker\":{\"colorbar\":{\"outlinewidth\":0,\"ticks\":\"\"}}}],\"scattercarpet\":[{\"type\":\"scattercarpet\",\"marker\":{\"colorbar\":{\"outlinewidth\":0,\"ticks\":\"\"}}}],\"carpet\":[{\"aaxis\":{\"endlinecolor\":\"#2a3f5f\",\"gridcolor\":\"white\",\"linecolor\":\"white\",\"minorgridcolor\":\"white\",\"startlinecolor\":\"#2a3f5f\"},\"baxis\":{\"endlinecolor\":\"#2a3f5f\",\"gridcolor\":\"white\",\"linecolor\":\"white\",\"minorgridcolor\":\"white\",\"startlinecolor\":\"#2a3f5f\"},\"type\":\"carpet\"}],\"table\":[{\"cells\":{\"fill\":{\"color\":\"#EBF0F8\"},\"line\":{\"color\":\"white\"}},\"header\":{\"fill\":{\"color\":\"#C8D4E3\"},\"line\":{\"color\":\"white\"}},\"type\":\"table\"}],\"barpolar\":[{\"marker\":{\"line\":{\"color\":\"#E5ECF6\",\"width\":0.5},\"pattern\":{\"fillmode\":\"overlay\",\"size\":10,\"solidity\":0.2}},\"type\":\"barpolar\"}],\"pie\":[{\"automargin\":true,\"type\":\"pie\"}]},\"layout\":{\"autotypenumbers\":\"strict\",\"colorway\":[\"#636efa\",\"#EF553B\",\"#00cc96\",\"#ab63fa\",\"#FFA15A\",\"#19d3f3\",\"#FF6692\",\"#B6E880\",\"#FF97FF\",\"#FECB52\"],\"font\":{\"color\":\"#2a3f5f\"},\"hovermode\":\"closest\",\"hoverlabel\":{\"align\":\"left\"},\"paper_bgcolor\":\"white\",\"plot_bgcolor\":\"#E5ECF6\",\"polar\":{\"bgcolor\":\"#E5ECF6\",\"angularaxis\":{\"gridcolor\":\"white\",\"linecolor\":\"white\",\"ticks\":\"\"},\"radialaxis\":{\"gridcolor\":\"white\",\"linecolor\":\"white\",\"ticks\":\"\"}},\"ternary\":{\"bgcolor\":\"#E5ECF6\",\"aaxis\":{\"gridcolor\":\"white\",\"linecolor\":\"white\",\"ticks\":\"\"},\"baxis\":{\"gridcolor\":\"white\",\"linecolor\":\"white\",\"ticks\":\"\"},\"caxis\":{\"gridcolor\":\"white\",\"linecolor\":\"white\",\"ticks\":\"\"}},\"coloraxis\":{\"colorbar\":{\"outlinewidth\":0,\"ticks\":\"\"}},\"colorscale\":{\"sequential\":[[0.0,\"#0d0887\"],[0.1111111111111111,\"#46039f\"],[0.2222222222222222,\"#7201a8\"],[0.3333333333333333,\"#9c179e\"],[0.4444444444444444,\"#bd3786\"],[0.5555555555555556,\"#d8576b\"],[0.6666666666666666,\"#ed7953\"],[0.7777777777777778,\"#fb9f3a\"],[0.8888888888888888,\"#fdca26\"],[1.0,\"#f0f921\"]],\"sequentialminus\":[[0.0,\"#0d0887\"],[0.1111111111111111,\"#46039f\"],[0.2222222222222222,\"#7201a8\"],[0.3333333333333333,\"#9c179e\"],[0.4444444444444444,\"#bd3786\"],[0.5555555555555556,\"#d8576b\"],[0.6666666666666666,\"#ed7953\"],[0.7777777777777778,\"#fb9f3a\"],[0.8888888888888888,\"#fdca26\"],[1.0,\"#f0f921\"]],\"diverging\":[[0,\"#8e0152\"],[0.1,\"#c51b7d\"],[0.2,\"#de77ae\"],[0.3,\"#f1b6da\"],[0.4,\"#fde0ef\"],[0.5,\"#f7f7f7\"],[0.6,\"#e6f5d0\"],[0.7,\"#b8e186\"],[0.8,\"#7fbc41\"],[0.9,\"#4d9221\"],[1,\"#276419\"]]},\"xaxis\":{\"gridcolor\":\"white\",\"linecolor\":\"white\",\"ticks\":\"\",\"title\":{\"standoff\":15},\"zerolinecolor\":\"white\",\"automargin\":true,\"zerolinewidth\":2},\"yaxis\":{\"gridcolor\":\"white\",\"linecolor\":\"white\",\"ticks\":\"\",\"title\":{\"standoff\":15},\"zerolinecolor\":\"white\",\"automargin\":true,\"zerolinewidth\":2},\"scene\":{\"xaxis\":{\"backgroundcolor\":\"#E5ECF6\",\"gridcolor\":\"white\",\"linecolor\":\"white\",\"showbackground\":true,\"ticks\":\"\",\"zerolinecolor\":\"white\",\"gridwidth\":2},\"yaxis\":{\"backgroundcolor\":\"#E5ECF6\",\"gridcolor\":\"white\",\"linecolor\":\"white\",\"showbackground\":true,\"ticks\":\"\",\"zerolinecolor\":\"white\",\"gridwidth\":2},\"zaxis\":{\"backgroundcolor\":\"#E5ECF6\",\"gridcolor\":\"white\",\"linecolor\":\"white\",\"showbackground\":true,\"ticks\":\"\",\"zerolinecolor\":\"white\",\"gridwidth\":2}},\"shapedefaults\":{\"line\":{\"color\":\"#2a3f5f\"}},\"annotationdefaults\":{\"arrowcolor\":\"#2a3f5f\",\"arrowhead\":0,\"arrowwidth\":1},\"geo\":{\"bgcolor\":\"white\",\"landcolor\":\"#E5ECF6\",\"subunitcolor\":\"white\",\"showland\":true,\"showlakes\":true,\"lakecolor\":\"white\"},\"title\":{\"x\":0.05},\"mapbox\":{\"style\":\"light\"}}},\"xaxis\":{\"anchor\":\"y\",\"domain\":[0.0,1.0],\"title\":{\"text\":\"Time\"}},\"yaxis\":{\"anchor\":\"x\",\"domain\":[0.0,1.0],\"title\":{\"text\":\"#Robots\"}},\"legend\":{\"title\":{\"text\":\"variable\"},\"tracegroupgap\":0},\"title\":{\"text\":\"DHO - Habitat over Time\"},\"barmode\":\"relative\",\"hovermode\":\"x\"},                        {\"responsive\": true}                    ).then(function(){\n",
       "                            \n",
       "var gd = document.getElementById('bc37a698-9c12-4cdf-ac89-c1d4fe8cddf7');\n",
       "var x = new MutationObserver(function (mutations, observer) {{\n",
       "        var display = window.getComputedStyle(gd).display;\n",
       "        if (!display || display === 'none') {{\n",
       "            console.log([gd, 'removed!']);\n",
       "            Plotly.purge(gd);\n",
       "            observer.disconnect();\n",
       "        }}\n",
       "}});\n",
       "\n",
       "// Listen for the removal of the full notebook cells\n",
       "var notebookContainer = gd.closest('#notebook-container');\n",
       "if (notebookContainer) {{\n",
       "    x.observe(notebookContainer, {childList: true});\n",
       "}}\n",
       "\n",
       "// Listen for the clearing of the current output cell\n",
       "var outputEl = gd.closest('.output');\n",
       "if (outputEl) {{\n",
       "    x.observe(outputEl, {childList: true});\n",
       "}}\n",
       "\n",
       "                        })                };                });            </script>        </div>"
      ]
     },
     "metadata": {},
     "output_type": "display_data"
    },
    {
     "data": {
      "application/vnd.plotly.v1+json": {
       "config": {
        "plotlyServerURL": "https://plotly.com"
       },
       "data": [
        {
         "name": "#Replicator",
         "type": "bar",
         "x": [
          0,
          1,
          2,
          3,
          4,
          5,
          6,
          7,
          8,
          9,
          10,
          11,
          12,
          13,
          14,
          15,
          16,
          17,
          18,
          19,
          20,
          21,
          22,
          23,
          24,
          25,
          26,
          27,
          28,
          29,
          30,
          31,
          32,
          33,
          34,
          35,
          36,
          37,
          38,
          39,
          40,
          41,
          42,
          43,
          44,
          45,
          46,
          47,
          48,
          49,
          50,
          51,
          52,
          53,
          54,
          55,
          56,
          57,
          58,
          59,
          60,
          61,
          62,
          63,
          64,
          65,
          66,
          67,
          68,
          69,
          70,
          71,
          72,
          73,
          74
         ],
         "xaxis": "x",
         "y": [
          1,
          1,
          1,
          1,
          1,
          1,
          3,
          3,
          3,
          5,
          5,
          5,
          11,
          11,
          11,
          21,
          21,
          21,
          33,
          34,
          34,
          34,
          40,
          44,
          46,
          47,
          51,
          53,
          57,
          59,
          63,
          66,
          72,
          76,
          81,
          85,
          91,
          96,
          101,
          104,
          109,
          117,
          123,
          129,
          138,
          142,
          150,
          151,
          153,
          154,
          154,
          154,
          154,
          154,
          154,
          154,
          154,
          154,
          154,
          154,
          154,
          154,
          154,
          154,
          154,
          154,
          154,
          154,
          154,
          154,
          154,
          154,
          154,
          154,
          154
         ],
         "yaxis": "y"
        },
        {
         "name": "#Normal",
         "type": "bar",
         "x": [
          0,
          1,
          2,
          3,
          4,
          5,
          6,
          7,
          8,
          9,
          10,
          11,
          12,
          13,
          14,
          15,
          16,
          17,
          18,
          19,
          20,
          21,
          22,
          23,
          24,
          25,
          26,
          27,
          28,
          29,
          30,
          31,
          32,
          33,
          34,
          35,
          36,
          37,
          38,
          39,
          40,
          41,
          42,
          43,
          44,
          45,
          46,
          47,
          48,
          49,
          50,
          51,
          52,
          53,
          54,
          55,
          56,
          57,
          58,
          59,
          60,
          61,
          62,
          63,
          64,
          65,
          66,
          67,
          68,
          69,
          70,
          71,
          72,
          73,
          74
         ],
         "xaxis": "x",
         "y": [
          0,
          0,
          0,
          0,
          0,
          0,
          0,
          0,
          0,
          0,
          0,
          0,
          0,
          0,
          0,
          0,
          0,
          0,
          0,
          0,
          0,
          0,
          0,
          0,
          0,
          0,
          0,
          0,
          0,
          0,
          0,
          0,
          0,
          0,
          0,
          0,
          0,
          0,
          0,
          0,
          0,
          0,
          0,
          0,
          0,
          0,
          0,
          0,
          0,
          0,
          0,
          0,
          0,
          0,
          0,
          0,
          0,
          0,
          0,
          0,
          0,
          0,
          0,
          0,
          0,
          0,
          0,
          0,
          0,
          0,
          0,
          0,
          0,
          0,
          0
         ],
         "yaxis": "y"
        },
        {
         "name": "#Assembler",
         "type": "bar",
         "x": [
          0,
          1,
          2,
          3,
          4,
          5,
          6,
          7,
          8,
          9,
          10,
          11,
          12,
          13,
          14,
          15,
          16,
          17,
          18,
          19,
          20,
          21,
          22,
          23,
          24,
          25,
          26,
          27,
          28,
          29,
          30,
          31,
          32,
          33,
          34,
          35,
          36,
          37,
          38,
          39,
          40,
          41,
          42,
          43,
          44,
          45,
          46,
          47,
          48,
          49,
          50,
          51,
          52,
          53,
          54,
          55,
          56,
          57,
          58,
          59,
          60,
          61,
          62,
          63,
          64,
          65,
          66,
          67,
          68,
          69,
          70,
          71,
          72,
          73,
          74
         ],
         "xaxis": "x",
         "y": [
          0,
          0,
          0,
          0,
          0,
          0,
          0,
          0,
          0,
          0,
          0,
          0,
          0,
          0,
          0,
          0,
          0,
          0,
          0,
          0,
          0,
          0,
          0,
          0,
          0,
          0,
          0,
          0,
          0,
          0,
          0,
          0,
          0,
          0,
          0,
          0,
          0,
          0,
          0,
          0,
          0,
          0,
          0,
          0,
          0,
          0,
          0,
          0,
          0,
          0,
          0,
          0,
          0,
          0,
          0,
          0,
          0,
          0,
          0,
          0,
          0,
          0,
          0,
          0,
          0,
          0,
          0,
          0,
          0,
          0,
          0,
          0,
          0,
          0,
          0
         ],
         "yaxis": "y"
        },
        {
         "name": "#Printer",
         "type": "bar",
         "x": [
          0,
          1,
          2,
          3,
          4,
          5,
          6,
          7,
          8,
          9,
          10,
          11,
          12,
          13,
          14,
          15,
          16,
          17,
          18,
          19,
          20,
          21,
          22,
          23,
          24,
          25,
          26,
          27,
          28,
          29,
          30,
          31,
          32,
          33,
          34,
          35,
          36,
          37,
          38,
          39,
          40,
          41,
          42,
          43,
          44,
          45,
          46,
          47,
          48,
          49,
          50,
          51,
          52,
          53,
          54,
          55,
          56,
          57,
          58,
          59,
          60,
          61,
          62,
          63,
          64,
          65,
          66,
          67,
          68,
          69,
          70,
          71,
          72,
          73,
          74
         ],
         "xaxis": "x",
         "y": [
          0,
          0,
          0,
          0,
          0,
          0,
          0,
          0,
          0,
          0,
          0,
          0,
          0,
          0,
          0,
          0,
          0,
          0,
          0,
          0,
          0,
          0,
          0,
          0,
          0,
          0,
          0,
          0,
          0,
          0,
          0,
          0,
          0,
          0,
          0,
          0,
          0,
          0,
          0,
          0,
          0,
          0,
          0,
          0,
          0,
          0,
          0,
          0,
          0,
          0,
          0,
          0,
          0,
          0,
          0,
          0,
          0,
          0,
          0,
          0,
          0,
          0,
          0,
          0,
          0,
          0,
          0,
          0,
          0,
          0,
          0,
          0,
          0,
          0,
          0
         ],
         "yaxis": "y"
        },
        {
         "name": "#Assembling",
         "type": "bar",
         "x": [
          0,
          1,
          2,
          3,
          4,
          5,
          6,
          7,
          8,
          9,
          10,
          11,
          12,
          13,
          14,
          15,
          16,
          17,
          18,
          19,
          20,
          21,
          22,
          23,
          24,
          25,
          26,
          27,
          28,
          29,
          30,
          31,
          32,
          33,
          34,
          35,
          36,
          37,
          38,
          39,
          40,
          41,
          42,
          43,
          44,
          45,
          46,
          47,
          48,
          49,
          50,
          51,
          52,
          53,
          54,
          55,
          56,
          57,
          58,
          59,
          60,
          61,
          62,
          63,
          64,
          65,
          66,
          67,
          68,
          69,
          70,
          71,
          72,
          73,
          74
         ],
         "xaxis": "x3",
         "y": [
          1,
          1,
          1,
          1,
          1,
          1,
          3,
          3,
          3,
          5,
          5,
          5,
          11,
          11,
          11,
          11,
          13,
          13,
          2,
          6,
          10,
          12,
          8,
          8,
          9,
          11,
          10,
          10,
          10,
          14,
          15,
          17,
          16,
          18,
          18,
          18,
          17,
          17,
          19,
          22,
          24,
          26,
          25,
          26,
          18,
          13,
          5,
          3,
          1,
          0,
          0,
          0,
          0,
          0,
          0,
          0,
          0,
          0,
          0,
          0,
          0,
          0,
          0,
          0,
          0,
          0,
          0,
          0,
          0,
          0,
          0,
          0,
          0,
          0,
          0
         ],
         "yaxis": "y3"
        },
        {
         "name": "#Printing",
         "type": "bar",
         "x": [
          0,
          1,
          2,
          3,
          4,
          5,
          6,
          7,
          8,
          9,
          10,
          11,
          12,
          13,
          14,
          15,
          16,
          17,
          18,
          19,
          20,
          21,
          22,
          23,
          24,
          25,
          26,
          27,
          28,
          29,
          30,
          31,
          32,
          33,
          34,
          35,
          36,
          37,
          38,
          39,
          40,
          41,
          42,
          43,
          44,
          45,
          46,
          47,
          48,
          49,
          50,
          51,
          52,
          53,
          54,
          55,
          56,
          57,
          58,
          59,
          60,
          61,
          62,
          63,
          64,
          65,
          66,
          67,
          68,
          69,
          70,
          71,
          72,
          73,
          74
         ],
         "xaxis": "x3",
         "y": [
          0,
          0,
          0,
          0,
          0,
          0,
          0,
          0,
          0,
          0,
          0,
          0,
          0,
          0,
          0,
          6,
          8,
          8,
          19,
          27,
          23,
          13,
          18,
          28,
          22,
          23,
          27,
          28,
          27,
          37,
          27,
          29,
          37,
          38,
          38,
          42,
          47,
          51,
          53,
          50,
          55,
          60,
          67,
          62,
          73,
          31,
          2,
          0,
          0,
          0,
          0,
          0,
          0,
          0,
          0,
          0,
          0,
          0,
          0,
          0,
          0,
          0,
          0,
          0,
          0,
          0,
          0,
          0,
          0,
          0,
          0,
          0,
          0,
          0,
          0
         ],
         "yaxis": "y3"
        },
        {
         "name": "#Collecting",
         "type": "bar",
         "x": [
          0,
          1,
          2,
          3,
          4,
          5,
          6,
          7,
          8,
          9,
          10,
          11,
          12,
          13,
          14,
          15,
          16,
          17,
          18,
          19,
          20,
          21,
          22,
          23,
          24,
          25,
          26,
          27,
          28,
          29,
          30,
          31,
          32,
          33,
          34,
          35,
          36,
          37,
          38,
          39,
          40,
          41,
          42,
          43,
          44,
          45,
          46,
          47,
          48,
          49,
          50,
          51,
          52,
          53,
          54,
          55,
          56,
          57,
          58,
          59,
          60,
          61,
          62,
          63,
          64,
          65,
          66,
          67,
          68,
          69,
          70,
          71,
          72,
          73,
          74
         ],
         "xaxis": "x3",
         "y": [
          0,
          0,
          0,
          0,
          0,
          0,
          0,
          0,
          0,
          0,
          0,
          0,
          0,
          0,
          0,
          0,
          0,
          0,
          0,
          0,
          1,
          9,
          10,
          4,
          15,
          12,
          10,
          13,
          16,
          6,
          17,
          17,
          13,
          16,
          20,
          21,
          23,
          23,
          24,
          29,
          25,
          23,
          25,
          35,
          38,
          16,
          0,
          0,
          0,
          0,
          0,
          0,
          0,
          0,
          0,
          0,
          0,
          0,
          0,
          0,
          0,
          0,
          0,
          0,
          0,
          0,
          0,
          0,
          0,
          0,
          0,
          0,
          0,
          0,
          0
         ],
         "yaxis": "y3"
        },
        {
         "name": "#Idle",
         "type": "bar",
         "x": [
          0,
          1,
          2,
          3,
          4,
          5,
          6,
          7,
          8,
          9,
          10,
          11,
          12,
          13,
          14,
          15,
          16,
          17,
          18,
          19,
          20,
          21,
          22,
          23,
          24,
          25,
          26,
          27,
          28,
          29,
          30,
          31,
          32,
          33,
          34,
          35,
          36,
          37,
          38,
          39,
          40,
          41,
          42,
          43,
          44,
          45,
          46,
          47,
          48,
          49,
          50,
          51,
          52,
          53,
          54,
          55,
          56,
          57,
          58,
          59,
          60,
          61,
          62,
          63,
          64,
          65,
          66,
          67,
          68,
          69,
          70,
          71,
          72,
          73,
          74
         ],
         "xaxis": "x3",
         "y": [
          0,
          0,
          0,
          0,
          0,
          0,
          0,
          0,
          0,
          0,
          0,
          0,
          0,
          0,
          0,
          4,
          0,
          0,
          12,
          1,
          0,
          0,
          4,
          4,
          0,
          1,
          4,
          2,
          4,
          2,
          4,
          3,
          6,
          4,
          5,
          4,
          4,
          5,
          5,
          3,
          5,
          8,
          6,
          6,
          9,
          82,
          143,
          148,
          152,
          154,
          154,
          154,
          154,
          154,
          154,
          154,
          154,
          154,
          154,
          154,
          154,
          154,
          154,
          154,
          154,
          154,
          154,
          154,
          154,
          154,
          154,
          154,
          154,
          154,
          154
         ],
         "yaxis": "y3"
        },
        {
         "mode": "lines",
         "name": "NonPr",
         "type": "scatter",
         "x": [
          0,
          1,
          2,
          3,
          4,
          5,
          6,
          7,
          8,
          9,
          10,
          11,
          12,
          13,
          14,
          15,
          16,
          17,
          18,
          19,
          20,
          21,
          22,
          23,
          24,
          25,
          26,
          27,
          28,
          29,
          30,
          31,
          32,
          33,
          34,
          35,
          36,
          37,
          38,
          39,
          40,
          41,
          42,
          43,
          44,
          45,
          46,
          47,
          48,
          49,
          50,
          51,
          52,
          53,
          54,
          55,
          56,
          57,
          58,
          59,
          60,
          61,
          62,
          63,
          64,
          65,
          66,
          67,
          68,
          69,
          70,
          71,
          72,
          73,
          74
         ],
         "xaxis": "x2",
         "y": [
          297,
          297,
          297,
          297,
          297,
          297,
          291,
          291,
          291,
          285,
          285,
          285,
          267,
          267,
          267,
          249,
          246,
          246,
          240,
          231,
          225,
          222,
          219,
          213,
          207,
          201,
          192,
          186,
          180,
          171,
          165,
          156,
          147,
          138,
          126,
          117,
          105,
          93,
          78,
          66,
          51,
          36,
          21,
          3,
          0,
          0,
          0,
          0,
          0,
          0,
          0,
          0,
          0,
          0,
          0,
          0,
          0,
          0,
          0,
          0,
          0,
          0,
          0,
          0,
          0,
          0,
          0,
          0,
          0,
          0,
          0,
          0,
          0,
          0,
          0
         ],
         "yaxis": "y2"
        },
        {
         "mode": "lines",
         "name": "Printable",
         "type": "scatter",
         "x": [
          0,
          1,
          2,
          3,
          4,
          5,
          6,
          7,
          8,
          9,
          10,
          11,
          12,
          13,
          14,
          15,
          16,
          17,
          18,
          19,
          20,
          21,
          22,
          23,
          24,
          25,
          26,
          27,
          28,
          29,
          30,
          31,
          32,
          33,
          34,
          35,
          36,
          37,
          38,
          39,
          40,
          41,
          42,
          43,
          44,
          45,
          46,
          47,
          48,
          49,
          50,
          51,
          52,
          53,
          54,
          55,
          56,
          57,
          58,
          59,
          60,
          61,
          62,
          63,
          64,
          65,
          66,
          67,
          68,
          69,
          70,
          71,
          72,
          73,
          74
         ],
         "xaxis": "x2",
         "y": [
          94,
          94,
          94,
          94,
          94,
          94,
          82,
          82,
          82,
          70,
          70,
          70,
          34,
          34,
          34,
          2,
          0,
          4,
          6,
          1,
          1,
          1,
          5,
          6,
          5,
          5,
          0,
          2,
          4,
          4,
          6,
          2,
          4,
          6,
          0,
          4,
          4,
          6,
          2,
          3,
          2,
          2,
          5,
          0,
          35,
          49,
          49,
          49,
          49,
          49,
          49,
          49,
          49,
          49,
          49,
          49,
          49,
          49,
          49,
          49,
          49,
          49,
          49,
          49,
          49,
          49,
          49,
          49,
          49,
          49,
          49,
          49,
          49,
          49,
          49
         ],
         "yaxis": "y2"
        },
        {
         "mode": "lines",
         "name": "Materials",
         "type": "scatter",
         "x": [
          0,
          1,
          2,
          3,
          4,
          5,
          6,
          7,
          8,
          9,
          10,
          11,
          12,
          13,
          14,
          15,
          16,
          17,
          18,
          19,
          20,
          21,
          22,
          23,
          24,
          25,
          26,
          27,
          28,
          29,
          30,
          31,
          32,
          33,
          34,
          35,
          36,
          37,
          38,
          39,
          40,
          41,
          42,
          43,
          44,
          45,
          46,
          47,
          48,
          49,
          50,
          51,
          52,
          53,
          54,
          55,
          56,
          57,
          58,
          59,
          60,
          61,
          62,
          63,
          64,
          65,
          66,
          67,
          68,
          69,
          70,
          71,
          72,
          73,
          74
         ],
         "xaxis": "x2",
         "y": [
          50,
          50,
          50,
          50,
          50,
          50,
          50,
          50,
          50,
          50,
          50,
          50,
          50,
          50,
          50,
          46,
          42,
          38,
          24,
          11,
          2,
          2,
          1,
          1,
          1,
          2,
          1,
          1,
          1,
          1,
          1,
          1,
          2,
          1,
          1,
          1,
          2,
          1,
          1,
          2,
          1,
          1,
          1,
          2,
          1,
          1,
          1,
          1,
          1,
          1,
          1,
          1,
          1,
          1,
          1,
          1,
          1,
          1,
          1,
          1,
          1,
          1,
          1,
          1,
          1,
          1,
          1,
          1,
          1,
          1,
          1,
          1,
          1,
          1,
          1
         ],
         "yaxis": "y2"
        },
        {
         "mode": "lines",
         "name": "Env_Materials",
         "type": "scatter",
         "x": [
          0,
          1,
          2,
          3,
          4,
          5,
          6,
          7,
          8,
          9,
          10,
          11,
          12,
          13,
          14,
          15,
          16,
          17,
          18,
          19,
          20,
          21,
          22,
          23,
          24,
          25,
          26,
          27,
          28,
          29,
          30,
          31,
          32,
          33,
          34,
          35,
          36,
          37,
          38,
          39,
          40,
          41,
          42,
          43,
          44,
          45,
          46,
          47,
          48,
          49,
          50,
          51,
          52,
          53,
          54,
          55,
          56,
          57,
          58,
          59,
          60,
          61,
          62,
          63,
          64,
          65,
          66,
          67,
          68,
          69,
          70,
          71,
          72,
          73,
          74
         ],
         "xaxis": "x2",
         "y": [
          500,
          500,
          500,
          500,
          500,
          500,
          500,
          500,
          500,
          500,
          500,
          500,
          500,
          500,
          500,
          500,
          500,
          500,
          500,
          500,
          497,
          491,
          482,
          469,
          458,
          445,
          433,
          419,
          405,
          387,
          373,
          359,
          338,
          319,
          301,
          279,
          254,
          229,
          203,
          177,
          149,
          119,
          86,
          54,
          14,
          0,
          0,
          0,
          0,
          0,
          0,
          0,
          0,
          0,
          0,
          0,
          0,
          0,
          0,
          0,
          0,
          0,
          0,
          0,
          0,
          0,
          0,
          0,
          0,
          0,
          0,
          0,
          0,
          0,
          0
         ],
         "yaxis": "y2"
        },
        {
         "mode": "lines",
         "name": "Avg. Quality #in",
         "type": "scatter",
         "x": [
          0,
          1,
          2,
          3,
          4,
          5,
          6,
          7,
          8,
          9,
          10,
          11,
          12,
          13,
          14,
          15,
          16,
          17,
          18,
          19,
          20,
          21,
          22,
          23,
          24,
          25,
          26,
          27,
          28,
          29,
          30,
          31,
          32,
          33,
          34,
          35,
          36,
          37,
          38,
          39,
          40,
          41,
          42,
          43,
          44,
          45,
          46,
          47,
          48,
          49,
          50,
          51,
          52,
          53,
          54,
          55,
          56,
          57,
          58,
          59,
          60,
          61,
          62,
          63,
          64,
          65,
          66,
          67,
          68,
          69,
          70,
          71,
          72,
          73,
          74
         ],
         "xaxis": "x4",
         "y": [
          0.943,
          0.943,
          0.943,
          0.943,
          0.943,
          0.943,
          0.93,
          0.93,
          0.93,
          0.888,
          0.888,
          0.888,
          0.858,
          0.858,
          0.858,
          0.765,
          0.765,
          0.765,
          0.753,
          0.73,
          0.73,
          0.73,
          0.71,
          0.701,
          0.706,
          0.691,
          0.691,
          0.689,
          0.696,
          0.694,
          0.7,
          0.684,
          0.658,
          0.663,
          0.655,
          0.637,
          0.643,
          0.634,
          0.639,
          0.631,
          0.628,
          0.63,
          0.62,
          0.609,
          0.606,
          0.602,
          0.603,
          0.599,
          0.591,
          0.588,
          0.588,
          0.588,
          0.588,
          0.588,
          0.588,
          0.588,
          0.588,
          0.588,
          0.588,
          0.588,
          0.588,
          0.588,
          0.588,
          0.588,
          0.588,
          0.588,
          0.588,
          0.588,
          0.588,
          0.588,
          0.588,
          0.588,
          0.588,
          0.588,
          0.588
         ],
         "yaxis": "y4"
        },
        {
         "mode": "lines",
         "name": "Avg. Quality #total",
         "type": "scatter",
         "x": [
          0,
          1,
          2,
          3,
          4,
          5,
          6,
          7,
          8,
          9,
          10,
          11,
          12,
          13,
          14,
          15,
          16,
          17,
          18,
          19,
          20,
          21,
          22,
          23,
          24,
          25,
          26,
          27,
          28,
          29,
          30,
          31,
          32,
          33,
          34,
          35,
          36,
          37,
          38,
          39,
          40,
          41,
          42,
          43,
          44,
          45,
          46,
          47,
          48,
          49,
          50,
          51,
          52,
          53,
          54,
          55,
          56,
          57,
          58,
          59,
          60,
          61,
          62,
          63,
          64,
          65,
          66,
          67,
          68,
          69,
          70,
          71,
          72,
          73,
          74
         ],
         "xaxis": "x4",
         "y": [
          0.943,
          0.943,
          0.943,
          0.943,
          0.943,
          0.943,
          0.93,
          0.93,
          0.93,
          0.888,
          0.888,
          0.888,
          0.858,
          0.858,
          0.858,
          0.765,
          0.765,
          0.765,
          0.753,
          0.745,
          0.745,
          0.745,
          0.723,
          0.712,
          0.716,
          0.71,
          0.709,
          0.706,
          0.712,
          0.71,
          0.715,
          0.704,
          0.686,
          0.69,
          0.685,
          0.676,
          0.679,
          0.672,
          0.679,
          0.673,
          0.673,
          0.672,
          0.665,
          0.66,
          0.657,
          0.656,
          0.654,
          0.653,
          0.649,
          0.645,
          0.645,
          0.645,
          0.645,
          0.645,
          0.645,
          0.645,
          0.645,
          0.645,
          0.645,
          0.645,
          0.645,
          0.645,
          0.645,
          0.645,
          0.645,
          0.645,
          0.645,
          0.645,
          0.645,
          0.645,
          0.645,
          0.645,
          0.645,
          0.645,
          0.645
         ],
         "yaxis": "y4"
        }
       ],
       "layout": {
        "annotations": [
         {
          "font": {
           "size": 16
          },
          "showarrow": false,
          "text": "Types of Robots vs Time",
          "x": 0.225,
          "xanchor": "center",
          "xref": "paper",
          "y": 1,
          "yanchor": "bottom",
          "yref": "paper"
         },
         {
          "font": {
           "size": 16
          },
          "showarrow": false,
          "text": "Resources vs Time",
          "x": 0.775,
          "xanchor": "center",
          "xref": "paper",
          "y": 1,
          "yanchor": "bottom",
          "yref": "paper"
         },
         {
          "font": {
           "size": 16
          },
          "showarrow": false,
          "text": "Tasks of Robots vs Time",
          "x": 0.225,
          "xanchor": "center",
          "xref": "paper",
          "y": 0.375,
          "yanchor": "bottom",
          "yref": "paper"
         },
         {
          "font": {
           "size": 16
          },
          "showarrow": false,
          "text": "Build Quality vs Time",
          "x": 0.775,
          "xanchor": "center",
          "xref": "paper",
          "y": 0.375,
          "yanchor": "bottom",
          "yref": "paper"
         }
        ],
        "hovermode": "x",
        "template": {
         "data": {
          "bar": [
           {
            "error_x": {
             "color": "#2a3f5f"
            },
            "error_y": {
             "color": "#2a3f5f"
            },
            "marker": {
             "line": {
              "color": "#E5ECF6",
              "width": 0.5
             },
             "pattern": {
              "fillmode": "overlay",
              "size": 10,
              "solidity": 0.2
             }
            },
            "type": "bar"
           }
          ],
          "barpolar": [
           {
            "marker": {
             "line": {
              "color": "#E5ECF6",
              "width": 0.5
             },
             "pattern": {
              "fillmode": "overlay",
              "size": 10,
              "solidity": 0.2
             }
            },
            "type": "barpolar"
           }
          ],
          "carpet": [
           {
            "aaxis": {
             "endlinecolor": "#2a3f5f",
             "gridcolor": "white",
             "linecolor": "white",
             "minorgridcolor": "white",
             "startlinecolor": "#2a3f5f"
            },
            "baxis": {
             "endlinecolor": "#2a3f5f",
             "gridcolor": "white",
             "linecolor": "white",
             "minorgridcolor": "white",
             "startlinecolor": "#2a3f5f"
            },
            "type": "carpet"
           }
          ],
          "choropleth": [
           {
            "colorbar": {
             "outlinewidth": 0,
             "ticks": ""
            },
            "type": "choropleth"
           }
          ],
          "contour": [
           {
            "colorbar": {
             "outlinewidth": 0,
             "ticks": ""
            },
            "colorscale": [
             [
              0,
              "#0d0887"
             ],
             [
              0.1111111111111111,
              "#46039f"
             ],
             [
              0.2222222222222222,
              "#7201a8"
             ],
             [
              0.3333333333333333,
              "#9c179e"
             ],
             [
              0.4444444444444444,
              "#bd3786"
             ],
             [
              0.5555555555555556,
              "#d8576b"
             ],
             [
              0.6666666666666666,
              "#ed7953"
             ],
             [
              0.7777777777777778,
              "#fb9f3a"
             ],
             [
              0.8888888888888888,
              "#fdca26"
             ],
             [
              1,
              "#f0f921"
             ]
            ],
            "type": "contour"
           }
          ],
          "contourcarpet": [
           {
            "colorbar": {
             "outlinewidth": 0,
             "ticks": ""
            },
            "type": "contourcarpet"
           }
          ],
          "heatmap": [
           {
            "colorbar": {
             "outlinewidth": 0,
             "ticks": ""
            },
            "colorscale": [
             [
              0,
              "#0d0887"
             ],
             [
              0.1111111111111111,
              "#46039f"
             ],
             [
              0.2222222222222222,
              "#7201a8"
             ],
             [
              0.3333333333333333,
              "#9c179e"
             ],
             [
              0.4444444444444444,
              "#bd3786"
             ],
             [
              0.5555555555555556,
              "#d8576b"
             ],
             [
              0.6666666666666666,
              "#ed7953"
             ],
             [
              0.7777777777777778,
              "#fb9f3a"
             ],
             [
              0.8888888888888888,
              "#fdca26"
             ],
             [
              1,
              "#f0f921"
             ]
            ],
            "type": "heatmap"
           }
          ],
          "heatmapgl": [
           {
            "colorbar": {
             "outlinewidth": 0,
             "ticks": ""
            },
            "colorscale": [
             [
              0,
              "#0d0887"
             ],
             [
              0.1111111111111111,
              "#46039f"
             ],
             [
              0.2222222222222222,
              "#7201a8"
             ],
             [
              0.3333333333333333,
              "#9c179e"
             ],
             [
              0.4444444444444444,
              "#bd3786"
             ],
             [
              0.5555555555555556,
              "#d8576b"
             ],
             [
              0.6666666666666666,
              "#ed7953"
             ],
             [
              0.7777777777777778,
              "#fb9f3a"
             ],
             [
              0.8888888888888888,
              "#fdca26"
             ],
             [
              1,
              "#f0f921"
             ]
            ],
            "type": "heatmapgl"
           }
          ],
          "histogram": [
           {
            "marker": {
             "pattern": {
              "fillmode": "overlay",
              "size": 10,
              "solidity": 0.2
             }
            },
            "type": "histogram"
           }
          ],
          "histogram2d": [
           {
            "colorbar": {
             "outlinewidth": 0,
             "ticks": ""
            },
            "colorscale": [
             [
              0,
              "#0d0887"
             ],
             [
              0.1111111111111111,
              "#46039f"
             ],
             [
              0.2222222222222222,
              "#7201a8"
             ],
             [
              0.3333333333333333,
              "#9c179e"
             ],
             [
              0.4444444444444444,
              "#bd3786"
             ],
             [
              0.5555555555555556,
              "#d8576b"
             ],
             [
              0.6666666666666666,
              "#ed7953"
             ],
             [
              0.7777777777777778,
              "#fb9f3a"
             ],
             [
              0.8888888888888888,
              "#fdca26"
             ],
             [
              1,
              "#f0f921"
             ]
            ],
            "type": "histogram2d"
           }
          ],
          "histogram2dcontour": [
           {
            "colorbar": {
             "outlinewidth": 0,
             "ticks": ""
            },
            "colorscale": [
             [
              0,
              "#0d0887"
             ],
             [
              0.1111111111111111,
              "#46039f"
             ],
             [
              0.2222222222222222,
              "#7201a8"
             ],
             [
              0.3333333333333333,
              "#9c179e"
             ],
             [
              0.4444444444444444,
              "#bd3786"
             ],
             [
              0.5555555555555556,
              "#d8576b"
             ],
             [
              0.6666666666666666,
              "#ed7953"
             ],
             [
              0.7777777777777778,
              "#fb9f3a"
             ],
             [
              0.8888888888888888,
              "#fdca26"
             ],
             [
              1,
              "#f0f921"
             ]
            ],
            "type": "histogram2dcontour"
           }
          ],
          "mesh3d": [
           {
            "colorbar": {
             "outlinewidth": 0,
             "ticks": ""
            },
            "type": "mesh3d"
           }
          ],
          "parcoords": [
           {
            "line": {
             "colorbar": {
              "outlinewidth": 0,
              "ticks": ""
             }
            },
            "type": "parcoords"
           }
          ],
          "pie": [
           {
            "automargin": true,
            "type": "pie"
           }
          ],
          "scatter": [
           {
            "fillpattern": {
             "fillmode": "overlay",
             "size": 10,
             "solidity": 0.2
            },
            "type": "scatter"
           }
          ],
          "scatter3d": [
           {
            "line": {
             "colorbar": {
              "outlinewidth": 0,
              "ticks": ""
             }
            },
            "marker": {
             "colorbar": {
              "outlinewidth": 0,
              "ticks": ""
             }
            },
            "type": "scatter3d"
           }
          ],
          "scattercarpet": [
           {
            "marker": {
             "colorbar": {
              "outlinewidth": 0,
              "ticks": ""
             }
            },
            "type": "scattercarpet"
           }
          ],
          "scattergeo": [
           {
            "marker": {
             "colorbar": {
              "outlinewidth": 0,
              "ticks": ""
             }
            },
            "type": "scattergeo"
           }
          ],
          "scattergl": [
           {
            "marker": {
             "colorbar": {
              "outlinewidth": 0,
              "ticks": ""
             }
            },
            "type": "scattergl"
           }
          ],
          "scattermapbox": [
           {
            "marker": {
             "colorbar": {
              "outlinewidth": 0,
              "ticks": ""
             }
            },
            "type": "scattermapbox"
           }
          ],
          "scatterpolar": [
           {
            "marker": {
             "colorbar": {
              "outlinewidth": 0,
              "ticks": ""
             }
            },
            "type": "scatterpolar"
           }
          ],
          "scatterpolargl": [
           {
            "marker": {
             "colorbar": {
              "outlinewidth": 0,
              "ticks": ""
             }
            },
            "type": "scatterpolargl"
           }
          ],
          "scatterternary": [
           {
            "marker": {
             "colorbar": {
              "outlinewidth": 0,
              "ticks": ""
             }
            },
            "type": "scatterternary"
           }
          ],
          "surface": [
           {
            "colorbar": {
             "outlinewidth": 0,
             "ticks": ""
            },
            "colorscale": [
             [
              0,
              "#0d0887"
             ],
             [
              0.1111111111111111,
              "#46039f"
             ],
             [
              0.2222222222222222,
              "#7201a8"
             ],
             [
              0.3333333333333333,
              "#9c179e"
             ],
             [
              0.4444444444444444,
              "#bd3786"
             ],
             [
              0.5555555555555556,
              "#d8576b"
             ],
             [
              0.6666666666666666,
              "#ed7953"
             ],
             [
              0.7777777777777778,
              "#fb9f3a"
             ],
             [
              0.8888888888888888,
              "#fdca26"
             ],
             [
              1,
              "#f0f921"
             ]
            ],
            "type": "surface"
           }
          ],
          "table": [
           {
            "cells": {
             "fill": {
              "color": "#EBF0F8"
             },
             "line": {
              "color": "white"
             }
            },
            "header": {
             "fill": {
              "color": "#C8D4E3"
             },
             "line": {
              "color": "white"
             }
            },
            "type": "table"
           }
          ]
         },
         "layout": {
          "annotationdefaults": {
           "arrowcolor": "#2a3f5f",
           "arrowhead": 0,
           "arrowwidth": 1
          },
          "autotypenumbers": "strict",
          "coloraxis": {
           "colorbar": {
            "outlinewidth": 0,
            "ticks": ""
           }
          },
          "colorscale": {
           "diverging": [
            [
             0,
             "#8e0152"
            ],
            [
             0.1,
             "#c51b7d"
            ],
            [
             0.2,
             "#de77ae"
            ],
            [
             0.3,
             "#f1b6da"
            ],
            [
             0.4,
             "#fde0ef"
            ],
            [
             0.5,
             "#f7f7f7"
            ],
            [
             0.6,
             "#e6f5d0"
            ],
            [
             0.7,
             "#b8e186"
            ],
            [
             0.8,
             "#7fbc41"
            ],
            [
             0.9,
             "#4d9221"
            ],
            [
             1,
             "#276419"
            ]
           ],
           "sequential": [
            [
             0,
             "#0d0887"
            ],
            [
             0.1111111111111111,
             "#46039f"
            ],
            [
             0.2222222222222222,
             "#7201a8"
            ],
            [
             0.3333333333333333,
             "#9c179e"
            ],
            [
             0.4444444444444444,
             "#bd3786"
            ],
            [
             0.5555555555555556,
             "#d8576b"
            ],
            [
             0.6666666666666666,
             "#ed7953"
            ],
            [
             0.7777777777777778,
             "#fb9f3a"
            ],
            [
             0.8888888888888888,
             "#fdca26"
            ],
            [
             1,
             "#f0f921"
            ]
           ],
           "sequentialminus": [
            [
             0,
             "#0d0887"
            ],
            [
             0.1111111111111111,
             "#46039f"
            ],
            [
             0.2222222222222222,
             "#7201a8"
            ],
            [
             0.3333333333333333,
             "#9c179e"
            ],
            [
             0.4444444444444444,
             "#bd3786"
            ],
            [
             0.5555555555555556,
             "#d8576b"
            ],
            [
             0.6666666666666666,
             "#ed7953"
            ],
            [
             0.7777777777777778,
             "#fb9f3a"
            ],
            [
             0.8888888888888888,
             "#fdca26"
            ],
            [
             1,
             "#f0f921"
            ]
           ]
          },
          "colorway": [
           "#636efa",
           "#EF553B",
           "#00cc96",
           "#ab63fa",
           "#FFA15A",
           "#19d3f3",
           "#FF6692",
           "#B6E880",
           "#FF97FF",
           "#FECB52"
          ],
          "font": {
           "color": "#2a3f5f"
          },
          "geo": {
           "bgcolor": "white",
           "lakecolor": "white",
           "landcolor": "#E5ECF6",
           "showlakes": true,
           "showland": true,
           "subunitcolor": "white"
          },
          "hoverlabel": {
           "align": "left"
          },
          "hovermode": "closest",
          "mapbox": {
           "style": "light"
          },
          "paper_bgcolor": "white",
          "plot_bgcolor": "#E5ECF6",
          "polar": {
           "angularaxis": {
            "gridcolor": "white",
            "linecolor": "white",
            "ticks": ""
           },
           "bgcolor": "#E5ECF6",
           "radialaxis": {
            "gridcolor": "white",
            "linecolor": "white",
            "ticks": ""
           }
          },
          "scene": {
           "xaxis": {
            "backgroundcolor": "#E5ECF6",
            "gridcolor": "white",
            "gridwidth": 2,
            "linecolor": "white",
            "showbackground": true,
            "ticks": "",
            "zerolinecolor": "white"
           },
           "yaxis": {
            "backgroundcolor": "#E5ECF6",
            "gridcolor": "white",
            "gridwidth": 2,
            "linecolor": "white",
            "showbackground": true,
            "ticks": "",
            "zerolinecolor": "white"
           },
           "zaxis": {
            "backgroundcolor": "#E5ECF6",
            "gridcolor": "white",
            "gridwidth": 2,
            "linecolor": "white",
            "showbackground": true,
            "ticks": "",
            "zerolinecolor": "white"
           }
          },
          "shapedefaults": {
           "line": {
            "color": "#2a3f5f"
           }
          },
          "ternary": {
           "aaxis": {
            "gridcolor": "white",
            "linecolor": "white",
            "ticks": ""
           },
           "baxis": {
            "gridcolor": "white",
            "linecolor": "white",
            "ticks": ""
           },
           "bgcolor": "#E5ECF6",
           "caxis": {
            "gridcolor": "white",
            "linecolor": "white",
            "ticks": ""
           }
          },
          "title": {
           "x": 0.05
          },
          "xaxis": {
           "automargin": true,
           "gridcolor": "white",
           "linecolor": "white",
           "ticks": "",
           "title": {
            "standoff": 15
           },
           "zerolinecolor": "white",
           "zerolinewidth": 2
          },
          "yaxis": {
           "automargin": true,
           "gridcolor": "white",
           "linecolor": "white",
           "ticks": "",
           "title": {
            "standoff": 15
           },
           "zerolinecolor": "white",
           "zerolinewidth": 2
          }
         }
        },
        "title": {
         "text": "DHO - Characteristics"
        },
        "xaxis": {
         "anchor": "y",
         "domain": [
          0,
          0.45
         ]
        },
        "xaxis2": {
         "anchor": "y2",
         "domain": [
          0.55,
          1
         ]
        },
        "xaxis3": {
         "anchor": "y3",
         "domain": [
          0,
          0.45
         ]
        },
        "xaxis4": {
         "anchor": "y4",
         "domain": [
          0.55,
          1
         ]
        },
        "yaxis": {
         "anchor": "x",
         "domain": [
          0.625,
          1
         ]
        },
        "yaxis2": {
         "anchor": "x2",
         "domain": [
          0.625,
          1
         ]
        },
        "yaxis3": {
         "anchor": "x3",
         "domain": [
          0,
          0.375
         ]
        },
        "yaxis4": {
         "anchor": "x4",
         "domain": [
          0,
          0.375
         ]
        }
       }
      },
      "text/html": [
       "<div>                            <div id=\"f78da9a6-0991-41ca-8a91-b4af41361a5a\" class=\"plotly-graph-div\" style=\"height:525px; width:100%;\"></div>            <script type=\"text/javascript\">                require([\"plotly\"], function(Plotly) {                    window.PLOTLYENV=window.PLOTLYENV || {};                                    if (document.getElementById(\"f78da9a6-0991-41ca-8a91-b4af41361a5a\")) {                    Plotly.newPlot(                        \"f78da9a6-0991-41ca-8a91-b4af41361a5a\",                        [{\"name\":\"#Replicator\",\"x\":[0.0,1.0,2.0,3.0,4.0,5.0,6.0,7.0,8.0,9.0,10.0,11.0,12.0,13.0,14.0,15.0,16.0,17.0,18.0,19.0,20.0,21.0,22.0,23.0,24.0,25.0,26.0,27.0,28.0,29.0,30.0,31.0,32.0,33.0,34.0,35.0,36.0,37.0,38.0,39.0,40.0,41.0,42.0,43.0,44.0,45.0,46.0,47.0,48.0,49.0,50.0,51.0,52.0,53.0,54.0,55.0,56.0,57.0,58.0,59.0,60.0,61.0,62.0,63.0,64.0,65.0,66.0,67.0,68.0,69.0,70.0,71.0,72.0,73.0,74.0],\"y\":[1.0,1.0,1.0,1.0,1.0,1.0,3.0,3.0,3.0,5.0,5.0,5.0,11.0,11.0,11.0,21.0,21.0,21.0,33.0,34.0,34.0,34.0,40.0,44.0,46.0,47.0,51.0,53.0,57.0,59.0,63.0,66.0,72.0,76.0,81.0,85.0,91.0,96.0,101.0,104.0,109.0,117.0,123.0,129.0,138.0,142.0,150.0,151.0,153.0,154.0,154.0,154.0,154.0,154.0,154.0,154.0,154.0,154.0,154.0,154.0,154.0,154.0,154.0,154.0,154.0,154.0,154.0,154.0,154.0,154.0,154.0,154.0,154.0,154.0,154.0],\"type\":\"bar\",\"xaxis\":\"x\",\"yaxis\":\"y\"},{\"name\":\"#Normal\",\"x\":[0.0,1.0,2.0,3.0,4.0,5.0,6.0,7.0,8.0,9.0,10.0,11.0,12.0,13.0,14.0,15.0,16.0,17.0,18.0,19.0,20.0,21.0,22.0,23.0,24.0,25.0,26.0,27.0,28.0,29.0,30.0,31.0,32.0,33.0,34.0,35.0,36.0,37.0,38.0,39.0,40.0,41.0,42.0,43.0,44.0,45.0,46.0,47.0,48.0,49.0,50.0,51.0,52.0,53.0,54.0,55.0,56.0,57.0,58.0,59.0,60.0,61.0,62.0,63.0,64.0,65.0,66.0,67.0,68.0,69.0,70.0,71.0,72.0,73.0,74.0],\"y\":[0.0,0.0,0.0,0.0,0.0,0.0,0.0,0.0,0.0,0.0,0.0,0.0,0.0,0.0,0.0,0.0,0.0,0.0,0.0,0.0,0.0,0.0,0.0,0.0,0.0,0.0,0.0,0.0,0.0,0.0,0.0,0.0,0.0,0.0,0.0,0.0,0.0,0.0,0.0,0.0,0.0,0.0,0.0,0.0,0.0,0.0,0.0,0.0,0.0,0.0,0.0,0.0,0.0,0.0,0.0,0.0,0.0,0.0,0.0,0.0,0.0,0.0,0.0,0.0,0.0,0.0,0.0,0.0,0.0,0.0,0.0,0.0,0.0,0.0,0.0],\"type\":\"bar\",\"xaxis\":\"x\",\"yaxis\":\"y\"},{\"name\":\"#Assembler\",\"x\":[0.0,1.0,2.0,3.0,4.0,5.0,6.0,7.0,8.0,9.0,10.0,11.0,12.0,13.0,14.0,15.0,16.0,17.0,18.0,19.0,20.0,21.0,22.0,23.0,24.0,25.0,26.0,27.0,28.0,29.0,30.0,31.0,32.0,33.0,34.0,35.0,36.0,37.0,38.0,39.0,40.0,41.0,42.0,43.0,44.0,45.0,46.0,47.0,48.0,49.0,50.0,51.0,52.0,53.0,54.0,55.0,56.0,57.0,58.0,59.0,60.0,61.0,62.0,63.0,64.0,65.0,66.0,67.0,68.0,69.0,70.0,71.0,72.0,73.0,74.0],\"y\":[0.0,0.0,0.0,0.0,0.0,0.0,0.0,0.0,0.0,0.0,0.0,0.0,0.0,0.0,0.0,0.0,0.0,0.0,0.0,0.0,0.0,0.0,0.0,0.0,0.0,0.0,0.0,0.0,0.0,0.0,0.0,0.0,0.0,0.0,0.0,0.0,0.0,0.0,0.0,0.0,0.0,0.0,0.0,0.0,0.0,0.0,0.0,0.0,0.0,0.0,0.0,0.0,0.0,0.0,0.0,0.0,0.0,0.0,0.0,0.0,0.0,0.0,0.0,0.0,0.0,0.0,0.0,0.0,0.0,0.0,0.0,0.0,0.0,0.0,0.0],\"type\":\"bar\",\"xaxis\":\"x\",\"yaxis\":\"y\"},{\"name\":\"#Printer\",\"x\":[0.0,1.0,2.0,3.0,4.0,5.0,6.0,7.0,8.0,9.0,10.0,11.0,12.0,13.0,14.0,15.0,16.0,17.0,18.0,19.0,20.0,21.0,22.0,23.0,24.0,25.0,26.0,27.0,28.0,29.0,30.0,31.0,32.0,33.0,34.0,35.0,36.0,37.0,38.0,39.0,40.0,41.0,42.0,43.0,44.0,45.0,46.0,47.0,48.0,49.0,50.0,51.0,52.0,53.0,54.0,55.0,56.0,57.0,58.0,59.0,60.0,61.0,62.0,63.0,64.0,65.0,66.0,67.0,68.0,69.0,70.0,71.0,72.0,73.0,74.0],\"y\":[0.0,0.0,0.0,0.0,0.0,0.0,0.0,0.0,0.0,0.0,0.0,0.0,0.0,0.0,0.0,0.0,0.0,0.0,0.0,0.0,0.0,0.0,0.0,0.0,0.0,0.0,0.0,0.0,0.0,0.0,0.0,0.0,0.0,0.0,0.0,0.0,0.0,0.0,0.0,0.0,0.0,0.0,0.0,0.0,0.0,0.0,0.0,0.0,0.0,0.0,0.0,0.0,0.0,0.0,0.0,0.0,0.0,0.0,0.0,0.0,0.0,0.0,0.0,0.0,0.0,0.0,0.0,0.0,0.0,0.0,0.0,0.0,0.0,0.0,0.0],\"type\":\"bar\",\"xaxis\":\"x\",\"yaxis\":\"y\"},{\"name\":\"#Assembling\",\"x\":[0.0,1.0,2.0,3.0,4.0,5.0,6.0,7.0,8.0,9.0,10.0,11.0,12.0,13.0,14.0,15.0,16.0,17.0,18.0,19.0,20.0,21.0,22.0,23.0,24.0,25.0,26.0,27.0,28.0,29.0,30.0,31.0,32.0,33.0,34.0,35.0,36.0,37.0,38.0,39.0,40.0,41.0,42.0,43.0,44.0,45.0,46.0,47.0,48.0,49.0,50.0,51.0,52.0,53.0,54.0,55.0,56.0,57.0,58.0,59.0,60.0,61.0,62.0,63.0,64.0,65.0,66.0,67.0,68.0,69.0,70.0,71.0,72.0,73.0,74.0],\"y\":[1.0,1.0,1.0,1.0,1.0,1.0,3.0,3.0,3.0,5.0,5.0,5.0,11.0,11.0,11.0,11.0,13.0,13.0,2.0,6.0,10.0,12.0,8.0,8.0,9.0,11.0,10.0,10.0,10.0,14.0,15.0,17.0,16.0,18.0,18.0,18.0,17.0,17.0,19.0,22.0,24.0,26.0,25.0,26.0,18.0,13.0,5.0,3.0,1.0,0.0,0.0,0.0,0.0,0.0,0.0,0.0,0.0,0.0,0.0,0.0,0.0,0.0,0.0,0.0,0.0,0.0,0.0,0.0,0.0,0.0,0.0,0.0,0.0,0.0,0.0],\"type\":\"bar\",\"xaxis\":\"x3\",\"yaxis\":\"y3\"},{\"name\":\"#Printing\",\"x\":[0.0,1.0,2.0,3.0,4.0,5.0,6.0,7.0,8.0,9.0,10.0,11.0,12.0,13.0,14.0,15.0,16.0,17.0,18.0,19.0,20.0,21.0,22.0,23.0,24.0,25.0,26.0,27.0,28.0,29.0,30.0,31.0,32.0,33.0,34.0,35.0,36.0,37.0,38.0,39.0,40.0,41.0,42.0,43.0,44.0,45.0,46.0,47.0,48.0,49.0,50.0,51.0,52.0,53.0,54.0,55.0,56.0,57.0,58.0,59.0,60.0,61.0,62.0,63.0,64.0,65.0,66.0,67.0,68.0,69.0,70.0,71.0,72.0,73.0,74.0],\"y\":[0.0,0.0,0.0,0.0,0.0,0.0,0.0,0.0,0.0,0.0,0.0,0.0,0.0,0.0,0.0,6.0,8.0,8.0,19.0,27.0,23.0,13.0,18.0,28.0,22.0,23.0,27.0,28.0,27.0,37.0,27.0,29.0,37.0,38.0,38.0,42.0,47.0,51.0,53.0,50.0,55.0,60.0,67.0,62.0,73.0,31.0,2.0,0.0,0.0,0.0,0.0,0.0,0.0,0.0,0.0,0.0,0.0,0.0,0.0,0.0,0.0,0.0,0.0,0.0,0.0,0.0,0.0,0.0,0.0,0.0,0.0,0.0,0.0,0.0,0.0],\"type\":\"bar\",\"xaxis\":\"x3\",\"yaxis\":\"y3\"},{\"name\":\"#Collecting\",\"x\":[0.0,1.0,2.0,3.0,4.0,5.0,6.0,7.0,8.0,9.0,10.0,11.0,12.0,13.0,14.0,15.0,16.0,17.0,18.0,19.0,20.0,21.0,22.0,23.0,24.0,25.0,26.0,27.0,28.0,29.0,30.0,31.0,32.0,33.0,34.0,35.0,36.0,37.0,38.0,39.0,40.0,41.0,42.0,43.0,44.0,45.0,46.0,47.0,48.0,49.0,50.0,51.0,52.0,53.0,54.0,55.0,56.0,57.0,58.0,59.0,60.0,61.0,62.0,63.0,64.0,65.0,66.0,67.0,68.0,69.0,70.0,71.0,72.0,73.0,74.0],\"y\":[0.0,0.0,0.0,0.0,0.0,0.0,0.0,0.0,0.0,0.0,0.0,0.0,0.0,0.0,0.0,0.0,0.0,0.0,0.0,0.0,1.0,9.0,10.0,4.0,15.0,12.0,10.0,13.0,16.0,6.0,17.0,17.0,13.0,16.0,20.0,21.0,23.0,23.0,24.0,29.0,25.0,23.0,25.0,35.0,38.0,16.0,0.0,0.0,0.0,0.0,0.0,0.0,0.0,0.0,0.0,0.0,0.0,0.0,0.0,0.0,0.0,0.0,0.0,0.0,0.0,0.0,0.0,0.0,0.0,0.0,0.0,0.0,0.0,0.0,0.0],\"type\":\"bar\",\"xaxis\":\"x3\",\"yaxis\":\"y3\"},{\"name\":\"#Idle\",\"x\":[0.0,1.0,2.0,3.0,4.0,5.0,6.0,7.0,8.0,9.0,10.0,11.0,12.0,13.0,14.0,15.0,16.0,17.0,18.0,19.0,20.0,21.0,22.0,23.0,24.0,25.0,26.0,27.0,28.0,29.0,30.0,31.0,32.0,33.0,34.0,35.0,36.0,37.0,38.0,39.0,40.0,41.0,42.0,43.0,44.0,45.0,46.0,47.0,48.0,49.0,50.0,51.0,52.0,53.0,54.0,55.0,56.0,57.0,58.0,59.0,60.0,61.0,62.0,63.0,64.0,65.0,66.0,67.0,68.0,69.0,70.0,71.0,72.0,73.0,74.0],\"y\":[0.0,0.0,0.0,0.0,0.0,0.0,0.0,0.0,0.0,0.0,0.0,0.0,0.0,0.0,0.0,4.0,0.0,0.0,12.0,1.0,0.0,0.0,4.0,4.0,0.0,1.0,4.0,2.0,4.0,2.0,4.0,3.0,6.0,4.0,5.0,4.0,4.0,5.0,5.0,3.0,5.0,8.0,6.0,6.0,9.0,82.0,143.0,148.0,152.0,154.0,154.0,154.0,154.0,154.0,154.0,154.0,154.0,154.0,154.0,154.0,154.0,154.0,154.0,154.0,154.0,154.0,154.0,154.0,154.0,154.0,154.0,154.0,154.0,154.0,154.0],\"type\":\"bar\",\"xaxis\":\"x3\",\"yaxis\":\"y3\"},{\"mode\":\"lines\",\"name\":\"NonPr\",\"x\":[0.0,1.0,2.0,3.0,4.0,5.0,6.0,7.0,8.0,9.0,10.0,11.0,12.0,13.0,14.0,15.0,16.0,17.0,18.0,19.0,20.0,21.0,22.0,23.0,24.0,25.0,26.0,27.0,28.0,29.0,30.0,31.0,32.0,33.0,34.0,35.0,36.0,37.0,38.0,39.0,40.0,41.0,42.0,43.0,44.0,45.0,46.0,47.0,48.0,49.0,50.0,51.0,52.0,53.0,54.0,55.0,56.0,57.0,58.0,59.0,60.0,61.0,62.0,63.0,64.0,65.0,66.0,67.0,68.0,69.0,70.0,71.0,72.0,73.0,74.0],\"y\":[297.0,297.0,297.0,297.0,297.0,297.0,291.0,291.0,291.0,285.0,285.0,285.0,267.0,267.0,267.0,249.0,246.0,246.0,240.0,231.0,225.0,222.0,219.0,213.0,207.0,201.0,192.0,186.0,180.0,171.0,165.0,156.0,147.0,138.0,126.0,117.0,105.0,93.0,78.0,66.0,51.0,36.0,21.0,3.0,0.0,0.0,0.0,0.0,0.0,0.0,0.0,0.0,0.0,0.0,0.0,0.0,0.0,0.0,0.0,0.0,0.0,0.0,0.0,0.0,0.0,0.0,0.0,0.0,0.0,0.0,0.0,0.0,0.0,0.0,0.0],\"type\":\"scatter\",\"xaxis\":\"x2\",\"yaxis\":\"y2\"},{\"mode\":\"lines\",\"name\":\"Printable\",\"x\":[0.0,1.0,2.0,3.0,4.0,5.0,6.0,7.0,8.0,9.0,10.0,11.0,12.0,13.0,14.0,15.0,16.0,17.0,18.0,19.0,20.0,21.0,22.0,23.0,24.0,25.0,26.0,27.0,28.0,29.0,30.0,31.0,32.0,33.0,34.0,35.0,36.0,37.0,38.0,39.0,40.0,41.0,42.0,43.0,44.0,45.0,46.0,47.0,48.0,49.0,50.0,51.0,52.0,53.0,54.0,55.0,56.0,57.0,58.0,59.0,60.0,61.0,62.0,63.0,64.0,65.0,66.0,67.0,68.0,69.0,70.0,71.0,72.0,73.0,74.0],\"y\":[94.0,94.0,94.0,94.0,94.0,94.0,82.0,82.0,82.0,70.0,70.0,70.0,34.0,34.0,34.0,2.0,0.0,4.0,6.0,1.0,1.0,1.0,5.0,6.0,5.0,5.0,0.0,2.0,4.0,4.0,6.0,2.0,4.0,6.0,0.0,4.0,4.0,6.0,2.0,3.0,2.0,2.0,5.0,0.0,35.0,49.0,49.0,49.0,49.0,49.0,49.0,49.0,49.0,49.0,49.0,49.0,49.0,49.0,49.0,49.0,49.0,49.0,49.0,49.0,49.0,49.0,49.0,49.0,49.0,49.0,49.0,49.0,49.0,49.0,49.0],\"type\":\"scatter\",\"xaxis\":\"x2\",\"yaxis\":\"y2\"},{\"mode\":\"lines\",\"name\":\"Materials\",\"x\":[0.0,1.0,2.0,3.0,4.0,5.0,6.0,7.0,8.0,9.0,10.0,11.0,12.0,13.0,14.0,15.0,16.0,17.0,18.0,19.0,20.0,21.0,22.0,23.0,24.0,25.0,26.0,27.0,28.0,29.0,30.0,31.0,32.0,33.0,34.0,35.0,36.0,37.0,38.0,39.0,40.0,41.0,42.0,43.0,44.0,45.0,46.0,47.0,48.0,49.0,50.0,51.0,52.0,53.0,54.0,55.0,56.0,57.0,58.0,59.0,60.0,61.0,62.0,63.0,64.0,65.0,66.0,67.0,68.0,69.0,70.0,71.0,72.0,73.0,74.0],\"y\":[50.0,50.0,50.0,50.0,50.0,50.0,50.0,50.0,50.0,50.0,50.0,50.0,50.0,50.0,50.0,46.0,42.0,38.0,24.0,11.0,2.0,2.0,1.0,1.0,1.0,2.0,1.0,1.0,1.0,1.0,1.0,1.0,2.0,1.0,1.0,1.0,2.0,1.0,1.0,2.0,1.0,1.0,1.0,2.0,1.0,1.0,1.0,1.0,1.0,1.0,1.0,1.0,1.0,1.0,1.0,1.0,1.0,1.0,1.0,1.0,1.0,1.0,1.0,1.0,1.0,1.0,1.0,1.0,1.0,1.0,1.0,1.0,1.0,1.0,1.0],\"type\":\"scatter\",\"xaxis\":\"x2\",\"yaxis\":\"y2\"},{\"mode\":\"lines\",\"name\":\"Env_Materials\",\"x\":[0.0,1.0,2.0,3.0,4.0,5.0,6.0,7.0,8.0,9.0,10.0,11.0,12.0,13.0,14.0,15.0,16.0,17.0,18.0,19.0,20.0,21.0,22.0,23.0,24.0,25.0,26.0,27.0,28.0,29.0,30.0,31.0,32.0,33.0,34.0,35.0,36.0,37.0,38.0,39.0,40.0,41.0,42.0,43.0,44.0,45.0,46.0,47.0,48.0,49.0,50.0,51.0,52.0,53.0,54.0,55.0,56.0,57.0,58.0,59.0,60.0,61.0,62.0,63.0,64.0,65.0,66.0,67.0,68.0,69.0,70.0,71.0,72.0,73.0,74.0],\"y\":[500.0,500.0,500.0,500.0,500.0,500.0,500.0,500.0,500.0,500.0,500.0,500.0,500.0,500.0,500.0,500.0,500.0,500.0,500.0,500.0,497.0,491.0,482.0,469.0,458.0,445.0,433.0,419.0,405.0,387.0,373.0,359.0,338.0,319.0,301.0,279.0,254.0,229.0,203.0,177.0,149.0,119.0,86.0,54.0,14.0,0.0,0.0,0.0,0.0,0.0,0.0,0.0,0.0,0.0,0.0,0.0,0.0,0.0,0.0,0.0,0.0,0.0,0.0,0.0,0.0,0.0,0.0,0.0,0.0,0.0,0.0,0.0,0.0,0.0,0.0],\"type\":\"scatter\",\"xaxis\":\"x2\",\"yaxis\":\"y2\"},{\"mode\":\"lines\",\"name\":\"Avg. Quality #in\",\"x\":[0.0,1.0,2.0,3.0,4.0,5.0,6.0,7.0,8.0,9.0,10.0,11.0,12.0,13.0,14.0,15.0,16.0,17.0,18.0,19.0,20.0,21.0,22.0,23.0,24.0,25.0,26.0,27.0,28.0,29.0,30.0,31.0,32.0,33.0,34.0,35.0,36.0,37.0,38.0,39.0,40.0,41.0,42.0,43.0,44.0,45.0,46.0,47.0,48.0,49.0,50.0,51.0,52.0,53.0,54.0,55.0,56.0,57.0,58.0,59.0,60.0,61.0,62.0,63.0,64.0,65.0,66.0,67.0,68.0,69.0,70.0,71.0,72.0,73.0,74.0],\"y\":[0.943,0.943,0.943,0.943,0.943,0.943,0.93,0.93,0.93,0.888,0.888,0.888,0.858,0.858,0.858,0.765,0.765,0.765,0.753,0.73,0.73,0.73,0.71,0.701,0.706,0.691,0.691,0.689,0.696,0.694,0.7,0.684,0.658,0.663,0.655,0.637,0.643,0.634,0.639,0.631,0.628,0.63,0.62,0.609,0.606,0.602,0.603,0.599,0.591,0.588,0.588,0.588,0.588,0.588,0.588,0.588,0.588,0.588,0.588,0.588,0.588,0.588,0.588,0.588,0.588,0.588,0.588,0.588,0.588,0.588,0.588,0.588,0.588,0.588,0.588],\"type\":\"scatter\",\"xaxis\":\"x4\",\"yaxis\":\"y4\"},{\"mode\":\"lines\",\"name\":\"Avg. Quality #total\",\"x\":[0.0,1.0,2.0,3.0,4.0,5.0,6.0,7.0,8.0,9.0,10.0,11.0,12.0,13.0,14.0,15.0,16.0,17.0,18.0,19.0,20.0,21.0,22.0,23.0,24.0,25.0,26.0,27.0,28.0,29.0,30.0,31.0,32.0,33.0,34.0,35.0,36.0,37.0,38.0,39.0,40.0,41.0,42.0,43.0,44.0,45.0,46.0,47.0,48.0,49.0,50.0,51.0,52.0,53.0,54.0,55.0,56.0,57.0,58.0,59.0,60.0,61.0,62.0,63.0,64.0,65.0,66.0,67.0,68.0,69.0,70.0,71.0,72.0,73.0,74.0],\"y\":[0.943,0.943,0.943,0.943,0.943,0.943,0.93,0.93,0.93,0.888,0.888,0.888,0.858,0.858,0.858,0.765,0.765,0.765,0.753,0.745,0.745,0.745,0.723,0.712,0.716,0.71,0.709,0.706,0.712,0.71,0.715,0.704,0.686,0.69,0.685,0.676,0.679,0.672,0.679,0.673,0.673,0.672,0.665,0.66,0.657,0.656,0.654,0.653,0.649,0.645,0.645,0.645,0.645,0.645,0.645,0.645,0.645,0.645,0.645,0.645,0.645,0.645,0.645,0.645,0.645,0.645,0.645,0.645,0.645,0.645,0.645,0.645,0.645,0.645,0.645],\"type\":\"scatter\",\"xaxis\":\"x4\",\"yaxis\":\"y4\"}],                        {\"template\":{\"data\":{\"histogram2dcontour\":[{\"type\":\"histogram2dcontour\",\"colorbar\":{\"outlinewidth\":0,\"ticks\":\"\"},\"colorscale\":[[0.0,\"#0d0887\"],[0.1111111111111111,\"#46039f\"],[0.2222222222222222,\"#7201a8\"],[0.3333333333333333,\"#9c179e\"],[0.4444444444444444,\"#bd3786\"],[0.5555555555555556,\"#d8576b\"],[0.6666666666666666,\"#ed7953\"],[0.7777777777777778,\"#fb9f3a\"],[0.8888888888888888,\"#fdca26\"],[1.0,\"#f0f921\"]]}],\"choropleth\":[{\"type\":\"choropleth\",\"colorbar\":{\"outlinewidth\":0,\"ticks\":\"\"}}],\"histogram2d\":[{\"type\":\"histogram2d\",\"colorbar\":{\"outlinewidth\":0,\"ticks\":\"\"},\"colorscale\":[[0.0,\"#0d0887\"],[0.1111111111111111,\"#46039f\"],[0.2222222222222222,\"#7201a8\"],[0.3333333333333333,\"#9c179e\"],[0.4444444444444444,\"#bd3786\"],[0.5555555555555556,\"#d8576b\"],[0.6666666666666666,\"#ed7953\"],[0.7777777777777778,\"#fb9f3a\"],[0.8888888888888888,\"#fdca26\"],[1.0,\"#f0f921\"]]}],\"heatmap\":[{\"type\":\"heatmap\",\"colorbar\":{\"outlinewidth\":0,\"ticks\":\"\"},\"colorscale\":[[0.0,\"#0d0887\"],[0.1111111111111111,\"#46039f\"],[0.2222222222222222,\"#7201a8\"],[0.3333333333333333,\"#9c179e\"],[0.4444444444444444,\"#bd3786\"],[0.5555555555555556,\"#d8576b\"],[0.6666666666666666,\"#ed7953\"],[0.7777777777777778,\"#fb9f3a\"],[0.8888888888888888,\"#fdca26\"],[1.0,\"#f0f921\"]]}],\"heatmapgl\":[{\"type\":\"heatmapgl\",\"colorbar\":{\"outlinewidth\":0,\"ticks\":\"\"},\"colorscale\":[[0.0,\"#0d0887\"],[0.1111111111111111,\"#46039f\"],[0.2222222222222222,\"#7201a8\"],[0.3333333333333333,\"#9c179e\"],[0.4444444444444444,\"#bd3786\"],[0.5555555555555556,\"#d8576b\"],[0.6666666666666666,\"#ed7953\"],[0.7777777777777778,\"#fb9f3a\"],[0.8888888888888888,\"#fdca26\"],[1.0,\"#f0f921\"]]}],\"contourcarpet\":[{\"type\":\"contourcarpet\",\"colorbar\":{\"outlinewidth\":0,\"ticks\":\"\"}}],\"contour\":[{\"type\":\"contour\",\"colorbar\":{\"outlinewidth\":0,\"ticks\":\"\"},\"colorscale\":[[0.0,\"#0d0887\"],[0.1111111111111111,\"#46039f\"],[0.2222222222222222,\"#7201a8\"],[0.3333333333333333,\"#9c179e\"],[0.4444444444444444,\"#bd3786\"],[0.5555555555555556,\"#d8576b\"],[0.6666666666666666,\"#ed7953\"],[0.7777777777777778,\"#fb9f3a\"],[0.8888888888888888,\"#fdca26\"],[1.0,\"#f0f921\"]]}],\"surface\":[{\"type\":\"surface\",\"colorbar\":{\"outlinewidth\":0,\"ticks\":\"\"},\"colorscale\":[[0.0,\"#0d0887\"],[0.1111111111111111,\"#46039f\"],[0.2222222222222222,\"#7201a8\"],[0.3333333333333333,\"#9c179e\"],[0.4444444444444444,\"#bd3786\"],[0.5555555555555556,\"#d8576b\"],[0.6666666666666666,\"#ed7953\"],[0.7777777777777778,\"#fb9f3a\"],[0.8888888888888888,\"#fdca26\"],[1.0,\"#f0f921\"]]}],\"mesh3d\":[{\"type\":\"mesh3d\",\"colorbar\":{\"outlinewidth\":0,\"ticks\":\"\"}}],\"scatter\":[{\"fillpattern\":{\"fillmode\":\"overlay\",\"size\":10,\"solidity\":0.2},\"type\":\"scatter\"}],\"parcoords\":[{\"type\":\"parcoords\",\"line\":{\"colorbar\":{\"outlinewidth\":0,\"ticks\":\"\"}}}],\"scatterpolargl\":[{\"type\":\"scatterpolargl\",\"marker\":{\"colorbar\":{\"outlinewidth\":0,\"ticks\":\"\"}}}],\"bar\":[{\"error_x\":{\"color\":\"#2a3f5f\"},\"error_y\":{\"color\":\"#2a3f5f\"},\"marker\":{\"line\":{\"color\":\"#E5ECF6\",\"width\":0.5},\"pattern\":{\"fillmode\":\"overlay\",\"size\":10,\"solidity\":0.2}},\"type\":\"bar\"}],\"scattergeo\":[{\"type\":\"scattergeo\",\"marker\":{\"colorbar\":{\"outlinewidth\":0,\"ticks\":\"\"}}}],\"scatterpolar\":[{\"type\":\"scatterpolar\",\"marker\":{\"colorbar\":{\"outlinewidth\":0,\"ticks\":\"\"}}}],\"histogram\":[{\"marker\":{\"pattern\":{\"fillmode\":\"overlay\",\"size\":10,\"solidity\":0.2}},\"type\":\"histogram\"}],\"scattergl\":[{\"type\":\"scattergl\",\"marker\":{\"colorbar\":{\"outlinewidth\":0,\"ticks\":\"\"}}}],\"scatter3d\":[{\"type\":\"scatter3d\",\"line\":{\"colorbar\":{\"outlinewidth\":0,\"ticks\":\"\"}},\"marker\":{\"colorbar\":{\"outlinewidth\":0,\"ticks\":\"\"}}}],\"scattermapbox\":[{\"type\":\"scattermapbox\",\"marker\":{\"colorbar\":{\"outlinewidth\":0,\"ticks\":\"\"}}}],\"scatterternary\":[{\"type\":\"scatterternary\",\"marker\":{\"colorbar\":{\"outlinewidth\":0,\"ticks\":\"\"}}}],\"scattercarpet\":[{\"type\":\"scattercarpet\",\"marker\":{\"colorbar\":{\"outlinewidth\":0,\"ticks\":\"\"}}}],\"carpet\":[{\"aaxis\":{\"endlinecolor\":\"#2a3f5f\",\"gridcolor\":\"white\",\"linecolor\":\"white\",\"minorgridcolor\":\"white\",\"startlinecolor\":\"#2a3f5f\"},\"baxis\":{\"endlinecolor\":\"#2a3f5f\",\"gridcolor\":\"white\",\"linecolor\":\"white\",\"minorgridcolor\":\"white\",\"startlinecolor\":\"#2a3f5f\"},\"type\":\"carpet\"}],\"table\":[{\"cells\":{\"fill\":{\"color\":\"#EBF0F8\"},\"line\":{\"color\":\"white\"}},\"header\":{\"fill\":{\"color\":\"#C8D4E3\"},\"line\":{\"color\":\"white\"}},\"type\":\"table\"}],\"barpolar\":[{\"marker\":{\"line\":{\"color\":\"#E5ECF6\",\"width\":0.5},\"pattern\":{\"fillmode\":\"overlay\",\"size\":10,\"solidity\":0.2}},\"type\":\"barpolar\"}],\"pie\":[{\"automargin\":true,\"type\":\"pie\"}]},\"layout\":{\"autotypenumbers\":\"strict\",\"colorway\":[\"#636efa\",\"#EF553B\",\"#00cc96\",\"#ab63fa\",\"#FFA15A\",\"#19d3f3\",\"#FF6692\",\"#B6E880\",\"#FF97FF\",\"#FECB52\"],\"font\":{\"color\":\"#2a3f5f\"},\"hovermode\":\"closest\",\"hoverlabel\":{\"align\":\"left\"},\"paper_bgcolor\":\"white\",\"plot_bgcolor\":\"#E5ECF6\",\"polar\":{\"bgcolor\":\"#E5ECF6\",\"angularaxis\":{\"gridcolor\":\"white\",\"linecolor\":\"white\",\"ticks\":\"\"},\"radialaxis\":{\"gridcolor\":\"white\",\"linecolor\":\"white\",\"ticks\":\"\"}},\"ternary\":{\"bgcolor\":\"#E5ECF6\",\"aaxis\":{\"gridcolor\":\"white\",\"linecolor\":\"white\",\"ticks\":\"\"},\"baxis\":{\"gridcolor\":\"white\",\"linecolor\":\"white\",\"ticks\":\"\"},\"caxis\":{\"gridcolor\":\"white\",\"linecolor\":\"white\",\"ticks\":\"\"}},\"coloraxis\":{\"colorbar\":{\"outlinewidth\":0,\"ticks\":\"\"}},\"colorscale\":{\"sequential\":[[0.0,\"#0d0887\"],[0.1111111111111111,\"#46039f\"],[0.2222222222222222,\"#7201a8\"],[0.3333333333333333,\"#9c179e\"],[0.4444444444444444,\"#bd3786\"],[0.5555555555555556,\"#d8576b\"],[0.6666666666666666,\"#ed7953\"],[0.7777777777777778,\"#fb9f3a\"],[0.8888888888888888,\"#fdca26\"],[1.0,\"#f0f921\"]],\"sequentialminus\":[[0.0,\"#0d0887\"],[0.1111111111111111,\"#46039f\"],[0.2222222222222222,\"#7201a8\"],[0.3333333333333333,\"#9c179e\"],[0.4444444444444444,\"#bd3786\"],[0.5555555555555556,\"#d8576b\"],[0.6666666666666666,\"#ed7953\"],[0.7777777777777778,\"#fb9f3a\"],[0.8888888888888888,\"#fdca26\"],[1.0,\"#f0f921\"]],\"diverging\":[[0,\"#8e0152\"],[0.1,\"#c51b7d\"],[0.2,\"#de77ae\"],[0.3,\"#f1b6da\"],[0.4,\"#fde0ef\"],[0.5,\"#f7f7f7\"],[0.6,\"#e6f5d0\"],[0.7,\"#b8e186\"],[0.8,\"#7fbc41\"],[0.9,\"#4d9221\"],[1,\"#276419\"]]},\"xaxis\":{\"gridcolor\":\"white\",\"linecolor\":\"white\",\"ticks\":\"\",\"title\":{\"standoff\":15},\"zerolinecolor\":\"white\",\"automargin\":true,\"zerolinewidth\":2},\"yaxis\":{\"gridcolor\":\"white\",\"linecolor\":\"white\",\"ticks\":\"\",\"title\":{\"standoff\":15},\"zerolinecolor\":\"white\",\"automargin\":true,\"zerolinewidth\":2},\"scene\":{\"xaxis\":{\"backgroundcolor\":\"#E5ECF6\",\"gridcolor\":\"white\",\"linecolor\":\"white\",\"showbackground\":true,\"ticks\":\"\",\"zerolinecolor\":\"white\",\"gridwidth\":2},\"yaxis\":{\"backgroundcolor\":\"#E5ECF6\",\"gridcolor\":\"white\",\"linecolor\":\"white\",\"showbackground\":true,\"ticks\":\"\",\"zerolinecolor\":\"white\",\"gridwidth\":2},\"zaxis\":{\"backgroundcolor\":\"#E5ECF6\",\"gridcolor\":\"white\",\"linecolor\":\"white\",\"showbackground\":true,\"ticks\":\"\",\"zerolinecolor\":\"white\",\"gridwidth\":2}},\"shapedefaults\":{\"line\":{\"color\":\"#2a3f5f\"}},\"annotationdefaults\":{\"arrowcolor\":\"#2a3f5f\",\"arrowhead\":0,\"arrowwidth\":1},\"geo\":{\"bgcolor\":\"white\",\"landcolor\":\"#E5ECF6\",\"subunitcolor\":\"white\",\"showland\":true,\"showlakes\":true,\"lakecolor\":\"white\"},\"title\":{\"x\":0.05},\"mapbox\":{\"style\":\"light\"}}},\"xaxis\":{\"anchor\":\"y\",\"domain\":[0.0,0.45]},\"yaxis\":{\"anchor\":\"x\",\"domain\":[0.625,1.0]},\"xaxis2\":{\"anchor\":\"y2\",\"domain\":[0.55,1.0]},\"yaxis2\":{\"anchor\":\"x2\",\"domain\":[0.625,1.0]},\"xaxis3\":{\"anchor\":\"y3\",\"domain\":[0.0,0.45]},\"yaxis3\":{\"anchor\":\"x3\",\"domain\":[0.0,0.375]},\"xaxis4\":{\"anchor\":\"y4\",\"domain\":[0.55,1.0]},\"yaxis4\":{\"anchor\":\"x4\",\"domain\":[0.0,0.375]},\"annotations\":[{\"font\":{\"size\":16},\"showarrow\":false,\"text\":\"Types of Robots vs Time\",\"x\":0.225,\"xanchor\":\"center\",\"xref\":\"paper\",\"y\":1.0,\"yanchor\":\"bottom\",\"yref\":\"paper\"},{\"font\":{\"size\":16},\"showarrow\":false,\"text\":\"Resources vs Time\",\"x\":0.775,\"xanchor\":\"center\",\"xref\":\"paper\",\"y\":1.0,\"yanchor\":\"bottom\",\"yref\":\"paper\"},{\"font\":{\"size\":16},\"showarrow\":false,\"text\":\"Tasks of Robots vs Time\",\"x\":0.225,\"xanchor\":\"center\",\"xref\":\"paper\",\"y\":0.375,\"yanchor\":\"bottom\",\"yref\":\"paper\"},{\"font\":{\"size\":16},\"showarrow\":false,\"text\":\"Build Quality vs Time\",\"x\":0.775,\"xanchor\":\"center\",\"xref\":\"paper\",\"y\":0.375,\"yanchor\":\"bottom\",\"yref\":\"paper\"}],\"hovermode\":\"x\",\"title\":{\"text\":\"DHO - Characteristics\"}},                        {\"responsive\": true}                    ).then(function(){\n",
       "                            \n",
       "var gd = document.getElementById('f78da9a6-0991-41ca-8a91-b4af41361a5a');\n",
       "var x = new MutationObserver(function (mutations, observer) {{\n",
       "        var display = window.getComputedStyle(gd).display;\n",
       "        if (!display || display === 'none') {{\n",
       "            console.log([gd, 'removed!']);\n",
       "            Plotly.purge(gd);\n",
       "            observer.disconnect();\n",
       "        }}\n",
       "}});\n",
       "\n",
       "// Listen for the removal of the full notebook cells\n",
       "var notebookContainer = gd.closest('#notebook-container');\n",
       "if (notebookContainer) {{\n",
       "    x.observe(notebookContainer, {childList: true});\n",
       "}}\n",
       "\n",
       "// Listen for the clearing of the current output cell\n",
       "var outputEl = gd.closest('.output');\n",
       "if (outputEl) {{\n",
       "    x.observe(outputEl, {childList: true});\n",
       "}}\n",
       "\n",
       "                        })                };                });            </script>        </div>"
      ]
     },
     "metadata": {},
     "output_type": "display_data"
    },
    {
     "data": {
      "application/vnd.plotly.v1+json": {
       "config": {
        "plotlyServerURL": "https://plotly.com"
       },
       "data": [
        {
         "alignmentgroup": "True",
         "hovertemplate": "variable=#In<br>Time=%{x}<br>value=%{y}<extra></extra>",
         "legendgroup": "#In",
         "marker": {
          "color": "#636efa",
          "pattern": {
           "shape": ""
          }
         },
         "name": "#In",
         "offsetgroup": "#In",
         "orientation": "v",
         "showlegend": true,
         "textposition": "auto",
         "type": "bar",
         "x": [
          0,
          1,
          2,
          3,
          4,
          5,
          6,
          7,
          8,
          9,
          10,
          11,
          12,
          13,
          14,
          15,
          16,
          17,
          18,
          19,
          20,
          21,
          22,
          23,
          24,
          25,
          26,
          27,
          28,
          29,
          30,
          31,
          32,
          33,
          34,
          35,
          36,
          37,
          38,
          39,
          40,
          41,
          42,
          43,
          44,
          45,
          46,
          47,
          48,
          49,
          50,
          51,
          52,
          53,
          54,
          55,
          56,
          57,
          58,
          59,
          60,
          61,
          62,
          63,
          64,
          65,
          66,
          67,
          68,
          69,
          70,
          71,
          72,
          73,
          74
         ],
         "xaxis": "x",
         "y": [
          1,
          1,
          1,
          1,
          1,
          1,
          3,
          3,
          5,
          7,
          9,
          9,
          11,
          15,
          19,
          21,
          29,
          37,
          42,
          52,
          60,
          67,
          70,
          72,
          76,
          87,
          103,
          115,
          122,
          134,
          148,
          168,
          182,
          201,
          225,
          247,
          262,
          270,
          273,
          275,
          276,
          276,
          276,
          276,
          276,
          276,
          276,
          276,
          276,
          276,
          276,
          276,
          276,
          276,
          276,
          276,
          276,
          276,
          276,
          276,
          276,
          276,
          276,
          276,
          276,
          276,
          276,
          276,
          276,
          276,
          276,
          276,
          276,
          276,
          276
         ],
         "yaxis": "y"
        },
        {
         "alignmentgroup": "True",
         "hovertemplate": "variable=#Out<br>Time=%{x}<br>value=%{y}<extra></extra>",
         "legendgroup": "#Out",
         "marker": {
          "color": "#EF553B",
          "pattern": {
           "shape": ""
          }
         },
         "name": "#Out",
         "offsetgroup": "#Out",
         "orientation": "v",
         "showlegend": true,
         "textposition": "auto",
         "type": "bar",
         "x": [
          0,
          1,
          2,
          3,
          4,
          5,
          6,
          7,
          8,
          9,
          10,
          11,
          12,
          13,
          14,
          15,
          16,
          17,
          18,
          19,
          20,
          21,
          22,
          23,
          24,
          25,
          26,
          27,
          28,
          29,
          30,
          31,
          32,
          33,
          34,
          35,
          36,
          37,
          38,
          39,
          40,
          41,
          42,
          43,
          44,
          45,
          46,
          47,
          48,
          49,
          50,
          51,
          52,
          53,
          54,
          55,
          56,
          57,
          58,
          59,
          60,
          61,
          62,
          63,
          64,
          65,
          66,
          67,
          68,
          69,
          70,
          71,
          72,
          73,
          74
         ],
         "xaxis": "x",
         "y": [
          0,
          0,
          0,
          0,
          0,
          0,
          0,
          0,
          0,
          0,
          0,
          0,
          0,
          0,
          0,
          0,
          0,
          0,
          1,
          1,
          3,
          4,
          5,
          7,
          7,
          8,
          10,
          12,
          13,
          17,
          19,
          23,
          27,
          30,
          38,
          50,
          57,
          61,
          62,
          64,
          65,
          65,
          65,
          65,
          65,
          65,
          65,
          65,
          65,
          65,
          65,
          65,
          65,
          65,
          65,
          65,
          65,
          65,
          65,
          65,
          65,
          65,
          65,
          65,
          65,
          65,
          65,
          65,
          65,
          65,
          65,
          65,
          65,
          65,
          65
         ],
         "yaxis": "y"
        }
       ],
       "layout": {
        "barmode": "relative",
        "hovermode": "x",
        "legend": {
         "title": {
          "text": "variable"
         },
         "tracegroupgap": 0
        },
        "template": {
         "data": {
          "bar": [
           {
            "error_x": {
             "color": "#2a3f5f"
            },
            "error_y": {
             "color": "#2a3f5f"
            },
            "marker": {
             "line": {
              "color": "#E5ECF6",
              "width": 0.5
             },
             "pattern": {
              "fillmode": "overlay",
              "size": 10,
              "solidity": 0.2
             }
            },
            "type": "bar"
           }
          ],
          "barpolar": [
           {
            "marker": {
             "line": {
              "color": "#E5ECF6",
              "width": 0.5
             },
             "pattern": {
              "fillmode": "overlay",
              "size": 10,
              "solidity": 0.2
             }
            },
            "type": "barpolar"
           }
          ],
          "carpet": [
           {
            "aaxis": {
             "endlinecolor": "#2a3f5f",
             "gridcolor": "white",
             "linecolor": "white",
             "minorgridcolor": "white",
             "startlinecolor": "#2a3f5f"
            },
            "baxis": {
             "endlinecolor": "#2a3f5f",
             "gridcolor": "white",
             "linecolor": "white",
             "minorgridcolor": "white",
             "startlinecolor": "#2a3f5f"
            },
            "type": "carpet"
           }
          ],
          "choropleth": [
           {
            "colorbar": {
             "outlinewidth": 0,
             "ticks": ""
            },
            "type": "choropleth"
           }
          ],
          "contour": [
           {
            "colorbar": {
             "outlinewidth": 0,
             "ticks": ""
            },
            "colorscale": [
             [
              0,
              "#0d0887"
             ],
             [
              0.1111111111111111,
              "#46039f"
             ],
             [
              0.2222222222222222,
              "#7201a8"
             ],
             [
              0.3333333333333333,
              "#9c179e"
             ],
             [
              0.4444444444444444,
              "#bd3786"
             ],
             [
              0.5555555555555556,
              "#d8576b"
             ],
             [
              0.6666666666666666,
              "#ed7953"
             ],
             [
              0.7777777777777778,
              "#fb9f3a"
             ],
             [
              0.8888888888888888,
              "#fdca26"
             ],
             [
              1,
              "#f0f921"
             ]
            ],
            "type": "contour"
           }
          ],
          "contourcarpet": [
           {
            "colorbar": {
             "outlinewidth": 0,
             "ticks": ""
            },
            "type": "contourcarpet"
           }
          ],
          "heatmap": [
           {
            "colorbar": {
             "outlinewidth": 0,
             "ticks": ""
            },
            "colorscale": [
             [
              0,
              "#0d0887"
             ],
             [
              0.1111111111111111,
              "#46039f"
             ],
             [
              0.2222222222222222,
              "#7201a8"
             ],
             [
              0.3333333333333333,
              "#9c179e"
             ],
             [
              0.4444444444444444,
              "#bd3786"
             ],
             [
              0.5555555555555556,
              "#d8576b"
             ],
             [
              0.6666666666666666,
              "#ed7953"
             ],
             [
              0.7777777777777778,
              "#fb9f3a"
             ],
             [
              0.8888888888888888,
              "#fdca26"
             ],
             [
              1,
              "#f0f921"
             ]
            ],
            "type": "heatmap"
           }
          ],
          "heatmapgl": [
           {
            "colorbar": {
             "outlinewidth": 0,
             "ticks": ""
            },
            "colorscale": [
             [
              0,
              "#0d0887"
             ],
             [
              0.1111111111111111,
              "#46039f"
             ],
             [
              0.2222222222222222,
              "#7201a8"
             ],
             [
              0.3333333333333333,
              "#9c179e"
             ],
             [
              0.4444444444444444,
              "#bd3786"
             ],
             [
              0.5555555555555556,
              "#d8576b"
             ],
             [
              0.6666666666666666,
              "#ed7953"
             ],
             [
              0.7777777777777778,
              "#fb9f3a"
             ],
             [
              0.8888888888888888,
              "#fdca26"
             ],
             [
              1,
              "#f0f921"
             ]
            ],
            "type": "heatmapgl"
           }
          ],
          "histogram": [
           {
            "marker": {
             "pattern": {
              "fillmode": "overlay",
              "size": 10,
              "solidity": 0.2
             }
            },
            "type": "histogram"
           }
          ],
          "histogram2d": [
           {
            "colorbar": {
             "outlinewidth": 0,
             "ticks": ""
            },
            "colorscale": [
             [
              0,
              "#0d0887"
             ],
             [
              0.1111111111111111,
              "#46039f"
             ],
             [
              0.2222222222222222,
              "#7201a8"
             ],
             [
              0.3333333333333333,
              "#9c179e"
             ],
             [
              0.4444444444444444,
              "#bd3786"
             ],
             [
              0.5555555555555556,
              "#d8576b"
             ],
             [
              0.6666666666666666,
              "#ed7953"
             ],
             [
              0.7777777777777778,
              "#fb9f3a"
             ],
             [
              0.8888888888888888,
              "#fdca26"
             ],
             [
              1,
              "#f0f921"
             ]
            ],
            "type": "histogram2d"
           }
          ],
          "histogram2dcontour": [
           {
            "colorbar": {
             "outlinewidth": 0,
             "ticks": ""
            },
            "colorscale": [
             [
              0,
              "#0d0887"
             ],
             [
              0.1111111111111111,
              "#46039f"
             ],
             [
              0.2222222222222222,
              "#7201a8"
             ],
             [
              0.3333333333333333,
              "#9c179e"
             ],
             [
              0.4444444444444444,
              "#bd3786"
             ],
             [
              0.5555555555555556,
              "#d8576b"
             ],
             [
              0.6666666666666666,
              "#ed7953"
             ],
             [
              0.7777777777777778,
              "#fb9f3a"
             ],
             [
              0.8888888888888888,
              "#fdca26"
             ],
             [
              1,
              "#f0f921"
             ]
            ],
            "type": "histogram2dcontour"
           }
          ],
          "mesh3d": [
           {
            "colorbar": {
             "outlinewidth": 0,
             "ticks": ""
            },
            "type": "mesh3d"
           }
          ],
          "parcoords": [
           {
            "line": {
             "colorbar": {
              "outlinewidth": 0,
              "ticks": ""
             }
            },
            "type": "parcoords"
           }
          ],
          "pie": [
           {
            "automargin": true,
            "type": "pie"
           }
          ],
          "scatter": [
           {
            "fillpattern": {
             "fillmode": "overlay",
             "size": 10,
             "solidity": 0.2
            },
            "type": "scatter"
           }
          ],
          "scatter3d": [
           {
            "line": {
             "colorbar": {
              "outlinewidth": 0,
              "ticks": ""
             }
            },
            "marker": {
             "colorbar": {
              "outlinewidth": 0,
              "ticks": ""
             }
            },
            "type": "scatter3d"
           }
          ],
          "scattercarpet": [
           {
            "marker": {
             "colorbar": {
              "outlinewidth": 0,
              "ticks": ""
             }
            },
            "type": "scattercarpet"
           }
          ],
          "scattergeo": [
           {
            "marker": {
             "colorbar": {
              "outlinewidth": 0,
              "ticks": ""
             }
            },
            "type": "scattergeo"
           }
          ],
          "scattergl": [
           {
            "marker": {
             "colorbar": {
              "outlinewidth": 0,
              "ticks": ""
             }
            },
            "type": "scattergl"
           }
          ],
          "scattermapbox": [
           {
            "marker": {
             "colorbar": {
              "outlinewidth": 0,
              "ticks": ""
             }
            },
            "type": "scattermapbox"
           }
          ],
          "scatterpolar": [
           {
            "marker": {
             "colorbar": {
              "outlinewidth": 0,
              "ticks": ""
             }
            },
            "type": "scatterpolar"
           }
          ],
          "scatterpolargl": [
           {
            "marker": {
             "colorbar": {
              "outlinewidth": 0,
              "ticks": ""
             }
            },
            "type": "scatterpolargl"
           }
          ],
          "scatterternary": [
           {
            "marker": {
             "colorbar": {
              "outlinewidth": 0,
              "ticks": ""
             }
            },
            "type": "scatterternary"
           }
          ],
          "surface": [
           {
            "colorbar": {
             "outlinewidth": 0,
             "ticks": ""
            },
            "colorscale": [
             [
              0,
              "#0d0887"
             ],
             [
              0.1111111111111111,
              "#46039f"
             ],
             [
              0.2222222222222222,
              "#7201a8"
             ],
             [
              0.3333333333333333,
              "#9c179e"
             ],
             [
              0.4444444444444444,
              "#bd3786"
             ],
             [
              0.5555555555555556,
              "#d8576b"
             ],
             [
              0.6666666666666666,
              "#ed7953"
             ],
             [
              0.7777777777777778,
              "#fb9f3a"
             ],
             [
              0.8888888888888888,
              "#fdca26"
             ],
             [
              1,
              "#f0f921"
             ]
            ],
            "type": "surface"
           }
          ],
          "table": [
           {
            "cells": {
             "fill": {
              "color": "#EBF0F8"
             },
             "line": {
              "color": "white"
             }
            },
            "header": {
             "fill": {
              "color": "#C8D4E3"
             },
             "line": {
              "color": "white"
             }
            },
            "type": "table"
           }
          ]
         },
         "layout": {
          "annotationdefaults": {
           "arrowcolor": "#2a3f5f",
           "arrowhead": 0,
           "arrowwidth": 1
          },
          "autotypenumbers": "strict",
          "coloraxis": {
           "colorbar": {
            "outlinewidth": 0,
            "ticks": ""
           }
          },
          "colorscale": {
           "diverging": [
            [
             0,
             "#8e0152"
            ],
            [
             0.1,
             "#c51b7d"
            ],
            [
             0.2,
             "#de77ae"
            ],
            [
             0.3,
             "#f1b6da"
            ],
            [
             0.4,
             "#fde0ef"
            ],
            [
             0.5,
             "#f7f7f7"
            ],
            [
             0.6,
             "#e6f5d0"
            ],
            [
             0.7,
             "#b8e186"
            ],
            [
             0.8,
             "#7fbc41"
            ],
            [
             0.9,
             "#4d9221"
            ],
            [
             1,
             "#276419"
            ]
           ],
           "sequential": [
            [
             0,
             "#0d0887"
            ],
            [
             0.1111111111111111,
             "#46039f"
            ],
            [
             0.2222222222222222,
             "#7201a8"
            ],
            [
             0.3333333333333333,
             "#9c179e"
            ],
            [
             0.4444444444444444,
             "#bd3786"
            ],
            [
             0.5555555555555556,
             "#d8576b"
            ],
            [
             0.6666666666666666,
             "#ed7953"
            ],
            [
             0.7777777777777778,
             "#fb9f3a"
            ],
            [
             0.8888888888888888,
             "#fdca26"
            ],
            [
             1,
             "#f0f921"
            ]
           ],
           "sequentialminus": [
            [
             0,
             "#0d0887"
            ],
            [
             0.1111111111111111,
             "#46039f"
            ],
            [
             0.2222222222222222,
             "#7201a8"
            ],
            [
             0.3333333333333333,
             "#9c179e"
            ],
            [
             0.4444444444444444,
             "#bd3786"
            ],
            [
             0.5555555555555556,
             "#d8576b"
            ],
            [
             0.6666666666666666,
             "#ed7953"
            ],
            [
             0.7777777777777778,
             "#fb9f3a"
            ],
            [
             0.8888888888888888,
             "#fdca26"
            ],
            [
             1,
             "#f0f921"
            ]
           ]
          },
          "colorway": [
           "#636efa",
           "#EF553B",
           "#00cc96",
           "#ab63fa",
           "#FFA15A",
           "#19d3f3",
           "#FF6692",
           "#B6E880",
           "#FF97FF",
           "#FECB52"
          ],
          "font": {
           "color": "#2a3f5f"
          },
          "geo": {
           "bgcolor": "white",
           "lakecolor": "white",
           "landcolor": "#E5ECF6",
           "showlakes": true,
           "showland": true,
           "subunitcolor": "white"
          },
          "hoverlabel": {
           "align": "left"
          },
          "hovermode": "closest",
          "mapbox": {
           "style": "light"
          },
          "paper_bgcolor": "white",
          "plot_bgcolor": "#E5ECF6",
          "polar": {
           "angularaxis": {
            "gridcolor": "white",
            "linecolor": "white",
            "ticks": ""
           },
           "bgcolor": "#E5ECF6",
           "radialaxis": {
            "gridcolor": "white",
            "linecolor": "white",
            "ticks": ""
           }
          },
          "scene": {
           "xaxis": {
            "backgroundcolor": "#E5ECF6",
            "gridcolor": "white",
            "gridwidth": 2,
            "linecolor": "white",
            "showbackground": true,
            "ticks": "",
            "zerolinecolor": "white"
           },
           "yaxis": {
            "backgroundcolor": "#E5ECF6",
            "gridcolor": "white",
            "gridwidth": 2,
            "linecolor": "white",
            "showbackground": true,
            "ticks": "",
            "zerolinecolor": "white"
           },
           "zaxis": {
            "backgroundcolor": "#E5ECF6",
            "gridcolor": "white",
            "gridwidth": 2,
            "linecolor": "white",
            "showbackground": true,
            "ticks": "",
            "zerolinecolor": "white"
           }
          },
          "shapedefaults": {
           "line": {
            "color": "#2a3f5f"
           }
          },
          "ternary": {
           "aaxis": {
            "gridcolor": "white",
            "linecolor": "white",
            "ticks": ""
           },
           "baxis": {
            "gridcolor": "white",
            "linecolor": "white",
            "ticks": ""
           },
           "bgcolor": "#E5ECF6",
           "caxis": {
            "gridcolor": "white",
            "linecolor": "white",
            "ticks": ""
           }
          },
          "title": {
           "x": 0.05
          },
          "xaxis": {
           "automargin": true,
           "gridcolor": "white",
           "linecolor": "white",
           "ticks": "",
           "title": {
            "standoff": 15
           },
           "zerolinecolor": "white",
           "zerolinewidth": 2
          },
          "yaxis": {
           "automargin": true,
           "gridcolor": "white",
           "linecolor": "white",
           "ticks": "",
           "title": {
            "standoff": 15
           },
           "zerolinecolor": "white",
           "zerolinewidth": 2
          }
         }
        },
        "title": {
         "text": "HHO - Habitat over Time"
        },
        "xaxis": {
         "anchor": "y",
         "domain": [
          0,
          1
         ],
         "title": {
          "text": "Time"
         }
        },
        "yaxis": {
         "anchor": "x",
         "domain": [
          0,
          1
         ],
         "title": {
          "text": "#Robots"
         }
        }
       }
      },
      "text/html": [
       "<div>                            <div id=\"07beca76-e2af-46c1-944f-fda9b6b8f497\" class=\"plotly-graph-div\" style=\"height:525px; width:100%;\"></div>            <script type=\"text/javascript\">                require([\"plotly\"], function(Plotly) {                    window.PLOTLYENV=window.PLOTLYENV || {};                                    if (document.getElementById(\"07beca76-e2af-46c1-944f-fda9b6b8f497\")) {                    Plotly.newPlot(                        \"07beca76-e2af-46c1-944f-fda9b6b8f497\",                        [{\"alignmentgroup\":\"True\",\"hovertemplate\":\"variable=#In<br>Time=%{x}<br>value=%{y}<extra></extra>\",\"legendgroup\":\"#In\",\"marker\":{\"color\":\"#636efa\",\"pattern\":{\"shape\":\"\"}},\"name\":\"#In\",\"offsetgroup\":\"#In\",\"orientation\":\"v\",\"showlegend\":true,\"textposition\":\"auto\",\"x\":[0.0,1.0,2.0,3.0,4.0,5.0,6.0,7.0,8.0,9.0,10.0,11.0,12.0,13.0,14.0,15.0,16.0,17.0,18.0,19.0,20.0,21.0,22.0,23.0,24.0,25.0,26.0,27.0,28.0,29.0,30.0,31.0,32.0,33.0,34.0,35.0,36.0,37.0,38.0,39.0,40.0,41.0,42.0,43.0,44.0,45.0,46.0,47.0,48.0,49.0,50.0,51.0,52.0,53.0,54.0,55.0,56.0,57.0,58.0,59.0,60.0,61.0,62.0,63.0,64.0,65.0,66.0,67.0,68.0,69.0,70.0,71.0,72.0,73.0,74.0],\"xaxis\":\"x\",\"y\":[1.0,1.0,1.0,1.0,1.0,1.0,3.0,3.0,5.0,7.0,9.0,9.0,11.0,15.0,19.0,21.0,29.0,37.0,42.0,52.0,60.0,67.0,70.0,72.0,76.0,87.0,103.0,115.0,122.0,134.0,148.0,168.0,182.0,201.0,225.0,247.0,262.0,270.0,273.0,275.0,276.0,276.0,276.0,276.0,276.0,276.0,276.0,276.0,276.0,276.0,276.0,276.0,276.0,276.0,276.0,276.0,276.0,276.0,276.0,276.0,276.0,276.0,276.0,276.0,276.0,276.0,276.0,276.0,276.0,276.0,276.0,276.0,276.0,276.0,276.0],\"yaxis\":\"y\",\"type\":\"bar\"},{\"alignmentgroup\":\"True\",\"hovertemplate\":\"variable=#Out<br>Time=%{x}<br>value=%{y}<extra></extra>\",\"legendgroup\":\"#Out\",\"marker\":{\"color\":\"#EF553B\",\"pattern\":{\"shape\":\"\"}},\"name\":\"#Out\",\"offsetgroup\":\"#Out\",\"orientation\":\"v\",\"showlegend\":true,\"textposition\":\"auto\",\"x\":[0.0,1.0,2.0,3.0,4.0,5.0,6.0,7.0,8.0,9.0,10.0,11.0,12.0,13.0,14.0,15.0,16.0,17.0,18.0,19.0,20.0,21.0,22.0,23.0,24.0,25.0,26.0,27.0,28.0,29.0,30.0,31.0,32.0,33.0,34.0,35.0,36.0,37.0,38.0,39.0,40.0,41.0,42.0,43.0,44.0,45.0,46.0,47.0,48.0,49.0,50.0,51.0,52.0,53.0,54.0,55.0,56.0,57.0,58.0,59.0,60.0,61.0,62.0,63.0,64.0,65.0,66.0,67.0,68.0,69.0,70.0,71.0,72.0,73.0,74.0],\"xaxis\":\"x\",\"y\":[0.0,0.0,0.0,0.0,0.0,0.0,0.0,0.0,0.0,0.0,0.0,0.0,0.0,0.0,0.0,0.0,0.0,0.0,1.0,1.0,3.0,4.0,5.0,7.0,7.0,8.0,10.0,12.0,13.0,17.0,19.0,23.0,27.0,30.0,38.0,50.0,57.0,61.0,62.0,64.0,65.0,65.0,65.0,65.0,65.0,65.0,65.0,65.0,65.0,65.0,65.0,65.0,65.0,65.0,65.0,65.0,65.0,65.0,65.0,65.0,65.0,65.0,65.0,65.0,65.0,65.0,65.0,65.0,65.0,65.0,65.0,65.0,65.0,65.0,65.0],\"yaxis\":\"y\",\"type\":\"bar\"}],                        {\"template\":{\"data\":{\"histogram2dcontour\":[{\"type\":\"histogram2dcontour\",\"colorbar\":{\"outlinewidth\":0,\"ticks\":\"\"},\"colorscale\":[[0.0,\"#0d0887\"],[0.1111111111111111,\"#46039f\"],[0.2222222222222222,\"#7201a8\"],[0.3333333333333333,\"#9c179e\"],[0.4444444444444444,\"#bd3786\"],[0.5555555555555556,\"#d8576b\"],[0.6666666666666666,\"#ed7953\"],[0.7777777777777778,\"#fb9f3a\"],[0.8888888888888888,\"#fdca26\"],[1.0,\"#f0f921\"]]}],\"choropleth\":[{\"type\":\"choropleth\",\"colorbar\":{\"outlinewidth\":0,\"ticks\":\"\"}}],\"histogram2d\":[{\"type\":\"histogram2d\",\"colorbar\":{\"outlinewidth\":0,\"ticks\":\"\"},\"colorscale\":[[0.0,\"#0d0887\"],[0.1111111111111111,\"#46039f\"],[0.2222222222222222,\"#7201a8\"],[0.3333333333333333,\"#9c179e\"],[0.4444444444444444,\"#bd3786\"],[0.5555555555555556,\"#d8576b\"],[0.6666666666666666,\"#ed7953\"],[0.7777777777777778,\"#fb9f3a\"],[0.8888888888888888,\"#fdca26\"],[1.0,\"#f0f921\"]]}],\"heatmap\":[{\"type\":\"heatmap\",\"colorbar\":{\"outlinewidth\":0,\"ticks\":\"\"},\"colorscale\":[[0.0,\"#0d0887\"],[0.1111111111111111,\"#46039f\"],[0.2222222222222222,\"#7201a8\"],[0.3333333333333333,\"#9c179e\"],[0.4444444444444444,\"#bd3786\"],[0.5555555555555556,\"#d8576b\"],[0.6666666666666666,\"#ed7953\"],[0.7777777777777778,\"#fb9f3a\"],[0.8888888888888888,\"#fdca26\"],[1.0,\"#f0f921\"]]}],\"heatmapgl\":[{\"type\":\"heatmapgl\",\"colorbar\":{\"outlinewidth\":0,\"ticks\":\"\"},\"colorscale\":[[0.0,\"#0d0887\"],[0.1111111111111111,\"#46039f\"],[0.2222222222222222,\"#7201a8\"],[0.3333333333333333,\"#9c179e\"],[0.4444444444444444,\"#bd3786\"],[0.5555555555555556,\"#d8576b\"],[0.6666666666666666,\"#ed7953\"],[0.7777777777777778,\"#fb9f3a\"],[0.8888888888888888,\"#fdca26\"],[1.0,\"#f0f921\"]]}],\"contourcarpet\":[{\"type\":\"contourcarpet\",\"colorbar\":{\"outlinewidth\":0,\"ticks\":\"\"}}],\"contour\":[{\"type\":\"contour\",\"colorbar\":{\"outlinewidth\":0,\"ticks\":\"\"},\"colorscale\":[[0.0,\"#0d0887\"],[0.1111111111111111,\"#46039f\"],[0.2222222222222222,\"#7201a8\"],[0.3333333333333333,\"#9c179e\"],[0.4444444444444444,\"#bd3786\"],[0.5555555555555556,\"#d8576b\"],[0.6666666666666666,\"#ed7953\"],[0.7777777777777778,\"#fb9f3a\"],[0.8888888888888888,\"#fdca26\"],[1.0,\"#f0f921\"]]}],\"surface\":[{\"type\":\"surface\",\"colorbar\":{\"outlinewidth\":0,\"ticks\":\"\"},\"colorscale\":[[0.0,\"#0d0887\"],[0.1111111111111111,\"#46039f\"],[0.2222222222222222,\"#7201a8\"],[0.3333333333333333,\"#9c179e\"],[0.4444444444444444,\"#bd3786\"],[0.5555555555555556,\"#d8576b\"],[0.6666666666666666,\"#ed7953\"],[0.7777777777777778,\"#fb9f3a\"],[0.8888888888888888,\"#fdca26\"],[1.0,\"#f0f921\"]]}],\"mesh3d\":[{\"type\":\"mesh3d\",\"colorbar\":{\"outlinewidth\":0,\"ticks\":\"\"}}],\"scatter\":[{\"fillpattern\":{\"fillmode\":\"overlay\",\"size\":10,\"solidity\":0.2},\"type\":\"scatter\"}],\"parcoords\":[{\"type\":\"parcoords\",\"line\":{\"colorbar\":{\"outlinewidth\":0,\"ticks\":\"\"}}}],\"scatterpolargl\":[{\"type\":\"scatterpolargl\",\"marker\":{\"colorbar\":{\"outlinewidth\":0,\"ticks\":\"\"}}}],\"bar\":[{\"error_x\":{\"color\":\"#2a3f5f\"},\"error_y\":{\"color\":\"#2a3f5f\"},\"marker\":{\"line\":{\"color\":\"#E5ECF6\",\"width\":0.5},\"pattern\":{\"fillmode\":\"overlay\",\"size\":10,\"solidity\":0.2}},\"type\":\"bar\"}],\"scattergeo\":[{\"type\":\"scattergeo\",\"marker\":{\"colorbar\":{\"outlinewidth\":0,\"ticks\":\"\"}}}],\"scatterpolar\":[{\"type\":\"scatterpolar\",\"marker\":{\"colorbar\":{\"outlinewidth\":0,\"ticks\":\"\"}}}],\"histogram\":[{\"marker\":{\"pattern\":{\"fillmode\":\"overlay\",\"size\":10,\"solidity\":0.2}},\"type\":\"histogram\"}],\"scattergl\":[{\"type\":\"scattergl\",\"marker\":{\"colorbar\":{\"outlinewidth\":0,\"ticks\":\"\"}}}],\"scatter3d\":[{\"type\":\"scatter3d\",\"line\":{\"colorbar\":{\"outlinewidth\":0,\"ticks\":\"\"}},\"marker\":{\"colorbar\":{\"outlinewidth\":0,\"ticks\":\"\"}}}],\"scattermapbox\":[{\"type\":\"scattermapbox\",\"marker\":{\"colorbar\":{\"outlinewidth\":0,\"ticks\":\"\"}}}],\"scatterternary\":[{\"type\":\"scatterternary\",\"marker\":{\"colorbar\":{\"outlinewidth\":0,\"ticks\":\"\"}}}],\"scattercarpet\":[{\"type\":\"scattercarpet\",\"marker\":{\"colorbar\":{\"outlinewidth\":0,\"ticks\":\"\"}}}],\"carpet\":[{\"aaxis\":{\"endlinecolor\":\"#2a3f5f\",\"gridcolor\":\"white\",\"linecolor\":\"white\",\"minorgridcolor\":\"white\",\"startlinecolor\":\"#2a3f5f\"},\"baxis\":{\"endlinecolor\":\"#2a3f5f\",\"gridcolor\":\"white\",\"linecolor\":\"white\",\"minorgridcolor\":\"white\",\"startlinecolor\":\"#2a3f5f\"},\"type\":\"carpet\"}],\"table\":[{\"cells\":{\"fill\":{\"color\":\"#EBF0F8\"},\"line\":{\"color\":\"white\"}},\"header\":{\"fill\":{\"color\":\"#C8D4E3\"},\"line\":{\"color\":\"white\"}},\"type\":\"table\"}],\"barpolar\":[{\"marker\":{\"line\":{\"color\":\"#E5ECF6\",\"width\":0.5},\"pattern\":{\"fillmode\":\"overlay\",\"size\":10,\"solidity\":0.2}},\"type\":\"barpolar\"}],\"pie\":[{\"automargin\":true,\"type\":\"pie\"}]},\"layout\":{\"autotypenumbers\":\"strict\",\"colorway\":[\"#636efa\",\"#EF553B\",\"#00cc96\",\"#ab63fa\",\"#FFA15A\",\"#19d3f3\",\"#FF6692\",\"#B6E880\",\"#FF97FF\",\"#FECB52\"],\"font\":{\"color\":\"#2a3f5f\"},\"hovermode\":\"closest\",\"hoverlabel\":{\"align\":\"left\"},\"paper_bgcolor\":\"white\",\"plot_bgcolor\":\"#E5ECF6\",\"polar\":{\"bgcolor\":\"#E5ECF6\",\"angularaxis\":{\"gridcolor\":\"white\",\"linecolor\":\"white\",\"ticks\":\"\"},\"radialaxis\":{\"gridcolor\":\"white\",\"linecolor\":\"white\",\"ticks\":\"\"}},\"ternary\":{\"bgcolor\":\"#E5ECF6\",\"aaxis\":{\"gridcolor\":\"white\",\"linecolor\":\"white\",\"ticks\":\"\"},\"baxis\":{\"gridcolor\":\"white\",\"linecolor\":\"white\",\"ticks\":\"\"},\"caxis\":{\"gridcolor\":\"white\",\"linecolor\":\"white\",\"ticks\":\"\"}},\"coloraxis\":{\"colorbar\":{\"outlinewidth\":0,\"ticks\":\"\"}},\"colorscale\":{\"sequential\":[[0.0,\"#0d0887\"],[0.1111111111111111,\"#46039f\"],[0.2222222222222222,\"#7201a8\"],[0.3333333333333333,\"#9c179e\"],[0.4444444444444444,\"#bd3786\"],[0.5555555555555556,\"#d8576b\"],[0.6666666666666666,\"#ed7953\"],[0.7777777777777778,\"#fb9f3a\"],[0.8888888888888888,\"#fdca26\"],[1.0,\"#f0f921\"]],\"sequentialminus\":[[0.0,\"#0d0887\"],[0.1111111111111111,\"#46039f\"],[0.2222222222222222,\"#7201a8\"],[0.3333333333333333,\"#9c179e\"],[0.4444444444444444,\"#bd3786\"],[0.5555555555555556,\"#d8576b\"],[0.6666666666666666,\"#ed7953\"],[0.7777777777777778,\"#fb9f3a\"],[0.8888888888888888,\"#fdca26\"],[1.0,\"#f0f921\"]],\"diverging\":[[0,\"#8e0152\"],[0.1,\"#c51b7d\"],[0.2,\"#de77ae\"],[0.3,\"#f1b6da\"],[0.4,\"#fde0ef\"],[0.5,\"#f7f7f7\"],[0.6,\"#e6f5d0\"],[0.7,\"#b8e186\"],[0.8,\"#7fbc41\"],[0.9,\"#4d9221\"],[1,\"#276419\"]]},\"xaxis\":{\"gridcolor\":\"white\",\"linecolor\":\"white\",\"ticks\":\"\",\"title\":{\"standoff\":15},\"zerolinecolor\":\"white\",\"automargin\":true,\"zerolinewidth\":2},\"yaxis\":{\"gridcolor\":\"white\",\"linecolor\":\"white\",\"ticks\":\"\",\"title\":{\"standoff\":15},\"zerolinecolor\":\"white\",\"automargin\":true,\"zerolinewidth\":2},\"scene\":{\"xaxis\":{\"backgroundcolor\":\"#E5ECF6\",\"gridcolor\":\"white\",\"linecolor\":\"white\",\"showbackground\":true,\"ticks\":\"\",\"zerolinecolor\":\"white\",\"gridwidth\":2},\"yaxis\":{\"backgroundcolor\":\"#E5ECF6\",\"gridcolor\":\"white\",\"linecolor\":\"white\",\"showbackground\":true,\"ticks\":\"\",\"zerolinecolor\":\"white\",\"gridwidth\":2},\"zaxis\":{\"backgroundcolor\":\"#E5ECF6\",\"gridcolor\":\"white\",\"linecolor\":\"white\",\"showbackground\":true,\"ticks\":\"\",\"zerolinecolor\":\"white\",\"gridwidth\":2}},\"shapedefaults\":{\"line\":{\"color\":\"#2a3f5f\"}},\"annotationdefaults\":{\"arrowcolor\":\"#2a3f5f\",\"arrowhead\":0,\"arrowwidth\":1},\"geo\":{\"bgcolor\":\"white\",\"landcolor\":\"#E5ECF6\",\"subunitcolor\":\"white\",\"showland\":true,\"showlakes\":true,\"lakecolor\":\"white\"},\"title\":{\"x\":0.05},\"mapbox\":{\"style\":\"light\"}}},\"xaxis\":{\"anchor\":\"y\",\"domain\":[0.0,1.0],\"title\":{\"text\":\"Time\"}},\"yaxis\":{\"anchor\":\"x\",\"domain\":[0.0,1.0],\"title\":{\"text\":\"#Robots\"}},\"legend\":{\"title\":{\"text\":\"variable\"},\"tracegroupgap\":0},\"title\":{\"text\":\"HHO - Habitat over Time\"},\"barmode\":\"relative\",\"hovermode\":\"x\"},                        {\"responsive\": true}                    ).then(function(){\n",
       "                            \n",
       "var gd = document.getElementById('07beca76-e2af-46c1-944f-fda9b6b8f497');\n",
       "var x = new MutationObserver(function (mutations, observer) {{\n",
       "        var display = window.getComputedStyle(gd).display;\n",
       "        if (!display || display === 'none') {{\n",
       "            console.log([gd, 'removed!']);\n",
       "            Plotly.purge(gd);\n",
       "            observer.disconnect();\n",
       "        }}\n",
       "}});\n",
       "\n",
       "// Listen for the removal of the full notebook cells\n",
       "var notebookContainer = gd.closest('#notebook-container');\n",
       "if (notebookContainer) {{\n",
       "    x.observe(notebookContainer, {childList: true});\n",
       "}}\n",
       "\n",
       "// Listen for the clearing of the current output cell\n",
       "var outputEl = gd.closest('.output');\n",
       "if (outputEl) {{\n",
       "    x.observe(outputEl, {childList: true});\n",
       "}}\n",
       "\n",
       "                        })                };                });            </script>        </div>"
      ]
     },
     "metadata": {},
     "output_type": "display_data"
    },
    {
     "data": {
      "application/vnd.plotly.v1+json": {
       "config": {
        "plotlyServerURL": "https://plotly.com"
       },
       "data": [
        {
         "name": "#Replicator",
         "type": "bar",
         "x": [
          0,
          1,
          2,
          3,
          4,
          5,
          6,
          7,
          8,
          9,
          10,
          11,
          12,
          13,
          14,
          15,
          16,
          17,
          18,
          19,
          20,
          21,
          22,
          23,
          24,
          25,
          26,
          27,
          28,
          29,
          30,
          31,
          32,
          33,
          34,
          35,
          36,
          37,
          38,
          39,
          40,
          41,
          42,
          43,
          44,
          45,
          46,
          47,
          48,
          49,
          50,
          51,
          52,
          53,
          54,
          55,
          56,
          57,
          58,
          59,
          60,
          61,
          62,
          63,
          64,
          65,
          66,
          67,
          68,
          69,
          70,
          71,
          72,
          73,
          74
         ],
         "xaxis": "x",
         "y": [
          1,
          1,
          1,
          1,
          1,
          1,
          3,
          3,
          3,
          5,
          5,
          5,
          7,
          9,
          11,
          13,
          17,
          21,
          24,
          34,
          42,
          48,
          49,
          50,
          54,
          63,
          75,
          81,
          88,
          96,
          108,
          125,
          139,
          155,
          176,
          195,
          204,
          205,
          205,
          205,
          205,
          205,
          205,
          205,
          205,
          205,
          205,
          205,
          205,
          205,
          205,
          205,
          205,
          205,
          205,
          205,
          205,
          205,
          205,
          205,
          205,
          205,
          205,
          205,
          205,
          205,
          205,
          205,
          205,
          205,
          205,
          205,
          205,
          205,
          205
         ],
         "yaxis": "y"
        },
        {
         "name": "#Normal",
         "type": "bar",
         "x": [
          0,
          1,
          2,
          3,
          4,
          5,
          6,
          7,
          8,
          9,
          10,
          11,
          12,
          13,
          14,
          15,
          16,
          17,
          18,
          19,
          20,
          21,
          22,
          23,
          24,
          25,
          26,
          27,
          28,
          29,
          30,
          31,
          32,
          33,
          34,
          35,
          36,
          37,
          38,
          39,
          40,
          41,
          42,
          43,
          44,
          45,
          46,
          47,
          48,
          49,
          50,
          51,
          52,
          53,
          54,
          55,
          56,
          57,
          58,
          59,
          60,
          61,
          62,
          63,
          64,
          65,
          66,
          67,
          68,
          69,
          70,
          71,
          72,
          73,
          74
         ],
         "xaxis": "x",
         "y": [
          0,
          0,
          0,
          0,
          0,
          0,
          0,
          0,
          2,
          2,
          4,
          4,
          4,
          6,
          8,
          8,
          12,
          16,
          18,
          18,
          18,
          19,
          21,
          22,
          22,
          24,
          28,
          34,
          34,
          38,
          40,
          43,
          43,
          46,
          49,
          52,
          58,
          65,
          68,
          70,
          71,
          71,
          71,
          71,
          71,
          71,
          71,
          71,
          71,
          71,
          71,
          71,
          71,
          71,
          71,
          71,
          71,
          71,
          71,
          71,
          71,
          71,
          71,
          71,
          71,
          71,
          71,
          71,
          71,
          71,
          71,
          71,
          71,
          71,
          71
         ],
         "yaxis": "y"
        },
        {
         "name": "#Assembler",
         "type": "bar",
         "x": [
          0,
          1,
          2,
          3,
          4,
          5,
          6,
          7,
          8,
          9,
          10,
          11,
          12,
          13,
          14,
          15,
          16,
          17,
          18,
          19,
          20,
          21,
          22,
          23,
          24,
          25,
          26,
          27,
          28,
          29,
          30,
          31,
          32,
          33,
          34,
          35,
          36,
          37,
          38,
          39,
          40,
          41,
          42,
          43,
          44,
          45,
          46,
          47,
          48,
          49,
          50,
          51,
          52,
          53,
          54,
          55,
          56,
          57,
          58,
          59,
          60,
          61,
          62,
          63,
          64,
          65,
          66,
          67,
          68,
          69,
          70,
          71,
          72,
          73,
          74
         ],
         "xaxis": "x",
         "y": [
          0,
          0,
          0,
          0,
          0,
          0,
          0,
          0,
          0,
          0,
          0,
          0,
          0,
          0,
          0,
          0,
          0,
          0,
          0,
          0,
          0,
          0,
          0,
          0,
          0,
          0,
          0,
          0,
          0,
          0,
          0,
          0,
          0,
          0,
          0,
          0,
          0,
          0,
          0,
          0,
          0,
          0,
          0,
          0,
          0,
          0,
          0,
          0,
          0,
          0,
          0,
          0,
          0,
          0,
          0,
          0,
          0,
          0,
          0,
          0,
          0,
          0,
          0,
          0,
          0,
          0,
          0,
          0,
          0,
          0,
          0,
          0,
          0,
          0,
          0
         ],
         "yaxis": "y"
        },
        {
         "name": "#Printer",
         "type": "bar",
         "x": [
          0,
          1,
          2,
          3,
          4,
          5,
          6,
          7,
          8,
          9,
          10,
          11,
          12,
          13,
          14,
          15,
          16,
          17,
          18,
          19,
          20,
          21,
          22,
          23,
          24,
          25,
          26,
          27,
          28,
          29,
          30,
          31,
          32,
          33,
          34,
          35,
          36,
          37,
          38,
          39,
          40,
          41,
          42,
          43,
          44,
          45,
          46,
          47,
          48,
          49,
          50,
          51,
          52,
          53,
          54,
          55,
          56,
          57,
          58,
          59,
          60,
          61,
          62,
          63,
          64,
          65,
          66,
          67,
          68,
          69,
          70,
          71,
          72,
          73,
          74
         ],
         "xaxis": "x",
         "y": [
          0,
          0,
          0,
          0,
          0,
          0,
          0,
          0,
          0,
          0,
          0,
          0,
          0,
          0,
          0,
          0,
          0,
          0,
          0,
          0,
          0,
          0,
          0,
          0,
          0,
          0,
          0,
          0,
          0,
          0,
          0,
          0,
          0,
          0,
          0,
          0,
          0,
          0,
          0,
          0,
          0,
          0,
          0,
          0,
          0,
          0,
          0,
          0,
          0,
          0,
          0,
          0,
          0,
          0,
          0,
          0,
          0,
          0,
          0,
          0,
          0,
          0,
          0,
          0,
          0,
          0,
          0,
          0,
          0,
          0,
          0,
          0,
          0,
          0,
          0
         ],
         "yaxis": "y"
        },
        {
         "name": "#Assembling",
         "type": "bar",
         "x": [
          0,
          1,
          2,
          3,
          4,
          5,
          6,
          7,
          8,
          9,
          10,
          11,
          12,
          13,
          14,
          15,
          16,
          17,
          18,
          19,
          20,
          21,
          22,
          23,
          24,
          25,
          26,
          27,
          28,
          29,
          30,
          31,
          32,
          33,
          34,
          35,
          36,
          37,
          38,
          39,
          40,
          41,
          42,
          43,
          44,
          45,
          46,
          47,
          48,
          49,
          50,
          51,
          52,
          53,
          54,
          55,
          56,
          57,
          58,
          59,
          60,
          61,
          62,
          63,
          64,
          65,
          66,
          67,
          68,
          69,
          70,
          71,
          72,
          73,
          74
         ],
         "xaxis": "x3",
         "y": [
          1,
          1,
          1,
          1,
          1,
          1,
          3,
          3,
          3,
          5,
          5,
          5,
          7,
          9,
          11,
          13,
          15,
          11,
          11,
          12,
          10,
          11,
          12,
          16,
          22,
          24,
          22,
          21,
          28,
          31,
          36,
          36,
          44,
          50,
          53,
          36,
          18,
          7,
          3,
          1,
          0,
          0,
          0,
          0,
          0,
          0,
          0,
          0,
          0,
          0,
          0,
          0,
          0,
          0,
          0,
          0,
          0,
          0,
          0,
          0,
          0,
          0,
          0,
          0,
          0,
          0,
          0,
          0,
          0,
          0,
          0,
          0,
          0,
          0,
          0
         ],
         "yaxis": "y3"
        },
        {
         "name": "#Printing",
         "type": "bar",
         "x": [
          0,
          1,
          2,
          3,
          4,
          5,
          6,
          7,
          8,
          9,
          10,
          11,
          12,
          13,
          14,
          15,
          16,
          17,
          18,
          19,
          20,
          21,
          22,
          23,
          24,
          25,
          26,
          27,
          28,
          29,
          30,
          31,
          32,
          33,
          34,
          35,
          36,
          37,
          38,
          39,
          40,
          41,
          42,
          43,
          44,
          45,
          46,
          47,
          48,
          49,
          50,
          51,
          52,
          53,
          54,
          55,
          56,
          57,
          58,
          59,
          60,
          61,
          62,
          63,
          64,
          65,
          66,
          67,
          68,
          69,
          70,
          71,
          72,
          73,
          74
         ],
         "xaxis": "x3",
         "y": [
          0,
          0,
          0,
          0,
          0,
          0,
          0,
          0,
          0,
          0,
          0,
          0,
          0,
          0,
          0,
          0,
          2,
          10,
          12,
          22,
          30,
          37,
          36,
          33,
          32,
          38,
          51,
          58,
          59,
          63,
          70,
          86,
          91,
          103,
          116,
          135,
          14,
          0,
          0,
          0,
          0,
          0,
          0,
          0,
          0,
          0,
          0,
          0,
          0,
          0,
          0,
          0,
          0,
          0,
          0,
          0,
          0,
          0,
          0,
          0,
          0,
          0,
          0,
          0,
          0,
          0,
          0,
          0,
          0,
          0,
          0,
          0,
          0,
          0,
          0
         ],
         "yaxis": "y3"
        },
        {
         "name": "#Collecting",
         "type": "bar",
         "x": [
          0,
          1,
          2,
          3,
          4,
          5,
          6,
          7,
          8,
          9,
          10,
          11,
          12,
          13,
          14,
          15,
          16,
          17,
          18,
          19,
          20,
          21,
          22,
          23,
          24,
          25,
          26,
          27,
          28,
          29,
          30,
          31,
          32,
          33,
          34,
          35,
          36,
          37,
          38,
          39,
          40,
          41,
          42,
          43,
          44,
          45,
          46,
          47,
          48,
          49,
          50,
          51,
          52,
          53,
          54,
          55,
          56,
          57,
          58,
          59,
          60,
          61,
          62,
          63,
          64,
          65,
          66,
          67,
          68,
          69,
          70,
          71,
          72,
          73,
          74
         ],
         "xaxis": "x3",
         "y": [
          0,
          0,
          0,
          0,
          0,
          0,
          0,
          0,
          2,
          2,
          4,
          4,
          4,
          6,
          8,
          8,
          12,
          16,
          18,
          18,
          18,
          18,
          21,
          21,
          22,
          24,
          28,
          34,
          34,
          36,
          40,
          42,
          43,
          36,
          0,
          0,
          0,
          0,
          0,
          0,
          0,
          0,
          0,
          0,
          0,
          0,
          0,
          0,
          0,
          0,
          0,
          0,
          0,
          0,
          0,
          0,
          0,
          0,
          0,
          0,
          0,
          0,
          0,
          0,
          0,
          0,
          0,
          0,
          0,
          0,
          0,
          0,
          0,
          0,
          0
         ],
         "yaxis": "y3"
        },
        {
         "name": "#Idle",
         "type": "bar",
         "x": [
          0,
          1,
          2,
          3,
          4,
          5,
          6,
          7,
          8,
          9,
          10,
          11,
          12,
          13,
          14,
          15,
          16,
          17,
          18,
          19,
          20,
          21,
          22,
          23,
          24,
          25,
          26,
          27,
          28,
          29,
          30,
          31,
          32,
          33,
          34,
          35,
          36,
          37,
          38,
          39,
          40,
          41,
          42,
          43,
          44,
          45,
          46,
          47,
          48,
          49,
          50,
          51,
          52,
          53,
          54,
          55,
          56,
          57,
          58,
          59,
          60,
          61,
          62,
          63,
          64,
          65,
          66,
          67,
          68,
          69,
          70,
          71,
          72,
          73,
          74
         ],
         "xaxis": "x3",
         "y": [
          0,
          0,
          0,
          0,
          0,
          0,
          0,
          0,
          0,
          0,
          0,
          0,
          0,
          0,
          0,
          0,
          0,
          0,
          1,
          0,
          2,
          1,
          1,
          2,
          0,
          1,
          2,
          2,
          1,
          4,
          2,
          4,
          4,
          12,
          56,
          76,
          230,
          263,
          270,
          274,
          276,
          276,
          276,
          276,
          276,
          276,
          276,
          276,
          276,
          276,
          276,
          276,
          276,
          276,
          276,
          276,
          276,
          276,
          276,
          276,
          276,
          276,
          276,
          276,
          276,
          276,
          276,
          276,
          276,
          276,
          276,
          276,
          276,
          276,
          276
         ],
         "yaxis": "y3"
        },
        {
         "mode": "lines",
         "name": "NonPr",
         "type": "scatter",
         "x": [
          0,
          1,
          2,
          3,
          4,
          5,
          6,
          7,
          8,
          9,
          10,
          11,
          12,
          13,
          14,
          15,
          16,
          17,
          18,
          19,
          20,
          21,
          22,
          23,
          24,
          25,
          26,
          27,
          28,
          29,
          30,
          31,
          32,
          33,
          34,
          35,
          36,
          37,
          38,
          39,
          40,
          41,
          42,
          43,
          44,
          45,
          46,
          47,
          48,
          49,
          50,
          51,
          52,
          53,
          54,
          55,
          56,
          57,
          58,
          59,
          60,
          61,
          62,
          63,
          64,
          65,
          66,
          67,
          68,
          69,
          70,
          71,
          72,
          73,
          74
         ],
         "xaxis": "x2",
         "y": [
          297,
          297,
          297,
          297,
          297,
          297,
          293,
          293,
          290,
          286,
          283,
          283,
          279,
          272,
          265,
          261,
          250,
          248,
          245,
          239,
          233,
          222,
          216,
          204,
          197,
          188,
          175,
          160,
          145,
          128,
          111,
          89,
          67,
          41,
          11,
          0,
          0,
          0,
          0,
          0,
          0,
          0,
          0,
          0,
          0,
          0,
          0,
          0,
          0,
          0,
          0,
          0,
          0,
          0,
          0,
          0,
          0,
          0,
          0,
          0,
          0,
          0,
          0,
          0,
          0,
          0,
          0,
          0,
          0,
          0,
          0,
          0,
          0,
          0,
          0
         ],
         "yaxis": "y2"
        },
        {
         "mode": "lines",
         "name": "Printable",
         "type": "scatter",
         "x": [
          0,
          1,
          2,
          3,
          4,
          5,
          6,
          7,
          8,
          9,
          10,
          11,
          12,
          13,
          14,
          15,
          16,
          17,
          18,
          19,
          20,
          21,
          22,
          23,
          24,
          25,
          26,
          27,
          28,
          29,
          30,
          31,
          32,
          33,
          34,
          35,
          36,
          37,
          38,
          39,
          40,
          41,
          42,
          43,
          44,
          45,
          46,
          47,
          48,
          49,
          50,
          51,
          52,
          53,
          54,
          55,
          56,
          57,
          58,
          59,
          60,
          61,
          62,
          63,
          64,
          65,
          66,
          67,
          68,
          69,
          70,
          71,
          72,
          73,
          74
         ],
         "xaxis": "x2",
         "y": [
          94,
          94,
          94,
          94,
          94,
          94,
          86,
          86,
          80,
          72,
          66,
          66,
          58,
          44,
          30,
          22,
          1,
          2,
          2,
          1,
          4,
          1,
          7,
          0,
          2,
          3,
          2,
          2,
          2,
          0,
          1,
          1,
          2,
          2,
          0,
          49,
          49,
          49,
          49,
          49,
          49,
          49,
          49,
          49,
          49,
          49,
          49,
          49,
          49,
          49,
          49,
          49,
          49,
          49,
          49,
          49,
          49,
          49,
          49,
          49,
          49,
          49,
          49,
          49,
          49,
          49,
          49,
          49,
          49,
          49,
          49,
          49,
          49,
          49,
          49
         ],
         "yaxis": "y2"
        },
        {
         "mode": "lines",
         "name": "Materials",
         "type": "scatter",
         "x": [
          0,
          1,
          2,
          3,
          4,
          5,
          6,
          7,
          8,
          9,
          10,
          11,
          12,
          13,
          14,
          15,
          16,
          17,
          18,
          19,
          20,
          21,
          22,
          23,
          24,
          25,
          26,
          27,
          28,
          29,
          30,
          31,
          32,
          33,
          34,
          35,
          36,
          37,
          38,
          39,
          40,
          41,
          42,
          43,
          44,
          45,
          46,
          47,
          48,
          49,
          50,
          51,
          52,
          53,
          54,
          55,
          56,
          57,
          58,
          59,
          60,
          61,
          62,
          63,
          64,
          65,
          66,
          67,
          68,
          69,
          70,
          71,
          72,
          73,
          74
         ],
         "xaxis": "x2",
         "y": [
          50,
          50,
          50,
          50,
          50,
          50,
          50,
          50,
          51,
          53,
          56,
          60,
          64,
          69,
          76,
          84,
          93,
          102,
          113,
          120,
          123,
          122,
          124,
          128,
          134,
          138,
          139,
          140,
          144,
          147,
          151,
          148,
          146,
          130,
          72,
          1,
          1,
          1,
          1,
          1,
          1,
          1,
          1,
          1,
          1,
          1,
          1,
          1,
          1,
          1,
          1,
          1,
          1,
          1,
          1,
          1,
          1,
          1,
          1,
          1,
          1,
          1,
          1,
          1,
          1,
          1,
          1,
          1,
          1,
          1,
          1,
          1,
          1,
          1,
          1
         ],
         "yaxis": "y2"
        },
        {
         "mode": "lines",
         "name": "Env_Materials",
         "type": "scatter",
         "x": [
          0,
          1,
          2,
          3,
          4,
          5,
          6,
          7,
          8,
          9,
          10,
          11,
          12,
          13,
          14,
          15,
          16,
          17,
          18,
          19,
          20,
          21,
          22,
          23,
          24,
          25,
          26,
          27,
          28,
          29,
          30,
          31,
          32,
          33,
          34,
          35,
          36,
          37,
          38,
          39,
          40,
          41,
          42,
          43,
          44,
          45,
          46,
          47,
          48,
          49,
          50,
          51,
          52,
          53,
          54,
          55,
          56,
          57,
          58,
          59,
          60,
          61,
          62,
          63,
          64,
          65,
          66,
          67,
          68,
          69,
          70,
          71,
          72,
          73,
          74
         ],
         "xaxis": "x2",
         "y": [
          500,
          500,
          500,
          500,
          500,
          500,
          500,
          500,
          499,
          497,
          494,
          490,
          486,
          481,
          474,
          466,
          456,
          442,
          425,
          407,
          389,
          371,
          351,
          330,
          308,
          285,
          259,
          228,
          194,
          159,
          120,
          79,
          36,
          0,
          0,
          0,
          0,
          0,
          0,
          0,
          0,
          0,
          0,
          0,
          0,
          0,
          0,
          0,
          0,
          0,
          0,
          0,
          0,
          0,
          0,
          0,
          0,
          0,
          0,
          0,
          0,
          0,
          0,
          0,
          0,
          0,
          0,
          0,
          0,
          0,
          0,
          0,
          0,
          0,
          0
         ],
         "yaxis": "y2"
        },
        {
         "mode": "lines",
         "name": "Avg. Quality #in",
         "type": "scatter",
         "x": [
          0,
          1,
          2,
          3,
          4,
          5,
          6,
          7,
          8,
          9,
          10,
          11,
          12,
          13,
          14,
          15,
          16,
          17,
          18,
          19,
          20,
          21,
          22,
          23,
          24,
          25,
          26,
          27,
          28,
          29,
          30,
          31,
          32,
          33,
          34,
          35,
          36,
          37,
          38,
          39,
          40,
          41,
          42,
          43,
          44,
          45,
          46,
          47,
          48,
          49,
          50,
          51,
          52,
          53,
          54,
          55,
          56,
          57,
          58,
          59,
          60,
          61,
          62,
          63,
          64,
          65,
          66,
          67,
          68,
          69,
          70,
          71,
          72,
          73,
          74
         ],
         "xaxis": "x4",
         "y": [
          0.918,
          0.918,
          0.918,
          0.918,
          0.918,
          0.918,
          0.933,
          0.933,
          0.89,
          0.913,
          0.887,
          0.887,
          0.905,
          0.88,
          0.892,
          0.888,
          0.877,
          0.862,
          0.825,
          0.806,
          0.767,
          0.746,
          0.733,
          0.713,
          0.713,
          0.697,
          0.696,
          0.683,
          0.679,
          0.655,
          0.646,
          0.635,
          0.623,
          0.615,
          0.592,
          0.565,
          0.551,
          0.544,
          0.544,
          0.54,
          0.538,
          0.538,
          0.538,
          0.538,
          0.538,
          0.538,
          0.538,
          0.538,
          0.538,
          0.538,
          0.538,
          0.538,
          0.538,
          0.538,
          0.538,
          0.538,
          0.538,
          0.538,
          0.538,
          0.538,
          0.538,
          0.538,
          0.538,
          0.538,
          0.538,
          0.538,
          0.538,
          0.538,
          0.538,
          0.538,
          0.538,
          0.538,
          0.538,
          0.538,
          0.538
         ],
         "yaxis": "y4"
        },
        {
         "mode": "lines",
         "name": "Avg. Quality #total",
         "type": "scatter",
         "x": [
          0,
          1,
          2,
          3,
          4,
          5,
          6,
          7,
          8,
          9,
          10,
          11,
          12,
          13,
          14,
          15,
          16,
          17,
          18,
          19,
          20,
          21,
          22,
          23,
          24,
          25,
          26,
          27,
          28,
          29,
          30,
          31,
          32,
          33,
          34,
          35,
          36,
          37,
          38,
          39,
          40,
          41,
          42,
          43,
          44,
          45,
          46,
          47,
          48,
          49,
          50,
          51,
          52,
          53,
          54,
          55,
          56,
          57,
          58,
          59,
          60,
          61,
          62,
          63,
          64,
          65,
          66,
          67,
          68,
          69,
          70,
          71,
          72,
          73,
          74
         ],
         "xaxis": "x4",
         "y": [
          0.918,
          0.918,
          0.918,
          0.918,
          0.918,
          0.918,
          0.933,
          0.933,
          0.89,
          0.913,
          0.887,
          0.887,
          0.905,
          0.88,
          0.892,
          0.888,
          0.877,
          0.862,
          0.835,
          0.813,
          0.79,
          0.769,
          0.763,
          0.751,
          0.749,
          0.734,
          0.735,
          0.725,
          0.72,
          0.703,
          0.694,
          0.686,
          0.681,
          0.674,
          0.658,
          0.642,
          0.633,
          0.629,
          0.629,
          0.628,
          0.627,
          0.627,
          0.627,
          0.627,
          0.627,
          0.627,
          0.627,
          0.627,
          0.627,
          0.627,
          0.627,
          0.627,
          0.627,
          0.627,
          0.627,
          0.627,
          0.627,
          0.627,
          0.627,
          0.627,
          0.627,
          0.627,
          0.627,
          0.627,
          0.627,
          0.627,
          0.627,
          0.627,
          0.627,
          0.627,
          0.627,
          0.627,
          0.627,
          0.627,
          0.627
         ],
         "yaxis": "y4"
        }
       ],
       "layout": {
        "annotations": [
         {
          "font": {
           "size": 16
          },
          "showarrow": false,
          "text": "Types of Robots vs Time",
          "x": 0.225,
          "xanchor": "center",
          "xref": "paper",
          "y": 1,
          "yanchor": "bottom",
          "yref": "paper"
         },
         {
          "font": {
           "size": 16
          },
          "showarrow": false,
          "text": "Resources vs Time",
          "x": 0.775,
          "xanchor": "center",
          "xref": "paper",
          "y": 1,
          "yanchor": "bottom",
          "yref": "paper"
         },
         {
          "font": {
           "size": 16
          },
          "showarrow": false,
          "text": "Tasks of Robots vs Time",
          "x": 0.225,
          "xanchor": "center",
          "xref": "paper",
          "y": 0.375,
          "yanchor": "bottom",
          "yref": "paper"
         },
         {
          "font": {
           "size": 16
          },
          "showarrow": false,
          "text": "Build Quality vs Time",
          "x": 0.775,
          "xanchor": "center",
          "xref": "paper",
          "y": 0.375,
          "yanchor": "bottom",
          "yref": "paper"
         }
        ],
        "hovermode": "x",
        "template": {
         "data": {
          "bar": [
           {
            "error_x": {
             "color": "#2a3f5f"
            },
            "error_y": {
             "color": "#2a3f5f"
            },
            "marker": {
             "line": {
              "color": "#E5ECF6",
              "width": 0.5
             },
             "pattern": {
              "fillmode": "overlay",
              "size": 10,
              "solidity": 0.2
             }
            },
            "type": "bar"
           }
          ],
          "barpolar": [
           {
            "marker": {
             "line": {
              "color": "#E5ECF6",
              "width": 0.5
             },
             "pattern": {
              "fillmode": "overlay",
              "size": 10,
              "solidity": 0.2
             }
            },
            "type": "barpolar"
           }
          ],
          "carpet": [
           {
            "aaxis": {
             "endlinecolor": "#2a3f5f",
             "gridcolor": "white",
             "linecolor": "white",
             "minorgridcolor": "white",
             "startlinecolor": "#2a3f5f"
            },
            "baxis": {
             "endlinecolor": "#2a3f5f",
             "gridcolor": "white",
             "linecolor": "white",
             "minorgridcolor": "white",
             "startlinecolor": "#2a3f5f"
            },
            "type": "carpet"
           }
          ],
          "choropleth": [
           {
            "colorbar": {
             "outlinewidth": 0,
             "ticks": ""
            },
            "type": "choropleth"
           }
          ],
          "contour": [
           {
            "colorbar": {
             "outlinewidth": 0,
             "ticks": ""
            },
            "colorscale": [
             [
              0,
              "#0d0887"
             ],
             [
              0.1111111111111111,
              "#46039f"
             ],
             [
              0.2222222222222222,
              "#7201a8"
             ],
             [
              0.3333333333333333,
              "#9c179e"
             ],
             [
              0.4444444444444444,
              "#bd3786"
             ],
             [
              0.5555555555555556,
              "#d8576b"
             ],
             [
              0.6666666666666666,
              "#ed7953"
             ],
             [
              0.7777777777777778,
              "#fb9f3a"
             ],
             [
              0.8888888888888888,
              "#fdca26"
             ],
             [
              1,
              "#f0f921"
             ]
            ],
            "type": "contour"
           }
          ],
          "contourcarpet": [
           {
            "colorbar": {
             "outlinewidth": 0,
             "ticks": ""
            },
            "type": "contourcarpet"
           }
          ],
          "heatmap": [
           {
            "colorbar": {
             "outlinewidth": 0,
             "ticks": ""
            },
            "colorscale": [
             [
              0,
              "#0d0887"
             ],
             [
              0.1111111111111111,
              "#46039f"
             ],
             [
              0.2222222222222222,
              "#7201a8"
             ],
             [
              0.3333333333333333,
              "#9c179e"
             ],
             [
              0.4444444444444444,
              "#bd3786"
             ],
             [
              0.5555555555555556,
              "#d8576b"
             ],
             [
              0.6666666666666666,
              "#ed7953"
             ],
             [
              0.7777777777777778,
              "#fb9f3a"
             ],
             [
              0.8888888888888888,
              "#fdca26"
             ],
             [
              1,
              "#f0f921"
             ]
            ],
            "type": "heatmap"
           }
          ],
          "heatmapgl": [
           {
            "colorbar": {
             "outlinewidth": 0,
             "ticks": ""
            },
            "colorscale": [
             [
              0,
              "#0d0887"
             ],
             [
              0.1111111111111111,
              "#46039f"
             ],
             [
              0.2222222222222222,
              "#7201a8"
             ],
             [
              0.3333333333333333,
              "#9c179e"
             ],
             [
              0.4444444444444444,
              "#bd3786"
             ],
             [
              0.5555555555555556,
              "#d8576b"
             ],
             [
              0.6666666666666666,
              "#ed7953"
             ],
             [
              0.7777777777777778,
              "#fb9f3a"
             ],
             [
              0.8888888888888888,
              "#fdca26"
             ],
             [
              1,
              "#f0f921"
             ]
            ],
            "type": "heatmapgl"
           }
          ],
          "histogram": [
           {
            "marker": {
             "pattern": {
              "fillmode": "overlay",
              "size": 10,
              "solidity": 0.2
             }
            },
            "type": "histogram"
           }
          ],
          "histogram2d": [
           {
            "colorbar": {
             "outlinewidth": 0,
             "ticks": ""
            },
            "colorscale": [
             [
              0,
              "#0d0887"
             ],
             [
              0.1111111111111111,
              "#46039f"
             ],
             [
              0.2222222222222222,
              "#7201a8"
             ],
             [
              0.3333333333333333,
              "#9c179e"
             ],
             [
              0.4444444444444444,
              "#bd3786"
             ],
             [
              0.5555555555555556,
              "#d8576b"
             ],
             [
              0.6666666666666666,
              "#ed7953"
             ],
             [
              0.7777777777777778,
              "#fb9f3a"
             ],
             [
              0.8888888888888888,
              "#fdca26"
             ],
             [
              1,
              "#f0f921"
             ]
            ],
            "type": "histogram2d"
           }
          ],
          "histogram2dcontour": [
           {
            "colorbar": {
             "outlinewidth": 0,
             "ticks": ""
            },
            "colorscale": [
             [
              0,
              "#0d0887"
             ],
             [
              0.1111111111111111,
              "#46039f"
             ],
             [
              0.2222222222222222,
              "#7201a8"
             ],
             [
              0.3333333333333333,
              "#9c179e"
             ],
             [
              0.4444444444444444,
              "#bd3786"
             ],
             [
              0.5555555555555556,
              "#d8576b"
             ],
             [
              0.6666666666666666,
              "#ed7953"
             ],
             [
              0.7777777777777778,
              "#fb9f3a"
             ],
             [
              0.8888888888888888,
              "#fdca26"
             ],
             [
              1,
              "#f0f921"
             ]
            ],
            "type": "histogram2dcontour"
           }
          ],
          "mesh3d": [
           {
            "colorbar": {
             "outlinewidth": 0,
             "ticks": ""
            },
            "type": "mesh3d"
           }
          ],
          "parcoords": [
           {
            "line": {
             "colorbar": {
              "outlinewidth": 0,
              "ticks": ""
             }
            },
            "type": "parcoords"
           }
          ],
          "pie": [
           {
            "automargin": true,
            "type": "pie"
           }
          ],
          "scatter": [
           {
            "fillpattern": {
             "fillmode": "overlay",
             "size": 10,
             "solidity": 0.2
            },
            "type": "scatter"
           }
          ],
          "scatter3d": [
           {
            "line": {
             "colorbar": {
              "outlinewidth": 0,
              "ticks": ""
             }
            },
            "marker": {
             "colorbar": {
              "outlinewidth": 0,
              "ticks": ""
             }
            },
            "type": "scatter3d"
           }
          ],
          "scattercarpet": [
           {
            "marker": {
             "colorbar": {
              "outlinewidth": 0,
              "ticks": ""
             }
            },
            "type": "scattercarpet"
           }
          ],
          "scattergeo": [
           {
            "marker": {
             "colorbar": {
              "outlinewidth": 0,
              "ticks": ""
             }
            },
            "type": "scattergeo"
           }
          ],
          "scattergl": [
           {
            "marker": {
             "colorbar": {
              "outlinewidth": 0,
              "ticks": ""
             }
            },
            "type": "scattergl"
           }
          ],
          "scattermapbox": [
           {
            "marker": {
             "colorbar": {
              "outlinewidth": 0,
              "ticks": ""
             }
            },
            "type": "scattermapbox"
           }
          ],
          "scatterpolar": [
           {
            "marker": {
             "colorbar": {
              "outlinewidth": 0,
              "ticks": ""
             }
            },
            "type": "scatterpolar"
           }
          ],
          "scatterpolargl": [
           {
            "marker": {
             "colorbar": {
              "outlinewidth": 0,
              "ticks": ""
             }
            },
            "type": "scatterpolargl"
           }
          ],
          "scatterternary": [
           {
            "marker": {
             "colorbar": {
              "outlinewidth": 0,
              "ticks": ""
             }
            },
            "type": "scatterternary"
           }
          ],
          "surface": [
           {
            "colorbar": {
             "outlinewidth": 0,
             "ticks": ""
            },
            "colorscale": [
             [
              0,
              "#0d0887"
             ],
             [
              0.1111111111111111,
              "#46039f"
             ],
             [
              0.2222222222222222,
              "#7201a8"
             ],
             [
              0.3333333333333333,
              "#9c179e"
             ],
             [
              0.4444444444444444,
              "#bd3786"
             ],
             [
              0.5555555555555556,
              "#d8576b"
             ],
             [
              0.6666666666666666,
              "#ed7953"
             ],
             [
              0.7777777777777778,
              "#fb9f3a"
             ],
             [
              0.8888888888888888,
              "#fdca26"
             ],
             [
              1,
              "#f0f921"
             ]
            ],
            "type": "surface"
           }
          ],
          "table": [
           {
            "cells": {
             "fill": {
              "color": "#EBF0F8"
             },
             "line": {
              "color": "white"
             }
            },
            "header": {
             "fill": {
              "color": "#C8D4E3"
             },
             "line": {
              "color": "white"
             }
            },
            "type": "table"
           }
          ]
         },
         "layout": {
          "annotationdefaults": {
           "arrowcolor": "#2a3f5f",
           "arrowhead": 0,
           "arrowwidth": 1
          },
          "autotypenumbers": "strict",
          "coloraxis": {
           "colorbar": {
            "outlinewidth": 0,
            "ticks": ""
           }
          },
          "colorscale": {
           "diverging": [
            [
             0,
             "#8e0152"
            ],
            [
             0.1,
             "#c51b7d"
            ],
            [
             0.2,
             "#de77ae"
            ],
            [
             0.3,
             "#f1b6da"
            ],
            [
             0.4,
             "#fde0ef"
            ],
            [
             0.5,
             "#f7f7f7"
            ],
            [
             0.6,
             "#e6f5d0"
            ],
            [
             0.7,
             "#b8e186"
            ],
            [
             0.8,
             "#7fbc41"
            ],
            [
             0.9,
             "#4d9221"
            ],
            [
             1,
             "#276419"
            ]
           ],
           "sequential": [
            [
             0,
             "#0d0887"
            ],
            [
             0.1111111111111111,
             "#46039f"
            ],
            [
             0.2222222222222222,
             "#7201a8"
            ],
            [
             0.3333333333333333,
             "#9c179e"
            ],
            [
             0.4444444444444444,
             "#bd3786"
            ],
            [
             0.5555555555555556,
             "#d8576b"
            ],
            [
             0.6666666666666666,
             "#ed7953"
            ],
            [
             0.7777777777777778,
             "#fb9f3a"
            ],
            [
             0.8888888888888888,
             "#fdca26"
            ],
            [
             1,
             "#f0f921"
            ]
           ],
           "sequentialminus": [
            [
             0,
             "#0d0887"
            ],
            [
             0.1111111111111111,
             "#46039f"
            ],
            [
             0.2222222222222222,
             "#7201a8"
            ],
            [
             0.3333333333333333,
             "#9c179e"
            ],
            [
             0.4444444444444444,
             "#bd3786"
            ],
            [
             0.5555555555555556,
             "#d8576b"
            ],
            [
             0.6666666666666666,
             "#ed7953"
            ],
            [
             0.7777777777777778,
             "#fb9f3a"
            ],
            [
             0.8888888888888888,
             "#fdca26"
            ],
            [
             1,
             "#f0f921"
            ]
           ]
          },
          "colorway": [
           "#636efa",
           "#EF553B",
           "#00cc96",
           "#ab63fa",
           "#FFA15A",
           "#19d3f3",
           "#FF6692",
           "#B6E880",
           "#FF97FF",
           "#FECB52"
          ],
          "font": {
           "color": "#2a3f5f"
          },
          "geo": {
           "bgcolor": "white",
           "lakecolor": "white",
           "landcolor": "#E5ECF6",
           "showlakes": true,
           "showland": true,
           "subunitcolor": "white"
          },
          "hoverlabel": {
           "align": "left"
          },
          "hovermode": "closest",
          "mapbox": {
           "style": "light"
          },
          "paper_bgcolor": "white",
          "plot_bgcolor": "#E5ECF6",
          "polar": {
           "angularaxis": {
            "gridcolor": "white",
            "linecolor": "white",
            "ticks": ""
           },
           "bgcolor": "#E5ECF6",
           "radialaxis": {
            "gridcolor": "white",
            "linecolor": "white",
            "ticks": ""
           }
          },
          "scene": {
           "xaxis": {
            "backgroundcolor": "#E5ECF6",
            "gridcolor": "white",
            "gridwidth": 2,
            "linecolor": "white",
            "showbackground": true,
            "ticks": "",
            "zerolinecolor": "white"
           },
           "yaxis": {
            "backgroundcolor": "#E5ECF6",
            "gridcolor": "white",
            "gridwidth": 2,
            "linecolor": "white",
            "showbackground": true,
            "ticks": "",
            "zerolinecolor": "white"
           },
           "zaxis": {
            "backgroundcolor": "#E5ECF6",
            "gridcolor": "white",
            "gridwidth": 2,
            "linecolor": "white",
            "showbackground": true,
            "ticks": "",
            "zerolinecolor": "white"
           }
          },
          "shapedefaults": {
           "line": {
            "color": "#2a3f5f"
           }
          },
          "ternary": {
           "aaxis": {
            "gridcolor": "white",
            "linecolor": "white",
            "ticks": ""
           },
           "baxis": {
            "gridcolor": "white",
            "linecolor": "white",
            "ticks": ""
           },
           "bgcolor": "#E5ECF6",
           "caxis": {
            "gridcolor": "white",
            "linecolor": "white",
            "ticks": ""
           }
          },
          "title": {
           "x": 0.05
          },
          "xaxis": {
           "automargin": true,
           "gridcolor": "white",
           "linecolor": "white",
           "ticks": "",
           "title": {
            "standoff": 15
           },
           "zerolinecolor": "white",
           "zerolinewidth": 2
          },
          "yaxis": {
           "automargin": true,
           "gridcolor": "white",
           "linecolor": "white",
           "ticks": "",
           "title": {
            "standoff": 15
           },
           "zerolinecolor": "white",
           "zerolinewidth": 2
          }
         }
        },
        "title": {
         "text": "HHO - Characteristics"
        },
        "xaxis": {
         "anchor": "y",
         "domain": [
          0,
          0.45
         ]
        },
        "xaxis2": {
         "anchor": "y2",
         "domain": [
          0.55,
          1
         ]
        },
        "xaxis3": {
         "anchor": "y3",
         "domain": [
          0,
          0.45
         ]
        },
        "xaxis4": {
         "anchor": "y4",
         "domain": [
          0.55,
          1
         ]
        },
        "yaxis": {
         "anchor": "x",
         "domain": [
          0.625,
          1
         ]
        },
        "yaxis2": {
         "anchor": "x2",
         "domain": [
          0.625,
          1
         ]
        },
        "yaxis3": {
         "anchor": "x3",
         "domain": [
          0,
          0.375
         ]
        },
        "yaxis4": {
         "anchor": "x4",
         "domain": [
          0,
          0.375
         ]
        }
       }
      },
      "text/html": [
       "<div>                            <div id=\"c7c88f04-5f4f-47ff-ad87-a7a9e81937d7\" class=\"plotly-graph-div\" style=\"height:525px; width:100%;\"></div>            <script type=\"text/javascript\">                require([\"plotly\"], function(Plotly) {                    window.PLOTLYENV=window.PLOTLYENV || {};                                    if (document.getElementById(\"c7c88f04-5f4f-47ff-ad87-a7a9e81937d7\")) {                    Plotly.newPlot(                        \"c7c88f04-5f4f-47ff-ad87-a7a9e81937d7\",                        [{\"name\":\"#Replicator\",\"x\":[0.0,1.0,2.0,3.0,4.0,5.0,6.0,7.0,8.0,9.0,10.0,11.0,12.0,13.0,14.0,15.0,16.0,17.0,18.0,19.0,20.0,21.0,22.0,23.0,24.0,25.0,26.0,27.0,28.0,29.0,30.0,31.0,32.0,33.0,34.0,35.0,36.0,37.0,38.0,39.0,40.0,41.0,42.0,43.0,44.0,45.0,46.0,47.0,48.0,49.0,50.0,51.0,52.0,53.0,54.0,55.0,56.0,57.0,58.0,59.0,60.0,61.0,62.0,63.0,64.0,65.0,66.0,67.0,68.0,69.0,70.0,71.0,72.0,73.0,74.0],\"y\":[1.0,1.0,1.0,1.0,1.0,1.0,3.0,3.0,3.0,5.0,5.0,5.0,7.0,9.0,11.0,13.0,17.0,21.0,24.0,34.0,42.0,48.0,49.0,50.0,54.0,63.0,75.0,81.0,88.0,96.0,108.0,125.0,139.0,155.0,176.0,195.0,204.0,205.0,205.0,205.0,205.0,205.0,205.0,205.0,205.0,205.0,205.0,205.0,205.0,205.0,205.0,205.0,205.0,205.0,205.0,205.0,205.0,205.0,205.0,205.0,205.0,205.0,205.0,205.0,205.0,205.0,205.0,205.0,205.0,205.0,205.0,205.0,205.0,205.0,205.0],\"type\":\"bar\",\"xaxis\":\"x\",\"yaxis\":\"y\"},{\"name\":\"#Normal\",\"x\":[0.0,1.0,2.0,3.0,4.0,5.0,6.0,7.0,8.0,9.0,10.0,11.0,12.0,13.0,14.0,15.0,16.0,17.0,18.0,19.0,20.0,21.0,22.0,23.0,24.0,25.0,26.0,27.0,28.0,29.0,30.0,31.0,32.0,33.0,34.0,35.0,36.0,37.0,38.0,39.0,40.0,41.0,42.0,43.0,44.0,45.0,46.0,47.0,48.0,49.0,50.0,51.0,52.0,53.0,54.0,55.0,56.0,57.0,58.0,59.0,60.0,61.0,62.0,63.0,64.0,65.0,66.0,67.0,68.0,69.0,70.0,71.0,72.0,73.0,74.0],\"y\":[0.0,0.0,0.0,0.0,0.0,0.0,0.0,0.0,2.0,2.0,4.0,4.0,4.0,6.0,8.0,8.0,12.0,16.0,18.0,18.0,18.0,19.0,21.0,22.0,22.0,24.0,28.0,34.0,34.0,38.0,40.0,43.0,43.0,46.0,49.0,52.0,58.0,65.0,68.0,70.0,71.0,71.0,71.0,71.0,71.0,71.0,71.0,71.0,71.0,71.0,71.0,71.0,71.0,71.0,71.0,71.0,71.0,71.0,71.0,71.0,71.0,71.0,71.0,71.0,71.0,71.0,71.0,71.0,71.0,71.0,71.0,71.0,71.0,71.0,71.0],\"type\":\"bar\",\"xaxis\":\"x\",\"yaxis\":\"y\"},{\"name\":\"#Assembler\",\"x\":[0.0,1.0,2.0,3.0,4.0,5.0,6.0,7.0,8.0,9.0,10.0,11.0,12.0,13.0,14.0,15.0,16.0,17.0,18.0,19.0,20.0,21.0,22.0,23.0,24.0,25.0,26.0,27.0,28.0,29.0,30.0,31.0,32.0,33.0,34.0,35.0,36.0,37.0,38.0,39.0,40.0,41.0,42.0,43.0,44.0,45.0,46.0,47.0,48.0,49.0,50.0,51.0,52.0,53.0,54.0,55.0,56.0,57.0,58.0,59.0,60.0,61.0,62.0,63.0,64.0,65.0,66.0,67.0,68.0,69.0,70.0,71.0,72.0,73.0,74.0],\"y\":[0.0,0.0,0.0,0.0,0.0,0.0,0.0,0.0,0.0,0.0,0.0,0.0,0.0,0.0,0.0,0.0,0.0,0.0,0.0,0.0,0.0,0.0,0.0,0.0,0.0,0.0,0.0,0.0,0.0,0.0,0.0,0.0,0.0,0.0,0.0,0.0,0.0,0.0,0.0,0.0,0.0,0.0,0.0,0.0,0.0,0.0,0.0,0.0,0.0,0.0,0.0,0.0,0.0,0.0,0.0,0.0,0.0,0.0,0.0,0.0,0.0,0.0,0.0,0.0,0.0,0.0,0.0,0.0,0.0,0.0,0.0,0.0,0.0,0.0,0.0],\"type\":\"bar\",\"xaxis\":\"x\",\"yaxis\":\"y\"},{\"name\":\"#Printer\",\"x\":[0.0,1.0,2.0,3.0,4.0,5.0,6.0,7.0,8.0,9.0,10.0,11.0,12.0,13.0,14.0,15.0,16.0,17.0,18.0,19.0,20.0,21.0,22.0,23.0,24.0,25.0,26.0,27.0,28.0,29.0,30.0,31.0,32.0,33.0,34.0,35.0,36.0,37.0,38.0,39.0,40.0,41.0,42.0,43.0,44.0,45.0,46.0,47.0,48.0,49.0,50.0,51.0,52.0,53.0,54.0,55.0,56.0,57.0,58.0,59.0,60.0,61.0,62.0,63.0,64.0,65.0,66.0,67.0,68.0,69.0,70.0,71.0,72.0,73.0,74.0],\"y\":[0.0,0.0,0.0,0.0,0.0,0.0,0.0,0.0,0.0,0.0,0.0,0.0,0.0,0.0,0.0,0.0,0.0,0.0,0.0,0.0,0.0,0.0,0.0,0.0,0.0,0.0,0.0,0.0,0.0,0.0,0.0,0.0,0.0,0.0,0.0,0.0,0.0,0.0,0.0,0.0,0.0,0.0,0.0,0.0,0.0,0.0,0.0,0.0,0.0,0.0,0.0,0.0,0.0,0.0,0.0,0.0,0.0,0.0,0.0,0.0,0.0,0.0,0.0,0.0,0.0,0.0,0.0,0.0,0.0,0.0,0.0,0.0,0.0,0.0,0.0],\"type\":\"bar\",\"xaxis\":\"x\",\"yaxis\":\"y\"},{\"name\":\"#Assembling\",\"x\":[0.0,1.0,2.0,3.0,4.0,5.0,6.0,7.0,8.0,9.0,10.0,11.0,12.0,13.0,14.0,15.0,16.0,17.0,18.0,19.0,20.0,21.0,22.0,23.0,24.0,25.0,26.0,27.0,28.0,29.0,30.0,31.0,32.0,33.0,34.0,35.0,36.0,37.0,38.0,39.0,40.0,41.0,42.0,43.0,44.0,45.0,46.0,47.0,48.0,49.0,50.0,51.0,52.0,53.0,54.0,55.0,56.0,57.0,58.0,59.0,60.0,61.0,62.0,63.0,64.0,65.0,66.0,67.0,68.0,69.0,70.0,71.0,72.0,73.0,74.0],\"y\":[1.0,1.0,1.0,1.0,1.0,1.0,3.0,3.0,3.0,5.0,5.0,5.0,7.0,9.0,11.0,13.0,15.0,11.0,11.0,12.0,10.0,11.0,12.0,16.0,22.0,24.0,22.0,21.0,28.0,31.0,36.0,36.0,44.0,50.0,53.0,36.0,18.0,7.0,3.0,1.0,0.0,0.0,0.0,0.0,0.0,0.0,0.0,0.0,0.0,0.0,0.0,0.0,0.0,0.0,0.0,0.0,0.0,0.0,0.0,0.0,0.0,0.0,0.0,0.0,0.0,0.0,0.0,0.0,0.0,0.0,0.0,0.0,0.0,0.0,0.0],\"type\":\"bar\",\"xaxis\":\"x3\",\"yaxis\":\"y3\"},{\"name\":\"#Printing\",\"x\":[0.0,1.0,2.0,3.0,4.0,5.0,6.0,7.0,8.0,9.0,10.0,11.0,12.0,13.0,14.0,15.0,16.0,17.0,18.0,19.0,20.0,21.0,22.0,23.0,24.0,25.0,26.0,27.0,28.0,29.0,30.0,31.0,32.0,33.0,34.0,35.0,36.0,37.0,38.0,39.0,40.0,41.0,42.0,43.0,44.0,45.0,46.0,47.0,48.0,49.0,50.0,51.0,52.0,53.0,54.0,55.0,56.0,57.0,58.0,59.0,60.0,61.0,62.0,63.0,64.0,65.0,66.0,67.0,68.0,69.0,70.0,71.0,72.0,73.0,74.0],\"y\":[0.0,0.0,0.0,0.0,0.0,0.0,0.0,0.0,0.0,0.0,0.0,0.0,0.0,0.0,0.0,0.0,2.0,10.0,12.0,22.0,30.0,37.0,36.0,33.0,32.0,38.0,51.0,58.0,59.0,63.0,70.0,86.0,91.0,103.0,116.0,135.0,14.0,0.0,0.0,0.0,0.0,0.0,0.0,0.0,0.0,0.0,0.0,0.0,0.0,0.0,0.0,0.0,0.0,0.0,0.0,0.0,0.0,0.0,0.0,0.0,0.0,0.0,0.0,0.0,0.0,0.0,0.0,0.0,0.0,0.0,0.0,0.0,0.0,0.0,0.0],\"type\":\"bar\",\"xaxis\":\"x3\",\"yaxis\":\"y3\"},{\"name\":\"#Collecting\",\"x\":[0.0,1.0,2.0,3.0,4.0,5.0,6.0,7.0,8.0,9.0,10.0,11.0,12.0,13.0,14.0,15.0,16.0,17.0,18.0,19.0,20.0,21.0,22.0,23.0,24.0,25.0,26.0,27.0,28.0,29.0,30.0,31.0,32.0,33.0,34.0,35.0,36.0,37.0,38.0,39.0,40.0,41.0,42.0,43.0,44.0,45.0,46.0,47.0,48.0,49.0,50.0,51.0,52.0,53.0,54.0,55.0,56.0,57.0,58.0,59.0,60.0,61.0,62.0,63.0,64.0,65.0,66.0,67.0,68.0,69.0,70.0,71.0,72.0,73.0,74.0],\"y\":[0.0,0.0,0.0,0.0,0.0,0.0,0.0,0.0,2.0,2.0,4.0,4.0,4.0,6.0,8.0,8.0,12.0,16.0,18.0,18.0,18.0,18.0,21.0,21.0,22.0,24.0,28.0,34.0,34.0,36.0,40.0,42.0,43.0,36.0,0.0,0.0,0.0,0.0,0.0,0.0,0.0,0.0,0.0,0.0,0.0,0.0,0.0,0.0,0.0,0.0,0.0,0.0,0.0,0.0,0.0,0.0,0.0,0.0,0.0,0.0,0.0,0.0,0.0,0.0,0.0,0.0,0.0,0.0,0.0,0.0,0.0,0.0,0.0,0.0,0.0],\"type\":\"bar\",\"xaxis\":\"x3\",\"yaxis\":\"y3\"},{\"name\":\"#Idle\",\"x\":[0.0,1.0,2.0,3.0,4.0,5.0,6.0,7.0,8.0,9.0,10.0,11.0,12.0,13.0,14.0,15.0,16.0,17.0,18.0,19.0,20.0,21.0,22.0,23.0,24.0,25.0,26.0,27.0,28.0,29.0,30.0,31.0,32.0,33.0,34.0,35.0,36.0,37.0,38.0,39.0,40.0,41.0,42.0,43.0,44.0,45.0,46.0,47.0,48.0,49.0,50.0,51.0,52.0,53.0,54.0,55.0,56.0,57.0,58.0,59.0,60.0,61.0,62.0,63.0,64.0,65.0,66.0,67.0,68.0,69.0,70.0,71.0,72.0,73.0,74.0],\"y\":[0.0,0.0,0.0,0.0,0.0,0.0,0.0,0.0,0.0,0.0,0.0,0.0,0.0,0.0,0.0,0.0,0.0,0.0,1.0,0.0,2.0,1.0,1.0,2.0,0.0,1.0,2.0,2.0,1.0,4.0,2.0,4.0,4.0,12.0,56.0,76.0,230.0,263.0,270.0,274.0,276.0,276.0,276.0,276.0,276.0,276.0,276.0,276.0,276.0,276.0,276.0,276.0,276.0,276.0,276.0,276.0,276.0,276.0,276.0,276.0,276.0,276.0,276.0,276.0,276.0,276.0,276.0,276.0,276.0,276.0,276.0,276.0,276.0,276.0,276.0],\"type\":\"bar\",\"xaxis\":\"x3\",\"yaxis\":\"y3\"},{\"mode\":\"lines\",\"name\":\"NonPr\",\"x\":[0.0,1.0,2.0,3.0,4.0,5.0,6.0,7.0,8.0,9.0,10.0,11.0,12.0,13.0,14.0,15.0,16.0,17.0,18.0,19.0,20.0,21.0,22.0,23.0,24.0,25.0,26.0,27.0,28.0,29.0,30.0,31.0,32.0,33.0,34.0,35.0,36.0,37.0,38.0,39.0,40.0,41.0,42.0,43.0,44.0,45.0,46.0,47.0,48.0,49.0,50.0,51.0,52.0,53.0,54.0,55.0,56.0,57.0,58.0,59.0,60.0,61.0,62.0,63.0,64.0,65.0,66.0,67.0,68.0,69.0,70.0,71.0,72.0,73.0,74.0],\"y\":[297.0,297.0,297.0,297.0,297.0,297.0,293.0,293.0,290.0,286.0,283.0,283.0,279.0,272.0,265.0,261.0,250.0,248.0,245.0,239.0,233.0,222.0,216.0,204.0,197.0,188.0,175.0,160.0,145.0,128.0,111.0,89.0,67.0,41.0,11.0,0.0,0.0,0.0,0.0,0.0,0.0,0.0,0.0,0.0,0.0,0.0,0.0,0.0,0.0,0.0,0.0,0.0,0.0,0.0,0.0,0.0,0.0,0.0,0.0,0.0,0.0,0.0,0.0,0.0,0.0,0.0,0.0,0.0,0.0,0.0,0.0,0.0,0.0,0.0,0.0],\"type\":\"scatter\",\"xaxis\":\"x2\",\"yaxis\":\"y2\"},{\"mode\":\"lines\",\"name\":\"Printable\",\"x\":[0.0,1.0,2.0,3.0,4.0,5.0,6.0,7.0,8.0,9.0,10.0,11.0,12.0,13.0,14.0,15.0,16.0,17.0,18.0,19.0,20.0,21.0,22.0,23.0,24.0,25.0,26.0,27.0,28.0,29.0,30.0,31.0,32.0,33.0,34.0,35.0,36.0,37.0,38.0,39.0,40.0,41.0,42.0,43.0,44.0,45.0,46.0,47.0,48.0,49.0,50.0,51.0,52.0,53.0,54.0,55.0,56.0,57.0,58.0,59.0,60.0,61.0,62.0,63.0,64.0,65.0,66.0,67.0,68.0,69.0,70.0,71.0,72.0,73.0,74.0],\"y\":[94.0,94.0,94.0,94.0,94.0,94.0,86.0,86.0,80.0,72.0,66.0,66.0,58.0,44.0,30.0,22.0,1.0,2.0,2.0,1.0,4.0,1.0,7.0,0.0,2.0,3.0,2.0,2.0,2.0,0.0,1.0,1.0,2.0,2.0,0.0,49.0,49.0,49.0,49.0,49.0,49.0,49.0,49.0,49.0,49.0,49.0,49.0,49.0,49.0,49.0,49.0,49.0,49.0,49.0,49.0,49.0,49.0,49.0,49.0,49.0,49.0,49.0,49.0,49.0,49.0,49.0,49.0,49.0,49.0,49.0,49.0,49.0,49.0,49.0,49.0],\"type\":\"scatter\",\"xaxis\":\"x2\",\"yaxis\":\"y2\"},{\"mode\":\"lines\",\"name\":\"Materials\",\"x\":[0.0,1.0,2.0,3.0,4.0,5.0,6.0,7.0,8.0,9.0,10.0,11.0,12.0,13.0,14.0,15.0,16.0,17.0,18.0,19.0,20.0,21.0,22.0,23.0,24.0,25.0,26.0,27.0,28.0,29.0,30.0,31.0,32.0,33.0,34.0,35.0,36.0,37.0,38.0,39.0,40.0,41.0,42.0,43.0,44.0,45.0,46.0,47.0,48.0,49.0,50.0,51.0,52.0,53.0,54.0,55.0,56.0,57.0,58.0,59.0,60.0,61.0,62.0,63.0,64.0,65.0,66.0,67.0,68.0,69.0,70.0,71.0,72.0,73.0,74.0],\"y\":[50.0,50.0,50.0,50.0,50.0,50.0,50.0,50.0,51.0,53.0,56.0,60.0,64.0,69.0,76.0,84.0,93.0,102.0,113.0,120.0,123.0,122.0,124.0,128.0,134.0,138.0,139.0,140.0,144.0,147.0,151.0,148.0,146.0,130.0,72.0,1.0,1.0,1.0,1.0,1.0,1.0,1.0,1.0,1.0,1.0,1.0,1.0,1.0,1.0,1.0,1.0,1.0,1.0,1.0,1.0,1.0,1.0,1.0,1.0,1.0,1.0,1.0,1.0,1.0,1.0,1.0,1.0,1.0,1.0,1.0,1.0,1.0,1.0,1.0,1.0],\"type\":\"scatter\",\"xaxis\":\"x2\",\"yaxis\":\"y2\"},{\"mode\":\"lines\",\"name\":\"Env_Materials\",\"x\":[0.0,1.0,2.0,3.0,4.0,5.0,6.0,7.0,8.0,9.0,10.0,11.0,12.0,13.0,14.0,15.0,16.0,17.0,18.0,19.0,20.0,21.0,22.0,23.0,24.0,25.0,26.0,27.0,28.0,29.0,30.0,31.0,32.0,33.0,34.0,35.0,36.0,37.0,38.0,39.0,40.0,41.0,42.0,43.0,44.0,45.0,46.0,47.0,48.0,49.0,50.0,51.0,52.0,53.0,54.0,55.0,56.0,57.0,58.0,59.0,60.0,61.0,62.0,63.0,64.0,65.0,66.0,67.0,68.0,69.0,70.0,71.0,72.0,73.0,74.0],\"y\":[500.0,500.0,500.0,500.0,500.0,500.0,500.0,500.0,499.0,497.0,494.0,490.0,486.0,481.0,474.0,466.0,456.0,442.0,425.0,407.0,389.0,371.0,351.0,330.0,308.0,285.0,259.0,228.0,194.0,159.0,120.0,79.0,36.0,0.0,0.0,0.0,0.0,0.0,0.0,0.0,0.0,0.0,0.0,0.0,0.0,0.0,0.0,0.0,0.0,0.0,0.0,0.0,0.0,0.0,0.0,0.0,0.0,0.0,0.0,0.0,0.0,0.0,0.0,0.0,0.0,0.0,0.0,0.0,0.0,0.0,0.0,0.0,0.0,0.0,0.0],\"type\":\"scatter\",\"xaxis\":\"x2\",\"yaxis\":\"y2\"},{\"mode\":\"lines\",\"name\":\"Avg. Quality #in\",\"x\":[0.0,1.0,2.0,3.0,4.0,5.0,6.0,7.0,8.0,9.0,10.0,11.0,12.0,13.0,14.0,15.0,16.0,17.0,18.0,19.0,20.0,21.0,22.0,23.0,24.0,25.0,26.0,27.0,28.0,29.0,30.0,31.0,32.0,33.0,34.0,35.0,36.0,37.0,38.0,39.0,40.0,41.0,42.0,43.0,44.0,45.0,46.0,47.0,48.0,49.0,50.0,51.0,52.0,53.0,54.0,55.0,56.0,57.0,58.0,59.0,60.0,61.0,62.0,63.0,64.0,65.0,66.0,67.0,68.0,69.0,70.0,71.0,72.0,73.0,74.0],\"y\":[0.918,0.918,0.918,0.918,0.918,0.918,0.933,0.933,0.89,0.913,0.887,0.887,0.905,0.88,0.892,0.888,0.877,0.862,0.825,0.806,0.767,0.746,0.733,0.713,0.713,0.697,0.696,0.683,0.679,0.655,0.646,0.635,0.623,0.615,0.592,0.565,0.551,0.544,0.544,0.54,0.538,0.538,0.538,0.538,0.538,0.538,0.538,0.538,0.538,0.538,0.538,0.538,0.538,0.538,0.538,0.538,0.538,0.538,0.538,0.538,0.538,0.538,0.538,0.538,0.538,0.538,0.538,0.538,0.538,0.538,0.538,0.538,0.538,0.538,0.538],\"type\":\"scatter\",\"xaxis\":\"x4\",\"yaxis\":\"y4\"},{\"mode\":\"lines\",\"name\":\"Avg. Quality #total\",\"x\":[0.0,1.0,2.0,3.0,4.0,5.0,6.0,7.0,8.0,9.0,10.0,11.0,12.0,13.0,14.0,15.0,16.0,17.0,18.0,19.0,20.0,21.0,22.0,23.0,24.0,25.0,26.0,27.0,28.0,29.0,30.0,31.0,32.0,33.0,34.0,35.0,36.0,37.0,38.0,39.0,40.0,41.0,42.0,43.0,44.0,45.0,46.0,47.0,48.0,49.0,50.0,51.0,52.0,53.0,54.0,55.0,56.0,57.0,58.0,59.0,60.0,61.0,62.0,63.0,64.0,65.0,66.0,67.0,68.0,69.0,70.0,71.0,72.0,73.0,74.0],\"y\":[0.918,0.918,0.918,0.918,0.918,0.918,0.933,0.933,0.89,0.913,0.887,0.887,0.905,0.88,0.892,0.888,0.877,0.862,0.835,0.813,0.79,0.769,0.763,0.751,0.749,0.734,0.735,0.725,0.72,0.703,0.694,0.686,0.681,0.674,0.658,0.642,0.633,0.629,0.629,0.628,0.627,0.627,0.627,0.627,0.627,0.627,0.627,0.627,0.627,0.627,0.627,0.627,0.627,0.627,0.627,0.627,0.627,0.627,0.627,0.627,0.627,0.627,0.627,0.627,0.627,0.627,0.627,0.627,0.627,0.627,0.627,0.627,0.627,0.627,0.627],\"type\":\"scatter\",\"xaxis\":\"x4\",\"yaxis\":\"y4\"}],                        {\"template\":{\"data\":{\"histogram2dcontour\":[{\"type\":\"histogram2dcontour\",\"colorbar\":{\"outlinewidth\":0,\"ticks\":\"\"},\"colorscale\":[[0.0,\"#0d0887\"],[0.1111111111111111,\"#46039f\"],[0.2222222222222222,\"#7201a8\"],[0.3333333333333333,\"#9c179e\"],[0.4444444444444444,\"#bd3786\"],[0.5555555555555556,\"#d8576b\"],[0.6666666666666666,\"#ed7953\"],[0.7777777777777778,\"#fb9f3a\"],[0.8888888888888888,\"#fdca26\"],[1.0,\"#f0f921\"]]}],\"choropleth\":[{\"type\":\"choropleth\",\"colorbar\":{\"outlinewidth\":0,\"ticks\":\"\"}}],\"histogram2d\":[{\"type\":\"histogram2d\",\"colorbar\":{\"outlinewidth\":0,\"ticks\":\"\"},\"colorscale\":[[0.0,\"#0d0887\"],[0.1111111111111111,\"#46039f\"],[0.2222222222222222,\"#7201a8\"],[0.3333333333333333,\"#9c179e\"],[0.4444444444444444,\"#bd3786\"],[0.5555555555555556,\"#d8576b\"],[0.6666666666666666,\"#ed7953\"],[0.7777777777777778,\"#fb9f3a\"],[0.8888888888888888,\"#fdca26\"],[1.0,\"#f0f921\"]]}],\"heatmap\":[{\"type\":\"heatmap\",\"colorbar\":{\"outlinewidth\":0,\"ticks\":\"\"},\"colorscale\":[[0.0,\"#0d0887\"],[0.1111111111111111,\"#46039f\"],[0.2222222222222222,\"#7201a8\"],[0.3333333333333333,\"#9c179e\"],[0.4444444444444444,\"#bd3786\"],[0.5555555555555556,\"#d8576b\"],[0.6666666666666666,\"#ed7953\"],[0.7777777777777778,\"#fb9f3a\"],[0.8888888888888888,\"#fdca26\"],[1.0,\"#f0f921\"]]}],\"heatmapgl\":[{\"type\":\"heatmapgl\",\"colorbar\":{\"outlinewidth\":0,\"ticks\":\"\"},\"colorscale\":[[0.0,\"#0d0887\"],[0.1111111111111111,\"#46039f\"],[0.2222222222222222,\"#7201a8\"],[0.3333333333333333,\"#9c179e\"],[0.4444444444444444,\"#bd3786\"],[0.5555555555555556,\"#d8576b\"],[0.6666666666666666,\"#ed7953\"],[0.7777777777777778,\"#fb9f3a\"],[0.8888888888888888,\"#fdca26\"],[1.0,\"#f0f921\"]]}],\"contourcarpet\":[{\"type\":\"contourcarpet\",\"colorbar\":{\"outlinewidth\":0,\"ticks\":\"\"}}],\"contour\":[{\"type\":\"contour\",\"colorbar\":{\"outlinewidth\":0,\"ticks\":\"\"},\"colorscale\":[[0.0,\"#0d0887\"],[0.1111111111111111,\"#46039f\"],[0.2222222222222222,\"#7201a8\"],[0.3333333333333333,\"#9c179e\"],[0.4444444444444444,\"#bd3786\"],[0.5555555555555556,\"#d8576b\"],[0.6666666666666666,\"#ed7953\"],[0.7777777777777778,\"#fb9f3a\"],[0.8888888888888888,\"#fdca26\"],[1.0,\"#f0f921\"]]}],\"surface\":[{\"type\":\"surface\",\"colorbar\":{\"outlinewidth\":0,\"ticks\":\"\"},\"colorscale\":[[0.0,\"#0d0887\"],[0.1111111111111111,\"#46039f\"],[0.2222222222222222,\"#7201a8\"],[0.3333333333333333,\"#9c179e\"],[0.4444444444444444,\"#bd3786\"],[0.5555555555555556,\"#d8576b\"],[0.6666666666666666,\"#ed7953\"],[0.7777777777777778,\"#fb9f3a\"],[0.8888888888888888,\"#fdca26\"],[1.0,\"#f0f921\"]]}],\"mesh3d\":[{\"type\":\"mesh3d\",\"colorbar\":{\"outlinewidth\":0,\"ticks\":\"\"}}],\"scatter\":[{\"fillpattern\":{\"fillmode\":\"overlay\",\"size\":10,\"solidity\":0.2},\"type\":\"scatter\"}],\"parcoords\":[{\"type\":\"parcoords\",\"line\":{\"colorbar\":{\"outlinewidth\":0,\"ticks\":\"\"}}}],\"scatterpolargl\":[{\"type\":\"scatterpolargl\",\"marker\":{\"colorbar\":{\"outlinewidth\":0,\"ticks\":\"\"}}}],\"bar\":[{\"error_x\":{\"color\":\"#2a3f5f\"},\"error_y\":{\"color\":\"#2a3f5f\"},\"marker\":{\"line\":{\"color\":\"#E5ECF6\",\"width\":0.5},\"pattern\":{\"fillmode\":\"overlay\",\"size\":10,\"solidity\":0.2}},\"type\":\"bar\"}],\"scattergeo\":[{\"type\":\"scattergeo\",\"marker\":{\"colorbar\":{\"outlinewidth\":0,\"ticks\":\"\"}}}],\"scatterpolar\":[{\"type\":\"scatterpolar\",\"marker\":{\"colorbar\":{\"outlinewidth\":0,\"ticks\":\"\"}}}],\"histogram\":[{\"marker\":{\"pattern\":{\"fillmode\":\"overlay\",\"size\":10,\"solidity\":0.2}},\"type\":\"histogram\"}],\"scattergl\":[{\"type\":\"scattergl\",\"marker\":{\"colorbar\":{\"outlinewidth\":0,\"ticks\":\"\"}}}],\"scatter3d\":[{\"type\":\"scatter3d\",\"line\":{\"colorbar\":{\"outlinewidth\":0,\"ticks\":\"\"}},\"marker\":{\"colorbar\":{\"outlinewidth\":0,\"ticks\":\"\"}}}],\"scattermapbox\":[{\"type\":\"scattermapbox\",\"marker\":{\"colorbar\":{\"outlinewidth\":0,\"ticks\":\"\"}}}],\"scatterternary\":[{\"type\":\"scatterternary\",\"marker\":{\"colorbar\":{\"outlinewidth\":0,\"ticks\":\"\"}}}],\"scattercarpet\":[{\"type\":\"scattercarpet\",\"marker\":{\"colorbar\":{\"outlinewidth\":0,\"ticks\":\"\"}}}],\"carpet\":[{\"aaxis\":{\"endlinecolor\":\"#2a3f5f\",\"gridcolor\":\"white\",\"linecolor\":\"white\",\"minorgridcolor\":\"white\",\"startlinecolor\":\"#2a3f5f\"},\"baxis\":{\"endlinecolor\":\"#2a3f5f\",\"gridcolor\":\"white\",\"linecolor\":\"white\",\"minorgridcolor\":\"white\",\"startlinecolor\":\"#2a3f5f\"},\"type\":\"carpet\"}],\"table\":[{\"cells\":{\"fill\":{\"color\":\"#EBF0F8\"},\"line\":{\"color\":\"white\"}},\"header\":{\"fill\":{\"color\":\"#C8D4E3\"},\"line\":{\"color\":\"white\"}},\"type\":\"table\"}],\"barpolar\":[{\"marker\":{\"line\":{\"color\":\"#E5ECF6\",\"width\":0.5},\"pattern\":{\"fillmode\":\"overlay\",\"size\":10,\"solidity\":0.2}},\"type\":\"barpolar\"}],\"pie\":[{\"automargin\":true,\"type\":\"pie\"}]},\"layout\":{\"autotypenumbers\":\"strict\",\"colorway\":[\"#636efa\",\"#EF553B\",\"#00cc96\",\"#ab63fa\",\"#FFA15A\",\"#19d3f3\",\"#FF6692\",\"#B6E880\",\"#FF97FF\",\"#FECB52\"],\"font\":{\"color\":\"#2a3f5f\"},\"hovermode\":\"closest\",\"hoverlabel\":{\"align\":\"left\"},\"paper_bgcolor\":\"white\",\"plot_bgcolor\":\"#E5ECF6\",\"polar\":{\"bgcolor\":\"#E5ECF6\",\"angularaxis\":{\"gridcolor\":\"white\",\"linecolor\":\"white\",\"ticks\":\"\"},\"radialaxis\":{\"gridcolor\":\"white\",\"linecolor\":\"white\",\"ticks\":\"\"}},\"ternary\":{\"bgcolor\":\"#E5ECF6\",\"aaxis\":{\"gridcolor\":\"white\",\"linecolor\":\"white\",\"ticks\":\"\"},\"baxis\":{\"gridcolor\":\"white\",\"linecolor\":\"white\",\"ticks\":\"\"},\"caxis\":{\"gridcolor\":\"white\",\"linecolor\":\"white\",\"ticks\":\"\"}},\"coloraxis\":{\"colorbar\":{\"outlinewidth\":0,\"ticks\":\"\"}},\"colorscale\":{\"sequential\":[[0.0,\"#0d0887\"],[0.1111111111111111,\"#46039f\"],[0.2222222222222222,\"#7201a8\"],[0.3333333333333333,\"#9c179e\"],[0.4444444444444444,\"#bd3786\"],[0.5555555555555556,\"#d8576b\"],[0.6666666666666666,\"#ed7953\"],[0.7777777777777778,\"#fb9f3a\"],[0.8888888888888888,\"#fdca26\"],[1.0,\"#f0f921\"]],\"sequentialminus\":[[0.0,\"#0d0887\"],[0.1111111111111111,\"#46039f\"],[0.2222222222222222,\"#7201a8\"],[0.3333333333333333,\"#9c179e\"],[0.4444444444444444,\"#bd3786\"],[0.5555555555555556,\"#d8576b\"],[0.6666666666666666,\"#ed7953\"],[0.7777777777777778,\"#fb9f3a\"],[0.8888888888888888,\"#fdca26\"],[1.0,\"#f0f921\"]],\"diverging\":[[0,\"#8e0152\"],[0.1,\"#c51b7d\"],[0.2,\"#de77ae\"],[0.3,\"#f1b6da\"],[0.4,\"#fde0ef\"],[0.5,\"#f7f7f7\"],[0.6,\"#e6f5d0\"],[0.7,\"#b8e186\"],[0.8,\"#7fbc41\"],[0.9,\"#4d9221\"],[1,\"#276419\"]]},\"xaxis\":{\"gridcolor\":\"white\",\"linecolor\":\"white\",\"ticks\":\"\",\"title\":{\"standoff\":15},\"zerolinecolor\":\"white\",\"automargin\":true,\"zerolinewidth\":2},\"yaxis\":{\"gridcolor\":\"white\",\"linecolor\":\"white\",\"ticks\":\"\",\"title\":{\"standoff\":15},\"zerolinecolor\":\"white\",\"automargin\":true,\"zerolinewidth\":2},\"scene\":{\"xaxis\":{\"backgroundcolor\":\"#E5ECF6\",\"gridcolor\":\"white\",\"linecolor\":\"white\",\"showbackground\":true,\"ticks\":\"\",\"zerolinecolor\":\"white\",\"gridwidth\":2},\"yaxis\":{\"backgroundcolor\":\"#E5ECF6\",\"gridcolor\":\"white\",\"linecolor\":\"white\",\"showbackground\":true,\"ticks\":\"\",\"zerolinecolor\":\"white\",\"gridwidth\":2},\"zaxis\":{\"backgroundcolor\":\"#E5ECF6\",\"gridcolor\":\"white\",\"linecolor\":\"white\",\"showbackground\":true,\"ticks\":\"\",\"zerolinecolor\":\"white\",\"gridwidth\":2}},\"shapedefaults\":{\"line\":{\"color\":\"#2a3f5f\"}},\"annotationdefaults\":{\"arrowcolor\":\"#2a3f5f\",\"arrowhead\":0,\"arrowwidth\":1},\"geo\":{\"bgcolor\":\"white\",\"landcolor\":\"#E5ECF6\",\"subunitcolor\":\"white\",\"showland\":true,\"showlakes\":true,\"lakecolor\":\"white\"},\"title\":{\"x\":0.05},\"mapbox\":{\"style\":\"light\"}}},\"xaxis\":{\"anchor\":\"y\",\"domain\":[0.0,0.45]},\"yaxis\":{\"anchor\":\"x\",\"domain\":[0.625,1.0]},\"xaxis2\":{\"anchor\":\"y2\",\"domain\":[0.55,1.0]},\"yaxis2\":{\"anchor\":\"x2\",\"domain\":[0.625,1.0]},\"xaxis3\":{\"anchor\":\"y3\",\"domain\":[0.0,0.45]},\"yaxis3\":{\"anchor\":\"x3\",\"domain\":[0.0,0.375]},\"xaxis4\":{\"anchor\":\"y4\",\"domain\":[0.55,1.0]},\"yaxis4\":{\"anchor\":\"x4\",\"domain\":[0.0,0.375]},\"annotations\":[{\"font\":{\"size\":16},\"showarrow\":false,\"text\":\"Types of Robots vs Time\",\"x\":0.225,\"xanchor\":\"center\",\"xref\":\"paper\",\"y\":1.0,\"yanchor\":\"bottom\",\"yref\":\"paper\"},{\"font\":{\"size\":16},\"showarrow\":false,\"text\":\"Resources vs Time\",\"x\":0.775,\"xanchor\":\"center\",\"xref\":\"paper\",\"y\":1.0,\"yanchor\":\"bottom\",\"yref\":\"paper\"},{\"font\":{\"size\":16},\"showarrow\":false,\"text\":\"Tasks of Robots vs Time\",\"x\":0.225,\"xanchor\":\"center\",\"xref\":\"paper\",\"y\":0.375,\"yanchor\":\"bottom\",\"yref\":\"paper\"},{\"font\":{\"size\":16},\"showarrow\":false,\"text\":\"Build Quality vs Time\",\"x\":0.775,\"xanchor\":\"center\",\"xref\":\"paper\",\"y\":0.375,\"yanchor\":\"bottom\",\"yref\":\"paper\"}],\"hovermode\":\"x\",\"title\":{\"text\":\"HHO - Characteristics\"}},                        {\"responsive\": true}                    ).then(function(){\n",
       "                            \n",
       "var gd = document.getElementById('c7c88f04-5f4f-47ff-ad87-a7a9e81937d7');\n",
       "var x = new MutationObserver(function (mutations, observer) {{\n",
       "        var display = window.getComputedStyle(gd).display;\n",
       "        if (!display || display === 'none') {{\n",
       "            console.log([gd, 'removed!']);\n",
       "            Plotly.purge(gd);\n",
       "            observer.disconnect();\n",
       "        }}\n",
       "}});\n",
       "\n",
       "// Listen for the removal of the full notebook cells\n",
       "var notebookContainer = gd.closest('#notebook-container');\n",
       "if (notebookContainer) {{\n",
       "    x.observe(notebookContainer, {childList: true});\n",
       "}}\n",
       "\n",
       "// Listen for the clearing of the current output cell\n",
       "var outputEl = gd.closest('.output');\n",
       "if (outputEl) {{\n",
       "    x.observe(outputEl, {childList: true});\n",
       "}}\n",
       "\n",
       "                        })                };                });            </script>        </div>"
      ]
     },
     "metadata": {},
     "output_type": "display_data"
    },
    {
     "data": {
      "application/vnd.plotly.v1+json": {
       "config": {
        "plotlyServerURL": "https://plotly.com"
       },
       "data": [
        {
         "alignmentgroup": "True",
         "hovertemplate": "variable=#In<br>Time=%{x}<br>value=%{y}<extra></extra>",
         "legendgroup": "#In",
         "marker": {
          "color": "#636efa",
          "pattern": {
           "shape": ""
          }
         },
         "name": "#In",
         "offsetgroup": "#In",
         "orientation": "v",
         "showlegend": true,
         "textposition": "auto",
         "type": "bar",
         "x": [
          0,
          1,
          2,
          3,
          4,
          5,
          6,
          7,
          8,
          9,
          10,
          11,
          12,
          13,
          14,
          15,
          16,
          17,
          18,
          19,
          20,
          21,
          22,
          23,
          24,
          25,
          26,
          27,
          28,
          29,
          30,
          31,
          32,
          33,
          34,
          35,
          36,
          37,
          38,
          39,
          40,
          41,
          42,
          43,
          44,
          45,
          46,
          47,
          48,
          49,
          50,
          51,
          52,
          53,
          54,
          55,
          56,
          57,
          58,
          59,
          60,
          61,
          62,
          63,
          64,
          65,
          66,
          67,
          68,
          69,
          70,
          71,
          72,
          73,
          74
         ],
         "xaxis": "x",
         "y": [
          2,
          2,
          4,
          4,
          6,
          6,
          8,
          8,
          10,
          10,
          12,
          12,
          14,
          14,
          16,
          16,
          18,
          18,
          20,
          20,
          22,
          22,
          24,
          24,
          26,
          26,
          28,
          28,
          30,
          30,
          32,
          32,
          34,
          34,
          36,
          36,
          38,
          38,
          40,
          40,
          42,
          42,
          44,
          44,
          46,
          46,
          48,
          48,
          50,
          50,
          52,
          52,
          54,
          54,
          56,
          56,
          58,
          58,
          60,
          60,
          62,
          62,
          64,
          64,
          66,
          66,
          68,
          68,
          70,
          70,
          72,
          72,
          74,
          74,
          76
         ],
         "yaxis": "y"
        },
        {
         "alignmentgroup": "True",
         "hovertemplate": "variable=#Out<br>Time=%{x}<br>value=%{y}<extra></extra>",
         "legendgroup": "#Out",
         "marker": {
          "color": "#EF553B",
          "pattern": {
           "shape": ""
          }
         },
         "name": "#Out",
         "offsetgroup": "#Out",
         "orientation": "v",
         "showlegend": true,
         "textposition": "auto",
         "type": "bar",
         "x": [
          0,
          1,
          2,
          3,
          4,
          5,
          6,
          7,
          8,
          9,
          10,
          11,
          12,
          13,
          14,
          15,
          16,
          17,
          18,
          19,
          20,
          21,
          22,
          23,
          24,
          25,
          26,
          27,
          28,
          29,
          30,
          31,
          32,
          33,
          34,
          35,
          36,
          37,
          38,
          39,
          40,
          41,
          42,
          43,
          44,
          45,
          46,
          47,
          48,
          49,
          50,
          51,
          52,
          53,
          54,
          55,
          56,
          57,
          58,
          59,
          60,
          61,
          62,
          63,
          64,
          65,
          66,
          67,
          68,
          69,
          70,
          71,
          72,
          73,
          74
         ],
         "xaxis": "x",
         "y": [
          0,
          0,
          0,
          0,
          0,
          0,
          0,
          0,
          0,
          0,
          0,
          0,
          0,
          0,
          0,
          0,
          0,
          0,
          0,
          0,
          0,
          0,
          0,
          0,
          0,
          0,
          0,
          0,
          0,
          0,
          0,
          0,
          0,
          0,
          0,
          0,
          0,
          0,
          0,
          0,
          0,
          0,
          0,
          0,
          0,
          0,
          0,
          0,
          0,
          0,
          0,
          0,
          0,
          0,
          0,
          0,
          0,
          0,
          0,
          0,
          0,
          0,
          0,
          0,
          0,
          0,
          0,
          0,
          0,
          0,
          0,
          0,
          0,
          0,
          0
         ],
         "yaxis": "y"
        }
       ],
       "layout": {
        "barmode": "relative",
        "hovermode": "x",
        "legend": {
         "title": {
          "text": "variable"
         },
         "tracegroupgap": 0
        },
        "template": {
         "data": {
          "bar": [
           {
            "error_x": {
             "color": "#2a3f5f"
            },
            "error_y": {
             "color": "#2a3f5f"
            },
            "marker": {
             "line": {
              "color": "#E5ECF6",
              "width": 0.5
             },
             "pattern": {
              "fillmode": "overlay",
              "size": 10,
              "solidity": 0.2
             }
            },
            "type": "bar"
           }
          ],
          "barpolar": [
           {
            "marker": {
             "line": {
              "color": "#E5ECF6",
              "width": 0.5
             },
             "pattern": {
              "fillmode": "overlay",
              "size": 10,
              "solidity": 0.2
             }
            },
            "type": "barpolar"
           }
          ],
          "carpet": [
           {
            "aaxis": {
             "endlinecolor": "#2a3f5f",
             "gridcolor": "white",
             "linecolor": "white",
             "minorgridcolor": "white",
             "startlinecolor": "#2a3f5f"
            },
            "baxis": {
             "endlinecolor": "#2a3f5f",
             "gridcolor": "white",
             "linecolor": "white",
             "minorgridcolor": "white",
             "startlinecolor": "#2a3f5f"
            },
            "type": "carpet"
           }
          ],
          "choropleth": [
           {
            "colorbar": {
             "outlinewidth": 0,
             "ticks": ""
            },
            "type": "choropleth"
           }
          ],
          "contour": [
           {
            "colorbar": {
             "outlinewidth": 0,
             "ticks": ""
            },
            "colorscale": [
             [
              0,
              "#0d0887"
             ],
             [
              0.1111111111111111,
              "#46039f"
             ],
             [
              0.2222222222222222,
              "#7201a8"
             ],
             [
              0.3333333333333333,
              "#9c179e"
             ],
             [
              0.4444444444444444,
              "#bd3786"
             ],
             [
              0.5555555555555556,
              "#d8576b"
             ],
             [
              0.6666666666666666,
              "#ed7953"
             ],
             [
              0.7777777777777778,
              "#fb9f3a"
             ],
             [
              0.8888888888888888,
              "#fdca26"
             ],
             [
              1,
              "#f0f921"
             ]
            ],
            "type": "contour"
           }
          ],
          "contourcarpet": [
           {
            "colorbar": {
             "outlinewidth": 0,
             "ticks": ""
            },
            "type": "contourcarpet"
           }
          ],
          "heatmap": [
           {
            "colorbar": {
             "outlinewidth": 0,
             "ticks": ""
            },
            "colorscale": [
             [
              0,
              "#0d0887"
             ],
             [
              0.1111111111111111,
              "#46039f"
             ],
             [
              0.2222222222222222,
              "#7201a8"
             ],
             [
              0.3333333333333333,
              "#9c179e"
             ],
             [
              0.4444444444444444,
              "#bd3786"
             ],
             [
              0.5555555555555556,
              "#d8576b"
             ],
             [
              0.6666666666666666,
              "#ed7953"
             ],
             [
              0.7777777777777778,
              "#fb9f3a"
             ],
             [
              0.8888888888888888,
              "#fdca26"
             ],
             [
              1,
              "#f0f921"
             ]
            ],
            "type": "heatmap"
           }
          ],
          "heatmapgl": [
           {
            "colorbar": {
             "outlinewidth": 0,
             "ticks": ""
            },
            "colorscale": [
             [
              0,
              "#0d0887"
             ],
             [
              0.1111111111111111,
              "#46039f"
             ],
             [
              0.2222222222222222,
              "#7201a8"
             ],
             [
              0.3333333333333333,
              "#9c179e"
             ],
             [
              0.4444444444444444,
              "#bd3786"
             ],
             [
              0.5555555555555556,
              "#d8576b"
             ],
             [
              0.6666666666666666,
              "#ed7953"
             ],
             [
              0.7777777777777778,
              "#fb9f3a"
             ],
             [
              0.8888888888888888,
              "#fdca26"
             ],
             [
              1,
              "#f0f921"
             ]
            ],
            "type": "heatmapgl"
           }
          ],
          "histogram": [
           {
            "marker": {
             "pattern": {
              "fillmode": "overlay",
              "size": 10,
              "solidity": 0.2
             }
            },
            "type": "histogram"
           }
          ],
          "histogram2d": [
           {
            "colorbar": {
             "outlinewidth": 0,
             "ticks": ""
            },
            "colorscale": [
             [
              0,
              "#0d0887"
             ],
             [
              0.1111111111111111,
              "#46039f"
             ],
             [
              0.2222222222222222,
              "#7201a8"
             ],
             [
              0.3333333333333333,
              "#9c179e"
             ],
             [
              0.4444444444444444,
              "#bd3786"
             ],
             [
              0.5555555555555556,
              "#d8576b"
             ],
             [
              0.6666666666666666,
              "#ed7953"
             ],
             [
              0.7777777777777778,
              "#fb9f3a"
             ],
             [
              0.8888888888888888,
              "#fdca26"
             ],
             [
              1,
              "#f0f921"
             ]
            ],
            "type": "histogram2d"
           }
          ],
          "histogram2dcontour": [
           {
            "colorbar": {
             "outlinewidth": 0,
             "ticks": ""
            },
            "colorscale": [
             [
              0,
              "#0d0887"
             ],
             [
              0.1111111111111111,
              "#46039f"
             ],
             [
              0.2222222222222222,
              "#7201a8"
             ],
             [
              0.3333333333333333,
              "#9c179e"
             ],
             [
              0.4444444444444444,
              "#bd3786"
             ],
             [
              0.5555555555555556,
              "#d8576b"
             ],
             [
              0.6666666666666666,
              "#ed7953"
             ],
             [
              0.7777777777777778,
              "#fb9f3a"
             ],
             [
              0.8888888888888888,
              "#fdca26"
             ],
             [
              1,
              "#f0f921"
             ]
            ],
            "type": "histogram2dcontour"
           }
          ],
          "mesh3d": [
           {
            "colorbar": {
             "outlinewidth": 0,
             "ticks": ""
            },
            "type": "mesh3d"
           }
          ],
          "parcoords": [
           {
            "line": {
             "colorbar": {
              "outlinewidth": 0,
              "ticks": ""
             }
            },
            "type": "parcoords"
           }
          ],
          "pie": [
           {
            "automargin": true,
            "type": "pie"
           }
          ],
          "scatter": [
           {
            "fillpattern": {
             "fillmode": "overlay",
             "size": 10,
             "solidity": 0.2
            },
            "type": "scatter"
           }
          ],
          "scatter3d": [
           {
            "line": {
             "colorbar": {
              "outlinewidth": 0,
              "ticks": ""
             }
            },
            "marker": {
             "colorbar": {
              "outlinewidth": 0,
              "ticks": ""
             }
            },
            "type": "scatter3d"
           }
          ],
          "scattercarpet": [
           {
            "marker": {
             "colorbar": {
              "outlinewidth": 0,
              "ticks": ""
             }
            },
            "type": "scattercarpet"
           }
          ],
          "scattergeo": [
           {
            "marker": {
             "colorbar": {
              "outlinewidth": 0,
              "ticks": ""
             }
            },
            "type": "scattergeo"
           }
          ],
          "scattergl": [
           {
            "marker": {
             "colorbar": {
              "outlinewidth": 0,
              "ticks": ""
             }
            },
            "type": "scattergl"
           }
          ],
          "scattermapbox": [
           {
            "marker": {
             "colorbar": {
              "outlinewidth": 0,
              "ticks": ""
             }
            },
            "type": "scattermapbox"
           }
          ],
          "scatterpolar": [
           {
            "marker": {
             "colorbar": {
              "outlinewidth": 0,
              "ticks": ""
             }
            },
            "type": "scatterpolar"
           }
          ],
          "scatterpolargl": [
           {
            "marker": {
             "colorbar": {
              "outlinewidth": 0,
              "ticks": ""
             }
            },
            "type": "scatterpolargl"
           }
          ],
          "scatterternary": [
           {
            "marker": {
             "colorbar": {
              "outlinewidth": 0,
              "ticks": ""
             }
            },
            "type": "scatterternary"
           }
          ],
          "surface": [
           {
            "colorbar": {
             "outlinewidth": 0,
             "ticks": ""
            },
            "colorscale": [
             [
              0,
              "#0d0887"
             ],
             [
              0.1111111111111111,
              "#46039f"
             ],
             [
              0.2222222222222222,
              "#7201a8"
             ],
             [
              0.3333333333333333,
              "#9c179e"
             ],
             [
              0.4444444444444444,
              "#bd3786"
             ],
             [
              0.5555555555555556,
              "#d8576b"
             ],
             [
              0.6666666666666666,
              "#ed7953"
             ],
             [
              0.7777777777777778,
              "#fb9f3a"
             ],
             [
              0.8888888888888888,
              "#fdca26"
             ],
             [
              1,
              "#f0f921"
             ]
            ],
            "type": "surface"
           }
          ],
          "table": [
           {
            "cells": {
             "fill": {
              "color": "#EBF0F8"
             },
             "line": {
              "color": "white"
             }
            },
            "header": {
             "fill": {
              "color": "#C8D4E3"
             },
             "line": {
              "color": "white"
             }
            },
            "type": "table"
           }
          ]
         },
         "layout": {
          "annotationdefaults": {
           "arrowcolor": "#2a3f5f",
           "arrowhead": 0,
           "arrowwidth": 1
          },
          "autotypenumbers": "strict",
          "coloraxis": {
           "colorbar": {
            "outlinewidth": 0,
            "ticks": ""
           }
          },
          "colorscale": {
           "diverging": [
            [
             0,
             "#8e0152"
            ],
            [
             0.1,
             "#c51b7d"
            ],
            [
             0.2,
             "#de77ae"
            ],
            [
             0.3,
             "#f1b6da"
            ],
            [
             0.4,
             "#fde0ef"
            ],
            [
             0.5,
             "#f7f7f7"
            ],
            [
             0.6,
             "#e6f5d0"
            ],
            [
             0.7,
             "#b8e186"
            ],
            [
             0.8,
             "#7fbc41"
            ],
            [
             0.9,
             "#4d9221"
            ],
            [
             1,
             "#276419"
            ]
           ],
           "sequential": [
            [
             0,
             "#0d0887"
            ],
            [
             0.1111111111111111,
             "#46039f"
            ],
            [
             0.2222222222222222,
             "#7201a8"
            ],
            [
             0.3333333333333333,
             "#9c179e"
            ],
            [
             0.4444444444444444,
             "#bd3786"
            ],
            [
             0.5555555555555556,
             "#d8576b"
            ],
            [
             0.6666666666666666,
             "#ed7953"
            ],
            [
             0.7777777777777778,
             "#fb9f3a"
            ],
            [
             0.8888888888888888,
             "#fdca26"
            ],
            [
             1,
             "#f0f921"
            ]
           ],
           "sequentialminus": [
            [
             0,
             "#0d0887"
            ],
            [
             0.1111111111111111,
             "#46039f"
            ],
            [
             0.2222222222222222,
             "#7201a8"
            ],
            [
             0.3333333333333333,
             "#9c179e"
            ],
            [
             0.4444444444444444,
             "#bd3786"
            ],
            [
             0.5555555555555556,
             "#d8576b"
            ],
            [
             0.6666666666666666,
             "#ed7953"
            ],
            [
             0.7777777777777778,
             "#fb9f3a"
            ],
            [
             0.8888888888888888,
             "#fdca26"
            ],
            [
             1,
             "#f0f921"
            ]
           ]
          },
          "colorway": [
           "#636efa",
           "#EF553B",
           "#00cc96",
           "#ab63fa",
           "#FFA15A",
           "#19d3f3",
           "#FF6692",
           "#B6E880",
           "#FF97FF",
           "#FECB52"
          ],
          "font": {
           "color": "#2a3f5f"
          },
          "geo": {
           "bgcolor": "white",
           "lakecolor": "white",
           "landcolor": "#E5ECF6",
           "showlakes": true,
           "showland": true,
           "subunitcolor": "white"
          },
          "hoverlabel": {
           "align": "left"
          },
          "hovermode": "closest",
          "mapbox": {
           "style": "light"
          },
          "paper_bgcolor": "white",
          "plot_bgcolor": "#E5ECF6",
          "polar": {
           "angularaxis": {
            "gridcolor": "white",
            "linecolor": "white",
            "ticks": ""
           },
           "bgcolor": "#E5ECF6",
           "radialaxis": {
            "gridcolor": "white",
            "linecolor": "white",
            "ticks": ""
           }
          },
          "scene": {
           "xaxis": {
            "backgroundcolor": "#E5ECF6",
            "gridcolor": "white",
            "gridwidth": 2,
            "linecolor": "white",
            "showbackground": true,
            "ticks": "",
            "zerolinecolor": "white"
           },
           "yaxis": {
            "backgroundcolor": "#E5ECF6",
            "gridcolor": "white",
            "gridwidth": 2,
            "linecolor": "white",
            "showbackground": true,
            "ticks": "",
            "zerolinecolor": "white"
           },
           "zaxis": {
            "backgroundcolor": "#E5ECF6",
            "gridcolor": "white",
            "gridwidth": 2,
            "linecolor": "white",
            "showbackground": true,
            "ticks": "",
            "zerolinecolor": "white"
           }
          },
          "shapedefaults": {
           "line": {
            "color": "#2a3f5f"
           }
          },
          "ternary": {
           "aaxis": {
            "gridcolor": "white",
            "linecolor": "white",
            "ticks": ""
           },
           "baxis": {
            "gridcolor": "white",
            "linecolor": "white",
            "ticks": ""
           },
           "bgcolor": "#E5ECF6",
           "caxis": {
            "gridcolor": "white",
            "linecolor": "white",
            "ticks": ""
           }
          },
          "title": {
           "x": 0.05
          },
          "xaxis": {
           "automargin": true,
           "gridcolor": "white",
           "linecolor": "white",
           "ticks": "",
           "title": {
            "standoff": 15
           },
           "zerolinecolor": "white",
           "zerolinewidth": 2
          },
          "yaxis": {
           "automargin": true,
           "gridcolor": "white",
           "linecolor": "white",
           "ticks": "",
           "title": {
            "standoff": 15
           },
           "zerolinecolor": "white",
           "zerolinewidth": 2
          }
         }
        },
        "title": {
         "text": "CHE - Habitat over Time"
        },
        "xaxis": {
         "anchor": "y",
         "domain": [
          0,
          1
         ],
         "title": {
          "text": "Time"
         }
        },
        "yaxis": {
         "anchor": "x",
         "domain": [
          0,
          1
         ],
         "title": {
          "text": "#Robots"
         }
        }
       }
      },
      "text/html": [
       "<div>                            <div id=\"4e70d2e9-4817-4869-b187-2af2ff7b73d3\" class=\"plotly-graph-div\" style=\"height:525px; width:100%;\"></div>            <script type=\"text/javascript\">                require([\"plotly\"], function(Plotly) {                    window.PLOTLYENV=window.PLOTLYENV || {};                                    if (document.getElementById(\"4e70d2e9-4817-4869-b187-2af2ff7b73d3\")) {                    Plotly.newPlot(                        \"4e70d2e9-4817-4869-b187-2af2ff7b73d3\",                        [{\"alignmentgroup\":\"True\",\"hovertemplate\":\"variable=#In<br>Time=%{x}<br>value=%{y}<extra></extra>\",\"legendgroup\":\"#In\",\"marker\":{\"color\":\"#636efa\",\"pattern\":{\"shape\":\"\"}},\"name\":\"#In\",\"offsetgroup\":\"#In\",\"orientation\":\"v\",\"showlegend\":true,\"textposition\":\"auto\",\"x\":[0.0,1.0,2.0,3.0,4.0,5.0,6.0,7.0,8.0,9.0,10.0,11.0,12.0,13.0,14.0,15.0,16.0,17.0,18.0,19.0,20.0,21.0,22.0,23.0,24.0,25.0,26.0,27.0,28.0,29.0,30.0,31.0,32.0,33.0,34.0,35.0,36.0,37.0,38.0,39.0,40.0,41.0,42.0,43.0,44.0,45.0,46.0,47.0,48.0,49.0,50.0,51.0,52.0,53.0,54.0,55.0,56.0,57.0,58.0,59.0,60.0,61.0,62.0,63.0,64.0,65.0,66.0,67.0,68.0,69.0,70.0,71.0,72.0,73.0,74.0],\"xaxis\":\"x\",\"y\":[2.0,2.0,4.0,4.0,6.0,6.0,8.0,8.0,10.0,10.0,12.0,12.0,14.0,14.0,16.0,16.0,18.0,18.0,20.0,20.0,22.0,22.0,24.0,24.0,26.0,26.0,28.0,28.0,30.0,30.0,32.0,32.0,34.0,34.0,36.0,36.0,38.0,38.0,40.0,40.0,42.0,42.0,44.0,44.0,46.0,46.0,48.0,48.0,50.0,50.0,52.0,52.0,54.0,54.0,56.0,56.0,58.0,58.0,60.0,60.0,62.0,62.0,64.0,64.0,66.0,66.0,68.0,68.0,70.0,70.0,72.0,72.0,74.0,74.0,76.0],\"yaxis\":\"y\",\"type\":\"bar\"},{\"alignmentgroup\":\"True\",\"hovertemplate\":\"variable=#Out<br>Time=%{x}<br>value=%{y}<extra></extra>\",\"legendgroup\":\"#Out\",\"marker\":{\"color\":\"#EF553B\",\"pattern\":{\"shape\":\"\"}},\"name\":\"#Out\",\"offsetgroup\":\"#Out\",\"orientation\":\"v\",\"showlegend\":true,\"textposition\":\"auto\",\"x\":[0.0,1.0,2.0,3.0,4.0,5.0,6.0,7.0,8.0,9.0,10.0,11.0,12.0,13.0,14.0,15.0,16.0,17.0,18.0,19.0,20.0,21.0,22.0,23.0,24.0,25.0,26.0,27.0,28.0,29.0,30.0,31.0,32.0,33.0,34.0,35.0,36.0,37.0,38.0,39.0,40.0,41.0,42.0,43.0,44.0,45.0,46.0,47.0,48.0,49.0,50.0,51.0,52.0,53.0,54.0,55.0,56.0,57.0,58.0,59.0,60.0,61.0,62.0,63.0,64.0,65.0,66.0,67.0,68.0,69.0,70.0,71.0,72.0,73.0,74.0],\"xaxis\":\"x\",\"y\":[0.0,0.0,0.0,0.0,0.0,0.0,0.0,0.0,0.0,0.0,0.0,0.0,0.0,0.0,0.0,0.0,0.0,0.0,0.0,0.0,0.0,0.0,0.0,0.0,0.0,0.0,0.0,0.0,0.0,0.0,0.0,0.0,0.0,0.0,0.0,0.0,0.0,0.0,0.0,0.0,0.0,0.0,0.0,0.0,0.0,0.0,0.0,0.0,0.0,0.0,0.0,0.0,0.0,0.0,0.0,0.0,0.0,0.0,0.0,0.0,0.0,0.0,0.0,0.0,0.0,0.0,0.0,0.0,0.0,0.0,0.0,0.0,0.0,0.0,0.0],\"yaxis\":\"y\",\"type\":\"bar\"}],                        {\"template\":{\"data\":{\"histogram2dcontour\":[{\"type\":\"histogram2dcontour\",\"colorbar\":{\"outlinewidth\":0,\"ticks\":\"\"},\"colorscale\":[[0.0,\"#0d0887\"],[0.1111111111111111,\"#46039f\"],[0.2222222222222222,\"#7201a8\"],[0.3333333333333333,\"#9c179e\"],[0.4444444444444444,\"#bd3786\"],[0.5555555555555556,\"#d8576b\"],[0.6666666666666666,\"#ed7953\"],[0.7777777777777778,\"#fb9f3a\"],[0.8888888888888888,\"#fdca26\"],[1.0,\"#f0f921\"]]}],\"choropleth\":[{\"type\":\"choropleth\",\"colorbar\":{\"outlinewidth\":0,\"ticks\":\"\"}}],\"histogram2d\":[{\"type\":\"histogram2d\",\"colorbar\":{\"outlinewidth\":0,\"ticks\":\"\"},\"colorscale\":[[0.0,\"#0d0887\"],[0.1111111111111111,\"#46039f\"],[0.2222222222222222,\"#7201a8\"],[0.3333333333333333,\"#9c179e\"],[0.4444444444444444,\"#bd3786\"],[0.5555555555555556,\"#d8576b\"],[0.6666666666666666,\"#ed7953\"],[0.7777777777777778,\"#fb9f3a\"],[0.8888888888888888,\"#fdca26\"],[1.0,\"#f0f921\"]]}],\"heatmap\":[{\"type\":\"heatmap\",\"colorbar\":{\"outlinewidth\":0,\"ticks\":\"\"},\"colorscale\":[[0.0,\"#0d0887\"],[0.1111111111111111,\"#46039f\"],[0.2222222222222222,\"#7201a8\"],[0.3333333333333333,\"#9c179e\"],[0.4444444444444444,\"#bd3786\"],[0.5555555555555556,\"#d8576b\"],[0.6666666666666666,\"#ed7953\"],[0.7777777777777778,\"#fb9f3a\"],[0.8888888888888888,\"#fdca26\"],[1.0,\"#f0f921\"]]}],\"heatmapgl\":[{\"type\":\"heatmapgl\",\"colorbar\":{\"outlinewidth\":0,\"ticks\":\"\"},\"colorscale\":[[0.0,\"#0d0887\"],[0.1111111111111111,\"#46039f\"],[0.2222222222222222,\"#7201a8\"],[0.3333333333333333,\"#9c179e\"],[0.4444444444444444,\"#bd3786\"],[0.5555555555555556,\"#d8576b\"],[0.6666666666666666,\"#ed7953\"],[0.7777777777777778,\"#fb9f3a\"],[0.8888888888888888,\"#fdca26\"],[1.0,\"#f0f921\"]]}],\"contourcarpet\":[{\"type\":\"contourcarpet\",\"colorbar\":{\"outlinewidth\":0,\"ticks\":\"\"}}],\"contour\":[{\"type\":\"contour\",\"colorbar\":{\"outlinewidth\":0,\"ticks\":\"\"},\"colorscale\":[[0.0,\"#0d0887\"],[0.1111111111111111,\"#46039f\"],[0.2222222222222222,\"#7201a8\"],[0.3333333333333333,\"#9c179e\"],[0.4444444444444444,\"#bd3786\"],[0.5555555555555556,\"#d8576b\"],[0.6666666666666666,\"#ed7953\"],[0.7777777777777778,\"#fb9f3a\"],[0.8888888888888888,\"#fdca26\"],[1.0,\"#f0f921\"]]}],\"surface\":[{\"type\":\"surface\",\"colorbar\":{\"outlinewidth\":0,\"ticks\":\"\"},\"colorscale\":[[0.0,\"#0d0887\"],[0.1111111111111111,\"#46039f\"],[0.2222222222222222,\"#7201a8\"],[0.3333333333333333,\"#9c179e\"],[0.4444444444444444,\"#bd3786\"],[0.5555555555555556,\"#d8576b\"],[0.6666666666666666,\"#ed7953\"],[0.7777777777777778,\"#fb9f3a\"],[0.8888888888888888,\"#fdca26\"],[1.0,\"#f0f921\"]]}],\"mesh3d\":[{\"type\":\"mesh3d\",\"colorbar\":{\"outlinewidth\":0,\"ticks\":\"\"}}],\"scatter\":[{\"fillpattern\":{\"fillmode\":\"overlay\",\"size\":10,\"solidity\":0.2},\"type\":\"scatter\"}],\"parcoords\":[{\"type\":\"parcoords\",\"line\":{\"colorbar\":{\"outlinewidth\":0,\"ticks\":\"\"}}}],\"scatterpolargl\":[{\"type\":\"scatterpolargl\",\"marker\":{\"colorbar\":{\"outlinewidth\":0,\"ticks\":\"\"}}}],\"bar\":[{\"error_x\":{\"color\":\"#2a3f5f\"},\"error_y\":{\"color\":\"#2a3f5f\"},\"marker\":{\"line\":{\"color\":\"#E5ECF6\",\"width\":0.5},\"pattern\":{\"fillmode\":\"overlay\",\"size\":10,\"solidity\":0.2}},\"type\":\"bar\"}],\"scattergeo\":[{\"type\":\"scattergeo\",\"marker\":{\"colorbar\":{\"outlinewidth\":0,\"ticks\":\"\"}}}],\"scatterpolar\":[{\"type\":\"scatterpolar\",\"marker\":{\"colorbar\":{\"outlinewidth\":0,\"ticks\":\"\"}}}],\"histogram\":[{\"marker\":{\"pattern\":{\"fillmode\":\"overlay\",\"size\":10,\"solidity\":0.2}},\"type\":\"histogram\"}],\"scattergl\":[{\"type\":\"scattergl\",\"marker\":{\"colorbar\":{\"outlinewidth\":0,\"ticks\":\"\"}}}],\"scatter3d\":[{\"type\":\"scatter3d\",\"line\":{\"colorbar\":{\"outlinewidth\":0,\"ticks\":\"\"}},\"marker\":{\"colorbar\":{\"outlinewidth\":0,\"ticks\":\"\"}}}],\"scattermapbox\":[{\"type\":\"scattermapbox\",\"marker\":{\"colorbar\":{\"outlinewidth\":0,\"ticks\":\"\"}}}],\"scatterternary\":[{\"type\":\"scatterternary\",\"marker\":{\"colorbar\":{\"outlinewidth\":0,\"ticks\":\"\"}}}],\"scattercarpet\":[{\"type\":\"scattercarpet\",\"marker\":{\"colorbar\":{\"outlinewidth\":0,\"ticks\":\"\"}}}],\"carpet\":[{\"aaxis\":{\"endlinecolor\":\"#2a3f5f\",\"gridcolor\":\"white\",\"linecolor\":\"white\",\"minorgridcolor\":\"white\",\"startlinecolor\":\"#2a3f5f\"},\"baxis\":{\"endlinecolor\":\"#2a3f5f\",\"gridcolor\":\"white\",\"linecolor\":\"white\",\"minorgridcolor\":\"white\",\"startlinecolor\":\"#2a3f5f\"},\"type\":\"carpet\"}],\"table\":[{\"cells\":{\"fill\":{\"color\":\"#EBF0F8\"},\"line\":{\"color\":\"white\"}},\"header\":{\"fill\":{\"color\":\"#C8D4E3\"},\"line\":{\"color\":\"white\"}},\"type\":\"table\"}],\"barpolar\":[{\"marker\":{\"line\":{\"color\":\"#E5ECF6\",\"width\":0.5},\"pattern\":{\"fillmode\":\"overlay\",\"size\":10,\"solidity\":0.2}},\"type\":\"barpolar\"}],\"pie\":[{\"automargin\":true,\"type\":\"pie\"}]},\"layout\":{\"autotypenumbers\":\"strict\",\"colorway\":[\"#636efa\",\"#EF553B\",\"#00cc96\",\"#ab63fa\",\"#FFA15A\",\"#19d3f3\",\"#FF6692\",\"#B6E880\",\"#FF97FF\",\"#FECB52\"],\"font\":{\"color\":\"#2a3f5f\"},\"hovermode\":\"closest\",\"hoverlabel\":{\"align\":\"left\"},\"paper_bgcolor\":\"white\",\"plot_bgcolor\":\"#E5ECF6\",\"polar\":{\"bgcolor\":\"#E5ECF6\",\"angularaxis\":{\"gridcolor\":\"white\",\"linecolor\":\"white\",\"ticks\":\"\"},\"radialaxis\":{\"gridcolor\":\"white\",\"linecolor\":\"white\",\"ticks\":\"\"}},\"ternary\":{\"bgcolor\":\"#E5ECF6\",\"aaxis\":{\"gridcolor\":\"white\",\"linecolor\":\"white\",\"ticks\":\"\"},\"baxis\":{\"gridcolor\":\"white\",\"linecolor\":\"white\",\"ticks\":\"\"},\"caxis\":{\"gridcolor\":\"white\",\"linecolor\":\"white\",\"ticks\":\"\"}},\"coloraxis\":{\"colorbar\":{\"outlinewidth\":0,\"ticks\":\"\"}},\"colorscale\":{\"sequential\":[[0.0,\"#0d0887\"],[0.1111111111111111,\"#46039f\"],[0.2222222222222222,\"#7201a8\"],[0.3333333333333333,\"#9c179e\"],[0.4444444444444444,\"#bd3786\"],[0.5555555555555556,\"#d8576b\"],[0.6666666666666666,\"#ed7953\"],[0.7777777777777778,\"#fb9f3a\"],[0.8888888888888888,\"#fdca26\"],[1.0,\"#f0f921\"]],\"sequentialminus\":[[0.0,\"#0d0887\"],[0.1111111111111111,\"#46039f\"],[0.2222222222222222,\"#7201a8\"],[0.3333333333333333,\"#9c179e\"],[0.4444444444444444,\"#bd3786\"],[0.5555555555555556,\"#d8576b\"],[0.6666666666666666,\"#ed7953\"],[0.7777777777777778,\"#fb9f3a\"],[0.8888888888888888,\"#fdca26\"],[1.0,\"#f0f921\"]],\"diverging\":[[0,\"#8e0152\"],[0.1,\"#c51b7d\"],[0.2,\"#de77ae\"],[0.3,\"#f1b6da\"],[0.4,\"#fde0ef\"],[0.5,\"#f7f7f7\"],[0.6,\"#e6f5d0\"],[0.7,\"#b8e186\"],[0.8,\"#7fbc41\"],[0.9,\"#4d9221\"],[1,\"#276419\"]]},\"xaxis\":{\"gridcolor\":\"white\",\"linecolor\":\"white\",\"ticks\":\"\",\"title\":{\"standoff\":15},\"zerolinecolor\":\"white\",\"automargin\":true,\"zerolinewidth\":2},\"yaxis\":{\"gridcolor\":\"white\",\"linecolor\":\"white\",\"ticks\":\"\",\"title\":{\"standoff\":15},\"zerolinecolor\":\"white\",\"automargin\":true,\"zerolinewidth\":2},\"scene\":{\"xaxis\":{\"backgroundcolor\":\"#E5ECF6\",\"gridcolor\":\"white\",\"linecolor\":\"white\",\"showbackground\":true,\"ticks\":\"\",\"zerolinecolor\":\"white\",\"gridwidth\":2},\"yaxis\":{\"backgroundcolor\":\"#E5ECF6\",\"gridcolor\":\"white\",\"linecolor\":\"white\",\"showbackground\":true,\"ticks\":\"\",\"zerolinecolor\":\"white\",\"gridwidth\":2},\"zaxis\":{\"backgroundcolor\":\"#E5ECF6\",\"gridcolor\":\"white\",\"linecolor\":\"white\",\"showbackground\":true,\"ticks\":\"\",\"zerolinecolor\":\"white\",\"gridwidth\":2}},\"shapedefaults\":{\"line\":{\"color\":\"#2a3f5f\"}},\"annotationdefaults\":{\"arrowcolor\":\"#2a3f5f\",\"arrowhead\":0,\"arrowwidth\":1},\"geo\":{\"bgcolor\":\"white\",\"landcolor\":\"#E5ECF6\",\"subunitcolor\":\"white\",\"showland\":true,\"showlakes\":true,\"lakecolor\":\"white\"},\"title\":{\"x\":0.05},\"mapbox\":{\"style\":\"light\"}}},\"xaxis\":{\"anchor\":\"y\",\"domain\":[0.0,1.0],\"title\":{\"text\":\"Time\"}},\"yaxis\":{\"anchor\":\"x\",\"domain\":[0.0,1.0],\"title\":{\"text\":\"#Robots\"}},\"legend\":{\"title\":{\"text\":\"variable\"},\"tracegroupgap\":0},\"title\":{\"text\":\"CHE - Habitat over Time\"},\"barmode\":\"relative\",\"hovermode\":\"x\"},                        {\"responsive\": true}                    ).then(function(){\n",
       "                            \n",
       "var gd = document.getElementById('4e70d2e9-4817-4869-b187-2af2ff7b73d3');\n",
       "var x = new MutationObserver(function (mutations, observer) {{\n",
       "        var display = window.getComputedStyle(gd).display;\n",
       "        if (!display || display === 'none') {{\n",
       "            console.log([gd, 'removed!']);\n",
       "            Plotly.purge(gd);\n",
       "            observer.disconnect();\n",
       "        }}\n",
       "}});\n",
       "\n",
       "// Listen for the removal of the full notebook cells\n",
       "var notebookContainer = gd.closest('#notebook-container');\n",
       "if (notebookContainer) {{\n",
       "    x.observe(notebookContainer, {childList: true});\n",
       "}}\n",
       "\n",
       "// Listen for the clearing of the current output cell\n",
       "var outputEl = gd.closest('.output');\n",
       "if (outputEl) {{\n",
       "    x.observe(outputEl, {childList: true});\n",
       "}}\n",
       "\n",
       "                        })                };                });            </script>        </div>"
      ]
     },
     "metadata": {},
     "output_type": "display_data"
    },
    {
     "data": {
      "application/vnd.plotly.v1+json": {
       "config": {
        "plotlyServerURL": "https://plotly.com"
       },
       "data": [
        {
         "name": "#Replicator",
         "type": "bar",
         "x": [
          0,
          1,
          2,
          3,
          4,
          5,
          6,
          7,
          8,
          9,
          10,
          11,
          12,
          13,
          14,
          15,
          16,
          17,
          18,
          19,
          20,
          21,
          22,
          23,
          24,
          25,
          26,
          27,
          28,
          29,
          30,
          31,
          32,
          33,
          34,
          35,
          36,
          37,
          38,
          39,
          40,
          41,
          42,
          43,
          44,
          45,
          46,
          47,
          48,
          49,
          50,
          51,
          52,
          53,
          54,
          55,
          56,
          57,
          58,
          59,
          60,
          61,
          62,
          63,
          64,
          65,
          66,
          67,
          68,
          69,
          70,
          71,
          72,
          73,
          74
         ],
         "xaxis": "x",
         "y": [
          0,
          0,
          0,
          0,
          0,
          0,
          0,
          0,
          0,
          0,
          0,
          0,
          0,
          0,
          0,
          0,
          0,
          0,
          0,
          0,
          0,
          0,
          0,
          0,
          0,
          0,
          0,
          0,
          0,
          0,
          0,
          0,
          0,
          0,
          0,
          0,
          0,
          0,
          0,
          0,
          0,
          0,
          0,
          0,
          0,
          0,
          0,
          0,
          0,
          0,
          0,
          0,
          0,
          0,
          0,
          0,
          0,
          0,
          0,
          0,
          0,
          0,
          0,
          0,
          0,
          0,
          0,
          0,
          0,
          0,
          0,
          0,
          0,
          0,
          0
         ],
         "yaxis": "y"
        },
        {
         "name": "#Normal",
         "type": "bar",
         "x": [
          0,
          1,
          2,
          3,
          4,
          5,
          6,
          7,
          8,
          9,
          10,
          11,
          12,
          13,
          14,
          15,
          16,
          17,
          18,
          19,
          20,
          21,
          22,
          23,
          24,
          25,
          26,
          27,
          28,
          29,
          30,
          31,
          32,
          33,
          34,
          35,
          36,
          37,
          38,
          39,
          40,
          41,
          42,
          43,
          44,
          45,
          46,
          47,
          48,
          49,
          50,
          51,
          52,
          53,
          54,
          55,
          56,
          57,
          58,
          59,
          60,
          61,
          62,
          63,
          64,
          65,
          66,
          67,
          68,
          69,
          70,
          71,
          72,
          73,
          74
         ],
         "xaxis": "x",
         "y": [
          0,
          0,
          2,
          2,
          4,
          4,
          6,
          6,
          8,
          8,
          10,
          10,
          12,
          12,
          14,
          14,
          16,
          16,
          18,
          18,
          20,
          20,
          22,
          22,
          24,
          24,
          26,
          26,
          28,
          28,
          30,
          30,
          32,
          32,
          34,
          34,
          36,
          36,
          38,
          38,
          40,
          40,
          42,
          42,
          44,
          44,
          46,
          46,
          48,
          48,
          50,
          50,
          52,
          52,
          54,
          54,
          56,
          56,
          58,
          58,
          60,
          60,
          62,
          62,
          64,
          64,
          66,
          66,
          68,
          68,
          70,
          70,
          72,
          72,
          74
         ],
         "yaxis": "y"
        },
        {
         "name": "#Assembler",
         "type": "bar",
         "x": [
          0,
          1,
          2,
          3,
          4,
          5,
          6,
          7,
          8,
          9,
          10,
          11,
          12,
          13,
          14,
          15,
          16,
          17,
          18,
          19,
          20,
          21,
          22,
          23,
          24,
          25,
          26,
          27,
          28,
          29,
          30,
          31,
          32,
          33,
          34,
          35,
          36,
          37,
          38,
          39,
          40,
          41,
          42,
          43,
          44,
          45,
          46,
          47,
          48,
          49,
          50,
          51,
          52,
          53,
          54,
          55,
          56,
          57,
          58,
          59,
          60,
          61,
          62,
          63,
          64,
          65,
          66,
          67,
          68,
          69,
          70,
          71,
          72,
          73,
          74
         ],
         "xaxis": "x",
         "y": [
          1,
          1,
          1,
          1,
          1,
          1,
          1,
          1,
          1,
          1,
          1,
          1,
          1,
          1,
          1,
          1,
          1,
          1,
          1,
          1,
          1,
          1,
          1,
          1,
          1,
          1,
          1,
          1,
          1,
          1,
          1,
          1,
          1,
          1,
          1,
          1,
          1,
          1,
          1,
          1,
          1,
          1,
          1,
          1,
          1,
          1,
          1,
          1,
          1,
          1,
          1,
          1,
          1,
          1,
          1,
          1,
          1,
          1,
          1,
          1,
          1,
          1,
          1,
          1,
          1,
          1,
          1,
          1,
          1,
          1,
          1,
          1,
          1,
          1,
          1
         ],
         "yaxis": "y"
        },
        {
         "name": "#Printer",
         "type": "bar",
         "x": [
          0,
          1,
          2,
          3,
          4,
          5,
          6,
          7,
          8,
          9,
          10,
          11,
          12,
          13,
          14,
          15,
          16,
          17,
          18,
          19,
          20,
          21,
          22,
          23,
          24,
          25,
          26,
          27,
          28,
          29,
          30,
          31,
          32,
          33,
          34,
          35,
          36,
          37,
          38,
          39,
          40,
          41,
          42,
          43,
          44,
          45,
          46,
          47,
          48,
          49,
          50,
          51,
          52,
          53,
          54,
          55,
          56,
          57,
          58,
          59,
          60,
          61,
          62,
          63,
          64,
          65,
          66,
          67,
          68,
          69,
          70,
          71,
          72,
          73,
          74
         ],
         "xaxis": "x",
         "y": [
          1,
          1,
          1,
          1,
          1,
          1,
          1,
          1,
          1,
          1,
          1,
          1,
          1,
          1,
          1,
          1,
          1,
          1,
          1,
          1,
          1,
          1,
          1,
          1,
          1,
          1,
          1,
          1,
          1,
          1,
          1,
          1,
          1,
          1,
          1,
          1,
          1,
          1,
          1,
          1,
          1,
          1,
          1,
          1,
          1,
          1,
          1,
          1,
          1,
          1,
          1,
          1,
          1,
          1,
          1,
          1,
          1,
          1,
          1,
          1,
          1,
          1,
          1,
          1,
          1,
          1,
          1,
          1,
          1,
          1,
          1,
          1,
          1,
          1,
          1
         ],
         "yaxis": "y"
        },
        {
         "name": "#Assembling",
         "type": "bar",
         "x": [
          0,
          1,
          2,
          3,
          4,
          5,
          6,
          7,
          8,
          9,
          10,
          11,
          12,
          13,
          14,
          15,
          16,
          17,
          18,
          19,
          20,
          21,
          22,
          23,
          24,
          25,
          26,
          27,
          28,
          29,
          30,
          31,
          32,
          33,
          34,
          35,
          36,
          37,
          38,
          39,
          40,
          41,
          42,
          43,
          44,
          45,
          46,
          47,
          48,
          49,
          50,
          51,
          52,
          53,
          54,
          55,
          56,
          57,
          58,
          59,
          60,
          61,
          62,
          63,
          64,
          65,
          66,
          67,
          68,
          69,
          70,
          71,
          72,
          73,
          74
         ],
         "xaxis": "x3",
         "y": [
          1,
          1,
          1,
          1,
          1,
          1,
          1,
          1,
          1,
          1,
          1,
          1,
          1,
          1,
          1,
          1,
          1,
          1,
          1,
          1,
          1,
          1,
          1,
          1,
          1,
          1,
          1,
          1,
          1,
          1,
          1,
          1,
          1,
          1,
          1,
          1,
          1,
          1,
          1,
          1,
          1,
          1,
          1,
          1,
          1,
          1,
          1,
          1,
          1,
          1,
          1,
          1,
          1,
          1,
          1,
          1,
          1,
          1,
          1,
          1,
          1,
          1,
          1,
          1,
          1,
          1,
          1,
          1,
          1,
          1,
          1,
          1,
          1,
          1,
          1
         ],
         "yaxis": "y3"
        },
        {
         "name": "#Printing",
         "type": "bar",
         "x": [
          0,
          1,
          2,
          3,
          4,
          5,
          6,
          7,
          8,
          9,
          10,
          11,
          12,
          13,
          14,
          15,
          16,
          17,
          18,
          19,
          20,
          21,
          22,
          23,
          24,
          25,
          26,
          27,
          28,
          29,
          30,
          31,
          32,
          33,
          34,
          35,
          36,
          37,
          38,
          39,
          40,
          41,
          42,
          43,
          44,
          45,
          46,
          47,
          48,
          49,
          50,
          51,
          52,
          53,
          54,
          55,
          56,
          57,
          58,
          59,
          60,
          61,
          62,
          63,
          64,
          65,
          66,
          67,
          68,
          69,
          70,
          71,
          72,
          73,
          74
         ],
         "xaxis": "x3",
         "y": [
          1,
          1,
          1,
          1,
          1,
          1,
          1,
          1,
          1,
          1,
          1,
          1,
          1,
          1,
          1,
          1,
          1,
          1,
          1,
          1,
          1,
          1,
          1,
          1,
          1,
          1,
          1,
          1,
          1,
          1,
          1,
          1,
          1,
          1,
          1,
          1,
          1,
          1,
          1,
          1,
          1,
          1,
          1,
          1,
          1,
          1,
          1,
          1,
          1,
          1,
          1,
          1,
          1,
          1,
          1,
          1,
          1,
          1,
          1,
          1,
          1,
          1,
          1,
          1,
          1,
          1,
          1,
          1,
          1,
          1,
          1,
          1,
          1,
          1,
          1
         ],
         "yaxis": "y3"
        },
        {
         "name": "#Collecting",
         "type": "bar",
         "x": [
          0,
          1,
          2,
          3,
          4,
          5,
          6,
          7,
          8,
          9,
          10,
          11,
          12,
          13,
          14,
          15,
          16,
          17,
          18,
          19,
          20,
          21,
          22,
          23,
          24,
          25,
          26,
          27,
          28,
          29,
          30,
          31,
          32,
          33,
          34,
          35,
          36,
          37,
          38,
          39,
          40,
          41,
          42,
          43,
          44,
          45,
          46,
          47,
          48,
          49,
          50,
          51,
          52,
          53,
          54,
          55,
          56,
          57,
          58,
          59,
          60,
          61,
          62,
          63,
          64,
          65,
          66,
          67,
          68,
          69,
          70,
          71,
          72,
          73,
          74
         ],
         "xaxis": "x3",
         "y": [
          0,
          0,
          2,
          2,
          4,
          4,
          6,
          6,
          8,
          8,
          10,
          10,
          12,
          12,
          14,
          14,
          16,
          16,
          18,
          18,
          20,
          20,
          22,
          22,
          24,
          24,
          26,
          26,
          28,
          28,
          30,
          30,
          32,
          4,
          0,
          0,
          0,
          0,
          0,
          0,
          0,
          0,
          0,
          0,
          0,
          0,
          0,
          0,
          0,
          0,
          0,
          0,
          0,
          0,
          0,
          0,
          0,
          0,
          0,
          0,
          0,
          0,
          0,
          0,
          0,
          0,
          0,
          0,
          0,
          0,
          0,
          0,
          0,
          0,
          0
         ],
         "yaxis": "y3"
        },
        {
         "name": "#Idle",
         "type": "bar",
         "x": [
          0,
          1,
          2,
          3,
          4,
          5,
          6,
          7,
          8,
          9,
          10,
          11,
          12,
          13,
          14,
          15,
          16,
          17,
          18,
          19,
          20,
          21,
          22,
          23,
          24,
          25,
          26,
          27,
          28,
          29,
          30,
          31,
          32,
          33,
          34,
          35,
          36,
          37,
          38,
          39,
          40,
          41,
          42,
          43,
          44,
          45,
          46,
          47,
          48,
          49,
          50,
          51,
          52,
          53,
          54,
          55,
          56,
          57,
          58,
          59,
          60,
          61,
          62,
          63,
          64,
          65,
          66,
          67,
          68,
          69,
          70,
          71,
          72,
          73,
          74
         ],
         "xaxis": "x3",
         "y": [
          0,
          0,
          0,
          0,
          0,
          0,
          0,
          0,
          0,
          0,
          0,
          0,
          0,
          0,
          0,
          0,
          0,
          0,
          0,
          0,
          0,
          0,
          0,
          0,
          0,
          0,
          0,
          0,
          0,
          0,
          0,
          0,
          0,
          28,
          34,
          34,
          36,
          36,
          38,
          38,
          40,
          40,
          42,
          42,
          44,
          44,
          46,
          46,
          48,
          48,
          50,
          50,
          52,
          52,
          54,
          54,
          56,
          56,
          58,
          58,
          60,
          60,
          62,
          62,
          64,
          64,
          66,
          66,
          68,
          68,
          70,
          70,
          72,
          72,
          74
         ],
         "yaxis": "y3"
        },
        {
         "mode": "lines",
         "name": "NonPr",
         "type": "scatter",
         "x": [
          0,
          1,
          2,
          3,
          4,
          5,
          6,
          7,
          8,
          9,
          10,
          11,
          12,
          13,
          14,
          15,
          16,
          17,
          18,
          19,
          20,
          21,
          22,
          23,
          24,
          25,
          26,
          27,
          28,
          29,
          30,
          31,
          32,
          33,
          34,
          35,
          36,
          37,
          38,
          39,
          40,
          41,
          42,
          43,
          44,
          45,
          46,
          47,
          48,
          49,
          50,
          51,
          52,
          53,
          54,
          55,
          56,
          57,
          58,
          59,
          60,
          61,
          62,
          63,
          64,
          65,
          66,
          67,
          68,
          69,
          70,
          71,
          72,
          73,
          74
         ],
         "xaxis": "x2",
         "y": [
          299,
          299,
          298,
          298,
          297,
          297,
          296,
          296,
          295,
          295,
          294,
          294,
          293,
          293,
          292,
          292,
          291,
          291,
          290,
          290,
          289,
          289,
          288,
          288,
          287,
          287,
          286,
          286,
          285,
          285,
          284,
          284,
          283,
          283,
          282,
          282,
          281,
          281,
          280,
          280,
          279,
          279,
          278,
          278,
          277,
          277,
          276,
          276,
          275,
          275,
          274,
          274,
          273,
          273,
          272,
          272,
          271,
          271,
          270,
          270,
          269,
          269,
          268,
          268,
          267,
          267,
          266,
          266,
          265,
          265,
          264,
          264,
          263,
          263,
          262
         ],
         "yaxis": "y2"
        },
        {
         "mode": "lines",
         "name": "Printable",
         "type": "scatter",
         "x": [
          0,
          1,
          2,
          3,
          4,
          5,
          6,
          7,
          8,
          9,
          10,
          11,
          12,
          13,
          14,
          15,
          16,
          17,
          18,
          19,
          20,
          21,
          22,
          23,
          24,
          25,
          26,
          27,
          28,
          29,
          30,
          31,
          32,
          33,
          34,
          35,
          36,
          37,
          38,
          39,
          40,
          41,
          42,
          43,
          44,
          45,
          46,
          47,
          48,
          49,
          50,
          51,
          52,
          53,
          54,
          55,
          56,
          57,
          58,
          59,
          60,
          61,
          62,
          63,
          64,
          65,
          66,
          67,
          68,
          69,
          70,
          71,
          72,
          73,
          74
         ],
         "xaxis": "x2",
         "y": [
          99,
          99,
          98,
          98,
          97,
          97,
          96,
          96,
          95,
          95,
          94,
          94,
          93,
          93,
          92,
          92,
          91,
          91,
          90,
          90,
          89,
          89,
          88,
          88,
          87,
          87,
          86,
          86,
          85,
          85,
          84,
          84,
          83,
          83,
          82,
          82,
          81,
          81,
          80,
          80,
          79,
          79,
          78,
          78,
          77,
          77,
          76,
          76,
          75,
          75,
          74,
          74,
          73,
          73,
          72,
          72,
          71,
          71,
          70,
          70,
          69,
          69,
          68,
          68,
          67,
          67,
          66,
          66,
          65,
          65,
          64,
          64,
          63,
          63,
          62
         ],
         "yaxis": "y2"
        },
        {
         "mode": "lines",
         "name": "Materials",
         "type": "scatter",
         "x": [
          0,
          1,
          2,
          3,
          4,
          5,
          6,
          7,
          8,
          9,
          10,
          11,
          12,
          13,
          14,
          15,
          16,
          17,
          18,
          19,
          20,
          21,
          22,
          23,
          24,
          25,
          26,
          27,
          28,
          29,
          30,
          31,
          32,
          33,
          34,
          35,
          36,
          37,
          38,
          39,
          40,
          41,
          42,
          43,
          44,
          45,
          46,
          47,
          48,
          49,
          50,
          51,
          52,
          53,
          54,
          55,
          56,
          57,
          58,
          59,
          60,
          61,
          62,
          63,
          64,
          65,
          66,
          67,
          68,
          69,
          70,
          71,
          72,
          73,
          74
         ],
         "xaxis": "x2",
         "y": [
          49,
          49,
          49,
          51,
          53,
          57,
          61,
          67,
          73,
          81,
          89,
          99,
          109,
          121,
          133,
          147,
          161,
          177,
          193,
          211,
          229,
          249,
          269,
          291,
          313,
          337,
          361,
          387,
          413,
          441,
          469,
          499,
          529,
          533,
          532,
          532,
          531,
          531,
          530,
          530,
          529,
          529,
          528,
          528,
          527,
          527,
          526,
          526,
          525,
          525,
          524,
          524,
          523,
          523,
          522,
          522,
          521,
          521,
          520,
          520,
          519,
          519,
          518,
          518,
          517,
          517,
          516,
          516,
          515,
          515,
          514,
          514,
          513,
          513,
          512
         ],
         "yaxis": "y2"
        },
        {
         "mode": "lines",
         "name": "Env_Materials",
         "type": "scatter",
         "x": [
          0,
          1,
          2,
          3,
          4,
          5,
          6,
          7,
          8,
          9,
          10,
          11,
          12,
          13,
          14,
          15,
          16,
          17,
          18,
          19,
          20,
          21,
          22,
          23,
          24,
          25,
          26,
          27,
          28,
          29,
          30,
          31,
          32,
          33,
          34,
          35,
          36,
          37,
          38,
          39,
          40,
          41,
          42,
          43,
          44,
          45,
          46,
          47,
          48,
          49,
          50,
          51,
          52,
          53,
          54,
          55,
          56,
          57,
          58,
          59,
          60,
          61,
          62,
          63,
          64,
          65,
          66,
          67,
          68,
          69,
          70,
          71,
          72,
          73,
          74
         ],
         "xaxis": "x2",
         "y": [
          500,
          500,
          499,
          497,
          494,
          490,
          485,
          479,
          472,
          464,
          455,
          445,
          434,
          422,
          409,
          395,
          380,
          364,
          347,
          329,
          310,
          290,
          269,
          247,
          224,
          200,
          175,
          149,
          122,
          94,
          65,
          35,
          4,
          0,
          0,
          0,
          0,
          0,
          0,
          0,
          0,
          0,
          0,
          0,
          0,
          0,
          0,
          0,
          0,
          0,
          0,
          0,
          0,
          0,
          0,
          0,
          0,
          0,
          0,
          0,
          0,
          0,
          0,
          0,
          0,
          0,
          0,
          0,
          0,
          0,
          0,
          0,
          0,
          0,
          0
         ],
         "yaxis": "y2"
        },
        {
         "mode": "lines",
         "name": "Avg. Quality #in",
         "type": "scatter",
         "x": [
          0,
          1,
          2,
          3,
          4,
          5,
          6,
          7,
          8,
          9,
          10,
          11,
          12,
          13,
          14,
          15,
          16,
          17,
          18,
          19,
          20,
          21,
          22,
          23,
          24,
          25,
          26,
          27,
          28,
          29,
          30,
          31,
          32,
          33,
          34,
          35,
          36,
          37,
          38,
          39,
          40,
          41,
          42,
          43,
          44,
          45,
          46,
          47,
          48,
          49,
          50,
          51,
          52,
          53,
          54,
          55,
          56,
          57,
          58,
          59,
          60,
          61,
          62,
          63,
          64,
          65,
          66,
          67,
          68,
          69,
          70,
          71,
          72,
          73,
          74
         ],
         "xaxis": "x4",
         "y": [
          0.864,
          0.864,
          0.778,
          0.778,
          0.788,
          0.788,
          0.748,
          0.748,
          0.725,
          0.725,
          0.739,
          0.739,
          0.743,
          0.743,
          0.751,
          0.751,
          0.738,
          0.738,
          0.732,
          0.732,
          0.732,
          0.732,
          0.722,
          0.722,
          0.729,
          0.729,
          0.737,
          0.737,
          0.732,
          0.732,
          0.725,
          0.725,
          0.724,
          0.724,
          0.73,
          0.73,
          0.726,
          0.726,
          0.727,
          0.727,
          0.732,
          0.732,
          0.732,
          0.732,
          0.727,
          0.727,
          0.731,
          0.731,
          0.734,
          0.734,
          0.73,
          0.73,
          0.732,
          0.732,
          0.735,
          0.735,
          0.739,
          0.739,
          0.741,
          0.741,
          0.743,
          0.743,
          0.743,
          0.743,
          0.742,
          0.742,
          0.738,
          0.738,
          0.736,
          0.736,
          0.734,
          0.734,
          0.731,
          0.731,
          0.729
         ],
         "yaxis": "y4"
        },
        {
         "mode": "lines",
         "name": "Avg. Quality #total",
         "type": "scatter",
         "x": [
          0,
          1,
          2,
          3,
          4,
          5,
          6,
          7,
          8,
          9,
          10,
          11,
          12,
          13,
          14,
          15,
          16,
          17,
          18,
          19,
          20,
          21,
          22,
          23,
          24,
          25,
          26,
          27,
          28,
          29,
          30,
          31,
          32,
          33,
          34,
          35,
          36,
          37,
          38,
          39,
          40,
          41,
          42,
          43,
          44,
          45,
          46,
          47,
          48,
          49,
          50,
          51,
          52,
          53,
          54,
          55,
          56,
          57,
          58,
          59,
          60,
          61,
          62,
          63,
          64,
          65,
          66,
          67,
          68,
          69,
          70,
          71,
          72,
          73,
          74
         ],
         "xaxis": "x4",
         "y": [
          0.864,
          0.864,
          0.778,
          0.778,
          0.788,
          0.788,
          0.748,
          0.748,
          0.725,
          0.725,
          0.739,
          0.739,
          0.743,
          0.743,
          0.751,
          0.751,
          0.738,
          0.738,
          0.732,
          0.732,
          0.732,
          0.732,
          0.722,
          0.722,
          0.729,
          0.729,
          0.737,
          0.737,
          0.732,
          0.732,
          0.725,
          0.725,
          0.724,
          0.724,
          0.73,
          0.73,
          0.726,
          0.726,
          0.727,
          0.727,
          0.732,
          0.732,
          0.732,
          0.732,
          0.727,
          0.727,
          0.731,
          0.731,
          0.734,
          0.734,
          0.73,
          0.73,
          0.732,
          0.732,
          0.735,
          0.735,
          0.739,
          0.739,
          0.741,
          0.741,
          0.743,
          0.743,
          0.743,
          0.743,
          0.742,
          0.742,
          0.738,
          0.738,
          0.736,
          0.736,
          0.734,
          0.734,
          0.731,
          0.731,
          0.729
         ],
         "yaxis": "y4"
        }
       ],
       "layout": {
        "annotations": [
         {
          "font": {
           "size": 16
          },
          "showarrow": false,
          "text": "Types of Robots vs Time",
          "x": 0.225,
          "xanchor": "center",
          "xref": "paper",
          "y": 1,
          "yanchor": "bottom",
          "yref": "paper"
         },
         {
          "font": {
           "size": 16
          },
          "showarrow": false,
          "text": "Resources vs Time",
          "x": 0.775,
          "xanchor": "center",
          "xref": "paper",
          "y": 1,
          "yanchor": "bottom",
          "yref": "paper"
         },
         {
          "font": {
           "size": 16
          },
          "showarrow": false,
          "text": "Tasks of Robots vs Time",
          "x": 0.225,
          "xanchor": "center",
          "xref": "paper",
          "y": 0.375,
          "yanchor": "bottom",
          "yref": "paper"
         },
         {
          "font": {
           "size": 16
          },
          "showarrow": false,
          "text": "Build Quality vs Time",
          "x": 0.775,
          "xanchor": "center",
          "xref": "paper",
          "y": 0.375,
          "yanchor": "bottom",
          "yref": "paper"
         }
        ],
        "hovermode": "x",
        "template": {
         "data": {
          "bar": [
           {
            "error_x": {
             "color": "#2a3f5f"
            },
            "error_y": {
             "color": "#2a3f5f"
            },
            "marker": {
             "line": {
              "color": "#E5ECF6",
              "width": 0.5
             },
             "pattern": {
              "fillmode": "overlay",
              "size": 10,
              "solidity": 0.2
             }
            },
            "type": "bar"
           }
          ],
          "barpolar": [
           {
            "marker": {
             "line": {
              "color": "#E5ECF6",
              "width": 0.5
             },
             "pattern": {
              "fillmode": "overlay",
              "size": 10,
              "solidity": 0.2
             }
            },
            "type": "barpolar"
           }
          ],
          "carpet": [
           {
            "aaxis": {
             "endlinecolor": "#2a3f5f",
             "gridcolor": "white",
             "linecolor": "white",
             "minorgridcolor": "white",
             "startlinecolor": "#2a3f5f"
            },
            "baxis": {
             "endlinecolor": "#2a3f5f",
             "gridcolor": "white",
             "linecolor": "white",
             "minorgridcolor": "white",
             "startlinecolor": "#2a3f5f"
            },
            "type": "carpet"
           }
          ],
          "choropleth": [
           {
            "colorbar": {
             "outlinewidth": 0,
             "ticks": ""
            },
            "type": "choropleth"
           }
          ],
          "contour": [
           {
            "colorbar": {
             "outlinewidth": 0,
             "ticks": ""
            },
            "colorscale": [
             [
              0,
              "#0d0887"
             ],
             [
              0.1111111111111111,
              "#46039f"
             ],
             [
              0.2222222222222222,
              "#7201a8"
             ],
             [
              0.3333333333333333,
              "#9c179e"
             ],
             [
              0.4444444444444444,
              "#bd3786"
             ],
             [
              0.5555555555555556,
              "#d8576b"
             ],
             [
              0.6666666666666666,
              "#ed7953"
             ],
             [
              0.7777777777777778,
              "#fb9f3a"
             ],
             [
              0.8888888888888888,
              "#fdca26"
             ],
             [
              1,
              "#f0f921"
             ]
            ],
            "type": "contour"
           }
          ],
          "contourcarpet": [
           {
            "colorbar": {
             "outlinewidth": 0,
             "ticks": ""
            },
            "type": "contourcarpet"
           }
          ],
          "heatmap": [
           {
            "colorbar": {
             "outlinewidth": 0,
             "ticks": ""
            },
            "colorscale": [
             [
              0,
              "#0d0887"
             ],
             [
              0.1111111111111111,
              "#46039f"
             ],
             [
              0.2222222222222222,
              "#7201a8"
             ],
             [
              0.3333333333333333,
              "#9c179e"
             ],
             [
              0.4444444444444444,
              "#bd3786"
             ],
             [
              0.5555555555555556,
              "#d8576b"
             ],
             [
              0.6666666666666666,
              "#ed7953"
             ],
             [
              0.7777777777777778,
              "#fb9f3a"
             ],
             [
              0.8888888888888888,
              "#fdca26"
             ],
             [
              1,
              "#f0f921"
             ]
            ],
            "type": "heatmap"
           }
          ],
          "heatmapgl": [
           {
            "colorbar": {
             "outlinewidth": 0,
             "ticks": ""
            },
            "colorscale": [
             [
              0,
              "#0d0887"
             ],
             [
              0.1111111111111111,
              "#46039f"
             ],
             [
              0.2222222222222222,
              "#7201a8"
             ],
             [
              0.3333333333333333,
              "#9c179e"
             ],
             [
              0.4444444444444444,
              "#bd3786"
             ],
             [
              0.5555555555555556,
              "#d8576b"
             ],
             [
              0.6666666666666666,
              "#ed7953"
             ],
             [
              0.7777777777777778,
              "#fb9f3a"
             ],
             [
              0.8888888888888888,
              "#fdca26"
             ],
             [
              1,
              "#f0f921"
             ]
            ],
            "type": "heatmapgl"
           }
          ],
          "histogram": [
           {
            "marker": {
             "pattern": {
              "fillmode": "overlay",
              "size": 10,
              "solidity": 0.2
             }
            },
            "type": "histogram"
           }
          ],
          "histogram2d": [
           {
            "colorbar": {
             "outlinewidth": 0,
             "ticks": ""
            },
            "colorscale": [
             [
              0,
              "#0d0887"
             ],
             [
              0.1111111111111111,
              "#46039f"
             ],
             [
              0.2222222222222222,
              "#7201a8"
             ],
             [
              0.3333333333333333,
              "#9c179e"
             ],
             [
              0.4444444444444444,
              "#bd3786"
             ],
             [
              0.5555555555555556,
              "#d8576b"
             ],
             [
              0.6666666666666666,
              "#ed7953"
             ],
             [
              0.7777777777777778,
              "#fb9f3a"
             ],
             [
              0.8888888888888888,
              "#fdca26"
             ],
             [
              1,
              "#f0f921"
             ]
            ],
            "type": "histogram2d"
           }
          ],
          "histogram2dcontour": [
           {
            "colorbar": {
             "outlinewidth": 0,
             "ticks": ""
            },
            "colorscale": [
             [
              0,
              "#0d0887"
             ],
             [
              0.1111111111111111,
              "#46039f"
             ],
             [
              0.2222222222222222,
              "#7201a8"
             ],
             [
              0.3333333333333333,
              "#9c179e"
             ],
             [
              0.4444444444444444,
              "#bd3786"
             ],
             [
              0.5555555555555556,
              "#d8576b"
             ],
             [
              0.6666666666666666,
              "#ed7953"
             ],
             [
              0.7777777777777778,
              "#fb9f3a"
             ],
             [
              0.8888888888888888,
              "#fdca26"
             ],
             [
              1,
              "#f0f921"
             ]
            ],
            "type": "histogram2dcontour"
           }
          ],
          "mesh3d": [
           {
            "colorbar": {
             "outlinewidth": 0,
             "ticks": ""
            },
            "type": "mesh3d"
           }
          ],
          "parcoords": [
           {
            "line": {
             "colorbar": {
              "outlinewidth": 0,
              "ticks": ""
             }
            },
            "type": "parcoords"
           }
          ],
          "pie": [
           {
            "automargin": true,
            "type": "pie"
           }
          ],
          "scatter": [
           {
            "fillpattern": {
             "fillmode": "overlay",
             "size": 10,
             "solidity": 0.2
            },
            "type": "scatter"
           }
          ],
          "scatter3d": [
           {
            "line": {
             "colorbar": {
              "outlinewidth": 0,
              "ticks": ""
             }
            },
            "marker": {
             "colorbar": {
              "outlinewidth": 0,
              "ticks": ""
             }
            },
            "type": "scatter3d"
           }
          ],
          "scattercarpet": [
           {
            "marker": {
             "colorbar": {
              "outlinewidth": 0,
              "ticks": ""
             }
            },
            "type": "scattercarpet"
           }
          ],
          "scattergeo": [
           {
            "marker": {
             "colorbar": {
              "outlinewidth": 0,
              "ticks": ""
             }
            },
            "type": "scattergeo"
           }
          ],
          "scattergl": [
           {
            "marker": {
             "colorbar": {
              "outlinewidth": 0,
              "ticks": ""
             }
            },
            "type": "scattergl"
           }
          ],
          "scattermapbox": [
           {
            "marker": {
             "colorbar": {
              "outlinewidth": 0,
              "ticks": ""
             }
            },
            "type": "scattermapbox"
           }
          ],
          "scatterpolar": [
           {
            "marker": {
             "colorbar": {
              "outlinewidth": 0,
              "ticks": ""
             }
            },
            "type": "scatterpolar"
           }
          ],
          "scatterpolargl": [
           {
            "marker": {
             "colorbar": {
              "outlinewidth": 0,
              "ticks": ""
             }
            },
            "type": "scatterpolargl"
           }
          ],
          "scatterternary": [
           {
            "marker": {
             "colorbar": {
              "outlinewidth": 0,
              "ticks": ""
             }
            },
            "type": "scatterternary"
           }
          ],
          "surface": [
           {
            "colorbar": {
             "outlinewidth": 0,
             "ticks": ""
            },
            "colorscale": [
             [
              0,
              "#0d0887"
             ],
             [
              0.1111111111111111,
              "#46039f"
             ],
             [
              0.2222222222222222,
              "#7201a8"
             ],
             [
              0.3333333333333333,
              "#9c179e"
             ],
             [
              0.4444444444444444,
              "#bd3786"
             ],
             [
              0.5555555555555556,
              "#d8576b"
             ],
             [
              0.6666666666666666,
              "#ed7953"
             ],
             [
              0.7777777777777778,
              "#fb9f3a"
             ],
             [
              0.8888888888888888,
              "#fdca26"
             ],
             [
              1,
              "#f0f921"
             ]
            ],
            "type": "surface"
           }
          ],
          "table": [
           {
            "cells": {
             "fill": {
              "color": "#EBF0F8"
             },
             "line": {
              "color": "white"
             }
            },
            "header": {
             "fill": {
              "color": "#C8D4E3"
             },
             "line": {
              "color": "white"
             }
            },
            "type": "table"
           }
          ]
         },
         "layout": {
          "annotationdefaults": {
           "arrowcolor": "#2a3f5f",
           "arrowhead": 0,
           "arrowwidth": 1
          },
          "autotypenumbers": "strict",
          "coloraxis": {
           "colorbar": {
            "outlinewidth": 0,
            "ticks": ""
           }
          },
          "colorscale": {
           "diverging": [
            [
             0,
             "#8e0152"
            ],
            [
             0.1,
             "#c51b7d"
            ],
            [
             0.2,
             "#de77ae"
            ],
            [
             0.3,
             "#f1b6da"
            ],
            [
             0.4,
             "#fde0ef"
            ],
            [
             0.5,
             "#f7f7f7"
            ],
            [
             0.6,
             "#e6f5d0"
            ],
            [
             0.7,
             "#b8e186"
            ],
            [
             0.8,
             "#7fbc41"
            ],
            [
             0.9,
             "#4d9221"
            ],
            [
             1,
             "#276419"
            ]
           ],
           "sequential": [
            [
             0,
             "#0d0887"
            ],
            [
             0.1111111111111111,
             "#46039f"
            ],
            [
             0.2222222222222222,
             "#7201a8"
            ],
            [
             0.3333333333333333,
             "#9c179e"
            ],
            [
             0.4444444444444444,
             "#bd3786"
            ],
            [
             0.5555555555555556,
             "#d8576b"
            ],
            [
             0.6666666666666666,
             "#ed7953"
            ],
            [
             0.7777777777777778,
             "#fb9f3a"
            ],
            [
             0.8888888888888888,
             "#fdca26"
            ],
            [
             1,
             "#f0f921"
            ]
           ],
           "sequentialminus": [
            [
             0,
             "#0d0887"
            ],
            [
             0.1111111111111111,
             "#46039f"
            ],
            [
             0.2222222222222222,
             "#7201a8"
            ],
            [
             0.3333333333333333,
             "#9c179e"
            ],
            [
             0.4444444444444444,
             "#bd3786"
            ],
            [
             0.5555555555555556,
             "#d8576b"
            ],
            [
             0.6666666666666666,
             "#ed7953"
            ],
            [
             0.7777777777777778,
             "#fb9f3a"
            ],
            [
             0.8888888888888888,
             "#fdca26"
            ],
            [
             1,
             "#f0f921"
            ]
           ]
          },
          "colorway": [
           "#636efa",
           "#EF553B",
           "#00cc96",
           "#ab63fa",
           "#FFA15A",
           "#19d3f3",
           "#FF6692",
           "#B6E880",
           "#FF97FF",
           "#FECB52"
          ],
          "font": {
           "color": "#2a3f5f"
          },
          "geo": {
           "bgcolor": "white",
           "lakecolor": "white",
           "landcolor": "#E5ECF6",
           "showlakes": true,
           "showland": true,
           "subunitcolor": "white"
          },
          "hoverlabel": {
           "align": "left"
          },
          "hovermode": "closest",
          "mapbox": {
           "style": "light"
          },
          "paper_bgcolor": "white",
          "plot_bgcolor": "#E5ECF6",
          "polar": {
           "angularaxis": {
            "gridcolor": "white",
            "linecolor": "white",
            "ticks": ""
           },
           "bgcolor": "#E5ECF6",
           "radialaxis": {
            "gridcolor": "white",
            "linecolor": "white",
            "ticks": ""
           }
          },
          "scene": {
           "xaxis": {
            "backgroundcolor": "#E5ECF6",
            "gridcolor": "white",
            "gridwidth": 2,
            "linecolor": "white",
            "showbackground": true,
            "ticks": "",
            "zerolinecolor": "white"
           },
           "yaxis": {
            "backgroundcolor": "#E5ECF6",
            "gridcolor": "white",
            "gridwidth": 2,
            "linecolor": "white",
            "showbackground": true,
            "ticks": "",
            "zerolinecolor": "white"
           },
           "zaxis": {
            "backgroundcolor": "#E5ECF6",
            "gridcolor": "white",
            "gridwidth": 2,
            "linecolor": "white",
            "showbackground": true,
            "ticks": "",
            "zerolinecolor": "white"
           }
          },
          "shapedefaults": {
           "line": {
            "color": "#2a3f5f"
           }
          },
          "ternary": {
           "aaxis": {
            "gridcolor": "white",
            "linecolor": "white",
            "ticks": ""
           },
           "baxis": {
            "gridcolor": "white",
            "linecolor": "white",
            "ticks": ""
           },
           "bgcolor": "#E5ECF6",
           "caxis": {
            "gridcolor": "white",
            "linecolor": "white",
            "ticks": ""
           }
          },
          "title": {
           "x": 0.05
          },
          "xaxis": {
           "automargin": true,
           "gridcolor": "white",
           "linecolor": "white",
           "ticks": "",
           "title": {
            "standoff": 15
           },
           "zerolinecolor": "white",
           "zerolinewidth": 2
          },
          "yaxis": {
           "automargin": true,
           "gridcolor": "white",
           "linecolor": "white",
           "ticks": "",
           "title": {
            "standoff": 15
           },
           "zerolinecolor": "white",
           "zerolinewidth": 2
          }
         }
        },
        "title": {
         "text": "CHE - Characteristics"
        },
        "xaxis": {
         "anchor": "y",
         "domain": [
          0,
          0.45
         ]
        },
        "xaxis2": {
         "anchor": "y2",
         "domain": [
          0.55,
          1
         ]
        },
        "xaxis3": {
         "anchor": "y3",
         "domain": [
          0,
          0.45
         ]
        },
        "xaxis4": {
         "anchor": "y4",
         "domain": [
          0.55,
          1
         ]
        },
        "yaxis": {
         "anchor": "x",
         "domain": [
          0.625,
          1
         ]
        },
        "yaxis2": {
         "anchor": "x2",
         "domain": [
          0.625,
          1
         ]
        },
        "yaxis3": {
         "anchor": "x3",
         "domain": [
          0,
          0.375
         ]
        },
        "yaxis4": {
         "anchor": "x4",
         "domain": [
          0,
          0.375
         ]
        }
       }
      },
      "text/html": [
       "<div>                            <div id=\"5049925c-916a-4eea-9f4a-0363ad57aaa6\" class=\"plotly-graph-div\" style=\"height:525px; width:100%;\"></div>            <script type=\"text/javascript\">                require([\"plotly\"], function(Plotly) {                    window.PLOTLYENV=window.PLOTLYENV || {};                                    if (document.getElementById(\"5049925c-916a-4eea-9f4a-0363ad57aaa6\")) {                    Plotly.newPlot(                        \"5049925c-916a-4eea-9f4a-0363ad57aaa6\",                        [{\"name\":\"#Replicator\",\"x\":[0.0,1.0,2.0,3.0,4.0,5.0,6.0,7.0,8.0,9.0,10.0,11.0,12.0,13.0,14.0,15.0,16.0,17.0,18.0,19.0,20.0,21.0,22.0,23.0,24.0,25.0,26.0,27.0,28.0,29.0,30.0,31.0,32.0,33.0,34.0,35.0,36.0,37.0,38.0,39.0,40.0,41.0,42.0,43.0,44.0,45.0,46.0,47.0,48.0,49.0,50.0,51.0,52.0,53.0,54.0,55.0,56.0,57.0,58.0,59.0,60.0,61.0,62.0,63.0,64.0,65.0,66.0,67.0,68.0,69.0,70.0,71.0,72.0,73.0,74.0],\"y\":[0.0,0.0,0.0,0.0,0.0,0.0,0.0,0.0,0.0,0.0,0.0,0.0,0.0,0.0,0.0,0.0,0.0,0.0,0.0,0.0,0.0,0.0,0.0,0.0,0.0,0.0,0.0,0.0,0.0,0.0,0.0,0.0,0.0,0.0,0.0,0.0,0.0,0.0,0.0,0.0,0.0,0.0,0.0,0.0,0.0,0.0,0.0,0.0,0.0,0.0,0.0,0.0,0.0,0.0,0.0,0.0,0.0,0.0,0.0,0.0,0.0,0.0,0.0,0.0,0.0,0.0,0.0,0.0,0.0,0.0,0.0,0.0,0.0,0.0,0.0],\"type\":\"bar\",\"xaxis\":\"x\",\"yaxis\":\"y\"},{\"name\":\"#Normal\",\"x\":[0.0,1.0,2.0,3.0,4.0,5.0,6.0,7.0,8.0,9.0,10.0,11.0,12.0,13.0,14.0,15.0,16.0,17.0,18.0,19.0,20.0,21.0,22.0,23.0,24.0,25.0,26.0,27.0,28.0,29.0,30.0,31.0,32.0,33.0,34.0,35.0,36.0,37.0,38.0,39.0,40.0,41.0,42.0,43.0,44.0,45.0,46.0,47.0,48.0,49.0,50.0,51.0,52.0,53.0,54.0,55.0,56.0,57.0,58.0,59.0,60.0,61.0,62.0,63.0,64.0,65.0,66.0,67.0,68.0,69.0,70.0,71.0,72.0,73.0,74.0],\"y\":[0.0,0.0,2.0,2.0,4.0,4.0,6.0,6.0,8.0,8.0,10.0,10.0,12.0,12.0,14.0,14.0,16.0,16.0,18.0,18.0,20.0,20.0,22.0,22.0,24.0,24.0,26.0,26.0,28.0,28.0,30.0,30.0,32.0,32.0,34.0,34.0,36.0,36.0,38.0,38.0,40.0,40.0,42.0,42.0,44.0,44.0,46.0,46.0,48.0,48.0,50.0,50.0,52.0,52.0,54.0,54.0,56.0,56.0,58.0,58.0,60.0,60.0,62.0,62.0,64.0,64.0,66.0,66.0,68.0,68.0,70.0,70.0,72.0,72.0,74.0],\"type\":\"bar\",\"xaxis\":\"x\",\"yaxis\":\"y\"},{\"name\":\"#Assembler\",\"x\":[0.0,1.0,2.0,3.0,4.0,5.0,6.0,7.0,8.0,9.0,10.0,11.0,12.0,13.0,14.0,15.0,16.0,17.0,18.0,19.0,20.0,21.0,22.0,23.0,24.0,25.0,26.0,27.0,28.0,29.0,30.0,31.0,32.0,33.0,34.0,35.0,36.0,37.0,38.0,39.0,40.0,41.0,42.0,43.0,44.0,45.0,46.0,47.0,48.0,49.0,50.0,51.0,52.0,53.0,54.0,55.0,56.0,57.0,58.0,59.0,60.0,61.0,62.0,63.0,64.0,65.0,66.0,67.0,68.0,69.0,70.0,71.0,72.0,73.0,74.0],\"y\":[1.0,1.0,1.0,1.0,1.0,1.0,1.0,1.0,1.0,1.0,1.0,1.0,1.0,1.0,1.0,1.0,1.0,1.0,1.0,1.0,1.0,1.0,1.0,1.0,1.0,1.0,1.0,1.0,1.0,1.0,1.0,1.0,1.0,1.0,1.0,1.0,1.0,1.0,1.0,1.0,1.0,1.0,1.0,1.0,1.0,1.0,1.0,1.0,1.0,1.0,1.0,1.0,1.0,1.0,1.0,1.0,1.0,1.0,1.0,1.0,1.0,1.0,1.0,1.0,1.0,1.0,1.0,1.0,1.0,1.0,1.0,1.0,1.0,1.0,1.0],\"type\":\"bar\",\"xaxis\":\"x\",\"yaxis\":\"y\"},{\"name\":\"#Printer\",\"x\":[0.0,1.0,2.0,3.0,4.0,5.0,6.0,7.0,8.0,9.0,10.0,11.0,12.0,13.0,14.0,15.0,16.0,17.0,18.0,19.0,20.0,21.0,22.0,23.0,24.0,25.0,26.0,27.0,28.0,29.0,30.0,31.0,32.0,33.0,34.0,35.0,36.0,37.0,38.0,39.0,40.0,41.0,42.0,43.0,44.0,45.0,46.0,47.0,48.0,49.0,50.0,51.0,52.0,53.0,54.0,55.0,56.0,57.0,58.0,59.0,60.0,61.0,62.0,63.0,64.0,65.0,66.0,67.0,68.0,69.0,70.0,71.0,72.0,73.0,74.0],\"y\":[1.0,1.0,1.0,1.0,1.0,1.0,1.0,1.0,1.0,1.0,1.0,1.0,1.0,1.0,1.0,1.0,1.0,1.0,1.0,1.0,1.0,1.0,1.0,1.0,1.0,1.0,1.0,1.0,1.0,1.0,1.0,1.0,1.0,1.0,1.0,1.0,1.0,1.0,1.0,1.0,1.0,1.0,1.0,1.0,1.0,1.0,1.0,1.0,1.0,1.0,1.0,1.0,1.0,1.0,1.0,1.0,1.0,1.0,1.0,1.0,1.0,1.0,1.0,1.0,1.0,1.0,1.0,1.0,1.0,1.0,1.0,1.0,1.0,1.0,1.0],\"type\":\"bar\",\"xaxis\":\"x\",\"yaxis\":\"y\"},{\"name\":\"#Assembling\",\"x\":[0.0,1.0,2.0,3.0,4.0,5.0,6.0,7.0,8.0,9.0,10.0,11.0,12.0,13.0,14.0,15.0,16.0,17.0,18.0,19.0,20.0,21.0,22.0,23.0,24.0,25.0,26.0,27.0,28.0,29.0,30.0,31.0,32.0,33.0,34.0,35.0,36.0,37.0,38.0,39.0,40.0,41.0,42.0,43.0,44.0,45.0,46.0,47.0,48.0,49.0,50.0,51.0,52.0,53.0,54.0,55.0,56.0,57.0,58.0,59.0,60.0,61.0,62.0,63.0,64.0,65.0,66.0,67.0,68.0,69.0,70.0,71.0,72.0,73.0,74.0],\"y\":[1.0,1.0,1.0,1.0,1.0,1.0,1.0,1.0,1.0,1.0,1.0,1.0,1.0,1.0,1.0,1.0,1.0,1.0,1.0,1.0,1.0,1.0,1.0,1.0,1.0,1.0,1.0,1.0,1.0,1.0,1.0,1.0,1.0,1.0,1.0,1.0,1.0,1.0,1.0,1.0,1.0,1.0,1.0,1.0,1.0,1.0,1.0,1.0,1.0,1.0,1.0,1.0,1.0,1.0,1.0,1.0,1.0,1.0,1.0,1.0,1.0,1.0,1.0,1.0,1.0,1.0,1.0,1.0,1.0,1.0,1.0,1.0,1.0,1.0,1.0],\"type\":\"bar\",\"xaxis\":\"x3\",\"yaxis\":\"y3\"},{\"name\":\"#Printing\",\"x\":[0.0,1.0,2.0,3.0,4.0,5.0,6.0,7.0,8.0,9.0,10.0,11.0,12.0,13.0,14.0,15.0,16.0,17.0,18.0,19.0,20.0,21.0,22.0,23.0,24.0,25.0,26.0,27.0,28.0,29.0,30.0,31.0,32.0,33.0,34.0,35.0,36.0,37.0,38.0,39.0,40.0,41.0,42.0,43.0,44.0,45.0,46.0,47.0,48.0,49.0,50.0,51.0,52.0,53.0,54.0,55.0,56.0,57.0,58.0,59.0,60.0,61.0,62.0,63.0,64.0,65.0,66.0,67.0,68.0,69.0,70.0,71.0,72.0,73.0,74.0],\"y\":[1.0,1.0,1.0,1.0,1.0,1.0,1.0,1.0,1.0,1.0,1.0,1.0,1.0,1.0,1.0,1.0,1.0,1.0,1.0,1.0,1.0,1.0,1.0,1.0,1.0,1.0,1.0,1.0,1.0,1.0,1.0,1.0,1.0,1.0,1.0,1.0,1.0,1.0,1.0,1.0,1.0,1.0,1.0,1.0,1.0,1.0,1.0,1.0,1.0,1.0,1.0,1.0,1.0,1.0,1.0,1.0,1.0,1.0,1.0,1.0,1.0,1.0,1.0,1.0,1.0,1.0,1.0,1.0,1.0,1.0,1.0,1.0,1.0,1.0,1.0],\"type\":\"bar\",\"xaxis\":\"x3\",\"yaxis\":\"y3\"},{\"name\":\"#Collecting\",\"x\":[0.0,1.0,2.0,3.0,4.0,5.0,6.0,7.0,8.0,9.0,10.0,11.0,12.0,13.0,14.0,15.0,16.0,17.0,18.0,19.0,20.0,21.0,22.0,23.0,24.0,25.0,26.0,27.0,28.0,29.0,30.0,31.0,32.0,33.0,34.0,35.0,36.0,37.0,38.0,39.0,40.0,41.0,42.0,43.0,44.0,45.0,46.0,47.0,48.0,49.0,50.0,51.0,52.0,53.0,54.0,55.0,56.0,57.0,58.0,59.0,60.0,61.0,62.0,63.0,64.0,65.0,66.0,67.0,68.0,69.0,70.0,71.0,72.0,73.0,74.0],\"y\":[0.0,0.0,2.0,2.0,4.0,4.0,6.0,6.0,8.0,8.0,10.0,10.0,12.0,12.0,14.0,14.0,16.0,16.0,18.0,18.0,20.0,20.0,22.0,22.0,24.0,24.0,26.0,26.0,28.0,28.0,30.0,30.0,32.0,4.0,0.0,0.0,0.0,0.0,0.0,0.0,0.0,0.0,0.0,0.0,0.0,0.0,0.0,0.0,0.0,0.0,0.0,0.0,0.0,0.0,0.0,0.0,0.0,0.0,0.0,0.0,0.0,0.0,0.0,0.0,0.0,0.0,0.0,0.0,0.0,0.0,0.0,0.0,0.0,0.0,0.0],\"type\":\"bar\",\"xaxis\":\"x3\",\"yaxis\":\"y3\"},{\"name\":\"#Idle\",\"x\":[0.0,1.0,2.0,3.0,4.0,5.0,6.0,7.0,8.0,9.0,10.0,11.0,12.0,13.0,14.0,15.0,16.0,17.0,18.0,19.0,20.0,21.0,22.0,23.0,24.0,25.0,26.0,27.0,28.0,29.0,30.0,31.0,32.0,33.0,34.0,35.0,36.0,37.0,38.0,39.0,40.0,41.0,42.0,43.0,44.0,45.0,46.0,47.0,48.0,49.0,50.0,51.0,52.0,53.0,54.0,55.0,56.0,57.0,58.0,59.0,60.0,61.0,62.0,63.0,64.0,65.0,66.0,67.0,68.0,69.0,70.0,71.0,72.0,73.0,74.0],\"y\":[0.0,0.0,0.0,0.0,0.0,0.0,0.0,0.0,0.0,0.0,0.0,0.0,0.0,0.0,0.0,0.0,0.0,0.0,0.0,0.0,0.0,0.0,0.0,0.0,0.0,0.0,0.0,0.0,0.0,0.0,0.0,0.0,0.0,28.0,34.0,34.0,36.0,36.0,38.0,38.0,40.0,40.0,42.0,42.0,44.0,44.0,46.0,46.0,48.0,48.0,50.0,50.0,52.0,52.0,54.0,54.0,56.0,56.0,58.0,58.0,60.0,60.0,62.0,62.0,64.0,64.0,66.0,66.0,68.0,68.0,70.0,70.0,72.0,72.0,74.0],\"type\":\"bar\",\"xaxis\":\"x3\",\"yaxis\":\"y3\"},{\"mode\":\"lines\",\"name\":\"NonPr\",\"x\":[0.0,1.0,2.0,3.0,4.0,5.0,6.0,7.0,8.0,9.0,10.0,11.0,12.0,13.0,14.0,15.0,16.0,17.0,18.0,19.0,20.0,21.0,22.0,23.0,24.0,25.0,26.0,27.0,28.0,29.0,30.0,31.0,32.0,33.0,34.0,35.0,36.0,37.0,38.0,39.0,40.0,41.0,42.0,43.0,44.0,45.0,46.0,47.0,48.0,49.0,50.0,51.0,52.0,53.0,54.0,55.0,56.0,57.0,58.0,59.0,60.0,61.0,62.0,63.0,64.0,65.0,66.0,67.0,68.0,69.0,70.0,71.0,72.0,73.0,74.0],\"y\":[299.0,299.0,298.0,298.0,297.0,297.0,296.0,296.0,295.0,295.0,294.0,294.0,293.0,293.0,292.0,292.0,291.0,291.0,290.0,290.0,289.0,289.0,288.0,288.0,287.0,287.0,286.0,286.0,285.0,285.0,284.0,284.0,283.0,283.0,282.0,282.0,281.0,281.0,280.0,280.0,279.0,279.0,278.0,278.0,277.0,277.0,276.0,276.0,275.0,275.0,274.0,274.0,273.0,273.0,272.0,272.0,271.0,271.0,270.0,270.0,269.0,269.0,268.0,268.0,267.0,267.0,266.0,266.0,265.0,265.0,264.0,264.0,263.0,263.0,262.0],\"type\":\"scatter\",\"xaxis\":\"x2\",\"yaxis\":\"y2\"},{\"mode\":\"lines\",\"name\":\"Printable\",\"x\":[0.0,1.0,2.0,3.0,4.0,5.0,6.0,7.0,8.0,9.0,10.0,11.0,12.0,13.0,14.0,15.0,16.0,17.0,18.0,19.0,20.0,21.0,22.0,23.0,24.0,25.0,26.0,27.0,28.0,29.0,30.0,31.0,32.0,33.0,34.0,35.0,36.0,37.0,38.0,39.0,40.0,41.0,42.0,43.0,44.0,45.0,46.0,47.0,48.0,49.0,50.0,51.0,52.0,53.0,54.0,55.0,56.0,57.0,58.0,59.0,60.0,61.0,62.0,63.0,64.0,65.0,66.0,67.0,68.0,69.0,70.0,71.0,72.0,73.0,74.0],\"y\":[99.0,99.0,98.0,98.0,97.0,97.0,96.0,96.0,95.0,95.0,94.0,94.0,93.0,93.0,92.0,92.0,91.0,91.0,90.0,90.0,89.0,89.0,88.0,88.0,87.0,87.0,86.0,86.0,85.0,85.0,84.0,84.0,83.0,83.0,82.0,82.0,81.0,81.0,80.0,80.0,79.0,79.0,78.0,78.0,77.0,77.0,76.0,76.0,75.0,75.0,74.0,74.0,73.0,73.0,72.0,72.0,71.0,71.0,70.0,70.0,69.0,69.0,68.0,68.0,67.0,67.0,66.0,66.0,65.0,65.0,64.0,64.0,63.0,63.0,62.0],\"type\":\"scatter\",\"xaxis\":\"x2\",\"yaxis\":\"y2\"},{\"mode\":\"lines\",\"name\":\"Materials\",\"x\":[0.0,1.0,2.0,3.0,4.0,5.0,6.0,7.0,8.0,9.0,10.0,11.0,12.0,13.0,14.0,15.0,16.0,17.0,18.0,19.0,20.0,21.0,22.0,23.0,24.0,25.0,26.0,27.0,28.0,29.0,30.0,31.0,32.0,33.0,34.0,35.0,36.0,37.0,38.0,39.0,40.0,41.0,42.0,43.0,44.0,45.0,46.0,47.0,48.0,49.0,50.0,51.0,52.0,53.0,54.0,55.0,56.0,57.0,58.0,59.0,60.0,61.0,62.0,63.0,64.0,65.0,66.0,67.0,68.0,69.0,70.0,71.0,72.0,73.0,74.0],\"y\":[49.0,49.0,49.0,51.0,53.0,57.0,61.0,67.0,73.0,81.0,89.0,99.0,109.0,121.0,133.0,147.0,161.0,177.0,193.0,211.0,229.0,249.0,269.0,291.0,313.0,337.0,361.0,387.0,413.0,441.0,469.0,499.0,529.0,533.0,532.0,532.0,531.0,531.0,530.0,530.0,529.0,529.0,528.0,528.0,527.0,527.0,526.0,526.0,525.0,525.0,524.0,524.0,523.0,523.0,522.0,522.0,521.0,521.0,520.0,520.0,519.0,519.0,518.0,518.0,517.0,517.0,516.0,516.0,515.0,515.0,514.0,514.0,513.0,513.0,512.0],\"type\":\"scatter\",\"xaxis\":\"x2\",\"yaxis\":\"y2\"},{\"mode\":\"lines\",\"name\":\"Env_Materials\",\"x\":[0.0,1.0,2.0,3.0,4.0,5.0,6.0,7.0,8.0,9.0,10.0,11.0,12.0,13.0,14.0,15.0,16.0,17.0,18.0,19.0,20.0,21.0,22.0,23.0,24.0,25.0,26.0,27.0,28.0,29.0,30.0,31.0,32.0,33.0,34.0,35.0,36.0,37.0,38.0,39.0,40.0,41.0,42.0,43.0,44.0,45.0,46.0,47.0,48.0,49.0,50.0,51.0,52.0,53.0,54.0,55.0,56.0,57.0,58.0,59.0,60.0,61.0,62.0,63.0,64.0,65.0,66.0,67.0,68.0,69.0,70.0,71.0,72.0,73.0,74.0],\"y\":[500.0,500.0,499.0,497.0,494.0,490.0,485.0,479.0,472.0,464.0,455.0,445.0,434.0,422.0,409.0,395.0,380.0,364.0,347.0,329.0,310.0,290.0,269.0,247.0,224.0,200.0,175.0,149.0,122.0,94.0,65.0,35.0,4.0,0.0,0.0,0.0,0.0,0.0,0.0,0.0,0.0,0.0,0.0,0.0,0.0,0.0,0.0,0.0,0.0,0.0,0.0,0.0,0.0,0.0,0.0,0.0,0.0,0.0,0.0,0.0,0.0,0.0,0.0,0.0,0.0,0.0,0.0,0.0,0.0,0.0,0.0,0.0,0.0,0.0,0.0],\"type\":\"scatter\",\"xaxis\":\"x2\",\"yaxis\":\"y2\"},{\"mode\":\"lines\",\"name\":\"Avg. Quality #in\",\"x\":[0.0,1.0,2.0,3.0,4.0,5.0,6.0,7.0,8.0,9.0,10.0,11.0,12.0,13.0,14.0,15.0,16.0,17.0,18.0,19.0,20.0,21.0,22.0,23.0,24.0,25.0,26.0,27.0,28.0,29.0,30.0,31.0,32.0,33.0,34.0,35.0,36.0,37.0,38.0,39.0,40.0,41.0,42.0,43.0,44.0,45.0,46.0,47.0,48.0,49.0,50.0,51.0,52.0,53.0,54.0,55.0,56.0,57.0,58.0,59.0,60.0,61.0,62.0,63.0,64.0,65.0,66.0,67.0,68.0,69.0,70.0,71.0,72.0,73.0,74.0],\"y\":[0.864,0.864,0.778,0.778,0.788,0.788,0.748,0.748,0.725,0.725,0.739,0.739,0.743,0.743,0.751,0.751,0.738,0.738,0.732,0.732,0.732,0.732,0.722,0.722,0.729,0.729,0.737,0.737,0.732,0.732,0.725,0.725,0.724,0.724,0.73,0.73,0.726,0.726,0.727,0.727,0.732,0.732,0.732,0.732,0.727,0.727,0.731,0.731,0.734,0.734,0.73,0.73,0.732,0.732,0.735,0.735,0.739,0.739,0.741,0.741,0.743,0.743,0.743,0.743,0.742,0.742,0.738,0.738,0.736,0.736,0.734,0.734,0.731,0.731,0.729],\"type\":\"scatter\",\"xaxis\":\"x4\",\"yaxis\":\"y4\"},{\"mode\":\"lines\",\"name\":\"Avg. Quality #total\",\"x\":[0.0,1.0,2.0,3.0,4.0,5.0,6.0,7.0,8.0,9.0,10.0,11.0,12.0,13.0,14.0,15.0,16.0,17.0,18.0,19.0,20.0,21.0,22.0,23.0,24.0,25.0,26.0,27.0,28.0,29.0,30.0,31.0,32.0,33.0,34.0,35.0,36.0,37.0,38.0,39.0,40.0,41.0,42.0,43.0,44.0,45.0,46.0,47.0,48.0,49.0,50.0,51.0,52.0,53.0,54.0,55.0,56.0,57.0,58.0,59.0,60.0,61.0,62.0,63.0,64.0,65.0,66.0,67.0,68.0,69.0,70.0,71.0,72.0,73.0,74.0],\"y\":[0.864,0.864,0.778,0.778,0.788,0.788,0.748,0.748,0.725,0.725,0.739,0.739,0.743,0.743,0.751,0.751,0.738,0.738,0.732,0.732,0.732,0.732,0.722,0.722,0.729,0.729,0.737,0.737,0.732,0.732,0.725,0.725,0.724,0.724,0.73,0.73,0.726,0.726,0.727,0.727,0.732,0.732,0.732,0.732,0.727,0.727,0.731,0.731,0.734,0.734,0.73,0.73,0.732,0.732,0.735,0.735,0.739,0.739,0.741,0.741,0.743,0.743,0.743,0.743,0.742,0.742,0.738,0.738,0.736,0.736,0.734,0.734,0.731,0.731,0.729],\"type\":\"scatter\",\"xaxis\":\"x4\",\"yaxis\":\"y4\"}],                        {\"template\":{\"data\":{\"histogram2dcontour\":[{\"type\":\"histogram2dcontour\",\"colorbar\":{\"outlinewidth\":0,\"ticks\":\"\"},\"colorscale\":[[0.0,\"#0d0887\"],[0.1111111111111111,\"#46039f\"],[0.2222222222222222,\"#7201a8\"],[0.3333333333333333,\"#9c179e\"],[0.4444444444444444,\"#bd3786\"],[0.5555555555555556,\"#d8576b\"],[0.6666666666666666,\"#ed7953\"],[0.7777777777777778,\"#fb9f3a\"],[0.8888888888888888,\"#fdca26\"],[1.0,\"#f0f921\"]]}],\"choropleth\":[{\"type\":\"choropleth\",\"colorbar\":{\"outlinewidth\":0,\"ticks\":\"\"}}],\"histogram2d\":[{\"type\":\"histogram2d\",\"colorbar\":{\"outlinewidth\":0,\"ticks\":\"\"},\"colorscale\":[[0.0,\"#0d0887\"],[0.1111111111111111,\"#46039f\"],[0.2222222222222222,\"#7201a8\"],[0.3333333333333333,\"#9c179e\"],[0.4444444444444444,\"#bd3786\"],[0.5555555555555556,\"#d8576b\"],[0.6666666666666666,\"#ed7953\"],[0.7777777777777778,\"#fb9f3a\"],[0.8888888888888888,\"#fdca26\"],[1.0,\"#f0f921\"]]}],\"heatmap\":[{\"type\":\"heatmap\",\"colorbar\":{\"outlinewidth\":0,\"ticks\":\"\"},\"colorscale\":[[0.0,\"#0d0887\"],[0.1111111111111111,\"#46039f\"],[0.2222222222222222,\"#7201a8\"],[0.3333333333333333,\"#9c179e\"],[0.4444444444444444,\"#bd3786\"],[0.5555555555555556,\"#d8576b\"],[0.6666666666666666,\"#ed7953\"],[0.7777777777777778,\"#fb9f3a\"],[0.8888888888888888,\"#fdca26\"],[1.0,\"#f0f921\"]]}],\"heatmapgl\":[{\"type\":\"heatmapgl\",\"colorbar\":{\"outlinewidth\":0,\"ticks\":\"\"},\"colorscale\":[[0.0,\"#0d0887\"],[0.1111111111111111,\"#46039f\"],[0.2222222222222222,\"#7201a8\"],[0.3333333333333333,\"#9c179e\"],[0.4444444444444444,\"#bd3786\"],[0.5555555555555556,\"#d8576b\"],[0.6666666666666666,\"#ed7953\"],[0.7777777777777778,\"#fb9f3a\"],[0.8888888888888888,\"#fdca26\"],[1.0,\"#f0f921\"]]}],\"contourcarpet\":[{\"type\":\"contourcarpet\",\"colorbar\":{\"outlinewidth\":0,\"ticks\":\"\"}}],\"contour\":[{\"type\":\"contour\",\"colorbar\":{\"outlinewidth\":0,\"ticks\":\"\"},\"colorscale\":[[0.0,\"#0d0887\"],[0.1111111111111111,\"#46039f\"],[0.2222222222222222,\"#7201a8\"],[0.3333333333333333,\"#9c179e\"],[0.4444444444444444,\"#bd3786\"],[0.5555555555555556,\"#d8576b\"],[0.6666666666666666,\"#ed7953\"],[0.7777777777777778,\"#fb9f3a\"],[0.8888888888888888,\"#fdca26\"],[1.0,\"#f0f921\"]]}],\"surface\":[{\"type\":\"surface\",\"colorbar\":{\"outlinewidth\":0,\"ticks\":\"\"},\"colorscale\":[[0.0,\"#0d0887\"],[0.1111111111111111,\"#46039f\"],[0.2222222222222222,\"#7201a8\"],[0.3333333333333333,\"#9c179e\"],[0.4444444444444444,\"#bd3786\"],[0.5555555555555556,\"#d8576b\"],[0.6666666666666666,\"#ed7953\"],[0.7777777777777778,\"#fb9f3a\"],[0.8888888888888888,\"#fdca26\"],[1.0,\"#f0f921\"]]}],\"mesh3d\":[{\"type\":\"mesh3d\",\"colorbar\":{\"outlinewidth\":0,\"ticks\":\"\"}}],\"scatter\":[{\"fillpattern\":{\"fillmode\":\"overlay\",\"size\":10,\"solidity\":0.2},\"type\":\"scatter\"}],\"parcoords\":[{\"type\":\"parcoords\",\"line\":{\"colorbar\":{\"outlinewidth\":0,\"ticks\":\"\"}}}],\"scatterpolargl\":[{\"type\":\"scatterpolargl\",\"marker\":{\"colorbar\":{\"outlinewidth\":0,\"ticks\":\"\"}}}],\"bar\":[{\"error_x\":{\"color\":\"#2a3f5f\"},\"error_y\":{\"color\":\"#2a3f5f\"},\"marker\":{\"line\":{\"color\":\"#E5ECF6\",\"width\":0.5},\"pattern\":{\"fillmode\":\"overlay\",\"size\":10,\"solidity\":0.2}},\"type\":\"bar\"}],\"scattergeo\":[{\"type\":\"scattergeo\",\"marker\":{\"colorbar\":{\"outlinewidth\":0,\"ticks\":\"\"}}}],\"scatterpolar\":[{\"type\":\"scatterpolar\",\"marker\":{\"colorbar\":{\"outlinewidth\":0,\"ticks\":\"\"}}}],\"histogram\":[{\"marker\":{\"pattern\":{\"fillmode\":\"overlay\",\"size\":10,\"solidity\":0.2}},\"type\":\"histogram\"}],\"scattergl\":[{\"type\":\"scattergl\",\"marker\":{\"colorbar\":{\"outlinewidth\":0,\"ticks\":\"\"}}}],\"scatter3d\":[{\"type\":\"scatter3d\",\"line\":{\"colorbar\":{\"outlinewidth\":0,\"ticks\":\"\"}},\"marker\":{\"colorbar\":{\"outlinewidth\":0,\"ticks\":\"\"}}}],\"scattermapbox\":[{\"type\":\"scattermapbox\",\"marker\":{\"colorbar\":{\"outlinewidth\":0,\"ticks\":\"\"}}}],\"scatterternary\":[{\"type\":\"scatterternary\",\"marker\":{\"colorbar\":{\"outlinewidth\":0,\"ticks\":\"\"}}}],\"scattercarpet\":[{\"type\":\"scattercarpet\",\"marker\":{\"colorbar\":{\"outlinewidth\":0,\"ticks\":\"\"}}}],\"carpet\":[{\"aaxis\":{\"endlinecolor\":\"#2a3f5f\",\"gridcolor\":\"white\",\"linecolor\":\"white\",\"minorgridcolor\":\"white\",\"startlinecolor\":\"#2a3f5f\"},\"baxis\":{\"endlinecolor\":\"#2a3f5f\",\"gridcolor\":\"white\",\"linecolor\":\"white\",\"minorgridcolor\":\"white\",\"startlinecolor\":\"#2a3f5f\"},\"type\":\"carpet\"}],\"table\":[{\"cells\":{\"fill\":{\"color\":\"#EBF0F8\"},\"line\":{\"color\":\"white\"}},\"header\":{\"fill\":{\"color\":\"#C8D4E3\"},\"line\":{\"color\":\"white\"}},\"type\":\"table\"}],\"barpolar\":[{\"marker\":{\"line\":{\"color\":\"#E5ECF6\",\"width\":0.5},\"pattern\":{\"fillmode\":\"overlay\",\"size\":10,\"solidity\":0.2}},\"type\":\"barpolar\"}],\"pie\":[{\"automargin\":true,\"type\":\"pie\"}]},\"layout\":{\"autotypenumbers\":\"strict\",\"colorway\":[\"#636efa\",\"#EF553B\",\"#00cc96\",\"#ab63fa\",\"#FFA15A\",\"#19d3f3\",\"#FF6692\",\"#B6E880\",\"#FF97FF\",\"#FECB52\"],\"font\":{\"color\":\"#2a3f5f\"},\"hovermode\":\"closest\",\"hoverlabel\":{\"align\":\"left\"},\"paper_bgcolor\":\"white\",\"plot_bgcolor\":\"#E5ECF6\",\"polar\":{\"bgcolor\":\"#E5ECF6\",\"angularaxis\":{\"gridcolor\":\"white\",\"linecolor\":\"white\",\"ticks\":\"\"},\"radialaxis\":{\"gridcolor\":\"white\",\"linecolor\":\"white\",\"ticks\":\"\"}},\"ternary\":{\"bgcolor\":\"#E5ECF6\",\"aaxis\":{\"gridcolor\":\"white\",\"linecolor\":\"white\",\"ticks\":\"\"},\"baxis\":{\"gridcolor\":\"white\",\"linecolor\":\"white\",\"ticks\":\"\"},\"caxis\":{\"gridcolor\":\"white\",\"linecolor\":\"white\",\"ticks\":\"\"}},\"coloraxis\":{\"colorbar\":{\"outlinewidth\":0,\"ticks\":\"\"}},\"colorscale\":{\"sequential\":[[0.0,\"#0d0887\"],[0.1111111111111111,\"#46039f\"],[0.2222222222222222,\"#7201a8\"],[0.3333333333333333,\"#9c179e\"],[0.4444444444444444,\"#bd3786\"],[0.5555555555555556,\"#d8576b\"],[0.6666666666666666,\"#ed7953\"],[0.7777777777777778,\"#fb9f3a\"],[0.8888888888888888,\"#fdca26\"],[1.0,\"#f0f921\"]],\"sequentialminus\":[[0.0,\"#0d0887\"],[0.1111111111111111,\"#46039f\"],[0.2222222222222222,\"#7201a8\"],[0.3333333333333333,\"#9c179e\"],[0.4444444444444444,\"#bd3786\"],[0.5555555555555556,\"#d8576b\"],[0.6666666666666666,\"#ed7953\"],[0.7777777777777778,\"#fb9f3a\"],[0.8888888888888888,\"#fdca26\"],[1.0,\"#f0f921\"]],\"diverging\":[[0,\"#8e0152\"],[0.1,\"#c51b7d\"],[0.2,\"#de77ae\"],[0.3,\"#f1b6da\"],[0.4,\"#fde0ef\"],[0.5,\"#f7f7f7\"],[0.6,\"#e6f5d0\"],[0.7,\"#b8e186\"],[0.8,\"#7fbc41\"],[0.9,\"#4d9221\"],[1,\"#276419\"]]},\"xaxis\":{\"gridcolor\":\"white\",\"linecolor\":\"white\",\"ticks\":\"\",\"title\":{\"standoff\":15},\"zerolinecolor\":\"white\",\"automargin\":true,\"zerolinewidth\":2},\"yaxis\":{\"gridcolor\":\"white\",\"linecolor\":\"white\",\"ticks\":\"\",\"title\":{\"standoff\":15},\"zerolinecolor\":\"white\",\"automargin\":true,\"zerolinewidth\":2},\"scene\":{\"xaxis\":{\"backgroundcolor\":\"#E5ECF6\",\"gridcolor\":\"white\",\"linecolor\":\"white\",\"showbackground\":true,\"ticks\":\"\",\"zerolinecolor\":\"white\",\"gridwidth\":2},\"yaxis\":{\"backgroundcolor\":\"#E5ECF6\",\"gridcolor\":\"white\",\"linecolor\":\"white\",\"showbackground\":true,\"ticks\":\"\",\"zerolinecolor\":\"white\",\"gridwidth\":2},\"zaxis\":{\"backgroundcolor\":\"#E5ECF6\",\"gridcolor\":\"white\",\"linecolor\":\"white\",\"showbackground\":true,\"ticks\":\"\",\"zerolinecolor\":\"white\",\"gridwidth\":2}},\"shapedefaults\":{\"line\":{\"color\":\"#2a3f5f\"}},\"annotationdefaults\":{\"arrowcolor\":\"#2a3f5f\",\"arrowhead\":0,\"arrowwidth\":1},\"geo\":{\"bgcolor\":\"white\",\"landcolor\":\"#E5ECF6\",\"subunitcolor\":\"white\",\"showland\":true,\"showlakes\":true,\"lakecolor\":\"white\"},\"title\":{\"x\":0.05},\"mapbox\":{\"style\":\"light\"}}},\"xaxis\":{\"anchor\":\"y\",\"domain\":[0.0,0.45]},\"yaxis\":{\"anchor\":\"x\",\"domain\":[0.625,1.0]},\"xaxis2\":{\"anchor\":\"y2\",\"domain\":[0.55,1.0]},\"yaxis2\":{\"anchor\":\"x2\",\"domain\":[0.625,1.0]},\"xaxis3\":{\"anchor\":\"y3\",\"domain\":[0.0,0.45]},\"yaxis3\":{\"anchor\":\"x3\",\"domain\":[0.0,0.375]},\"xaxis4\":{\"anchor\":\"y4\",\"domain\":[0.55,1.0]},\"yaxis4\":{\"anchor\":\"x4\",\"domain\":[0.0,0.375]},\"annotations\":[{\"font\":{\"size\":16},\"showarrow\":false,\"text\":\"Types of Robots vs Time\",\"x\":0.225,\"xanchor\":\"center\",\"xref\":\"paper\",\"y\":1.0,\"yanchor\":\"bottom\",\"yref\":\"paper\"},{\"font\":{\"size\":16},\"showarrow\":false,\"text\":\"Resources vs Time\",\"x\":0.775,\"xanchor\":\"center\",\"xref\":\"paper\",\"y\":1.0,\"yanchor\":\"bottom\",\"yref\":\"paper\"},{\"font\":{\"size\":16},\"showarrow\":false,\"text\":\"Tasks of Robots vs Time\",\"x\":0.225,\"xanchor\":\"center\",\"xref\":\"paper\",\"y\":0.375,\"yanchor\":\"bottom\",\"yref\":\"paper\"},{\"font\":{\"size\":16},\"showarrow\":false,\"text\":\"Build Quality vs Time\",\"x\":0.775,\"xanchor\":\"center\",\"xref\":\"paper\",\"y\":0.375,\"yanchor\":\"bottom\",\"yref\":\"paper\"}],\"hovermode\":\"x\",\"title\":{\"text\":\"CHE - Characteristics\"}},                        {\"responsive\": true}                    ).then(function(){\n",
       "                            \n",
       "var gd = document.getElementById('5049925c-916a-4eea-9f4a-0363ad57aaa6');\n",
       "var x = new MutationObserver(function (mutations, observer) {{\n",
       "        var display = window.getComputedStyle(gd).display;\n",
       "        if (!display || display === 'none') {{\n",
       "            console.log([gd, 'removed!']);\n",
       "            Plotly.purge(gd);\n",
       "            observer.disconnect();\n",
       "        }}\n",
       "}});\n",
       "\n",
       "// Listen for the removal of the full notebook cells\n",
       "var notebookContainer = gd.closest('#notebook-container');\n",
       "if (notebookContainer) {{\n",
       "    x.observe(notebookContainer, {childList: true});\n",
       "}}\n",
       "\n",
       "// Listen for the clearing of the current output cell\n",
       "var outputEl = gd.closest('.output');\n",
       "if (outputEl) {{\n",
       "    x.observe(outputEl, {childList: true});\n",
       "}}\n",
       "\n",
       "                        })                };                });            </script>        </div>"
      ]
     },
     "metadata": {},
     "output_type": "display_data"
    },
    {
     "data": {
      "application/vnd.plotly.v1+json": {
       "config": {
        "plotlyServerURL": "https://plotly.com"
       },
       "data": [
        {
         "alignmentgroup": "True",
         "hovertemplate": "variable=#In<br>Time=%{x}<br>value=%{y}<extra></extra>",
         "legendgroup": "#In",
         "marker": {
          "color": "#636efa",
          "pattern": {
           "shape": ""
          }
         },
         "name": "#In",
         "offsetgroup": "#In",
         "orientation": "v",
         "showlegend": true,
         "textposition": "auto",
         "type": "bar",
         "x": [
          0,
          1,
          2,
          3,
          4,
          5,
          6,
          7,
          8,
          9,
          10,
          11,
          12,
          13,
          14,
          15,
          16,
          17,
          18,
          19,
          20,
          21,
          22,
          23,
          24,
          25,
          26,
          27,
          28,
          29,
          30,
          31,
          32,
          33,
          34,
          35,
          36,
          37,
          38,
          39,
          40,
          41,
          42,
          43,
          44,
          45,
          46,
          47,
          48,
          49,
          50,
          51,
          52,
          53,
          54,
          55,
          56,
          57,
          58,
          59,
          60,
          61,
          62,
          63,
          64,
          65,
          66,
          67,
          68,
          69,
          70,
          71,
          72,
          73,
          74
         ],
         "xaxis": "x",
         "y": [
          2,
          2,
          2,
          2,
          4,
          4,
          6,
          6,
          11,
          11,
          15,
          15,
          23,
          24,
          34,
          34,
          47,
          48,
          59,
          62,
          67,
          70,
          74,
          82,
          90,
          96,
          101,
          108,
          118,
          125,
          131,
          143,
          150,
          166,
          172,
          184,
          205,
          214,
          218,
          219,
          219,
          219,
          219,
          219,
          219,
          219,
          219,
          219,
          219,
          219,
          219,
          219,
          219,
          219,
          219,
          219,
          219,
          219,
          219,
          219,
          219,
          219,
          219,
          219,
          219,
          219,
          219,
          219,
          219,
          219,
          219,
          219,
          219,
          219,
          219
         ],
         "yaxis": "y"
        },
        {
         "alignmentgroup": "True",
         "hovertemplate": "variable=#Out<br>Time=%{x}<br>value=%{y}<extra></extra>",
         "legendgroup": "#Out",
         "marker": {
          "color": "#EF553B",
          "pattern": {
           "shape": ""
          }
         },
         "name": "#Out",
         "offsetgroup": "#Out",
         "orientation": "v",
         "showlegend": true,
         "textposition": "auto",
         "type": "bar",
         "x": [
          0,
          1,
          2,
          3,
          4,
          5,
          6,
          7,
          8,
          9,
          10,
          11,
          12,
          13,
          14,
          15,
          16,
          17,
          18,
          19,
          20,
          21,
          22,
          23,
          24,
          25,
          26,
          27,
          28,
          29,
          30,
          31,
          32,
          33,
          34,
          35,
          36,
          37,
          38,
          39,
          40,
          41,
          42,
          43,
          44,
          45,
          46,
          47,
          48,
          49,
          50,
          51,
          52,
          53,
          54,
          55,
          56,
          57,
          58,
          59,
          60,
          61,
          62,
          63,
          64,
          65,
          66,
          67,
          68,
          69,
          70,
          71,
          72,
          73,
          74
         ],
         "xaxis": "x",
         "y": [
          0,
          0,
          0,
          0,
          0,
          0,
          0,
          0,
          1,
          1,
          1,
          1,
          1,
          2,
          4,
          4,
          9,
          10,
          11,
          14,
          15,
          16,
          18,
          20,
          22,
          22,
          25,
          28,
          32,
          35,
          37,
          43,
          48,
          52,
          56,
          62,
          73,
          80,
          82,
          83,
          83,
          83,
          83,
          83,
          83,
          83,
          83,
          83,
          83,
          83,
          83,
          83,
          83,
          83,
          83,
          83,
          83,
          83,
          83,
          83,
          83,
          83,
          83,
          83,
          83,
          83,
          83,
          83,
          83,
          83,
          83,
          83,
          83,
          83,
          83
         ],
         "yaxis": "y"
        }
       ],
       "layout": {
        "barmode": "relative",
        "hovermode": "x",
        "legend": {
         "title": {
          "text": "variable"
         },
         "tracegroupgap": 0
        },
        "template": {
         "data": {
          "bar": [
           {
            "error_x": {
             "color": "#2a3f5f"
            },
            "error_y": {
             "color": "#2a3f5f"
            },
            "marker": {
             "line": {
              "color": "#E5ECF6",
              "width": 0.5
             },
             "pattern": {
              "fillmode": "overlay",
              "size": 10,
              "solidity": 0.2
             }
            },
            "type": "bar"
           }
          ],
          "barpolar": [
           {
            "marker": {
             "line": {
              "color": "#E5ECF6",
              "width": 0.5
             },
             "pattern": {
              "fillmode": "overlay",
              "size": 10,
              "solidity": 0.2
             }
            },
            "type": "barpolar"
           }
          ],
          "carpet": [
           {
            "aaxis": {
             "endlinecolor": "#2a3f5f",
             "gridcolor": "white",
             "linecolor": "white",
             "minorgridcolor": "white",
             "startlinecolor": "#2a3f5f"
            },
            "baxis": {
             "endlinecolor": "#2a3f5f",
             "gridcolor": "white",
             "linecolor": "white",
             "minorgridcolor": "white",
             "startlinecolor": "#2a3f5f"
            },
            "type": "carpet"
           }
          ],
          "choropleth": [
           {
            "colorbar": {
             "outlinewidth": 0,
             "ticks": ""
            },
            "type": "choropleth"
           }
          ],
          "contour": [
           {
            "colorbar": {
             "outlinewidth": 0,
             "ticks": ""
            },
            "colorscale": [
             [
              0,
              "#0d0887"
             ],
             [
              0.1111111111111111,
              "#46039f"
             ],
             [
              0.2222222222222222,
              "#7201a8"
             ],
             [
              0.3333333333333333,
              "#9c179e"
             ],
             [
              0.4444444444444444,
              "#bd3786"
             ],
             [
              0.5555555555555556,
              "#d8576b"
             ],
             [
              0.6666666666666666,
              "#ed7953"
             ],
             [
              0.7777777777777778,
              "#fb9f3a"
             ],
             [
              0.8888888888888888,
              "#fdca26"
             ],
             [
              1,
              "#f0f921"
             ]
            ],
            "type": "contour"
           }
          ],
          "contourcarpet": [
           {
            "colorbar": {
             "outlinewidth": 0,
             "ticks": ""
            },
            "type": "contourcarpet"
           }
          ],
          "heatmap": [
           {
            "colorbar": {
             "outlinewidth": 0,
             "ticks": ""
            },
            "colorscale": [
             [
              0,
              "#0d0887"
             ],
             [
              0.1111111111111111,
              "#46039f"
             ],
             [
              0.2222222222222222,
              "#7201a8"
             ],
             [
              0.3333333333333333,
              "#9c179e"
             ],
             [
              0.4444444444444444,
              "#bd3786"
             ],
             [
              0.5555555555555556,
              "#d8576b"
             ],
             [
              0.6666666666666666,
              "#ed7953"
             ],
             [
              0.7777777777777778,
              "#fb9f3a"
             ],
             [
              0.8888888888888888,
              "#fdca26"
             ],
             [
              1,
              "#f0f921"
             ]
            ],
            "type": "heatmap"
           }
          ],
          "heatmapgl": [
           {
            "colorbar": {
             "outlinewidth": 0,
             "ticks": ""
            },
            "colorscale": [
             [
              0,
              "#0d0887"
             ],
             [
              0.1111111111111111,
              "#46039f"
             ],
             [
              0.2222222222222222,
              "#7201a8"
             ],
             [
              0.3333333333333333,
              "#9c179e"
             ],
             [
              0.4444444444444444,
              "#bd3786"
             ],
             [
              0.5555555555555556,
              "#d8576b"
             ],
             [
              0.6666666666666666,
              "#ed7953"
             ],
             [
              0.7777777777777778,
              "#fb9f3a"
             ],
             [
              0.8888888888888888,
              "#fdca26"
             ],
             [
              1,
              "#f0f921"
             ]
            ],
            "type": "heatmapgl"
           }
          ],
          "histogram": [
           {
            "marker": {
             "pattern": {
              "fillmode": "overlay",
              "size": 10,
              "solidity": 0.2
             }
            },
            "type": "histogram"
           }
          ],
          "histogram2d": [
           {
            "colorbar": {
             "outlinewidth": 0,
             "ticks": ""
            },
            "colorscale": [
             [
              0,
              "#0d0887"
             ],
             [
              0.1111111111111111,
              "#46039f"
             ],
             [
              0.2222222222222222,
              "#7201a8"
             ],
             [
              0.3333333333333333,
              "#9c179e"
             ],
             [
              0.4444444444444444,
              "#bd3786"
             ],
             [
              0.5555555555555556,
              "#d8576b"
             ],
             [
              0.6666666666666666,
              "#ed7953"
             ],
             [
              0.7777777777777778,
              "#fb9f3a"
             ],
             [
              0.8888888888888888,
              "#fdca26"
             ],
             [
              1,
              "#f0f921"
             ]
            ],
            "type": "histogram2d"
           }
          ],
          "histogram2dcontour": [
           {
            "colorbar": {
             "outlinewidth": 0,
             "ticks": ""
            },
            "colorscale": [
             [
              0,
              "#0d0887"
             ],
             [
              0.1111111111111111,
              "#46039f"
             ],
             [
              0.2222222222222222,
              "#7201a8"
             ],
             [
              0.3333333333333333,
              "#9c179e"
             ],
             [
              0.4444444444444444,
              "#bd3786"
             ],
             [
              0.5555555555555556,
              "#d8576b"
             ],
             [
              0.6666666666666666,
              "#ed7953"
             ],
             [
              0.7777777777777778,
              "#fb9f3a"
             ],
             [
              0.8888888888888888,
              "#fdca26"
             ],
             [
              1,
              "#f0f921"
             ]
            ],
            "type": "histogram2dcontour"
           }
          ],
          "mesh3d": [
           {
            "colorbar": {
             "outlinewidth": 0,
             "ticks": ""
            },
            "type": "mesh3d"
           }
          ],
          "parcoords": [
           {
            "line": {
             "colorbar": {
              "outlinewidth": 0,
              "ticks": ""
             }
            },
            "type": "parcoords"
           }
          ],
          "pie": [
           {
            "automargin": true,
            "type": "pie"
           }
          ],
          "scatter": [
           {
            "fillpattern": {
             "fillmode": "overlay",
             "size": 10,
             "solidity": 0.2
            },
            "type": "scatter"
           }
          ],
          "scatter3d": [
           {
            "line": {
             "colorbar": {
              "outlinewidth": 0,
              "ticks": ""
             }
            },
            "marker": {
             "colorbar": {
              "outlinewidth": 0,
              "ticks": ""
             }
            },
            "type": "scatter3d"
           }
          ],
          "scattercarpet": [
           {
            "marker": {
             "colorbar": {
              "outlinewidth": 0,
              "ticks": ""
             }
            },
            "type": "scattercarpet"
           }
          ],
          "scattergeo": [
           {
            "marker": {
             "colorbar": {
              "outlinewidth": 0,
              "ticks": ""
             }
            },
            "type": "scattergeo"
           }
          ],
          "scattergl": [
           {
            "marker": {
             "colorbar": {
              "outlinewidth": 0,
              "ticks": ""
             }
            },
            "type": "scattergl"
           }
          ],
          "scattermapbox": [
           {
            "marker": {
             "colorbar": {
              "outlinewidth": 0,
              "ticks": ""
             }
            },
            "type": "scattermapbox"
           }
          ],
          "scatterpolar": [
           {
            "marker": {
             "colorbar": {
              "outlinewidth": 0,
              "ticks": ""
             }
            },
            "type": "scatterpolar"
           }
          ],
          "scatterpolargl": [
           {
            "marker": {
             "colorbar": {
              "outlinewidth": 0,
              "ticks": ""
             }
            },
            "type": "scatterpolargl"
           }
          ],
          "scatterternary": [
           {
            "marker": {
             "colorbar": {
              "outlinewidth": 0,
              "ticks": ""
             }
            },
            "type": "scatterternary"
           }
          ],
          "surface": [
           {
            "colorbar": {
             "outlinewidth": 0,
             "ticks": ""
            },
            "colorscale": [
             [
              0,
              "#0d0887"
             ],
             [
              0.1111111111111111,
              "#46039f"
             ],
             [
              0.2222222222222222,
              "#7201a8"
             ],
             [
              0.3333333333333333,
              "#9c179e"
             ],
             [
              0.4444444444444444,
              "#bd3786"
             ],
             [
              0.5555555555555556,
              "#d8576b"
             ],
             [
              0.6666666666666666,
              "#ed7953"
             ],
             [
              0.7777777777777778,
              "#fb9f3a"
             ],
             [
              0.8888888888888888,
              "#fdca26"
             ],
             [
              1,
              "#f0f921"
             ]
            ],
            "type": "surface"
           }
          ],
          "table": [
           {
            "cells": {
             "fill": {
              "color": "#EBF0F8"
             },
             "line": {
              "color": "white"
             }
            },
            "header": {
             "fill": {
              "color": "#C8D4E3"
             },
             "line": {
              "color": "white"
             }
            },
            "type": "table"
           }
          ]
         },
         "layout": {
          "annotationdefaults": {
           "arrowcolor": "#2a3f5f",
           "arrowhead": 0,
           "arrowwidth": 1
          },
          "autotypenumbers": "strict",
          "coloraxis": {
           "colorbar": {
            "outlinewidth": 0,
            "ticks": ""
           }
          },
          "colorscale": {
           "diverging": [
            [
             0,
             "#8e0152"
            ],
            [
             0.1,
             "#c51b7d"
            ],
            [
             0.2,
             "#de77ae"
            ],
            [
             0.3,
             "#f1b6da"
            ],
            [
             0.4,
             "#fde0ef"
            ],
            [
             0.5,
             "#f7f7f7"
            ],
            [
             0.6,
             "#e6f5d0"
            ],
            [
             0.7,
             "#b8e186"
            ],
            [
             0.8,
             "#7fbc41"
            ],
            [
             0.9,
             "#4d9221"
            ],
            [
             1,
             "#276419"
            ]
           ],
           "sequential": [
            [
             0,
             "#0d0887"
            ],
            [
             0.1111111111111111,
             "#46039f"
            ],
            [
             0.2222222222222222,
             "#7201a8"
            ],
            [
             0.3333333333333333,
             "#9c179e"
            ],
            [
             0.4444444444444444,
             "#bd3786"
            ],
            [
             0.5555555555555556,
             "#d8576b"
            ],
            [
             0.6666666666666666,
             "#ed7953"
            ],
            [
             0.7777777777777778,
             "#fb9f3a"
            ],
            [
             0.8888888888888888,
             "#fdca26"
            ],
            [
             1,
             "#f0f921"
            ]
           ],
           "sequentialminus": [
            [
             0,
             "#0d0887"
            ],
            [
             0.1111111111111111,
             "#46039f"
            ],
            [
             0.2222222222222222,
             "#7201a8"
            ],
            [
             0.3333333333333333,
             "#9c179e"
            ],
            [
             0.4444444444444444,
             "#bd3786"
            ],
            [
             0.5555555555555556,
             "#d8576b"
            ],
            [
             0.6666666666666666,
             "#ed7953"
            ],
            [
             0.7777777777777778,
             "#fb9f3a"
            ],
            [
             0.8888888888888888,
             "#fdca26"
            ],
            [
             1,
             "#f0f921"
            ]
           ]
          },
          "colorway": [
           "#636efa",
           "#EF553B",
           "#00cc96",
           "#ab63fa",
           "#FFA15A",
           "#19d3f3",
           "#FF6692",
           "#B6E880",
           "#FF97FF",
           "#FECB52"
          ],
          "font": {
           "color": "#2a3f5f"
          },
          "geo": {
           "bgcolor": "white",
           "lakecolor": "white",
           "landcolor": "#E5ECF6",
           "showlakes": true,
           "showland": true,
           "subunitcolor": "white"
          },
          "hoverlabel": {
           "align": "left"
          },
          "hovermode": "closest",
          "mapbox": {
           "style": "light"
          },
          "paper_bgcolor": "white",
          "plot_bgcolor": "#E5ECF6",
          "polar": {
           "angularaxis": {
            "gridcolor": "white",
            "linecolor": "white",
            "ticks": ""
           },
           "bgcolor": "#E5ECF6",
           "radialaxis": {
            "gridcolor": "white",
            "linecolor": "white",
            "ticks": ""
           }
          },
          "scene": {
           "xaxis": {
            "backgroundcolor": "#E5ECF6",
            "gridcolor": "white",
            "gridwidth": 2,
            "linecolor": "white",
            "showbackground": true,
            "ticks": "",
            "zerolinecolor": "white"
           },
           "yaxis": {
            "backgroundcolor": "#E5ECF6",
            "gridcolor": "white",
            "gridwidth": 2,
            "linecolor": "white",
            "showbackground": true,
            "ticks": "",
            "zerolinecolor": "white"
           },
           "zaxis": {
            "backgroundcolor": "#E5ECF6",
            "gridcolor": "white",
            "gridwidth": 2,
            "linecolor": "white",
            "showbackground": true,
            "ticks": "",
            "zerolinecolor": "white"
           }
          },
          "shapedefaults": {
           "line": {
            "color": "#2a3f5f"
           }
          },
          "ternary": {
           "aaxis": {
            "gridcolor": "white",
            "linecolor": "white",
            "ticks": ""
           },
           "baxis": {
            "gridcolor": "white",
            "linecolor": "white",
            "ticks": ""
           },
           "bgcolor": "#E5ECF6",
           "caxis": {
            "gridcolor": "white",
            "linecolor": "white",
            "ticks": ""
           }
          },
          "title": {
           "x": 0.05
          },
          "xaxis": {
           "automargin": true,
           "gridcolor": "white",
           "linecolor": "white",
           "ticks": "",
           "title": {
            "standoff": 15
           },
           "zerolinecolor": "white",
           "zerolinewidth": 2
          },
          "yaxis": {
           "automargin": true,
           "gridcolor": "white",
           "linecolor": "white",
           "ticks": "",
           "title": {
            "standoff": 15
           },
           "zerolinecolor": "white",
           "zerolinewidth": 2
          }
         }
        },
        "title": {
         "text": "DHE - Habitat over Time"
        },
        "xaxis": {
         "anchor": "y",
         "domain": [
          0,
          1
         ],
         "title": {
          "text": "Time"
         }
        },
        "yaxis": {
         "anchor": "x",
         "domain": [
          0,
          1
         ],
         "title": {
          "text": "#Robots"
         }
        }
       }
      },
      "text/html": [
       "<div>                            <div id=\"05f46abd-1376-4aca-8955-abb562c31098\" class=\"plotly-graph-div\" style=\"height:525px; width:100%;\"></div>            <script type=\"text/javascript\">                require([\"plotly\"], function(Plotly) {                    window.PLOTLYENV=window.PLOTLYENV || {};                                    if (document.getElementById(\"05f46abd-1376-4aca-8955-abb562c31098\")) {                    Plotly.newPlot(                        \"05f46abd-1376-4aca-8955-abb562c31098\",                        [{\"alignmentgroup\":\"True\",\"hovertemplate\":\"variable=#In<br>Time=%{x}<br>value=%{y}<extra></extra>\",\"legendgroup\":\"#In\",\"marker\":{\"color\":\"#636efa\",\"pattern\":{\"shape\":\"\"}},\"name\":\"#In\",\"offsetgroup\":\"#In\",\"orientation\":\"v\",\"showlegend\":true,\"textposition\":\"auto\",\"x\":[0.0,1.0,2.0,3.0,4.0,5.0,6.0,7.0,8.0,9.0,10.0,11.0,12.0,13.0,14.0,15.0,16.0,17.0,18.0,19.0,20.0,21.0,22.0,23.0,24.0,25.0,26.0,27.0,28.0,29.0,30.0,31.0,32.0,33.0,34.0,35.0,36.0,37.0,38.0,39.0,40.0,41.0,42.0,43.0,44.0,45.0,46.0,47.0,48.0,49.0,50.0,51.0,52.0,53.0,54.0,55.0,56.0,57.0,58.0,59.0,60.0,61.0,62.0,63.0,64.0,65.0,66.0,67.0,68.0,69.0,70.0,71.0,72.0,73.0,74.0],\"xaxis\":\"x\",\"y\":[2.0,2.0,2.0,2.0,4.0,4.0,6.0,6.0,11.0,11.0,15.0,15.0,23.0,24.0,34.0,34.0,47.0,48.0,59.0,62.0,67.0,70.0,74.0,82.0,90.0,96.0,101.0,108.0,118.0,125.0,131.0,143.0,150.0,166.0,172.0,184.0,205.0,214.0,218.0,219.0,219.0,219.0,219.0,219.0,219.0,219.0,219.0,219.0,219.0,219.0,219.0,219.0,219.0,219.0,219.0,219.0,219.0,219.0,219.0,219.0,219.0,219.0,219.0,219.0,219.0,219.0,219.0,219.0,219.0,219.0,219.0,219.0,219.0,219.0,219.0],\"yaxis\":\"y\",\"type\":\"bar\"},{\"alignmentgroup\":\"True\",\"hovertemplate\":\"variable=#Out<br>Time=%{x}<br>value=%{y}<extra></extra>\",\"legendgroup\":\"#Out\",\"marker\":{\"color\":\"#EF553B\",\"pattern\":{\"shape\":\"\"}},\"name\":\"#Out\",\"offsetgroup\":\"#Out\",\"orientation\":\"v\",\"showlegend\":true,\"textposition\":\"auto\",\"x\":[0.0,1.0,2.0,3.0,4.0,5.0,6.0,7.0,8.0,9.0,10.0,11.0,12.0,13.0,14.0,15.0,16.0,17.0,18.0,19.0,20.0,21.0,22.0,23.0,24.0,25.0,26.0,27.0,28.0,29.0,30.0,31.0,32.0,33.0,34.0,35.0,36.0,37.0,38.0,39.0,40.0,41.0,42.0,43.0,44.0,45.0,46.0,47.0,48.0,49.0,50.0,51.0,52.0,53.0,54.0,55.0,56.0,57.0,58.0,59.0,60.0,61.0,62.0,63.0,64.0,65.0,66.0,67.0,68.0,69.0,70.0,71.0,72.0,73.0,74.0],\"xaxis\":\"x\",\"y\":[0.0,0.0,0.0,0.0,0.0,0.0,0.0,0.0,1.0,1.0,1.0,1.0,1.0,2.0,4.0,4.0,9.0,10.0,11.0,14.0,15.0,16.0,18.0,20.0,22.0,22.0,25.0,28.0,32.0,35.0,37.0,43.0,48.0,52.0,56.0,62.0,73.0,80.0,82.0,83.0,83.0,83.0,83.0,83.0,83.0,83.0,83.0,83.0,83.0,83.0,83.0,83.0,83.0,83.0,83.0,83.0,83.0,83.0,83.0,83.0,83.0,83.0,83.0,83.0,83.0,83.0,83.0,83.0,83.0,83.0,83.0,83.0,83.0,83.0,83.0],\"yaxis\":\"y\",\"type\":\"bar\"}],                        {\"template\":{\"data\":{\"histogram2dcontour\":[{\"type\":\"histogram2dcontour\",\"colorbar\":{\"outlinewidth\":0,\"ticks\":\"\"},\"colorscale\":[[0.0,\"#0d0887\"],[0.1111111111111111,\"#46039f\"],[0.2222222222222222,\"#7201a8\"],[0.3333333333333333,\"#9c179e\"],[0.4444444444444444,\"#bd3786\"],[0.5555555555555556,\"#d8576b\"],[0.6666666666666666,\"#ed7953\"],[0.7777777777777778,\"#fb9f3a\"],[0.8888888888888888,\"#fdca26\"],[1.0,\"#f0f921\"]]}],\"choropleth\":[{\"type\":\"choropleth\",\"colorbar\":{\"outlinewidth\":0,\"ticks\":\"\"}}],\"histogram2d\":[{\"type\":\"histogram2d\",\"colorbar\":{\"outlinewidth\":0,\"ticks\":\"\"},\"colorscale\":[[0.0,\"#0d0887\"],[0.1111111111111111,\"#46039f\"],[0.2222222222222222,\"#7201a8\"],[0.3333333333333333,\"#9c179e\"],[0.4444444444444444,\"#bd3786\"],[0.5555555555555556,\"#d8576b\"],[0.6666666666666666,\"#ed7953\"],[0.7777777777777778,\"#fb9f3a\"],[0.8888888888888888,\"#fdca26\"],[1.0,\"#f0f921\"]]}],\"heatmap\":[{\"type\":\"heatmap\",\"colorbar\":{\"outlinewidth\":0,\"ticks\":\"\"},\"colorscale\":[[0.0,\"#0d0887\"],[0.1111111111111111,\"#46039f\"],[0.2222222222222222,\"#7201a8\"],[0.3333333333333333,\"#9c179e\"],[0.4444444444444444,\"#bd3786\"],[0.5555555555555556,\"#d8576b\"],[0.6666666666666666,\"#ed7953\"],[0.7777777777777778,\"#fb9f3a\"],[0.8888888888888888,\"#fdca26\"],[1.0,\"#f0f921\"]]}],\"heatmapgl\":[{\"type\":\"heatmapgl\",\"colorbar\":{\"outlinewidth\":0,\"ticks\":\"\"},\"colorscale\":[[0.0,\"#0d0887\"],[0.1111111111111111,\"#46039f\"],[0.2222222222222222,\"#7201a8\"],[0.3333333333333333,\"#9c179e\"],[0.4444444444444444,\"#bd3786\"],[0.5555555555555556,\"#d8576b\"],[0.6666666666666666,\"#ed7953\"],[0.7777777777777778,\"#fb9f3a\"],[0.8888888888888888,\"#fdca26\"],[1.0,\"#f0f921\"]]}],\"contourcarpet\":[{\"type\":\"contourcarpet\",\"colorbar\":{\"outlinewidth\":0,\"ticks\":\"\"}}],\"contour\":[{\"type\":\"contour\",\"colorbar\":{\"outlinewidth\":0,\"ticks\":\"\"},\"colorscale\":[[0.0,\"#0d0887\"],[0.1111111111111111,\"#46039f\"],[0.2222222222222222,\"#7201a8\"],[0.3333333333333333,\"#9c179e\"],[0.4444444444444444,\"#bd3786\"],[0.5555555555555556,\"#d8576b\"],[0.6666666666666666,\"#ed7953\"],[0.7777777777777778,\"#fb9f3a\"],[0.8888888888888888,\"#fdca26\"],[1.0,\"#f0f921\"]]}],\"surface\":[{\"type\":\"surface\",\"colorbar\":{\"outlinewidth\":0,\"ticks\":\"\"},\"colorscale\":[[0.0,\"#0d0887\"],[0.1111111111111111,\"#46039f\"],[0.2222222222222222,\"#7201a8\"],[0.3333333333333333,\"#9c179e\"],[0.4444444444444444,\"#bd3786\"],[0.5555555555555556,\"#d8576b\"],[0.6666666666666666,\"#ed7953\"],[0.7777777777777778,\"#fb9f3a\"],[0.8888888888888888,\"#fdca26\"],[1.0,\"#f0f921\"]]}],\"mesh3d\":[{\"type\":\"mesh3d\",\"colorbar\":{\"outlinewidth\":0,\"ticks\":\"\"}}],\"scatter\":[{\"fillpattern\":{\"fillmode\":\"overlay\",\"size\":10,\"solidity\":0.2},\"type\":\"scatter\"}],\"parcoords\":[{\"type\":\"parcoords\",\"line\":{\"colorbar\":{\"outlinewidth\":0,\"ticks\":\"\"}}}],\"scatterpolargl\":[{\"type\":\"scatterpolargl\",\"marker\":{\"colorbar\":{\"outlinewidth\":0,\"ticks\":\"\"}}}],\"bar\":[{\"error_x\":{\"color\":\"#2a3f5f\"},\"error_y\":{\"color\":\"#2a3f5f\"},\"marker\":{\"line\":{\"color\":\"#E5ECF6\",\"width\":0.5},\"pattern\":{\"fillmode\":\"overlay\",\"size\":10,\"solidity\":0.2}},\"type\":\"bar\"}],\"scattergeo\":[{\"type\":\"scattergeo\",\"marker\":{\"colorbar\":{\"outlinewidth\":0,\"ticks\":\"\"}}}],\"scatterpolar\":[{\"type\":\"scatterpolar\",\"marker\":{\"colorbar\":{\"outlinewidth\":0,\"ticks\":\"\"}}}],\"histogram\":[{\"marker\":{\"pattern\":{\"fillmode\":\"overlay\",\"size\":10,\"solidity\":0.2}},\"type\":\"histogram\"}],\"scattergl\":[{\"type\":\"scattergl\",\"marker\":{\"colorbar\":{\"outlinewidth\":0,\"ticks\":\"\"}}}],\"scatter3d\":[{\"type\":\"scatter3d\",\"line\":{\"colorbar\":{\"outlinewidth\":0,\"ticks\":\"\"}},\"marker\":{\"colorbar\":{\"outlinewidth\":0,\"ticks\":\"\"}}}],\"scattermapbox\":[{\"type\":\"scattermapbox\",\"marker\":{\"colorbar\":{\"outlinewidth\":0,\"ticks\":\"\"}}}],\"scatterternary\":[{\"type\":\"scatterternary\",\"marker\":{\"colorbar\":{\"outlinewidth\":0,\"ticks\":\"\"}}}],\"scattercarpet\":[{\"type\":\"scattercarpet\",\"marker\":{\"colorbar\":{\"outlinewidth\":0,\"ticks\":\"\"}}}],\"carpet\":[{\"aaxis\":{\"endlinecolor\":\"#2a3f5f\",\"gridcolor\":\"white\",\"linecolor\":\"white\",\"minorgridcolor\":\"white\",\"startlinecolor\":\"#2a3f5f\"},\"baxis\":{\"endlinecolor\":\"#2a3f5f\",\"gridcolor\":\"white\",\"linecolor\":\"white\",\"minorgridcolor\":\"white\",\"startlinecolor\":\"#2a3f5f\"},\"type\":\"carpet\"}],\"table\":[{\"cells\":{\"fill\":{\"color\":\"#EBF0F8\"},\"line\":{\"color\":\"white\"}},\"header\":{\"fill\":{\"color\":\"#C8D4E3\"},\"line\":{\"color\":\"white\"}},\"type\":\"table\"}],\"barpolar\":[{\"marker\":{\"line\":{\"color\":\"#E5ECF6\",\"width\":0.5},\"pattern\":{\"fillmode\":\"overlay\",\"size\":10,\"solidity\":0.2}},\"type\":\"barpolar\"}],\"pie\":[{\"automargin\":true,\"type\":\"pie\"}]},\"layout\":{\"autotypenumbers\":\"strict\",\"colorway\":[\"#636efa\",\"#EF553B\",\"#00cc96\",\"#ab63fa\",\"#FFA15A\",\"#19d3f3\",\"#FF6692\",\"#B6E880\",\"#FF97FF\",\"#FECB52\"],\"font\":{\"color\":\"#2a3f5f\"},\"hovermode\":\"closest\",\"hoverlabel\":{\"align\":\"left\"},\"paper_bgcolor\":\"white\",\"plot_bgcolor\":\"#E5ECF6\",\"polar\":{\"bgcolor\":\"#E5ECF6\",\"angularaxis\":{\"gridcolor\":\"white\",\"linecolor\":\"white\",\"ticks\":\"\"},\"radialaxis\":{\"gridcolor\":\"white\",\"linecolor\":\"white\",\"ticks\":\"\"}},\"ternary\":{\"bgcolor\":\"#E5ECF6\",\"aaxis\":{\"gridcolor\":\"white\",\"linecolor\":\"white\",\"ticks\":\"\"},\"baxis\":{\"gridcolor\":\"white\",\"linecolor\":\"white\",\"ticks\":\"\"},\"caxis\":{\"gridcolor\":\"white\",\"linecolor\":\"white\",\"ticks\":\"\"}},\"coloraxis\":{\"colorbar\":{\"outlinewidth\":0,\"ticks\":\"\"}},\"colorscale\":{\"sequential\":[[0.0,\"#0d0887\"],[0.1111111111111111,\"#46039f\"],[0.2222222222222222,\"#7201a8\"],[0.3333333333333333,\"#9c179e\"],[0.4444444444444444,\"#bd3786\"],[0.5555555555555556,\"#d8576b\"],[0.6666666666666666,\"#ed7953\"],[0.7777777777777778,\"#fb9f3a\"],[0.8888888888888888,\"#fdca26\"],[1.0,\"#f0f921\"]],\"sequentialminus\":[[0.0,\"#0d0887\"],[0.1111111111111111,\"#46039f\"],[0.2222222222222222,\"#7201a8\"],[0.3333333333333333,\"#9c179e\"],[0.4444444444444444,\"#bd3786\"],[0.5555555555555556,\"#d8576b\"],[0.6666666666666666,\"#ed7953\"],[0.7777777777777778,\"#fb9f3a\"],[0.8888888888888888,\"#fdca26\"],[1.0,\"#f0f921\"]],\"diverging\":[[0,\"#8e0152\"],[0.1,\"#c51b7d\"],[0.2,\"#de77ae\"],[0.3,\"#f1b6da\"],[0.4,\"#fde0ef\"],[0.5,\"#f7f7f7\"],[0.6,\"#e6f5d0\"],[0.7,\"#b8e186\"],[0.8,\"#7fbc41\"],[0.9,\"#4d9221\"],[1,\"#276419\"]]},\"xaxis\":{\"gridcolor\":\"white\",\"linecolor\":\"white\",\"ticks\":\"\",\"title\":{\"standoff\":15},\"zerolinecolor\":\"white\",\"automargin\":true,\"zerolinewidth\":2},\"yaxis\":{\"gridcolor\":\"white\",\"linecolor\":\"white\",\"ticks\":\"\",\"title\":{\"standoff\":15},\"zerolinecolor\":\"white\",\"automargin\":true,\"zerolinewidth\":2},\"scene\":{\"xaxis\":{\"backgroundcolor\":\"#E5ECF6\",\"gridcolor\":\"white\",\"linecolor\":\"white\",\"showbackground\":true,\"ticks\":\"\",\"zerolinecolor\":\"white\",\"gridwidth\":2},\"yaxis\":{\"backgroundcolor\":\"#E5ECF6\",\"gridcolor\":\"white\",\"linecolor\":\"white\",\"showbackground\":true,\"ticks\":\"\",\"zerolinecolor\":\"white\",\"gridwidth\":2},\"zaxis\":{\"backgroundcolor\":\"#E5ECF6\",\"gridcolor\":\"white\",\"linecolor\":\"white\",\"showbackground\":true,\"ticks\":\"\",\"zerolinecolor\":\"white\",\"gridwidth\":2}},\"shapedefaults\":{\"line\":{\"color\":\"#2a3f5f\"}},\"annotationdefaults\":{\"arrowcolor\":\"#2a3f5f\",\"arrowhead\":0,\"arrowwidth\":1},\"geo\":{\"bgcolor\":\"white\",\"landcolor\":\"#E5ECF6\",\"subunitcolor\":\"white\",\"showland\":true,\"showlakes\":true,\"lakecolor\":\"white\"},\"title\":{\"x\":0.05},\"mapbox\":{\"style\":\"light\"}}},\"xaxis\":{\"anchor\":\"y\",\"domain\":[0.0,1.0],\"title\":{\"text\":\"Time\"}},\"yaxis\":{\"anchor\":\"x\",\"domain\":[0.0,1.0],\"title\":{\"text\":\"#Robots\"}},\"legend\":{\"title\":{\"text\":\"variable\"},\"tracegroupgap\":0},\"title\":{\"text\":\"DHE - Habitat over Time\"},\"barmode\":\"relative\",\"hovermode\":\"x\"},                        {\"responsive\": true}                    ).then(function(){\n",
       "                            \n",
       "var gd = document.getElementById('05f46abd-1376-4aca-8955-abb562c31098');\n",
       "var x = new MutationObserver(function (mutations, observer) {{\n",
       "        var display = window.getComputedStyle(gd).display;\n",
       "        if (!display || display === 'none') {{\n",
       "            console.log([gd, 'removed!']);\n",
       "            Plotly.purge(gd);\n",
       "            observer.disconnect();\n",
       "        }}\n",
       "}});\n",
       "\n",
       "// Listen for the removal of the full notebook cells\n",
       "var notebookContainer = gd.closest('#notebook-container');\n",
       "if (notebookContainer) {{\n",
       "    x.observe(notebookContainer, {childList: true});\n",
       "}}\n",
       "\n",
       "// Listen for the clearing of the current output cell\n",
       "var outputEl = gd.closest('.output');\n",
       "if (outputEl) {{\n",
       "    x.observe(outputEl, {childList: true});\n",
       "}}\n",
       "\n",
       "                        })                };                });            </script>        </div>"
      ]
     },
     "metadata": {},
     "output_type": "display_data"
    },
    {
     "data": {
      "application/vnd.plotly.v1+json": {
       "config": {
        "plotlyServerURL": "https://plotly.com"
       },
       "data": [
        {
         "name": "#Replicator",
         "type": "bar",
         "x": [
          0,
          1,
          2,
          3,
          4,
          5,
          6,
          7,
          8,
          9,
          10,
          11,
          12,
          13,
          14,
          15,
          16,
          17,
          18,
          19,
          20,
          21,
          22,
          23,
          24,
          25,
          26,
          27,
          28,
          29,
          30,
          31,
          32,
          33,
          34,
          35,
          36,
          37,
          38,
          39,
          40,
          41,
          42,
          43,
          44,
          45,
          46,
          47,
          48,
          49,
          50,
          51,
          52,
          53,
          54,
          55,
          56,
          57,
          58,
          59,
          60,
          61,
          62,
          63,
          64,
          65,
          66,
          67,
          68,
          69,
          70,
          71,
          72,
          73,
          74
         ],
         "xaxis": "x",
         "y": [
          0,
          0,
          0,
          0,
          0,
          0,
          0,
          0,
          0,
          0,
          0,
          0,
          0,
          0,
          0,
          0,
          0,
          0,
          0,
          0,
          0,
          0,
          0,
          0,
          0,
          0,
          0,
          0,
          0,
          0,
          0,
          0,
          0,
          0,
          0,
          0,
          0,
          0,
          0,
          0,
          0,
          0,
          0,
          0,
          0,
          0,
          0,
          0,
          0,
          0,
          0,
          0,
          0,
          0,
          0,
          0,
          0,
          0,
          0,
          0,
          0,
          0,
          0,
          0,
          0,
          0,
          0,
          0,
          0,
          0,
          0,
          0,
          0,
          0,
          0
         ],
         "yaxis": "y"
        },
        {
         "name": "#Normal",
         "type": "bar",
         "x": [
          0,
          1,
          2,
          3,
          4,
          5,
          6,
          7,
          8,
          9,
          10,
          11,
          12,
          13,
          14,
          15,
          16,
          17,
          18,
          19,
          20,
          21,
          22,
          23,
          24,
          25,
          26,
          27,
          28,
          29,
          30,
          31,
          32,
          33,
          34,
          35,
          36,
          37,
          38,
          39,
          40,
          41,
          42,
          43,
          44,
          45,
          46,
          47,
          48,
          49,
          50,
          51,
          52,
          53,
          54,
          55,
          56,
          57,
          58,
          59,
          60,
          61,
          62,
          63,
          64,
          65,
          66,
          67,
          68,
          69,
          70,
          71,
          72,
          73,
          74
         ],
         "xaxis": "x",
         "y": [
          0,
          0,
          0,
          0,
          0,
          0,
          0,
          0,
          0,
          0,
          0,
          0,
          0,
          0,
          0,
          0,
          0,
          0,
          0,
          0,
          0,
          0,
          0,
          0,
          0,
          0,
          0,
          0,
          0,
          0,
          0,
          0,
          0,
          0,
          0,
          0,
          0,
          0,
          0,
          0,
          0,
          0,
          0,
          0,
          0,
          0,
          0,
          0,
          0,
          0,
          0,
          0,
          0,
          0,
          0,
          0,
          0,
          0,
          0,
          0,
          0,
          0,
          0,
          0,
          0,
          0,
          0,
          0,
          0,
          0,
          0,
          0,
          0,
          0,
          0
         ],
         "yaxis": "y"
        },
        {
         "name": "#Assembler",
         "type": "bar",
         "x": [
          0,
          1,
          2,
          3,
          4,
          5,
          6,
          7,
          8,
          9,
          10,
          11,
          12,
          13,
          14,
          15,
          16,
          17,
          18,
          19,
          20,
          21,
          22,
          23,
          24,
          25,
          26,
          27,
          28,
          29,
          30,
          31,
          32,
          33,
          34,
          35,
          36,
          37,
          38,
          39,
          40,
          41,
          42,
          43,
          44,
          45,
          46,
          47,
          48,
          49,
          50,
          51,
          52,
          53,
          54,
          55,
          56,
          57,
          58,
          59,
          60,
          61,
          62,
          63,
          64,
          65,
          66,
          67,
          68,
          69,
          70,
          71,
          72,
          73,
          74
         ],
         "xaxis": "x",
         "y": [
          1,
          1,
          1,
          1,
          3,
          3,
          5,
          5,
          6,
          6,
          8,
          8,
          14,
          15,
          21,
          21,
          27,
          28,
          34,
          34,
          38,
          40,
          42,
          43,
          45,
          49,
          52,
          53,
          58,
          63,
          68,
          73,
          75,
          82,
          86,
          94,
          100,
          104,
          106,
          107,
          107,
          107,
          107,
          107,
          107,
          107,
          107,
          107,
          107,
          107,
          107,
          107,
          107,
          107,
          107,
          107,
          107,
          107,
          107,
          107,
          107,
          107,
          107,
          107,
          107,
          107,
          107,
          107,
          107,
          107,
          107,
          107,
          107,
          107,
          107
         ],
         "yaxis": "y"
        },
        {
         "name": "#Printer",
         "type": "bar",
         "x": [
          0,
          1,
          2,
          3,
          4,
          5,
          6,
          7,
          8,
          9,
          10,
          11,
          12,
          13,
          14,
          15,
          16,
          17,
          18,
          19,
          20,
          21,
          22,
          23,
          24,
          25,
          26,
          27,
          28,
          29,
          30,
          31,
          32,
          33,
          34,
          35,
          36,
          37,
          38,
          39,
          40,
          41,
          42,
          43,
          44,
          45,
          46,
          47,
          48,
          49,
          50,
          51,
          52,
          53,
          54,
          55,
          56,
          57,
          58,
          59,
          60,
          61,
          62,
          63,
          64,
          65,
          66,
          67,
          68,
          69,
          70,
          71,
          72,
          73,
          74
         ],
         "xaxis": "x",
         "y": [
          1,
          1,
          1,
          1,
          1,
          1,
          1,
          1,
          5,
          5,
          7,
          7,
          9,
          9,
          13,
          13,
          20,
          20,
          25,
          28,
          29,
          30,
          32,
          39,
          45,
          47,
          49,
          55,
          60,
          62,
          63,
          70,
          75,
          84,
          86,
          90,
          105,
          110,
          112,
          112,
          112,
          112,
          112,
          112,
          112,
          112,
          112,
          112,
          112,
          112,
          112,
          112,
          112,
          112,
          112,
          112,
          112,
          112,
          112,
          112,
          112,
          112,
          112,
          112,
          112,
          112,
          112,
          112,
          112,
          112,
          112,
          112,
          112,
          112,
          112
         ],
         "yaxis": "y"
        },
        {
         "name": "#Assembling",
         "type": "bar",
         "x": [
          0,
          1,
          2,
          3,
          4,
          5,
          6,
          7,
          8,
          9,
          10,
          11,
          12,
          13,
          14,
          15,
          16,
          17,
          18,
          19,
          20,
          21,
          22,
          23,
          24,
          25,
          26,
          27,
          28,
          29,
          30,
          31,
          32,
          33,
          34,
          35,
          36,
          37,
          38,
          39,
          40,
          41,
          42,
          43,
          44,
          45,
          46,
          47,
          48,
          49,
          50,
          51,
          52,
          53,
          54,
          55,
          56,
          57,
          58,
          59,
          60,
          61,
          62,
          63,
          64,
          65,
          66,
          67,
          68,
          69,
          70,
          71,
          72,
          73,
          74
         ],
         "xaxis": "x3",
         "y": [
          1,
          1,
          1,
          1,
          3,
          3,
          5,
          5,
          5,
          6,
          8,
          8,
          14,
          14,
          19,
          21,
          15,
          17,
          11,
          10,
          10,
          15,
          19,
          17,
          16,
          18,
          23,
          29,
          24,
          26,
          29,
          34,
          36,
          32,
          46,
          39,
          14,
          4,
          1,
          0,
          0,
          0,
          0,
          0,
          0,
          0,
          0,
          0,
          0,
          0,
          0,
          0,
          0,
          0,
          0,
          0,
          0,
          0,
          0,
          0,
          0,
          0,
          0,
          0,
          0,
          0,
          0,
          0,
          0,
          0,
          0,
          0,
          0,
          0,
          0
         ],
         "yaxis": "y3"
        },
        {
         "name": "#Printing",
         "type": "bar",
         "x": [
          0,
          1,
          2,
          3,
          4,
          5,
          6,
          7,
          8,
          9,
          10,
          11,
          12,
          13,
          14,
          15,
          16,
          17,
          18,
          19,
          20,
          21,
          22,
          23,
          24,
          25,
          26,
          27,
          28,
          29,
          30,
          31,
          32,
          33,
          34,
          35,
          36,
          37,
          38,
          39,
          40,
          41,
          42,
          43,
          44,
          45,
          46,
          47,
          48,
          49,
          50,
          51,
          52,
          53,
          54,
          55,
          56,
          57,
          58,
          59,
          60,
          61,
          62,
          63,
          64,
          65,
          66,
          67,
          68,
          69,
          70,
          71,
          72,
          73,
          74
         ],
         "xaxis": "x3",
         "y": [
          1,
          1,
          1,
          1,
          1,
          1,
          1,
          1,
          5,
          5,
          7,
          7,
          9,
          9,
          13,
          13,
          19,
          20,
          24,
          25,
          28,
          29,
          30,
          38,
          43,
          47,
          49,
          53,
          59,
          60,
          62,
          69,
          72,
          83,
          84,
          88,
          38,
          2,
          0,
          0,
          0,
          0,
          0,
          0,
          0,
          0,
          0,
          0,
          0,
          0,
          0,
          0,
          0,
          0,
          0,
          0,
          0,
          0,
          0,
          0,
          0,
          0,
          0,
          0,
          0,
          0,
          0,
          0,
          0,
          0,
          0,
          0,
          0,
          0,
          0
         ],
         "yaxis": "y3"
        },
        {
         "name": "#Collecting",
         "type": "bar",
         "x": [
          0,
          1,
          2,
          3,
          4,
          5,
          6,
          7,
          8,
          9,
          10,
          11,
          12,
          13,
          14,
          15,
          16,
          17,
          18,
          19,
          20,
          21,
          22,
          23,
          24,
          25,
          26,
          27,
          28,
          29,
          30,
          31,
          32,
          33,
          34,
          35,
          36,
          37,
          38,
          39,
          40,
          41,
          42,
          43,
          44,
          45,
          46,
          47,
          48,
          49,
          50,
          51,
          52,
          53,
          54,
          55,
          56,
          57,
          58,
          59,
          60,
          61,
          62,
          63,
          64,
          65,
          66,
          67,
          68,
          69,
          70,
          71,
          72,
          73,
          74
         ],
         "xaxis": "x3",
         "y": [
          0,
          0,
          0,
          0,
          0,
          0,
          0,
          0,
          0,
          0,
          0,
          0,
          0,
          0,
          0,
          0,
          8,
          10,
          23,
          24,
          28,
          25,
          23,
          25,
          29,
          31,
          26,
          23,
          31,
          36,
          38,
          34,
          37,
          47,
          24,
          0,
          0,
          0,
          0,
          0,
          0,
          0,
          0,
          0,
          0,
          0,
          0,
          0,
          0,
          0,
          0,
          0,
          0,
          0,
          0,
          0,
          0,
          0,
          0,
          0,
          0,
          0,
          0,
          0,
          0,
          0,
          0,
          0,
          0,
          0,
          0,
          0,
          0,
          0,
          0
         ],
         "yaxis": "y3"
        },
        {
         "name": "#Idle",
         "type": "bar",
         "x": [
          0,
          1,
          2,
          3,
          4,
          5,
          6,
          7,
          8,
          9,
          10,
          11,
          12,
          13,
          14,
          15,
          16,
          17,
          18,
          19,
          20,
          21,
          22,
          23,
          24,
          25,
          26,
          27,
          28,
          29,
          30,
          31,
          32,
          33,
          34,
          35,
          36,
          37,
          38,
          39,
          40,
          41,
          42,
          43,
          44,
          45,
          46,
          47,
          48,
          49,
          50,
          51,
          52,
          53,
          54,
          55,
          56,
          57,
          58,
          59,
          60,
          61,
          62,
          63,
          64,
          65,
          66,
          67,
          68,
          69,
          70,
          71,
          72,
          73,
          74
         ],
         "xaxis": "x3",
         "y": [
          0,
          0,
          0,
          0,
          0,
          0,
          0,
          0,
          1,
          0,
          0,
          0,
          0,
          1,
          2,
          0,
          5,
          1,
          1,
          3,
          1,
          1,
          2,
          2,
          2,
          0,
          3,
          3,
          4,
          3,
          2,
          6,
          5,
          4,
          18,
          57,
          153,
          208,
          217,
          219,
          219,
          219,
          219,
          219,
          219,
          219,
          219,
          219,
          219,
          219,
          219,
          219,
          219,
          219,
          219,
          219,
          219,
          219,
          219,
          219,
          219,
          219,
          219,
          219,
          219,
          219,
          219,
          219,
          219,
          219,
          219,
          219,
          219,
          219,
          219
         ],
         "yaxis": "y3"
        },
        {
         "mode": "lines",
         "name": "NonPr",
         "type": "scatter",
         "x": [
          0,
          1,
          2,
          3,
          4,
          5,
          6,
          7,
          8,
          9,
          10,
          11,
          12,
          13,
          14,
          15,
          16,
          17,
          18,
          19,
          20,
          21,
          22,
          23,
          24,
          25,
          26,
          27,
          28,
          29,
          30,
          31,
          32,
          33,
          34,
          35,
          36,
          37,
          38,
          39,
          40,
          41,
          42,
          43,
          44,
          45,
          46,
          47,
          48,
          49,
          50,
          51,
          52,
          53,
          54,
          55,
          56,
          57,
          58,
          59,
          60,
          61,
          62,
          63,
          64,
          65,
          66,
          67,
          68,
          69,
          70,
          71,
          72,
          73,
          74
         ],
         "xaxis": "x2",
         "y": [
          298,
          298,
          298,
          298,
          294,
          294,
          290,
          290,
          284,
          282,
          276,
          276,
          262,
          260,
          242,
          238,
          226,
          222,
          216,
          212,
          206,
          198,
          188,
          180,
          170,
          162,
          148,
          128,
          118,
          102,
          90,
          66,
          48,
          30,
          6,
          0,
          0,
          0,
          0,
          0,
          0,
          0,
          0,
          0,
          0,
          0,
          0,
          0,
          0,
          0,
          0,
          0,
          0,
          0,
          0,
          0,
          0,
          0,
          0,
          0,
          0,
          0,
          0,
          0,
          0,
          0,
          0,
          0,
          0,
          0,
          0,
          0,
          0,
          0,
          0
         ],
         "yaxis": "y2"
        },
        {
         "mode": "lines",
         "name": "Printable",
         "type": "scatter",
         "x": [
          0,
          1,
          2,
          3,
          4,
          5,
          6,
          7,
          8,
          9,
          10,
          11,
          12,
          13,
          14,
          15,
          16,
          17,
          18,
          19,
          20,
          21,
          22,
          23,
          24,
          25,
          26,
          27,
          28,
          29,
          30,
          31,
          32,
          33,
          34,
          35,
          36,
          37,
          38,
          39,
          40,
          41,
          42,
          43,
          44,
          45,
          46,
          47,
          48,
          49,
          50,
          51,
          52,
          53,
          54,
          55,
          56,
          57,
          58,
          59,
          60,
          61,
          62,
          63,
          64,
          65,
          66,
          67,
          68,
          69,
          70,
          71,
          72,
          73,
          74
         ],
         "xaxis": "x2",
         "y": [
          97,
          97,
          98,
          98,
          91,
          91,
          84,
          84,
          75,
          73,
          65,
          68,
          45,
          45,
          16,
          14,
          0,
          2,
          2,
          7,
          10,
          8,
          4,
          7,
          9,
          17,
          13,
          0,
          10,
          8,
          16,
          2,
          3,
          9,
          3,
          36,
          49,
          49,
          49,
          49,
          49,
          49,
          49,
          49,
          49,
          49,
          49,
          49,
          49,
          49,
          49,
          49,
          49,
          49,
          49,
          49,
          49,
          49,
          49,
          49,
          49,
          49,
          49,
          49,
          49,
          49,
          49,
          49,
          49,
          49,
          49,
          49,
          49,
          49,
          49
         ],
         "yaxis": "y2"
        },
        {
         "mode": "lines",
         "name": "Materials",
         "type": "scatter",
         "x": [
          0,
          1,
          2,
          3,
          4,
          5,
          6,
          7,
          8,
          9,
          10,
          11,
          12,
          13,
          14,
          15,
          16,
          17,
          18,
          19,
          20,
          21,
          22,
          23,
          24,
          25,
          26,
          27,
          28,
          29,
          30,
          31,
          32,
          33,
          34,
          35,
          36,
          37,
          38,
          39,
          40,
          41,
          42,
          43,
          44,
          45,
          46,
          47,
          48,
          49,
          50,
          51,
          52,
          53,
          54,
          55,
          56,
          57,
          58,
          59,
          60,
          61,
          62,
          63,
          64,
          65,
          66,
          67,
          68,
          69,
          70,
          71,
          72,
          73,
          74
         ],
         "xaxis": "x2",
         "y": [
          49,
          49,
          48,
          48,
          47,
          47,
          46,
          46,
          43,
          41,
          37,
          34,
          29,
          25,
          18,
          12,
          6,
          6,
          11,
          22,
          32,
          42,
          48,
          55,
          61,
          67,
          69,
          65,
          65,
          69,
          73,
          73,
          73,
          76,
          59,
          14,
          1,
          1,
          1,
          1,
          1,
          1,
          1,
          1,
          1,
          1,
          1,
          1,
          1,
          1,
          1,
          1,
          1,
          1,
          1,
          1,
          1,
          1,
          1,
          1,
          1,
          1,
          1,
          1,
          1,
          1,
          1,
          1,
          1,
          1,
          1,
          1,
          1,
          1,
          1
         ],
         "yaxis": "y2"
        },
        {
         "mode": "lines",
         "name": "Env_Materials",
         "type": "scatter",
         "x": [
          0,
          1,
          2,
          3,
          4,
          5,
          6,
          7,
          8,
          9,
          10,
          11,
          12,
          13,
          14,
          15,
          16,
          17,
          18,
          19,
          20,
          21,
          22,
          23,
          24,
          25,
          26,
          27,
          28,
          29,
          30,
          31,
          32,
          33,
          34,
          35,
          36,
          37,
          38,
          39,
          40,
          41,
          42,
          43,
          44,
          45,
          46,
          47,
          48,
          49,
          50,
          51,
          52,
          53,
          54,
          55,
          56,
          57,
          58,
          59,
          60,
          61,
          62,
          63,
          64,
          65,
          66,
          67,
          68,
          69,
          70,
          71,
          72,
          73,
          74
         ],
         "xaxis": "x2",
         "y": [
          500,
          500,
          500,
          500,
          500,
          500,
          500,
          500,
          500,
          500,
          500,
          500,
          500,
          500,
          500,
          500,
          496,
          486,
          469,
          445,
          420,
          396,
          374,
          348,
          320,
          290,
          264,
          241,
          211,
          177,
          141,
          107,
          70,
          25,
          0,
          0,
          0,
          0,
          0,
          0,
          0,
          0,
          0,
          0,
          0,
          0,
          0,
          0,
          0,
          0,
          0,
          0,
          0,
          0,
          0,
          0,
          0,
          0,
          0,
          0,
          0,
          0,
          0,
          0,
          0,
          0,
          0,
          0,
          0,
          0,
          0,
          0,
          0,
          0,
          0
         ],
         "yaxis": "y2"
        },
        {
         "mode": "lines",
         "name": "Avg. Quality #in",
         "type": "scatter",
         "x": [
          0,
          1,
          2,
          3,
          4,
          5,
          6,
          7,
          8,
          9,
          10,
          11,
          12,
          13,
          14,
          15,
          16,
          17,
          18,
          19,
          20,
          21,
          22,
          23,
          24,
          25,
          26,
          27,
          28,
          29,
          30,
          31,
          32,
          33,
          34,
          35,
          36,
          37,
          38,
          39,
          40,
          41,
          42,
          43,
          44,
          45,
          46,
          47,
          48,
          49,
          50,
          51,
          52,
          53,
          54,
          55,
          56,
          57,
          58,
          59,
          60,
          61,
          62,
          63,
          64,
          65,
          66,
          67,
          68,
          69,
          70,
          71,
          72,
          73,
          74
         ],
         "xaxis": "x4",
         "y": [
          0.869,
          0.869,
          0.869,
          0.869,
          0.795,
          0.795,
          0.717,
          0.717,
          0.627,
          0.627,
          0.628,
          0.628,
          0.613,
          0.588,
          0.554,
          0.554,
          0.524,
          0.513,
          0.526,
          0.501,
          0.504,
          0.505,
          0.494,
          0.493,
          0.5,
          0.509,
          0.496,
          0.484,
          0.477,
          0.469,
          0.468,
          0.453,
          0.441,
          0.445,
          0.437,
          0.429,
          0.414,
          0.402,
          0.402,
          0.4,
          0.4,
          0.4,
          0.4,
          0.4,
          0.4,
          0.4,
          0.4,
          0.4,
          0.4,
          0.4,
          0.4,
          0.4,
          0.4,
          0.4,
          0.4,
          0.4,
          0.4,
          0.4,
          0.4,
          0.4,
          0.4,
          0.4,
          0.4,
          0.4,
          0.4,
          0.4,
          0.4,
          0.4,
          0.4,
          0.4,
          0.4,
          0.4,
          0.4,
          0.4,
          0.4
         ],
         "yaxis": "y4"
        },
        {
         "mode": "lines",
         "name": "Avg. Quality #total",
         "type": "scatter",
         "x": [
          0,
          1,
          2,
          3,
          4,
          5,
          6,
          7,
          8,
          9,
          10,
          11,
          12,
          13,
          14,
          15,
          16,
          17,
          18,
          19,
          20,
          21,
          22,
          23,
          24,
          25,
          26,
          27,
          28,
          29,
          30,
          31,
          32,
          33,
          34,
          35,
          36,
          37,
          38,
          39,
          40,
          41,
          42,
          43,
          44,
          45,
          46,
          47,
          48,
          49,
          50,
          51,
          52,
          53,
          54,
          55,
          56,
          57,
          58,
          59,
          60,
          61,
          62,
          63,
          64,
          65,
          66,
          67,
          68,
          69,
          70,
          71,
          72,
          73,
          74
         ],
         "xaxis": "x4",
         "y": [
          0.869,
          0.869,
          0.869,
          0.869,
          0.795,
          0.795,
          0.717,
          0.717,
          0.665,
          0.665,
          0.656,
          0.656,
          0.632,
          0.616,
          0.597,
          0.597,
          0.601,
          0.593,
          0.591,
          0.578,
          0.581,
          0.582,
          0.574,
          0.573,
          0.583,
          0.586,
          0.581,
          0.571,
          0.569,
          0.566,
          0.563,
          0.551,
          0.546,
          0.545,
          0.541,
          0.532,
          0.521,
          0.511,
          0.511,
          0.511,
          0.511,
          0.511,
          0.511,
          0.511,
          0.511,
          0.511,
          0.511,
          0.511,
          0.511,
          0.511,
          0.511,
          0.511,
          0.511,
          0.511,
          0.511,
          0.511,
          0.511,
          0.511,
          0.511,
          0.511,
          0.511,
          0.511,
          0.511,
          0.511,
          0.511,
          0.511,
          0.511,
          0.511,
          0.511,
          0.511,
          0.511,
          0.511,
          0.511,
          0.511,
          0.511
         ],
         "yaxis": "y4"
        }
       ],
       "layout": {
        "annotations": [
         {
          "font": {
           "size": 16
          },
          "showarrow": false,
          "text": "Types of Robots vs Time",
          "x": 0.225,
          "xanchor": "center",
          "xref": "paper",
          "y": 1,
          "yanchor": "bottom",
          "yref": "paper"
         },
         {
          "font": {
           "size": 16
          },
          "showarrow": false,
          "text": "Resources vs Time",
          "x": 0.775,
          "xanchor": "center",
          "xref": "paper",
          "y": 1,
          "yanchor": "bottom",
          "yref": "paper"
         },
         {
          "font": {
           "size": 16
          },
          "showarrow": false,
          "text": "Tasks of Robots vs Time",
          "x": 0.225,
          "xanchor": "center",
          "xref": "paper",
          "y": 0.375,
          "yanchor": "bottom",
          "yref": "paper"
         },
         {
          "font": {
           "size": 16
          },
          "showarrow": false,
          "text": "Build Quality vs Time",
          "x": 0.775,
          "xanchor": "center",
          "xref": "paper",
          "y": 0.375,
          "yanchor": "bottom",
          "yref": "paper"
         }
        ],
        "hovermode": "x",
        "template": {
         "data": {
          "bar": [
           {
            "error_x": {
             "color": "#2a3f5f"
            },
            "error_y": {
             "color": "#2a3f5f"
            },
            "marker": {
             "line": {
              "color": "#E5ECF6",
              "width": 0.5
             },
             "pattern": {
              "fillmode": "overlay",
              "size": 10,
              "solidity": 0.2
             }
            },
            "type": "bar"
           }
          ],
          "barpolar": [
           {
            "marker": {
             "line": {
              "color": "#E5ECF6",
              "width": 0.5
             },
             "pattern": {
              "fillmode": "overlay",
              "size": 10,
              "solidity": 0.2
             }
            },
            "type": "barpolar"
           }
          ],
          "carpet": [
           {
            "aaxis": {
             "endlinecolor": "#2a3f5f",
             "gridcolor": "white",
             "linecolor": "white",
             "minorgridcolor": "white",
             "startlinecolor": "#2a3f5f"
            },
            "baxis": {
             "endlinecolor": "#2a3f5f",
             "gridcolor": "white",
             "linecolor": "white",
             "minorgridcolor": "white",
             "startlinecolor": "#2a3f5f"
            },
            "type": "carpet"
           }
          ],
          "choropleth": [
           {
            "colorbar": {
             "outlinewidth": 0,
             "ticks": ""
            },
            "type": "choropleth"
           }
          ],
          "contour": [
           {
            "colorbar": {
             "outlinewidth": 0,
             "ticks": ""
            },
            "colorscale": [
             [
              0,
              "#0d0887"
             ],
             [
              0.1111111111111111,
              "#46039f"
             ],
             [
              0.2222222222222222,
              "#7201a8"
             ],
             [
              0.3333333333333333,
              "#9c179e"
             ],
             [
              0.4444444444444444,
              "#bd3786"
             ],
             [
              0.5555555555555556,
              "#d8576b"
             ],
             [
              0.6666666666666666,
              "#ed7953"
             ],
             [
              0.7777777777777778,
              "#fb9f3a"
             ],
             [
              0.8888888888888888,
              "#fdca26"
             ],
             [
              1,
              "#f0f921"
             ]
            ],
            "type": "contour"
           }
          ],
          "contourcarpet": [
           {
            "colorbar": {
             "outlinewidth": 0,
             "ticks": ""
            },
            "type": "contourcarpet"
           }
          ],
          "heatmap": [
           {
            "colorbar": {
             "outlinewidth": 0,
             "ticks": ""
            },
            "colorscale": [
             [
              0,
              "#0d0887"
             ],
             [
              0.1111111111111111,
              "#46039f"
             ],
             [
              0.2222222222222222,
              "#7201a8"
             ],
             [
              0.3333333333333333,
              "#9c179e"
             ],
             [
              0.4444444444444444,
              "#bd3786"
             ],
             [
              0.5555555555555556,
              "#d8576b"
             ],
             [
              0.6666666666666666,
              "#ed7953"
             ],
             [
              0.7777777777777778,
              "#fb9f3a"
             ],
             [
              0.8888888888888888,
              "#fdca26"
             ],
             [
              1,
              "#f0f921"
             ]
            ],
            "type": "heatmap"
           }
          ],
          "heatmapgl": [
           {
            "colorbar": {
             "outlinewidth": 0,
             "ticks": ""
            },
            "colorscale": [
             [
              0,
              "#0d0887"
             ],
             [
              0.1111111111111111,
              "#46039f"
             ],
             [
              0.2222222222222222,
              "#7201a8"
             ],
             [
              0.3333333333333333,
              "#9c179e"
             ],
             [
              0.4444444444444444,
              "#bd3786"
             ],
             [
              0.5555555555555556,
              "#d8576b"
             ],
             [
              0.6666666666666666,
              "#ed7953"
             ],
             [
              0.7777777777777778,
              "#fb9f3a"
             ],
             [
              0.8888888888888888,
              "#fdca26"
             ],
             [
              1,
              "#f0f921"
             ]
            ],
            "type": "heatmapgl"
           }
          ],
          "histogram": [
           {
            "marker": {
             "pattern": {
              "fillmode": "overlay",
              "size": 10,
              "solidity": 0.2
             }
            },
            "type": "histogram"
           }
          ],
          "histogram2d": [
           {
            "colorbar": {
             "outlinewidth": 0,
             "ticks": ""
            },
            "colorscale": [
             [
              0,
              "#0d0887"
             ],
             [
              0.1111111111111111,
              "#46039f"
             ],
             [
              0.2222222222222222,
              "#7201a8"
             ],
             [
              0.3333333333333333,
              "#9c179e"
             ],
             [
              0.4444444444444444,
              "#bd3786"
             ],
             [
              0.5555555555555556,
              "#d8576b"
             ],
             [
              0.6666666666666666,
              "#ed7953"
             ],
             [
              0.7777777777777778,
              "#fb9f3a"
             ],
             [
              0.8888888888888888,
              "#fdca26"
             ],
             [
              1,
              "#f0f921"
             ]
            ],
            "type": "histogram2d"
           }
          ],
          "histogram2dcontour": [
           {
            "colorbar": {
             "outlinewidth": 0,
             "ticks": ""
            },
            "colorscale": [
             [
              0,
              "#0d0887"
             ],
             [
              0.1111111111111111,
              "#46039f"
             ],
             [
              0.2222222222222222,
              "#7201a8"
             ],
             [
              0.3333333333333333,
              "#9c179e"
             ],
             [
              0.4444444444444444,
              "#bd3786"
             ],
             [
              0.5555555555555556,
              "#d8576b"
             ],
             [
              0.6666666666666666,
              "#ed7953"
             ],
             [
              0.7777777777777778,
              "#fb9f3a"
             ],
             [
              0.8888888888888888,
              "#fdca26"
             ],
             [
              1,
              "#f0f921"
             ]
            ],
            "type": "histogram2dcontour"
           }
          ],
          "mesh3d": [
           {
            "colorbar": {
             "outlinewidth": 0,
             "ticks": ""
            },
            "type": "mesh3d"
           }
          ],
          "parcoords": [
           {
            "line": {
             "colorbar": {
              "outlinewidth": 0,
              "ticks": ""
             }
            },
            "type": "parcoords"
           }
          ],
          "pie": [
           {
            "automargin": true,
            "type": "pie"
           }
          ],
          "scatter": [
           {
            "fillpattern": {
             "fillmode": "overlay",
             "size": 10,
             "solidity": 0.2
            },
            "type": "scatter"
           }
          ],
          "scatter3d": [
           {
            "line": {
             "colorbar": {
              "outlinewidth": 0,
              "ticks": ""
             }
            },
            "marker": {
             "colorbar": {
              "outlinewidth": 0,
              "ticks": ""
             }
            },
            "type": "scatter3d"
           }
          ],
          "scattercarpet": [
           {
            "marker": {
             "colorbar": {
              "outlinewidth": 0,
              "ticks": ""
             }
            },
            "type": "scattercarpet"
           }
          ],
          "scattergeo": [
           {
            "marker": {
             "colorbar": {
              "outlinewidth": 0,
              "ticks": ""
             }
            },
            "type": "scattergeo"
           }
          ],
          "scattergl": [
           {
            "marker": {
             "colorbar": {
              "outlinewidth": 0,
              "ticks": ""
             }
            },
            "type": "scattergl"
           }
          ],
          "scattermapbox": [
           {
            "marker": {
             "colorbar": {
              "outlinewidth": 0,
              "ticks": ""
             }
            },
            "type": "scattermapbox"
           }
          ],
          "scatterpolar": [
           {
            "marker": {
             "colorbar": {
              "outlinewidth": 0,
              "ticks": ""
             }
            },
            "type": "scatterpolar"
           }
          ],
          "scatterpolargl": [
           {
            "marker": {
             "colorbar": {
              "outlinewidth": 0,
              "ticks": ""
             }
            },
            "type": "scatterpolargl"
           }
          ],
          "scatterternary": [
           {
            "marker": {
             "colorbar": {
              "outlinewidth": 0,
              "ticks": ""
             }
            },
            "type": "scatterternary"
           }
          ],
          "surface": [
           {
            "colorbar": {
             "outlinewidth": 0,
             "ticks": ""
            },
            "colorscale": [
             [
              0,
              "#0d0887"
             ],
             [
              0.1111111111111111,
              "#46039f"
             ],
             [
              0.2222222222222222,
              "#7201a8"
             ],
             [
              0.3333333333333333,
              "#9c179e"
             ],
             [
              0.4444444444444444,
              "#bd3786"
             ],
             [
              0.5555555555555556,
              "#d8576b"
             ],
             [
              0.6666666666666666,
              "#ed7953"
             ],
             [
              0.7777777777777778,
              "#fb9f3a"
             ],
             [
              0.8888888888888888,
              "#fdca26"
             ],
             [
              1,
              "#f0f921"
             ]
            ],
            "type": "surface"
           }
          ],
          "table": [
           {
            "cells": {
             "fill": {
              "color": "#EBF0F8"
             },
             "line": {
              "color": "white"
             }
            },
            "header": {
             "fill": {
              "color": "#C8D4E3"
             },
             "line": {
              "color": "white"
             }
            },
            "type": "table"
           }
          ]
         },
         "layout": {
          "annotationdefaults": {
           "arrowcolor": "#2a3f5f",
           "arrowhead": 0,
           "arrowwidth": 1
          },
          "autotypenumbers": "strict",
          "coloraxis": {
           "colorbar": {
            "outlinewidth": 0,
            "ticks": ""
           }
          },
          "colorscale": {
           "diverging": [
            [
             0,
             "#8e0152"
            ],
            [
             0.1,
             "#c51b7d"
            ],
            [
             0.2,
             "#de77ae"
            ],
            [
             0.3,
             "#f1b6da"
            ],
            [
             0.4,
             "#fde0ef"
            ],
            [
             0.5,
             "#f7f7f7"
            ],
            [
             0.6,
             "#e6f5d0"
            ],
            [
             0.7,
             "#b8e186"
            ],
            [
             0.8,
             "#7fbc41"
            ],
            [
             0.9,
             "#4d9221"
            ],
            [
             1,
             "#276419"
            ]
           ],
           "sequential": [
            [
             0,
             "#0d0887"
            ],
            [
             0.1111111111111111,
             "#46039f"
            ],
            [
             0.2222222222222222,
             "#7201a8"
            ],
            [
             0.3333333333333333,
             "#9c179e"
            ],
            [
             0.4444444444444444,
             "#bd3786"
            ],
            [
             0.5555555555555556,
             "#d8576b"
            ],
            [
             0.6666666666666666,
             "#ed7953"
            ],
            [
             0.7777777777777778,
             "#fb9f3a"
            ],
            [
             0.8888888888888888,
             "#fdca26"
            ],
            [
             1,
             "#f0f921"
            ]
           ],
           "sequentialminus": [
            [
             0,
             "#0d0887"
            ],
            [
             0.1111111111111111,
             "#46039f"
            ],
            [
             0.2222222222222222,
             "#7201a8"
            ],
            [
             0.3333333333333333,
             "#9c179e"
            ],
            [
             0.4444444444444444,
             "#bd3786"
            ],
            [
             0.5555555555555556,
             "#d8576b"
            ],
            [
             0.6666666666666666,
             "#ed7953"
            ],
            [
             0.7777777777777778,
             "#fb9f3a"
            ],
            [
             0.8888888888888888,
             "#fdca26"
            ],
            [
             1,
             "#f0f921"
            ]
           ]
          },
          "colorway": [
           "#636efa",
           "#EF553B",
           "#00cc96",
           "#ab63fa",
           "#FFA15A",
           "#19d3f3",
           "#FF6692",
           "#B6E880",
           "#FF97FF",
           "#FECB52"
          ],
          "font": {
           "color": "#2a3f5f"
          },
          "geo": {
           "bgcolor": "white",
           "lakecolor": "white",
           "landcolor": "#E5ECF6",
           "showlakes": true,
           "showland": true,
           "subunitcolor": "white"
          },
          "hoverlabel": {
           "align": "left"
          },
          "hovermode": "closest",
          "mapbox": {
           "style": "light"
          },
          "paper_bgcolor": "white",
          "plot_bgcolor": "#E5ECF6",
          "polar": {
           "angularaxis": {
            "gridcolor": "white",
            "linecolor": "white",
            "ticks": ""
           },
           "bgcolor": "#E5ECF6",
           "radialaxis": {
            "gridcolor": "white",
            "linecolor": "white",
            "ticks": ""
           }
          },
          "scene": {
           "xaxis": {
            "backgroundcolor": "#E5ECF6",
            "gridcolor": "white",
            "gridwidth": 2,
            "linecolor": "white",
            "showbackground": true,
            "ticks": "",
            "zerolinecolor": "white"
           },
           "yaxis": {
            "backgroundcolor": "#E5ECF6",
            "gridcolor": "white",
            "gridwidth": 2,
            "linecolor": "white",
            "showbackground": true,
            "ticks": "",
            "zerolinecolor": "white"
           },
           "zaxis": {
            "backgroundcolor": "#E5ECF6",
            "gridcolor": "white",
            "gridwidth": 2,
            "linecolor": "white",
            "showbackground": true,
            "ticks": "",
            "zerolinecolor": "white"
           }
          },
          "shapedefaults": {
           "line": {
            "color": "#2a3f5f"
           }
          },
          "ternary": {
           "aaxis": {
            "gridcolor": "white",
            "linecolor": "white",
            "ticks": ""
           },
           "baxis": {
            "gridcolor": "white",
            "linecolor": "white",
            "ticks": ""
           },
           "bgcolor": "#E5ECF6",
           "caxis": {
            "gridcolor": "white",
            "linecolor": "white",
            "ticks": ""
           }
          },
          "title": {
           "x": 0.05
          },
          "xaxis": {
           "automargin": true,
           "gridcolor": "white",
           "linecolor": "white",
           "ticks": "",
           "title": {
            "standoff": 15
           },
           "zerolinecolor": "white",
           "zerolinewidth": 2
          },
          "yaxis": {
           "automargin": true,
           "gridcolor": "white",
           "linecolor": "white",
           "ticks": "",
           "title": {
            "standoff": 15
           },
           "zerolinecolor": "white",
           "zerolinewidth": 2
          }
         }
        },
        "title": {
         "text": "DHE - Characteristics"
        },
        "xaxis": {
         "anchor": "y",
         "domain": [
          0,
          0.45
         ]
        },
        "xaxis2": {
         "anchor": "y2",
         "domain": [
          0.55,
          1
         ]
        },
        "xaxis3": {
         "anchor": "y3",
         "domain": [
          0,
          0.45
         ]
        },
        "xaxis4": {
         "anchor": "y4",
         "domain": [
          0.55,
          1
         ]
        },
        "yaxis": {
         "anchor": "x",
         "domain": [
          0.625,
          1
         ]
        },
        "yaxis2": {
         "anchor": "x2",
         "domain": [
          0.625,
          1
         ]
        },
        "yaxis3": {
         "anchor": "x3",
         "domain": [
          0,
          0.375
         ]
        },
        "yaxis4": {
         "anchor": "x4",
         "domain": [
          0,
          0.375
         ]
        }
       }
      },
      "text/html": [
       "<div>                            <div id=\"447f22cf-7d80-4d91-bc5d-c499ac9e1530\" class=\"plotly-graph-div\" style=\"height:525px; width:100%;\"></div>            <script type=\"text/javascript\">                require([\"plotly\"], function(Plotly) {                    window.PLOTLYENV=window.PLOTLYENV || {};                                    if (document.getElementById(\"447f22cf-7d80-4d91-bc5d-c499ac9e1530\")) {                    Plotly.newPlot(                        \"447f22cf-7d80-4d91-bc5d-c499ac9e1530\",                        [{\"name\":\"#Replicator\",\"x\":[0.0,1.0,2.0,3.0,4.0,5.0,6.0,7.0,8.0,9.0,10.0,11.0,12.0,13.0,14.0,15.0,16.0,17.0,18.0,19.0,20.0,21.0,22.0,23.0,24.0,25.0,26.0,27.0,28.0,29.0,30.0,31.0,32.0,33.0,34.0,35.0,36.0,37.0,38.0,39.0,40.0,41.0,42.0,43.0,44.0,45.0,46.0,47.0,48.0,49.0,50.0,51.0,52.0,53.0,54.0,55.0,56.0,57.0,58.0,59.0,60.0,61.0,62.0,63.0,64.0,65.0,66.0,67.0,68.0,69.0,70.0,71.0,72.0,73.0,74.0],\"y\":[0.0,0.0,0.0,0.0,0.0,0.0,0.0,0.0,0.0,0.0,0.0,0.0,0.0,0.0,0.0,0.0,0.0,0.0,0.0,0.0,0.0,0.0,0.0,0.0,0.0,0.0,0.0,0.0,0.0,0.0,0.0,0.0,0.0,0.0,0.0,0.0,0.0,0.0,0.0,0.0,0.0,0.0,0.0,0.0,0.0,0.0,0.0,0.0,0.0,0.0,0.0,0.0,0.0,0.0,0.0,0.0,0.0,0.0,0.0,0.0,0.0,0.0,0.0,0.0,0.0,0.0,0.0,0.0,0.0,0.0,0.0,0.0,0.0,0.0,0.0],\"type\":\"bar\",\"xaxis\":\"x\",\"yaxis\":\"y\"},{\"name\":\"#Normal\",\"x\":[0.0,1.0,2.0,3.0,4.0,5.0,6.0,7.0,8.0,9.0,10.0,11.0,12.0,13.0,14.0,15.0,16.0,17.0,18.0,19.0,20.0,21.0,22.0,23.0,24.0,25.0,26.0,27.0,28.0,29.0,30.0,31.0,32.0,33.0,34.0,35.0,36.0,37.0,38.0,39.0,40.0,41.0,42.0,43.0,44.0,45.0,46.0,47.0,48.0,49.0,50.0,51.0,52.0,53.0,54.0,55.0,56.0,57.0,58.0,59.0,60.0,61.0,62.0,63.0,64.0,65.0,66.0,67.0,68.0,69.0,70.0,71.0,72.0,73.0,74.0],\"y\":[0.0,0.0,0.0,0.0,0.0,0.0,0.0,0.0,0.0,0.0,0.0,0.0,0.0,0.0,0.0,0.0,0.0,0.0,0.0,0.0,0.0,0.0,0.0,0.0,0.0,0.0,0.0,0.0,0.0,0.0,0.0,0.0,0.0,0.0,0.0,0.0,0.0,0.0,0.0,0.0,0.0,0.0,0.0,0.0,0.0,0.0,0.0,0.0,0.0,0.0,0.0,0.0,0.0,0.0,0.0,0.0,0.0,0.0,0.0,0.0,0.0,0.0,0.0,0.0,0.0,0.0,0.0,0.0,0.0,0.0,0.0,0.0,0.0,0.0,0.0],\"type\":\"bar\",\"xaxis\":\"x\",\"yaxis\":\"y\"},{\"name\":\"#Assembler\",\"x\":[0.0,1.0,2.0,3.0,4.0,5.0,6.0,7.0,8.0,9.0,10.0,11.0,12.0,13.0,14.0,15.0,16.0,17.0,18.0,19.0,20.0,21.0,22.0,23.0,24.0,25.0,26.0,27.0,28.0,29.0,30.0,31.0,32.0,33.0,34.0,35.0,36.0,37.0,38.0,39.0,40.0,41.0,42.0,43.0,44.0,45.0,46.0,47.0,48.0,49.0,50.0,51.0,52.0,53.0,54.0,55.0,56.0,57.0,58.0,59.0,60.0,61.0,62.0,63.0,64.0,65.0,66.0,67.0,68.0,69.0,70.0,71.0,72.0,73.0,74.0],\"y\":[1.0,1.0,1.0,1.0,3.0,3.0,5.0,5.0,6.0,6.0,8.0,8.0,14.0,15.0,21.0,21.0,27.0,28.0,34.0,34.0,38.0,40.0,42.0,43.0,45.0,49.0,52.0,53.0,58.0,63.0,68.0,73.0,75.0,82.0,86.0,94.0,100.0,104.0,106.0,107.0,107.0,107.0,107.0,107.0,107.0,107.0,107.0,107.0,107.0,107.0,107.0,107.0,107.0,107.0,107.0,107.0,107.0,107.0,107.0,107.0,107.0,107.0,107.0,107.0,107.0,107.0,107.0,107.0,107.0,107.0,107.0,107.0,107.0,107.0,107.0],\"type\":\"bar\",\"xaxis\":\"x\",\"yaxis\":\"y\"},{\"name\":\"#Printer\",\"x\":[0.0,1.0,2.0,3.0,4.0,5.0,6.0,7.0,8.0,9.0,10.0,11.0,12.0,13.0,14.0,15.0,16.0,17.0,18.0,19.0,20.0,21.0,22.0,23.0,24.0,25.0,26.0,27.0,28.0,29.0,30.0,31.0,32.0,33.0,34.0,35.0,36.0,37.0,38.0,39.0,40.0,41.0,42.0,43.0,44.0,45.0,46.0,47.0,48.0,49.0,50.0,51.0,52.0,53.0,54.0,55.0,56.0,57.0,58.0,59.0,60.0,61.0,62.0,63.0,64.0,65.0,66.0,67.0,68.0,69.0,70.0,71.0,72.0,73.0,74.0],\"y\":[1.0,1.0,1.0,1.0,1.0,1.0,1.0,1.0,5.0,5.0,7.0,7.0,9.0,9.0,13.0,13.0,20.0,20.0,25.0,28.0,29.0,30.0,32.0,39.0,45.0,47.0,49.0,55.0,60.0,62.0,63.0,70.0,75.0,84.0,86.0,90.0,105.0,110.0,112.0,112.0,112.0,112.0,112.0,112.0,112.0,112.0,112.0,112.0,112.0,112.0,112.0,112.0,112.0,112.0,112.0,112.0,112.0,112.0,112.0,112.0,112.0,112.0,112.0,112.0,112.0,112.0,112.0,112.0,112.0,112.0,112.0,112.0,112.0,112.0,112.0],\"type\":\"bar\",\"xaxis\":\"x\",\"yaxis\":\"y\"},{\"name\":\"#Assembling\",\"x\":[0.0,1.0,2.0,3.0,4.0,5.0,6.0,7.0,8.0,9.0,10.0,11.0,12.0,13.0,14.0,15.0,16.0,17.0,18.0,19.0,20.0,21.0,22.0,23.0,24.0,25.0,26.0,27.0,28.0,29.0,30.0,31.0,32.0,33.0,34.0,35.0,36.0,37.0,38.0,39.0,40.0,41.0,42.0,43.0,44.0,45.0,46.0,47.0,48.0,49.0,50.0,51.0,52.0,53.0,54.0,55.0,56.0,57.0,58.0,59.0,60.0,61.0,62.0,63.0,64.0,65.0,66.0,67.0,68.0,69.0,70.0,71.0,72.0,73.0,74.0],\"y\":[1.0,1.0,1.0,1.0,3.0,3.0,5.0,5.0,5.0,6.0,8.0,8.0,14.0,14.0,19.0,21.0,15.0,17.0,11.0,10.0,10.0,15.0,19.0,17.0,16.0,18.0,23.0,29.0,24.0,26.0,29.0,34.0,36.0,32.0,46.0,39.0,14.0,4.0,1.0,0.0,0.0,0.0,0.0,0.0,0.0,0.0,0.0,0.0,0.0,0.0,0.0,0.0,0.0,0.0,0.0,0.0,0.0,0.0,0.0,0.0,0.0,0.0,0.0,0.0,0.0,0.0,0.0,0.0,0.0,0.0,0.0,0.0,0.0,0.0,0.0],\"type\":\"bar\",\"xaxis\":\"x3\",\"yaxis\":\"y3\"},{\"name\":\"#Printing\",\"x\":[0.0,1.0,2.0,3.0,4.0,5.0,6.0,7.0,8.0,9.0,10.0,11.0,12.0,13.0,14.0,15.0,16.0,17.0,18.0,19.0,20.0,21.0,22.0,23.0,24.0,25.0,26.0,27.0,28.0,29.0,30.0,31.0,32.0,33.0,34.0,35.0,36.0,37.0,38.0,39.0,40.0,41.0,42.0,43.0,44.0,45.0,46.0,47.0,48.0,49.0,50.0,51.0,52.0,53.0,54.0,55.0,56.0,57.0,58.0,59.0,60.0,61.0,62.0,63.0,64.0,65.0,66.0,67.0,68.0,69.0,70.0,71.0,72.0,73.0,74.0],\"y\":[1.0,1.0,1.0,1.0,1.0,1.0,1.0,1.0,5.0,5.0,7.0,7.0,9.0,9.0,13.0,13.0,19.0,20.0,24.0,25.0,28.0,29.0,30.0,38.0,43.0,47.0,49.0,53.0,59.0,60.0,62.0,69.0,72.0,83.0,84.0,88.0,38.0,2.0,0.0,0.0,0.0,0.0,0.0,0.0,0.0,0.0,0.0,0.0,0.0,0.0,0.0,0.0,0.0,0.0,0.0,0.0,0.0,0.0,0.0,0.0,0.0,0.0,0.0,0.0,0.0,0.0,0.0,0.0,0.0,0.0,0.0,0.0,0.0,0.0,0.0],\"type\":\"bar\",\"xaxis\":\"x3\",\"yaxis\":\"y3\"},{\"name\":\"#Collecting\",\"x\":[0.0,1.0,2.0,3.0,4.0,5.0,6.0,7.0,8.0,9.0,10.0,11.0,12.0,13.0,14.0,15.0,16.0,17.0,18.0,19.0,20.0,21.0,22.0,23.0,24.0,25.0,26.0,27.0,28.0,29.0,30.0,31.0,32.0,33.0,34.0,35.0,36.0,37.0,38.0,39.0,40.0,41.0,42.0,43.0,44.0,45.0,46.0,47.0,48.0,49.0,50.0,51.0,52.0,53.0,54.0,55.0,56.0,57.0,58.0,59.0,60.0,61.0,62.0,63.0,64.0,65.0,66.0,67.0,68.0,69.0,70.0,71.0,72.0,73.0,74.0],\"y\":[0.0,0.0,0.0,0.0,0.0,0.0,0.0,0.0,0.0,0.0,0.0,0.0,0.0,0.0,0.0,0.0,8.0,10.0,23.0,24.0,28.0,25.0,23.0,25.0,29.0,31.0,26.0,23.0,31.0,36.0,38.0,34.0,37.0,47.0,24.0,0.0,0.0,0.0,0.0,0.0,0.0,0.0,0.0,0.0,0.0,0.0,0.0,0.0,0.0,0.0,0.0,0.0,0.0,0.0,0.0,0.0,0.0,0.0,0.0,0.0,0.0,0.0,0.0,0.0,0.0,0.0,0.0,0.0,0.0,0.0,0.0,0.0,0.0,0.0,0.0],\"type\":\"bar\",\"xaxis\":\"x3\",\"yaxis\":\"y3\"},{\"name\":\"#Idle\",\"x\":[0.0,1.0,2.0,3.0,4.0,5.0,6.0,7.0,8.0,9.0,10.0,11.0,12.0,13.0,14.0,15.0,16.0,17.0,18.0,19.0,20.0,21.0,22.0,23.0,24.0,25.0,26.0,27.0,28.0,29.0,30.0,31.0,32.0,33.0,34.0,35.0,36.0,37.0,38.0,39.0,40.0,41.0,42.0,43.0,44.0,45.0,46.0,47.0,48.0,49.0,50.0,51.0,52.0,53.0,54.0,55.0,56.0,57.0,58.0,59.0,60.0,61.0,62.0,63.0,64.0,65.0,66.0,67.0,68.0,69.0,70.0,71.0,72.0,73.0,74.0],\"y\":[0.0,0.0,0.0,0.0,0.0,0.0,0.0,0.0,1.0,0.0,0.0,0.0,0.0,1.0,2.0,0.0,5.0,1.0,1.0,3.0,1.0,1.0,2.0,2.0,2.0,0.0,3.0,3.0,4.0,3.0,2.0,6.0,5.0,4.0,18.0,57.0,153.0,208.0,217.0,219.0,219.0,219.0,219.0,219.0,219.0,219.0,219.0,219.0,219.0,219.0,219.0,219.0,219.0,219.0,219.0,219.0,219.0,219.0,219.0,219.0,219.0,219.0,219.0,219.0,219.0,219.0,219.0,219.0,219.0,219.0,219.0,219.0,219.0,219.0,219.0],\"type\":\"bar\",\"xaxis\":\"x3\",\"yaxis\":\"y3\"},{\"mode\":\"lines\",\"name\":\"NonPr\",\"x\":[0.0,1.0,2.0,3.0,4.0,5.0,6.0,7.0,8.0,9.0,10.0,11.0,12.0,13.0,14.0,15.0,16.0,17.0,18.0,19.0,20.0,21.0,22.0,23.0,24.0,25.0,26.0,27.0,28.0,29.0,30.0,31.0,32.0,33.0,34.0,35.0,36.0,37.0,38.0,39.0,40.0,41.0,42.0,43.0,44.0,45.0,46.0,47.0,48.0,49.0,50.0,51.0,52.0,53.0,54.0,55.0,56.0,57.0,58.0,59.0,60.0,61.0,62.0,63.0,64.0,65.0,66.0,67.0,68.0,69.0,70.0,71.0,72.0,73.0,74.0],\"y\":[298.0,298.0,298.0,298.0,294.0,294.0,290.0,290.0,284.0,282.0,276.0,276.0,262.0,260.0,242.0,238.0,226.0,222.0,216.0,212.0,206.0,198.0,188.0,180.0,170.0,162.0,148.0,128.0,118.0,102.0,90.0,66.0,48.0,30.0,6.0,0.0,0.0,0.0,0.0,0.0,0.0,0.0,0.0,0.0,0.0,0.0,0.0,0.0,0.0,0.0,0.0,0.0,0.0,0.0,0.0,0.0,0.0,0.0,0.0,0.0,0.0,0.0,0.0,0.0,0.0,0.0,0.0,0.0,0.0,0.0,0.0,0.0,0.0,0.0,0.0],\"type\":\"scatter\",\"xaxis\":\"x2\",\"yaxis\":\"y2\"},{\"mode\":\"lines\",\"name\":\"Printable\",\"x\":[0.0,1.0,2.0,3.0,4.0,5.0,6.0,7.0,8.0,9.0,10.0,11.0,12.0,13.0,14.0,15.0,16.0,17.0,18.0,19.0,20.0,21.0,22.0,23.0,24.0,25.0,26.0,27.0,28.0,29.0,30.0,31.0,32.0,33.0,34.0,35.0,36.0,37.0,38.0,39.0,40.0,41.0,42.0,43.0,44.0,45.0,46.0,47.0,48.0,49.0,50.0,51.0,52.0,53.0,54.0,55.0,56.0,57.0,58.0,59.0,60.0,61.0,62.0,63.0,64.0,65.0,66.0,67.0,68.0,69.0,70.0,71.0,72.0,73.0,74.0],\"y\":[97.0,97.0,98.0,98.0,91.0,91.0,84.0,84.0,75.0,73.0,65.0,68.0,45.0,45.0,16.0,14.0,0.0,2.0,2.0,7.0,10.0,8.0,4.0,7.0,9.0,17.0,13.0,0.0,10.0,8.0,16.0,2.0,3.0,9.0,3.0,36.0,49.0,49.0,49.0,49.0,49.0,49.0,49.0,49.0,49.0,49.0,49.0,49.0,49.0,49.0,49.0,49.0,49.0,49.0,49.0,49.0,49.0,49.0,49.0,49.0,49.0,49.0,49.0,49.0,49.0,49.0,49.0,49.0,49.0,49.0,49.0,49.0,49.0,49.0,49.0],\"type\":\"scatter\",\"xaxis\":\"x2\",\"yaxis\":\"y2\"},{\"mode\":\"lines\",\"name\":\"Materials\",\"x\":[0.0,1.0,2.0,3.0,4.0,5.0,6.0,7.0,8.0,9.0,10.0,11.0,12.0,13.0,14.0,15.0,16.0,17.0,18.0,19.0,20.0,21.0,22.0,23.0,24.0,25.0,26.0,27.0,28.0,29.0,30.0,31.0,32.0,33.0,34.0,35.0,36.0,37.0,38.0,39.0,40.0,41.0,42.0,43.0,44.0,45.0,46.0,47.0,48.0,49.0,50.0,51.0,52.0,53.0,54.0,55.0,56.0,57.0,58.0,59.0,60.0,61.0,62.0,63.0,64.0,65.0,66.0,67.0,68.0,69.0,70.0,71.0,72.0,73.0,74.0],\"y\":[49.0,49.0,48.0,48.0,47.0,47.0,46.0,46.0,43.0,41.0,37.0,34.0,29.0,25.0,18.0,12.0,6.0,6.0,11.0,22.0,32.0,42.0,48.0,55.0,61.0,67.0,69.0,65.0,65.0,69.0,73.0,73.0,73.0,76.0,59.0,14.0,1.0,1.0,1.0,1.0,1.0,1.0,1.0,1.0,1.0,1.0,1.0,1.0,1.0,1.0,1.0,1.0,1.0,1.0,1.0,1.0,1.0,1.0,1.0,1.0,1.0,1.0,1.0,1.0,1.0,1.0,1.0,1.0,1.0,1.0,1.0,1.0,1.0,1.0,1.0],\"type\":\"scatter\",\"xaxis\":\"x2\",\"yaxis\":\"y2\"},{\"mode\":\"lines\",\"name\":\"Env_Materials\",\"x\":[0.0,1.0,2.0,3.0,4.0,5.0,6.0,7.0,8.0,9.0,10.0,11.0,12.0,13.0,14.0,15.0,16.0,17.0,18.0,19.0,20.0,21.0,22.0,23.0,24.0,25.0,26.0,27.0,28.0,29.0,30.0,31.0,32.0,33.0,34.0,35.0,36.0,37.0,38.0,39.0,40.0,41.0,42.0,43.0,44.0,45.0,46.0,47.0,48.0,49.0,50.0,51.0,52.0,53.0,54.0,55.0,56.0,57.0,58.0,59.0,60.0,61.0,62.0,63.0,64.0,65.0,66.0,67.0,68.0,69.0,70.0,71.0,72.0,73.0,74.0],\"y\":[500.0,500.0,500.0,500.0,500.0,500.0,500.0,500.0,500.0,500.0,500.0,500.0,500.0,500.0,500.0,500.0,496.0,486.0,469.0,445.0,420.0,396.0,374.0,348.0,320.0,290.0,264.0,241.0,211.0,177.0,141.0,107.0,70.0,25.0,0.0,0.0,0.0,0.0,0.0,0.0,0.0,0.0,0.0,0.0,0.0,0.0,0.0,0.0,0.0,0.0,0.0,0.0,0.0,0.0,0.0,0.0,0.0,0.0,0.0,0.0,0.0,0.0,0.0,0.0,0.0,0.0,0.0,0.0,0.0,0.0,0.0,0.0,0.0,0.0,0.0],\"type\":\"scatter\",\"xaxis\":\"x2\",\"yaxis\":\"y2\"},{\"mode\":\"lines\",\"name\":\"Avg. Quality #in\",\"x\":[0.0,1.0,2.0,3.0,4.0,5.0,6.0,7.0,8.0,9.0,10.0,11.0,12.0,13.0,14.0,15.0,16.0,17.0,18.0,19.0,20.0,21.0,22.0,23.0,24.0,25.0,26.0,27.0,28.0,29.0,30.0,31.0,32.0,33.0,34.0,35.0,36.0,37.0,38.0,39.0,40.0,41.0,42.0,43.0,44.0,45.0,46.0,47.0,48.0,49.0,50.0,51.0,52.0,53.0,54.0,55.0,56.0,57.0,58.0,59.0,60.0,61.0,62.0,63.0,64.0,65.0,66.0,67.0,68.0,69.0,70.0,71.0,72.0,73.0,74.0],\"y\":[0.869,0.869,0.869,0.869,0.795,0.795,0.717,0.717,0.627,0.627,0.628,0.628,0.613,0.588,0.554,0.554,0.524,0.513,0.526,0.501,0.504,0.505,0.494,0.493,0.5,0.509,0.496,0.484,0.477,0.469,0.468,0.453,0.441,0.445,0.437,0.429,0.414,0.402,0.402,0.4,0.4,0.4,0.4,0.4,0.4,0.4,0.4,0.4,0.4,0.4,0.4,0.4,0.4,0.4,0.4,0.4,0.4,0.4,0.4,0.4,0.4,0.4,0.4,0.4,0.4,0.4,0.4,0.4,0.4,0.4,0.4,0.4,0.4,0.4,0.4],\"type\":\"scatter\",\"xaxis\":\"x4\",\"yaxis\":\"y4\"},{\"mode\":\"lines\",\"name\":\"Avg. Quality #total\",\"x\":[0.0,1.0,2.0,3.0,4.0,5.0,6.0,7.0,8.0,9.0,10.0,11.0,12.0,13.0,14.0,15.0,16.0,17.0,18.0,19.0,20.0,21.0,22.0,23.0,24.0,25.0,26.0,27.0,28.0,29.0,30.0,31.0,32.0,33.0,34.0,35.0,36.0,37.0,38.0,39.0,40.0,41.0,42.0,43.0,44.0,45.0,46.0,47.0,48.0,49.0,50.0,51.0,52.0,53.0,54.0,55.0,56.0,57.0,58.0,59.0,60.0,61.0,62.0,63.0,64.0,65.0,66.0,67.0,68.0,69.0,70.0,71.0,72.0,73.0,74.0],\"y\":[0.869,0.869,0.869,0.869,0.795,0.795,0.717,0.717,0.665,0.665,0.656,0.656,0.632,0.616,0.597,0.597,0.601,0.593,0.591,0.578,0.581,0.582,0.574,0.573,0.583,0.586,0.581,0.571,0.569,0.566,0.563,0.551,0.546,0.545,0.541,0.532,0.521,0.511,0.511,0.511,0.511,0.511,0.511,0.511,0.511,0.511,0.511,0.511,0.511,0.511,0.511,0.511,0.511,0.511,0.511,0.511,0.511,0.511,0.511,0.511,0.511,0.511,0.511,0.511,0.511,0.511,0.511,0.511,0.511,0.511,0.511,0.511,0.511,0.511,0.511],\"type\":\"scatter\",\"xaxis\":\"x4\",\"yaxis\":\"y4\"}],                        {\"template\":{\"data\":{\"histogram2dcontour\":[{\"type\":\"histogram2dcontour\",\"colorbar\":{\"outlinewidth\":0,\"ticks\":\"\"},\"colorscale\":[[0.0,\"#0d0887\"],[0.1111111111111111,\"#46039f\"],[0.2222222222222222,\"#7201a8\"],[0.3333333333333333,\"#9c179e\"],[0.4444444444444444,\"#bd3786\"],[0.5555555555555556,\"#d8576b\"],[0.6666666666666666,\"#ed7953\"],[0.7777777777777778,\"#fb9f3a\"],[0.8888888888888888,\"#fdca26\"],[1.0,\"#f0f921\"]]}],\"choropleth\":[{\"type\":\"choropleth\",\"colorbar\":{\"outlinewidth\":0,\"ticks\":\"\"}}],\"histogram2d\":[{\"type\":\"histogram2d\",\"colorbar\":{\"outlinewidth\":0,\"ticks\":\"\"},\"colorscale\":[[0.0,\"#0d0887\"],[0.1111111111111111,\"#46039f\"],[0.2222222222222222,\"#7201a8\"],[0.3333333333333333,\"#9c179e\"],[0.4444444444444444,\"#bd3786\"],[0.5555555555555556,\"#d8576b\"],[0.6666666666666666,\"#ed7953\"],[0.7777777777777778,\"#fb9f3a\"],[0.8888888888888888,\"#fdca26\"],[1.0,\"#f0f921\"]]}],\"heatmap\":[{\"type\":\"heatmap\",\"colorbar\":{\"outlinewidth\":0,\"ticks\":\"\"},\"colorscale\":[[0.0,\"#0d0887\"],[0.1111111111111111,\"#46039f\"],[0.2222222222222222,\"#7201a8\"],[0.3333333333333333,\"#9c179e\"],[0.4444444444444444,\"#bd3786\"],[0.5555555555555556,\"#d8576b\"],[0.6666666666666666,\"#ed7953\"],[0.7777777777777778,\"#fb9f3a\"],[0.8888888888888888,\"#fdca26\"],[1.0,\"#f0f921\"]]}],\"heatmapgl\":[{\"type\":\"heatmapgl\",\"colorbar\":{\"outlinewidth\":0,\"ticks\":\"\"},\"colorscale\":[[0.0,\"#0d0887\"],[0.1111111111111111,\"#46039f\"],[0.2222222222222222,\"#7201a8\"],[0.3333333333333333,\"#9c179e\"],[0.4444444444444444,\"#bd3786\"],[0.5555555555555556,\"#d8576b\"],[0.6666666666666666,\"#ed7953\"],[0.7777777777777778,\"#fb9f3a\"],[0.8888888888888888,\"#fdca26\"],[1.0,\"#f0f921\"]]}],\"contourcarpet\":[{\"type\":\"contourcarpet\",\"colorbar\":{\"outlinewidth\":0,\"ticks\":\"\"}}],\"contour\":[{\"type\":\"contour\",\"colorbar\":{\"outlinewidth\":0,\"ticks\":\"\"},\"colorscale\":[[0.0,\"#0d0887\"],[0.1111111111111111,\"#46039f\"],[0.2222222222222222,\"#7201a8\"],[0.3333333333333333,\"#9c179e\"],[0.4444444444444444,\"#bd3786\"],[0.5555555555555556,\"#d8576b\"],[0.6666666666666666,\"#ed7953\"],[0.7777777777777778,\"#fb9f3a\"],[0.8888888888888888,\"#fdca26\"],[1.0,\"#f0f921\"]]}],\"surface\":[{\"type\":\"surface\",\"colorbar\":{\"outlinewidth\":0,\"ticks\":\"\"},\"colorscale\":[[0.0,\"#0d0887\"],[0.1111111111111111,\"#46039f\"],[0.2222222222222222,\"#7201a8\"],[0.3333333333333333,\"#9c179e\"],[0.4444444444444444,\"#bd3786\"],[0.5555555555555556,\"#d8576b\"],[0.6666666666666666,\"#ed7953\"],[0.7777777777777778,\"#fb9f3a\"],[0.8888888888888888,\"#fdca26\"],[1.0,\"#f0f921\"]]}],\"mesh3d\":[{\"type\":\"mesh3d\",\"colorbar\":{\"outlinewidth\":0,\"ticks\":\"\"}}],\"scatter\":[{\"fillpattern\":{\"fillmode\":\"overlay\",\"size\":10,\"solidity\":0.2},\"type\":\"scatter\"}],\"parcoords\":[{\"type\":\"parcoords\",\"line\":{\"colorbar\":{\"outlinewidth\":0,\"ticks\":\"\"}}}],\"scatterpolargl\":[{\"type\":\"scatterpolargl\",\"marker\":{\"colorbar\":{\"outlinewidth\":0,\"ticks\":\"\"}}}],\"bar\":[{\"error_x\":{\"color\":\"#2a3f5f\"},\"error_y\":{\"color\":\"#2a3f5f\"},\"marker\":{\"line\":{\"color\":\"#E5ECF6\",\"width\":0.5},\"pattern\":{\"fillmode\":\"overlay\",\"size\":10,\"solidity\":0.2}},\"type\":\"bar\"}],\"scattergeo\":[{\"type\":\"scattergeo\",\"marker\":{\"colorbar\":{\"outlinewidth\":0,\"ticks\":\"\"}}}],\"scatterpolar\":[{\"type\":\"scatterpolar\",\"marker\":{\"colorbar\":{\"outlinewidth\":0,\"ticks\":\"\"}}}],\"histogram\":[{\"marker\":{\"pattern\":{\"fillmode\":\"overlay\",\"size\":10,\"solidity\":0.2}},\"type\":\"histogram\"}],\"scattergl\":[{\"type\":\"scattergl\",\"marker\":{\"colorbar\":{\"outlinewidth\":0,\"ticks\":\"\"}}}],\"scatter3d\":[{\"type\":\"scatter3d\",\"line\":{\"colorbar\":{\"outlinewidth\":0,\"ticks\":\"\"}},\"marker\":{\"colorbar\":{\"outlinewidth\":0,\"ticks\":\"\"}}}],\"scattermapbox\":[{\"type\":\"scattermapbox\",\"marker\":{\"colorbar\":{\"outlinewidth\":0,\"ticks\":\"\"}}}],\"scatterternary\":[{\"type\":\"scatterternary\",\"marker\":{\"colorbar\":{\"outlinewidth\":0,\"ticks\":\"\"}}}],\"scattercarpet\":[{\"type\":\"scattercarpet\",\"marker\":{\"colorbar\":{\"outlinewidth\":0,\"ticks\":\"\"}}}],\"carpet\":[{\"aaxis\":{\"endlinecolor\":\"#2a3f5f\",\"gridcolor\":\"white\",\"linecolor\":\"white\",\"minorgridcolor\":\"white\",\"startlinecolor\":\"#2a3f5f\"},\"baxis\":{\"endlinecolor\":\"#2a3f5f\",\"gridcolor\":\"white\",\"linecolor\":\"white\",\"minorgridcolor\":\"white\",\"startlinecolor\":\"#2a3f5f\"},\"type\":\"carpet\"}],\"table\":[{\"cells\":{\"fill\":{\"color\":\"#EBF0F8\"},\"line\":{\"color\":\"white\"}},\"header\":{\"fill\":{\"color\":\"#C8D4E3\"},\"line\":{\"color\":\"white\"}},\"type\":\"table\"}],\"barpolar\":[{\"marker\":{\"line\":{\"color\":\"#E5ECF6\",\"width\":0.5},\"pattern\":{\"fillmode\":\"overlay\",\"size\":10,\"solidity\":0.2}},\"type\":\"barpolar\"}],\"pie\":[{\"automargin\":true,\"type\":\"pie\"}]},\"layout\":{\"autotypenumbers\":\"strict\",\"colorway\":[\"#636efa\",\"#EF553B\",\"#00cc96\",\"#ab63fa\",\"#FFA15A\",\"#19d3f3\",\"#FF6692\",\"#B6E880\",\"#FF97FF\",\"#FECB52\"],\"font\":{\"color\":\"#2a3f5f\"},\"hovermode\":\"closest\",\"hoverlabel\":{\"align\":\"left\"},\"paper_bgcolor\":\"white\",\"plot_bgcolor\":\"#E5ECF6\",\"polar\":{\"bgcolor\":\"#E5ECF6\",\"angularaxis\":{\"gridcolor\":\"white\",\"linecolor\":\"white\",\"ticks\":\"\"},\"radialaxis\":{\"gridcolor\":\"white\",\"linecolor\":\"white\",\"ticks\":\"\"}},\"ternary\":{\"bgcolor\":\"#E5ECF6\",\"aaxis\":{\"gridcolor\":\"white\",\"linecolor\":\"white\",\"ticks\":\"\"},\"baxis\":{\"gridcolor\":\"white\",\"linecolor\":\"white\",\"ticks\":\"\"},\"caxis\":{\"gridcolor\":\"white\",\"linecolor\":\"white\",\"ticks\":\"\"}},\"coloraxis\":{\"colorbar\":{\"outlinewidth\":0,\"ticks\":\"\"}},\"colorscale\":{\"sequential\":[[0.0,\"#0d0887\"],[0.1111111111111111,\"#46039f\"],[0.2222222222222222,\"#7201a8\"],[0.3333333333333333,\"#9c179e\"],[0.4444444444444444,\"#bd3786\"],[0.5555555555555556,\"#d8576b\"],[0.6666666666666666,\"#ed7953\"],[0.7777777777777778,\"#fb9f3a\"],[0.8888888888888888,\"#fdca26\"],[1.0,\"#f0f921\"]],\"sequentialminus\":[[0.0,\"#0d0887\"],[0.1111111111111111,\"#46039f\"],[0.2222222222222222,\"#7201a8\"],[0.3333333333333333,\"#9c179e\"],[0.4444444444444444,\"#bd3786\"],[0.5555555555555556,\"#d8576b\"],[0.6666666666666666,\"#ed7953\"],[0.7777777777777778,\"#fb9f3a\"],[0.8888888888888888,\"#fdca26\"],[1.0,\"#f0f921\"]],\"diverging\":[[0,\"#8e0152\"],[0.1,\"#c51b7d\"],[0.2,\"#de77ae\"],[0.3,\"#f1b6da\"],[0.4,\"#fde0ef\"],[0.5,\"#f7f7f7\"],[0.6,\"#e6f5d0\"],[0.7,\"#b8e186\"],[0.8,\"#7fbc41\"],[0.9,\"#4d9221\"],[1,\"#276419\"]]},\"xaxis\":{\"gridcolor\":\"white\",\"linecolor\":\"white\",\"ticks\":\"\",\"title\":{\"standoff\":15},\"zerolinecolor\":\"white\",\"automargin\":true,\"zerolinewidth\":2},\"yaxis\":{\"gridcolor\":\"white\",\"linecolor\":\"white\",\"ticks\":\"\",\"title\":{\"standoff\":15},\"zerolinecolor\":\"white\",\"automargin\":true,\"zerolinewidth\":2},\"scene\":{\"xaxis\":{\"backgroundcolor\":\"#E5ECF6\",\"gridcolor\":\"white\",\"linecolor\":\"white\",\"showbackground\":true,\"ticks\":\"\",\"zerolinecolor\":\"white\",\"gridwidth\":2},\"yaxis\":{\"backgroundcolor\":\"#E5ECF6\",\"gridcolor\":\"white\",\"linecolor\":\"white\",\"showbackground\":true,\"ticks\":\"\",\"zerolinecolor\":\"white\",\"gridwidth\":2},\"zaxis\":{\"backgroundcolor\":\"#E5ECF6\",\"gridcolor\":\"white\",\"linecolor\":\"white\",\"showbackground\":true,\"ticks\":\"\",\"zerolinecolor\":\"white\",\"gridwidth\":2}},\"shapedefaults\":{\"line\":{\"color\":\"#2a3f5f\"}},\"annotationdefaults\":{\"arrowcolor\":\"#2a3f5f\",\"arrowhead\":0,\"arrowwidth\":1},\"geo\":{\"bgcolor\":\"white\",\"landcolor\":\"#E5ECF6\",\"subunitcolor\":\"white\",\"showland\":true,\"showlakes\":true,\"lakecolor\":\"white\"},\"title\":{\"x\":0.05},\"mapbox\":{\"style\":\"light\"}}},\"xaxis\":{\"anchor\":\"y\",\"domain\":[0.0,0.45]},\"yaxis\":{\"anchor\":\"x\",\"domain\":[0.625,1.0]},\"xaxis2\":{\"anchor\":\"y2\",\"domain\":[0.55,1.0]},\"yaxis2\":{\"anchor\":\"x2\",\"domain\":[0.625,1.0]},\"xaxis3\":{\"anchor\":\"y3\",\"domain\":[0.0,0.45]},\"yaxis3\":{\"anchor\":\"x3\",\"domain\":[0.0,0.375]},\"xaxis4\":{\"anchor\":\"y4\",\"domain\":[0.55,1.0]},\"yaxis4\":{\"anchor\":\"x4\",\"domain\":[0.0,0.375]},\"annotations\":[{\"font\":{\"size\":16},\"showarrow\":false,\"text\":\"Types of Robots vs Time\",\"x\":0.225,\"xanchor\":\"center\",\"xref\":\"paper\",\"y\":1.0,\"yanchor\":\"bottom\",\"yref\":\"paper\"},{\"font\":{\"size\":16},\"showarrow\":false,\"text\":\"Resources vs Time\",\"x\":0.775,\"xanchor\":\"center\",\"xref\":\"paper\",\"y\":1.0,\"yanchor\":\"bottom\",\"yref\":\"paper\"},{\"font\":{\"size\":16},\"showarrow\":false,\"text\":\"Tasks of Robots vs Time\",\"x\":0.225,\"xanchor\":\"center\",\"xref\":\"paper\",\"y\":0.375,\"yanchor\":\"bottom\",\"yref\":\"paper\"},{\"font\":{\"size\":16},\"showarrow\":false,\"text\":\"Build Quality vs Time\",\"x\":0.775,\"xanchor\":\"center\",\"xref\":\"paper\",\"y\":0.375,\"yanchor\":\"bottom\",\"yref\":\"paper\"}],\"hovermode\":\"x\",\"title\":{\"text\":\"DHE - Characteristics\"}},                        {\"responsive\": true}                    ).then(function(){\n",
       "                            \n",
       "var gd = document.getElementById('447f22cf-7d80-4d91-bc5d-c499ac9e1530');\n",
       "var x = new MutationObserver(function (mutations, observer) {{\n",
       "        var display = window.getComputedStyle(gd).display;\n",
       "        if (!display || display === 'none') {{\n",
       "            console.log([gd, 'removed!']);\n",
       "            Plotly.purge(gd);\n",
       "            observer.disconnect();\n",
       "        }}\n",
       "}});\n",
       "\n",
       "// Listen for the removal of the full notebook cells\n",
       "var notebookContainer = gd.closest('#notebook-container');\n",
       "if (notebookContainer) {{\n",
       "    x.observe(notebookContainer, {childList: true});\n",
       "}}\n",
       "\n",
       "// Listen for the clearing of the current output cell\n",
       "var outputEl = gd.closest('.output');\n",
       "if (outputEl) {{\n",
       "    x.observe(outputEl, {childList: true});\n",
       "}}\n",
       "\n",
       "                        })                };                });            </script>        </div>"
      ]
     },
     "metadata": {},
     "output_type": "display_data"
    },
    {
     "data": {
      "application/vnd.plotly.v1+json": {
       "config": {
        "plotlyServerURL": "https://plotly.com"
       },
       "data": [
        {
         "alignmentgroup": "True",
         "hovertemplate": "variable=#In<br>Time=%{x}<br>value=%{y}<extra></extra>",
         "legendgroup": "#In",
         "marker": {
          "color": "#636efa",
          "pattern": {
           "shape": ""
          }
         },
         "name": "#In",
         "offsetgroup": "#In",
         "orientation": "v",
         "showlegend": true,
         "textposition": "auto",
         "type": "bar",
         "x": [
          0,
          1,
          2,
          3,
          4,
          5,
          6,
          7,
          8,
          9,
          10,
          11,
          12,
          13,
          14,
          15,
          16,
          17,
          18,
          19,
          20,
          21,
          22,
          23,
          24,
          25,
          26,
          27,
          28,
          29,
          30,
          31,
          32,
          33,
          34,
          35,
          36,
          37,
          38,
          39,
          40,
          41,
          42,
          43,
          44,
          45,
          46,
          47,
          48,
          49,
          50,
          51,
          52,
          53,
          54,
          55,
          56,
          57,
          58,
          59,
          60,
          61,
          62,
          63,
          64,
          65,
          66,
          67,
          68,
          69,
          70,
          71,
          72,
          73,
          74
         ],
         "xaxis": "x",
         "y": [
          2,
          2,
          4,
          4,
          4,
          4,
          6,
          8,
          8,
          10,
          13,
          15,
          21,
          22,
          25,
          29,
          33,
          42,
          47,
          53,
          63,
          67,
          74,
          76,
          84,
          85,
          92,
          96,
          97,
          106,
          111,
          124,
          128,
          139,
          152,
          161,
          167,
          188,
          200,
          206,
          215,
          231,
          250,
          258,
          262,
          266,
          266,
          266,
          266,
          266,
          266,
          266,
          266,
          266,
          266,
          266,
          266,
          266,
          266,
          266,
          266,
          266,
          266,
          266,
          266,
          266,
          266,
          266,
          266,
          266,
          266,
          266,
          266,
          266,
          266
         ],
         "yaxis": "y"
        },
        {
         "alignmentgroup": "True",
         "hovertemplate": "variable=#Out<br>Time=%{x}<br>value=%{y}<extra></extra>",
         "legendgroup": "#Out",
         "marker": {
          "color": "#EF553B",
          "pattern": {
           "shape": ""
          }
         },
         "name": "#Out",
         "offsetgroup": "#Out",
         "orientation": "v",
         "showlegend": true,
         "textposition": "auto",
         "type": "bar",
         "x": [
          0,
          1,
          2,
          3,
          4,
          5,
          6,
          7,
          8,
          9,
          10,
          11,
          12,
          13,
          14,
          15,
          16,
          17,
          18,
          19,
          20,
          21,
          22,
          23,
          24,
          25,
          26,
          27,
          28,
          29,
          30,
          31,
          32,
          33,
          34,
          35,
          36,
          37,
          38,
          39,
          40,
          41,
          42,
          43,
          44,
          45,
          46,
          47,
          48,
          49,
          50,
          51,
          52,
          53,
          54,
          55,
          56,
          57,
          58,
          59,
          60,
          61,
          62,
          63,
          64,
          65,
          66,
          67,
          68,
          69,
          70,
          71,
          72,
          73,
          74
         ],
         "xaxis": "x",
         "y": [
          0,
          0,
          0,
          0,
          0,
          0,
          0,
          0,
          0,
          0,
          1,
          1,
          1,
          2,
          3,
          5,
          5,
          6,
          9,
          11,
          17,
          17,
          20,
          22,
          24,
          25,
          26,
          30,
          31,
          34,
          37,
          40,
          42,
          45,
          50,
          53,
          55,
          62,
          74,
          78,
          83,
          91,
          98,
          102,
          106,
          110,
          110,
          110,
          110,
          110,
          110,
          110,
          110,
          110,
          110,
          110,
          110,
          110,
          110,
          110,
          110,
          110,
          110,
          110,
          110,
          110,
          110,
          110,
          110,
          110,
          110,
          110,
          110,
          110,
          110
         ],
         "yaxis": "y"
        }
       ],
       "layout": {
        "barmode": "relative",
        "hovermode": "x",
        "legend": {
         "title": {
          "text": "variable"
         },
         "tracegroupgap": 0
        },
        "template": {
         "data": {
          "bar": [
           {
            "error_x": {
             "color": "#2a3f5f"
            },
            "error_y": {
             "color": "#2a3f5f"
            },
            "marker": {
             "line": {
              "color": "#E5ECF6",
              "width": 0.5
             },
             "pattern": {
              "fillmode": "overlay",
              "size": 10,
              "solidity": 0.2
             }
            },
            "type": "bar"
           }
          ],
          "barpolar": [
           {
            "marker": {
             "line": {
              "color": "#E5ECF6",
              "width": 0.5
             },
             "pattern": {
              "fillmode": "overlay",
              "size": 10,
              "solidity": 0.2
             }
            },
            "type": "barpolar"
           }
          ],
          "carpet": [
           {
            "aaxis": {
             "endlinecolor": "#2a3f5f",
             "gridcolor": "white",
             "linecolor": "white",
             "minorgridcolor": "white",
             "startlinecolor": "#2a3f5f"
            },
            "baxis": {
             "endlinecolor": "#2a3f5f",
             "gridcolor": "white",
             "linecolor": "white",
             "minorgridcolor": "white",
             "startlinecolor": "#2a3f5f"
            },
            "type": "carpet"
           }
          ],
          "choropleth": [
           {
            "colorbar": {
             "outlinewidth": 0,
             "ticks": ""
            },
            "type": "choropleth"
           }
          ],
          "contour": [
           {
            "colorbar": {
             "outlinewidth": 0,
             "ticks": ""
            },
            "colorscale": [
             [
              0,
              "#0d0887"
             ],
             [
              0.1111111111111111,
              "#46039f"
             ],
             [
              0.2222222222222222,
              "#7201a8"
             ],
             [
              0.3333333333333333,
              "#9c179e"
             ],
             [
              0.4444444444444444,
              "#bd3786"
             ],
             [
              0.5555555555555556,
              "#d8576b"
             ],
             [
              0.6666666666666666,
              "#ed7953"
             ],
             [
              0.7777777777777778,
              "#fb9f3a"
             ],
             [
              0.8888888888888888,
              "#fdca26"
             ],
             [
              1,
              "#f0f921"
             ]
            ],
            "type": "contour"
           }
          ],
          "contourcarpet": [
           {
            "colorbar": {
             "outlinewidth": 0,
             "ticks": ""
            },
            "type": "contourcarpet"
           }
          ],
          "heatmap": [
           {
            "colorbar": {
             "outlinewidth": 0,
             "ticks": ""
            },
            "colorscale": [
             [
              0,
              "#0d0887"
             ],
             [
              0.1111111111111111,
              "#46039f"
             ],
             [
              0.2222222222222222,
              "#7201a8"
             ],
             [
              0.3333333333333333,
              "#9c179e"
             ],
             [
              0.4444444444444444,
              "#bd3786"
             ],
             [
              0.5555555555555556,
              "#d8576b"
             ],
             [
              0.6666666666666666,
              "#ed7953"
             ],
             [
              0.7777777777777778,
              "#fb9f3a"
             ],
             [
              0.8888888888888888,
              "#fdca26"
             ],
             [
              1,
              "#f0f921"
             ]
            ],
            "type": "heatmap"
           }
          ],
          "heatmapgl": [
           {
            "colorbar": {
             "outlinewidth": 0,
             "ticks": ""
            },
            "colorscale": [
             [
              0,
              "#0d0887"
             ],
             [
              0.1111111111111111,
              "#46039f"
             ],
             [
              0.2222222222222222,
              "#7201a8"
             ],
             [
              0.3333333333333333,
              "#9c179e"
             ],
             [
              0.4444444444444444,
              "#bd3786"
             ],
             [
              0.5555555555555556,
              "#d8576b"
             ],
             [
              0.6666666666666666,
              "#ed7953"
             ],
             [
              0.7777777777777778,
              "#fb9f3a"
             ],
             [
              0.8888888888888888,
              "#fdca26"
             ],
             [
              1,
              "#f0f921"
             ]
            ],
            "type": "heatmapgl"
           }
          ],
          "histogram": [
           {
            "marker": {
             "pattern": {
              "fillmode": "overlay",
              "size": 10,
              "solidity": 0.2
             }
            },
            "type": "histogram"
           }
          ],
          "histogram2d": [
           {
            "colorbar": {
             "outlinewidth": 0,
             "ticks": ""
            },
            "colorscale": [
             [
              0,
              "#0d0887"
             ],
             [
              0.1111111111111111,
              "#46039f"
             ],
             [
              0.2222222222222222,
              "#7201a8"
             ],
             [
              0.3333333333333333,
              "#9c179e"
             ],
             [
              0.4444444444444444,
              "#bd3786"
             ],
             [
              0.5555555555555556,
              "#d8576b"
             ],
             [
              0.6666666666666666,
              "#ed7953"
             ],
             [
              0.7777777777777778,
              "#fb9f3a"
             ],
             [
              0.8888888888888888,
              "#fdca26"
             ],
             [
              1,
              "#f0f921"
             ]
            ],
            "type": "histogram2d"
           }
          ],
          "histogram2dcontour": [
           {
            "colorbar": {
             "outlinewidth": 0,
             "ticks": ""
            },
            "colorscale": [
             [
              0,
              "#0d0887"
             ],
             [
              0.1111111111111111,
              "#46039f"
             ],
             [
              0.2222222222222222,
              "#7201a8"
             ],
             [
              0.3333333333333333,
              "#9c179e"
             ],
             [
              0.4444444444444444,
              "#bd3786"
             ],
             [
              0.5555555555555556,
              "#d8576b"
             ],
             [
              0.6666666666666666,
              "#ed7953"
             ],
             [
              0.7777777777777778,
              "#fb9f3a"
             ],
             [
              0.8888888888888888,
              "#fdca26"
             ],
             [
              1,
              "#f0f921"
             ]
            ],
            "type": "histogram2dcontour"
           }
          ],
          "mesh3d": [
           {
            "colorbar": {
             "outlinewidth": 0,
             "ticks": ""
            },
            "type": "mesh3d"
           }
          ],
          "parcoords": [
           {
            "line": {
             "colorbar": {
              "outlinewidth": 0,
              "ticks": ""
             }
            },
            "type": "parcoords"
           }
          ],
          "pie": [
           {
            "automargin": true,
            "type": "pie"
           }
          ],
          "scatter": [
           {
            "fillpattern": {
             "fillmode": "overlay",
             "size": 10,
             "solidity": 0.2
            },
            "type": "scatter"
           }
          ],
          "scatter3d": [
           {
            "line": {
             "colorbar": {
              "outlinewidth": 0,
              "ticks": ""
             }
            },
            "marker": {
             "colorbar": {
              "outlinewidth": 0,
              "ticks": ""
             }
            },
            "type": "scatter3d"
           }
          ],
          "scattercarpet": [
           {
            "marker": {
             "colorbar": {
              "outlinewidth": 0,
              "ticks": ""
             }
            },
            "type": "scattercarpet"
           }
          ],
          "scattergeo": [
           {
            "marker": {
             "colorbar": {
              "outlinewidth": 0,
              "ticks": ""
             }
            },
            "type": "scattergeo"
           }
          ],
          "scattergl": [
           {
            "marker": {
             "colorbar": {
              "outlinewidth": 0,
              "ticks": ""
             }
            },
            "type": "scattergl"
           }
          ],
          "scattermapbox": [
           {
            "marker": {
             "colorbar": {
              "outlinewidth": 0,
              "ticks": ""
             }
            },
            "type": "scattermapbox"
           }
          ],
          "scatterpolar": [
           {
            "marker": {
             "colorbar": {
              "outlinewidth": 0,
              "ticks": ""
             }
            },
            "type": "scatterpolar"
           }
          ],
          "scatterpolargl": [
           {
            "marker": {
             "colorbar": {
              "outlinewidth": 0,
              "ticks": ""
             }
            },
            "type": "scatterpolargl"
           }
          ],
          "scatterternary": [
           {
            "marker": {
             "colorbar": {
              "outlinewidth": 0,
              "ticks": ""
             }
            },
            "type": "scatterternary"
           }
          ],
          "surface": [
           {
            "colorbar": {
             "outlinewidth": 0,
             "ticks": ""
            },
            "colorscale": [
             [
              0,
              "#0d0887"
             ],
             [
              0.1111111111111111,
              "#46039f"
             ],
             [
              0.2222222222222222,
              "#7201a8"
             ],
             [
              0.3333333333333333,
              "#9c179e"
             ],
             [
              0.4444444444444444,
              "#bd3786"
             ],
             [
              0.5555555555555556,
              "#d8576b"
             ],
             [
              0.6666666666666666,
              "#ed7953"
             ],
             [
              0.7777777777777778,
              "#fb9f3a"
             ],
             [
              0.8888888888888888,
              "#fdca26"
             ],
             [
              1,
              "#f0f921"
             ]
            ],
            "type": "surface"
           }
          ],
          "table": [
           {
            "cells": {
             "fill": {
              "color": "#EBF0F8"
             },
             "line": {
              "color": "white"
             }
            },
            "header": {
             "fill": {
              "color": "#C8D4E3"
             },
             "line": {
              "color": "white"
             }
            },
            "type": "table"
           }
          ]
         },
         "layout": {
          "annotationdefaults": {
           "arrowcolor": "#2a3f5f",
           "arrowhead": 0,
           "arrowwidth": 1
          },
          "autotypenumbers": "strict",
          "coloraxis": {
           "colorbar": {
            "outlinewidth": 0,
            "ticks": ""
           }
          },
          "colorscale": {
           "diverging": [
            [
             0,
             "#8e0152"
            ],
            [
             0.1,
             "#c51b7d"
            ],
            [
             0.2,
             "#de77ae"
            ],
            [
             0.3,
             "#f1b6da"
            ],
            [
             0.4,
             "#fde0ef"
            ],
            [
             0.5,
             "#f7f7f7"
            ],
            [
             0.6,
             "#e6f5d0"
            ],
            [
             0.7,
             "#b8e186"
            ],
            [
             0.8,
             "#7fbc41"
            ],
            [
             0.9,
             "#4d9221"
            ],
            [
             1,
             "#276419"
            ]
           ],
           "sequential": [
            [
             0,
             "#0d0887"
            ],
            [
             0.1111111111111111,
             "#46039f"
            ],
            [
             0.2222222222222222,
             "#7201a8"
            ],
            [
             0.3333333333333333,
             "#9c179e"
            ],
            [
             0.4444444444444444,
             "#bd3786"
            ],
            [
             0.5555555555555556,
             "#d8576b"
            ],
            [
             0.6666666666666666,
             "#ed7953"
            ],
            [
             0.7777777777777778,
             "#fb9f3a"
            ],
            [
             0.8888888888888888,
             "#fdca26"
            ],
            [
             1,
             "#f0f921"
            ]
           ],
           "sequentialminus": [
            [
             0,
             "#0d0887"
            ],
            [
             0.1111111111111111,
             "#46039f"
            ],
            [
             0.2222222222222222,
             "#7201a8"
            ],
            [
             0.3333333333333333,
             "#9c179e"
            ],
            [
             0.4444444444444444,
             "#bd3786"
            ],
            [
             0.5555555555555556,
             "#d8576b"
            ],
            [
             0.6666666666666666,
             "#ed7953"
            ],
            [
             0.7777777777777778,
             "#fb9f3a"
            ],
            [
             0.8888888888888888,
             "#fdca26"
            ],
            [
             1,
             "#f0f921"
            ]
           ]
          },
          "colorway": [
           "#636efa",
           "#EF553B",
           "#00cc96",
           "#ab63fa",
           "#FFA15A",
           "#19d3f3",
           "#FF6692",
           "#B6E880",
           "#FF97FF",
           "#FECB52"
          ],
          "font": {
           "color": "#2a3f5f"
          },
          "geo": {
           "bgcolor": "white",
           "lakecolor": "white",
           "landcolor": "#E5ECF6",
           "showlakes": true,
           "showland": true,
           "subunitcolor": "white"
          },
          "hoverlabel": {
           "align": "left"
          },
          "hovermode": "closest",
          "mapbox": {
           "style": "light"
          },
          "paper_bgcolor": "white",
          "plot_bgcolor": "#E5ECF6",
          "polar": {
           "angularaxis": {
            "gridcolor": "white",
            "linecolor": "white",
            "ticks": ""
           },
           "bgcolor": "#E5ECF6",
           "radialaxis": {
            "gridcolor": "white",
            "linecolor": "white",
            "ticks": ""
           }
          },
          "scene": {
           "xaxis": {
            "backgroundcolor": "#E5ECF6",
            "gridcolor": "white",
            "gridwidth": 2,
            "linecolor": "white",
            "showbackground": true,
            "ticks": "",
            "zerolinecolor": "white"
           },
           "yaxis": {
            "backgroundcolor": "#E5ECF6",
            "gridcolor": "white",
            "gridwidth": 2,
            "linecolor": "white",
            "showbackground": true,
            "ticks": "",
            "zerolinecolor": "white"
           },
           "zaxis": {
            "backgroundcolor": "#E5ECF6",
            "gridcolor": "white",
            "gridwidth": 2,
            "linecolor": "white",
            "showbackground": true,
            "ticks": "",
            "zerolinecolor": "white"
           }
          },
          "shapedefaults": {
           "line": {
            "color": "#2a3f5f"
           }
          },
          "ternary": {
           "aaxis": {
            "gridcolor": "white",
            "linecolor": "white",
            "ticks": ""
           },
           "baxis": {
            "gridcolor": "white",
            "linecolor": "white",
            "ticks": ""
           },
           "bgcolor": "#E5ECF6",
           "caxis": {
            "gridcolor": "white",
            "linecolor": "white",
            "ticks": ""
           }
          },
          "title": {
           "x": 0.05
          },
          "xaxis": {
           "automargin": true,
           "gridcolor": "white",
           "linecolor": "white",
           "ticks": "",
           "title": {
            "standoff": 15
           },
           "zerolinecolor": "white",
           "zerolinewidth": 2
          },
          "yaxis": {
           "automargin": true,
           "gridcolor": "white",
           "linecolor": "white",
           "ticks": "",
           "title": {
            "standoff": 15
           },
           "zerolinecolor": "white",
           "zerolinewidth": 2
          }
         }
        },
        "title": {
         "text": "HHE - Habitat over Time"
        },
        "xaxis": {
         "anchor": "y",
         "domain": [
          0,
          1
         ],
         "title": {
          "text": "Time"
         }
        },
        "yaxis": {
         "anchor": "x",
         "domain": [
          0,
          1
         ],
         "title": {
          "text": "#Robots"
         }
        }
       }
      },
      "text/html": [
       "<div>                            <div id=\"4d0136b6-1ac3-4267-9bf6-beccdd223a22\" class=\"plotly-graph-div\" style=\"height:525px; width:100%;\"></div>            <script type=\"text/javascript\">                require([\"plotly\"], function(Plotly) {                    window.PLOTLYENV=window.PLOTLYENV || {};                                    if (document.getElementById(\"4d0136b6-1ac3-4267-9bf6-beccdd223a22\")) {                    Plotly.newPlot(                        \"4d0136b6-1ac3-4267-9bf6-beccdd223a22\",                        [{\"alignmentgroup\":\"True\",\"hovertemplate\":\"variable=#In<br>Time=%{x}<br>value=%{y}<extra></extra>\",\"legendgroup\":\"#In\",\"marker\":{\"color\":\"#636efa\",\"pattern\":{\"shape\":\"\"}},\"name\":\"#In\",\"offsetgroup\":\"#In\",\"orientation\":\"v\",\"showlegend\":true,\"textposition\":\"auto\",\"x\":[0.0,1.0,2.0,3.0,4.0,5.0,6.0,7.0,8.0,9.0,10.0,11.0,12.0,13.0,14.0,15.0,16.0,17.0,18.0,19.0,20.0,21.0,22.0,23.0,24.0,25.0,26.0,27.0,28.0,29.0,30.0,31.0,32.0,33.0,34.0,35.0,36.0,37.0,38.0,39.0,40.0,41.0,42.0,43.0,44.0,45.0,46.0,47.0,48.0,49.0,50.0,51.0,52.0,53.0,54.0,55.0,56.0,57.0,58.0,59.0,60.0,61.0,62.0,63.0,64.0,65.0,66.0,67.0,68.0,69.0,70.0,71.0,72.0,73.0,74.0],\"xaxis\":\"x\",\"y\":[2.0,2.0,4.0,4.0,4.0,4.0,6.0,8.0,8.0,10.0,13.0,15.0,21.0,22.0,25.0,29.0,33.0,42.0,47.0,53.0,63.0,67.0,74.0,76.0,84.0,85.0,92.0,96.0,97.0,106.0,111.0,124.0,128.0,139.0,152.0,161.0,167.0,188.0,200.0,206.0,215.0,231.0,250.0,258.0,262.0,266.0,266.0,266.0,266.0,266.0,266.0,266.0,266.0,266.0,266.0,266.0,266.0,266.0,266.0,266.0,266.0,266.0,266.0,266.0,266.0,266.0,266.0,266.0,266.0,266.0,266.0,266.0,266.0,266.0,266.0],\"yaxis\":\"y\",\"type\":\"bar\"},{\"alignmentgroup\":\"True\",\"hovertemplate\":\"variable=#Out<br>Time=%{x}<br>value=%{y}<extra></extra>\",\"legendgroup\":\"#Out\",\"marker\":{\"color\":\"#EF553B\",\"pattern\":{\"shape\":\"\"}},\"name\":\"#Out\",\"offsetgroup\":\"#Out\",\"orientation\":\"v\",\"showlegend\":true,\"textposition\":\"auto\",\"x\":[0.0,1.0,2.0,3.0,4.0,5.0,6.0,7.0,8.0,9.0,10.0,11.0,12.0,13.0,14.0,15.0,16.0,17.0,18.0,19.0,20.0,21.0,22.0,23.0,24.0,25.0,26.0,27.0,28.0,29.0,30.0,31.0,32.0,33.0,34.0,35.0,36.0,37.0,38.0,39.0,40.0,41.0,42.0,43.0,44.0,45.0,46.0,47.0,48.0,49.0,50.0,51.0,52.0,53.0,54.0,55.0,56.0,57.0,58.0,59.0,60.0,61.0,62.0,63.0,64.0,65.0,66.0,67.0,68.0,69.0,70.0,71.0,72.0,73.0,74.0],\"xaxis\":\"x\",\"y\":[0.0,0.0,0.0,0.0,0.0,0.0,0.0,0.0,0.0,0.0,1.0,1.0,1.0,2.0,3.0,5.0,5.0,6.0,9.0,11.0,17.0,17.0,20.0,22.0,24.0,25.0,26.0,30.0,31.0,34.0,37.0,40.0,42.0,45.0,50.0,53.0,55.0,62.0,74.0,78.0,83.0,91.0,98.0,102.0,106.0,110.0,110.0,110.0,110.0,110.0,110.0,110.0,110.0,110.0,110.0,110.0,110.0,110.0,110.0,110.0,110.0,110.0,110.0,110.0,110.0,110.0,110.0,110.0,110.0,110.0,110.0,110.0,110.0,110.0,110.0],\"yaxis\":\"y\",\"type\":\"bar\"}],                        {\"template\":{\"data\":{\"histogram2dcontour\":[{\"type\":\"histogram2dcontour\",\"colorbar\":{\"outlinewidth\":0,\"ticks\":\"\"},\"colorscale\":[[0.0,\"#0d0887\"],[0.1111111111111111,\"#46039f\"],[0.2222222222222222,\"#7201a8\"],[0.3333333333333333,\"#9c179e\"],[0.4444444444444444,\"#bd3786\"],[0.5555555555555556,\"#d8576b\"],[0.6666666666666666,\"#ed7953\"],[0.7777777777777778,\"#fb9f3a\"],[0.8888888888888888,\"#fdca26\"],[1.0,\"#f0f921\"]]}],\"choropleth\":[{\"type\":\"choropleth\",\"colorbar\":{\"outlinewidth\":0,\"ticks\":\"\"}}],\"histogram2d\":[{\"type\":\"histogram2d\",\"colorbar\":{\"outlinewidth\":0,\"ticks\":\"\"},\"colorscale\":[[0.0,\"#0d0887\"],[0.1111111111111111,\"#46039f\"],[0.2222222222222222,\"#7201a8\"],[0.3333333333333333,\"#9c179e\"],[0.4444444444444444,\"#bd3786\"],[0.5555555555555556,\"#d8576b\"],[0.6666666666666666,\"#ed7953\"],[0.7777777777777778,\"#fb9f3a\"],[0.8888888888888888,\"#fdca26\"],[1.0,\"#f0f921\"]]}],\"heatmap\":[{\"type\":\"heatmap\",\"colorbar\":{\"outlinewidth\":0,\"ticks\":\"\"},\"colorscale\":[[0.0,\"#0d0887\"],[0.1111111111111111,\"#46039f\"],[0.2222222222222222,\"#7201a8\"],[0.3333333333333333,\"#9c179e\"],[0.4444444444444444,\"#bd3786\"],[0.5555555555555556,\"#d8576b\"],[0.6666666666666666,\"#ed7953\"],[0.7777777777777778,\"#fb9f3a\"],[0.8888888888888888,\"#fdca26\"],[1.0,\"#f0f921\"]]}],\"heatmapgl\":[{\"type\":\"heatmapgl\",\"colorbar\":{\"outlinewidth\":0,\"ticks\":\"\"},\"colorscale\":[[0.0,\"#0d0887\"],[0.1111111111111111,\"#46039f\"],[0.2222222222222222,\"#7201a8\"],[0.3333333333333333,\"#9c179e\"],[0.4444444444444444,\"#bd3786\"],[0.5555555555555556,\"#d8576b\"],[0.6666666666666666,\"#ed7953\"],[0.7777777777777778,\"#fb9f3a\"],[0.8888888888888888,\"#fdca26\"],[1.0,\"#f0f921\"]]}],\"contourcarpet\":[{\"type\":\"contourcarpet\",\"colorbar\":{\"outlinewidth\":0,\"ticks\":\"\"}}],\"contour\":[{\"type\":\"contour\",\"colorbar\":{\"outlinewidth\":0,\"ticks\":\"\"},\"colorscale\":[[0.0,\"#0d0887\"],[0.1111111111111111,\"#46039f\"],[0.2222222222222222,\"#7201a8\"],[0.3333333333333333,\"#9c179e\"],[0.4444444444444444,\"#bd3786\"],[0.5555555555555556,\"#d8576b\"],[0.6666666666666666,\"#ed7953\"],[0.7777777777777778,\"#fb9f3a\"],[0.8888888888888888,\"#fdca26\"],[1.0,\"#f0f921\"]]}],\"surface\":[{\"type\":\"surface\",\"colorbar\":{\"outlinewidth\":0,\"ticks\":\"\"},\"colorscale\":[[0.0,\"#0d0887\"],[0.1111111111111111,\"#46039f\"],[0.2222222222222222,\"#7201a8\"],[0.3333333333333333,\"#9c179e\"],[0.4444444444444444,\"#bd3786\"],[0.5555555555555556,\"#d8576b\"],[0.6666666666666666,\"#ed7953\"],[0.7777777777777778,\"#fb9f3a\"],[0.8888888888888888,\"#fdca26\"],[1.0,\"#f0f921\"]]}],\"mesh3d\":[{\"type\":\"mesh3d\",\"colorbar\":{\"outlinewidth\":0,\"ticks\":\"\"}}],\"scatter\":[{\"fillpattern\":{\"fillmode\":\"overlay\",\"size\":10,\"solidity\":0.2},\"type\":\"scatter\"}],\"parcoords\":[{\"type\":\"parcoords\",\"line\":{\"colorbar\":{\"outlinewidth\":0,\"ticks\":\"\"}}}],\"scatterpolargl\":[{\"type\":\"scatterpolargl\",\"marker\":{\"colorbar\":{\"outlinewidth\":0,\"ticks\":\"\"}}}],\"bar\":[{\"error_x\":{\"color\":\"#2a3f5f\"},\"error_y\":{\"color\":\"#2a3f5f\"},\"marker\":{\"line\":{\"color\":\"#E5ECF6\",\"width\":0.5},\"pattern\":{\"fillmode\":\"overlay\",\"size\":10,\"solidity\":0.2}},\"type\":\"bar\"}],\"scattergeo\":[{\"type\":\"scattergeo\",\"marker\":{\"colorbar\":{\"outlinewidth\":0,\"ticks\":\"\"}}}],\"scatterpolar\":[{\"type\":\"scatterpolar\",\"marker\":{\"colorbar\":{\"outlinewidth\":0,\"ticks\":\"\"}}}],\"histogram\":[{\"marker\":{\"pattern\":{\"fillmode\":\"overlay\",\"size\":10,\"solidity\":0.2}},\"type\":\"histogram\"}],\"scattergl\":[{\"type\":\"scattergl\",\"marker\":{\"colorbar\":{\"outlinewidth\":0,\"ticks\":\"\"}}}],\"scatter3d\":[{\"type\":\"scatter3d\",\"line\":{\"colorbar\":{\"outlinewidth\":0,\"ticks\":\"\"}},\"marker\":{\"colorbar\":{\"outlinewidth\":0,\"ticks\":\"\"}}}],\"scattermapbox\":[{\"type\":\"scattermapbox\",\"marker\":{\"colorbar\":{\"outlinewidth\":0,\"ticks\":\"\"}}}],\"scatterternary\":[{\"type\":\"scatterternary\",\"marker\":{\"colorbar\":{\"outlinewidth\":0,\"ticks\":\"\"}}}],\"scattercarpet\":[{\"type\":\"scattercarpet\",\"marker\":{\"colorbar\":{\"outlinewidth\":0,\"ticks\":\"\"}}}],\"carpet\":[{\"aaxis\":{\"endlinecolor\":\"#2a3f5f\",\"gridcolor\":\"white\",\"linecolor\":\"white\",\"minorgridcolor\":\"white\",\"startlinecolor\":\"#2a3f5f\"},\"baxis\":{\"endlinecolor\":\"#2a3f5f\",\"gridcolor\":\"white\",\"linecolor\":\"white\",\"minorgridcolor\":\"white\",\"startlinecolor\":\"#2a3f5f\"},\"type\":\"carpet\"}],\"table\":[{\"cells\":{\"fill\":{\"color\":\"#EBF0F8\"},\"line\":{\"color\":\"white\"}},\"header\":{\"fill\":{\"color\":\"#C8D4E3\"},\"line\":{\"color\":\"white\"}},\"type\":\"table\"}],\"barpolar\":[{\"marker\":{\"line\":{\"color\":\"#E5ECF6\",\"width\":0.5},\"pattern\":{\"fillmode\":\"overlay\",\"size\":10,\"solidity\":0.2}},\"type\":\"barpolar\"}],\"pie\":[{\"automargin\":true,\"type\":\"pie\"}]},\"layout\":{\"autotypenumbers\":\"strict\",\"colorway\":[\"#636efa\",\"#EF553B\",\"#00cc96\",\"#ab63fa\",\"#FFA15A\",\"#19d3f3\",\"#FF6692\",\"#B6E880\",\"#FF97FF\",\"#FECB52\"],\"font\":{\"color\":\"#2a3f5f\"},\"hovermode\":\"closest\",\"hoverlabel\":{\"align\":\"left\"},\"paper_bgcolor\":\"white\",\"plot_bgcolor\":\"#E5ECF6\",\"polar\":{\"bgcolor\":\"#E5ECF6\",\"angularaxis\":{\"gridcolor\":\"white\",\"linecolor\":\"white\",\"ticks\":\"\"},\"radialaxis\":{\"gridcolor\":\"white\",\"linecolor\":\"white\",\"ticks\":\"\"}},\"ternary\":{\"bgcolor\":\"#E5ECF6\",\"aaxis\":{\"gridcolor\":\"white\",\"linecolor\":\"white\",\"ticks\":\"\"},\"baxis\":{\"gridcolor\":\"white\",\"linecolor\":\"white\",\"ticks\":\"\"},\"caxis\":{\"gridcolor\":\"white\",\"linecolor\":\"white\",\"ticks\":\"\"}},\"coloraxis\":{\"colorbar\":{\"outlinewidth\":0,\"ticks\":\"\"}},\"colorscale\":{\"sequential\":[[0.0,\"#0d0887\"],[0.1111111111111111,\"#46039f\"],[0.2222222222222222,\"#7201a8\"],[0.3333333333333333,\"#9c179e\"],[0.4444444444444444,\"#bd3786\"],[0.5555555555555556,\"#d8576b\"],[0.6666666666666666,\"#ed7953\"],[0.7777777777777778,\"#fb9f3a\"],[0.8888888888888888,\"#fdca26\"],[1.0,\"#f0f921\"]],\"sequentialminus\":[[0.0,\"#0d0887\"],[0.1111111111111111,\"#46039f\"],[0.2222222222222222,\"#7201a8\"],[0.3333333333333333,\"#9c179e\"],[0.4444444444444444,\"#bd3786\"],[0.5555555555555556,\"#d8576b\"],[0.6666666666666666,\"#ed7953\"],[0.7777777777777778,\"#fb9f3a\"],[0.8888888888888888,\"#fdca26\"],[1.0,\"#f0f921\"]],\"diverging\":[[0,\"#8e0152\"],[0.1,\"#c51b7d\"],[0.2,\"#de77ae\"],[0.3,\"#f1b6da\"],[0.4,\"#fde0ef\"],[0.5,\"#f7f7f7\"],[0.6,\"#e6f5d0\"],[0.7,\"#b8e186\"],[0.8,\"#7fbc41\"],[0.9,\"#4d9221\"],[1,\"#276419\"]]},\"xaxis\":{\"gridcolor\":\"white\",\"linecolor\":\"white\",\"ticks\":\"\",\"title\":{\"standoff\":15},\"zerolinecolor\":\"white\",\"automargin\":true,\"zerolinewidth\":2},\"yaxis\":{\"gridcolor\":\"white\",\"linecolor\":\"white\",\"ticks\":\"\",\"title\":{\"standoff\":15},\"zerolinecolor\":\"white\",\"automargin\":true,\"zerolinewidth\":2},\"scene\":{\"xaxis\":{\"backgroundcolor\":\"#E5ECF6\",\"gridcolor\":\"white\",\"linecolor\":\"white\",\"showbackground\":true,\"ticks\":\"\",\"zerolinecolor\":\"white\",\"gridwidth\":2},\"yaxis\":{\"backgroundcolor\":\"#E5ECF6\",\"gridcolor\":\"white\",\"linecolor\":\"white\",\"showbackground\":true,\"ticks\":\"\",\"zerolinecolor\":\"white\",\"gridwidth\":2},\"zaxis\":{\"backgroundcolor\":\"#E5ECF6\",\"gridcolor\":\"white\",\"linecolor\":\"white\",\"showbackground\":true,\"ticks\":\"\",\"zerolinecolor\":\"white\",\"gridwidth\":2}},\"shapedefaults\":{\"line\":{\"color\":\"#2a3f5f\"}},\"annotationdefaults\":{\"arrowcolor\":\"#2a3f5f\",\"arrowhead\":0,\"arrowwidth\":1},\"geo\":{\"bgcolor\":\"white\",\"landcolor\":\"#E5ECF6\",\"subunitcolor\":\"white\",\"showland\":true,\"showlakes\":true,\"lakecolor\":\"white\"},\"title\":{\"x\":0.05},\"mapbox\":{\"style\":\"light\"}}},\"xaxis\":{\"anchor\":\"y\",\"domain\":[0.0,1.0],\"title\":{\"text\":\"Time\"}},\"yaxis\":{\"anchor\":\"x\",\"domain\":[0.0,1.0],\"title\":{\"text\":\"#Robots\"}},\"legend\":{\"title\":{\"text\":\"variable\"},\"tracegroupgap\":0},\"title\":{\"text\":\"HHE - Habitat over Time\"},\"barmode\":\"relative\",\"hovermode\":\"x\"},                        {\"responsive\": true}                    ).then(function(){\n",
       "                            \n",
       "var gd = document.getElementById('4d0136b6-1ac3-4267-9bf6-beccdd223a22');\n",
       "var x = new MutationObserver(function (mutations, observer) {{\n",
       "        var display = window.getComputedStyle(gd).display;\n",
       "        if (!display || display === 'none') {{\n",
       "            console.log([gd, 'removed!']);\n",
       "            Plotly.purge(gd);\n",
       "            observer.disconnect();\n",
       "        }}\n",
       "}});\n",
       "\n",
       "// Listen for the removal of the full notebook cells\n",
       "var notebookContainer = gd.closest('#notebook-container');\n",
       "if (notebookContainer) {{\n",
       "    x.observe(notebookContainer, {childList: true});\n",
       "}}\n",
       "\n",
       "// Listen for the clearing of the current output cell\n",
       "var outputEl = gd.closest('.output');\n",
       "if (outputEl) {{\n",
       "    x.observe(outputEl, {childList: true});\n",
       "}}\n",
       "\n",
       "                        })                };                });            </script>        </div>"
      ]
     },
     "metadata": {},
     "output_type": "display_data"
    },
    {
     "data": {
      "application/vnd.plotly.v1+json": {
       "config": {
        "plotlyServerURL": "https://plotly.com"
       },
       "data": [
        {
         "name": "#Replicator",
         "type": "bar",
         "x": [
          0,
          1,
          2,
          3,
          4,
          5,
          6,
          7,
          8,
          9,
          10,
          11,
          12,
          13,
          14,
          15,
          16,
          17,
          18,
          19,
          20,
          21,
          22,
          23,
          24,
          25,
          26,
          27,
          28,
          29,
          30,
          31,
          32,
          33,
          34,
          35,
          36,
          37,
          38,
          39,
          40,
          41,
          42,
          43,
          44,
          45,
          46,
          47,
          48,
          49,
          50,
          51,
          52,
          53,
          54,
          55,
          56,
          57,
          58,
          59,
          60,
          61,
          62,
          63,
          64,
          65,
          66,
          67,
          68,
          69,
          70,
          71,
          72,
          73,
          74
         ],
         "xaxis": "x",
         "y": [
          0,
          0,
          0,
          0,
          0,
          0,
          0,
          0,
          0,
          0,
          0,
          0,
          0,
          0,
          0,
          0,
          0,
          0,
          0,
          0,
          0,
          0,
          0,
          0,
          0,
          0,
          0,
          0,
          0,
          0,
          0,
          0,
          0,
          0,
          0,
          0,
          0,
          0,
          0,
          0,
          0,
          0,
          0,
          0,
          0,
          0,
          0,
          0,
          0,
          0,
          0,
          0,
          0,
          0,
          0,
          0,
          0,
          0,
          0,
          0,
          0,
          0,
          0,
          0,
          0,
          0,
          0,
          0,
          0,
          0,
          0,
          0,
          0,
          0,
          0
         ],
         "yaxis": "y"
        },
        {
         "name": "#Normal",
         "type": "bar",
         "x": [
          0,
          1,
          2,
          3,
          4,
          5,
          6,
          7,
          8,
          9,
          10,
          11,
          12,
          13,
          14,
          15,
          16,
          17,
          18,
          19,
          20,
          21,
          22,
          23,
          24,
          25,
          26,
          27,
          28,
          29,
          30,
          31,
          32,
          33,
          34,
          35,
          36,
          37,
          38,
          39,
          40,
          41,
          42,
          43,
          44,
          45,
          46,
          47,
          48,
          49,
          50,
          51,
          52,
          53,
          54,
          55,
          56,
          57,
          58,
          59,
          60,
          61,
          62,
          63,
          64,
          65,
          66,
          67,
          68,
          69,
          70,
          71,
          72,
          73,
          74
         ],
         "xaxis": "x",
         "y": [
          0,
          0,
          2,
          2,
          2,
          2,
          2,
          4,
          4,
          4,
          5,
          5,
          9,
          10,
          10,
          13,
          13,
          17,
          22,
          22,
          26,
          26,
          30,
          30,
          32,
          33,
          39,
          41,
          41,
          47,
          50,
          50,
          52,
          58,
          60,
          60,
          63,
          71,
          76,
          77,
          80,
          83,
          84,
          88,
          92,
          95,
          95,
          95,
          95,
          95,
          95,
          95,
          95,
          95,
          95,
          95,
          95,
          95,
          95,
          95,
          95,
          95,
          95,
          95,
          95,
          95,
          95,
          95,
          95,
          95,
          95,
          95,
          95,
          95,
          95
         ],
         "yaxis": "y"
        },
        {
         "name": "#Assembler",
         "type": "bar",
         "x": [
          0,
          1,
          2,
          3,
          4,
          5,
          6,
          7,
          8,
          9,
          10,
          11,
          12,
          13,
          14,
          15,
          16,
          17,
          18,
          19,
          20,
          21,
          22,
          23,
          24,
          25,
          26,
          27,
          28,
          29,
          30,
          31,
          32,
          33,
          34,
          35,
          36,
          37,
          38,
          39,
          40,
          41,
          42,
          43,
          44,
          45,
          46,
          47,
          48,
          49,
          50,
          51,
          52,
          53,
          54,
          55,
          56,
          57,
          58,
          59,
          60,
          61,
          62,
          63,
          64,
          65,
          66,
          67,
          68,
          69,
          70,
          71,
          72,
          73,
          74
         ],
         "xaxis": "x",
         "y": [
          1,
          1,
          1,
          1,
          1,
          1,
          3,
          3,
          3,
          5,
          5,
          5,
          7,
          7,
          9,
          10,
          12,
          16,
          16,
          20,
          21,
          23,
          24,
          24,
          25,
          25,
          25,
          26,
          26,
          26,
          26,
          33,
          35,
          37,
          42,
          46,
          46,
          47,
          49,
          53,
          58,
          62,
          71,
          75,
          75,
          76,
          76,
          76,
          76,
          76,
          76,
          76,
          76,
          76,
          76,
          76,
          76,
          76,
          76,
          76,
          76,
          76,
          76,
          76,
          76,
          76,
          76,
          76,
          76,
          76,
          76,
          76,
          76,
          76,
          76
         ],
         "yaxis": "y"
        },
        {
         "name": "#Printer",
         "type": "bar",
         "x": [
          0,
          1,
          2,
          3,
          4,
          5,
          6,
          7,
          8,
          9,
          10,
          11,
          12,
          13,
          14,
          15,
          16,
          17,
          18,
          19,
          20,
          21,
          22,
          23,
          24,
          25,
          26,
          27,
          28,
          29,
          30,
          31,
          32,
          33,
          34,
          35,
          36,
          37,
          38,
          39,
          40,
          41,
          42,
          43,
          44,
          45,
          46,
          47,
          48,
          49,
          50,
          51,
          52,
          53,
          54,
          55,
          56,
          57,
          58,
          59,
          60,
          61,
          62,
          63,
          64,
          65,
          66,
          67,
          68,
          69,
          70,
          71,
          72,
          73,
          74
         ],
         "xaxis": "x",
         "y": [
          1,
          1,
          1,
          1,
          1,
          1,
          1,
          1,
          1,
          1,
          3,
          5,
          5,
          5,
          6,
          6,
          8,
          9,
          9,
          11,
          16,
          18,
          20,
          22,
          27,
          27,
          28,
          29,
          30,
          33,
          35,
          41,
          41,
          44,
          50,
          55,
          58,
          70,
          75,
          76,
          77,
          86,
          95,
          95,
          95,
          95,
          95,
          95,
          95,
          95,
          95,
          95,
          95,
          95,
          95,
          95,
          95,
          95,
          95,
          95,
          95,
          95,
          95,
          95,
          95,
          95,
          95,
          95,
          95,
          95,
          95,
          95,
          95,
          95,
          95
         ],
         "yaxis": "y"
        },
        {
         "name": "#Assembling",
         "type": "bar",
         "x": [
          0,
          1,
          2,
          3,
          4,
          5,
          6,
          7,
          8,
          9,
          10,
          11,
          12,
          13,
          14,
          15,
          16,
          17,
          18,
          19,
          20,
          21,
          22,
          23,
          24,
          25,
          26,
          27,
          28,
          29,
          30,
          31,
          32,
          33,
          34,
          35,
          36,
          37,
          38,
          39,
          40,
          41,
          42,
          43,
          44,
          45,
          46,
          47,
          48,
          49,
          50,
          51,
          52,
          53,
          54,
          55,
          56,
          57,
          58,
          59,
          60,
          61,
          62,
          63,
          64,
          65,
          66,
          67,
          68,
          69,
          70,
          71,
          72,
          73,
          74
         ],
         "xaxis": "x3",
         "y": [
          1,
          1,
          1,
          1,
          1,
          1,
          3,
          3,
          3,
          5,
          5,
          5,
          7,
          7,
          9,
          9,
          12,
          16,
          16,
          20,
          10,
          11,
          8,
          12,
          8,
          14,
          11,
          9,
          18,
          16,
          19,
          15,
          24,
          24,
          21,
          25,
          35,
          29,
          25,
          31,
          41,
          39,
          17,
          8,
          4,
          0,
          0,
          0,
          0,
          0,
          0,
          0,
          0,
          0,
          0,
          0,
          0,
          0,
          0,
          0,
          0,
          0,
          0,
          0,
          0,
          0,
          0,
          0,
          0,
          0,
          0,
          0,
          0,
          0,
          0
         ],
         "yaxis": "y3"
        },
        {
         "name": "#Printing",
         "type": "bar",
         "x": [
          0,
          1,
          2,
          3,
          4,
          5,
          6,
          7,
          8,
          9,
          10,
          11,
          12,
          13,
          14,
          15,
          16,
          17,
          18,
          19,
          20,
          21,
          22,
          23,
          24,
          25,
          26,
          27,
          28,
          29,
          30,
          31,
          32,
          33,
          34,
          35,
          36,
          37,
          38,
          39,
          40,
          41,
          42,
          43,
          44,
          45,
          46,
          47,
          48,
          49,
          50,
          51,
          52,
          53,
          54,
          55,
          56,
          57,
          58,
          59,
          60,
          61,
          62,
          63,
          64,
          65,
          66,
          67,
          68,
          69,
          70,
          71,
          72,
          73,
          74
         ],
         "xaxis": "x3",
         "y": [
          1,
          1,
          1,
          1,
          1,
          1,
          1,
          1,
          1,
          1,
          3,
          5,
          5,
          5,
          5,
          6,
          8,
          8,
          9,
          9,
          13,
          18,
          20,
          20,
          26,
          27,
          27,
          28,
          29,
          32,
          33,
          39,
          41,
          43,
          50,
          54,
          57,
          66,
          70,
          75,
          76,
          83,
          82,
          16,
          0,
          0,
          0,
          0,
          0,
          0,
          0,
          0,
          0,
          0,
          0,
          0,
          0,
          0,
          0,
          0,
          0,
          0,
          0,
          0,
          0,
          0,
          0,
          0,
          0,
          0,
          0,
          0,
          0,
          0,
          0
         ],
         "yaxis": "y3"
        },
        {
         "name": "#Collecting",
         "type": "bar",
         "x": [
          0,
          1,
          2,
          3,
          4,
          5,
          6,
          7,
          8,
          9,
          10,
          11,
          12,
          13,
          14,
          15,
          16,
          17,
          18,
          19,
          20,
          21,
          22,
          23,
          24,
          25,
          26,
          27,
          28,
          29,
          30,
          31,
          32,
          33,
          34,
          35,
          36,
          37,
          38,
          39,
          40,
          41,
          42,
          43,
          44,
          45,
          46,
          47,
          48,
          49,
          50,
          51,
          52,
          53,
          54,
          55,
          56,
          57,
          58,
          59,
          60,
          61,
          62,
          63,
          64,
          65,
          66,
          67,
          68,
          69,
          70,
          71,
          72,
          73,
          74
         ],
         "xaxis": "x3",
         "y": [
          0,
          0,
          2,
          2,
          2,
          2,
          2,
          4,
          4,
          4,
          4,
          5,
          9,
          9,
          10,
          12,
          13,
          17,
          19,
          22,
          34,
          38,
          43,
          42,
          48,
          43,
          53,
          55,
          26,
          0,
          0,
          0,
          0,
          0,
          0,
          0,
          0,
          0,
          0,
          0,
          0,
          0,
          0,
          0,
          0,
          0,
          0,
          0,
          0,
          0,
          0,
          0,
          0,
          0,
          0,
          0,
          0,
          0,
          0,
          0,
          0,
          0,
          0,
          0,
          0,
          0,
          0,
          0,
          0,
          0,
          0,
          0,
          0,
          0,
          0
         ],
         "yaxis": "y3"
        },
        {
         "name": "#Idle",
         "type": "bar",
         "x": [
          0,
          1,
          2,
          3,
          4,
          5,
          6,
          7,
          8,
          9,
          10,
          11,
          12,
          13,
          14,
          15,
          16,
          17,
          18,
          19,
          20,
          21,
          22,
          23,
          24,
          25,
          26,
          27,
          28,
          29,
          30,
          31,
          32,
          33,
          34,
          35,
          36,
          37,
          38,
          39,
          40,
          41,
          42,
          43,
          44,
          45,
          46,
          47,
          48,
          49,
          50,
          51,
          52,
          53,
          54,
          55,
          56,
          57,
          58,
          59,
          60,
          61,
          62,
          63,
          64,
          65,
          66,
          67,
          68,
          69,
          70,
          71,
          72,
          73,
          74
         ],
         "xaxis": "x3",
         "y": [
          0,
          0,
          0,
          0,
          0,
          0,
          0,
          0,
          0,
          0,
          1,
          0,
          0,
          1,
          1,
          2,
          0,
          1,
          3,
          2,
          6,
          0,
          3,
          2,
          2,
          1,
          1,
          4,
          24,
          58,
          59,
          70,
          63,
          72,
          81,
          82,
          75,
          93,
          105,
          100,
          98,
          109,
          151,
          234,
          258,
          266,
          266,
          266,
          266,
          266,
          266,
          266,
          266,
          266,
          266,
          266,
          266,
          266,
          266,
          266,
          266,
          266,
          266,
          266,
          266,
          266,
          266,
          266,
          266,
          266,
          266,
          266,
          266,
          266,
          266
         ],
         "yaxis": "y3"
        },
        {
         "mode": "lines",
         "name": "NonPr",
         "type": "scatter",
         "x": [
          0,
          1,
          2,
          3,
          4,
          5,
          6,
          7,
          8,
          9,
          10,
          11,
          12,
          13,
          14,
          15,
          16,
          17,
          18,
          19,
          20,
          21,
          22,
          23,
          24,
          25,
          26,
          27,
          28,
          29,
          30,
          31,
          32,
          33,
          34,
          35,
          36,
          37,
          38,
          39,
          40,
          41,
          42,
          43,
          44,
          45,
          46,
          47,
          48,
          49,
          50,
          51,
          52,
          53,
          54,
          55,
          56,
          57,
          58,
          59,
          60,
          61,
          62,
          63,
          64,
          65,
          66,
          67,
          68,
          69,
          70,
          71,
          72,
          73,
          74
         ],
         "xaxis": "x2",
         "y": [
          299,
          299,
          297,
          297,
          297,
          297,
          294,
          292,
          292,
          289,
          286,
          285,
          278,
          276,
          272,
          266,
          261,
          250,
          242,
          234,
          229,
          225,
          219,
          215,
          209,
          200,
          197,
          189,
          181,
          174,
          164,
          155,
          143,
          131,
          119,
          105,
          91,
          75,
          59,
          41,
          18,
          0,
          0,
          0,
          0,
          0,
          0,
          0,
          0,
          0,
          0,
          0,
          0,
          0,
          0,
          0,
          0,
          0,
          0,
          0,
          0,
          0,
          0,
          0,
          0,
          0,
          0,
          0,
          0,
          0,
          0,
          0,
          0,
          0,
          0
         ],
         "yaxis": "y2"
        },
        {
         "mode": "lines",
         "name": "Printable",
         "type": "scatter",
         "x": [
          0,
          1,
          2,
          3,
          4,
          5,
          6,
          7,
          8,
          9,
          10,
          11,
          12,
          13,
          14,
          15,
          16,
          17,
          18,
          19,
          20,
          21,
          22,
          23,
          24,
          25,
          26,
          27,
          28,
          29,
          30,
          31,
          32,
          33,
          34,
          35,
          36,
          37,
          38,
          39,
          40,
          41,
          42,
          43,
          44,
          45,
          46,
          47,
          48,
          49,
          50,
          51,
          52,
          53,
          54,
          55,
          56,
          57,
          58,
          59,
          60,
          61,
          62,
          63,
          64,
          65,
          66,
          67,
          68,
          69,
          70,
          71,
          72,
          73,
          74
         ],
         "xaxis": "x2",
         "y": [
          99,
          99,
          96,
          96,
          97,
          97,
          92,
          88,
          89,
          83,
          79,
          79,
          68,
          66,
          61,
          52,
          46,
          28,
          17,
          5,
          3,
          4,
          2,
          4,
          6,
          1,
          9,
          7,
          6,
          8,
          5,
          7,
          4,
          1,
          3,
          1,
          3,
          3,
          9,
          10,
          3,
          8,
          49,
          49,
          49,
          49,
          49,
          49,
          49,
          49,
          49,
          49,
          49,
          49,
          49,
          49,
          49,
          49,
          49,
          49,
          49,
          49,
          49,
          49,
          49,
          49,
          49,
          49,
          49,
          49,
          49,
          49,
          49,
          49,
          49
         ],
         "yaxis": "y2"
        },
        {
         "mode": "lines",
         "name": "Materials",
         "type": "scatter",
         "x": [
          0,
          1,
          2,
          3,
          4,
          5,
          6,
          7,
          8,
          9,
          10,
          11,
          12,
          13,
          14,
          15,
          16,
          17,
          18,
          19,
          20,
          21,
          22,
          23,
          24,
          25,
          26,
          27,
          28,
          29,
          30,
          31,
          32,
          33,
          34,
          35,
          36,
          37,
          38,
          39,
          40,
          41,
          42,
          43,
          44,
          45,
          46,
          47,
          48,
          49,
          50,
          51,
          52,
          53,
          54,
          55,
          56,
          57,
          58,
          59,
          60,
          61,
          62,
          63,
          64,
          65,
          66,
          67,
          68,
          69,
          70,
          71,
          72,
          73,
          74
         ],
         "xaxis": "x2",
         "y": [
          49,
          49,
          49,
          51,
          52,
          54,
          55,
          58,
          61,
          65,
          67,
          70,
          74,
          81,
          88,
          96,
          105,
          116,
          129,
          147,
          167,
          194,
          223,
          255,
          289,
          319,
          354,
          395,
          406,
          390,
          373,
          353,
          332,
          311,
          285,
          259,
          229,
          197,
          159,
          122,
          83,
          42,
          1,
          1,
          1,
          1,
          1,
          1,
          1,
          1,
          1,
          1,
          1,
          1,
          1,
          1,
          1,
          1,
          1,
          1,
          1,
          1,
          1,
          1,
          1,
          1,
          1,
          1,
          1,
          1,
          1,
          1,
          1,
          1,
          1
         ],
         "yaxis": "y2"
        },
        {
         "mode": "lines",
         "name": "Env_Materials",
         "type": "scatter",
         "x": [
          0,
          1,
          2,
          3,
          4,
          5,
          6,
          7,
          8,
          9,
          10,
          11,
          12,
          13,
          14,
          15,
          16,
          17,
          18,
          19,
          20,
          21,
          22,
          23,
          24,
          25,
          26,
          27,
          28,
          29,
          30,
          31,
          32,
          33,
          34,
          35,
          36,
          37,
          38,
          39,
          40,
          41,
          42,
          43,
          44,
          45,
          46,
          47,
          48,
          49,
          50,
          51,
          52,
          53,
          54,
          55,
          56,
          57,
          58,
          59,
          60,
          61,
          62,
          63,
          64,
          65,
          66,
          67,
          68,
          69,
          70,
          71,
          72,
          73,
          74
         ],
         "xaxis": "x2",
         "y": [
          500,
          500,
          499,
          497,
          495,
          493,
          491,
          488,
          484,
          480,
          476,
          471,
          464,
          455,
          445,
          434,
          421,
          406,
          388,
          366,
          338,
          302,
          263,
          221,
          173,
          130,
          81,
          26,
          0,
          0,
          0,
          0,
          0,
          0,
          0,
          0,
          0,
          0,
          0,
          0,
          0,
          0,
          0,
          0,
          0,
          0,
          0,
          0,
          0,
          0,
          0,
          0,
          0,
          0,
          0,
          0,
          0,
          0,
          0,
          0,
          0,
          0,
          0,
          0,
          0,
          0,
          0,
          0,
          0,
          0,
          0,
          0,
          0,
          0,
          0
         ],
         "yaxis": "y2"
        },
        {
         "mode": "lines",
         "name": "Avg. Quality #in",
         "type": "scatter",
         "x": [
          0,
          1,
          2,
          3,
          4,
          5,
          6,
          7,
          8,
          9,
          10,
          11,
          12,
          13,
          14,
          15,
          16,
          17,
          18,
          19,
          20,
          21,
          22,
          23,
          24,
          25,
          26,
          27,
          28,
          29,
          30,
          31,
          32,
          33,
          34,
          35,
          36,
          37,
          38,
          39,
          40,
          41,
          42,
          43,
          44,
          45,
          46,
          47,
          48,
          49,
          50,
          51,
          52,
          53,
          54,
          55,
          56,
          57,
          58,
          59,
          60,
          61,
          62,
          63,
          64,
          65,
          66,
          67,
          68,
          69,
          70,
          71,
          72,
          73,
          74
         ],
         "xaxis": "x4",
         "y": [
          0.939,
          0.939,
          0.91,
          0.91,
          0.91,
          0.91,
          0.877,
          0.814,
          0.814,
          0.784,
          0.721,
          0.71,
          0.695,
          0.664,
          0.63,
          0.581,
          0.593,
          0.594,
          0.554,
          0.536,
          0.492,
          0.502,
          0.495,
          0.482,
          0.477,
          0.472,
          0.485,
          0.465,
          0.46,
          0.457,
          0.449,
          0.452,
          0.448,
          0.447,
          0.44,
          0.439,
          0.437,
          0.432,
          0.406,
          0.4,
          0.393,
          0.388,
          0.388,
          0.386,
          0.38,
          0.374,
          0.374,
          0.374,
          0.374,
          0.374,
          0.374,
          0.374,
          0.374,
          0.374,
          0.374,
          0.374,
          0.374,
          0.374,
          0.374,
          0.374,
          0.374,
          0.374,
          0.374,
          0.374,
          0.374,
          0.374,
          0.374,
          0.374,
          0.374,
          0.374,
          0.374,
          0.374,
          0.374,
          0.374,
          0.374
         ],
         "yaxis": "y4"
        },
        {
         "mode": "lines",
         "name": "Avg. Quality #total",
         "type": "scatter",
         "x": [
          0,
          1,
          2,
          3,
          4,
          5,
          6,
          7,
          8,
          9,
          10,
          11,
          12,
          13,
          14,
          15,
          16,
          17,
          18,
          19,
          20,
          21,
          22,
          23,
          24,
          25,
          26,
          27,
          28,
          29,
          30,
          31,
          32,
          33,
          34,
          35,
          36,
          37,
          38,
          39,
          40,
          41,
          42,
          43,
          44,
          45,
          46,
          47,
          48,
          49,
          50,
          51,
          52,
          53,
          54,
          55,
          56,
          57,
          58,
          59,
          60,
          61,
          62,
          63,
          64,
          65,
          66,
          67,
          68,
          69,
          70,
          71,
          72,
          73,
          74
         ],
         "xaxis": "x4",
         "y": [
          0.939,
          0.939,
          0.91,
          0.91,
          0.91,
          0.91,
          0.877,
          0.814,
          0.814,
          0.784,
          0.754,
          0.738,
          0.716,
          0.697,
          0.679,
          0.648,
          0.653,
          0.652,
          0.628,
          0.615,
          0.598,
          0.602,
          0.6,
          0.593,
          0.585,
          0.583,
          0.593,
          0.586,
          0.584,
          0.58,
          0.578,
          0.574,
          0.572,
          0.569,
          0.563,
          0.561,
          0.56,
          0.552,
          0.54,
          0.537,
          0.532,
          0.528,
          0.527,
          0.525,
          0.521,
          0.519,
          0.519,
          0.519,
          0.519,
          0.519,
          0.519,
          0.519,
          0.519,
          0.519,
          0.519,
          0.519,
          0.519,
          0.519,
          0.519,
          0.519,
          0.519,
          0.519,
          0.519,
          0.519,
          0.519,
          0.519,
          0.519,
          0.519,
          0.519,
          0.519,
          0.519,
          0.519,
          0.519,
          0.519,
          0.519
         ],
         "yaxis": "y4"
        }
       ],
       "layout": {
        "annotations": [
         {
          "font": {
           "size": 16
          },
          "showarrow": false,
          "text": "Types of Robots vs Time",
          "x": 0.225,
          "xanchor": "center",
          "xref": "paper",
          "y": 1,
          "yanchor": "bottom",
          "yref": "paper"
         },
         {
          "font": {
           "size": 16
          },
          "showarrow": false,
          "text": "Resources vs Time",
          "x": 0.775,
          "xanchor": "center",
          "xref": "paper",
          "y": 1,
          "yanchor": "bottom",
          "yref": "paper"
         },
         {
          "font": {
           "size": 16
          },
          "showarrow": false,
          "text": "Tasks of Robots vs Time",
          "x": 0.225,
          "xanchor": "center",
          "xref": "paper",
          "y": 0.375,
          "yanchor": "bottom",
          "yref": "paper"
         },
         {
          "font": {
           "size": 16
          },
          "showarrow": false,
          "text": "Build Quality vs Time",
          "x": 0.775,
          "xanchor": "center",
          "xref": "paper",
          "y": 0.375,
          "yanchor": "bottom",
          "yref": "paper"
         }
        ],
        "hovermode": "x",
        "template": {
         "data": {
          "bar": [
           {
            "error_x": {
             "color": "#2a3f5f"
            },
            "error_y": {
             "color": "#2a3f5f"
            },
            "marker": {
             "line": {
              "color": "#E5ECF6",
              "width": 0.5
             },
             "pattern": {
              "fillmode": "overlay",
              "size": 10,
              "solidity": 0.2
             }
            },
            "type": "bar"
           }
          ],
          "barpolar": [
           {
            "marker": {
             "line": {
              "color": "#E5ECF6",
              "width": 0.5
             },
             "pattern": {
              "fillmode": "overlay",
              "size": 10,
              "solidity": 0.2
             }
            },
            "type": "barpolar"
           }
          ],
          "carpet": [
           {
            "aaxis": {
             "endlinecolor": "#2a3f5f",
             "gridcolor": "white",
             "linecolor": "white",
             "minorgridcolor": "white",
             "startlinecolor": "#2a3f5f"
            },
            "baxis": {
             "endlinecolor": "#2a3f5f",
             "gridcolor": "white",
             "linecolor": "white",
             "minorgridcolor": "white",
             "startlinecolor": "#2a3f5f"
            },
            "type": "carpet"
           }
          ],
          "choropleth": [
           {
            "colorbar": {
             "outlinewidth": 0,
             "ticks": ""
            },
            "type": "choropleth"
           }
          ],
          "contour": [
           {
            "colorbar": {
             "outlinewidth": 0,
             "ticks": ""
            },
            "colorscale": [
             [
              0,
              "#0d0887"
             ],
             [
              0.1111111111111111,
              "#46039f"
             ],
             [
              0.2222222222222222,
              "#7201a8"
             ],
             [
              0.3333333333333333,
              "#9c179e"
             ],
             [
              0.4444444444444444,
              "#bd3786"
             ],
             [
              0.5555555555555556,
              "#d8576b"
             ],
             [
              0.6666666666666666,
              "#ed7953"
             ],
             [
              0.7777777777777778,
              "#fb9f3a"
             ],
             [
              0.8888888888888888,
              "#fdca26"
             ],
             [
              1,
              "#f0f921"
             ]
            ],
            "type": "contour"
           }
          ],
          "contourcarpet": [
           {
            "colorbar": {
             "outlinewidth": 0,
             "ticks": ""
            },
            "type": "contourcarpet"
           }
          ],
          "heatmap": [
           {
            "colorbar": {
             "outlinewidth": 0,
             "ticks": ""
            },
            "colorscale": [
             [
              0,
              "#0d0887"
             ],
             [
              0.1111111111111111,
              "#46039f"
             ],
             [
              0.2222222222222222,
              "#7201a8"
             ],
             [
              0.3333333333333333,
              "#9c179e"
             ],
             [
              0.4444444444444444,
              "#bd3786"
             ],
             [
              0.5555555555555556,
              "#d8576b"
             ],
             [
              0.6666666666666666,
              "#ed7953"
             ],
             [
              0.7777777777777778,
              "#fb9f3a"
             ],
             [
              0.8888888888888888,
              "#fdca26"
             ],
             [
              1,
              "#f0f921"
             ]
            ],
            "type": "heatmap"
           }
          ],
          "heatmapgl": [
           {
            "colorbar": {
             "outlinewidth": 0,
             "ticks": ""
            },
            "colorscale": [
             [
              0,
              "#0d0887"
             ],
             [
              0.1111111111111111,
              "#46039f"
             ],
             [
              0.2222222222222222,
              "#7201a8"
             ],
             [
              0.3333333333333333,
              "#9c179e"
             ],
             [
              0.4444444444444444,
              "#bd3786"
             ],
             [
              0.5555555555555556,
              "#d8576b"
             ],
             [
              0.6666666666666666,
              "#ed7953"
             ],
             [
              0.7777777777777778,
              "#fb9f3a"
             ],
             [
              0.8888888888888888,
              "#fdca26"
             ],
             [
              1,
              "#f0f921"
             ]
            ],
            "type": "heatmapgl"
           }
          ],
          "histogram": [
           {
            "marker": {
             "pattern": {
              "fillmode": "overlay",
              "size": 10,
              "solidity": 0.2
             }
            },
            "type": "histogram"
           }
          ],
          "histogram2d": [
           {
            "colorbar": {
             "outlinewidth": 0,
             "ticks": ""
            },
            "colorscale": [
             [
              0,
              "#0d0887"
             ],
             [
              0.1111111111111111,
              "#46039f"
             ],
             [
              0.2222222222222222,
              "#7201a8"
             ],
             [
              0.3333333333333333,
              "#9c179e"
             ],
             [
              0.4444444444444444,
              "#bd3786"
             ],
             [
              0.5555555555555556,
              "#d8576b"
             ],
             [
              0.6666666666666666,
              "#ed7953"
             ],
             [
              0.7777777777777778,
              "#fb9f3a"
             ],
             [
              0.8888888888888888,
              "#fdca26"
             ],
             [
              1,
              "#f0f921"
             ]
            ],
            "type": "histogram2d"
           }
          ],
          "histogram2dcontour": [
           {
            "colorbar": {
             "outlinewidth": 0,
             "ticks": ""
            },
            "colorscale": [
             [
              0,
              "#0d0887"
             ],
             [
              0.1111111111111111,
              "#46039f"
             ],
             [
              0.2222222222222222,
              "#7201a8"
             ],
             [
              0.3333333333333333,
              "#9c179e"
             ],
             [
              0.4444444444444444,
              "#bd3786"
             ],
             [
              0.5555555555555556,
              "#d8576b"
             ],
             [
              0.6666666666666666,
              "#ed7953"
             ],
             [
              0.7777777777777778,
              "#fb9f3a"
             ],
             [
              0.8888888888888888,
              "#fdca26"
             ],
             [
              1,
              "#f0f921"
             ]
            ],
            "type": "histogram2dcontour"
           }
          ],
          "mesh3d": [
           {
            "colorbar": {
             "outlinewidth": 0,
             "ticks": ""
            },
            "type": "mesh3d"
           }
          ],
          "parcoords": [
           {
            "line": {
             "colorbar": {
              "outlinewidth": 0,
              "ticks": ""
             }
            },
            "type": "parcoords"
           }
          ],
          "pie": [
           {
            "automargin": true,
            "type": "pie"
           }
          ],
          "scatter": [
           {
            "fillpattern": {
             "fillmode": "overlay",
             "size": 10,
             "solidity": 0.2
            },
            "type": "scatter"
           }
          ],
          "scatter3d": [
           {
            "line": {
             "colorbar": {
              "outlinewidth": 0,
              "ticks": ""
             }
            },
            "marker": {
             "colorbar": {
              "outlinewidth": 0,
              "ticks": ""
             }
            },
            "type": "scatter3d"
           }
          ],
          "scattercarpet": [
           {
            "marker": {
             "colorbar": {
              "outlinewidth": 0,
              "ticks": ""
             }
            },
            "type": "scattercarpet"
           }
          ],
          "scattergeo": [
           {
            "marker": {
             "colorbar": {
              "outlinewidth": 0,
              "ticks": ""
             }
            },
            "type": "scattergeo"
           }
          ],
          "scattergl": [
           {
            "marker": {
             "colorbar": {
              "outlinewidth": 0,
              "ticks": ""
             }
            },
            "type": "scattergl"
           }
          ],
          "scattermapbox": [
           {
            "marker": {
             "colorbar": {
              "outlinewidth": 0,
              "ticks": ""
             }
            },
            "type": "scattermapbox"
           }
          ],
          "scatterpolar": [
           {
            "marker": {
             "colorbar": {
              "outlinewidth": 0,
              "ticks": ""
             }
            },
            "type": "scatterpolar"
           }
          ],
          "scatterpolargl": [
           {
            "marker": {
             "colorbar": {
              "outlinewidth": 0,
              "ticks": ""
             }
            },
            "type": "scatterpolargl"
           }
          ],
          "scatterternary": [
           {
            "marker": {
             "colorbar": {
              "outlinewidth": 0,
              "ticks": ""
             }
            },
            "type": "scatterternary"
           }
          ],
          "surface": [
           {
            "colorbar": {
             "outlinewidth": 0,
             "ticks": ""
            },
            "colorscale": [
             [
              0,
              "#0d0887"
             ],
             [
              0.1111111111111111,
              "#46039f"
             ],
             [
              0.2222222222222222,
              "#7201a8"
             ],
             [
              0.3333333333333333,
              "#9c179e"
             ],
             [
              0.4444444444444444,
              "#bd3786"
             ],
             [
              0.5555555555555556,
              "#d8576b"
             ],
             [
              0.6666666666666666,
              "#ed7953"
             ],
             [
              0.7777777777777778,
              "#fb9f3a"
             ],
             [
              0.8888888888888888,
              "#fdca26"
             ],
             [
              1,
              "#f0f921"
             ]
            ],
            "type": "surface"
           }
          ],
          "table": [
           {
            "cells": {
             "fill": {
              "color": "#EBF0F8"
             },
             "line": {
              "color": "white"
             }
            },
            "header": {
             "fill": {
              "color": "#C8D4E3"
             },
             "line": {
              "color": "white"
             }
            },
            "type": "table"
           }
          ]
         },
         "layout": {
          "annotationdefaults": {
           "arrowcolor": "#2a3f5f",
           "arrowhead": 0,
           "arrowwidth": 1
          },
          "autotypenumbers": "strict",
          "coloraxis": {
           "colorbar": {
            "outlinewidth": 0,
            "ticks": ""
           }
          },
          "colorscale": {
           "diverging": [
            [
             0,
             "#8e0152"
            ],
            [
             0.1,
             "#c51b7d"
            ],
            [
             0.2,
             "#de77ae"
            ],
            [
             0.3,
             "#f1b6da"
            ],
            [
             0.4,
             "#fde0ef"
            ],
            [
             0.5,
             "#f7f7f7"
            ],
            [
             0.6,
             "#e6f5d0"
            ],
            [
             0.7,
             "#b8e186"
            ],
            [
             0.8,
             "#7fbc41"
            ],
            [
             0.9,
             "#4d9221"
            ],
            [
             1,
             "#276419"
            ]
           ],
           "sequential": [
            [
             0,
             "#0d0887"
            ],
            [
             0.1111111111111111,
             "#46039f"
            ],
            [
             0.2222222222222222,
             "#7201a8"
            ],
            [
             0.3333333333333333,
             "#9c179e"
            ],
            [
             0.4444444444444444,
             "#bd3786"
            ],
            [
             0.5555555555555556,
             "#d8576b"
            ],
            [
             0.6666666666666666,
             "#ed7953"
            ],
            [
             0.7777777777777778,
             "#fb9f3a"
            ],
            [
             0.8888888888888888,
             "#fdca26"
            ],
            [
             1,
             "#f0f921"
            ]
           ],
           "sequentialminus": [
            [
             0,
             "#0d0887"
            ],
            [
             0.1111111111111111,
             "#46039f"
            ],
            [
             0.2222222222222222,
             "#7201a8"
            ],
            [
             0.3333333333333333,
             "#9c179e"
            ],
            [
             0.4444444444444444,
             "#bd3786"
            ],
            [
             0.5555555555555556,
             "#d8576b"
            ],
            [
             0.6666666666666666,
             "#ed7953"
            ],
            [
             0.7777777777777778,
             "#fb9f3a"
            ],
            [
             0.8888888888888888,
             "#fdca26"
            ],
            [
             1,
             "#f0f921"
            ]
           ]
          },
          "colorway": [
           "#636efa",
           "#EF553B",
           "#00cc96",
           "#ab63fa",
           "#FFA15A",
           "#19d3f3",
           "#FF6692",
           "#B6E880",
           "#FF97FF",
           "#FECB52"
          ],
          "font": {
           "color": "#2a3f5f"
          },
          "geo": {
           "bgcolor": "white",
           "lakecolor": "white",
           "landcolor": "#E5ECF6",
           "showlakes": true,
           "showland": true,
           "subunitcolor": "white"
          },
          "hoverlabel": {
           "align": "left"
          },
          "hovermode": "closest",
          "mapbox": {
           "style": "light"
          },
          "paper_bgcolor": "white",
          "plot_bgcolor": "#E5ECF6",
          "polar": {
           "angularaxis": {
            "gridcolor": "white",
            "linecolor": "white",
            "ticks": ""
           },
           "bgcolor": "#E5ECF6",
           "radialaxis": {
            "gridcolor": "white",
            "linecolor": "white",
            "ticks": ""
           }
          },
          "scene": {
           "xaxis": {
            "backgroundcolor": "#E5ECF6",
            "gridcolor": "white",
            "gridwidth": 2,
            "linecolor": "white",
            "showbackground": true,
            "ticks": "",
            "zerolinecolor": "white"
           },
           "yaxis": {
            "backgroundcolor": "#E5ECF6",
            "gridcolor": "white",
            "gridwidth": 2,
            "linecolor": "white",
            "showbackground": true,
            "ticks": "",
            "zerolinecolor": "white"
           },
           "zaxis": {
            "backgroundcolor": "#E5ECF6",
            "gridcolor": "white",
            "gridwidth": 2,
            "linecolor": "white",
            "showbackground": true,
            "ticks": "",
            "zerolinecolor": "white"
           }
          },
          "shapedefaults": {
           "line": {
            "color": "#2a3f5f"
           }
          },
          "ternary": {
           "aaxis": {
            "gridcolor": "white",
            "linecolor": "white",
            "ticks": ""
           },
           "baxis": {
            "gridcolor": "white",
            "linecolor": "white",
            "ticks": ""
           },
           "bgcolor": "#E5ECF6",
           "caxis": {
            "gridcolor": "white",
            "linecolor": "white",
            "ticks": ""
           }
          },
          "title": {
           "x": 0.05
          },
          "xaxis": {
           "automargin": true,
           "gridcolor": "white",
           "linecolor": "white",
           "ticks": "",
           "title": {
            "standoff": 15
           },
           "zerolinecolor": "white",
           "zerolinewidth": 2
          },
          "yaxis": {
           "automargin": true,
           "gridcolor": "white",
           "linecolor": "white",
           "ticks": "",
           "title": {
            "standoff": 15
           },
           "zerolinecolor": "white",
           "zerolinewidth": 2
          }
         }
        },
        "title": {
         "text": "HHE - Characteristics"
        },
        "xaxis": {
         "anchor": "y",
         "domain": [
          0,
          0.45
         ]
        },
        "xaxis2": {
         "anchor": "y2",
         "domain": [
          0.55,
          1
         ]
        },
        "xaxis3": {
         "anchor": "y3",
         "domain": [
          0,
          0.45
         ]
        },
        "xaxis4": {
         "anchor": "y4",
         "domain": [
          0.55,
          1
         ]
        },
        "yaxis": {
         "anchor": "x",
         "domain": [
          0.625,
          1
         ]
        },
        "yaxis2": {
         "anchor": "x2",
         "domain": [
          0.625,
          1
         ]
        },
        "yaxis3": {
         "anchor": "x3",
         "domain": [
          0,
          0.375
         ]
        },
        "yaxis4": {
         "anchor": "x4",
         "domain": [
          0,
          0.375
         ]
        }
       }
      },
      "text/html": [
       "<div>                            <div id=\"60013fd1-29a9-48ea-8e47-dbded104c34c\" class=\"plotly-graph-div\" style=\"height:525px; width:100%;\"></div>            <script type=\"text/javascript\">                require([\"plotly\"], function(Plotly) {                    window.PLOTLYENV=window.PLOTLYENV || {};                                    if (document.getElementById(\"60013fd1-29a9-48ea-8e47-dbded104c34c\")) {                    Plotly.newPlot(                        \"60013fd1-29a9-48ea-8e47-dbded104c34c\",                        [{\"name\":\"#Replicator\",\"x\":[0.0,1.0,2.0,3.0,4.0,5.0,6.0,7.0,8.0,9.0,10.0,11.0,12.0,13.0,14.0,15.0,16.0,17.0,18.0,19.0,20.0,21.0,22.0,23.0,24.0,25.0,26.0,27.0,28.0,29.0,30.0,31.0,32.0,33.0,34.0,35.0,36.0,37.0,38.0,39.0,40.0,41.0,42.0,43.0,44.0,45.0,46.0,47.0,48.0,49.0,50.0,51.0,52.0,53.0,54.0,55.0,56.0,57.0,58.0,59.0,60.0,61.0,62.0,63.0,64.0,65.0,66.0,67.0,68.0,69.0,70.0,71.0,72.0,73.0,74.0],\"y\":[0.0,0.0,0.0,0.0,0.0,0.0,0.0,0.0,0.0,0.0,0.0,0.0,0.0,0.0,0.0,0.0,0.0,0.0,0.0,0.0,0.0,0.0,0.0,0.0,0.0,0.0,0.0,0.0,0.0,0.0,0.0,0.0,0.0,0.0,0.0,0.0,0.0,0.0,0.0,0.0,0.0,0.0,0.0,0.0,0.0,0.0,0.0,0.0,0.0,0.0,0.0,0.0,0.0,0.0,0.0,0.0,0.0,0.0,0.0,0.0,0.0,0.0,0.0,0.0,0.0,0.0,0.0,0.0,0.0,0.0,0.0,0.0,0.0,0.0,0.0],\"type\":\"bar\",\"xaxis\":\"x\",\"yaxis\":\"y\"},{\"name\":\"#Normal\",\"x\":[0.0,1.0,2.0,3.0,4.0,5.0,6.0,7.0,8.0,9.0,10.0,11.0,12.0,13.0,14.0,15.0,16.0,17.0,18.0,19.0,20.0,21.0,22.0,23.0,24.0,25.0,26.0,27.0,28.0,29.0,30.0,31.0,32.0,33.0,34.0,35.0,36.0,37.0,38.0,39.0,40.0,41.0,42.0,43.0,44.0,45.0,46.0,47.0,48.0,49.0,50.0,51.0,52.0,53.0,54.0,55.0,56.0,57.0,58.0,59.0,60.0,61.0,62.0,63.0,64.0,65.0,66.0,67.0,68.0,69.0,70.0,71.0,72.0,73.0,74.0],\"y\":[0.0,0.0,2.0,2.0,2.0,2.0,2.0,4.0,4.0,4.0,5.0,5.0,9.0,10.0,10.0,13.0,13.0,17.0,22.0,22.0,26.0,26.0,30.0,30.0,32.0,33.0,39.0,41.0,41.0,47.0,50.0,50.0,52.0,58.0,60.0,60.0,63.0,71.0,76.0,77.0,80.0,83.0,84.0,88.0,92.0,95.0,95.0,95.0,95.0,95.0,95.0,95.0,95.0,95.0,95.0,95.0,95.0,95.0,95.0,95.0,95.0,95.0,95.0,95.0,95.0,95.0,95.0,95.0,95.0,95.0,95.0,95.0,95.0,95.0,95.0],\"type\":\"bar\",\"xaxis\":\"x\",\"yaxis\":\"y\"},{\"name\":\"#Assembler\",\"x\":[0.0,1.0,2.0,3.0,4.0,5.0,6.0,7.0,8.0,9.0,10.0,11.0,12.0,13.0,14.0,15.0,16.0,17.0,18.0,19.0,20.0,21.0,22.0,23.0,24.0,25.0,26.0,27.0,28.0,29.0,30.0,31.0,32.0,33.0,34.0,35.0,36.0,37.0,38.0,39.0,40.0,41.0,42.0,43.0,44.0,45.0,46.0,47.0,48.0,49.0,50.0,51.0,52.0,53.0,54.0,55.0,56.0,57.0,58.0,59.0,60.0,61.0,62.0,63.0,64.0,65.0,66.0,67.0,68.0,69.0,70.0,71.0,72.0,73.0,74.0],\"y\":[1.0,1.0,1.0,1.0,1.0,1.0,3.0,3.0,3.0,5.0,5.0,5.0,7.0,7.0,9.0,10.0,12.0,16.0,16.0,20.0,21.0,23.0,24.0,24.0,25.0,25.0,25.0,26.0,26.0,26.0,26.0,33.0,35.0,37.0,42.0,46.0,46.0,47.0,49.0,53.0,58.0,62.0,71.0,75.0,75.0,76.0,76.0,76.0,76.0,76.0,76.0,76.0,76.0,76.0,76.0,76.0,76.0,76.0,76.0,76.0,76.0,76.0,76.0,76.0,76.0,76.0,76.0,76.0,76.0,76.0,76.0,76.0,76.0,76.0,76.0],\"type\":\"bar\",\"xaxis\":\"x\",\"yaxis\":\"y\"},{\"name\":\"#Printer\",\"x\":[0.0,1.0,2.0,3.0,4.0,5.0,6.0,7.0,8.0,9.0,10.0,11.0,12.0,13.0,14.0,15.0,16.0,17.0,18.0,19.0,20.0,21.0,22.0,23.0,24.0,25.0,26.0,27.0,28.0,29.0,30.0,31.0,32.0,33.0,34.0,35.0,36.0,37.0,38.0,39.0,40.0,41.0,42.0,43.0,44.0,45.0,46.0,47.0,48.0,49.0,50.0,51.0,52.0,53.0,54.0,55.0,56.0,57.0,58.0,59.0,60.0,61.0,62.0,63.0,64.0,65.0,66.0,67.0,68.0,69.0,70.0,71.0,72.0,73.0,74.0],\"y\":[1.0,1.0,1.0,1.0,1.0,1.0,1.0,1.0,1.0,1.0,3.0,5.0,5.0,5.0,6.0,6.0,8.0,9.0,9.0,11.0,16.0,18.0,20.0,22.0,27.0,27.0,28.0,29.0,30.0,33.0,35.0,41.0,41.0,44.0,50.0,55.0,58.0,70.0,75.0,76.0,77.0,86.0,95.0,95.0,95.0,95.0,95.0,95.0,95.0,95.0,95.0,95.0,95.0,95.0,95.0,95.0,95.0,95.0,95.0,95.0,95.0,95.0,95.0,95.0,95.0,95.0,95.0,95.0,95.0,95.0,95.0,95.0,95.0,95.0,95.0],\"type\":\"bar\",\"xaxis\":\"x\",\"yaxis\":\"y\"},{\"name\":\"#Assembling\",\"x\":[0.0,1.0,2.0,3.0,4.0,5.0,6.0,7.0,8.0,9.0,10.0,11.0,12.0,13.0,14.0,15.0,16.0,17.0,18.0,19.0,20.0,21.0,22.0,23.0,24.0,25.0,26.0,27.0,28.0,29.0,30.0,31.0,32.0,33.0,34.0,35.0,36.0,37.0,38.0,39.0,40.0,41.0,42.0,43.0,44.0,45.0,46.0,47.0,48.0,49.0,50.0,51.0,52.0,53.0,54.0,55.0,56.0,57.0,58.0,59.0,60.0,61.0,62.0,63.0,64.0,65.0,66.0,67.0,68.0,69.0,70.0,71.0,72.0,73.0,74.0],\"y\":[1.0,1.0,1.0,1.0,1.0,1.0,3.0,3.0,3.0,5.0,5.0,5.0,7.0,7.0,9.0,9.0,12.0,16.0,16.0,20.0,10.0,11.0,8.0,12.0,8.0,14.0,11.0,9.0,18.0,16.0,19.0,15.0,24.0,24.0,21.0,25.0,35.0,29.0,25.0,31.0,41.0,39.0,17.0,8.0,4.0,0.0,0.0,0.0,0.0,0.0,0.0,0.0,0.0,0.0,0.0,0.0,0.0,0.0,0.0,0.0,0.0,0.0,0.0,0.0,0.0,0.0,0.0,0.0,0.0,0.0,0.0,0.0,0.0,0.0,0.0],\"type\":\"bar\",\"xaxis\":\"x3\",\"yaxis\":\"y3\"},{\"name\":\"#Printing\",\"x\":[0.0,1.0,2.0,3.0,4.0,5.0,6.0,7.0,8.0,9.0,10.0,11.0,12.0,13.0,14.0,15.0,16.0,17.0,18.0,19.0,20.0,21.0,22.0,23.0,24.0,25.0,26.0,27.0,28.0,29.0,30.0,31.0,32.0,33.0,34.0,35.0,36.0,37.0,38.0,39.0,40.0,41.0,42.0,43.0,44.0,45.0,46.0,47.0,48.0,49.0,50.0,51.0,52.0,53.0,54.0,55.0,56.0,57.0,58.0,59.0,60.0,61.0,62.0,63.0,64.0,65.0,66.0,67.0,68.0,69.0,70.0,71.0,72.0,73.0,74.0],\"y\":[1.0,1.0,1.0,1.0,1.0,1.0,1.0,1.0,1.0,1.0,3.0,5.0,5.0,5.0,5.0,6.0,8.0,8.0,9.0,9.0,13.0,18.0,20.0,20.0,26.0,27.0,27.0,28.0,29.0,32.0,33.0,39.0,41.0,43.0,50.0,54.0,57.0,66.0,70.0,75.0,76.0,83.0,82.0,16.0,0.0,0.0,0.0,0.0,0.0,0.0,0.0,0.0,0.0,0.0,0.0,0.0,0.0,0.0,0.0,0.0,0.0,0.0,0.0,0.0,0.0,0.0,0.0,0.0,0.0,0.0,0.0,0.0,0.0,0.0,0.0],\"type\":\"bar\",\"xaxis\":\"x3\",\"yaxis\":\"y3\"},{\"name\":\"#Collecting\",\"x\":[0.0,1.0,2.0,3.0,4.0,5.0,6.0,7.0,8.0,9.0,10.0,11.0,12.0,13.0,14.0,15.0,16.0,17.0,18.0,19.0,20.0,21.0,22.0,23.0,24.0,25.0,26.0,27.0,28.0,29.0,30.0,31.0,32.0,33.0,34.0,35.0,36.0,37.0,38.0,39.0,40.0,41.0,42.0,43.0,44.0,45.0,46.0,47.0,48.0,49.0,50.0,51.0,52.0,53.0,54.0,55.0,56.0,57.0,58.0,59.0,60.0,61.0,62.0,63.0,64.0,65.0,66.0,67.0,68.0,69.0,70.0,71.0,72.0,73.0,74.0],\"y\":[0.0,0.0,2.0,2.0,2.0,2.0,2.0,4.0,4.0,4.0,4.0,5.0,9.0,9.0,10.0,12.0,13.0,17.0,19.0,22.0,34.0,38.0,43.0,42.0,48.0,43.0,53.0,55.0,26.0,0.0,0.0,0.0,0.0,0.0,0.0,0.0,0.0,0.0,0.0,0.0,0.0,0.0,0.0,0.0,0.0,0.0,0.0,0.0,0.0,0.0,0.0,0.0,0.0,0.0,0.0,0.0,0.0,0.0,0.0,0.0,0.0,0.0,0.0,0.0,0.0,0.0,0.0,0.0,0.0,0.0,0.0,0.0,0.0,0.0,0.0],\"type\":\"bar\",\"xaxis\":\"x3\",\"yaxis\":\"y3\"},{\"name\":\"#Idle\",\"x\":[0.0,1.0,2.0,3.0,4.0,5.0,6.0,7.0,8.0,9.0,10.0,11.0,12.0,13.0,14.0,15.0,16.0,17.0,18.0,19.0,20.0,21.0,22.0,23.0,24.0,25.0,26.0,27.0,28.0,29.0,30.0,31.0,32.0,33.0,34.0,35.0,36.0,37.0,38.0,39.0,40.0,41.0,42.0,43.0,44.0,45.0,46.0,47.0,48.0,49.0,50.0,51.0,52.0,53.0,54.0,55.0,56.0,57.0,58.0,59.0,60.0,61.0,62.0,63.0,64.0,65.0,66.0,67.0,68.0,69.0,70.0,71.0,72.0,73.0,74.0],\"y\":[0.0,0.0,0.0,0.0,0.0,0.0,0.0,0.0,0.0,0.0,1.0,0.0,0.0,1.0,1.0,2.0,0.0,1.0,3.0,2.0,6.0,0.0,3.0,2.0,2.0,1.0,1.0,4.0,24.0,58.0,59.0,70.0,63.0,72.0,81.0,82.0,75.0,93.0,105.0,100.0,98.0,109.0,151.0,234.0,258.0,266.0,266.0,266.0,266.0,266.0,266.0,266.0,266.0,266.0,266.0,266.0,266.0,266.0,266.0,266.0,266.0,266.0,266.0,266.0,266.0,266.0,266.0,266.0,266.0,266.0,266.0,266.0,266.0,266.0,266.0],\"type\":\"bar\",\"xaxis\":\"x3\",\"yaxis\":\"y3\"},{\"mode\":\"lines\",\"name\":\"NonPr\",\"x\":[0.0,1.0,2.0,3.0,4.0,5.0,6.0,7.0,8.0,9.0,10.0,11.0,12.0,13.0,14.0,15.0,16.0,17.0,18.0,19.0,20.0,21.0,22.0,23.0,24.0,25.0,26.0,27.0,28.0,29.0,30.0,31.0,32.0,33.0,34.0,35.0,36.0,37.0,38.0,39.0,40.0,41.0,42.0,43.0,44.0,45.0,46.0,47.0,48.0,49.0,50.0,51.0,52.0,53.0,54.0,55.0,56.0,57.0,58.0,59.0,60.0,61.0,62.0,63.0,64.0,65.0,66.0,67.0,68.0,69.0,70.0,71.0,72.0,73.0,74.0],\"y\":[299.0,299.0,297.0,297.0,297.0,297.0,294.0,292.0,292.0,289.0,286.0,285.0,278.0,276.0,272.0,266.0,261.0,250.0,242.0,234.0,229.0,225.0,219.0,215.0,209.0,200.0,197.0,189.0,181.0,174.0,164.0,155.0,143.0,131.0,119.0,105.0,91.0,75.0,59.0,41.0,18.0,0.0,0.0,0.0,0.0,0.0,0.0,0.0,0.0,0.0,0.0,0.0,0.0,0.0,0.0,0.0,0.0,0.0,0.0,0.0,0.0,0.0,0.0,0.0,0.0,0.0,0.0,0.0,0.0,0.0,0.0,0.0,0.0,0.0,0.0],\"type\":\"scatter\",\"xaxis\":\"x2\",\"yaxis\":\"y2\"},{\"mode\":\"lines\",\"name\":\"Printable\",\"x\":[0.0,1.0,2.0,3.0,4.0,5.0,6.0,7.0,8.0,9.0,10.0,11.0,12.0,13.0,14.0,15.0,16.0,17.0,18.0,19.0,20.0,21.0,22.0,23.0,24.0,25.0,26.0,27.0,28.0,29.0,30.0,31.0,32.0,33.0,34.0,35.0,36.0,37.0,38.0,39.0,40.0,41.0,42.0,43.0,44.0,45.0,46.0,47.0,48.0,49.0,50.0,51.0,52.0,53.0,54.0,55.0,56.0,57.0,58.0,59.0,60.0,61.0,62.0,63.0,64.0,65.0,66.0,67.0,68.0,69.0,70.0,71.0,72.0,73.0,74.0],\"y\":[99.0,99.0,96.0,96.0,97.0,97.0,92.0,88.0,89.0,83.0,79.0,79.0,68.0,66.0,61.0,52.0,46.0,28.0,17.0,5.0,3.0,4.0,2.0,4.0,6.0,1.0,9.0,7.0,6.0,8.0,5.0,7.0,4.0,1.0,3.0,1.0,3.0,3.0,9.0,10.0,3.0,8.0,49.0,49.0,49.0,49.0,49.0,49.0,49.0,49.0,49.0,49.0,49.0,49.0,49.0,49.0,49.0,49.0,49.0,49.0,49.0,49.0,49.0,49.0,49.0,49.0,49.0,49.0,49.0,49.0,49.0,49.0,49.0,49.0,49.0],\"type\":\"scatter\",\"xaxis\":\"x2\",\"yaxis\":\"y2\"},{\"mode\":\"lines\",\"name\":\"Materials\",\"x\":[0.0,1.0,2.0,3.0,4.0,5.0,6.0,7.0,8.0,9.0,10.0,11.0,12.0,13.0,14.0,15.0,16.0,17.0,18.0,19.0,20.0,21.0,22.0,23.0,24.0,25.0,26.0,27.0,28.0,29.0,30.0,31.0,32.0,33.0,34.0,35.0,36.0,37.0,38.0,39.0,40.0,41.0,42.0,43.0,44.0,45.0,46.0,47.0,48.0,49.0,50.0,51.0,52.0,53.0,54.0,55.0,56.0,57.0,58.0,59.0,60.0,61.0,62.0,63.0,64.0,65.0,66.0,67.0,68.0,69.0,70.0,71.0,72.0,73.0,74.0],\"y\":[49.0,49.0,49.0,51.0,52.0,54.0,55.0,58.0,61.0,65.0,67.0,70.0,74.0,81.0,88.0,96.0,105.0,116.0,129.0,147.0,167.0,194.0,223.0,255.0,289.0,319.0,354.0,395.0,406.0,390.0,373.0,353.0,332.0,311.0,285.0,259.0,229.0,197.0,159.0,122.0,83.0,42.0,1.0,1.0,1.0,1.0,1.0,1.0,1.0,1.0,1.0,1.0,1.0,1.0,1.0,1.0,1.0,1.0,1.0,1.0,1.0,1.0,1.0,1.0,1.0,1.0,1.0,1.0,1.0,1.0,1.0,1.0,1.0,1.0,1.0],\"type\":\"scatter\",\"xaxis\":\"x2\",\"yaxis\":\"y2\"},{\"mode\":\"lines\",\"name\":\"Env_Materials\",\"x\":[0.0,1.0,2.0,3.0,4.0,5.0,6.0,7.0,8.0,9.0,10.0,11.0,12.0,13.0,14.0,15.0,16.0,17.0,18.0,19.0,20.0,21.0,22.0,23.0,24.0,25.0,26.0,27.0,28.0,29.0,30.0,31.0,32.0,33.0,34.0,35.0,36.0,37.0,38.0,39.0,40.0,41.0,42.0,43.0,44.0,45.0,46.0,47.0,48.0,49.0,50.0,51.0,52.0,53.0,54.0,55.0,56.0,57.0,58.0,59.0,60.0,61.0,62.0,63.0,64.0,65.0,66.0,67.0,68.0,69.0,70.0,71.0,72.0,73.0,74.0],\"y\":[500.0,500.0,499.0,497.0,495.0,493.0,491.0,488.0,484.0,480.0,476.0,471.0,464.0,455.0,445.0,434.0,421.0,406.0,388.0,366.0,338.0,302.0,263.0,221.0,173.0,130.0,81.0,26.0,0.0,0.0,0.0,0.0,0.0,0.0,0.0,0.0,0.0,0.0,0.0,0.0,0.0,0.0,0.0,0.0,0.0,0.0,0.0,0.0,0.0,0.0,0.0,0.0,0.0,0.0,0.0,0.0,0.0,0.0,0.0,0.0,0.0,0.0,0.0,0.0,0.0,0.0,0.0,0.0,0.0,0.0,0.0,0.0,0.0,0.0,0.0],\"type\":\"scatter\",\"xaxis\":\"x2\",\"yaxis\":\"y2\"},{\"mode\":\"lines\",\"name\":\"Avg. Quality #in\",\"x\":[0.0,1.0,2.0,3.0,4.0,5.0,6.0,7.0,8.0,9.0,10.0,11.0,12.0,13.0,14.0,15.0,16.0,17.0,18.0,19.0,20.0,21.0,22.0,23.0,24.0,25.0,26.0,27.0,28.0,29.0,30.0,31.0,32.0,33.0,34.0,35.0,36.0,37.0,38.0,39.0,40.0,41.0,42.0,43.0,44.0,45.0,46.0,47.0,48.0,49.0,50.0,51.0,52.0,53.0,54.0,55.0,56.0,57.0,58.0,59.0,60.0,61.0,62.0,63.0,64.0,65.0,66.0,67.0,68.0,69.0,70.0,71.0,72.0,73.0,74.0],\"y\":[0.939,0.939,0.91,0.91,0.91,0.91,0.877,0.814,0.814,0.784,0.721,0.71,0.695,0.664,0.63,0.581,0.593,0.594,0.554,0.536,0.492,0.502,0.495,0.482,0.477,0.472,0.485,0.465,0.46,0.457,0.449,0.452,0.448,0.447,0.44,0.439,0.437,0.432,0.406,0.4,0.393,0.388,0.388,0.386,0.38,0.374,0.374,0.374,0.374,0.374,0.374,0.374,0.374,0.374,0.374,0.374,0.374,0.374,0.374,0.374,0.374,0.374,0.374,0.374,0.374,0.374,0.374,0.374,0.374,0.374,0.374,0.374,0.374,0.374,0.374],\"type\":\"scatter\",\"xaxis\":\"x4\",\"yaxis\":\"y4\"},{\"mode\":\"lines\",\"name\":\"Avg. Quality #total\",\"x\":[0.0,1.0,2.0,3.0,4.0,5.0,6.0,7.0,8.0,9.0,10.0,11.0,12.0,13.0,14.0,15.0,16.0,17.0,18.0,19.0,20.0,21.0,22.0,23.0,24.0,25.0,26.0,27.0,28.0,29.0,30.0,31.0,32.0,33.0,34.0,35.0,36.0,37.0,38.0,39.0,40.0,41.0,42.0,43.0,44.0,45.0,46.0,47.0,48.0,49.0,50.0,51.0,52.0,53.0,54.0,55.0,56.0,57.0,58.0,59.0,60.0,61.0,62.0,63.0,64.0,65.0,66.0,67.0,68.0,69.0,70.0,71.0,72.0,73.0,74.0],\"y\":[0.939,0.939,0.91,0.91,0.91,0.91,0.877,0.814,0.814,0.784,0.754,0.738,0.716,0.697,0.679,0.648,0.653,0.652,0.628,0.615,0.598,0.602,0.6,0.593,0.585,0.583,0.593,0.586,0.584,0.58,0.578,0.574,0.572,0.569,0.563,0.561,0.56,0.552,0.54,0.537,0.532,0.528,0.527,0.525,0.521,0.519,0.519,0.519,0.519,0.519,0.519,0.519,0.519,0.519,0.519,0.519,0.519,0.519,0.519,0.519,0.519,0.519,0.519,0.519,0.519,0.519,0.519,0.519,0.519,0.519,0.519,0.519,0.519,0.519,0.519],\"type\":\"scatter\",\"xaxis\":\"x4\",\"yaxis\":\"y4\"}],                        {\"template\":{\"data\":{\"histogram2dcontour\":[{\"type\":\"histogram2dcontour\",\"colorbar\":{\"outlinewidth\":0,\"ticks\":\"\"},\"colorscale\":[[0.0,\"#0d0887\"],[0.1111111111111111,\"#46039f\"],[0.2222222222222222,\"#7201a8\"],[0.3333333333333333,\"#9c179e\"],[0.4444444444444444,\"#bd3786\"],[0.5555555555555556,\"#d8576b\"],[0.6666666666666666,\"#ed7953\"],[0.7777777777777778,\"#fb9f3a\"],[0.8888888888888888,\"#fdca26\"],[1.0,\"#f0f921\"]]}],\"choropleth\":[{\"type\":\"choropleth\",\"colorbar\":{\"outlinewidth\":0,\"ticks\":\"\"}}],\"histogram2d\":[{\"type\":\"histogram2d\",\"colorbar\":{\"outlinewidth\":0,\"ticks\":\"\"},\"colorscale\":[[0.0,\"#0d0887\"],[0.1111111111111111,\"#46039f\"],[0.2222222222222222,\"#7201a8\"],[0.3333333333333333,\"#9c179e\"],[0.4444444444444444,\"#bd3786\"],[0.5555555555555556,\"#d8576b\"],[0.6666666666666666,\"#ed7953\"],[0.7777777777777778,\"#fb9f3a\"],[0.8888888888888888,\"#fdca26\"],[1.0,\"#f0f921\"]]}],\"heatmap\":[{\"type\":\"heatmap\",\"colorbar\":{\"outlinewidth\":0,\"ticks\":\"\"},\"colorscale\":[[0.0,\"#0d0887\"],[0.1111111111111111,\"#46039f\"],[0.2222222222222222,\"#7201a8\"],[0.3333333333333333,\"#9c179e\"],[0.4444444444444444,\"#bd3786\"],[0.5555555555555556,\"#d8576b\"],[0.6666666666666666,\"#ed7953\"],[0.7777777777777778,\"#fb9f3a\"],[0.8888888888888888,\"#fdca26\"],[1.0,\"#f0f921\"]]}],\"heatmapgl\":[{\"type\":\"heatmapgl\",\"colorbar\":{\"outlinewidth\":0,\"ticks\":\"\"},\"colorscale\":[[0.0,\"#0d0887\"],[0.1111111111111111,\"#46039f\"],[0.2222222222222222,\"#7201a8\"],[0.3333333333333333,\"#9c179e\"],[0.4444444444444444,\"#bd3786\"],[0.5555555555555556,\"#d8576b\"],[0.6666666666666666,\"#ed7953\"],[0.7777777777777778,\"#fb9f3a\"],[0.8888888888888888,\"#fdca26\"],[1.0,\"#f0f921\"]]}],\"contourcarpet\":[{\"type\":\"contourcarpet\",\"colorbar\":{\"outlinewidth\":0,\"ticks\":\"\"}}],\"contour\":[{\"type\":\"contour\",\"colorbar\":{\"outlinewidth\":0,\"ticks\":\"\"},\"colorscale\":[[0.0,\"#0d0887\"],[0.1111111111111111,\"#46039f\"],[0.2222222222222222,\"#7201a8\"],[0.3333333333333333,\"#9c179e\"],[0.4444444444444444,\"#bd3786\"],[0.5555555555555556,\"#d8576b\"],[0.6666666666666666,\"#ed7953\"],[0.7777777777777778,\"#fb9f3a\"],[0.8888888888888888,\"#fdca26\"],[1.0,\"#f0f921\"]]}],\"surface\":[{\"type\":\"surface\",\"colorbar\":{\"outlinewidth\":0,\"ticks\":\"\"},\"colorscale\":[[0.0,\"#0d0887\"],[0.1111111111111111,\"#46039f\"],[0.2222222222222222,\"#7201a8\"],[0.3333333333333333,\"#9c179e\"],[0.4444444444444444,\"#bd3786\"],[0.5555555555555556,\"#d8576b\"],[0.6666666666666666,\"#ed7953\"],[0.7777777777777778,\"#fb9f3a\"],[0.8888888888888888,\"#fdca26\"],[1.0,\"#f0f921\"]]}],\"mesh3d\":[{\"type\":\"mesh3d\",\"colorbar\":{\"outlinewidth\":0,\"ticks\":\"\"}}],\"scatter\":[{\"fillpattern\":{\"fillmode\":\"overlay\",\"size\":10,\"solidity\":0.2},\"type\":\"scatter\"}],\"parcoords\":[{\"type\":\"parcoords\",\"line\":{\"colorbar\":{\"outlinewidth\":0,\"ticks\":\"\"}}}],\"scatterpolargl\":[{\"type\":\"scatterpolargl\",\"marker\":{\"colorbar\":{\"outlinewidth\":0,\"ticks\":\"\"}}}],\"bar\":[{\"error_x\":{\"color\":\"#2a3f5f\"},\"error_y\":{\"color\":\"#2a3f5f\"},\"marker\":{\"line\":{\"color\":\"#E5ECF6\",\"width\":0.5},\"pattern\":{\"fillmode\":\"overlay\",\"size\":10,\"solidity\":0.2}},\"type\":\"bar\"}],\"scattergeo\":[{\"type\":\"scattergeo\",\"marker\":{\"colorbar\":{\"outlinewidth\":0,\"ticks\":\"\"}}}],\"scatterpolar\":[{\"type\":\"scatterpolar\",\"marker\":{\"colorbar\":{\"outlinewidth\":0,\"ticks\":\"\"}}}],\"histogram\":[{\"marker\":{\"pattern\":{\"fillmode\":\"overlay\",\"size\":10,\"solidity\":0.2}},\"type\":\"histogram\"}],\"scattergl\":[{\"type\":\"scattergl\",\"marker\":{\"colorbar\":{\"outlinewidth\":0,\"ticks\":\"\"}}}],\"scatter3d\":[{\"type\":\"scatter3d\",\"line\":{\"colorbar\":{\"outlinewidth\":0,\"ticks\":\"\"}},\"marker\":{\"colorbar\":{\"outlinewidth\":0,\"ticks\":\"\"}}}],\"scattermapbox\":[{\"type\":\"scattermapbox\",\"marker\":{\"colorbar\":{\"outlinewidth\":0,\"ticks\":\"\"}}}],\"scatterternary\":[{\"type\":\"scatterternary\",\"marker\":{\"colorbar\":{\"outlinewidth\":0,\"ticks\":\"\"}}}],\"scattercarpet\":[{\"type\":\"scattercarpet\",\"marker\":{\"colorbar\":{\"outlinewidth\":0,\"ticks\":\"\"}}}],\"carpet\":[{\"aaxis\":{\"endlinecolor\":\"#2a3f5f\",\"gridcolor\":\"white\",\"linecolor\":\"white\",\"minorgridcolor\":\"white\",\"startlinecolor\":\"#2a3f5f\"},\"baxis\":{\"endlinecolor\":\"#2a3f5f\",\"gridcolor\":\"white\",\"linecolor\":\"white\",\"minorgridcolor\":\"white\",\"startlinecolor\":\"#2a3f5f\"},\"type\":\"carpet\"}],\"table\":[{\"cells\":{\"fill\":{\"color\":\"#EBF0F8\"},\"line\":{\"color\":\"white\"}},\"header\":{\"fill\":{\"color\":\"#C8D4E3\"},\"line\":{\"color\":\"white\"}},\"type\":\"table\"}],\"barpolar\":[{\"marker\":{\"line\":{\"color\":\"#E5ECF6\",\"width\":0.5},\"pattern\":{\"fillmode\":\"overlay\",\"size\":10,\"solidity\":0.2}},\"type\":\"barpolar\"}],\"pie\":[{\"automargin\":true,\"type\":\"pie\"}]},\"layout\":{\"autotypenumbers\":\"strict\",\"colorway\":[\"#636efa\",\"#EF553B\",\"#00cc96\",\"#ab63fa\",\"#FFA15A\",\"#19d3f3\",\"#FF6692\",\"#B6E880\",\"#FF97FF\",\"#FECB52\"],\"font\":{\"color\":\"#2a3f5f\"},\"hovermode\":\"closest\",\"hoverlabel\":{\"align\":\"left\"},\"paper_bgcolor\":\"white\",\"plot_bgcolor\":\"#E5ECF6\",\"polar\":{\"bgcolor\":\"#E5ECF6\",\"angularaxis\":{\"gridcolor\":\"white\",\"linecolor\":\"white\",\"ticks\":\"\"},\"radialaxis\":{\"gridcolor\":\"white\",\"linecolor\":\"white\",\"ticks\":\"\"}},\"ternary\":{\"bgcolor\":\"#E5ECF6\",\"aaxis\":{\"gridcolor\":\"white\",\"linecolor\":\"white\",\"ticks\":\"\"},\"baxis\":{\"gridcolor\":\"white\",\"linecolor\":\"white\",\"ticks\":\"\"},\"caxis\":{\"gridcolor\":\"white\",\"linecolor\":\"white\",\"ticks\":\"\"}},\"coloraxis\":{\"colorbar\":{\"outlinewidth\":0,\"ticks\":\"\"}},\"colorscale\":{\"sequential\":[[0.0,\"#0d0887\"],[0.1111111111111111,\"#46039f\"],[0.2222222222222222,\"#7201a8\"],[0.3333333333333333,\"#9c179e\"],[0.4444444444444444,\"#bd3786\"],[0.5555555555555556,\"#d8576b\"],[0.6666666666666666,\"#ed7953\"],[0.7777777777777778,\"#fb9f3a\"],[0.8888888888888888,\"#fdca26\"],[1.0,\"#f0f921\"]],\"sequentialminus\":[[0.0,\"#0d0887\"],[0.1111111111111111,\"#46039f\"],[0.2222222222222222,\"#7201a8\"],[0.3333333333333333,\"#9c179e\"],[0.4444444444444444,\"#bd3786\"],[0.5555555555555556,\"#d8576b\"],[0.6666666666666666,\"#ed7953\"],[0.7777777777777778,\"#fb9f3a\"],[0.8888888888888888,\"#fdca26\"],[1.0,\"#f0f921\"]],\"diverging\":[[0,\"#8e0152\"],[0.1,\"#c51b7d\"],[0.2,\"#de77ae\"],[0.3,\"#f1b6da\"],[0.4,\"#fde0ef\"],[0.5,\"#f7f7f7\"],[0.6,\"#e6f5d0\"],[0.7,\"#b8e186\"],[0.8,\"#7fbc41\"],[0.9,\"#4d9221\"],[1,\"#276419\"]]},\"xaxis\":{\"gridcolor\":\"white\",\"linecolor\":\"white\",\"ticks\":\"\",\"title\":{\"standoff\":15},\"zerolinecolor\":\"white\",\"automargin\":true,\"zerolinewidth\":2},\"yaxis\":{\"gridcolor\":\"white\",\"linecolor\":\"white\",\"ticks\":\"\",\"title\":{\"standoff\":15},\"zerolinecolor\":\"white\",\"automargin\":true,\"zerolinewidth\":2},\"scene\":{\"xaxis\":{\"backgroundcolor\":\"#E5ECF6\",\"gridcolor\":\"white\",\"linecolor\":\"white\",\"showbackground\":true,\"ticks\":\"\",\"zerolinecolor\":\"white\",\"gridwidth\":2},\"yaxis\":{\"backgroundcolor\":\"#E5ECF6\",\"gridcolor\":\"white\",\"linecolor\":\"white\",\"showbackground\":true,\"ticks\":\"\",\"zerolinecolor\":\"white\",\"gridwidth\":2},\"zaxis\":{\"backgroundcolor\":\"#E5ECF6\",\"gridcolor\":\"white\",\"linecolor\":\"white\",\"showbackground\":true,\"ticks\":\"\",\"zerolinecolor\":\"white\",\"gridwidth\":2}},\"shapedefaults\":{\"line\":{\"color\":\"#2a3f5f\"}},\"annotationdefaults\":{\"arrowcolor\":\"#2a3f5f\",\"arrowhead\":0,\"arrowwidth\":1},\"geo\":{\"bgcolor\":\"white\",\"landcolor\":\"#E5ECF6\",\"subunitcolor\":\"white\",\"showland\":true,\"showlakes\":true,\"lakecolor\":\"white\"},\"title\":{\"x\":0.05},\"mapbox\":{\"style\":\"light\"}}},\"xaxis\":{\"anchor\":\"y\",\"domain\":[0.0,0.45]},\"yaxis\":{\"anchor\":\"x\",\"domain\":[0.625,1.0]},\"xaxis2\":{\"anchor\":\"y2\",\"domain\":[0.55,1.0]},\"yaxis2\":{\"anchor\":\"x2\",\"domain\":[0.625,1.0]},\"xaxis3\":{\"anchor\":\"y3\",\"domain\":[0.0,0.45]},\"yaxis3\":{\"anchor\":\"x3\",\"domain\":[0.0,0.375]},\"xaxis4\":{\"anchor\":\"y4\",\"domain\":[0.55,1.0]},\"yaxis4\":{\"anchor\":\"x4\",\"domain\":[0.0,0.375]},\"annotations\":[{\"font\":{\"size\":16},\"showarrow\":false,\"text\":\"Types of Robots vs Time\",\"x\":0.225,\"xanchor\":\"center\",\"xref\":\"paper\",\"y\":1.0,\"yanchor\":\"bottom\",\"yref\":\"paper\"},{\"font\":{\"size\":16},\"showarrow\":false,\"text\":\"Resources vs Time\",\"x\":0.775,\"xanchor\":\"center\",\"xref\":\"paper\",\"y\":1.0,\"yanchor\":\"bottom\",\"yref\":\"paper\"},{\"font\":{\"size\":16},\"showarrow\":false,\"text\":\"Tasks of Robots vs Time\",\"x\":0.225,\"xanchor\":\"center\",\"xref\":\"paper\",\"y\":0.375,\"yanchor\":\"bottom\",\"yref\":\"paper\"},{\"font\":{\"size\":16},\"showarrow\":false,\"text\":\"Build Quality vs Time\",\"x\":0.775,\"xanchor\":\"center\",\"xref\":\"paper\",\"y\":0.375,\"yanchor\":\"bottom\",\"yref\":\"paper\"}],\"hovermode\":\"x\",\"title\":{\"text\":\"HHE - Characteristics\"}},                        {\"responsive\": true}                    ).then(function(){\n",
       "                            \n",
       "var gd = document.getElementById('60013fd1-29a9-48ea-8e47-dbded104c34c');\n",
       "var x = new MutationObserver(function (mutations, observer) {{\n",
       "        var display = window.getComputedStyle(gd).display;\n",
       "        if (!display || display === 'none') {{\n",
       "            console.log([gd, 'removed!']);\n",
       "            Plotly.purge(gd);\n",
       "            observer.disconnect();\n",
       "        }}\n",
       "}});\n",
       "\n",
       "// Listen for the removal of the full notebook cells\n",
       "var notebookContainer = gd.closest('#notebook-container');\n",
       "if (notebookContainer) {{\n",
       "    x.observe(notebookContainer, {childList: true});\n",
       "}}\n",
       "\n",
       "// Listen for the clearing of the current output cell\n",
       "var outputEl = gd.closest('.output');\n",
       "if (outputEl) {{\n",
       "    x.observe(outputEl, {childList: true});\n",
       "}}\n",
       "\n",
       "                        })                };                });            </script>        </div>"
      ]
     },
     "metadata": {},
     "output_type": "display_data"
    }
   ],
   "source": [
    "if __name__ == \"__main__\":\n",
    "    main(\"CHO\",75) #2000\n",
    "    main(\"DHO\",75)\n",
    "    main(\"HHO\",75)\n",
    "    main(\"CHE\",75) #1500\n",
    "    main(\"DHE\",75)\n",
    "    main(\"HHE\",75)"
   ]
  },
  {
   "cell_type": "code",
   "execution_count": null,
   "id": "a82b21e9",
   "metadata": {},
   "outputs": [],
   "source": []
  },
  {
   "cell_type": "code",
   "execution_count": null,
   "id": "973e6087",
   "metadata": {},
   "outputs": [],
   "source": []
  }
 ],
 "metadata": {
  "kernelspec": {
   "display_name": "Python 3 (ipykernel)",
   "language": "python",
   "name": "python3"
  },
  "language_info": {
   "codemirror_mode": {
    "name": "ipython",
    "version": 3
   },
   "file_extension": ".py",
   "mimetype": "text/x-python",
   "name": "python",
   "nbconvert_exporter": "python",
   "pygments_lexer": "ipython3",
   "version": "3.9.12"
  }
 },
 "nbformat": 4,
 "nbformat_minor": 5
}
