{
 "cells": [
  {
   "cell_type": "markdown",
   "id": "b6b27e0b",
   "metadata": {},
   "source": [
    "# Self-Replicating Robot System Configurations\n",
    "\n",
    "|ID|Design Option|Characteristics|\n",
    "|-|-|-|\n",
    "|1|Centralized homogeneous (CHO)|One robot is responsible for both printing components and assembling them. Constructed robots are of the normal type and either gather resources or complete other objectives.|\n",
    "|2|Decentralized homogeneous (DHO)| All robots have the capability to print components, assemble them, and gather resources or complete other objectives.|\n",
    "|3|Hierarchical homogeneous (HHO)|There are a variable number of robots capable of printing components and assembling them. There are also a variable number of normal type robots.|\n",
    "|4|Centralized heterogeneous (CHE)|One robot is responsible for printing components, and another (distinct) robot is responsible for assembling them. Constructed robots are of the normal type and either gather resources or complete other objectives.|\n",
    "|5|Decentralized heterogeneous (DHE)|Robots have either the capability to print components or the capability to assemble them. All robots can gather resources or complete other objectives.|\n",
    "|6|Hierarchical heterogeneous (CHE)|There are a variable number of robots capable of printing components, a variable number capable of assembling them (distinct from the printing group), and a variable number of normal type robots. All robots can gather resources or complete other objectives.|\n",
    "\n"
   ]
  },
  {
   "cell_type": "markdown",
   "id": "93fcd801",
   "metadata": {},
   "source": [
    "# Libraries "
   ]
  },
  {
   "cell_type": "code",
   "execution_count": 336,
   "id": "9a2484fd",
   "metadata": {},
   "outputs": [
    {
     "name": "stdout",
     "output_type": "stream",
     "text": [
      "3.9.14\n"
     ]
    }
   ],
   "source": [
    "import platform\n",
    "print(platform.python_version())"
   ]
  },
  {
   "cell_type": "code",
   "execution_count": 337,
   "id": "c5caec0a",
   "metadata": {},
   "outputs": [],
   "source": [
    "import random\n",
    "import math\n",
    "import numpy as np\n",
    "import pandas as pd\n",
    "pd.set_option('display.max_columns', None)\n",
    "import matplotlib.pyplot as plt\n",
    "import sys\n",
    "from matplotlib.patches import Rectangle\n",
    "import os\n",
    "\n",
    "from _plotly_future_ import v4_subplots\n",
    "import plotly\n",
    "import plotly.io as pio\n",
    "import numpy as np\n",
    "import chart_studio\n",
    "import chart_studio.plotly as cspy\n",
    "import chart_studio.tools as tls\n",
    "\n",
    "from plotly.subplots import make_subplots\n",
    "import plotly.graph_objects as go\n",
    "\n",
    "\n",
    "import plotly.express as px\n",
    "\n",
    "username = 'vishalgattani' # your username\\n\",\n",
    "api_key = 'WSy2EFPTbxYYm3Rmcx53' # your api key - go to profile > settings > regenerate key\\n\",\n",
    "chart_studio.tools.set_credentials_file(username=username, api_key=api_key)\n"
   ]
  },
  {
   "cell_type": "markdown",
   "id": "9ca83a64",
   "metadata": {},
   "source": [
    "# Global Variables"
   ]
  },
  {
   "cell_type": "code",
   "execution_count": 338,
   "id": "19883ecb",
   "metadata": {},
   "outputs": [],
   "source": [
    "\n",
    "\n",
    "# set random number generator\n",
    "random.seed()\n",
    "\n",
    "# global variables\n",
    "rid = 1\n",
    "nid = 0\n",
    "aid = 0\n",
    "pid = 0\n",
    "decimalPlaces = 3\n",
    "\n",
    "# simulation parameters\n",
    "mc = False\n",
    "mc_num_steps = 500\n",
    "numTasksBeforeFail = 5\n",
    "timesteps = 100\t\t\t\t#; % Number of iterations/time-steps that the simulation goes through.\n",
    "NonPr = 300.0 \t\t\t\t#; % The robot system=s starting quantity of nonprintable components.\n",
    "Printable = 100.0 \t\t\t#; % The robot system’s starting quantity of printable components.\n",
    "Materials = 50.0 \t\t\t#; % The robot system’s starting quantity of raw printing materials.\n",
    "Env_Materials = 500.0 \t\t#; % The environment’s quantity of collectable raw printing materials.\n",
    "BaseCost_NonPr = 1 \t\t\t#; % Base robot cost of nonprintable components.\n",
    "PrintCost_NonPr = 1 \t\t#; % Print capability cost of nonprintable components.\n",
    "AssembleCost_NonPr = 1 \t\t#; % Assemble capability cost of nonprintable components.\n",
    "BaseCost_Pr = 2 \t\t\t#; % Base robot cost of printable components.\n",
    "PrintCost_Pr = 2 \t\t\t#; % Print capability cost of printable components.\n",
    "AssembleCost_Pr = 2 \t\t#; % Assemble capability cost of printable components.\n",
    "BaseCost_Time = 2 \t\t\t#; % Base robot cost of build time (in time-steps).\n",
    "PrintCost_Time = 2 \t\t\t#; % Print capability cost of build time (in time-steps).\n",
    "AssembleCost_Time = 2 \t\t#; % Assemble capability cost of build time (in time-steps).\n",
    "Print_Efficiency = 1.0 \t\t#; % Factor that scales raw printing materials to printable components.\n",
    "Print_Amount = 1.0 \t\t\t#; % Amount of raw materials converted per print task.\n",
    "Collect_Amount = 1.0 \t\t#; % Raw printing materials per collecting robot per timestep.\n",
    "QualityThreshold = 0.5 \t\t#; % Robots with a quality below this are non-functional.\n",
    "Quality_incr_Chance = 5.0 \t#; % Chance that a new robot’s build quality will increase.\n",
    "Quality_incr_Lower = 0.01 \t#; % Lower bound for quality increase amount.\n",
    "Quality_incr_Upper = 0.05 \t#; % Upper bound for quality increase amount.\n",
    "Quality_decr_Chance = 50.0 \t#; % Chance that a new robot s build quality will decrease.\n",
    "Quality_decr_Lower = 0.01 \t#; % Lower bound for quality decrease amount.\n",
    "Quality_decr_Upper = 0.25 \t#; % Upper bound for quality decrease amount.\n",
    "RiskAmount_Collect = 1.0 \t#; % Risk chance for the collect task type.\n",
    "RiskAmount_Assemble = 0.1 \t#; % Risk chance for the assemble task type.\n",
    "RiskAmount_Print = 0.1 \t\t#; % Risk chance for the print task type.\n",
    "RiskQuality_Modifier = 1.0 \t#; % Multiplier for impact of quality defects on risk amount.\n",
    "RiskFactory_Modifier = 0.2 \t#; % Multiplier for impact of factory-made robots on risk amount\n",
    "RiskThreshold = 3.0\n",
    "# [replicator,normal,assembler,printer]\n",
    "cost_Pr = [6,2,4,4]\t\t\t#; % Total cost printable\n",
    "cost_NonPr = [3,1,2,2]\t\t#; % Total cost nonprintable\n",
    "\n",
    "timecost_base = 2\t\t\t#; % time cost basic\n",
    "timecost_print = 2\t\t\t#; % time cost print capability\n",
    "timecost_assemble = 2\t\t#; % time cost assemble capability\n",
    "\n",
    "timecost_normal = timecost_base\n",
    "timecost_replicator = timecost_base+timecost_assemble+timecost_print\n",
    "timecost_printer = timecost_base+timecost_print\n",
    "timecost_assembler = timecost_base+timecost_assemble\n",
    "\n",
    "timecost_repair_base = 1\n",
    "timecost_repair_normal = timecost_repair_base\n",
    "timecost_repair_replicator = timecost_repair_base\n",
    "timecost_repair_printer = timecost_repair_base\n",
    "timecost_repair_assembler = timecost_repair_base\n",
    "\n",
    "table_columns = [\"Time\",\"NonPr\",\"Printable\",\"Materials\",\"Env_Materials\",\n",
    "\t\t\"#Replicator\",\"#Normal\",\"#Assembler\",\"#Printer\",\n",
    "\t\t\"#Assembling\",\"#Printing\",\"#Collecting\",\"#Idle\",\"#Repair\",\n",
    "\t\t\"#In\",\"#Out\",\n",
    "\t\t\"Average Build Quality in-service\",\"Average Build Quality of System\",\n",
    "\t\t\"#WasteReplicator\",\"#WasteNormal\",\"#WasteAssembler\",\"#WastePrinter\",\n",
    "\t\t\"Environment Exhaust Time\", \"Printable Exhaust Time\", \n",
    "\t\t\"NonPr Exhaust Time\",\"Material Exhaust Time\",\"Average Risk\"]\n",
    "\n",
    "\n",
    "# table_columns = [\"Time\",\"NonPr\",\"Printable\",\"Materials\",\"Env_Materials\",\n",
    "# \t\t\"#Replicator\",\"#Normal\",\"#Assembler\",\"#Printer\",\n",
    "# \t\t\"#Assembling\",\"#Printing\",\"#Collecting\",\"#Idle\",\n",
    "# \t\t\"#In\",\"#Out\",\n",
    "# \t\t\"Average Build Quality in-service\",\"Average Build Quality of System\",\n",
    "# \t\t\"#WasteReplicator\",\"#WasteNormal\",\"#WasteAssembler\",\"#WastePrinter\",\n",
    "# \t\t\"Environment Exhaust Time\", \"Printable Exhaust Time\", \n",
    "# \t\t\"NonPr Exhaust Time\",\"Material Exhaust Time\"]\n",
    "\n",
    "\n",
    "def resetGlobal(t,r,n,a,p):\n",
    "    global rid,nid,aid,pid,Num_Steps,NonPr,Printable,Materials,Env_Materials\n",
    "    \n",
    "    # global variables\n",
    "    rid = r\n",
    "    nid = n\n",
    "    aid = a\n",
    "    pid = p\n",
    "\n",
    "    # simulation parameters\n",
    "    Num_Steps = 100\t\t\t\t#; % Number of iterations/time-steps that the simulation goes through.\n",
    "    NonPr = 300.0 \t\t\t\t#; % The robot system=s starting quantity of nonprintable components.\n",
    "    Printable = 100.0 \t\t\t#; % The robot system’s starting quantity of printable components.\n",
    "    Materials = 50.0 \t\t\t#; % The robot system’s starting quantity of raw printing materials.\n",
    "    Env_Materials = 500.0 \t\t#; % The environment’s quantity of collectable raw printing materials.\n",
    "    timesteps = t\n"
   ]
  },
  {
   "cell_type": "markdown",
   "id": "863feea1",
   "metadata": {},
   "source": [
    "# Object::Robot"
   ]
  },
  {
   "cell_type": "code",
   "execution_count": 520,
   "id": "68ea171c",
   "metadata": {},
   "outputs": [],
   "source": [
    "# robot object\n",
    "class Robot:\n",
    "    def __init__(self,type,build_qual,id):\n",
    "        self.time = 0\n",
    "        self.type = type\n",
    "        self.current_task = \"idle\"\n",
    "        self.prev_task = \"idle\"\n",
    "        self.next_task = \"\"\n",
    "        self.id = self.type[0]+str(id)\n",
    "        self.build_qual = round(build_qual,decimalPlaces)\n",
    "        self.factory_made = True\n",
    "        self.tasks_dur = 0\n",
    "        self.taskindex = 0\n",
    "        self.previouslyBuilt = \"\"\n",
    "        self.prevTaskDur = 0\n",
    "        self.curr_repair_task_dur = 0\n",
    "        self.prev_repair_task_dur = 0\n",
    "        self.factory = False\n",
    "        self.riskAmount = 0\n",
    "        self.riskSet = False\n",
    "        self.numTasksSuccess = 0\n",
    "        self.numTasksFailed = 0\n",
    "        self.numTasksPerformed = 0\n",
    "        self.downTime = 0\n",
    "        self.failureTimes = [0]\n",
    "        self.operationalTimes = [0]\n",
    "        self.operationalTime = 0\n",
    "        self.MTBF = 0\n",
    "        self.MTTR = 0\n",
    "        self.MDT = 0\n",
    "        self.Aoss = 0\n",
    "        self.numRepairs = 0\n",
    "        self.beingBuilt = \"\"\n",
    "        self.numTasksBeforeFailure = 1\n",
    "        self.numTasksRemainingBeforeFailure = 1\n",
    "#         self.upTime = 1\n",
    "#         self.failTime = 5\n",
    "        \n",
    "        if(self.type == \"Replicator\"):\n",
    "            self.tasks = [\"Assemble\",\"Print\",\"Collect\",\"Repair\"]\n",
    "            self.beingbuiltlist = []\n",
    "        if(self.type == \"Normal\"):\n",
    "            self.tasks = [\"Collect\",\"Repairing\"]\n",
    "        if(self.type == \"Assembler\"):\n",
    "            self.tasks = [\"Assemble\",\"Collect\",\"Repair\"]\n",
    "            self.beingbuiltlist = []\n",
    "        if(self.type == \"Printer\"):\n",
    "            self.tasks = [\"Print\",\"Collect\",\"Repair\"]\n",
    "        self.num_tasks = len(self.tasks)\n",
    "        \n",
    "#     def getFailTime(self):\n",
    "#         return self.failTime\n",
    "\n",
    "    def reduceNumTasksRemainingBeforeFailure(self):\n",
    "        self.numTasksRemainingBeforeFailure=self.numTasksRemainingBeforeFailure-1\n",
    "    def resetNumTasksRemainingBeforeFailure(self):\n",
    "        self.numTasksRemainingBeforeFailure=self.numTasksBeforeFailure\n",
    "    def getNumTasksBeforeFailure(self):\n",
    "        return self.numTasksBeforeFailure\n",
    "    def getNumTasksRemainingBeforeFailure(self):\n",
    "        return self.numTasksRemainingBeforeFailure\n",
    "    def setNumTasksRemainingBeforeFailure(self,val):\n",
    "        self.numTasksRemainingBeforeFailure = val\n",
    "    \n",
    "    def set_being_built(self,robottype):\n",
    "        self.beingBuilt = robottype\n",
    "    def get_being_built(self):\n",
    "        return self.beingBuilt\n",
    "    def set_previously_built(self, val):\n",
    "        self.previouslyBuilt = val\n",
    "    def get_previously_built(self):\n",
    "        return self.previouslyBuilt\n",
    "    def setNumTasksPerformed(self):\n",
    "        self.numTasksPerformed = self.numTasksFailed+self.numTasksSuccess\n",
    "    def getNumTasksPerformed(self):\n",
    "        return self.numTasksPerformed\n",
    "    \n",
    "    def computeMTBF(self):\n",
    "        try:\n",
    "            if(self.operationalTime==0 and self.numTasksFailed>0):\n",
    "                self.MTBF = np.nan\n",
    "            else:\n",
    "                self.MTBF = self.operationalTime/self.numTasksFailed\n",
    "        except:\n",
    "            if self.getNumTasksPerformed() == 0:\n",
    "                self.MTBF = np.nan\n",
    "            else:\n",
    "                self.MTBF = self.operationalTime\n",
    "            \n",
    "    def computeMTTR(self):\n",
    "        try:\n",
    "            self.MTTR = self.downTime/self.numRepairs\n",
    "        except:\n",
    "            if self.getNumTasksPerformed() == 0:\n",
    "                self.MTTR = np.nan\n",
    "            elif(self.downTime == 0 or self.numRepairs==0):\n",
    "                self.MTTR = self.getMTBF()\n",
    "    def computeMDT(self):\n",
    "        try:\n",
    "            self.MDT = self.downTime/self.numTasksFailed\n",
    "        except:\n",
    "            if self.getNumTasksPerformed() == 0:\n",
    "                self.MDT = np.nan\n",
    "            elif(self.downTime == 0):\n",
    "                self.MDT = math.inf\n",
    "            \n",
    "    def computeAoss(self):\n",
    "        try:\n",
    "            if(self.numTasksFailed == 0 and self.downTime == 0):\n",
    "                self.Aoss =  self.MTBF/(self.MTBF+0)\n",
    "            else:\n",
    "                self.Aoss =  self.MTBF/(self.MTBF+self.MDT)\n",
    "        except:\n",
    "            if self.getNumTasksPerformed() == 0:\n",
    "                self.Aoss = np.nan\n",
    "            \n",
    "            \n",
    "    def computeRAM(self):\n",
    "        self.setNumTasksPerformed()\n",
    "        self.computeMTBF()\n",
    "        self.computeMTTR()\n",
    "        self.computeMDT()\n",
    "        self.computeAoss()\n",
    "        \n",
    "    def printRAM(self):\n",
    "        return (f'{self.id} - MTBF:{self.MTBF:.2f}, MTTR:{self.MTTR:.2f}, MDT:{self.MDT:.2f}, Aoss:{self.Aoss}')\n",
    "        \n",
    "    def getMTBF(self):\n",
    "        return self.MTBF \n",
    "    def getMTTR(self):\n",
    "        return self.MTTR \n",
    "    def getMDT(self):\n",
    "        return self.MDT \n",
    "    def getAoss(self):\n",
    "        return self.Aoss \n",
    "    \n",
    "    def addNumRepairs(self):\n",
    "        self.numRepairs += 1\n",
    "    \n",
    "    def taskFail(self):\n",
    "        self.numTasksFailed += 1\n",
    "    \n",
    "    def taskSuccess(self):\n",
    "        self.numTasksSuccess += 1\n",
    "        \n",
    "    def gettaskFail(self):\n",
    "        return self.numTasksFailed\n",
    "    \n",
    "    def gettaskSuccess(self):\n",
    "        return self.numTasksSuccess\n",
    "    \n",
    "    def get_type(self):\n",
    "        return self.type\n",
    "\n",
    "    def __str__(self):\n",
    "#         return str(self.id)+\" \"+str(self.current_task)+\" \"+str(self.riskAmount)+\",F:\"+str(self.numTasksFailed)+\",P:\"+str(self.numTasksPerformed)\n",
    "        try:\n",
    "            return str(f'{self.id},{self.current_task},{self.tasks_dur},tp:{self.gettaskSuccess()}')\n",
    "#             return str(self.id)+\" \"+str(self.current_task)+\" \"+str(self.get_task_dur())+\" \"+str(self.getPreviouslyBuilt())+\" \"+str(self.getbeingBuilt())\n",
    "        except:\n",
    "            return None\n",
    "        \n",
    "    def set_curr_task(self,tasktype):\n",
    "        self.current_task = tasktype\n",
    "        if(self.current_task == \"idle\"):\n",
    "            self.tasks_dur = 0\n",
    "        if(self.current_task == \"collecting\"):\n",
    "            self.tasks_dur = 1\n",
    "        if(self.current_task == \"assembling\"):\n",
    "            self.tasks_dur = 2\n",
    "        if(self.current_task == \"printing\"):\n",
    "            self.tasks_dur = 2\n",
    "        if(self.current_task == \"repair\"):\n",
    "            self.failureTimes.append(self.getRobotTime())\n",
    "            if(self.prev_task == \"repair\"):\n",
    "                self.curr_repair_task_dur = self.get_task_dur()\n",
    "                self.prev_repair_task_dur = self.curr_repair_task_dur\n",
    "                self.tasks_dur = self.get_prev_task_dur() + 1\n",
    "            else:\n",
    "                self.tasks_dur = self.get_prev_task_dur() \n",
    "            self.curr_repair_task_dur = self.tasks_dur\n",
    "            \n",
    "    def addDownTime(self,duration):\n",
    "        self.downTime += duration\n",
    "    def getDownTime(self):\n",
    "        return self.downTime\n",
    "    def addUpTime(self):\n",
    "        self.upTime += 1\n",
    "    def getUpTime(self):\n",
    "        return self.upTime\n",
    "    def resetUpTime(self):\n",
    "        self.upTime = 0\n",
    "    def addOperationalTime(self,duration):\n",
    "        self.operationalTime += duration\n",
    "    def getOperationalTime(self):\n",
    "        return self.operationalTime\n",
    "        \n",
    "    def setFactory(self):\n",
    "        self.factory = True\n",
    "    def setRobotTime(self,time):\n",
    "        self.time = time\n",
    "    def getRobotTime(self):\n",
    "        return self.time\n",
    "    # methods of robot object\n",
    "    def set_prev_task(self,tasktype):\n",
    "        self.prev_task = tasktype\n",
    "    def set_next_task(self,tasktype):\n",
    "        self.next_task = tasktype\n",
    "    def set_task_dur(self,task_dur):\n",
    "        self.tasks_dur = task_dur\n",
    "    def get_task_dur(self):\n",
    "        return self.tasks_dur\n",
    "    def get_robot_id(self):\n",
    "        return self.id\n",
    "    def get_buid_qual(self):\n",
    "        return self.build_qual\n",
    "    def get_curr_task(self):\n",
    "        return self.current_task\n",
    "    def get_prev_task(self):\n",
    "        return self.prev_task\n",
    "    def get_task_dur(self):\n",
    "        return self.tasks_dur\n",
    "    def get_prev_task_dur(self):\n",
    "        if(self.get_prev_task() == \"idle\"):\n",
    "            return 0\n",
    "        if(self.get_prev_task() == \"collecting\"):\n",
    "            return 1\n",
    "        if(self.get_prev_task() == \"assembling\"):\n",
    "            return 2\n",
    "        if(self.get_prev_task() == \"printing\"):\n",
    "            return 2\n",
    "        if(self.get_prev_task() == \"repair\"):\n",
    "            return self.prev_repair_task_dur \n",
    "#             return 2\n",
    "\n",
    "    \n",
    "    def setRiskAmount(self,risk):\n",
    "        self.riskAmount = risk\n",
    "        if risk>0.0:\n",
    "            self.riskSet = True\n",
    "        else:\n",
    "            self.riskSet = False\n",
    "    def getRiskAmount(self):\n",
    "        return self.riskAmount\n",
    "    def getRisk(self):\n",
    "        return self.riskSet\n"
   ]
  },
  {
   "cell_type": "markdown",
   "id": "62047ab7",
   "metadata": {},
   "source": [
    "# Function::Configuration Handler"
   ]
  },
  {
   "cell_type": "code",
   "execution_count": 521,
   "id": "5a35cb86",
   "metadata": {},
   "outputs": [],
   "source": [
    "def configHandler(t,totlist,robotlist,useless,checkENV,checkPrint,checkNonPr,checkMat):\n",
    "        n_replicator = 0\n",
    "        n_normal = 0\n",
    "        n_assembler = 0\n",
    "        n_printer = 0\n",
    "\n",
    "        c_flag = 0\n",
    "        p_flag = 0\n",
    "        a_flag = 0\n",
    "        i_flag = 0\n",
    "        repair_flag = 0\n",
    "\n",
    "        useless_c_flag = 0\n",
    "        useless_p_flag = 0\n",
    "        useless_a_flag = 0\n",
    "        useless_r_flag = 0\n",
    "\n",
    "        tot_build_qual_inservice = 0\n",
    "        tot_build_qual_inoutservice = 0\n",
    "\n",
    "        build_quality_list = []\n",
    "\n",
    "        for i in totlist:\n",
    "#             print(i.get_buid_qual())\n",
    "            if(i.get_buid_qual()>=0.5):\n",
    "                tot_build_qual_inoutservice = tot_build_qual_inoutservice + i.get_buid_qual()\n",
    "                tot_build_qual_inservice = tot_build_qual_inservice + i.get_buid_qual()\n",
    "            else:\n",
    "                tot_build_qual_inoutservice = tot_build_qual_inoutservice + i.get_buid_qual()\n",
    "            build_quality_list.append(i.get_buid_qual())\n",
    "        \n",
    "        avg_risk = 0\n",
    "        for i in robotlist:\n",
    "            if i.get_curr_task()==\"collecting\":\n",
    "                c_flag+=1\n",
    "            elif i.get_curr_task()==\"printing\":\n",
    "                p_flag+=1\n",
    "            elif i.get_curr_task()==\"assembling\":\n",
    "                a_flag+=1\n",
    "            elif i.get_curr_task()==\"idle\":\n",
    "                # print(i)\n",
    "                i_flag+=1\n",
    "            elif i.get_curr_task()==\"repair\":\n",
    "                # print(i)\n",
    "                repair_flag+=1\n",
    "\n",
    "            if(checkType(i,\"Replicator\")):\n",
    "                n_replicator += 1;\n",
    "            elif(checkType(i, \"Normal\")):\n",
    "                n_normal += 1;\n",
    "            elif(checkType(i, \"Assembler\")):\n",
    "                n_assembler += 1;\n",
    "            elif(checkType(i, \"Printer\")):\n",
    "                n_printer += 1;\n",
    "#             print(i,i.factory)\n",
    "                \n",
    "            avg_risk += i.getRisk()\n",
    "        avg_risk = avg_risk/len(robotlist)\n",
    "        \n",
    "        for i in useless:\n",
    "            if(checkType(i,\"Replicator\")):\n",
    "                useless_r_flag += 1;\n",
    "            elif(checkType(i, \"Normal\")):\n",
    "                useless_c_flag += 1;\n",
    "            elif(checkType(i, \"Assembler\")):\n",
    "                useless_a_flag += 1;\n",
    "            elif(checkType(i, \"Printer\")):\n",
    "                useless_p_flag += 1;\n",
    "\n",
    "\n",
    "\n",
    "        avg_build_qual_inservice = round(tot_build_qual_inservice/len(robotlist),decimalPlaces)\n",
    "        avg_build_qual_inoutservice = round(tot_build_qual_inoutservice/len(totlist),decimalPlaces)\n",
    "        \n",
    "        neatPrint = False\n",
    "        if neatPrint:\n",
    "            print(\"=\"*50)\n",
    "            print(t,\":\\t\\t\",len(robotlist),[NonPr,Printable,Materials,Env_Materials])\t\t\t\n",
    "            print(\"Time\\t\\t\",t)\n",
    "            print(\"#Replicator:\\t\",n_replicator)\n",
    "            print(\"#Normal:\\t\",n_normal)\n",
    "            print(\"#Assembling:\\t\",n_assembler)\n",
    "            print(\"#Printing:\\t\",n_printer)\n",
    "            print(\"#Robots\\t\\t\",len(robotlist))\n",
    "            print(\"Materials\\t\",[NonPr,Printable,Materials,Env_Materials])\n",
    "            print(\"#Assembling:\\t\",a_flag)\n",
    "            print(\"#Printing:\\t\",p_flag)\n",
    "            print(\"#Collecting:\\t\",c_flag)\n",
    "            print(\"#Idle:\\t\\t\",i_flag)\n",
    "            print(\"#Repair:\\t\\t\",repair_flag)\n",
    "            \n",
    "            \n",
    "        \n",
    "            \n",
    "        ids=[]\n",
    "        for j in totlist:\n",
    "            isWaste = False\n",
    "            if j.build_qual<=QualityThreshold:\n",
    "                isWaste = True\n",
    "            ids.append(j.id)\n",
    "\n",
    "        if (Env_Materials == 0 and checkENV == 0):\n",
    "            checkENV = t\n",
    "        if (Printable == 0 and checkPrint == 0):\n",
    "            checkPrint = t\n",
    "        if (NonPr == 0 and checkNonPr == 0):\n",
    "            checkNonPr = t\n",
    "        if (Materials <= 1 and checkMat == 0):\n",
    "            checkMat = t\n",
    "            \n",
    "# \t\t\"#Replicator\",\"#Normal\",\"#Assembler\",\"#Printer\",\n",
    "# \t\t\"#Assembling\",\"#Printing\",\"#Collecting\",\"#Idle\",\n",
    "# \t\t\"#In\",\"#Out\",\n",
    "# \t\t\"Average Build Quality in-service\",\"Average Build Quality of System\",\n",
    "# \t\t\"#WasteReplicator\",\"#WasteNormal\",\"#WasteAssembler\",\"#WastePrinter\",\n",
    "# \t\t\"Environment Exhaust Time\", \"Printable Exhaust Time\", \n",
    "# \t\t\"NonPr Exhaust Time\",\"Material Exhaust Time\",\"Average Risk of tasks being performed\"]\n",
    "\n",
    "        \n",
    "        return build_quality_list,[n_replicator,n_normal,n_assembler,n_printer,\n",
    "        a_flag,p_flag,c_flag,i_flag,repair_flag,\n",
    "        len(robotlist),len(useless),\n",
    "        avg_build_qual_inservice,avg_build_qual_inoutservice,\n",
    "        useless_r_flag,useless_c_flag,useless_a_flag,useless_p_flag,\n",
    "        checkENV,checkPrint,checkNonPr,checkMat,avg_risk]"
   ]
  },
  {
   "cell_type": "markdown",
   "id": "a233925d",
   "metadata": {},
   "source": [
    "# Functions::Tasks"
   ]
  },
  {
   "cell_type": "code",
   "execution_count": 522,
   "id": "3a2cb904",
   "metadata": {},
   "outputs": [],
   "source": [
    "# print current resources\n",
    "def printResources():\n",
    "    print(NonPr,Printable,Materials,Env_Materials)\n",
    "\n",
    "# check if robot can collect from Env_Materials\n",
    "def collectCheck(robot):\n",
    "    global Materials, Env_Materials, Collect_Amount\n",
    "    if (Env_Materials - Collect_Amount >= 0):\n",
    "        robot.setRiskAmount(taskRisk(robot))\n",
    "        return True\n",
    "    else:\n",
    "        robot.setRiskAmount(0)\n",
    "        return False\n",
    "\n",
    "# task function - collecting\n",
    "def collecting(robot):\n",
    "    global Materials, Env_Materials, Collect_Amount, RiskThreshold,mc,numTasksBeforeFail\n",
    "    robot.set_prev_task(robot.get_curr_task())\n",
    "    robot.set_curr_task(\"collecting\")\n",
    "    robot.set_task_dur(1)\n",
    "    flag = 1\n",
    "    if not mc:\n",
    "#         if robot.getUpTime()!=0:\n",
    "#             if robot.gettaskSuccess()%robot.getFailTime()==0:\n",
    "        if robot.getNumTasksRemainingBeforeFailure()==0:\n",
    "            robot.taskFail()\n",
    "            flag = 0\n",
    "            repairing(robot)\n",
    "                \n",
    "        if flag:\n",
    "            robot.addOperationalTime(robot.get_task_dur())\n",
    "            Materials = Materials + Collect_Amount\n",
    "            Env_Materials = Env_Materials - Collect_Amount\n",
    "            robot.taskSuccess()\n",
    "            robot.reduceNumTasksRemainingBeforeFailure()\n",
    "        \n",
    "        \n",
    "    if mc:\n",
    "        if robot.getRisk() == False:\n",
    "            robot.setRiskAmount(taskRisk(robot))\n",
    "        elif robot.getRiskAmount() > RiskThreshold:\n",
    "            robot.taskFail()\n",
    "            flag = 0\n",
    "            repairing(robot)\n",
    "        \n",
    "        if flag:\n",
    "            robot.addOperationalTime(robot.get_task_dur())\n",
    "            Materials = Materials + Collect_Amount\n",
    "            Env_Materials = Env_Materials - Collect_Amount\n",
    "            robot.taskSuccess()\n",
    "    \n",
    "\n",
    "# build robot task - assembler and replicator\n",
    "# assemble task\n",
    "\n",
    "def assembleCheck(robot,tobuild):\n",
    "    # global rid,nid,aid,pid,Printable,NonPr,Quality_incr_Chance,Quality_incr_Lower, Quality_incr_Upper\n",
    "    \n",
    "    if(tobuild == \"Replicator\"):\n",
    "        i=0\n",
    "        # rid = rid+1\n",
    "        # robotid = rid\n",
    "    if(tobuild == \"Normal\"):\n",
    "        i=1\n",
    "        # nid = nid+1\n",
    "        # robotid = nid\n",
    "    if(tobuild == \"Assembler\"):\n",
    "        i=2\n",
    "        # aid = aid+1\n",
    "        # robotid = aid\n",
    "    if(tobuild == \"Printer\"):\n",
    "        i=3\n",
    "        # pid = pid+1\n",
    "        # robotid = pid\n",
    "\n",
    "    if Printable - cost_Pr[i] >= 0 and NonPr - cost_NonPr[i] >= 0:\n",
    "        if(robot.getRisk() == False):\n",
    "            robot.setRiskAmount(taskRisk(robot))\n",
    "        return True\n",
    "    else:\n",
    "        robot.setRiskAmount(0)\n",
    "        return False\n",
    "\n",
    "\n",
    "def assembling(robot,tobuild):\n",
    "    global rid,nid,aid,pid,Printable,NonPr,Quality_incr_Chance,Quality_incr_Lower, Quality_incr_Upper,RiskThreshold,mc,numTasksBeforeFail\n",
    "    \n",
    "    if(tobuild == \"Replicator\"):\n",
    "        i=0\n",
    "        taskDur = timecost_replicator\n",
    "    if(tobuild == \"Normal\"):\n",
    "        i=1\n",
    "        taskDur = timecost_normal\n",
    "    if(tobuild == \"Assembler\"):\n",
    "        i=2\n",
    "        taskDur = timecost_assembler\n",
    "    if(tobuild == \"Printer\"):\n",
    "        i=3\n",
    "        taskDur = timecost_printer\n",
    "\n",
    "    robot.set_prev_task(robot.get_curr_task())\n",
    "    robot.set_curr_task(\"assembling\")\n",
    "    robot.set_task_dur(taskDur)\n",
    "    flag = 1\n",
    "    if not mc:\n",
    "        if robot.getNumTasksRemainingBeforeFailure()==0:\n",
    "            robot.taskFail()\n",
    "            flag = 0\n",
    "            repairing(robot)\n",
    "        if flag:\n",
    "            robot.addOperationalTime(robot.get_task_dur())\n",
    "            robot.taskSuccess()\n",
    "            if(robot.type==\"Assembler\" or robot.type==\"Replicator\"):\n",
    "                if(tobuild == \"Replicator\"):\n",
    "                    i=0\n",
    "                    rid = rid+1\n",
    "                    robotid = rid\n",
    "                if(tobuild == \"Normal\"):\n",
    "                    i=1\n",
    "                    nid = nid+1\n",
    "                    robotid = nid\n",
    "                if(tobuild == \"Assembler\"):\n",
    "                    i=2\n",
    "                    aid = aid+1\n",
    "                    robotid = aid\n",
    "                if(tobuild == \"Printer\"):\n",
    "                    i=3\n",
    "                    pid = pid+1\n",
    "                    robotid = pid\n",
    "\n",
    "                # subtract resources\n",
    "                Printable = Printable - cost_Pr[i]\n",
    "                NonPr = NonPr - cost_NonPr[i]\n",
    "\n",
    "                robot.beingbuiltlist.append(tobuild[0]+str(robotid))\n",
    "                robot.reduceNumTasksRemainingBeforeFailure()\n",
    "                return True\n",
    "        else:\n",
    "            robot.set_prev_task(robot.get_curr_task())\n",
    "            robot.set_curr_task(\"idle\")\n",
    "            robot.set_task_dur(0)\n",
    "            robot.setRiskAmount(0)\n",
    "            return False\n",
    "    if mc:\n",
    "        if robot.getRisk() == True and robot.get_prev_task()==\"assembling\":\n",
    "            robot.setRiskAmount(taskRisk(robot))\n",
    "        if robot.getRiskAmount() > RiskThreshold:\n",
    "            robot.taskFail()\n",
    "            flag = 0\n",
    "            repairing(robot)\n",
    "        if flag:\n",
    "            robot.addOperationalTime(robot.get_task_dur())\n",
    "            if(robot.getRisk() == True and robot.get_task_dur() - 1 == 0):\n",
    "                robot.setRiskAmount(0)\n",
    "\n",
    "            if(robot.type==\"Assembler\" or robot.type==\"Replicator\"):\n",
    "                if(tobuild == \"Replicator\"):\n",
    "                    i=0\n",
    "                    rid = rid+1\n",
    "                    robotid = rid\n",
    "                if(tobuild == \"Normal\"):\n",
    "                    i=1\n",
    "                    nid = nid+1\n",
    "                    robotid = nid\n",
    "                if(tobuild == \"Assembler\"):\n",
    "                    i=2\n",
    "                    aid = aid+1\n",
    "                    robotid = aid\n",
    "                if(tobuild == \"Printer\"):\n",
    "                    i=3\n",
    "                    pid = pid+1\n",
    "                    robotid = pid\n",
    "\n",
    "                # subtract resources\n",
    "                Printable = Printable - cost_Pr[i]\n",
    "                NonPr = NonPr - cost_NonPr[i]\n",
    "\n",
    "                robot.beingbuiltlist.append(tobuild[0]+str(robotid))\n",
    "                return True\n",
    "        else:\n",
    "            robot.set_prev_task(robot.get_curr_task())\n",
    "            robot.set_curr_task(\"idle\")\n",
    "            robot.set_task_dur(0)\n",
    "            robot.setRiskAmount(0)\n",
    "            return False\n",
    "\n",
    "def assemble(builder,tobuild):\n",
    "    global rid,nid,aid,pid,Printable,NonPr,Quality_incr_Chance,Quality_incr_Lower, Quality_incr_Upper\n",
    "\n",
    "    if(builder.type==\"Assembler\" or builder.type==\"Replicator\"):\n",
    "        if(tobuild == \"Replicator\"):\n",
    "            i=0\n",
    "\n",
    "        if(tobuild == \"Normal\"):\n",
    "            i=1\n",
    "\n",
    "        if(tobuild == \"Assembler\"):\n",
    "            i=2\n",
    "\n",
    "        if(tobuild == \"Printer\"):\n",
    "            i=3\n",
    "\n",
    "        AssemblerQuality = builder.get_buid_qual()\n",
    "        # robot's build quality\t\t\n",
    "        rand = round(random.uniform(0,1),decimalPlaces)\n",
    "        if rand > round((1.0 - Quality_incr_Chance/100),decimalPlaces):\n",
    "            RobotQuality = AssemblerQuality + random.uniform(Quality_incr_Lower, Quality_incr_Upper)\n",
    "        elif rand < Quality_decr_Chance :\n",
    "            RobotQuality = AssemblerQuality - random.uniform(Quality_decr_Lower, Quality_decr_Upper)\n",
    "        else :\n",
    "            RobotQuality = AssemblerQuality\n",
    "        # print(builder,builder.beingbuiltlist)\n",
    "        newRobot = Robot(tobuild,RobotQuality,builder.beingbuiltlist.pop(0)[1:])\n",
    "        builder.taskSuccess()\n",
    "        return newRobot\n",
    "    else:\n",
    "        return None\n",
    "\n",
    "\n",
    "def printCheck(robot):\n",
    "    if(robot.type==\"Replicator\" or robot.type==\"Printer\"):\n",
    "        global Print_Efficiency, Print_Amount, Materials, Printable\n",
    "        if Materials - (Print_Efficiency*Print_Amount) > 0:\n",
    "#             if(robot.getRisk() == False):\n",
    "#                 robot.setRiskAmount(taskRisk(robot))\n",
    "            return True\n",
    "        else:\n",
    "            return False\n",
    "    else:\n",
    "        return False\n",
    "\n",
    "def printing(robot):\n",
    "    global Print_Efficiency, Print_Amount, Materials, Printable,mc,numTasksBeforeFail\n",
    "    robot.set_prev_task(robot.get_curr_task())\n",
    "    robot.set_curr_task(\"printing\")\n",
    "    robot.set_task_dur(PrintCost_Time)\n",
    "    \n",
    "    flag = 1\n",
    "    if not mc:\n",
    "        if robot.getNumTasksRemainingBeforeFailure()==0:\n",
    "            robot.taskFail()\n",
    "            flag = 0\n",
    "            repairing(robot)\n",
    "        if flag:\n",
    "            robot.addOperationalTime(robot.get_task_dur())\n",
    "            robot.taskSuccess()\n",
    "            Materials = Materials - (Print_Efficiency*Print_Amount)\n",
    "            Printable = Printable + (Print_Efficiency*Print_Amount)\n",
    "            robot.reduceNumTasksRemainingBeforeFailure()\n",
    "    if mc:\n",
    "        if robot.getRisk() == False:\n",
    "            robot.setRiskAmount(taskRisk(robot))\n",
    "        if robot.getRiskAmount() > RiskThreshold:\n",
    "            robot.taskFail()\n",
    "            flag = 0\n",
    "            repairing(robot)\n",
    "\n",
    "        if flag:\n",
    "            robot.addOperationalTime(robot.get_task_dur())\n",
    "            if(robot.getRisk() == True and robot.get_task_dur() - 1 == 0):\n",
    "                robot.taskSuccess()\n",
    "                robot.setRiskAmount(0)\n",
    "\n",
    "\n",
    "            Materials = Materials - (Print_Efficiency*Print_Amount)\n",
    "            Printable = Printable + (Print_Efficiency*Print_Amount)\n",
    "\n",
    "def repairing(robot):\n",
    "    global mc\n",
    "    robot.set_next_task(robot.get_curr_task())\n",
    "    robot.set_prev_task(robot.get_curr_task())\n",
    "    repair_task_dur = robot.get_task_dur() # + basecost to repair? \n",
    "    robot.set_curr_task(\"repair\")\n",
    "    robot.addNumRepairs()\n",
    "    robot.set_task_dur(repair_task_dur)\n",
    "    robot.addDownTime(repair_task_dur)\n",
    "    if not mc:\n",
    "        robot.resetNumTasksRemainingBeforeFailure()\n",
    "\n",
    "def resetTasks(robot):\n",
    "    robot.set_prev_task(robot.get_curr_task())\n",
    "    robot.set_task_dur(0)\n",
    "    robot.set_curr_task(\"idle\")\n",
    "\n",
    "def checkCurrentTask(robot,current_task):\n",
    "    return robot.get_curr_task() == current_task\n",
    "def checkPreviousTask(robot,previous_task):\n",
    "    return robot.get_prev_task() == previous_task\n",
    "\n",
    "def checkType(robot,robot_type):\n",
    "    return robot.get_type() == robot_type\n",
    "\n"
   ]
  },
  {
   "cell_type": "markdown",
   "id": "680ad25e",
   "metadata": {},
   "source": [
    "# Task Risk\n",
    "\n",
    "RiskTask = RiskTask_Type + (1.0 − RobotQuality) ∗ RiskTask_Type ∗ RiskQuality_Modifier\n",
    "\n",
    "if Robot ∈ FactoryMade : RiskTask = RiskTask ∗ RiskFactory_Modifier"
   ]
  },
  {
   "cell_type": "code",
   "execution_count": 523,
   "id": "e3c9b235",
   "metadata": {},
   "outputs": [],
   "source": [
    "def taskRisk(robot):\n",
    "    rand = round(random.uniform(0,1),decimalPlaces)\n",
    "    if robot.factory == True:\n",
    "        currTask = robot.get_curr_task()\n",
    "        if(currTask == \"idle\"):\n",
    "            RiskTask_Type = 0\n",
    "        elif(currTask == \"collecting\"):\n",
    "            RiskTask_Type = 1\n",
    "        elif(currTask == \"assembling\"):\n",
    "            RiskTask_Type = 1\n",
    "        elif(currTask == \"printing\"):\n",
    "            RiskTask_Type = 1\n",
    "        elif(currTask == \"repair\"):\n",
    "            RiskTask_Type = 0\n",
    "#         riskTask = RiskTask_Type + (1.0 - robot.get_buid_qual()) * rand * RiskFactory_Modifier \n",
    "        riskTask = (1.0 - robot.get_buid_qual()) * (RiskTask_Type + rand * RiskFactory_Modifier)\n",
    "    else:\n",
    "        currTask = robot.get_curr_task()\n",
    "        if(currTask == \"idle\"):\n",
    "            RiskTask_Type = 0            \n",
    "        elif(currTask == \"collecting\"):\n",
    "            RiskTask_Type = 1\n",
    "        elif(currTask == \"assembling\"):\n",
    "            RiskTask_Type = 1\n",
    "        elif(currTask == \"printing\"):\n",
    "            RiskTask_Type = 1\n",
    "        elif(currTask == \"repair\"):\n",
    "            RiskTask_Type = 0\n",
    "        \n",
    "#         riskTask = RiskTask_Type + (1.0 - robot.get_buid_qual()) * RiskTask_Type * RiskQuality_Modifier\n",
    "        riskTask = RiskTask_Type + (1.0 - robot.get_buid_qual()) * rand * RiskQuality_Modifier \n",
    "        riskTask = (1.0 - robot.get_buid_qual()) * (RiskTask_Type + rand * RiskQuality_Modifier)\n",
    "#     print(robot.id,riskTask)\n",
    "    return riskTask"
   ]
  },
  {
   "cell_type": "markdown",
   "id": "261ef513",
   "metadata": {},
   "source": [
    "# CHO"
   ]
  },
  {
   "cell_type": "code",
   "execution_count": 524,
   "id": "5bae2bdb",
   "metadata": {},
   "outputs": [],
   "source": [
    "def CHO(timesteps,df,init_build_qual,printRAMmetrics=True,mc=False):\n",
    "    resetGlobal(timesteps,1,0,0,0)\n",
    "    robot = Robot(\"Replicator\",init_build_qual,rid)\n",
    "    robot.setFactory()\n",
    "    totlist = [robot]\n",
    "    robotlist = [robot]\n",
    "    useless = []\n",
    "\n",
    "    # number of bots working\n",
    "    listnumCollecting = []\n",
    "    listnumPrinting = []\n",
    "    listnumAssembling = []\n",
    "\n",
    "    # use lists\n",
    "    tcoordslist = []\n",
    "    rcoordslist = []\n",
    "    wastecoordslist = []\n",
    "    t_build_quality_list = []\n",
    "    \n",
    "    #Lists used for visualization\n",
    "    checkENV = 0\n",
    "    checkPrint = 0\n",
    "    checkNonPr = 0\n",
    "    checkMat = 0\n",
    "\n",
    "    for t in range(0,timesteps):\n",
    "        print(\"-\"*50)\n",
    "        for i in range(len(robotlist)):\n",
    "            # assign risks for tasks\n",
    "            robotlist[i].setRobotTime(t)\n",
    "            \n",
    "            # IDLE\n",
    "            if(robotlist[i].current_task==\"idle\"):\n",
    "                # Replicator\n",
    "                if(robotlist[i].type == \"Replicator\"):\n",
    "                    \n",
    "                    if(assembleCheck(robotlist[i],\"Normal\")):\n",
    "                        isAssembling = assembling(robotlist[i],\"Normal\")\n",
    "                    elif(printCheck(robotlist[i])):\n",
    "                        isPrinting = printing(robotlist[i])\t\n",
    "                    else:\n",
    "                        robotlist[i].set_prev_task(robotlist[i].get_curr_task())\n",
    "                        robotlist[i].set_task_dur(0)\n",
    "                        robotlist[i].set_curr_task(\"idle\")\n",
    "                # Normal\n",
    "                elif(robotlist[i].type == \"Normal\"):\n",
    "\n",
    "                    # print(t,robotlist[i].id,canCollect)\n",
    "                    if (collectCheck(robotlist[i])):\n",
    "                        collecting(robotlist[i])\n",
    "                    else:\n",
    "                        robotlist[i].set_prev_task(robotlist[i].get_curr_task())\n",
    "                        robotlist[i].set_task_dur(0)\n",
    "                        robotlist[i].set_curr_task(\"idle\")\n",
    "                \n",
    "            # REPAIR            \n",
    "            elif(robotlist[i].get_curr_task()==\"repair\"):\n",
    "                prevTask = robotlist[i].get_prev_task()\n",
    "                # tasks of replicator in CHO\n",
    "                if(robotlist[i].get_task_dur() - 1 == 0 and robotlist[i].type == \"Replicator\"):\n",
    "                    if(prevTask==\"assembling\" and assembleCheck(robotlist[i],\"Normal\")):\n",
    "                        assembling(robotlist[i],\"Normal\")\n",
    "                    elif(prevTask==\"printing\" and printCheck(robotlist[i])):\n",
    "                        printing(robotlist[i])\n",
    "                    else:\n",
    "                        robotlist[i].set_prev_task(robotlist[i].get_curr_task())\n",
    "                        robotlist[i].set_task_dur(0)\n",
    "                        robotlist[i].set_curr_task(\"idle\")\n",
    "                # tasks of normal in CHO\n",
    "                elif(robotlist[i].get_task_dur() - 1 == 0 and robotlist[i].type == \"Normal\"):\n",
    "                    if(prevTask==\"collecting\" and collectCheck(robotlist[i])):\n",
    "                        collecting(robotlist[i])\n",
    "                    else:\n",
    "                        robotlist[i].set_prev_task(robotlist[i].get_curr_task())\n",
    "                        robotlist[i].set_task_dur(0)\n",
    "                        robotlist[i].set_curr_task(\"idle\")\n",
    "                else:\n",
    "                    robotlist[i].set_task_dur(robotlist[i].get_task_dur() - 1)\n",
    "\n",
    "            # NOT IDLE\n",
    "            else:\n",
    "                # reduce task duration every time step\n",
    "                if(robotlist[i].tasks_dur - 1 != 0):\n",
    "                    robotlist[i].set_task_dur(robotlist[i].get_task_dur() - 1)\n",
    "                    \n",
    "                # Replicator \n",
    "                elif(robotlist[i].tasks_dur - 1 == 0 and robotlist[i].type == \"Replicator\"):\n",
    "                    # check if it can keep assembling next time step\n",
    "                    if(assembleCheck(robotlist[i],\"Normal\")):\n",
    "                        assembling(robotlist[i],\"Normal\")\n",
    "                    elif(printCheck(robotlist[i])):\n",
    "                        printing(robotlist[i])\n",
    "                    else:\n",
    "                        isAssembling = False\n",
    "                        robotlist[i].set_prev_task(robotlist[i].get_curr_task())\n",
    "                        robotlist[i].set_task_dur(0)\n",
    "                        robotlist[i].set_curr_task(\"idle\")\n",
    "\n",
    "                    # it enters this loop only when it has to pop a new robot\n",
    "                    if(robotlist[i].get_prev_task()==\"assembling\"):\n",
    "                        newbot = assemble(robotlist[i],\"Normal\")\n",
    "                        if newbot and newbot.build_qual>=QualityThreshold:\n",
    "                            if(newbot.type == \"Normal\"):\n",
    "                                canCollect = collectCheck(newbot)\n",
    "                                if canCollect:\n",
    "                                    collecting(newbot)\n",
    "                            totlist.append(newbot)\n",
    "                            robotlist.append(newbot)\n",
    "                        else:\n",
    "                            totlist.append(newbot)\n",
    "                            useless.append(newbot)\n",
    "                        robotlist[i].set_prev_task(robotlist[i].current_task)\n",
    "                # Normal\n",
    "                elif(robotlist[i].type == \"Normal\"):\n",
    "                    canCollect = collectCheck(robotlist[i])\n",
    "                    if(canCollect):\n",
    "                        collecting(robotlist[i])\n",
    "                    else:\n",
    "                        robotlist[i].set_prev_task(robotlist[i].get_curr_task())\n",
    "                        robotlist[i].set_task_dur(0)\n",
    "                        robotlist[i].set_curr_task(\"idle\")\n",
    "              \n",
    "            \n",
    "        print(t,len(robotlist),\"+\"*20) \n",
    "        for j in robotlist:\n",
    "            print(j)\n",
    "            \n",
    "        #after simulation record\n",
    "        build_quality_list,vals = configHandler(t,totlist,robotlist,useless,checkENV,checkPrint,checkNonPr,checkMat)\n",
    "        df.loc[len(df)] = [t,NonPr,Printable,Materials,Env_Materials]+vals\n",
    "        tcoordslist.append(t)\n",
    "        rcoordslist.append(len(robotlist)) \n",
    "        wastecoordslist.append(len(useless))\n",
    "        t_build_quality_list.append(build_quality_list)\n",
    "    \n",
    "    # setup RAM metrics of robots\n",
    "    MTBFlist = []\n",
    "    MTTRlist = []\n",
    "    MDTlist = []\n",
    "    Aosslist = []\n",
    "    for robot in robotlist:\n",
    "        robot.computeRAM()\n",
    "        if math.isnan(robot.getAoss())==False: \n",
    "            MTBFlist.append(robot.getMTBF())\n",
    "            MTTRlist.append(robot.getMTTR())\n",
    "            MDTlist.append(robot.getMDT())\n",
    "            Aosslist.append(robot.getAoss())\n",
    "\n",
    "    lambda_robots = np.reciprocal(MTBFlist) \n",
    "    mu_robots = np.reciprocal(MTTRlist) \n",
    "    MDT_SRRS = sum(np.reciprocal(MDTlist))\n",
    "    sigma_lambda = sum(lambda_robots)\n",
    "    pi_lambda = np.prod(lambda_robots)\n",
    "    sigma_mu = sum(mu_robots)\n",
    "    pi_mu = np.prod(mu_robots)\n",
    "    lambda_SRRS = pi_lambda*sigma_mu/pi_mu\n",
    "    mu_SRRS = sigma_mu\n",
    "    MTBF_SRRS = 1/lambda_SRRS\n",
    "    MTTR_SRRS= 1/mu_SRRS\n",
    "    Aoss_SRRS = MTBF_SRRS/(MTBF_SRRS+MDT_SRRS)\n",
    "    if printRAMmetrics:\n",
    "        pass\n",
    "    \n",
    "    # generate a dataframe with metrics\n",
    "    df[\"Print Capacity\"] = df[[\"#Printer\", \"#Replicator\"]].sum(axis=1)\n",
    "    df[\"Assembling Capacity\"] = df[[\"#Assembler\", \"#Replicator\"]].sum(axis=1)\n",
    "    df[\"Collection Capacity\"] = df[[\"#Printer\", \"#Replicator\", \"#Assembler\", \"#Normal\"]].sum(axis=1)\n",
    "    ram_df = pd.DataFrame(columns=[\"MTBF\",\"MTTR\",\"MDT\",\"Aoss\"],data=[[MTBF_SRRS,MTTR_SRRS,MDT_SRRS,Aoss_SRRS]])\n",
    "    return df,ram_df"
   ]
  },
  {
   "cell_type": "markdown",
   "id": "d375486c",
   "metadata": {},
   "source": [
    "# Testing"
   ]
  },
  {
   "cell_type": "code",
   "execution_count": 525,
   "id": "81cd2b90",
   "metadata": {
    "scrolled": false
   },
   "outputs": [],
   "source": [
    "def SRRS(config,timesteps,plot=False):\n",
    "    df = pd.DataFrame(columns = table_columns)\n",
    "    build_qual_range = [0.85,0.95]\n",
    "    init_build_qual = random.uniform(build_qual_range[0],build_qual_range[1])\n",
    "    if config==\"CHO\":\n",
    "        df,ram_df = CHO(timesteps,df,init_build_qual)\n",
    "        printSRRSConfigRAMmetrics(config,ram_df)\n",
    "    if(plot):\n",
    "        graphOutputs(config,df)\n",
    "    return df,ram_df\n",
    "\n",
    "def SRRSmc(config,timesteps,mc_num_steps,plot=False):\n",
    "    mcSimCols = ['Time', 'NonPr', 'Printable', 'Materials', 'Env_Materials',\n",
    "           '#Replicator', '#Normal', '#Assembler', '#Printer', '#Assembling',\n",
    "           '#Printing', '#Collecting', '#Idle', '#Repair', '#In', '#Out',\n",
    "           'Average Build Quality in-service', 'Average Build Quality of System',\n",
    "           '#WasteReplicator', '#WasteNormal', '#WasteAssembler', '#WastePrinter',\n",
    "           'Environment Exhaust Time', 'Printable Exhaust Time',\n",
    "           'NonPr Exhaust Time', 'Material Exhaust Time', 'Average Risk',\n",
    "           'Print Capacity', 'Assembling Capacity', 'Collection Capacity', 'MTBF',\n",
    "           'MTTR', 'MDT', 'Aoss']\n",
    "    mcdfsim = pd.DataFrame(columns=mcSimCols)\n",
    "    for i in range(1,mc_num_steps+1):\n",
    "        sys.stdout.write(\"\\rRunning iteration: {0}\".format(i))\n",
    "        sys.stdout.flush()\n",
    "        df,ram_df = SRRS(\"CHO\",timesteps)\n",
    "        df_stats = df.describe()\n",
    "        avg_avgRisk = df_stats.iloc[1][\"Average Risk\"]\n",
    "        last_row = df.tail(1)\n",
    "        last_row[\"Average Risk\"].values[:] = avg_avgRisk\n",
    "        cols = df.columns\n",
    "        mcdf = pd.DataFrame(columns=cols)\n",
    "        mcdf = pd.concat([mcdf,last_row], ignore_index=True)\n",
    "        mcdf = pd.concat([mcdf, ram_df], axis=1, join='inner')\n",
    "        last_row = mcdf.tail(1)\n",
    "        mcdfsim = pd.concat([mcdfsim, last_row], ignore_index=True)\n",
    "#     display(mcdfsim[[\"Aoss\"]])\n",
    "    return mcdfsim\n",
    "    \n",
    "def printSRRSConfigRAMmetrics(config,ram_df):\n",
    "    display(ram_df)\n",
    "\n",
    "def graph_RobotTasks(config,df):\n",
    "    fig = px.bar(df, x=\"Time\", y=['#Printing','#Assembling','#Collecting', '#Idle', '#Repair'], title=config+\" Robot Tasks vs Time\") #,labels={'#In':'#in-service','#Out':'#out-service'})\n",
    "    fig.update_layout(hovermode=\"x\")\n",
    "    fig.update_xaxes(title_text='Time')\n",
    "    fig.update_yaxes(title_text='#Robots')\n",
    "    fig.show()\n",
    "\n",
    "def graph_InOutServiceRobots(config,df):\n",
    "    fig = px.bar(df, x=\"Time\", y=['#In','#Out'], title=config+\" Robots in service vs Time\") #,labels={'#In':'#in-service','#Out':'#out-service'})\n",
    "    fig.update_layout(hovermode=\"x\")\n",
    "    fig.update_xaxes(title_text='Time')\n",
    "    fig.update_yaxes(title_text='#Robots')\n",
    "    fig.show() \n",
    "    \n",
    "def graph_RobotTypes(config,df):\n",
    "    fig = px.bar(df, x=\"Time\", y=['#Replicator', '#Normal', '#Assembler', '#Printer'], title=config+\" Robots Types vs Time\") #,labels={'#In':'#in-service','#Out':'#out-service'})\n",
    "    fig.update_layout(hovermode=\"x\")\n",
    "    fig.update_xaxes(title_text='Time')\n",
    "    fig.update_yaxes(title_text='#Robots')\n",
    "    fig.show() \n",
    "    \n",
    "def graph_Resources(config,df):\n",
    "#     fig = px.bar(df, x=\"Time\", y=['NonPr', 'Printable', 'Materials', 'Env_Materials'], title=\"Resources vs Time\") #,labels={'#In':'#in-service','#Out':'#out-service'})\n",
    "    fig = go.Figure()\n",
    "    fig.add_trace(go.Scatter(x=df[\"Time\"], y=df['NonPr'], mode=\"lines\",name='NonPr'))\n",
    "    fig.add_trace(go.Scatter(x=df[\"Time\"], y=df['Printable'], mode=\"lines\",name='Printable'))\n",
    "    fig.add_trace(go.Scatter(x=df[\"Time\"], y=df['Materials'], mode=\"lines\",name='Materials'))\n",
    "    fig.add_trace(go.Scatter(x=df[\"Time\"], y=df['Env_Materials'], mode=\"lines\",name='Env_Materials'))\n",
    "    fig.update_layout(hovermode=\"x\",title=config+\" Resources vs Time\")\n",
    "    fig.update_xaxes(title_text='Time')\n",
    "    fig.update_yaxes(title_text='Resources')\n",
    "    fig.show()\n",
    "    \n",
    "def graph_AvgBuildQuality(config,df):\n",
    "    fig = go.Figure()\n",
    "    fig.add_trace(go.Scatter(x=df[\"Time\"], y=df['Average Build Quality in-service'], mode=\"lines\",name='Avg. Build Quality-In Service'))\n",
    "    fig.add_trace(go.Scatter(x=df[\"Time\"], y=df['Average Build Quality of System'], mode=\"lines\",name='Avg. Build Quality-System'))\n",
    "    fig.update_layout(hovermode=\"x\",title=config+\" Robot Build Quality vs Time\")\n",
    "    fig.update_xaxes(title_text='Time')\n",
    "    fig.update_yaxes(title_text='Build Quality')\n",
    "    fig.show()\n",
    "    \n",
    "def graphOutputs(config,df):\n",
    "    graph_RobotTasks(config,df)\n",
    "    graph_InOutServiceRobots(config,df)\n",
    "    graph_RobotTypes(config,df)\n",
    "    graph_Resources(config,df)\n",
    "    graph_AvgBuildQuality(config,df)\n",
    "    \n",
    "\n",
    "    "
   ]
  },
  {
   "cell_type": "code",
   "execution_count": 526,
   "id": "35c40470",
   "metadata": {
    "scrolled": true
   },
   "outputs": [
    {
     "name": "stdout",
     "output_type": "stream",
     "text": [
      "--------------------------------------------------\n",
      "0 1 ++++++++++++++++++++\n",
      "R1,assembling,2,tp:1\n",
      "--------------------------------------------------\n",
      "1 1 ++++++++++++++++++++\n",
      "R1,assembling,1,tp:1\n",
      "--------------------------------------------------\n",
      "2 1 ++++++++++++++++++++\n",
      "R1,idle,0,tp:1\n",
      "--------------------------------------------------\n",
      "3 1 ++++++++++++++++++++\n",
      "R1,assembling,2,tp:2\n",
      "--------------------------------------------------\n",
      "4 1 ++++++++++++++++++++\n",
      "R1,assembling,1,tp:2\n",
      "--------------------------------------------------\n",
      "5 1 ++++++++++++++++++++\n",
      "R1,idle,0,tp:2\n",
      "--------------------------------------------------\n",
      "6 1 ++++++++++++++++++++\n",
      "R1,assembling,2,tp:3\n",
      "--------------------------------------------------\n",
      "7 1 ++++++++++++++++++++\n",
      "R1,assembling,1,tp:3\n",
      "--------------------------------------------------\n",
      "8 1 ++++++++++++++++++++\n",
      "R1,idle,0,tp:3\n",
      "--------------------------------------------------\n",
      "9 1 ++++++++++++++++++++\n",
      "R1,assembling,2,tp:4\n",
      "--------------------------------------------------\n",
      "10 1 ++++++++++++++++++++\n",
      "R1,assembling,1,tp:4\n",
      "--------------------------------------------------\n",
      "11 1 ++++++++++++++++++++\n",
      "R1,idle,0,tp:4\n",
      "--------------------------------------------------\n",
      "12 1 ++++++++++++++++++++\n",
      "R1,assembling,2,tp:5\n",
      "--------------------------------------------------\n",
      "13 1 ++++++++++++++++++++\n",
      "R1,assembling,1,tp:5\n",
      "--------------------------------------------------\n",
      "14 1 ++++++++++++++++++++\n",
      "R1,idle,0,tp:5\n",
      "--------------------------------------------------\n",
      "15 1 ++++++++++++++++++++\n",
      "R1,assembling,2,tp:6\n",
      "--------------------------------------------------\n",
      "16 1 ++++++++++++++++++++\n",
      "R1,assembling,1,tp:6\n",
      "--------------------------------------------------\n",
      "17 1 ++++++++++++++++++++\n",
      "R1,idle,0,tp:6\n",
      "--------------------------------------------------\n",
      "18 1 ++++++++++++++++++++\n",
      "R1,assembling,2,tp:7\n",
      "--------------------------------------------------\n",
      "19 1 ++++++++++++++++++++\n",
      "R1,assembling,1,tp:7\n",
      "--------------------------------------------------\n",
      "20 1 ++++++++++++++++++++\n",
      "R1,idle,0,tp:7\n",
      "--------------------------------------------------\n",
      "21 1 ++++++++++++++++++++\n",
      "R1,assembling,2,tp:8\n",
      "--------------------------------------------------\n",
      "22 1 ++++++++++++++++++++\n",
      "R1,assembling,1,tp:8\n",
      "--------------------------------------------------\n",
      "23 1 ++++++++++++++++++++\n",
      "R1,idle,0,tp:8\n",
      "--------------------------------------------------\n",
      "24 1 ++++++++++++++++++++\n",
      "R1,assembling,2,tp:9\n",
      "--------------------------------------------------\n",
      "25 1 ++++++++++++++++++++\n",
      "R1,assembling,1,tp:9\n",
      "--------------------------------------------------\n",
      "26 1 ++++++++++++++++++++\n",
      "R1,idle,0,tp:9\n",
      "--------------------------------------------------\n",
      "27 1 ++++++++++++++++++++\n",
      "R1,assembling,2,tp:10\n",
      "--------------------------------------------------\n",
      "28 1 ++++++++++++++++++++\n",
      "R1,assembling,1,tp:10\n",
      "--------------------------------------------------\n",
      "29 1 ++++++++++++++++++++\n",
      "R1,idle,0,tp:10\n",
      "--------------------------------------------------\n",
      "30 1 ++++++++++++++++++++\n",
      "R1,assembling,2,tp:11\n",
      "--------------------------------------------------\n",
      "31 1 ++++++++++++++++++++\n",
      "R1,assembling,1,tp:11\n",
      "--------------------------------------------------\n",
      "32 1 ++++++++++++++++++++\n",
      "R1,idle,0,tp:11\n",
      "--------------------------------------------------\n",
      "33 1 ++++++++++++++++++++\n",
      "R1,assembling,2,tp:12\n",
      "--------------------------------------------------\n",
      "34 1 ++++++++++++++++++++\n",
      "R1,assembling,1,tp:12\n",
      "--------------------------------------------------\n",
      "35 1 ++++++++++++++++++++\n",
      "R1,idle,0,tp:12\n",
      "--------------------------------------------------\n",
      "36 1 ++++++++++++++++++++\n",
      "R1,assembling,2,tp:13\n",
      "--------------------------------------------------\n",
      "37 1 ++++++++++++++++++++\n",
      "R1,assembling,1,tp:13\n",
      "--------------------------------------------------\n",
      "38 1 ++++++++++++++++++++\n",
      "R1,idle,0,tp:13\n",
      "--------------------------------------------------\n",
      "39 1 ++++++++++++++++++++\n",
      "R1,assembling,2,tp:14\n",
      "--------------------------------------------------\n",
      "40 1 ++++++++++++++++++++\n",
      "R1,assembling,1,tp:14\n",
      "--------------------------------------------------\n",
      "41 1 ++++++++++++++++++++\n",
      "R1,idle,0,tp:14\n",
      "--------------------------------------------------\n",
      "42 1 ++++++++++++++++++++\n",
      "R1,assembling,2,tp:15\n",
      "--------------------------------------------------\n",
      "43 1 ++++++++++++++++++++\n",
      "R1,assembling,1,tp:15\n",
      "--------------------------------------------------\n",
      "44 1 ++++++++++++++++++++\n",
      "R1,idle,0,tp:15\n",
      "--------------------------------------------------\n",
      "45 1 ++++++++++++++++++++\n",
      "R1,assembling,2,tp:16\n",
      "--------------------------------------------------\n",
      "46 1 ++++++++++++++++++++\n",
      "R1,assembling,1,tp:16\n",
      "--------------------------------------------------\n",
      "47 1 ++++++++++++++++++++\n",
      "R1,idle,0,tp:16\n",
      "--------------------------------------------------\n",
      "48 1 ++++++++++++++++++++\n",
      "R1,assembling,2,tp:17\n",
      "--------------------------------------------------\n",
      "49 1 ++++++++++++++++++++\n",
      "R1,assembling,1,tp:17\n"
     ]
    },
    {
     "data": {
      "text/html": [
       "<div>\n",
       "<style scoped>\n",
       "    .dataframe tbody tr th:only-of-type {\n",
       "        vertical-align: middle;\n",
       "    }\n",
       "\n",
       "    .dataframe tbody tr th {\n",
       "        vertical-align: top;\n",
       "    }\n",
       "\n",
       "    .dataframe thead th {\n",
       "        text-align: right;\n",
       "    }\n",
       "</style>\n",
       "<table border=\"1\" class=\"dataframe\">\n",
       "  <thead>\n",
       "    <tr style=\"text-align: right;\">\n",
       "      <th></th>\n",
       "      <th>MTBF</th>\n",
       "      <th>MTTR</th>\n",
       "      <th>MDT</th>\n",
       "      <th>Aoss</th>\n",
       "    </tr>\n",
       "  </thead>\n",
       "  <tbody>\n",
       "    <tr>\n",
       "      <th>0</th>\n",
       "      <td>2.125</td>\n",
       "      <td>2.0</td>\n",
       "      <td>0.5</td>\n",
       "      <td>0.809524</td>\n",
       "    </tr>\n",
       "  </tbody>\n",
       "</table>\n",
       "</div>"
      ],
      "text/plain": [
       "    MTBF  MTTR  MDT      Aoss\n",
       "0  2.125   2.0  0.5  0.809524"
      ]
     },
     "metadata": {},
     "output_type": "display_data"
    },
    {
     "data": {
      "application/vnd.plotly.v1+json": {
       "config": {
        "plotlyServerURL": "https://plotly.com"
       },
       "data": [
        {
         "alignmentgroup": "True",
         "hovertemplate": "variable=#Printing<br>Time=%{x}<br>value=%{y}<extra></extra>",
         "legendgroup": "#Printing",
         "marker": {
          "color": "#636efa",
          "pattern": {
           "shape": ""
          }
         },
         "name": "#Printing",
         "offsetgroup": "#Printing",
         "orientation": "v",
         "showlegend": true,
         "textposition": "auto",
         "type": "bar",
         "x": [
          0,
          1,
          2,
          3,
          4,
          5,
          6,
          7,
          8,
          9,
          10,
          11,
          12,
          13,
          14,
          15,
          16,
          17,
          18,
          19,
          20,
          21,
          22,
          23,
          24,
          25,
          26,
          27,
          28,
          29,
          30,
          31,
          32,
          33,
          34,
          35,
          36,
          37,
          38,
          39,
          40,
          41,
          42,
          43,
          44,
          45,
          46,
          47,
          48,
          49
         ],
         "xaxis": "x",
         "y": [
          0,
          0,
          0,
          0,
          0,
          0,
          0,
          0,
          0,
          0,
          0,
          0,
          0,
          0,
          0,
          0,
          0,
          0,
          0,
          0,
          0,
          0,
          0,
          0,
          0,
          0,
          0,
          0,
          0,
          0,
          0,
          0,
          0,
          0,
          0,
          0,
          0,
          0,
          0,
          0,
          0,
          0,
          0,
          0,
          0,
          0,
          0,
          0,
          0,
          0
         ],
         "yaxis": "y"
        },
        {
         "alignmentgroup": "True",
         "hovertemplate": "variable=#Assembling<br>Time=%{x}<br>value=%{y}<extra></extra>",
         "legendgroup": "#Assembling",
         "marker": {
          "color": "#EF553B",
          "pattern": {
           "shape": ""
          }
         },
         "name": "#Assembling",
         "offsetgroup": "#Assembling",
         "orientation": "v",
         "showlegend": true,
         "textposition": "auto",
         "type": "bar",
         "x": [
          0,
          1,
          2,
          3,
          4,
          5,
          6,
          7,
          8,
          9,
          10,
          11,
          12,
          13,
          14,
          15,
          16,
          17,
          18,
          19,
          20,
          21,
          22,
          23,
          24,
          25,
          26,
          27,
          28,
          29,
          30,
          31,
          32,
          33,
          34,
          35,
          36,
          37,
          38,
          39,
          40,
          41,
          42,
          43,
          44,
          45,
          46,
          47,
          48,
          49
         ],
         "xaxis": "x",
         "y": [
          1,
          1,
          0,
          1,
          1,
          0,
          1,
          1,
          0,
          1,
          1,
          0,
          1,
          1,
          0,
          1,
          1,
          0,
          1,
          1,
          0,
          1,
          1,
          0,
          1,
          1,
          0,
          1,
          1,
          0,
          1,
          1,
          0,
          1,
          1,
          0,
          1,
          1,
          0,
          1,
          1,
          0,
          1,
          1,
          0,
          1,
          1,
          0,
          1,
          1
         ],
         "yaxis": "y"
        },
        {
         "alignmentgroup": "True",
         "hovertemplate": "variable=#Collecting<br>Time=%{x}<br>value=%{y}<extra></extra>",
         "legendgroup": "#Collecting",
         "marker": {
          "color": "#00cc96",
          "pattern": {
           "shape": ""
          }
         },
         "name": "#Collecting",
         "offsetgroup": "#Collecting",
         "orientation": "v",
         "showlegend": true,
         "textposition": "auto",
         "type": "bar",
         "x": [
          0,
          1,
          2,
          3,
          4,
          5,
          6,
          7,
          8,
          9,
          10,
          11,
          12,
          13,
          14,
          15,
          16,
          17,
          18,
          19,
          20,
          21,
          22,
          23,
          24,
          25,
          26,
          27,
          28,
          29,
          30,
          31,
          32,
          33,
          34,
          35,
          36,
          37,
          38,
          39,
          40,
          41,
          42,
          43,
          44,
          45,
          46,
          47,
          48,
          49
         ],
         "xaxis": "x",
         "y": [
          0,
          0,
          0,
          0,
          0,
          0,
          0,
          0,
          0,
          0,
          0,
          0,
          0,
          0,
          0,
          0,
          0,
          0,
          0,
          0,
          0,
          0,
          0,
          0,
          0,
          0,
          0,
          0,
          0,
          0,
          0,
          0,
          0,
          0,
          0,
          0,
          0,
          0,
          0,
          0,
          0,
          0,
          0,
          0,
          0,
          0,
          0,
          0,
          0,
          0
         ],
         "yaxis": "y"
        },
        {
         "alignmentgroup": "True",
         "hovertemplate": "variable=#Idle<br>Time=%{x}<br>value=%{y}<extra></extra>",
         "legendgroup": "#Idle",
         "marker": {
          "color": "#ab63fa",
          "pattern": {
           "shape": ""
          }
         },
         "name": "#Idle",
         "offsetgroup": "#Idle",
         "orientation": "v",
         "showlegend": true,
         "textposition": "auto",
         "type": "bar",
         "x": [
          0,
          1,
          2,
          3,
          4,
          5,
          6,
          7,
          8,
          9,
          10,
          11,
          12,
          13,
          14,
          15,
          16,
          17,
          18,
          19,
          20,
          21,
          22,
          23,
          24,
          25,
          26,
          27,
          28,
          29,
          30,
          31,
          32,
          33,
          34,
          35,
          36,
          37,
          38,
          39,
          40,
          41,
          42,
          43,
          44,
          45,
          46,
          47,
          48,
          49
         ],
         "xaxis": "x",
         "y": [
          0,
          0,
          1,
          0,
          0,
          1,
          0,
          0,
          1,
          0,
          0,
          1,
          0,
          0,
          1,
          0,
          0,
          1,
          0,
          0,
          1,
          0,
          0,
          1,
          0,
          0,
          1,
          0,
          0,
          1,
          0,
          0,
          1,
          0,
          0,
          1,
          0,
          0,
          1,
          0,
          0,
          1,
          0,
          0,
          1,
          0,
          0,
          1,
          0,
          0
         ],
         "yaxis": "y"
        },
        {
         "alignmentgroup": "True",
         "hovertemplate": "variable=#Repair<br>Time=%{x}<br>value=%{y}<extra></extra>",
         "legendgroup": "#Repair",
         "marker": {
          "color": "#FFA15A",
          "pattern": {
           "shape": ""
          }
         },
         "name": "#Repair",
         "offsetgroup": "#Repair",
         "orientation": "v",
         "showlegend": true,
         "textposition": "auto",
         "type": "bar",
         "x": [
          0,
          1,
          2,
          3,
          4,
          5,
          6,
          7,
          8,
          9,
          10,
          11,
          12,
          13,
          14,
          15,
          16,
          17,
          18,
          19,
          20,
          21,
          22,
          23,
          24,
          25,
          26,
          27,
          28,
          29,
          30,
          31,
          32,
          33,
          34,
          35,
          36,
          37,
          38,
          39,
          40,
          41,
          42,
          43,
          44,
          45,
          46,
          47,
          48,
          49
         ],
         "xaxis": "x",
         "y": [
          0,
          0,
          0,
          0,
          0,
          0,
          0,
          0,
          0,
          0,
          0,
          0,
          0,
          0,
          0,
          0,
          0,
          0,
          0,
          0,
          0,
          0,
          0,
          0,
          0,
          0,
          0,
          0,
          0,
          0,
          0,
          0,
          0,
          0,
          0,
          0,
          0,
          0,
          0,
          0,
          0,
          0,
          0,
          0,
          0,
          0,
          0,
          0,
          0,
          0
         ],
         "yaxis": "y"
        }
       ],
       "layout": {
        "barmode": "relative",
        "hovermode": "x",
        "legend": {
         "title": {
          "text": "variable"
         },
         "tracegroupgap": 0
        },
        "template": {
         "data": {
          "bar": [
           {
            "error_x": {
             "color": "#2a3f5f"
            },
            "error_y": {
             "color": "#2a3f5f"
            },
            "marker": {
             "line": {
              "color": "#E5ECF6",
              "width": 0.5
             },
             "pattern": {
              "fillmode": "overlay",
              "size": 10,
              "solidity": 0.2
             }
            },
            "type": "bar"
           }
          ],
          "barpolar": [
           {
            "marker": {
             "line": {
              "color": "#E5ECF6",
              "width": 0.5
             },
             "pattern": {
              "fillmode": "overlay",
              "size": 10,
              "solidity": 0.2
             }
            },
            "type": "barpolar"
           }
          ],
          "carpet": [
           {
            "aaxis": {
             "endlinecolor": "#2a3f5f",
             "gridcolor": "white",
             "linecolor": "white",
             "minorgridcolor": "white",
             "startlinecolor": "#2a3f5f"
            },
            "baxis": {
             "endlinecolor": "#2a3f5f",
             "gridcolor": "white",
             "linecolor": "white",
             "minorgridcolor": "white",
             "startlinecolor": "#2a3f5f"
            },
            "type": "carpet"
           }
          ],
          "choropleth": [
           {
            "colorbar": {
             "outlinewidth": 0,
             "ticks": ""
            },
            "type": "choropleth"
           }
          ],
          "contour": [
           {
            "colorbar": {
             "outlinewidth": 0,
             "ticks": ""
            },
            "colorscale": [
             [
              0,
              "#0d0887"
             ],
             [
              0.1111111111111111,
              "#46039f"
             ],
             [
              0.2222222222222222,
              "#7201a8"
             ],
             [
              0.3333333333333333,
              "#9c179e"
             ],
             [
              0.4444444444444444,
              "#bd3786"
             ],
             [
              0.5555555555555556,
              "#d8576b"
             ],
             [
              0.6666666666666666,
              "#ed7953"
             ],
             [
              0.7777777777777778,
              "#fb9f3a"
             ],
             [
              0.8888888888888888,
              "#fdca26"
             ],
             [
              1,
              "#f0f921"
             ]
            ],
            "type": "contour"
           }
          ],
          "contourcarpet": [
           {
            "colorbar": {
             "outlinewidth": 0,
             "ticks": ""
            },
            "type": "contourcarpet"
           }
          ],
          "heatmap": [
           {
            "colorbar": {
             "outlinewidth": 0,
             "ticks": ""
            },
            "colorscale": [
             [
              0,
              "#0d0887"
             ],
             [
              0.1111111111111111,
              "#46039f"
             ],
             [
              0.2222222222222222,
              "#7201a8"
             ],
             [
              0.3333333333333333,
              "#9c179e"
             ],
             [
              0.4444444444444444,
              "#bd3786"
             ],
             [
              0.5555555555555556,
              "#d8576b"
             ],
             [
              0.6666666666666666,
              "#ed7953"
             ],
             [
              0.7777777777777778,
              "#fb9f3a"
             ],
             [
              0.8888888888888888,
              "#fdca26"
             ],
             [
              1,
              "#f0f921"
             ]
            ],
            "type": "heatmap"
           }
          ],
          "heatmapgl": [
           {
            "colorbar": {
             "outlinewidth": 0,
             "ticks": ""
            },
            "colorscale": [
             [
              0,
              "#0d0887"
             ],
             [
              0.1111111111111111,
              "#46039f"
             ],
             [
              0.2222222222222222,
              "#7201a8"
             ],
             [
              0.3333333333333333,
              "#9c179e"
             ],
             [
              0.4444444444444444,
              "#bd3786"
             ],
             [
              0.5555555555555556,
              "#d8576b"
             ],
             [
              0.6666666666666666,
              "#ed7953"
             ],
             [
              0.7777777777777778,
              "#fb9f3a"
             ],
             [
              0.8888888888888888,
              "#fdca26"
             ],
             [
              1,
              "#f0f921"
             ]
            ],
            "type": "heatmapgl"
           }
          ],
          "histogram": [
           {
            "marker": {
             "pattern": {
              "fillmode": "overlay",
              "size": 10,
              "solidity": 0.2
             }
            },
            "type": "histogram"
           }
          ],
          "histogram2d": [
           {
            "colorbar": {
             "outlinewidth": 0,
             "ticks": ""
            },
            "colorscale": [
             [
              0,
              "#0d0887"
             ],
             [
              0.1111111111111111,
              "#46039f"
             ],
             [
              0.2222222222222222,
              "#7201a8"
             ],
             [
              0.3333333333333333,
              "#9c179e"
             ],
             [
              0.4444444444444444,
              "#bd3786"
             ],
             [
              0.5555555555555556,
              "#d8576b"
             ],
             [
              0.6666666666666666,
              "#ed7953"
             ],
             [
              0.7777777777777778,
              "#fb9f3a"
             ],
             [
              0.8888888888888888,
              "#fdca26"
             ],
             [
              1,
              "#f0f921"
             ]
            ],
            "type": "histogram2d"
           }
          ],
          "histogram2dcontour": [
           {
            "colorbar": {
             "outlinewidth": 0,
             "ticks": ""
            },
            "colorscale": [
             [
              0,
              "#0d0887"
             ],
             [
              0.1111111111111111,
              "#46039f"
             ],
             [
              0.2222222222222222,
              "#7201a8"
             ],
             [
              0.3333333333333333,
              "#9c179e"
             ],
             [
              0.4444444444444444,
              "#bd3786"
             ],
             [
              0.5555555555555556,
              "#d8576b"
             ],
             [
              0.6666666666666666,
              "#ed7953"
             ],
             [
              0.7777777777777778,
              "#fb9f3a"
             ],
             [
              0.8888888888888888,
              "#fdca26"
             ],
             [
              1,
              "#f0f921"
             ]
            ],
            "type": "histogram2dcontour"
           }
          ],
          "mesh3d": [
           {
            "colorbar": {
             "outlinewidth": 0,
             "ticks": ""
            },
            "type": "mesh3d"
           }
          ],
          "parcoords": [
           {
            "line": {
             "colorbar": {
              "outlinewidth": 0,
              "ticks": ""
             }
            },
            "type": "parcoords"
           }
          ],
          "pie": [
           {
            "automargin": true,
            "type": "pie"
           }
          ],
          "scatter": [
           {
            "fillpattern": {
             "fillmode": "overlay",
             "size": 10,
             "solidity": 0.2
            },
            "type": "scatter"
           }
          ],
          "scatter3d": [
           {
            "line": {
             "colorbar": {
              "outlinewidth": 0,
              "ticks": ""
             }
            },
            "marker": {
             "colorbar": {
              "outlinewidth": 0,
              "ticks": ""
             }
            },
            "type": "scatter3d"
           }
          ],
          "scattercarpet": [
           {
            "marker": {
             "colorbar": {
              "outlinewidth": 0,
              "ticks": ""
             }
            },
            "type": "scattercarpet"
           }
          ],
          "scattergeo": [
           {
            "marker": {
             "colorbar": {
              "outlinewidth": 0,
              "ticks": ""
             }
            },
            "type": "scattergeo"
           }
          ],
          "scattergl": [
           {
            "marker": {
             "colorbar": {
              "outlinewidth": 0,
              "ticks": ""
             }
            },
            "type": "scattergl"
           }
          ],
          "scattermapbox": [
           {
            "marker": {
             "colorbar": {
              "outlinewidth": 0,
              "ticks": ""
             }
            },
            "type": "scattermapbox"
           }
          ],
          "scatterpolar": [
           {
            "marker": {
             "colorbar": {
              "outlinewidth": 0,
              "ticks": ""
             }
            },
            "type": "scatterpolar"
           }
          ],
          "scatterpolargl": [
           {
            "marker": {
             "colorbar": {
              "outlinewidth": 0,
              "ticks": ""
             }
            },
            "type": "scatterpolargl"
           }
          ],
          "scatterternary": [
           {
            "marker": {
             "colorbar": {
              "outlinewidth": 0,
              "ticks": ""
             }
            },
            "type": "scatterternary"
           }
          ],
          "surface": [
           {
            "colorbar": {
             "outlinewidth": 0,
             "ticks": ""
            },
            "colorscale": [
             [
              0,
              "#0d0887"
             ],
             [
              0.1111111111111111,
              "#46039f"
             ],
             [
              0.2222222222222222,
              "#7201a8"
             ],
             [
              0.3333333333333333,
              "#9c179e"
             ],
             [
              0.4444444444444444,
              "#bd3786"
             ],
             [
              0.5555555555555556,
              "#d8576b"
             ],
             [
              0.6666666666666666,
              "#ed7953"
             ],
             [
              0.7777777777777778,
              "#fb9f3a"
             ],
             [
              0.8888888888888888,
              "#fdca26"
             ],
             [
              1,
              "#f0f921"
             ]
            ],
            "type": "surface"
           }
          ],
          "table": [
           {
            "cells": {
             "fill": {
              "color": "#EBF0F8"
             },
             "line": {
              "color": "white"
             }
            },
            "header": {
             "fill": {
              "color": "#C8D4E3"
             },
             "line": {
              "color": "white"
             }
            },
            "type": "table"
           }
          ]
         },
         "layout": {
          "annotationdefaults": {
           "arrowcolor": "#2a3f5f",
           "arrowhead": 0,
           "arrowwidth": 1
          },
          "autotypenumbers": "strict",
          "coloraxis": {
           "colorbar": {
            "outlinewidth": 0,
            "ticks": ""
           }
          },
          "colorscale": {
           "diverging": [
            [
             0,
             "#8e0152"
            ],
            [
             0.1,
             "#c51b7d"
            ],
            [
             0.2,
             "#de77ae"
            ],
            [
             0.3,
             "#f1b6da"
            ],
            [
             0.4,
             "#fde0ef"
            ],
            [
             0.5,
             "#f7f7f7"
            ],
            [
             0.6,
             "#e6f5d0"
            ],
            [
             0.7,
             "#b8e186"
            ],
            [
             0.8,
             "#7fbc41"
            ],
            [
             0.9,
             "#4d9221"
            ],
            [
             1,
             "#276419"
            ]
           ],
           "sequential": [
            [
             0,
             "#0d0887"
            ],
            [
             0.1111111111111111,
             "#46039f"
            ],
            [
             0.2222222222222222,
             "#7201a8"
            ],
            [
             0.3333333333333333,
             "#9c179e"
            ],
            [
             0.4444444444444444,
             "#bd3786"
            ],
            [
             0.5555555555555556,
             "#d8576b"
            ],
            [
             0.6666666666666666,
             "#ed7953"
            ],
            [
             0.7777777777777778,
             "#fb9f3a"
            ],
            [
             0.8888888888888888,
             "#fdca26"
            ],
            [
             1,
             "#f0f921"
            ]
           ],
           "sequentialminus": [
            [
             0,
             "#0d0887"
            ],
            [
             0.1111111111111111,
             "#46039f"
            ],
            [
             0.2222222222222222,
             "#7201a8"
            ],
            [
             0.3333333333333333,
             "#9c179e"
            ],
            [
             0.4444444444444444,
             "#bd3786"
            ],
            [
             0.5555555555555556,
             "#d8576b"
            ],
            [
             0.6666666666666666,
             "#ed7953"
            ],
            [
             0.7777777777777778,
             "#fb9f3a"
            ],
            [
             0.8888888888888888,
             "#fdca26"
            ],
            [
             1,
             "#f0f921"
            ]
           ]
          },
          "colorway": [
           "#636efa",
           "#EF553B",
           "#00cc96",
           "#ab63fa",
           "#FFA15A",
           "#19d3f3",
           "#FF6692",
           "#B6E880",
           "#FF97FF",
           "#FECB52"
          ],
          "font": {
           "color": "#2a3f5f"
          },
          "geo": {
           "bgcolor": "white",
           "lakecolor": "white",
           "landcolor": "#E5ECF6",
           "showlakes": true,
           "showland": true,
           "subunitcolor": "white"
          },
          "hoverlabel": {
           "align": "left"
          },
          "hovermode": "closest",
          "mapbox": {
           "style": "light"
          },
          "paper_bgcolor": "white",
          "plot_bgcolor": "#E5ECF6",
          "polar": {
           "angularaxis": {
            "gridcolor": "white",
            "linecolor": "white",
            "ticks": ""
           },
           "bgcolor": "#E5ECF6",
           "radialaxis": {
            "gridcolor": "white",
            "linecolor": "white",
            "ticks": ""
           }
          },
          "scene": {
           "xaxis": {
            "backgroundcolor": "#E5ECF6",
            "gridcolor": "white",
            "gridwidth": 2,
            "linecolor": "white",
            "showbackground": true,
            "ticks": "",
            "zerolinecolor": "white"
           },
           "yaxis": {
            "backgroundcolor": "#E5ECF6",
            "gridcolor": "white",
            "gridwidth": 2,
            "linecolor": "white",
            "showbackground": true,
            "ticks": "",
            "zerolinecolor": "white"
           },
           "zaxis": {
            "backgroundcolor": "#E5ECF6",
            "gridcolor": "white",
            "gridwidth": 2,
            "linecolor": "white",
            "showbackground": true,
            "ticks": "",
            "zerolinecolor": "white"
           }
          },
          "shapedefaults": {
           "line": {
            "color": "#2a3f5f"
           }
          },
          "ternary": {
           "aaxis": {
            "gridcolor": "white",
            "linecolor": "white",
            "ticks": ""
           },
           "baxis": {
            "gridcolor": "white",
            "linecolor": "white",
            "ticks": ""
           },
           "bgcolor": "#E5ECF6",
           "caxis": {
            "gridcolor": "white",
            "linecolor": "white",
            "ticks": ""
           }
          },
          "title": {
           "x": 0.05
          },
          "xaxis": {
           "automargin": true,
           "gridcolor": "white",
           "linecolor": "white",
           "ticks": "",
           "title": {
            "standoff": 15
           },
           "zerolinecolor": "white",
           "zerolinewidth": 2
          },
          "yaxis": {
           "automargin": true,
           "gridcolor": "white",
           "linecolor": "white",
           "ticks": "",
           "title": {
            "standoff": 15
           },
           "zerolinecolor": "white",
           "zerolinewidth": 2
          }
         }
        },
        "title": {
         "text": "CHO Robot Tasks vs Time"
        },
        "xaxis": {
         "anchor": "y",
         "domain": [
          0,
          1
         ],
         "title": {
          "text": "Time"
         }
        },
        "yaxis": {
         "anchor": "x",
         "domain": [
          0,
          1
         ],
         "title": {
          "text": "#Robots"
         }
        }
       }
      },
      "text/html": [
       "<div>                            <div id=\"9198625e-ac25-455a-aa2b-76c01ef88632\" class=\"plotly-graph-div\" style=\"height:525px; width:100%;\"></div>            <script type=\"text/javascript\">                require([\"plotly\"], function(Plotly) {                    window.PLOTLYENV=window.PLOTLYENV || {};                                    if (document.getElementById(\"9198625e-ac25-455a-aa2b-76c01ef88632\")) {                    Plotly.newPlot(                        \"9198625e-ac25-455a-aa2b-76c01ef88632\",                        [{\"alignmentgroup\":\"True\",\"hovertemplate\":\"variable=#Printing<br>Time=%{x}<br>value=%{y}<extra></extra>\",\"legendgroup\":\"#Printing\",\"marker\":{\"color\":\"#636efa\",\"pattern\":{\"shape\":\"\"}},\"name\":\"#Printing\",\"offsetgroup\":\"#Printing\",\"orientation\":\"v\",\"showlegend\":true,\"textposition\":\"auto\",\"x\":[0.0,1.0,2.0,3.0,4.0,5.0,6.0,7.0,8.0,9.0,10.0,11.0,12.0,13.0,14.0,15.0,16.0,17.0,18.0,19.0,20.0,21.0,22.0,23.0,24.0,25.0,26.0,27.0,28.0,29.0,30.0,31.0,32.0,33.0,34.0,35.0,36.0,37.0,38.0,39.0,40.0,41.0,42.0,43.0,44.0,45.0,46.0,47.0,48.0,49.0],\"xaxis\":\"x\",\"y\":[0.0,0.0,0.0,0.0,0.0,0.0,0.0,0.0,0.0,0.0,0.0,0.0,0.0,0.0,0.0,0.0,0.0,0.0,0.0,0.0,0.0,0.0,0.0,0.0,0.0,0.0,0.0,0.0,0.0,0.0,0.0,0.0,0.0,0.0,0.0,0.0,0.0,0.0,0.0,0.0,0.0,0.0,0.0,0.0,0.0,0.0,0.0,0.0,0.0,0.0],\"yaxis\":\"y\",\"type\":\"bar\"},{\"alignmentgroup\":\"True\",\"hovertemplate\":\"variable=#Assembling<br>Time=%{x}<br>value=%{y}<extra></extra>\",\"legendgroup\":\"#Assembling\",\"marker\":{\"color\":\"#EF553B\",\"pattern\":{\"shape\":\"\"}},\"name\":\"#Assembling\",\"offsetgroup\":\"#Assembling\",\"orientation\":\"v\",\"showlegend\":true,\"textposition\":\"auto\",\"x\":[0.0,1.0,2.0,3.0,4.0,5.0,6.0,7.0,8.0,9.0,10.0,11.0,12.0,13.0,14.0,15.0,16.0,17.0,18.0,19.0,20.0,21.0,22.0,23.0,24.0,25.0,26.0,27.0,28.0,29.0,30.0,31.0,32.0,33.0,34.0,35.0,36.0,37.0,38.0,39.0,40.0,41.0,42.0,43.0,44.0,45.0,46.0,47.0,48.0,49.0],\"xaxis\":\"x\",\"y\":[1.0,1.0,0.0,1.0,1.0,0.0,1.0,1.0,0.0,1.0,1.0,0.0,1.0,1.0,0.0,1.0,1.0,0.0,1.0,1.0,0.0,1.0,1.0,0.0,1.0,1.0,0.0,1.0,1.0,0.0,1.0,1.0,0.0,1.0,1.0,0.0,1.0,1.0,0.0,1.0,1.0,0.0,1.0,1.0,0.0,1.0,1.0,0.0,1.0,1.0],\"yaxis\":\"y\",\"type\":\"bar\"},{\"alignmentgroup\":\"True\",\"hovertemplate\":\"variable=#Collecting<br>Time=%{x}<br>value=%{y}<extra></extra>\",\"legendgroup\":\"#Collecting\",\"marker\":{\"color\":\"#00cc96\",\"pattern\":{\"shape\":\"\"}},\"name\":\"#Collecting\",\"offsetgroup\":\"#Collecting\",\"orientation\":\"v\",\"showlegend\":true,\"textposition\":\"auto\",\"x\":[0.0,1.0,2.0,3.0,4.0,5.0,6.0,7.0,8.0,9.0,10.0,11.0,12.0,13.0,14.0,15.0,16.0,17.0,18.0,19.0,20.0,21.0,22.0,23.0,24.0,25.0,26.0,27.0,28.0,29.0,30.0,31.0,32.0,33.0,34.0,35.0,36.0,37.0,38.0,39.0,40.0,41.0,42.0,43.0,44.0,45.0,46.0,47.0,48.0,49.0],\"xaxis\":\"x\",\"y\":[0.0,0.0,0.0,0.0,0.0,0.0,0.0,0.0,0.0,0.0,0.0,0.0,0.0,0.0,0.0,0.0,0.0,0.0,0.0,0.0,0.0,0.0,0.0,0.0,0.0,0.0,0.0,0.0,0.0,0.0,0.0,0.0,0.0,0.0,0.0,0.0,0.0,0.0,0.0,0.0,0.0,0.0,0.0,0.0,0.0,0.0,0.0,0.0,0.0,0.0],\"yaxis\":\"y\",\"type\":\"bar\"},{\"alignmentgroup\":\"True\",\"hovertemplate\":\"variable=#Idle<br>Time=%{x}<br>value=%{y}<extra></extra>\",\"legendgroup\":\"#Idle\",\"marker\":{\"color\":\"#ab63fa\",\"pattern\":{\"shape\":\"\"}},\"name\":\"#Idle\",\"offsetgroup\":\"#Idle\",\"orientation\":\"v\",\"showlegend\":true,\"textposition\":\"auto\",\"x\":[0.0,1.0,2.0,3.0,4.0,5.0,6.0,7.0,8.0,9.0,10.0,11.0,12.0,13.0,14.0,15.0,16.0,17.0,18.0,19.0,20.0,21.0,22.0,23.0,24.0,25.0,26.0,27.0,28.0,29.0,30.0,31.0,32.0,33.0,34.0,35.0,36.0,37.0,38.0,39.0,40.0,41.0,42.0,43.0,44.0,45.0,46.0,47.0,48.0,49.0],\"xaxis\":\"x\",\"y\":[0.0,0.0,1.0,0.0,0.0,1.0,0.0,0.0,1.0,0.0,0.0,1.0,0.0,0.0,1.0,0.0,0.0,1.0,0.0,0.0,1.0,0.0,0.0,1.0,0.0,0.0,1.0,0.0,0.0,1.0,0.0,0.0,1.0,0.0,0.0,1.0,0.0,0.0,1.0,0.0,0.0,1.0,0.0,0.0,1.0,0.0,0.0,1.0,0.0,0.0],\"yaxis\":\"y\",\"type\":\"bar\"},{\"alignmentgroup\":\"True\",\"hovertemplate\":\"variable=#Repair<br>Time=%{x}<br>value=%{y}<extra></extra>\",\"legendgroup\":\"#Repair\",\"marker\":{\"color\":\"#FFA15A\",\"pattern\":{\"shape\":\"\"}},\"name\":\"#Repair\",\"offsetgroup\":\"#Repair\",\"orientation\":\"v\",\"showlegend\":true,\"textposition\":\"auto\",\"x\":[0.0,1.0,2.0,3.0,4.0,5.0,6.0,7.0,8.0,9.0,10.0,11.0,12.0,13.0,14.0,15.0,16.0,17.0,18.0,19.0,20.0,21.0,22.0,23.0,24.0,25.0,26.0,27.0,28.0,29.0,30.0,31.0,32.0,33.0,34.0,35.0,36.0,37.0,38.0,39.0,40.0,41.0,42.0,43.0,44.0,45.0,46.0,47.0,48.0,49.0],\"xaxis\":\"x\",\"y\":[0.0,0.0,0.0,0.0,0.0,0.0,0.0,0.0,0.0,0.0,0.0,0.0,0.0,0.0,0.0,0.0,0.0,0.0,0.0,0.0,0.0,0.0,0.0,0.0,0.0,0.0,0.0,0.0,0.0,0.0,0.0,0.0,0.0,0.0,0.0,0.0,0.0,0.0,0.0,0.0,0.0,0.0,0.0,0.0,0.0,0.0,0.0,0.0,0.0,0.0],\"yaxis\":\"y\",\"type\":\"bar\"}],                        {\"template\":{\"data\":{\"histogram2dcontour\":[{\"type\":\"histogram2dcontour\",\"colorbar\":{\"outlinewidth\":0,\"ticks\":\"\"},\"colorscale\":[[0.0,\"#0d0887\"],[0.1111111111111111,\"#46039f\"],[0.2222222222222222,\"#7201a8\"],[0.3333333333333333,\"#9c179e\"],[0.4444444444444444,\"#bd3786\"],[0.5555555555555556,\"#d8576b\"],[0.6666666666666666,\"#ed7953\"],[0.7777777777777778,\"#fb9f3a\"],[0.8888888888888888,\"#fdca26\"],[1.0,\"#f0f921\"]]}],\"choropleth\":[{\"type\":\"choropleth\",\"colorbar\":{\"outlinewidth\":0,\"ticks\":\"\"}}],\"histogram2d\":[{\"type\":\"histogram2d\",\"colorbar\":{\"outlinewidth\":0,\"ticks\":\"\"},\"colorscale\":[[0.0,\"#0d0887\"],[0.1111111111111111,\"#46039f\"],[0.2222222222222222,\"#7201a8\"],[0.3333333333333333,\"#9c179e\"],[0.4444444444444444,\"#bd3786\"],[0.5555555555555556,\"#d8576b\"],[0.6666666666666666,\"#ed7953\"],[0.7777777777777778,\"#fb9f3a\"],[0.8888888888888888,\"#fdca26\"],[1.0,\"#f0f921\"]]}],\"heatmap\":[{\"type\":\"heatmap\",\"colorbar\":{\"outlinewidth\":0,\"ticks\":\"\"},\"colorscale\":[[0.0,\"#0d0887\"],[0.1111111111111111,\"#46039f\"],[0.2222222222222222,\"#7201a8\"],[0.3333333333333333,\"#9c179e\"],[0.4444444444444444,\"#bd3786\"],[0.5555555555555556,\"#d8576b\"],[0.6666666666666666,\"#ed7953\"],[0.7777777777777778,\"#fb9f3a\"],[0.8888888888888888,\"#fdca26\"],[1.0,\"#f0f921\"]]}],\"heatmapgl\":[{\"type\":\"heatmapgl\",\"colorbar\":{\"outlinewidth\":0,\"ticks\":\"\"},\"colorscale\":[[0.0,\"#0d0887\"],[0.1111111111111111,\"#46039f\"],[0.2222222222222222,\"#7201a8\"],[0.3333333333333333,\"#9c179e\"],[0.4444444444444444,\"#bd3786\"],[0.5555555555555556,\"#d8576b\"],[0.6666666666666666,\"#ed7953\"],[0.7777777777777778,\"#fb9f3a\"],[0.8888888888888888,\"#fdca26\"],[1.0,\"#f0f921\"]]}],\"contourcarpet\":[{\"type\":\"contourcarpet\",\"colorbar\":{\"outlinewidth\":0,\"ticks\":\"\"}}],\"contour\":[{\"type\":\"contour\",\"colorbar\":{\"outlinewidth\":0,\"ticks\":\"\"},\"colorscale\":[[0.0,\"#0d0887\"],[0.1111111111111111,\"#46039f\"],[0.2222222222222222,\"#7201a8\"],[0.3333333333333333,\"#9c179e\"],[0.4444444444444444,\"#bd3786\"],[0.5555555555555556,\"#d8576b\"],[0.6666666666666666,\"#ed7953\"],[0.7777777777777778,\"#fb9f3a\"],[0.8888888888888888,\"#fdca26\"],[1.0,\"#f0f921\"]]}],\"surface\":[{\"type\":\"surface\",\"colorbar\":{\"outlinewidth\":0,\"ticks\":\"\"},\"colorscale\":[[0.0,\"#0d0887\"],[0.1111111111111111,\"#46039f\"],[0.2222222222222222,\"#7201a8\"],[0.3333333333333333,\"#9c179e\"],[0.4444444444444444,\"#bd3786\"],[0.5555555555555556,\"#d8576b\"],[0.6666666666666666,\"#ed7953\"],[0.7777777777777778,\"#fb9f3a\"],[0.8888888888888888,\"#fdca26\"],[1.0,\"#f0f921\"]]}],\"mesh3d\":[{\"type\":\"mesh3d\",\"colorbar\":{\"outlinewidth\":0,\"ticks\":\"\"}}],\"scatter\":[{\"fillpattern\":{\"fillmode\":\"overlay\",\"size\":10,\"solidity\":0.2},\"type\":\"scatter\"}],\"parcoords\":[{\"type\":\"parcoords\",\"line\":{\"colorbar\":{\"outlinewidth\":0,\"ticks\":\"\"}}}],\"scatterpolargl\":[{\"type\":\"scatterpolargl\",\"marker\":{\"colorbar\":{\"outlinewidth\":0,\"ticks\":\"\"}}}],\"bar\":[{\"error_x\":{\"color\":\"#2a3f5f\"},\"error_y\":{\"color\":\"#2a3f5f\"},\"marker\":{\"line\":{\"color\":\"#E5ECF6\",\"width\":0.5},\"pattern\":{\"fillmode\":\"overlay\",\"size\":10,\"solidity\":0.2}},\"type\":\"bar\"}],\"scattergeo\":[{\"type\":\"scattergeo\",\"marker\":{\"colorbar\":{\"outlinewidth\":0,\"ticks\":\"\"}}}],\"scatterpolar\":[{\"type\":\"scatterpolar\",\"marker\":{\"colorbar\":{\"outlinewidth\":0,\"ticks\":\"\"}}}],\"histogram\":[{\"marker\":{\"pattern\":{\"fillmode\":\"overlay\",\"size\":10,\"solidity\":0.2}},\"type\":\"histogram\"}],\"scattergl\":[{\"type\":\"scattergl\",\"marker\":{\"colorbar\":{\"outlinewidth\":0,\"ticks\":\"\"}}}],\"scatter3d\":[{\"type\":\"scatter3d\",\"line\":{\"colorbar\":{\"outlinewidth\":0,\"ticks\":\"\"}},\"marker\":{\"colorbar\":{\"outlinewidth\":0,\"ticks\":\"\"}}}],\"scattermapbox\":[{\"type\":\"scattermapbox\",\"marker\":{\"colorbar\":{\"outlinewidth\":0,\"ticks\":\"\"}}}],\"scatterternary\":[{\"type\":\"scatterternary\",\"marker\":{\"colorbar\":{\"outlinewidth\":0,\"ticks\":\"\"}}}],\"scattercarpet\":[{\"type\":\"scattercarpet\",\"marker\":{\"colorbar\":{\"outlinewidth\":0,\"ticks\":\"\"}}}],\"carpet\":[{\"aaxis\":{\"endlinecolor\":\"#2a3f5f\",\"gridcolor\":\"white\",\"linecolor\":\"white\",\"minorgridcolor\":\"white\",\"startlinecolor\":\"#2a3f5f\"},\"baxis\":{\"endlinecolor\":\"#2a3f5f\",\"gridcolor\":\"white\",\"linecolor\":\"white\",\"minorgridcolor\":\"white\",\"startlinecolor\":\"#2a3f5f\"},\"type\":\"carpet\"}],\"table\":[{\"cells\":{\"fill\":{\"color\":\"#EBF0F8\"},\"line\":{\"color\":\"white\"}},\"header\":{\"fill\":{\"color\":\"#C8D4E3\"},\"line\":{\"color\":\"white\"}},\"type\":\"table\"}],\"barpolar\":[{\"marker\":{\"line\":{\"color\":\"#E5ECF6\",\"width\":0.5},\"pattern\":{\"fillmode\":\"overlay\",\"size\":10,\"solidity\":0.2}},\"type\":\"barpolar\"}],\"pie\":[{\"automargin\":true,\"type\":\"pie\"}]},\"layout\":{\"autotypenumbers\":\"strict\",\"colorway\":[\"#636efa\",\"#EF553B\",\"#00cc96\",\"#ab63fa\",\"#FFA15A\",\"#19d3f3\",\"#FF6692\",\"#B6E880\",\"#FF97FF\",\"#FECB52\"],\"font\":{\"color\":\"#2a3f5f\"},\"hovermode\":\"closest\",\"hoverlabel\":{\"align\":\"left\"},\"paper_bgcolor\":\"white\",\"plot_bgcolor\":\"#E5ECF6\",\"polar\":{\"bgcolor\":\"#E5ECF6\",\"angularaxis\":{\"gridcolor\":\"white\",\"linecolor\":\"white\",\"ticks\":\"\"},\"radialaxis\":{\"gridcolor\":\"white\",\"linecolor\":\"white\",\"ticks\":\"\"}},\"ternary\":{\"bgcolor\":\"#E5ECF6\",\"aaxis\":{\"gridcolor\":\"white\",\"linecolor\":\"white\",\"ticks\":\"\"},\"baxis\":{\"gridcolor\":\"white\",\"linecolor\":\"white\",\"ticks\":\"\"},\"caxis\":{\"gridcolor\":\"white\",\"linecolor\":\"white\",\"ticks\":\"\"}},\"coloraxis\":{\"colorbar\":{\"outlinewidth\":0,\"ticks\":\"\"}},\"colorscale\":{\"sequential\":[[0.0,\"#0d0887\"],[0.1111111111111111,\"#46039f\"],[0.2222222222222222,\"#7201a8\"],[0.3333333333333333,\"#9c179e\"],[0.4444444444444444,\"#bd3786\"],[0.5555555555555556,\"#d8576b\"],[0.6666666666666666,\"#ed7953\"],[0.7777777777777778,\"#fb9f3a\"],[0.8888888888888888,\"#fdca26\"],[1.0,\"#f0f921\"]],\"sequentialminus\":[[0.0,\"#0d0887\"],[0.1111111111111111,\"#46039f\"],[0.2222222222222222,\"#7201a8\"],[0.3333333333333333,\"#9c179e\"],[0.4444444444444444,\"#bd3786\"],[0.5555555555555556,\"#d8576b\"],[0.6666666666666666,\"#ed7953\"],[0.7777777777777778,\"#fb9f3a\"],[0.8888888888888888,\"#fdca26\"],[1.0,\"#f0f921\"]],\"diverging\":[[0,\"#8e0152\"],[0.1,\"#c51b7d\"],[0.2,\"#de77ae\"],[0.3,\"#f1b6da\"],[0.4,\"#fde0ef\"],[0.5,\"#f7f7f7\"],[0.6,\"#e6f5d0\"],[0.7,\"#b8e186\"],[0.8,\"#7fbc41\"],[0.9,\"#4d9221\"],[1,\"#276419\"]]},\"xaxis\":{\"gridcolor\":\"white\",\"linecolor\":\"white\",\"ticks\":\"\",\"title\":{\"standoff\":15},\"zerolinecolor\":\"white\",\"automargin\":true,\"zerolinewidth\":2},\"yaxis\":{\"gridcolor\":\"white\",\"linecolor\":\"white\",\"ticks\":\"\",\"title\":{\"standoff\":15},\"zerolinecolor\":\"white\",\"automargin\":true,\"zerolinewidth\":2},\"scene\":{\"xaxis\":{\"backgroundcolor\":\"#E5ECF6\",\"gridcolor\":\"white\",\"linecolor\":\"white\",\"showbackground\":true,\"ticks\":\"\",\"zerolinecolor\":\"white\",\"gridwidth\":2},\"yaxis\":{\"backgroundcolor\":\"#E5ECF6\",\"gridcolor\":\"white\",\"linecolor\":\"white\",\"showbackground\":true,\"ticks\":\"\",\"zerolinecolor\":\"white\",\"gridwidth\":2},\"zaxis\":{\"backgroundcolor\":\"#E5ECF6\",\"gridcolor\":\"white\",\"linecolor\":\"white\",\"showbackground\":true,\"ticks\":\"\",\"zerolinecolor\":\"white\",\"gridwidth\":2}},\"shapedefaults\":{\"line\":{\"color\":\"#2a3f5f\"}},\"annotationdefaults\":{\"arrowcolor\":\"#2a3f5f\",\"arrowhead\":0,\"arrowwidth\":1},\"geo\":{\"bgcolor\":\"white\",\"landcolor\":\"#E5ECF6\",\"subunitcolor\":\"white\",\"showland\":true,\"showlakes\":true,\"lakecolor\":\"white\"},\"title\":{\"x\":0.05},\"mapbox\":{\"style\":\"light\"}}},\"xaxis\":{\"anchor\":\"y\",\"domain\":[0.0,1.0],\"title\":{\"text\":\"Time\"}},\"yaxis\":{\"anchor\":\"x\",\"domain\":[0.0,1.0],\"title\":{\"text\":\"#Robots\"}},\"legend\":{\"title\":{\"text\":\"variable\"},\"tracegroupgap\":0},\"title\":{\"text\":\"CHO Robot Tasks vs Time\"},\"barmode\":\"relative\",\"hovermode\":\"x\"},                        {\"responsive\": true}                    ).then(function(){\n",
       "                            \n",
       "var gd = document.getElementById('9198625e-ac25-455a-aa2b-76c01ef88632');\n",
       "var x = new MutationObserver(function (mutations, observer) {{\n",
       "        var display = window.getComputedStyle(gd).display;\n",
       "        if (!display || display === 'none') {{\n",
       "            console.log([gd, 'removed!']);\n",
       "            Plotly.purge(gd);\n",
       "            observer.disconnect();\n",
       "        }}\n",
       "}});\n",
       "\n",
       "// Listen for the removal of the full notebook cells\n",
       "var notebookContainer = gd.closest('#notebook-container');\n",
       "if (notebookContainer) {{\n",
       "    x.observe(notebookContainer, {childList: true});\n",
       "}}\n",
       "\n",
       "// Listen for the clearing of the current output cell\n",
       "var outputEl = gd.closest('.output');\n",
       "if (outputEl) {{\n",
       "    x.observe(outputEl, {childList: true});\n",
       "}}\n",
       "\n",
       "                        })                };                });            </script>        </div>"
      ]
     },
     "metadata": {},
     "output_type": "display_data"
    },
    {
     "data": {
      "application/vnd.plotly.v1+json": {
       "config": {
        "plotlyServerURL": "https://plotly.com"
       },
       "data": [
        {
         "alignmentgroup": "True",
         "hovertemplate": "variable=#In<br>Time=%{x}<br>value=%{y}<extra></extra>",
         "legendgroup": "#In",
         "marker": {
          "color": "#636efa",
          "pattern": {
           "shape": ""
          }
         },
         "name": "#In",
         "offsetgroup": "#In",
         "orientation": "v",
         "showlegend": true,
         "textposition": "auto",
         "type": "bar",
         "x": [
          0,
          1,
          2,
          3,
          4,
          5,
          6,
          7,
          8,
          9,
          10,
          11,
          12,
          13,
          14,
          15,
          16,
          17,
          18,
          19,
          20,
          21,
          22,
          23,
          24,
          25,
          26,
          27,
          28,
          29,
          30,
          31,
          32,
          33,
          34,
          35,
          36,
          37,
          38,
          39,
          40,
          41,
          42,
          43,
          44,
          45,
          46,
          47,
          48,
          49
         ],
         "xaxis": "x",
         "y": [
          1,
          1,
          1,
          1,
          1,
          1,
          1,
          1,
          1,
          1,
          1,
          1,
          1,
          1,
          1,
          1,
          1,
          1,
          1,
          1,
          1,
          1,
          1,
          1,
          1,
          1,
          1,
          1,
          1,
          1,
          1,
          1,
          1,
          1,
          1,
          1,
          1,
          1,
          1,
          1,
          1,
          1,
          1,
          1,
          1,
          1,
          1,
          1,
          1,
          1
         ],
         "yaxis": "y"
        },
        {
         "alignmentgroup": "True",
         "hovertemplate": "variable=#Out<br>Time=%{x}<br>value=%{y}<extra></extra>",
         "legendgroup": "#Out",
         "marker": {
          "color": "#EF553B",
          "pattern": {
           "shape": ""
          }
         },
         "name": "#Out",
         "offsetgroup": "#Out",
         "orientation": "v",
         "showlegend": true,
         "textposition": "auto",
         "type": "bar",
         "x": [
          0,
          1,
          2,
          3,
          4,
          5,
          6,
          7,
          8,
          9,
          10,
          11,
          12,
          13,
          14,
          15,
          16,
          17,
          18,
          19,
          20,
          21,
          22,
          23,
          24,
          25,
          26,
          27,
          28,
          29,
          30,
          31,
          32,
          33,
          34,
          35,
          36,
          37,
          38,
          39,
          40,
          41,
          42,
          43,
          44,
          45,
          46,
          47,
          48,
          49
         ],
         "xaxis": "x",
         "y": [
          0,
          0,
          0,
          0,
          0,
          0,
          0,
          0,
          0,
          0,
          0,
          0,
          0,
          0,
          0,
          0,
          0,
          0,
          0,
          0,
          0,
          0,
          0,
          0,
          0,
          0,
          0,
          0,
          0,
          0,
          0,
          0,
          0,
          0,
          0,
          0,
          0,
          0,
          0,
          0,
          0,
          0,
          0,
          0,
          0,
          0,
          0,
          0,
          0,
          0
         ],
         "yaxis": "y"
        }
       ],
       "layout": {
        "barmode": "relative",
        "hovermode": "x",
        "legend": {
         "title": {
          "text": "variable"
         },
         "tracegroupgap": 0
        },
        "template": {
         "data": {
          "bar": [
           {
            "error_x": {
             "color": "#2a3f5f"
            },
            "error_y": {
             "color": "#2a3f5f"
            },
            "marker": {
             "line": {
              "color": "#E5ECF6",
              "width": 0.5
             },
             "pattern": {
              "fillmode": "overlay",
              "size": 10,
              "solidity": 0.2
             }
            },
            "type": "bar"
           }
          ],
          "barpolar": [
           {
            "marker": {
             "line": {
              "color": "#E5ECF6",
              "width": 0.5
             },
             "pattern": {
              "fillmode": "overlay",
              "size": 10,
              "solidity": 0.2
             }
            },
            "type": "barpolar"
           }
          ],
          "carpet": [
           {
            "aaxis": {
             "endlinecolor": "#2a3f5f",
             "gridcolor": "white",
             "linecolor": "white",
             "minorgridcolor": "white",
             "startlinecolor": "#2a3f5f"
            },
            "baxis": {
             "endlinecolor": "#2a3f5f",
             "gridcolor": "white",
             "linecolor": "white",
             "minorgridcolor": "white",
             "startlinecolor": "#2a3f5f"
            },
            "type": "carpet"
           }
          ],
          "choropleth": [
           {
            "colorbar": {
             "outlinewidth": 0,
             "ticks": ""
            },
            "type": "choropleth"
           }
          ],
          "contour": [
           {
            "colorbar": {
             "outlinewidth": 0,
             "ticks": ""
            },
            "colorscale": [
             [
              0,
              "#0d0887"
             ],
             [
              0.1111111111111111,
              "#46039f"
             ],
             [
              0.2222222222222222,
              "#7201a8"
             ],
             [
              0.3333333333333333,
              "#9c179e"
             ],
             [
              0.4444444444444444,
              "#bd3786"
             ],
             [
              0.5555555555555556,
              "#d8576b"
             ],
             [
              0.6666666666666666,
              "#ed7953"
             ],
             [
              0.7777777777777778,
              "#fb9f3a"
             ],
             [
              0.8888888888888888,
              "#fdca26"
             ],
             [
              1,
              "#f0f921"
             ]
            ],
            "type": "contour"
           }
          ],
          "contourcarpet": [
           {
            "colorbar": {
             "outlinewidth": 0,
             "ticks": ""
            },
            "type": "contourcarpet"
           }
          ],
          "heatmap": [
           {
            "colorbar": {
             "outlinewidth": 0,
             "ticks": ""
            },
            "colorscale": [
             [
              0,
              "#0d0887"
             ],
             [
              0.1111111111111111,
              "#46039f"
             ],
             [
              0.2222222222222222,
              "#7201a8"
             ],
             [
              0.3333333333333333,
              "#9c179e"
             ],
             [
              0.4444444444444444,
              "#bd3786"
             ],
             [
              0.5555555555555556,
              "#d8576b"
             ],
             [
              0.6666666666666666,
              "#ed7953"
             ],
             [
              0.7777777777777778,
              "#fb9f3a"
             ],
             [
              0.8888888888888888,
              "#fdca26"
             ],
             [
              1,
              "#f0f921"
             ]
            ],
            "type": "heatmap"
           }
          ],
          "heatmapgl": [
           {
            "colorbar": {
             "outlinewidth": 0,
             "ticks": ""
            },
            "colorscale": [
             [
              0,
              "#0d0887"
             ],
             [
              0.1111111111111111,
              "#46039f"
             ],
             [
              0.2222222222222222,
              "#7201a8"
             ],
             [
              0.3333333333333333,
              "#9c179e"
             ],
             [
              0.4444444444444444,
              "#bd3786"
             ],
             [
              0.5555555555555556,
              "#d8576b"
             ],
             [
              0.6666666666666666,
              "#ed7953"
             ],
             [
              0.7777777777777778,
              "#fb9f3a"
             ],
             [
              0.8888888888888888,
              "#fdca26"
             ],
             [
              1,
              "#f0f921"
             ]
            ],
            "type": "heatmapgl"
           }
          ],
          "histogram": [
           {
            "marker": {
             "pattern": {
              "fillmode": "overlay",
              "size": 10,
              "solidity": 0.2
             }
            },
            "type": "histogram"
           }
          ],
          "histogram2d": [
           {
            "colorbar": {
             "outlinewidth": 0,
             "ticks": ""
            },
            "colorscale": [
             [
              0,
              "#0d0887"
             ],
             [
              0.1111111111111111,
              "#46039f"
             ],
             [
              0.2222222222222222,
              "#7201a8"
             ],
             [
              0.3333333333333333,
              "#9c179e"
             ],
             [
              0.4444444444444444,
              "#bd3786"
             ],
             [
              0.5555555555555556,
              "#d8576b"
             ],
             [
              0.6666666666666666,
              "#ed7953"
             ],
             [
              0.7777777777777778,
              "#fb9f3a"
             ],
             [
              0.8888888888888888,
              "#fdca26"
             ],
             [
              1,
              "#f0f921"
             ]
            ],
            "type": "histogram2d"
           }
          ],
          "histogram2dcontour": [
           {
            "colorbar": {
             "outlinewidth": 0,
             "ticks": ""
            },
            "colorscale": [
             [
              0,
              "#0d0887"
             ],
             [
              0.1111111111111111,
              "#46039f"
             ],
             [
              0.2222222222222222,
              "#7201a8"
             ],
             [
              0.3333333333333333,
              "#9c179e"
             ],
             [
              0.4444444444444444,
              "#bd3786"
             ],
             [
              0.5555555555555556,
              "#d8576b"
             ],
             [
              0.6666666666666666,
              "#ed7953"
             ],
             [
              0.7777777777777778,
              "#fb9f3a"
             ],
             [
              0.8888888888888888,
              "#fdca26"
             ],
             [
              1,
              "#f0f921"
             ]
            ],
            "type": "histogram2dcontour"
           }
          ],
          "mesh3d": [
           {
            "colorbar": {
             "outlinewidth": 0,
             "ticks": ""
            },
            "type": "mesh3d"
           }
          ],
          "parcoords": [
           {
            "line": {
             "colorbar": {
              "outlinewidth": 0,
              "ticks": ""
             }
            },
            "type": "parcoords"
           }
          ],
          "pie": [
           {
            "automargin": true,
            "type": "pie"
           }
          ],
          "scatter": [
           {
            "fillpattern": {
             "fillmode": "overlay",
             "size": 10,
             "solidity": 0.2
            },
            "type": "scatter"
           }
          ],
          "scatter3d": [
           {
            "line": {
             "colorbar": {
              "outlinewidth": 0,
              "ticks": ""
             }
            },
            "marker": {
             "colorbar": {
              "outlinewidth": 0,
              "ticks": ""
             }
            },
            "type": "scatter3d"
           }
          ],
          "scattercarpet": [
           {
            "marker": {
             "colorbar": {
              "outlinewidth": 0,
              "ticks": ""
             }
            },
            "type": "scattercarpet"
           }
          ],
          "scattergeo": [
           {
            "marker": {
             "colorbar": {
              "outlinewidth": 0,
              "ticks": ""
             }
            },
            "type": "scattergeo"
           }
          ],
          "scattergl": [
           {
            "marker": {
             "colorbar": {
              "outlinewidth": 0,
              "ticks": ""
             }
            },
            "type": "scattergl"
           }
          ],
          "scattermapbox": [
           {
            "marker": {
             "colorbar": {
              "outlinewidth": 0,
              "ticks": ""
             }
            },
            "type": "scattermapbox"
           }
          ],
          "scatterpolar": [
           {
            "marker": {
             "colorbar": {
              "outlinewidth": 0,
              "ticks": ""
             }
            },
            "type": "scatterpolar"
           }
          ],
          "scatterpolargl": [
           {
            "marker": {
             "colorbar": {
              "outlinewidth": 0,
              "ticks": ""
             }
            },
            "type": "scatterpolargl"
           }
          ],
          "scatterternary": [
           {
            "marker": {
             "colorbar": {
              "outlinewidth": 0,
              "ticks": ""
             }
            },
            "type": "scatterternary"
           }
          ],
          "surface": [
           {
            "colorbar": {
             "outlinewidth": 0,
             "ticks": ""
            },
            "colorscale": [
             [
              0,
              "#0d0887"
             ],
             [
              0.1111111111111111,
              "#46039f"
             ],
             [
              0.2222222222222222,
              "#7201a8"
             ],
             [
              0.3333333333333333,
              "#9c179e"
             ],
             [
              0.4444444444444444,
              "#bd3786"
             ],
             [
              0.5555555555555556,
              "#d8576b"
             ],
             [
              0.6666666666666666,
              "#ed7953"
             ],
             [
              0.7777777777777778,
              "#fb9f3a"
             ],
             [
              0.8888888888888888,
              "#fdca26"
             ],
             [
              1,
              "#f0f921"
             ]
            ],
            "type": "surface"
           }
          ],
          "table": [
           {
            "cells": {
             "fill": {
              "color": "#EBF0F8"
             },
             "line": {
              "color": "white"
             }
            },
            "header": {
             "fill": {
              "color": "#C8D4E3"
             },
             "line": {
              "color": "white"
             }
            },
            "type": "table"
           }
          ]
         },
         "layout": {
          "annotationdefaults": {
           "arrowcolor": "#2a3f5f",
           "arrowhead": 0,
           "arrowwidth": 1
          },
          "autotypenumbers": "strict",
          "coloraxis": {
           "colorbar": {
            "outlinewidth": 0,
            "ticks": ""
           }
          },
          "colorscale": {
           "diverging": [
            [
             0,
             "#8e0152"
            ],
            [
             0.1,
             "#c51b7d"
            ],
            [
             0.2,
             "#de77ae"
            ],
            [
             0.3,
             "#f1b6da"
            ],
            [
             0.4,
             "#fde0ef"
            ],
            [
             0.5,
             "#f7f7f7"
            ],
            [
             0.6,
             "#e6f5d0"
            ],
            [
             0.7,
             "#b8e186"
            ],
            [
             0.8,
             "#7fbc41"
            ],
            [
             0.9,
             "#4d9221"
            ],
            [
             1,
             "#276419"
            ]
           ],
           "sequential": [
            [
             0,
             "#0d0887"
            ],
            [
             0.1111111111111111,
             "#46039f"
            ],
            [
             0.2222222222222222,
             "#7201a8"
            ],
            [
             0.3333333333333333,
             "#9c179e"
            ],
            [
             0.4444444444444444,
             "#bd3786"
            ],
            [
             0.5555555555555556,
             "#d8576b"
            ],
            [
             0.6666666666666666,
             "#ed7953"
            ],
            [
             0.7777777777777778,
             "#fb9f3a"
            ],
            [
             0.8888888888888888,
             "#fdca26"
            ],
            [
             1,
             "#f0f921"
            ]
           ],
           "sequentialminus": [
            [
             0,
             "#0d0887"
            ],
            [
             0.1111111111111111,
             "#46039f"
            ],
            [
             0.2222222222222222,
             "#7201a8"
            ],
            [
             0.3333333333333333,
             "#9c179e"
            ],
            [
             0.4444444444444444,
             "#bd3786"
            ],
            [
             0.5555555555555556,
             "#d8576b"
            ],
            [
             0.6666666666666666,
             "#ed7953"
            ],
            [
             0.7777777777777778,
             "#fb9f3a"
            ],
            [
             0.8888888888888888,
             "#fdca26"
            ],
            [
             1,
             "#f0f921"
            ]
           ]
          },
          "colorway": [
           "#636efa",
           "#EF553B",
           "#00cc96",
           "#ab63fa",
           "#FFA15A",
           "#19d3f3",
           "#FF6692",
           "#B6E880",
           "#FF97FF",
           "#FECB52"
          ],
          "font": {
           "color": "#2a3f5f"
          },
          "geo": {
           "bgcolor": "white",
           "lakecolor": "white",
           "landcolor": "#E5ECF6",
           "showlakes": true,
           "showland": true,
           "subunitcolor": "white"
          },
          "hoverlabel": {
           "align": "left"
          },
          "hovermode": "closest",
          "mapbox": {
           "style": "light"
          },
          "paper_bgcolor": "white",
          "plot_bgcolor": "#E5ECF6",
          "polar": {
           "angularaxis": {
            "gridcolor": "white",
            "linecolor": "white",
            "ticks": ""
           },
           "bgcolor": "#E5ECF6",
           "radialaxis": {
            "gridcolor": "white",
            "linecolor": "white",
            "ticks": ""
           }
          },
          "scene": {
           "xaxis": {
            "backgroundcolor": "#E5ECF6",
            "gridcolor": "white",
            "gridwidth": 2,
            "linecolor": "white",
            "showbackground": true,
            "ticks": "",
            "zerolinecolor": "white"
           },
           "yaxis": {
            "backgroundcolor": "#E5ECF6",
            "gridcolor": "white",
            "gridwidth": 2,
            "linecolor": "white",
            "showbackground": true,
            "ticks": "",
            "zerolinecolor": "white"
           },
           "zaxis": {
            "backgroundcolor": "#E5ECF6",
            "gridcolor": "white",
            "gridwidth": 2,
            "linecolor": "white",
            "showbackground": true,
            "ticks": "",
            "zerolinecolor": "white"
           }
          },
          "shapedefaults": {
           "line": {
            "color": "#2a3f5f"
           }
          },
          "ternary": {
           "aaxis": {
            "gridcolor": "white",
            "linecolor": "white",
            "ticks": ""
           },
           "baxis": {
            "gridcolor": "white",
            "linecolor": "white",
            "ticks": ""
           },
           "bgcolor": "#E5ECF6",
           "caxis": {
            "gridcolor": "white",
            "linecolor": "white",
            "ticks": ""
           }
          },
          "title": {
           "x": 0.05
          },
          "xaxis": {
           "automargin": true,
           "gridcolor": "white",
           "linecolor": "white",
           "ticks": "",
           "title": {
            "standoff": 15
           },
           "zerolinecolor": "white",
           "zerolinewidth": 2
          },
          "yaxis": {
           "automargin": true,
           "gridcolor": "white",
           "linecolor": "white",
           "ticks": "",
           "title": {
            "standoff": 15
           },
           "zerolinecolor": "white",
           "zerolinewidth": 2
          }
         }
        },
        "title": {
         "text": "CHO Robots in service vs Time"
        },
        "xaxis": {
         "anchor": "y",
         "domain": [
          0,
          1
         ],
         "title": {
          "text": "Time"
         }
        },
        "yaxis": {
         "anchor": "x",
         "domain": [
          0,
          1
         ],
         "title": {
          "text": "#Robots"
         }
        }
       }
      },
      "text/html": [
       "<div>                            <div id=\"b1fbbcf5-b14b-4338-8fa7-9dd4bb6d8ea2\" class=\"plotly-graph-div\" style=\"height:525px; width:100%;\"></div>            <script type=\"text/javascript\">                require([\"plotly\"], function(Plotly) {                    window.PLOTLYENV=window.PLOTLYENV || {};                                    if (document.getElementById(\"b1fbbcf5-b14b-4338-8fa7-9dd4bb6d8ea2\")) {                    Plotly.newPlot(                        \"b1fbbcf5-b14b-4338-8fa7-9dd4bb6d8ea2\",                        [{\"alignmentgroup\":\"True\",\"hovertemplate\":\"variable=#In<br>Time=%{x}<br>value=%{y}<extra></extra>\",\"legendgroup\":\"#In\",\"marker\":{\"color\":\"#636efa\",\"pattern\":{\"shape\":\"\"}},\"name\":\"#In\",\"offsetgroup\":\"#In\",\"orientation\":\"v\",\"showlegend\":true,\"textposition\":\"auto\",\"x\":[0.0,1.0,2.0,3.0,4.0,5.0,6.0,7.0,8.0,9.0,10.0,11.0,12.0,13.0,14.0,15.0,16.0,17.0,18.0,19.0,20.0,21.0,22.0,23.0,24.0,25.0,26.0,27.0,28.0,29.0,30.0,31.0,32.0,33.0,34.0,35.0,36.0,37.0,38.0,39.0,40.0,41.0,42.0,43.0,44.0,45.0,46.0,47.0,48.0,49.0],\"xaxis\":\"x\",\"y\":[1.0,1.0,1.0,1.0,1.0,1.0,1.0,1.0,1.0,1.0,1.0,1.0,1.0,1.0,1.0,1.0,1.0,1.0,1.0,1.0,1.0,1.0,1.0,1.0,1.0,1.0,1.0,1.0,1.0,1.0,1.0,1.0,1.0,1.0,1.0,1.0,1.0,1.0,1.0,1.0,1.0,1.0,1.0,1.0,1.0,1.0,1.0,1.0,1.0,1.0],\"yaxis\":\"y\",\"type\":\"bar\"},{\"alignmentgroup\":\"True\",\"hovertemplate\":\"variable=#Out<br>Time=%{x}<br>value=%{y}<extra></extra>\",\"legendgroup\":\"#Out\",\"marker\":{\"color\":\"#EF553B\",\"pattern\":{\"shape\":\"\"}},\"name\":\"#Out\",\"offsetgroup\":\"#Out\",\"orientation\":\"v\",\"showlegend\":true,\"textposition\":\"auto\",\"x\":[0.0,1.0,2.0,3.0,4.0,5.0,6.0,7.0,8.0,9.0,10.0,11.0,12.0,13.0,14.0,15.0,16.0,17.0,18.0,19.0,20.0,21.0,22.0,23.0,24.0,25.0,26.0,27.0,28.0,29.0,30.0,31.0,32.0,33.0,34.0,35.0,36.0,37.0,38.0,39.0,40.0,41.0,42.0,43.0,44.0,45.0,46.0,47.0,48.0,49.0],\"xaxis\":\"x\",\"y\":[0.0,0.0,0.0,0.0,0.0,0.0,0.0,0.0,0.0,0.0,0.0,0.0,0.0,0.0,0.0,0.0,0.0,0.0,0.0,0.0,0.0,0.0,0.0,0.0,0.0,0.0,0.0,0.0,0.0,0.0,0.0,0.0,0.0,0.0,0.0,0.0,0.0,0.0,0.0,0.0,0.0,0.0,0.0,0.0,0.0,0.0,0.0,0.0,0.0,0.0],\"yaxis\":\"y\",\"type\":\"bar\"}],                        {\"template\":{\"data\":{\"histogram2dcontour\":[{\"type\":\"histogram2dcontour\",\"colorbar\":{\"outlinewidth\":0,\"ticks\":\"\"},\"colorscale\":[[0.0,\"#0d0887\"],[0.1111111111111111,\"#46039f\"],[0.2222222222222222,\"#7201a8\"],[0.3333333333333333,\"#9c179e\"],[0.4444444444444444,\"#bd3786\"],[0.5555555555555556,\"#d8576b\"],[0.6666666666666666,\"#ed7953\"],[0.7777777777777778,\"#fb9f3a\"],[0.8888888888888888,\"#fdca26\"],[1.0,\"#f0f921\"]]}],\"choropleth\":[{\"type\":\"choropleth\",\"colorbar\":{\"outlinewidth\":0,\"ticks\":\"\"}}],\"histogram2d\":[{\"type\":\"histogram2d\",\"colorbar\":{\"outlinewidth\":0,\"ticks\":\"\"},\"colorscale\":[[0.0,\"#0d0887\"],[0.1111111111111111,\"#46039f\"],[0.2222222222222222,\"#7201a8\"],[0.3333333333333333,\"#9c179e\"],[0.4444444444444444,\"#bd3786\"],[0.5555555555555556,\"#d8576b\"],[0.6666666666666666,\"#ed7953\"],[0.7777777777777778,\"#fb9f3a\"],[0.8888888888888888,\"#fdca26\"],[1.0,\"#f0f921\"]]}],\"heatmap\":[{\"type\":\"heatmap\",\"colorbar\":{\"outlinewidth\":0,\"ticks\":\"\"},\"colorscale\":[[0.0,\"#0d0887\"],[0.1111111111111111,\"#46039f\"],[0.2222222222222222,\"#7201a8\"],[0.3333333333333333,\"#9c179e\"],[0.4444444444444444,\"#bd3786\"],[0.5555555555555556,\"#d8576b\"],[0.6666666666666666,\"#ed7953\"],[0.7777777777777778,\"#fb9f3a\"],[0.8888888888888888,\"#fdca26\"],[1.0,\"#f0f921\"]]}],\"heatmapgl\":[{\"type\":\"heatmapgl\",\"colorbar\":{\"outlinewidth\":0,\"ticks\":\"\"},\"colorscale\":[[0.0,\"#0d0887\"],[0.1111111111111111,\"#46039f\"],[0.2222222222222222,\"#7201a8\"],[0.3333333333333333,\"#9c179e\"],[0.4444444444444444,\"#bd3786\"],[0.5555555555555556,\"#d8576b\"],[0.6666666666666666,\"#ed7953\"],[0.7777777777777778,\"#fb9f3a\"],[0.8888888888888888,\"#fdca26\"],[1.0,\"#f0f921\"]]}],\"contourcarpet\":[{\"type\":\"contourcarpet\",\"colorbar\":{\"outlinewidth\":0,\"ticks\":\"\"}}],\"contour\":[{\"type\":\"contour\",\"colorbar\":{\"outlinewidth\":0,\"ticks\":\"\"},\"colorscale\":[[0.0,\"#0d0887\"],[0.1111111111111111,\"#46039f\"],[0.2222222222222222,\"#7201a8\"],[0.3333333333333333,\"#9c179e\"],[0.4444444444444444,\"#bd3786\"],[0.5555555555555556,\"#d8576b\"],[0.6666666666666666,\"#ed7953\"],[0.7777777777777778,\"#fb9f3a\"],[0.8888888888888888,\"#fdca26\"],[1.0,\"#f0f921\"]]}],\"surface\":[{\"type\":\"surface\",\"colorbar\":{\"outlinewidth\":0,\"ticks\":\"\"},\"colorscale\":[[0.0,\"#0d0887\"],[0.1111111111111111,\"#46039f\"],[0.2222222222222222,\"#7201a8\"],[0.3333333333333333,\"#9c179e\"],[0.4444444444444444,\"#bd3786\"],[0.5555555555555556,\"#d8576b\"],[0.6666666666666666,\"#ed7953\"],[0.7777777777777778,\"#fb9f3a\"],[0.8888888888888888,\"#fdca26\"],[1.0,\"#f0f921\"]]}],\"mesh3d\":[{\"type\":\"mesh3d\",\"colorbar\":{\"outlinewidth\":0,\"ticks\":\"\"}}],\"scatter\":[{\"fillpattern\":{\"fillmode\":\"overlay\",\"size\":10,\"solidity\":0.2},\"type\":\"scatter\"}],\"parcoords\":[{\"type\":\"parcoords\",\"line\":{\"colorbar\":{\"outlinewidth\":0,\"ticks\":\"\"}}}],\"scatterpolargl\":[{\"type\":\"scatterpolargl\",\"marker\":{\"colorbar\":{\"outlinewidth\":0,\"ticks\":\"\"}}}],\"bar\":[{\"error_x\":{\"color\":\"#2a3f5f\"},\"error_y\":{\"color\":\"#2a3f5f\"},\"marker\":{\"line\":{\"color\":\"#E5ECF6\",\"width\":0.5},\"pattern\":{\"fillmode\":\"overlay\",\"size\":10,\"solidity\":0.2}},\"type\":\"bar\"}],\"scattergeo\":[{\"type\":\"scattergeo\",\"marker\":{\"colorbar\":{\"outlinewidth\":0,\"ticks\":\"\"}}}],\"scatterpolar\":[{\"type\":\"scatterpolar\",\"marker\":{\"colorbar\":{\"outlinewidth\":0,\"ticks\":\"\"}}}],\"histogram\":[{\"marker\":{\"pattern\":{\"fillmode\":\"overlay\",\"size\":10,\"solidity\":0.2}},\"type\":\"histogram\"}],\"scattergl\":[{\"type\":\"scattergl\",\"marker\":{\"colorbar\":{\"outlinewidth\":0,\"ticks\":\"\"}}}],\"scatter3d\":[{\"type\":\"scatter3d\",\"line\":{\"colorbar\":{\"outlinewidth\":0,\"ticks\":\"\"}},\"marker\":{\"colorbar\":{\"outlinewidth\":0,\"ticks\":\"\"}}}],\"scattermapbox\":[{\"type\":\"scattermapbox\",\"marker\":{\"colorbar\":{\"outlinewidth\":0,\"ticks\":\"\"}}}],\"scatterternary\":[{\"type\":\"scatterternary\",\"marker\":{\"colorbar\":{\"outlinewidth\":0,\"ticks\":\"\"}}}],\"scattercarpet\":[{\"type\":\"scattercarpet\",\"marker\":{\"colorbar\":{\"outlinewidth\":0,\"ticks\":\"\"}}}],\"carpet\":[{\"aaxis\":{\"endlinecolor\":\"#2a3f5f\",\"gridcolor\":\"white\",\"linecolor\":\"white\",\"minorgridcolor\":\"white\",\"startlinecolor\":\"#2a3f5f\"},\"baxis\":{\"endlinecolor\":\"#2a3f5f\",\"gridcolor\":\"white\",\"linecolor\":\"white\",\"minorgridcolor\":\"white\",\"startlinecolor\":\"#2a3f5f\"},\"type\":\"carpet\"}],\"table\":[{\"cells\":{\"fill\":{\"color\":\"#EBF0F8\"},\"line\":{\"color\":\"white\"}},\"header\":{\"fill\":{\"color\":\"#C8D4E3\"},\"line\":{\"color\":\"white\"}},\"type\":\"table\"}],\"barpolar\":[{\"marker\":{\"line\":{\"color\":\"#E5ECF6\",\"width\":0.5},\"pattern\":{\"fillmode\":\"overlay\",\"size\":10,\"solidity\":0.2}},\"type\":\"barpolar\"}],\"pie\":[{\"automargin\":true,\"type\":\"pie\"}]},\"layout\":{\"autotypenumbers\":\"strict\",\"colorway\":[\"#636efa\",\"#EF553B\",\"#00cc96\",\"#ab63fa\",\"#FFA15A\",\"#19d3f3\",\"#FF6692\",\"#B6E880\",\"#FF97FF\",\"#FECB52\"],\"font\":{\"color\":\"#2a3f5f\"},\"hovermode\":\"closest\",\"hoverlabel\":{\"align\":\"left\"},\"paper_bgcolor\":\"white\",\"plot_bgcolor\":\"#E5ECF6\",\"polar\":{\"bgcolor\":\"#E5ECF6\",\"angularaxis\":{\"gridcolor\":\"white\",\"linecolor\":\"white\",\"ticks\":\"\"},\"radialaxis\":{\"gridcolor\":\"white\",\"linecolor\":\"white\",\"ticks\":\"\"}},\"ternary\":{\"bgcolor\":\"#E5ECF6\",\"aaxis\":{\"gridcolor\":\"white\",\"linecolor\":\"white\",\"ticks\":\"\"},\"baxis\":{\"gridcolor\":\"white\",\"linecolor\":\"white\",\"ticks\":\"\"},\"caxis\":{\"gridcolor\":\"white\",\"linecolor\":\"white\",\"ticks\":\"\"}},\"coloraxis\":{\"colorbar\":{\"outlinewidth\":0,\"ticks\":\"\"}},\"colorscale\":{\"sequential\":[[0.0,\"#0d0887\"],[0.1111111111111111,\"#46039f\"],[0.2222222222222222,\"#7201a8\"],[0.3333333333333333,\"#9c179e\"],[0.4444444444444444,\"#bd3786\"],[0.5555555555555556,\"#d8576b\"],[0.6666666666666666,\"#ed7953\"],[0.7777777777777778,\"#fb9f3a\"],[0.8888888888888888,\"#fdca26\"],[1.0,\"#f0f921\"]],\"sequentialminus\":[[0.0,\"#0d0887\"],[0.1111111111111111,\"#46039f\"],[0.2222222222222222,\"#7201a8\"],[0.3333333333333333,\"#9c179e\"],[0.4444444444444444,\"#bd3786\"],[0.5555555555555556,\"#d8576b\"],[0.6666666666666666,\"#ed7953\"],[0.7777777777777778,\"#fb9f3a\"],[0.8888888888888888,\"#fdca26\"],[1.0,\"#f0f921\"]],\"diverging\":[[0,\"#8e0152\"],[0.1,\"#c51b7d\"],[0.2,\"#de77ae\"],[0.3,\"#f1b6da\"],[0.4,\"#fde0ef\"],[0.5,\"#f7f7f7\"],[0.6,\"#e6f5d0\"],[0.7,\"#b8e186\"],[0.8,\"#7fbc41\"],[0.9,\"#4d9221\"],[1,\"#276419\"]]},\"xaxis\":{\"gridcolor\":\"white\",\"linecolor\":\"white\",\"ticks\":\"\",\"title\":{\"standoff\":15},\"zerolinecolor\":\"white\",\"automargin\":true,\"zerolinewidth\":2},\"yaxis\":{\"gridcolor\":\"white\",\"linecolor\":\"white\",\"ticks\":\"\",\"title\":{\"standoff\":15},\"zerolinecolor\":\"white\",\"automargin\":true,\"zerolinewidth\":2},\"scene\":{\"xaxis\":{\"backgroundcolor\":\"#E5ECF6\",\"gridcolor\":\"white\",\"linecolor\":\"white\",\"showbackground\":true,\"ticks\":\"\",\"zerolinecolor\":\"white\",\"gridwidth\":2},\"yaxis\":{\"backgroundcolor\":\"#E5ECF6\",\"gridcolor\":\"white\",\"linecolor\":\"white\",\"showbackground\":true,\"ticks\":\"\",\"zerolinecolor\":\"white\",\"gridwidth\":2},\"zaxis\":{\"backgroundcolor\":\"#E5ECF6\",\"gridcolor\":\"white\",\"linecolor\":\"white\",\"showbackground\":true,\"ticks\":\"\",\"zerolinecolor\":\"white\",\"gridwidth\":2}},\"shapedefaults\":{\"line\":{\"color\":\"#2a3f5f\"}},\"annotationdefaults\":{\"arrowcolor\":\"#2a3f5f\",\"arrowhead\":0,\"arrowwidth\":1},\"geo\":{\"bgcolor\":\"white\",\"landcolor\":\"#E5ECF6\",\"subunitcolor\":\"white\",\"showland\":true,\"showlakes\":true,\"lakecolor\":\"white\"},\"title\":{\"x\":0.05},\"mapbox\":{\"style\":\"light\"}}},\"xaxis\":{\"anchor\":\"y\",\"domain\":[0.0,1.0],\"title\":{\"text\":\"Time\"}},\"yaxis\":{\"anchor\":\"x\",\"domain\":[0.0,1.0],\"title\":{\"text\":\"#Robots\"}},\"legend\":{\"title\":{\"text\":\"variable\"},\"tracegroupgap\":0},\"title\":{\"text\":\"CHO Robots in service vs Time\"},\"barmode\":\"relative\",\"hovermode\":\"x\"},                        {\"responsive\": true}                    ).then(function(){\n",
       "                            \n",
       "var gd = document.getElementById('b1fbbcf5-b14b-4338-8fa7-9dd4bb6d8ea2');\n",
       "var x = new MutationObserver(function (mutations, observer) {{\n",
       "        var display = window.getComputedStyle(gd).display;\n",
       "        if (!display || display === 'none') {{\n",
       "            console.log([gd, 'removed!']);\n",
       "            Plotly.purge(gd);\n",
       "            observer.disconnect();\n",
       "        }}\n",
       "}});\n",
       "\n",
       "// Listen for the removal of the full notebook cells\n",
       "var notebookContainer = gd.closest('#notebook-container');\n",
       "if (notebookContainer) {{\n",
       "    x.observe(notebookContainer, {childList: true});\n",
       "}}\n",
       "\n",
       "// Listen for the clearing of the current output cell\n",
       "var outputEl = gd.closest('.output');\n",
       "if (outputEl) {{\n",
       "    x.observe(outputEl, {childList: true});\n",
       "}}\n",
       "\n",
       "                        })                };                });            </script>        </div>"
      ]
     },
     "metadata": {},
     "output_type": "display_data"
    },
    {
     "data": {
      "application/vnd.plotly.v1+json": {
       "config": {
        "plotlyServerURL": "https://plotly.com"
       },
       "data": [
        {
         "alignmentgroup": "True",
         "hovertemplate": "variable=#Replicator<br>Time=%{x}<br>value=%{y}<extra></extra>",
         "legendgroup": "#Replicator",
         "marker": {
          "color": "#636efa",
          "pattern": {
           "shape": ""
          }
         },
         "name": "#Replicator",
         "offsetgroup": "#Replicator",
         "orientation": "v",
         "showlegend": true,
         "textposition": "auto",
         "type": "bar",
         "x": [
          0,
          1,
          2,
          3,
          4,
          5,
          6,
          7,
          8,
          9,
          10,
          11,
          12,
          13,
          14,
          15,
          16,
          17,
          18,
          19,
          20,
          21,
          22,
          23,
          24,
          25,
          26,
          27,
          28,
          29,
          30,
          31,
          32,
          33,
          34,
          35,
          36,
          37,
          38,
          39,
          40,
          41,
          42,
          43,
          44,
          45,
          46,
          47,
          48,
          49
         ],
         "xaxis": "x",
         "y": [
          1,
          1,
          1,
          1,
          1,
          1,
          1,
          1,
          1,
          1,
          1,
          1,
          1,
          1,
          1,
          1,
          1,
          1,
          1,
          1,
          1,
          1,
          1,
          1,
          1,
          1,
          1,
          1,
          1,
          1,
          1,
          1,
          1,
          1,
          1,
          1,
          1,
          1,
          1,
          1,
          1,
          1,
          1,
          1,
          1,
          1,
          1,
          1,
          1,
          1
         ],
         "yaxis": "y"
        },
        {
         "alignmentgroup": "True",
         "hovertemplate": "variable=#Normal<br>Time=%{x}<br>value=%{y}<extra></extra>",
         "legendgroup": "#Normal",
         "marker": {
          "color": "#EF553B",
          "pattern": {
           "shape": ""
          }
         },
         "name": "#Normal",
         "offsetgroup": "#Normal",
         "orientation": "v",
         "showlegend": true,
         "textposition": "auto",
         "type": "bar",
         "x": [
          0,
          1,
          2,
          3,
          4,
          5,
          6,
          7,
          8,
          9,
          10,
          11,
          12,
          13,
          14,
          15,
          16,
          17,
          18,
          19,
          20,
          21,
          22,
          23,
          24,
          25,
          26,
          27,
          28,
          29,
          30,
          31,
          32,
          33,
          34,
          35,
          36,
          37,
          38,
          39,
          40,
          41,
          42,
          43,
          44,
          45,
          46,
          47,
          48,
          49
         ],
         "xaxis": "x",
         "y": [
          0,
          0,
          0,
          0,
          0,
          0,
          0,
          0,
          0,
          0,
          0,
          0,
          0,
          0,
          0,
          0,
          0,
          0,
          0,
          0,
          0,
          0,
          0,
          0,
          0,
          0,
          0,
          0,
          0,
          0,
          0,
          0,
          0,
          0,
          0,
          0,
          0,
          0,
          0,
          0,
          0,
          0,
          0,
          0,
          0,
          0,
          0,
          0,
          0,
          0
         ],
         "yaxis": "y"
        },
        {
         "alignmentgroup": "True",
         "hovertemplate": "variable=#Assembler<br>Time=%{x}<br>value=%{y}<extra></extra>",
         "legendgroup": "#Assembler",
         "marker": {
          "color": "#00cc96",
          "pattern": {
           "shape": ""
          }
         },
         "name": "#Assembler",
         "offsetgroup": "#Assembler",
         "orientation": "v",
         "showlegend": true,
         "textposition": "auto",
         "type": "bar",
         "x": [
          0,
          1,
          2,
          3,
          4,
          5,
          6,
          7,
          8,
          9,
          10,
          11,
          12,
          13,
          14,
          15,
          16,
          17,
          18,
          19,
          20,
          21,
          22,
          23,
          24,
          25,
          26,
          27,
          28,
          29,
          30,
          31,
          32,
          33,
          34,
          35,
          36,
          37,
          38,
          39,
          40,
          41,
          42,
          43,
          44,
          45,
          46,
          47,
          48,
          49
         ],
         "xaxis": "x",
         "y": [
          0,
          0,
          0,
          0,
          0,
          0,
          0,
          0,
          0,
          0,
          0,
          0,
          0,
          0,
          0,
          0,
          0,
          0,
          0,
          0,
          0,
          0,
          0,
          0,
          0,
          0,
          0,
          0,
          0,
          0,
          0,
          0,
          0,
          0,
          0,
          0,
          0,
          0,
          0,
          0,
          0,
          0,
          0,
          0,
          0,
          0,
          0,
          0,
          0,
          0
         ],
         "yaxis": "y"
        },
        {
         "alignmentgroup": "True",
         "hovertemplate": "variable=#Printer<br>Time=%{x}<br>value=%{y}<extra></extra>",
         "legendgroup": "#Printer",
         "marker": {
          "color": "#ab63fa",
          "pattern": {
           "shape": ""
          }
         },
         "name": "#Printer",
         "offsetgroup": "#Printer",
         "orientation": "v",
         "showlegend": true,
         "textposition": "auto",
         "type": "bar",
         "x": [
          0,
          1,
          2,
          3,
          4,
          5,
          6,
          7,
          8,
          9,
          10,
          11,
          12,
          13,
          14,
          15,
          16,
          17,
          18,
          19,
          20,
          21,
          22,
          23,
          24,
          25,
          26,
          27,
          28,
          29,
          30,
          31,
          32,
          33,
          34,
          35,
          36,
          37,
          38,
          39,
          40,
          41,
          42,
          43,
          44,
          45,
          46,
          47,
          48,
          49
         ],
         "xaxis": "x",
         "y": [
          0,
          0,
          0,
          0,
          0,
          0,
          0,
          0,
          0,
          0,
          0,
          0,
          0,
          0,
          0,
          0,
          0,
          0,
          0,
          0,
          0,
          0,
          0,
          0,
          0,
          0,
          0,
          0,
          0,
          0,
          0,
          0,
          0,
          0,
          0,
          0,
          0,
          0,
          0,
          0,
          0,
          0,
          0,
          0,
          0,
          0,
          0,
          0,
          0,
          0
         ],
         "yaxis": "y"
        }
       ],
       "layout": {
        "barmode": "relative",
        "hovermode": "x",
        "legend": {
         "title": {
          "text": "variable"
         },
         "tracegroupgap": 0
        },
        "template": {
         "data": {
          "bar": [
           {
            "error_x": {
             "color": "#2a3f5f"
            },
            "error_y": {
             "color": "#2a3f5f"
            },
            "marker": {
             "line": {
              "color": "#E5ECF6",
              "width": 0.5
             },
             "pattern": {
              "fillmode": "overlay",
              "size": 10,
              "solidity": 0.2
             }
            },
            "type": "bar"
           }
          ],
          "barpolar": [
           {
            "marker": {
             "line": {
              "color": "#E5ECF6",
              "width": 0.5
             },
             "pattern": {
              "fillmode": "overlay",
              "size": 10,
              "solidity": 0.2
             }
            },
            "type": "barpolar"
           }
          ],
          "carpet": [
           {
            "aaxis": {
             "endlinecolor": "#2a3f5f",
             "gridcolor": "white",
             "linecolor": "white",
             "minorgridcolor": "white",
             "startlinecolor": "#2a3f5f"
            },
            "baxis": {
             "endlinecolor": "#2a3f5f",
             "gridcolor": "white",
             "linecolor": "white",
             "minorgridcolor": "white",
             "startlinecolor": "#2a3f5f"
            },
            "type": "carpet"
           }
          ],
          "choropleth": [
           {
            "colorbar": {
             "outlinewidth": 0,
             "ticks": ""
            },
            "type": "choropleth"
           }
          ],
          "contour": [
           {
            "colorbar": {
             "outlinewidth": 0,
             "ticks": ""
            },
            "colorscale": [
             [
              0,
              "#0d0887"
             ],
             [
              0.1111111111111111,
              "#46039f"
             ],
             [
              0.2222222222222222,
              "#7201a8"
             ],
             [
              0.3333333333333333,
              "#9c179e"
             ],
             [
              0.4444444444444444,
              "#bd3786"
             ],
             [
              0.5555555555555556,
              "#d8576b"
             ],
             [
              0.6666666666666666,
              "#ed7953"
             ],
             [
              0.7777777777777778,
              "#fb9f3a"
             ],
             [
              0.8888888888888888,
              "#fdca26"
             ],
             [
              1,
              "#f0f921"
             ]
            ],
            "type": "contour"
           }
          ],
          "contourcarpet": [
           {
            "colorbar": {
             "outlinewidth": 0,
             "ticks": ""
            },
            "type": "contourcarpet"
           }
          ],
          "heatmap": [
           {
            "colorbar": {
             "outlinewidth": 0,
             "ticks": ""
            },
            "colorscale": [
             [
              0,
              "#0d0887"
             ],
             [
              0.1111111111111111,
              "#46039f"
             ],
             [
              0.2222222222222222,
              "#7201a8"
             ],
             [
              0.3333333333333333,
              "#9c179e"
             ],
             [
              0.4444444444444444,
              "#bd3786"
             ],
             [
              0.5555555555555556,
              "#d8576b"
             ],
             [
              0.6666666666666666,
              "#ed7953"
             ],
             [
              0.7777777777777778,
              "#fb9f3a"
             ],
             [
              0.8888888888888888,
              "#fdca26"
             ],
             [
              1,
              "#f0f921"
             ]
            ],
            "type": "heatmap"
           }
          ],
          "heatmapgl": [
           {
            "colorbar": {
             "outlinewidth": 0,
             "ticks": ""
            },
            "colorscale": [
             [
              0,
              "#0d0887"
             ],
             [
              0.1111111111111111,
              "#46039f"
             ],
             [
              0.2222222222222222,
              "#7201a8"
             ],
             [
              0.3333333333333333,
              "#9c179e"
             ],
             [
              0.4444444444444444,
              "#bd3786"
             ],
             [
              0.5555555555555556,
              "#d8576b"
             ],
             [
              0.6666666666666666,
              "#ed7953"
             ],
             [
              0.7777777777777778,
              "#fb9f3a"
             ],
             [
              0.8888888888888888,
              "#fdca26"
             ],
             [
              1,
              "#f0f921"
             ]
            ],
            "type": "heatmapgl"
           }
          ],
          "histogram": [
           {
            "marker": {
             "pattern": {
              "fillmode": "overlay",
              "size": 10,
              "solidity": 0.2
             }
            },
            "type": "histogram"
           }
          ],
          "histogram2d": [
           {
            "colorbar": {
             "outlinewidth": 0,
             "ticks": ""
            },
            "colorscale": [
             [
              0,
              "#0d0887"
             ],
             [
              0.1111111111111111,
              "#46039f"
             ],
             [
              0.2222222222222222,
              "#7201a8"
             ],
             [
              0.3333333333333333,
              "#9c179e"
             ],
             [
              0.4444444444444444,
              "#bd3786"
             ],
             [
              0.5555555555555556,
              "#d8576b"
             ],
             [
              0.6666666666666666,
              "#ed7953"
             ],
             [
              0.7777777777777778,
              "#fb9f3a"
             ],
             [
              0.8888888888888888,
              "#fdca26"
             ],
             [
              1,
              "#f0f921"
             ]
            ],
            "type": "histogram2d"
           }
          ],
          "histogram2dcontour": [
           {
            "colorbar": {
             "outlinewidth": 0,
             "ticks": ""
            },
            "colorscale": [
             [
              0,
              "#0d0887"
             ],
             [
              0.1111111111111111,
              "#46039f"
             ],
             [
              0.2222222222222222,
              "#7201a8"
             ],
             [
              0.3333333333333333,
              "#9c179e"
             ],
             [
              0.4444444444444444,
              "#bd3786"
             ],
             [
              0.5555555555555556,
              "#d8576b"
             ],
             [
              0.6666666666666666,
              "#ed7953"
             ],
             [
              0.7777777777777778,
              "#fb9f3a"
             ],
             [
              0.8888888888888888,
              "#fdca26"
             ],
             [
              1,
              "#f0f921"
             ]
            ],
            "type": "histogram2dcontour"
           }
          ],
          "mesh3d": [
           {
            "colorbar": {
             "outlinewidth": 0,
             "ticks": ""
            },
            "type": "mesh3d"
           }
          ],
          "parcoords": [
           {
            "line": {
             "colorbar": {
              "outlinewidth": 0,
              "ticks": ""
             }
            },
            "type": "parcoords"
           }
          ],
          "pie": [
           {
            "automargin": true,
            "type": "pie"
           }
          ],
          "scatter": [
           {
            "fillpattern": {
             "fillmode": "overlay",
             "size": 10,
             "solidity": 0.2
            },
            "type": "scatter"
           }
          ],
          "scatter3d": [
           {
            "line": {
             "colorbar": {
              "outlinewidth": 0,
              "ticks": ""
             }
            },
            "marker": {
             "colorbar": {
              "outlinewidth": 0,
              "ticks": ""
             }
            },
            "type": "scatter3d"
           }
          ],
          "scattercarpet": [
           {
            "marker": {
             "colorbar": {
              "outlinewidth": 0,
              "ticks": ""
             }
            },
            "type": "scattercarpet"
           }
          ],
          "scattergeo": [
           {
            "marker": {
             "colorbar": {
              "outlinewidth": 0,
              "ticks": ""
             }
            },
            "type": "scattergeo"
           }
          ],
          "scattergl": [
           {
            "marker": {
             "colorbar": {
              "outlinewidth": 0,
              "ticks": ""
             }
            },
            "type": "scattergl"
           }
          ],
          "scattermapbox": [
           {
            "marker": {
             "colorbar": {
              "outlinewidth": 0,
              "ticks": ""
             }
            },
            "type": "scattermapbox"
           }
          ],
          "scatterpolar": [
           {
            "marker": {
             "colorbar": {
              "outlinewidth": 0,
              "ticks": ""
             }
            },
            "type": "scatterpolar"
           }
          ],
          "scatterpolargl": [
           {
            "marker": {
             "colorbar": {
              "outlinewidth": 0,
              "ticks": ""
             }
            },
            "type": "scatterpolargl"
           }
          ],
          "scatterternary": [
           {
            "marker": {
             "colorbar": {
              "outlinewidth": 0,
              "ticks": ""
             }
            },
            "type": "scatterternary"
           }
          ],
          "surface": [
           {
            "colorbar": {
             "outlinewidth": 0,
             "ticks": ""
            },
            "colorscale": [
             [
              0,
              "#0d0887"
             ],
             [
              0.1111111111111111,
              "#46039f"
             ],
             [
              0.2222222222222222,
              "#7201a8"
             ],
             [
              0.3333333333333333,
              "#9c179e"
             ],
             [
              0.4444444444444444,
              "#bd3786"
             ],
             [
              0.5555555555555556,
              "#d8576b"
             ],
             [
              0.6666666666666666,
              "#ed7953"
             ],
             [
              0.7777777777777778,
              "#fb9f3a"
             ],
             [
              0.8888888888888888,
              "#fdca26"
             ],
             [
              1,
              "#f0f921"
             ]
            ],
            "type": "surface"
           }
          ],
          "table": [
           {
            "cells": {
             "fill": {
              "color": "#EBF0F8"
             },
             "line": {
              "color": "white"
             }
            },
            "header": {
             "fill": {
              "color": "#C8D4E3"
             },
             "line": {
              "color": "white"
             }
            },
            "type": "table"
           }
          ]
         },
         "layout": {
          "annotationdefaults": {
           "arrowcolor": "#2a3f5f",
           "arrowhead": 0,
           "arrowwidth": 1
          },
          "autotypenumbers": "strict",
          "coloraxis": {
           "colorbar": {
            "outlinewidth": 0,
            "ticks": ""
           }
          },
          "colorscale": {
           "diverging": [
            [
             0,
             "#8e0152"
            ],
            [
             0.1,
             "#c51b7d"
            ],
            [
             0.2,
             "#de77ae"
            ],
            [
             0.3,
             "#f1b6da"
            ],
            [
             0.4,
             "#fde0ef"
            ],
            [
             0.5,
             "#f7f7f7"
            ],
            [
             0.6,
             "#e6f5d0"
            ],
            [
             0.7,
             "#b8e186"
            ],
            [
             0.8,
             "#7fbc41"
            ],
            [
             0.9,
             "#4d9221"
            ],
            [
             1,
             "#276419"
            ]
           ],
           "sequential": [
            [
             0,
             "#0d0887"
            ],
            [
             0.1111111111111111,
             "#46039f"
            ],
            [
             0.2222222222222222,
             "#7201a8"
            ],
            [
             0.3333333333333333,
             "#9c179e"
            ],
            [
             0.4444444444444444,
             "#bd3786"
            ],
            [
             0.5555555555555556,
             "#d8576b"
            ],
            [
             0.6666666666666666,
             "#ed7953"
            ],
            [
             0.7777777777777778,
             "#fb9f3a"
            ],
            [
             0.8888888888888888,
             "#fdca26"
            ],
            [
             1,
             "#f0f921"
            ]
           ],
           "sequentialminus": [
            [
             0,
             "#0d0887"
            ],
            [
             0.1111111111111111,
             "#46039f"
            ],
            [
             0.2222222222222222,
             "#7201a8"
            ],
            [
             0.3333333333333333,
             "#9c179e"
            ],
            [
             0.4444444444444444,
             "#bd3786"
            ],
            [
             0.5555555555555556,
             "#d8576b"
            ],
            [
             0.6666666666666666,
             "#ed7953"
            ],
            [
             0.7777777777777778,
             "#fb9f3a"
            ],
            [
             0.8888888888888888,
             "#fdca26"
            ],
            [
             1,
             "#f0f921"
            ]
           ]
          },
          "colorway": [
           "#636efa",
           "#EF553B",
           "#00cc96",
           "#ab63fa",
           "#FFA15A",
           "#19d3f3",
           "#FF6692",
           "#B6E880",
           "#FF97FF",
           "#FECB52"
          ],
          "font": {
           "color": "#2a3f5f"
          },
          "geo": {
           "bgcolor": "white",
           "lakecolor": "white",
           "landcolor": "#E5ECF6",
           "showlakes": true,
           "showland": true,
           "subunitcolor": "white"
          },
          "hoverlabel": {
           "align": "left"
          },
          "hovermode": "closest",
          "mapbox": {
           "style": "light"
          },
          "paper_bgcolor": "white",
          "plot_bgcolor": "#E5ECF6",
          "polar": {
           "angularaxis": {
            "gridcolor": "white",
            "linecolor": "white",
            "ticks": ""
           },
           "bgcolor": "#E5ECF6",
           "radialaxis": {
            "gridcolor": "white",
            "linecolor": "white",
            "ticks": ""
           }
          },
          "scene": {
           "xaxis": {
            "backgroundcolor": "#E5ECF6",
            "gridcolor": "white",
            "gridwidth": 2,
            "linecolor": "white",
            "showbackground": true,
            "ticks": "",
            "zerolinecolor": "white"
           },
           "yaxis": {
            "backgroundcolor": "#E5ECF6",
            "gridcolor": "white",
            "gridwidth": 2,
            "linecolor": "white",
            "showbackground": true,
            "ticks": "",
            "zerolinecolor": "white"
           },
           "zaxis": {
            "backgroundcolor": "#E5ECF6",
            "gridcolor": "white",
            "gridwidth": 2,
            "linecolor": "white",
            "showbackground": true,
            "ticks": "",
            "zerolinecolor": "white"
           }
          },
          "shapedefaults": {
           "line": {
            "color": "#2a3f5f"
           }
          },
          "ternary": {
           "aaxis": {
            "gridcolor": "white",
            "linecolor": "white",
            "ticks": ""
           },
           "baxis": {
            "gridcolor": "white",
            "linecolor": "white",
            "ticks": ""
           },
           "bgcolor": "#E5ECF6",
           "caxis": {
            "gridcolor": "white",
            "linecolor": "white",
            "ticks": ""
           }
          },
          "title": {
           "x": 0.05
          },
          "xaxis": {
           "automargin": true,
           "gridcolor": "white",
           "linecolor": "white",
           "ticks": "",
           "title": {
            "standoff": 15
           },
           "zerolinecolor": "white",
           "zerolinewidth": 2
          },
          "yaxis": {
           "automargin": true,
           "gridcolor": "white",
           "linecolor": "white",
           "ticks": "",
           "title": {
            "standoff": 15
           },
           "zerolinecolor": "white",
           "zerolinewidth": 2
          }
         }
        },
        "title": {
         "text": "CHO Robots Types vs Time"
        },
        "xaxis": {
         "anchor": "y",
         "domain": [
          0,
          1
         ],
         "title": {
          "text": "Time"
         }
        },
        "yaxis": {
         "anchor": "x",
         "domain": [
          0,
          1
         ],
         "title": {
          "text": "#Robots"
         }
        }
       }
      },
      "text/html": [
       "<div>                            <div id=\"c4808e2e-11a4-42f5-96e4-33c46cfe56b5\" class=\"plotly-graph-div\" style=\"height:525px; width:100%;\"></div>            <script type=\"text/javascript\">                require([\"plotly\"], function(Plotly) {                    window.PLOTLYENV=window.PLOTLYENV || {};                                    if (document.getElementById(\"c4808e2e-11a4-42f5-96e4-33c46cfe56b5\")) {                    Plotly.newPlot(                        \"c4808e2e-11a4-42f5-96e4-33c46cfe56b5\",                        [{\"alignmentgroup\":\"True\",\"hovertemplate\":\"variable=#Replicator<br>Time=%{x}<br>value=%{y}<extra></extra>\",\"legendgroup\":\"#Replicator\",\"marker\":{\"color\":\"#636efa\",\"pattern\":{\"shape\":\"\"}},\"name\":\"#Replicator\",\"offsetgroup\":\"#Replicator\",\"orientation\":\"v\",\"showlegend\":true,\"textposition\":\"auto\",\"x\":[0.0,1.0,2.0,3.0,4.0,5.0,6.0,7.0,8.0,9.0,10.0,11.0,12.0,13.0,14.0,15.0,16.0,17.0,18.0,19.0,20.0,21.0,22.0,23.0,24.0,25.0,26.0,27.0,28.0,29.0,30.0,31.0,32.0,33.0,34.0,35.0,36.0,37.0,38.0,39.0,40.0,41.0,42.0,43.0,44.0,45.0,46.0,47.0,48.0,49.0],\"xaxis\":\"x\",\"y\":[1.0,1.0,1.0,1.0,1.0,1.0,1.0,1.0,1.0,1.0,1.0,1.0,1.0,1.0,1.0,1.0,1.0,1.0,1.0,1.0,1.0,1.0,1.0,1.0,1.0,1.0,1.0,1.0,1.0,1.0,1.0,1.0,1.0,1.0,1.0,1.0,1.0,1.0,1.0,1.0,1.0,1.0,1.0,1.0,1.0,1.0,1.0,1.0,1.0,1.0],\"yaxis\":\"y\",\"type\":\"bar\"},{\"alignmentgroup\":\"True\",\"hovertemplate\":\"variable=#Normal<br>Time=%{x}<br>value=%{y}<extra></extra>\",\"legendgroup\":\"#Normal\",\"marker\":{\"color\":\"#EF553B\",\"pattern\":{\"shape\":\"\"}},\"name\":\"#Normal\",\"offsetgroup\":\"#Normal\",\"orientation\":\"v\",\"showlegend\":true,\"textposition\":\"auto\",\"x\":[0.0,1.0,2.0,3.0,4.0,5.0,6.0,7.0,8.0,9.0,10.0,11.0,12.0,13.0,14.0,15.0,16.0,17.0,18.0,19.0,20.0,21.0,22.0,23.0,24.0,25.0,26.0,27.0,28.0,29.0,30.0,31.0,32.0,33.0,34.0,35.0,36.0,37.0,38.0,39.0,40.0,41.0,42.0,43.0,44.0,45.0,46.0,47.0,48.0,49.0],\"xaxis\":\"x\",\"y\":[0.0,0.0,0.0,0.0,0.0,0.0,0.0,0.0,0.0,0.0,0.0,0.0,0.0,0.0,0.0,0.0,0.0,0.0,0.0,0.0,0.0,0.0,0.0,0.0,0.0,0.0,0.0,0.0,0.0,0.0,0.0,0.0,0.0,0.0,0.0,0.0,0.0,0.0,0.0,0.0,0.0,0.0,0.0,0.0,0.0,0.0,0.0,0.0,0.0,0.0],\"yaxis\":\"y\",\"type\":\"bar\"},{\"alignmentgroup\":\"True\",\"hovertemplate\":\"variable=#Assembler<br>Time=%{x}<br>value=%{y}<extra></extra>\",\"legendgroup\":\"#Assembler\",\"marker\":{\"color\":\"#00cc96\",\"pattern\":{\"shape\":\"\"}},\"name\":\"#Assembler\",\"offsetgroup\":\"#Assembler\",\"orientation\":\"v\",\"showlegend\":true,\"textposition\":\"auto\",\"x\":[0.0,1.0,2.0,3.0,4.0,5.0,6.0,7.0,8.0,9.0,10.0,11.0,12.0,13.0,14.0,15.0,16.0,17.0,18.0,19.0,20.0,21.0,22.0,23.0,24.0,25.0,26.0,27.0,28.0,29.0,30.0,31.0,32.0,33.0,34.0,35.0,36.0,37.0,38.0,39.0,40.0,41.0,42.0,43.0,44.0,45.0,46.0,47.0,48.0,49.0],\"xaxis\":\"x\",\"y\":[0.0,0.0,0.0,0.0,0.0,0.0,0.0,0.0,0.0,0.0,0.0,0.0,0.0,0.0,0.0,0.0,0.0,0.0,0.0,0.0,0.0,0.0,0.0,0.0,0.0,0.0,0.0,0.0,0.0,0.0,0.0,0.0,0.0,0.0,0.0,0.0,0.0,0.0,0.0,0.0,0.0,0.0,0.0,0.0,0.0,0.0,0.0,0.0,0.0,0.0],\"yaxis\":\"y\",\"type\":\"bar\"},{\"alignmentgroup\":\"True\",\"hovertemplate\":\"variable=#Printer<br>Time=%{x}<br>value=%{y}<extra></extra>\",\"legendgroup\":\"#Printer\",\"marker\":{\"color\":\"#ab63fa\",\"pattern\":{\"shape\":\"\"}},\"name\":\"#Printer\",\"offsetgroup\":\"#Printer\",\"orientation\":\"v\",\"showlegend\":true,\"textposition\":\"auto\",\"x\":[0.0,1.0,2.0,3.0,4.0,5.0,6.0,7.0,8.0,9.0,10.0,11.0,12.0,13.0,14.0,15.0,16.0,17.0,18.0,19.0,20.0,21.0,22.0,23.0,24.0,25.0,26.0,27.0,28.0,29.0,30.0,31.0,32.0,33.0,34.0,35.0,36.0,37.0,38.0,39.0,40.0,41.0,42.0,43.0,44.0,45.0,46.0,47.0,48.0,49.0],\"xaxis\":\"x\",\"y\":[0.0,0.0,0.0,0.0,0.0,0.0,0.0,0.0,0.0,0.0,0.0,0.0,0.0,0.0,0.0,0.0,0.0,0.0,0.0,0.0,0.0,0.0,0.0,0.0,0.0,0.0,0.0,0.0,0.0,0.0,0.0,0.0,0.0,0.0,0.0,0.0,0.0,0.0,0.0,0.0,0.0,0.0,0.0,0.0,0.0,0.0,0.0,0.0,0.0,0.0],\"yaxis\":\"y\",\"type\":\"bar\"}],                        {\"template\":{\"data\":{\"histogram2dcontour\":[{\"type\":\"histogram2dcontour\",\"colorbar\":{\"outlinewidth\":0,\"ticks\":\"\"},\"colorscale\":[[0.0,\"#0d0887\"],[0.1111111111111111,\"#46039f\"],[0.2222222222222222,\"#7201a8\"],[0.3333333333333333,\"#9c179e\"],[0.4444444444444444,\"#bd3786\"],[0.5555555555555556,\"#d8576b\"],[0.6666666666666666,\"#ed7953\"],[0.7777777777777778,\"#fb9f3a\"],[0.8888888888888888,\"#fdca26\"],[1.0,\"#f0f921\"]]}],\"choropleth\":[{\"type\":\"choropleth\",\"colorbar\":{\"outlinewidth\":0,\"ticks\":\"\"}}],\"histogram2d\":[{\"type\":\"histogram2d\",\"colorbar\":{\"outlinewidth\":0,\"ticks\":\"\"},\"colorscale\":[[0.0,\"#0d0887\"],[0.1111111111111111,\"#46039f\"],[0.2222222222222222,\"#7201a8\"],[0.3333333333333333,\"#9c179e\"],[0.4444444444444444,\"#bd3786\"],[0.5555555555555556,\"#d8576b\"],[0.6666666666666666,\"#ed7953\"],[0.7777777777777778,\"#fb9f3a\"],[0.8888888888888888,\"#fdca26\"],[1.0,\"#f0f921\"]]}],\"heatmap\":[{\"type\":\"heatmap\",\"colorbar\":{\"outlinewidth\":0,\"ticks\":\"\"},\"colorscale\":[[0.0,\"#0d0887\"],[0.1111111111111111,\"#46039f\"],[0.2222222222222222,\"#7201a8\"],[0.3333333333333333,\"#9c179e\"],[0.4444444444444444,\"#bd3786\"],[0.5555555555555556,\"#d8576b\"],[0.6666666666666666,\"#ed7953\"],[0.7777777777777778,\"#fb9f3a\"],[0.8888888888888888,\"#fdca26\"],[1.0,\"#f0f921\"]]}],\"heatmapgl\":[{\"type\":\"heatmapgl\",\"colorbar\":{\"outlinewidth\":0,\"ticks\":\"\"},\"colorscale\":[[0.0,\"#0d0887\"],[0.1111111111111111,\"#46039f\"],[0.2222222222222222,\"#7201a8\"],[0.3333333333333333,\"#9c179e\"],[0.4444444444444444,\"#bd3786\"],[0.5555555555555556,\"#d8576b\"],[0.6666666666666666,\"#ed7953\"],[0.7777777777777778,\"#fb9f3a\"],[0.8888888888888888,\"#fdca26\"],[1.0,\"#f0f921\"]]}],\"contourcarpet\":[{\"type\":\"contourcarpet\",\"colorbar\":{\"outlinewidth\":0,\"ticks\":\"\"}}],\"contour\":[{\"type\":\"contour\",\"colorbar\":{\"outlinewidth\":0,\"ticks\":\"\"},\"colorscale\":[[0.0,\"#0d0887\"],[0.1111111111111111,\"#46039f\"],[0.2222222222222222,\"#7201a8\"],[0.3333333333333333,\"#9c179e\"],[0.4444444444444444,\"#bd3786\"],[0.5555555555555556,\"#d8576b\"],[0.6666666666666666,\"#ed7953\"],[0.7777777777777778,\"#fb9f3a\"],[0.8888888888888888,\"#fdca26\"],[1.0,\"#f0f921\"]]}],\"surface\":[{\"type\":\"surface\",\"colorbar\":{\"outlinewidth\":0,\"ticks\":\"\"},\"colorscale\":[[0.0,\"#0d0887\"],[0.1111111111111111,\"#46039f\"],[0.2222222222222222,\"#7201a8\"],[0.3333333333333333,\"#9c179e\"],[0.4444444444444444,\"#bd3786\"],[0.5555555555555556,\"#d8576b\"],[0.6666666666666666,\"#ed7953\"],[0.7777777777777778,\"#fb9f3a\"],[0.8888888888888888,\"#fdca26\"],[1.0,\"#f0f921\"]]}],\"mesh3d\":[{\"type\":\"mesh3d\",\"colorbar\":{\"outlinewidth\":0,\"ticks\":\"\"}}],\"scatter\":[{\"fillpattern\":{\"fillmode\":\"overlay\",\"size\":10,\"solidity\":0.2},\"type\":\"scatter\"}],\"parcoords\":[{\"type\":\"parcoords\",\"line\":{\"colorbar\":{\"outlinewidth\":0,\"ticks\":\"\"}}}],\"scatterpolargl\":[{\"type\":\"scatterpolargl\",\"marker\":{\"colorbar\":{\"outlinewidth\":0,\"ticks\":\"\"}}}],\"bar\":[{\"error_x\":{\"color\":\"#2a3f5f\"},\"error_y\":{\"color\":\"#2a3f5f\"},\"marker\":{\"line\":{\"color\":\"#E5ECF6\",\"width\":0.5},\"pattern\":{\"fillmode\":\"overlay\",\"size\":10,\"solidity\":0.2}},\"type\":\"bar\"}],\"scattergeo\":[{\"type\":\"scattergeo\",\"marker\":{\"colorbar\":{\"outlinewidth\":0,\"ticks\":\"\"}}}],\"scatterpolar\":[{\"type\":\"scatterpolar\",\"marker\":{\"colorbar\":{\"outlinewidth\":0,\"ticks\":\"\"}}}],\"histogram\":[{\"marker\":{\"pattern\":{\"fillmode\":\"overlay\",\"size\":10,\"solidity\":0.2}},\"type\":\"histogram\"}],\"scattergl\":[{\"type\":\"scattergl\",\"marker\":{\"colorbar\":{\"outlinewidth\":0,\"ticks\":\"\"}}}],\"scatter3d\":[{\"type\":\"scatter3d\",\"line\":{\"colorbar\":{\"outlinewidth\":0,\"ticks\":\"\"}},\"marker\":{\"colorbar\":{\"outlinewidth\":0,\"ticks\":\"\"}}}],\"scattermapbox\":[{\"type\":\"scattermapbox\",\"marker\":{\"colorbar\":{\"outlinewidth\":0,\"ticks\":\"\"}}}],\"scatterternary\":[{\"type\":\"scatterternary\",\"marker\":{\"colorbar\":{\"outlinewidth\":0,\"ticks\":\"\"}}}],\"scattercarpet\":[{\"type\":\"scattercarpet\",\"marker\":{\"colorbar\":{\"outlinewidth\":0,\"ticks\":\"\"}}}],\"carpet\":[{\"aaxis\":{\"endlinecolor\":\"#2a3f5f\",\"gridcolor\":\"white\",\"linecolor\":\"white\",\"minorgridcolor\":\"white\",\"startlinecolor\":\"#2a3f5f\"},\"baxis\":{\"endlinecolor\":\"#2a3f5f\",\"gridcolor\":\"white\",\"linecolor\":\"white\",\"minorgridcolor\":\"white\",\"startlinecolor\":\"#2a3f5f\"},\"type\":\"carpet\"}],\"table\":[{\"cells\":{\"fill\":{\"color\":\"#EBF0F8\"},\"line\":{\"color\":\"white\"}},\"header\":{\"fill\":{\"color\":\"#C8D4E3\"},\"line\":{\"color\":\"white\"}},\"type\":\"table\"}],\"barpolar\":[{\"marker\":{\"line\":{\"color\":\"#E5ECF6\",\"width\":0.5},\"pattern\":{\"fillmode\":\"overlay\",\"size\":10,\"solidity\":0.2}},\"type\":\"barpolar\"}],\"pie\":[{\"automargin\":true,\"type\":\"pie\"}]},\"layout\":{\"autotypenumbers\":\"strict\",\"colorway\":[\"#636efa\",\"#EF553B\",\"#00cc96\",\"#ab63fa\",\"#FFA15A\",\"#19d3f3\",\"#FF6692\",\"#B6E880\",\"#FF97FF\",\"#FECB52\"],\"font\":{\"color\":\"#2a3f5f\"},\"hovermode\":\"closest\",\"hoverlabel\":{\"align\":\"left\"},\"paper_bgcolor\":\"white\",\"plot_bgcolor\":\"#E5ECF6\",\"polar\":{\"bgcolor\":\"#E5ECF6\",\"angularaxis\":{\"gridcolor\":\"white\",\"linecolor\":\"white\",\"ticks\":\"\"},\"radialaxis\":{\"gridcolor\":\"white\",\"linecolor\":\"white\",\"ticks\":\"\"}},\"ternary\":{\"bgcolor\":\"#E5ECF6\",\"aaxis\":{\"gridcolor\":\"white\",\"linecolor\":\"white\",\"ticks\":\"\"},\"baxis\":{\"gridcolor\":\"white\",\"linecolor\":\"white\",\"ticks\":\"\"},\"caxis\":{\"gridcolor\":\"white\",\"linecolor\":\"white\",\"ticks\":\"\"}},\"coloraxis\":{\"colorbar\":{\"outlinewidth\":0,\"ticks\":\"\"}},\"colorscale\":{\"sequential\":[[0.0,\"#0d0887\"],[0.1111111111111111,\"#46039f\"],[0.2222222222222222,\"#7201a8\"],[0.3333333333333333,\"#9c179e\"],[0.4444444444444444,\"#bd3786\"],[0.5555555555555556,\"#d8576b\"],[0.6666666666666666,\"#ed7953\"],[0.7777777777777778,\"#fb9f3a\"],[0.8888888888888888,\"#fdca26\"],[1.0,\"#f0f921\"]],\"sequentialminus\":[[0.0,\"#0d0887\"],[0.1111111111111111,\"#46039f\"],[0.2222222222222222,\"#7201a8\"],[0.3333333333333333,\"#9c179e\"],[0.4444444444444444,\"#bd3786\"],[0.5555555555555556,\"#d8576b\"],[0.6666666666666666,\"#ed7953\"],[0.7777777777777778,\"#fb9f3a\"],[0.8888888888888888,\"#fdca26\"],[1.0,\"#f0f921\"]],\"diverging\":[[0,\"#8e0152\"],[0.1,\"#c51b7d\"],[0.2,\"#de77ae\"],[0.3,\"#f1b6da\"],[0.4,\"#fde0ef\"],[0.5,\"#f7f7f7\"],[0.6,\"#e6f5d0\"],[0.7,\"#b8e186\"],[0.8,\"#7fbc41\"],[0.9,\"#4d9221\"],[1,\"#276419\"]]},\"xaxis\":{\"gridcolor\":\"white\",\"linecolor\":\"white\",\"ticks\":\"\",\"title\":{\"standoff\":15},\"zerolinecolor\":\"white\",\"automargin\":true,\"zerolinewidth\":2},\"yaxis\":{\"gridcolor\":\"white\",\"linecolor\":\"white\",\"ticks\":\"\",\"title\":{\"standoff\":15},\"zerolinecolor\":\"white\",\"automargin\":true,\"zerolinewidth\":2},\"scene\":{\"xaxis\":{\"backgroundcolor\":\"#E5ECF6\",\"gridcolor\":\"white\",\"linecolor\":\"white\",\"showbackground\":true,\"ticks\":\"\",\"zerolinecolor\":\"white\",\"gridwidth\":2},\"yaxis\":{\"backgroundcolor\":\"#E5ECF6\",\"gridcolor\":\"white\",\"linecolor\":\"white\",\"showbackground\":true,\"ticks\":\"\",\"zerolinecolor\":\"white\",\"gridwidth\":2},\"zaxis\":{\"backgroundcolor\":\"#E5ECF6\",\"gridcolor\":\"white\",\"linecolor\":\"white\",\"showbackground\":true,\"ticks\":\"\",\"zerolinecolor\":\"white\",\"gridwidth\":2}},\"shapedefaults\":{\"line\":{\"color\":\"#2a3f5f\"}},\"annotationdefaults\":{\"arrowcolor\":\"#2a3f5f\",\"arrowhead\":0,\"arrowwidth\":1},\"geo\":{\"bgcolor\":\"white\",\"landcolor\":\"#E5ECF6\",\"subunitcolor\":\"white\",\"showland\":true,\"showlakes\":true,\"lakecolor\":\"white\"},\"title\":{\"x\":0.05},\"mapbox\":{\"style\":\"light\"}}},\"xaxis\":{\"anchor\":\"y\",\"domain\":[0.0,1.0],\"title\":{\"text\":\"Time\"}},\"yaxis\":{\"anchor\":\"x\",\"domain\":[0.0,1.0],\"title\":{\"text\":\"#Robots\"}},\"legend\":{\"title\":{\"text\":\"variable\"},\"tracegroupgap\":0},\"title\":{\"text\":\"CHO Robots Types vs Time\"},\"barmode\":\"relative\",\"hovermode\":\"x\"},                        {\"responsive\": true}                    ).then(function(){\n",
       "                            \n",
       "var gd = document.getElementById('c4808e2e-11a4-42f5-96e4-33c46cfe56b5');\n",
       "var x = new MutationObserver(function (mutations, observer) {{\n",
       "        var display = window.getComputedStyle(gd).display;\n",
       "        if (!display || display === 'none') {{\n",
       "            console.log([gd, 'removed!']);\n",
       "            Plotly.purge(gd);\n",
       "            observer.disconnect();\n",
       "        }}\n",
       "}});\n",
       "\n",
       "// Listen for the removal of the full notebook cells\n",
       "var notebookContainer = gd.closest('#notebook-container');\n",
       "if (notebookContainer) {{\n",
       "    x.observe(notebookContainer, {childList: true});\n",
       "}}\n",
       "\n",
       "// Listen for the clearing of the current output cell\n",
       "var outputEl = gd.closest('.output');\n",
       "if (outputEl) {{\n",
       "    x.observe(outputEl, {childList: true});\n",
       "}}\n",
       "\n",
       "                        })                };                });            </script>        </div>"
      ]
     },
     "metadata": {},
     "output_type": "display_data"
    },
    {
     "data": {
      "application/vnd.plotly.v1+json": {
       "config": {
        "plotlyServerURL": "https://plotly.com"
       },
       "data": [
        {
         "mode": "lines",
         "name": "NonPr",
         "type": "scatter",
         "x": [
          0,
          1,
          2,
          3,
          4,
          5,
          6,
          7,
          8,
          9,
          10,
          11,
          12,
          13,
          14,
          15,
          16,
          17,
          18,
          19,
          20,
          21,
          22,
          23,
          24,
          25,
          26,
          27,
          28,
          29,
          30,
          31,
          32,
          33,
          34,
          35,
          36,
          37,
          38,
          39,
          40,
          41,
          42,
          43,
          44,
          45,
          46,
          47,
          48,
          49
         ],
         "y": [
          299,
          299,
          299,
          298,
          298,
          298,
          297,
          297,
          297,
          296,
          296,
          296,
          295,
          295,
          295,
          294,
          294,
          294,
          293,
          293,
          293,
          292,
          292,
          292,
          291,
          291,
          291,
          290,
          290,
          290,
          289,
          289,
          289,
          288,
          288,
          288,
          287,
          287,
          287,
          286,
          286,
          286,
          285,
          285,
          285,
          284,
          284,
          284,
          283,
          283
         ]
        },
        {
         "mode": "lines",
         "name": "Printable",
         "type": "scatter",
         "x": [
          0,
          1,
          2,
          3,
          4,
          5,
          6,
          7,
          8,
          9,
          10,
          11,
          12,
          13,
          14,
          15,
          16,
          17,
          18,
          19,
          20,
          21,
          22,
          23,
          24,
          25,
          26,
          27,
          28,
          29,
          30,
          31,
          32,
          33,
          34,
          35,
          36,
          37,
          38,
          39,
          40,
          41,
          42,
          43,
          44,
          45,
          46,
          47,
          48,
          49
         ],
         "y": [
          98,
          98,
          98,
          96,
          96,
          96,
          94,
          94,
          94,
          92,
          92,
          92,
          90,
          90,
          90,
          88,
          88,
          88,
          86,
          86,
          86,
          84,
          84,
          84,
          82,
          82,
          82,
          80,
          80,
          80,
          78,
          78,
          78,
          76,
          76,
          76,
          74,
          74,
          74,
          72,
          72,
          72,
          70,
          70,
          70,
          68,
          68,
          68,
          66,
          66
         ]
        },
        {
         "mode": "lines",
         "name": "Materials",
         "type": "scatter",
         "x": [
          0,
          1,
          2,
          3,
          4,
          5,
          6,
          7,
          8,
          9,
          10,
          11,
          12,
          13,
          14,
          15,
          16,
          17,
          18,
          19,
          20,
          21,
          22,
          23,
          24,
          25,
          26,
          27,
          28,
          29,
          30,
          31,
          32,
          33,
          34,
          35,
          36,
          37,
          38,
          39,
          40,
          41,
          42,
          43,
          44,
          45,
          46,
          47,
          48,
          49
         ],
         "y": [
          50,
          50,
          50,
          50,
          50,
          50,
          50,
          50,
          50,
          50,
          50,
          50,
          50,
          50,
          50,
          50,
          50,
          50,
          50,
          50,
          50,
          50,
          50,
          50,
          50,
          50,
          50,
          50,
          50,
          50,
          50,
          50,
          50,
          50,
          50,
          50,
          50,
          50,
          50,
          50,
          50,
          50,
          50,
          50,
          50,
          50,
          50,
          50,
          50,
          50
         ]
        },
        {
         "mode": "lines",
         "name": "Env_Materials",
         "type": "scatter",
         "x": [
          0,
          1,
          2,
          3,
          4,
          5,
          6,
          7,
          8,
          9,
          10,
          11,
          12,
          13,
          14,
          15,
          16,
          17,
          18,
          19,
          20,
          21,
          22,
          23,
          24,
          25,
          26,
          27,
          28,
          29,
          30,
          31,
          32,
          33,
          34,
          35,
          36,
          37,
          38,
          39,
          40,
          41,
          42,
          43,
          44,
          45,
          46,
          47,
          48,
          49
         ],
         "y": [
          500,
          500,
          500,
          500,
          500,
          500,
          500,
          500,
          500,
          500,
          500,
          500,
          500,
          500,
          500,
          500,
          500,
          500,
          500,
          500,
          500,
          500,
          500,
          500,
          500,
          500,
          500,
          500,
          500,
          500,
          500,
          500,
          500,
          500,
          500,
          500,
          500,
          500,
          500,
          500,
          500,
          500,
          500,
          500,
          500,
          500,
          500,
          500,
          500,
          500
         ]
        }
       ],
       "layout": {
        "hovermode": "x",
        "template": {
         "data": {
          "bar": [
           {
            "error_x": {
             "color": "#2a3f5f"
            },
            "error_y": {
             "color": "#2a3f5f"
            },
            "marker": {
             "line": {
              "color": "#E5ECF6",
              "width": 0.5
             },
             "pattern": {
              "fillmode": "overlay",
              "size": 10,
              "solidity": 0.2
             }
            },
            "type": "bar"
           }
          ],
          "barpolar": [
           {
            "marker": {
             "line": {
              "color": "#E5ECF6",
              "width": 0.5
             },
             "pattern": {
              "fillmode": "overlay",
              "size": 10,
              "solidity": 0.2
             }
            },
            "type": "barpolar"
           }
          ],
          "carpet": [
           {
            "aaxis": {
             "endlinecolor": "#2a3f5f",
             "gridcolor": "white",
             "linecolor": "white",
             "minorgridcolor": "white",
             "startlinecolor": "#2a3f5f"
            },
            "baxis": {
             "endlinecolor": "#2a3f5f",
             "gridcolor": "white",
             "linecolor": "white",
             "minorgridcolor": "white",
             "startlinecolor": "#2a3f5f"
            },
            "type": "carpet"
           }
          ],
          "choropleth": [
           {
            "colorbar": {
             "outlinewidth": 0,
             "ticks": ""
            },
            "type": "choropleth"
           }
          ],
          "contour": [
           {
            "colorbar": {
             "outlinewidth": 0,
             "ticks": ""
            },
            "colorscale": [
             [
              0,
              "#0d0887"
             ],
             [
              0.1111111111111111,
              "#46039f"
             ],
             [
              0.2222222222222222,
              "#7201a8"
             ],
             [
              0.3333333333333333,
              "#9c179e"
             ],
             [
              0.4444444444444444,
              "#bd3786"
             ],
             [
              0.5555555555555556,
              "#d8576b"
             ],
             [
              0.6666666666666666,
              "#ed7953"
             ],
             [
              0.7777777777777778,
              "#fb9f3a"
             ],
             [
              0.8888888888888888,
              "#fdca26"
             ],
             [
              1,
              "#f0f921"
             ]
            ],
            "type": "contour"
           }
          ],
          "contourcarpet": [
           {
            "colorbar": {
             "outlinewidth": 0,
             "ticks": ""
            },
            "type": "contourcarpet"
           }
          ],
          "heatmap": [
           {
            "colorbar": {
             "outlinewidth": 0,
             "ticks": ""
            },
            "colorscale": [
             [
              0,
              "#0d0887"
             ],
             [
              0.1111111111111111,
              "#46039f"
             ],
             [
              0.2222222222222222,
              "#7201a8"
             ],
             [
              0.3333333333333333,
              "#9c179e"
             ],
             [
              0.4444444444444444,
              "#bd3786"
             ],
             [
              0.5555555555555556,
              "#d8576b"
             ],
             [
              0.6666666666666666,
              "#ed7953"
             ],
             [
              0.7777777777777778,
              "#fb9f3a"
             ],
             [
              0.8888888888888888,
              "#fdca26"
             ],
             [
              1,
              "#f0f921"
             ]
            ],
            "type": "heatmap"
           }
          ],
          "heatmapgl": [
           {
            "colorbar": {
             "outlinewidth": 0,
             "ticks": ""
            },
            "colorscale": [
             [
              0,
              "#0d0887"
             ],
             [
              0.1111111111111111,
              "#46039f"
             ],
             [
              0.2222222222222222,
              "#7201a8"
             ],
             [
              0.3333333333333333,
              "#9c179e"
             ],
             [
              0.4444444444444444,
              "#bd3786"
             ],
             [
              0.5555555555555556,
              "#d8576b"
             ],
             [
              0.6666666666666666,
              "#ed7953"
             ],
             [
              0.7777777777777778,
              "#fb9f3a"
             ],
             [
              0.8888888888888888,
              "#fdca26"
             ],
             [
              1,
              "#f0f921"
             ]
            ],
            "type": "heatmapgl"
           }
          ],
          "histogram": [
           {
            "marker": {
             "pattern": {
              "fillmode": "overlay",
              "size": 10,
              "solidity": 0.2
             }
            },
            "type": "histogram"
           }
          ],
          "histogram2d": [
           {
            "colorbar": {
             "outlinewidth": 0,
             "ticks": ""
            },
            "colorscale": [
             [
              0,
              "#0d0887"
             ],
             [
              0.1111111111111111,
              "#46039f"
             ],
             [
              0.2222222222222222,
              "#7201a8"
             ],
             [
              0.3333333333333333,
              "#9c179e"
             ],
             [
              0.4444444444444444,
              "#bd3786"
             ],
             [
              0.5555555555555556,
              "#d8576b"
             ],
             [
              0.6666666666666666,
              "#ed7953"
             ],
             [
              0.7777777777777778,
              "#fb9f3a"
             ],
             [
              0.8888888888888888,
              "#fdca26"
             ],
             [
              1,
              "#f0f921"
             ]
            ],
            "type": "histogram2d"
           }
          ],
          "histogram2dcontour": [
           {
            "colorbar": {
             "outlinewidth": 0,
             "ticks": ""
            },
            "colorscale": [
             [
              0,
              "#0d0887"
             ],
             [
              0.1111111111111111,
              "#46039f"
             ],
             [
              0.2222222222222222,
              "#7201a8"
             ],
             [
              0.3333333333333333,
              "#9c179e"
             ],
             [
              0.4444444444444444,
              "#bd3786"
             ],
             [
              0.5555555555555556,
              "#d8576b"
             ],
             [
              0.6666666666666666,
              "#ed7953"
             ],
             [
              0.7777777777777778,
              "#fb9f3a"
             ],
             [
              0.8888888888888888,
              "#fdca26"
             ],
             [
              1,
              "#f0f921"
             ]
            ],
            "type": "histogram2dcontour"
           }
          ],
          "mesh3d": [
           {
            "colorbar": {
             "outlinewidth": 0,
             "ticks": ""
            },
            "type": "mesh3d"
           }
          ],
          "parcoords": [
           {
            "line": {
             "colorbar": {
              "outlinewidth": 0,
              "ticks": ""
             }
            },
            "type": "parcoords"
           }
          ],
          "pie": [
           {
            "automargin": true,
            "type": "pie"
           }
          ],
          "scatter": [
           {
            "fillpattern": {
             "fillmode": "overlay",
             "size": 10,
             "solidity": 0.2
            },
            "type": "scatter"
           }
          ],
          "scatter3d": [
           {
            "line": {
             "colorbar": {
              "outlinewidth": 0,
              "ticks": ""
             }
            },
            "marker": {
             "colorbar": {
              "outlinewidth": 0,
              "ticks": ""
             }
            },
            "type": "scatter3d"
           }
          ],
          "scattercarpet": [
           {
            "marker": {
             "colorbar": {
              "outlinewidth": 0,
              "ticks": ""
             }
            },
            "type": "scattercarpet"
           }
          ],
          "scattergeo": [
           {
            "marker": {
             "colorbar": {
              "outlinewidth": 0,
              "ticks": ""
             }
            },
            "type": "scattergeo"
           }
          ],
          "scattergl": [
           {
            "marker": {
             "colorbar": {
              "outlinewidth": 0,
              "ticks": ""
             }
            },
            "type": "scattergl"
           }
          ],
          "scattermapbox": [
           {
            "marker": {
             "colorbar": {
              "outlinewidth": 0,
              "ticks": ""
             }
            },
            "type": "scattermapbox"
           }
          ],
          "scatterpolar": [
           {
            "marker": {
             "colorbar": {
              "outlinewidth": 0,
              "ticks": ""
             }
            },
            "type": "scatterpolar"
           }
          ],
          "scatterpolargl": [
           {
            "marker": {
             "colorbar": {
              "outlinewidth": 0,
              "ticks": ""
             }
            },
            "type": "scatterpolargl"
           }
          ],
          "scatterternary": [
           {
            "marker": {
             "colorbar": {
              "outlinewidth": 0,
              "ticks": ""
             }
            },
            "type": "scatterternary"
           }
          ],
          "surface": [
           {
            "colorbar": {
             "outlinewidth": 0,
             "ticks": ""
            },
            "colorscale": [
             [
              0,
              "#0d0887"
             ],
             [
              0.1111111111111111,
              "#46039f"
             ],
             [
              0.2222222222222222,
              "#7201a8"
             ],
             [
              0.3333333333333333,
              "#9c179e"
             ],
             [
              0.4444444444444444,
              "#bd3786"
             ],
             [
              0.5555555555555556,
              "#d8576b"
             ],
             [
              0.6666666666666666,
              "#ed7953"
             ],
             [
              0.7777777777777778,
              "#fb9f3a"
             ],
             [
              0.8888888888888888,
              "#fdca26"
             ],
             [
              1,
              "#f0f921"
             ]
            ],
            "type": "surface"
           }
          ],
          "table": [
           {
            "cells": {
             "fill": {
              "color": "#EBF0F8"
             },
             "line": {
              "color": "white"
             }
            },
            "header": {
             "fill": {
              "color": "#C8D4E3"
             },
             "line": {
              "color": "white"
             }
            },
            "type": "table"
           }
          ]
         },
         "layout": {
          "annotationdefaults": {
           "arrowcolor": "#2a3f5f",
           "arrowhead": 0,
           "arrowwidth": 1
          },
          "autotypenumbers": "strict",
          "coloraxis": {
           "colorbar": {
            "outlinewidth": 0,
            "ticks": ""
           }
          },
          "colorscale": {
           "diverging": [
            [
             0,
             "#8e0152"
            ],
            [
             0.1,
             "#c51b7d"
            ],
            [
             0.2,
             "#de77ae"
            ],
            [
             0.3,
             "#f1b6da"
            ],
            [
             0.4,
             "#fde0ef"
            ],
            [
             0.5,
             "#f7f7f7"
            ],
            [
             0.6,
             "#e6f5d0"
            ],
            [
             0.7,
             "#b8e186"
            ],
            [
             0.8,
             "#7fbc41"
            ],
            [
             0.9,
             "#4d9221"
            ],
            [
             1,
             "#276419"
            ]
           ],
           "sequential": [
            [
             0,
             "#0d0887"
            ],
            [
             0.1111111111111111,
             "#46039f"
            ],
            [
             0.2222222222222222,
             "#7201a8"
            ],
            [
             0.3333333333333333,
             "#9c179e"
            ],
            [
             0.4444444444444444,
             "#bd3786"
            ],
            [
             0.5555555555555556,
             "#d8576b"
            ],
            [
             0.6666666666666666,
             "#ed7953"
            ],
            [
             0.7777777777777778,
             "#fb9f3a"
            ],
            [
             0.8888888888888888,
             "#fdca26"
            ],
            [
             1,
             "#f0f921"
            ]
           ],
           "sequentialminus": [
            [
             0,
             "#0d0887"
            ],
            [
             0.1111111111111111,
             "#46039f"
            ],
            [
             0.2222222222222222,
             "#7201a8"
            ],
            [
             0.3333333333333333,
             "#9c179e"
            ],
            [
             0.4444444444444444,
             "#bd3786"
            ],
            [
             0.5555555555555556,
             "#d8576b"
            ],
            [
             0.6666666666666666,
             "#ed7953"
            ],
            [
             0.7777777777777778,
             "#fb9f3a"
            ],
            [
             0.8888888888888888,
             "#fdca26"
            ],
            [
             1,
             "#f0f921"
            ]
           ]
          },
          "colorway": [
           "#636efa",
           "#EF553B",
           "#00cc96",
           "#ab63fa",
           "#FFA15A",
           "#19d3f3",
           "#FF6692",
           "#B6E880",
           "#FF97FF",
           "#FECB52"
          ],
          "font": {
           "color": "#2a3f5f"
          },
          "geo": {
           "bgcolor": "white",
           "lakecolor": "white",
           "landcolor": "#E5ECF6",
           "showlakes": true,
           "showland": true,
           "subunitcolor": "white"
          },
          "hoverlabel": {
           "align": "left"
          },
          "hovermode": "closest",
          "mapbox": {
           "style": "light"
          },
          "paper_bgcolor": "white",
          "plot_bgcolor": "#E5ECF6",
          "polar": {
           "angularaxis": {
            "gridcolor": "white",
            "linecolor": "white",
            "ticks": ""
           },
           "bgcolor": "#E5ECF6",
           "radialaxis": {
            "gridcolor": "white",
            "linecolor": "white",
            "ticks": ""
           }
          },
          "scene": {
           "xaxis": {
            "backgroundcolor": "#E5ECF6",
            "gridcolor": "white",
            "gridwidth": 2,
            "linecolor": "white",
            "showbackground": true,
            "ticks": "",
            "zerolinecolor": "white"
           },
           "yaxis": {
            "backgroundcolor": "#E5ECF6",
            "gridcolor": "white",
            "gridwidth": 2,
            "linecolor": "white",
            "showbackground": true,
            "ticks": "",
            "zerolinecolor": "white"
           },
           "zaxis": {
            "backgroundcolor": "#E5ECF6",
            "gridcolor": "white",
            "gridwidth": 2,
            "linecolor": "white",
            "showbackground": true,
            "ticks": "",
            "zerolinecolor": "white"
           }
          },
          "shapedefaults": {
           "line": {
            "color": "#2a3f5f"
           }
          },
          "ternary": {
           "aaxis": {
            "gridcolor": "white",
            "linecolor": "white",
            "ticks": ""
           },
           "baxis": {
            "gridcolor": "white",
            "linecolor": "white",
            "ticks": ""
           },
           "bgcolor": "#E5ECF6",
           "caxis": {
            "gridcolor": "white",
            "linecolor": "white",
            "ticks": ""
           }
          },
          "title": {
           "x": 0.05
          },
          "xaxis": {
           "automargin": true,
           "gridcolor": "white",
           "linecolor": "white",
           "ticks": "",
           "title": {
            "standoff": 15
           },
           "zerolinecolor": "white",
           "zerolinewidth": 2
          },
          "yaxis": {
           "automargin": true,
           "gridcolor": "white",
           "linecolor": "white",
           "ticks": "",
           "title": {
            "standoff": 15
           },
           "zerolinecolor": "white",
           "zerolinewidth": 2
          }
         }
        },
        "title": {
         "text": "CHO Resources vs Time"
        },
        "xaxis": {
         "title": {
          "text": "Time"
         }
        },
        "yaxis": {
         "title": {
          "text": "Resources"
         }
        }
       }
      },
      "text/html": [
       "<div>                            <div id=\"65230b24-f06f-4c07-b67a-f50c2c5ea6ec\" class=\"plotly-graph-div\" style=\"height:525px; width:100%;\"></div>            <script type=\"text/javascript\">                require([\"plotly\"], function(Plotly) {                    window.PLOTLYENV=window.PLOTLYENV || {};                                    if (document.getElementById(\"65230b24-f06f-4c07-b67a-f50c2c5ea6ec\")) {                    Plotly.newPlot(                        \"65230b24-f06f-4c07-b67a-f50c2c5ea6ec\",                        [{\"mode\":\"lines\",\"name\":\"NonPr\",\"x\":[0.0,1.0,2.0,3.0,4.0,5.0,6.0,7.0,8.0,9.0,10.0,11.0,12.0,13.0,14.0,15.0,16.0,17.0,18.0,19.0,20.0,21.0,22.0,23.0,24.0,25.0,26.0,27.0,28.0,29.0,30.0,31.0,32.0,33.0,34.0,35.0,36.0,37.0,38.0,39.0,40.0,41.0,42.0,43.0,44.0,45.0,46.0,47.0,48.0,49.0],\"y\":[299.0,299.0,299.0,298.0,298.0,298.0,297.0,297.0,297.0,296.0,296.0,296.0,295.0,295.0,295.0,294.0,294.0,294.0,293.0,293.0,293.0,292.0,292.0,292.0,291.0,291.0,291.0,290.0,290.0,290.0,289.0,289.0,289.0,288.0,288.0,288.0,287.0,287.0,287.0,286.0,286.0,286.0,285.0,285.0,285.0,284.0,284.0,284.0,283.0,283.0],\"type\":\"scatter\"},{\"mode\":\"lines\",\"name\":\"Printable\",\"x\":[0.0,1.0,2.0,3.0,4.0,5.0,6.0,7.0,8.0,9.0,10.0,11.0,12.0,13.0,14.0,15.0,16.0,17.0,18.0,19.0,20.0,21.0,22.0,23.0,24.0,25.0,26.0,27.0,28.0,29.0,30.0,31.0,32.0,33.0,34.0,35.0,36.0,37.0,38.0,39.0,40.0,41.0,42.0,43.0,44.0,45.0,46.0,47.0,48.0,49.0],\"y\":[98.0,98.0,98.0,96.0,96.0,96.0,94.0,94.0,94.0,92.0,92.0,92.0,90.0,90.0,90.0,88.0,88.0,88.0,86.0,86.0,86.0,84.0,84.0,84.0,82.0,82.0,82.0,80.0,80.0,80.0,78.0,78.0,78.0,76.0,76.0,76.0,74.0,74.0,74.0,72.0,72.0,72.0,70.0,70.0,70.0,68.0,68.0,68.0,66.0,66.0],\"type\":\"scatter\"},{\"mode\":\"lines\",\"name\":\"Materials\",\"x\":[0.0,1.0,2.0,3.0,4.0,5.0,6.0,7.0,8.0,9.0,10.0,11.0,12.0,13.0,14.0,15.0,16.0,17.0,18.0,19.0,20.0,21.0,22.0,23.0,24.0,25.0,26.0,27.0,28.0,29.0,30.0,31.0,32.0,33.0,34.0,35.0,36.0,37.0,38.0,39.0,40.0,41.0,42.0,43.0,44.0,45.0,46.0,47.0,48.0,49.0],\"y\":[50.0,50.0,50.0,50.0,50.0,50.0,50.0,50.0,50.0,50.0,50.0,50.0,50.0,50.0,50.0,50.0,50.0,50.0,50.0,50.0,50.0,50.0,50.0,50.0,50.0,50.0,50.0,50.0,50.0,50.0,50.0,50.0,50.0,50.0,50.0,50.0,50.0,50.0,50.0,50.0,50.0,50.0,50.0,50.0,50.0,50.0,50.0,50.0,50.0,50.0],\"type\":\"scatter\"},{\"mode\":\"lines\",\"name\":\"Env_Materials\",\"x\":[0.0,1.0,2.0,3.0,4.0,5.0,6.0,7.0,8.0,9.0,10.0,11.0,12.0,13.0,14.0,15.0,16.0,17.0,18.0,19.0,20.0,21.0,22.0,23.0,24.0,25.0,26.0,27.0,28.0,29.0,30.0,31.0,32.0,33.0,34.0,35.0,36.0,37.0,38.0,39.0,40.0,41.0,42.0,43.0,44.0,45.0,46.0,47.0,48.0,49.0],\"y\":[500.0,500.0,500.0,500.0,500.0,500.0,500.0,500.0,500.0,500.0,500.0,500.0,500.0,500.0,500.0,500.0,500.0,500.0,500.0,500.0,500.0,500.0,500.0,500.0,500.0,500.0,500.0,500.0,500.0,500.0,500.0,500.0,500.0,500.0,500.0,500.0,500.0,500.0,500.0,500.0,500.0,500.0,500.0,500.0,500.0,500.0,500.0,500.0,500.0,500.0],\"type\":\"scatter\"}],                        {\"template\":{\"data\":{\"histogram2dcontour\":[{\"type\":\"histogram2dcontour\",\"colorbar\":{\"outlinewidth\":0,\"ticks\":\"\"},\"colorscale\":[[0.0,\"#0d0887\"],[0.1111111111111111,\"#46039f\"],[0.2222222222222222,\"#7201a8\"],[0.3333333333333333,\"#9c179e\"],[0.4444444444444444,\"#bd3786\"],[0.5555555555555556,\"#d8576b\"],[0.6666666666666666,\"#ed7953\"],[0.7777777777777778,\"#fb9f3a\"],[0.8888888888888888,\"#fdca26\"],[1.0,\"#f0f921\"]]}],\"choropleth\":[{\"type\":\"choropleth\",\"colorbar\":{\"outlinewidth\":0,\"ticks\":\"\"}}],\"histogram2d\":[{\"type\":\"histogram2d\",\"colorbar\":{\"outlinewidth\":0,\"ticks\":\"\"},\"colorscale\":[[0.0,\"#0d0887\"],[0.1111111111111111,\"#46039f\"],[0.2222222222222222,\"#7201a8\"],[0.3333333333333333,\"#9c179e\"],[0.4444444444444444,\"#bd3786\"],[0.5555555555555556,\"#d8576b\"],[0.6666666666666666,\"#ed7953\"],[0.7777777777777778,\"#fb9f3a\"],[0.8888888888888888,\"#fdca26\"],[1.0,\"#f0f921\"]]}],\"heatmap\":[{\"type\":\"heatmap\",\"colorbar\":{\"outlinewidth\":0,\"ticks\":\"\"},\"colorscale\":[[0.0,\"#0d0887\"],[0.1111111111111111,\"#46039f\"],[0.2222222222222222,\"#7201a8\"],[0.3333333333333333,\"#9c179e\"],[0.4444444444444444,\"#bd3786\"],[0.5555555555555556,\"#d8576b\"],[0.6666666666666666,\"#ed7953\"],[0.7777777777777778,\"#fb9f3a\"],[0.8888888888888888,\"#fdca26\"],[1.0,\"#f0f921\"]]}],\"heatmapgl\":[{\"type\":\"heatmapgl\",\"colorbar\":{\"outlinewidth\":0,\"ticks\":\"\"},\"colorscale\":[[0.0,\"#0d0887\"],[0.1111111111111111,\"#46039f\"],[0.2222222222222222,\"#7201a8\"],[0.3333333333333333,\"#9c179e\"],[0.4444444444444444,\"#bd3786\"],[0.5555555555555556,\"#d8576b\"],[0.6666666666666666,\"#ed7953\"],[0.7777777777777778,\"#fb9f3a\"],[0.8888888888888888,\"#fdca26\"],[1.0,\"#f0f921\"]]}],\"contourcarpet\":[{\"type\":\"contourcarpet\",\"colorbar\":{\"outlinewidth\":0,\"ticks\":\"\"}}],\"contour\":[{\"type\":\"contour\",\"colorbar\":{\"outlinewidth\":0,\"ticks\":\"\"},\"colorscale\":[[0.0,\"#0d0887\"],[0.1111111111111111,\"#46039f\"],[0.2222222222222222,\"#7201a8\"],[0.3333333333333333,\"#9c179e\"],[0.4444444444444444,\"#bd3786\"],[0.5555555555555556,\"#d8576b\"],[0.6666666666666666,\"#ed7953\"],[0.7777777777777778,\"#fb9f3a\"],[0.8888888888888888,\"#fdca26\"],[1.0,\"#f0f921\"]]}],\"surface\":[{\"type\":\"surface\",\"colorbar\":{\"outlinewidth\":0,\"ticks\":\"\"},\"colorscale\":[[0.0,\"#0d0887\"],[0.1111111111111111,\"#46039f\"],[0.2222222222222222,\"#7201a8\"],[0.3333333333333333,\"#9c179e\"],[0.4444444444444444,\"#bd3786\"],[0.5555555555555556,\"#d8576b\"],[0.6666666666666666,\"#ed7953\"],[0.7777777777777778,\"#fb9f3a\"],[0.8888888888888888,\"#fdca26\"],[1.0,\"#f0f921\"]]}],\"mesh3d\":[{\"type\":\"mesh3d\",\"colorbar\":{\"outlinewidth\":0,\"ticks\":\"\"}}],\"scatter\":[{\"fillpattern\":{\"fillmode\":\"overlay\",\"size\":10,\"solidity\":0.2},\"type\":\"scatter\"}],\"parcoords\":[{\"type\":\"parcoords\",\"line\":{\"colorbar\":{\"outlinewidth\":0,\"ticks\":\"\"}}}],\"scatterpolargl\":[{\"type\":\"scatterpolargl\",\"marker\":{\"colorbar\":{\"outlinewidth\":0,\"ticks\":\"\"}}}],\"bar\":[{\"error_x\":{\"color\":\"#2a3f5f\"},\"error_y\":{\"color\":\"#2a3f5f\"},\"marker\":{\"line\":{\"color\":\"#E5ECF6\",\"width\":0.5},\"pattern\":{\"fillmode\":\"overlay\",\"size\":10,\"solidity\":0.2}},\"type\":\"bar\"}],\"scattergeo\":[{\"type\":\"scattergeo\",\"marker\":{\"colorbar\":{\"outlinewidth\":0,\"ticks\":\"\"}}}],\"scatterpolar\":[{\"type\":\"scatterpolar\",\"marker\":{\"colorbar\":{\"outlinewidth\":0,\"ticks\":\"\"}}}],\"histogram\":[{\"marker\":{\"pattern\":{\"fillmode\":\"overlay\",\"size\":10,\"solidity\":0.2}},\"type\":\"histogram\"}],\"scattergl\":[{\"type\":\"scattergl\",\"marker\":{\"colorbar\":{\"outlinewidth\":0,\"ticks\":\"\"}}}],\"scatter3d\":[{\"type\":\"scatter3d\",\"line\":{\"colorbar\":{\"outlinewidth\":0,\"ticks\":\"\"}},\"marker\":{\"colorbar\":{\"outlinewidth\":0,\"ticks\":\"\"}}}],\"scattermapbox\":[{\"type\":\"scattermapbox\",\"marker\":{\"colorbar\":{\"outlinewidth\":0,\"ticks\":\"\"}}}],\"scatterternary\":[{\"type\":\"scatterternary\",\"marker\":{\"colorbar\":{\"outlinewidth\":0,\"ticks\":\"\"}}}],\"scattercarpet\":[{\"type\":\"scattercarpet\",\"marker\":{\"colorbar\":{\"outlinewidth\":0,\"ticks\":\"\"}}}],\"carpet\":[{\"aaxis\":{\"endlinecolor\":\"#2a3f5f\",\"gridcolor\":\"white\",\"linecolor\":\"white\",\"minorgridcolor\":\"white\",\"startlinecolor\":\"#2a3f5f\"},\"baxis\":{\"endlinecolor\":\"#2a3f5f\",\"gridcolor\":\"white\",\"linecolor\":\"white\",\"minorgridcolor\":\"white\",\"startlinecolor\":\"#2a3f5f\"},\"type\":\"carpet\"}],\"table\":[{\"cells\":{\"fill\":{\"color\":\"#EBF0F8\"},\"line\":{\"color\":\"white\"}},\"header\":{\"fill\":{\"color\":\"#C8D4E3\"},\"line\":{\"color\":\"white\"}},\"type\":\"table\"}],\"barpolar\":[{\"marker\":{\"line\":{\"color\":\"#E5ECF6\",\"width\":0.5},\"pattern\":{\"fillmode\":\"overlay\",\"size\":10,\"solidity\":0.2}},\"type\":\"barpolar\"}],\"pie\":[{\"automargin\":true,\"type\":\"pie\"}]},\"layout\":{\"autotypenumbers\":\"strict\",\"colorway\":[\"#636efa\",\"#EF553B\",\"#00cc96\",\"#ab63fa\",\"#FFA15A\",\"#19d3f3\",\"#FF6692\",\"#B6E880\",\"#FF97FF\",\"#FECB52\"],\"font\":{\"color\":\"#2a3f5f\"},\"hovermode\":\"closest\",\"hoverlabel\":{\"align\":\"left\"},\"paper_bgcolor\":\"white\",\"plot_bgcolor\":\"#E5ECF6\",\"polar\":{\"bgcolor\":\"#E5ECF6\",\"angularaxis\":{\"gridcolor\":\"white\",\"linecolor\":\"white\",\"ticks\":\"\"},\"radialaxis\":{\"gridcolor\":\"white\",\"linecolor\":\"white\",\"ticks\":\"\"}},\"ternary\":{\"bgcolor\":\"#E5ECF6\",\"aaxis\":{\"gridcolor\":\"white\",\"linecolor\":\"white\",\"ticks\":\"\"},\"baxis\":{\"gridcolor\":\"white\",\"linecolor\":\"white\",\"ticks\":\"\"},\"caxis\":{\"gridcolor\":\"white\",\"linecolor\":\"white\",\"ticks\":\"\"}},\"coloraxis\":{\"colorbar\":{\"outlinewidth\":0,\"ticks\":\"\"}},\"colorscale\":{\"sequential\":[[0.0,\"#0d0887\"],[0.1111111111111111,\"#46039f\"],[0.2222222222222222,\"#7201a8\"],[0.3333333333333333,\"#9c179e\"],[0.4444444444444444,\"#bd3786\"],[0.5555555555555556,\"#d8576b\"],[0.6666666666666666,\"#ed7953\"],[0.7777777777777778,\"#fb9f3a\"],[0.8888888888888888,\"#fdca26\"],[1.0,\"#f0f921\"]],\"sequentialminus\":[[0.0,\"#0d0887\"],[0.1111111111111111,\"#46039f\"],[0.2222222222222222,\"#7201a8\"],[0.3333333333333333,\"#9c179e\"],[0.4444444444444444,\"#bd3786\"],[0.5555555555555556,\"#d8576b\"],[0.6666666666666666,\"#ed7953\"],[0.7777777777777778,\"#fb9f3a\"],[0.8888888888888888,\"#fdca26\"],[1.0,\"#f0f921\"]],\"diverging\":[[0,\"#8e0152\"],[0.1,\"#c51b7d\"],[0.2,\"#de77ae\"],[0.3,\"#f1b6da\"],[0.4,\"#fde0ef\"],[0.5,\"#f7f7f7\"],[0.6,\"#e6f5d0\"],[0.7,\"#b8e186\"],[0.8,\"#7fbc41\"],[0.9,\"#4d9221\"],[1,\"#276419\"]]},\"xaxis\":{\"gridcolor\":\"white\",\"linecolor\":\"white\",\"ticks\":\"\",\"title\":{\"standoff\":15},\"zerolinecolor\":\"white\",\"automargin\":true,\"zerolinewidth\":2},\"yaxis\":{\"gridcolor\":\"white\",\"linecolor\":\"white\",\"ticks\":\"\",\"title\":{\"standoff\":15},\"zerolinecolor\":\"white\",\"automargin\":true,\"zerolinewidth\":2},\"scene\":{\"xaxis\":{\"backgroundcolor\":\"#E5ECF6\",\"gridcolor\":\"white\",\"linecolor\":\"white\",\"showbackground\":true,\"ticks\":\"\",\"zerolinecolor\":\"white\",\"gridwidth\":2},\"yaxis\":{\"backgroundcolor\":\"#E5ECF6\",\"gridcolor\":\"white\",\"linecolor\":\"white\",\"showbackground\":true,\"ticks\":\"\",\"zerolinecolor\":\"white\",\"gridwidth\":2},\"zaxis\":{\"backgroundcolor\":\"#E5ECF6\",\"gridcolor\":\"white\",\"linecolor\":\"white\",\"showbackground\":true,\"ticks\":\"\",\"zerolinecolor\":\"white\",\"gridwidth\":2}},\"shapedefaults\":{\"line\":{\"color\":\"#2a3f5f\"}},\"annotationdefaults\":{\"arrowcolor\":\"#2a3f5f\",\"arrowhead\":0,\"arrowwidth\":1},\"geo\":{\"bgcolor\":\"white\",\"landcolor\":\"#E5ECF6\",\"subunitcolor\":\"white\",\"showland\":true,\"showlakes\":true,\"lakecolor\":\"white\"},\"title\":{\"x\":0.05},\"mapbox\":{\"style\":\"light\"}}},\"hovermode\":\"x\",\"title\":{\"text\":\"CHO Resources vs Time\"},\"xaxis\":{\"title\":{\"text\":\"Time\"}},\"yaxis\":{\"title\":{\"text\":\"Resources\"}}},                        {\"responsive\": true}                    ).then(function(){\n",
       "                            \n",
       "var gd = document.getElementById('65230b24-f06f-4c07-b67a-f50c2c5ea6ec');\n",
       "var x = new MutationObserver(function (mutations, observer) {{\n",
       "        var display = window.getComputedStyle(gd).display;\n",
       "        if (!display || display === 'none') {{\n",
       "            console.log([gd, 'removed!']);\n",
       "            Plotly.purge(gd);\n",
       "            observer.disconnect();\n",
       "        }}\n",
       "}});\n",
       "\n",
       "// Listen for the removal of the full notebook cells\n",
       "var notebookContainer = gd.closest('#notebook-container');\n",
       "if (notebookContainer) {{\n",
       "    x.observe(notebookContainer, {childList: true});\n",
       "}}\n",
       "\n",
       "// Listen for the clearing of the current output cell\n",
       "var outputEl = gd.closest('.output');\n",
       "if (outputEl) {{\n",
       "    x.observe(outputEl, {childList: true});\n",
       "}}\n",
       "\n",
       "                        })                };                });            </script>        </div>"
      ]
     },
     "metadata": {},
     "output_type": "display_data"
    },
    {
     "data": {
      "application/vnd.plotly.v1+json": {
       "config": {
        "plotlyServerURL": "https://plotly.com"
       },
       "data": [
        {
         "mode": "lines",
         "name": "Avg. Build Quality-In Service",
         "type": "scatter",
         "x": [
          0,
          1,
          2,
          3,
          4,
          5,
          6,
          7,
          8,
          9,
          10,
          11,
          12,
          13,
          14,
          15,
          16,
          17,
          18,
          19,
          20,
          21,
          22,
          23,
          24,
          25,
          26,
          27,
          28,
          29,
          30,
          31,
          32,
          33,
          34,
          35,
          36,
          37,
          38,
          39,
          40,
          41,
          42,
          43,
          44,
          45,
          46,
          47,
          48,
          49
         ],
         "y": [
          0.851,
          0.851,
          0.851,
          0.851,
          0.851,
          0.851,
          0.851,
          0.851,
          0.851,
          0.851,
          0.851,
          0.851,
          0.851,
          0.851,
          0.851,
          0.851,
          0.851,
          0.851,
          0.851,
          0.851,
          0.851,
          0.851,
          0.851,
          0.851,
          0.851,
          0.851,
          0.851,
          0.851,
          0.851,
          0.851,
          0.851,
          0.851,
          0.851,
          0.851,
          0.851,
          0.851,
          0.851,
          0.851,
          0.851,
          0.851,
          0.851,
          0.851,
          0.851,
          0.851,
          0.851,
          0.851,
          0.851,
          0.851,
          0.851,
          0.851
         ]
        },
        {
         "mode": "lines",
         "name": "Avg. Build Quality-System",
         "type": "scatter",
         "x": [
          0,
          1,
          2,
          3,
          4,
          5,
          6,
          7,
          8,
          9,
          10,
          11,
          12,
          13,
          14,
          15,
          16,
          17,
          18,
          19,
          20,
          21,
          22,
          23,
          24,
          25,
          26,
          27,
          28,
          29,
          30,
          31,
          32,
          33,
          34,
          35,
          36,
          37,
          38,
          39,
          40,
          41,
          42,
          43,
          44,
          45,
          46,
          47,
          48,
          49
         ],
         "y": [
          0.851,
          0.851,
          0.851,
          0.851,
          0.851,
          0.851,
          0.851,
          0.851,
          0.851,
          0.851,
          0.851,
          0.851,
          0.851,
          0.851,
          0.851,
          0.851,
          0.851,
          0.851,
          0.851,
          0.851,
          0.851,
          0.851,
          0.851,
          0.851,
          0.851,
          0.851,
          0.851,
          0.851,
          0.851,
          0.851,
          0.851,
          0.851,
          0.851,
          0.851,
          0.851,
          0.851,
          0.851,
          0.851,
          0.851,
          0.851,
          0.851,
          0.851,
          0.851,
          0.851,
          0.851,
          0.851,
          0.851,
          0.851,
          0.851,
          0.851
         ]
        }
       ],
       "layout": {
        "hovermode": "x",
        "template": {
         "data": {
          "bar": [
           {
            "error_x": {
             "color": "#2a3f5f"
            },
            "error_y": {
             "color": "#2a3f5f"
            },
            "marker": {
             "line": {
              "color": "#E5ECF6",
              "width": 0.5
             },
             "pattern": {
              "fillmode": "overlay",
              "size": 10,
              "solidity": 0.2
             }
            },
            "type": "bar"
           }
          ],
          "barpolar": [
           {
            "marker": {
             "line": {
              "color": "#E5ECF6",
              "width": 0.5
             },
             "pattern": {
              "fillmode": "overlay",
              "size": 10,
              "solidity": 0.2
             }
            },
            "type": "barpolar"
           }
          ],
          "carpet": [
           {
            "aaxis": {
             "endlinecolor": "#2a3f5f",
             "gridcolor": "white",
             "linecolor": "white",
             "minorgridcolor": "white",
             "startlinecolor": "#2a3f5f"
            },
            "baxis": {
             "endlinecolor": "#2a3f5f",
             "gridcolor": "white",
             "linecolor": "white",
             "minorgridcolor": "white",
             "startlinecolor": "#2a3f5f"
            },
            "type": "carpet"
           }
          ],
          "choropleth": [
           {
            "colorbar": {
             "outlinewidth": 0,
             "ticks": ""
            },
            "type": "choropleth"
           }
          ],
          "contour": [
           {
            "colorbar": {
             "outlinewidth": 0,
             "ticks": ""
            },
            "colorscale": [
             [
              0,
              "#0d0887"
             ],
             [
              0.1111111111111111,
              "#46039f"
             ],
             [
              0.2222222222222222,
              "#7201a8"
             ],
             [
              0.3333333333333333,
              "#9c179e"
             ],
             [
              0.4444444444444444,
              "#bd3786"
             ],
             [
              0.5555555555555556,
              "#d8576b"
             ],
             [
              0.6666666666666666,
              "#ed7953"
             ],
             [
              0.7777777777777778,
              "#fb9f3a"
             ],
             [
              0.8888888888888888,
              "#fdca26"
             ],
             [
              1,
              "#f0f921"
             ]
            ],
            "type": "contour"
           }
          ],
          "contourcarpet": [
           {
            "colorbar": {
             "outlinewidth": 0,
             "ticks": ""
            },
            "type": "contourcarpet"
           }
          ],
          "heatmap": [
           {
            "colorbar": {
             "outlinewidth": 0,
             "ticks": ""
            },
            "colorscale": [
             [
              0,
              "#0d0887"
             ],
             [
              0.1111111111111111,
              "#46039f"
             ],
             [
              0.2222222222222222,
              "#7201a8"
             ],
             [
              0.3333333333333333,
              "#9c179e"
             ],
             [
              0.4444444444444444,
              "#bd3786"
             ],
             [
              0.5555555555555556,
              "#d8576b"
             ],
             [
              0.6666666666666666,
              "#ed7953"
             ],
             [
              0.7777777777777778,
              "#fb9f3a"
             ],
             [
              0.8888888888888888,
              "#fdca26"
             ],
             [
              1,
              "#f0f921"
             ]
            ],
            "type": "heatmap"
           }
          ],
          "heatmapgl": [
           {
            "colorbar": {
             "outlinewidth": 0,
             "ticks": ""
            },
            "colorscale": [
             [
              0,
              "#0d0887"
             ],
             [
              0.1111111111111111,
              "#46039f"
             ],
             [
              0.2222222222222222,
              "#7201a8"
             ],
             [
              0.3333333333333333,
              "#9c179e"
             ],
             [
              0.4444444444444444,
              "#bd3786"
             ],
             [
              0.5555555555555556,
              "#d8576b"
             ],
             [
              0.6666666666666666,
              "#ed7953"
             ],
             [
              0.7777777777777778,
              "#fb9f3a"
             ],
             [
              0.8888888888888888,
              "#fdca26"
             ],
             [
              1,
              "#f0f921"
             ]
            ],
            "type": "heatmapgl"
           }
          ],
          "histogram": [
           {
            "marker": {
             "pattern": {
              "fillmode": "overlay",
              "size": 10,
              "solidity": 0.2
             }
            },
            "type": "histogram"
           }
          ],
          "histogram2d": [
           {
            "colorbar": {
             "outlinewidth": 0,
             "ticks": ""
            },
            "colorscale": [
             [
              0,
              "#0d0887"
             ],
             [
              0.1111111111111111,
              "#46039f"
             ],
             [
              0.2222222222222222,
              "#7201a8"
             ],
             [
              0.3333333333333333,
              "#9c179e"
             ],
             [
              0.4444444444444444,
              "#bd3786"
             ],
             [
              0.5555555555555556,
              "#d8576b"
             ],
             [
              0.6666666666666666,
              "#ed7953"
             ],
             [
              0.7777777777777778,
              "#fb9f3a"
             ],
             [
              0.8888888888888888,
              "#fdca26"
             ],
             [
              1,
              "#f0f921"
             ]
            ],
            "type": "histogram2d"
           }
          ],
          "histogram2dcontour": [
           {
            "colorbar": {
             "outlinewidth": 0,
             "ticks": ""
            },
            "colorscale": [
             [
              0,
              "#0d0887"
             ],
             [
              0.1111111111111111,
              "#46039f"
             ],
             [
              0.2222222222222222,
              "#7201a8"
             ],
             [
              0.3333333333333333,
              "#9c179e"
             ],
             [
              0.4444444444444444,
              "#bd3786"
             ],
             [
              0.5555555555555556,
              "#d8576b"
             ],
             [
              0.6666666666666666,
              "#ed7953"
             ],
             [
              0.7777777777777778,
              "#fb9f3a"
             ],
             [
              0.8888888888888888,
              "#fdca26"
             ],
             [
              1,
              "#f0f921"
             ]
            ],
            "type": "histogram2dcontour"
           }
          ],
          "mesh3d": [
           {
            "colorbar": {
             "outlinewidth": 0,
             "ticks": ""
            },
            "type": "mesh3d"
           }
          ],
          "parcoords": [
           {
            "line": {
             "colorbar": {
              "outlinewidth": 0,
              "ticks": ""
             }
            },
            "type": "parcoords"
           }
          ],
          "pie": [
           {
            "automargin": true,
            "type": "pie"
           }
          ],
          "scatter": [
           {
            "fillpattern": {
             "fillmode": "overlay",
             "size": 10,
             "solidity": 0.2
            },
            "type": "scatter"
           }
          ],
          "scatter3d": [
           {
            "line": {
             "colorbar": {
              "outlinewidth": 0,
              "ticks": ""
             }
            },
            "marker": {
             "colorbar": {
              "outlinewidth": 0,
              "ticks": ""
             }
            },
            "type": "scatter3d"
           }
          ],
          "scattercarpet": [
           {
            "marker": {
             "colorbar": {
              "outlinewidth": 0,
              "ticks": ""
             }
            },
            "type": "scattercarpet"
           }
          ],
          "scattergeo": [
           {
            "marker": {
             "colorbar": {
              "outlinewidth": 0,
              "ticks": ""
             }
            },
            "type": "scattergeo"
           }
          ],
          "scattergl": [
           {
            "marker": {
             "colorbar": {
              "outlinewidth": 0,
              "ticks": ""
             }
            },
            "type": "scattergl"
           }
          ],
          "scattermapbox": [
           {
            "marker": {
             "colorbar": {
              "outlinewidth": 0,
              "ticks": ""
             }
            },
            "type": "scattermapbox"
           }
          ],
          "scatterpolar": [
           {
            "marker": {
             "colorbar": {
              "outlinewidth": 0,
              "ticks": ""
             }
            },
            "type": "scatterpolar"
           }
          ],
          "scatterpolargl": [
           {
            "marker": {
             "colorbar": {
              "outlinewidth": 0,
              "ticks": ""
             }
            },
            "type": "scatterpolargl"
           }
          ],
          "scatterternary": [
           {
            "marker": {
             "colorbar": {
              "outlinewidth": 0,
              "ticks": ""
             }
            },
            "type": "scatterternary"
           }
          ],
          "surface": [
           {
            "colorbar": {
             "outlinewidth": 0,
             "ticks": ""
            },
            "colorscale": [
             [
              0,
              "#0d0887"
             ],
             [
              0.1111111111111111,
              "#46039f"
             ],
             [
              0.2222222222222222,
              "#7201a8"
             ],
             [
              0.3333333333333333,
              "#9c179e"
             ],
             [
              0.4444444444444444,
              "#bd3786"
             ],
             [
              0.5555555555555556,
              "#d8576b"
             ],
             [
              0.6666666666666666,
              "#ed7953"
             ],
             [
              0.7777777777777778,
              "#fb9f3a"
             ],
             [
              0.8888888888888888,
              "#fdca26"
             ],
             [
              1,
              "#f0f921"
             ]
            ],
            "type": "surface"
           }
          ],
          "table": [
           {
            "cells": {
             "fill": {
              "color": "#EBF0F8"
             },
             "line": {
              "color": "white"
             }
            },
            "header": {
             "fill": {
              "color": "#C8D4E3"
             },
             "line": {
              "color": "white"
             }
            },
            "type": "table"
           }
          ]
         },
         "layout": {
          "annotationdefaults": {
           "arrowcolor": "#2a3f5f",
           "arrowhead": 0,
           "arrowwidth": 1
          },
          "autotypenumbers": "strict",
          "coloraxis": {
           "colorbar": {
            "outlinewidth": 0,
            "ticks": ""
           }
          },
          "colorscale": {
           "diverging": [
            [
             0,
             "#8e0152"
            ],
            [
             0.1,
             "#c51b7d"
            ],
            [
             0.2,
             "#de77ae"
            ],
            [
             0.3,
             "#f1b6da"
            ],
            [
             0.4,
             "#fde0ef"
            ],
            [
             0.5,
             "#f7f7f7"
            ],
            [
             0.6,
             "#e6f5d0"
            ],
            [
             0.7,
             "#b8e186"
            ],
            [
             0.8,
             "#7fbc41"
            ],
            [
             0.9,
             "#4d9221"
            ],
            [
             1,
             "#276419"
            ]
           ],
           "sequential": [
            [
             0,
             "#0d0887"
            ],
            [
             0.1111111111111111,
             "#46039f"
            ],
            [
             0.2222222222222222,
             "#7201a8"
            ],
            [
             0.3333333333333333,
             "#9c179e"
            ],
            [
             0.4444444444444444,
             "#bd3786"
            ],
            [
             0.5555555555555556,
             "#d8576b"
            ],
            [
             0.6666666666666666,
             "#ed7953"
            ],
            [
             0.7777777777777778,
             "#fb9f3a"
            ],
            [
             0.8888888888888888,
             "#fdca26"
            ],
            [
             1,
             "#f0f921"
            ]
           ],
           "sequentialminus": [
            [
             0,
             "#0d0887"
            ],
            [
             0.1111111111111111,
             "#46039f"
            ],
            [
             0.2222222222222222,
             "#7201a8"
            ],
            [
             0.3333333333333333,
             "#9c179e"
            ],
            [
             0.4444444444444444,
             "#bd3786"
            ],
            [
             0.5555555555555556,
             "#d8576b"
            ],
            [
             0.6666666666666666,
             "#ed7953"
            ],
            [
             0.7777777777777778,
             "#fb9f3a"
            ],
            [
             0.8888888888888888,
             "#fdca26"
            ],
            [
             1,
             "#f0f921"
            ]
           ]
          },
          "colorway": [
           "#636efa",
           "#EF553B",
           "#00cc96",
           "#ab63fa",
           "#FFA15A",
           "#19d3f3",
           "#FF6692",
           "#B6E880",
           "#FF97FF",
           "#FECB52"
          ],
          "font": {
           "color": "#2a3f5f"
          },
          "geo": {
           "bgcolor": "white",
           "lakecolor": "white",
           "landcolor": "#E5ECF6",
           "showlakes": true,
           "showland": true,
           "subunitcolor": "white"
          },
          "hoverlabel": {
           "align": "left"
          },
          "hovermode": "closest",
          "mapbox": {
           "style": "light"
          },
          "paper_bgcolor": "white",
          "plot_bgcolor": "#E5ECF6",
          "polar": {
           "angularaxis": {
            "gridcolor": "white",
            "linecolor": "white",
            "ticks": ""
           },
           "bgcolor": "#E5ECF6",
           "radialaxis": {
            "gridcolor": "white",
            "linecolor": "white",
            "ticks": ""
           }
          },
          "scene": {
           "xaxis": {
            "backgroundcolor": "#E5ECF6",
            "gridcolor": "white",
            "gridwidth": 2,
            "linecolor": "white",
            "showbackground": true,
            "ticks": "",
            "zerolinecolor": "white"
           },
           "yaxis": {
            "backgroundcolor": "#E5ECF6",
            "gridcolor": "white",
            "gridwidth": 2,
            "linecolor": "white",
            "showbackground": true,
            "ticks": "",
            "zerolinecolor": "white"
           },
           "zaxis": {
            "backgroundcolor": "#E5ECF6",
            "gridcolor": "white",
            "gridwidth": 2,
            "linecolor": "white",
            "showbackground": true,
            "ticks": "",
            "zerolinecolor": "white"
           }
          },
          "shapedefaults": {
           "line": {
            "color": "#2a3f5f"
           }
          },
          "ternary": {
           "aaxis": {
            "gridcolor": "white",
            "linecolor": "white",
            "ticks": ""
           },
           "baxis": {
            "gridcolor": "white",
            "linecolor": "white",
            "ticks": ""
           },
           "bgcolor": "#E5ECF6",
           "caxis": {
            "gridcolor": "white",
            "linecolor": "white",
            "ticks": ""
           }
          },
          "title": {
           "x": 0.05
          },
          "xaxis": {
           "automargin": true,
           "gridcolor": "white",
           "linecolor": "white",
           "ticks": "",
           "title": {
            "standoff": 15
           },
           "zerolinecolor": "white",
           "zerolinewidth": 2
          },
          "yaxis": {
           "automargin": true,
           "gridcolor": "white",
           "linecolor": "white",
           "ticks": "",
           "title": {
            "standoff": 15
           },
           "zerolinecolor": "white",
           "zerolinewidth": 2
          }
         }
        },
        "title": {
         "text": "CHO Robot Build Quality vs Time"
        },
        "xaxis": {
         "title": {
          "text": "Time"
         }
        },
        "yaxis": {
         "title": {
          "text": "Build Quality"
         }
        }
       }
      },
      "text/html": [
       "<div>                            <div id=\"0726662f-9186-4a81-8728-dcf9f3ef392d\" class=\"plotly-graph-div\" style=\"height:525px; width:100%;\"></div>            <script type=\"text/javascript\">                require([\"plotly\"], function(Plotly) {                    window.PLOTLYENV=window.PLOTLYENV || {};                                    if (document.getElementById(\"0726662f-9186-4a81-8728-dcf9f3ef392d\")) {                    Plotly.newPlot(                        \"0726662f-9186-4a81-8728-dcf9f3ef392d\",                        [{\"mode\":\"lines\",\"name\":\"Avg. Build Quality-In Service\",\"x\":[0.0,1.0,2.0,3.0,4.0,5.0,6.0,7.0,8.0,9.0,10.0,11.0,12.0,13.0,14.0,15.0,16.0,17.0,18.0,19.0,20.0,21.0,22.0,23.0,24.0,25.0,26.0,27.0,28.0,29.0,30.0,31.0,32.0,33.0,34.0,35.0,36.0,37.0,38.0,39.0,40.0,41.0,42.0,43.0,44.0,45.0,46.0,47.0,48.0,49.0],\"y\":[0.851,0.851,0.851,0.851,0.851,0.851,0.851,0.851,0.851,0.851,0.851,0.851,0.851,0.851,0.851,0.851,0.851,0.851,0.851,0.851,0.851,0.851,0.851,0.851,0.851,0.851,0.851,0.851,0.851,0.851,0.851,0.851,0.851,0.851,0.851,0.851,0.851,0.851,0.851,0.851,0.851,0.851,0.851,0.851,0.851,0.851,0.851,0.851,0.851,0.851],\"type\":\"scatter\"},{\"mode\":\"lines\",\"name\":\"Avg. Build Quality-System\",\"x\":[0.0,1.0,2.0,3.0,4.0,5.0,6.0,7.0,8.0,9.0,10.0,11.0,12.0,13.0,14.0,15.0,16.0,17.0,18.0,19.0,20.0,21.0,22.0,23.0,24.0,25.0,26.0,27.0,28.0,29.0,30.0,31.0,32.0,33.0,34.0,35.0,36.0,37.0,38.0,39.0,40.0,41.0,42.0,43.0,44.0,45.0,46.0,47.0,48.0,49.0],\"y\":[0.851,0.851,0.851,0.851,0.851,0.851,0.851,0.851,0.851,0.851,0.851,0.851,0.851,0.851,0.851,0.851,0.851,0.851,0.851,0.851,0.851,0.851,0.851,0.851,0.851,0.851,0.851,0.851,0.851,0.851,0.851,0.851,0.851,0.851,0.851,0.851,0.851,0.851,0.851,0.851,0.851,0.851,0.851,0.851,0.851,0.851,0.851,0.851,0.851,0.851],\"type\":\"scatter\"}],                        {\"template\":{\"data\":{\"histogram2dcontour\":[{\"type\":\"histogram2dcontour\",\"colorbar\":{\"outlinewidth\":0,\"ticks\":\"\"},\"colorscale\":[[0.0,\"#0d0887\"],[0.1111111111111111,\"#46039f\"],[0.2222222222222222,\"#7201a8\"],[0.3333333333333333,\"#9c179e\"],[0.4444444444444444,\"#bd3786\"],[0.5555555555555556,\"#d8576b\"],[0.6666666666666666,\"#ed7953\"],[0.7777777777777778,\"#fb9f3a\"],[0.8888888888888888,\"#fdca26\"],[1.0,\"#f0f921\"]]}],\"choropleth\":[{\"type\":\"choropleth\",\"colorbar\":{\"outlinewidth\":0,\"ticks\":\"\"}}],\"histogram2d\":[{\"type\":\"histogram2d\",\"colorbar\":{\"outlinewidth\":0,\"ticks\":\"\"},\"colorscale\":[[0.0,\"#0d0887\"],[0.1111111111111111,\"#46039f\"],[0.2222222222222222,\"#7201a8\"],[0.3333333333333333,\"#9c179e\"],[0.4444444444444444,\"#bd3786\"],[0.5555555555555556,\"#d8576b\"],[0.6666666666666666,\"#ed7953\"],[0.7777777777777778,\"#fb9f3a\"],[0.8888888888888888,\"#fdca26\"],[1.0,\"#f0f921\"]]}],\"heatmap\":[{\"type\":\"heatmap\",\"colorbar\":{\"outlinewidth\":0,\"ticks\":\"\"},\"colorscale\":[[0.0,\"#0d0887\"],[0.1111111111111111,\"#46039f\"],[0.2222222222222222,\"#7201a8\"],[0.3333333333333333,\"#9c179e\"],[0.4444444444444444,\"#bd3786\"],[0.5555555555555556,\"#d8576b\"],[0.6666666666666666,\"#ed7953\"],[0.7777777777777778,\"#fb9f3a\"],[0.8888888888888888,\"#fdca26\"],[1.0,\"#f0f921\"]]}],\"heatmapgl\":[{\"type\":\"heatmapgl\",\"colorbar\":{\"outlinewidth\":0,\"ticks\":\"\"},\"colorscale\":[[0.0,\"#0d0887\"],[0.1111111111111111,\"#46039f\"],[0.2222222222222222,\"#7201a8\"],[0.3333333333333333,\"#9c179e\"],[0.4444444444444444,\"#bd3786\"],[0.5555555555555556,\"#d8576b\"],[0.6666666666666666,\"#ed7953\"],[0.7777777777777778,\"#fb9f3a\"],[0.8888888888888888,\"#fdca26\"],[1.0,\"#f0f921\"]]}],\"contourcarpet\":[{\"type\":\"contourcarpet\",\"colorbar\":{\"outlinewidth\":0,\"ticks\":\"\"}}],\"contour\":[{\"type\":\"contour\",\"colorbar\":{\"outlinewidth\":0,\"ticks\":\"\"},\"colorscale\":[[0.0,\"#0d0887\"],[0.1111111111111111,\"#46039f\"],[0.2222222222222222,\"#7201a8\"],[0.3333333333333333,\"#9c179e\"],[0.4444444444444444,\"#bd3786\"],[0.5555555555555556,\"#d8576b\"],[0.6666666666666666,\"#ed7953\"],[0.7777777777777778,\"#fb9f3a\"],[0.8888888888888888,\"#fdca26\"],[1.0,\"#f0f921\"]]}],\"surface\":[{\"type\":\"surface\",\"colorbar\":{\"outlinewidth\":0,\"ticks\":\"\"},\"colorscale\":[[0.0,\"#0d0887\"],[0.1111111111111111,\"#46039f\"],[0.2222222222222222,\"#7201a8\"],[0.3333333333333333,\"#9c179e\"],[0.4444444444444444,\"#bd3786\"],[0.5555555555555556,\"#d8576b\"],[0.6666666666666666,\"#ed7953\"],[0.7777777777777778,\"#fb9f3a\"],[0.8888888888888888,\"#fdca26\"],[1.0,\"#f0f921\"]]}],\"mesh3d\":[{\"type\":\"mesh3d\",\"colorbar\":{\"outlinewidth\":0,\"ticks\":\"\"}}],\"scatter\":[{\"fillpattern\":{\"fillmode\":\"overlay\",\"size\":10,\"solidity\":0.2},\"type\":\"scatter\"}],\"parcoords\":[{\"type\":\"parcoords\",\"line\":{\"colorbar\":{\"outlinewidth\":0,\"ticks\":\"\"}}}],\"scatterpolargl\":[{\"type\":\"scatterpolargl\",\"marker\":{\"colorbar\":{\"outlinewidth\":0,\"ticks\":\"\"}}}],\"bar\":[{\"error_x\":{\"color\":\"#2a3f5f\"},\"error_y\":{\"color\":\"#2a3f5f\"},\"marker\":{\"line\":{\"color\":\"#E5ECF6\",\"width\":0.5},\"pattern\":{\"fillmode\":\"overlay\",\"size\":10,\"solidity\":0.2}},\"type\":\"bar\"}],\"scattergeo\":[{\"type\":\"scattergeo\",\"marker\":{\"colorbar\":{\"outlinewidth\":0,\"ticks\":\"\"}}}],\"scatterpolar\":[{\"type\":\"scatterpolar\",\"marker\":{\"colorbar\":{\"outlinewidth\":0,\"ticks\":\"\"}}}],\"histogram\":[{\"marker\":{\"pattern\":{\"fillmode\":\"overlay\",\"size\":10,\"solidity\":0.2}},\"type\":\"histogram\"}],\"scattergl\":[{\"type\":\"scattergl\",\"marker\":{\"colorbar\":{\"outlinewidth\":0,\"ticks\":\"\"}}}],\"scatter3d\":[{\"type\":\"scatter3d\",\"line\":{\"colorbar\":{\"outlinewidth\":0,\"ticks\":\"\"}},\"marker\":{\"colorbar\":{\"outlinewidth\":0,\"ticks\":\"\"}}}],\"scattermapbox\":[{\"type\":\"scattermapbox\",\"marker\":{\"colorbar\":{\"outlinewidth\":0,\"ticks\":\"\"}}}],\"scatterternary\":[{\"type\":\"scatterternary\",\"marker\":{\"colorbar\":{\"outlinewidth\":0,\"ticks\":\"\"}}}],\"scattercarpet\":[{\"type\":\"scattercarpet\",\"marker\":{\"colorbar\":{\"outlinewidth\":0,\"ticks\":\"\"}}}],\"carpet\":[{\"aaxis\":{\"endlinecolor\":\"#2a3f5f\",\"gridcolor\":\"white\",\"linecolor\":\"white\",\"minorgridcolor\":\"white\",\"startlinecolor\":\"#2a3f5f\"},\"baxis\":{\"endlinecolor\":\"#2a3f5f\",\"gridcolor\":\"white\",\"linecolor\":\"white\",\"minorgridcolor\":\"white\",\"startlinecolor\":\"#2a3f5f\"},\"type\":\"carpet\"}],\"table\":[{\"cells\":{\"fill\":{\"color\":\"#EBF0F8\"},\"line\":{\"color\":\"white\"}},\"header\":{\"fill\":{\"color\":\"#C8D4E3\"},\"line\":{\"color\":\"white\"}},\"type\":\"table\"}],\"barpolar\":[{\"marker\":{\"line\":{\"color\":\"#E5ECF6\",\"width\":0.5},\"pattern\":{\"fillmode\":\"overlay\",\"size\":10,\"solidity\":0.2}},\"type\":\"barpolar\"}],\"pie\":[{\"automargin\":true,\"type\":\"pie\"}]},\"layout\":{\"autotypenumbers\":\"strict\",\"colorway\":[\"#636efa\",\"#EF553B\",\"#00cc96\",\"#ab63fa\",\"#FFA15A\",\"#19d3f3\",\"#FF6692\",\"#B6E880\",\"#FF97FF\",\"#FECB52\"],\"font\":{\"color\":\"#2a3f5f\"},\"hovermode\":\"closest\",\"hoverlabel\":{\"align\":\"left\"},\"paper_bgcolor\":\"white\",\"plot_bgcolor\":\"#E5ECF6\",\"polar\":{\"bgcolor\":\"#E5ECF6\",\"angularaxis\":{\"gridcolor\":\"white\",\"linecolor\":\"white\",\"ticks\":\"\"},\"radialaxis\":{\"gridcolor\":\"white\",\"linecolor\":\"white\",\"ticks\":\"\"}},\"ternary\":{\"bgcolor\":\"#E5ECF6\",\"aaxis\":{\"gridcolor\":\"white\",\"linecolor\":\"white\",\"ticks\":\"\"},\"baxis\":{\"gridcolor\":\"white\",\"linecolor\":\"white\",\"ticks\":\"\"},\"caxis\":{\"gridcolor\":\"white\",\"linecolor\":\"white\",\"ticks\":\"\"}},\"coloraxis\":{\"colorbar\":{\"outlinewidth\":0,\"ticks\":\"\"}},\"colorscale\":{\"sequential\":[[0.0,\"#0d0887\"],[0.1111111111111111,\"#46039f\"],[0.2222222222222222,\"#7201a8\"],[0.3333333333333333,\"#9c179e\"],[0.4444444444444444,\"#bd3786\"],[0.5555555555555556,\"#d8576b\"],[0.6666666666666666,\"#ed7953\"],[0.7777777777777778,\"#fb9f3a\"],[0.8888888888888888,\"#fdca26\"],[1.0,\"#f0f921\"]],\"sequentialminus\":[[0.0,\"#0d0887\"],[0.1111111111111111,\"#46039f\"],[0.2222222222222222,\"#7201a8\"],[0.3333333333333333,\"#9c179e\"],[0.4444444444444444,\"#bd3786\"],[0.5555555555555556,\"#d8576b\"],[0.6666666666666666,\"#ed7953\"],[0.7777777777777778,\"#fb9f3a\"],[0.8888888888888888,\"#fdca26\"],[1.0,\"#f0f921\"]],\"diverging\":[[0,\"#8e0152\"],[0.1,\"#c51b7d\"],[0.2,\"#de77ae\"],[0.3,\"#f1b6da\"],[0.4,\"#fde0ef\"],[0.5,\"#f7f7f7\"],[0.6,\"#e6f5d0\"],[0.7,\"#b8e186\"],[0.8,\"#7fbc41\"],[0.9,\"#4d9221\"],[1,\"#276419\"]]},\"xaxis\":{\"gridcolor\":\"white\",\"linecolor\":\"white\",\"ticks\":\"\",\"title\":{\"standoff\":15},\"zerolinecolor\":\"white\",\"automargin\":true,\"zerolinewidth\":2},\"yaxis\":{\"gridcolor\":\"white\",\"linecolor\":\"white\",\"ticks\":\"\",\"title\":{\"standoff\":15},\"zerolinecolor\":\"white\",\"automargin\":true,\"zerolinewidth\":2},\"scene\":{\"xaxis\":{\"backgroundcolor\":\"#E5ECF6\",\"gridcolor\":\"white\",\"linecolor\":\"white\",\"showbackground\":true,\"ticks\":\"\",\"zerolinecolor\":\"white\",\"gridwidth\":2},\"yaxis\":{\"backgroundcolor\":\"#E5ECF6\",\"gridcolor\":\"white\",\"linecolor\":\"white\",\"showbackground\":true,\"ticks\":\"\",\"zerolinecolor\":\"white\",\"gridwidth\":2},\"zaxis\":{\"backgroundcolor\":\"#E5ECF6\",\"gridcolor\":\"white\",\"linecolor\":\"white\",\"showbackground\":true,\"ticks\":\"\",\"zerolinecolor\":\"white\",\"gridwidth\":2}},\"shapedefaults\":{\"line\":{\"color\":\"#2a3f5f\"}},\"annotationdefaults\":{\"arrowcolor\":\"#2a3f5f\",\"arrowhead\":0,\"arrowwidth\":1},\"geo\":{\"bgcolor\":\"white\",\"landcolor\":\"#E5ECF6\",\"subunitcolor\":\"white\",\"showland\":true,\"showlakes\":true,\"lakecolor\":\"white\"},\"title\":{\"x\":0.05},\"mapbox\":{\"style\":\"light\"}}},\"hovermode\":\"x\",\"title\":{\"text\":\"CHO Robot Build Quality vs Time\"},\"xaxis\":{\"title\":{\"text\":\"Time\"}},\"yaxis\":{\"title\":{\"text\":\"Build Quality\"}}},                        {\"responsive\": true}                    ).then(function(){\n",
       "                            \n",
       "var gd = document.getElementById('0726662f-9186-4a81-8728-dcf9f3ef392d');\n",
       "var x = new MutationObserver(function (mutations, observer) {{\n",
       "        var display = window.getComputedStyle(gd).display;\n",
       "        if (!display || display === 'none') {{\n",
       "            console.log([gd, 'removed!']);\n",
       "            Plotly.purge(gd);\n",
       "            observer.disconnect();\n",
       "        }}\n",
       "}});\n",
       "\n",
       "// Listen for the removal of the full notebook cells\n",
       "var notebookContainer = gd.closest('#notebook-container');\n",
       "if (notebookContainer) {{\n",
       "    x.observe(notebookContainer, {childList: true});\n",
       "}}\n",
       "\n",
       "// Listen for the clearing of the current output cell\n",
       "var outputEl = gd.closest('.output');\n",
       "if (outputEl) {{\n",
       "    x.observe(outputEl, {childList: true});\n",
       "}}\n",
       "\n",
       "                        })                };                });            </script>        </div>"
      ]
     },
     "metadata": {},
     "output_type": "display_data"
    }
   ],
   "source": [
    "def main():\n",
    "    global RiskThreshold,QualityThreshold,mc_num_steps,timesteps,mc\n",
    "    RiskThreshold=0.3\n",
    "    QualityThreshold=0.5\n",
    "    mc_num_steps = 2\n",
    "    timesteps = 50\n",
    "    mc = False\n",
    "    try:\n",
    "        if mc:\n",
    "            mcdf = SRRSmc(\"CHO\",timesteps,mc_num_steps,True)\n",
    "            display(mcdf)\n",
    "        else:\n",
    "            df,ram_df = SRRS(\"CHO\",timesteps,True)    \n",
    "    except Exception as err:\n",
    "        print(f\"Unexpected {err=}, {type(err)=}\")\n",
    "        raise\n",
    "\n",
    "if __name__ == \"__main__\":\n",
    "    main()"
   ]
  },
  {
   "cell_type": "code",
   "execution_count": null,
   "id": "a82b21e9",
   "metadata": {},
   "outputs": [],
   "source": []
  },
  {
   "cell_type": "code",
   "execution_count": null,
   "id": "973e6087",
   "metadata": {},
   "outputs": [],
   "source": [
    "def DHO(timesteps,df,init_build_qual):\n",
    "    resetGlobal(timesteps,1,0,0,0)\n",
    "    robot = Robot(\"Replicator\",init_build_qual,rid)\n",
    "    robot.setFactory()\n",
    "    totlist = [robot]\n",
    "    robotlist = [robot]\n",
    "    useless = []\n",
    "    \n",
    "\n",
    "    # number of bots working\n",
    "    listnumCollecting = []\n",
    "    listnumPrinting = []\n",
    "    listnumAssembling = []\n",
    "\n",
    "    # use lists\n",
    "    tcoordslist = []\n",
    "    rcoordslist = []\n",
    "    wastecoordslist = []\n",
    "    t_build_quality_list = []\n",
    "\n",
    "    #Lists used for visualization\n",
    "    checkENV = 0\n",
    "    checkPrint = 0\n",
    "    checkNonPr = 0\n",
    "    checkMat = 0\n",
    "    \n",
    "    for t in range(0,timesteps):\n",
    "        print(t,\"=\"*20)\n",
    "        for i in range(len(robotlist)):\n",
    "            robotlist[i].setRobotTime(t)\n",
    "            print(robotlist[i])\n",
    "            # IDLE\n",
    "            if(robotlist[i].current_task==\"idle\"):\n",
    "\n",
    "                # Replicator\n",
    "                if(robotlist[i].type == \"Replicator\"):\n",
    "\n",
    "                    if(assembleCheck(robotlist[i],\"Replicator\")):\n",
    "                        assembling(robotlist[i],\"Replicator\")\n",
    "                    elif(printCheck(robotlist[i])):\n",
    "                        printing(robotlist[i])\n",
    "                    elif(collectCheck(robotlist[i])):\n",
    "                        collecting(robotlist[i])\n",
    "                    else:\n",
    "                        robotlist[i].set_prev_task(robotlist[i].get_curr_task())\n",
    "                        robotlist[i].set_task_dur(0)\n",
    "                        robotlist[i].set_curr_task(\"idle\")\n",
    "\n",
    "                # Normal\n",
    "                elif(robotlist[i].type == \"Normal\"):\n",
    "                    canCollect = collectCheck(robotlist[i])\n",
    "                    # print(t,robotlist[i].id,canCollect)\n",
    "                    if canCollect:\n",
    "                        collecting(robotlist[i])\n",
    "                    else:\n",
    "                        robotlist[i].set_prev_task(robotlist[i].get_curr_task())\n",
    "                        robotlist[i].set_task_dur(0)\n",
    "                        robotlist[i].set_curr_task(\"idle\")\n",
    "            # REPAIR            \n",
    "            elif(robotlist[i].current_task==\"repair\"):\n",
    "                prevTask = robotlist[i].get_prev_task()\n",
    "                # nextTask = robotlist[i].get_next_task()\n",
    "                \n",
    "                # tasks of replicator in CHO\n",
    "                if(robotlist[i].tasks_dur - 1 == 0 and robotlist[i].type == \"Replicator\"):\n",
    "                    if(prevTask==\"assembling\" and assembleCheck(robotlist[i],\"Replicator\")):\n",
    "                        assembling(robotlist[i],\"Replicator\")\n",
    "                    elif(prevTask==\"printing\" and printCheck(robotlist[i])):\n",
    "                        printing(robotlist[i])\n",
    "                    elif(prevTask==\"collecting\" and collectCheck(robotlist[i])):\n",
    "                        collecting(robotlist[i])\n",
    "                    else:\n",
    "                        robotlist[i].set_prev_task(robotlist[i].get_curr_task())\n",
    "                        robotlist[i].set_task_dur(0)\n",
    "                        robotlist[i].set_curr_task(\"idle\")\n",
    "                \n",
    "                else:\n",
    "                    robotlist[i].set_task_dur(robotlist[i].tasks_dur - 1)\n",
    "                            \n",
    "            # NOT IDLE\n",
    "            else:\n",
    "                # reduce task duration every time step\n",
    "                if(robotlist[i].tasks_dur - 1 != 0):\n",
    "                    robotlist[i].set_task_dur(robotlist[i].tasks_dur - 1)\n",
    "\n",
    "                # Replicator \n",
    "                elif(robotlist[i].tasks_dur - 1 == 0 and robotlist[i].type == \"Replicator\"):\n",
    "                    # check if it can keep assembling next time step\n",
    "                    if(assembleCheck(robotlist[i],\"Replicator\")):\n",
    "                        isAssembling = assembling(robotlist[i],\"Replicator\")\n",
    "                    elif(printCheck(robotlist[i])):\n",
    "                        isPrinting = printing(robotlist[i])\t\n",
    "                    elif(collectCheck(robotlist[i])):\n",
    "                        collecting(robotlist[i])\t\n",
    "                    else:\n",
    "                        robotlist[i].set_prev_task(robotlist[i].get_curr_task())\n",
    "                        robotlist[i].set_task_dur(0)\n",
    "                        robotlist[i].set_curr_task(\"idle\")\n",
    "\n",
    "                    # it enters this loop only when it has to pop a new robot\n",
    "                    if(robotlist[i].get_prev_task()==\"assembling\"):\n",
    "                        newbot = assemble(robotlist[i],\"Replicator\")\n",
    "                        if newbot and newbot.build_qual>=QualityThreshold:\n",
    "                            if(newbot.type == \"Normal\"):\n",
    "                                canCollect = collectCheck(newbot)\n",
    "                                if canCollect:\n",
    "                                    collecting(newbot)\n",
    "                            if(newbot.type == \"Replicator\"):\n",
    "                                if(assembleCheck(newbot,\"Replicator\")):\n",
    "                                    assembling(newbot,\"Replicator\")\n",
    "                                elif(printCheck(robotlist[i])):\n",
    "                                    printing(robotlist[i])\n",
    "                                elif(collectCheck(robotlist[i])):\n",
    "                                    collecting(robotlist[i])\t\n",
    "                                else:\n",
    "                                    newbot.set_prev_task(robotlist[i].get_curr_task())\n",
    "                                    newbot.set_task_dur(0)\n",
    "                                    newbot.set_curr_task(\"idle\")\n",
    "                            totlist.append(newbot)\n",
    "                            robotlist.append(newbot)\n",
    "                        else:\n",
    "                            totlist.append(newbot)\n",
    "                            useless.append(newbot)\n",
    "                        robotlist[i].set_prev_task(robotlist[i].current_task)\n",
    "\n",
    "                # Normal\n",
    "                elif(robotlist[i].type == \"Normal\"):\n",
    "                    canCollect = collectCheck(robotlist[i])\n",
    "                    if(canCollect):\n",
    "                        collecting(robotlist[i])\n",
    "                    else:\n",
    "                        robotlist[i].set_prev_task(robotlist[i].get_curr_task())\n",
    "                        robotlist[i].set_task_dur(0)\n",
    "                        robotlist[i].set_curr_task(\"idle\")\n",
    "                \n",
    "\n",
    "        #after simulation record\n",
    "        build_quality_list,vals = configHandler(t,totlist,robotlist,useless,checkENV,checkPrint,checkNonPr,checkMat)\n",
    "        df.loc[len(df)] = [t,NonPr,Printable,Materials,Env_Materials]+vals\n",
    "        tcoordslist.append(t)\n",
    "        rcoordslist.append(len(robotlist)) \n",
    "        wastecoordslist.append(len(useless))\n",
    "        t_build_quality_list.append(build_quality_list)\n",
    "    \n",
    "    # setup RAM metrics of robots\n",
    "    for robot in robotlist:\n",
    "            robot.computeRAM()\n",
    "    \n",
    "    # generate a dataframe with metrics\n",
    "    df[\"Print Capacity\"] = df[[\"#Printer\", \"#Replicator\"]].sum(axis=1)\n",
    "    df[\"Assembling Capacity\"] = df[[\"#Assembler\", \"#Replicator\"]].sum(axis=1)\n",
    "    df[\"Collection Capacity\"] = df[[\"#Printer\", \"#Replicator\", \"#Assembler\", \"#Normal\"]].sum(axis=1)\n",
    "    return df"
   ]
  }
 ],
 "metadata": {
  "kernelspec": {
   "display_name": "Python 3 (ipykernel)",
   "language": "python",
   "name": "python3"
  },
  "language_info": {
   "codemirror_mode": {
    "name": "ipython",
    "version": 3
   },
   "file_extension": ".py",
   "mimetype": "text/x-python",
   "name": "python",
   "nbconvert_exporter": "python",
   "pygments_lexer": "ipython3",
   "version": "3.9.14"
  }
 },
 "nbformat": 4,
 "nbformat_minor": 5
}
