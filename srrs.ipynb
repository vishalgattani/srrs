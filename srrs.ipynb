{
 "cells": [
  {
   "cell_type": "markdown",
   "id": "b6b27e0b",
   "metadata": {},
   "source": [
    "# Self-Replicating Robot System Configurations\n",
    "\n",
    "|ID|Design Option|Characteristics|\n",
    "|-|-|-|\n",
    "|1|Centralized homogeneous (CHO)|One robot is responsible for both printing components and assembling them. Constructed robots are of the normal type and either gather resources or complete other objectives.|\n",
    "|2|Decentralized homogeneous (DHO)| All robots have the capability to print components, assemble them, and gather resources or complete other objectives.|\n",
    "|3|Hierarchical homogeneous (HHO)|There are a variable number of robots capable of printing components and assembling them. There are also a variable number of normal type robots.|\n",
    "|4|Centralized heterogeneous (CHE)|One robot is responsible for printing components, and another (distinct) robot is responsible for assembling them. Constructed robots are of the normal type and either gather resources or complete other objectives.|\n",
    "|5|Decentralized heterogeneous (DHE)|Robots have either the capability to print components or the capability to assemble them. All robots can gather resources or complete other objectives.|\n",
    "|6|Hierarchical heterogeneous (CHE)|There are a variable number of robots capable of printing components, a variable number capable of assembling them (distinct from the printing group), and a variable number of normal type robots. All robots can gather resources or complete other objectives.|\n",
    "\n"
   ]
  },
  {
   "cell_type": "markdown",
   "id": "93fcd801",
   "metadata": {},
   "source": [
    "# Libraries "
   ]
  },
  {
   "cell_type": "code",
   "execution_count": 52,
   "id": "c5caec0a",
   "metadata": {},
   "outputs": [],
   "source": [
    "import random\n",
    "import numpy as np\n",
    "import pandas as pd\n",
    "pd.set_option('display.max_columns', None)\n",
    "import matplotlib.pyplot as plt\n",
    "import sys\n",
    "from matplotlib.patches import Rectangle\n",
    "\n",
    "from _plotly_future_ import v4_subplots\n",
    "import plotly\n",
    "import plotly.io as pio\n",
    "import numpy as np\n",
    "import chart_studio\n",
    "import chart_studio.plotly as cspy\n",
    "import chart_studio.tools as tls\n",
    "\n",
    "from plotly.subplots import make_subplots\n",
    "import plotly.graph_objects as go\n",
    "\n",
    "\n",
    "import plotly.express as px\n",
    "\n",
    "username = 'vishalgattani' # your username\\n\",\n",
    "api_key = 'WSy2EFPTbxYYm3Rmcx53' # your api key - go to profile > settings > regenerate key\\n\",\n",
    "chart_studio.tools.set_credentials_file(username=username, api_key=api_key)\n"
   ]
  },
  {
   "cell_type": "markdown",
   "id": "9ca83a64",
   "metadata": {},
   "source": [
    "# Global Variables"
   ]
  },
  {
   "cell_type": "code",
   "execution_count": 53,
   "id": "19883ecb",
   "metadata": {},
   "outputs": [],
   "source": [
    "timesteps = 1500\n",
    "\n",
    "# set random number generator\n",
    "random.seed()\n",
    "\n",
    "# global variables\n",
    "rid = 1\n",
    "nid = 0\n",
    "aid = 0\n",
    "pid = 0\n",
    "decimalPlaces = 3\n",
    "\n",
    "# simulation parameters\n",
    "Num_Steps = 100\t\t\t\t#; % Number of iterations/time-steps that the simulation goes through.\n",
    "NonPr = 300.0 \t\t\t\t#; % The robot system=s starting quantity of nonprintable components.\n",
    "Printable = 100.0 \t\t\t#; % The robot system’s starting quantity of printable components.\n",
    "Materials = 50.0 \t\t\t#; % The robot system’s starting quantity of raw printing materials.\n",
    "Env_Materials = 500.0 \t\t#; % The environment’s quantity of collectable raw printing materials.\n",
    "BaseCost_NonPr = 1 \t\t\t#; % Base robot cost of nonprintable components.\n",
    "PrintCost_NonPr = 1 \t\t#; % Print capability cost of nonprintable components.\n",
    "AssembleCost_NonPr = 1 \t\t#; % Assemble capability cost of nonprintable components.\n",
    "BaseCost_Pr = 2 \t\t\t#; % Base robot cost of printable components.\n",
    "PrintCost_Pr = 2 \t\t\t#; % Print capability cost of printable components.\n",
    "AssembleCost_Pr = 2 \t\t#; % Assemble capability cost of printable components.\n",
    "BaseCost_Time = 2 \t\t\t#; % Base robot cost of build time (in time-steps).\n",
    "PrintCost_Time = 2 \t\t\t#; % Print capability cost of build time (in time-steps).\n",
    "AssembleCost_Time = 2 \t\t#; % Assemble capability cost of build time (in time-steps).\n",
    "Print_Efficiency = 1.0 \t\t#; % Factor that scales raw printing materials to printable components.\n",
    "Print_Amount = 1.0 \t\t\t#; % Amount of raw materials converted per print task.\n",
    "Collect_Amount = 1.0 \t\t#; % Raw printing materials per collecting robot per timestep.\n",
    "QualityThreshold = 0.5 \t\t#; % Robots with a quality below this are non-functional.\n",
    "Quality_incr_Chance = 5.0 \t#; % Chance that a new robot’s build quality will increase.\n",
    "Quality_incr_Lower = 0.01 \t#; % Lower bound for quality increase amount.\n",
    "Quality_incr_Upper = 0.05 \t#; % Upper bound for quality increase amount.\n",
    "Quality_decr_Chance = 50.0 \t#; % Chance that a new robot s build quality will decrease.\n",
    "Quality_decr_Lower = 0.01 \t#; % Lower bound for quality decrease amount.\n",
    "Quality_decr_Upper = 0.25 \t#; % Upper bound for quality decrease amount.\n",
    "RiskAmount_Collect = 1.0 \t#; % Risk chance for the collect task type.\n",
    "RiskAmount_Assemble = 0.1 \t#; % Risk chance for the assemble task type.\n",
    "RiskAmount_Print = 0.1 \t\t#; % Risk chance for the print task type.\n",
    "RiskQuality_Modifier = 5.0 \t#; % Multiplier for impact of quality defects on risk amount.\n",
    "RiskFactory_Modifier = 0.1 \t#; % Multiplier for impact of factory-made robots on risk amount\n",
    "\n",
    "# [replicator,normal,assembler,printer]\n",
    "cost_Pr = [6,2,4,4]\t\t\t#; % Total cost printable\n",
    "cost_NonPr = [3,1,2,2]\t\t#; % Total cost nonprintable\n",
    "\n",
    "timecost_base = 2\t\t\t#; % time cost basic\n",
    "timecost_print = 2\t\t\t#; % time cost print capability\n",
    "timecost_assemble = 2\t\t#; % time cost assemble capability\n",
    "\n",
    "timecost_normal = timecost_base\n",
    "timecost_replicator = timecost_base+timecost_assemble+timecost_print\n",
    "timecost_printer = timecost_base+timecost_print\n",
    "timecost_assembler = timecost_base+timecost_assemble\n",
    "\n",
    "timecost_repair_base = 1\n",
    "timecost_repair_normal = timecost_repair_base\n",
    "timecost_repair_replicator = timecost_repair_base\n",
    "timecost_repair_printer = timecost_repair_base\n",
    "timecost_repair_assembler = timecost_repair_base\n",
    "\n",
    "table_columns = [\"Time\",\"NonPr\",\"Printable\",\"Materials\",\"Env_Materials\",\n",
    "\t\t\"#Replicator\",\"#Normal\",\"#Assembler\",\"#Printer\",\n",
    "\t\t\"#Assembling\",\"#Printing\",\"#Collecting\",\"#Idle\",\n",
    "\t\t\"#In\",\"#Out\",\n",
    "\t\t\"Average Build Quality in-service\",\"Average Build Quality of System\",\n",
    "\t\t\"#WasteReplicator\",\"#WasteNormal\",\"#WasteAssembler\",\"#WastePrinter\",\n",
    "\t\t\"Environment Exhaust Time\", \"Printable Exhaust Time\", \n",
    "\t\t\"NonPr Exhaust Time\",\"Material Exhaust Time\",\"Average Risk\"]\n",
    "\n",
    "\n",
    "def resetGlobal(t,r,n,a,p):\n",
    "    global rid,nid,aid,pid,Num_Steps,NonPr,Printable,Materials,Env_Materials\n",
    "    \n",
    "    # global variables\n",
    "    rid = r\n",
    "    nid = n\n",
    "    aid = a\n",
    "    pid = p\n",
    "\n",
    "    # simulation parameters\n",
    "    Num_Steps = 100\t\t\t\t#; % Number of iterations/time-steps that the simulation goes through.\n",
    "    NonPr = 300.0 \t\t\t\t#; % The robot system=s starting quantity of nonprintable components.\n",
    "    Printable = 100.0 \t\t\t#; % The robot system’s starting quantity of printable components.\n",
    "    Materials = 50.0 \t\t\t#; % The robot system’s starting quantity of raw printing materials.\n",
    "    Env_Materials = 500.0 \t\t#; % The environment’s quantity of collectable raw printing materials.\n",
    "    timesteps = t\n"
   ]
  },
  {
   "cell_type": "markdown",
   "id": "863feea1",
   "metadata": {},
   "source": [
    "# Object::Robot"
   ]
  },
  {
   "cell_type": "code",
   "execution_count": 90,
   "id": "68ea171c",
   "metadata": {},
   "outputs": [],
   "source": [
    "# robot object\n",
    "class Robot:\n",
    "    def __init__(self,type,build_qual,id):\n",
    "        self.type = type\n",
    "        self.current_task = \"idle\"\n",
    "        self.prev_task = \"idle\"\n",
    "        self.id = self.type[0]+str(id)\n",
    "        self.build_qual = round(build_qual,decimalPlaces)\n",
    "        self.factory_made = True\n",
    "        self.tasks_dur = 0\n",
    "        self.taskindex = 0\n",
    "        self.previouslyBuilt = \"\"\n",
    "        self.prevTaskDur = 0\n",
    "        self.curr_repair_task_dur = 0\n",
    "        self.prev_repair_task_dur = 0\n",
    "        self.factory = False\n",
    "        self.risk = 0\n",
    "\n",
    "        if(self.type == \"Replicator\"):\n",
    "            self.tasks = [\"Assemble\",\"Print\",\"Collect\",\"Repair\"]\n",
    "            self.beingbuiltlist = []\n",
    "        if(self.type == \"Normal\"):\n",
    "            self.tasks = [\"Collect\",\"Repairing\"]\n",
    "        if(self.type == \"Assembler\"):\n",
    "            self.tasks = [\"Assemble\",\"Collect\",\"Repair\"]\n",
    "            self.beingbuiltlist = []\n",
    "        if(self.type == \"Printer\"):\n",
    "            self.tasks = [\"Print\",\"Collect\",\"Repair\"]\n",
    "        self.num_tasks = len(self.tasks)\n",
    "\n",
    "    def get_type(self):\n",
    "        return self.type\n",
    "\n",
    "    def __str__(self):\n",
    "        return str(self.id)+\" \"+str(self.current_task)\n",
    "\n",
    "    def set_curr_task(self,tasktype):\n",
    "        self.current_task = tasktype\n",
    "        if(self.current_task == \"idle\"):\n",
    "            self.tasks_dur = 0\n",
    "        if(self.current_task == \"collecting\"):\n",
    "            self.tasks_dur = 1\n",
    "        if(self.current_task == \"assembling\"):\n",
    "            self.tasks_dur = 2\n",
    "        if(self.current_task == \"printing\"):\n",
    "            self.tasks_dur = 2\n",
    "#         if(self.current_task == \"repair\"):\n",
    "#             if(self.prev_task == \"repair\"):\n",
    "#                 self.prev_repair_task_dur = self.curr_repair_task_dur\n",
    "# #             self.tasks_dur = get_prev_task_dur() + timecost_repair_base\n",
    "#             self.tasks_dur = get_prev_task_dur() + 1\n",
    "#             self.curr_repair_task_dur = self.tasks_dur\n",
    "        \n",
    "    def setFactory(self):\n",
    "        self.factory = True\n",
    "\n",
    "    # methods of robot object\n",
    "    def set_prev_task(self,tasktype):\n",
    "        self.prev_task = tasktype\n",
    "    def set_task_dur(self,task_dur):\n",
    "        self.tasks_dur = task_dur\n",
    "    def get_robot_id(self):\n",
    "        return self.id\n",
    "    def get_buid_qual(self):\n",
    "        return self.build_qual\n",
    "    def get_curr_task(self):\n",
    "        return self.current_task\n",
    "    def get_prev_task(self):\n",
    "        return self.prev_task\n",
    "    def get_task_dur(self):\n",
    "        return self.tasks_dur\n",
    "    def get_prev_task_dur(self):\n",
    "        if(self.prev_task == \"idle\"):\n",
    "            return 0\n",
    "        if(self.prev_task == \"collecting\"):\n",
    "            return 1\n",
    "        if(self.prev_task == \"assembling\"):\n",
    "            return 2\n",
    "        if(self.prev_task == \"printing\"):\n",
    "            return 2\n",
    "        if(self.prev_task == \"repair\"):\n",
    "            return self.prev_repair_task_dur \n",
    "\n",
    "    def set_previously_built(self, val):\n",
    "        self.previouslyBuilt = val\n",
    "\n",
    "    def get_previously_built(self):\n",
    "        return self.previouslyBuilt\n",
    "    \n",
    "    def setRisk(self,risk):\n",
    "        self.risk = risk\n",
    "    def getRisk(self):\n",
    "        return self.risk\n"
   ]
  },
  {
   "cell_type": "markdown",
   "id": "a233925d",
   "metadata": {},
   "source": [
    "# Functions"
   ]
  },
  {
   "cell_type": "code",
   "execution_count": 91,
   "id": "3a2cb904",
   "metadata": {},
   "outputs": [],
   "source": [
    "\n",
    "# print current resources\n",
    "def printResources():\n",
    "\tprint(NonPr,Printable,Materials,Env_Materials)\n",
    "\n",
    "# check if robot can collect from Env_Materials\n",
    "def collectCheck(robot):\n",
    "\tglobal Materials, Env_Materials, Collect_Amount\n",
    "\tif(\"Collect\" in robot.tasks):\n",
    "\t\tif (Env_Materials - Collect_Amount >= 0):\n",
    "\t\t\t# Materials = Materials + Collect_Amount\n",
    "\t\t\t# Env_Materials = Env_Materials - Collect_Amount\n",
    "\t\t\treturn True\n",
    "\t\telse:\n",
    "\t\t\treturn False\n",
    "\telse: \n",
    "\t\treturn False\n",
    "\n",
    "# task function - collecting\n",
    "def collecting(robot):\n",
    "    global Materials, Env_Materials, Collect_Amount\n",
    "    robot.set_prev_task(robot.get_curr_task())\n",
    "    robot.set_curr_task(\"collecting\")\n",
    "    robot.set_task_dur(1)\n",
    "    Materials = Materials + Collect_Amount\n",
    "    Env_Materials = Env_Materials - Collect_Amount\n",
    "\n",
    "# build robot task - assembler and replicator\n",
    "# assemble task\n",
    "\n",
    "def assembleCheck(robot,tobuild):\n",
    "\t# global rid,nid,aid,pid,Printable,NonPr,Quality_incr_Chance,Quality_incr_Lower, Quality_incr_Upper\n",
    "\tif \"Assemble\" in robot.tasks:\n",
    "\t\tif(tobuild == \"Replicator\"):\n",
    "\t\t\ti=0\n",
    "\t\t\t# rid = rid+1\n",
    "\t\t\t# robotid = rid\n",
    "\t\tif(tobuild == \"Normal\"):\n",
    "\t\t\ti=1\n",
    "\t\t\t# nid = nid+1\n",
    "\t\t\t# robotid = nid\n",
    "\t\tif(tobuild == \"Assembler\"):\n",
    "\t\t\ti=2\n",
    "\t\t\t# aid = aid+1\n",
    "\t\t\t# robotid = aid\n",
    "\t\tif(tobuild == \"Printer\"):\n",
    "\t\t\ti=3\n",
    "\t\t\t# pid = pid+1\n",
    "\t\t\t# robotid = pid\n",
    "\n",
    "\t\tif Printable - cost_Pr[i] >= 0 and NonPr - cost_NonPr[i] >= 0:\n",
    "\t\t\treturn True\n",
    "\t\telse:\n",
    "\t\t\treturn False\n",
    "\telse:\n",
    "\t\treturn False\n",
    "\n",
    "def assembling(robot,tobuild):\n",
    "\tglobal rid,nid,aid,pid,Printable,NonPr,Quality_incr_Chance,Quality_incr_Lower, Quality_incr_Upper\n",
    "\t\n",
    "\tif(tobuild == \"Replicator\"):\n",
    "\t\ti=0\n",
    "\t\ttaskDur = timecost_replicator\n",
    "\tif(tobuild == \"Normal\"):\n",
    "\t\ti=1\n",
    "\t\ttaskDur = timecost_normal\n",
    "\tif(tobuild == \"Assembler\"):\n",
    "\t\ti=2\n",
    "\t\ttaskDur = timecost_assembler\n",
    "\tif(tobuild == \"Printer\"):\n",
    "\t\ti=3\n",
    "\t\ttaskDur = timecost_printer\n",
    "\t\n",
    "\trobot.set_prev_task(robot.get_curr_task())\n",
    "\trobot.set_curr_task(\"assembling\")\n",
    "\trobot.set_task_dur(taskDur)\n",
    "\tif(checkType(robot,\"Assembler\") or checkType(robot,\"Replicator\")):\n",
    "\t\tif(tobuild == \"Replicator\"):\n",
    "\t\t\ti=0\n",
    "\t\t\trid = rid+1\n",
    "\t\t\trobotid = rid\n",
    "\t\tif(tobuild == \"Normal\"):\n",
    "\t\t\ti=1\n",
    "\t\t\tnid = nid+1\n",
    "\t\t\trobotid = nid\n",
    "\t\tif(tobuild == \"Assembler\"):\n",
    "\t\t\ti=2\n",
    "\t\t\taid = aid+1\n",
    "\t\t\trobotid = aid\n",
    "\t\tif(tobuild == \"Printer\"):\n",
    "\t\t\ti=3\n",
    "\t\t\tpid = pid+1\n",
    "\t\t\trobotid = pid\n",
    "\t\n",
    "\t\t# subtract resources\n",
    "\t\tPrintable = Printable - cost_Pr[i]\n",
    "\t\tNonPr = NonPr - cost_NonPr[i]\n",
    "\t\trobot.beingbuiltlist.append(tobuild[0]+str(robotid))\n",
    "\t\trobot.set_previously_built(tobuild)\n",
    "\t\treturn True\n",
    "\telse:\n",
    "\t\trobot.set_prev_task(robot.get_curr_task())\n",
    "\t\trobot.set_curr_task(\"idle\")\n",
    "\t\trobot.set_task_dur(0)\n",
    "\t\treturn False\n",
    "\n",
    "def assemble(builder,tobuild):\n",
    "\tglobal rid,nid,aid,pid,Printable,NonPr,Quality_incr_Chance,Quality_incr_Lower, Quality_incr_Upper\n",
    "\t\n",
    "\tif(checkType(builder,\"Assembler\") or checkType(builder,\"Replicator\")):\n",
    "\t\tif(tobuild == \"Replicator\"):\n",
    "\t\t\ti=0\n",
    "\t\t\t\n",
    "\t\tif(tobuild == \"Normal\"):\n",
    "\t\t\ti=1\n",
    "\t\t\t\n",
    "\t\tif(tobuild == \"Assembler\"):\n",
    "\t\t\ti=2\n",
    "\t\t\t\n",
    "\t\tif(tobuild == \"Printer\"):\n",
    "\t\t\ti=3\n",
    "\n",
    "\t\tAssemblerQuality = builder.get_buid_qual()\n",
    "\t\t# robot's build quality\t\t\n",
    "\t\trand = round(random.uniform(0,1),decimalPlaces)\n",
    "\t\tif rand > round((1.0 - Quality_incr_Chance/100),decimalPlaces):\n",
    "\t\t\tRobotQuality = AssemblerQuality + random.uniform(Quality_incr_Lower, Quality_incr_Upper)\n",
    "\t\telif rand < Quality_decr_Chance :\n",
    "\t\t\tRobotQuality = AssemblerQuality - random.uniform(Quality_decr_Lower, Quality_decr_Upper)\n",
    "\t\telse :\n",
    "\t\t\tRobotQuality = AssemblerQuality\n",
    "\t\t# print(builder,builder.beingbuiltlist)\n",
    "\t\tnewRobot = Robot(tobuild,RobotQuality,builder.beingbuiltlist.pop(0)[1:])\n",
    "\t\treturn newRobot\n",
    "\telse:\n",
    "\t\treturn None\n",
    "\n",
    "\n",
    "def printCheck(robot):\n",
    "\tglobal Print_Efficiency, Print_Amount, Materials, Printable\n",
    "\tif(checkType(robot,\"Replicator\") or checkType(robot,\"Printer\") and \"Print\" in robot.tasks):\n",
    "\t\tif Materials - (Print_Efficiency*Print_Amount) > 0:\n",
    "\t\t\treturn True\n",
    "\t\telse:\n",
    "\t\t\treturn False\n",
    "\telse:\n",
    "\t\treturn False\n",
    "\n",
    "def printing(robot):\n",
    "    global Print_Efficiency, Print_Amount, Materials, Printable\n",
    "    robot.set_prev_task(robot.get_curr_task())\n",
    "    robot.set_curr_task(\"printing\")\n",
    "    robot.set_task_dur(PrintCost_Time)\n",
    "    Materials = Materials - (Print_Efficiency*Print_Amount)\n",
    "    Printable = Printable + (Print_Efficiency*Print_Amount)\n",
    "\n",
    "def resetTasks(robot):\n",
    "    robot.set_prev_task(robot.get_curr_task())\n",
    "    robot.set_task_dur(0)\n",
    "    robot.set_curr_task(\"idle\")\n",
    "\n",
    "def checkCurrentTask(robot,current_task):\n",
    "    return robot.get_curr_task() == current_task\n",
    "def checkPreviousTask(robot,previous_task):\n",
    "    return robot.get_prev_task() == previous_task\n",
    "\n",
    "def checkType(robot,robot_type):\n",
    "    return robot.get_type() == robot_type\n",
    "\n"
   ]
  },
  {
   "cell_type": "markdown",
   "id": "680ad25e",
   "metadata": {},
   "source": [
    "# Task Risk\n",
    "\n",
    "RiskTask = RiskTask_Type + (1.0 − RobotQuality) ∗ RiskTask_Type ∗ RiskQuality_Modifier\n",
    "\n",
    "if Robot ∈ FactoryMade : RiskTask = RiskTask ∗ RiskFactory_Modifier"
   ]
  },
  {
   "cell_type": "code",
   "execution_count": 92,
   "id": "e3c9b235",
   "metadata": {},
   "outputs": [],
   "source": [
    "def taskRisk(robot):\n",
    "    if robot.factory == True:\n",
    "        currTask = robot.get_curr_task()\n",
    "        if(currTask == \"idle\"):\n",
    "            RiskTask_Type = 0\n",
    "        elif(currTask == \"collecting\"):\n",
    "            RiskTask_Type = 1\n",
    "        elif(currTask == \"assembling\"):\n",
    "            RiskTask_Type = 2\n",
    "        elif(currTask == \"printing\"):\n",
    "            RiskTask_Type = 2\n",
    "        elif(currTask == \"repair\"):\n",
    "            RiskTask_Type = 0\n",
    "        riskTask = RiskTask_Type * RiskFactory_Modifier\n",
    "    else:\n",
    "        currTask = robot.get_curr_task()\n",
    "        if(currTask == \"idle\"):\n",
    "            RiskTask_Type = 0\n",
    "            riskTask = RiskTask_Type + (1.0 - robot.get_buid_qual()) * RiskTask_Type * RiskQuality_Modifier\n",
    "        elif(currTask == \"collecting\"):\n",
    "            RiskTask_Type = 1\n",
    "            riskTask = RiskTask_Type + (1.0 - robot.get_buid_qual()) * RiskTask_Type * RiskQuality_Modifier\n",
    "        elif(currTask == \"assembling\"):\n",
    "            RiskTask_Type = 2\n",
    "            riskTask = RiskTask_Type + (1.0 - robot.get_buid_qual()) * RiskTask_Type * RiskQuality_Modifier\n",
    "        elif(currTask == \"printing\"):\n",
    "            RiskTask_Type = 2\n",
    "            riskTask = RiskTask_Type + (1.0 - robot.get_buid_qual()) * RiskTask_Type * RiskQuality_Modifier\n",
    "        elif(currTask == \"repair\"):\n",
    "            RiskTask_Type = 0\n",
    "            \n",
    "        \n",
    "    return riskTask"
   ]
  },
  {
   "cell_type": "markdown",
   "id": "b2bb1b2c",
   "metadata": {},
   "source": [
    "# Function::Configurations"
   ]
  },
  {
   "cell_type": "code",
   "execution_count": 93,
   "id": "97d6a1c0",
   "metadata": {},
   "outputs": [],
   "source": [
    "def configHandler(t,totlist,robotlist,useless,checkENV,checkPrint,checkNonPr,checkMat):\n",
    "        n_replicator = 0\n",
    "        n_normal = 0\n",
    "        n_assembler = 0\n",
    "        n_printer = 0\n",
    "\n",
    "        c_flag = 0\n",
    "        p_flag = 0\n",
    "        a_flag = 0\n",
    "        i_flag = 0\n",
    "\n",
    "        useless_c_flag = 0\n",
    "        useless_p_flag = 0\n",
    "        useless_a_flag = 0\n",
    "        useless_r_flag = 0\n",
    "\n",
    "        tot_build_qual_inservice = 0\n",
    "        tot_build_qual_inoutservice = 0\n",
    "\n",
    "        build_quality_list = []\n",
    "\n",
    "\n",
    "        for i in totlist:\n",
    "#             print(i.get_buid_qual())\n",
    "            if(i.get_buid_qual()>=0.5):\n",
    "                tot_build_qual_inoutservice = tot_build_qual_inoutservice + i.get_buid_qual()\n",
    "                tot_build_qual_inservice = tot_build_qual_inservice + i.get_buid_qual()\n",
    "            else:\n",
    "                tot_build_qual_inoutservice = tot_build_qual_inoutservice + i.get_buid_qual()\n",
    "            build_quality_list.append(i.get_buid_qual())\n",
    "        \n",
    "        avg_risk = 0\n",
    "        for i in robotlist:\n",
    "            if i.get_curr_task()==\"collecting\":\n",
    "                c_flag+=1\n",
    "            elif i.get_curr_task()==\"printing\":\n",
    "                p_flag+=1\n",
    "            elif i.get_curr_task()==\"assembling\":\n",
    "                a_flag+=1\n",
    "            elif i.get_curr_task()==\"idle\":\n",
    "                # print(i)\n",
    "                i_flag+=1\n",
    "\n",
    "            if(checkType(i,\"Replicator\")):\n",
    "                n_replicator += 1;\n",
    "            elif(checkType(i, \"Normal\")):\n",
    "                n_normal += 1;\n",
    "            elif(checkType(i, \"Assembler\")):\n",
    "                n_assembler += 1;\n",
    "            elif(checkType(i, \"Printer\")):\n",
    "                n_printer += 1;\n",
    "                \n",
    "            avg_risk += i.getRisk()\n",
    "        avg_risk = avg_risk/len(robotlist)\n",
    "        \n",
    "        for i in useless:\n",
    "            if(checkType(i,\"Replicator\")):\n",
    "                useless_r_flag += 1;\n",
    "            elif(checkType(i, \"Normal\")):\n",
    "                useless_c_flag += 1;\n",
    "            elif(checkType(i, \"Assembler\")):\n",
    "                useless_a_flag += 1;\n",
    "            elif(checkType(i, \"Printer\")):\n",
    "                useless_p_flag += 1;\n",
    "\n",
    "\n",
    "\n",
    "        avg_build_qual_inservice = round(tot_build_qual_inservice/len(robotlist),decimalPlaces)\n",
    "        avg_build_qual_inoutservice = round(tot_build_qual_inoutservice/len(totlist),decimalPlaces)\n",
    "        \n",
    "#         print(tot_build_qual_inservice,tot_build_qual_inoutservice)\n",
    "        \n",
    "#         print(avg_build_qual_inservice,avg_build_qual_inoutservice)\n",
    "\n",
    "#         listnumCollecting.append(c_flag)\n",
    "#         listnumPrinting.append(p_flag)\n",
    "#         listnumAssembling.append(a_flag)\n",
    "\n",
    "\n",
    "        ids=[]\n",
    "        for j in totlist:\n",
    "            isWaste = False\n",
    "            if j.build_qual<=QualityThreshold:\n",
    "                isWaste = True\n",
    "            ids.append(j.id)\n",
    "\n",
    "        if (Env_Materials == 0 and checkENV == 0):\n",
    "            checkENV = t\n",
    "        if (Printable == 0 and checkPrint == 0):\n",
    "            checkPrint = t\n",
    "        if (NonPr == 0 and checkNonPr == 0):\n",
    "            checkNonPr = t\n",
    "        if (Materials <= 1 and checkMat == 0):\n",
    "            checkMat = t\n",
    "            \n",
    "# \t\t\"#Replicator\",\"#Normal\",\"#Assembler\",\"#Printer\",\n",
    "# \t\t\"#Assembling\",\"#Printing\",\"#Collecting\",\"#Idle\",\n",
    "# \t\t\"#In\",\"#Out\",\n",
    "# \t\t\"Average Build Quality in-service\",\"Average Build Quality of System\",\n",
    "# \t\t\"#WasteReplicator\",\"#WasteNormal\",\"#WasteAssembler\",\"#WastePrinter\",\n",
    "# \t\t\"Environment Exhaust Time\", \"Printable Exhaust Time\", \n",
    "# \t\t\"NonPr Exhaust Time\",\"Material Exhaust Time\"]\n",
    "\n",
    "        \n",
    "        return build_quality_list,[n_replicator,n_normal,n_assembler,n_printer,\n",
    "        a_flag,p_flag,c_flag,i_flag,\n",
    "        len(robotlist),len(useless),\n",
    "        avg_build_qual_inservice,avg_build_qual_inoutservice,\n",
    "        useless_r_flag,useless_c_flag,useless_a_flag,useless_p_flag,\n",
    "        checkENV,checkPrint,checkNonPr,checkMat,avg_risk]"
   ]
  },
  {
   "cell_type": "code",
   "execution_count": 96,
   "id": "5bae2bdb",
   "metadata": {},
   "outputs": [],
   "source": [
    "def CHO(timesteps,robotlist,df):\n",
    "    totlist = robotlist\n",
    "    useless = []\n",
    "\n",
    "    # number of bots working\n",
    "    listnumCollecting = []\n",
    "    listnumPrinting = []\n",
    "    listnumAssembling = []\n",
    "\n",
    "    # use lists\n",
    "    tcoordslist = []\n",
    "    rcoordslist = []\n",
    "    wastecoordslist = []\n",
    "    t_build_quality_list = []\n",
    "\n",
    "    #Lists used for visualization\n",
    "    checkENV = 0\n",
    "    checkPrint = 0\n",
    "    checkNonPr = 0\n",
    "    checkMat = 0\n",
    "    \n",
    "    for t in range(0,timesteps):\n",
    "        print(\"=\"*20)\n",
    "        for i in range(len(robotlist)):\n",
    "            \n",
    "            print(t,i,taskRisk(robotlist[i]),robotlist[i])\n",
    "            \n",
    "            # IDLE\n",
    "            if(checkCurrentTask(robotlist[i],\"idle\")):\n",
    "#                 robotlist[i].setRisk(taskRisk(robotlist[i]))\n",
    "                if(checkType(robotlist[i],\"Replicator\")):\n",
    "                    if(assembleCheck(robotlist[i],\"Normal\")):\n",
    "                        isAssembling = assembling(robotlist[i],\"Normal\")\n",
    "                    elif(printCheck(robotlist[i])):\n",
    "                        isPrinting = printing(robotlist[i])\t\n",
    "                    else:\n",
    "                        resetTasks(robotlist[i])\n",
    "                elif(checkType(robotlist[i],\"Normal\")):\n",
    "                    if (collectCheck(robotlist[i])):\n",
    "                        collecting(robotlist[i])\n",
    "                    else:\n",
    "                        resetTasks(robotlist[i])\n",
    "\n",
    "            # NOT IDLE\n",
    "            else:\n",
    "#                 robotlist[i].setRisk(taskRisk(robotlist[i]))\n",
    "#                 print(t,taskRisk(robotlist[i]),robotlist[i])\n",
    "#                 robotlist[i].setRisk(taskRisk(robotlist[i]))\n",
    "                # reduce task duration every time step\n",
    "                if(robotlist[i].tasks_dur - 1 != 0):\n",
    "                    robotlist[i].set_task_dur(robotlist[i].tasks_dur - 1)\n",
    "\n",
    "                # Replicator \n",
    "                elif(robotlist[i].tasks_dur - 1 == 0 and checkType(robotlist[i],\"Replicator\")):\n",
    "                    # check if it can keep assembling next time step\n",
    "                    if(assembleCheck(robotlist[i],\"Normal\")):\n",
    "                        assembling(robotlist[i],\"Normal\")\n",
    "                    elif(printCheck(robotlist[i])):\n",
    "                        printing(robotlist[i])\n",
    "                    else:\n",
    "                        isAssembling = False\n",
    "                        resetTasks(robotlist[i])\n",
    "\n",
    "                    # it enters this loop only when it has to pop a new robot\n",
    "                    if(checkPreviousTask(robotlist[i],\"assembling\")):\n",
    "                        newbot = assemble(robotlist[i],\"Normal\")\n",
    "                        if newbot and newbot.build_qual>=0.5:\n",
    "                            if(checkType(newbot,\"Normal\")):\n",
    "                                canCollect = collectCheck(newbot)\n",
    "                                if canCollect:\n",
    "                                    collecting(newbot)\n",
    "                            totlist.append(newbot)\n",
    "                            robotlist.append(newbot)\n",
    "                        else:\n",
    "                            totlist.append(newbot)\n",
    "                            useless.append(newbot)\n",
    "                            resetTasks(robotlist[i])\n",
    "                        # robotlist[i].set_prev_task(robotlist[i].current_task)\n",
    "\n",
    "                # Normal\n",
    "                elif(checkType(robotlist[i],\"Normal\")):\n",
    "                    canCollect = collectCheck(robotlist[i])\n",
    "                    if(canCollect):\n",
    "                        collecting(robotlist[i])\n",
    "                    else:\n",
    "                        resetTasks(robotlist[i])\n",
    "\n",
    "        build_quality_list,vals = configHandler(t,totlist,robotlist,useless,checkENV,checkPrint,checkNonPr,checkMat)\n",
    "        df.loc[len(df)] = [t,NonPr,Printable,Materials,Env_Materials]+(vals)\n",
    "        \n",
    "        \n",
    "        tcoordslist.append(t)\n",
    "        rcoordslist.append(len(robotlist)) \n",
    "        wastecoordslist.append(len(useless))\n",
    "        t_build_quality_list.append(build_quality_list)\n",
    "        \n",
    "    df[\"Print Capacity\"] = df[[\"#Printer\", \"#Replicator\"]].sum(axis=1)\n",
    "    df[\"Assembling Capacity\"] = df[[\"#Assembler\", \"#Replicator\"]].sum(axis=1)\n",
    "    df[\"Collection Capacity\"] = df[[\"#Printer\", \"#Replicator\", \"#Assembler\", \"#Normal\"]].sum(axis=1)\n",
    "    return df"
   ]
  },
  {
   "cell_type": "markdown",
   "id": "d375486c",
   "metadata": {},
   "source": [
    "# Testing"
   ]
  },
  {
   "cell_type": "code",
   "execution_count": 97,
   "id": "81cd2b90",
   "metadata": {},
   "outputs": [
    {
     "name": "stdout",
     "output_type": "stream",
     "text": [
      "====================\n",
      "0 0 0.0 R1 idle\n",
      "====================\n",
      "1 0 0.2 R1 assembling\n",
      "====================\n",
      "2 0 0.2 R1 assembling\n",
      "====================\n",
      "3 0 0.2 R1 assembling\n",
      "3 1 2.5799999999999996 N1 collecting\n",
      "3 2 2.5799999999999996 N1 collecting\n",
      "====================\n",
      "4 0 0.2 R1 assembling\n",
      "4 1 2.5799999999999996 N1 collecting\n",
      "4 2 2.5799999999999996 N1 collecting\n",
      "====================\n",
      "5 0 0.2 R1 assembling\n",
      "5 1 2.5799999999999996 N1 collecting\n",
      "5 2 2.5799999999999996 N1 collecting\n",
      "5 3 2.125 N2 collecting\n",
      "5 4 2.125 N2 collecting\n",
      "====================\n",
      "6 0 0.2 R1 assembling\n",
      "6 1 2.5799999999999996 N1 collecting\n",
      "6 2 2.5799999999999996 N1 collecting\n",
      "6 3 2.125 N2 collecting\n",
      "6 4 2.125 N2 collecting\n",
      "====================\n",
      "7 0 0.2 R1 assembling\n",
      "7 1 2.5799999999999996 N1 collecting\n",
      "7 2 2.5799999999999996 N1 collecting\n",
      "7 3 2.125 N2 collecting\n",
      "7 4 2.125 N2 collecting\n",
      "7 5 1.87 N3 collecting\n",
      "7 6 1.87 N3 collecting\n",
      "====================\n",
      "8 0 0.2 R1 assembling\n",
      "8 1 2.5799999999999996 N1 collecting\n",
      "8 2 2.5799999999999996 N1 collecting\n",
      "8 3 2.125 N2 collecting\n",
      "8 4 2.125 N2 collecting\n",
      "8 5 1.87 N3 collecting\n",
      "8 6 1.87 N3 collecting\n",
      "====================\n",
      "9 0 0.2 R1 assembling\n",
      "9 1 2.5799999999999996 N1 collecting\n",
      "9 2 2.5799999999999996 N1 collecting\n",
      "9 3 2.125 N2 collecting\n",
      "9 4 2.125 N2 collecting\n",
      "9 5 1.87 N3 collecting\n",
      "9 6 1.87 N3 collecting\n",
      "9 7 2.04 N4 collecting\n",
      "9 8 2.04 N4 collecting\n",
      "====================\n",
      "10 0 0.2 R1 assembling\n",
      "10 1 2.5799999999999996 N1 collecting\n",
      "10 2 2.5799999999999996 N1 collecting\n",
      "10 3 2.125 N2 collecting\n",
      "10 4 2.125 N2 collecting\n",
      "10 5 1.87 N3 collecting\n",
      "10 6 1.87 N3 collecting\n",
      "10 7 2.04 N4 collecting\n",
      "10 8 2.04 N4 collecting\n",
      "====================\n",
      "11 0 0.2 R1 assembling\n",
      "11 1 2.5799999999999996 N1 collecting\n",
      "11 2 2.5799999999999996 N1 collecting\n",
      "11 3 2.125 N2 collecting\n",
      "11 4 2.125 N2 collecting\n",
      "11 5 1.87 N3 collecting\n",
      "11 6 1.87 N3 collecting\n",
      "11 7 2.04 N4 collecting\n",
      "11 8 2.04 N4 collecting\n",
      "11 9 2.19 N5 collecting\n",
      "11 10 2.19 N5 collecting\n",
      "====================\n",
      "12 0 0.2 R1 assembling\n",
      "12 1 2.5799999999999996 N1 collecting\n",
      "12 2 2.5799999999999996 N1 collecting\n",
      "12 3 2.125 N2 collecting\n",
      "12 4 2.125 N2 collecting\n",
      "12 5 1.87 N3 collecting\n",
      "12 6 1.87 N3 collecting\n",
      "12 7 2.04 N4 collecting\n",
      "12 8 2.04 N4 collecting\n",
      "12 9 2.19 N5 collecting\n",
      "12 10 2.19 N5 collecting\n",
      "====================\n",
      "13 0 0.2 R1 assembling\n",
      "13 1 2.5799999999999996 N1 collecting\n",
      "13 2 2.5799999999999996 N1 collecting\n",
      "13 3 2.125 N2 collecting\n",
      "13 4 2.125 N2 collecting\n",
      "13 5 1.87 N3 collecting\n",
      "13 6 1.87 N3 collecting\n",
      "13 7 2.04 N4 collecting\n",
      "13 8 2.04 N4 collecting\n",
      "13 9 2.19 N5 collecting\n",
      "13 10 2.19 N5 collecting\n",
      "13 11 2.5200000000000005 N6 collecting\n",
      "13 12 2.5200000000000005 N6 collecting\n",
      "====================\n",
      "14 0 0.2 R1 assembling\n",
      "14 1 2.5799999999999996 N1 collecting\n",
      "14 2 2.5799999999999996 N1 collecting\n",
      "14 3 2.125 N2 collecting\n",
      "14 4 2.125 N2 collecting\n",
      "14 5 1.87 N3 collecting\n",
      "14 6 1.87 N3 collecting\n",
      "14 7 2.04 N4 collecting\n",
      "14 8 2.04 N4 collecting\n",
      "14 9 2.19 N5 collecting\n",
      "14 10 2.19 N5 collecting\n",
      "14 11 2.5200000000000005 N6 collecting\n",
      "14 12 2.5200000000000005 N6 collecting\n",
      "====================\n",
      "15 0 0.2 R1 assembling\n",
      "15 1 2.5799999999999996 N1 collecting\n",
      "15 2 2.5799999999999996 N1 collecting\n",
      "15 3 2.125 N2 collecting\n",
      "15 4 2.125 N2 collecting\n",
      "15 5 1.87 N3 collecting\n",
      "15 6 1.87 N3 collecting\n",
      "15 7 2.04 N4 collecting\n",
      "15 8 2.04 N4 collecting\n",
      "15 9 2.19 N5 collecting\n",
      "15 10 2.19 N5 collecting\n",
      "15 11 2.5200000000000005 N6 collecting\n",
      "15 12 2.5200000000000005 N6 collecting\n",
      "15 13 2.37 N7 collecting\n",
      "15 14 2.37 N7 collecting\n",
      "====================\n",
      "16 0 0.2 R1 assembling\n",
      "16 1 2.5799999999999996 N1 collecting\n",
      "16 2 2.5799999999999996 N1 collecting\n",
      "16 3 2.125 N2 collecting\n",
      "16 4 2.125 N2 collecting\n",
      "16 5 1.87 N3 collecting\n",
      "16 6 1.87 N3 collecting\n",
      "16 7 2.04 N4 collecting\n",
      "16 8 2.04 N4 collecting\n",
      "16 9 2.19 N5 collecting\n",
      "16 10 2.19 N5 collecting\n",
      "16 11 2.5200000000000005 N6 collecting\n",
      "16 12 2.5200000000000005 N6 collecting\n",
      "16 13 2.37 N7 collecting\n",
      "16 14 2.37 N7 collecting\n",
      "====================\n",
      "17 0 0.2 R1 assembling\n",
      "17 1 2.5799999999999996 N1 collecting\n",
      "17 2 2.5799999999999996 N1 collecting\n",
      "17 3 2.125 N2 collecting\n",
      "17 4 2.125 N2 collecting\n",
      "17 5 1.87 N3 collecting\n",
      "17 6 1.87 N3 collecting\n",
      "17 7 2.04 N4 collecting\n",
      "17 8 2.04 N4 collecting\n",
      "17 9 2.19 N5 collecting\n",
      "17 10 2.19 N5 collecting\n",
      "17 11 2.5200000000000005 N6 collecting\n",
      "17 12 2.5200000000000005 N6 collecting\n",
      "17 13 2.37 N7 collecting\n",
      "17 14 2.37 N7 collecting\n",
      "17 15 2.2199999999999998 N8 collecting\n",
      "17 16 2.2199999999999998 N8 collecting\n",
      "====================\n",
      "18 0 0.2 R1 assembling\n",
      "18 1 2.5799999999999996 N1 collecting\n",
      "18 2 2.5799999999999996 N1 collecting\n",
      "18 3 2.125 N2 collecting\n",
      "18 4 2.125 N2 collecting\n",
      "18 5 1.87 N3 collecting\n",
      "18 6 1.87 N3 collecting\n",
      "18 7 2.04 N4 collecting\n",
      "18 8 2.04 N4 collecting\n",
      "18 9 2.19 N5 collecting\n",
      "18 10 2.19 N5 collecting\n",
      "18 11 2.5200000000000005 N6 collecting\n",
      "18 12 2.5200000000000005 N6 collecting\n",
      "18 13 2.37 N7 collecting\n",
      "18 14 2.37 N7 collecting\n",
      "18 15 2.2199999999999998 N8 collecting\n",
      "18 16 2.2199999999999998 N8 collecting\n",
      "====================\n",
      "19 0 0.2 R1 assembling\n",
      "19 1 2.5799999999999996 N1 collecting\n",
      "19 2 2.5799999999999996 N1 collecting\n",
      "19 3 2.125 N2 collecting\n",
      "19 4 2.125 N2 collecting\n",
      "19 5 1.87 N3 collecting\n",
      "19 6 1.87 N3 collecting\n",
      "19 7 2.04 N4 collecting\n",
      "19 8 2.04 N4 collecting\n",
      "19 9 2.19 N5 collecting\n",
      "19 10 2.19 N5 collecting\n",
      "19 11 2.5200000000000005 N6 collecting\n",
      "19 12 2.5200000000000005 N6 collecting\n",
      "19 13 2.37 N7 collecting\n",
      "19 14 2.37 N7 collecting\n",
      "19 15 2.2199999999999998 N8 collecting\n",
      "19 16 2.2199999999999998 N8 collecting\n",
      "19 17 2.5799999999999996 N9 collecting\n",
      "19 18 2.5799999999999996 N9 collecting\n",
      "====================\n",
      "20 0 0.2 R1 assembling\n",
      "20 1 2.5799999999999996 N1 collecting\n",
      "20 2 2.5799999999999996 N1 collecting\n",
      "20 3 2.125 N2 collecting\n",
      "20 4 2.125 N2 collecting\n",
      "20 5 1.87 N3 collecting\n",
      "20 6 1.87 N3 collecting\n",
      "20 7 2.04 N4 collecting\n",
      "20 8 2.04 N4 collecting\n",
      "20 9 2.19 N5 collecting\n",
      "20 10 2.19 N5 collecting\n",
      "20 11 2.5200000000000005 N6 collecting\n",
      "20 12 2.5200000000000005 N6 collecting\n",
      "20 13 2.37 N7 collecting\n",
      "20 14 2.37 N7 collecting\n",
      "20 15 2.2199999999999998 N8 collecting\n",
      "20 16 2.2199999999999998 N8 collecting\n",
      "20 17 2.5799999999999996 N9 collecting\n",
      "20 18 2.5799999999999996 N9 collecting\n",
      "====================\n",
      "21 0 0.2 R1 assembling\n",
      "21 1 2.5799999999999996 N1 collecting\n",
      "21 2 2.5799999999999996 N1 collecting\n",
      "21 3 2.125 N2 collecting\n",
      "21 4 2.125 N2 collecting\n",
      "21 5 1.87 N3 collecting\n",
      "21 6 1.87 N3 collecting\n",
      "21 7 2.04 N4 collecting\n",
      "21 8 2.04 N4 collecting\n",
      "21 9 2.19 N5 collecting\n",
      "21 10 2.19 N5 collecting\n",
      "21 11 2.5200000000000005 N6 collecting\n",
      "21 12 2.5200000000000005 N6 collecting\n",
      "21 13 2.37 N7 collecting\n",
      "21 14 2.37 N7 collecting\n",
      "21 15 2.2199999999999998 N8 collecting\n",
      "21 16 2.2199999999999998 N8 collecting\n",
      "21 17 2.5799999999999996 N9 collecting\n",
      "21 18 2.5799999999999996 N9 collecting\n",
      "21 19 1.7800000000000002 N10 collecting\n",
      "21 20 1.7800000000000002 N10 collecting\n",
      "====================\n",
      "22 0 0.2 R1 assembling\n",
      "22 1 2.5799999999999996 N1 collecting\n",
      "22 2 2.5799999999999996 N1 collecting\n",
      "22 3 2.125 N2 collecting\n",
      "22 4 2.125 N2 collecting\n",
      "22 5 1.87 N3 collecting\n",
      "22 6 1.87 N3 collecting\n",
      "22 7 2.04 N4 collecting\n",
      "22 8 2.04 N4 collecting\n",
      "22 9 2.19 N5 collecting\n",
      "22 10 2.19 N5 collecting\n",
      "22 11 2.5200000000000005 N6 collecting\n",
      "22 12 2.5200000000000005 N6 collecting\n",
      "22 13 2.37 N7 collecting\n",
      "22 14 2.37 N7 collecting\n",
      "22 15 2.2199999999999998 N8 collecting\n",
      "22 16 2.2199999999999998 N8 collecting\n",
      "22 17 2.5799999999999996 N9 collecting\n",
      "22 18 2.5799999999999996 N9 collecting\n",
      "22 19 1.7800000000000002 N10 collecting\n",
      "22 20 1.7800000000000002 N10 collecting\n",
      "====================\n",
      "23 0 0.2 R1 assembling\n",
      "23 1 2.5799999999999996 N1 collecting\n",
      "23 2 2.5799999999999996 N1 collecting\n",
      "23 3 2.125 N2 collecting\n",
      "23 4 2.125 N2 collecting\n",
      "23 5 1.87 N3 collecting\n",
      "23 6 1.87 N3 collecting\n",
      "23 7 2.04 N4 collecting\n",
      "23 8 2.04 N4 collecting\n",
      "23 9 2.19 N5 collecting\n",
      "23 10 2.19 N5 collecting\n",
      "23 11 2.5200000000000005 N6 collecting\n",
      "23 12 2.5200000000000005 N6 collecting\n",
      "23 13 2.37 N7 collecting\n",
      "23 14 2.37 N7 collecting\n",
      "23 15 2.2199999999999998 N8 collecting\n",
      "23 16 2.2199999999999998 N8 collecting\n",
      "23 17 2.5799999999999996 N9 collecting\n",
      "23 18 2.5799999999999996 N9 collecting\n",
      "23 19 1.7800000000000002 N10 collecting\n",
      "23 20 1.7800000000000002 N10 collecting\n",
      "23 21 1.615 N11 collecting\n",
      "23 22 1.615 N11 collecting\n",
      "====================\n",
      "24 0 0.2 R1 assembling\n",
      "24 1 2.5799999999999996 N1 collecting\n",
      "24 2 2.5799999999999996 N1 collecting\n",
      "24 3 2.125 N2 collecting\n",
      "24 4 2.125 N2 collecting\n",
      "24 5 1.87 N3 collecting\n",
      "24 6 1.87 N3 collecting\n",
      "24 7 2.04 N4 collecting\n",
      "24 8 2.04 N4 collecting\n",
      "24 9 2.19 N5 collecting\n",
      "24 10 2.19 N5 collecting\n",
      "24 11 2.5200000000000005 N6 collecting\n",
      "24 12 2.5200000000000005 N6 collecting\n",
      "24 13 2.37 N7 collecting\n",
      "24 14 2.37 N7 collecting\n",
      "24 15 2.2199999999999998 N8 collecting\n",
      "24 16 2.2199999999999998 N8 collecting\n",
      "24 17 2.5799999999999996 N9 collecting\n",
      "24 18 2.5799999999999996 N9 collecting\n",
      "24 19 1.7800000000000002 N10 collecting\n",
      "24 20 1.7800000000000002 N10 collecting\n",
      "24 21 1.615 N11 collecting\n",
      "24 22 1.615 N11 collecting\n",
      "====================\n",
      "25 0 0.2 R1 assembling\n",
      "25 1 2.5799999999999996 N1 collecting\n",
      "25 2 2.5799999999999996 N1 collecting\n",
      "25 3 2.125 N2 collecting\n",
      "25 4 2.125 N2 collecting\n",
      "25 5 1.87 N3 collecting\n",
      "25 6 1.87 N3 collecting\n",
      "25 7 2.04 N4 collecting\n",
      "25 8 2.04 N4 collecting\n",
      "25 9 2.19 N5 collecting\n",
      "25 10 2.19 N5 collecting\n",
      "25 11 2.5200000000000005 N6 collecting\n",
      "25 12 2.5200000000000005 N6 collecting\n",
      "25 13 2.37 N7 collecting\n",
      "25 14 2.37 N7 collecting\n",
      "25 15 2.2199999999999998 N8 collecting\n",
      "25 16 2.2199999999999998 N8 collecting\n",
      "25 17 2.5799999999999996 N9 collecting\n",
      "25 18 2.5799999999999996 N9 collecting\n",
      "25 19 1.7800000000000002 N10 collecting\n",
      "25 20 1.7800000000000002 N10 collecting\n",
      "25 21 1.615 N11 collecting\n",
      "25 22 1.615 N11 collecting\n",
      "25 23 1.9050000000000002 N12 collecting\n",
      "25 24 1.9050000000000002 N12 collecting\n",
      "====================\n",
      "26 0 0.2 R1 assembling\n",
      "26 1 2.5799999999999996 N1 collecting\n",
      "26 2 2.5799999999999996 N1 collecting\n",
      "26 3 2.125 N2 collecting\n",
      "26 4 2.125 N2 collecting\n",
      "26 5 1.87 N3 collecting\n",
      "26 6 1.87 N3 collecting\n",
      "26 7 2.04 N4 collecting\n",
      "26 8 2.04 N4 collecting\n",
      "26 9 2.19 N5 collecting\n",
      "26 10 2.19 N5 collecting\n",
      "26 11 2.5200000000000005 N6 collecting\n",
      "26 12 2.5200000000000005 N6 collecting\n",
      "26 13 2.37 N7 collecting\n",
      "26 14 2.37 N7 collecting\n",
      "26 15 2.2199999999999998 N8 collecting\n",
      "26 16 2.2199999999999998 N8 collecting\n",
      "26 17 2.5799999999999996 N9 collecting\n",
      "26 18 2.5799999999999996 N9 collecting\n",
      "26 19 1.7800000000000002 N10 collecting\n",
      "26 20 1.7800000000000002 N10 collecting\n",
      "26 21 1.615 N11 collecting\n",
      "26 22 1.615 N11 collecting\n",
      "26 23 1.9050000000000002 N12 collecting\n",
      "26 24 1.9050000000000002 N12 collecting\n",
      "====================\n",
      "27 0 0.2 R1 assembling\n",
      "27 1 2.5799999999999996 N1 collecting\n",
      "27 2 2.5799999999999996 N1 collecting\n",
      "27 3 2.125 N2 collecting\n",
      "27 4 2.125 N2 collecting\n",
      "27 5 1.87 N3 collecting\n",
      "27 6 1.87 N3 collecting\n",
      "27 7 2.04 N4 collecting\n",
      "27 8 2.04 N4 collecting\n",
      "27 9 2.19 N5 collecting\n",
      "27 10 2.19 N5 collecting\n",
      "27 11 2.5200000000000005 N6 collecting\n",
      "27 12 2.5200000000000005 N6 collecting\n",
      "27 13 2.37 N7 collecting\n",
      "27 14 2.37 N7 collecting\n",
      "27 15 2.2199999999999998 N8 collecting\n",
      "27 16 2.2199999999999998 N8 collecting\n",
      "27 17 2.5799999999999996 N9 collecting\n",
      "27 18 2.5799999999999996 N9 collecting\n",
      "27 19 1.7800000000000002 N10 collecting\n",
      "27 20 1.7800000000000002 N10 collecting\n",
      "27 21 1.615 N11 collecting\n",
      "27 22 1.615 N11 collecting\n",
      "27 23 1.9050000000000002 N12 collecting\n",
      "27 24 1.9050000000000002 N12 collecting\n",
      "27 25 2.225 N13 collecting\n",
      "27 26 2.225 N13 collecting\n",
      "====================\n",
      "28 0 0.2 R1 assembling\n",
      "28 1 2.5799999999999996 N1 collecting\n",
      "28 2 2.5799999999999996 N1 collecting\n",
      "28 3 2.125 N2 collecting\n",
      "28 4 2.125 N2 collecting\n",
      "28 5 1.87 N3 collecting\n",
      "28 6 1.87 N3 collecting\n",
      "28 7 2.04 N4 collecting\n",
      "28 8 2.04 N4 collecting\n",
      "28 9 2.19 N5 collecting\n",
      "28 10 2.19 N5 collecting\n",
      "28 11 2.5200000000000005 N6 collecting\n",
      "28 12 2.5200000000000005 N6 collecting\n",
      "28 13 2.37 N7 collecting\n",
      "28 14 2.37 N7 collecting\n",
      "28 15 2.2199999999999998 N8 collecting\n",
      "28 16 2.2199999999999998 N8 collecting\n",
      "28 17 2.5799999999999996 N9 collecting\n",
      "28 18 2.5799999999999996 N9 collecting\n",
      "28 19 1.7800000000000002 N10 collecting\n",
      "28 20 1.7800000000000002 N10 collecting\n",
      "28 21 1.615 N11 collecting\n",
      "28 22 1.615 N11 collecting\n",
      "28 23 1.9050000000000002 N12 collecting\n",
      "28 24 1.9050000000000002 N12 collecting\n",
      "28 25 2.225 N13 collecting\n",
      "28 26 2.225 N13 collecting\n",
      "====================\n",
      "29 0 0.2 R1 assembling\n",
      "29 1 2.5799999999999996 N1 collecting\n",
      "29 2 2.5799999999999996 N1 collecting\n",
      "29 3 2.125 N2 collecting\n",
      "29 4 2.125 N2 collecting\n",
      "29 5 1.87 N3 collecting\n",
      "29 6 1.87 N3 collecting\n",
      "29 7 2.04 N4 collecting\n",
      "29 8 2.04 N4 collecting\n",
      "29 9 2.19 N5 collecting\n",
      "29 10 2.19 N5 collecting\n",
      "29 11 2.5200000000000005 N6 collecting\n",
      "29 12 2.5200000000000005 N6 collecting\n",
      "29 13 2.37 N7 collecting\n",
      "29 14 2.37 N7 collecting\n",
      "29 15 2.2199999999999998 N8 collecting\n",
      "29 16 2.2199999999999998 N8 collecting\n",
      "29 17 2.5799999999999996 N9 collecting\n",
      "29 18 2.5799999999999996 N9 collecting\n",
      "29 19 1.7800000000000002 N10 collecting\n",
      "29 20 1.7800000000000002 N10 collecting\n",
      "29 21 1.615 N11 collecting\n",
      "29 22 1.615 N11 collecting\n",
      "29 23 1.9050000000000002 N12 collecting\n",
      "29 24 1.9050000000000002 N12 collecting\n",
      "29 25 2.225 N13 collecting\n",
      "29 26 2.225 N13 collecting\n",
      "29 27 2.5050000000000003 N14 collecting\n",
      "29 28 2.5050000000000003 N14 collecting\n",
      "====================\n",
      "30 0 0.2 R1 assembling\n",
      "30 1 2.5799999999999996 N1 collecting\n",
      "30 2 2.5799999999999996 N1 collecting\n",
      "30 3 2.125 N2 collecting\n",
      "30 4 2.125 N2 collecting\n",
      "30 5 1.87 N3 collecting\n",
      "30 6 1.87 N3 collecting\n",
      "30 7 2.04 N4 collecting\n",
      "30 8 2.04 N4 collecting\n",
      "30 9 2.19 N5 collecting\n",
      "30 10 2.19 N5 collecting\n",
      "30 11 2.5200000000000005 N6 collecting\n",
      "30 12 2.5200000000000005 N6 collecting\n",
      "30 13 2.37 N7 collecting\n",
      "30 14 2.37 N7 collecting\n",
      "30 15 2.2199999999999998 N8 collecting\n",
      "30 16 2.2199999999999998 N8 collecting\n",
      "30 17 2.5799999999999996 N9 collecting\n",
      "30 18 2.5799999999999996 N9 collecting\n",
      "30 19 1.7800000000000002 N10 collecting\n",
      "30 20 1.7800000000000002 N10 collecting\n",
      "30 21 1.615 N11 collecting\n",
      "30 22 1.615 N11 collecting\n",
      "30 23 1.9050000000000002 N12 collecting\n",
      "30 24 1.9050000000000002 N12 collecting\n",
      "30 25 2.225 N13 collecting\n",
      "30 26 2.225 N13 collecting\n",
      "30 27 2.5050000000000003 N14 collecting\n",
      "30 28 2.5050000000000003 N14 collecting\n",
      "====================\n",
      "31 0 0.2 R1 assembling\n",
      "31 1 2.5799999999999996 N1 collecting\n",
      "31 2 2.5799999999999996 N1 collecting\n",
      "31 3 2.125 N2 collecting\n",
      "31 4 2.125 N2 collecting\n",
      "31 5 1.87 N3 collecting\n",
      "31 6 1.87 N3 collecting\n",
      "31 7 2.04 N4 collecting\n",
      "31 8 2.04 N4 collecting\n",
      "31 9 2.19 N5 collecting\n",
      "31 10 2.19 N5 collecting\n",
      "31 11 2.5200000000000005 N6 collecting\n",
      "31 12 2.5200000000000005 N6 collecting\n",
      "31 13 2.37 N7 collecting\n",
      "31 14 2.37 N7 collecting\n",
      "31 15 2.2199999999999998 N8 collecting\n",
      "31 16 2.2199999999999998 N8 collecting\n",
      "31 17 2.5799999999999996 N9 collecting\n",
      "31 18 2.5799999999999996 N9 collecting\n",
      "31 19 1.7800000000000002 N10 collecting\n",
      "31 20 1.7800000000000002 N10 collecting\n",
      "31 21 1.615 N11 collecting\n",
      "31 22 1.615 N11 collecting\n",
      "31 23 1.9050000000000002 N12 collecting\n",
      "31 24 1.9050000000000002 N12 collecting\n",
      "31 25 2.225 N13 collecting\n",
      "31 26 2.225 N13 collecting\n",
      "31 27 2.5050000000000003 N14 collecting\n",
      "31 28 2.5050000000000003 N14 collecting\n",
      "31 29 2.21 N15 collecting\n",
      "31 30 2.21 N15 collecting\n",
      "====================\n",
      "32 0 0.2 R1 assembling\n",
      "32 1 2.5799999999999996 N1 collecting\n",
      "32 2 2.5799999999999996 N1 collecting\n",
      "32 3 2.125 N2 collecting\n",
      "32 4 2.125 N2 collecting\n",
      "32 5 1.87 N3 collecting\n",
      "32 6 1.87 N3 collecting\n",
      "32 7 2.04 N4 collecting\n",
      "32 8 2.04 N4 collecting\n",
      "32 9 2.19 N5 collecting\n",
      "32 10 2.19 N5 collecting\n",
      "32 11 2.5200000000000005 N6 collecting\n",
      "32 12 2.5200000000000005 N6 collecting\n",
      "32 13 2.37 N7 collecting\n",
      "32 14 2.37 N7 collecting\n",
      "32 15 2.2199999999999998 N8 collecting\n",
      "32 16 2.2199999999999998 N8 collecting\n",
      "32 17 2.5799999999999996 N9 collecting\n",
      "32 18 2.5799999999999996 N9 collecting\n",
      "32 19 1.7800000000000002 N10 collecting\n",
      "32 20 1.7800000000000002 N10 collecting\n",
      "32 21 1.615 N11 collecting\n",
      "32 22 1.615 N11 collecting\n",
      "32 23 1.9050000000000002 N12 collecting\n",
      "32 24 1.9050000000000002 N12 collecting\n",
      "32 25 2.225 N13 collecting\n",
      "32 26 2.225 N13 collecting\n",
      "32 27 2.5050000000000003 N14 collecting\n",
      "32 28 2.5050000000000003 N14 collecting\n",
      "32 29 2.21 N15 collecting\n",
      "32 30 2.21 N15 collecting\n",
      "====================\n",
      "33 0 0.2 R1 assembling\n",
      "33 1 2.5799999999999996 N1 collecting\n",
      "33 2 2.5799999999999996 N1 collecting\n",
      "33 3 2.125 N2 collecting\n",
      "33 4 2.125 N2 collecting\n",
      "33 5 1.87 N3 collecting\n",
      "33 6 0.0 N3 idle\n",
      "33 7 2.04 N4 collecting\n",
      "33 8 0.0 N4 idle\n",
      "33 9 2.19 N5 collecting\n",
      "33 10 0.0 N5 idle\n",
      "33 11 2.5200000000000005 N6 collecting\n",
      "33 12 0.0 N6 idle\n",
      "33 13 2.37 N7 collecting\n",
      "33 14 0.0 N7 idle\n",
      "33 15 2.2199999999999998 N8 collecting\n",
      "33 16 0.0 N8 idle\n",
      "33 17 2.5799999999999996 N9 collecting\n",
      "33 18 0.0 N9 idle\n",
      "33 19 1.7800000000000002 N10 collecting\n",
      "33 20 0.0 N10 idle\n",
      "33 21 1.615 N11 collecting\n",
      "33 22 0.0 N11 idle\n",
      "33 23 1.9050000000000002 N12 collecting\n",
      "33 24 0.0 N12 idle\n",
      "33 25 2.225 N13 collecting\n",
      "33 26 0.0 N13 idle\n",
      "33 27 2.5050000000000003 N14 collecting\n",
      "33 28 0.0 N14 idle\n",
      "33 29 2.21 N15 collecting\n",
      "33 30 0.0 N15 idle\n",
      "33 31 1.5099999999999998 N16 collecting\n",
      "33 32 0.0 N16 idle\n",
      "====================\n",
      "34 0 0.2 R1 assembling\n",
      "34 1 2.5799999999999996 N1 collecting\n",
      "34 2 0.0 N1 idle\n",
      "34 3 2.125 N2 collecting\n",
      "34 4 0.0 N2 idle\n",
      "34 5 0.0 N3 idle\n",
      "34 6 0.0 N3 idle\n",
      "34 7 0.0 N4 idle\n",
      "34 8 0.0 N4 idle\n",
      "34 9 0.0 N5 idle\n",
      "34 10 0.0 N5 idle\n",
      "34 11 0.0 N6 idle\n",
      "34 12 0.0 N6 idle\n",
      "34 13 0.0 N7 idle\n",
      "34 14 0.0 N7 idle\n",
      "34 15 0.0 N8 idle\n",
      "34 16 0.0 N8 idle\n",
      "34 17 0.0 N9 idle\n",
      "34 18 0.0 N9 idle\n",
      "34 19 0.0 N10 idle\n",
      "34 20 0.0 N10 idle\n",
      "34 21 0.0 N11 idle\n",
      "34 22 0.0 N11 idle\n",
      "34 23 0.0 N12 idle\n",
      "34 24 0.0 N12 idle\n",
      "34 25 0.0 N13 idle\n",
      "34 26 0.0 N13 idle\n",
      "34 27 0.0 N14 idle\n",
      "34 28 0.0 N14 idle\n",
      "34 29 0.0 N15 idle\n",
      "34 30 0.0 N15 idle\n",
      "34 31 0.0 N16 idle\n",
      "34 32 0.0 N16 idle\n",
      "====================\n",
      "35 0 0.2 R1 assembling\n",
      "35 1 0.0 N1 idle\n",
      "35 2 0.0 N1 idle\n",
      "35 3 0.0 N2 idle\n",
      "35 4 0.0 N2 idle\n",
      "35 5 0.0 N3 idle\n",
      "35 6 0.0 N3 idle\n",
      "35 7 0.0 N4 idle\n",
      "35 8 0.0 N4 idle\n",
      "35 9 0.0 N5 idle\n",
      "35 10 0.0 N5 idle\n",
      "35 11 0.0 N6 idle\n",
      "35 12 0.0 N6 idle\n",
      "35 13 0.0 N7 idle\n",
      "35 14 0.0 N7 idle\n",
      "35 15 0.0 N8 idle\n",
      "35 16 0.0 N8 idle\n",
      "35 17 0.0 N9 idle\n",
      "35 18 0.0 N9 idle\n",
      "35 19 0.0 N10 idle\n",
      "35 20 0.0 N10 idle\n",
      "35 21 0.0 N11 idle\n",
      "35 22 0.0 N11 idle\n",
      "35 23 0.0 N12 idle\n",
      "35 24 0.0 N12 idle\n",
      "35 25 0.0 N13 idle\n",
      "35 26 0.0 N13 idle\n",
      "35 27 0.0 N14 idle\n",
      "35 28 0.0 N14 idle\n",
      "35 29 0.0 N15 idle\n",
      "35 30 0.0 N15 idle\n",
      "35 31 0.0 N16 idle\n",
      "35 32 0.0 N16 idle\n",
      "35 33 0.0 N17 idle\n",
      "35 34 0.0 N17 idle\n",
      "====================\n",
      "36 0 0.2 R1 assembling\n",
      "36 1 0.0 N1 idle\n",
      "36 2 0.0 N1 idle\n",
      "36 3 0.0 N2 idle\n",
      "36 4 0.0 N2 idle\n",
      "36 5 0.0 N3 idle\n",
      "36 6 0.0 N3 idle\n",
      "36 7 0.0 N4 idle\n",
      "36 8 0.0 N4 idle\n",
      "36 9 0.0 N5 idle\n",
      "36 10 0.0 N5 idle\n",
      "36 11 0.0 N6 idle\n",
      "36 12 0.0 N6 idle\n",
      "36 13 0.0 N7 idle\n",
      "36 14 0.0 N7 idle\n",
      "36 15 0.0 N8 idle\n",
      "36 16 0.0 N8 idle\n",
      "36 17 0.0 N9 idle\n",
      "36 18 0.0 N9 idle\n",
      "36 19 0.0 N10 idle\n",
      "36 20 0.0 N10 idle\n",
      "36 21 0.0 N11 idle\n",
      "36 22 0.0 N11 idle\n",
      "36 23 0.0 N12 idle\n",
      "36 24 0.0 N12 idle\n",
      "36 25 0.0 N13 idle\n",
      "36 26 0.0 N13 idle\n",
      "36 27 0.0 N14 idle\n",
      "36 28 0.0 N14 idle\n",
      "36 29 0.0 N15 idle\n",
      "36 30 0.0 N15 idle\n",
      "36 31 0.0 N16 idle\n",
      "36 32 0.0 N16 idle\n",
      "36 33 0.0 N17 idle\n",
      "36 34 0.0 N17 idle\n",
      "====================\n",
      "37 0 0.2 R1 assembling\n",
      "37 1 0.0 N1 idle\n",
      "37 2 0.0 N1 idle\n",
      "37 3 0.0 N2 idle\n",
      "37 4 0.0 N2 idle\n",
      "37 5 0.0 N3 idle\n",
      "37 6 0.0 N3 idle\n",
      "37 7 0.0 N4 idle\n",
      "37 8 0.0 N4 idle\n",
      "37 9 0.0 N5 idle\n",
      "37 10 0.0 N5 idle\n",
      "37 11 0.0 N6 idle\n",
      "37 12 0.0 N6 idle\n",
      "37 13 0.0 N7 idle\n",
      "37 14 0.0 N7 idle\n",
      "37 15 0.0 N8 idle\n",
      "37 16 0.0 N8 idle\n",
      "37 17 0.0 N9 idle\n",
      "37 18 0.0 N9 idle\n",
      "37 19 0.0 N10 idle\n",
      "37 20 0.0 N10 idle\n",
      "37 21 0.0 N11 idle\n",
      "37 22 0.0 N11 idle\n",
      "37 23 0.0 N12 idle\n",
      "37 24 0.0 N12 idle\n",
      "37 25 0.0 N13 idle\n",
      "37 26 0.0 N13 idle\n",
      "37 27 0.0 N14 idle\n",
      "37 28 0.0 N14 idle\n",
      "37 29 0.0 N15 idle\n",
      "37 30 0.0 N15 idle\n",
      "37 31 0.0 N16 idle\n",
      "37 32 0.0 N16 idle\n",
      "37 33 0.0 N17 idle\n",
      "37 34 0.0 N17 idle\n",
      "37 35 0.0 N18 idle\n",
      "37 36 0.0 N18 idle\n",
      "====================\n",
      "38 0 0.2 R1 assembling\n",
      "38 1 0.0 N1 idle\n",
      "38 2 0.0 N1 idle\n",
      "38 3 0.0 N2 idle\n",
      "38 4 0.0 N2 idle\n",
      "38 5 0.0 N3 idle\n",
      "38 6 0.0 N3 idle\n",
      "38 7 0.0 N4 idle\n",
      "38 8 0.0 N4 idle\n",
      "38 9 0.0 N5 idle\n",
      "38 10 0.0 N5 idle\n",
      "38 11 0.0 N6 idle\n",
      "38 12 0.0 N6 idle\n",
      "38 13 0.0 N7 idle\n",
      "38 14 0.0 N7 idle\n",
      "38 15 0.0 N8 idle\n",
      "38 16 0.0 N8 idle\n",
      "38 17 0.0 N9 idle\n",
      "38 18 0.0 N9 idle\n",
      "38 19 0.0 N10 idle\n",
      "38 20 0.0 N10 idle\n",
      "38 21 0.0 N11 idle\n",
      "38 22 0.0 N11 idle\n",
      "38 23 0.0 N12 idle\n",
      "38 24 0.0 N12 idle\n",
      "38 25 0.0 N13 idle\n",
      "38 26 0.0 N13 idle\n",
      "38 27 0.0 N14 idle\n",
      "38 28 0.0 N14 idle\n",
      "38 29 0.0 N15 idle\n",
      "38 30 0.0 N15 idle\n",
      "38 31 0.0 N16 idle\n",
      "38 32 0.0 N16 idle\n",
      "38 33 0.0 N17 idle\n",
      "38 34 0.0 N17 idle\n",
      "38 35 0.0 N18 idle\n",
      "38 36 0.0 N18 idle\n",
      "====================\n",
      "39 0 0.2 R1 assembling\n",
      "39 1 0.0 N1 idle\n",
      "39 2 0.0 N1 idle\n",
      "39 3 0.0 N2 idle\n",
      "39 4 0.0 N2 idle\n",
      "39 5 0.0 N3 idle\n",
      "39 6 0.0 N3 idle\n",
      "39 7 0.0 N4 idle\n",
      "39 8 0.0 N4 idle\n",
      "39 9 0.0 N5 idle\n",
      "39 10 0.0 N5 idle\n",
      "39 11 0.0 N6 idle\n",
      "39 12 0.0 N6 idle\n",
      "39 13 0.0 N7 idle\n",
      "39 14 0.0 N7 idle\n",
      "39 15 0.0 N8 idle\n",
      "39 16 0.0 N8 idle\n",
      "39 17 0.0 N9 idle\n",
      "39 18 0.0 N9 idle\n",
      "39 19 0.0 N10 idle\n",
      "39 20 0.0 N10 idle\n",
      "39 21 0.0 N11 idle\n",
      "39 22 0.0 N11 idle\n",
      "39 23 0.0 N12 idle\n",
      "39 24 0.0 N12 idle\n",
      "39 25 0.0 N13 idle\n",
      "39 26 0.0 N13 idle\n",
      "39 27 0.0 N14 idle\n",
      "39 28 0.0 N14 idle\n",
      "39 29 0.0 N15 idle\n",
      "39 30 0.0 N15 idle\n",
      "39 31 0.0 N16 idle\n",
      "39 32 0.0 N16 idle\n",
      "39 33 0.0 N17 idle\n",
      "39 34 0.0 N17 idle\n",
      "39 35 0.0 N18 idle\n",
      "39 36 0.0 N18 idle\n",
      "39 37 0.0 N19 idle\n",
      "39 38 0.0 N19 idle\n",
      "====================\n",
      "40 0 0.2 R1 assembling\n",
      "40 1 0.0 N1 idle\n",
      "40 2 0.0 N1 idle\n",
      "40 3 0.0 N2 idle\n",
      "40 4 0.0 N2 idle\n",
      "40 5 0.0 N3 idle\n",
      "40 6 0.0 N3 idle\n",
      "40 7 0.0 N4 idle\n",
      "40 8 0.0 N4 idle\n",
      "40 9 0.0 N5 idle\n",
      "40 10 0.0 N5 idle\n",
      "40 11 0.0 N6 idle\n",
      "40 12 0.0 N6 idle\n",
      "40 13 0.0 N7 idle\n",
      "40 14 0.0 N7 idle\n",
      "40 15 0.0 N8 idle\n",
      "40 16 0.0 N8 idle\n",
      "40 17 0.0 N9 idle\n",
      "40 18 0.0 N9 idle\n",
      "40 19 0.0 N10 idle\n",
      "40 20 0.0 N10 idle\n",
      "40 21 0.0 N11 idle\n",
      "40 22 0.0 N11 idle\n",
      "40 23 0.0 N12 idle\n",
      "40 24 0.0 N12 idle\n",
      "40 25 0.0 N13 idle\n",
      "40 26 0.0 N13 idle\n",
      "40 27 0.0 N14 idle\n",
      "40 28 0.0 N14 idle\n",
      "40 29 0.0 N15 idle\n",
      "40 30 0.0 N15 idle\n",
      "40 31 0.0 N16 idle\n",
      "40 32 0.0 N16 idle\n",
      "40 33 0.0 N17 idle\n",
      "40 34 0.0 N17 idle\n",
      "40 35 0.0 N18 idle\n",
      "40 36 0.0 N18 idle\n",
      "40 37 0.0 N19 idle\n",
      "40 38 0.0 N19 idle\n",
      "====================\n",
      "41 0 0.2 R1 assembling\n",
      "41 1 0.0 N1 idle\n",
      "41 2 0.0 N1 idle\n",
      "41 3 0.0 N2 idle\n",
      "41 4 0.0 N2 idle\n",
      "41 5 0.0 N3 idle\n",
      "41 6 0.0 N3 idle\n",
      "41 7 0.0 N4 idle\n",
      "41 8 0.0 N4 idle\n",
      "41 9 0.0 N5 idle\n",
      "41 10 0.0 N5 idle\n",
      "41 11 0.0 N6 idle\n",
      "41 12 0.0 N6 idle\n",
      "41 13 0.0 N7 idle\n",
      "41 14 0.0 N7 idle\n",
      "41 15 0.0 N8 idle\n",
      "41 16 0.0 N8 idle\n",
      "41 17 0.0 N9 idle\n",
      "41 18 0.0 N9 idle\n",
      "41 19 0.0 N10 idle\n",
      "41 20 0.0 N10 idle\n",
      "41 21 0.0 N11 idle\n",
      "41 22 0.0 N11 idle\n",
      "41 23 0.0 N12 idle\n",
      "41 24 0.0 N12 idle\n",
      "41 25 0.0 N13 idle\n",
      "41 26 0.0 N13 idle\n",
      "41 27 0.0 N14 idle\n",
      "41 28 0.0 N14 idle\n",
      "41 29 0.0 N15 idle\n",
      "41 30 0.0 N15 idle\n",
      "41 31 0.0 N16 idle\n",
      "41 32 0.0 N16 idle\n",
      "41 33 0.0 N17 idle\n",
      "41 34 0.0 N17 idle\n",
      "41 35 0.0 N18 idle\n",
      "41 36 0.0 N18 idle\n",
      "41 37 0.0 N19 idle\n",
      "41 38 0.0 N19 idle\n",
      "41 39 0.0 N20 idle\n",
      "41 40 0.0 N20 idle\n",
      "====================\n",
      "42 0 0.2 R1 assembling\n",
      "42 1 0.0 N1 idle\n",
      "42 2 0.0 N1 idle\n",
      "42 3 0.0 N2 idle\n",
      "42 4 0.0 N2 idle\n",
      "42 5 0.0 N3 idle\n",
      "42 6 0.0 N3 idle\n",
      "42 7 0.0 N4 idle\n",
      "42 8 0.0 N4 idle\n",
      "42 9 0.0 N5 idle\n",
      "42 10 0.0 N5 idle\n",
      "42 11 0.0 N6 idle\n",
      "42 12 0.0 N6 idle\n",
      "42 13 0.0 N7 idle\n",
      "42 14 0.0 N7 idle\n",
      "42 15 0.0 N8 idle\n",
      "42 16 0.0 N8 idle\n",
      "42 17 0.0 N9 idle\n",
      "42 18 0.0 N9 idle\n",
      "42 19 0.0 N10 idle\n",
      "42 20 0.0 N10 idle\n",
      "42 21 0.0 N11 idle\n",
      "42 22 0.0 N11 idle\n",
      "42 23 0.0 N12 idle\n",
      "42 24 0.0 N12 idle\n",
      "42 25 0.0 N13 idle\n",
      "42 26 0.0 N13 idle\n",
      "42 27 0.0 N14 idle\n",
      "42 28 0.0 N14 idle\n",
      "42 29 0.0 N15 idle\n",
      "42 30 0.0 N15 idle\n",
      "42 31 0.0 N16 idle\n",
      "42 32 0.0 N16 idle\n",
      "42 33 0.0 N17 idle\n",
      "42 34 0.0 N17 idle\n",
      "42 35 0.0 N18 idle\n",
      "42 36 0.0 N18 idle\n",
      "42 37 0.0 N19 idle\n",
      "42 38 0.0 N19 idle\n",
      "42 39 0.0 N20 idle\n",
      "42 40 0.0 N20 idle\n",
      "====================\n",
      "43 0 0.2 R1 assembling\n",
      "43 1 0.0 N1 idle\n",
      "43 2 0.0 N1 idle\n",
      "43 3 0.0 N2 idle\n",
      "43 4 0.0 N2 idle\n",
      "43 5 0.0 N3 idle\n",
      "43 6 0.0 N3 idle\n",
      "43 7 0.0 N4 idle\n",
      "43 8 0.0 N4 idle\n",
      "43 9 0.0 N5 idle\n",
      "43 10 0.0 N5 idle\n",
      "43 11 0.0 N6 idle\n",
      "43 12 0.0 N6 idle\n",
      "43 13 0.0 N7 idle\n",
      "43 14 0.0 N7 idle\n",
      "43 15 0.0 N8 idle\n",
      "43 16 0.0 N8 idle\n",
      "43 17 0.0 N9 idle\n",
      "43 18 0.0 N9 idle\n",
      "43 19 0.0 N10 idle\n",
      "43 20 0.0 N10 idle\n",
      "43 21 0.0 N11 idle\n",
      "43 22 0.0 N11 idle\n",
      "43 23 0.0 N12 idle\n",
      "43 24 0.0 N12 idle\n",
      "43 25 0.0 N13 idle\n",
      "43 26 0.0 N13 idle\n",
      "43 27 0.0 N14 idle\n",
      "43 28 0.0 N14 idle\n",
      "43 29 0.0 N15 idle\n",
      "43 30 0.0 N15 idle\n",
      "43 31 0.0 N16 idle\n",
      "43 32 0.0 N16 idle\n",
      "43 33 0.0 N17 idle\n",
      "43 34 0.0 N17 idle\n",
      "43 35 0.0 N18 idle\n",
      "43 36 0.0 N18 idle\n",
      "43 37 0.0 N19 idle\n",
      "43 38 0.0 N19 idle\n",
      "43 39 0.0 N20 idle\n",
      "43 40 0.0 N20 idle\n",
      "43 41 0.0 N21 idle\n",
      "43 42 0.0 N21 idle\n",
      "====================\n",
      "44 0 0.2 R1 assembling\n",
      "44 1 0.0 N1 idle\n",
      "44 2 0.0 N1 idle\n",
      "44 3 0.0 N2 idle\n",
      "44 4 0.0 N2 idle\n",
      "44 5 0.0 N3 idle\n",
      "44 6 0.0 N3 idle\n",
      "44 7 0.0 N4 idle\n",
      "44 8 0.0 N4 idle\n",
      "44 9 0.0 N5 idle\n",
      "44 10 0.0 N5 idle\n",
      "44 11 0.0 N6 idle\n",
      "44 12 0.0 N6 idle\n",
      "44 13 0.0 N7 idle\n",
      "44 14 0.0 N7 idle\n",
      "44 15 0.0 N8 idle\n",
      "44 16 0.0 N8 idle\n",
      "44 17 0.0 N9 idle\n",
      "44 18 0.0 N9 idle\n",
      "44 19 0.0 N10 idle\n",
      "44 20 0.0 N10 idle\n",
      "44 21 0.0 N11 idle\n",
      "44 22 0.0 N11 idle\n",
      "44 23 0.0 N12 idle\n",
      "44 24 0.0 N12 idle\n",
      "44 25 0.0 N13 idle\n",
      "44 26 0.0 N13 idle\n",
      "44 27 0.0 N14 idle\n",
      "44 28 0.0 N14 idle\n",
      "44 29 0.0 N15 idle\n",
      "44 30 0.0 N15 idle\n",
      "44 31 0.0 N16 idle\n",
      "44 32 0.0 N16 idle\n",
      "44 33 0.0 N17 idle\n",
      "44 34 0.0 N17 idle\n",
      "44 35 0.0 N18 idle\n",
      "44 36 0.0 N18 idle\n",
      "44 37 0.0 N19 idle\n",
      "44 38 0.0 N19 idle\n",
      "44 39 0.0 N20 idle\n",
      "44 40 0.0 N20 idle\n",
      "44 41 0.0 N21 idle\n",
      "44 42 0.0 N21 idle\n",
      "====================\n",
      "45 0 0.2 R1 assembling\n",
      "45 1 0.0 N1 idle\n",
      "45 2 0.0 N1 idle\n",
      "45 3 0.0 N2 idle\n",
      "45 4 0.0 N2 idle\n",
      "45 5 0.0 N3 idle\n",
      "45 6 0.0 N3 idle\n",
      "45 7 0.0 N4 idle\n",
      "45 8 0.0 N4 idle\n",
      "45 9 0.0 N5 idle\n",
      "45 10 0.0 N5 idle\n",
      "45 11 0.0 N6 idle\n",
      "45 12 0.0 N6 idle\n",
      "45 13 0.0 N7 idle\n",
      "45 14 0.0 N7 idle\n",
      "45 15 0.0 N8 idle\n",
      "45 16 0.0 N8 idle\n",
      "45 17 0.0 N9 idle\n",
      "45 18 0.0 N9 idle\n",
      "45 19 0.0 N10 idle\n",
      "45 20 0.0 N10 idle\n",
      "45 21 0.0 N11 idle\n",
      "45 22 0.0 N11 idle\n",
      "45 23 0.0 N12 idle\n",
      "45 24 0.0 N12 idle\n",
      "45 25 0.0 N13 idle\n",
      "45 26 0.0 N13 idle\n",
      "45 27 0.0 N14 idle\n",
      "45 28 0.0 N14 idle\n",
      "45 29 0.0 N15 idle\n",
      "45 30 0.0 N15 idle\n",
      "45 31 0.0 N16 idle\n",
      "45 32 0.0 N16 idle\n",
      "45 33 0.0 N17 idle\n",
      "45 34 0.0 N17 idle\n",
      "45 35 0.0 N18 idle\n",
      "45 36 0.0 N18 idle\n",
      "45 37 0.0 N19 idle\n",
      "45 38 0.0 N19 idle\n",
      "45 39 0.0 N20 idle\n",
      "45 40 0.0 N20 idle\n",
      "45 41 0.0 N21 idle\n",
      "45 42 0.0 N21 idle\n",
      "45 43 0.0 N22 idle\n",
      "45 44 0.0 N22 idle\n",
      "====================\n",
      "46 0 0.2 R1 assembling\n",
      "46 1 0.0 N1 idle\n",
      "46 2 0.0 N1 idle\n",
      "46 3 0.0 N2 idle\n",
      "46 4 0.0 N2 idle\n",
      "46 5 0.0 N3 idle\n",
      "46 6 0.0 N3 idle\n",
      "46 7 0.0 N4 idle\n",
      "46 8 0.0 N4 idle\n",
      "46 9 0.0 N5 idle\n",
      "46 10 0.0 N5 idle\n",
      "46 11 0.0 N6 idle\n",
      "46 12 0.0 N6 idle\n",
      "46 13 0.0 N7 idle\n",
      "46 14 0.0 N7 idle\n",
      "46 15 0.0 N8 idle\n",
      "46 16 0.0 N8 idle\n",
      "46 17 0.0 N9 idle\n",
      "46 18 0.0 N9 idle\n",
      "46 19 0.0 N10 idle\n",
      "46 20 0.0 N10 idle\n",
      "46 21 0.0 N11 idle\n",
      "46 22 0.0 N11 idle\n",
      "46 23 0.0 N12 idle\n",
      "46 24 0.0 N12 idle\n",
      "46 25 0.0 N13 idle\n",
      "46 26 0.0 N13 idle\n",
      "46 27 0.0 N14 idle\n",
      "46 28 0.0 N14 idle\n",
      "46 29 0.0 N15 idle\n",
      "46 30 0.0 N15 idle\n",
      "46 31 0.0 N16 idle\n",
      "46 32 0.0 N16 idle\n",
      "46 33 0.0 N17 idle\n",
      "46 34 0.0 N17 idle\n",
      "46 35 0.0 N18 idle\n",
      "46 36 0.0 N18 idle\n",
      "46 37 0.0 N19 idle\n",
      "46 38 0.0 N19 idle\n",
      "46 39 0.0 N20 idle\n",
      "46 40 0.0 N20 idle\n",
      "46 41 0.0 N21 idle\n",
      "46 42 0.0 N21 idle\n",
      "46 43 0.0 N22 idle\n",
      "46 44 0.0 N22 idle\n",
      "====================\n",
      "47 0 0.2 R1 assembling\n",
      "47 1 0.0 N1 idle\n",
      "47 2 0.0 N1 idle\n",
      "47 3 0.0 N2 idle\n",
      "47 4 0.0 N2 idle\n",
      "47 5 0.0 N3 idle\n",
      "47 6 0.0 N3 idle\n",
      "47 7 0.0 N4 idle\n",
      "47 8 0.0 N4 idle\n",
      "47 9 0.0 N5 idle\n",
      "47 10 0.0 N5 idle\n",
      "47 11 0.0 N6 idle\n",
      "47 12 0.0 N6 idle\n",
      "47 13 0.0 N7 idle\n",
      "47 14 0.0 N7 idle\n",
      "47 15 0.0 N8 idle\n",
      "47 16 0.0 N8 idle\n",
      "47 17 0.0 N9 idle\n",
      "47 18 0.0 N9 idle\n",
      "47 19 0.0 N10 idle\n",
      "47 20 0.0 N10 idle\n",
      "47 21 0.0 N11 idle\n",
      "47 22 0.0 N11 idle\n",
      "47 23 0.0 N12 idle\n",
      "47 24 0.0 N12 idle\n",
      "47 25 0.0 N13 idle\n",
      "47 26 0.0 N13 idle\n",
      "47 27 0.0 N14 idle\n",
      "47 28 0.0 N14 idle\n",
      "47 29 0.0 N15 idle\n",
      "47 30 0.0 N15 idle\n",
      "47 31 0.0 N16 idle\n",
      "47 32 0.0 N16 idle\n",
      "47 33 0.0 N17 idle\n",
      "47 34 0.0 N17 idle\n",
      "47 35 0.0 N18 idle\n",
      "47 36 0.0 N18 idle\n",
      "47 37 0.0 N19 idle\n",
      "47 38 0.0 N19 idle\n",
      "47 39 0.0 N20 idle\n",
      "47 40 0.0 N20 idle\n",
      "47 41 0.0 N21 idle\n",
      "47 42 0.0 N21 idle\n",
      "47 43 0.0 N22 idle\n",
      "47 44 0.0 N22 idle\n",
      "47 45 0.0 N23 idle\n",
      "47 46 0.0 N23 idle\n",
      "====================\n",
      "48 0 0.2 R1 assembling\n",
      "48 1 0.0 N1 idle\n",
      "48 2 0.0 N1 idle\n",
      "48 3 0.0 N2 idle\n",
      "48 4 0.0 N2 idle\n",
      "48 5 0.0 N3 idle\n",
      "48 6 0.0 N3 idle\n",
      "48 7 0.0 N4 idle\n",
      "48 8 0.0 N4 idle\n",
      "48 9 0.0 N5 idle\n",
      "48 10 0.0 N5 idle\n",
      "48 11 0.0 N6 idle\n",
      "48 12 0.0 N6 idle\n",
      "48 13 0.0 N7 idle\n",
      "48 14 0.0 N7 idle\n",
      "48 15 0.0 N8 idle\n",
      "48 16 0.0 N8 idle\n",
      "48 17 0.0 N9 idle\n",
      "48 18 0.0 N9 idle\n",
      "48 19 0.0 N10 idle\n",
      "48 20 0.0 N10 idle\n",
      "48 21 0.0 N11 idle\n",
      "48 22 0.0 N11 idle\n",
      "48 23 0.0 N12 idle\n",
      "48 24 0.0 N12 idle\n",
      "48 25 0.0 N13 idle\n",
      "48 26 0.0 N13 idle\n",
      "48 27 0.0 N14 idle\n",
      "48 28 0.0 N14 idle\n",
      "48 29 0.0 N15 idle\n",
      "48 30 0.0 N15 idle\n",
      "48 31 0.0 N16 idle\n",
      "48 32 0.0 N16 idle\n",
      "48 33 0.0 N17 idle\n",
      "48 34 0.0 N17 idle\n",
      "48 35 0.0 N18 idle\n",
      "48 36 0.0 N18 idle\n",
      "48 37 0.0 N19 idle\n",
      "48 38 0.0 N19 idle\n",
      "48 39 0.0 N20 idle\n",
      "48 40 0.0 N20 idle\n",
      "48 41 0.0 N21 idle\n",
      "48 42 0.0 N21 idle\n",
      "48 43 0.0 N22 idle\n",
      "48 44 0.0 N22 idle\n",
      "48 45 0.0 N23 idle\n",
      "48 46 0.0 N23 idle\n",
      "====================\n",
      "49 0 0.2 R1 assembling\n",
      "49 1 0.0 N1 idle\n",
      "49 2 0.0 N1 idle\n",
      "49 3 0.0 N2 idle\n",
      "49 4 0.0 N2 idle\n",
      "49 5 0.0 N3 idle\n",
      "49 6 0.0 N3 idle\n",
      "49 7 0.0 N4 idle\n",
      "49 8 0.0 N4 idle\n",
      "49 9 0.0 N5 idle\n",
      "49 10 0.0 N5 idle\n",
      "49 11 0.0 N6 idle\n",
      "49 12 0.0 N6 idle\n",
      "49 13 0.0 N7 idle\n",
      "49 14 0.0 N7 idle\n",
      "49 15 0.0 N8 idle\n",
      "49 16 0.0 N8 idle\n",
      "49 17 0.0 N9 idle\n",
      "49 18 0.0 N9 idle\n",
      "49 19 0.0 N10 idle\n",
      "49 20 0.0 N10 idle\n",
      "49 21 0.0 N11 idle\n",
      "49 22 0.0 N11 idle\n",
      "49 23 0.0 N12 idle\n",
      "49 24 0.0 N12 idle\n",
      "49 25 0.0 N13 idle\n",
      "49 26 0.0 N13 idle\n",
      "49 27 0.0 N14 idle\n",
      "49 28 0.0 N14 idle\n",
      "49 29 0.0 N15 idle\n",
      "49 30 0.0 N15 idle\n",
      "49 31 0.0 N16 idle\n",
      "49 32 0.0 N16 idle\n",
      "49 33 0.0 N17 idle\n",
      "49 34 0.0 N17 idle\n",
      "49 35 0.0 N18 idle\n",
      "49 36 0.0 N18 idle\n",
      "49 37 0.0 N19 idle\n",
      "49 38 0.0 N19 idle\n",
      "49 39 0.0 N20 idle\n",
      "49 40 0.0 N20 idle\n",
      "49 41 0.0 N21 idle\n",
      "49 42 0.0 N21 idle\n",
      "49 43 0.0 N22 idle\n",
      "49 44 0.0 N22 idle\n",
      "49 45 0.0 N23 idle\n",
      "49 46 0.0 N23 idle\n",
      "49 47 0.0 N24 idle\n",
      "49 48 0.0 N24 idle\n",
      "====================\n",
      "50 0 0.2 R1 assembling\n",
      "50 1 0.0 N1 idle\n",
      "50 2 0.0 N1 idle\n",
      "50 3 0.0 N2 idle\n",
      "50 4 0.0 N2 idle\n",
      "50 5 0.0 N3 idle\n",
      "50 6 0.0 N3 idle\n",
      "50 7 0.0 N4 idle\n",
      "50 8 0.0 N4 idle\n",
      "50 9 0.0 N5 idle\n",
      "50 10 0.0 N5 idle\n",
      "50 11 0.0 N6 idle\n",
      "50 12 0.0 N6 idle\n",
      "50 13 0.0 N7 idle\n",
      "50 14 0.0 N7 idle\n",
      "50 15 0.0 N8 idle\n",
      "50 16 0.0 N8 idle\n",
      "50 17 0.0 N9 idle\n",
      "50 18 0.0 N9 idle\n",
      "50 19 0.0 N10 idle\n",
      "50 20 0.0 N10 idle\n",
      "50 21 0.0 N11 idle\n",
      "50 22 0.0 N11 idle\n",
      "50 23 0.0 N12 idle\n",
      "50 24 0.0 N12 idle\n",
      "50 25 0.0 N13 idle\n",
      "50 26 0.0 N13 idle\n",
      "50 27 0.0 N14 idle\n",
      "50 28 0.0 N14 idle\n",
      "50 29 0.0 N15 idle\n",
      "50 30 0.0 N15 idle\n",
      "50 31 0.0 N16 idle\n",
      "50 32 0.0 N16 idle\n",
      "50 33 0.0 N17 idle\n",
      "50 34 0.0 N17 idle\n",
      "50 35 0.0 N18 idle\n",
      "50 36 0.0 N18 idle\n",
      "50 37 0.0 N19 idle\n",
      "50 38 0.0 N19 idle\n",
      "50 39 0.0 N20 idle\n",
      "50 40 0.0 N20 idle\n",
      "50 41 0.0 N21 idle\n",
      "50 42 0.0 N21 idle\n",
      "50 43 0.0 N22 idle\n",
      "50 44 0.0 N22 idle\n",
      "50 45 0.0 N23 idle\n",
      "50 46 0.0 N23 idle\n",
      "50 47 0.0 N24 idle\n",
      "50 48 0.0 N24 idle\n",
      "====================\n",
      "51 0 0.2 R1 assembling\n",
      "51 1 0.0 N1 idle\n",
      "51 2 0.0 N1 idle\n",
      "51 3 0.0 N2 idle\n",
      "51 4 0.0 N2 idle\n",
      "51 5 0.0 N3 idle\n",
      "51 6 0.0 N3 idle\n",
      "51 7 0.0 N4 idle\n",
      "51 8 0.0 N4 idle\n",
      "51 9 0.0 N5 idle\n",
      "51 10 0.0 N5 idle\n",
      "51 11 0.0 N6 idle\n",
      "51 12 0.0 N6 idle\n",
      "51 13 0.0 N7 idle\n",
      "51 14 0.0 N7 idle\n",
      "51 15 0.0 N8 idle\n",
      "51 16 0.0 N8 idle\n",
      "51 17 0.0 N9 idle\n",
      "51 18 0.0 N9 idle\n",
      "51 19 0.0 N10 idle\n",
      "51 20 0.0 N10 idle\n",
      "51 21 0.0 N11 idle\n",
      "51 22 0.0 N11 idle\n",
      "51 23 0.0 N12 idle\n",
      "51 24 0.0 N12 idle\n",
      "51 25 0.0 N13 idle\n",
      "51 26 0.0 N13 idle\n",
      "51 27 0.0 N14 idle\n",
      "51 28 0.0 N14 idle\n",
      "51 29 0.0 N15 idle\n",
      "51 30 0.0 N15 idle\n",
      "51 31 0.0 N16 idle\n",
      "51 32 0.0 N16 idle\n",
      "51 33 0.0 N17 idle\n",
      "51 34 0.0 N17 idle\n",
      "51 35 0.0 N18 idle\n",
      "51 36 0.0 N18 idle\n",
      "51 37 0.0 N19 idle\n",
      "51 38 0.0 N19 idle\n",
      "51 39 0.0 N20 idle\n",
      "51 40 0.0 N20 idle\n",
      "51 41 0.0 N21 idle\n",
      "51 42 0.0 N21 idle\n",
      "51 43 0.0 N22 idle\n",
      "51 44 0.0 N22 idle\n",
      "51 45 0.0 N23 idle\n",
      "51 46 0.0 N23 idle\n",
      "51 47 0.0 N24 idle\n",
      "51 48 0.0 N24 idle\n",
      "51 49 0.0 N25 idle\n",
      "51 50 0.0 N25 idle\n",
      "====================\n",
      "52 0 0.2 R1 assembling\n",
      "52 1 0.0 N1 idle\n",
      "52 2 0.0 N1 idle\n",
      "52 3 0.0 N2 idle\n",
      "52 4 0.0 N2 idle\n",
      "52 5 0.0 N3 idle\n",
      "52 6 0.0 N3 idle\n",
      "52 7 0.0 N4 idle\n",
      "52 8 0.0 N4 idle\n",
      "52 9 0.0 N5 idle\n",
      "52 10 0.0 N5 idle\n",
      "52 11 0.0 N6 idle\n",
      "52 12 0.0 N6 idle\n",
      "52 13 0.0 N7 idle\n",
      "52 14 0.0 N7 idle\n",
      "52 15 0.0 N8 idle\n",
      "52 16 0.0 N8 idle\n",
      "52 17 0.0 N9 idle\n",
      "52 18 0.0 N9 idle\n",
      "52 19 0.0 N10 idle\n",
      "52 20 0.0 N10 idle\n",
      "52 21 0.0 N11 idle\n",
      "52 22 0.0 N11 idle\n",
      "52 23 0.0 N12 idle\n",
      "52 24 0.0 N12 idle\n",
      "52 25 0.0 N13 idle\n",
      "52 26 0.0 N13 idle\n",
      "52 27 0.0 N14 idle\n",
      "52 28 0.0 N14 idle\n",
      "52 29 0.0 N15 idle\n",
      "52 30 0.0 N15 idle\n",
      "52 31 0.0 N16 idle\n",
      "52 32 0.0 N16 idle\n",
      "52 33 0.0 N17 idle\n",
      "52 34 0.0 N17 idle\n",
      "52 35 0.0 N18 idle\n",
      "52 36 0.0 N18 idle\n",
      "52 37 0.0 N19 idle\n",
      "52 38 0.0 N19 idle\n",
      "52 39 0.0 N20 idle\n",
      "52 40 0.0 N20 idle\n",
      "52 41 0.0 N21 idle\n",
      "52 42 0.0 N21 idle\n",
      "52 43 0.0 N22 idle\n",
      "52 44 0.0 N22 idle\n",
      "52 45 0.0 N23 idle\n",
      "52 46 0.0 N23 idle\n",
      "52 47 0.0 N24 idle\n",
      "52 48 0.0 N24 idle\n",
      "52 49 0.0 N25 idle\n",
      "52 50 0.0 N25 idle\n",
      "====================\n",
      "53 0 0.2 R1 assembling\n",
      "53 1 0.0 N1 idle\n",
      "53 2 0.0 N1 idle\n",
      "53 3 0.0 N2 idle\n",
      "53 4 0.0 N2 idle\n",
      "53 5 0.0 N3 idle\n",
      "53 6 0.0 N3 idle\n",
      "53 7 0.0 N4 idle\n",
      "53 8 0.0 N4 idle\n",
      "53 9 0.0 N5 idle\n",
      "53 10 0.0 N5 idle\n",
      "53 11 0.0 N6 idle\n",
      "53 12 0.0 N6 idle\n",
      "53 13 0.0 N7 idle\n",
      "53 14 0.0 N7 idle\n",
      "53 15 0.0 N8 idle\n",
      "53 16 0.0 N8 idle\n",
      "53 17 0.0 N9 idle\n",
      "53 18 0.0 N9 idle\n",
      "53 19 0.0 N10 idle\n",
      "53 20 0.0 N10 idle\n",
      "53 21 0.0 N11 idle\n",
      "53 22 0.0 N11 idle\n",
      "53 23 0.0 N12 idle\n",
      "53 24 0.0 N12 idle\n",
      "53 25 0.0 N13 idle\n",
      "53 26 0.0 N13 idle\n",
      "53 27 0.0 N14 idle\n",
      "53 28 0.0 N14 idle\n",
      "53 29 0.0 N15 idle\n",
      "53 30 0.0 N15 idle\n",
      "53 31 0.0 N16 idle\n",
      "53 32 0.0 N16 idle\n",
      "53 33 0.0 N17 idle\n",
      "53 34 0.0 N17 idle\n",
      "53 35 0.0 N18 idle\n",
      "53 36 0.0 N18 idle\n",
      "53 37 0.0 N19 idle\n",
      "53 38 0.0 N19 idle\n",
      "53 39 0.0 N20 idle\n",
      "53 40 0.0 N20 idle\n",
      "53 41 0.0 N21 idle\n",
      "53 42 0.0 N21 idle\n",
      "53 43 0.0 N22 idle\n",
      "53 44 0.0 N22 idle\n",
      "53 45 0.0 N23 idle\n",
      "53 46 0.0 N23 idle\n",
      "53 47 0.0 N24 idle\n",
      "53 48 0.0 N24 idle\n",
      "53 49 0.0 N25 idle\n",
      "53 50 0.0 N25 idle\n",
      "53 51 0.0 N26 idle\n",
      "53 52 0.0 N26 idle\n",
      "====================\n",
      "54 0 0.2 R1 assembling\n",
      "54 1 0.0 N1 idle\n",
      "54 2 0.0 N1 idle\n",
      "54 3 0.0 N2 idle\n",
      "54 4 0.0 N2 idle\n",
      "54 5 0.0 N3 idle\n",
      "54 6 0.0 N3 idle\n",
      "54 7 0.0 N4 idle\n",
      "54 8 0.0 N4 idle\n",
      "54 9 0.0 N5 idle\n",
      "54 10 0.0 N5 idle\n",
      "54 11 0.0 N6 idle\n",
      "54 12 0.0 N6 idle\n",
      "54 13 0.0 N7 idle\n",
      "54 14 0.0 N7 idle\n",
      "54 15 0.0 N8 idle\n",
      "54 16 0.0 N8 idle\n",
      "54 17 0.0 N9 idle\n",
      "54 18 0.0 N9 idle\n",
      "54 19 0.0 N10 idle\n",
      "54 20 0.0 N10 idle\n",
      "54 21 0.0 N11 idle\n",
      "54 22 0.0 N11 idle\n",
      "54 23 0.0 N12 idle\n",
      "54 24 0.0 N12 idle\n",
      "54 25 0.0 N13 idle\n",
      "54 26 0.0 N13 idle\n",
      "54 27 0.0 N14 idle\n",
      "54 28 0.0 N14 idle\n",
      "54 29 0.0 N15 idle\n",
      "54 30 0.0 N15 idle\n",
      "54 31 0.0 N16 idle\n",
      "54 32 0.0 N16 idle\n",
      "54 33 0.0 N17 idle\n",
      "54 34 0.0 N17 idle\n",
      "54 35 0.0 N18 idle\n",
      "54 36 0.0 N18 idle\n",
      "54 37 0.0 N19 idle\n",
      "54 38 0.0 N19 idle\n",
      "54 39 0.0 N20 idle\n",
      "54 40 0.0 N20 idle\n",
      "54 41 0.0 N21 idle\n",
      "54 42 0.0 N21 idle\n",
      "54 43 0.0 N22 idle\n",
      "54 44 0.0 N22 idle\n",
      "54 45 0.0 N23 idle\n",
      "54 46 0.0 N23 idle\n",
      "54 47 0.0 N24 idle\n",
      "54 48 0.0 N24 idle\n",
      "54 49 0.0 N25 idle\n",
      "54 50 0.0 N25 idle\n",
      "54 51 0.0 N26 idle\n",
      "54 52 0.0 N26 idle\n",
      "====================\n",
      "55 0 0.2 R1 assembling\n",
      "55 1 0.0 N1 idle\n",
      "55 2 0.0 N1 idle\n",
      "55 3 0.0 N2 idle\n",
      "55 4 0.0 N2 idle\n",
      "55 5 0.0 N3 idle\n",
      "55 6 0.0 N3 idle\n",
      "55 7 0.0 N4 idle\n",
      "55 8 0.0 N4 idle\n",
      "55 9 0.0 N5 idle\n",
      "55 10 0.0 N5 idle\n",
      "55 11 0.0 N6 idle\n",
      "55 12 0.0 N6 idle\n",
      "55 13 0.0 N7 idle\n",
      "55 14 0.0 N7 idle\n",
      "55 15 0.0 N8 idle\n",
      "55 16 0.0 N8 idle\n",
      "55 17 0.0 N9 idle\n",
      "55 18 0.0 N9 idle\n",
      "55 19 0.0 N10 idle\n",
      "55 20 0.0 N10 idle\n",
      "55 21 0.0 N11 idle\n",
      "55 22 0.0 N11 idle\n",
      "55 23 0.0 N12 idle\n",
      "55 24 0.0 N12 idle\n",
      "55 25 0.0 N13 idle\n",
      "55 26 0.0 N13 idle\n",
      "55 27 0.0 N14 idle\n",
      "55 28 0.0 N14 idle\n",
      "55 29 0.0 N15 idle\n",
      "55 30 0.0 N15 idle\n",
      "55 31 0.0 N16 idle\n",
      "55 32 0.0 N16 idle\n",
      "55 33 0.0 N17 idle\n",
      "55 34 0.0 N17 idle\n",
      "55 35 0.0 N18 idle\n",
      "55 36 0.0 N18 idle\n",
      "55 37 0.0 N19 idle\n",
      "55 38 0.0 N19 idle\n",
      "55 39 0.0 N20 idle\n",
      "55 40 0.0 N20 idle\n",
      "55 41 0.0 N21 idle\n",
      "55 42 0.0 N21 idle\n",
      "55 43 0.0 N22 idle\n",
      "55 44 0.0 N22 idle\n",
      "55 45 0.0 N23 idle\n",
      "55 46 0.0 N23 idle\n",
      "55 47 0.0 N24 idle\n",
      "55 48 0.0 N24 idle\n",
      "55 49 0.0 N25 idle\n",
      "55 50 0.0 N25 idle\n",
      "55 51 0.0 N26 idle\n",
      "55 52 0.0 N26 idle\n",
      "55 53 0.0 N27 idle\n",
      "55 54 0.0 N27 idle\n",
      "====================\n",
      "56 0 0.2 R1 assembling\n",
      "56 1 0.0 N1 idle\n",
      "56 2 0.0 N1 idle\n",
      "56 3 0.0 N2 idle\n",
      "56 4 0.0 N2 idle\n",
      "56 5 0.0 N3 idle\n",
      "56 6 0.0 N3 idle\n",
      "56 7 0.0 N4 idle\n",
      "56 8 0.0 N4 idle\n",
      "56 9 0.0 N5 idle\n",
      "56 10 0.0 N5 idle\n",
      "56 11 0.0 N6 idle\n",
      "56 12 0.0 N6 idle\n",
      "56 13 0.0 N7 idle\n",
      "56 14 0.0 N7 idle\n",
      "56 15 0.0 N8 idle\n",
      "56 16 0.0 N8 idle\n",
      "56 17 0.0 N9 idle\n",
      "56 18 0.0 N9 idle\n",
      "56 19 0.0 N10 idle\n",
      "56 20 0.0 N10 idle\n",
      "56 21 0.0 N11 idle\n",
      "56 22 0.0 N11 idle\n",
      "56 23 0.0 N12 idle\n",
      "56 24 0.0 N12 idle\n",
      "56 25 0.0 N13 idle\n",
      "56 26 0.0 N13 idle\n",
      "56 27 0.0 N14 idle\n",
      "56 28 0.0 N14 idle\n",
      "56 29 0.0 N15 idle\n",
      "56 30 0.0 N15 idle\n",
      "56 31 0.0 N16 idle\n",
      "56 32 0.0 N16 idle\n",
      "56 33 0.0 N17 idle\n",
      "56 34 0.0 N17 idle\n",
      "56 35 0.0 N18 idle\n",
      "56 36 0.0 N18 idle\n",
      "56 37 0.0 N19 idle\n",
      "56 38 0.0 N19 idle\n",
      "56 39 0.0 N20 idle\n",
      "56 40 0.0 N20 idle\n",
      "56 41 0.0 N21 idle\n",
      "56 42 0.0 N21 idle\n",
      "56 43 0.0 N22 idle\n",
      "56 44 0.0 N22 idle\n",
      "56 45 0.0 N23 idle\n",
      "56 46 0.0 N23 idle\n",
      "56 47 0.0 N24 idle\n",
      "56 48 0.0 N24 idle\n",
      "56 49 0.0 N25 idle\n",
      "56 50 0.0 N25 idle\n",
      "56 51 0.0 N26 idle\n",
      "56 52 0.0 N26 idle\n",
      "56 53 0.0 N27 idle\n",
      "56 54 0.0 N27 idle\n",
      "====================\n",
      "57 0 0.2 R1 assembling\n",
      "57 1 0.0 N1 idle\n",
      "57 2 0.0 N1 idle\n",
      "57 3 0.0 N2 idle\n",
      "57 4 0.0 N2 idle\n",
      "57 5 0.0 N3 idle\n",
      "57 6 0.0 N3 idle\n",
      "57 7 0.0 N4 idle\n",
      "57 8 0.0 N4 idle\n",
      "57 9 0.0 N5 idle\n",
      "57 10 0.0 N5 idle\n",
      "57 11 0.0 N6 idle\n",
      "57 12 0.0 N6 idle\n",
      "57 13 0.0 N7 idle\n",
      "57 14 0.0 N7 idle\n",
      "57 15 0.0 N8 idle\n",
      "57 16 0.0 N8 idle\n",
      "57 17 0.0 N9 idle\n",
      "57 18 0.0 N9 idle\n",
      "57 19 0.0 N10 idle\n",
      "57 20 0.0 N10 idle\n",
      "57 21 0.0 N11 idle\n",
      "57 22 0.0 N11 idle\n",
      "57 23 0.0 N12 idle\n",
      "57 24 0.0 N12 idle\n",
      "57 25 0.0 N13 idle\n",
      "57 26 0.0 N13 idle\n",
      "57 27 0.0 N14 idle\n",
      "57 28 0.0 N14 idle\n",
      "57 29 0.0 N15 idle\n",
      "57 30 0.0 N15 idle\n",
      "57 31 0.0 N16 idle\n",
      "57 32 0.0 N16 idle\n",
      "57 33 0.0 N17 idle\n",
      "57 34 0.0 N17 idle\n",
      "57 35 0.0 N18 idle\n",
      "57 36 0.0 N18 idle\n",
      "57 37 0.0 N19 idle\n",
      "57 38 0.0 N19 idle\n",
      "57 39 0.0 N20 idle\n",
      "57 40 0.0 N20 idle\n",
      "57 41 0.0 N21 idle\n",
      "57 42 0.0 N21 idle\n",
      "57 43 0.0 N22 idle\n",
      "57 44 0.0 N22 idle\n",
      "57 45 0.0 N23 idle\n",
      "57 46 0.0 N23 idle\n",
      "57 47 0.0 N24 idle\n",
      "57 48 0.0 N24 idle\n",
      "57 49 0.0 N25 idle\n",
      "57 50 0.0 N25 idle\n",
      "57 51 0.0 N26 idle\n",
      "57 52 0.0 N26 idle\n",
      "57 53 0.0 N27 idle\n",
      "57 54 0.0 N27 idle\n",
      "57 55 0.0 N28 idle\n",
      "57 56 0.0 N28 idle\n",
      "====================\n",
      "58 0 0.2 R1 assembling\n",
      "58 1 0.0 N1 idle\n",
      "58 2 0.0 N1 idle\n",
      "58 3 0.0 N2 idle\n",
      "58 4 0.0 N2 idle\n",
      "58 5 0.0 N3 idle\n",
      "58 6 0.0 N3 idle\n",
      "58 7 0.0 N4 idle\n",
      "58 8 0.0 N4 idle\n",
      "58 9 0.0 N5 idle\n",
      "58 10 0.0 N5 idle\n",
      "58 11 0.0 N6 idle\n",
      "58 12 0.0 N6 idle\n",
      "58 13 0.0 N7 idle\n",
      "58 14 0.0 N7 idle\n",
      "58 15 0.0 N8 idle\n",
      "58 16 0.0 N8 idle\n",
      "58 17 0.0 N9 idle\n",
      "58 18 0.0 N9 idle\n",
      "58 19 0.0 N10 idle\n",
      "58 20 0.0 N10 idle\n",
      "58 21 0.0 N11 idle\n",
      "58 22 0.0 N11 idle\n",
      "58 23 0.0 N12 idle\n",
      "58 24 0.0 N12 idle\n",
      "58 25 0.0 N13 idle\n",
      "58 26 0.0 N13 idle\n",
      "58 27 0.0 N14 idle\n",
      "58 28 0.0 N14 idle\n",
      "58 29 0.0 N15 idle\n",
      "58 30 0.0 N15 idle\n",
      "58 31 0.0 N16 idle\n",
      "58 32 0.0 N16 idle\n",
      "58 33 0.0 N17 idle\n",
      "58 34 0.0 N17 idle\n",
      "58 35 0.0 N18 idle\n",
      "58 36 0.0 N18 idle\n",
      "58 37 0.0 N19 idle\n",
      "58 38 0.0 N19 idle\n",
      "58 39 0.0 N20 idle\n",
      "58 40 0.0 N20 idle\n",
      "58 41 0.0 N21 idle\n",
      "58 42 0.0 N21 idle\n",
      "58 43 0.0 N22 idle\n",
      "58 44 0.0 N22 idle\n",
      "58 45 0.0 N23 idle\n",
      "58 46 0.0 N23 idle\n",
      "58 47 0.0 N24 idle\n",
      "58 48 0.0 N24 idle\n",
      "58 49 0.0 N25 idle\n",
      "58 50 0.0 N25 idle\n",
      "58 51 0.0 N26 idle\n",
      "58 52 0.0 N26 idle\n",
      "58 53 0.0 N27 idle\n",
      "58 54 0.0 N27 idle\n",
      "58 55 0.0 N28 idle\n",
      "58 56 0.0 N28 idle\n",
      "====================\n",
      "59 0 0.2 R1 assembling\n",
      "59 1 0.0 N1 idle\n",
      "59 2 0.0 N1 idle\n",
      "59 3 0.0 N2 idle\n",
      "59 4 0.0 N2 idle\n",
      "59 5 0.0 N3 idle\n",
      "59 6 0.0 N3 idle\n",
      "59 7 0.0 N4 idle\n",
      "59 8 0.0 N4 idle\n",
      "59 9 0.0 N5 idle\n",
      "59 10 0.0 N5 idle\n",
      "59 11 0.0 N6 idle\n",
      "59 12 0.0 N6 idle\n",
      "59 13 0.0 N7 idle\n",
      "59 14 0.0 N7 idle\n",
      "59 15 0.0 N8 idle\n",
      "59 16 0.0 N8 idle\n",
      "59 17 0.0 N9 idle\n",
      "59 18 0.0 N9 idle\n",
      "59 19 0.0 N10 idle\n",
      "59 20 0.0 N10 idle\n",
      "59 21 0.0 N11 idle\n",
      "59 22 0.0 N11 idle\n",
      "59 23 0.0 N12 idle\n",
      "59 24 0.0 N12 idle\n",
      "59 25 0.0 N13 idle\n",
      "59 26 0.0 N13 idle\n",
      "59 27 0.0 N14 idle\n",
      "59 28 0.0 N14 idle\n",
      "59 29 0.0 N15 idle\n",
      "59 30 0.0 N15 idle\n",
      "59 31 0.0 N16 idle\n",
      "59 32 0.0 N16 idle\n",
      "59 33 0.0 N17 idle\n",
      "59 34 0.0 N17 idle\n",
      "59 35 0.0 N18 idle\n",
      "59 36 0.0 N18 idle\n",
      "59 37 0.0 N19 idle\n",
      "59 38 0.0 N19 idle\n",
      "59 39 0.0 N20 idle\n",
      "59 40 0.0 N20 idle\n",
      "59 41 0.0 N21 idle\n",
      "59 42 0.0 N21 idle\n",
      "59 43 0.0 N22 idle\n",
      "59 44 0.0 N22 idle\n",
      "59 45 0.0 N23 idle\n",
      "59 46 0.0 N23 idle\n",
      "59 47 0.0 N24 idle\n",
      "59 48 0.0 N24 idle\n",
      "59 49 0.0 N25 idle\n",
      "59 50 0.0 N25 idle\n",
      "59 51 0.0 N26 idle\n",
      "59 52 0.0 N26 idle\n",
      "59 53 0.0 N27 idle\n",
      "59 54 0.0 N27 idle\n",
      "59 55 0.0 N28 idle\n",
      "59 56 0.0 N28 idle\n",
      "59 57 0.0 N29 idle\n",
      "59 58 0.0 N29 idle\n",
      "====================\n",
      "60 0 0.2 R1 assembling\n",
      "60 1 0.0 N1 idle\n",
      "60 2 0.0 N1 idle\n",
      "60 3 0.0 N2 idle\n",
      "60 4 0.0 N2 idle\n",
      "60 5 0.0 N3 idle\n",
      "60 6 0.0 N3 idle\n",
      "60 7 0.0 N4 idle\n",
      "60 8 0.0 N4 idle\n",
      "60 9 0.0 N5 idle\n",
      "60 10 0.0 N5 idle\n",
      "60 11 0.0 N6 idle\n",
      "60 12 0.0 N6 idle\n",
      "60 13 0.0 N7 idle\n",
      "60 14 0.0 N7 idle\n",
      "60 15 0.0 N8 idle\n",
      "60 16 0.0 N8 idle\n",
      "60 17 0.0 N9 idle\n",
      "60 18 0.0 N9 idle\n",
      "60 19 0.0 N10 idle\n",
      "60 20 0.0 N10 idle\n",
      "60 21 0.0 N11 idle\n",
      "60 22 0.0 N11 idle\n",
      "60 23 0.0 N12 idle\n",
      "60 24 0.0 N12 idle\n",
      "60 25 0.0 N13 idle\n",
      "60 26 0.0 N13 idle\n",
      "60 27 0.0 N14 idle\n",
      "60 28 0.0 N14 idle\n",
      "60 29 0.0 N15 idle\n",
      "60 30 0.0 N15 idle\n",
      "60 31 0.0 N16 idle\n",
      "60 32 0.0 N16 idle\n",
      "60 33 0.0 N17 idle\n",
      "60 34 0.0 N17 idle\n",
      "60 35 0.0 N18 idle\n",
      "60 36 0.0 N18 idle\n",
      "60 37 0.0 N19 idle\n",
      "60 38 0.0 N19 idle\n",
      "60 39 0.0 N20 idle\n",
      "60 40 0.0 N20 idle\n",
      "60 41 0.0 N21 idle\n",
      "60 42 0.0 N21 idle\n",
      "60 43 0.0 N22 idle\n",
      "60 44 0.0 N22 idle\n",
      "60 45 0.0 N23 idle\n",
      "60 46 0.0 N23 idle\n",
      "60 47 0.0 N24 idle\n",
      "60 48 0.0 N24 idle\n",
      "60 49 0.0 N25 idle\n",
      "60 50 0.0 N25 idle\n",
      "60 51 0.0 N26 idle\n",
      "60 52 0.0 N26 idle\n",
      "60 53 0.0 N27 idle\n",
      "60 54 0.0 N27 idle\n",
      "60 55 0.0 N28 idle\n",
      "60 56 0.0 N28 idle\n",
      "60 57 0.0 N29 idle\n",
      "60 58 0.0 N29 idle\n",
      "====================\n",
      "61 0 0.2 R1 assembling\n",
      "61 1 0.0 N1 idle\n",
      "61 2 0.0 N1 idle\n",
      "61 3 0.0 N2 idle\n",
      "61 4 0.0 N2 idle\n",
      "61 5 0.0 N3 idle\n",
      "61 6 0.0 N3 idle\n",
      "61 7 0.0 N4 idle\n",
      "61 8 0.0 N4 idle\n",
      "61 9 0.0 N5 idle\n",
      "61 10 0.0 N5 idle\n",
      "61 11 0.0 N6 idle\n",
      "61 12 0.0 N6 idle\n",
      "61 13 0.0 N7 idle\n",
      "61 14 0.0 N7 idle\n",
      "61 15 0.0 N8 idle\n",
      "61 16 0.0 N8 idle\n",
      "61 17 0.0 N9 idle\n",
      "61 18 0.0 N9 idle\n",
      "61 19 0.0 N10 idle\n",
      "61 20 0.0 N10 idle\n",
      "61 21 0.0 N11 idle\n",
      "61 22 0.0 N11 idle\n",
      "61 23 0.0 N12 idle\n",
      "61 24 0.0 N12 idle\n",
      "61 25 0.0 N13 idle\n",
      "61 26 0.0 N13 idle\n",
      "61 27 0.0 N14 idle\n",
      "61 28 0.0 N14 idle\n",
      "61 29 0.0 N15 idle\n",
      "61 30 0.0 N15 idle\n",
      "61 31 0.0 N16 idle\n",
      "61 32 0.0 N16 idle\n",
      "61 33 0.0 N17 idle\n",
      "61 34 0.0 N17 idle\n",
      "61 35 0.0 N18 idle\n",
      "61 36 0.0 N18 idle\n",
      "61 37 0.0 N19 idle\n",
      "61 38 0.0 N19 idle\n",
      "61 39 0.0 N20 idle\n",
      "61 40 0.0 N20 idle\n",
      "61 41 0.0 N21 idle\n",
      "61 42 0.0 N21 idle\n",
      "61 43 0.0 N22 idle\n",
      "61 44 0.0 N22 idle\n",
      "61 45 0.0 N23 idle\n",
      "61 46 0.0 N23 idle\n",
      "61 47 0.0 N24 idle\n",
      "61 48 0.0 N24 idle\n",
      "61 49 0.0 N25 idle\n",
      "61 50 0.0 N25 idle\n",
      "61 51 0.0 N26 idle\n",
      "61 52 0.0 N26 idle\n",
      "61 53 0.0 N27 idle\n",
      "61 54 0.0 N27 idle\n",
      "61 55 0.0 N28 idle\n",
      "61 56 0.0 N28 idle\n",
      "61 57 0.0 N29 idle\n",
      "61 58 0.0 N29 idle\n",
      "61 59 0.0 N30 idle\n",
      "61 60 0.0 N30 idle\n",
      "====================\n",
      "62 0 0.2 R1 assembling\n",
      "62 1 0.0 N1 idle\n",
      "62 2 0.0 N1 idle\n",
      "62 3 0.0 N2 idle\n",
      "62 4 0.0 N2 idle\n",
      "62 5 0.0 N3 idle\n",
      "62 6 0.0 N3 idle\n",
      "62 7 0.0 N4 idle\n",
      "62 8 0.0 N4 idle\n",
      "62 9 0.0 N5 idle\n",
      "62 10 0.0 N5 idle\n",
      "62 11 0.0 N6 idle\n",
      "62 12 0.0 N6 idle\n",
      "62 13 0.0 N7 idle\n",
      "62 14 0.0 N7 idle\n",
      "62 15 0.0 N8 idle\n",
      "62 16 0.0 N8 idle\n",
      "62 17 0.0 N9 idle\n",
      "62 18 0.0 N9 idle\n",
      "62 19 0.0 N10 idle\n",
      "62 20 0.0 N10 idle\n",
      "62 21 0.0 N11 idle\n",
      "62 22 0.0 N11 idle\n",
      "62 23 0.0 N12 idle\n",
      "62 24 0.0 N12 idle\n",
      "62 25 0.0 N13 idle\n",
      "62 26 0.0 N13 idle\n",
      "62 27 0.0 N14 idle\n",
      "62 28 0.0 N14 idle\n",
      "62 29 0.0 N15 idle\n",
      "62 30 0.0 N15 idle\n",
      "62 31 0.0 N16 idle\n",
      "62 32 0.0 N16 idle\n",
      "62 33 0.0 N17 idle\n",
      "62 34 0.0 N17 idle\n",
      "62 35 0.0 N18 idle\n",
      "62 36 0.0 N18 idle\n",
      "62 37 0.0 N19 idle\n",
      "62 38 0.0 N19 idle\n",
      "62 39 0.0 N20 idle\n",
      "62 40 0.0 N20 idle\n",
      "62 41 0.0 N21 idle\n",
      "62 42 0.0 N21 idle\n",
      "62 43 0.0 N22 idle\n",
      "62 44 0.0 N22 idle\n",
      "62 45 0.0 N23 idle\n",
      "62 46 0.0 N23 idle\n",
      "62 47 0.0 N24 idle\n",
      "62 48 0.0 N24 idle\n",
      "62 49 0.0 N25 idle\n",
      "62 50 0.0 N25 idle\n",
      "62 51 0.0 N26 idle\n",
      "62 52 0.0 N26 idle\n",
      "62 53 0.0 N27 idle\n",
      "62 54 0.0 N27 idle\n",
      "62 55 0.0 N28 idle\n",
      "62 56 0.0 N28 idle\n",
      "62 57 0.0 N29 idle\n",
      "62 58 0.0 N29 idle\n",
      "62 59 0.0 N30 idle\n",
      "62 60 0.0 N30 idle\n",
      "====================\n",
      "63 0 0.2 R1 assembling\n",
      "63 1 0.0 N1 idle\n",
      "63 2 0.0 N1 idle\n",
      "63 3 0.0 N2 idle\n",
      "63 4 0.0 N2 idle\n",
      "63 5 0.0 N3 idle\n",
      "63 6 0.0 N3 idle\n",
      "63 7 0.0 N4 idle\n",
      "63 8 0.0 N4 idle\n",
      "63 9 0.0 N5 idle\n",
      "63 10 0.0 N5 idle\n",
      "63 11 0.0 N6 idle\n",
      "63 12 0.0 N6 idle\n",
      "63 13 0.0 N7 idle\n",
      "63 14 0.0 N7 idle\n",
      "63 15 0.0 N8 idle\n",
      "63 16 0.0 N8 idle\n",
      "63 17 0.0 N9 idle\n",
      "63 18 0.0 N9 idle\n",
      "63 19 0.0 N10 idle\n",
      "63 20 0.0 N10 idle\n",
      "63 21 0.0 N11 idle\n",
      "63 22 0.0 N11 idle\n",
      "63 23 0.0 N12 idle\n",
      "63 24 0.0 N12 idle\n",
      "63 25 0.0 N13 idle\n",
      "63 26 0.0 N13 idle\n",
      "63 27 0.0 N14 idle\n",
      "63 28 0.0 N14 idle\n",
      "63 29 0.0 N15 idle\n",
      "63 30 0.0 N15 idle\n",
      "63 31 0.0 N16 idle\n",
      "63 32 0.0 N16 idle\n",
      "63 33 0.0 N17 idle\n",
      "63 34 0.0 N17 idle\n",
      "63 35 0.0 N18 idle\n",
      "63 36 0.0 N18 idle\n",
      "63 37 0.0 N19 idle\n",
      "63 38 0.0 N19 idle\n",
      "63 39 0.0 N20 idle\n",
      "63 40 0.0 N20 idle\n",
      "63 41 0.0 N21 idle\n",
      "63 42 0.0 N21 idle\n",
      "63 43 0.0 N22 idle\n",
      "63 44 0.0 N22 idle\n",
      "63 45 0.0 N23 idle\n",
      "63 46 0.0 N23 idle\n",
      "63 47 0.0 N24 idle\n",
      "63 48 0.0 N24 idle\n",
      "63 49 0.0 N25 idle\n",
      "63 50 0.0 N25 idle\n",
      "63 51 0.0 N26 idle\n",
      "63 52 0.0 N26 idle\n",
      "63 53 0.0 N27 idle\n",
      "63 54 0.0 N27 idle\n",
      "63 55 0.0 N28 idle\n",
      "63 56 0.0 N28 idle\n",
      "63 57 0.0 N29 idle\n",
      "63 58 0.0 N29 idle\n",
      "63 59 0.0 N30 idle\n",
      "63 60 0.0 N30 idle\n",
      "63 61 0.0 N31 idle\n",
      "63 62 0.0 N31 idle\n",
      "====================\n",
      "64 0 0.2 R1 assembling\n",
      "64 1 0.0 N1 idle\n",
      "64 2 0.0 N1 idle\n",
      "64 3 0.0 N2 idle\n",
      "64 4 0.0 N2 idle\n",
      "64 5 0.0 N3 idle\n",
      "64 6 0.0 N3 idle\n",
      "64 7 0.0 N4 idle\n",
      "64 8 0.0 N4 idle\n",
      "64 9 0.0 N5 idle\n",
      "64 10 0.0 N5 idle\n",
      "64 11 0.0 N6 idle\n",
      "64 12 0.0 N6 idle\n",
      "64 13 0.0 N7 idle\n",
      "64 14 0.0 N7 idle\n",
      "64 15 0.0 N8 idle\n",
      "64 16 0.0 N8 idle\n",
      "64 17 0.0 N9 idle\n",
      "64 18 0.0 N9 idle\n",
      "64 19 0.0 N10 idle\n",
      "64 20 0.0 N10 idle\n",
      "64 21 0.0 N11 idle\n",
      "64 22 0.0 N11 idle\n",
      "64 23 0.0 N12 idle\n",
      "64 24 0.0 N12 idle\n",
      "64 25 0.0 N13 idle\n",
      "64 26 0.0 N13 idle\n",
      "64 27 0.0 N14 idle\n",
      "64 28 0.0 N14 idle\n",
      "64 29 0.0 N15 idle\n",
      "64 30 0.0 N15 idle\n",
      "64 31 0.0 N16 idle\n",
      "64 32 0.0 N16 idle\n",
      "64 33 0.0 N17 idle\n",
      "64 34 0.0 N17 idle\n",
      "64 35 0.0 N18 idle\n",
      "64 36 0.0 N18 idle\n",
      "64 37 0.0 N19 idle\n",
      "64 38 0.0 N19 idle\n",
      "64 39 0.0 N20 idle\n",
      "64 40 0.0 N20 idle\n",
      "64 41 0.0 N21 idle\n",
      "64 42 0.0 N21 idle\n",
      "64 43 0.0 N22 idle\n",
      "64 44 0.0 N22 idle\n",
      "64 45 0.0 N23 idle\n",
      "64 46 0.0 N23 idle\n",
      "64 47 0.0 N24 idle\n",
      "64 48 0.0 N24 idle\n",
      "64 49 0.0 N25 idle\n",
      "64 50 0.0 N25 idle\n",
      "64 51 0.0 N26 idle\n",
      "64 52 0.0 N26 idle\n",
      "64 53 0.0 N27 idle\n",
      "64 54 0.0 N27 idle\n",
      "64 55 0.0 N28 idle\n",
      "64 56 0.0 N28 idle\n",
      "64 57 0.0 N29 idle\n",
      "64 58 0.0 N29 idle\n",
      "64 59 0.0 N30 idle\n",
      "64 60 0.0 N30 idle\n",
      "64 61 0.0 N31 idle\n",
      "64 62 0.0 N31 idle\n",
      "====================\n",
      "65 0 0.2 R1 assembling\n",
      "65 1 0.0 N1 idle\n",
      "65 2 0.0 N1 idle\n",
      "65 3 0.0 N2 idle\n",
      "65 4 0.0 N2 idle\n",
      "65 5 0.0 N3 idle\n",
      "65 6 0.0 N3 idle\n",
      "65 7 0.0 N4 idle\n",
      "65 8 0.0 N4 idle\n",
      "65 9 0.0 N5 idle\n",
      "65 10 0.0 N5 idle\n",
      "65 11 0.0 N6 idle\n",
      "65 12 0.0 N6 idle\n",
      "65 13 0.0 N7 idle\n",
      "65 14 0.0 N7 idle\n",
      "65 15 0.0 N8 idle\n",
      "65 16 0.0 N8 idle\n",
      "65 17 0.0 N9 idle\n",
      "65 18 0.0 N9 idle\n",
      "65 19 0.0 N10 idle\n",
      "65 20 0.0 N10 idle\n",
      "65 21 0.0 N11 idle\n",
      "65 22 0.0 N11 idle\n",
      "65 23 0.0 N12 idle\n",
      "65 24 0.0 N12 idle\n",
      "65 25 0.0 N13 idle\n",
      "65 26 0.0 N13 idle\n",
      "65 27 0.0 N14 idle\n",
      "65 28 0.0 N14 idle\n",
      "65 29 0.0 N15 idle\n",
      "65 30 0.0 N15 idle\n",
      "65 31 0.0 N16 idle\n",
      "65 32 0.0 N16 idle\n",
      "65 33 0.0 N17 idle\n",
      "65 34 0.0 N17 idle\n",
      "65 35 0.0 N18 idle\n",
      "65 36 0.0 N18 idle\n",
      "65 37 0.0 N19 idle\n",
      "65 38 0.0 N19 idle\n",
      "65 39 0.0 N20 idle\n",
      "65 40 0.0 N20 idle\n",
      "65 41 0.0 N21 idle\n",
      "65 42 0.0 N21 idle\n",
      "65 43 0.0 N22 idle\n",
      "65 44 0.0 N22 idle\n",
      "65 45 0.0 N23 idle\n",
      "65 46 0.0 N23 idle\n",
      "65 47 0.0 N24 idle\n",
      "65 48 0.0 N24 idle\n",
      "65 49 0.0 N25 idle\n",
      "65 50 0.0 N25 idle\n",
      "65 51 0.0 N26 idle\n",
      "65 52 0.0 N26 idle\n",
      "65 53 0.0 N27 idle\n",
      "65 54 0.0 N27 idle\n",
      "65 55 0.0 N28 idle\n",
      "65 56 0.0 N28 idle\n",
      "65 57 0.0 N29 idle\n",
      "65 58 0.0 N29 idle\n",
      "65 59 0.0 N30 idle\n",
      "65 60 0.0 N30 idle\n",
      "65 61 0.0 N31 idle\n",
      "65 62 0.0 N31 idle\n",
      "65 63 0.0 N32 idle\n",
      "65 64 0.0 N32 idle\n",
      "====================\n",
      "66 0 0.2 R1 assembling\n",
      "66 1 0.0 N1 idle\n",
      "66 2 0.0 N1 idle\n",
      "66 3 0.0 N2 idle\n",
      "66 4 0.0 N2 idle\n",
      "66 5 0.0 N3 idle\n",
      "66 6 0.0 N3 idle\n",
      "66 7 0.0 N4 idle\n",
      "66 8 0.0 N4 idle\n",
      "66 9 0.0 N5 idle\n",
      "66 10 0.0 N5 idle\n",
      "66 11 0.0 N6 idle\n",
      "66 12 0.0 N6 idle\n",
      "66 13 0.0 N7 idle\n",
      "66 14 0.0 N7 idle\n",
      "66 15 0.0 N8 idle\n",
      "66 16 0.0 N8 idle\n",
      "66 17 0.0 N9 idle\n",
      "66 18 0.0 N9 idle\n",
      "66 19 0.0 N10 idle\n",
      "66 20 0.0 N10 idle\n",
      "66 21 0.0 N11 idle\n",
      "66 22 0.0 N11 idle\n",
      "66 23 0.0 N12 idle\n",
      "66 24 0.0 N12 idle\n",
      "66 25 0.0 N13 idle\n",
      "66 26 0.0 N13 idle\n",
      "66 27 0.0 N14 idle\n",
      "66 28 0.0 N14 idle\n",
      "66 29 0.0 N15 idle\n",
      "66 30 0.0 N15 idle\n",
      "66 31 0.0 N16 idle\n",
      "66 32 0.0 N16 idle\n",
      "66 33 0.0 N17 idle\n",
      "66 34 0.0 N17 idle\n",
      "66 35 0.0 N18 idle\n",
      "66 36 0.0 N18 idle\n",
      "66 37 0.0 N19 idle\n",
      "66 38 0.0 N19 idle\n",
      "66 39 0.0 N20 idle\n",
      "66 40 0.0 N20 idle\n",
      "66 41 0.0 N21 idle\n",
      "66 42 0.0 N21 idle\n",
      "66 43 0.0 N22 idle\n",
      "66 44 0.0 N22 idle\n",
      "66 45 0.0 N23 idle\n",
      "66 46 0.0 N23 idle\n",
      "66 47 0.0 N24 idle\n",
      "66 48 0.0 N24 idle\n",
      "66 49 0.0 N25 idle\n",
      "66 50 0.0 N25 idle\n",
      "66 51 0.0 N26 idle\n",
      "66 52 0.0 N26 idle\n",
      "66 53 0.0 N27 idle\n",
      "66 54 0.0 N27 idle\n",
      "66 55 0.0 N28 idle\n",
      "66 56 0.0 N28 idle\n",
      "66 57 0.0 N29 idle\n",
      "66 58 0.0 N29 idle\n",
      "66 59 0.0 N30 idle\n",
      "66 60 0.0 N30 idle\n",
      "66 61 0.0 N31 idle\n",
      "66 62 0.0 N31 idle\n",
      "66 63 0.0 N32 idle\n",
      "66 64 0.0 N32 idle\n",
      "====================\n",
      "67 0 0.2 R1 assembling\n",
      "67 1 0.0 N1 idle\n",
      "67 2 0.0 N1 idle\n",
      "67 3 0.0 N2 idle\n",
      "67 4 0.0 N2 idle\n",
      "67 5 0.0 N3 idle\n",
      "67 6 0.0 N3 idle\n",
      "67 7 0.0 N4 idle\n",
      "67 8 0.0 N4 idle\n",
      "67 9 0.0 N5 idle\n",
      "67 10 0.0 N5 idle\n",
      "67 11 0.0 N6 idle\n",
      "67 12 0.0 N6 idle\n",
      "67 13 0.0 N7 idle\n",
      "67 14 0.0 N7 idle\n",
      "67 15 0.0 N8 idle\n",
      "67 16 0.0 N8 idle\n",
      "67 17 0.0 N9 idle\n",
      "67 18 0.0 N9 idle\n",
      "67 19 0.0 N10 idle\n",
      "67 20 0.0 N10 idle\n",
      "67 21 0.0 N11 idle\n",
      "67 22 0.0 N11 idle\n",
      "67 23 0.0 N12 idle\n",
      "67 24 0.0 N12 idle\n",
      "67 25 0.0 N13 idle\n",
      "67 26 0.0 N13 idle\n",
      "67 27 0.0 N14 idle\n",
      "67 28 0.0 N14 idle\n",
      "67 29 0.0 N15 idle\n",
      "67 30 0.0 N15 idle\n",
      "67 31 0.0 N16 idle\n",
      "67 32 0.0 N16 idle\n",
      "67 33 0.0 N17 idle\n",
      "67 34 0.0 N17 idle\n",
      "67 35 0.0 N18 idle\n",
      "67 36 0.0 N18 idle\n",
      "67 37 0.0 N19 idle\n",
      "67 38 0.0 N19 idle\n",
      "67 39 0.0 N20 idle\n",
      "67 40 0.0 N20 idle\n",
      "67 41 0.0 N21 idle\n",
      "67 42 0.0 N21 idle\n",
      "67 43 0.0 N22 idle\n",
      "67 44 0.0 N22 idle\n",
      "67 45 0.0 N23 idle\n",
      "67 46 0.0 N23 idle\n",
      "67 47 0.0 N24 idle\n",
      "67 48 0.0 N24 idle\n",
      "67 49 0.0 N25 idle\n",
      "67 50 0.0 N25 idle\n",
      "67 51 0.0 N26 idle\n",
      "67 52 0.0 N26 idle\n",
      "67 53 0.0 N27 idle\n",
      "67 54 0.0 N27 idle\n",
      "67 55 0.0 N28 idle\n",
      "67 56 0.0 N28 idle\n",
      "67 57 0.0 N29 idle\n",
      "67 58 0.0 N29 idle\n",
      "67 59 0.0 N30 idle\n",
      "67 60 0.0 N30 idle\n",
      "67 61 0.0 N31 idle\n",
      "67 62 0.0 N31 idle\n",
      "67 63 0.0 N32 idle\n",
      "67 64 0.0 N32 idle\n",
      "67 65 0.0 N33 idle\n",
      "67 66 0.0 N33 idle\n",
      "====================\n",
      "68 0 0.2 R1 assembling\n",
      "68 1 0.0 N1 idle\n",
      "68 2 0.0 N1 idle\n",
      "68 3 0.0 N2 idle\n",
      "68 4 0.0 N2 idle\n",
      "68 5 0.0 N3 idle\n",
      "68 6 0.0 N3 idle\n",
      "68 7 0.0 N4 idle\n",
      "68 8 0.0 N4 idle\n",
      "68 9 0.0 N5 idle\n",
      "68 10 0.0 N5 idle\n",
      "68 11 0.0 N6 idle\n",
      "68 12 0.0 N6 idle\n",
      "68 13 0.0 N7 idle\n",
      "68 14 0.0 N7 idle\n",
      "68 15 0.0 N8 idle\n",
      "68 16 0.0 N8 idle\n",
      "68 17 0.0 N9 idle\n",
      "68 18 0.0 N9 idle\n",
      "68 19 0.0 N10 idle\n",
      "68 20 0.0 N10 idle\n",
      "68 21 0.0 N11 idle\n",
      "68 22 0.0 N11 idle\n",
      "68 23 0.0 N12 idle\n",
      "68 24 0.0 N12 idle\n",
      "68 25 0.0 N13 idle\n",
      "68 26 0.0 N13 idle\n",
      "68 27 0.0 N14 idle\n",
      "68 28 0.0 N14 idle\n",
      "68 29 0.0 N15 idle\n",
      "68 30 0.0 N15 idle\n",
      "68 31 0.0 N16 idle\n",
      "68 32 0.0 N16 idle\n",
      "68 33 0.0 N17 idle\n",
      "68 34 0.0 N17 idle\n",
      "68 35 0.0 N18 idle\n",
      "68 36 0.0 N18 idle\n",
      "68 37 0.0 N19 idle\n",
      "68 38 0.0 N19 idle\n",
      "68 39 0.0 N20 idle\n",
      "68 40 0.0 N20 idle\n",
      "68 41 0.0 N21 idle\n",
      "68 42 0.0 N21 idle\n",
      "68 43 0.0 N22 idle\n",
      "68 44 0.0 N22 idle\n",
      "68 45 0.0 N23 idle\n",
      "68 46 0.0 N23 idle\n",
      "68 47 0.0 N24 idle\n",
      "68 48 0.0 N24 idle\n",
      "68 49 0.0 N25 idle\n",
      "68 50 0.0 N25 idle\n",
      "68 51 0.0 N26 idle\n",
      "68 52 0.0 N26 idle\n",
      "68 53 0.0 N27 idle\n",
      "68 54 0.0 N27 idle\n",
      "68 55 0.0 N28 idle\n",
      "68 56 0.0 N28 idle\n",
      "68 57 0.0 N29 idle\n",
      "68 58 0.0 N29 idle\n",
      "68 59 0.0 N30 idle\n",
      "68 60 0.0 N30 idle\n",
      "68 61 0.0 N31 idle\n",
      "68 62 0.0 N31 idle\n",
      "68 63 0.0 N32 idle\n",
      "68 64 0.0 N32 idle\n",
      "68 65 0.0 N33 idle\n",
      "68 66 0.0 N33 idle\n",
      "====================\n",
      "69 0 0.2 R1 assembling\n",
      "69 1 0.0 N1 idle\n",
      "69 2 0.0 N1 idle\n",
      "69 3 0.0 N2 idle\n",
      "69 4 0.0 N2 idle\n",
      "69 5 0.0 N3 idle\n",
      "69 6 0.0 N3 idle\n",
      "69 7 0.0 N4 idle\n",
      "69 8 0.0 N4 idle\n",
      "69 9 0.0 N5 idle\n",
      "69 10 0.0 N5 idle\n",
      "69 11 0.0 N6 idle\n",
      "69 12 0.0 N6 idle\n",
      "69 13 0.0 N7 idle\n",
      "69 14 0.0 N7 idle\n",
      "69 15 0.0 N8 idle\n",
      "69 16 0.0 N8 idle\n",
      "69 17 0.0 N9 idle\n",
      "69 18 0.0 N9 idle\n",
      "69 19 0.0 N10 idle\n",
      "69 20 0.0 N10 idle\n",
      "69 21 0.0 N11 idle\n",
      "69 22 0.0 N11 idle\n",
      "69 23 0.0 N12 idle\n",
      "69 24 0.0 N12 idle\n",
      "69 25 0.0 N13 idle\n",
      "69 26 0.0 N13 idle\n",
      "69 27 0.0 N14 idle\n",
      "69 28 0.0 N14 idle\n",
      "69 29 0.0 N15 idle\n",
      "69 30 0.0 N15 idle\n",
      "69 31 0.0 N16 idle\n",
      "69 32 0.0 N16 idle\n",
      "69 33 0.0 N17 idle\n",
      "69 34 0.0 N17 idle\n",
      "69 35 0.0 N18 idle\n",
      "69 36 0.0 N18 idle\n",
      "69 37 0.0 N19 idle\n",
      "69 38 0.0 N19 idle\n",
      "69 39 0.0 N20 idle\n",
      "69 40 0.0 N20 idle\n",
      "69 41 0.0 N21 idle\n",
      "69 42 0.0 N21 idle\n",
      "69 43 0.0 N22 idle\n",
      "69 44 0.0 N22 idle\n",
      "69 45 0.0 N23 idle\n",
      "69 46 0.0 N23 idle\n",
      "69 47 0.0 N24 idle\n",
      "69 48 0.0 N24 idle\n",
      "69 49 0.0 N25 idle\n",
      "69 50 0.0 N25 idle\n",
      "69 51 0.0 N26 idle\n",
      "69 52 0.0 N26 idle\n",
      "69 53 0.0 N27 idle\n",
      "69 54 0.0 N27 idle\n",
      "69 55 0.0 N28 idle\n",
      "69 56 0.0 N28 idle\n",
      "69 57 0.0 N29 idle\n",
      "69 58 0.0 N29 idle\n",
      "69 59 0.0 N30 idle\n",
      "69 60 0.0 N30 idle\n",
      "69 61 0.0 N31 idle\n",
      "69 62 0.0 N31 idle\n",
      "69 63 0.0 N32 idle\n",
      "69 64 0.0 N32 idle\n",
      "69 65 0.0 N33 idle\n",
      "69 66 0.0 N33 idle\n",
      "69 67 0.0 N34 idle\n",
      "69 68 0.0 N34 idle\n",
      "====================\n",
      "70 0 0.2 R1 assembling\n",
      "70 1 0.0 N1 idle\n",
      "70 2 0.0 N1 idle\n",
      "70 3 0.0 N2 idle\n",
      "70 4 0.0 N2 idle\n",
      "70 5 0.0 N3 idle\n",
      "70 6 0.0 N3 idle\n",
      "70 7 0.0 N4 idle\n",
      "70 8 0.0 N4 idle\n",
      "70 9 0.0 N5 idle\n",
      "70 10 0.0 N5 idle\n",
      "70 11 0.0 N6 idle\n",
      "70 12 0.0 N6 idle\n",
      "70 13 0.0 N7 idle\n",
      "70 14 0.0 N7 idle\n",
      "70 15 0.0 N8 idle\n",
      "70 16 0.0 N8 idle\n",
      "70 17 0.0 N9 idle\n",
      "70 18 0.0 N9 idle\n",
      "70 19 0.0 N10 idle\n",
      "70 20 0.0 N10 idle\n",
      "70 21 0.0 N11 idle\n",
      "70 22 0.0 N11 idle\n",
      "70 23 0.0 N12 idle\n",
      "70 24 0.0 N12 idle\n",
      "70 25 0.0 N13 idle\n",
      "70 26 0.0 N13 idle\n",
      "70 27 0.0 N14 idle\n",
      "70 28 0.0 N14 idle\n",
      "70 29 0.0 N15 idle\n",
      "70 30 0.0 N15 idle\n",
      "70 31 0.0 N16 idle\n",
      "70 32 0.0 N16 idle\n",
      "70 33 0.0 N17 idle\n",
      "70 34 0.0 N17 idle\n",
      "70 35 0.0 N18 idle\n",
      "70 36 0.0 N18 idle\n",
      "70 37 0.0 N19 idle\n",
      "70 38 0.0 N19 idle\n",
      "70 39 0.0 N20 idle\n",
      "70 40 0.0 N20 idle\n",
      "70 41 0.0 N21 idle\n",
      "70 42 0.0 N21 idle\n",
      "70 43 0.0 N22 idle\n",
      "70 44 0.0 N22 idle\n",
      "70 45 0.0 N23 idle\n",
      "70 46 0.0 N23 idle\n",
      "70 47 0.0 N24 idle\n",
      "70 48 0.0 N24 idle\n",
      "70 49 0.0 N25 idle\n",
      "70 50 0.0 N25 idle\n",
      "70 51 0.0 N26 idle\n",
      "70 52 0.0 N26 idle\n",
      "70 53 0.0 N27 idle\n",
      "70 54 0.0 N27 idle\n",
      "70 55 0.0 N28 idle\n",
      "70 56 0.0 N28 idle\n",
      "70 57 0.0 N29 idle\n",
      "70 58 0.0 N29 idle\n",
      "70 59 0.0 N30 idle\n",
      "70 60 0.0 N30 idle\n",
      "70 61 0.0 N31 idle\n",
      "70 62 0.0 N31 idle\n",
      "70 63 0.0 N32 idle\n",
      "70 64 0.0 N32 idle\n",
      "70 65 0.0 N33 idle\n",
      "70 66 0.0 N33 idle\n",
      "70 67 0.0 N34 idle\n",
      "70 68 0.0 N34 idle\n",
      "====================\n",
      "71 0 0.2 R1 assembling\n",
      "71 1 0.0 N1 idle\n",
      "71 2 0.0 N1 idle\n",
      "71 3 0.0 N2 idle\n",
      "71 4 0.0 N2 idle\n",
      "71 5 0.0 N3 idle\n",
      "71 6 0.0 N3 idle\n",
      "71 7 0.0 N4 idle\n",
      "71 8 0.0 N4 idle\n",
      "71 9 0.0 N5 idle\n",
      "71 10 0.0 N5 idle\n",
      "71 11 0.0 N6 idle\n",
      "71 12 0.0 N6 idle\n",
      "71 13 0.0 N7 idle\n",
      "71 14 0.0 N7 idle\n",
      "71 15 0.0 N8 idle\n",
      "71 16 0.0 N8 idle\n",
      "71 17 0.0 N9 idle\n",
      "71 18 0.0 N9 idle\n",
      "71 19 0.0 N10 idle\n",
      "71 20 0.0 N10 idle\n",
      "71 21 0.0 N11 idle\n",
      "71 22 0.0 N11 idle\n",
      "71 23 0.0 N12 idle\n",
      "71 24 0.0 N12 idle\n",
      "71 25 0.0 N13 idle\n",
      "71 26 0.0 N13 idle\n",
      "71 27 0.0 N14 idle\n",
      "71 28 0.0 N14 idle\n",
      "71 29 0.0 N15 idle\n",
      "71 30 0.0 N15 idle\n",
      "71 31 0.0 N16 idle\n",
      "71 32 0.0 N16 idle\n",
      "71 33 0.0 N17 idle\n",
      "71 34 0.0 N17 idle\n",
      "71 35 0.0 N18 idle\n",
      "71 36 0.0 N18 idle\n",
      "71 37 0.0 N19 idle\n",
      "71 38 0.0 N19 idle\n",
      "71 39 0.0 N20 idle\n",
      "71 40 0.0 N20 idle\n",
      "71 41 0.0 N21 idle\n",
      "71 42 0.0 N21 idle\n",
      "71 43 0.0 N22 idle\n",
      "71 44 0.0 N22 idle\n",
      "71 45 0.0 N23 idle\n",
      "71 46 0.0 N23 idle\n",
      "71 47 0.0 N24 idle\n",
      "71 48 0.0 N24 idle\n",
      "71 49 0.0 N25 idle\n",
      "71 50 0.0 N25 idle\n",
      "71 51 0.0 N26 idle\n",
      "71 52 0.0 N26 idle\n",
      "71 53 0.0 N27 idle\n",
      "71 54 0.0 N27 idle\n",
      "71 55 0.0 N28 idle\n",
      "71 56 0.0 N28 idle\n",
      "71 57 0.0 N29 idle\n",
      "71 58 0.0 N29 idle\n",
      "71 59 0.0 N30 idle\n",
      "71 60 0.0 N30 idle\n",
      "71 61 0.0 N31 idle\n",
      "71 62 0.0 N31 idle\n",
      "71 63 0.0 N32 idle\n",
      "71 64 0.0 N32 idle\n",
      "71 65 0.0 N33 idle\n",
      "71 66 0.0 N33 idle\n",
      "71 67 0.0 N34 idle\n",
      "71 68 0.0 N34 idle\n",
      "71 69 0.0 N35 idle\n",
      "71 70 0.0 N35 idle\n",
      "====================\n",
      "72 0 0.2 R1 assembling\n",
      "72 1 0.0 N1 idle\n",
      "72 2 0.0 N1 idle\n",
      "72 3 0.0 N2 idle\n",
      "72 4 0.0 N2 idle\n",
      "72 5 0.0 N3 idle\n",
      "72 6 0.0 N3 idle\n",
      "72 7 0.0 N4 idle\n",
      "72 8 0.0 N4 idle\n",
      "72 9 0.0 N5 idle\n",
      "72 10 0.0 N5 idle\n",
      "72 11 0.0 N6 idle\n",
      "72 12 0.0 N6 idle\n",
      "72 13 0.0 N7 idle\n",
      "72 14 0.0 N7 idle\n",
      "72 15 0.0 N8 idle\n",
      "72 16 0.0 N8 idle\n",
      "72 17 0.0 N9 idle\n",
      "72 18 0.0 N9 idle\n",
      "72 19 0.0 N10 idle\n",
      "72 20 0.0 N10 idle\n",
      "72 21 0.0 N11 idle\n",
      "72 22 0.0 N11 idle\n",
      "72 23 0.0 N12 idle\n",
      "72 24 0.0 N12 idle\n",
      "72 25 0.0 N13 idle\n",
      "72 26 0.0 N13 idle\n",
      "72 27 0.0 N14 idle\n",
      "72 28 0.0 N14 idle\n",
      "72 29 0.0 N15 idle\n",
      "72 30 0.0 N15 idle\n",
      "72 31 0.0 N16 idle\n",
      "72 32 0.0 N16 idle\n",
      "72 33 0.0 N17 idle\n",
      "72 34 0.0 N17 idle\n",
      "72 35 0.0 N18 idle\n",
      "72 36 0.0 N18 idle\n",
      "72 37 0.0 N19 idle\n",
      "72 38 0.0 N19 idle\n",
      "72 39 0.0 N20 idle\n",
      "72 40 0.0 N20 idle\n",
      "72 41 0.0 N21 idle\n",
      "72 42 0.0 N21 idle\n",
      "72 43 0.0 N22 idle\n",
      "72 44 0.0 N22 idle\n",
      "72 45 0.0 N23 idle\n",
      "72 46 0.0 N23 idle\n",
      "72 47 0.0 N24 idle\n",
      "72 48 0.0 N24 idle\n",
      "72 49 0.0 N25 idle\n",
      "72 50 0.0 N25 idle\n",
      "72 51 0.0 N26 idle\n",
      "72 52 0.0 N26 idle\n",
      "72 53 0.0 N27 idle\n",
      "72 54 0.0 N27 idle\n",
      "72 55 0.0 N28 idle\n",
      "72 56 0.0 N28 idle\n",
      "72 57 0.0 N29 idle\n",
      "72 58 0.0 N29 idle\n",
      "72 59 0.0 N30 idle\n",
      "72 60 0.0 N30 idle\n",
      "72 61 0.0 N31 idle\n",
      "72 62 0.0 N31 idle\n",
      "72 63 0.0 N32 idle\n",
      "72 64 0.0 N32 idle\n",
      "72 65 0.0 N33 idle\n",
      "72 66 0.0 N33 idle\n",
      "72 67 0.0 N34 idle\n",
      "72 68 0.0 N34 idle\n",
      "72 69 0.0 N35 idle\n",
      "72 70 0.0 N35 idle\n",
      "====================\n",
      "73 0 0.2 R1 assembling\n",
      "73 1 0.0 N1 idle\n",
      "73 2 0.0 N1 idle\n",
      "73 3 0.0 N2 idle\n",
      "73 4 0.0 N2 idle\n",
      "73 5 0.0 N3 idle\n",
      "73 6 0.0 N3 idle\n",
      "73 7 0.0 N4 idle\n",
      "73 8 0.0 N4 idle\n",
      "73 9 0.0 N5 idle\n",
      "73 10 0.0 N5 idle\n",
      "73 11 0.0 N6 idle\n",
      "73 12 0.0 N6 idle\n",
      "73 13 0.0 N7 idle\n",
      "73 14 0.0 N7 idle\n",
      "73 15 0.0 N8 idle\n",
      "73 16 0.0 N8 idle\n",
      "73 17 0.0 N9 idle\n",
      "73 18 0.0 N9 idle\n",
      "73 19 0.0 N10 idle\n",
      "73 20 0.0 N10 idle\n",
      "73 21 0.0 N11 idle\n",
      "73 22 0.0 N11 idle\n",
      "73 23 0.0 N12 idle\n",
      "73 24 0.0 N12 idle\n",
      "73 25 0.0 N13 idle\n",
      "73 26 0.0 N13 idle\n",
      "73 27 0.0 N14 idle\n",
      "73 28 0.0 N14 idle\n",
      "73 29 0.0 N15 idle\n",
      "73 30 0.0 N15 idle\n",
      "73 31 0.0 N16 idle\n",
      "73 32 0.0 N16 idle\n",
      "73 33 0.0 N17 idle\n",
      "73 34 0.0 N17 idle\n",
      "73 35 0.0 N18 idle\n",
      "73 36 0.0 N18 idle\n",
      "73 37 0.0 N19 idle\n",
      "73 38 0.0 N19 idle\n",
      "73 39 0.0 N20 idle\n",
      "73 40 0.0 N20 idle\n",
      "73 41 0.0 N21 idle\n",
      "73 42 0.0 N21 idle\n",
      "73 43 0.0 N22 idle\n",
      "73 44 0.0 N22 idle\n",
      "73 45 0.0 N23 idle\n",
      "73 46 0.0 N23 idle\n",
      "73 47 0.0 N24 idle\n",
      "73 48 0.0 N24 idle\n",
      "73 49 0.0 N25 idle\n",
      "73 50 0.0 N25 idle\n",
      "73 51 0.0 N26 idle\n",
      "73 52 0.0 N26 idle\n",
      "73 53 0.0 N27 idle\n",
      "73 54 0.0 N27 idle\n",
      "73 55 0.0 N28 idle\n",
      "73 56 0.0 N28 idle\n",
      "73 57 0.0 N29 idle\n",
      "73 58 0.0 N29 idle\n",
      "73 59 0.0 N30 idle\n",
      "73 60 0.0 N30 idle\n",
      "73 61 0.0 N31 idle\n",
      "73 62 0.0 N31 idle\n",
      "73 63 0.0 N32 idle\n",
      "73 64 0.0 N32 idle\n",
      "73 65 0.0 N33 idle\n",
      "73 66 0.0 N33 idle\n",
      "73 67 0.0 N34 idle\n",
      "73 68 0.0 N34 idle\n",
      "73 69 0.0 N35 idle\n",
      "73 70 0.0 N35 idle\n",
      "73 71 0.0 N36 idle\n",
      "73 72 0.0 N36 idle\n",
      "====================\n",
      "74 0 0.2 R1 assembling\n",
      "74 1 0.0 N1 idle\n",
      "74 2 0.0 N1 idle\n",
      "74 3 0.0 N2 idle\n",
      "74 4 0.0 N2 idle\n",
      "74 5 0.0 N3 idle\n",
      "74 6 0.0 N3 idle\n",
      "74 7 0.0 N4 idle\n",
      "74 8 0.0 N4 idle\n",
      "74 9 0.0 N5 idle\n",
      "74 10 0.0 N5 idle\n",
      "74 11 0.0 N6 idle\n",
      "74 12 0.0 N6 idle\n",
      "74 13 0.0 N7 idle\n",
      "74 14 0.0 N7 idle\n",
      "74 15 0.0 N8 idle\n",
      "74 16 0.0 N8 idle\n",
      "74 17 0.0 N9 idle\n",
      "74 18 0.0 N9 idle\n",
      "74 19 0.0 N10 idle\n",
      "74 20 0.0 N10 idle\n",
      "74 21 0.0 N11 idle\n",
      "74 22 0.0 N11 idle\n",
      "74 23 0.0 N12 idle\n",
      "74 24 0.0 N12 idle\n",
      "74 25 0.0 N13 idle\n",
      "74 26 0.0 N13 idle\n",
      "74 27 0.0 N14 idle\n",
      "74 28 0.0 N14 idle\n",
      "74 29 0.0 N15 idle\n",
      "74 30 0.0 N15 idle\n",
      "74 31 0.0 N16 idle\n",
      "74 32 0.0 N16 idle\n",
      "74 33 0.0 N17 idle\n",
      "74 34 0.0 N17 idle\n",
      "74 35 0.0 N18 idle\n",
      "74 36 0.0 N18 idle\n",
      "74 37 0.0 N19 idle\n",
      "74 38 0.0 N19 idle\n",
      "74 39 0.0 N20 idle\n",
      "74 40 0.0 N20 idle\n",
      "74 41 0.0 N21 idle\n",
      "74 42 0.0 N21 idle\n",
      "74 43 0.0 N22 idle\n",
      "74 44 0.0 N22 idle\n",
      "74 45 0.0 N23 idle\n",
      "74 46 0.0 N23 idle\n",
      "74 47 0.0 N24 idle\n",
      "74 48 0.0 N24 idle\n",
      "74 49 0.0 N25 idle\n",
      "74 50 0.0 N25 idle\n",
      "74 51 0.0 N26 idle\n",
      "74 52 0.0 N26 idle\n",
      "74 53 0.0 N27 idle\n",
      "74 54 0.0 N27 idle\n",
      "74 55 0.0 N28 idle\n",
      "74 56 0.0 N28 idle\n",
      "74 57 0.0 N29 idle\n",
      "74 58 0.0 N29 idle\n",
      "74 59 0.0 N30 idle\n",
      "74 60 0.0 N30 idle\n",
      "74 61 0.0 N31 idle\n",
      "74 62 0.0 N31 idle\n",
      "74 63 0.0 N32 idle\n",
      "74 64 0.0 N32 idle\n",
      "74 65 0.0 N33 idle\n",
      "74 66 0.0 N33 idle\n",
      "74 67 0.0 N34 idle\n",
      "74 68 0.0 N34 idle\n",
      "74 69 0.0 N35 idle\n",
      "74 70 0.0 N35 idle\n",
      "74 71 0.0 N36 idle\n",
      "74 72 0.0 N36 idle\n"
     ]
    },
    {
     "data": {
      "text/html": [
       "<div>\n",
       "<style scoped>\n",
       "    .dataframe tbody tr th:only-of-type {\n",
       "        vertical-align: middle;\n",
       "    }\n",
       "\n",
       "    .dataframe tbody tr th {\n",
       "        vertical-align: top;\n",
       "    }\n",
       "\n",
       "    .dataframe thead th {\n",
       "        text-align: right;\n",
       "    }\n",
       "</style>\n",
       "<table border=\"1\" class=\"dataframe\">\n",
       "  <thead>\n",
       "    <tr style=\"text-align: right;\">\n",
       "      <th></th>\n",
       "      <th>Time</th>\n",
       "      <th>NonPr</th>\n",
       "      <th>Printable</th>\n",
       "      <th>Materials</th>\n",
       "      <th>Env_Materials</th>\n",
       "      <th>#Replicator</th>\n",
       "      <th>#Normal</th>\n",
       "      <th>#Assembler</th>\n",
       "      <th>#Printer</th>\n",
       "      <th>#Assembling</th>\n",
       "      <th>#Printing</th>\n",
       "      <th>#Collecting</th>\n",
       "      <th>#Idle</th>\n",
       "      <th>#In</th>\n",
       "      <th>#Out</th>\n",
       "      <th>Average Build Quality in-service</th>\n",
       "      <th>Average Build Quality of System</th>\n",
       "      <th>#WasteReplicator</th>\n",
       "      <th>#WasteNormal</th>\n",
       "      <th>#WasteAssembler</th>\n",
       "      <th>#WastePrinter</th>\n",
       "      <th>Environment Exhaust Time</th>\n",
       "      <th>Printable Exhaust Time</th>\n",
       "      <th>NonPr Exhaust Time</th>\n",
       "      <th>Material Exhaust Time</th>\n",
       "      <th>Average Risk</th>\n",
       "      <th>Print Capacity</th>\n",
       "      <th>Assembling Capacity</th>\n",
       "      <th>Collection Capacity</th>\n",
       "    </tr>\n",
       "  </thead>\n",
       "  <tbody>\n",
       "    <tr>\n",
       "      <th>0</th>\n",
       "      <td>0.0</td>\n",
       "      <td>299.0</td>\n",
       "      <td>98.0</td>\n",
       "      <td>50.0</td>\n",
       "      <td>500.0</td>\n",
       "      <td>1.0</td>\n",
       "      <td>0.0</td>\n",
       "      <td>0.0</td>\n",
       "      <td>0.0</td>\n",
       "      <td>1.0</td>\n",
       "      <td>0.0</td>\n",
       "      <td>0.0</td>\n",
       "      <td>0.0</td>\n",
       "      <td>1.0</td>\n",
       "      <td>0.0</td>\n",
       "      <td>0.909</td>\n",
       "      <td>0.909</td>\n",
       "      <td>0.0</td>\n",
       "      <td>0.0</td>\n",
       "      <td>0.0</td>\n",
       "      <td>0.0</td>\n",
       "      <td>0.0</td>\n",
       "      <td>0.0</td>\n",
       "      <td>0.0</td>\n",
       "      <td>0.0</td>\n",
       "      <td>0.0</td>\n",
       "      <td>1.0</td>\n",
       "      <td>1.0</td>\n",
       "      <td>1.0</td>\n",
       "    </tr>\n",
       "    <tr>\n",
       "      <th>1</th>\n",
       "      <td>1.0</td>\n",
       "      <td>299.0</td>\n",
       "      <td>98.0</td>\n",
       "      <td>50.0</td>\n",
       "      <td>500.0</td>\n",
       "      <td>1.0</td>\n",
       "      <td>0.0</td>\n",
       "      <td>0.0</td>\n",
       "      <td>0.0</td>\n",
       "      <td>1.0</td>\n",
       "      <td>0.0</td>\n",
       "      <td>0.0</td>\n",
       "      <td>0.0</td>\n",
       "      <td>1.0</td>\n",
       "      <td>0.0</td>\n",
       "      <td>0.909</td>\n",
       "      <td>0.909</td>\n",
       "      <td>0.0</td>\n",
       "      <td>0.0</td>\n",
       "      <td>0.0</td>\n",
       "      <td>0.0</td>\n",
       "      <td>0.0</td>\n",
       "      <td>0.0</td>\n",
       "      <td>0.0</td>\n",
       "      <td>0.0</td>\n",
       "      <td>0.0</td>\n",
       "      <td>1.0</td>\n",
       "      <td>1.0</td>\n",
       "      <td>1.0</td>\n",
       "    </tr>\n",
       "    <tr>\n",
       "      <th>2</th>\n",
       "      <td>2.0</td>\n",
       "      <td>298.0</td>\n",
       "      <td>96.0</td>\n",
       "      <td>51.0</td>\n",
       "      <td>499.0</td>\n",
       "      <td>1.0</td>\n",
       "      <td>2.0</td>\n",
       "      <td>0.0</td>\n",
       "      <td>0.0</td>\n",
       "      <td>1.0</td>\n",
       "      <td>0.0</td>\n",
       "      <td>2.0</td>\n",
       "      <td>0.0</td>\n",
       "      <td>3.0</td>\n",
       "      <td>0.0</td>\n",
       "      <td>0.759</td>\n",
       "      <td>0.759</td>\n",
       "      <td>0.0</td>\n",
       "      <td>0.0</td>\n",
       "      <td>0.0</td>\n",
       "      <td>0.0</td>\n",
       "      <td>0.0</td>\n",
       "      <td>0.0</td>\n",
       "      <td>0.0</td>\n",
       "      <td>0.0</td>\n",
       "      <td>0.0</td>\n",
       "      <td>1.0</td>\n",
       "      <td>1.0</td>\n",
       "      <td>3.0</td>\n",
       "    </tr>\n",
       "    <tr>\n",
       "      <th>3</th>\n",
       "      <td>3.0</td>\n",
       "      <td>298.0</td>\n",
       "      <td>96.0</td>\n",
       "      <td>53.0</td>\n",
       "      <td>497.0</td>\n",
       "      <td>1.0</td>\n",
       "      <td>2.0</td>\n",
       "      <td>0.0</td>\n",
       "      <td>0.0</td>\n",
       "      <td>1.0</td>\n",
       "      <td>0.0</td>\n",
       "      <td>2.0</td>\n",
       "      <td>0.0</td>\n",
       "      <td>3.0</td>\n",
       "      <td>0.0</td>\n",
       "      <td>0.759</td>\n",
       "      <td>0.759</td>\n",
       "      <td>0.0</td>\n",
       "      <td>0.0</td>\n",
       "      <td>0.0</td>\n",
       "      <td>0.0</td>\n",
       "      <td>0.0</td>\n",
       "      <td>0.0</td>\n",
       "      <td>0.0</td>\n",
       "      <td>0.0</td>\n",
       "      <td>0.0</td>\n",
       "      <td>1.0</td>\n",
       "      <td>1.0</td>\n",
       "      <td>3.0</td>\n",
       "    </tr>\n",
       "    <tr>\n",
       "      <th>4</th>\n",
       "      <td>4.0</td>\n",
       "      <td>297.0</td>\n",
       "      <td>94.0</td>\n",
       "      <td>56.0</td>\n",
       "      <td>494.0</td>\n",
       "      <td>1.0</td>\n",
       "      <td>4.0</td>\n",
       "      <td>0.0</td>\n",
       "      <td>0.0</td>\n",
       "      <td>1.0</td>\n",
       "      <td>0.0</td>\n",
       "      <td>4.0</td>\n",
       "      <td>0.0</td>\n",
       "      <td>5.0</td>\n",
       "      <td>0.0</td>\n",
       "      <td>0.765</td>\n",
       "      <td>0.765</td>\n",
       "      <td>0.0</td>\n",
       "      <td>0.0</td>\n",
       "      <td>0.0</td>\n",
       "      <td>0.0</td>\n",
       "      <td>0.0</td>\n",
       "      <td>0.0</td>\n",
       "      <td>0.0</td>\n",
       "      <td>0.0</td>\n",
       "      <td>0.0</td>\n",
       "      <td>1.0</td>\n",
       "      <td>1.0</td>\n",
       "      <td>5.0</td>\n",
       "    </tr>\n",
       "    <tr>\n",
       "      <th>...</th>\n",
       "      <td>...</td>\n",
       "      <td>...</td>\n",
       "      <td>...</td>\n",
       "      <td>...</td>\n",
       "      <td>...</td>\n",
       "      <td>...</td>\n",
       "      <td>...</td>\n",
       "      <td>...</td>\n",
       "      <td>...</td>\n",
       "      <td>...</td>\n",
       "      <td>...</td>\n",
       "      <td>...</td>\n",
       "      <td>...</td>\n",
       "      <td>...</td>\n",
       "      <td>...</td>\n",
       "      <td>...</td>\n",
       "      <td>...</td>\n",
       "      <td>...</td>\n",
       "      <td>...</td>\n",
       "      <td>...</td>\n",
       "      <td>...</td>\n",
       "      <td>...</td>\n",
       "      <td>...</td>\n",
       "      <td>...</td>\n",
       "      <td>...</td>\n",
       "      <td>...</td>\n",
       "      <td>...</td>\n",
       "      <td>...</td>\n",
       "      <td>...</td>\n",
       "    </tr>\n",
       "    <tr>\n",
       "      <th>70</th>\n",
       "      <td>70.0</td>\n",
       "      <td>264.0</td>\n",
       "      <td>28.0</td>\n",
       "      <td>550.0</td>\n",
       "      <td>0.0</td>\n",
       "      <td>1.0</td>\n",
       "      <td>70.0</td>\n",
       "      <td>0.0</td>\n",
       "      <td>0.0</td>\n",
       "      <td>1.0</td>\n",
       "      <td>0.0</td>\n",
       "      <td>0.0</td>\n",
       "      <td>70.0</td>\n",
       "      <td>71.0</td>\n",
       "      <td>0.0</td>\n",
       "      <td>0.783</td>\n",
       "      <td>0.783</td>\n",
       "      <td>0.0</td>\n",
       "      <td>0.0</td>\n",
       "      <td>0.0</td>\n",
       "      <td>0.0</td>\n",
       "      <td>70.0</td>\n",
       "      <td>0.0</td>\n",
       "      <td>0.0</td>\n",
       "      <td>0.0</td>\n",
       "      <td>0.0</td>\n",
       "      <td>1.0</td>\n",
       "      <td>1.0</td>\n",
       "      <td>71.0</td>\n",
       "    </tr>\n",
       "    <tr>\n",
       "      <th>71</th>\n",
       "      <td>71.0</td>\n",
       "      <td>264.0</td>\n",
       "      <td>28.0</td>\n",
       "      <td>550.0</td>\n",
       "      <td>0.0</td>\n",
       "      <td>1.0</td>\n",
       "      <td>70.0</td>\n",
       "      <td>0.0</td>\n",
       "      <td>0.0</td>\n",
       "      <td>1.0</td>\n",
       "      <td>0.0</td>\n",
       "      <td>0.0</td>\n",
       "      <td>70.0</td>\n",
       "      <td>71.0</td>\n",
       "      <td>0.0</td>\n",
       "      <td>0.783</td>\n",
       "      <td>0.783</td>\n",
       "      <td>0.0</td>\n",
       "      <td>0.0</td>\n",
       "      <td>0.0</td>\n",
       "      <td>0.0</td>\n",
       "      <td>71.0</td>\n",
       "      <td>0.0</td>\n",
       "      <td>0.0</td>\n",
       "      <td>0.0</td>\n",
       "      <td>0.0</td>\n",
       "      <td>1.0</td>\n",
       "      <td>1.0</td>\n",
       "      <td>71.0</td>\n",
       "    </tr>\n",
       "    <tr>\n",
       "      <th>72</th>\n",
       "      <td>72.0</td>\n",
       "      <td>263.0</td>\n",
       "      <td>26.0</td>\n",
       "      <td>550.0</td>\n",
       "      <td>0.0</td>\n",
       "      <td>1.0</td>\n",
       "      <td>72.0</td>\n",
       "      <td>0.0</td>\n",
       "      <td>0.0</td>\n",
       "      <td>1.0</td>\n",
       "      <td>0.0</td>\n",
       "      <td>0.0</td>\n",
       "      <td>72.0</td>\n",
       "      <td>73.0</td>\n",
       "      <td>0.0</td>\n",
       "      <td>0.780</td>\n",
       "      <td>0.780</td>\n",
       "      <td>0.0</td>\n",
       "      <td>0.0</td>\n",
       "      <td>0.0</td>\n",
       "      <td>0.0</td>\n",
       "      <td>72.0</td>\n",
       "      <td>0.0</td>\n",
       "      <td>0.0</td>\n",
       "      <td>0.0</td>\n",
       "      <td>0.0</td>\n",
       "      <td>1.0</td>\n",
       "      <td>1.0</td>\n",
       "      <td>73.0</td>\n",
       "    </tr>\n",
       "    <tr>\n",
       "      <th>73</th>\n",
       "      <td>73.0</td>\n",
       "      <td>263.0</td>\n",
       "      <td>26.0</td>\n",
       "      <td>550.0</td>\n",
       "      <td>0.0</td>\n",
       "      <td>1.0</td>\n",
       "      <td>72.0</td>\n",
       "      <td>0.0</td>\n",
       "      <td>0.0</td>\n",
       "      <td>1.0</td>\n",
       "      <td>0.0</td>\n",
       "      <td>0.0</td>\n",
       "      <td>72.0</td>\n",
       "      <td>73.0</td>\n",
       "      <td>0.0</td>\n",
       "      <td>0.780</td>\n",
       "      <td>0.780</td>\n",
       "      <td>0.0</td>\n",
       "      <td>0.0</td>\n",
       "      <td>0.0</td>\n",
       "      <td>0.0</td>\n",
       "      <td>73.0</td>\n",
       "      <td>0.0</td>\n",
       "      <td>0.0</td>\n",
       "      <td>0.0</td>\n",
       "      <td>0.0</td>\n",
       "      <td>1.0</td>\n",
       "      <td>1.0</td>\n",
       "      <td>73.0</td>\n",
       "    </tr>\n",
       "    <tr>\n",
       "      <th>74</th>\n",
       "      <td>74.0</td>\n",
       "      <td>262.0</td>\n",
       "      <td>24.0</td>\n",
       "      <td>550.0</td>\n",
       "      <td>0.0</td>\n",
       "      <td>1.0</td>\n",
       "      <td>74.0</td>\n",
       "      <td>0.0</td>\n",
       "      <td>0.0</td>\n",
       "      <td>1.0</td>\n",
       "      <td>0.0</td>\n",
       "      <td>0.0</td>\n",
       "      <td>74.0</td>\n",
       "      <td>75.0</td>\n",
       "      <td>0.0</td>\n",
       "      <td>0.777</td>\n",
       "      <td>0.777</td>\n",
       "      <td>0.0</td>\n",
       "      <td>0.0</td>\n",
       "      <td>0.0</td>\n",
       "      <td>0.0</td>\n",
       "      <td>74.0</td>\n",
       "      <td>0.0</td>\n",
       "      <td>0.0</td>\n",
       "      <td>0.0</td>\n",
       "      <td>0.0</td>\n",
       "      <td>1.0</td>\n",
       "      <td>1.0</td>\n",
       "      <td>75.0</td>\n",
       "    </tr>\n",
       "  </tbody>\n",
       "</table>\n",
       "<p>75 rows × 29 columns</p>\n",
       "</div>"
      ],
      "text/plain": [
       "    Time  NonPr  Printable  Materials  Env_Materials  #Replicator  #Normal  \\\n",
       "0    0.0  299.0       98.0       50.0          500.0          1.0      0.0   \n",
       "1    1.0  299.0       98.0       50.0          500.0          1.0      0.0   \n",
       "2    2.0  298.0       96.0       51.0          499.0          1.0      2.0   \n",
       "3    3.0  298.0       96.0       53.0          497.0          1.0      2.0   \n",
       "4    4.0  297.0       94.0       56.0          494.0          1.0      4.0   \n",
       "..   ...    ...        ...        ...            ...          ...      ...   \n",
       "70  70.0  264.0       28.0      550.0            0.0          1.0     70.0   \n",
       "71  71.0  264.0       28.0      550.0            0.0          1.0     70.0   \n",
       "72  72.0  263.0       26.0      550.0            0.0          1.0     72.0   \n",
       "73  73.0  263.0       26.0      550.0            0.0          1.0     72.0   \n",
       "74  74.0  262.0       24.0      550.0            0.0          1.0     74.0   \n",
       "\n",
       "    #Assembler  #Printer  #Assembling  #Printing  #Collecting  #Idle   #In  \\\n",
       "0          0.0       0.0          1.0        0.0          0.0    0.0   1.0   \n",
       "1          0.0       0.0          1.0        0.0          0.0    0.0   1.0   \n",
       "2          0.0       0.0          1.0        0.0          2.0    0.0   3.0   \n",
       "3          0.0       0.0          1.0        0.0          2.0    0.0   3.0   \n",
       "4          0.0       0.0          1.0        0.0          4.0    0.0   5.0   \n",
       "..         ...       ...          ...        ...          ...    ...   ...   \n",
       "70         0.0       0.0          1.0        0.0          0.0   70.0  71.0   \n",
       "71         0.0       0.0          1.0        0.0          0.0   70.0  71.0   \n",
       "72         0.0       0.0          1.0        0.0          0.0   72.0  73.0   \n",
       "73         0.0       0.0          1.0        0.0          0.0   72.0  73.0   \n",
       "74         0.0       0.0          1.0        0.0          0.0   74.0  75.0   \n",
       "\n",
       "    #Out  Average Build Quality in-service  Average Build Quality of System  \\\n",
       "0    0.0                             0.909                            0.909   \n",
       "1    0.0                             0.909                            0.909   \n",
       "2    0.0                             0.759                            0.759   \n",
       "3    0.0                             0.759                            0.759   \n",
       "4    0.0                             0.765                            0.765   \n",
       "..   ...                               ...                              ...   \n",
       "70   0.0                             0.783                            0.783   \n",
       "71   0.0                             0.783                            0.783   \n",
       "72   0.0                             0.780                            0.780   \n",
       "73   0.0                             0.780                            0.780   \n",
       "74   0.0                             0.777                            0.777   \n",
       "\n",
       "    #WasteReplicator  #WasteNormal  #WasteAssembler  #WastePrinter  \\\n",
       "0                0.0           0.0              0.0            0.0   \n",
       "1                0.0           0.0              0.0            0.0   \n",
       "2                0.0           0.0              0.0            0.0   \n",
       "3                0.0           0.0              0.0            0.0   \n",
       "4                0.0           0.0              0.0            0.0   \n",
       "..               ...           ...              ...            ...   \n",
       "70               0.0           0.0              0.0            0.0   \n",
       "71               0.0           0.0              0.0            0.0   \n",
       "72               0.0           0.0              0.0            0.0   \n",
       "73               0.0           0.0              0.0            0.0   \n",
       "74               0.0           0.0              0.0            0.0   \n",
       "\n",
       "    Environment Exhaust Time  Printable Exhaust Time  NonPr Exhaust Time  \\\n",
       "0                        0.0                     0.0                 0.0   \n",
       "1                        0.0                     0.0                 0.0   \n",
       "2                        0.0                     0.0                 0.0   \n",
       "3                        0.0                     0.0                 0.0   \n",
       "4                        0.0                     0.0                 0.0   \n",
       "..                       ...                     ...                 ...   \n",
       "70                      70.0                     0.0                 0.0   \n",
       "71                      71.0                     0.0                 0.0   \n",
       "72                      72.0                     0.0                 0.0   \n",
       "73                      73.0                     0.0                 0.0   \n",
       "74                      74.0                     0.0                 0.0   \n",
       "\n",
       "    Material Exhaust Time  Average Risk  Print Capacity  Assembling Capacity  \\\n",
       "0                     0.0           0.0             1.0                  1.0   \n",
       "1                     0.0           0.0             1.0                  1.0   \n",
       "2                     0.0           0.0             1.0                  1.0   \n",
       "3                     0.0           0.0             1.0                  1.0   \n",
       "4                     0.0           0.0             1.0                  1.0   \n",
       "..                    ...           ...             ...                  ...   \n",
       "70                    0.0           0.0             1.0                  1.0   \n",
       "71                    0.0           0.0             1.0                  1.0   \n",
       "72                    0.0           0.0             1.0                  1.0   \n",
       "73                    0.0           0.0             1.0                  1.0   \n",
       "74                    0.0           0.0             1.0                  1.0   \n",
       "\n",
       "    Collection Capacity  \n",
       "0                   1.0  \n",
       "1                   1.0  \n",
       "2                   3.0  \n",
       "3                   3.0  \n",
       "4                   5.0  \n",
       "..                  ...  \n",
       "70                 71.0  \n",
       "71                 71.0  \n",
       "72                 73.0  \n",
       "73                 73.0  \n",
       "74                 75.0  \n",
       "\n",
       "[75 rows x 29 columns]"
      ]
     },
     "metadata": {},
     "output_type": "display_data"
    }
   ],
   "source": [
    "def main(configname,timesteps):\n",
    "    build_qual_range = [0.85,0.95]\n",
    "    init_build_qual = random.uniform(build_qual_range[0],build_qual_range[1])\n",
    "    df = pd.DataFrame(columns = table_columns)\n",
    "    \n",
    "    if configname==\"CHO\":\n",
    "        robot = Robot(\"Replicator\",init_build_qual,rid)\n",
    "        robot.setFactory()\n",
    "        robotlist = [robot]\n",
    "        resetGlobal(timesteps,1,0,0,0)\n",
    "        df = CHO(timesteps,robotlist,df)  \n",
    "#         plotdf(df,configname,[\"#In\", \"#Out\"])\n",
    "    \n",
    "    display(df)\n",
    "        \n",
    "if __name__ == \"__main__\":\n",
    "    main(\"CHO\",75) #2000"
   ]
  },
  {
   "cell_type": "code",
   "execution_count": null,
   "id": "35c40470",
   "metadata": {},
   "outputs": [],
   "source": []
  },
  {
   "cell_type": "code",
   "execution_count": null,
   "id": "f34b5222",
   "metadata": {},
   "outputs": [],
   "source": []
  },
  {
   "cell_type": "code",
   "execution_count": null,
   "id": "4b9acb99",
   "metadata": {},
   "outputs": [],
   "source": []
  },
  {
   "cell_type": "code",
   "execution_count": null,
   "id": "036f3ae5",
   "metadata": {},
   "outputs": [],
   "source": []
  },
  {
   "cell_type": "code",
   "execution_count": null,
   "id": "757ec44d",
   "metadata": {},
   "outputs": [],
   "source": []
  },
  {
   "cell_type": "markdown",
   "id": "70e4e302",
   "metadata": {},
   "source": [
    "# Do not run below"
   ]
  },
  {
   "cell_type": "code",
   "execution_count": 1619,
   "id": "943985e5",
   "metadata": {},
   "outputs": [],
   "source": [
    "def DHO(timesteps,robotlist,df):\n",
    "    totlist = robotlist\n",
    "    useless = []\n",
    "\n",
    "    # number of bots working\n",
    "    listnumCollecting = []\n",
    "    listnumPrinting = []\n",
    "    listnumAssembling = []\n",
    "\n",
    "    # use lists\n",
    "    tcoordslist = []\n",
    "    rcoordslist = []\n",
    "    wastecoordslist = []\n",
    "    t_build_quality_list = []\n",
    "\n",
    "    #Lists used for visualization\n",
    "    checkENV = 0\n",
    "    checkPrint = 0\n",
    "    checkNonPr = 0\n",
    "    checkMat = 0\n",
    "    \n",
    "    for t in range(0,timesteps):\n",
    "\n",
    "        for i in range(len(robotlist)):\n",
    "            # IDLE\n",
    "            if(robotlist[i].current_task==\"idle\"):\n",
    "\n",
    "                # Replicator\n",
    "                if(robotlist[i].type == \"Replicator\"):\n",
    "\n",
    "                    if(assembleCheck(robotlist[i],\"Replicator\")):\n",
    "                        assembling(robotlist[i],\"Replicator\")\n",
    "                    elif(printCheck(robotlist[i])):\n",
    "                        printing(robotlist[i])\n",
    "                    elif(collectCheck(robotlist[i])):\n",
    "                        collecting(robotlist[i])\t\n",
    "                    else:\n",
    "                        robotlist[i].set_prev_task(robotlist[i].get_curr_task())\n",
    "                        robotlist[i].set_task_dur(0)\n",
    "                        robotlist[i].set_curr_task(\"idle\")\n",
    "\n",
    "                # Normal\n",
    "                elif(robotlist[i].type == \"Normal\"):\n",
    "                    canCollect = collectCheck(robotlist[i])\n",
    "                    # print(t,robotlist[i].id,canCollect)\n",
    "                    if canCollect:\n",
    "                        collecting(robotlist[i])\n",
    "                    else:\n",
    "                        robotlist[i].set_prev_task(robotlist[i].get_curr_task())\n",
    "                        robotlist[i].set_task_dur(0)\n",
    "                        robotlist[i].set_curr_task(\"idle\")\n",
    "\n",
    "            # NOT IDLE\n",
    "            else:\n",
    "                # reduce task duration every time step\n",
    "                if(robotlist[i].tasks_dur - 1 != 0):\n",
    "                    robotlist[i].set_task_dur(robotlist[i].tasks_dur - 1)\n",
    "\n",
    "                # Replicator \n",
    "                elif(robotlist[i].tasks_dur - 1 == 0 and robotlist[i].type == \"Replicator\"):\n",
    "                    # check if it can keep assembling next time step\n",
    "                    if(assembleCheck(robotlist[i],\"Replicator\")):\n",
    "                        isAssembling = assembling(robotlist[i],\"Replicator\")\n",
    "                    elif(printCheck(robotlist[i])):\n",
    "                        isPrinting = printing(robotlist[i])\t\n",
    "                    elif(collectCheck(robotlist[i])):\n",
    "                        collecting(robotlist[i])\t\n",
    "                    else:\n",
    "                        robotlist[i].set_prev_task(robotlist[i].get_curr_task())\n",
    "                        robotlist[i].set_task_dur(0)\n",
    "                        robotlist[i].set_curr_task(\"idle\")\n",
    "\n",
    "                    # it enters this loop only when it has to pop a new robot\n",
    "                    if(robotlist[i].get_prev_task()==\"assembling\"):\n",
    "                        newbot = assemble(robotlist[i],\"Replicator\")\n",
    "                        if newbot and newbot.build_qual>=0.5:\n",
    "                            if(newbot.type == \"Normal\"):\n",
    "                                canCollect = collectCheck(newbot)\n",
    "                                if canCollect:\n",
    "                                    collecting(newbot)\n",
    "                            if(newbot.type == \"Replicator\"):\n",
    "                                if(assembleCheck(newbot,\"Replicator\")):\n",
    "                                    assembling(newbot,\"Replicator\")\n",
    "                                elif(printCheck(robotlist[i])):\n",
    "                                    printing(robotlist[i])\n",
    "                                elif(collectCheck(robotlist[i])):\n",
    "                                    collecting(robotlist[i])\t\n",
    "                                else:\n",
    "                                    newbot.set_prev_task(robotlist[i].get_curr_task())\n",
    "                                    newbot.set_task_dur(0)\n",
    "                                    newbot.set_curr_task(\"idle\")\n",
    "                            totlist.append(newbot)\n",
    "                            robotlist.append(newbot)\n",
    "                        else:\n",
    "                            totlist.append(newbot)\n",
    "                            useless.append(newbot)\n",
    "                        robotlist[i].set_prev_task(robotlist[i].current_task)\n",
    "\n",
    "                # Normal\n",
    "                elif(robotlist[i].type == \"Normal\"):\n",
    "                    canCollect = collectCheck(robotlist[i])\n",
    "                    if(canCollect):\n",
    "                        collecting(robotlist[i])\n",
    "                    else:\n",
    "                        robotlist[i].set_prev_task(robotlist[i].get_curr_task())\n",
    "                        robotlist[i].set_task_dur(0)\n",
    "                        robotlist[i].set_curr_task(\"idle\")\n",
    "\n",
    "        build_quality_list,vals = configHandler(t,totlist,robotlist,useless,checkENV,checkPrint,checkNonPr,checkMat)\n",
    "        df.loc[len(df)] = [t,NonPr,Printable,Materials,Env_Materials]+vals\n",
    "        tcoordslist.append(t)\n",
    "        rcoordslist.append(len(robotlist)) \n",
    "        wastecoordslist.append(len(useless))\n",
    "        t_build_quality_list.append(build_quality_list)\n",
    "        \n",
    "    df[\"Print Capacity\"] = df[[\"#Printer\", \"#Replicator\"]].sum(axis=1)\n",
    "    df[\"Assembling Capacity\"] = df[[\"#Assembler\", \"#Replicator\"]].sum(axis=1)\n",
    "    df[\"Collection Capacity\"] = df[[\"#Printer\", \"#Replicator\", \"#Assembler\", \"#Normal\"]].sum(axis=1)\n",
    "    return df"
   ]
  },
  {
   "cell_type": "code",
   "execution_count": 1620,
   "id": "3393fd3b",
   "metadata": {},
   "outputs": [],
   "source": [
    "def HHO(timesteps,robotlist,df):\n",
    "    totlist = robotlist\n",
    "    useless = []\n",
    "\n",
    "    # number of bots working\n",
    "    listnumCollecting = []\n",
    "    listnumPrinting = []\n",
    "    listnumAssembling = []\n",
    "\n",
    "    # use lists\n",
    "    tcoordslist = []\n",
    "    rcoordslist = []\n",
    "    wastecoordslist = []\n",
    "    t_build_quality_list = []\n",
    "\n",
    "    #Lists used for visualization\n",
    "    checkENV = 0\n",
    "    checkPrint = 0\n",
    "    checkNonPr = 0\n",
    "    checkMat = 0\n",
    "    \n",
    "    for t in range(0, timesteps):\n",
    "\n",
    "        for i in range(len(robotlist)):\n",
    "            # IDLE\n",
    "            if (robotlist[i].current_task == \"idle\"):\n",
    "                # Replicator\n",
    "                if (robotlist[i].type == \"Replicator\"):\n",
    "\n",
    "                    if (robotlist[i].get_previously_built() == \"\"):\n",
    "                        if (assembleCheck(robotlist[i],\"Replicator\")):\n",
    "                            isAssembling = assembling(robotlist[i], \"Replicator\")\n",
    "                        elif (assembleCheck(robotlist[i],\"Normal\")):\n",
    "                            isAssembling = assembling(robotlist[i], \"Normal\")\n",
    "                        elif (printCheck(robotlist[i])):\n",
    "                            printing(robotlist[i])\n",
    "                        else:\n",
    "                            robotlist[i].set_prev_task(robotlist[i].get_curr_task())\n",
    "                            robotlist[i].set_task_dur(0)\n",
    "                            robotlist[i].set_curr_task(\"idle\")\n",
    "\n",
    "                    else:\n",
    "                        if (assembleCheck(robotlist[i],\"Normal\") and robotlist[i].get_previously_built() == \"Replicator\"):\n",
    "                            assembling(robotlist[i], \"Normal\")\n",
    "                        elif (assembleCheck(robotlist[i],\"Replicator\") and robotlist[i].get_previously_built() == \"Normal\"):\n",
    "                            assembling(robotlist[i], \"Replicator\")\n",
    "                        elif (printCheck(robotlist[i])):\n",
    "                            printing(robotlist[i])\n",
    "                        else:\n",
    "                            robotlist[i].set_prev_task(robotlist[i].get_curr_task())\n",
    "                            robotlist[i].set_task_dur(0)\n",
    "                            robotlist[i].set_curr_task(\"idle\")\n",
    "\n",
    "                # Normal\n",
    "                elif (robotlist[i].type == \"Normal\"):\n",
    "                    canCollect = collectCheck(robotlist[i])\n",
    "                    if canCollect:\n",
    "                        collecting(robotlist[i])\n",
    "                    else:\n",
    "                        robotlist[i].set_prev_task(robotlist[i].get_curr_task())\n",
    "                        robotlist[i].set_task_dur(0)\n",
    "                        robotlist[i].set_curr_task(\"idle\")\n",
    "\n",
    "            # NOT IDLE\n",
    "            else:\n",
    "                # reduce task duration every time step\n",
    "                if (robotlist[i].tasks_dur - 1 != 0):\n",
    "                    robotlist[i].set_task_dur(robotlist[i].tasks_dur - 1)\n",
    "\n",
    "                # Replicator\n",
    "                elif (robotlist[i].tasks_dur - 1 == 0 and robotlist[i].type == \"Replicator\"):\n",
    "                    # check if it can keep assembling next time step\n",
    "                    if (assembleCheck(robotlist[i],\"Normal\") and robotlist[i].get_previously_built() == \"Replicator\"):\n",
    "                        assembling(robotlist[i], \"Normal\")\n",
    "                    elif (assembleCheck(robotlist[i],\"Replicator\") and robotlist[i].get_previously_built() == \"Normal\"):\n",
    "                        assembling(robotlist[i], \"Replicator\")\n",
    "                        # checking if robot can collect\n",
    "                    elif (printCheck(robotlist[i])):\n",
    "                        printing(robotlist[i])\n",
    "                    else:\n",
    "                        robotlist[i].set_prev_task(robotlist[i].get_curr_task())\n",
    "                        robotlist[i].set_task_dur(0)\n",
    "                        robotlist[i].set_curr_task(\"idle\")\n",
    "\n",
    "                    # it enters this loop only when it has to pop a new robot\n",
    "                    if (robotlist[i].get_prev_task() == \"assembling\"):\n",
    "\n",
    "                        if (robotlist[i].get_previously_built() == \"Normal\"):\n",
    "                            newbot = assemble(robotlist[i], \"Replicator\")\n",
    "                        elif (robotlist[i].get_previously_built() == \"Replicator\"):\n",
    "                            newbot = assemble(robotlist[i], \"Normal\")\n",
    "                        else:\n",
    "                            newbot = assemble(robotlist[i], \"Replicator\")\n",
    "\n",
    "                        if newbot and newbot.build_qual >= 0.5:\n",
    "\n",
    "                            if (newbot.type == \"Normal\"):\n",
    "                                canCollect = collectCheck(newbot)\n",
    "                                if canCollect:\n",
    "                                    collecting(newbot)\n",
    "\n",
    "                            if (newbot.type == \"Replicator\"):\n",
    "\n",
    "                                if (newbot.get_previously_built() == \"\"):\n",
    "                                    if (assembleCheck(newbot,\"Replicator\")):\n",
    "                                        isAssembling = assembling(newbot, \"Replicator\")\n",
    "                                    elif (assembleCheck(newbot,\"Normal\")):\n",
    "                                        isAssembling = assembling(newbot, \"Normal\")\n",
    "                                    elif (printCheck(newbot)):\n",
    "                                        printing(newbot)\n",
    "                                    else:\n",
    "                                        newbot.set_prev_task(newbot.get_curr_task())\n",
    "                                        newbot.set_task_dur(0)\n",
    "                                        newbot.set_curr_task(\"idle\")\n",
    "\n",
    "                                else:\n",
    "                                    if (assembleCheck(newbot,\"Normal\") and newbot.get_previously_built() == \"Replicator\"):\n",
    "                                        assembling(newbot, \"Normal\")\n",
    "                                    elif (assembleCheck(newbot,\"Replicator\") and newbot.get_previously_built() == \"Normal\"):\n",
    "                                        assembling(newbot, \"Replicator\")\n",
    "                                    # checking if robot can collect\n",
    "                                    elif (printCheck(newbot)):\n",
    "                                        printing(newbot)\n",
    "                                    else:\n",
    "                                        newbot.set_prev_task(newbot.get_curr_task())\n",
    "                                        newbot.set_task_dur(0)\n",
    "                                        newbot.set_curr_task(\"idle\")\n",
    "\n",
    "\n",
    "                            totlist.append(newbot)\n",
    "                            robotlist.append(newbot)\n",
    "                        else:\n",
    "                            totlist.append(newbot)\n",
    "                            useless.append(newbot)\n",
    "#                         robotlist[i].set_prev_task(robotlist[i].current_task)\n",
    "\n",
    "                # Normal\n",
    "                elif (robotlist[i].type == \"Normal\"):\n",
    "                    canCollect = collectCheck(robotlist[i])\n",
    "                    if (canCollect):\n",
    "                        collecting(robotlist[i])\n",
    "                    else:\n",
    "                        robotlist[i].set_prev_task(robotlist[i].get_curr_task())\n",
    "                        robotlist[i].set_task_dur(0)\n",
    "                        robotlist[i].set_curr_task(\"idle\")\n",
    "\n",
    "\n",
    "                        \n",
    "        build_quality_list,vals = configHandler(t,totlist,robotlist,useless,checkENV,checkPrint,checkNonPr,checkMat)\n",
    "        df.loc[len(df)] = [t,NonPr,Printable,Materials,Env_Materials]+vals\n",
    "        tcoordslist.append(t)\n",
    "        rcoordslist.append(len(robotlist)) \n",
    "        wastecoordslist.append(len(useless))\n",
    "        t_build_quality_list.append(build_quality_list)\n",
    "        \n",
    "    df[\"Print Capacity\"] = df[[\"#Printer\", \"#Replicator\"]].sum(axis=1)\n",
    "    df[\"Assembling Capacity\"] = df[[\"#Assembler\", \"#Replicator\"]].sum(axis=1)\n",
    "    df[\"Collection Capacity\"] = df[[\"#Printer\", \"#Replicator\", \"#Assembler\", \"#Normal\"]].sum(axis=1)\n",
    "    return df"
   ]
  },
  {
   "cell_type": "code",
   "execution_count": 1621,
   "id": "308272ac",
   "metadata": {},
   "outputs": [],
   "source": [
    "def CHE(timesteps,robotlist,df):\n",
    "    totlist = robotlist\n",
    "    useless = []\n",
    "\n",
    "    # number of bots working\n",
    "    listnumCollecting = []\n",
    "    listnumPrinting = []\n",
    "    listnumAssembling = []\n",
    "\n",
    "    # use lists\n",
    "    tcoordslist = []\n",
    "    rcoordslist = []\n",
    "    wastecoordslist = []\n",
    "    t_build_quality_list = []\n",
    "\n",
    "    #Lists used for visualization\n",
    "    checkENV = 0\n",
    "    checkPrint = 0\n",
    "    checkNonPr = 0\n",
    "    checkMat = 0\n",
    "    \n",
    "    for t in range(0,timesteps):\n",
    "\n",
    "        #Parsing through complete robot list to check their availability\n",
    "        for i in range(len(robotlist)):\n",
    "            #Checking if robot is idle\n",
    "            if(robotlist[i].current_task==\"idle\"):\n",
    "\n",
    "                #If idle and replicator\n",
    "                if(robotlist[i].type == \"Replicator\"):\n",
    "\n",
    "                    #Checking if robot can assemble\n",
    "                    if(assembleCheck(robotlist[i],\"Replicator\")):\n",
    "                        #Starting the assembly process + reducing resources\n",
    "                        assembling(robotlist[i],\"Replicator\")\n",
    "\n",
    "                    #checking if robot can print\n",
    "                    elif(printCheck(robotlist[i])):\n",
    "                        #Starting the printing process + reducing resources\n",
    "                        printing(robotlist[i])\n",
    "\n",
    "                    #checking if robot can collect\n",
    "                    elif(collectCheck(robotlist[i])):\n",
    "                        #Starting the collecting process + reducing resources\n",
    "                        collecting(robotlist[i])\n",
    "\n",
    "                    #If can't do any task then set robot to idle\n",
    "                    else:\n",
    "                        robotlist[i].set_prev_task(robotlist[i].get_curr_task())\n",
    "                        robotlist[i].set_task_dur(0)\n",
    "                        robotlist[i].set_curr_task(\"idle\")\n",
    "\n",
    "                # If idle and printer\n",
    "                elif(robotlist[i].type == \"Printer\"):\n",
    "                    if(printCheck(robotlist[i])):\n",
    "                        isPrinting = printing(robotlist[i])\n",
    "                    elif(collectCheck(robotlist[i])):\n",
    "                        collecting(robotlist[i])\n",
    "                    else:\n",
    "                        robotlist[i].set_prev_task(robotlist[i].get_curr_task())\n",
    "                        robotlist[i].set_task_dur(0)\n",
    "                        robotlist[i].set_curr_task(\"idle\")\n",
    "\n",
    "                # If idle and assembler\n",
    "                elif(robotlist[i].type == \"Assembler\"):\n",
    "\n",
    "                    if(assembleCheck(robotlist[i],\"Normal\")):\n",
    "                        assembling(robotlist[i],\"Normal\")\n",
    "                    elif(collectCheck(robotlist[i])):\n",
    "                        collecting(robotlist[i])\n",
    "                    else:\n",
    "                        robotlist[i].set_prev_task(robotlist[i].get_curr_task())\n",
    "                        robotlist[i].set_task_dur(0)\n",
    "                        robotlist[i].set_curr_task(\"idle\")\n",
    "\n",
    "                #If idle and collector\n",
    "                elif(robotlist[i].type == \"Normal\"):\n",
    "                    # checking if robot can collect\n",
    "                    if (collectCheck(robotlist[i])):\n",
    "                        # Starting the collecting process + reducing resources\n",
    "                        collecting(robotlist[i])\n",
    "                    else:\n",
    "                        robotlist[i].set_prev_task(robotlist[i].get_curr_task())\n",
    "                        robotlist[i].set_task_dur(0)\n",
    "                        robotlist[i].set_curr_task(\"idle\")\n",
    "\n",
    "            #If robot is not idle\n",
    "            else:\n",
    "\n",
    "                #Reduce task duration if task not ending in the next time step\n",
    "                if(robotlist[i].tasks_dur - 1 != 0):\n",
    "                    robotlist[i].set_task_dur(robotlist[i].tasks_dur - 1)\n",
    "\n",
    "                #If task is ending in the next time step and Printer\n",
    "                elif(robotlist[i].tasks_dur - 1 == 0 and robotlist[i].type == \"Printer\"):\n",
    "\n",
    "                    # checking if robot can print\n",
    "                    if(printCheck(robotlist[i])):\n",
    "                        # Starting the printing process + reducing resources\n",
    "                        printing(robotlist[i])\n",
    "\n",
    "                    # checking if robot can collect\n",
    "                    elif(collectCheck(robotlist[i])):\n",
    "                        # Starting the collecting process + reducing resources\n",
    "                        collecting(robotlist[i])\n",
    "\n",
    "                    # If can't do any task then set robot to idle\n",
    "                    else:\n",
    "                        robotlist[i].set_prev_task(robotlist[i].get_curr_task())\n",
    "                        robotlist[i].set_task_dur(0)\n",
    "                        robotlist[i].set_curr_task(\"idle\")\n",
    "\n",
    "\n",
    "\n",
    "\n",
    "                #If task is ending in the next time step and current robot is Assembler\n",
    "                elif(robotlist[i].tasks_dur - 1 == 0 and robotlist[i].type == \"Assembler\"):\n",
    "\n",
    "                    # check if it can keep assembling next time step\n",
    "                    if(assembleCheck(robotlist[i],\"Normal\")):\n",
    "                        # Starting the assembly process + reducing resources\n",
    "                        assembling(robotlist[i],\"Normal\")\n",
    "\n",
    "                    # checking if robot can collect\n",
    "                    elif(collectCheck(robotlist[i])):\n",
    "                        # Starting the collecting process + reducing resources\n",
    "                        collecting(robotlist[i])\n",
    "\n",
    "                    # If can't do any task then set robot to idle\n",
    "                    else:\n",
    "                        robotlist[i].set_prev_task(robotlist[i].get_curr_task())\n",
    "                        robotlist[i].set_task_dur(0)\n",
    "                        robotlist[i].set_curr_task(\"idle\")\n",
    "\n",
    "                    #If robot task is ending in the next step\n",
    "                    #Create a new robot for the robot list that can start working the next cycle\n",
    "                    if(robotlist[i].get_prev_task()==\"assembling\"):\n",
    "\n",
    "                        # Build a new replicator\n",
    "                        newbot = assemble(robotlist[i],\"Normal\")\n",
    "\n",
    "                        # If newbot passes the quality check\n",
    "                        if newbot and newbot.build_qual>=0.5:\n",
    "\n",
    "                            #If newbot is a collector\n",
    "                            if(newbot.type == \"Normal\"):\n",
    "                                # checking if robot can collect\n",
    "                                if(collectCheck(newbot)):\n",
    "                                    # Starting the collecting process + reducing resources\n",
    "                                    collecting(newbot)\n",
    "                                else:\n",
    "                                    newbot.set_prev_task(newbot.get_curr_task())\n",
    "                                    newbot.set_task_dur(0)\n",
    "                                    newbot.set_curr_task(\"idle\")\n",
    "\n",
    "                            #Adding the newbot to the total robot list and robot list\n",
    "                            totlist.append(newbot)\n",
    "                            robotlist.append(newbot)\n",
    "\n",
    "                        # If newbot does not pass the quality check\n",
    "                        else:\n",
    "                            # Adding the newbot to the total robot list and useless list\n",
    "                            totlist.append(newbot)\n",
    "                            useless.append(newbot)\n",
    "\n",
    "                #If task is ending in the next time step and Collector\n",
    "                elif(robotlist[i].type == \"Normal\"):\n",
    "\n",
    "                    # checking if robot can collect\n",
    "                    if(collectCheck(robotlist[i])):\n",
    "                        # Starting the collecting process + reducing resources\n",
    "                        collecting(robotlist[i])\n",
    "                    else:\n",
    "                        robotlist[i].set_prev_task(robotlist[i].get_curr_task())\n",
    "                        robotlist[i].set_task_dur(0)\n",
    "                        # set current task to idle if can not collect\n",
    "                        robotlist[i].set_curr_task(\"idle\")\n",
    "\n",
    "\n",
    "\n",
    "                        \n",
    "        build_quality_list,vals = configHandler(t,totlist,robotlist,useless,checkENV,checkPrint,checkNonPr,checkMat)\n",
    "        df.loc[len(df)] = [t,NonPr,Printable,Materials,Env_Materials]+vals\n",
    "        tcoordslist.append(t)\n",
    "        rcoordslist.append(len(robotlist)) \n",
    "        wastecoordslist.append(len(useless))\n",
    "        t_build_quality_list.append(build_quality_list)\n",
    "        \n",
    "    df[\"Print Capacity\"] = df[[\"#Printer\", \"#Replicator\"]].sum(axis=1)\n",
    "    df[\"Assembling Capacity\"] = df[[\"#Assembler\", \"#Replicator\"]].sum(axis=1)\n",
    "    df[\"Collection Capacity\"] = df[[\"#Printer\", \"#Replicator\", \"#Assembler\", \"#Normal\"]].sum(axis=1)\n",
    "    return df"
   ]
  },
  {
   "cell_type": "code",
   "execution_count": 1622,
   "id": "764fb465",
   "metadata": {},
   "outputs": [],
   "source": [
    "def DHE(timesteps,robotlist,df):\n",
    "    totlist = robotlist\n",
    "    useless = []\n",
    "\n",
    "    # number of bots working\n",
    "    listnumCollecting = []\n",
    "    listnumPrinting = []\n",
    "    listnumAssembling = []\n",
    "\n",
    "    # use lists\n",
    "    tcoordslist = []\n",
    "    rcoordslist = []\n",
    "    wastecoordslist = []\n",
    "    t_build_quality_list = []\n",
    "\n",
    "    #Lists used for visualization\n",
    "    checkENV = 0\n",
    "    checkPrint = 0\n",
    "    checkNonPr = 0\n",
    "    checkMat = 0\n",
    "    \n",
    "    for t in range(0, timesteps):\n",
    "\n",
    "        # Parsing through complete robot list to check their availability\n",
    "        for i in range(len(robotlist)):\n",
    "            # Checking if robot is idle\n",
    "            if (robotlist[i].current_task == \"idle\"):\n",
    "\n",
    "                # If idle and printer\n",
    "                if (robotlist[i].type == \"Printer\"):\n",
    "\n",
    "                    if (printCheck(robotlist[i])):\n",
    "                        printing(robotlist[i])\n",
    "                    elif (collectCheck(robotlist[i])):\n",
    "                        collecting(robotlist[i])\n",
    "                    else:\n",
    "                        robotlist[i].set_prev_task(robotlist[i].get_curr_task())\n",
    "                        robotlist[i].set_task_dur(0)\n",
    "                        robotlist[i].set_curr_task(\"idle\")\n",
    "\n",
    "                # If idle and assembler\n",
    "                elif (robotlist[i].type == \"Assembler\"):\n",
    "\n",
    "                    if (robotlist[i].get_previously_built() == \"\"):\n",
    "                        if (assembleCheck(robotlist[i],\"Assembler\")):\n",
    "                            isAssembling = assembling(robotlist[i], \"Assembler\")\n",
    "                        elif (assembleCheck(robotlist[i],\"Printer\")):\n",
    "                            isAssembling = assembling(robotlist[i], \"Printer\")\n",
    "                        elif (collectCheck(robotlist[i])):\n",
    "                            collecting(robotlist[i])\n",
    "                        else:\n",
    "                            robotlist[i].set_prev_task(robotlist[i].get_curr_task())\n",
    "                            robotlist[i].set_task_dur(0)\n",
    "                            robotlist[i].set_curr_task(\"idle\")\n",
    "                    else:\n",
    "                        if (assembleCheck(robotlist[i],\"Printer\") and robotlist[i].get_previously_built() == \"Assembler\"):\n",
    "                            assembling(robotlist[i], \"Printer\")\n",
    "                        elif (assembleCheck(robotlist[i],\"Assembler\") and robotlist[i].get_previously_built() == \"Printer\"):\n",
    "                            assembling(robotlist[i], \"Assembler\")\n",
    "                        # checking if robot can collect\n",
    "                        elif (collectCheck(robotlist[i])):\n",
    "                            # Starting the collecting process + reducing resources\n",
    "                            collecting(robotlist[i])\n",
    "                        else:\n",
    "                            robotlist[i].set_prev_task(robotlist[i].get_curr_task())\n",
    "                            robotlist[i].set_task_dur(0)\n",
    "                            robotlist[i].set_curr_task(\"idle\")\n",
    "\n",
    "\n",
    "            # If robot is not idle\n",
    "            else:\n",
    "\n",
    "                # Reduce task duration if task not ending in the next time step\n",
    "                if (robotlist[i].tasks_dur - 1 != 0):\n",
    "                    robotlist[i].set_task_dur(robotlist[i].tasks_dur - 1)\n",
    "\n",
    "                # If task is ending in the next time step and Printer\n",
    "                elif (robotlist[i].tasks_dur - 1 == 0 and robotlist[i].type == \"Printer\"):\n",
    "\n",
    "                    if (printCheck(robotlist[i])):\n",
    "                        printing(robotlist[i])\n",
    "                    elif (collectCheck(robotlist[i])):\n",
    "                        collecting(robotlist[i])\n",
    "                    else:\n",
    "                        robotlist[i].set_prev_task(robotlist[i].get_curr_task())\n",
    "                        robotlist[i].set_task_dur(0)\n",
    "                        robotlist[i].set_curr_task(\"idle\")\n",
    "\n",
    "\n",
    "                # If task is ending in the next time step and current robot is Assembler\n",
    "                elif (robotlist[i].tasks_dur - 1 == 0 and robotlist[i].type == \"Assembler\"):\n",
    "\n",
    "                    if (assembleCheck(robotlist[i],\"Printer\") and robotlist[i].get_previously_built() == \"Assembler\"):\n",
    "                        assembling(robotlist[i], \"Printer\")\n",
    "                    elif (assembleCheck(robotlist[i],\"Assembler\") and robotlist[i].get_previously_built() == \"Printer\"):\n",
    "                        assembling(robotlist[i], \"Assembler\")\n",
    "                        # checking if robot can collect\n",
    "                    elif (collectCheck(robotlist[i])):\n",
    "                        # Starting the collecting process + reducing resources\n",
    "                        collecting(robotlist[i])\n",
    "                    else:\n",
    "                        robotlist[i].set_prev_task(robotlist[i].get_curr_task())\n",
    "                        robotlist[i].set_task_dur(0)\n",
    "                        robotlist[i].set_curr_task(\"idle\")\n",
    "\n",
    "                    # If robot task is ending in the next step\n",
    "                    # Create a new robot for the robot list that can start working the next cycle\n",
    "                    if (robotlist[i].get_prev_task() == \"assembling\"):\n",
    "\n",
    "                        # Build a new robot in a fixed pattern\n",
    "                        if (robotlist[i].get_previously_built() == \"Printer\"):\n",
    "                            newbot = assemble(robotlist[i], \"Assembler\")\n",
    "                        elif (robotlist[i].get_previously_built() == \"Assembler\"):\n",
    "                            newbot = assemble(robotlist[i], \"Printer\")\n",
    "                        else:\n",
    "                            newbot = assemble(robotlist[i], \"Assembler\")\n",
    "\n",
    "                        # Build a new replicator\n",
    "                        # newbot = assemble(robotlist[i], robotlist[i].get_previously_built())\n",
    "                        # If newbot passes the quality check\n",
    "                        if newbot and newbot.build_qual >= 0.5:\n",
    "\n",
    "                            # If newbot is a collector))\n",
    "                            if (newbot.type == \"Printer\"):\n",
    "                                if (printCheck(newbot)):\n",
    "                                    printing(newbot)\n",
    "                                elif (collectCheck(newbot)):\n",
    "                                    collecting(newbot)\n",
    "                                else:\n",
    "                                    newbot.set_prev_task(newbot.get_curr_task())\n",
    "                                    newbot.set_task_dur(0)\n",
    "                                    newbot.set_curr_task(\"idle\")\n",
    "                            # If idle and assembler\n",
    "                            elif (newbot.type == \"Assembler\"):\n",
    "                                if (newbot.get_previously_built() == \"\"):\n",
    "                                    if (assembleCheck(newbot,\"Assembler\")):\n",
    "                                        isAssembling = assembling(newbot, \"Assembler\")\n",
    "                                    elif (assembleCheck(newbot,\"Printer\")):\n",
    "                                        isAssembling = assembling(newbot, \"Printer\")\n",
    "                                    elif (collectCheck(newbot)):\n",
    "                                        collecting(newbot)\n",
    "                                    else:\n",
    "                                        newbot.set_prev_task(newbot.get_curr_task())\n",
    "                                        newbot.set_task_dur(0)\n",
    "                                        newbot.set_curr_task(\"idle\")\n",
    "                                else:\n",
    "                                    if (newbot[i].get_previously_built() == \"Assembler\" and assembleCheck(newbot,\"Printer\")):\n",
    "                                        isAssembling = assembling(newbot, \"Printer\")\n",
    "                                    elif (newbot[i].get_previously_built() == \"Printer\" and assembleCheck(newbot,\"Assembler\")):\n",
    "                                        isAssembling = assembling(newbot, \"Assembler\")\n",
    "                                    elif (collectCheck(newbot)):\n",
    "                                        collecting(newbot)\n",
    "                                    else:\n",
    "                                        newbot.set_prev_task(newbot.get_curr_task())\n",
    "                                        newbot.set_task_dur(0)\n",
    "                                        newbot.set_curr_task(\"idle\")\n",
    "\n",
    "                            # Adding the newbot to the total robot list and robot list\n",
    "                            totlist.append(newbot)\n",
    "                            robotlist.append(newbot)\n",
    "\n",
    "                        # If newbot does not pass the quality check\n",
    "                        else:\n",
    "                            # Adding the newbot to the total robot list and useless list\n",
    "                            totlist.append(newbot)\n",
    "                            useless.append(newbot)\n",
    "\n",
    "                    # check if it can keep assembling next time step\n",
    "\n",
    "\n",
    "                # If task is ending in the next time step and Collector\n",
    "                elif (robotlist[i].type == \"Normal\"):\n",
    "\n",
    "                    # checking if robot can collect\n",
    "                    if (collectCheck(robotlist[i])):\n",
    "                        # Starting the collecting process + reducing resources\n",
    "                        collecting(robotlist[i])\n",
    "                    else:\n",
    "                        robotlist[i].set_prev_task(robotlist[i].get_curr_task())\n",
    "                        robotlist[i].set_task_dur(0)\n",
    "                        # set current task to idle if can not collect\n",
    "                        robotlist[i].set_curr_task(\"idle\")\n",
    "                        \n",
    "                        \n",
    "        build_quality_list,vals = configHandler(t,totlist,robotlist,useless,checkENV,checkPrint,checkNonPr,checkMat)\n",
    "        df.loc[len(df)] = [t,NonPr,Printable,Materials,Env_Materials]+vals\n",
    "        tcoordslist.append(t)\n",
    "        rcoordslist.append(len(robotlist)) \n",
    "        wastecoordslist.append(len(useless))\n",
    "        t_build_quality_list.append(build_quality_list)\n",
    "        \n",
    "    df[\"Print Capacity\"] = df[[\"#Printer\", \"#Replicator\"]].sum(axis=1)\n",
    "    df[\"Assembling Capacity\"] = df[[\"#Assembler\", \"#Replicator\"]].sum(axis=1)\n",
    "    df[\"Collection Capacity\"] = df[[\"#Printer\", \"#Replicator\", \"#Assembler\", \"#Normal\"]].sum(axis=1)\n",
    "    return df\n"
   ]
  },
  {
   "cell_type": "code",
   "execution_count": 1623,
   "id": "390295d6",
   "metadata": {},
   "outputs": [],
   "source": [
    "def HHE(timesteps,robotlist,df):\n",
    "    totlist = robotlist\n",
    "    useless = []\n",
    "\n",
    "    # number of bots working\n",
    "    listnumCollecting = []\n",
    "    listnumPrinting = []\n",
    "    listnumAssembling = []\n",
    "\n",
    "    # use lists\n",
    "    tcoordslist = []\n",
    "    rcoordslist = []\n",
    "    wastecoordslist = []\n",
    "    t_build_quality_list = []\n",
    "\n",
    "    #Lists used for visualization\n",
    "    checkENV = 0\n",
    "    checkPrint = 0\n",
    "    checkNonPr = 0\n",
    "    checkMat = 0\n",
    "    # For loop for each time step\n",
    "    for t in range(0, timesteps):\n",
    "\n",
    "        # Parsing through complete robot list to check their availability\n",
    "        for i in range(len(robotlist)):\n",
    "            # Checking if robot is idle\n",
    "            if (robotlist[i].current_task == \"idle\"):\n",
    "\n",
    "                # If idle and replicator\n",
    "                if (robotlist[i].type == \"Replicator\"):\n",
    "\n",
    "                    # Checking if robot can assemble\n",
    "                    if (assembleCheck(robotlist[i],\"Replicator\")):\n",
    "                        # Starting the assembly process + reducing resources\n",
    "                        assembling(robotlist[i], \"Replicator\")\n",
    "\n",
    "                    # checking if robot can print\n",
    "                    elif (printCheck(robotlist[i])):\n",
    "                        # Starting the printing process + reducing resources\n",
    "                        printing(robotlist[i])\n",
    "\n",
    "                    # checking if robot can collect\n",
    "                    elif (collectCheck(robotlist[i])):\n",
    "                        # Starting the collecting process + reducing resources\n",
    "                        collecting(robotlist[i])\n",
    "\n",
    "                    # If can't do any task then set robot to idle\n",
    "                    else:\n",
    "                        resetTasks(robotlist[i])\n",
    "\n",
    "                # If idle and printer\n",
    "                elif (robotlist[i].type == \"Printer\"):\n",
    "\n",
    "                    if (printCheck(robotlist[i])):\n",
    "                        printing(robotlist[i])\n",
    "                    elif (collectCheck(robotlist[i])):\n",
    "                        collecting(robotlist[i])\n",
    "                    else:\n",
    "                        resetTasks(robotlist[i])\n",
    "                        \n",
    "                # If idle and assembler\n",
    "                elif (robotlist[i].type == \"Assembler\"):\n",
    "\n",
    "                    if (robotlist[i].get_previously_built() == \"\"):\n",
    "                        if (assembleCheck(robotlist[i],\"Normal\")):\n",
    "                            isAssembling = assembling(robotlist[i], \"Normal\")\n",
    "                        elif (assembleCheck(robotlist[i],\"Assembler\")):\n",
    "                            isAssembling = assembling(robotlist[i], \"Assembler\")\n",
    "                        elif (assembleCheck(robotlist[i],\"Printer\")):\n",
    "                            isAssembling = assembling(robotlist[i], \"Printer\")\n",
    "                        elif (collectCheck(robotlist[i])):\n",
    "                            collecting(robotlist[i])\n",
    "                        else:\n",
    "                            robotlist[i].set_prev_task(robotlist[i].get_curr_task())\n",
    "                            robotlist[i].set_task_dur(0)\n",
    "                            robotlist[i].set_curr_task(\"idle\")\n",
    "                    else:\n",
    "                        if (robotlist[i].get_previously_built() == \"Assembler\" and assembleCheck(robotlist[i],\"Printer\")):\n",
    "                            isAssembling = assembling(robotlist[i], \"Printer\")\n",
    "                        elif (robotlist[i].get_previously_built() == \"Printer\" and assembleCheck(robotlist[i],\"Normal\")):\n",
    "                            isAssembling = assembling(robotlist[i], \"Normal\")\n",
    "                        elif (robotlist[i].get_previously_built() == \"Normal\" and assembleCheck(robotlist[i],\"Assembler\")):\n",
    "                            isAssembling = assembling(robotlist[i], \"Assembler\")\n",
    "                        elif (collectCheck(robotlist[i])):\n",
    "                            collecting(robotlist[i])\n",
    "                        else:\n",
    "                            resetTasks(robotlist[i])\n",
    "\n",
    "                # If idle and collector\n",
    "                elif (robotlist[i].type == \"Normal\"):\n",
    "                    # checking if robot can collect\n",
    "                    if (collectCheck(robotlist[i])):\n",
    "                        # Starting the collecting process + reducing resources\n",
    "                        collecting(robotlist[i])\n",
    "                    else:\n",
    "                        resetTasks(robotlist[i])\n",
    "\n",
    "            # If robot is not idle\n",
    "            else:\n",
    "\n",
    "                # Reduce task duration if task not ending in the next time step\n",
    "                if (robotlist[i].tasks_dur - 1 != 0):\n",
    "                    robotlist[i].set_task_dur(robotlist[i].tasks_dur - 1)\n",
    "\n",
    "                # If task is ending in the next time step and Printer\n",
    "                elif (robotlist[i].tasks_dur - 1 == 0 and robotlist[i].type == \"Printer\"):\n",
    "\n",
    "                    # checking if robot can print\n",
    "                    if (printCheck(robotlist[i])):\n",
    "                        # Starting the printing process + reducing resources\n",
    "                        printing(robotlist[i])\n",
    "\n",
    "                    # checking if robot can collect\n",
    "                    elif (collectCheck(robotlist[i])):\n",
    "                        # Starting the collecting process + reducing resources\n",
    "                        collecting(robotlist[i])\n",
    "\n",
    "                    # If can't do any task then set robot to idle\n",
    "                    else:\n",
    "                        resetTasks(robotlist[i])\n",
    "\n",
    "\n",
    "                # If task is ending in the next time step and current robot is Assembler\n",
    "                elif (robotlist[i].tasks_dur - 1 == 0 and robotlist[i].type == \"Assembler\"):\n",
    "\n",
    "                    if (assembleCheck(robotlist[i],\"Normal\") and robotlist[i].get_previously_built() == \"Printer\"):\n",
    "                        assembling(robotlist[i], \"Normal\")\n",
    "                    elif (assembleCheck(robotlist[i],\"Printer\") and robotlist[i].get_previously_built() == \"Assembler\"):\n",
    "                        assembling(robotlist[i], \"Printer\")\n",
    "                    elif (assembleCheck(robotlist[i],\"Assembler\") and robotlist[i].get_previously_built() == \"Normal\"):\n",
    "                        assembling(robotlist[i], \"Assembler\")\n",
    "                        # checking if robot can collect\n",
    "                    elif (collectCheck(robotlist[i])):\n",
    "                        # Starting the collecting process + reducing resources\n",
    "                        collecting(robotlist[i])\n",
    "\n",
    "                        # If can't do any task then set robot to idle\n",
    "                    else:\n",
    "                        resetTasks(robotlist[i])\n",
    "\n",
    "                    # If robot task is ending in the next step\n",
    "                    # Create a new robot for the robot list that can start working the next cycle\n",
    "                    if (robotlist[i].get_prev_task() == \"assembling\"):\n",
    "\n",
    "                        # Build a new robot in a fixed pattern\n",
    "                        if (robotlist[i].get_previously_built() == \"\"):\n",
    "                            newbot = assemble(robotlist[i], \"Normal\")\n",
    "                        elif (robotlist[i].get_previously_built() == \"Normal\"):\n",
    "                            newbot = assemble(robotlist[i], \"Printer\")\n",
    "                        elif (robotlist[i].get_previously_built() == \"Printer\"):\n",
    "                            newbot = assemble(robotlist[i], \"Assembler\")\n",
    "                        elif (robotlist[i].get_previously_built() == \"Assembler\"):\n",
    "                            newbot = assemble(robotlist[i], \"Normal\")\n",
    "                        else:\n",
    "                            newbot = assemble(robotlist[i], \"Normal\")\n",
    "\n",
    "                        # Build a new replicator\n",
    "                        # newbot = assemble(robotlist[i], robotlist[i].get_previously_built())\n",
    "                        # If newbot passes the quality check\n",
    "                        if newbot and newbot.build_qual >= 0.5:\n",
    "\n",
    "                            # If newbot is a collector))\n",
    "                            if (checkType(newbot,\"Normal\")):\n",
    "                                # checking if robot can collect\n",
    "                                if (collectCheck(newbot)):\n",
    "                                    # Starting the collecting process + reducing resources\n",
    "                                    collecting(newbot)\n",
    "                                else:\n",
    "                                    resetTasks(newbot)\n",
    "\n",
    "                            elif (newbot.type == \"Printer\"):\n",
    "                                if (printCheck(newbot)):\n",
    "                                    printing(newbot)\n",
    "                                elif (collectCheck(newbot)):\n",
    "                                    collecting(newbot)\n",
    "                                else:\n",
    "                                    newbot.set_prev_task(newbot.get_curr_task())\n",
    "                                    newbot.set_task_dur(0)\n",
    "                                    newbot.set_curr_task(\"idle\")\n",
    "                            # If idle and assembler\n",
    "                            elif (checkType(newbot,\"Assembler\")):\n",
    "                                if (newbot.get_previously_built() == \"\"):\n",
    "                                    if (assembleCheck(newbot,\"Normal\")):\n",
    "                                        isAssembling = assembling(newbot, \"Normal\")\n",
    "                                    elif (assembleCheck(newbot,\"Assembler\")):\n",
    "                                        isAssembling = assembling(newbot, \"Assembler\")\n",
    "                                    elif (assembleCheck(newbot,\"Printer\")):\n",
    "                                        isAssembling = assembling(newbot, \"Printer\")\n",
    "                                    elif (collectCheck(newbot)):\n",
    "                                        collecting(newbot)\n",
    "                                    else:\n",
    "                                        resetTasks(newbot)\n",
    "                                else:\n",
    "                                    if (newbot[i].get_previously_built() == \"Assembler\" and assembleCheck(newbot,\"Printer\")):\n",
    "                                        isAssembling = assembling(newbot, \"Printer\")\n",
    "                                    elif (newbot[i].get_previously_built() == \"Printer\" and assembleCheck(newbot,\"Normal\")):\n",
    "                                        isAssembling = assembling(newbot, \"Normal\")\n",
    "                                    elif (newbot[i].get_previously_built() == \"Normal\" and assembleCheck(newbot,\"Printer\")):\n",
    "                                        isAssembling = assembling(newbot, \"Printer\")\n",
    "                                    elif (collectCheck(newbot)):\n",
    "                                        collecting(newbot)\n",
    "                                    else:\n",
    "                                        resetTasks(newbot)\n",
    "                            # Adding the newbot to the total robot list and robot list\n",
    "                            totlist.append(newbot)\n",
    "                            robotlist.append(newbot)\n",
    "\n",
    "                        # If newbot does not pass the quality check\n",
    "                        else:\n",
    "                            # Adding the newbot to the total robot list and useless list\n",
    "                            totlist.append(newbot)\n",
    "                            useless.append(newbot)\n",
    "\n",
    "                    # check if it can keep assembling next time step\n",
    "\n",
    "\n",
    "                # If task is ending in the next time step and Collector\n",
    "                elif (robotlist[i].type == \"Normal\"):\n",
    "\n",
    "                    # checking if robot can collect\n",
    "                    if (collectCheck(robotlist[i])):\n",
    "                        # Starting the collecting process + reducing resources\n",
    "                        collecting(robotlist[i])\n",
    "                    else:\n",
    "                        robotlist[i].set_prev_task(robotlist[i].get_curr_task())\n",
    "                        robotlist[i].set_task_dur(0)\n",
    "                        # set current task to idle if can not collect\n",
    "                        robotlist[i].set_curr_task(\"idle\")\n",
    "        \n",
    "        build_quality_list,vals = configHandler(t,totlist,robotlist,useless,checkENV,checkPrint,checkNonPr,checkMat)\n",
    "        df.loc[len(df)] = [t,NonPr,Printable,Materials,Env_Materials]+vals\n",
    "        tcoordslist.append(t)\n",
    "        rcoordslist.append(len(robotlist)) \n",
    "        wastecoordslist.append(len(useless))\n",
    "        t_build_quality_list.append(build_quality_list)\n",
    "        \n",
    "    df[\"Print Capacity\"] = df[[\"#Printer\", \"#Replicator\"]].sum(axis=1)\n",
    "    df[\"Assembling Capacity\"] = df[[\"#Assembler\", \"#Replicator\"]].sum(axis=1)\n",
    "    df[\"Collection Capacity\"] = df[[\"#Printer\", \"#Replicator\", \"#Assembler\", \"#Normal\"]].sum(axis=1)\n",
    "    return df"
   ]
  },
  {
   "cell_type": "code",
   "execution_count": 1624,
   "id": "5a51cf20",
   "metadata": {},
   "outputs": [],
   "source": [
    "def plotdf(df,configname,cols):\n",
    "    fig = px.bar(df, x=\"Time\", y=cols, title=configname+ \" - Habitat over Time\") #,labels={'#In':'#in-service','#Out':'#out-service'})\n",
    "    fig.update_layout(hovermode=\"x\")\n",
    "    fig.update_xaxes(title_text='Time')\n",
    "    fig.update_yaxes(title_text='#Robots')\n",
    "    fig.show()\n",
    "   \n",
    "        \n",
    "#     ['Time', 'NonPr', 'Printable', 'Materials', 'Env_Materials',\n",
    "#        '#Replicator', '#Normal', '#Assembler', '#Printer', '#Assembling',\n",
    "#        '#Printing', '#Collecting', '#Idle', '#In', '#Out',\n",
    "#        'Average Build Quality in-service', 'Average Build Quality of System',\n",
    "#        '#WasteReplicator', '#WasteNormal', '#WasteAssembler', '#WastePrinter',\n",
    "#        'Environment Exhaust Time', 'Printable Exhaust Time',\n",
    "#        'NonPr Exhaust Time', 'Material Exhaust Time', 'Print Capacity',\n",
    "#        'Assembling Capacity', 'Collection Capacity']\n",
    "\n",
    "#     pio.write_html(fig, file=configname+' - Habitat over time.html', auto_open=False, include_plotlyjs='cdn')\n",
    "    fig.write_html(configname+' - Habitat over time.html', include_plotlyjs='cdn')\n",
    "    cspy.iplot(fig,filename=configname+' - Habitat over time.html',auto_open=False)\n",
    "\n",
    "    fig = make_subplots(rows=2, cols=2,\n",
    "        subplot_titles=(\"Types of Robots vs Time\", \"Resources vs Time\",\n",
    "                        \"Tasks of Robots vs Time\", \"Build Quality vs Time\"),\n",
    "        specs=[[{\"type\": \"bar\"}, {\"type\": \"scatter\"}],[{\"type\": \"bar\"}, {\"type\": \"scatter\"}]])\n",
    "    \n",
    "    fig.add_trace(go.Bar(x=df['Time'],y=df['#Replicator'],name='#Replicator'),row=1, col=1)\n",
    "    fig.add_trace(go.Bar(x=df['Time'],y=df['#Normal'],name='#Normal'),row=1, col=1)\n",
    "    fig.add_trace(go.Bar(x=df['Time'],y=df['#Assembler'],name='#Assembler'),row=1, col=1)\n",
    "    fig.add_trace(go.Bar(x=df['Time'],y=df['#Printer'],name='#Printer'),row=1, col=1)\n",
    "    \n",
    "\n",
    "    fig.add_trace(go.Bar(x=df['Time'],y=df['#Assembling'],name='#Assembling'),row=2, col=1)\n",
    "    fig.add_trace(go.Bar(x=df['Time'],y=df['#Printing'],name='#Printing'),row=2, col=1)\n",
    "    fig.add_trace(go.Bar(x=df['Time'],y=df['#Collecting'],name='#Collecting'),row=2, col=1)\n",
    "    fig.add_trace(go.Bar(x=df['Time'],y=df['#Idle'],name='#Idle'),row=2, col=1)\n",
    "    \n",
    "    fig.add_trace(go.Scatter(x=df[\"Time\"], y=df['NonPr'], mode=\"lines\",name='NonPr'),row=1, col=2)\n",
    "    fig.add_trace(go.Scatter(x=df[\"Time\"], y=df['Printable'], mode=\"lines\",name='Printable'),row=1, col=2)\n",
    "    fig.add_trace(go.Scatter(x=df[\"Time\"], y=df['Materials'], mode=\"lines\",name='Materials'),row=1, col=2)\n",
    "    fig.add_trace(go.Scatter(x=df[\"Time\"], y=df['Env_Materials'], mode=\"lines\",name='Env_Materials'),row=1, col=2)\n",
    "\n",
    "    fig.add_trace(go.Scatter(x=df[\"Time\"], y=df['Average Build Quality in-service'], mode=\"lines\",name='Avg. Quality #in'),row=2, col=2)#                               \n",
    "    fig.add_trace(go.Scatter(x=df[\"Time\"], y=df['Average Build Quality of System'], mode=\"lines\",name='Avg. Quality #total'),row=2, col=2)#                               \n",
    "    fig.update_layout(hovermode=\"x\",title=configname+\" - Characteristics\")\n",
    "#     fig.update_layout(height=700, showlegend=False)\n",
    "\n",
    "    fig.show()\n",
    "    fig.write_html(configname+' - Characteristics.html', include_plotlyjs='cdn')\n",
    "    cspy.iplot(fig,filename=configname+' - Characteristics.html',auto_open=False)\n",
    "#     pio.write_html(fig, file=configname+' - Characteristics.html', auto_open=False, include_plotlyjs='cdn')\n",
    "    "
   ]
  },
  {
   "cell_type": "markdown",
   "id": "bb048060",
   "metadata": {},
   "source": [
    "# main( )"
   ]
  },
  {
   "cell_type": "code",
   "execution_count": 14,
   "id": "29213aca",
   "metadata": {},
   "outputs": [],
   "source": [
    "def main(configname,timesteps):\n",
    "    build_qual_range = [0.85,0.95]\n",
    "    init_build_qual = random.uniform(build_qual_range[0],build_qual_range[1])\n",
    "    df = pd.DataFrame(columns = table_columns)\n",
    "    \n",
    "    if configname==\"CHO\":\n",
    "        robot = Robot(\"Replicator\",init_build_qual,rid)\n",
    "        robotlist = [robot]\n",
    "        resetGlobal(timesteps,1,0,0,0)\n",
    "        df = CHO(timesteps,robotlist,df)  \n",
    "        plotdf(df,configname,[\"#In\", \"#Out\"])\n",
    "        \n",
    "    elif configname==\"DHO\":\n",
    "        robot = Robot(\"Replicator\",init_build_qual,rid)\n",
    "        robotlist = [robot]\n",
    "        resetGlobal(timesteps,1,0,0,0)\n",
    "        df = DHO(timesteps,robotlist,df)  \n",
    "        plotdf(df,configname,[\"#In\", \"#Out\"])\n",
    "        \n",
    "    elif configname==\"HHO\":\n",
    "        robot = Robot(\"Replicator\",init_build_qual,rid)\n",
    "        robotlist = [robot]\n",
    "        resetGlobal(timesteps,1,0,0,0)\n",
    "        df = HHO(timesteps,robotlist,df)  \n",
    "        plotdf(df,configname,[\"#In\", \"#Out\"])\n",
    "        \n",
    "    elif configname==\"CHE\":\n",
    "        robot1 = Robot(\"Printer\",init_build_qual,pid)\n",
    "        robot2 = Robot(\"Assembler\",init_build_qual,aid)\n",
    "        robotlist = [robot1,robot2]\n",
    "        resetGlobal(timesteps,0,0,1,1)\n",
    "        df = CHE(timesteps,robotlist,df)  \n",
    "        plotdf(df,configname,[\"#In\", \"#Out\"])\n",
    "        \n",
    "    elif configname==\"DHE\":\n",
    "        robot1 = Robot(\"Printer\",init_build_qual,pid)\n",
    "        robot2 = Robot(\"Assembler\",init_build_qual,aid)\n",
    "        robotlist = [robot1,robot2]\n",
    "        resetGlobal(timesteps,0,0,1,1)\n",
    "        df = DHE(timesteps,robotlist,df)  \n",
    "        plotdf(df,configname,[\"#In\", \"#Out\"])\n",
    "        \n",
    "    elif configname==\"HHE\":\n",
    "        robot1 = Robot(\"Printer\",init_build_qual,pid)\n",
    "        robot2 = Robot(\"Assembler\",init_build_qual,aid)\n",
    "        robotlist = [robot1,robot2]\n",
    "        resetGlobal(timesteps,0,0,1,1)\n",
    "        df = HHE(timesteps,robotlist,df)  \n",
    "        plotdf(df,configname,[\"#In\", \"#Out\"])\n",
    "#         display(df.head())\n",
    "        \n",
    "#         fig = px.bar(df, x=\"Time\", y=[\"#In\", \"#Out\"], title=configname,labels={'#In':'#in-service','#Out':'#out-service'})\n",
    "#         fig.show()\n"
   ]
  },
  {
   "cell_type": "markdown",
   "id": "09466134",
   "metadata": {},
   "source": [
    "# Run"
   ]
  },
  {
   "cell_type": "code",
   "execution_count": 1626,
   "id": "8e4ebd16",
   "metadata": {
    "scrolled": false
   },
   "outputs": [
    {
     "data": {
      "application/vnd.plotly.v1+json": {
       "config": {
        "plotlyServerURL": "https://plotly.com"
       },
       "data": [
        {
         "alignmentgroup": "True",
         "hovertemplate": "variable=#In<br>Time=%{x}<br>value=%{y}<extra></extra>",
         "legendgroup": "#In",
         "marker": {
          "color": "#636efa",
          "pattern": {
           "shape": ""
          }
         },
         "name": "#In",
         "offsetgroup": "#In",
         "orientation": "v",
         "showlegend": true,
         "textposition": "auto",
         "type": "bar",
         "x": [
          0,
          1,
          2,
          3,
          4,
          5,
          6,
          7,
          8,
          9,
          10,
          11,
          12,
          13,
          14,
          15,
          16,
          17,
          18,
          19,
          20,
          21,
          22,
          23,
          24,
          25,
          26,
          27,
          28,
          29,
          30,
          31,
          32,
          33,
          34,
          35,
          36,
          37,
          38,
          39,
          40,
          41,
          42,
          43,
          44,
          45,
          46,
          47,
          48,
          49,
          50,
          51,
          52,
          53,
          54,
          55,
          56,
          57,
          58,
          59,
          60,
          61,
          62,
          63,
          64,
          65,
          66,
          67,
          68,
          69,
          70,
          71,
          72,
          73,
          74
         ],
         "xaxis": "x",
         "y": [
          1,
          1,
          3,
          3,
          5,
          5,
          7,
          7,
          9,
          9,
          11,
          11,
          13,
          13,
          15,
          15,
          17,
          17,
          19,
          19,
          21,
          21,
          23,
          23,
          25,
          25,
          27,
          27,
          29,
          29,
          31,
          31,
          33,
          33,
          35,
          35,
          37,
          37,
          39,
          39,
          41,
          41,
          43,
          43,
          45,
          45,
          47,
          47,
          49,
          49,
          51,
          51,
          53,
          53,
          55,
          55,
          57,
          57,
          59,
          59,
          61,
          61,
          63,
          63,
          65,
          65,
          67,
          67,
          69,
          69,
          71,
          71,
          73,
          73,
          75
         ],
         "yaxis": "y"
        },
        {
         "alignmentgroup": "True",
         "hovertemplate": "variable=#Out<br>Time=%{x}<br>value=%{y}<extra></extra>",
         "legendgroup": "#Out",
         "marker": {
          "color": "#EF553B",
          "pattern": {
           "shape": ""
          }
         },
         "name": "#Out",
         "offsetgroup": "#Out",
         "orientation": "v",
         "showlegend": true,
         "textposition": "auto",
         "type": "bar",
         "x": [
          0,
          1,
          2,
          3,
          4,
          5,
          6,
          7,
          8,
          9,
          10,
          11,
          12,
          13,
          14,
          15,
          16,
          17,
          18,
          19,
          20,
          21,
          22,
          23,
          24,
          25,
          26,
          27,
          28,
          29,
          30,
          31,
          32,
          33,
          34,
          35,
          36,
          37,
          38,
          39,
          40,
          41,
          42,
          43,
          44,
          45,
          46,
          47,
          48,
          49,
          50,
          51,
          52,
          53,
          54,
          55,
          56,
          57,
          58,
          59,
          60,
          61,
          62,
          63,
          64,
          65,
          66,
          67,
          68,
          69,
          70,
          71,
          72,
          73,
          74
         ],
         "xaxis": "x",
         "y": [
          0,
          0,
          0,
          0,
          0,
          0,
          0,
          0,
          0,
          0,
          0,
          0,
          0,
          0,
          0,
          0,
          0,
          0,
          0,
          0,
          0,
          0,
          0,
          0,
          0,
          0,
          0,
          0,
          0,
          0,
          0,
          0,
          0,
          0,
          0,
          0,
          0,
          0,
          0,
          0,
          0,
          0,
          0,
          0,
          0,
          0,
          0,
          0,
          0,
          0,
          0,
          0,
          0,
          0,
          0,
          0,
          0,
          0,
          0,
          0,
          0,
          0,
          0,
          0,
          0,
          0,
          0,
          0,
          0,
          0,
          0,
          0,
          0,
          0,
          0
         ],
         "yaxis": "y"
        }
       ],
       "layout": {
        "barmode": "relative",
        "hovermode": "x",
        "legend": {
         "title": {
          "text": "variable"
         },
         "tracegroupgap": 0
        },
        "template": {
         "data": {
          "bar": [
           {
            "error_x": {
             "color": "#2a3f5f"
            },
            "error_y": {
             "color": "#2a3f5f"
            },
            "marker": {
             "line": {
              "color": "#E5ECF6",
              "width": 0.5
             },
             "pattern": {
              "fillmode": "overlay",
              "size": 10,
              "solidity": 0.2
             }
            },
            "type": "bar"
           }
          ],
          "barpolar": [
           {
            "marker": {
             "line": {
              "color": "#E5ECF6",
              "width": 0.5
             },
             "pattern": {
              "fillmode": "overlay",
              "size": 10,
              "solidity": 0.2
             }
            },
            "type": "barpolar"
           }
          ],
          "carpet": [
           {
            "aaxis": {
             "endlinecolor": "#2a3f5f",
             "gridcolor": "white",
             "linecolor": "white",
             "minorgridcolor": "white",
             "startlinecolor": "#2a3f5f"
            },
            "baxis": {
             "endlinecolor": "#2a3f5f",
             "gridcolor": "white",
             "linecolor": "white",
             "minorgridcolor": "white",
             "startlinecolor": "#2a3f5f"
            },
            "type": "carpet"
           }
          ],
          "choropleth": [
           {
            "colorbar": {
             "outlinewidth": 0,
             "ticks": ""
            },
            "type": "choropleth"
           }
          ],
          "contour": [
           {
            "colorbar": {
             "outlinewidth": 0,
             "ticks": ""
            },
            "colorscale": [
             [
              0,
              "#0d0887"
             ],
             [
              0.1111111111111111,
              "#46039f"
             ],
             [
              0.2222222222222222,
              "#7201a8"
             ],
             [
              0.3333333333333333,
              "#9c179e"
             ],
             [
              0.4444444444444444,
              "#bd3786"
             ],
             [
              0.5555555555555556,
              "#d8576b"
             ],
             [
              0.6666666666666666,
              "#ed7953"
             ],
             [
              0.7777777777777778,
              "#fb9f3a"
             ],
             [
              0.8888888888888888,
              "#fdca26"
             ],
             [
              1,
              "#f0f921"
             ]
            ],
            "type": "contour"
           }
          ],
          "contourcarpet": [
           {
            "colorbar": {
             "outlinewidth": 0,
             "ticks": ""
            },
            "type": "contourcarpet"
           }
          ],
          "heatmap": [
           {
            "colorbar": {
             "outlinewidth": 0,
             "ticks": ""
            },
            "colorscale": [
             [
              0,
              "#0d0887"
             ],
             [
              0.1111111111111111,
              "#46039f"
             ],
             [
              0.2222222222222222,
              "#7201a8"
             ],
             [
              0.3333333333333333,
              "#9c179e"
             ],
             [
              0.4444444444444444,
              "#bd3786"
             ],
             [
              0.5555555555555556,
              "#d8576b"
             ],
             [
              0.6666666666666666,
              "#ed7953"
             ],
             [
              0.7777777777777778,
              "#fb9f3a"
             ],
             [
              0.8888888888888888,
              "#fdca26"
             ],
             [
              1,
              "#f0f921"
             ]
            ],
            "type": "heatmap"
           }
          ],
          "heatmapgl": [
           {
            "colorbar": {
             "outlinewidth": 0,
             "ticks": ""
            },
            "colorscale": [
             [
              0,
              "#0d0887"
             ],
             [
              0.1111111111111111,
              "#46039f"
             ],
             [
              0.2222222222222222,
              "#7201a8"
             ],
             [
              0.3333333333333333,
              "#9c179e"
             ],
             [
              0.4444444444444444,
              "#bd3786"
             ],
             [
              0.5555555555555556,
              "#d8576b"
             ],
             [
              0.6666666666666666,
              "#ed7953"
             ],
             [
              0.7777777777777778,
              "#fb9f3a"
             ],
             [
              0.8888888888888888,
              "#fdca26"
             ],
             [
              1,
              "#f0f921"
             ]
            ],
            "type": "heatmapgl"
           }
          ],
          "histogram": [
           {
            "marker": {
             "pattern": {
              "fillmode": "overlay",
              "size": 10,
              "solidity": 0.2
             }
            },
            "type": "histogram"
           }
          ],
          "histogram2d": [
           {
            "colorbar": {
             "outlinewidth": 0,
             "ticks": ""
            },
            "colorscale": [
             [
              0,
              "#0d0887"
             ],
             [
              0.1111111111111111,
              "#46039f"
             ],
             [
              0.2222222222222222,
              "#7201a8"
             ],
             [
              0.3333333333333333,
              "#9c179e"
             ],
             [
              0.4444444444444444,
              "#bd3786"
             ],
             [
              0.5555555555555556,
              "#d8576b"
             ],
             [
              0.6666666666666666,
              "#ed7953"
             ],
             [
              0.7777777777777778,
              "#fb9f3a"
             ],
             [
              0.8888888888888888,
              "#fdca26"
             ],
             [
              1,
              "#f0f921"
             ]
            ],
            "type": "histogram2d"
           }
          ],
          "histogram2dcontour": [
           {
            "colorbar": {
             "outlinewidth": 0,
             "ticks": ""
            },
            "colorscale": [
             [
              0,
              "#0d0887"
             ],
             [
              0.1111111111111111,
              "#46039f"
             ],
             [
              0.2222222222222222,
              "#7201a8"
             ],
             [
              0.3333333333333333,
              "#9c179e"
             ],
             [
              0.4444444444444444,
              "#bd3786"
             ],
             [
              0.5555555555555556,
              "#d8576b"
             ],
             [
              0.6666666666666666,
              "#ed7953"
             ],
             [
              0.7777777777777778,
              "#fb9f3a"
             ],
             [
              0.8888888888888888,
              "#fdca26"
             ],
             [
              1,
              "#f0f921"
             ]
            ],
            "type": "histogram2dcontour"
           }
          ],
          "mesh3d": [
           {
            "colorbar": {
             "outlinewidth": 0,
             "ticks": ""
            },
            "type": "mesh3d"
           }
          ],
          "parcoords": [
           {
            "line": {
             "colorbar": {
              "outlinewidth": 0,
              "ticks": ""
             }
            },
            "type": "parcoords"
           }
          ],
          "pie": [
           {
            "automargin": true,
            "type": "pie"
           }
          ],
          "scatter": [
           {
            "fillpattern": {
             "fillmode": "overlay",
             "size": 10,
             "solidity": 0.2
            },
            "type": "scatter"
           }
          ],
          "scatter3d": [
           {
            "line": {
             "colorbar": {
              "outlinewidth": 0,
              "ticks": ""
             }
            },
            "marker": {
             "colorbar": {
              "outlinewidth": 0,
              "ticks": ""
             }
            },
            "type": "scatter3d"
           }
          ],
          "scattercarpet": [
           {
            "marker": {
             "colorbar": {
              "outlinewidth": 0,
              "ticks": ""
             }
            },
            "type": "scattercarpet"
           }
          ],
          "scattergeo": [
           {
            "marker": {
             "colorbar": {
              "outlinewidth": 0,
              "ticks": ""
             }
            },
            "type": "scattergeo"
           }
          ],
          "scattergl": [
           {
            "marker": {
             "colorbar": {
              "outlinewidth": 0,
              "ticks": ""
             }
            },
            "type": "scattergl"
           }
          ],
          "scattermapbox": [
           {
            "marker": {
             "colorbar": {
              "outlinewidth": 0,
              "ticks": ""
             }
            },
            "type": "scattermapbox"
           }
          ],
          "scatterpolar": [
           {
            "marker": {
             "colorbar": {
              "outlinewidth": 0,
              "ticks": ""
             }
            },
            "type": "scatterpolar"
           }
          ],
          "scatterpolargl": [
           {
            "marker": {
             "colorbar": {
              "outlinewidth": 0,
              "ticks": ""
             }
            },
            "type": "scatterpolargl"
           }
          ],
          "scatterternary": [
           {
            "marker": {
             "colorbar": {
              "outlinewidth": 0,
              "ticks": ""
             }
            },
            "type": "scatterternary"
           }
          ],
          "surface": [
           {
            "colorbar": {
             "outlinewidth": 0,
             "ticks": ""
            },
            "colorscale": [
             [
              0,
              "#0d0887"
             ],
             [
              0.1111111111111111,
              "#46039f"
             ],
             [
              0.2222222222222222,
              "#7201a8"
             ],
             [
              0.3333333333333333,
              "#9c179e"
             ],
             [
              0.4444444444444444,
              "#bd3786"
             ],
             [
              0.5555555555555556,
              "#d8576b"
             ],
             [
              0.6666666666666666,
              "#ed7953"
             ],
             [
              0.7777777777777778,
              "#fb9f3a"
             ],
             [
              0.8888888888888888,
              "#fdca26"
             ],
             [
              1,
              "#f0f921"
             ]
            ],
            "type": "surface"
           }
          ],
          "table": [
           {
            "cells": {
             "fill": {
              "color": "#EBF0F8"
             },
             "line": {
              "color": "white"
             }
            },
            "header": {
             "fill": {
              "color": "#C8D4E3"
             },
             "line": {
              "color": "white"
             }
            },
            "type": "table"
           }
          ]
         },
         "layout": {
          "annotationdefaults": {
           "arrowcolor": "#2a3f5f",
           "arrowhead": 0,
           "arrowwidth": 1
          },
          "autotypenumbers": "strict",
          "coloraxis": {
           "colorbar": {
            "outlinewidth": 0,
            "ticks": ""
           }
          },
          "colorscale": {
           "diverging": [
            [
             0,
             "#8e0152"
            ],
            [
             0.1,
             "#c51b7d"
            ],
            [
             0.2,
             "#de77ae"
            ],
            [
             0.3,
             "#f1b6da"
            ],
            [
             0.4,
             "#fde0ef"
            ],
            [
             0.5,
             "#f7f7f7"
            ],
            [
             0.6,
             "#e6f5d0"
            ],
            [
             0.7,
             "#b8e186"
            ],
            [
             0.8,
             "#7fbc41"
            ],
            [
             0.9,
             "#4d9221"
            ],
            [
             1,
             "#276419"
            ]
           ],
           "sequential": [
            [
             0,
             "#0d0887"
            ],
            [
             0.1111111111111111,
             "#46039f"
            ],
            [
             0.2222222222222222,
             "#7201a8"
            ],
            [
             0.3333333333333333,
             "#9c179e"
            ],
            [
             0.4444444444444444,
             "#bd3786"
            ],
            [
             0.5555555555555556,
             "#d8576b"
            ],
            [
             0.6666666666666666,
             "#ed7953"
            ],
            [
             0.7777777777777778,
             "#fb9f3a"
            ],
            [
             0.8888888888888888,
             "#fdca26"
            ],
            [
             1,
             "#f0f921"
            ]
           ],
           "sequentialminus": [
            [
             0,
             "#0d0887"
            ],
            [
             0.1111111111111111,
             "#46039f"
            ],
            [
             0.2222222222222222,
             "#7201a8"
            ],
            [
             0.3333333333333333,
             "#9c179e"
            ],
            [
             0.4444444444444444,
             "#bd3786"
            ],
            [
             0.5555555555555556,
             "#d8576b"
            ],
            [
             0.6666666666666666,
             "#ed7953"
            ],
            [
             0.7777777777777778,
             "#fb9f3a"
            ],
            [
             0.8888888888888888,
             "#fdca26"
            ],
            [
             1,
             "#f0f921"
            ]
           ]
          },
          "colorway": [
           "#636efa",
           "#EF553B",
           "#00cc96",
           "#ab63fa",
           "#FFA15A",
           "#19d3f3",
           "#FF6692",
           "#B6E880",
           "#FF97FF",
           "#FECB52"
          ],
          "font": {
           "color": "#2a3f5f"
          },
          "geo": {
           "bgcolor": "white",
           "lakecolor": "white",
           "landcolor": "#E5ECF6",
           "showlakes": true,
           "showland": true,
           "subunitcolor": "white"
          },
          "hoverlabel": {
           "align": "left"
          },
          "hovermode": "closest",
          "mapbox": {
           "style": "light"
          },
          "paper_bgcolor": "white",
          "plot_bgcolor": "#E5ECF6",
          "polar": {
           "angularaxis": {
            "gridcolor": "white",
            "linecolor": "white",
            "ticks": ""
           },
           "bgcolor": "#E5ECF6",
           "radialaxis": {
            "gridcolor": "white",
            "linecolor": "white",
            "ticks": ""
           }
          },
          "scene": {
           "xaxis": {
            "backgroundcolor": "#E5ECF6",
            "gridcolor": "white",
            "gridwidth": 2,
            "linecolor": "white",
            "showbackground": true,
            "ticks": "",
            "zerolinecolor": "white"
           },
           "yaxis": {
            "backgroundcolor": "#E5ECF6",
            "gridcolor": "white",
            "gridwidth": 2,
            "linecolor": "white",
            "showbackground": true,
            "ticks": "",
            "zerolinecolor": "white"
           },
           "zaxis": {
            "backgroundcolor": "#E5ECF6",
            "gridcolor": "white",
            "gridwidth": 2,
            "linecolor": "white",
            "showbackground": true,
            "ticks": "",
            "zerolinecolor": "white"
           }
          },
          "shapedefaults": {
           "line": {
            "color": "#2a3f5f"
           }
          },
          "ternary": {
           "aaxis": {
            "gridcolor": "white",
            "linecolor": "white",
            "ticks": ""
           },
           "baxis": {
            "gridcolor": "white",
            "linecolor": "white",
            "ticks": ""
           },
           "bgcolor": "#E5ECF6",
           "caxis": {
            "gridcolor": "white",
            "linecolor": "white",
            "ticks": ""
           }
          },
          "title": {
           "x": 0.05
          },
          "xaxis": {
           "automargin": true,
           "gridcolor": "white",
           "linecolor": "white",
           "ticks": "",
           "title": {
            "standoff": 15
           },
           "zerolinecolor": "white",
           "zerolinewidth": 2
          },
          "yaxis": {
           "automargin": true,
           "gridcolor": "white",
           "linecolor": "white",
           "ticks": "",
           "title": {
            "standoff": 15
           },
           "zerolinecolor": "white",
           "zerolinewidth": 2
          }
         }
        },
        "title": {
         "text": "CHO - Habitat over Time"
        },
        "xaxis": {
         "anchor": "y",
         "domain": [
          0,
          1
         ],
         "title": {
          "text": "Time"
         }
        },
        "yaxis": {
         "anchor": "x",
         "domain": [
          0,
          1
         ],
         "title": {
          "text": "#Robots"
         }
        }
       }
      },
      "text/html": [
       "<div>                            <div id=\"d12b3d73-9d36-4eff-93de-14289750308f\" class=\"plotly-graph-div\" style=\"height:525px; width:100%;\"></div>            <script type=\"text/javascript\">                require([\"plotly\"], function(Plotly) {                    window.PLOTLYENV=window.PLOTLYENV || {};                                    if (document.getElementById(\"d12b3d73-9d36-4eff-93de-14289750308f\")) {                    Plotly.newPlot(                        \"d12b3d73-9d36-4eff-93de-14289750308f\",                        [{\"alignmentgroup\":\"True\",\"hovertemplate\":\"variable=#In<br>Time=%{x}<br>value=%{y}<extra></extra>\",\"legendgroup\":\"#In\",\"marker\":{\"color\":\"#636efa\",\"pattern\":{\"shape\":\"\"}},\"name\":\"#In\",\"offsetgroup\":\"#In\",\"orientation\":\"v\",\"showlegend\":true,\"textposition\":\"auto\",\"x\":[0.0,1.0,2.0,3.0,4.0,5.0,6.0,7.0,8.0,9.0,10.0,11.0,12.0,13.0,14.0,15.0,16.0,17.0,18.0,19.0,20.0,21.0,22.0,23.0,24.0,25.0,26.0,27.0,28.0,29.0,30.0,31.0,32.0,33.0,34.0,35.0,36.0,37.0,38.0,39.0,40.0,41.0,42.0,43.0,44.0,45.0,46.0,47.0,48.0,49.0,50.0,51.0,52.0,53.0,54.0,55.0,56.0,57.0,58.0,59.0,60.0,61.0,62.0,63.0,64.0,65.0,66.0,67.0,68.0,69.0,70.0,71.0,72.0,73.0,74.0],\"xaxis\":\"x\",\"y\":[1.0,1.0,3.0,3.0,5.0,5.0,7.0,7.0,9.0,9.0,11.0,11.0,13.0,13.0,15.0,15.0,17.0,17.0,19.0,19.0,21.0,21.0,23.0,23.0,25.0,25.0,27.0,27.0,29.0,29.0,31.0,31.0,33.0,33.0,35.0,35.0,37.0,37.0,39.0,39.0,41.0,41.0,43.0,43.0,45.0,45.0,47.0,47.0,49.0,49.0,51.0,51.0,53.0,53.0,55.0,55.0,57.0,57.0,59.0,59.0,61.0,61.0,63.0,63.0,65.0,65.0,67.0,67.0,69.0,69.0,71.0,71.0,73.0,73.0,75.0],\"yaxis\":\"y\",\"type\":\"bar\"},{\"alignmentgroup\":\"True\",\"hovertemplate\":\"variable=#Out<br>Time=%{x}<br>value=%{y}<extra></extra>\",\"legendgroup\":\"#Out\",\"marker\":{\"color\":\"#EF553B\",\"pattern\":{\"shape\":\"\"}},\"name\":\"#Out\",\"offsetgroup\":\"#Out\",\"orientation\":\"v\",\"showlegend\":true,\"textposition\":\"auto\",\"x\":[0.0,1.0,2.0,3.0,4.0,5.0,6.0,7.0,8.0,9.0,10.0,11.0,12.0,13.0,14.0,15.0,16.0,17.0,18.0,19.0,20.0,21.0,22.0,23.0,24.0,25.0,26.0,27.0,28.0,29.0,30.0,31.0,32.0,33.0,34.0,35.0,36.0,37.0,38.0,39.0,40.0,41.0,42.0,43.0,44.0,45.0,46.0,47.0,48.0,49.0,50.0,51.0,52.0,53.0,54.0,55.0,56.0,57.0,58.0,59.0,60.0,61.0,62.0,63.0,64.0,65.0,66.0,67.0,68.0,69.0,70.0,71.0,72.0,73.0,74.0],\"xaxis\":\"x\",\"y\":[0.0,0.0,0.0,0.0,0.0,0.0,0.0,0.0,0.0,0.0,0.0,0.0,0.0,0.0,0.0,0.0,0.0,0.0,0.0,0.0,0.0,0.0,0.0,0.0,0.0,0.0,0.0,0.0,0.0,0.0,0.0,0.0,0.0,0.0,0.0,0.0,0.0,0.0,0.0,0.0,0.0,0.0,0.0,0.0,0.0,0.0,0.0,0.0,0.0,0.0,0.0,0.0,0.0,0.0,0.0,0.0,0.0,0.0,0.0,0.0,0.0,0.0,0.0,0.0,0.0,0.0,0.0,0.0,0.0,0.0,0.0,0.0,0.0,0.0,0.0],\"yaxis\":\"y\",\"type\":\"bar\"}],                        {\"template\":{\"data\":{\"histogram2dcontour\":[{\"type\":\"histogram2dcontour\",\"colorbar\":{\"outlinewidth\":0,\"ticks\":\"\"},\"colorscale\":[[0.0,\"#0d0887\"],[0.1111111111111111,\"#46039f\"],[0.2222222222222222,\"#7201a8\"],[0.3333333333333333,\"#9c179e\"],[0.4444444444444444,\"#bd3786\"],[0.5555555555555556,\"#d8576b\"],[0.6666666666666666,\"#ed7953\"],[0.7777777777777778,\"#fb9f3a\"],[0.8888888888888888,\"#fdca26\"],[1.0,\"#f0f921\"]]}],\"choropleth\":[{\"type\":\"choropleth\",\"colorbar\":{\"outlinewidth\":0,\"ticks\":\"\"}}],\"histogram2d\":[{\"type\":\"histogram2d\",\"colorbar\":{\"outlinewidth\":0,\"ticks\":\"\"},\"colorscale\":[[0.0,\"#0d0887\"],[0.1111111111111111,\"#46039f\"],[0.2222222222222222,\"#7201a8\"],[0.3333333333333333,\"#9c179e\"],[0.4444444444444444,\"#bd3786\"],[0.5555555555555556,\"#d8576b\"],[0.6666666666666666,\"#ed7953\"],[0.7777777777777778,\"#fb9f3a\"],[0.8888888888888888,\"#fdca26\"],[1.0,\"#f0f921\"]]}],\"heatmap\":[{\"type\":\"heatmap\",\"colorbar\":{\"outlinewidth\":0,\"ticks\":\"\"},\"colorscale\":[[0.0,\"#0d0887\"],[0.1111111111111111,\"#46039f\"],[0.2222222222222222,\"#7201a8\"],[0.3333333333333333,\"#9c179e\"],[0.4444444444444444,\"#bd3786\"],[0.5555555555555556,\"#d8576b\"],[0.6666666666666666,\"#ed7953\"],[0.7777777777777778,\"#fb9f3a\"],[0.8888888888888888,\"#fdca26\"],[1.0,\"#f0f921\"]]}],\"heatmapgl\":[{\"type\":\"heatmapgl\",\"colorbar\":{\"outlinewidth\":0,\"ticks\":\"\"},\"colorscale\":[[0.0,\"#0d0887\"],[0.1111111111111111,\"#46039f\"],[0.2222222222222222,\"#7201a8\"],[0.3333333333333333,\"#9c179e\"],[0.4444444444444444,\"#bd3786\"],[0.5555555555555556,\"#d8576b\"],[0.6666666666666666,\"#ed7953\"],[0.7777777777777778,\"#fb9f3a\"],[0.8888888888888888,\"#fdca26\"],[1.0,\"#f0f921\"]]}],\"contourcarpet\":[{\"type\":\"contourcarpet\",\"colorbar\":{\"outlinewidth\":0,\"ticks\":\"\"}}],\"contour\":[{\"type\":\"contour\",\"colorbar\":{\"outlinewidth\":0,\"ticks\":\"\"},\"colorscale\":[[0.0,\"#0d0887\"],[0.1111111111111111,\"#46039f\"],[0.2222222222222222,\"#7201a8\"],[0.3333333333333333,\"#9c179e\"],[0.4444444444444444,\"#bd3786\"],[0.5555555555555556,\"#d8576b\"],[0.6666666666666666,\"#ed7953\"],[0.7777777777777778,\"#fb9f3a\"],[0.8888888888888888,\"#fdca26\"],[1.0,\"#f0f921\"]]}],\"surface\":[{\"type\":\"surface\",\"colorbar\":{\"outlinewidth\":0,\"ticks\":\"\"},\"colorscale\":[[0.0,\"#0d0887\"],[0.1111111111111111,\"#46039f\"],[0.2222222222222222,\"#7201a8\"],[0.3333333333333333,\"#9c179e\"],[0.4444444444444444,\"#bd3786\"],[0.5555555555555556,\"#d8576b\"],[0.6666666666666666,\"#ed7953\"],[0.7777777777777778,\"#fb9f3a\"],[0.8888888888888888,\"#fdca26\"],[1.0,\"#f0f921\"]]}],\"mesh3d\":[{\"type\":\"mesh3d\",\"colorbar\":{\"outlinewidth\":0,\"ticks\":\"\"}}],\"scatter\":[{\"fillpattern\":{\"fillmode\":\"overlay\",\"size\":10,\"solidity\":0.2},\"type\":\"scatter\"}],\"parcoords\":[{\"type\":\"parcoords\",\"line\":{\"colorbar\":{\"outlinewidth\":0,\"ticks\":\"\"}}}],\"scatterpolargl\":[{\"type\":\"scatterpolargl\",\"marker\":{\"colorbar\":{\"outlinewidth\":0,\"ticks\":\"\"}}}],\"bar\":[{\"error_x\":{\"color\":\"#2a3f5f\"},\"error_y\":{\"color\":\"#2a3f5f\"},\"marker\":{\"line\":{\"color\":\"#E5ECF6\",\"width\":0.5},\"pattern\":{\"fillmode\":\"overlay\",\"size\":10,\"solidity\":0.2}},\"type\":\"bar\"}],\"scattergeo\":[{\"type\":\"scattergeo\",\"marker\":{\"colorbar\":{\"outlinewidth\":0,\"ticks\":\"\"}}}],\"scatterpolar\":[{\"type\":\"scatterpolar\",\"marker\":{\"colorbar\":{\"outlinewidth\":0,\"ticks\":\"\"}}}],\"histogram\":[{\"marker\":{\"pattern\":{\"fillmode\":\"overlay\",\"size\":10,\"solidity\":0.2}},\"type\":\"histogram\"}],\"scattergl\":[{\"type\":\"scattergl\",\"marker\":{\"colorbar\":{\"outlinewidth\":0,\"ticks\":\"\"}}}],\"scatter3d\":[{\"type\":\"scatter3d\",\"line\":{\"colorbar\":{\"outlinewidth\":0,\"ticks\":\"\"}},\"marker\":{\"colorbar\":{\"outlinewidth\":0,\"ticks\":\"\"}}}],\"scattermapbox\":[{\"type\":\"scattermapbox\",\"marker\":{\"colorbar\":{\"outlinewidth\":0,\"ticks\":\"\"}}}],\"scatterternary\":[{\"type\":\"scatterternary\",\"marker\":{\"colorbar\":{\"outlinewidth\":0,\"ticks\":\"\"}}}],\"scattercarpet\":[{\"type\":\"scattercarpet\",\"marker\":{\"colorbar\":{\"outlinewidth\":0,\"ticks\":\"\"}}}],\"carpet\":[{\"aaxis\":{\"endlinecolor\":\"#2a3f5f\",\"gridcolor\":\"white\",\"linecolor\":\"white\",\"minorgridcolor\":\"white\",\"startlinecolor\":\"#2a3f5f\"},\"baxis\":{\"endlinecolor\":\"#2a3f5f\",\"gridcolor\":\"white\",\"linecolor\":\"white\",\"minorgridcolor\":\"white\",\"startlinecolor\":\"#2a3f5f\"},\"type\":\"carpet\"}],\"table\":[{\"cells\":{\"fill\":{\"color\":\"#EBF0F8\"},\"line\":{\"color\":\"white\"}},\"header\":{\"fill\":{\"color\":\"#C8D4E3\"},\"line\":{\"color\":\"white\"}},\"type\":\"table\"}],\"barpolar\":[{\"marker\":{\"line\":{\"color\":\"#E5ECF6\",\"width\":0.5},\"pattern\":{\"fillmode\":\"overlay\",\"size\":10,\"solidity\":0.2}},\"type\":\"barpolar\"}],\"pie\":[{\"automargin\":true,\"type\":\"pie\"}]},\"layout\":{\"autotypenumbers\":\"strict\",\"colorway\":[\"#636efa\",\"#EF553B\",\"#00cc96\",\"#ab63fa\",\"#FFA15A\",\"#19d3f3\",\"#FF6692\",\"#B6E880\",\"#FF97FF\",\"#FECB52\"],\"font\":{\"color\":\"#2a3f5f\"},\"hovermode\":\"closest\",\"hoverlabel\":{\"align\":\"left\"},\"paper_bgcolor\":\"white\",\"plot_bgcolor\":\"#E5ECF6\",\"polar\":{\"bgcolor\":\"#E5ECF6\",\"angularaxis\":{\"gridcolor\":\"white\",\"linecolor\":\"white\",\"ticks\":\"\"},\"radialaxis\":{\"gridcolor\":\"white\",\"linecolor\":\"white\",\"ticks\":\"\"}},\"ternary\":{\"bgcolor\":\"#E5ECF6\",\"aaxis\":{\"gridcolor\":\"white\",\"linecolor\":\"white\",\"ticks\":\"\"},\"baxis\":{\"gridcolor\":\"white\",\"linecolor\":\"white\",\"ticks\":\"\"},\"caxis\":{\"gridcolor\":\"white\",\"linecolor\":\"white\",\"ticks\":\"\"}},\"coloraxis\":{\"colorbar\":{\"outlinewidth\":0,\"ticks\":\"\"}},\"colorscale\":{\"sequential\":[[0.0,\"#0d0887\"],[0.1111111111111111,\"#46039f\"],[0.2222222222222222,\"#7201a8\"],[0.3333333333333333,\"#9c179e\"],[0.4444444444444444,\"#bd3786\"],[0.5555555555555556,\"#d8576b\"],[0.6666666666666666,\"#ed7953\"],[0.7777777777777778,\"#fb9f3a\"],[0.8888888888888888,\"#fdca26\"],[1.0,\"#f0f921\"]],\"sequentialminus\":[[0.0,\"#0d0887\"],[0.1111111111111111,\"#46039f\"],[0.2222222222222222,\"#7201a8\"],[0.3333333333333333,\"#9c179e\"],[0.4444444444444444,\"#bd3786\"],[0.5555555555555556,\"#d8576b\"],[0.6666666666666666,\"#ed7953\"],[0.7777777777777778,\"#fb9f3a\"],[0.8888888888888888,\"#fdca26\"],[1.0,\"#f0f921\"]],\"diverging\":[[0,\"#8e0152\"],[0.1,\"#c51b7d\"],[0.2,\"#de77ae\"],[0.3,\"#f1b6da\"],[0.4,\"#fde0ef\"],[0.5,\"#f7f7f7\"],[0.6,\"#e6f5d0\"],[0.7,\"#b8e186\"],[0.8,\"#7fbc41\"],[0.9,\"#4d9221\"],[1,\"#276419\"]]},\"xaxis\":{\"gridcolor\":\"white\",\"linecolor\":\"white\",\"ticks\":\"\",\"title\":{\"standoff\":15},\"zerolinecolor\":\"white\",\"automargin\":true,\"zerolinewidth\":2},\"yaxis\":{\"gridcolor\":\"white\",\"linecolor\":\"white\",\"ticks\":\"\",\"title\":{\"standoff\":15},\"zerolinecolor\":\"white\",\"automargin\":true,\"zerolinewidth\":2},\"scene\":{\"xaxis\":{\"backgroundcolor\":\"#E5ECF6\",\"gridcolor\":\"white\",\"linecolor\":\"white\",\"showbackground\":true,\"ticks\":\"\",\"zerolinecolor\":\"white\",\"gridwidth\":2},\"yaxis\":{\"backgroundcolor\":\"#E5ECF6\",\"gridcolor\":\"white\",\"linecolor\":\"white\",\"showbackground\":true,\"ticks\":\"\",\"zerolinecolor\":\"white\",\"gridwidth\":2},\"zaxis\":{\"backgroundcolor\":\"#E5ECF6\",\"gridcolor\":\"white\",\"linecolor\":\"white\",\"showbackground\":true,\"ticks\":\"\",\"zerolinecolor\":\"white\",\"gridwidth\":2}},\"shapedefaults\":{\"line\":{\"color\":\"#2a3f5f\"}},\"annotationdefaults\":{\"arrowcolor\":\"#2a3f5f\",\"arrowhead\":0,\"arrowwidth\":1},\"geo\":{\"bgcolor\":\"white\",\"landcolor\":\"#E5ECF6\",\"subunitcolor\":\"white\",\"showland\":true,\"showlakes\":true,\"lakecolor\":\"white\"},\"title\":{\"x\":0.05},\"mapbox\":{\"style\":\"light\"}}},\"xaxis\":{\"anchor\":\"y\",\"domain\":[0.0,1.0],\"title\":{\"text\":\"Time\"}},\"yaxis\":{\"anchor\":\"x\",\"domain\":[0.0,1.0],\"title\":{\"text\":\"#Robots\"}},\"legend\":{\"title\":{\"text\":\"variable\"},\"tracegroupgap\":0},\"title\":{\"text\":\"CHO - Habitat over Time\"},\"barmode\":\"relative\",\"hovermode\":\"x\"},                        {\"responsive\": true}                    ).then(function(){\n",
       "                            \n",
       "var gd = document.getElementById('d12b3d73-9d36-4eff-93de-14289750308f');\n",
       "var x = new MutationObserver(function (mutations, observer) {{\n",
       "        var display = window.getComputedStyle(gd).display;\n",
       "        if (!display || display === 'none') {{\n",
       "            console.log([gd, 'removed!']);\n",
       "            Plotly.purge(gd);\n",
       "            observer.disconnect();\n",
       "        }}\n",
       "}});\n",
       "\n",
       "// Listen for the removal of the full notebook cells\n",
       "var notebookContainer = gd.closest('#notebook-container');\n",
       "if (notebookContainer) {{\n",
       "    x.observe(notebookContainer, {childList: true});\n",
       "}}\n",
       "\n",
       "// Listen for the clearing of the current output cell\n",
       "var outputEl = gd.closest('.output');\n",
       "if (outputEl) {{\n",
       "    x.observe(outputEl, {childList: true});\n",
       "}}\n",
       "\n",
       "                        })                };                });            </script>        </div>"
      ]
     },
     "metadata": {},
     "output_type": "display_data"
    },
    {
     "data": {
      "application/vnd.plotly.v1+json": {
       "config": {
        "plotlyServerURL": "https://plotly.com"
       },
       "data": [
        {
         "name": "#Replicator",
         "type": "bar",
         "x": [
          0,
          1,
          2,
          3,
          4,
          5,
          6,
          7,
          8,
          9,
          10,
          11,
          12,
          13,
          14,
          15,
          16,
          17,
          18,
          19,
          20,
          21,
          22,
          23,
          24,
          25,
          26,
          27,
          28,
          29,
          30,
          31,
          32,
          33,
          34,
          35,
          36,
          37,
          38,
          39,
          40,
          41,
          42,
          43,
          44,
          45,
          46,
          47,
          48,
          49,
          50,
          51,
          52,
          53,
          54,
          55,
          56,
          57,
          58,
          59,
          60,
          61,
          62,
          63,
          64,
          65,
          66,
          67,
          68,
          69,
          70,
          71,
          72,
          73,
          74
         ],
         "xaxis": "x",
         "y": [
          1,
          1,
          1,
          1,
          1,
          1,
          1,
          1,
          1,
          1,
          1,
          1,
          1,
          1,
          1,
          1,
          1,
          1,
          1,
          1,
          1,
          1,
          1,
          1,
          1,
          1,
          1,
          1,
          1,
          1,
          1,
          1,
          1,
          1,
          1,
          1,
          1,
          1,
          1,
          1,
          1,
          1,
          1,
          1,
          1,
          1,
          1,
          1,
          1,
          1,
          1,
          1,
          1,
          1,
          1,
          1,
          1,
          1,
          1,
          1,
          1,
          1,
          1,
          1,
          1,
          1,
          1,
          1,
          1,
          1,
          1,
          1,
          1,
          1,
          1
         ],
         "yaxis": "y"
        },
        {
         "name": "#Normal",
         "type": "bar",
         "x": [
          0,
          1,
          2,
          3,
          4,
          5,
          6,
          7,
          8,
          9,
          10,
          11,
          12,
          13,
          14,
          15,
          16,
          17,
          18,
          19,
          20,
          21,
          22,
          23,
          24,
          25,
          26,
          27,
          28,
          29,
          30,
          31,
          32,
          33,
          34,
          35,
          36,
          37,
          38,
          39,
          40,
          41,
          42,
          43,
          44,
          45,
          46,
          47,
          48,
          49,
          50,
          51,
          52,
          53,
          54,
          55,
          56,
          57,
          58,
          59,
          60,
          61,
          62,
          63,
          64,
          65,
          66,
          67,
          68,
          69,
          70,
          71,
          72,
          73,
          74
         ],
         "xaxis": "x",
         "y": [
          0,
          0,
          2,
          2,
          4,
          4,
          6,
          6,
          8,
          8,
          10,
          10,
          12,
          12,
          14,
          14,
          16,
          16,
          18,
          18,
          20,
          20,
          22,
          22,
          24,
          24,
          26,
          26,
          28,
          28,
          30,
          30,
          32,
          32,
          34,
          34,
          36,
          36,
          38,
          38,
          40,
          40,
          42,
          42,
          44,
          44,
          46,
          46,
          48,
          48,
          50,
          50,
          52,
          52,
          54,
          54,
          56,
          56,
          58,
          58,
          60,
          60,
          62,
          62,
          64,
          64,
          66,
          66,
          68,
          68,
          70,
          70,
          72,
          72,
          74
         ],
         "yaxis": "y"
        },
        {
         "name": "#Assembler",
         "type": "bar",
         "x": [
          0,
          1,
          2,
          3,
          4,
          5,
          6,
          7,
          8,
          9,
          10,
          11,
          12,
          13,
          14,
          15,
          16,
          17,
          18,
          19,
          20,
          21,
          22,
          23,
          24,
          25,
          26,
          27,
          28,
          29,
          30,
          31,
          32,
          33,
          34,
          35,
          36,
          37,
          38,
          39,
          40,
          41,
          42,
          43,
          44,
          45,
          46,
          47,
          48,
          49,
          50,
          51,
          52,
          53,
          54,
          55,
          56,
          57,
          58,
          59,
          60,
          61,
          62,
          63,
          64,
          65,
          66,
          67,
          68,
          69,
          70,
          71,
          72,
          73,
          74
         ],
         "xaxis": "x",
         "y": [
          0,
          0,
          0,
          0,
          0,
          0,
          0,
          0,
          0,
          0,
          0,
          0,
          0,
          0,
          0,
          0,
          0,
          0,
          0,
          0,
          0,
          0,
          0,
          0,
          0,
          0,
          0,
          0,
          0,
          0,
          0,
          0,
          0,
          0,
          0,
          0,
          0,
          0,
          0,
          0,
          0,
          0,
          0,
          0,
          0,
          0,
          0,
          0,
          0,
          0,
          0,
          0,
          0,
          0,
          0,
          0,
          0,
          0,
          0,
          0,
          0,
          0,
          0,
          0,
          0,
          0,
          0,
          0,
          0,
          0,
          0,
          0,
          0,
          0,
          0
         ],
         "yaxis": "y"
        },
        {
         "name": "#Printer",
         "type": "bar",
         "x": [
          0,
          1,
          2,
          3,
          4,
          5,
          6,
          7,
          8,
          9,
          10,
          11,
          12,
          13,
          14,
          15,
          16,
          17,
          18,
          19,
          20,
          21,
          22,
          23,
          24,
          25,
          26,
          27,
          28,
          29,
          30,
          31,
          32,
          33,
          34,
          35,
          36,
          37,
          38,
          39,
          40,
          41,
          42,
          43,
          44,
          45,
          46,
          47,
          48,
          49,
          50,
          51,
          52,
          53,
          54,
          55,
          56,
          57,
          58,
          59,
          60,
          61,
          62,
          63,
          64,
          65,
          66,
          67,
          68,
          69,
          70,
          71,
          72,
          73,
          74
         ],
         "xaxis": "x",
         "y": [
          0,
          0,
          0,
          0,
          0,
          0,
          0,
          0,
          0,
          0,
          0,
          0,
          0,
          0,
          0,
          0,
          0,
          0,
          0,
          0,
          0,
          0,
          0,
          0,
          0,
          0,
          0,
          0,
          0,
          0,
          0,
          0,
          0,
          0,
          0,
          0,
          0,
          0,
          0,
          0,
          0,
          0,
          0,
          0,
          0,
          0,
          0,
          0,
          0,
          0,
          0,
          0,
          0,
          0,
          0,
          0,
          0,
          0,
          0,
          0,
          0,
          0,
          0,
          0,
          0,
          0,
          0,
          0,
          0,
          0,
          0,
          0,
          0,
          0,
          0
         ],
         "yaxis": "y"
        },
        {
         "name": "#Assembling",
         "type": "bar",
         "x": [
          0,
          1,
          2,
          3,
          4,
          5,
          6,
          7,
          8,
          9,
          10,
          11,
          12,
          13,
          14,
          15,
          16,
          17,
          18,
          19,
          20,
          21,
          22,
          23,
          24,
          25,
          26,
          27,
          28,
          29,
          30,
          31,
          32,
          33,
          34,
          35,
          36,
          37,
          38,
          39,
          40,
          41,
          42,
          43,
          44,
          45,
          46,
          47,
          48,
          49,
          50,
          51,
          52,
          53,
          54,
          55,
          56,
          57,
          58,
          59,
          60,
          61,
          62,
          63,
          64,
          65,
          66,
          67,
          68,
          69,
          70,
          71,
          72,
          73,
          74
         ],
         "xaxis": "x3",
         "y": [
          1,
          1,
          1,
          1,
          1,
          1,
          1,
          1,
          1,
          1,
          1,
          1,
          1,
          1,
          1,
          1,
          1,
          1,
          1,
          1,
          1,
          1,
          1,
          1,
          1,
          1,
          1,
          1,
          1,
          1,
          1,
          1,
          1,
          1,
          1,
          1,
          1,
          1,
          1,
          1,
          1,
          1,
          1,
          1,
          1,
          1,
          1,
          1,
          1,
          1,
          1,
          1,
          1,
          1,
          1,
          1,
          1,
          1,
          1,
          1,
          1,
          1,
          1,
          1,
          1,
          1,
          1,
          1,
          1,
          1,
          1,
          1,
          1,
          1,
          1
         ],
         "yaxis": "y3"
        },
        {
         "name": "#Printing",
         "type": "bar",
         "x": [
          0,
          1,
          2,
          3,
          4,
          5,
          6,
          7,
          8,
          9,
          10,
          11,
          12,
          13,
          14,
          15,
          16,
          17,
          18,
          19,
          20,
          21,
          22,
          23,
          24,
          25,
          26,
          27,
          28,
          29,
          30,
          31,
          32,
          33,
          34,
          35,
          36,
          37,
          38,
          39,
          40,
          41,
          42,
          43,
          44,
          45,
          46,
          47,
          48,
          49,
          50,
          51,
          52,
          53,
          54,
          55,
          56,
          57,
          58,
          59,
          60,
          61,
          62,
          63,
          64,
          65,
          66,
          67,
          68,
          69,
          70,
          71,
          72,
          73,
          74
         ],
         "xaxis": "x3",
         "y": [
          0,
          0,
          0,
          0,
          0,
          0,
          0,
          0,
          0,
          0,
          0,
          0,
          0,
          0,
          0,
          0,
          0,
          0,
          0,
          0,
          0,
          0,
          0,
          0,
          0,
          0,
          0,
          0,
          0,
          0,
          0,
          0,
          0,
          0,
          0,
          0,
          0,
          0,
          0,
          0,
          0,
          0,
          0,
          0,
          0,
          0,
          0,
          0,
          0,
          0,
          0,
          0,
          0,
          0,
          0,
          0,
          0,
          0,
          0,
          0,
          0,
          0,
          0,
          0,
          0,
          0,
          0,
          0,
          0,
          0,
          0,
          0,
          0,
          0,
          0
         ],
         "yaxis": "y3"
        },
        {
         "name": "#Collecting",
         "type": "bar",
         "x": [
          0,
          1,
          2,
          3,
          4,
          5,
          6,
          7,
          8,
          9,
          10,
          11,
          12,
          13,
          14,
          15,
          16,
          17,
          18,
          19,
          20,
          21,
          22,
          23,
          24,
          25,
          26,
          27,
          28,
          29,
          30,
          31,
          32,
          33,
          34,
          35,
          36,
          37,
          38,
          39,
          40,
          41,
          42,
          43,
          44,
          45,
          46,
          47,
          48,
          49,
          50,
          51,
          52,
          53,
          54,
          55,
          56,
          57,
          58,
          59,
          60,
          61,
          62,
          63,
          64,
          65,
          66,
          67,
          68,
          69,
          70,
          71,
          72,
          73,
          74
         ],
         "xaxis": "x3",
         "y": [
          0,
          0,
          2,
          2,
          4,
          4,
          6,
          6,
          8,
          8,
          10,
          10,
          12,
          12,
          14,
          14,
          16,
          16,
          18,
          18,
          20,
          20,
          22,
          22,
          24,
          24,
          26,
          26,
          28,
          28,
          30,
          30,
          32,
          4,
          0,
          0,
          0,
          0,
          0,
          0,
          0,
          0,
          0,
          0,
          0,
          0,
          0,
          0,
          0,
          0,
          0,
          0,
          0,
          0,
          0,
          0,
          0,
          0,
          0,
          0,
          0,
          0,
          0,
          0,
          0,
          0,
          0,
          0,
          0,
          0,
          0,
          0,
          0,
          0,
          0
         ],
         "yaxis": "y3"
        },
        {
         "name": "#Idle",
         "type": "bar",
         "x": [
          0,
          1,
          2,
          3,
          4,
          5,
          6,
          7,
          8,
          9,
          10,
          11,
          12,
          13,
          14,
          15,
          16,
          17,
          18,
          19,
          20,
          21,
          22,
          23,
          24,
          25,
          26,
          27,
          28,
          29,
          30,
          31,
          32,
          33,
          34,
          35,
          36,
          37,
          38,
          39,
          40,
          41,
          42,
          43,
          44,
          45,
          46,
          47,
          48,
          49,
          50,
          51,
          52,
          53,
          54,
          55,
          56,
          57,
          58,
          59,
          60,
          61,
          62,
          63,
          64,
          65,
          66,
          67,
          68,
          69,
          70,
          71,
          72,
          73,
          74
         ],
         "xaxis": "x3",
         "y": [
          0,
          0,
          0,
          0,
          0,
          0,
          0,
          0,
          0,
          0,
          0,
          0,
          0,
          0,
          0,
          0,
          0,
          0,
          0,
          0,
          0,
          0,
          0,
          0,
          0,
          0,
          0,
          0,
          0,
          0,
          0,
          0,
          0,
          28,
          34,
          34,
          36,
          36,
          38,
          38,
          40,
          40,
          42,
          42,
          44,
          44,
          46,
          46,
          48,
          48,
          50,
          50,
          52,
          52,
          54,
          54,
          56,
          56,
          58,
          58,
          60,
          60,
          62,
          62,
          64,
          64,
          66,
          66,
          68,
          68,
          70,
          70,
          72,
          72,
          74
         ],
         "yaxis": "y3"
        },
        {
         "mode": "lines",
         "name": "NonPr",
         "type": "scatter",
         "x": [
          0,
          1,
          2,
          3,
          4,
          5,
          6,
          7,
          8,
          9,
          10,
          11,
          12,
          13,
          14,
          15,
          16,
          17,
          18,
          19,
          20,
          21,
          22,
          23,
          24,
          25,
          26,
          27,
          28,
          29,
          30,
          31,
          32,
          33,
          34,
          35,
          36,
          37,
          38,
          39,
          40,
          41,
          42,
          43,
          44,
          45,
          46,
          47,
          48,
          49,
          50,
          51,
          52,
          53,
          54,
          55,
          56,
          57,
          58,
          59,
          60,
          61,
          62,
          63,
          64,
          65,
          66,
          67,
          68,
          69,
          70,
          71,
          72,
          73,
          74
         ],
         "xaxis": "x2",
         "y": [
          299,
          299,
          298,
          298,
          297,
          297,
          296,
          296,
          295,
          295,
          294,
          294,
          293,
          293,
          292,
          292,
          291,
          291,
          290,
          290,
          289,
          289,
          288,
          288,
          287,
          287,
          286,
          286,
          285,
          285,
          284,
          284,
          283,
          283,
          282,
          282,
          281,
          281,
          280,
          280,
          279,
          279,
          278,
          278,
          277,
          277,
          276,
          276,
          275,
          275,
          274,
          274,
          273,
          273,
          272,
          272,
          271,
          271,
          270,
          270,
          269,
          269,
          268,
          268,
          267,
          267,
          266,
          266,
          265,
          265,
          264,
          264,
          263,
          263,
          262
         ],
         "yaxis": "y2"
        },
        {
         "mode": "lines",
         "name": "Printable",
         "type": "scatter",
         "x": [
          0,
          1,
          2,
          3,
          4,
          5,
          6,
          7,
          8,
          9,
          10,
          11,
          12,
          13,
          14,
          15,
          16,
          17,
          18,
          19,
          20,
          21,
          22,
          23,
          24,
          25,
          26,
          27,
          28,
          29,
          30,
          31,
          32,
          33,
          34,
          35,
          36,
          37,
          38,
          39,
          40,
          41,
          42,
          43,
          44,
          45,
          46,
          47,
          48,
          49,
          50,
          51,
          52,
          53,
          54,
          55,
          56,
          57,
          58,
          59,
          60,
          61,
          62,
          63,
          64,
          65,
          66,
          67,
          68,
          69,
          70,
          71,
          72,
          73,
          74
         ],
         "xaxis": "x2",
         "y": [
          98,
          98,
          96,
          96,
          94,
          94,
          92,
          92,
          90,
          90,
          88,
          88,
          86,
          86,
          84,
          84,
          82,
          82,
          80,
          80,
          78,
          78,
          76,
          76,
          74,
          74,
          72,
          72,
          70,
          70,
          68,
          68,
          66,
          66,
          64,
          64,
          62,
          62,
          60,
          60,
          58,
          58,
          56,
          56,
          54,
          54,
          52,
          52,
          50,
          50,
          48,
          48,
          46,
          46,
          44,
          44,
          42,
          42,
          40,
          40,
          38,
          38,
          36,
          36,
          34,
          34,
          32,
          32,
          30,
          30,
          28,
          28,
          26,
          26,
          24
         ],
         "yaxis": "y2"
        },
        {
         "mode": "lines",
         "name": "Materials",
         "type": "scatter",
         "x": [
          0,
          1,
          2,
          3,
          4,
          5,
          6,
          7,
          8,
          9,
          10,
          11,
          12,
          13,
          14,
          15,
          16,
          17,
          18,
          19,
          20,
          21,
          22,
          23,
          24,
          25,
          26,
          27,
          28,
          29,
          30,
          31,
          32,
          33,
          34,
          35,
          36,
          37,
          38,
          39,
          40,
          41,
          42,
          43,
          44,
          45,
          46,
          47,
          48,
          49,
          50,
          51,
          52,
          53,
          54,
          55,
          56,
          57,
          58,
          59,
          60,
          61,
          62,
          63,
          64,
          65,
          66,
          67,
          68,
          69,
          70,
          71,
          72,
          73,
          74
         ],
         "xaxis": "x2",
         "y": [
          50,
          50,
          51,
          53,
          56,
          60,
          65,
          71,
          78,
          86,
          95,
          105,
          116,
          128,
          141,
          155,
          170,
          186,
          203,
          221,
          240,
          260,
          281,
          303,
          326,
          350,
          375,
          401,
          428,
          456,
          485,
          515,
          546,
          550,
          550,
          550,
          550,
          550,
          550,
          550,
          550,
          550,
          550,
          550,
          550,
          550,
          550,
          550,
          550,
          550,
          550,
          550,
          550,
          550,
          550,
          550,
          550,
          550,
          550,
          550,
          550,
          550,
          550,
          550,
          550,
          550,
          550,
          550,
          550,
          550,
          550,
          550,
          550,
          550,
          550
         ],
         "yaxis": "y2"
        },
        {
         "mode": "lines",
         "name": "Env_Materials",
         "type": "scatter",
         "x": [
          0,
          1,
          2,
          3,
          4,
          5,
          6,
          7,
          8,
          9,
          10,
          11,
          12,
          13,
          14,
          15,
          16,
          17,
          18,
          19,
          20,
          21,
          22,
          23,
          24,
          25,
          26,
          27,
          28,
          29,
          30,
          31,
          32,
          33,
          34,
          35,
          36,
          37,
          38,
          39,
          40,
          41,
          42,
          43,
          44,
          45,
          46,
          47,
          48,
          49,
          50,
          51,
          52,
          53,
          54,
          55,
          56,
          57,
          58,
          59,
          60,
          61,
          62,
          63,
          64,
          65,
          66,
          67,
          68,
          69,
          70,
          71,
          72,
          73,
          74
         ],
         "xaxis": "x2",
         "y": [
          500,
          500,
          499,
          497,
          494,
          490,
          485,
          479,
          472,
          464,
          455,
          445,
          434,
          422,
          409,
          395,
          380,
          364,
          347,
          329,
          310,
          290,
          269,
          247,
          224,
          200,
          175,
          149,
          122,
          94,
          65,
          35,
          4,
          0,
          0,
          0,
          0,
          0,
          0,
          0,
          0,
          0,
          0,
          0,
          0,
          0,
          0,
          0,
          0,
          0,
          0,
          0,
          0,
          0,
          0,
          0,
          0,
          0,
          0,
          0,
          0,
          0,
          0,
          0,
          0,
          0,
          0,
          0,
          0,
          0,
          0,
          0,
          0,
          0,
          0
         ],
         "yaxis": "y2"
        },
        {
         "mode": "lines",
         "name": "Avg. Quality #in",
         "type": "scatter",
         "x": [
          0,
          1,
          2,
          3,
          4,
          5,
          6,
          7,
          8,
          9,
          10,
          11,
          12,
          13,
          14,
          15,
          16,
          17,
          18,
          19,
          20,
          21,
          22,
          23,
          24,
          25,
          26,
          27,
          28,
          29,
          30,
          31,
          32,
          33,
          34,
          35,
          36,
          37,
          38,
          39,
          40,
          41,
          42,
          43,
          44,
          45,
          46,
          47,
          48,
          49,
          50,
          51,
          52,
          53,
          54,
          55,
          56,
          57,
          58,
          59,
          60,
          61,
          62,
          63,
          64,
          65,
          66,
          67,
          68,
          69,
          70,
          71,
          72,
          73,
          74
         ],
         "xaxis": "x4",
         "y": [
          0.949,
          0.949,
          0.888,
          0.888,
          0.885,
          0.885,
          0.858,
          0.858,
          0.846,
          0.846,
          0.861,
          0.861,
          0.87,
          0.87,
          0.861,
          0.861,
          0.866,
          0.866,
          0.873,
          0.873,
          0.862,
          0.862,
          0.848,
          0.848,
          0.855,
          0.855,
          0.848,
          0.848,
          0.846,
          0.846,
          0.85,
          0.85,
          0.847,
          0.847,
          0.849,
          0.849,
          0.847,
          0.847,
          0.851,
          0.851,
          0.852,
          0.852,
          0.857,
          0.857,
          0.856,
          0.856,
          0.859,
          0.859,
          0.861,
          0.861,
          0.861,
          0.861,
          0.859,
          0.859,
          0.855,
          0.855,
          0.852,
          0.852,
          0.849,
          0.849,
          0.851,
          0.851,
          0.85,
          0.85,
          0.85,
          0.85,
          0.852,
          0.852,
          0.853,
          0.853,
          0.853,
          0.853,
          0.854,
          0.854,
          0.854
         ],
         "yaxis": "y4"
        },
        {
         "mode": "lines",
         "name": "Avg. Quality #total",
         "type": "scatter",
         "x": [
          0,
          1,
          2,
          3,
          4,
          5,
          6,
          7,
          8,
          9,
          10,
          11,
          12,
          13,
          14,
          15,
          16,
          17,
          18,
          19,
          20,
          21,
          22,
          23,
          24,
          25,
          26,
          27,
          28,
          29,
          30,
          31,
          32,
          33,
          34,
          35,
          36,
          37,
          38,
          39,
          40,
          41,
          42,
          43,
          44,
          45,
          46,
          47,
          48,
          49,
          50,
          51,
          52,
          53,
          54,
          55,
          56,
          57,
          58,
          59,
          60,
          61,
          62,
          63,
          64,
          65,
          66,
          67,
          68,
          69,
          70,
          71,
          72,
          73,
          74
         ],
         "xaxis": "x4",
         "y": [
          0.949,
          0.949,
          0.888,
          0.888,
          0.885,
          0.885,
          0.858,
          0.858,
          0.846,
          0.846,
          0.861,
          0.861,
          0.87,
          0.87,
          0.861,
          0.861,
          0.866,
          0.866,
          0.873,
          0.873,
          0.862,
          0.862,
          0.848,
          0.848,
          0.855,
          0.855,
          0.848,
          0.848,
          0.846,
          0.846,
          0.85,
          0.85,
          0.847,
          0.847,
          0.849,
          0.849,
          0.847,
          0.847,
          0.851,
          0.851,
          0.852,
          0.852,
          0.857,
          0.857,
          0.856,
          0.856,
          0.859,
          0.859,
          0.861,
          0.861,
          0.861,
          0.861,
          0.859,
          0.859,
          0.855,
          0.855,
          0.852,
          0.852,
          0.849,
          0.849,
          0.851,
          0.851,
          0.85,
          0.85,
          0.85,
          0.85,
          0.852,
          0.852,
          0.853,
          0.853,
          0.853,
          0.853,
          0.854,
          0.854,
          0.854
         ],
         "yaxis": "y4"
        }
       ],
       "layout": {
        "annotations": [
         {
          "font": {
           "size": 16
          },
          "showarrow": false,
          "text": "Types of Robots vs Time",
          "x": 0.225,
          "xanchor": "center",
          "xref": "paper",
          "y": 1,
          "yanchor": "bottom",
          "yref": "paper"
         },
         {
          "font": {
           "size": 16
          },
          "showarrow": false,
          "text": "Resources vs Time",
          "x": 0.775,
          "xanchor": "center",
          "xref": "paper",
          "y": 1,
          "yanchor": "bottom",
          "yref": "paper"
         },
         {
          "font": {
           "size": 16
          },
          "showarrow": false,
          "text": "Tasks of Robots vs Time",
          "x": 0.225,
          "xanchor": "center",
          "xref": "paper",
          "y": 0.375,
          "yanchor": "bottom",
          "yref": "paper"
         },
         {
          "font": {
           "size": 16
          },
          "showarrow": false,
          "text": "Build Quality vs Time",
          "x": 0.775,
          "xanchor": "center",
          "xref": "paper",
          "y": 0.375,
          "yanchor": "bottom",
          "yref": "paper"
         }
        ],
        "hovermode": "x",
        "template": {
         "data": {
          "bar": [
           {
            "error_x": {
             "color": "#2a3f5f"
            },
            "error_y": {
             "color": "#2a3f5f"
            },
            "marker": {
             "line": {
              "color": "#E5ECF6",
              "width": 0.5
             },
             "pattern": {
              "fillmode": "overlay",
              "size": 10,
              "solidity": 0.2
             }
            },
            "type": "bar"
           }
          ],
          "barpolar": [
           {
            "marker": {
             "line": {
              "color": "#E5ECF6",
              "width": 0.5
             },
             "pattern": {
              "fillmode": "overlay",
              "size": 10,
              "solidity": 0.2
             }
            },
            "type": "barpolar"
           }
          ],
          "carpet": [
           {
            "aaxis": {
             "endlinecolor": "#2a3f5f",
             "gridcolor": "white",
             "linecolor": "white",
             "minorgridcolor": "white",
             "startlinecolor": "#2a3f5f"
            },
            "baxis": {
             "endlinecolor": "#2a3f5f",
             "gridcolor": "white",
             "linecolor": "white",
             "minorgridcolor": "white",
             "startlinecolor": "#2a3f5f"
            },
            "type": "carpet"
           }
          ],
          "choropleth": [
           {
            "colorbar": {
             "outlinewidth": 0,
             "ticks": ""
            },
            "type": "choropleth"
           }
          ],
          "contour": [
           {
            "colorbar": {
             "outlinewidth": 0,
             "ticks": ""
            },
            "colorscale": [
             [
              0,
              "#0d0887"
             ],
             [
              0.1111111111111111,
              "#46039f"
             ],
             [
              0.2222222222222222,
              "#7201a8"
             ],
             [
              0.3333333333333333,
              "#9c179e"
             ],
             [
              0.4444444444444444,
              "#bd3786"
             ],
             [
              0.5555555555555556,
              "#d8576b"
             ],
             [
              0.6666666666666666,
              "#ed7953"
             ],
             [
              0.7777777777777778,
              "#fb9f3a"
             ],
             [
              0.8888888888888888,
              "#fdca26"
             ],
             [
              1,
              "#f0f921"
             ]
            ],
            "type": "contour"
           }
          ],
          "contourcarpet": [
           {
            "colorbar": {
             "outlinewidth": 0,
             "ticks": ""
            },
            "type": "contourcarpet"
           }
          ],
          "heatmap": [
           {
            "colorbar": {
             "outlinewidth": 0,
             "ticks": ""
            },
            "colorscale": [
             [
              0,
              "#0d0887"
             ],
             [
              0.1111111111111111,
              "#46039f"
             ],
             [
              0.2222222222222222,
              "#7201a8"
             ],
             [
              0.3333333333333333,
              "#9c179e"
             ],
             [
              0.4444444444444444,
              "#bd3786"
             ],
             [
              0.5555555555555556,
              "#d8576b"
             ],
             [
              0.6666666666666666,
              "#ed7953"
             ],
             [
              0.7777777777777778,
              "#fb9f3a"
             ],
             [
              0.8888888888888888,
              "#fdca26"
             ],
             [
              1,
              "#f0f921"
             ]
            ],
            "type": "heatmap"
           }
          ],
          "heatmapgl": [
           {
            "colorbar": {
             "outlinewidth": 0,
             "ticks": ""
            },
            "colorscale": [
             [
              0,
              "#0d0887"
             ],
             [
              0.1111111111111111,
              "#46039f"
             ],
             [
              0.2222222222222222,
              "#7201a8"
             ],
             [
              0.3333333333333333,
              "#9c179e"
             ],
             [
              0.4444444444444444,
              "#bd3786"
             ],
             [
              0.5555555555555556,
              "#d8576b"
             ],
             [
              0.6666666666666666,
              "#ed7953"
             ],
             [
              0.7777777777777778,
              "#fb9f3a"
             ],
             [
              0.8888888888888888,
              "#fdca26"
             ],
             [
              1,
              "#f0f921"
             ]
            ],
            "type": "heatmapgl"
           }
          ],
          "histogram": [
           {
            "marker": {
             "pattern": {
              "fillmode": "overlay",
              "size": 10,
              "solidity": 0.2
             }
            },
            "type": "histogram"
           }
          ],
          "histogram2d": [
           {
            "colorbar": {
             "outlinewidth": 0,
             "ticks": ""
            },
            "colorscale": [
             [
              0,
              "#0d0887"
             ],
             [
              0.1111111111111111,
              "#46039f"
             ],
             [
              0.2222222222222222,
              "#7201a8"
             ],
             [
              0.3333333333333333,
              "#9c179e"
             ],
             [
              0.4444444444444444,
              "#bd3786"
             ],
             [
              0.5555555555555556,
              "#d8576b"
             ],
             [
              0.6666666666666666,
              "#ed7953"
             ],
             [
              0.7777777777777778,
              "#fb9f3a"
             ],
             [
              0.8888888888888888,
              "#fdca26"
             ],
             [
              1,
              "#f0f921"
             ]
            ],
            "type": "histogram2d"
           }
          ],
          "histogram2dcontour": [
           {
            "colorbar": {
             "outlinewidth": 0,
             "ticks": ""
            },
            "colorscale": [
             [
              0,
              "#0d0887"
             ],
             [
              0.1111111111111111,
              "#46039f"
             ],
             [
              0.2222222222222222,
              "#7201a8"
             ],
             [
              0.3333333333333333,
              "#9c179e"
             ],
             [
              0.4444444444444444,
              "#bd3786"
             ],
             [
              0.5555555555555556,
              "#d8576b"
             ],
             [
              0.6666666666666666,
              "#ed7953"
             ],
             [
              0.7777777777777778,
              "#fb9f3a"
             ],
             [
              0.8888888888888888,
              "#fdca26"
             ],
             [
              1,
              "#f0f921"
             ]
            ],
            "type": "histogram2dcontour"
           }
          ],
          "mesh3d": [
           {
            "colorbar": {
             "outlinewidth": 0,
             "ticks": ""
            },
            "type": "mesh3d"
           }
          ],
          "parcoords": [
           {
            "line": {
             "colorbar": {
              "outlinewidth": 0,
              "ticks": ""
             }
            },
            "type": "parcoords"
           }
          ],
          "pie": [
           {
            "automargin": true,
            "type": "pie"
           }
          ],
          "scatter": [
           {
            "fillpattern": {
             "fillmode": "overlay",
             "size": 10,
             "solidity": 0.2
            },
            "type": "scatter"
           }
          ],
          "scatter3d": [
           {
            "line": {
             "colorbar": {
              "outlinewidth": 0,
              "ticks": ""
             }
            },
            "marker": {
             "colorbar": {
              "outlinewidth": 0,
              "ticks": ""
             }
            },
            "type": "scatter3d"
           }
          ],
          "scattercarpet": [
           {
            "marker": {
             "colorbar": {
              "outlinewidth": 0,
              "ticks": ""
             }
            },
            "type": "scattercarpet"
           }
          ],
          "scattergeo": [
           {
            "marker": {
             "colorbar": {
              "outlinewidth": 0,
              "ticks": ""
             }
            },
            "type": "scattergeo"
           }
          ],
          "scattergl": [
           {
            "marker": {
             "colorbar": {
              "outlinewidth": 0,
              "ticks": ""
             }
            },
            "type": "scattergl"
           }
          ],
          "scattermapbox": [
           {
            "marker": {
             "colorbar": {
              "outlinewidth": 0,
              "ticks": ""
             }
            },
            "type": "scattermapbox"
           }
          ],
          "scatterpolar": [
           {
            "marker": {
             "colorbar": {
              "outlinewidth": 0,
              "ticks": ""
             }
            },
            "type": "scatterpolar"
           }
          ],
          "scatterpolargl": [
           {
            "marker": {
             "colorbar": {
              "outlinewidth": 0,
              "ticks": ""
             }
            },
            "type": "scatterpolargl"
           }
          ],
          "scatterternary": [
           {
            "marker": {
             "colorbar": {
              "outlinewidth": 0,
              "ticks": ""
             }
            },
            "type": "scatterternary"
           }
          ],
          "surface": [
           {
            "colorbar": {
             "outlinewidth": 0,
             "ticks": ""
            },
            "colorscale": [
             [
              0,
              "#0d0887"
             ],
             [
              0.1111111111111111,
              "#46039f"
             ],
             [
              0.2222222222222222,
              "#7201a8"
             ],
             [
              0.3333333333333333,
              "#9c179e"
             ],
             [
              0.4444444444444444,
              "#bd3786"
             ],
             [
              0.5555555555555556,
              "#d8576b"
             ],
             [
              0.6666666666666666,
              "#ed7953"
             ],
             [
              0.7777777777777778,
              "#fb9f3a"
             ],
             [
              0.8888888888888888,
              "#fdca26"
             ],
             [
              1,
              "#f0f921"
             ]
            ],
            "type": "surface"
           }
          ],
          "table": [
           {
            "cells": {
             "fill": {
              "color": "#EBF0F8"
             },
             "line": {
              "color": "white"
             }
            },
            "header": {
             "fill": {
              "color": "#C8D4E3"
             },
             "line": {
              "color": "white"
             }
            },
            "type": "table"
           }
          ]
         },
         "layout": {
          "annotationdefaults": {
           "arrowcolor": "#2a3f5f",
           "arrowhead": 0,
           "arrowwidth": 1
          },
          "autotypenumbers": "strict",
          "coloraxis": {
           "colorbar": {
            "outlinewidth": 0,
            "ticks": ""
           }
          },
          "colorscale": {
           "diverging": [
            [
             0,
             "#8e0152"
            ],
            [
             0.1,
             "#c51b7d"
            ],
            [
             0.2,
             "#de77ae"
            ],
            [
             0.3,
             "#f1b6da"
            ],
            [
             0.4,
             "#fde0ef"
            ],
            [
             0.5,
             "#f7f7f7"
            ],
            [
             0.6,
             "#e6f5d0"
            ],
            [
             0.7,
             "#b8e186"
            ],
            [
             0.8,
             "#7fbc41"
            ],
            [
             0.9,
             "#4d9221"
            ],
            [
             1,
             "#276419"
            ]
           ],
           "sequential": [
            [
             0,
             "#0d0887"
            ],
            [
             0.1111111111111111,
             "#46039f"
            ],
            [
             0.2222222222222222,
             "#7201a8"
            ],
            [
             0.3333333333333333,
             "#9c179e"
            ],
            [
             0.4444444444444444,
             "#bd3786"
            ],
            [
             0.5555555555555556,
             "#d8576b"
            ],
            [
             0.6666666666666666,
             "#ed7953"
            ],
            [
             0.7777777777777778,
             "#fb9f3a"
            ],
            [
             0.8888888888888888,
             "#fdca26"
            ],
            [
             1,
             "#f0f921"
            ]
           ],
           "sequentialminus": [
            [
             0,
             "#0d0887"
            ],
            [
             0.1111111111111111,
             "#46039f"
            ],
            [
             0.2222222222222222,
             "#7201a8"
            ],
            [
             0.3333333333333333,
             "#9c179e"
            ],
            [
             0.4444444444444444,
             "#bd3786"
            ],
            [
             0.5555555555555556,
             "#d8576b"
            ],
            [
             0.6666666666666666,
             "#ed7953"
            ],
            [
             0.7777777777777778,
             "#fb9f3a"
            ],
            [
             0.8888888888888888,
             "#fdca26"
            ],
            [
             1,
             "#f0f921"
            ]
           ]
          },
          "colorway": [
           "#636efa",
           "#EF553B",
           "#00cc96",
           "#ab63fa",
           "#FFA15A",
           "#19d3f3",
           "#FF6692",
           "#B6E880",
           "#FF97FF",
           "#FECB52"
          ],
          "font": {
           "color": "#2a3f5f"
          },
          "geo": {
           "bgcolor": "white",
           "lakecolor": "white",
           "landcolor": "#E5ECF6",
           "showlakes": true,
           "showland": true,
           "subunitcolor": "white"
          },
          "hoverlabel": {
           "align": "left"
          },
          "hovermode": "closest",
          "mapbox": {
           "style": "light"
          },
          "paper_bgcolor": "white",
          "plot_bgcolor": "#E5ECF6",
          "polar": {
           "angularaxis": {
            "gridcolor": "white",
            "linecolor": "white",
            "ticks": ""
           },
           "bgcolor": "#E5ECF6",
           "radialaxis": {
            "gridcolor": "white",
            "linecolor": "white",
            "ticks": ""
           }
          },
          "scene": {
           "xaxis": {
            "backgroundcolor": "#E5ECF6",
            "gridcolor": "white",
            "gridwidth": 2,
            "linecolor": "white",
            "showbackground": true,
            "ticks": "",
            "zerolinecolor": "white"
           },
           "yaxis": {
            "backgroundcolor": "#E5ECF6",
            "gridcolor": "white",
            "gridwidth": 2,
            "linecolor": "white",
            "showbackground": true,
            "ticks": "",
            "zerolinecolor": "white"
           },
           "zaxis": {
            "backgroundcolor": "#E5ECF6",
            "gridcolor": "white",
            "gridwidth": 2,
            "linecolor": "white",
            "showbackground": true,
            "ticks": "",
            "zerolinecolor": "white"
           }
          },
          "shapedefaults": {
           "line": {
            "color": "#2a3f5f"
           }
          },
          "ternary": {
           "aaxis": {
            "gridcolor": "white",
            "linecolor": "white",
            "ticks": ""
           },
           "baxis": {
            "gridcolor": "white",
            "linecolor": "white",
            "ticks": ""
           },
           "bgcolor": "#E5ECF6",
           "caxis": {
            "gridcolor": "white",
            "linecolor": "white",
            "ticks": ""
           }
          },
          "title": {
           "x": 0.05
          },
          "xaxis": {
           "automargin": true,
           "gridcolor": "white",
           "linecolor": "white",
           "ticks": "",
           "title": {
            "standoff": 15
           },
           "zerolinecolor": "white",
           "zerolinewidth": 2
          },
          "yaxis": {
           "automargin": true,
           "gridcolor": "white",
           "linecolor": "white",
           "ticks": "",
           "title": {
            "standoff": 15
           },
           "zerolinecolor": "white",
           "zerolinewidth": 2
          }
         }
        },
        "title": {
         "text": "CHO - Characteristics"
        },
        "xaxis": {
         "anchor": "y",
         "domain": [
          0,
          0.45
         ]
        },
        "xaxis2": {
         "anchor": "y2",
         "domain": [
          0.55,
          1
         ]
        },
        "xaxis3": {
         "anchor": "y3",
         "domain": [
          0,
          0.45
         ]
        },
        "xaxis4": {
         "anchor": "y4",
         "domain": [
          0.55,
          1
         ]
        },
        "yaxis": {
         "anchor": "x",
         "domain": [
          0.625,
          1
         ]
        },
        "yaxis2": {
         "anchor": "x2",
         "domain": [
          0.625,
          1
         ]
        },
        "yaxis3": {
         "anchor": "x3",
         "domain": [
          0,
          0.375
         ]
        },
        "yaxis4": {
         "anchor": "x4",
         "domain": [
          0,
          0.375
         ]
        }
       }
      },
      "text/html": [
       "<div>                            <div id=\"68a2a367-b27f-4ef9-bab4-6b46a1999af7\" class=\"plotly-graph-div\" style=\"height:525px; width:100%;\"></div>            <script type=\"text/javascript\">                require([\"plotly\"], function(Plotly) {                    window.PLOTLYENV=window.PLOTLYENV || {};                                    if (document.getElementById(\"68a2a367-b27f-4ef9-bab4-6b46a1999af7\")) {                    Plotly.newPlot(                        \"68a2a367-b27f-4ef9-bab4-6b46a1999af7\",                        [{\"name\":\"#Replicator\",\"x\":[0.0,1.0,2.0,3.0,4.0,5.0,6.0,7.0,8.0,9.0,10.0,11.0,12.0,13.0,14.0,15.0,16.0,17.0,18.0,19.0,20.0,21.0,22.0,23.0,24.0,25.0,26.0,27.0,28.0,29.0,30.0,31.0,32.0,33.0,34.0,35.0,36.0,37.0,38.0,39.0,40.0,41.0,42.0,43.0,44.0,45.0,46.0,47.0,48.0,49.0,50.0,51.0,52.0,53.0,54.0,55.0,56.0,57.0,58.0,59.0,60.0,61.0,62.0,63.0,64.0,65.0,66.0,67.0,68.0,69.0,70.0,71.0,72.0,73.0,74.0],\"y\":[1.0,1.0,1.0,1.0,1.0,1.0,1.0,1.0,1.0,1.0,1.0,1.0,1.0,1.0,1.0,1.0,1.0,1.0,1.0,1.0,1.0,1.0,1.0,1.0,1.0,1.0,1.0,1.0,1.0,1.0,1.0,1.0,1.0,1.0,1.0,1.0,1.0,1.0,1.0,1.0,1.0,1.0,1.0,1.0,1.0,1.0,1.0,1.0,1.0,1.0,1.0,1.0,1.0,1.0,1.0,1.0,1.0,1.0,1.0,1.0,1.0,1.0,1.0,1.0,1.0,1.0,1.0,1.0,1.0,1.0,1.0,1.0,1.0,1.0,1.0],\"type\":\"bar\",\"xaxis\":\"x\",\"yaxis\":\"y\"},{\"name\":\"#Normal\",\"x\":[0.0,1.0,2.0,3.0,4.0,5.0,6.0,7.0,8.0,9.0,10.0,11.0,12.0,13.0,14.0,15.0,16.0,17.0,18.0,19.0,20.0,21.0,22.0,23.0,24.0,25.0,26.0,27.0,28.0,29.0,30.0,31.0,32.0,33.0,34.0,35.0,36.0,37.0,38.0,39.0,40.0,41.0,42.0,43.0,44.0,45.0,46.0,47.0,48.0,49.0,50.0,51.0,52.0,53.0,54.0,55.0,56.0,57.0,58.0,59.0,60.0,61.0,62.0,63.0,64.0,65.0,66.0,67.0,68.0,69.0,70.0,71.0,72.0,73.0,74.0],\"y\":[0.0,0.0,2.0,2.0,4.0,4.0,6.0,6.0,8.0,8.0,10.0,10.0,12.0,12.0,14.0,14.0,16.0,16.0,18.0,18.0,20.0,20.0,22.0,22.0,24.0,24.0,26.0,26.0,28.0,28.0,30.0,30.0,32.0,32.0,34.0,34.0,36.0,36.0,38.0,38.0,40.0,40.0,42.0,42.0,44.0,44.0,46.0,46.0,48.0,48.0,50.0,50.0,52.0,52.0,54.0,54.0,56.0,56.0,58.0,58.0,60.0,60.0,62.0,62.0,64.0,64.0,66.0,66.0,68.0,68.0,70.0,70.0,72.0,72.0,74.0],\"type\":\"bar\",\"xaxis\":\"x\",\"yaxis\":\"y\"},{\"name\":\"#Assembler\",\"x\":[0.0,1.0,2.0,3.0,4.0,5.0,6.0,7.0,8.0,9.0,10.0,11.0,12.0,13.0,14.0,15.0,16.0,17.0,18.0,19.0,20.0,21.0,22.0,23.0,24.0,25.0,26.0,27.0,28.0,29.0,30.0,31.0,32.0,33.0,34.0,35.0,36.0,37.0,38.0,39.0,40.0,41.0,42.0,43.0,44.0,45.0,46.0,47.0,48.0,49.0,50.0,51.0,52.0,53.0,54.0,55.0,56.0,57.0,58.0,59.0,60.0,61.0,62.0,63.0,64.0,65.0,66.0,67.0,68.0,69.0,70.0,71.0,72.0,73.0,74.0],\"y\":[0.0,0.0,0.0,0.0,0.0,0.0,0.0,0.0,0.0,0.0,0.0,0.0,0.0,0.0,0.0,0.0,0.0,0.0,0.0,0.0,0.0,0.0,0.0,0.0,0.0,0.0,0.0,0.0,0.0,0.0,0.0,0.0,0.0,0.0,0.0,0.0,0.0,0.0,0.0,0.0,0.0,0.0,0.0,0.0,0.0,0.0,0.0,0.0,0.0,0.0,0.0,0.0,0.0,0.0,0.0,0.0,0.0,0.0,0.0,0.0,0.0,0.0,0.0,0.0,0.0,0.0,0.0,0.0,0.0,0.0,0.0,0.0,0.0,0.0,0.0],\"type\":\"bar\",\"xaxis\":\"x\",\"yaxis\":\"y\"},{\"name\":\"#Printer\",\"x\":[0.0,1.0,2.0,3.0,4.0,5.0,6.0,7.0,8.0,9.0,10.0,11.0,12.0,13.0,14.0,15.0,16.0,17.0,18.0,19.0,20.0,21.0,22.0,23.0,24.0,25.0,26.0,27.0,28.0,29.0,30.0,31.0,32.0,33.0,34.0,35.0,36.0,37.0,38.0,39.0,40.0,41.0,42.0,43.0,44.0,45.0,46.0,47.0,48.0,49.0,50.0,51.0,52.0,53.0,54.0,55.0,56.0,57.0,58.0,59.0,60.0,61.0,62.0,63.0,64.0,65.0,66.0,67.0,68.0,69.0,70.0,71.0,72.0,73.0,74.0],\"y\":[0.0,0.0,0.0,0.0,0.0,0.0,0.0,0.0,0.0,0.0,0.0,0.0,0.0,0.0,0.0,0.0,0.0,0.0,0.0,0.0,0.0,0.0,0.0,0.0,0.0,0.0,0.0,0.0,0.0,0.0,0.0,0.0,0.0,0.0,0.0,0.0,0.0,0.0,0.0,0.0,0.0,0.0,0.0,0.0,0.0,0.0,0.0,0.0,0.0,0.0,0.0,0.0,0.0,0.0,0.0,0.0,0.0,0.0,0.0,0.0,0.0,0.0,0.0,0.0,0.0,0.0,0.0,0.0,0.0,0.0,0.0,0.0,0.0,0.0,0.0],\"type\":\"bar\",\"xaxis\":\"x\",\"yaxis\":\"y\"},{\"name\":\"#Assembling\",\"x\":[0.0,1.0,2.0,3.0,4.0,5.0,6.0,7.0,8.0,9.0,10.0,11.0,12.0,13.0,14.0,15.0,16.0,17.0,18.0,19.0,20.0,21.0,22.0,23.0,24.0,25.0,26.0,27.0,28.0,29.0,30.0,31.0,32.0,33.0,34.0,35.0,36.0,37.0,38.0,39.0,40.0,41.0,42.0,43.0,44.0,45.0,46.0,47.0,48.0,49.0,50.0,51.0,52.0,53.0,54.0,55.0,56.0,57.0,58.0,59.0,60.0,61.0,62.0,63.0,64.0,65.0,66.0,67.0,68.0,69.0,70.0,71.0,72.0,73.0,74.0],\"y\":[1.0,1.0,1.0,1.0,1.0,1.0,1.0,1.0,1.0,1.0,1.0,1.0,1.0,1.0,1.0,1.0,1.0,1.0,1.0,1.0,1.0,1.0,1.0,1.0,1.0,1.0,1.0,1.0,1.0,1.0,1.0,1.0,1.0,1.0,1.0,1.0,1.0,1.0,1.0,1.0,1.0,1.0,1.0,1.0,1.0,1.0,1.0,1.0,1.0,1.0,1.0,1.0,1.0,1.0,1.0,1.0,1.0,1.0,1.0,1.0,1.0,1.0,1.0,1.0,1.0,1.0,1.0,1.0,1.0,1.0,1.0,1.0,1.0,1.0,1.0],\"type\":\"bar\",\"xaxis\":\"x3\",\"yaxis\":\"y3\"},{\"name\":\"#Printing\",\"x\":[0.0,1.0,2.0,3.0,4.0,5.0,6.0,7.0,8.0,9.0,10.0,11.0,12.0,13.0,14.0,15.0,16.0,17.0,18.0,19.0,20.0,21.0,22.0,23.0,24.0,25.0,26.0,27.0,28.0,29.0,30.0,31.0,32.0,33.0,34.0,35.0,36.0,37.0,38.0,39.0,40.0,41.0,42.0,43.0,44.0,45.0,46.0,47.0,48.0,49.0,50.0,51.0,52.0,53.0,54.0,55.0,56.0,57.0,58.0,59.0,60.0,61.0,62.0,63.0,64.0,65.0,66.0,67.0,68.0,69.0,70.0,71.0,72.0,73.0,74.0],\"y\":[0.0,0.0,0.0,0.0,0.0,0.0,0.0,0.0,0.0,0.0,0.0,0.0,0.0,0.0,0.0,0.0,0.0,0.0,0.0,0.0,0.0,0.0,0.0,0.0,0.0,0.0,0.0,0.0,0.0,0.0,0.0,0.0,0.0,0.0,0.0,0.0,0.0,0.0,0.0,0.0,0.0,0.0,0.0,0.0,0.0,0.0,0.0,0.0,0.0,0.0,0.0,0.0,0.0,0.0,0.0,0.0,0.0,0.0,0.0,0.0,0.0,0.0,0.0,0.0,0.0,0.0,0.0,0.0,0.0,0.0,0.0,0.0,0.0,0.0,0.0],\"type\":\"bar\",\"xaxis\":\"x3\",\"yaxis\":\"y3\"},{\"name\":\"#Collecting\",\"x\":[0.0,1.0,2.0,3.0,4.0,5.0,6.0,7.0,8.0,9.0,10.0,11.0,12.0,13.0,14.0,15.0,16.0,17.0,18.0,19.0,20.0,21.0,22.0,23.0,24.0,25.0,26.0,27.0,28.0,29.0,30.0,31.0,32.0,33.0,34.0,35.0,36.0,37.0,38.0,39.0,40.0,41.0,42.0,43.0,44.0,45.0,46.0,47.0,48.0,49.0,50.0,51.0,52.0,53.0,54.0,55.0,56.0,57.0,58.0,59.0,60.0,61.0,62.0,63.0,64.0,65.0,66.0,67.0,68.0,69.0,70.0,71.0,72.0,73.0,74.0],\"y\":[0.0,0.0,2.0,2.0,4.0,4.0,6.0,6.0,8.0,8.0,10.0,10.0,12.0,12.0,14.0,14.0,16.0,16.0,18.0,18.0,20.0,20.0,22.0,22.0,24.0,24.0,26.0,26.0,28.0,28.0,30.0,30.0,32.0,4.0,0.0,0.0,0.0,0.0,0.0,0.0,0.0,0.0,0.0,0.0,0.0,0.0,0.0,0.0,0.0,0.0,0.0,0.0,0.0,0.0,0.0,0.0,0.0,0.0,0.0,0.0,0.0,0.0,0.0,0.0,0.0,0.0,0.0,0.0,0.0,0.0,0.0,0.0,0.0,0.0,0.0],\"type\":\"bar\",\"xaxis\":\"x3\",\"yaxis\":\"y3\"},{\"name\":\"#Idle\",\"x\":[0.0,1.0,2.0,3.0,4.0,5.0,6.0,7.0,8.0,9.0,10.0,11.0,12.0,13.0,14.0,15.0,16.0,17.0,18.0,19.0,20.0,21.0,22.0,23.0,24.0,25.0,26.0,27.0,28.0,29.0,30.0,31.0,32.0,33.0,34.0,35.0,36.0,37.0,38.0,39.0,40.0,41.0,42.0,43.0,44.0,45.0,46.0,47.0,48.0,49.0,50.0,51.0,52.0,53.0,54.0,55.0,56.0,57.0,58.0,59.0,60.0,61.0,62.0,63.0,64.0,65.0,66.0,67.0,68.0,69.0,70.0,71.0,72.0,73.0,74.0],\"y\":[0.0,0.0,0.0,0.0,0.0,0.0,0.0,0.0,0.0,0.0,0.0,0.0,0.0,0.0,0.0,0.0,0.0,0.0,0.0,0.0,0.0,0.0,0.0,0.0,0.0,0.0,0.0,0.0,0.0,0.0,0.0,0.0,0.0,28.0,34.0,34.0,36.0,36.0,38.0,38.0,40.0,40.0,42.0,42.0,44.0,44.0,46.0,46.0,48.0,48.0,50.0,50.0,52.0,52.0,54.0,54.0,56.0,56.0,58.0,58.0,60.0,60.0,62.0,62.0,64.0,64.0,66.0,66.0,68.0,68.0,70.0,70.0,72.0,72.0,74.0],\"type\":\"bar\",\"xaxis\":\"x3\",\"yaxis\":\"y3\"},{\"mode\":\"lines\",\"name\":\"NonPr\",\"x\":[0.0,1.0,2.0,3.0,4.0,5.0,6.0,7.0,8.0,9.0,10.0,11.0,12.0,13.0,14.0,15.0,16.0,17.0,18.0,19.0,20.0,21.0,22.0,23.0,24.0,25.0,26.0,27.0,28.0,29.0,30.0,31.0,32.0,33.0,34.0,35.0,36.0,37.0,38.0,39.0,40.0,41.0,42.0,43.0,44.0,45.0,46.0,47.0,48.0,49.0,50.0,51.0,52.0,53.0,54.0,55.0,56.0,57.0,58.0,59.0,60.0,61.0,62.0,63.0,64.0,65.0,66.0,67.0,68.0,69.0,70.0,71.0,72.0,73.0,74.0],\"y\":[299.0,299.0,298.0,298.0,297.0,297.0,296.0,296.0,295.0,295.0,294.0,294.0,293.0,293.0,292.0,292.0,291.0,291.0,290.0,290.0,289.0,289.0,288.0,288.0,287.0,287.0,286.0,286.0,285.0,285.0,284.0,284.0,283.0,283.0,282.0,282.0,281.0,281.0,280.0,280.0,279.0,279.0,278.0,278.0,277.0,277.0,276.0,276.0,275.0,275.0,274.0,274.0,273.0,273.0,272.0,272.0,271.0,271.0,270.0,270.0,269.0,269.0,268.0,268.0,267.0,267.0,266.0,266.0,265.0,265.0,264.0,264.0,263.0,263.0,262.0],\"type\":\"scatter\",\"xaxis\":\"x2\",\"yaxis\":\"y2\"},{\"mode\":\"lines\",\"name\":\"Printable\",\"x\":[0.0,1.0,2.0,3.0,4.0,5.0,6.0,7.0,8.0,9.0,10.0,11.0,12.0,13.0,14.0,15.0,16.0,17.0,18.0,19.0,20.0,21.0,22.0,23.0,24.0,25.0,26.0,27.0,28.0,29.0,30.0,31.0,32.0,33.0,34.0,35.0,36.0,37.0,38.0,39.0,40.0,41.0,42.0,43.0,44.0,45.0,46.0,47.0,48.0,49.0,50.0,51.0,52.0,53.0,54.0,55.0,56.0,57.0,58.0,59.0,60.0,61.0,62.0,63.0,64.0,65.0,66.0,67.0,68.0,69.0,70.0,71.0,72.0,73.0,74.0],\"y\":[98.0,98.0,96.0,96.0,94.0,94.0,92.0,92.0,90.0,90.0,88.0,88.0,86.0,86.0,84.0,84.0,82.0,82.0,80.0,80.0,78.0,78.0,76.0,76.0,74.0,74.0,72.0,72.0,70.0,70.0,68.0,68.0,66.0,66.0,64.0,64.0,62.0,62.0,60.0,60.0,58.0,58.0,56.0,56.0,54.0,54.0,52.0,52.0,50.0,50.0,48.0,48.0,46.0,46.0,44.0,44.0,42.0,42.0,40.0,40.0,38.0,38.0,36.0,36.0,34.0,34.0,32.0,32.0,30.0,30.0,28.0,28.0,26.0,26.0,24.0],\"type\":\"scatter\",\"xaxis\":\"x2\",\"yaxis\":\"y2\"},{\"mode\":\"lines\",\"name\":\"Materials\",\"x\":[0.0,1.0,2.0,3.0,4.0,5.0,6.0,7.0,8.0,9.0,10.0,11.0,12.0,13.0,14.0,15.0,16.0,17.0,18.0,19.0,20.0,21.0,22.0,23.0,24.0,25.0,26.0,27.0,28.0,29.0,30.0,31.0,32.0,33.0,34.0,35.0,36.0,37.0,38.0,39.0,40.0,41.0,42.0,43.0,44.0,45.0,46.0,47.0,48.0,49.0,50.0,51.0,52.0,53.0,54.0,55.0,56.0,57.0,58.0,59.0,60.0,61.0,62.0,63.0,64.0,65.0,66.0,67.0,68.0,69.0,70.0,71.0,72.0,73.0,74.0],\"y\":[50.0,50.0,51.0,53.0,56.0,60.0,65.0,71.0,78.0,86.0,95.0,105.0,116.0,128.0,141.0,155.0,170.0,186.0,203.0,221.0,240.0,260.0,281.0,303.0,326.0,350.0,375.0,401.0,428.0,456.0,485.0,515.0,546.0,550.0,550.0,550.0,550.0,550.0,550.0,550.0,550.0,550.0,550.0,550.0,550.0,550.0,550.0,550.0,550.0,550.0,550.0,550.0,550.0,550.0,550.0,550.0,550.0,550.0,550.0,550.0,550.0,550.0,550.0,550.0,550.0,550.0,550.0,550.0,550.0,550.0,550.0,550.0,550.0,550.0,550.0],\"type\":\"scatter\",\"xaxis\":\"x2\",\"yaxis\":\"y2\"},{\"mode\":\"lines\",\"name\":\"Env_Materials\",\"x\":[0.0,1.0,2.0,3.0,4.0,5.0,6.0,7.0,8.0,9.0,10.0,11.0,12.0,13.0,14.0,15.0,16.0,17.0,18.0,19.0,20.0,21.0,22.0,23.0,24.0,25.0,26.0,27.0,28.0,29.0,30.0,31.0,32.0,33.0,34.0,35.0,36.0,37.0,38.0,39.0,40.0,41.0,42.0,43.0,44.0,45.0,46.0,47.0,48.0,49.0,50.0,51.0,52.0,53.0,54.0,55.0,56.0,57.0,58.0,59.0,60.0,61.0,62.0,63.0,64.0,65.0,66.0,67.0,68.0,69.0,70.0,71.0,72.0,73.0,74.0],\"y\":[500.0,500.0,499.0,497.0,494.0,490.0,485.0,479.0,472.0,464.0,455.0,445.0,434.0,422.0,409.0,395.0,380.0,364.0,347.0,329.0,310.0,290.0,269.0,247.0,224.0,200.0,175.0,149.0,122.0,94.0,65.0,35.0,4.0,0.0,0.0,0.0,0.0,0.0,0.0,0.0,0.0,0.0,0.0,0.0,0.0,0.0,0.0,0.0,0.0,0.0,0.0,0.0,0.0,0.0,0.0,0.0,0.0,0.0,0.0,0.0,0.0,0.0,0.0,0.0,0.0,0.0,0.0,0.0,0.0,0.0,0.0,0.0,0.0,0.0,0.0],\"type\":\"scatter\",\"xaxis\":\"x2\",\"yaxis\":\"y2\"},{\"mode\":\"lines\",\"name\":\"Avg. Quality #in\",\"x\":[0.0,1.0,2.0,3.0,4.0,5.0,6.0,7.0,8.0,9.0,10.0,11.0,12.0,13.0,14.0,15.0,16.0,17.0,18.0,19.0,20.0,21.0,22.0,23.0,24.0,25.0,26.0,27.0,28.0,29.0,30.0,31.0,32.0,33.0,34.0,35.0,36.0,37.0,38.0,39.0,40.0,41.0,42.0,43.0,44.0,45.0,46.0,47.0,48.0,49.0,50.0,51.0,52.0,53.0,54.0,55.0,56.0,57.0,58.0,59.0,60.0,61.0,62.0,63.0,64.0,65.0,66.0,67.0,68.0,69.0,70.0,71.0,72.0,73.0,74.0],\"y\":[0.949,0.949,0.888,0.888,0.885,0.885,0.858,0.858,0.846,0.846,0.861,0.861,0.87,0.87,0.861,0.861,0.866,0.866,0.873,0.873,0.862,0.862,0.848,0.848,0.855,0.855,0.848,0.848,0.846,0.846,0.85,0.85,0.847,0.847,0.849,0.849,0.847,0.847,0.851,0.851,0.852,0.852,0.857,0.857,0.856,0.856,0.859,0.859,0.861,0.861,0.861,0.861,0.859,0.859,0.855,0.855,0.852,0.852,0.849,0.849,0.851,0.851,0.85,0.85,0.85,0.85,0.852,0.852,0.853,0.853,0.853,0.853,0.854,0.854,0.854],\"type\":\"scatter\",\"xaxis\":\"x4\",\"yaxis\":\"y4\"},{\"mode\":\"lines\",\"name\":\"Avg. Quality #total\",\"x\":[0.0,1.0,2.0,3.0,4.0,5.0,6.0,7.0,8.0,9.0,10.0,11.0,12.0,13.0,14.0,15.0,16.0,17.0,18.0,19.0,20.0,21.0,22.0,23.0,24.0,25.0,26.0,27.0,28.0,29.0,30.0,31.0,32.0,33.0,34.0,35.0,36.0,37.0,38.0,39.0,40.0,41.0,42.0,43.0,44.0,45.0,46.0,47.0,48.0,49.0,50.0,51.0,52.0,53.0,54.0,55.0,56.0,57.0,58.0,59.0,60.0,61.0,62.0,63.0,64.0,65.0,66.0,67.0,68.0,69.0,70.0,71.0,72.0,73.0,74.0],\"y\":[0.949,0.949,0.888,0.888,0.885,0.885,0.858,0.858,0.846,0.846,0.861,0.861,0.87,0.87,0.861,0.861,0.866,0.866,0.873,0.873,0.862,0.862,0.848,0.848,0.855,0.855,0.848,0.848,0.846,0.846,0.85,0.85,0.847,0.847,0.849,0.849,0.847,0.847,0.851,0.851,0.852,0.852,0.857,0.857,0.856,0.856,0.859,0.859,0.861,0.861,0.861,0.861,0.859,0.859,0.855,0.855,0.852,0.852,0.849,0.849,0.851,0.851,0.85,0.85,0.85,0.85,0.852,0.852,0.853,0.853,0.853,0.853,0.854,0.854,0.854],\"type\":\"scatter\",\"xaxis\":\"x4\",\"yaxis\":\"y4\"}],                        {\"template\":{\"data\":{\"histogram2dcontour\":[{\"type\":\"histogram2dcontour\",\"colorbar\":{\"outlinewidth\":0,\"ticks\":\"\"},\"colorscale\":[[0.0,\"#0d0887\"],[0.1111111111111111,\"#46039f\"],[0.2222222222222222,\"#7201a8\"],[0.3333333333333333,\"#9c179e\"],[0.4444444444444444,\"#bd3786\"],[0.5555555555555556,\"#d8576b\"],[0.6666666666666666,\"#ed7953\"],[0.7777777777777778,\"#fb9f3a\"],[0.8888888888888888,\"#fdca26\"],[1.0,\"#f0f921\"]]}],\"choropleth\":[{\"type\":\"choropleth\",\"colorbar\":{\"outlinewidth\":0,\"ticks\":\"\"}}],\"histogram2d\":[{\"type\":\"histogram2d\",\"colorbar\":{\"outlinewidth\":0,\"ticks\":\"\"},\"colorscale\":[[0.0,\"#0d0887\"],[0.1111111111111111,\"#46039f\"],[0.2222222222222222,\"#7201a8\"],[0.3333333333333333,\"#9c179e\"],[0.4444444444444444,\"#bd3786\"],[0.5555555555555556,\"#d8576b\"],[0.6666666666666666,\"#ed7953\"],[0.7777777777777778,\"#fb9f3a\"],[0.8888888888888888,\"#fdca26\"],[1.0,\"#f0f921\"]]}],\"heatmap\":[{\"type\":\"heatmap\",\"colorbar\":{\"outlinewidth\":0,\"ticks\":\"\"},\"colorscale\":[[0.0,\"#0d0887\"],[0.1111111111111111,\"#46039f\"],[0.2222222222222222,\"#7201a8\"],[0.3333333333333333,\"#9c179e\"],[0.4444444444444444,\"#bd3786\"],[0.5555555555555556,\"#d8576b\"],[0.6666666666666666,\"#ed7953\"],[0.7777777777777778,\"#fb9f3a\"],[0.8888888888888888,\"#fdca26\"],[1.0,\"#f0f921\"]]}],\"heatmapgl\":[{\"type\":\"heatmapgl\",\"colorbar\":{\"outlinewidth\":0,\"ticks\":\"\"},\"colorscale\":[[0.0,\"#0d0887\"],[0.1111111111111111,\"#46039f\"],[0.2222222222222222,\"#7201a8\"],[0.3333333333333333,\"#9c179e\"],[0.4444444444444444,\"#bd3786\"],[0.5555555555555556,\"#d8576b\"],[0.6666666666666666,\"#ed7953\"],[0.7777777777777778,\"#fb9f3a\"],[0.8888888888888888,\"#fdca26\"],[1.0,\"#f0f921\"]]}],\"contourcarpet\":[{\"type\":\"contourcarpet\",\"colorbar\":{\"outlinewidth\":0,\"ticks\":\"\"}}],\"contour\":[{\"type\":\"contour\",\"colorbar\":{\"outlinewidth\":0,\"ticks\":\"\"},\"colorscale\":[[0.0,\"#0d0887\"],[0.1111111111111111,\"#46039f\"],[0.2222222222222222,\"#7201a8\"],[0.3333333333333333,\"#9c179e\"],[0.4444444444444444,\"#bd3786\"],[0.5555555555555556,\"#d8576b\"],[0.6666666666666666,\"#ed7953\"],[0.7777777777777778,\"#fb9f3a\"],[0.8888888888888888,\"#fdca26\"],[1.0,\"#f0f921\"]]}],\"surface\":[{\"type\":\"surface\",\"colorbar\":{\"outlinewidth\":0,\"ticks\":\"\"},\"colorscale\":[[0.0,\"#0d0887\"],[0.1111111111111111,\"#46039f\"],[0.2222222222222222,\"#7201a8\"],[0.3333333333333333,\"#9c179e\"],[0.4444444444444444,\"#bd3786\"],[0.5555555555555556,\"#d8576b\"],[0.6666666666666666,\"#ed7953\"],[0.7777777777777778,\"#fb9f3a\"],[0.8888888888888888,\"#fdca26\"],[1.0,\"#f0f921\"]]}],\"mesh3d\":[{\"type\":\"mesh3d\",\"colorbar\":{\"outlinewidth\":0,\"ticks\":\"\"}}],\"scatter\":[{\"fillpattern\":{\"fillmode\":\"overlay\",\"size\":10,\"solidity\":0.2},\"type\":\"scatter\"}],\"parcoords\":[{\"type\":\"parcoords\",\"line\":{\"colorbar\":{\"outlinewidth\":0,\"ticks\":\"\"}}}],\"scatterpolargl\":[{\"type\":\"scatterpolargl\",\"marker\":{\"colorbar\":{\"outlinewidth\":0,\"ticks\":\"\"}}}],\"bar\":[{\"error_x\":{\"color\":\"#2a3f5f\"},\"error_y\":{\"color\":\"#2a3f5f\"},\"marker\":{\"line\":{\"color\":\"#E5ECF6\",\"width\":0.5},\"pattern\":{\"fillmode\":\"overlay\",\"size\":10,\"solidity\":0.2}},\"type\":\"bar\"}],\"scattergeo\":[{\"type\":\"scattergeo\",\"marker\":{\"colorbar\":{\"outlinewidth\":0,\"ticks\":\"\"}}}],\"scatterpolar\":[{\"type\":\"scatterpolar\",\"marker\":{\"colorbar\":{\"outlinewidth\":0,\"ticks\":\"\"}}}],\"histogram\":[{\"marker\":{\"pattern\":{\"fillmode\":\"overlay\",\"size\":10,\"solidity\":0.2}},\"type\":\"histogram\"}],\"scattergl\":[{\"type\":\"scattergl\",\"marker\":{\"colorbar\":{\"outlinewidth\":0,\"ticks\":\"\"}}}],\"scatter3d\":[{\"type\":\"scatter3d\",\"line\":{\"colorbar\":{\"outlinewidth\":0,\"ticks\":\"\"}},\"marker\":{\"colorbar\":{\"outlinewidth\":0,\"ticks\":\"\"}}}],\"scattermapbox\":[{\"type\":\"scattermapbox\",\"marker\":{\"colorbar\":{\"outlinewidth\":0,\"ticks\":\"\"}}}],\"scatterternary\":[{\"type\":\"scatterternary\",\"marker\":{\"colorbar\":{\"outlinewidth\":0,\"ticks\":\"\"}}}],\"scattercarpet\":[{\"type\":\"scattercarpet\",\"marker\":{\"colorbar\":{\"outlinewidth\":0,\"ticks\":\"\"}}}],\"carpet\":[{\"aaxis\":{\"endlinecolor\":\"#2a3f5f\",\"gridcolor\":\"white\",\"linecolor\":\"white\",\"minorgridcolor\":\"white\",\"startlinecolor\":\"#2a3f5f\"},\"baxis\":{\"endlinecolor\":\"#2a3f5f\",\"gridcolor\":\"white\",\"linecolor\":\"white\",\"minorgridcolor\":\"white\",\"startlinecolor\":\"#2a3f5f\"},\"type\":\"carpet\"}],\"table\":[{\"cells\":{\"fill\":{\"color\":\"#EBF0F8\"},\"line\":{\"color\":\"white\"}},\"header\":{\"fill\":{\"color\":\"#C8D4E3\"},\"line\":{\"color\":\"white\"}},\"type\":\"table\"}],\"barpolar\":[{\"marker\":{\"line\":{\"color\":\"#E5ECF6\",\"width\":0.5},\"pattern\":{\"fillmode\":\"overlay\",\"size\":10,\"solidity\":0.2}},\"type\":\"barpolar\"}],\"pie\":[{\"automargin\":true,\"type\":\"pie\"}]},\"layout\":{\"autotypenumbers\":\"strict\",\"colorway\":[\"#636efa\",\"#EF553B\",\"#00cc96\",\"#ab63fa\",\"#FFA15A\",\"#19d3f3\",\"#FF6692\",\"#B6E880\",\"#FF97FF\",\"#FECB52\"],\"font\":{\"color\":\"#2a3f5f\"},\"hovermode\":\"closest\",\"hoverlabel\":{\"align\":\"left\"},\"paper_bgcolor\":\"white\",\"plot_bgcolor\":\"#E5ECF6\",\"polar\":{\"bgcolor\":\"#E5ECF6\",\"angularaxis\":{\"gridcolor\":\"white\",\"linecolor\":\"white\",\"ticks\":\"\"},\"radialaxis\":{\"gridcolor\":\"white\",\"linecolor\":\"white\",\"ticks\":\"\"}},\"ternary\":{\"bgcolor\":\"#E5ECF6\",\"aaxis\":{\"gridcolor\":\"white\",\"linecolor\":\"white\",\"ticks\":\"\"},\"baxis\":{\"gridcolor\":\"white\",\"linecolor\":\"white\",\"ticks\":\"\"},\"caxis\":{\"gridcolor\":\"white\",\"linecolor\":\"white\",\"ticks\":\"\"}},\"coloraxis\":{\"colorbar\":{\"outlinewidth\":0,\"ticks\":\"\"}},\"colorscale\":{\"sequential\":[[0.0,\"#0d0887\"],[0.1111111111111111,\"#46039f\"],[0.2222222222222222,\"#7201a8\"],[0.3333333333333333,\"#9c179e\"],[0.4444444444444444,\"#bd3786\"],[0.5555555555555556,\"#d8576b\"],[0.6666666666666666,\"#ed7953\"],[0.7777777777777778,\"#fb9f3a\"],[0.8888888888888888,\"#fdca26\"],[1.0,\"#f0f921\"]],\"sequentialminus\":[[0.0,\"#0d0887\"],[0.1111111111111111,\"#46039f\"],[0.2222222222222222,\"#7201a8\"],[0.3333333333333333,\"#9c179e\"],[0.4444444444444444,\"#bd3786\"],[0.5555555555555556,\"#d8576b\"],[0.6666666666666666,\"#ed7953\"],[0.7777777777777778,\"#fb9f3a\"],[0.8888888888888888,\"#fdca26\"],[1.0,\"#f0f921\"]],\"diverging\":[[0,\"#8e0152\"],[0.1,\"#c51b7d\"],[0.2,\"#de77ae\"],[0.3,\"#f1b6da\"],[0.4,\"#fde0ef\"],[0.5,\"#f7f7f7\"],[0.6,\"#e6f5d0\"],[0.7,\"#b8e186\"],[0.8,\"#7fbc41\"],[0.9,\"#4d9221\"],[1,\"#276419\"]]},\"xaxis\":{\"gridcolor\":\"white\",\"linecolor\":\"white\",\"ticks\":\"\",\"title\":{\"standoff\":15},\"zerolinecolor\":\"white\",\"automargin\":true,\"zerolinewidth\":2},\"yaxis\":{\"gridcolor\":\"white\",\"linecolor\":\"white\",\"ticks\":\"\",\"title\":{\"standoff\":15},\"zerolinecolor\":\"white\",\"automargin\":true,\"zerolinewidth\":2},\"scene\":{\"xaxis\":{\"backgroundcolor\":\"#E5ECF6\",\"gridcolor\":\"white\",\"linecolor\":\"white\",\"showbackground\":true,\"ticks\":\"\",\"zerolinecolor\":\"white\",\"gridwidth\":2},\"yaxis\":{\"backgroundcolor\":\"#E5ECF6\",\"gridcolor\":\"white\",\"linecolor\":\"white\",\"showbackground\":true,\"ticks\":\"\",\"zerolinecolor\":\"white\",\"gridwidth\":2},\"zaxis\":{\"backgroundcolor\":\"#E5ECF6\",\"gridcolor\":\"white\",\"linecolor\":\"white\",\"showbackground\":true,\"ticks\":\"\",\"zerolinecolor\":\"white\",\"gridwidth\":2}},\"shapedefaults\":{\"line\":{\"color\":\"#2a3f5f\"}},\"annotationdefaults\":{\"arrowcolor\":\"#2a3f5f\",\"arrowhead\":0,\"arrowwidth\":1},\"geo\":{\"bgcolor\":\"white\",\"landcolor\":\"#E5ECF6\",\"subunitcolor\":\"white\",\"showland\":true,\"showlakes\":true,\"lakecolor\":\"white\"},\"title\":{\"x\":0.05},\"mapbox\":{\"style\":\"light\"}}},\"xaxis\":{\"anchor\":\"y\",\"domain\":[0.0,0.45]},\"yaxis\":{\"anchor\":\"x\",\"domain\":[0.625,1.0]},\"xaxis2\":{\"anchor\":\"y2\",\"domain\":[0.55,1.0]},\"yaxis2\":{\"anchor\":\"x2\",\"domain\":[0.625,1.0]},\"xaxis3\":{\"anchor\":\"y3\",\"domain\":[0.0,0.45]},\"yaxis3\":{\"anchor\":\"x3\",\"domain\":[0.0,0.375]},\"xaxis4\":{\"anchor\":\"y4\",\"domain\":[0.55,1.0]},\"yaxis4\":{\"anchor\":\"x4\",\"domain\":[0.0,0.375]},\"annotations\":[{\"font\":{\"size\":16},\"showarrow\":false,\"text\":\"Types of Robots vs Time\",\"x\":0.225,\"xanchor\":\"center\",\"xref\":\"paper\",\"y\":1.0,\"yanchor\":\"bottom\",\"yref\":\"paper\"},{\"font\":{\"size\":16},\"showarrow\":false,\"text\":\"Resources vs Time\",\"x\":0.775,\"xanchor\":\"center\",\"xref\":\"paper\",\"y\":1.0,\"yanchor\":\"bottom\",\"yref\":\"paper\"},{\"font\":{\"size\":16},\"showarrow\":false,\"text\":\"Tasks of Robots vs Time\",\"x\":0.225,\"xanchor\":\"center\",\"xref\":\"paper\",\"y\":0.375,\"yanchor\":\"bottom\",\"yref\":\"paper\"},{\"font\":{\"size\":16},\"showarrow\":false,\"text\":\"Build Quality vs Time\",\"x\":0.775,\"xanchor\":\"center\",\"xref\":\"paper\",\"y\":0.375,\"yanchor\":\"bottom\",\"yref\":\"paper\"}],\"hovermode\":\"x\",\"title\":{\"text\":\"CHO - Characteristics\"}},                        {\"responsive\": true}                    ).then(function(){\n",
       "                            \n",
       "var gd = document.getElementById('68a2a367-b27f-4ef9-bab4-6b46a1999af7');\n",
       "var x = new MutationObserver(function (mutations, observer) {{\n",
       "        var display = window.getComputedStyle(gd).display;\n",
       "        if (!display || display === 'none') {{\n",
       "            console.log([gd, 'removed!']);\n",
       "            Plotly.purge(gd);\n",
       "            observer.disconnect();\n",
       "        }}\n",
       "}});\n",
       "\n",
       "// Listen for the removal of the full notebook cells\n",
       "var notebookContainer = gd.closest('#notebook-container');\n",
       "if (notebookContainer) {{\n",
       "    x.observe(notebookContainer, {childList: true});\n",
       "}}\n",
       "\n",
       "// Listen for the clearing of the current output cell\n",
       "var outputEl = gd.closest('.output');\n",
       "if (outputEl) {{\n",
       "    x.observe(outputEl, {childList: true});\n",
       "}}\n",
       "\n",
       "                        })                };                });            </script>        </div>"
      ]
     },
     "metadata": {},
     "output_type": "display_data"
    },
    {
     "data": {
      "application/vnd.plotly.v1+json": {
       "config": {
        "plotlyServerURL": "https://plotly.com"
       },
       "data": [
        {
         "alignmentgroup": "True",
         "hovertemplate": "variable=#In<br>Time=%{x}<br>value=%{y}<extra></extra>",
         "legendgroup": "#In",
         "marker": {
          "color": "#636efa",
          "pattern": {
           "shape": ""
          }
         },
         "name": "#In",
         "offsetgroup": "#In",
         "orientation": "v",
         "showlegend": true,
         "textposition": "auto",
         "type": "bar",
         "x": [
          0,
          1,
          2,
          3,
          4,
          5,
          6,
          7,
          8,
          9,
          10,
          11,
          12,
          13,
          14,
          15,
          16,
          17,
          18,
          19,
          20,
          21,
          22,
          23,
          24,
          25,
          26,
          27,
          28,
          29,
          30,
          31,
          32,
          33,
          34,
          35,
          36,
          37,
          38,
          39,
          40,
          41,
          42,
          43,
          44,
          45,
          46,
          47,
          48,
          49,
          50,
          51,
          52,
          53,
          54,
          55,
          56,
          57,
          58,
          59,
          60,
          61,
          62,
          63,
          64,
          65,
          66,
          67,
          68,
          69,
          70,
          71,
          72,
          73,
          74
         ],
         "xaxis": "x",
         "y": [
          1,
          1,
          1,
          1,
          1,
          1,
          3,
          3,
          3,
          5,
          5,
          5,
          11,
          11,
          11,
          21,
          21,
          21,
          33,
          34,
          34,
          34,
          40,
          44,
          46,
          47,
          51,
          53,
          57,
          59,
          63,
          66,
          72,
          76,
          81,
          85,
          91,
          96,
          101,
          104,
          109,
          117,
          123,
          129,
          138,
          142,
          150,
          151,
          153,
          154,
          154,
          154,
          154,
          154,
          154,
          154,
          154,
          154,
          154,
          154,
          154,
          154,
          154,
          154,
          154,
          154,
          154,
          154,
          154,
          154,
          154,
          154,
          154,
          154,
          154
         ],
         "yaxis": "y"
        },
        {
         "alignmentgroup": "True",
         "hovertemplate": "variable=#Out<br>Time=%{x}<br>value=%{y}<extra></extra>",
         "legendgroup": "#Out",
         "marker": {
          "color": "#EF553B",
          "pattern": {
           "shape": ""
          }
         },
         "name": "#Out",
         "offsetgroup": "#Out",
         "orientation": "v",
         "showlegend": true,
         "textposition": "auto",
         "type": "bar",
         "x": [
          0,
          1,
          2,
          3,
          4,
          5,
          6,
          7,
          8,
          9,
          10,
          11,
          12,
          13,
          14,
          15,
          16,
          17,
          18,
          19,
          20,
          21,
          22,
          23,
          24,
          25,
          26,
          27,
          28,
          29,
          30,
          31,
          32,
          33,
          34,
          35,
          36,
          37,
          38,
          39,
          40,
          41,
          42,
          43,
          44,
          45,
          46,
          47,
          48,
          49,
          50,
          51,
          52,
          53,
          54,
          55,
          56,
          57,
          58,
          59,
          60,
          61,
          62,
          63,
          64,
          65,
          66,
          67,
          68,
          69,
          70,
          71,
          72,
          73,
          74
         ],
         "xaxis": "x",
         "y": [
          0,
          0,
          0,
          0,
          0,
          0,
          0,
          0,
          0,
          0,
          0,
          0,
          0,
          0,
          0,
          0,
          0,
          0,
          0,
          1,
          1,
          1,
          1,
          1,
          1,
          2,
          2,
          2,
          2,
          2,
          2,
          3,
          5,
          5,
          6,
          8,
          8,
          9,
          10,
          11,
          12,
          12,
          14,
          16,
          17,
          19,
          19,
          20,
          22,
          23,
          23,
          23,
          23,
          23,
          23,
          23,
          23,
          23,
          23,
          23,
          23,
          23,
          23,
          23,
          23,
          23,
          23,
          23,
          23,
          23,
          23,
          23,
          23,
          23,
          23
         ],
         "yaxis": "y"
        }
       ],
       "layout": {
        "barmode": "relative",
        "hovermode": "x",
        "legend": {
         "title": {
          "text": "variable"
         },
         "tracegroupgap": 0
        },
        "template": {
         "data": {
          "bar": [
           {
            "error_x": {
             "color": "#2a3f5f"
            },
            "error_y": {
             "color": "#2a3f5f"
            },
            "marker": {
             "line": {
              "color": "#E5ECF6",
              "width": 0.5
             },
             "pattern": {
              "fillmode": "overlay",
              "size": 10,
              "solidity": 0.2
             }
            },
            "type": "bar"
           }
          ],
          "barpolar": [
           {
            "marker": {
             "line": {
              "color": "#E5ECF6",
              "width": 0.5
             },
             "pattern": {
              "fillmode": "overlay",
              "size": 10,
              "solidity": 0.2
             }
            },
            "type": "barpolar"
           }
          ],
          "carpet": [
           {
            "aaxis": {
             "endlinecolor": "#2a3f5f",
             "gridcolor": "white",
             "linecolor": "white",
             "minorgridcolor": "white",
             "startlinecolor": "#2a3f5f"
            },
            "baxis": {
             "endlinecolor": "#2a3f5f",
             "gridcolor": "white",
             "linecolor": "white",
             "minorgridcolor": "white",
             "startlinecolor": "#2a3f5f"
            },
            "type": "carpet"
           }
          ],
          "choropleth": [
           {
            "colorbar": {
             "outlinewidth": 0,
             "ticks": ""
            },
            "type": "choropleth"
           }
          ],
          "contour": [
           {
            "colorbar": {
             "outlinewidth": 0,
             "ticks": ""
            },
            "colorscale": [
             [
              0,
              "#0d0887"
             ],
             [
              0.1111111111111111,
              "#46039f"
             ],
             [
              0.2222222222222222,
              "#7201a8"
             ],
             [
              0.3333333333333333,
              "#9c179e"
             ],
             [
              0.4444444444444444,
              "#bd3786"
             ],
             [
              0.5555555555555556,
              "#d8576b"
             ],
             [
              0.6666666666666666,
              "#ed7953"
             ],
             [
              0.7777777777777778,
              "#fb9f3a"
             ],
             [
              0.8888888888888888,
              "#fdca26"
             ],
             [
              1,
              "#f0f921"
             ]
            ],
            "type": "contour"
           }
          ],
          "contourcarpet": [
           {
            "colorbar": {
             "outlinewidth": 0,
             "ticks": ""
            },
            "type": "contourcarpet"
           }
          ],
          "heatmap": [
           {
            "colorbar": {
             "outlinewidth": 0,
             "ticks": ""
            },
            "colorscale": [
             [
              0,
              "#0d0887"
             ],
             [
              0.1111111111111111,
              "#46039f"
             ],
             [
              0.2222222222222222,
              "#7201a8"
             ],
             [
              0.3333333333333333,
              "#9c179e"
             ],
             [
              0.4444444444444444,
              "#bd3786"
             ],
             [
              0.5555555555555556,
              "#d8576b"
             ],
             [
              0.6666666666666666,
              "#ed7953"
             ],
             [
              0.7777777777777778,
              "#fb9f3a"
             ],
             [
              0.8888888888888888,
              "#fdca26"
             ],
             [
              1,
              "#f0f921"
             ]
            ],
            "type": "heatmap"
           }
          ],
          "heatmapgl": [
           {
            "colorbar": {
             "outlinewidth": 0,
             "ticks": ""
            },
            "colorscale": [
             [
              0,
              "#0d0887"
             ],
             [
              0.1111111111111111,
              "#46039f"
             ],
             [
              0.2222222222222222,
              "#7201a8"
             ],
             [
              0.3333333333333333,
              "#9c179e"
             ],
             [
              0.4444444444444444,
              "#bd3786"
             ],
             [
              0.5555555555555556,
              "#d8576b"
             ],
             [
              0.6666666666666666,
              "#ed7953"
             ],
             [
              0.7777777777777778,
              "#fb9f3a"
             ],
             [
              0.8888888888888888,
              "#fdca26"
             ],
             [
              1,
              "#f0f921"
             ]
            ],
            "type": "heatmapgl"
           }
          ],
          "histogram": [
           {
            "marker": {
             "pattern": {
              "fillmode": "overlay",
              "size": 10,
              "solidity": 0.2
             }
            },
            "type": "histogram"
           }
          ],
          "histogram2d": [
           {
            "colorbar": {
             "outlinewidth": 0,
             "ticks": ""
            },
            "colorscale": [
             [
              0,
              "#0d0887"
             ],
             [
              0.1111111111111111,
              "#46039f"
             ],
             [
              0.2222222222222222,
              "#7201a8"
             ],
             [
              0.3333333333333333,
              "#9c179e"
             ],
             [
              0.4444444444444444,
              "#bd3786"
             ],
             [
              0.5555555555555556,
              "#d8576b"
             ],
             [
              0.6666666666666666,
              "#ed7953"
             ],
             [
              0.7777777777777778,
              "#fb9f3a"
             ],
             [
              0.8888888888888888,
              "#fdca26"
             ],
             [
              1,
              "#f0f921"
             ]
            ],
            "type": "histogram2d"
           }
          ],
          "histogram2dcontour": [
           {
            "colorbar": {
             "outlinewidth": 0,
             "ticks": ""
            },
            "colorscale": [
             [
              0,
              "#0d0887"
             ],
             [
              0.1111111111111111,
              "#46039f"
             ],
             [
              0.2222222222222222,
              "#7201a8"
             ],
             [
              0.3333333333333333,
              "#9c179e"
             ],
             [
              0.4444444444444444,
              "#bd3786"
             ],
             [
              0.5555555555555556,
              "#d8576b"
             ],
             [
              0.6666666666666666,
              "#ed7953"
             ],
             [
              0.7777777777777778,
              "#fb9f3a"
             ],
             [
              0.8888888888888888,
              "#fdca26"
             ],
             [
              1,
              "#f0f921"
             ]
            ],
            "type": "histogram2dcontour"
           }
          ],
          "mesh3d": [
           {
            "colorbar": {
             "outlinewidth": 0,
             "ticks": ""
            },
            "type": "mesh3d"
           }
          ],
          "parcoords": [
           {
            "line": {
             "colorbar": {
              "outlinewidth": 0,
              "ticks": ""
             }
            },
            "type": "parcoords"
           }
          ],
          "pie": [
           {
            "automargin": true,
            "type": "pie"
           }
          ],
          "scatter": [
           {
            "fillpattern": {
             "fillmode": "overlay",
             "size": 10,
             "solidity": 0.2
            },
            "type": "scatter"
           }
          ],
          "scatter3d": [
           {
            "line": {
             "colorbar": {
              "outlinewidth": 0,
              "ticks": ""
             }
            },
            "marker": {
             "colorbar": {
              "outlinewidth": 0,
              "ticks": ""
             }
            },
            "type": "scatter3d"
           }
          ],
          "scattercarpet": [
           {
            "marker": {
             "colorbar": {
              "outlinewidth": 0,
              "ticks": ""
             }
            },
            "type": "scattercarpet"
           }
          ],
          "scattergeo": [
           {
            "marker": {
             "colorbar": {
              "outlinewidth": 0,
              "ticks": ""
             }
            },
            "type": "scattergeo"
           }
          ],
          "scattergl": [
           {
            "marker": {
             "colorbar": {
              "outlinewidth": 0,
              "ticks": ""
             }
            },
            "type": "scattergl"
           }
          ],
          "scattermapbox": [
           {
            "marker": {
             "colorbar": {
              "outlinewidth": 0,
              "ticks": ""
             }
            },
            "type": "scattermapbox"
           }
          ],
          "scatterpolar": [
           {
            "marker": {
             "colorbar": {
              "outlinewidth": 0,
              "ticks": ""
             }
            },
            "type": "scatterpolar"
           }
          ],
          "scatterpolargl": [
           {
            "marker": {
             "colorbar": {
              "outlinewidth": 0,
              "ticks": ""
             }
            },
            "type": "scatterpolargl"
           }
          ],
          "scatterternary": [
           {
            "marker": {
             "colorbar": {
              "outlinewidth": 0,
              "ticks": ""
             }
            },
            "type": "scatterternary"
           }
          ],
          "surface": [
           {
            "colorbar": {
             "outlinewidth": 0,
             "ticks": ""
            },
            "colorscale": [
             [
              0,
              "#0d0887"
             ],
             [
              0.1111111111111111,
              "#46039f"
             ],
             [
              0.2222222222222222,
              "#7201a8"
             ],
             [
              0.3333333333333333,
              "#9c179e"
             ],
             [
              0.4444444444444444,
              "#bd3786"
             ],
             [
              0.5555555555555556,
              "#d8576b"
             ],
             [
              0.6666666666666666,
              "#ed7953"
             ],
             [
              0.7777777777777778,
              "#fb9f3a"
             ],
             [
              0.8888888888888888,
              "#fdca26"
             ],
             [
              1,
              "#f0f921"
             ]
            ],
            "type": "surface"
           }
          ],
          "table": [
           {
            "cells": {
             "fill": {
              "color": "#EBF0F8"
             },
             "line": {
              "color": "white"
             }
            },
            "header": {
             "fill": {
              "color": "#C8D4E3"
             },
             "line": {
              "color": "white"
             }
            },
            "type": "table"
           }
          ]
         },
         "layout": {
          "annotationdefaults": {
           "arrowcolor": "#2a3f5f",
           "arrowhead": 0,
           "arrowwidth": 1
          },
          "autotypenumbers": "strict",
          "coloraxis": {
           "colorbar": {
            "outlinewidth": 0,
            "ticks": ""
           }
          },
          "colorscale": {
           "diverging": [
            [
             0,
             "#8e0152"
            ],
            [
             0.1,
             "#c51b7d"
            ],
            [
             0.2,
             "#de77ae"
            ],
            [
             0.3,
             "#f1b6da"
            ],
            [
             0.4,
             "#fde0ef"
            ],
            [
             0.5,
             "#f7f7f7"
            ],
            [
             0.6,
             "#e6f5d0"
            ],
            [
             0.7,
             "#b8e186"
            ],
            [
             0.8,
             "#7fbc41"
            ],
            [
             0.9,
             "#4d9221"
            ],
            [
             1,
             "#276419"
            ]
           ],
           "sequential": [
            [
             0,
             "#0d0887"
            ],
            [
             0.1111111111111111,
             "#46039f"
            ],
            [
             0.2222222222222222,
             "#7201a8"
            ],
            [
             0.3333333333333333,
             "#9c179e"
            ],
            [
             0.4444444444444444,
             "#bd3786"
            ],
            [
             0.5555555555555556,
             "#d8576b"
            ],
            [
             0.6666666666666666,
             "#ed7953"
            ],
            [
             0.7777777777777778,
             "#fb9f3a"
            ],
            [
             0.8888888888888888,
             "#fdca26"
            ],
            [
             1,
             "#f0f921"
            ]
           ],
           "sequentialminus": [
            [
             0,
             "#0d0887"
            ],
            [
             0.1111111111111111,
             "#46039f"
            ],
            [
             0.2222222222222222,
             "#7201a8"
            ],
            [
             0.3333333333333333,
             "#9c179e"
            ],
            [
             0.4444444444444444,
             "#bd3786"
            ],
            [
             0.5555555555555556,
             "#d8576b"
            ],
            [
             0.6666666666666666,
             "#ed7953"
            ],
            [
             0.7777777777777778,
             "#fb9f3a"
            ],
            [
             0.8888888888888888,
             "#fdca26"
            ],
            [
             1,
             "#f0f921"
            ]
           ]
          },
          "colorway": [
           "#636efa",
           "#EF553B",
           "#00cc96",
           "#ab63fa",
           "#FFA15A",
           "#19d3f3",
           "#FF6692",
           "#B6E880",
           "#FF97FF",
           "#FECB52"
          ],
          "font": {
           "color": "#2a3f5f"
          },
          "geo": {
           "bgcolor": "white",
           "lakecolor": "white",
           "landcolor": "#E5ECF6",
           "showlakes": true,
           "showland": true,
           "subunitcolor": "white"
          },
          "hoverlabel": {
           "align": "left"
          },
          "hovermode": "closest",
          "mapbox": {
           "style": "light"
          },
          "paper_bgcolor": "white",
          "plot_bgcolor": "#E5ECF6",
          "polar": {
           "angularaxis": {
            "gridcolor": "white",
            "linecolor": "white",
            "ticks": ""
           },
           "bgcolor": "#E5ECF6",
           "radialaxis": {
            "gridcolor": "white",
            "linecolor": "white",
            "ticks": ""
           }
          },
          "scene": {
           "xaxis": {
            "backgroundcolor": "#E5ECF6",
            "gridcolor": "white",
            "gridwidth": 2,
            "linecolor": "white",
            "showbackground": true,
            "ticks": "",
            "zerolinecolor": "white"
           },
           "yaxis": {
            "backgroundcolor": "#E5ECF6",
            "gridcolor": "white",
            "gridwidth": 2,
            "linecolor": "white",
            "showbackground": true,
            "ticks": "",
            "zerolinecolor": "white"
           },
           "zaxis": {
            "backgroundcolor": "#E5ECF6",
            "gridcolor": "white",
            "gridwidth": 2,
            "linecolor": "white",
            "showbackground": true,
            "ticks": "",
            "zerolinecolor": "white"
           }
          },
          "shapedefaults": {
           "line": {
            "color": "#2a3f5f"
           }
          },
          "ternary": {
           "aaxis": {
            "gridcolor": "white",
            "linecolor": "white",
            "ticks": ""
           },
           "baxis": {
            "gridcolor": "white",
            "linecolor": "white",
            "ticks": ""
           },
           "bgcolor": "#E5ECF6",
           "caxis": {
            "gridcolor": "white",
            "linecolor": "white",
            "ticks": ""
           }
          },
          "title": {
           "x": 0.05
          },
          "xaxis": {
           "automargin": true,
           "gridcolor": "white",
           "linecolor": "white",
           "ticks": "",
           "title": {
            "standoff": 15
           },
           "zerolinecolor": "white",
           "zerolinewidth": 2
          },
          "yaxis": {
           "automargin": true,
           "gridcolor": "white",
           "linecolor": "white",
           "ticks": "",
           "title": {
            "standoff": 15
           },
           "zerolinecolor": "white",
           "zerolinewidth": 2
          }
         }
        },
        "title": {
         "text": "DHO - Habitat over Time"
        },
        "xaxis": {
         "anchor": "y",
         "domain": [
          0,
          1
         ],
         "title": {
          "text": "Time"
         }
        },
        "yaxis": {
         "anchor": "x",
         "domain": [
          0,
          1
         ],
         "title": {
          "text": "#Robots"
         }
        }
       }
      },
      "text/html": [
       "<div>                            <div id=\"bc37a698-9c12-4cdf-ac89-c1d4fe8cddf7\" class=\"plotly-graph-div\" style=\"height:525px; width:100%;\"></div>            <script type=\"text/javascript\">                require([\"plotly\"], function(Plotly) {                    window.PLOTLYENV=window.PLOTLYENV || {};                                    if (document.getElementById(\"bc37a698-9c12-4cdf-ac89-c1d4fe8cddf7\")) {                    Plotly.newPlot(                        \"bc37a698-9c12-4cdf-ac89-c1d4fe8cddf7\",                        [{\"alignmentgroup\":\"True\",\"hovertemplate\":\"variable=#In<br>Time=%{x}<br>value=%{y}<extra></extra>\",\"legendgroup\":\"#In\",\"marker\":{\"color\":\"#636efa\",\"pattern\":{\"shape\":\"\"}},\"name\":\"#In\",\"offsetgroup\":\"#In\",\"orientation\":\"v\",\"showlegend\":true,\"textposition\":\"auto\",\"x\":[0.0,1.0,2.0,3.0,4.0,5.0,6.0,7.0,8.0,9.0,10.0,11.0,12.0,13.0,14.0,15.0,16.0,17.0,18.0,19.0,20.0,21.0,22.0,23.0,24.0,25.0,26.0,27.0,28.0,29.0,30.0,31.0,32.0,33.0,34.0,35.0,36.0,37.0,38.0,39.0,40.0,41.0,42.0,43.0,44.0,45.0,46.0,47.0,48.0,49.0,50.0,51.0,52.0,53.0,54.0,55.0,56.0,57.0,58.0,59.0,60.0,61.0,62.0,63.0,64.0,65.0,66.0,67.0,68.0,69.0,70.0,71.0,72.0,73.0,74.0],\"xaxis\":\"x\",\"y\":[1.0,1.0,1.0,1.0,1.0,1.0,3.0,3.0,3.0,5.0,5.0,5.0,11.0,11.0,11.0,21.0,21.0,21.0,33.0,34.0,34.0,34.0,40.0,44.0,46.0,47.0,51.0,53.0,57.0,59.0,63.0,66.0,72.0,76.0,81.0,85.0,91.0,96.0,101.0,104.0,109.0,117.0,123.0,129.0,138.0,142.0,150.0,151.0,153.0,154.0,154.0,154.0,154.0,154.0,154.0,154.0,154.0,154.0,154.0,154.0,154.0,154.0,154.0,154.0,154.0,154.0,154.0,154.0,154.0,154.0,154.0,154.0,154.0,154.0,154.0],\"yaxis\":\"y\",\"type\":\"bar\"},{\"alignmentgroup\":\"True\",\"hovertemplate\":\"variable=#Out<br>Time=%{x}<br>value=%{y}<extra></extra>\",\"legendgroup\":\"#Out\",\"marker\":{\"color\":\"#EF553B\",\"pattern\":{\"shape\":\"\"}},\"name\":\"#Out\",\"offsetgroup\":\"#Out\",\"orientation\":\"v\",\"showlegend\":true,\"textposition\":\"auto\",\"x\":[0.0,1.0,2.0,3.0,4.0,5.0,6.0,7.0,8.0,9.0,10.0,11.0,12.0,13.0,14.0,15.0,16.0,17.0,18.0,19.0,20.0,21.0,22.0,23.0,24.0,25.0,26.0,27.0,28.0,29.0,30.0,31.0,32.0,33.0,34.0,35.0,36.0,37.0,38.0,39.0,40.0,41.0,42.0,43.0,44.0,45.0,46.0,47.0,48.0,49.0,50.0,51.0,52.0,53.0,54.0,55.0,56.0,57.0,58.0,59.0,60.0,61.0,62.0,63.0,64.0,65.0,66.0,67.0,68.0,69.0,70.0,71.0,72.0,73.0,74.0],\"xaxis\":\"x\",\"y\":[0.0,0.0,0.0,0.0,0.0,0.0,0.0,0.0,0.0,0.0,0.0,0.0,0.0,0.0,0.0,0.0,0.0,0.0,0.0,1.0,1.0,1.0,1.0,1.0,1.0,2.0,2.0,2.0,2.0,2.0,2.0,3.0,5.0,5.0,6.0,8.0,8.0,9.0,10.0,11.0,12.0,12.0,14.0,16.0,17.0,19.0,19.0,20.0,22.0,23.0,23.0,23.0,23.0,23.0,23.0,23.0,23.0,23.0,23.0,23.0,23.0,23.0,23.0,23.0,23.0,23.0,23.0,23.0,23.0,23.0,23.0,23.0,23.0,23.0,23.0],\"yaxis\":\"y\",\"type\":\"bar\"}],                        {\"template\":{\"data\":{\"histogram2dcontour\":[{\"type\":\"histogram2dcontour\",\"colorbar\":{\"outlinewidth\":0,\"ticks\":\"\"},\"colorscale\":[[0.0,\"#0d0887\"],[0.1111111111111111,\"#46039f\"],[0.2222222222222222,\"#7201a8\"],[0.3333333333333333,\"#9c179e\"],[0.4444444444444444,\"#bd3786\"],[0.5555555555555556,\"#d8576b\"],[0.6666666666666666,\"#ed7953\"],[0.7777777777777778,\"#fb9f3a\"],[0.8888888888888888,\"#fdca26\"],[1.0,\"#f0f921\"]]}],\"choropleth\":[{\"type\":\"choropleth\",\"colorbar\":{\"outlinewidth\":0,\"ticks\":\"\"}}],\"histogram2d\":[{\"type\":\"histogram2d\",\"colorbar\":{\"outlinewidth\":0,\"ticks\":\"\"},\"colorscale\":[[0.0,\"#0d0887\"],[0.1111111111111111,\"#46039f\"],[0.2222222222222222,\"#7201a8\"],[0.3333333333333333,\"#9c179e\"],[0.4444444444444444,\"#bd3786\"],[0.5555555555555556,\"#d8576b\"],[0.6666666666666666,\"#ed7953\"],[0.7777777777777778,\"#fb9f3a\"],[0.8888888888888888,\"#fdca26\"],[1.0,\"#f0f921\"]]}],\"heatmap\":[{\"type\":\"heatmap\",\"colorbar\":{\"outlinewidth\":0,\"ticks\":\"\"},\"colorscale\":[[0.0,\"#0d0887\"],[0.1111111111111111,\"#46039f\"],[0.2222222222222222,\"#7201a8\"],[0.3333333333333333,\"#9c179e\"],[0.4444444444444444,\"#bd3786\"],[0.5555555555555556,\"#d8576b\"],[0.6666666666666666,\"#ed7953\"],[0.7777777777777778,\"#fb9f3a\"],[0.8888888888888888,\"#fdca26\"],[1.0,\"#f0f921\"]]}],\"heatmapgl\":[{\"type\":\"heatmapgl\",\"colorbar\":{\"outlinewidth\":0,\"ticks\":\"\"},\"colorscale\":[[0.0,\"#0d0887\"],[0.1111111111111111,\"#46039f\"],[0.2222222222222222,\"#7201a8\"],[0.3333333333333333,\"#9c179e\"],[0.4444444444444444,\"#bd3786\"],[0.5555555555555556,\"#d8576b\"],[0.6666666666666666,\"#ed7953\"],[0.7777777777777778,\"#fb9f3a\"],[0.8888888888888888,\"#fdca26\"],[1.0,\"#f0f921\"]]}],\"contourcarpet\":[{\"type\":\"contourcarpet\",\"colorbar\":{\"outlinewidth\":0,\"ticks\":\"\"}}],\"contour\":[{\"type\":\"contour\",\"colorbar\":{\"outlinewidth\":0,\"ticks\":\"\"},\"colorscale\":[[0.0,\"#0d0887\"],[0.1111111111111111,\"#46039f\"],[0.2222222222222222,\"#7201a8\"],[0.3333333333333333,\"#9c179e\"],[0.4444444444444444,\"#bd3786\"],[0.5555555555555556,\"#d8576b\"],[0.6666666666666666,\"#ed7953\"],[0.7777777777777778,\"#fb9f3a\"],[0.8888888888888888,\"#fdca26\"],[1.0,\"#f0f921\"]]}],\"surface\":[{\"type\":\"surface\",\"colorbar\":{\"outlinewidth\":0,\"ticks\":\"\"},\"colorscale\":[[0.0,\"#0d0887\"],[0.1111111111111111,\"#46039f\"],[0.2222222222222222,\"#7201a8\"],[0.3333333333333333,\"#9c179e\"],[0.4444444444444444,\"#bd3786\"],[0.5555555555555556,\"#d8576b\"],[0.6666666666666666,\"#ed7953\"],[0.7777777777777778,\"#fb9f3a\"],[0.8888888888888888,\"#fdca26\"],[1.0,\"#f0f921\"]]}],\"mesh3d\":[{\"type\":\"mesh3d\",\"colorbar\":{\"outlinewidth\":0,\"ticks\":\"\"}}],\"scatter\":[{\"fillpattern\":{\"fillmode\":\"overlay\",\"size\":10,\"solidity\":0.2},\"type\":\"scatter\"}],\"parcoords\":[{\"type\":\"parcoords\",\"line\":{\"colorbar\":{\"outlinewidth\":0,\"ticks\":\"\"}}}],\"scatterpolargl\":[{\"type\":\"scatterpolargl\",\"marker\":{\"colorbar\":{\"outlinewidth\":0,\"ticks\":\"\"}}}],\"bar\":[{\"error_x\":{\"color\":\"#2a3f5f\"},\"error_y\":{\"color\":\"#2a3f5f\"},\"marker\":{\"line\":{\"color\":\"#E5ECF6\",\"width\":0.5},\"pattern\":{\"fillmode\":\"overlay\",\"size\":10,\"solidity\":0.2}},\"type\":\"bar\"}],\"scattergeo\":[{\"type\":\"scattergeo\",\"marker\":{\"colorbar\":{\"outlinewidth\":0,\"ticks\":\"\"}}}],\"scatterpolar\":[{\"type\":\"scatterpolar\",\"marker\":{\"colorbar\":{\"outlinewidth\":0,\"ticks\":\"\"}}}],\"histogram\":[{\"marker\":{\"pattern\":{\"fillmode\":\"overlay\",\"size\":10,\"solidity\":0.2}},\"type\":\"histogram\"}],\"scattergl\":[{\"type\":\"scattergl\",\"marker\":{\"colorbar\":{\"outlinewidth\":0,\"ticks\":\"\"}}}],\"scatter3d\":[{\"type\":\"scatter3d\",\"line\":{\"colorbar\":{\"outlinewidth\":0,\"ticks\":\"\"}},\"marker\":{\"colorbar\":{\"outlinewidth\":0,\"ticks\":\"\"}}}],\"scattermapbox\":[{\"type\":\"scattermapbox\",\"marker\":{\"colorbar\":{\"outlinewidth\":0,\"ticks\":\"\"}}}],\"scatterternary\":[{\"type\":\"scatterternary\",\"marker\":{\"colorbar\":{\"outlinewidth\":0,\"ticks\":\"\"}}}],\"scattercarpet\":[{\"type\":\"scattercarpet\",\"marker\":{\"colorbar\":{\"outlinewidth\":0,\"ticks\":\"\"}}}],\"carpet\":[{\"aaxis\":{\"endlinecolor\":\"#2a3f5f\",\"gridcolor\":\"white\",\"linecolor\":\"white\",\"minorgridcolor\":\"white\",\"startlinecolor\":\"#2a3f5f\"},\"baxis\":{\"endlinecolor\":\"#2a3f5f\",\"gridcolor\":\"white\",\"linecolor\":\"white\",\"minorgridcolor\":\"white\",\"startlinecolor\":\"#2a3f5f\"},\"type\":\"carpet\"}],\"table\":[{\"cells\":{\"fill\":{\"color\":\"#EBF0F8\"},\"line\":{\"color\":\"white\"}},\"header\":{\"fill\":{\"color\":\"#C8D4E3\"},\"line\":{\"color\":\"white\"}},\"type\":\"table\"}],\"barpolar\":[{\"marker\":{\"line\":{\"color\":\"#E5ECF6\",\"width\":0.5},\"pattern\":{\"fillmode\":\"overlay\",\"size\":10,\"solidity\":0.2}},\"type\":\"barpolar\"}],\"pie\":[{\"automargin\":true,\"type\":\"pie\"}]},\"layout\":{\"autotypenumbers\":\"strict\",\"colorway\":[\"#636efa\",\"#EF553B\",\"#00cc96\",\"#ab63fa\",\"#FFA15A\",\"#19d3f3\",\"#FF6692\",\"#B6E880\",\"#FF97FF\",\"#FECB52\"],\"font\":{\"color\":\"#2a3f5f\"},\"hovermode\":\"closest\",\"hoverlabel\":{\"align\":\"left\"},\"paper_bgcolor\":\"white\",\"plot_bgcolor\":\"#E5ECF6\",\"polar\":{\"bgcolor\":\"#E5ECF6\",\"angularaxis\":{\"gridcolor\":\"white\",\"linecolor\":\"white\",\"ticks\":\"\"},\"radialaxis\":{\"gridcolor\":\"white\",\"linecolor\":\"white\",\"ticks\":\"\"}},\"ternary\":{\"bgcolor\":\"#E5ECF6\",\"aaxis\":{\"gridcolor\":\"white\",\"linecolor\":\"white\",\"ticks\":\"\"},\"baxis\":{\"gridcolor\":\"white\",\"linecolor\":\"white\",\"ticks\":\"\"},\"caxis\":{\"gridcolor\":\"white\",\"linecolor\":\"white\",\"ticks\":\"\"}},\"coloraxis\":{\"colorbar\":{\"outlinewidth\":0,\"ticks\":\"\"}},\"colorscale\":{\"sequential\":[[0.0,\"#0d0887\"],[0.1111111111111111,\"#46039f\"],[0.2222222222222222,\"#7201a8\"],[0.3333333333333333,\"#9c179e\"],[0.4444444444444444,\"#bd3786\"],[0.5555555555555556,\"#d8576b\"],[0.6666666666666666,\"#ed7953\"],[0.7777777777777778,\"#fb9f3a\"],[0.8888888888888888,\"#fdca26\"],[1.0,\"#f0f921\"]],\"sequentialminus\":[[0.0,\"#0d0887\"],[0.1111111111111111,\"#46039f\"],[0.2222222222222222,\"#7201a8\"],[0.3333333333333333,\"#9c179e\"],[0.4444444444444444,\"#bd3786\"],[0.5555555555555556,\"#d8576b\"],[0.6666666666666666,\"#ed7953\"],[0.7777777777777778,\"#fb9f3a\"],[0.8888888888888888,\"#fdca26\"],[1.0,\"#f0f921\"]],\"diverging\":[[0,\"#8e0152\"],[0.1,\"#c51b7d\"],[0.2,\"#de77ae\"],[0.3,\"#f1b6da\"],[0.4,\"#fde0ef\"],[0.5,\"#f7f7f7\"],[0.6,\"#e6f5d0\"],[0.7,\"#b8e186\"],[0.8,\"#7fbc41\"],[0.9,\"#4d9221\"],[1,\"#276419\"]]},\"xaxis\":{\"gridcolor\":\"white\",\"linecolor\":\"white\",\"ticks\":\"\",\"title\":{\"standoff\":15},\"zerolinecolor\":\"white\",\"automargin\":true,\"zerolinewidth\":2},\"yaxis\":{\"gridcolor\":\"white\",\"linecolor\":\"white\",\"ticks\":\"\",\"title\":{\"standoff\":15},\"zerolinecolor\":\"white\",\"automargin\":true,\"zerolinewidth\":2},\"scene\":{\"xaxis\":{\"backgroundcolor\":\"#E5ECF6\",\"gridcolor\":\"white\",\"linecolor\":\"white\",\"showbackground\":true,\"ticks\":\"\",\"zerolinecolor\":\"white\",\"gridwidth\":2},\"yaxis\":{\"backgroundcolor\":\"#E5ECF6\",\"gridcolor\":\"white\",\"linecolor\":\"white\",\"showbackground\":true,\"ticks\":\"\",\"zerolinecolor\":\"white\",\"gridwidth\":2},\"zaxis\":{\"backgroundcolor\":\"#E5ECF6\",\"gridcolor\":\"white\",\"linecolor\":\"white\",\"showbackground\":true,\"ticks\":\"\",\"zerolinecolor\":\"white\",\"gridwidth\":2}},\"shapedefaults\":{\"line\":{\"color\":\"#2a3f5f\"}},\"annotationdefaults\":{\"arrowcolor\":\"#2a3f5f\",\"arrowhead\":0,\"arrowwidth\":1},\"geo\":{\"bgcolor\":\"white\",\"landcolor\":\"#E5ECF6\",\"subunitcolor\":\"white\",\"showland\":true,\"showlakes\":true,\"lakecolor\":\"white\"},\"title\":{\"x\":0.05},\"mapbox\":{\"style\":\"light\"}}},\"xaxis\":{\"anchor\":\"y\",\"domain\":[0.0,1.0],\"title\":{\"text\":\"Time\"}},\"yaxis\":{\"anchor\":\"x\",\"domain\":[0.0,1.0],\"title\":{\"text\":\"#Robots\"}},\"legend\":{\"title\":{\"text\":\"variable\"},\"tracegroupgap\":0},\"title\":{\"text\":\"DHO - Habitat over Time\"},\"barmode\":\"relative\",\"hovermode\":\"x\"},                        {\"responsive\": true}                    ).then(function(){\n",
       "                            \n",
       "var gd = document.getElementById('bc37a698-9c12-4cdf-ac89-c1d4fe8cddf7');\n",
       "var x = new MutationObserver(function (mutations, observer) {{\n",
       "        var display = window.getComputedStyle(gd).display;\n",
       "        if (!display || display === 'none') {{\n",
       "            console.log([gd, 'removed!']);\n",
       "            Plotly.purge(gd);\n",
       "            observer.disconnect();\n",
       "        }}\n",
       "}});\n",
       "\n",
       "// Listen for the removal of the full notebook cells\n",
       "var notebookContainer = gd.closest('#notebook-container');\n",
       "if (notebookContainer) {{\n",
       "    x.observe(notebookContainer, {childList: true});\n",
       "}}\n",
       "\n",
       "// Listen for the clearing of the current output cell\n",
       "var outputEl = gd.closest('.output');\n",
       "if (outputEl) {{\n",
       "    x.observe(outputEl, {childList: true});\n",
       "}}\n",
       "\n",
       "                        })                };                });            </script>        </div>"
      ]
     },
     "metadata": {},
     "output_type": "display_data"
    },
    {
     "data": {
      "application/vnd.plotly.v1+json": {
       "config": {
        "plotlyServerURL": "https://plotly.com"
       },
       "data": [
        {
         "name": "#Replicator",
         "type": "bar",
         "x": [
          0,
          1,
          2,
          3,
          4,
          5,
          6,
          7,
          8,
          9,
          10,
          11,
          12,
          13,
          14,
          15,
          16,
          17,
          18,
          19,
          20,
          21,
          22,
          23,
          24,
          25,
          26,
          27,
          28,
          29,
          30,
          31,
          32,
          33,
          34,
          35,
          36,
          37,
          38,
          39,
          40,
          41,
          42,
          43,
          44,
          45,
          46,
          47,
          48,
          49,
          50,
          51,
          52,
          53,
          54,
          55,
          56,
          57,
          58,
          59,
          60,
          61,
          62,
          63,
          64,
          65,
          66,
          67,
          68,
          69,
          70,
          71,
          72,
          73,
          74
         ],
         "xaxis": "x",
         "y": [
          1,
          1,
          1,
          1,
          1,
          1,
          3,
          3,
          3,
          5,
          5,
          5,
          11,
          11,
          11,
          21,
          21,
          21,
          33,
          34,
          34,
          34,
          40,
          44,
          46,
          47,
          51,
          53,
          57,
          59,
          63,
          66,
          72,
          76,
          81,
          85,
          91,
          96,
          101,
          104,
          109,
          117,
          123,
          129,
          138,
          142,
          150,
          151,
          153,
          154,
          154,
          154,
          154,
          154,
          154,
          154,
          154,
          154,
          154,
          154,
          154,
          154,
          154,
          154,
          154,
          154,
          154,
          154,
          154,
          154,
          154,
          154,
          154,
          154,
          154
         ],
         "yaxis": "y"
        },
        {
         "name": "#Normal",
         "type": "bar",
         "x": [
          0,
          1,
          2,
          3,
          4,
          5,
          6,
          7,
          8,
          9,
          10,
          11,
          12,
          13,
          14,
          15,
          16,
          17,
          18,
          19,
          20,
          21,
          22,
          23,
          24,
          25,
          26,
          27,
          28,
          29,
          30,
          31,
          32,
          33,
          34,
          35,
          36,
          37,
          38,
          39,
          40,
          41,
          42,
          43,
          44,
          45,
          46,
          47,
          48,
          49,
          50,
          51,
          52,
          53,
          54,
          55,
          56,
          57,
          58,
          59,
          60,
          61,
          62,
          63,
          64,
          65,
          66,
          67,
          68,
          69,
          70,
          71,
          72,
          73,
          74
         ],
         "xaxis": "x",
         "y": [
          0,
          0,
          0,
          0,
          0,
          0,
          0,
          0,
          0,
          0,
          0,
          0,
          0,
          0,
          0,
          0,
          0,
          0,
          0,
          0,
          0,
          0,
          0,
          0,
          0,
          0,
          0,
          0,
          0,
          0,
          0,
          0,
          0,
          0,
          0,
          0,
          0,
          0,
          0,
          0,
          0,
          0,
          0,
          0,
          0,
          0,
          0,
          0,
          0,
          0,
          0,
          0,
          0,
          0,
          0,
          0,
          0,
          0,
          0,
          0,
          0,
          0,
          0,
          0,
          0,
          0,
          0,
          0,
          0,
          0,
          0,
          0,
          0,
          0,
          0
         ],
         "yaxis": "y"
        },
        {
         "name": "#Assembler",
         "type": "bar",
         "x": [
          0,
          1,
          2,
          3,
          4,
          5,
          6,
          7,
          8,
          9,
          10,
          11,
          12,
          13,
          14,
          15,
          16,
          17,
          18,
          19,
          20,
          21,
          22,
          23,
          24,
          25,
          26,
          27,
          28,
          29,
          30,
          31,
          32,
          33,
          34,
          35,
          36,
          37,
          38,
          39,
          40,
          41,
          42,
          43,
          44,
          45,
          46,
          47,
          48,
          49,
          50,
          51,
          52,
          53,
          54,
          55,
          56,
          57,
          58,
          59,
          60,
          61,
          62,
          63,
          64,
          65,
          66,
          67,
          68,
          69,
          70,
          71,
          72,
          73,
          74
         ],
         "xaxis": "x",
         "y": [
          0,
          0,
          0,
          0,
          0,
          0,
          0,
          0,
          0,
          0,
          0,
          0,
          0,
          0,
          0,
          0,
          0,
          0,
          0,
          0,
          0,
          0,
          0,
          0,
          0,
          0,
          0,
          0,
          0,
          0,
          0,
          0,
          0,
          0,
          0,
          0,
          0,
          0,
          0,
          0,
          0,
          0,
          0,
          0,
          0,
          0,
          0,
          0,
          0,
          0,
          0,
          0,
          0,
          0,
          0,
          0,
          0,
          0,
          0,
          0,
          0,
          0,
          0,
          0,
          0,
          0,
          0,
          0,
          0,
          0,
          0,
          0,
          0,
          0,
          0
         ],
         "yaxis": "y"
        },
        {
         "name": "#Printer",
         "type": "bar",
         "x": [
          0,
          1,
          2,
          3,
          4,
          5,
          6,
          7,
          8,
          9,
          10,
          11,
          12,
          13,
          14,
          15,
          16,
          17,
          18,
          19,
          20,
          21,
          22,
          23,
          24,
          25,
          26,
          27,
          28,
          29,
          30,
          31,
          32,
          33,
          34,
          35,
          36,
          37,
          38,
          39,
          40,
          41,
          42,
          43,
          44,
          45,
          46,
          47,
          48,
          49,
          50,
          51,
          52,
          53,
          54,
          55,
          56,
          57,
          58,
          59,
          60,
          61,
          62,
          63,
          64,
          65,
          66,
          67,
          68,
          69,
          70,
          71,
          72,
          73,
          74
         ],
         "xaxis": "x",
         "y": [
          0,
          0,
          0,
          0,
          0,
          0,
          0,
          0,
          0,
          0,
          0,
          0,
          0,
          0,
          0,
          0,
          0,
          0,
          0,
          0,
          0,
          0,
          0,
          0,
          0,
          0,
          0,
          0,
          0,
          0,
          0,
          0,
          0,
          0,
          0,
          0,
          0,
          0,
          0,
          0,
          0,
          0,
          0,
          0,
          0,
          0,
          0,
          0,
          0,
          0,
          0,
          0,
          0,
          0,
          0,
          0,
          0,
          0,
          0,
          0,
          0,
          0,
          0,
          0,
          0,
          0,
          0,
          0,
          0,
          0,
          0,
          0,
          0,
          0,
          0
         ],
         "yaxis": "y"
        },
        {
         "name": "#Assembling",
         "type": "bar",
         "x": [
          0,
          1,
          2,
          3,
          4,
          5,
          6,
          7,
          8,
          9,
          10,
          11,
          12,
          13,
          14,
          15,
          16,
          17,
          18,
          19,
          20,
          21,
          22,
          23,
          24,
          25,
          26,
          27,
          28,
          29,
          30,
          31,
          32,
          33,
          34,
          35,
          36,
          37,
          38,
          39,
          40,
          41,
          42,
          43,
          44,
          45,
          46,
          47,
          48,
          49,
          50,
          51,
          52,
          53,
          54,
          55,
          56,
          57,
          58,
          59,
          60,
          61,
          62,
          63,
          64,
          65,
          66,
          67,
          68,
          69,
          70,
          71,
          72,
          73,
          74
         ],
         "xaxis": "x3",
         "y": [
          1,
          1,
          1,
          1,
          1,
          1,
          3,
          3,
          3,
          5,
          5,
          5,
          11,
          11,
          11,
          11,
          13,
          13,
          2,
          6,
          10,
          12,
          8,
          8,
          9,
          11,
          10,
          10,
          10,
          14,
          15,
          17,
          16,
          18,
          18,
          18,
          17,
          17,
          19,
          22,
          24,
          26,
          25,
          26,
          18,
          13,
          5,
          3,
          1,
          0,
          0,
          0,
          0,
          0,
          0,
          0,
          0,
          0,
          0,
          0,
          0,
          0,
          0,
          0,
          0,
          0,
          0,
          0,
          0,
          0,
          0,
          0,
          0,
          0,
          0
         ],
         "yaxis": "y3"
        },
        {
         "name": "#Printing",
         "type": "bar",
         "x": [
          0,
          1,
          2,
          3,
          4,
          5,
          6,
          7,
          8,
          9,
          10,
          11,
          12,
          13,
          14,
          15,
          16,
          17,
          18,
          19,
          20,
          21,
          22,
          23,
          24,
          25,
          26,
          27,
          28,
          29,
          30,
          31,
          32,
          33,
          34,
          35,
          36,
          37,
          38,
          39,
          40,
          41,
          42,
          43,
          44,
          45,
          46,
          47,
          48,
          49,
          50,
          51,
          52,
          53,
          54,
          55,
          56,
          57,
          58,
          59,
          60,
          61,
          62,
          63,
          64,
          65,
          66,
          67,
          68,
          69,
          70,
          71,
          72,
          73,
          74
         ],
         "xaxis": "x3",
         "y": [
          0,
          0,
          0,
          0,
          0,
          0,
          0,
          0,
          0,
          0,
          0,
          0,
          0,
          0,
          0,
          6,
          8,
          8,
          19,
          27,
          23,
          13,
          18,
          28,
          22,
          23,
          27,
          28,
          27,
          37,
          27,
          29,
          37,
          38,
          38,
          42,
          47,
          51,
          53,
          50,
          55,
          60,
          67,
          62,
          73,
          31,
          2,
          0,
          0,
          0,
          0,
          0,
          0,
          0,
          0,
          0,
          0,
          0,
          0,
          0,
          0,
          0,
          0,
          0,
          0,
          0,
          0,
          0,
          0,
          0,
          0,
          0,
          0,
          0,
          0
         ],
         "yaxis": "y3"
        },
        {
         "name": "#Collecting",
         "type": "bar",
         "x": [
          0,
          1,
          2,
          3,
          4,
          5,
          6,
          7,
          8,
          9,
          10,
          11,
          12,
          13,
          14,
          15,
          16,
          17,
          18,
          19,
          20,
          21,
          22,
          23,
          24,
          25,
          26,
          27,
          28,
          29,
          30,
          31,
          32,
          33,
          34,
          35,
          36,
          37,
          38,
          39,
          40,
          41,
          42,
          43,
          44,
          45,
          46,
          47,
          48,
          49,
          50,
          51,
          52,
          53,
          54,
          55,
          56,
          57,
          58,
          59,
          60,
          61,
          62,
          63,
          64,
          65,
          66,
          67,
          68,
          69,
          70,
          71,
          72,
          73,
          74
         ],
         "xaxis": "x3",
         "y": [
          0,
          0,
          0,
          0,
          0,
          0,
          0,
          0,
          0,
          0,
          0,
          0,
          0,
          0,
          0,
          0,
          0,
          0,
          0,
          0,
          1,
          9,
          10,
          4,
          15,
          12,
          10,
          13,
          16,
          6,
          17,
          17,
          13,
          16,
          20,
          21,
          23,
          23,
          24,
          29,
          25,
          23,
          25,
          35,
          38,
          16,
          0,
          0,
          0,
          0,
          0,
          0,
          0,
          0,
          0,
          0,
          0,
          0,
          0,
          0,
          0,
          0,
          0,
          0,
          0,
          0,
          0,
          0,
          0,
          0,
          0,
          0,
          0,
          0,
          0
         ],
         "yaxis": "y3"
        },
        {
         "name": "#Idle",
         "type": "bar",
         "x": [
          0,
          1,
          2,
          3,
          4,
          5,
          6,
          7,
          8,
          9,
          10,
          11,
          12,
          13,
          14,
          15,
          16,
          17,
          18,
          19,
          20,
          21,
          22,
          23,
          24,
          25,
          26,
          27,
          28,
          29,
          30,
          31,
          32,
          33,
          34,
          35,
          36,
          37,
          38,
          39,
          40,
          41,
          42,
          43,
          44,
          45,
          46,
          47,
          48,
          49,
          50,
          51,
          52,
          53,
          54,
          55,
          56,
          57,
          58,
          59,
          60,
          61,
          62,
          63,
          64,
          65,
          66,
          67,
          68,
          69,
          70,
          71,
          72,
          73,
          74
         ],
         "xaxis": "x3",
         "y": [
          0,
          0,
          0,
          0,
          0,
          0,
          0,
          0,
          0,
          0,
          0,
          0,
          0,
          0,
          0,
          4,
          0,
          0,
          12,
          1,
          0,
          0,
          4,
          4,
          0,
          1,
          4,
          2,
          4,
          2,
          4,
          3,
          6,
          4,
          5,
          4,
          4,
          5,
          5,
          3,
          5,
          8,
          6,
          6,
          9,
          82,
          143,
          148,
          152,
          154,
          154,
          154,
          154,
          154,
          154,
          154,
          154,
          154,
          154,
          154,
          154,
          154,
          154,
          154,
          154,
          154,
          154,
          154,
          154,
          154,
          154,
          154,
          154,
          154,
          154
         ],
         "yaxis": "y3"
        },
        {
         "mode": "lines",
         "name": "NonPr",
         "type": "scatter",
         "x": [
          0,
          1,
          2,
          3,
          4,
          5,
          6,
          7,
          8,
          9,
          10,
          11,
          12,
          13,
          14,
          15,
          16,
          17,
          18,
          19,
          20,
          21,
          22,
          23,
          24,
          25,
          26,
          27,
          28,
          29,
          30,
          31,
          32,
          33,
          34,
          35,
          36,
          37,
          38,
          39,
          40,
          41,
          42,
          43,
          44,
          45,
          46,
          47,
          48,
          49,
          50,
          51,
          52,
          53,
          54,
          55,
          56,
          57,
          58,
          59,
          60,
          61,
          62,
          63,
          64,
          65,
          66,
          67,
          68,
          69,
          70,
          71,
          72,
          73,
          74
         ],
         "xaxis": "x2",
         "y": [
          297,
          297,
          297,
          297,
          297,
          297,
          291,
          291,
          291,
          285,
          285,
          285,
          267,
          267,
          267,
          249,
          246,
          246,
          240,
          231,
          225,
          222,
          219,
          213,
          207,
          201,
          192,
          186,
          180,
          171,
          165,
          156,
          147,
          138,
          126,
          117,
          105,
          93,
          78,
          66,
          51,
          36,
          21,
          3,
          0,
          0,
          0,
          0,
          0,
          0,
          0,
          0,
          0,
          0,
          0,
          0,
          0,
          0,
          0,
          0,
          0,
          0,
          0,
          0,
          0,
          0,
          0,
          0,
          0,
          0,
          0,
          0,
          0,
          0,
          0
         ],
         "yaxis": "y2"
        },
        {
         "mode": "lines",
         "name": "Printable",
         "type": "scatter",
         "x": [
          0,
          1,
          2,
          3,
          4,
          5,
          6,
          7,
          8,
          9,
          10,
          11,
          12,
          13,
          14,
          15,
          16,
          17,
          18,
          19,
          20,
          21,
          22,
          23,
          24,
          25,
          26,
          27,
          28,
          29,
          30,
          31,
          32,
          33,
          34,
          35,
          36,
          37,
          38,
          39,
          40,
          41,
          42,
          43,
          44,
          45,
          46,
          47,
          48,
          49,
          50,
          51,
          52,
          53,
          54,
          55,
          56,
          57,
          58,
          59,
          60,
          61,
          62,
          63,
          64,
          65,
          66,
          67,
          68,
          69,
          70,
          71,
          72,
          73,
          74
         ],
         "xaxis": "x2",
         "y": [
          94,
          94,
          94,
          94,
          94,
          94,
          82,
          82,
          82,
          70,
          70,
          70,
          34,
          34,
          34,
          2,
          0,
          4,
          6,
          1,
          1,
          1,
          5,
          6,
          5,
          5,
          0,
          2,
          4,
          4,
          6,
          2,
          4,
          6,
          0,
          4,
          4,
          6,
          2,
          3,
          2,
          2,
          5,
          0,
          35,
          49,
          49,
          49,
          49,
          49,
          49,
          49,
          49,
          49,
          49,
          49,
          49,
          49,
          49,
          49,
          49,
          49,
          49,
          49,
          49,
          49,
          49,
          49,
          49,
          49,
          49,
          49,
          49,
          49,
          49
         ],
         "yaxis": "y2"
        },
        {
         "mode": "lines",
         "name": "Materials",
         "type": "scatter",
         "x": [
          0,
          1,
          2,
          3,
          4,
          5,
          6,
          7,
          8,
          9,
          10,
          11,
          12,
          13,
          14,
          15,
          16,
          17,
          18,
          19,
          20,
          21,
          22,
          23,
          24,
          25,
          26,
          27,
          28,
          29,
          30,
          31,
          32,
          33,
          34,
          35,
          36,
          37,
          38,
          39,
          40,
          41,
          42,
          43,
          44,
          45,
          46,
          47,
          48,
          49,
          50,
          51,
          52,
          53,
          54,
          55,
          56,
          57,
          58,
          59,
          60,
          61,
          62,
          63,
          64,
          65,
          66,
          67,
          68,
          69,
          70,
          71,
          72,
          73,
          74
         ],
         "xaxis": "x2",
         "y": [
          50,
          50,
          50,
          50,
          50,
          50,
          50,
          50,
          50,
          50,
          50,
          50,
          50,
          50,
          50,
          46,
          42,
          38,
          24,
          11,
          2,
          2,
          1,
          1,
          1,
          2,
          1,
          1,
          1,
          1,
          1,
          1,
          2,
          1,
          1,
          1,
          2,
          1,
          1,
          2,
          1,
          1,
          1,
          2,
          1,
          1,
          1,
          1,
          1,
          1,
          1,
          1,
          1,
          1,
          1,
          1,
          1,
          1,
          1,
          1,
          1,
          1,
          1,
          1,
          1,
          1,
          1,
          1,
          1,
          1,
          1,
          1,
          1,
          1,
          1
         ],
         "yaxis": "y2"
        },
        {
         "mode": "lines",
         "name": "Env_Materials",
         "type": "scatter",
         "x": [
          0,
          1,
          2,
          3,
          4,
          5,
          6,
          7,
          8,
          9,
          10,
          11,
          12,
          13,
          14,
          15,
          16,
          17,
          18,
          19,
          20,
          21,
          22,
          23,
          24,
          25,
          26,
          27,
          28,
          29,
          30,
          31,
          32,
          33,
          34,
          35,
          36,
          37,
          38,
          39,
          40,
          41,
          42,
          43,
          44,
          45,
          46,
          47,
          48,
          49,
          50,
          51,
          52,
          53,
          54,
          55,
          56,
          57,
          58,
          59,
          60,
          61,
          62,
          63,
          64,
          65,
          66,
          67,
          68,
          69,
          70,
          71,
          72,
          73,
          74
         ],
         "xaxis": "x2",
         "y": [
          500,
          500,
          500,
          500,
          500,
          500,
          500,
          500,
          500,
          500,
          500,
          500,
          500,
          500,
          500,
          500,
          500,
          500,
          500,
          500,
          497,
          491,
          482,
          469,
          458,
          445,
          433,
          419,
          405,
          387,
          373,
          359,
          338,
          319,
          301,
          279,
          254,
          229,
          203,
          177,
          149,
          119,
          86,
          54,
          14,
          0,
          0,
          0,
          0,
          0,
          0,
          0,
          0,
          0,
          0,
          0,
          0,
          0,
          0,
          0,
          0,
          0,
          0,
          0,
          0,
          0,
          0,
          0,
          0,
          0,
          0,
          0,
          0,
          0,
          0
         ],
         "yaxis": "y2"
        },
        {
         "mode": "lines",
         "name": "Avg. Quality #in",
         "type": "scatter",
         "x": [
          0,
          1,
          2,
          3,
          4,
          5,
          6,
          7,
          8,
          9,
          10,
          11,
          12,
          13,
          14,
          15,
          16,
          17,
          18,
          19,
          20,
          21,
          22,
          23,
          24,
          25,
          26,
          27,
          28,
          29,
          30,
          31,
          32,
          33,
          34,
          35,
          36,
          37,
          38,
          39,
          40,
          41,
          42,
          43,
          44,
          45,
          46,
          47,
          48,
          49,
          50,
          51,
          52,
          53,
          54,
          55,
          56,
          57,
          58,
          59,
          60,
          61,
          62,
          63,
          64,
          65,
          66,
          67,
          68,
          69,
          70,
          71,
          72,
          73,
          74
         ],
         "xaxis": "x4",
         "y": [
          0.943,
          0.943,
          0.943,
          0.943,
          0.943,
          0.943,
          0.93,
          0.93,
          0.93,
          0.888,
          0.888,
          0.888,
          0.858,
          0.858,
          0.858,
          0.765,
          0.765,
          0.765,
          0.753,
          0.73,
          0.73,
          0.73,
          0.71,
          0.701,
          0.706,
          0.691,
          0.691,
          0.689,
          0.696,
          0.694,
          0.7,
          0.684,
          0.658,
          0.663,
          0.655,
          0.637,
          0.643,
          0.634,
          0.639,
          0.631,
          0.628,
          0.63,
          0.62,
          0.609,
          0.606,
          0.602,
          0.603,
          0.599,
          0.591,
          0.588,
          0.588,
          0.588,
          0.588,
          0.588,
          0.588,
          0.588,
          0.588,
          0.588,
          0.588,
          0.588,
          0.588,
          0.588,
          0.588,
          0.588,
          0.588,
          0.588,
          0.588,
          0.588,
          0.588,
          0.588,
          0.588,
          0.588,
          0.588,
          0.588,
          0.588
         ],
         "yaxis": "y4"
        },
        {
         "mode": "lines",
         "name": "Avg. Quality #total",
         "type": "scatter",
         "x": [
          0,
          1,
          2,
          3,
          4,
          5,
          6,
          7,
          8,
          9,
          10,
          11,
          12,
          13,
          14,
          15,
          16,
          17,
          18,
          19,
          20,
          21,
          22,
          23,
          24,
          25,
          26,
          27,
          28,
          29,
          30,
          31,
          32,
          33,
          34,
          35,
          36,
          37,
          38,
          39,
          40,
          41,
          42,
          43,
          44,
          45,
          46,
          47,
          48,
          49,
          50,
          51,
          52,
          53,
          54,
          55,
          56,
          57,
          58,
          59,
          60,
          61,
          62,
          63,
          64,
          65,
          66,
          67,
          68,
          69,
          70,
          71,
          72,
          73,
          74
         ],
         "xaxis": "x4",
         "y": [
          0.943,
          0.943,
          0.943,
          0.943,
          0.943,
          0.943,
          0.93,
          0.93,
          0.93,
          0.888,
          0.888,
          0.888,
          0.858,
          0.858,
          0.858,
          0.765,
          0.765,
          0.765,
          0.753,
          0.745,
          0.745,
          0.745,
          0.723,
          0.712,
          0.716,
          0.71,
          0.709,
          0.706,
          0.712,
          0.71,
          0.715,
          0.704,
          0.686,
          0.69,
          0.685,
          0.676,
          0.679,
          0.672,
          0.679,
          0.673,
          0.673,
          0.672,
          0.665,
          0.66,
          0.657,
          0.656,
          0.654,
          0.653,
          0.649,
          0.645,
          0.645,
          0.645,
          0.645,
          0.645,
          0.645,
          0.645,
          0.645,
          0.645,
          0.645,
          0.645,
          0.645,
          0.645,
          0.645,
          0.645,
          0.645,
          0.645,
          0.645,
          0.645,
          0.645,
          0.645,
          0.645,
          0.645,
          0.645,
          0.645,
          0.645
         ],
         "yaxis": "y4"
        }
       ],
       "layout": {
        "annotations": [
         {
          "font": {
           "size": 16
          },
          "showarrow": false,
          "text": "Types of Robots vs Time",
          "x": 0.225,
          "xanchor": "center",
          "xref": "paper",
          "y": 1,
          "yanchor": "bottom",
          "yref": "paper"
         },
         {
          "font": {
           "size": 16
          },
          "showarrow": false,
          "text": "Resources vs Time",
          "x": 0.775,
          "xanchor": "center",
          "xref": "paper",
          "y": 1,
          "yanchor": "bottom",
          "yref": "paper"
         },
         {
          "font": {
           "size": 16
          },
          "showarrow": false,
          "text": "Tasks of Robots vs Time",
          "x": 0.225,
          "xanchor": "center",
          "xref": "paper",
          "y": 0.375,
          "yanchor": "bottom",
          "yref": "paper"
         },
         {
          "font": {
           "size": 16
          },
          "showarrow": false,
          "text": "Build Quality vs Time",
          "x": 0.775,
          "xanchor": "center",
          "xref": "paper",
          "y": 0.375,
          "yanchor": "bottom",
          "yref": "paper"
         }
        ],
        "hovermode": "x",
        "template": {
         "data": {
          "bar": [
           {
            "error_x": {
             "color": "#2a3f5f"
            },
            "error_y": {
             "color": "#2a3f5f"
            },
            "marker": {
             "line": {
              "color": "#E5ECF6",
              "width": 0.5
             },
             "pattern": {
              "fillmode": "overlay",
              "size": 10,
              "solidity": 0.2
             }
            },
            "type": "bar"
           }
          ],
          "barpolar": [
           {
            "marker": {
             "line": {
              "color": "#E5ECF6",
              "width": 0.5
             },
             "pattern": {
              "fillmode": "overlay",
              "size": 10,
              "solidity": 0.2
             }
            },
            "type": "barpolar"
           }
          ],
          "carpet": [
           {
            "aaxis": {
             "endlinecolor": "#2a3f5f",
             "gridcolor": "white",
             "linecolor": "white",
             "minorgridcolor": "white",
             "startlinecolor": "#2a3f5f"
            },
            "baxis": {
             "endlinecolor": "#2a3f5f",
             "gridcolor": "white",
             "linecolor": "white",
             "minorgridcolor": "white",
             "startlinecolor": "#2a3f5f"
            },
            "type": "carpet"
           }
          ],
          "choropleth": [
           {
            "colorbar": {
             "outlinewidth": 0,
             "ticks": ""
            },
            "type": "choropleth"
           }
          ],
          "contour": [
           {
            "colorbar": {
             "outlinewidth": 0,
             "ticks": ""
            },
            "colorscale": [
             [
              0,
              "#0d0887"
             ],
             [
              0.1111111111111111,
              "#46039f"
             ],
             [
              0.2222222222222222,
              "#7201a8"
             ],
             [
              0.3333333333333333,
              "#9c179e"
             ],
             [
              0.4444444444444444,
              "#bd3786"
             ],
             [
              0.5555555555555556,
              "#d8576b"
             ],
             [
              0.6666666666666666,
              "#ed7953"
             ],
             [
              0.7777777777777778,
              "#fb9f3a"
             ],
             [
              0.8888888888888888,
              "#fdca26"
             ],
             [
              1,
              "#f0f921"
             ]
            ],
            "type": "contour"
           }
          ],
          "contourcarpet": [
           {
            "colorbar": {
             "outlinewidth": 0,
             "ticks": ""
            },
            "type": "contourcarpet"
           }
          ],
          "heatmap": [
           {
            "colorbar": {
             "outlinewidth": 0,
             "ticks": ""
            },
            "colorscale": [
             [
              0,
              "#0d0887"
             ],
             [
              0.1111111111111111,
              "#46039f"
             ],
             [
              0.2222222222222222,
              "#7201a8"
             ],
             [
              0.3333333333333333,
              "#9c179e"
             ],
             [
              0.4444444444444444,
              "#bd3786"
             ],
             [
              0.5555555555555556,
              "#d8576b"
             ],
             [
              0.6666666666666666,
              "#ed7953"
             ],
             [
              0.7777777777777778,
              "#fb9f3a"
             ],
             [
              0.8888888888888888,
              "#fdca26"
             ],
             [
              1,
              "#f0f921"
             ]
            ],
            "type": "heatmap"
           }
          ],
          "heatmapgl": [
           {
            "colorbar": {
             "outlinewidth": 0,
             "ticks": ""
            },
            "colorscale": [
             [
              0,
              "#0d0887"
             ],
             [
              0.1111111111111111,
              "#46039f"
             ],
             [
              0.2222222222222222,
              "#7201a8"
             ],
             [
              0.3333333333333333,
              "#9c179e"
             ],
             [
              0.4444444444444444,
              "#bd3786"
             ],
             [
              0.5555555555555556,
              "#d8576b"
             ],
             [
              0.6666666666666666,
              "#ed7953"
             ],
             [
              0.7777777777777778,
              "#fb9f3a"
             ],
             [
              0.8888888888888888,
              "#fdca26"
             ],
             [
              1,
              "#f0f921"
             ]
            ],
            "type": "heatmapgl"
           }
          ],
          "histogram": [
           {
            "marker": {
             "pattern": {
              "fillmode": "overlay",
              "size": 10,
              "solidity": 0.2
             }
            },
            "type": "histogram"
           }
          ],
          "histogram2d": [
           {
            "colorbar": {
             "outlinewidth": 0,
             "ticks": ""
            },
            "colorscale": [
             [
              0,
              "#0d0887"
             ],
             [
              0.1111111111111111,
              "#46039f"
             ],
             [
              0.2222222222222222,
              "#7201a8"
             ],
             [
              0.3333333333333333,
              "#9c179e"
             ],
             [
              0.4444444444444444,
              "#bd3786"
             ],
             [
              0.5555555555555556,
              "#d8576b"
             ],
             [
              0.6666666666666666,
              "#ed7953"
             ],
             [
              0.7777777777777778,
              "#fb9f3a"
             ],
             [
              0.8888888888888888,
              "#fdca26"
             ],
             [
              1,
              "#f0f921"
             ]
            ],
            "type": "histogram2d"
           }
          ],
          "histogram2dcontour": [
           {
            "colorbar": {
             "outlinewidth": 0,
             "ticks": ""
            },
            "colorscale": [
             [
              0,
              "#0d0887"
             ],
             [
              0.1111111111111111,
              "#46039f"
             ],
             [
              0.2222222222222222,
              "#7201a8"
             ],
             [
              0.3333333333333333,
              "#9c179e"
             ],
             [
              0.4444444444444444,
              "#bd3786"
             ],
             [
              0.5555555555555556,
              "#d8576b"
             ],
             [
              0.6666666666666666,
              "#ed7953"
             ],
             [
              0.7777777777777778,
              "#fb9f3a"
             ],
             [
              0.8888888888888888,
              "#fdca26"
             ],
             [
              1,
              "#f0f921"
             ]
            ],
            "type": "histogram2dcontour"
           }
          ],
          "mesh3d": [
           {
            "colorbar": {
             "outlinewidth": 0,
             "ticks": ""
            },
            "type": "mesh3d"
           }
          ],
          "parcoords": [
           {
            "line": {
             "colorbar": {
              "outlinewidth": 0,
              "ticks": ""
             }
            },
            "type": "parcoords"
           }
          ],
          "pie": [
           {
            "automargin": true,
            "type": "pie"
           }
          ],
          "scatter": [
           {
            "fillpattern": {
             "fillmode": "overlay",
             "size": 10,
             "solidity": 0.2
            },
            "type": "scatter"
           }
          ],
          "scatter3d": [
           {
            "line": {
             "colorbar": {
              "outlinewidth": 0,
              "ticks": ""
             }
            },
            "marker": {
             "colorbar": {
              "outlinewidth": 0,
              "ticks": ""
             }
            },
            "type": "scatter3d"
           }
          ],
          "scattercarpet": [
           {
            "marker": {
             "colorbar": {
              "outlinewidth": 0,
              "ticks": ""
             }
            },
            "type": "scattercarpet"
           }
          ],
          "scattergeo": [
           {
            "marker": {
             "colorbar": {
              "outlinewidth": 0,
              "ticks": ""
             }
            },
            "type": "scattergeo"
           }
          ],
          "scattergl": [
           {
            "marker": {
             "colorbar": {
              "outlinewidth": 0,
              "ticks": ""
             }
            },
            "type": "scattergl"
           }
          ],
          "scattermapbox": [
           {
            "marker": {
             "colorbar": {
              "outlinewidth": 0,
              "ticks": ""
             }
            },
            "type": "scattermapbox"
           }
          ],
          "scatterpolar": [
           {
            "marker": {
             "colorbar": {
              "outlinewidth": 0,
              "ticks": ""
             }
            },
            "type": "scatterpolar"
           }
          ],
          "scatterpolargl": [
           {
            "marker": {
             "colorbar": {
              "outlinewidth": 0,
              "ticks": ""
             }
            },
            "type": "scatterpolargl"
           }
          ],
          "scatterternary": [
           {
            "marker": {
             "colorbar": {
              "outlinewidth": 0,
              "ticks": ""
             }
            },
            "type": "scatterternary"
           }
          ],
          "surface": [
           {
            "colorbar": {
             "outlinewidth": 0,
             "ticks": ""
            },
            "colorscale": [
             [
              0,
              "#0d0887"
             ],
             [
              0.1111111111111111,
              "#46039f"
             ],
             [
              0.2222222222222222,
              "#7201a8"
             ],
             [
              0.3333333333333333,
              "#9c179e"
             ],
             [
              0.4444444444444444,
              "#bd3786"
             ],
             [
              0.5555555555555556,
              "#d8576b"
             ],
             [
              0.6666666666666666,
              "#ed7953"
             ],
             [
              0.7777777777777778,
              "#fb9f3a"
             ],
             [
              0.8888888888888888,
              "#fdca26"
             ],
             [
              1,
              "#f0f921"
             ]
            ],
            "type": "surface"
           }
          ],
          "table": [
           {
            "cells": {
             "fill": {
              "color": "#EBF0F8"
             },
             "line": {
              "color": "white"
             }
            },
            "header": {
             "fill": {
              "color": "#C8D4E3"
             },
             "line": {
              "color": "white"
             }
            },
            "type": "table"
           }
          ]
         },
         "layout": {
          "annotationdefaults": {
           "arrowcolor": "#2a3f5f",
           "arrowhead": 0,
           "arrowwidth": 1
          },
          "autotypenumbers": "strict",
          "coloraxis": {
           "colorbar": {
            "outlinewidth": 0,
            "ticks": ""
           }
          },
          "colorscale": {
           "diverging": [
            [
             0,
             "#8e0152"
            ],
            [
             0.1,
             "#c51b7d"
            ],
            [
             0.2,
             "#de77ae"
            ],
            [
             0.3,
             "#f1b6da"
            ],
            [
             0.4,
             "#fde0ef"
            ],
            [
             0.5,
             "#f7f7f7"
            ],
            [
             0.6,
             "#e6f5d0"
            ],
            [
             0.7,
             "#b8e186"
            ],
            [
             0.8,
             "#7fbc41"
            ],
            [
             0.9,
             "#4d9221"
            ],
            [
             1,
             "#276419"
            ]
           ],
           "sequential": [
            [
             0,
             "#0d0887"
            ],
            [
             0.1111111111111111,
             "#46039f"
            ],
            [
             0.2222222222222222,
             "#7201a8"
            ],
            [
             0.3333333333333333,
             "#9c179e"
            ],
            [
             0.4444444444444444,
             "#bd3786"
            ],
            [
             0.5555555555555556,
             "#d8576b"
            ],
            [
             0.6666666666666666,
             "#ed7953"
            ],
            [
             0.7777777777777778,
             "#fb9f3a"
            ],
            [
             0.8888888888888888,
             "#fdca26"
            ],
            [
             1,
             "#f0f921"
            ]
           ],
           "sequentialminus": [
            [
             0,
             "#0d0887"
            ],
            [
             0.1111111111111111,
             "#46039f"
            ],
            [
             0.2222222222222222,
             "#7201a8"
            ],
            [
             0.3333333333333333,
             "#9c179e"
            ],
            [
             0.4444444444444444,
             "#bd3786"
            ],
            [
             0.5555555555555556,
             "#d8576b"
            ],
            [
             0.6666666666666666,
             "#ed7953"
            ],
            [
             0.7777777777777778,
             "#fb9f3a"
            ],
            [
             0.8888888888888888,
             "#fdca26"
            ],
            [
             1,
             "#f0f921"
            ]
           ]
          },
          "colorway": [
           "#636efa",
           "#EF553B",
           "#00cc96",
           "#ab63fa",
           "#FFA15A",
           "#19d3f3",
           "#FF6692",
           "#B6E880",
           "#FF97FF",
           "#FECB52"
          ],
          "font": {
           "color": "#2a3f5f"
          },
          "geo": {
           "bgcolor": "white",
           "lakecolor": "white",
           "landcolor": "#E5ECF6",
           "showlakes": true,
           "showland": true,
           "subunitcolor": "white"
          },
          "hoverlabel": {
           "align": "left"
          },
          "hovermode": "closest",
          "mapbox": {
           "style": "light"
          },
          "paper_bgcolor": "white",
          "plot_bgcolor": "#E5ECF6",
          "polar": {
           "angularaxis": {
            "gridcolor": "white",
            "linecolor": "white",
            "ticks": ""
           },
           "bgcolor": "#E5ECF6",
           "radialaxis": {
            "gridcolor": "white",
            "linecolor": "white",
            "ticks": ""
           }
          },
          "scene": {
           "xaxis": {
            "backgroundcolor": "#E5ECF6",
            "gridcolor": "white",
            "gridwidth": 2,
            "linecolor": "white",
            "showbackground": true,
            "ticks": "",
            "zerolinecolor": "white"
           },
           "yaxis": {
            "backgroundcolor": "#E5ECF6",
            "gridcolor": "white",
            "gridwidth": 2,
            "linecolor": "white",
            "showbackground": true,
            "ticks": "",
            "zerolinecolor": "white"
           },
           "zaxis": {
            "backgroundcolor": "#E5ECF6",
            "gridcolor": "white",
            "gridwidth": 2,
            "linecolor": "white",
            "showbackground": true,
            "ticks": "",
            "zerolinecolor": "white"
           }
          },
          "shapedefaults": {
           "line": {
            "color": "#2a3f5f"
           }
          },
          "ternary": {
           "aaxis": {
            "gridcolor": "white",
            "linecolor": "white",
            "ticks": ""
           },
           "baxis": {
            "gridcolor": "white",
            "linecolor": "white",
            "ticks": ""
           },
           "bgcolor": "#E5ECF6",
           "caxis": {
            "gridcolor": "white",
            "linecolor": "white",
            "ticks": ""
           }
          },
          "title": {
           "x": 0.05
          },
          "xaxis": {
           "automargin": true,
           "gridcolor": "white",
           "linecolor": "white",
           "ticks": "",
           "title": {
            "standoff": 15
           },
           "zerolinecolor": "white",
           "zerolinewidth": 2
          },
          "yaxis": {
           "automargin": true,
           "gridcolor": "white",
           "linecolor": "white",
           "ticks": "",
           "title": {
            "standoff": 15
           },
           "zerolinecolor": "white",
           "zerolinewidth": 2
          }
         }
        },
        "title": {
         "text": "DHO - Characteristics"
        },
        "xaxis": {
         "anchor": "y",
         "domain": [
          0,
          0.45
         ]
        },
        "xaxis2": {
         "anchor": "y2",
         "domain": [
          0.55,
          1
         ]
        },
        "xaxis3": {
         "anchor": "y3",
         "domain": [
          0,
          0.45
         ]
        },
        "xaxis4": {
         "anchor": "y4",
         "domain": [
          0.55,
          1
         ]
        },
        "yaxis": {
         "anchor": "x",
         "domain": [
          0.625,
          1
         ]
        },
        "yaxis2": {
         "anchor": "x2",
         "domain": [
          0.625,
          1
         ]
        },
        "yaxis3": {
         "anchor": "x3",
         "domain": [
          0,
          0.375
         ]
        },
        "yaxis4": {
         "anchor": "x4",
         "domain": [
          0,
          0.375
         ]
        }
       }
      },
      "text/html": [
       "<div>                            <div id=\"f78da9a6-0991-41ca-8a91-b4af41361a5a\" class=\"plotly-graph-div\" style=\"height:525px; width:100%;\"></div>            <script type=\"text/javascript\">                require([\"plotly\"], function(Plotly) {                    window.PLOTLYENV=window.PLOTLYENV || {};                                    if (document.getElementById(\"f78da9a6-0991-41ca-8a91-b4af41361a5a\")) {                    Plotly.newPlot(                        \"f78da9a6-0991-41ca-8a91-b4af41361a5a\",                        [{\"name\":\"#Replicator\",\"x\":[0.0,1.0,2.0,3.0,4.0,5.0,6.0,7.0,8.0,9.0,10.0,11.0,12.0,13.0,14.0,15.0,16.0,17.0,18.0,19.0,20.0,21.0,22.0,23.0,24.0,25.0,26.0,27.0,28.0,29.0,30.0,31.0,32.0,33.0,34.0,35.0,36.0,37.0,38.0,39.0,40.0,41.0,42.0,43.0,44.0,45.0,46.0,47.0,48.0,49.0,50.0,51.0,52.0,53.0,54.0,55.0,56.0,57.0,58.0,59.0,60.0,61.0,62.0,63.0,64.0,65.0,66.0,67.0,68.0,69.0,70.0,71.0,72.0,73.0,74.0],\"y\":[1.0,1.0,1.0,1.0,1.0,1.0,3.0,3.0,3.0,5.0,5.0,5.0,11.0,11.0,11.0,21.0,21.0,21.0,33.0,34.0,34.0,34.0,40.0,44.0,46.0,47.0,51.0,53.0,57.0,59.0,63.0,66.0,72.0,76.0,81.0,85.0,91.0,96.0,101.0,104.0,109.0,117.0,123.0,129.0,138.0,142.0,150.0,151.0,153.0,154.0,154.0,154.0,154.0,154.0,154.0,154.0,154.0,154.0,154.0,154.0,154.0,154.0,154.0,154.0,154.0,154.0,154.0,154.0,154.0,154.0,154.0,154.0,154.0,154.0,154.0],\"type\":\"bar\",\"xaxis\":\"x\",\"yaxis\":\"y\"},{\"name\":\"#Normal\",\"x\":[0.0,1.0,2.0,3.0,4.0,5.0,6.0,7.0,8.0,9.0,10.0,11.0,12.0,13.0,14.0,15.0,16.0,17.0,18.0,19.0,20.0,21.0,22.0,23.0,24.0,25.0,26.0,27.0,28.0,29.0,30.0,31.0,32.0,33.0,34.0,35.0,36.0,37.0,38.0,39.0,40.0,41.0,42.0,43.0,44.0,45.0,46.0,47.0,48.0,49.0,50.0,51.0,52.0,53.0,54.0,55.0,56.0,57.0,58.0,59.0,60.0,61.0,62.0,63.0,64.0,65.0,66.0,67.0,68.0,69.0,70.0,71.0,72.0,73.0,74.0],\"y\":[0.0,0.0,0.0,0.0,0.0,0.0,0.0,0.0,0.0,0.0,0.0,0.0,0.0,0.0,0.0,0.0,0.0,0.0,0.0,0.0,0.0,0.0,0.0,0.0,0.0,0.0,0.0,0.0,0.0,0.0,0.0,0.0,0.0,0.0,0.0,0.0,0.0,0.0,0.0,0.0,0.0,0.0,0.0,0.0,0.0,0.0,0.0,0.0,0.0,0.0,0.0,0.0,0.0,0.0,0.0,0.0,0.0,0.0,0.0,0.0,0.0,0.0,0.0,0.0,0.0,0.0,0.0,0.0,0.0,0.0,0.0,0.0,0.0,0.0,0.0],\"type\":\"bar\",\"xaxis\":\"x\",\"yaxis\":\"y\"},{\"name\":\"#Assembler\",\"x\":[0.0,1.0,2.0,3.0,4.0,5.0,6.0,7.0,8.0,9.0,10.0,11.0,12.0,13.0,14.0,15.0,16.0,17.0,18.0,19.0,20.0,21.0,22.0,23.0,24.0,25.0,26.0,27.0,28.0,29.0,30.0,31.0,32.0,33.0,34.0,35.0,36.0,37.0,38.0,39.0,40.0,41.0,42.0,43.0,44.0,45.0,46.0,47.0,48.0,49.0,50.0,51.0,52.0,53.0,54.0,55.0,56.0,57.0,58.0,59.0,60.0,61.0,62.0,63.0,64.0,65.0,66.0,67.0,68.0,69.0,70.0,71.0,72.0,73.0,74.0],\"y\":[0.0,0.0,0.0,0.0,0.0,0.0,0.0,0.0,0.0,0.0,0.0,0.0,0.0,0.0,0.0,0.0,0.0,0.0,0.0,0.0,0.0,0.0,0.0,0.0,0.0,0.0,0.0,0.0,0.0,0.0,0.0,0.0,0.0,0.0,0.0,0.0,0.0,0.0,0.0,0.0,0.0,0.0,0.0,0.0,0.0,0.0,0.0,0.0,0.0,0.0,0.0,0.0,0.0,0.0,0.0,0.0,0.0,0.0,0.0,0.0,0.0,0.0,0.0,0.0,0.0,0.0,0.0,0.0,0.0,0.0,0.0,0.0,0.0,0.0,0.0],\"type\":\"bar\",\"xaxis\":\"x\",\"yaxis\":\"y\"},{\"name\":\"#Printer\",\"x\":[0.0,1.0,2.0,3.0,4.0,5.0,6.0,7.0,8.0,9.0,10.0,11.0,12.0,13.0,14.0,15.0,16.0,17.0,18.0,19.0,20.0,21.0,22.0,23.0,24.0,25.0,26.0,27.0,28.0,29.0,30.0,31.0,32.0,33.0,34.0,35.0,36.0,37.0,38.0,39.0,40.0,41.0,42.0,43.0,44.0,45.0,46.0,47.0,48.0,49.0,50.0,51.0,52.0,53.0,54.0,55.0,56.0,57.0,58.0,59.0,60.0,61.0,62.0,63.0,64.0,65.0,66.0,67.0,68.0,69.0,70.0,71.0,72.0,73.0,74.0],\"y\":[0.0,0.0,0.0,0.0,0.0,0.0,0.0,0.0,0.0,0.0,0.0,0.0,0.0,0.0,0.0,0.0,0.0,0.0,0.0,0.0,0.0,0.0,0.0,0.0,0.0,0.0,0.0,0.0,0.0,0.0,0.0,0.0,0.0,0.0,0.0,0.0,0.0,0.0,0.0,0.0,0.0,0.0,0.0,0.0,0.0,0.0,0.0,0.0,0.0,0.0,0.0,0.0,0.0,0.0,0.0,0.0,0.0,0.0,0.0,0.0,0.0,0.0,0.0,0.0,0.0,0.0,0.0,0.0,0.0,0.0,0.0,0.0,0.0,0.0,0.0],\"type\":\"bar\",\"xaxis\":\"x\",\"yaxis\":\"y\"},{\"name\":\"#Assembling\",\"x\":[0.0,1.0,2.0,3.0,4.0,5.0,6.0,7.0,8.0,9.0,10.0,11.0,12.0,13.0,14.0,15.0,16.0,17.0,18.0,19.0,20.0,21.0,22.0,23.0,24.0,25.0,26.0,27.0,28.0,29.0,30.0,31.0,32.0,33.0,34.0,35.0,36.0,37.0,38.0,39.0,40.0,41.0,42.0,43.0,44.0,45.0,46.0,47.0,48.0,49.0,50.0,51.0,52.0,53.0,54.0,55.0,56.0,57.0,58.0,59.0,60.0,61.0,62.0,63.0,64.0,65.0,66.0,67.0,68.0,69.0,70.0,71.0,72.0,73.0,74.0],\"y\":[1.0,1.0,1.0,1.0,1.0,1.0,3.0,3.0,3.0,5.0,5.0,5.0,11.0,11.0,11.0,11.0,13.0,13.0,2.0,6.0,10.0,12.0,8.0,8.0,9.0,11.0,10.0,10.0,10.0,14.0,15.0,17.0,16.0,18.0,18.0,18.0,17.0,17.0,19.0,22.0,24.0,26.0,25.0,26.0,18.0,13.0,5.0,3.0,1.0,0.0,0.0,0.0,0.0,0.0,0.0,0.0,0.0,0.0,0.0,0.0,0.0,0.0,0.0,0.0,0.0,0.0,0.0,0.0,0.0,0.0,0.0,0.0,0.0,0.0,0.0],\"type\":\"bar\",\"xaxis\":\"x3\",\"yaxis\":\"y3\"},{\"name\":\"#Printing\",\"x\":[0.0,1.0,2.0,3.0,4.0,5.0,6.0,7.0,8.0,9.0,10.0,11.0,12.0,13.0,14.0,15.0,16.0,17.0,18.0,19.0,20.0,21.0,22.0,23.0,24.0,25.0,26.0,27.0,28.0,29.0,30.0,31.0,32.0,33.0,34.0,35.0,36.0,37.0,38.0,39.0,40.0,41.0,42.0,43.0,44.0,45.0,46.0,47.0,48.0,49.0,50.0,51.0,52.0,53.0,54.0,55.0,56.0,57.0,58.0,59.0,60.0,61.0,62.0,63.0,64.0,65.0,66.0,67.0,68.0,69.0,70.0,71.0,72.0,73.0,74.0],\"y\":[0.0,0.0,0.0,0.0,0.0,0.0,0.0,0.0,0.0,0.0,0.0,0.0,0.0,0.0,0.0,6.0,8.0,8.0,19.0,27.0,23.0,13.0,18.0,28.0,22.0,23.0,27.0,28.0,27.0,37.0,27.0,29.0,37.0,38.0,38.0,42.0,47.0,51.0,53.0,50.0,55.0,60.0,67.0,62.0,73.0,31.0,2.0,0.0,0.0,0.0,0.0,0.0,0.0,0.0,0.0,0.0,0.0,0.0,0.0,0.0,0.0,0.0,0.0,0.0,0.0,0.0,0.0,0.0,0.0,0.0,0.0,0.0,0.0,0.0,0.0],\"type\":\"bar\",\"xaxis\":\"x3\",\"yaxis\":\"y3\"},{\"name\":\"#Collecting\",\"x\":[0.0,1.0,2.0,3.0,4.0,5.0,6.0,7.0,8.0,9.0,10.0,11.0,12.0,13.0,14.0,15.0,16.0,17.0,18.0,19.0,20.0,21.0,22.0,23.0,24.0,25.0,26.0,27.0,28.0,29.0,30.0,31.0,32.0,33.0,34.0,35.0,36.0,37.0,38.0,39.0,40.0,41.0,42.0,43.0,44.0,45.0,46.0,47.0,48.0,49.0,50.0,51.0,52.0,53.0,54.0,55.0,56.0,57.0,58.0,59.0,60.0,61.0,62.0,63.0,64.0,65.0,66.0,67.0,68.0,69.0,70.0,71.0,72.0,73.0,74.0],\"y\":[0.0,0.0,0.0,0.0,0.0,0.0,0.0,0.0,0.0,0.0,0.0,0.0,0.0,0.0,0.0,0.0,0.0,0.0,0.0,0.0,1.0,9.0,10.0,4.0,15.0,12.0,10.0,13.0,16.0,6.0,17.0,17.0,13.0,16.0,20.0,21.0,23.0,23.0,24.0,29.0,25.0,23.0,25.0,35.0,38.0,16.0,0.0,0.0,0.0,0.0,0.0,0.0,0.0,0.0,0.0,0.0,0.0,0.0,0.0,0.0,0.0,0.0,0.0,0.0,0.0,0.0,0.0,0.0,0.0,0.0,0.0,0.0,0.0,0.0,0.0],\"type\":\"bar\",\"xaxis\":\"x3\",\"yaxis\":\"y3\"},{\"name\":\"#Idle\",\"x\":[0.0,1.0,2.0,3.0,4.0,5.0,6.0,7.0,8.0,9.0,10.0,11.0,12.0,13.0,14.0,15.0,16.0,17.0,18.0,19.0,20.0,21.0,22.0,23.0,24.0,25.0,26.0,27.0,28.0,29.0,30.0,31.0,32.0,33.0,34.0,35.0,36.0,37.0,38.0,39.0,40.0,41.0,42.0,43.0,44.0,45.0,46.0,47.0,48.0,49.0,50.0,51.0,52.0,53.0,54.0,55.0,56.0,57.0,58.0,59.0,60.0,61.0,62.0,63.0,64.0,65.0,66.0,67.0,68.0,69.0,70.0,71.0,72.0,73.0,74.0],\"y\":[0.0,0.0,0.0,0.0,0.0,0.0,0.0,0.0,0.0,0.0,0.0,0.0,0.0,0.0,0.0,4.0,0.0,0.0,12.0,1.0,0.0,0.0,4.0,4.0,0.0,1.0,4.0,2.0,4.0,2.0,4.0,3.0,6.0,4.0,5.0,4.0,4.0,5.0,5.0,3.0,5.0,8.0,6.0,6.0,9.0,82.0,143.0,148.0,152.0,154.0,154.0,154.0,154.0,154.0,154.0,154.0,154.0,154.0,154.0,154.0,154.0,154.0,154.0,154.0,154.0,154.0,154.0,154.0,154.0,154.0,154.0,154.0,154.0,154.0,154.0],\"type\":\"bar\",\"xaxis\":\"x3\",\"yaxis\":\"y3\"},{\"mode\":\"lines\",\"name\":\"NonPr\",\"x\":[0.0,1.0,2.0,3.0,4.0,5.0,6.0,7.0,8.0,9.0,10.0,11.0,12.0,13.0,14.0,15.0,16.0,17.0,18.0,19.0,20.0,21.0,22.0,23.0,24.0,25.0,26.0,27.0,28.0,29.0,30.0,31.0,32.0,33.0,34.0,35.0,36.0,37.0,38.0,39.0,40.0,41.0,42.0,43.0,44.0,45.0,46.0,47.0,48.0,49.0,50.0,51.0,52.0,53.0,54.0,55.0,56.0,57.0,58.0,59.0,60.0,61.0,62.0,63.0,64.0,65.0,66.0,67.0,68.0,69.0,70.0,71.0,72.0,73.0,74.0],\"y\":[297.0,297.0,297.0,297.0,297.0,297.0,291.0,291.0,291.0,285.0,285.0,285.0,267.0,267.0,267.0,249.0,246.0,246.0,240.0,231.0,225.0,222.0,219.0,213.0,207.0,201.0,192.0,186.0,180.0,171.0,165.0,156.0,147.0,138.0,126.0,117.0,105.0,93.0,78.0,66.0,51.0,36.0,21.0,3.0,0.0,0.0,0.0,0.0,0.0,0.0,0.0,0.0,0.0,0.0,0.0,0.0,0.0,0.0,0.0,0.0,0.0,0.0,0.0,0.0,0.0,0.0,0.0,0.0,0.0,0.0,0.0,0.0,0.0,0.0,0.0],\"type\":\"scatter\",\"xaxis\":\"x2\",\"yaxis\":\"y2\"},{\"mode\":\"lines\",\"name\":\"Printable\",\"x\":[0.0,1.0,2.0,3.0,4.0,5.0,6.0,7.0,8.0,9.0,10.0,11.0,12.0,13.0,14.0,15.0,16.0,17.0,18.0,19.0,20.0,21.0,22.0,23.0,24.0,25.0,26.0,27.0,28.0,29.0,30.0,31.0,32.0,33.0,34.0,35.0,36.0,37.0,38.0,39.0,40.0,41.0,42.0,43.0,44.0,45.0,46.0,47.0,48.0,49.0,50.0,51.0,52.0,53.0,54.0,55.0,56.0,57.0,58.0,59.0,60.0,61.0,62.0,63.0,64.0,65.0,66.0,67.0,68.0,69.0,70.0,71.0,72.0,73.0,74.0],\"y\":[94.0,94.0,94.0,94.0,94.0,94.0,82.0,82.0,82.0,70.0,70.0,70.0,34.0,34.0,34.0,2.0,0.0,4.0,6.0,1.0,1.0,1.0,5.0,6.0,5.0,5.0,0.0,2.0,4.0,4.0,6.0,2.0,4.0,6.0,0.0,4.0,4.0,6.0,2.0,3.0,2.0,2.0,5.0,0.0,35.0,49.0,49.0,49.0,49.0,49.0,49.0,49.0,49.0,49.0,49.0,49.0,49.0,49.0,49.0,49.0,49.0,49.0,49.0,49.0,49.0,49.0,49.0,49.0,49.0,49.0,49.0,49.0,49.0,49.0,49.0],\"type\":\"scatter\",\"xaxis\":\"x2\",\"yaxis\":\"y2\"},{\"mode\":\"lines\",\"name\":\"Materials\",\"x\":[0.0,1.0,2.0,3.0,4.0,5.0,6.0,7.0,8.0,9.0,10.0,11.0,12.0,13.0,14.0,15.0,16.0,17.0,18.0,19.0,20.0,21.0,22.0,23.0,24.0,25.0,26.0,27.0,28.0,29.0,30.0,31.0,32.0,33.0,34.0,35.0,36.0,37.0,38.0,39.0,40.0,41.0,42.0,43.0,44.0,45.0,46.0,47.0,48.0,49.0,50.0,51.0,52.0,53.0,54.0,55.0,56.0,57.0,58.0,59.0,60.0,61.0,62.0,63.0,64.0,65.0,66.0,67.0,68.0,69.0,70.0,71.0,72.0,73.0,74.0],\"y\":[50.0,50.0,50.0,50.0,50.0,50.0,50.0,50.0,50.0,50.0,50.0,50.0,50.0,50.0,50.0,46.0,42.0,38.0,24.0,11.0,2.0,2.0,1.0,1.0,1.0,2.0,1.0,1.0,1.0,1.0,1.0,1.0,2.0,1.0,1.0,1.0,2.0,1.0,1.0,2.0,1.0,1.0,1.0,2.0,1.0,1.0,1.0,1.0,1.0,1.0,1.0,1.0,1.0,1.0,1.0,1.0,1.0,1.0,1.0,1.0,1.0,1.0,1.0,1.0,1.0,1.0,1.0,1.0,1.0,1.0,1.0,1.0,1.0,1.0,1.0],\"type\":\"scatter\",\"xaxis\":\"x2\",\"yaxis\":\"y2\"},{\"mode\":\"lines\",\"name\":\"Env_Materials\",\"x\":[0.0,1.0,2.0,3.0,4.0,5.0,6.0,7.0,8.0,9.0,10.0,11.0,12.0,13.0,14.0,15.0,16.0,17.0,18.0,19.0,20.0,21.0,22.0,23.0,24.0,25.0,26.0,27.0,28.0,29.0,30.0,31.0,32.0,33.0,34.0,35.0,36.0,37.0,38.0,39.0,40.0,41.0,42.0,43.0,44.0,45.0,46.0,47.0,48.0,49.0,50.0,51.0,52.0,53.0,54.0,55.0,56.0,57.0,58.0,59.0,60.0,61.0,62.0,63.0,64.0,65.0,66.0,67.0,68.0,69.0,70.0,71.0,72.0,73.0,74.0],\"y\":[500.0,500.0,500.0,500.0,500.0,500.0,500.0,500.0,500.0,500.0,500.0,500.0,500.0,500.0,500.0,500.0,500.0,500.0,500.0,500.0,497.0,491.0,482.0,469.0,458.0,445.0,433.0,419.0,405.0,387.0,373.0,359.0,338.0,319.0,301.0,279.0,254.0,229.0,203.0,177.0,149.0,119.0,86.0,54.0,14.0,0.0,0.0,0.0,0.0,0.0,0.0,0.0,0.0,0.0,0.0,0.0,0.0,0.0,0.0,0.0,0.0,0.0,0.0,0.0,0.0,0.0,0.0,0.0,0.0,0.0,0.0,0.0,0.0,0.0,0.0],\"type\":\"scatter\",\"xaxis\":\"x2\",\"yaxis\":\"y2\"},{\"mode\":\"lines\",\"name\":\"Avg. Quality #in\",\"x\":[0.0,1.0,2.0,3.0,4.0,5.0,6.0,7.0,8.0,9.0,10.0,11.0,12.0,13.0,14.0,15.0,16.0,17.0,18.0,19.0,20.0,21.0,22.0,23.0,24.0,25.0,26.0,27.0,28.0,29.0,30.0,31.0,32.0,33.0,34.0,35.0,36.0,37.0,38.0,39.0,40.0,41.0,42.0,43.0,44.0,45.0,46.0,47.0,48.0,49.0,50.0,51.0,52.0,53.0,54.0,55.0,56.0,57.0,58.0,59.0,60.0,61.0,62.0,63.0,64.0,65.0,66.0,67.0,68.0,69.0,70.0,71.0,72.0,73.0,74.0],\"y\":[0.943,0.943,0.943,0.943,0.943,0.943,0.93,0.93,0.93,0.888,0.888,0.888,0.858,0.858,0.858,0.765,0.765,0.765,0.753,0.73,0.73,0.73,0.71,0.701,0.706,0.691,0.691,0.689,0.696,0.694,0.7,0.684,0.658,0.663,0.655,0.637,0.643,0.634,0.639,0.631,0.628,0.63,0.62,0.609,0.606,0.602,0.603,0.599,0.591,0.588,0.588,0.588,0.588,0.588,0.588,0.588,0.588,0.588,0.588,0.588,0.588,0.588,0.588,0.588,0.588,0.588,0.588,0.588,0.588,0.588,0.588,0.588,0.588,0.588,0.588],\"type\":\"scatter\",\"xaxis\":\"x4\",\"yaxis\":\"y4\"},{\"mode\":\"lines\",\"name\":\"Avg. Quality #total\",\"x\":[0.0,1.0,2.0,3.0,4.0,5.0,6.0,7.0,8.0,9.0,10.0,11.0,12.0,13.0,14.0,15.0,16.0,17.0,18.0,19.0,20.0,21.0,22.0,23.0,24.0,25.0,26.0,27.0,28.0,29.0,30.0,31.0,32.0,33.0,34.0,35.0,36.0,37.0,38.0,39.0,40.0,41.0,42.0,43.0,44.0,45.0,46.0,47.0,48.0,49.0,50.0,51.0,52.0,53.0,54.0,55.0,56.0,57.0,58.0,59.0,60.0,61.0,62.0,63.0,64.0,65.0,66.0,67.0,68.0,69.0,70.0,71.0,72.0,73.0,74.0],\"y\":[0.943,0.943,0.943,0.943,0.943,0.943,0.93,0.93,0.93,0.888,0.888,0.888,0.858,0.858,0.858,0.765,0.765,0.765,0.753,0.745,0.745,0.745,0.723,0.712,0.716,0.71,0.709,0.706,0.712,0.71,0.715,0.704,0.686,0.69,0.685,0.676,0.679,0.672,0.679,0.673,0.673,0.672,0.665,0.66,0.657,0.656,0.654,0.653,0.649,0.645,0.645,0.645,0.645,0.645,0.645,0.645,0.645,0.645,0.645,0.645,0.645,0.645,0.645,0.645,0.645,0.645,0.645,0.645,0.645,0.645,0.645,0.645,0.645,0.645,0.645],\"type\":\"scatter\",\"xaxis\":\"x4\",\"yaxis\":\"y4\"}],                        {\"template\":{\"data\":{\"histogram2dcontour\":[{\"type\":\"histogram2dcontour\",\"colorbar\":{\"outlinewidth\":0,\"ticks\":\"\"},\"colorscale\":[[0.0,\"#0d0887\"],[0.1111111111111111,\"#46039f\"],[0.2222222222222222,\"#7201a8\"],[0.3333333333333333,\"#9c179e\"],[0.4444444444444444,\"#bd3786\"],[0.5555555555555556,\"#d8576b\"],[0.6666666666666666,\"#ed7953\"],[0.7777777777777778,\"#fb9f3a\"],[0.8888888888888888,\"#fdca26\"],[1.0,\"#f0f921\"]]}],\"choropleth\":[{\"type\":\"choropleth\",\"colorbar\":{\"outlinewidth\":0,\"ticks\":\"\"}}],\"histogram2d\":[{\"type\":\"histogram2d\",\"colorbar\":{\"outlinewidth\":0,\"ticks\":\"\"},\"colorscale\":[[0.0,\"#0d0887\"],[0.1111111111111111,\"#46039f\"],[0.2222222222222222,\"#7201a8\"],[0.3333333333333333,\"#9c179e\"],[0.4444444444444444,\"#bd3786\"],[0.5555555555555556,\"#d8576b\"],[0.6666666666666666,\"#ed7953\"],[0.7777777777777778,\"#fb9f3a\"],[0.8888888888888888,\"#fdca26\"],[1.0,\"#f0f921\"]]}],\"heatmap\":[{\"type\":\"heatmap\",\"colorbar\":{\"outlinewidth\":0,\"ticks\":\"\"},\"colorscale\":[[0.0,\"#0d0887\"],[0.1111111111111111,\"#46039f\"],[0.2222222222222222,\"#7201a8\"],[0.3333333333333333,\"#9c179e\"],[0.4444444444444444,\"#bd3786\"],[0.5555555555555556,\"#d8576b\"],[0.6666666666666666,\"#ed7953\"],[0.7777777777777778,\"#fb9f3a\"],[0.8888888888888888,\"#fdca26\"],[1.0,\"#f0f921\"]]}],\"heatmapgl\":[{\"type\":\"heatmapgl\",\"colorbar\":{\"outlinewidth\":0,\"ticks\":\"\"},\"colorscale\":[[0.0,\"#0d0887\"],[0.1111111111111111,\"#46039f\"],[0.2222222222222222,\"#7201a8\"],[0.3333333333333333,\"#9c179e\"],[0.4444444444444444,\"#bd3786\"],[0.5555555555555556,\"#d8576b\"],[0.6666666666666666,\"#ed7953\"],[0.7777777777777778,\"#fb9f3a\"],[0.8888888888888888,\"#fdca26\"],[1.0,\"#f0f921\"]]}],\"contourcarpet\":[{\"type\":\"contourcarpet\",\"colorbar\":{\"outlinewidth\":0,\"ticks\":\"\"}}],\"contour\":[{\"type\":\"contour\",\"colorbar\":{\"outlinewidth\":0,\"ticks\":\"\"},\"colorscale\":[[0.0,\"#0d0887\"],[0.1111111111111111,\"#46039f\"],[0.2222222222222222,\"#7201a8\"],[0.3333333333333333,\"#9c179e\"],[0.4444444444444444,\"#bd3786\"],[0.5555555555555556,\"#d8576b\"],[0.6666666666666666,\"#ed7953\"],[0.7777777777777778,\"#fb9f3a\"],[0.8888888888888888,\"#fdca26\"],[1.0,\"#f0f921\"]]}],\"surface\":[{\"type\":\"surface\",\"colorbar\":{\"outlinewidth\":0,\"ticks\":\"\"},\"colorscale\":[[0.0,\"#0d0887\"],[0.1111111111111111,\"#46039f\"],[0.2222222222222222,\"#7201a8\"],[0.3333333333333333,\"#9c179e\"],[0.4444444444444444,\"#bd3786\"],[0.5555555555555556,\"#d8576b\"],[0.6666666666666666,\"#ed7953\"],[0.7777777777777778,\"#fb9f3a\"],[0.8888888888888888,\"#fdca26\"],[1.0,\"#f0f921\"]]}],\"mesh3d\":[{\"type\":\"mesh3d\",\"colorbar\":{\"outlinewidth\":0,\"ticks\":\"\"}}],\"scatter\":[{\"fillpattern\":{\"fillmode\":\"overlay\",\"size\":10,\"solidity\":0.2},\"type\":\"scatter\"}],\"parcoords\":[{\"type\":\"parcoords\",\"line\":{\"colorbar\":{\"outlinewidth\":0,\"ticks\":\"\"}}}],\"scatterpolargl\":[{\"type\":\"scatterpolargl\",\"marker\":{\"colorbar\":{\"outlinewidth\":0,\"ticks\":\"\"}}}],\"bar\":[{\"error_x\":{\"color\":\"#2a3f5f\"},\"error_y\":{\"color\":\"#2a3f5f\"},\"marker\":{\"line\":{\"color\":\"#E5ECF6\",\"width\":0.5},\"pattern\":{\"fillmode\":\"overlay\",\"size\":10,\"solidity\":0.2}},\"type\":\"bar\"}],\"scattergeo\":[{\"type\":\"scattergeo\",\"marker\":{\"colorbar\":{\"outlinewidth\":0,\"ticks\":\"\"}}}],\"scatterpolar\":[{\"type\":\"scatterpolar\",\"marker\":{\"colorbar\":{\"outlinewidth\":0,\"ticks\":\"\"}}}],\"histogram\":[{\"marker\":{\"pattern\":{\"fillmode\":\"overlay\",\"size\":10,\"solidity\":0.2}},\"type\":\"histogram\"}],\"scattergl\":[{\"type\":\"scattergl\",\"marker\":{\"colorbar\":{\"outlinewidth\":0,\"ticks\":\"\"}}}],\"scatter3d\":[{\"type\":\"scatter3d\",\"line\":{\"colorbar\":{\"outlinewidth\":0,\"ticks\":\"\"}},\"marker\":{\"colorbar\":{\"outlinewidth\":0,\"ticks\":\"\"}}}],\"scattermapbox\":[{\"type\":\"scattermapbox\",\"marker\":{\"colorbar\":{\"outlinewidth\":0,\"ticks\":\"\"}}}],\"scatterternary\":[{\"type\":\"scatterternary\",\"marker\":{\"colorbar\":{\"outlinewidth\":0,\"ticks\":\"\"}}}],\"scattercarpet\":[{\"type\":\"scattercarpet\",\"marker\":{\"colorbar\":{\"outlinewidth\":0,\"ticks\":\"\"}}}],\"carpet\":[{\"aaxis\":{\"endlinecolor\":\"#2a3f5f\",\"gridcolor\":\"white\",\"linecolor\":\"white\",\"minorgridcolor\":\"white\",\"startlinecolor\":\"#2a3f5f\"},\"baxis\":{\"endlinecolor\":\"#2a3f5f\",\"gridcolor\":\"white\",\"linecolor\":\"white\",\"minorgridcolor\":\"white\",\"startlinecolor\":\"#2a3f5f\"},\"type\":\"carpet\"}],\"table\":[{\"cells\":{\"fill\":{\"color\":\"#EBF0F8\"},\"line\":{\"color\":\"white\"}},\"header\":{\"fill\":{\"color\":\"#C8D4E3\"},\"line\":{\"color\":\"white\"}},\"type\":\"table\"}],\"barpolar\":[{\"marker\":{\"line\":{\"color\":\"#E5ECF6\",\"width\":0.5},\"pattern\":{\"fillmode\":\"overlay\",\"size\":10,\"solidity\":0.2}},\"type\":\"barpolar\"}],\"pie\":[{\"automargin\":true,\"type\":\"pie\"}]},\"layout\":{\"autotypenumbers\":\"strict\",\"colorway\":[\"#636efa\",\"#EF553B\",\"#00cc96\",\"#ab63fa\",\"#FFA15A\",\"#19d3f3\",\"#FF6692\",\"#B6E880\",\"#FF97FF\",\"#FECB52\"],\"font\":{\"color\":\"#2a3f5f\"},\"hovermode\":\"closest\",\"hoverlabel\":{\"align\":\"left\"},\"paper_bgcolor\":\"white\",\"plot_bgcolor\":\"#E5ECF6\",\"polar\":{\"bgcolor\":\"#E5ECF6\",\"angularaxis\":{\"gridcolor\":\"white\",\"linecolor\":\"white\",\"ticks\":\"\"},\"radialaxis\":{\"gridcolor\":\"white\",\"linecolor\":\"white\",\"ticks\":\"\"}},\"ternary\":{\"bgcolor\":\"#E5ECF6\",\"aaxis\":{\"gridcolor\":\"white\",\"linecolor\":\"white\",\"ticks\":\"\"},\"baxis\":{\"gridcolor\":\"white\",\"linecolor\":\"white\",\"ticks\":\"\"},\"caxis\":{\"gridcolor\":\"white\",\"linecolor\":\"white\",\"ticks\":\"\"}},\"coloraxis\":{\"colorbar\":{\"outlinewidth\":0,\"ticks\":\"\"}},\"colorscale\":{\"sequential\":[[0.0,\"#0d0887\"],[0.1111111111111111,\"#46039f\"],[0.2222222222222222,\"#7201a8\"],[0.3333333333333333,\"#9c179e\"],[0.4444444444444444,\"#bd3786\"],[0.5555555555555556,\"#d8576b\"],[0.6666666666666666,\"#ed7953\"],[0.7777777777777778,\"#fb9f3a\"],[0.8888888888888888,\"#fdca26\"],[1.0,\"#f0f921\"]],\"sequentialminus\":[[0.0,\"#0d0887\"],[0.1111111111111111,\"#46039f\"],[0.2222222222222222,\"#7201a8\"],[0.3333333333333333,\"#9c179e\"],[0.4444444444444444,\"#bd3786\"],[0.5555555555555556,\"#d8576b\"],[0.6666666666666666,\"#ed7953\"],[0.7777777777777778,\"#fb9f3a\"],[0.8888888888888888,\"#fdca26\"],[1.0,\"#f0f921\"]],\"diverging\":[[0,\"#8e0152\"],[0.1,\"#c51b7d\"],[0.2,\"#de77ae\"],[0.3,\"#f1b6da\"],[0.4,\"#fde0ef\"],[0.5,\"#f7f7f7\"],[0.6,\"#e6f5d0\"],[0.7,\"#b8e186\"],[0.8,\"#7fbc41\"],[0.9,\"#4d9221\"],[1,\"#276419\"]]},\"xaxis\":{\"gridcolor\":\"white\",\"linecolor\":\"white\",\"ticks\":\"\",\"title\":{\"standoff\":15},\"zerolinecolor\":\"white\",\"automargin\":true,\"zerolinewidth\":2},\"yaxis\":{\"gridcolor\":\"white\",\"linecolor\":\"white\",\"ticks\":\"\",\"title\":{\"standoff\":15},\"zerolinecolor\":\"white\",\"automargin\":true,\"zerolinewidth\":2},\"scene\":{\"xaxis\":{\"backgroundcolor\":\"#E5ECF6\",\"gridcolor\":\"white\",\"linecolor\":\"white\",\"showbackground\":true,\"ticks\":\"\",\"zerolinecolor\":\"white\",\"gridwidth\":2},\"yaxis\":{\"backgroundcolor\":\"#E5ECF6\",\"gridcolor\":\"white\",\"linecolor\":\"white\",\"showbackground\":true,\"ticks\":\"\",\"zerolinecolor\":\"white\",\"gridwidth\":2},\"zaxis\":{\"backgroundcolor\":\"#E5ECF6\",\"gridcolor\":\"white\",\"linecolor\":\"white\",\"showbackground\":true,\"ticks\":\"\",\"zerolinecolor\":\"white\",\"gridwidth\":2}},\"shapedefaults\":{\"line\":{\"color\":\"#2a3f5f\"}},\"annotationdefaults\":{\"arrowcolor\":\"#2a3f5f\",\"arrowhead\":0,\"arrowwidth\":1},\"geo\":{\"bgcolor\":\"white\",\"landcolor\":\"#E5ECF6\",\"subunitcolor\":\"white\",\"showland\":true,\"showlakes\":true,\"lakecolor\":\"white\"},\"title\":{\"x\":0.05},\"mapbox\":{\"style\":\"light\"}}},\"xaxis\":{\"anchor\":\"y\",\"domain\":[0.0,0.45]},\"yaxis\":{\"anchor\":\"x\",\"domain\":[0.625,1.0]},\"xaxis2\":{\"anchor\":\"y2\",\"domain\":[0.55,1.0]},\"yaxis2\":{\"anchor\":\"x2\",\"domain\":[0.625,1.0]},\"xaxis3\":{\"anchor\":\"y3\",\"domain\":[0.0,0.45]},\"yaxis3\":{\"anchor\":\"x3\",\"domain\":[0.0,0.375]},\"xaxis4\":{\"anchor\":\"y4\",\"domain\":[0.55,1.0]},\"yaxis4\":{\"anchor\":\"x4\",\"domain\":[0.0,0.375]},\"annotations\":[{\"font\":{\"size\":16},\"showarrow\":false,\"text\":\"Types of Robots vs Time\",\"x\":0.225,\"xanchor\":\"center\",\"xref\":\"paper\",\"y\":1.0,\"yanchor\":\"bottom\",\"yref\":\"paper\"},{\"font\":{\"size\":16},\"showarrow\":false,\"text\":\"Resources vs Time\",\"x\":0.775,\"xanchor\":\"center\",\"xref\":\"paper\",\"y\":1.0,\"yanchor\":\"bottom\",\"yref\":\"paper\"},{\"font\":{\"size\":16},\"showarrow\":false,\"text\":\"Tasks of Robots vs Time\",\"x\":0.225,\"xanchor\":\"center\",\"xref\":\"paper\",\"y\":0.375,\"yanchor\":\"bottom\",\"yref\":\"paper\"},{\"font\":{\"size\":16},\"showarrow\":false,\"text\":\"Build Quality vs Time\",\"x\":0.775,\"xanchor\":\"center\",\"xref\":\"paper\",\"y\":0.375,\"yanchor\":\"bottom\",\"yref\":\"paper\"}],\"hovermode\":\"x\",\"title\":{\"text\":\"DHO - Characteristics\"}},                        {\"responsive\": true}                    ).then(function(){\n",
       "                            \n",
       "var gd = document.getElementById('f78da9a6-0991-41ca-8a91-b4af41361a5a');\n",
       "var x = new MutationObserver(function (mutations, observer) {{\n",
       "        var display = window.getComputedStyle(gd).display;\n",
       "        if (!display || display === 'none') {{\n",
       "            console.log([gd, 'removed!']);\n",
       "            Plotly.purge(gd);\n",
       "            observer.disconnect();\n",
       "        }}\n",
       "}});\n",
       "\n",
       "// Listen for the removal of the full notebook cells\n",
       "var notebookContainer = gd.closest('#notebook-container');\n",
       "if (notebookContainer) {{\n",
       "    x.observe(notebookContainer, {childList: true});\n",
       "}}\n",
       "\n",
       "// Listen for the clearing of the current output cell\n",
       "var outputEl = gd.closest('.output');\n",
       "if (outputEl) {{\n",
       "    x.observe(outputEl, {childList: true});\n",
       "}}\n",
       "\n",
       "                        })                };                });            </script>        </div>"
      ]
     },
     "metadata": {},
     "output_type": "display_data"
    },
    {
     "data": {
      "application/vnd.plotly.v1+json": {
       "config": {
        "plotlyServerURL": "https://plotly.com"
       },
       "data": [
        {
         "alignmentgroup": "True",
         "hovertemplate": "variable=#In<br>Time=%{x}<br>value=%{y}<extra></extra>",
         "legendgroup": "#In",
         "marker": {
          "color": "#636efa",
          "pattern": {
           "shape": ""
          }
         },
         "name": "#In",
         "offsetgroup": "#In",
         "orientation": "v",
         "showlegend": true,
         "textposition": "auto",
         "type": "bar",
         "x": [
          0,
          1,
          2,
          3,
          4,
          5,
          6,
          7,
          8,
          9,
          10,
          11,
          12,
          13,
          14,
          15,
          16,
          17,
          18,
          19,
          20,
          21,
          22,
          23,
          24,
          25,
          26,
          27,
          28,
          29,
          30,
          31,
          32,
          33,
          34,
          35,
          36,
          37,
          38,
          39,
          40,
          41,
          42,
          43,
          44,
          45,
          46,
          47,
          48,
          49,
          50,
          51,
          52,
          53,
          54,
          55,
          56,
          57,
          58,
          59,
          60,
          61,
          62,
          63,
          64,
          65,
          66,
          67,
          68,
          69,
          70,
          71,
          72,
          73,
          74
         ],
         "xaxis": "x",
         "y": [
          1,
          1,
          1,
          1,
          1,
          1,
          3,
          3,
          5,
          7,
          9,
          9,
          11,
          15,
          19,
          21,
          29,
          37,
          42,
          52,
          60,
          67,
          70,
          72,
          76,
          87,
          103,
          115,
          122,
          134,
          148,
          168,
          182,
          201,
          225,
          247,
          262,
          270,
          273,
          275,
          276,
          276,
          276,
          276,
          276,
          276,
          276,
          276,
          276,
          276,
          276,
          276,
          276,
          276,
          276,
          276,
          276,
          276,
          276,
          276,
          276,
          276,
          276,
          276,
          276,
          276,
          276,
          276,
          276,
          276,
          276,
          276,
          276,
          276,
          276
         ],
         "yaxis": "y"
        },
        {
         "alignmentgroup": "True",
         "hovertemplate": "variable=#Out<br>Time=%{x}<br>value=%{y}<extra></extra>",
         "legendgroup": "#Out",
         "marker": {
          "color": "#EF553B",
          "pattern": {
           "shape": ""
          }
         },
         "name": "#Out",
         "offsetgroup": "#Out",
         "orientation": "v",
         "showlegend": true,
         "textposition": "auto",
         "type": "bar",
         "x": [
          0,
          1,
          2,
          3,
          4,
          5,
          6,
          7,
          8,
          9,
          10,
          11,
          12,
          13,
          14,
          15,
          16,
          17,
          18,
          19,
          20,
          21,
          22,
          23,
          24,
          25,
          26,
          27,
          28,
          29,
          30,
          31,
          32,
          33,
          34,
          35,
          36,
          37,
          38,
          39,
          40,
          41,
          42,
          43,
          44,
          45,
          46,
          47,
          48,
          49,
          50,
          51,
          52,
          53,
          54,
          55,
          56,
          57,
          58,
          59,
          60,
          61,
          62,
          63,
          64,
          65,
          66,
          67,
          68,
          69,
          70,
          71,
          72,
          73,
          74
         ],
         "xaxis": "x",
         "y": [
          0,
          0,
          0,
          0,
          0,
          0,
          0,
          0,
          0,
          0,
          0,
          0,
          0,
          0,
          0,
          0,
          0,
          0,
          1,
          1,
          3,
          4,
          5,
          7,
          7,
          8,
          10,
          12,
          13,
          17,
          19,
          23,
          27,
          30,
          38,
          50,
          57,
          61,
          62,
          64,
          65,
          65,
          65,
          65,
          65,
          65,
          65,
          65,
          65,
          65,
          65,
          65,
          65,
          65,
          65,
          65,
          65,
          65,
          65,
          65,
          65,
          65,
          65,
          65,
          65,
          65,
          65,
          65,
          65,
          65,
          65,
          65,
          65,
          65,
          65
         ],
         "yaxis": "y"
        }
       ],
       "layout": {
        "barmode": "relative",
        "hovermode": "x",
        "legend": {
         "title": {
          "text": "variable"
         },
         "tracegroupgap": 0
        },
        "template": {
         "data": {
          "bar": [
           {
            "error_x": {
             "color": "#2a3f5f"
            },
            "error_y": {
             "color": "#2a3f5f"
            },
            "marker": {
             "line": {
              "color": "#E5ECF6",
              "width": 0.5
             },
             "pattern": {
              "fillmode": "overlay",
              "size": 10,
              "solidity": 0.2
             }
            },
            "type": "bar"
           }
          ],
          "barpolar": [
           {
            "marker": {
             "line": {
              "color": "#E5ECF6",
              "width": 0.5
             },
             "pattern": {
              "fillmode": "overlay",
              "size": 10,
              "solidity": 0.2
             }
            },
            "type": "barpolar"
           }
          ],
          "carpet": [
           {
            "aaxis": {
             "endlinecolor": "#2a3f5f",
             "gridcolor": "white",
             "linecolor": "white",
             "minorgridcolor": "white",
             "startlinecolor": "#2a3f5f"
            },
            "baxis": {
             "endlinecolor": "#2a3f5f",
             "gridcolor": "white",
             "linecolor": "white",
             "minorgridcolor": "white",
             "startlinecolor": "#2a3f5f"
            },
            "type": "carpet"
           }
          ],
          "choropleth": [
           {
            "colorbar": {
             "outlinewidth": 0,
             "ticks": ""
            },
            "type": "choropleth"
           }
          ],
          "contour": [
           {
            "colorbar": {
             "outlinewidth": 0,
             "ticks": ""
            },
            "colorscale": [
             [
              0,
              "#0d0887"
             ],
             [
              0.1111111111111111,
              "#46039f"
             ],
             [
              0.2222222222222222,
              "#7201a8"
             ],
             [
              0.3333333333333333,
              "#9c179e"
             ],
             [
              0.4444444444444444,
              "#bd3786"
             ],
             [
              0.5555555555555556,
              "#d8576b"
             ],
             [
              0.6666666666666666,
              "#ed7953"
             ],
             [
              0.7777777777777778,
              "#fb9f3a"
             ],
             [
              0.8888888888888888,
              "#fdca26"
             ],
             [
              1,
              "#f0f921"
             ]
            ],
            "type": "contour"
           }
          ],
          "contourcarpet": [
           {
            "colorbar": {
             "outlinewidth": 0,
             "ticks": ""
            },
            "type": "contourcarpet"
           }
          ],
          "heatmap": [
           {
            "colorbar": {
             "outlinewidth": 0,
             "ticks": ""
            },
            "colorscale": [
             [
              0,
              "#0d0887"
             ],
             [
              0.1111111111111111,
              "#46039f"
             ],
             [
              0.2222222222222222,
              "#7201a8"
             ],
             [
              0.3333333333333333,
              "#9c179e"
             ],
             [
              0.4444444444444444,
              "#bd3786"
             ],
             [
              0.5555555555555556,
              "#d8576b"
             ],
             [
              0.6666666666666666,
              "#ed7953"
             ],
             [
              0.7777777777777778,
              "#fb9f3a"
             ],
             [
              0.8888888888888888,
              "#fdca26"
             ],
             [
              1,
              "#f0f921"
             ]
            ],
            "type": "heatmap"
           }
          ],
          "heatmapgl": [
           {
            "colorbar": {
             "outlinewidth": 0,
             "ticks": ""
            },
            "colorscale": [
             [
              0,
              "#0d0887"
             ],
             [
              0.1111111111111111,
              "#46039f"
             ],
             [
              0.2222222222222222,
              "#7201a8"
             ],
             [
              0.3333333333333333,
              "#9c179e"
             ],
             [
              0.4444444444444444,
              "#bd3786"
             ],
             [
              0.5555555555555556,
              "#d8576b"
             ],
             [
              0.6666666666666666,
              "#ed7953"
             ],
             [
              0.7777777777777778,
              "#fb9f3a"
             ],
             [
              0.8888888888888888,
              "#fdca26"
             ],
             [
              1,
              "#f0f921"
             ]
            ],
            "type": "heatmapgl"
           }
          ],
          "histogram": [
           {
            "marker": {
             "pattern": {
              "fillmode": "overlay",
              "size": 10,
              "solidity": 0.2
             }
            },
            "type": "histogram"
           }
          ],
          "histogram2d": [
           {
            "colorbar": {
             "outlinewidth": 0,
             "ticks": ""
            },
            "colorscale": [
             [
              0,
              "#0d0887"
             ],
             [
              0.1111111111111111,
              "#46039f"
             ],
             [
              0.2222222222222222,
              "#7201a8"
             ],
             [
              0.3333333333333333,
              "#9c179e"
             ],
             [
              0.4444444444444444,
              "#bd3786"
             ],
             [
              0.5555555555555556,
              "#d8576b"
             ],
             [
              0.6666666666666666,
              "#ed7953"
             ],
             [
              0.7777777777777778,
              "#fb9f3a"
             ],
             [
              0.8888888888888888,
              "#fdca26"
             ],
             [
              1,
              "#f0f921"
             ]
            ],
            "type": "histogram2d"
           }
          ],
          "histogram2dcontour": [
           {
            "colorbar": {
             "outlinewidth": 0,
             "ticks": ""
            },
            "colorscale": [
             [
              0,
              "#0d0887"
             ],
             [
              0.1111111111111111,
              "#46039f"
             ],
             [
              0.2222222222222222,
              "#7201a8"
             ],
             [
              0.3333333333333333,
              "#9c179e"
             ],
             [
              0.4444444444444444,
              "#bd3786"
             ],
             [
              0.5555555555555556,
              "#d8576b"
             ],
             [
              0.6666666666666666,
              "#ed7953"
             ],
             [
              0.7777777777777778,
              "#fb9f3a"
             ],
             [
              0.8888888888888888,
              "#fdca26"
             ],
             [
              1,
              "#f0f921"
             ]
            ],
            "type": "histogram2dcontour"
           }
          ],
          "mesh3d": [
           {
            "colorbar": {
             "outlinewidth": 0,
             "ticks": ""
            },
            "type": "mesh3d"
           }
          ],
          "parcoords": [
           {
            "line": {
             "colorbar": {
              "outlinewidth": 0,
              "ticks": ""
             }
            },
            "type": "parcoords"
           }
          ],
          "pie": [
           {
            "automargin": true,
            "type": "pie"
           }
          ],
          "scatter": [
           {
            "fillpattern": {
             "fillmode": "overlay",
             "size": 10,
             "solidity": 0.2
            },
            "type": "scatter"
           }
          ],
          "scatter3d": [
           {
            "line": {
             "colorbar": {
              "outlinewidth": 0,
              "ticks": ""
             }
            },
            "marker": {
             "colorbar": {
              "outlinewidth": 0,
              "ticks": ""
             }
            },
            "type": "scatter3d"
           }
          ],
          "scattercarpet": [
           {
            "marker": {
             "colorbar": {
              "outlinewidth": 0,
              "ticks": ""
             }
            },
            "type": "scattercarpet"
           }
          ],
          "scattergeo": [
           {
            "marker": {
             "colorbar": {
              "outlinewidth": 0,
              "ticks": ""
             }
            },
            "type": "scattergeo"
           }
          ],
          "scattergl": [
           {
            "marker": {
             "colorbar": {
              "outlinewidth": 0,
              "ticks": ""
             }
            },
            "type": "scattergl"
           }
          ],
          "scattermapbox": [
           {
            "marker": {
             "colorbar": {
              "outlinewidth": 0,
              "ticks": ""
             }
            },
            "type": "scattermapbox"
           }
          ],
          "scatterpolar": [
           {
            "marker": {
             "colorbar": {
              "outlinewidth": 0,
              "ticks": ""
             }
            },
            "type": "scatterpolar"
           }
          ],
          "scatterpolargl": [
           {
            "marker": {
             "colorbar": {
              "outlinewidth": 0,
              "ticks": ""
             }
            },
            "type": "scatterpolargl"
           }
          ],
          "scatterternary": [
           {
            "marker": {
             "colorbar": {
              "outlinewidth": 0,
              "ticks": ""
             }
            },
            "type": "scatterternary"
           }
          ],
          "surface": [
           {
            "colorbar": {
             "outlinewidth": 0,
             "ticks": ""
            },
            "colorscale": [
             [
              0,
              "#0d0887"
             ],
             [
              0.1111111111111111,
              "#46039f"
             ],
             [
              0.2222222222222222,
              "#7201a8"
             ],
             [
              0.3333333333333333,
              "#9c179e"
             ],
             [
              0.4444444444444444,
              "#bd3786"
             ],
             [
              0.5555555555555556,
              "#d8576b"
             ],
             [
              0.6666666666666666,
              "#ed7953"
             ],
             [
              0.7777777777777778,
              "#fb9f3a"
             ],
             [
              0.8888888888888888,
              "#fdca26"
             ],
             [
              1,
              "#f0f921"
             ]
            ],
            "type": "surface"
           }
          ],
          "table": [
           {
            "cells": {
             "fill": {
              "color": "#EBF0F8"
             },
             "line": {
              "color": "white"
             }
            },
            "header": {
             "fill": {
              "color": "#C8D4E3"
             },
             "line": {
              "color": "white"
             }
            },
            "type": "table"
           }
          ]
         },
         "layout": {
          "annotationdefaults": {
           "arrowcolor": "#2a3f5f",
           "arrowhead": 0,
           "arrowwidth": 1
          },
          "autotypenumbers": "strict",
          "coloraxis": {
           "colorbar": {
            "outlinewidth": 0,
            "ticks": ""
           }
          },
          "colorscale": {
           "diverging": [
            [
             0,
             "#8e0152"
            ],
            [
             0.1,
             "#c51b7d"
            ],
            [
             0.2,
             "#de77ae"
            ],
            [
             0.3,
             "#f1b6da"
            ],
            [
             0.4,
             "#fde0ef"
            ],
            [
             0.5,
             "#f7f7f7"
            ],
            [
             0.6,
             "#e6f5d0"
            ],
            [
             0.7,
             "#b8e186"
            ],
            [
             0.8,
             "#7fbc41"
            ],
            [
             0.9,
             "#4d9221"
            ],
            [
             1,
             "#276419"
            ]
           ],
           "sequential": [
            [
             0,
             "#0d0887"
            ],
            [
             0.1111111111111111,
             "#46039f"
            ],
            [
             0.2222222222222222,
             "#7201a8"
            ],
            [
             0.3333333333333333,
             "#9c179e"
            ],
            [
             0.4444444444444444,
             "#bd3786"
            ],
            [
             0.5555555555555556,
             "#d8576b"
            ],
            [
             0.6666666666666666,
             "#ed7953"
            ],
            [
             0.7777777777777778,
             "#fb9f3a"
            ],
            [
             0.8888888888888888,
             "#fdca26"
            ],
            [
             1,
             "#f0f921"
            ]
           ],
           "sequentialminus": [
            [
             0,
             "#0d0887"
            ],
            [
             0.1111111111111111,
             "#46039f"
            ],
            [
             0.2222222222222222,
             "#7201a8"
            ],
            [
             0.3333333333333333,
             "#9c179e"
            ],
            [
             0.4444444444444444,
             "#bd3786"
            ],
            [
             0.5555555555555556,
             "#d8576b"
            ],
            [
             0.6666666666666666,
             "#ed7953"
            ],
            [
             0.7777777777777778,
             "#fb9f3a"
            ],
            [
             0.8888888888888888,
             "#fdca26"
            ],
            [
             1,
             "#f0f921"
            ]
           ]
          },
          "colorway": [
           "#636efa",
           "#EF553B",
           "#00cc96",
           "#ab63fa",
           "#FFA15A",
           "#19d3f3",
           "#FF6692",
           "#B6E880",
           "#FF97FF",
           "#FECB52"
          ],
          "font": {
           "color": "#2a3f5f"
          },
          "geo": {
           "bgcolor": "white",
           "lakecolor": "white",
           "landcolor": "#E5ECF6",
           "showlakes": true,
           "showland": true,
           "subunitcolor": "white"
          },
          "hoverlabel": {
           "align": "left"
          },
          "hovermode": "closest",
          "mapbox": {
           "style": "light"
          },
          "paper_bgcolor": "white",
          "plot_bgcolor": "#E5ECF6",
          "polar": {
           "angularaxis": {
            "gridcolor": "white",
            "linecolor": "white",
            "ticks": ""
           },
           "bgcolor": "#E5ECF6",
           "radialaxis": {
            "gridcolor": "white",
            "linecolor": "white",
            "ticks": ""
           }
          },
          "scene": {
           "xaxis": {
            "backgroundcolor": "#E5ECF6",
            "gridcolor": "white",
            "gridwidth": 2,
            "linecolor": "white",
            "showbackground": true,
            "ticks": "",
            "zerolinecolor": "white"
           },
           "yaxis": {
            "backgroundcolor": "#E5ECF6",
            "gridcolor": "white",
            "gridwidth": 2,
            "linecolor": "white",
            "showbackground": true,
            "ticks": "",
            "zerolinecolor": "white"
           },
           "zaxis": {
            "backgroundcolor": "#E5ECF6",
            "gridcolor": "white",
            "gridwidth": 2,
            "linecolor": "white",
            "showbackground": true,
            "ticks": "",
            "zerolinecolor": "white"
           }
          },
          "shapedefaults": {
           "line": {
            "color": "#2a3f5f"
           }
          },
          "ternary": {
           "aaxis": {
            "gridcolor": "white",
            "linecolor": "white",
            "ticks": ""
           },
           "baxis": {
            "gridcolor": "white",
            "linecolor": "white",
            "ticks": ""
           },
           "bgcolor": "#E5ECF6",
           "caxis": {
            "gridcolor": "white",
            "linecolor": "white",
            "ticks": ""
           }
          },
          "title": {
           "x": 0.05
          },
          "xaxis": {
           "automargin": true,
           "gridcolor": "white",
           "linecolor": "white",
           "ticks": "",
           "title": {
            "standoff": 15
           },
           "zerolinecolor": "white",
           "zerolinewidth": 2
          },
          "yaxis": {
           "automargin": true,
           "gridcolor": "white",
           "linecolor": "white",
           "ticks": "",
           "title": {
            "standoff": 15
           },
           "zerolinecolor": "white",
           "zerolinewidth": 2
          }
         }
        },
        "title": {
         "text": "HHO - Habitat over Time"
        },
        "xaxis": {
         "anchor": "y",
         "domain": [
          0,
          1
         ],
         "title": {
          "text": "Time"
         }
        },
        "yaxis": {
         "anchor": "x",
         "domain": [
          0,
          1
         ],
         "title": {
          "text": "#Robots"
         }
        }
       }
      },
      "text/html": [
       "<div>                            <div id=\"07beca76-e2af-46c1-944f-fda9b6b8f497\" class=\"plotly-graph-div\" style=\"height:525px; width:100%;\"></div>            <script type=\"text/javascript\">                require([\"plotly\"], function(Plotly) {                    window.PLOTLYENV=window.PLOTLYENV || {};                                    if (document.getElementById(\"07beca76-e2af-46c1-944f-fda9b6b8f497\")) {                    Plotly.newPlot(                        \"07beca76-e2af-46c1-944f-fda9b6b8f497\",                        [{\"alignmentgroup\":\"True\",\"hovertemplate\":\"variable=#In<br>Time=%{x}<br>value=%{y}<extra></extra>\",\"legendgroup\":\"#In\",\"marker\":{\"color\":\"#636efa\",\"pattern\":{\"shape\":\"\"}},\"name\":\"#In\",\"offsetgroup\":\"#In\",\"orientation\":\"v\",\"showlegend\":true,\"textposition\":\"auto\",\"x\":[0.0,1.0,2.0,3.0,4.0,5.0,6.0,7.0,8.0,9.0,10.0,11.0,12.0,13.0,14.0,15.0,16.0,17.0,18.0,19.0,20.0,21.0,22.0,23.0,24.0,25.0,26.0,27.0,28.0,29.0,30.0,31.0,32.0,33.0,34.0,35.0,36.0,37.0,38.0,39.0,40.0,41.0,42.0,43.0,44.0,45.0,46.0,47.0,48.0,49.0,50.0,51.0,52.0,53.0,54.0,55.0,56.0,57.0,58.0,59.0,60.0,61.0,62.0,63.0,64.0,65.0,66.0,67.0,68.0,69.0,70.0,71.0,72.0,73.0,74.0],\"xaxis\":\"x\",\"y\":[1.0,1.0,1.0,1.0,1.0,1.0,3.0,3.0,5.0,7.0,9.0,9.0,11.0,15.0,19.0,21.0,29.0,37.0,42.0,52.0,60.0,67.0,70.0,72.0,76.0,87.0,103.0,115.0,122.0,134.0,148.0,168.0,182.0,201.0,225.0,247.0,262.0,270.0,273.0,275.0,276.0,276.0,276.0,276.0,276.0,276.0,276.0,276.0,276.0,276.0,276.0,276.0,276.0,276.0,276.0,276.0,276.0,276.0,276.0,276.0,276.0,276.0,276.0,276.0,276.0,276.0,276.0,276.0,276.0,276.0,276.0,276.0,276.0,276.0,276.0],\"yaxis\":\"y\",\"type\":\"bar\"},{\"alignmentgroup\":\"True\",\"hovertemplate\":\"variable=#Out<br>Time=%{x}<br>value=%{y}<extra></extra>\",\"legendgroup\":\"#Out\",\"marker\":{\"color\":\"#EF553B\",\"pattern\":{\"shape\":\"\"}},\"name\":\"#Out\",\"offsetgroup\":\"#Out\",\"orientation\":\"v\",\"showlegend\":true,\"textposition\":\"auto\",\"x\":[0.0,1.0,2.0,3.0,4.0,5.0,6.0,7.0,8.0,9.0,10.0,11.0,12.0,13.0,14.0,15.0,16.0,17.0,18.0,19.0,20.0,21.0,22.0,23.0,24.0,25.0,26.0,27.0,28.0,29.0,30.0,31.0,32.0,33.0,34.0,35.0,36.0,37.0,38.0,39.0,40.0,41.0,42.0,43.0,44.0,45.0,46.0,47.0,48.0,49.0,50.0,51.0,52.0,53.0,54.0,55.0,56.0,57.0,58.0,59.0,60.0,61.0,62.0,63.0,64.0,65.0,66.0,67.0,68.0,69.0,70.0,71.0,72.0,73.0,74.0],\"xaxis\":\"x\",\"y\":[0.0,0.0,0.0,0.0,0.0,0.0,0.0,0.0,0.0,0.0,0.0,0.0,0.0,0.0,0.0,0.0,0.0,0.0,1.0,1.0,3.0,4.0,5.0,7.0,7.0,8.0,10.0,12.0,13.0,17.0,19.0,23.0,27.0,30.0,38.0,50.0,57.0,61.0,62.0,64.0,65.0,65.0,65.0,65.0,65.0,65.0,65.0,65.0,65.0,65.0,65.0,65.0,65.0,65.0,65.0,65.0,65.0,65.0,65.0,65.0,65.0,65.0,65.0,65.0,65.0,65.0,65.0,65.0,65.0,65.0,65.0,65.0,65.0,65.0,65.0],\"yaxis\":\"y\",\"type\":\"bar\"}],                        {\"template\":{\"data\":{\"histogram2dcontour\":[{\"type\":\"histogram2dcontour\",\"colorbar\":{\"outlinewidth\":0,\"ticks\":\"\"},\"colorscale\":[[0.0,\"#0d0887\"],[0.1111111111111111,\"#46039f\"],[0.2222222222222222,\"#7201a8\"],[0.3333333333333333,\"#9c179e\"],[0.4444444444444444,\"#bd3786\"],[0.5555555555555556,\"#d8576b\"],[0.6666666666666666,\"#ed7953\"],[0.7777777777777778,\"#fb9f3a\"],[0.8888888888888888,\"#fdca26\"],[1.0,\"#f0f921\"]]}],\"choropleth\":[{\"type\":\"choropleth\",\"colorbar\":{\"outlinewidth\":0,\"ticks\":\"\"}}],\"histogram2d\":[{\"type\":\"histogram2d\",\"colorbar\":{\"outlinewidth\":0,\"ticks\":\"\"},\"colorscale\":[[0.0,\"#0d0887\"],[0.1111111111111111,\"#46039f\"],[0.2222222222222222,\"#7201a8\"],[0.3333333333333333,\"#9c179e\"],[0.4444444444444444,\"#bd3786\"],[0.5555555555555556,\"#d8576b\"],[0.6666666666666666,\"#ed7953\"],[0.7777777777777778,\"#fb9f3a\"],[0.8888888888888888,\"#fdca26\"],[1.0,\"#f0f921\"]]}],\"heatmap\":[{\"type\":\"heatmap\",\"colorbar\":{\"outlinewidth\":0,\"ticks\":\"\"},\"colorscale\":[[0.0,\"#0d0887\"],[0.1111111111111111,\"#46039f\"],[0.2222222222222222,\"#7201a8\"],[0.3333333333333333,\"#9c179e\"],[0.4444444444444444,\"#bd3786\"],[0.5555555555555556,\"#d8576b\"],[0.6666666666666666,\"#ed7953\"],[0.7777777777777778,\"#fb9f3a\"],[0.8888888888888888,\"#fdca26\"],[1.0,\"#f0f921\"]]}],\"heatmapgl\":[{\"type\":\"heatmapgl\",\"colorbar\":{\"outlinewidth\":0,\"ticks\":\"\"},\"colorscale\":[[0.0,\"#0d0887\"],[0.1111111111111111,\"#46039f\"],[0.2222222222222222,\"#7201a8\"],[0.3333333333333333,\"#9c179e\"],[0.4444444444444444,\"#bd3786\"],[0.5555555555555556,\"#d8576b\"],[0.6666666666666666,\"#ed7953\"],[0.7777777777777778,\"#fb9f3a\"],[0.8888888888888888,\"#fdca26\"],[1.0,\"#f0f921\"]]}],\"contourcarpet\":[{\"type\":\"contourcarpet\",\"colorbar\":{\"outlinewidth\":0,\"ticks\":\"\"}}],\"contour\":[{\"type\":\"contour\",\"colorbar\":{\"outlinewidth\":0,\"ticks\":\"\"},\"colorscale\":[[0.0,\"#0d0887\"],[0.1111111111111111,\"#46039f\"],[0.2222222222222222,\"#7201a8\"],[0.3333333333333333,\"#9c179e\"],[0.4444444444444444,\"#bd3786\"],[0.5555555555555556,\"#d8576b\"],[0.6666666666666666,\"#ed7953\"],[0.7777777777777778,\"#fb9f3a\"],[0.8888888888888888,\"#fdca26\"],[1.0,\"#f0f921\"]]}],\"surface\":[{\"type\":\"surface\",\"colorbar\":{\"outlinewidth\":0,\"ticks\":\"\"},\"colorscale\":[[0.0,\"#0d0887\"],[0.1111111111111111,\"#46039f\"],[0.2222222222222222,\"#7201a8\"],[0.3333333333333333,\"#9c179e\"],[0.4444444444444444,\"#bd3786\"],[0.5555555555555556,\"#d8576b\"],[0.6666666666666666,\"#ed7953\"],[0.7777777777777778,\"#fb9f3a\"],[0.8888888888888888,\"#fdca26\"],[1.0,\"#f0f921\"]]}],\"mesh3d\":[{\"type\":\"mesh3d\",\"colorbar\":{\"outlinewidth\":0,\"ticks\":\"\"}}],\"scatter\":[{\"fillpattern\":{\"fillmode\":\"overlay\",\"size\":10,\"solidity\":0.2},\"type\":\"scatter\"}],\"parcoords\":[{\"type\":\"parcoords\",\"line\":{\"colorbar\":{\"outlinewidth\":0,\"ticks\":\"\"}}}],\"scatterpolargl\":[{\"type\":\"scatterpolargl\",\"marker\":{\"colorbar\":{\"outlinewidth\":0,\"ticks\":\"\"}}}],\"bar\":[{\"error_x\":{\"color\":\"#2a3f5f\"},\"error_y\":{\"color\":\"#2a3f5f\"},\"marker\":{\"line\":{\"color\":\"#E5ECF6\",\"width\":0.5},\"pattern\":{\"fillmode\":\"overlay\",\"size\":10,\"solidity\":0.2}},\"type\":\"bar\"}],\"scattergeo\":[{\"type\":\"scattergeo\",\"marker\":{\"colorbar\":{\"outlinewidth\":0,\"ticks\":\"\"}}}],\"scatterpolar\":[{\"type\":\"scatterpolar\",\"marker\":{\"colorbar\":{\"outlinewidth\":0,\"ticks\":\"\"}}}],\"histogram\":[{\"marker\":{\"pattern\":{\"fillmode\":\"overlay\",\"size\":10,\"solidity\":0.2}},\"type\":\"histogram\"}],\"scattergl\":[{\"type\":\"scattergl\",\"marker\":{\"colorbar\":{\"outlinewidth\":0,\"ticks\":\"\"}}}],\"scatter3d\":[{\"type\":\"scatter3d\",\"line\":{\"colorbar\":{\"outlinewidth\":0,\"ticks\":\"\"}},\"marker\":{\"colorbar\":{\"outlinewidth\":0,\"ticks\":\"\"}}}],\"scattermapbox\":[{\"type\":\"scattermapbox\",\"marker\":{\"colorbar\":{\"outlinewidth\":0,\"ticks\":\"\"}}}],\"scatterternary\":[{\"type\":\"scatterternary\",\"marker\":{\"colorbar\":{\"outlinewidth\":0,\"ticks\":\"\"}}}],\"scattercarpet\":[{\"type\":\"scattercarpet\",\"marker\":{\"colorbar\":{\"outlinewidth\":0,\"ticks\":\"\"}}}],\"carpet\":[{\"aaxis\":{\"endlinecolor\":\"#2a3f5f\",\"gridcolor\":\"white\",\"linecolor\":\"white\",\"minorgridcolor\":\"white\",\"startlinecolor\":\"#2a3f5f\"},\"baxis\":{\"endlinecolor\":\"#2a3f5f\",\"gridcolor\":\"white\",\"linecolor\":\"white\",\"minorgridcolor\":\"white\",\"startlinecolor\":\"#2a3f5f\"},\"type\":\"carpet\"}],\"table\":[{\"cells\":{\"fill\":{\"color\":\"#EBF0F8\"},\"line\":{\"color\":\"white\"}},\"header\":{\"fill\":{\"color\":\"#C8D4E3\"},\"line\":{\"color\":\"white\"}},\"type\":\"table\"}],\"barpolar\":[{\"marker\":{\"line\":{\"color\":\"#E5ECF6\",\"width\":0.5},\"pattern\":{\"fillmode\":\"overlay\",\"size\":10,\"solidity\":0.2}},\"type\":\"barpolar\"}],\"pie\":[{\"automargin\":true,\"type\":\"pie\"}]},\"layout\":{\"autotypenumbers\":\"strict\",\"colorway\":[\"#636efa\",\"#EF553B\",\"#00cc96\",\"#ab63fa\",\"#FFA15A\",\"#19d3f3\",\"#FF6692\",\"#B6E880\",\"#FF97FF\",\"#FECB52\"],\"font\":{\"color\":\"#2a3f5f\"},\"hovermode\":\"closest\",\"hoverlabel\":{\"align\":\"left\"},\"paper_bgcolor\":\"white\",\"plot_bgcolor\":\"#E5ECF6\",\"polar\":{\"bgcolor\":\"#E5ECF6\",\"angularaxis\":{\"gridcolor\":\"white\",\"linecolor\":\"white\",\"ticks\":\"\"},\"radialaxis\":{\"gridcolor\":\"white\",\"linecolor\":\"white\",\"ticks\":\"\"}},\"ternary\":{\"bgcolor\":\"#E5ECF6\",\"aaxis\":{\"gridcolor\":\"white\",\"linecolor\":\"white\",\"ticks\":\"\"},\"baxis\":{\"gridcolor\":\"white\",\"linecolor\":\"white\",\"ticks\":\"\"},\"caxis\":{\"gridcolor\":\"white\",\"linecolor\":\"white\",\"ticks\":\"\"}},\"coloraxis\":{\"colorbar\":{\"outlinewidth\":0,\"ticks\":\"\"}},\"colorscale\":{\"sequential\":[[0.0,\"#0d0887\"],[0.1111111111111111,\"#46039f\"],[0.2222222222222222,\"#7201a8\"],[0.3333333333333333,\"#9c179e\"],[0.4444444444444444,\"#bd3786\"],[0.5555555555555556,\"#d8576b\"],[0.6666666666666666,\"#ed7953\"],[0.7777777777777778,\"#fb9f3a\"],[0.8888888888888888,\"#fdca26\"],[1.0,\"#f0f921\"]],\"sequentialminus\":[[0.0,\"#0d0887\"],[0.1111111111111111,\"#46039f\"],[0.2222222222222222,\"#7201a8\"],[0.3333333333333333,\"#9c179e\"],[0.4444444444444444,\"#bd3786\"],[0.5555555555555556,\"#d8576b\"],[0.6666666666666666,\"#ed7953\"],[0.7777777777777778,\"#fb9f3a\"],[0.8888888888888888,\"#fdca26\"],[1.0,\"#f0f921\"]],\"diverging\":[[0,\"#8e0152\"],[0.1,\"#c51b7d\"],[0.2,\"#de77ae\"],[0.3,\"#f1b6da\"],[0.4,\"#fde0ef\"],[0.5,\"#f7f7f7\"],[0.6,\"#e6f5d0\"],[0.7,\"#b8e186\"],[0.8,\"#7fbc41\"],[0.9,\"#4d9221\"],[1,\"#276419\"]]},\"xaxis\":{\"gridcolor\":\"white\",\"linecolor\":\"white\",\"ticks\":\"\",\"title\":{\"standoff\":15},\"zerolinecolor\":\"white\",\"automargin\":true,\"zerolinewidth\":2},\"yaxis\":{\"gridcolor\":\"white\",\"linecolor\":\"white\",\"ticks\":\"\",\"title\":{\"standoff\":15},\"zerolinecolor\":\"white\",\"automargin\":true,\"zerolinewidth\":2},\"scene\":{\"xaxis\":{\"backgroundcolor\":\"#E5ECF6\",\"gridcolor\":\"white\",\"linecolor\":\"white\",\"showbackground\":true,\"ticks\":\"\",\"zerolinecolor\":\"white\",\"gridwidth\":2},\"yaxis\":{\"backgroundcolor\":\"#E5ECF6\",\"gridcolor\":\"white\",\"linecolor\":\"white\",\"showbackground\":true,\"ticks\":\"\",\"zerolinecolor\":\"white\",\"gridwidth\":2},\"zaxis\":{\"backgroundcolor\":\"#E5ECF6\",\"gridcolor\":\"white\",\"linecolor\":\"white\",\"showbackground\":true,\"ticks\":\"\",\"zerolinecolor\":\"white\",\"gridwidth\":2}},\"shapedefaults\":{\"line\":{\"color\":\"#2a3f5f\"}},\"annotationdefaults\":{\"arrowcolor\":\"#2a3f5f\",\"arrowhead\":0,\"arrowwidth\":1},\"geo\":{\"bgcolor\":\"white\",\"landcolor\":\"#E5ECF6\",\"subunitcolor\":\"white\",\"showland\":true,\"showlakes\":true,\"lakecolor\":\"white\"},\"title\":{\"x\":0.05},\"mapbox\":{\"style\":\"light\"}}},\"xaxis\":{\"anchor\":\"y\",\"domain\":[0.0,1.0],\"title\":{\"text\":\"Time\"}},\"yaxis\":{\"anchor\":\"x\",\"domain\":[0.0,1.0],\"title\":{\"text\":\"#Robots\"}},\"legend\":{\"title\":{\"text\":\"variable\"},\"tracegroupgap\":0},\"title\":{\"text\":\"HHO - Habitat over Time\"},\"barmode\":\"relative\",\"hovermode\":\"x\"},                        {\"responsive\": true}                    ).then(function(){\n",
       "                            \n",
       "var gd = document.getElementById('07beca76-e2af-46c1-944f-fda9b6b8f497');\n",
       "var x = new MutationObserver(function (mutations, observer) {{\n",
       "        var display = window.getComputedStyle(gd).display;\n",
       "        if (!display || display === 'none') {{\n",
       "            console.log([gd, 'removed!']);\n",
       "            Plotly.purge(gd);\n",
       "            observer.disconnect();\n",
       "        }}\n",
       "}});\n",
       "\n",
       "// Listen for the removal of the full notebook cells\n",
       "var notebookContainer = gd.closest('#notebook-container');\n",
       "if (notebookContainer) {{\n",
       "    x.observe(notebookContainer, {childList: true});\n",
       "}}\n",
       "\n",
       "// Listen for the clearing of the current output cell\n",
       "var outputEl = gd.closest('.output');\n",
       "if (outputEl) {{\n",
       "    x.observe(outputEl, {childList: true});\n",
       "}}\n",
       "\n",
       "                        })                };                });            </script>        </div>"
      ]
     },
     "metadata": {},
     "output_type": "display_data"
    },
    {
     "data": {
      "application/vnd.plotly.v1+json": {
       "config": {
        "plotlyServerURL": "https://plotly.com"
       },
       "data": [
        {
         "name": "#Replicator",
         "type": "bar",
         "x": [
          0,
          1,
          2,
          3,
          4,
          5,
          6,
          7,
          8,
          9,
          10,
          11,
          12,
          13,
          14,
          15,
          16,
          17,
          18,
          19,
          20,
          21,
          22,
          23,
          24,
          25,
          26,
          27,
          28,
          29,
          30,
          31,
          32,
          33,
          34,
          35,
          36,
          37,
          38,
          39,
          40,
          41,
          42,
          43,
          44,
          45,
          46,
          47,
          48,
          49,
          50,
          51,
          52,
          53,
          54,
          55,
          56,
          57,
          58,
          59,
          60,
          61,
          62,
          63,
          64,
          65,
          66,
          67,
          68,
          69,
          70,
          71,
          72,
          73,
          74
         ],
         "xaxis": "x",
         "y": [
          1,
          1,
          1,
          1,
          1,
          1,
          3,
          3,
          3,
          5,
          5,
          5,
          7,
          9,
          11,
          13,
          17,
          21,
          24,
          34,
          42,
          48,
          49,
          50,
          54,
          63,
          75,
          81,
          88,
          96,
          108,
          125,
          139,
          155,
          176,
          195,
          204,
          205,
          205,
          205,
          205,
          205,
          205,
          205,
          205,
          205,
          205,
          205,
          205,
          205,
          205,
          205,
          205,
          205,
          205,
          205,
          205,
          205,
          205,
          205,
          205,
          205,
          205,
          205,
          205,
          205,
          205,
          205,
          205,
          205,
          205,
          205,
          205,
          205,
          205
         ],
         "yaxis": "y"
        },
        {
         "name": "#Normal",
         "type": "bar",
         "x": [
          0,
          1,
          2,
          3,
          4,
          5,
          6,
          7,
          8,
          9,
          10,
          11,
          12,
          13,
          14,
          15,
          16,
          17,
          18,
          19,
          20,
          21,
          22,
          23,
          24,
          25,
          26,
          27,
          28,
          29,
          30,
          31,
          32,
          33,
          34,
          35,
          36,
          37,
          38,
          39,
          40,
          41,
          42,
          43,
          44,
          45,
          46,
          47,
          48,
          49,
          50,
          51,
          52,
          53,
          54,
          55,
          56,
          57,
          58,
          59,
          60,
          61,
          62,
          63,
          64,
          65,
          66,
          67,
          68,
          69,
          70,
          71,
          72,
          73,
          74
         ],
         "xaxis": "x",
         "y": [
          0,
          0,
          0,
          0,
          0,
          0,
          0,
          0,
          2,
          2,
          4,
          4,
          4,
          6,
          8,
          8,
          12,
          16,
          18,
          18,
          18,
          19,
          21,
          22,
          22,
          24,
          28,
          34,
          34,
          38,
          40,
          43,
          43,
          46,
          49,
          52,
          58,
          65,
          68,
          70,
          71,
          71,
          71,
          71,
          71,
          71,
          71,
          71,
          71,
          71,
          71,
          71,
          71,
          71,
          71,
          71,
          71,
          71,
          71,
          71,
          71,
          71,
          71,
          71,
          71,
          71,
          71,
          71,
          71,
          71,
          71,
          71,
          71,
          71,
          71
         ],
         "yaxis": "y"
        },
        {
         "name": "#Assembler",
         "type": "bar",
         "x": [
          0,
          1,
          2,
          3,
          4,
          5,
          6,
          7,
          8,
          9,
          10,
          11,
          12,
          13,
          14,
          15,
          16,
          17,
          18,
          19,
          20,
          21,
          22,
          23,
          24,
          25,
          26,
          27,
          28,
          29,
          30,
          31,
          32,
          33,
          34,
          35,
          36,
          37,
          38,
          39,
          40,
          41,
          42,
          43,
          44,
          45,
          46,
          47,
          48,
          49,
          50,
          51,
          52,
          53,
          54,
          55,
          56,
          57,
          58,
          59,
          60,
          61,
          62,
          63,
          64,
          65,
          66,
          67,
          68,
          69,
          70,
          71,
          72,
          73,
          74
         ],
         "xaxis": "x",
         "y": [
          0,
          0,
          0,
          0,
          0,
          0,
          0,
          0,
          0,
          0,
          0,
          0,
          0,
          0,
          0,
          0,
          0,
          0,
          0,
          0,
          0,
          0,
          0,
          0,
          0,
          0,
          0,
          0,
          0,
          0,
          0,
          0,
          0,
          0,
          0,
          0,
          0,
          0,
          0,
          0,
          0,
          0,
          0,
          0,
          0,
          0,
          0,
          0,
          0,
          0,
          0,
          0,
          0,
          0,
          0,
          0,
          0,
          0,
          0,
          0,
          0,
          0,
          0,
          0,
          0,
          0,
          0,
          0,
          0,
          0,
          0,
          0,
          0,
          0,
          0
         ],
         "yaxis": "y"
        },
        {
         "name": "#Printer",
         "type": "bar",
         "x": [
          0,
          1,
          2,
          3,
          4,
          5,
          6,
          7,
          8,
          9,
          10,
          11,
          12,
          13,
          14,
          15,
          16,
          17,
          18,
          19,
          20,
          21,
          22,
          23,
          24,
          25,
          26,
          27,
          28,
          29,
          30,
          31,
          32,
          33,
          34,
          35,
          36,
          37,
          38,
          39,
          40,
          41,
          42,
          43,
          44,
          45,
          46,
          47,
          48,
          49,
          50,
          51,
          52,
          53,
          54,
          55,
          56,
          57,
          58,
          59,
          60,
          61,
          62,
          63,
          64,
          65,
          66,
          67,
          68,
          69,
          70,
          71,
          72,
          73,
          74
         ],
         "xaxis": "x",
         "y": [
          0,
          0,
          0,
          0,
          0,
          0,
          0,
          0,
          0,
          0,
          0,
          0,
          0,
          0,
          0,
          0,
          0,
          0,
          0,
          0,
          0,
          0,
          0,
          0,
          0,
          0,
          0,
          0,
          0,
          0,
          0,
          0,
          0,
          0,
          0,
          0,
          0,
          0,
          0,
          0,
          0,
          0,
          0,
          0,
          0,
          0,
          0,
          0,
          0,
          0,
          0,
          0,
          0,
          0,
          0,
          0,
          0,
          0,
          0,
          0,
          0,
          0,
          0,
          0,
          0,
          0,
          0,
          0,
          0,
          0,
          0,
          0,
          0,
          0,
          0
         ],
         "yaxis": "y"
        },
        {
         "name": "#Assembling",
         "type": "bar",
         "x": [
          0,
          1,
          2,
          3,
          4,
          5,
          6,
          7,
          8,
          9,
          10,
          11,
          12,
          13,
          14,
          15,
          16,
          17,
          18,
          19,
          20,
          21,
          22,
          23,
          24,
          25,
          26,
          27,
          28,
          29,
          30,
          31,
          32,
          33,
          34,
          35,
          36,
          37,
          38,
          39,
          40,
          41,
          42,
          43,
          44,
          45,
          46,
          47,
          48,
          49,
          50,
          51,
          52,
          53,
          54,
          55,
          56,
          57,
          58,
          59,
          60,
          61,
          62,
          63,
          64,
          65,
          66,
          67,
          68,
          69,
          70,
          71,
          72,
          73,
          74
         ],
         "xaxis": "x3",
         "y": [
          1,
          1,
          1,
          1,
          1,
          1,
          3,
          3,
          3,
          5,
          5,
          5,
          7,
          9,
          11,
          13,
          15,
          11,
          11,
          12,
          10,
          11,
          12,
          16,
          22,
          24,
          22,
          21,
          28,
          31,
          36,
          36,
          44,
          50,
          53,
          36,
          18,
          7,
          3,
          1,
          0,
          0,
          0,
          0,
          0,
          0,
          0,
          0,
          0,
          0,
          0,
          0,
          0,
          0,
          0,
          0,
          0,
          0,
          0,
          0,
          0,
          0,
          0,
          0,
          0,
          0,
          0,
          0,
          0,
          0,
          0,
          0,
          0,
          0,
          0
         ],
         "yaxis": "y3"
        },
        {
         "name": "#Printing",
         "type": "bar",
         "x": [
          0,
          1,
          2,
          3,
          4,
          5,
          6,
          7,
          8,
          9,
          10,
          11,
          12,
          13,
          14,
          15,
          16,
          17,
          18,
          19,
          20,
          21,
          22,
          23,
          24,
          25,
          26,
          27,
          28,
          29,
          30,
          31,
          32,
          33,
          34,
          35,
          36,
          37,
          38,
          39,
          40,
          41,
          42,
          43,
          44,
          45,
          46,
          47,
          48,
          49,
          50,
          51,
          52,
          53,
          54,
          55,
          56,
          57,
          58,
          59,
          60,
          61,
          62,
          63,
          64,
          65,
          66,
          67,
          68,
          69,
          70,
          71,
          72,
          73,
          74
         ],
         "xaxis": "x3",
         "y": [
          0,
          0,
          0,
          0,
          0,
          0,
          0,
          0,
          0,
          0,
          0,
          0,
          0,
          0,
          0,
          0,
          2,
          10,
          12,
          22,
          30,
          37,
          36,
          33,
          32,
          38,
          51,
          58,
          59,
          63,
          70,
          86,
          91,
          103,
          116,
          135,
          14,
          0,
          0,
          0,
          0,
          0,
          0,
          0,
          0,
          0,
          0,
          0,
          0,
          0,
          0,
          0,
          0,
          0,
          0,
          0,
          0,
          0,
          0,
          0,
          0,
          0,
          0,
          0,
          0,
          0,
          0,
          0,
          0,
          0,
          0,
          0,
          0,
          0,
          0
         ],
         "yaxis": "y3"
        },
        {
         "name": "#Collecting",
         "type": "bar",
         "x": [
          0,
          1,
          2,
          3,
          4,
          5,
          6,
          7,
          8,
          9,
          10,
          11,
          12,
          13,
          14,
          15,
          16,
          17,
          18,
          19,
          20,
          21,
          22,
          23,
          24,
          25,
          26,
          27,
          28,
          29,
          30,
          31,
          32,
          33,
          34,
          35,
          36,
          37,
          38,
          39,
          40,
          41,
          42,
          43,
          44,
          45,
          46,
          47,
          48,
          49,
          50,
          51,
          52,
          53,
          54,
          55,
          56,
          57,
          58,
          59,
          60,
          61,
          62,
          63,
          64,
          65,
          66,
          67,
          68,
          69,
          70,
          71,
          72,
          73,
          74
         ],
         "xaxis": "x3",
         "y": [
          0,
          0,
          0,
          0,
          0,
          0,
          0,
          0,
          2,
          2,
          4,
          4,
          4,
          6,
          8,
          8,
          12,
          16,
          18,
          18,
          18,
          18,
          21,
          21,
          22,
          24,
          28,
          34,
          34,
          36,
          40,
          42,
          43,
          36,
          0,
          0,
          0,
          0,
          0,
          0,
          0,
          0,
          0,
          0,
          0,
          0,
          0,
          0,
          0,
          0,
          0,
          0,
          0,
          0,
          0,
          0,
          0,
          0,
          0,
          0,
          0,
          0,
          0,
          0,
          0,
          0,
          0,
          0,
          0,
          0,
          0,
          0,
          0,
          0,
          0
         ],
         "yaxis": "y3"
        },
        {
         "name": "#Idle",
         "type": "bar",
         "x": [
          0,
          1,
          2,
          3,
          4,
          5,
          6,
          7,
          8,
          9,
          10,
          11,
          12,
          13,
          14,
          15,
          16,
          17,
          18,
          19,
          20,
          21,
          22,
          23,
          24,
          25,
          26,
          27,
          28,
          29,
          30,
          31,
          32,
          33,
          34,
          35,
          36,
          37,
          38,
          39,
          40,
          41,
          42,
          43,
          44,
          45,
          46,
          47,
          48,
          49,
          50,
          51,
          52,
          53,
          54,
          55,
          56,
          57,
          58,
          59,
          60,
          61,
          62,
          63,
          64,
          65,
          66,
          67,
          68,
          69,
          70,
          71,
          72,
          73,
          74
         ],
         "xaxis": "x3",
         "y": [
          0,
          0,
          0,
          0,
          0,
          0,
          0,
          0,
          0,
          0,
          0,
          0,
          0,
          0,
          0,
          0,
          0,
          0,
          1,
          0,
          2,
          1,
          1,
          2,
          0,
          1,
          2,
          2,
          1,
          4,
          2,
          4,
          4,
          12,
          56,
          76,
          230,
          263,
          270,
          274,
          276,
          276,
          276,
          276,
          276,
          276,
          276,
          276,
          276,
          276,
          276,
          276,
          276,
          276,
          276,
          276,
          276,
          276,
          276,
          276,
          276,
          276,
          276,
          276,
          276,
          276,
          276,
          276,
          276,
          276,
          276,
          276,
          276,
          276,
          276
         ],
         "yaxis": "y3"
        },
        {
         "mode": "lines",
         "name": "NonPr",
         "type": "scatter",
         "x": [
          0,
          1,
          2,
          3,
          4,
          5,
          6,
          7,
          8,
          9,
          10,
          11,
          12,
          13,
          14,
          15,
          16,
          17,
          18,
          19,
          20,
          21,
          22,
          23,
          24,
          25,
          26,
          27,
          28,
          29,
          30,
          31,
          32,
          33,
          34,
          35,
          36,
          37,
          38,
          39,
          40,
          41,
          42,
          43,
          44,
          45,
          46,
          47,
          48,
          49,
          50,
          51,
          52,
          53,
          54,
          55,
          56,
          57,
          58,
          59,
          60,
          61,
          62,
          63,
          64,
          65,
          66,
          67,
          68,
          69,
          70,
          71,
          72,
          73,
          74
         ],
         "xaxis": "x2",
         "y": [
          297,
          297,
          297,
          297,
          297,
          297,
          293,
          293,
          290,
          286,
          283,
          283,
          279,
          272,
          265,
          261,
          250,
          248,
          245,
          239,
          233,
          222,
          216,
          204,
          197,
          188,
          175,
          160,
          145,
          128,
          111,
          89,
          67,
          41,
          11,
          0,
          0,
          0,
          0,
          0,
          0,
          0,
          0,
          0,
          0,
          0,
          0,
          0,
          0,
          0,
          0,
          0,
          0,
          0,
          0,
          0,
          0,
          0,
          0,
          0,
          0,
          0,
          0,
          0,
          0,
          0,
          0,
          0,
          0,
          0,
          0,
          0,
          0,
          0,
          0
         ],
         "yaxis": "y2"
        },
        {
         "mode": "lines",
         "name": "Printable",
         "type": "scatter",
         "x": [
          0,
          1,
          2,
          3,
          4,
          5,
          6,
          7,
          8,
          9,
          10,
          11,
          12,
          13,
          14,
          15,
          16,
          17,
          18,
          19,
          20,
          21,
          22,
          23,
          24,
          25,
          26,
          27,
          28,
          29,
          30,
          31,
          32,
          33,
          34,
          35,
          36,
          37,
          38,
          39,
          40,
          41,
          42,
          43,
          44,
          45,
          46,
          47,
          48,
          49,
          50,
          51,
          52,
          53,
          54,
          55,
          56,
          57,
          58,
          59,
          60,
          61,
          62,
          63,
          64,
          65,
          66,
          67,
          68,
          69,
          70,
          71,
          72,
          73,
          74
         ],
         "xaxis": "x2",
         "y": [
          94,
          94,
          94,
          94,
          94,
          94,
          86,
          86,
          80,
          72,
          66,
          66,
          58,
          44,
          30,
          22,
          1,
          2,
          2,
          1,
          4,
          1,
          7,
          0,
          2,
          3,
          2,
          2,
          2,
          0,
          1,
          1,
          2,
          2,
          0,
          49,
          49,
          49,
          49,
          49,
          49,
          49,
          49,
          49,
          49,
          49,
          49,
          49,
          49,
          49,
          49,
          49,
          49,
          49,
          49,
          49,
          49,
          49,
          49,
          49,
          49,
          49,
          49,
          49,
          49,
          49,
          49,
          49,
          49,
          49,
          49,
          49,
          49,
          49,
          49
         ],
         "yaxis": "y2"
        },
        {
         "mode": "lines",
         "name": "Materials",
         "type": "scatter",
         "x": [
          0,
          1,
          2,
          3,
          4,
          5,
          6,
          7,
          8,
          9,
          10,
          11,
          12,
          13,
          14,
          15,
          16,
          17,
          18,
          19,
          20,
          21,
          22,
          23,
          24,
          25,
          26,
          27,
          28,
          29,
          30,
          31,
          32,
          33,
          34,
          35,
          36,
          37,
          38,
          39,
          40,
          41,
          42,
          43,
          44,
          45,
          46,
          47,
          48,
          49,
          50,
          51,
          52,
          53,
          54,
          55,
          56,
          57,
          58,
          59,
          60,
          61,
          62,
          63,
          64,
          65,
          66,
          67,
          68,
          69,
          70,
          71,
          72,
          73,
          74
         ],
         "xaxis": "x2",
         "y": [
          50,
          50,
          50,
          50,
          50,
          50,
          50,
          50,
          51,
          53,
          56,
          60,
          64,
          69,
          76,
          84,
          93,
          102,
          113,
          120,
          123,
          122,
          124,
          128,
          134,
          138,
          139,
          140,
          144,
          147,
          151,
          148,
          146,
          130,
          72,
          1,
          1,
          1,
          1,
          1,
          1,
          1,
          1,
          1,
          1,
          1,
          1,
          1,
          1,
          1,
          1,
          1,
          1,
          1,
          1,
          1,
          1,
          1,
          1,
          1,
          1,
          1,
          1,
          1,
          1,
          1,
          1,
          1,
          1,
          1,
          1,
          1,
          1,
          1,
          1
         ],
         "yaxis": "y2"
        },
        {
         "mode": "lines",
         "name": "Env_Materials",
         "type": "scatter",
         "x": [
          0,
          1,
          2,
          3,
          4,
          5,
          6,
          7,
          8,
          9,
          10,
          11,
          12,
          13,
          14,
          15,
          16,
          17,
          18,
          19,
          20,
          21,
          22,
          23,
          24,
          25,
          26,
          27,
          28,
          29,
          30,
          31,
          32,
          33,
          34,
          35,
          36,
          37,
          38,
          39,
          40,
          41,
          42,
          43,
          44,
          45,
          46,
          47,
          48,
          49,
          50,
          51,
          52,
          53,
          54,
          55,
          56,
          57,
          58,
          59,
          60,
          61,
          62,
          63,
          64,
          65,
          66,
          67,
          68,
          69,
          70,
          71,
          72,
          73,
          74
         ],
         "xaxis": "x2",
         "y": [
          500,
          500,
          500,
          500,
          500,
          500,
          500,
          500,
          499,
          497,
          494,
          490,
          486,
          481,
          474,
          466,
          456,
          442,
          425,
          407,
          389,
          371,
          351,
          330,
          308,
          285,
          259,
          228,
          194,
          159,
          120,
          79,
          36,
          0,
          0,
          0,
          0,
          0,
          0,
          0,
          0,
          0,
          0,
          0,
          0,
          0,
          0,
          0,
          0,
          0,
          0,
          0,
          0,
          0,
          0,
          0,
          0,
          0,
          0,
          0,
          0,
          0,
          0,
          0,
          0,
          0,
          0,
          0,
          0,
          0,
          0,
          0,
          0,
          0,
          0
         ],
         "yaxis": "y2"
        },
        {
         "mode": "lines",
         "name": "Avg. Quality #in",
         "type": "scatter",
         "x": [
          0,
          1,
          2,
          3,
          4,
          5,
          6,
          7,
          8,
          9,
          10,
          11,
          12,
          13,
          14,
          15,
          16,
          17,
          18,
          19,
          20,
          21,
          22,
          23,
          24,
          25,
          26,
          27,
          28,
          29,
          30,
          31,
          32,
          33,
          34,
          35,
          36,
          37,
          38,
          39,
          40,
          41,
          42,
          43,
          44,
          45,
          46,
          47,
          48,
          49,
          50,
          51,
          52,
          53,
          54,
          55,
          56,
          57,
          58,
          59,
          60,
          61,
          62,
          63,
          64,
          65,
          66,
          67,
          68,
          69,
          70,
          71,
          72,
          73,
          74
         ],
         "xaxis": "x4",
         "y": [
          0.918,
          0.918,
          0.918,
          0.918,
          0.918,
          0.918,
          0.933,
          0.933,
          0.89,
          0.913,
          0.887,
          0.887,
          0.905,
          0.88,
          0.892,
          0.888,
          0.877,
          0.862,
          0.825,
          0.806,
          0.767,
          0.746,
          0.733,
          0.713,
          0.713,
          0.697,
          0.696,
          0.683,
          0.679,
          0.655,
          0.646,
          0.635,
          0.623,
          0.615,
          0.592,
          0.565,
          0.551,
          0.544,
          0.544,
          0.54,
          0.538,
          0.538,
          0.538,
          0.538,
          0.538,
          0.538,
          0.538,
          0.538,
          0.538,
          0.538,
          0.538,
          0.538,
          0.538,
          0.538,
          0.538,
          0.538,
          0.538,
          0.538,
          0.538,
          0.538,
          0.538,
          0.538,
          0.538,
          0.538,
          0.538,
          0.538,
          0.538,
          0.538,
          0.538,
          0.538,
          0.538,
          0.538,
          0.538,
          0.538,
          0.538
         ],
         "yaxis": "y4"
        },
        {
         "mode": "lines",
         "name": "Avg. Quality #total",
         "type": "scatter",
         "x": [
          0,
          1,
          2,
          3,
          4,
          5,
          6,
          7,
          8,
          9,
          10,
          11,
          12,
          13,
          14,
          15,
          16,
          17,
          18,
          19,
          20,
          21,
          22,
          23,
          24,
          25,
          26,
          27,
          28,
          29,
          30,
          31,
          32,
          33,
          34,
          35,
          36,
          37,
          38,
          39,
          40,
          41,
          42,
          43,
          44,
          45,
          46,
          47,
          48,
          49,
          50,
          51,
          52,
          53,
          54,
          55,
          56,
          57,
          58,
          59,
          60,
          61,
          62,
          63,
          64,
          65,
          66,
          67,
          68,
          69,
          70,
          71,
          72,
          73,
          74
         ],
         "xaxis": "x4",
         "y": [
          0.918,
          0.918,
          0.918,
          0.918,
          0.918,
          0.918,
          0.933,
          0.933,
          0.89,
          0.913,
          0.887,
          0.887,
          0.905,
          0.88,
          0.892,
          0.888,
          0.877,
          0.862,
          0.835,
          0.813,
          0.79,
          0.769,
          0.763,
          0.751,
          0.749,
          0.734,
          0.735,
          0.725,
          0.72,
          0.703,
          0.694,
          0.686,
          0.681,
          0.674,
          0.658,
          0.642,
          0.633,
          0.629,
          0.629,
          0.628,
          0.627,
          0.627,
          0.627,
          0.627,
          0.627,
          0.627,
          0.627,
          0.627,
          0.627,
          0.627,
          0.627,
          0.627,
          0.627,
          0.627,
          0.627,
          0.627,
          0.627,
          0.627,
          0.627,
          0.627,
          0.627,
          0.627,
          0.627,
          0.627,
          0.627,
          0.627,
          0.627,
          0.627,
          0.627,
          0.627,
          0.627,
          0.627,
          0.627,
          0.627,
          0.627
         ],
         "yaxis": "y4"
        }
       ],
       "layout": {
        "annotations": [
         {
          "font": {
           "size": 16
          },
          "showarrow": false,
          "text": "Types of Robots vs Time",
          "x": 0.225,
          "xanchor": "center",
          "xref": "paper",
          "y": 1,
          "yanchor": "bottom",
          "yref": "paper"
         },
         {
          "font": {
           "size": 16
          },
          "showarrow": false,
          "text": "Resources vs Time",
          "x": 0.775,
          "xanchor": "center",
          "xref": "paper",
          "y": 1,
          "yanchor": "bottom",
          "yref": "paper"
         },
         {
          "font": {
           "size": 16
          },
          "showarrow": false,
          "text": "Tasks of Robots vs Time",
          "x": 0.225,
          "xanchor": "center",
          "xref": "paper",
          "y": 0.375,
          "yanchor": "bottom",
          "yref": "paper"
         },
         {
          "font": {
           "size": 16
          },
          "showarrow": false,
          "text": "Build Quality vs Time",
          "x": 0.775,
          "xanchor": "center",
          "xref": "paper",
          "y": 0.375,
          "yanchor": "bottom",
          "yref": "paper"
         }
        ],
        "hovermode": "x",
        "template": {
         "data": {
          "bar": [
           {
            "error_x": {
             "color": "#2a3f5f"
            },
            "error_y": {
             "color": "#2a3f5f"
            },
            "marker": {
             "line": {
              "color": "#E5ECF6",
              "width": 0.5
             },
             "pattern": {
              "fillmode": "overlay",
              "size": 10,
              "solidity": 0.2
             }
            },
            "type": "bar"
           }
          ],
          "barpolar": [
           {
            "marker": {
             "line": {
              "color": "#E5ECF6",
              "width": 0.5
             },
             "pattern": {
              "fillmode": "overlay",
              "size": 10,
              "solidity": 0.2
             }
            },
            "type": "barpolar"
           }
          ],
          "carpet": [
           {
            "aaxis": {
             "endlinecolor": "#2a3f5f",
             "gridcolor": "white",
             "linecolor": "white",
             "minorgridcolor": "white",
             "startlinecolor": "#2a3f5f"
            },
            "baxis": {
             "endlinecolor": "#2a3f5f",
             "gridcolor": "white",
             "linecolor": "white",
             "minorgridcolor": "white",
             "startlinecolor": "#2a3f5f"
            },
            "type": "carpet"
           }
          ],
          "choropleth": [
           {
            "colorbar": {
             "outlinewidth": 0,
             "ticks": ""
            },
            "type": "choropleth"
           }
          ],
          "contour": [
           {
            "colorbar": {
             "outlinewidth": 0,
             "ticks": ""
            },
            "colorscale": [
             [
              0,
              "#0d0887"
             ],
             [
              0.1111111111111111,
              "#46039f"
             ],
             [
              0.2222222222222222,
              "#7201a8"
             ],
             [
              0.3333333333333333,
              "#9c179e"
             ],
             [
              0.4444444444444444,
              "#bd3786"
             ],
             [
              0.5555555555555556,
              "#d8576b"
             ],
             [
              0.6666666666666666,
              "#ed7953"
             ],
             [
              0.7777777777777778,
              "#fb9f3a"
             ],
             [
              0.8888888888888888,
              "#fdca26"
             ],
             [
              1,
              "#f0f921"
             ]
            ],
            "type": "contour"
           }
          ],
          "contourcarpet": [
           {
            "colorbar": {
             "outlinewidth": 0,
             "ticks": ""
            },
            "type": "contourcarpet"
           }
          ],
          "heatmap": [
           {
            "colorbar": {
             "outlinewidth": 0,
             "ticks": ""
            },
            "colorscale": [
             [
              0,
              "#0d0887"
             ],
             [
              0.1111111111111111,
              "#46039f"
             ],
             [
              0.2222222222222222,
              "#7201a8"
             ],
             [
              0.3333333333333333,
              "#9c179e"
             ],
             [
              0.4444444444444444,
              "#bd3786"
             ],
             [
              0.5555555555555556,
              "#d8576b"
             ],
             [
              0.6666666666666666,
              "#ed7953"
             ],
             [
              0.7777777777777778,
              "#fb9f3a"
             ],
             [
              0.8888888888888888,
              "#fdca26"
             ],
             [
              1,
              "#f0f921"
             ]
            ],
            "type": "heatmap"
           }
          ],
          "heatmapgl": [
           {
            "colorbar": {
             "outlinewidth": 0,
             "ticks": ""
            },
            "colorscale": [
             [
              0,
              "#0d0887"
             ],
             [
              0.1111111111111111,
              "#46039f"
             ],
             [
              0.2222222222222222,
              "#7201a8"
             ],
             [
              0.3333333333333333,
              "#9c179e"
             ],
             [
              0.4444444444444444,
              "#bd3786"
             ],
             [
              0.5555555555555556,
              "#d8576b"
             ],
             [
              0.6666666666666666,
              "#ed7953"
             ],
             [
              0.7777777777777778,
              "#fb9f3a"
             ],
             [
              0.8888888888888888,
              "#fdca26"
             ],
             [
              1,
              "#f0f921"
             ]
            ],
            "type": "heatmapgl"
           }
          ],
          "histogram": [
           {
            "marker": {
             "pattern": {
              "fillmode": "overlay",
              "size": 10,
              "solidity": 0.2
             }
            },
            "type": "histogram"
           }
          ],
          "histogram2d": [
           {
            "colorbar": {
             "outlinewidth": 0,
             "ticks": ""
            },
            "colorscale": [
             [
              0,
              "#0d0887"
             ],
             [
              0.1111111111111111,
              "#46039f"
             ],
             [
              0.2222222222222222,
              "#7201a8"
             ],
             [
              0.3333333333333333,
              "#9c179e"
             ],
             [
              0.4444444444444444,
              "#bd3786"
             ],
             [
              0.5555555555555556,
              "#d8576b"
             ],
             [
              0.6666666666666666,
              "#ed7953"
             ],
             [
              0.7777777777777778,
              "#fb9f3a"
             ],
             [
              0.8888888888888888,
              "#fdca26"
             ],
             [
              1,
              "#f0f921"
             ]
            ],
            "type": "histogram2d"
           }
          ],
          "histogram2dcontour": [
           {
            "colorbar": {
             "outlinewidth": 0,
             "ticks": ""
            },
            "colorscale": [
             [
              0,
              "#0d0887"
             ],
             [
              0.1111111111111111,
              "#46039f"
             ],
             [
              0.2222222222222222,
              "#7201a8"
             ],
             [
              0.3333333333333333,
              "#9c179e"
             ],
             [
              0.4444444444444444,
              "#bd3786"
             ],
             [
              0.5555555555555556,
              "#d8576b"
             ],
             [
              0.6666666666666666,
              "#ed7953"
             ],
             [
              0.7777777777777778,
              "#fb9f3a"
             ],
             [
              0.8888888888888888,
              "#fdca26"
             ],
             [
              1,
              "#f0f921"
             ]
            ],
            "type": "histogram2dcontour"
           }
          ],
          "mesh3d": [
           {
            "colorbar": {
             "outlinewidth": 0,
             "ticks": ""
            },
            "type": "mesh3d"
           }
          ],
          "parcoords": [
           {
            "line": {
             "colorbar": {
              "outlinewidth": 0,
              "ticks": ""
             }
            },
            "type": "parcoords"
           }
          ],
          "pie": [
           {
            "automargin": true,
            "type": "pie"
           }
          ],
          "scatter": [
           {
            "fillpattern": {
             "fillmode": "overlay",
             "size": 10,
             "solidity": 0.2
            },
            "type": "scatter"
           }
          ],
          "scatter3d": [
           {
            "line": {
             "colorbar": {
              "outlinewidth": 0,
              "ticks": ""
             }
            },
            "marker": {
             "colorbar": {
              "outlinewidth": 0,
              "ticks": ""
             }
            },
            "type": "scatter3d"
           }
          ],
          "scattercarpet": [
           {
            "marker": {
             "colorbar": {
              "outlinewidth": 0,
              "ticks": ""
             }
            },
            "type": "scattercarpet"
           }
          ],
          "scattergeo": [
           {
            "marker": {
             "colorbar": {
              "outlinewidth": 0,
              "ticks": ""
             }
            },
            "type": "scattergeo"
           }
          ],
          "scattergl": [
           {
            "marker": {
             "colorbar": {
              "outlinewidth": 0,
              "ticks": ""
             }
            },
            "type": "scattergl"
           }
          ],
          "scattermapbox": [
           {
            "marker": {
             "colorbar": {
              "outlinewidth": 0,
              "ticks": ""
             }
            },
            "type": "scattermapbox"
           }
          ],
          "scatterpolar": [
           {
            "marker": {
             "colorbar": {
              "outlinewidth": 0,
              "ticks": ""
             }
            },
            "type": "scatterpolar"
           }
          ],
          "scatterpolargl": [
           {
            "marker": {
             "colorbar": {
              "outlinewidth": 0,
              "ticks": ""
             }
            },
            "type": "scatterpolargl"
           }
          ],
          "scatterternary": [
           {
            "marker": {
             "colorbar": {
              "outlinewidth": 0,
              "ticks": ""
             }
            },
            "type": "scatterternary"
           }
          ],
          "surface": [
           {
            "colorbar": {
             "outlinewidth": 0,
             "ticks": ""
            },
            "colorscale": [
             [
              0,
              "#0d0887"
             ],
             [
              0.1111111111111111,
              "#46039f"
             ],
             [
              0.2222222222222222,
              "#7201a8"
             ],
             [
              0.3333333333333333,
              "#9c179e"
             ],
             [
              0.4444444444444444,
              "#bd3786"
             ],
             [
              0.5555555555555556,
              "#d8576b"
             ],
             [
              0.6666666666666666,
              "#ed7953"
             ],
             [
              0.7777777777777778,
              "#fb9f3a"
             ],
             [
              0.8888888888888888,
              "#fdca26"
             ],
             [
              1,
              "#f0f921"
             ]
            ],
            "type": "surface"
           }
          ],
          "table": [
           {
            "cells": {
             "fill": {
              "color": "#EBF0F8"
             },
             "line": {
              "color": "white"
             }
            },
            "header": {
             "fill": {
              "color": "#C8D4E3"
             },
             "line": {
              "color": "white"
             }
            },
            "type": "table"
           }
          ]
         },
         "layout": {
          "annotationdefaults": {
           "arrowcolor": "#2a3f5f",
           "arrowhead": 0,
           "arrowwidth": 1
          },
          "autotypenumbers": "strict",
          "coloraxis": {
           "colorbar": {
            "outlinewidth": 0,
            "ticks": ""
           }
          },
          "colorscale": {
           "diverging": [
            [
             0,
             "#8e0152"
            ],
            [
             0.1,
             "#c51b7d"
            ],
            [
             0.2,
             "#de77ae"
            ],
            [
             0.3,
             "#f1b6da"
            ],
            [
             0.4,
             "#fde0ef"
            ],
            [
             0.5,
             "#f7f7f7"
            ],
            [
             0.6,
             "#e6f5d0"
            ],
            [
             0.7,
             "#b8e186"
            ],
            [
             0.8,
             "#7fbc41"
            ],
            [
             0.9,
             "#4d9221"
            ],
            [
             1,
             "#276419"
            ]
           ],
           "sequential": [
            [
             0,
             "#0d0887"
            ],
            [
             0.1111111111111111,
             "#46039f"
            ],
            [
             0.2222222222222222,
             "#7201a8"
            ],
            [
             0.3333333333333333,
             "#9c179e"
            ],
            [
             0.4444444444444444,
             "#bd3786"
            ],
            [
             0.5555555555555556,
             "#d8576b"
            ],
            [
             0.6666666666666666,
             "#ed7953"
            ],
            [
             0.7777777777777778,
             "#fb9f3a"
            ],
            [
             0.8888888888888888,
             "#fdca26"
            ],
            [
             1,
             "#f0f921"
            ]
           ],
           "sequentialminus": [
            [
             0,
             "#0d0887"
            ],
            [
             0.1111111111111111,
             "#46039f"
            ],
            [
             0.2222222222222222,
             "#7201a8"
            ],
            [
             0.3333333333333333,
             "#9c179e"
            ],
            [
             0.4444444444444444,
             "#bd3786"
            ],
            [
             0.5555555555555556,
             "#d8576b"
            ],
            [
             0.6666666666666666,
             "#ed7953"
            ],
            [
             0.7777777777777778,
             "#fb9f3a"
            ],
            [
             0.8888888888888888,
             "#fdca26"
            ],
            [
             1,
             "#f0f921"
            ]
           ]
          },
          "colorway": [
           "#636efa",
           "#EF553B",
           "#00cc96",
           "#ab63fa",
           "#FFA15A",
           "#19d3f3",
           "#FF6692",
           "#B6E880",
           "#FF97FF",
           "#FECB52"
          ],
          "font": {
           "color": "#2a3f5f"
          },
          "geo": {
           "bgcolor": "white",
           "lakecolor": "white",
           "landcolor": "#E5ECF6",
           "showlakes": true,
           "showland": true,
           "subunitcolor": "white"
          },
          "hoverlabel": {
           "align": "left"
          },
          "hovermode": "closest",
          "mapbox": {
           "style": "light"
          },
          "paper_bgcolor": "white",
          "plot_bgcolor": "#E5ECF6",
          "polar": {
           "angularaxis": {
            "gridcolor": "white",
            "linecolor": "white",
            "ticks": ""
           },
           "bgcolor": "#E5ECF6",
           "radialaxis": {
            "gridcolor": "white",
            "linecolor": "white",
            "ticks": ""
           }
          },
          "scene": {
           "xaxis": {
            "backgroundcolor": "#E5ECF6",
            "gridcolor": "white",
            "gridwidth": 2,
            "linecolor": "white",
            "showbackground": true,
            "ticks": "",
            "zerolinecolor": "white"
           },
           "yaxis": {
            "backgroundcolor": "#E5ECF6",
            "gridcolor": "white",
            "gridwidth": 2,
            "linecolor": "white",
            "showbackground": true,
            "ticks": "",
            "zerolinecolor": "white"
           },
           "zaxis": {
            "backgroundcolor": "#E5ECF6",
            "gridcolor": "white",
            "gridwidth": 2,
            "linecolor": "white",
            "showbackground": true,
            "ticks": "",
            "zerolinecolor": "white"
           }
          },
          "shapedefaults": {
           "line": {
            "color": "#2a3f5f"
           }
          },
          "ternary": {
           "aaxis": {
            "gridcolor": "white",
            "linecolor": "white",
            "ticks": ""
           },
           "baxis": {
            "gridcolor": "white",
            "linecolor": "white",
            "ticks": ""
           },
           "bgcolor": "#E5ECF6",
           "caxis": {
            "gridcolor": "white",
            "linecolor": "white",
            "ticks": ""
           }
          },
          "title": {
           "x": 0.05
          },
          "xaxis": {
           "automargin": true,
           "gridcolor": "white",
           "linecolor": "white",
           "ticks": "",
           "title": {
            "standoff": 15
           },
           "zerolinecolor": "white",
           "zerolinewidth": 2
          },
          "yaxis": {
           "automargin": true,
           "gridcolor": "white",
           "linecolor": "white",
           "ticks": "",
           "title": {
            "standoff": 15
           },
           "zerolinecolor": "white",
           "zerolinewidth": 2
          }
         }
        },
        "title": {
         "text": "HHO - Characteristics"
        },
        "xaxis": {
         "anchor": "y",
         "domain": [
          0,
          0.45
         ]
        },
        "xaxis2": {
         "anchor": "y2",
         "domain": [
          0.55,
          1
         ]
        },
        "xaxis3": {
         "anchor": "y3",
         "domain": [
          0,
          0.45
         ]
        },
        "xaxis4": {
         "anchor": "y4",
         "domain": [
          0.55,
          1
         ]
        },
        "yaxis": {
         "anchor": "x",
         "domain": [
          0.625,
          1
         ]
        },
        "yaxis2": {
         "anchor": "x2",
         "domain": [
          0.625,
          1
         ]
        },
        "yaxis3": {
         "anchor": "x3",
         "domain": [
          0,
          0.375
         ]
        },
        "yaxis4": {
         "anchor": "x4",
         "domain": [
          0,
          0.375
         ]
        }
       }
      },
      "text/html": [
       "<div>                            <div id=\"c7c88f04-5f4f-47ff-ad87-a7a9e81937d7\" class=\"plotly-graph-div\" style=\"height:525px; width:100%;\"></div>            <script type=\"text/javascript\">                require([\"plotly\"], function(Plotly) {                    window.PLOTLYENV=window.PLOTLYENV || {};                                    if (document.getElementById(\"c7c88f04-5f4f-47ff-ad87-a7a9e81937d7\")) {                    Plotly.newPlot(                        \"c7c88f04-5f4f-47ff-ad87-a7a9e81937d7\",                        [{\"name\":\"#Replicator\",\"x\":[0.0,1.0,2.0,3.0,4.0,5.0,6.0,7.0,8.0,9.0,10.0,11.0,12.0,13.0,14.0,15.0,16.0,17.0,18.0,19.0,20.0,21.0,22.0,23.0,24.0,25.0,26.0,27.0,28.0,29.0,30.0,31.0,32.0,33.0,34.0,35.0,36.0,37.0,38.0,39.0,40.0,41.0,42.0,43.0,44.0,45.0,46.0,47.0,48.0,49.0,50.0,51.0,52.0,53.0,54.0,55.0,56.0,57.0,58.0,59.0,60.0,61.0,62.0,63.0,64.0,65.0,66.0,67.0,68.0,69.0,70.0,71.0,72.0,73.0,74.0],\"y\":[1.0,1.0,1.0,1.0,1.0,1.0,3.0,3.0,3.0,5.0,5.0,5.0,7.0,9.0,11.0,13.0,17.0,21.0,24.0,34.0,42.0,48.0,49.0,50.0,54.0,63.0,75.0,81.0,88.0,96.0,108.0,125.0,139.0,155.0,176.0,195.0,204.0,205.0,205.0,205.0,205.0,205.0,205.0,205.0,205.0,205.0,205.0,205.0,205.0,205.0,205.0,205.0,205.0,205.0,205.0,205.0,205.0,205.0,205.0,205.0,205.0,205.0,205.0,205.0,205.0,205.0,205.0,205.0,205.0,205.0,205.0,205.0,205.0,205.0,205.0],\"type\":\"bar\",\"xaxis\":\"x\",\"yaxis\":\"y\"},{\"name\":\"#Normal\",\"x\":[0.0,1.0,2.0,3.0,4.0,5.0,6.0,7.0,8.0,9.0,10.0,11.0,12.0,13.0,14.0,15.0,16.0,17.0,18.0,19.0,20.0,21.0,22.0,23.0,24.0,25.0,26.0,27.0,28.0,29.0,30.0,31.0,32.0,33.0,34.0,35.0,36.0,37.0,38.0,39.0,40.0,41.0,42.0,43.0,44.0,45.0,46.0,47.0,48.0,49.0,50.0,51.0,52.0,53.0,54.0,55.0,56.0,57.0,58.0,59.0,60.0,61.0,62.0,63.0,64.0,65.0,66.0,67.0,68.0,69.0,70.0,71.0,72.0,73.0,74.0],\"y\":[0.0,0.0,0.0,0.0,0.0,0.0,0.0,0.0,2.0,2.0,4.0,4.0,4.0,6.0,8.0,8.0,12.0,16.0,18.0,18.0,18.0,19.0,21.0,22.0,22.0,24.0,28.0,34.0,34.0,38.0,40.0,43.0,43.0,46.0,49.0,52.0,58.0,65.0,68.0,70.0,71.0,71.0,71.0,71.0,71.0,71.0,71.0,71.0,71.0,71.0,71.0,71.0,71.0,71.0,71.0,71.0,71.0,71.0,71.0,71.0,71.0,71.0,71.0,71.0,71.0,71.0,71.0,71.0,71.0,71.0,71.0,71.0,71.0,71.0,71.0],\"type\":\"bar\",\"xaxis\":\"x\",\"yaxis\":\"y\"},{\"name\":\"#Assembler\",\"x\":[0.0,1.0,2.0,3.0,4.0,5.0,6.0,7.0,8.0,9.0,10.0,11.0,12.0,13.0,14.0,15.0,16.0,17.0,18.0,19.0,20.0,21.0,22.0,23.0,24.0,25.0,26.0,27.0,28.0,29.0,30.0,31.0,32.0,33.0,34.0,35.0,36.0,37.0,38.0,39.0,40.0,41.0,42.0,43.0,44.0,45.0,46.0,47.0,48.0,49.0,50.0,51.0,52.0,53.0,54.0,55.0,56.0,57.0,58.0,59.0,60.0,61.0,62.0,63.0,64.0,65.0,66.0,67.0,68.0,69.0,70.0,71.0,72.0,73.0,74.0],\"y\":[0.0,0.0,0.0,0.0,0.0,0.0,0.0,0.0,0.0,0.0,0.0,0.0,0.0,0.0,0.0,0.0,0.0,0.0,0.0,0.0,0.0,0.0,0.0,0.0,0.0,0.0,0.0,0.0,0.0,0.0,0.0,0.0,0.0,0.0,0.0,0.0,0.0,0.0,0.0,0.0,0.0,0.0,0.0,0.0,0.0,0.0,0.0,0.0,0.0,0.0,0.0,0.0,0.0,0.0,0.0,0.0,0.0,0.0,0.0,0.0,0.0,0.0,0.0,0.0,0.0,0.0,0.0,0.0,0.0,0.0,0.0,0.0,0.0,0.0,0.0],\"type\":\"bar\",\"xaxis\":\"x\",\"yaxis\":\"y\"},{\"name\":\"#Printer\",\"x\":[0.0,1.0,2.0,3.0,4.0,5.0,6.0,7.0,8.0,9.0,10.0,11.0,12.0,13.0,14.0,15.0,16.0,17.0,18.0,19.0,20.0,21.0,22.0,23.0,24.0,25.0,26.0,27.0,28.0,29.0,30.0,31.0,32.0,33.0,34.0,35.0,36.0,37.0,38.0,39.0,40.0,41.0,42.0,43.0,44.0,45.0,46.0,47.0,48.0,49.0,50.0,51.0,52.0,53.0,54.0,55.0,56.0,57.0,58.0,59.0,60.0,61.0,62.0,63.0,64.0,65.0,66.0,67.0,68.0,69.0,70.0,71.0,72.0,73.0,74.0],\"y\":[0.0,0.0,0.0,0.0,0.0,0.0,0.0,0.0,0.0,0.0,0.0,0.0,0.0,0.0,0.0,0.0,0.0,0.0,0.0,0.0,0.0,0.0,0.0,0.0,0.0,0.0,0.0,0.0,0.0,0.0,0.0,0.0,0.0,0.0,0.0,0.0,0.0,0.0,0.0,0.0,0.0,0.0,0.0,0.0,0.0,0.0,0.0,0.0,0.0,0.0,0.0,0.0,0.0,0.0,0.0,0.0,0.0,0.0,0.0,0.0,0.0,0.0,0.0,0.0,0.0,0.0,0.0,0.0,0.0,0.0,0.0,0.0,0.0,0.0,0.0],\"type\":\"bar\",\"xaxis\":\"x\",\"yaxis\":\"y\"},{\"name\":\"#Assembling\",\"x\":[0.0,1.0,2.0,3.0,4.0,5.0,6.0,7.0,8.0,9.0,10.0,11.0,12.0,13.0,14.0,15.0,16.0,17.0,18.0,19.0,20.0,21.0,22.0,23.0,24.0,25.0,26.0,27.0,28.0,29.0,30.0,31.0,32.0,33.0,34.0,35.0,36.0,37.0,38.0,39.0,40.0,41.0,42.0,43.0,44.0,45.0,46.0,47.0,48.0,49.0,50.0,51.0,52.0,53.0,54.0,55.0,56.0,57.0,58.0,59.0,60.0,61.0,62.0,63.0,64.0,65.0,66.0,67.0,68.0,69.0,70.0,71.0,72.0,73.0,74.0],\"y\":[1.0,1.0,1.0,1.0,1.0,1.0,3.0,3.0,3.0,5.0,5.0,5.0,7.0,9.0,11.0,13.0,15.0,11.0,11.0,12.0,10.0,11.0,12.0,16.0,22.0,24.0,22.0,21.0,28.0,31.0,36.0,36.0,44.0,50.0,53.0,36.0,18.0,7.0,3.0,1.0,0.0,0.0,0.0,0.0,0.0,0.0,0.0,0.0,0.0,0.0,0.0,0.0,0.0,0.0,0.0,0.0,0.0,0.0,0.0,0.0,0.0,0.0,0.0,0.0,0.0,0.0,0.0,0.0,0.0,0.0,0.0,0.0,0.0,0.0,0.0],\"type\":\"bar\",\"xaxis\":\"x3\",\"yaxis\":\"y3\"},{\"name\":\"#Printing\",\"x\":[0.0,1.0,2.0,3.0,4.0,5.0,6.0,7.0,8.0,9.0,10.0,11.0,12.0,13.0,14.0,15.0,16.0,17.0,18.0,19.0,20.0,21.0,22.0,23.0,24.0,25.0,26.0,27.0,28.0,29.0,30.0,31.0,32.0,33.0,34.0,35.0,36.0,37.0,38.0,39.0,40.0,41.0,42.0,43.0,44.0,45.0,46.0,47.0,48.0,49.0,50.0,51.0,52.0,53.0,54.0,55.0,56.0,57.0,58.0,59.0,60.0,61.0,62.0,63.0,64.0,65.0,66.0,67.0,68.0,69.0,70.0,71.0,72.0,73.0,74.0],\"y\":[0.0,0.0,0.0,0.0,0.0,0.0,0.0,0.0,0.0,0.0,0.0,0.0,0.0,0.0,0.0,0.0,2.0,10.0,12.0,22.0,30.0,37.0,36.0,33.0,32.0,38.0,51.0,58.0,59.0,63.0,70.0,86.0,91.0,103.0,116.0,135.0,14.0,0.0,0.0,0.0,0.0,0.0,0.0,0.0,0.0,0.0,0.0,0.0,0.0,0.0,0.0,0.0,0.0,0.0,0.0,0.0,0.0,0.0,0.0,0.0,0.0,0.0,0.0,0.0,0.0,0.0,0.0,0.0,0.0,0.0,0.0,0.0,0.0,0.0,0.0],\"type\":\"bar\",\"xaxis\":\"x3\",\"yaxis\":\"y3\"},{\"name\":\"#Collecting\",\"x\":[0.0,1.0,2.0,3.0,4.0,5.0,6.0,7.0,8.0,9.0,10.0,11.0,12.0,13.0,14.0,15.0,16.0,17.0,18.0,19.0,20.0,21.0,22.0,23.0,24.0,25.0,26.0,27.0,28.0,29.0,30.0,31.0,32.0,33.0,34.0,35.0,36.0,37.0,38.0,39.0,40.0,41.0,42.0,43.0,44.0,45.0,46.0,47.0,48.0,49.0,50.0,51.0,52.0,53.0,54.0,55.0,56.0,57.0,58.0,59.0,60.0,61.0,62.0,63.0,64.0,65.0,66.0,67.0,68.0,69.0,70.0,71.0,72.0,73.0,74.0],\"y\":[0.0,0.0,0.0,0.0,0.0,0.0,0.0,0.0,2.0,2.0,4.0,4.0,4.0,6.0,8.0,8.0,12.0,16.0,18.0,18.0,18.0,18.0,21.0,21.0,22.0,24.0,28.0,34.0,34.0,36.0,40.0,42.0,43.0,36.0,0.0,0.0,0.0,0.0,0.0,0.0,0.0,0.0,0.0,0.0,0.0,0.0,0.0,0.0,0.0,0.0,0.0,0.0,0.0,0.0,0.0,0.0,0.0,0.0,0.0,0.0,0.0,0.0,0.0,0.0,0.0,0.0,0.0,0.0,0.0,0.0,0.0,0.0,0.0,0.0,0.0],\"type\":\"bar\",\"xaxis\":\"x3\",\"yaxis\":\"y3\"},{\"name\":\"#Idle\",\"x\":[0.0,1.0,2.0,3.0,4.0,5.0,6.0,7.0,8.0,9.0,10.0,11.0,12.0,13.0,14.0,15.0,16.0,17.0,18.0,19.0,20.0,21.0,22.0,23.0,24.0,25.0,26.0,27.0,28.0,29.0,30.0,31.0,32.0,33.0,34.0,35.0,36.0,37.0,38.0,39.0,40.0,41.0,42.0,43.0,44.0,45.0,46.0,47.0,48.0,49.0,50.0,51.0,52.0,53.0,54.0,55.0,56.0,57.0,58.0,59.0,60.0,61.0,62.0,63.0,64.0,65.0,66.0,67.0,68.0,69.0,70.0,71.0,72.0,73.0,74.0],\"y\":[0.0,0.0,0.0,0.0,0.0,0.0,0.0,0.0,0.0,0.0,0.0,0.0,0.0,0.0,0.0,0.0,0.0,0.0,1.0,0.0,2.0,1.0,1.0,2.0,0.0,1.0,2.0,2.0,1.0,4.0,2.0,4.0,4.0,12.0,56.0,76.0,230.0,263.0,270.0,274.0,276.0,276.0,276.0,276.0,276.0,276.0,276.0,276.0,276.0,276.0,276.0,276.0,276.0,276.0,276.0,276.0,276.0,276.0,276.0,276.0,276.0,276.0,276.0,276.0,276.0,276.0,276.0,276.0,276.0,276.0,276.0,276.0,276.0,276.0,276.0],\"type\":\"bar\",\"xaxis\":\"x3\",\"yaxis\":\"y3\"},{\"mode\":\"lines\",\"name\":\"NonPr\",\"x\":[0.0,1.0,2.0,3.0,4.0,5.0,6.0,7.0,8.0,9.0,10.0,11.0,12.0,13.0,14.0,15.0,16.0,17.0,18.0,19.0,20.0,21.0,22.0,23.0,24.0,25.0,26.0,27.0,28.0,29.0,30.0,31.0,32.0,33.0,34.0,35.0,36.0,37.0,38.0,39.0,40.0,41.0,42.0,43.0,44.0,45.0,46.0,47.0,48.0,49.0,50.0,51.0,52.0,53.0,54.0,55.0,56.0,57.0,58.0,59.0,60.0,61.0,62.0,63.0,64.0,65.0,66.0,67.0,68.0,69.0,70.0,71.0,72.0,73.0,74.0],\"y\":[297.0,297.0,297.0,297.0,297.0,297.0,293.0,293.0,290.0,286.0,283.0,283.0,279.0,272.0,265.0,261.0,250.0,248.0,245.0,239.0,233.0,222.0,216.0,204.0,197.0,188.0,175.0,160.0,145.0,128.0,111.0,89.0,67.0,41.0,11.0,0.0,0.0,0.0,0.0,0.0,0.0,0.0,0.0,0.0,0.0,0.0,0.0,0.0,0.0,0.0,0.0,0.0,0.0,0.0,0.0,0.0,0.0,0.0,0.0,0.0,0.0,0.0,0.0,0.0,0.0,0.0,0.0,0.0,0.0,0.0,0.0,0.0,0.0,0.0,0.0],\"type\":\"scatter\",\"xaxis\":\"x2\",\"yaxis\":\"y2\"},{\"mode\":\"lines\",\"name\":\"Printable\",\"x\":[0.0,1.0,2.0,3.0,4.0,5.0,6.0,7.0,8.0,9.0,10.0,11.0,12.0,13.0,14.0,15.0,16.0,17.0,18.0,19.0,20.0,21.0,22.0,23.0,24.0,25.0,26.0,27.0,28.0,29.0,30.0,31.0,32.0,33.0,34.0,35.0,36.0,37.0,38.0,39.0,40.0,41.0,42.0,43.0,44.0,45.0,46.0,47.0,48.0,49.0,50.0,51.0,52.0,53.0,54.0,55.0,56.0,57.0,58.0,59.0,60.0,61.0,62.0,63.0,64.0,65.0,66.0,67.0,68.0,69.0,70.0,71.0,72.0,73.0,74.0],\"y\":[94.0,94.0,94.0,94.0,94.0,94.0,86.0,86.0,80.0,72.0,66.0,66.0,58.0,44.0,30.0,22.0,1.0,2.0,2.0,1.0,4.0,1.0,7.0,0.0,2.0,3.0,2.0,2.0,2.0,0.0,1.0,1.0,2.0,2.0,0.0,49.0,49.0,49.0,49.0,49.0,49.0,49.0,49.0,49.0,49.0,49.0,49.0,49.0,49.0,49.0,49.0,49.0,49.0,49.0,49.0,49.0,49.0,49.0,49.0,49.0,49.0,49.0,49.0,49.0,49.0,49.0,49.0,49.0,49.0,49.0,49.0,49.0,49.0,49.0,49.0],\"type\":\"scatter\",\"xaxis\":\"x2\",\"yaxis\":\"y2\"},{\"mode\":\"lines\",\"name\":\"Materials\",\"x\":[0.0,1.0,2.0,3.0,4.0,5.0,6.0,7.0,8.0,9.0,10.0,11.0,12.0,13.0,14.0,15.0,16.0,17.0,18.0,19.0,20.0,21.0,22.0,23.0,24.0,25.0,26.0,27.0,28.0,29.0,30.0,31.0,32.0,33.0,34.0,35.0,36.0,37.0,38.0,39.0,40.0,41.0,42.0,43.0,44.0,45.0,46.0,47.0,48.0,49.0,50.0,51.0,52.0,53.0,54.0,55.0,56.0,57.0,58.0,59.0,60.0,61.0,62.0,63.0,64.0,65.0,66.0,67.0,68.0,69.0,70.0,71.0,72.0,73.0,74.0],\"y\":[50.0,50.0,50.0,50.0,50.0,50.0,50.0,50.0,51.0,53.0,56.0,60.0,64.0,69.0,76.0,84.0,93.0,102.0,113.0,120.0,123.0,122.0,124.0,128.0,134.0,138.0,139.0,140.0,144.0,147.0,151.0,148.0,146.0,130.0,72.0,1.0,1.0,1.0,1.0,1.0,1.0,1.0,1.0,1.0,1.0,1.0,1.0,1.0,1.0,1.0,1.0,1.0,1.0,1.0,1.0,1.0,1.0,1.0,1.0,1.0,1.0,1.0,1.0,1.0,1.0,1.0,1.0,1.0,1.0,1.0,1.0,1.0,1.0,1.0,1.0],\"type\":\"scatter\",\"xaxis\":\"x2\",\"yaxis\":\"y2\"},{\"mode\":\"lines\",\"name\":\"Env_Materials\",\"x\":[0.0,1.0,2.0,3.0,4.0,5.0,6.0,7.0,8.0,9.0,10.0,11.0,12.0,13.0,14.0,15.0,16.0,17.0,18.0,19.0,20.0,21.0,22.0,23.0,24.0,25.0,26.0,27.0,28.0,29.0,30.0,31.0,32.0,33.0,34.0,35.0,36.0,37.0,38.0,39.0,40.0,41.0,42.0,43.0,44.0,45.0,46.0,47.0,48.0,49.0,50.0,51.0,52.0,53.0,54.0,55.0,56.0,57.0,58.0,59.0,60.0,61.0,62.0,63.0,64.0,65.0,66.0,67.0,68.0,69.0,70.0,71.0,72.0,73.0,74.0],\"y\":[500.0,500.0,500.0,500.0,500.0,500.0,500.0,500.0,499.0,497.0,494.0,490.0,486.0,481.0,474.0,466.0,456.0,442.0,425.0,407.0,389.0,371.0,351.0,330.0,308.0,285.0,259.0,228.0,194.0,159.0,120.0,79.0,36.0,0.0,0.0,0.0,0.0,0.0,0.0,0.0,0.0,0.0,0.0,0.0,0.0,0.0,0.0,0.0,0.0,0.0,0.0,0.0,0.0,0.0,0.0,0.0,0.0,0.0,0.0,0.0,0.0,0.0,0.0,0.0,0.0,0.0,0.0,0.0,0.0,0.0,0.0,0.0,0.0,0.0,0.0],\"type\":\"scatter\",\"xaxis\":\"x2\",\"yaxis\":\"y2\"},{\"mode\":\"lines\",\"name\":\"Avg. Quality #in\",\"x\":[0.0,1.0,2.0,3.0,4.0,5.0,6.0,7.0,8.0,9.0,10.0,11.0,12.0,13.0,14.0,15.0,16.0,17.0,18.0,19.0,20.0,21.0,22.0,23.0,24.0,25.0,26.0,27.0,28.0,29.0,30.0,31.0,32.0,33.0,34.0,35.0,36.0,37.0,38.0,39.0,40.0,41.0,42.0,43.0,44.0,45.0,46.0,47.0,48.0,49.0,50.0,51.0,52.0,53.0,54.0,55.0,56.0,57.0,58.0,59.0,60.0,61.0,62.0,63.0,64.0,65.0,66.0,67.0,68.0,69.0,70.0,71.0,72.0,73.0,74.0],\"y\":[0.918,0.918,0.918,0.918,0.918,0.918,0.933,0.933,0.89,0.913,0.887,0.887,0.905,0.88,0.892,0.888,0.877,0.862,0.825,0.806,0.767,0.746,0.733,0.713,0.713,0.697,0.696,0.683,0.679,0.655,0.646,0.635,0.623,0.615,0.592,0.565,0.551,0.544,0.544,0.54,0.538,0.538,0.538,0.538,0.538,0.538,0.538,0.538,0.538,0.538,0.538,0.538,0.538,0.538,0.538,0.538,0.538,0.538,0.538,0.538,0.538,0.538,0.538,0.538,0.538,0.538,0.538,0.538,0.538,0.538,0.538,0.538,0.538,0.538,0.538],\"type\":\"scatter\",\"xaxis\":\"x4\",\"yaxis\":\"y4\"},{\"mode\":\"lines\",\"name\":\"Avg. Quality #total\",\"x\":[0.0,1.0,2.0,3.0,4.0,5.0,6.0,7.0,8.0,9.0,10.0,11.0,12.0,13.0,14.0,15.0,16.0,17.0,18.0,19.0,20.0,21.0,22.0,23.0,24.0,25.0,26.0,27.0,28.0,29.0,30.0,31.0,32.0,33.0,34.0,35.0,36.0,37.0,38.0,39.0,40.0,41.0,42.0,43.0,44.0,45.0,46.0,47.0,48.0,49.0,50.0,51.0,52.0,53.0,54.0,55.0,56.0,57.0,58.0,59.0,60.0,61.0,62.0,63.0,64.0,65.0,66.0,67.0,68.0,69.0,70.0,71.0,72.0,73.0,74.0],\"y\":[0.918,0.918,0.918,0.918,0.918,0.918,0.933,0.933,0.89,0.913,0.887,0.887,0.905,0.88,0.892,0.888,0.877,0.862,0.835,0.813,0.79,0.769,0.763,0.751,0.749,0.734,0.735,0.725,0.72,0.703,0.694,0.686,0.681,0.674,0.658,0.642,0.633,0.629,0.629,0.628,0.627,0.627,0.627,0.627,0.627,0.627,0.627,0.627,0.627,0.627,0.627,0.627,0.627,0.627,0.627,0.627,0.627,0.627,0.627,0.627,0.627,0.627,0.627,0.627,0.627,0.627,0.627,0.627,0.627,0.627,0.627,0.627,0.627,0.627,0.627],\"type\":\"scatter\",\"xaxis\":\"x4\",\"yaxis\":\"y4\"}],                        {\"template\":{\"data\":{\"histogram2dcontour\":[{\"type\":\"histogram2dcontour\",\"colorbar\":{\"outlinewidth\":0,\"ticks\":\"\"},\"colorscale\":[[0.0,\"#0d0887\"],[0.1111111111111111,\"#46039f\"],[0.2222222222222222,\"#7201a8\"],[0.3333333333333333,\"#9c179e\"],[0.4444444444444444,\"#bd3786\"],[0.5555555555555556,\"#d8576b\"],[0.6666666666666666,\"#ed7953\"],[0.7777777777777778,\"#fb9f3a\"],[0.8888888888888888,\"#fdca26\"],[1.0,\"#f0f921\"]]}],\"choropleth\":[{\"type\":\"choropleth\",\"colorbar\":{\"outlinewidth\":0,\"ticks\":\"\"}}],\"histogram2d\":[{\"type\":\"histogram2d\",\"colorbar\":{\"outlinewidth\":0,\"ticks\":\"\"},\"colorscale\":[[0.0,\"#0d0887\"],[0.1111111111111111,\"#46039f\"],[0.2222222222222222,\"#7201a8\"],[0.3333333333333333,\"#9c179e\"],[0.4444444444444444,\"#bd3786\"],[0.5555555555555556,\"#d8576b\"],[0.6666666666666666,\"#ed7953\"],[0.7777777777777778,\"#fb9f3a\"],[0.8888888888888888,\"#fdca26\"],[1.0,\"#f0f921\"]]}],\"heatmap\":[{\"type\":\"heatmap\",\"colorbar\":{\"outlinewidth\":0,\"ticks\":\"\"},\"colorscale\":[[0.0,\"#0d0887\"],[0.1111111111111111,\"#46039f\"],[0.2222222222222222,\"#7201a8\"],[0.3333333333333333,\"#9c179e\"],[0.4444444444444444,\"#bd3786\"],[0.5555555555555556,\"#d8576b\"],[0.6666666666666666,\"#ed7953\"],[0.7777777777777778,\"#fb9f3a\"],[0.8888888888888888,\"#fdca26\"],[1.0,\"#f0f921\"]]}],\"heatmapgl\":[{\"type\":\"heatmapgl\",\"colorbar\":{\"outlinewidth\":0,\"ticks\":\"\"},\"colorscale\":[[0.0,\"#0d0887\"],[0.1111111111111111,\"#46039f\"],[0.2222222222222222,\"#7201a8\"],[0.3333333333333333,\"#9c179e\"],[0.4444444444444444,\"#bd3786\"],[0.5555555555555556,\"#d8576b\"],[0.6666666666666666,\"#ed7953\"],[0.7777777777777778,\"#fb9f3a\"],[0.8888888888888888,\"#fdca26\"],[1.0,\"#f0f921\"]]}],\"contourcarpet\":[{\"type\":\"contourcarpet\",\"colorbar\":{\"outlinewidth\":0,\"ticks\":\"\"}}],\"contour\":[{\"type\":\"contour\",\"colorbar\":{\"outlinewidth\":0,\"ticks\":\"\"},\"colorscale\":[[0.0,\"#0d0887\"],[0.1111111111111111,\"#46039f\"],[0.2222222222222222,\"#7201a8\"],[0.3333333333333333,\"#9c179e\"],[0.4444444444444444,\"#bd3786\"],[0.5555555555555556,\"#d8576b\"],[0.6666666666666666,\"#ed7953\"],[0.7777777777777778,\"#fb9f3a\"],[0.8888888888888888,\"#fdca26\"],[1.0,\"#f0f921\"]]}],\"surface\":[{\"type\":\"surface\",\"colorbar\":{\"outlinewidth\":0,\"ticks\":\"\"},\"colorscale\":[[0.0,\"#0d0887\"],[0.1111111111111111,\"#46039f\"],[0.2222222222222222,\"#7201a8\"],[0.3333333333333333,\"#9c179e\"],[0.4444444444444444,\"#bd3786\"],[0.5555555555555556,\"#d8576b\"],[0.6666666666666666,\"#ed7953\"],[0.7777777777777778,\"#fb9f3a\"],[0.8888888888888888,\"#fdca26\"],[1.0,\"#f0f921\"]]}],\"mesh3d\":[{\"type\":\"mesh3d\",\"colorbar\":{\"outlinewidth\":0,\"ticks\":\"\"}}],\"scatter\":[{\"fillpattern\":{\"fillmode\":\"overlay\",\"size\":10,\"solidity\":0.2},\"type\":\"scatter\"}],\"parcoords\":[{\"type\":\"parcoords\",\"line\":{\"colorbar\":{\"outlinewidth\":0,\"ticks\":\"\"}}}],\"scatterpolargl\":[{\"type\":\"scatterpolargl\",\"marker\":{\"colorbar\":{\"outlinewidth\":0,\"ticks\":\"\"}}}],\"bar\":[{\"error_x\":{\"color\":\"#2a3f5f\"},\"error_y\":{\"color\":\"#2a3f5f\"},\"marker\":{\"line\":{\"color\":\"#E5ECF6\",\"width\":0.5},\"pattern\":{\"fillmode\":\"overlay\",\"size\":10,\"solidity\":0.2}},\"type\":\"bar\"}],\"scattergeo\":[{\"type\":\"scattergeo\",\"marker\":{\"colorbar\":{\"outlinewidth\":0,\"ticks\":\"\"}}}],\"scatterpolar\":[{\"type\":\"scatterpolar\",\"marker\":{\"colorbar\":{\"outlinewidth\":0,\"ticks\":\"\"}}}],\"histogram\":[{\"marker\":{\"pattern\":{\"fillmode\":\"overlay\",\"size\":10,\"solidity\":0.2}},\"type\":\"histogram\"}],\"scattergl\":[{\"type\":\"scattergl\",\"marker\":{\"colorbar\":{\"outlinewidth\":0,\"ticks\":\"\"}}}],\"scatter3d\":[{\"type\":\"scatter3d\",\"line\":{\"colorbar\":{\"outlinewidth\":0,\"ticks\":\"\"}},\"marker\":{\"colorbar\":{\"outlinewidth\":0,\"ticks\":\"\"}}}],\"scattermapbox\":[{\"type\":\"scattermapbox\",\"marker\":{\"colorbar\":{\"outlinewidth\":0,\"ticks\":\"\"}}}],\"scatterternary\":[{\"type\":\"scatterternary\",\"marker\":{\"colorbar\":{\"outlinewidth\":0,\"ticks\":\"\"}}}],\"scattercarpet\":[{\"type\":\"scattercarpet\",\"marker\":{\"colorbar\":{\"outlinewidth\":0,\"ticks\":\"\"}}}],\"carpet\":[{\"aaxis\":{\"endlinecolor\":\"#2a3f5f\",\"gridcolor\":\"white\",\"linecolor\":\"white\",\"minorgridcolor\":\"white\",\"startlinecolor\":\"#2a3f5f\"},\"baxis\":{\"endlinecolor\":\"#2a3f5f\",\"gridcolor\":\"white\",\"linecolor\":\"white\",\"minorgridcolor\":\"white\",\"startlinecolor\":\"#2a3f5f\"},\"type\":\"carpet\"}],\"table\":[{\"cells\":{\"fill\":{\"color\":\"#EBF0F8\"},\"line\":{\"color\":\"white\"}},\"header\":{\"fill\":{\"color\":\"#C8D4E3\"},\"line\":{\"color\":\"white\"}},\"type\":\"table\"}],\"barpolar\":[{\"marker\":{\"line\":{\"color\":\"#E5ECF6\",\"width\":0.5},\"pattern\":{\"fillmode\":\"overlay\",\"size\":10,\"solidity\":0.2}},\"type\":\"barpolar\"}],\"pie\":[{\"automargin\":true,\"type\":\"pie\"}]},\"layout\":{\"autotypenumbers\":\"strict\",\"colorway\":[\"#636efa\",\"#EF553B\",\"#00cc96\",\"#ab63fa\",\"#FFA15A\",\"#19d3f3\",\"#FF6692\",\"#B6E880\",\"#FF97FF\",\"#FECB52\"],\"font\":{\"color\":\"#2a3f5f\"},\"hovermode\":\"closest\",\"hoverlabel\":{\"align\":\"left\"},\"paper_bgcolor\":\"white\",\"plot_bgcolor\":\"#E5ECF6\",\"polar\":{\"bgcolor\":\"#E5ECF6\",\"angularaxis\":{\"gridcolor\":\"white\",\"linecolor\":\"white\",\"ticks\":\"\"},\"radialaxis\":{\"gridcolor\":\"white\",\"linecolor\":\"white\",\"ticks\":\"\"}},\"ternary\":{\"bgcolor\":\"#E5ECF6\",\"aaxis\":{\"gridcolor\":\"white\",\"linecolor\":\"white\",\"ticks\":\"\"},\"baxis\":{\"gridcolor\":\"white\",\"linecolor\":\"white\",\"ticks\":\"\"},\"caxis\":{\"gridcolor\":\"white\",\"linecolor\":\"white\",\"ticks\":\"\"}},\"coloraxis\":{\"colorbar\":{\"outlinewidth\":0,\"ticks\":\"\"}},\"colorscale\":{\"sequential\":[[0.0,\"#0d0887\"],[0.1111111111111111,\"#46039f\"],[0.2222222222222222,\"#7201a8\"],[0.3333333333333333,\"#9c179e\"],[0.4444444444444444,\"#bd3786\"],[0.5555555555555556,\"#d8576b\"],[0.6666666666666666,\"#ed7953\"],[0.7777777777777778,\"#fb9f3a\"],[0.8888888888888888,\"#fdca26\"],[1.0,\"#f0f921\"]],\"sequentialminus\":[[0.0,\"#0d0887\"],[0.1111111111111111,\"#46039f\"],[0.2222222222222222,\"#7201a8\"],[0.3333333333333333,\"#9c179e\"],[0.4444444444444444,\"#bd3786\"],[0.5555555555555556,\"#d8576b\"],[0.6666666666666666,\"#ed7953\"],[0.7777777777777778,\"#fb9f3a\"],[0.8888888888888888,\"#fdca26\"],[1.0,\"#f0f921\"]],\"diverging\":[[0,\"#8e0152\"],[0.1,\"#c51b7d\"],[0.2,\"#de77ae\"],[0.3,\"#f1b6da\"],[0.4,\"#fde0ef\"],[0.5,\"#f7f7f7\"],[0.6,\"#e6f5d0\"],[0.7,\"#b8e186\"],[0.8,\"#7fbc41\"],[0.9,\"#4d9221\"],[1,\"#276419\"]]},\"xaxis\":{\"gridcolor\":\"white\",\"linecolor\":\"white\",\"ticks\":\"\",\"title\":{\"standoff\":15},\"zerolinecolor\":\"white\",\"automargin\":true,\"zerolinewidth\":2},\"yaxis\":{\"gridcolor\":\"white\",\"linecolor\":\"white\",\"ticks\":\"\",\"title\":{\"standoff\":15},\"zerolinecolor\":\"white\",\"automargin\":true,\"zerolinewidth\":2},\"scene\":{\"xaxis\":{\"backgroundcolor\":\"#E5ECF6\",\"gridcolor\":\"white\",\"linecolor\":\"white\",\"showbackground\":true,\"ticks\":\"\",\"zerolinecolor\":\"white\",\"gridwidth\":2},\"yaxis\":{\"backgroundcolor\":\"#E5ECF6\",\"gridcolor\":\"white\",\"linecolor\":\"white\",\"showbackground\":true,\"ticks\":\"\",\"zerolinecolor\":\"white\",\"gridwidth\":2},\"zaxis\":{\"backgroundcolor\":\"#E5ECF6\",\"gridcolor\":\"white\",\"linecolor\":\"white\",\"showbackground\":true,\"ticks\":\"\",\"zerolinecolor\":\"white\",\"gridwidth\":2}},\"shapedefaults\":{\"line\":{\"color\":\"#2a3f5f\"}},\"annotationdefaults\":{\"arrowcolor\":\"#2a3f5f\",\"arrowhead\":0,\"arrowwidth\":1},\"geo\":{\"bgcolor\":\"white\",\"landcolor\":\"#E5ECF6\",\"subunitcolor\":\"white\",\"showland\":true,\"showlakes\":true,\"lakecolor\":\"white\"},\"title\":{\"x\":0.05},\"mapbox\":{\"style\":\"light\"}}},\"xaxis\":{\"anchor\":\"y\",\"domain\":[0.0,0.45]},\"yaxis\":{\"anchor\":\"x\",\"domain\":[0.625,1.0]},\"xaxis2\":{\"anchor\":\"y2\",\"domain\":[0.55,1.0]},\"yaxis2\":{\"anchor\":\"x2\",\"domain\":[0.625,1.0]},\"xaxis3\":{\"anchor\":\"y3\",\"domain\":[0.0,0.45]},\"yaxis3\":{\"anchor\":\"x3\",\"domain\":[0.0,0.375]},\"xaxis4\":{\"anchor\":\"y4\",\"domain\":[0.55,1.0]},\"yaxis4\":{\"anchor\":\"x4\",\"domain\":[0.0,0.375]},\"annotations\":[{\"font\":{\"size\":16},\"showarrow\":false,\"text\":\"Types of Robots vs Time\",\"x\":0.225,\"xanchor\":\"center\",\"xref\":\"paper\",\"y\":1.0,\"yanchor\":\"bottom\",\"yref\":\"paper\"},{\"font\":{\"size\":16},\"showarrow\":false,\"text\":\"Resources vs Time\",\"x\":0.775,\"xanchor\":\"center\",\"xref\":\"paper\",\"y\":1.0,\"yanchor\":\"bottom\",\"yref\":\"paper\"},{\"font\":{\"size\":16},\"showarrow\":false,\"text\":\"Tasks of Robots vs Time\",\"x\":0.225,\"xanchor\":\"center\",\"xref\":\"paper\",\"y\":0.375,\"yanchor\":\"bottom\",\"yref\":\"paper\"},{\"font\":{\"size\":16},\"showarrow\":false,\"text\":\"Build Quality vs Time\",\"x\":0.775,\"xanchor\":\"center\",\"xref\":\"paper\",\"y\":0.375,\"yanchor\":\"bottom\",\"yref\":\"paper\"}],\"hovermode\":\"x\",\"title\":{\"text\":\"HHO - Characteristics\"}},                        {\"responsive\": true}                    ).then(function(){\n",
       "                            \n",
       "var gd = document.getElementById('c7c88f04-5f4f-47ff-ad87-a7a9e81937d7');\n",
       "var x = new MutationObserver(function (mutations, observer) {{\n",
       "        var display = window.getComputedStyle(gd).display;\n",
       "        if (!display || display === 'none') {{\n",
       "            console.log([gd, 'removed!']);\n",
       "            Plotly.purge(gd);\n",
       "            observer.disconnect();\n",
       "        }}\n",
       "}});\n",
       "\n",
       "// Listen for the removal of the full notebook cells\n",
       "var notebookContainer = gd.closest('#notebook-container');\n",
       "if (notebookContainer) {{\n",
       "    x.observe(notebookContainer, {childList: true});\n",
       "}}\n",
       "\n",
       "// Listen for the clearing of the current output cell\n",
       "var outputEl = gd.closest('.output');\n",
       "if (outputEl) {{\n",
       "    x.observe(outputEl, {childList: true});\n",
       "}}\n",
       "\n",
       "                        })                };                });            </script>        </div>"
      ]
     },
     "metadata": {},
     "output_type": "display_data"
    },
    {
     "data": {
      "application/vnd.plotly.v1+json": {
       "config": {
        "plotlyServerURL": "https://plotly.com"
       },
       "data": [
        {
         "alignmentgroup": "True",
         "hovertemplate": "variable=#In<br>Time=%{x}<br>value=%{y}<extra></extra>",
         "legendgroup": "#In",
         "marker": {
          "color": "#636efa",
          "pattern": {
           "shape": ""
          }
         },
         "name": "#In",
         "offsetgroup": "#In",
         "orientation": "v",
         "showlegend": true,
         "textposition": "auto",
         "type": "bar",
         "x": [
          0,
          1,
          2,
          3,
          4,
          5,
          6,
          7,
          8,
          9,
          10,
          11,
          12,
          13,
          14,
          15,
          16,
          17,
          18,
          19,
          20,
          21,
          22,
          23,
          24,
          25,
          26,
          27,
          28,
          29,
          30,
          31,
          32,
          33,
          34,
          35,
          36,
          37,
          38,
          39,
          40,
          41,
          42,
          43,
          44,
          45,
          46,
          47,
          48,
          49,
          50,
          51,
          52,
          53,
          54,
          55,
          56,
          57,
          58,
          59,
          60,
          61,
          62,
          63,
          64,
          65,
          66,
          67,
          68,
          69,
          70,
          71,
          72,
          73,
          74
         ],
         "xaxis": "x",
         "y": [
          2,
          2,
          4,
          4,
          6,
          6,
          8,
          8,
          10,
          10,
          12,
          12,
          14,
          14,
          16,
          16,
          18,
          18,
          20,
          20,
          22,
          22,
          24,
          24,
          26,
          26,
          28,
          28,
          30,
          30,
          32,
          32,
          34,
          34,
          36,
          36,
          38,
          38,
          40,
          40,
          42,
          42,
          44,
          44,
          46,
          46,
          48,
          48,
          50,
          50,
          52,
          52,
          54,
          54,
          56,
          56,
          58,
          58,
          60,
          60,
          62,
          62,
          64,
          64,
          66,
          66,
          68,
          68,
          70,
          70,
          72,
          72,
          74,
          74,
          76
         ],
         "yaxis": "y"
        },
        {
         "alignmentgroup": "True",
         "hovertemplate": "variable=#Out<br>Time=%{x}<br>value=%{y}<extra></extra>",
         "legendgroup": "#Out",
         "marker": {
          "color": "#EF553B",
          "pattern": {
           "shape": ""
          }
         },
         "name": "#Out",
         "offsetgroup": "#Out",
         "orientation": "v",
         "showlegend": true,
         "textposition": "auto",
         "type": "bar",
         "x": [
          0,
          1,
          2,
          3,
          4,
          5,
          6,
          7,
          8,
          9,
          10,
          11,
          12,
          13,
          14,
          15,
          16,
          17,
          18,
          19,
          20,
          21,
          22,
          23,
          24,
          25,
          26,
          27,
          28,
          29,
          30,
          31,
          32,
          33,
          34,
          35,
          36,
          37,
          38,
          39,
          40,
          41,
          42,
          43,
          44,
          45,
          46,
          47,
          48,
          49,
          50,
          51,
          52,
          53,
          54,
          55,
          56,
          57,
          58,
          59,
          60,
          61,
          62,
          63,
          64,
          65,
          66,
          67,
          68,
          69,
          70,
          71,
          72,
          73,
          74
         ],
         "xaxis": "x",
         "y": [
          0,
          0,
          0,
          0,
          0,
          0,
          0,
          0,
          0,
          0,
          0,
          0,
          0,
          0,
          0,
          0,
          0,
          0,
          0,
          0,
          0,
          0,
          0,
          0,
          0,
          0,
          0,
          0,
          0,
          0,
          0,
          0,
          0,
          0,
          0,
          0,
          0,
          0,
          0,
          0,
          0,
          0,
          0,
          0,
          0,
          0,
          0,
          0,
          0,
          0,
          0,
          0,
          0,
          0,
          0,
          0,
          0,
          0,
          0,
          0,
          0,
          0,
          0,
          0,
          0,
          0,
          0,
          0,
          0,
          0,
          0,
          0,
          0,
          0,
          0
         ],
         "yaxis": "y"
        }
       ],
       "layout": {
        "barmode": "relative",
        "hovermode": "x",
        "legend": {
         "title": {
          "text": "variable"
         },
         "tracegroupgap": 0
        },
        "template": {
         "data": {
          "bar": [
           {
            "error_x": {
             "color": "#2a3f5f"
            },
            "error_y": {
             "color": "#2a3f5f"
            },
            "marker": {
             "line": {
              "color": "#E5ECF6",
              "width": 0.5
             },
             "pattern": {
              "fillmode": "overlay",
              "size": 10,
              "solidity": 0.2
             }
            },
            "type": "bar"
           }
          ],
          "barpolar": [
           {
            "marker": {
             "line": {
              "color": "#E5ECF6",
              "width": 0.5
             },
             "pattern": {
              "fillmode": "overlay",
              "size": 10,
              "solidity": 0.2
             }
            },
            "type": "barpolar"
           }
          ],
          "carpet": [
           {
            "aaxis": {
             "endlinecolor": "#2a3f5f",
             "gridcolor": "white",
             "linecolor": "white",
             "minorgridcolor": "white",
             "startlinecolor": "#2a3f5f"
            },
            "baxis": {
             "endlinecolor": "#2a3f5f",
             "gridcolor": "white",
             "linecolor": "white",
             "minorgridcolor": "white",
             "startlinecolor": "#2a3f5f"
            },
            "type": "carpet"
           }
          ],
          "choropleth": [
           {
            "colorbar": {
             "outlinewidth": 0,
             "ticks": ""
            },
            "type": "choropleth"
           }
          ],
          "contour": [
           {
            "colorbar": {
             "outlinewidth": 0,
             "ticks": ""
            },
            "colorscale": [
             [
              0,
              "#0d0887"
             ],
             [
              0.1111111111111111,
              "#46039f"
             ],
             [
              0.2222222222222222,
              "#7201a8"
             ],
             [
              0.3333333333333333,
              "#9c179e"
             ],
             [
              0.4444444444444444,
              "#bd3786"
             ],
             [
              0.5555555555555556,
              "#d8576b"
             ],
             [
              0.6666666666666666,
              "#ed7953"
             ],
             [
              0.7777777777777778,
              "#fb9f3a"
             ],
             [
              0.8888888888888888,
              "#fdca26"
             ],
             [
              1,
              "#f0f921"
             ]
            ],
            "type": "contour"
           }
          ],
          "contourcarpet": [
           {
            "colorbar": {
             "outlinewidth": 0,
             "ticks": ""
            },
            "type": "contourcarpet"
           }
          ],
          "heatmap": [
           {
            "colorbar": {
             "outlinewidth": 0,
             "ticks": ""
            },
            "colorscale": [
             [
              0,
              "#0d0887"
             ],
             [
              0.1111111111111111,
              "#46039f"
             ],
             [
              0.2222222222222222,
              "#7201a8"
             ],
             [
              0.3333333333333333,
              "#9c179e"
             ],
             [
              0.4444444444444444,
              "#bd3786"
             ],
             [
              0.5555555555555556,
              "#d8576b"
             ],
             [
              0.6666666666666666,
              "#ed7953"
             ],
             [
              0.7777777777777778,
              "#fb9f3a"
             ],
             [
              0.8888888888888888,
              "#fdca26"
             ],
             [
              1,
              "#f0f921"
             ]
            ],
            "type": "heatmap"
           }
          ],
          "heatmapgl": [
           {
            "colorbar": {
             "outlinewidth": 0,
             "ticks": ""
            },
            "colorscale": [
             [
              0,
              "#0d0887"
             ],
             [
              0.1111111111111111,
              "#46039f"
             ],
             [
              0.2222222222222222,
              "#7201a8"
             ],
             [
              0.3333333333333333,
              "#9c179e"
             ],
             [
              0.4444444444444444,
              "#bd3786"
             ],
             [
              0.5555555555555556,
              "#d8576b"
             ],
             [
              0.6666666666666666,
              "#ed7953"
             ],
             [
              0.7777777777777778,
              "#fb9f3a"
             ],
             [
              0.8888888888888888,
              "#fdca26"
             ],
             [
              1,
              "#f0f921"
             ]
            ],
            "type": "heatmapgl"
           }
          ],
          "histogram": [
           {
            "marker": {
             "pattern": {
              "fillmode": "overlay",
              "size": 10,
              "solidity": 0.2
             }
            },
            "type": "histogram"
           }
          ],
          "histogram2d": [
           {
            "colorbar": {
             "outlinewidth": 0,
             "ticks": ""
            },
            "colorscale": [
             [
              0,
              "#0d0887"
             ],
             [
              0.1111111111111111,
              "#46039f"
             ],
             [
              0.2222222222222222,
              "#7201a8"
             ],
             [
              0.3333333333333333,
              "#9c179e"
             ],
             [
              0.4444444444444444,
              "#bd3786"
             ],
             [
              0.5555555555555556,
              "#d8576b"
             ],
             [
              0.6666666666666666,
              "#ed7953"
             ],
             [
              0.7777777777777778,
              "#fb9f3a"
             ],
             [
              0.8888888888888888,
              "#fdca26"
             ],
             [
              1,
              "#f0f921"
             ]
            ],
            "type": "histogram2d"
           }
          ],
          "histogram2dcontour": [
           {
            "colorbar": {
             "outlinewidth": 0,
             "ticks": ""
            },
            "colorscale": [
             [
              0,
              "#0d0887"
             ],
             [
              0.1111111111111111,
              "#46039f"
             ],
             [
              0.2222222222222222,
              "#7201a8"
             ],
             [
              0.3333333333333333,
              "#9c179e"
             ],
             [
              0.4444444444444444,
              "#bd3786"
             ],
             [
              0.5555555555555556,
              "#d8576b"
             ],
             [
              0.6666666666666666,
              "#ed7953"
             ],
             [
              0.7777777777777778,
              "#fb9f3a"
             ],
             [
              0.8888888888888888,
              "#fdca26"
             ],
             [
              1,
              "#f0f921"
             ]
            ],
            "type": "histogram2dcontour"
           }
          ],
          "mesh3d": [
           {
            "colorbar": {
             "outlinewidth": 0,
             "ticks": ""
            },
            "type": "mesh3d"
           }
          ],
          "parcoords": [
           {
            "line": {
             "colorbar": {
              "outlinewidth": 0,
              "ticks": ""
             }
            },
            "type": "parcoords"
           }
          ],
          "pie": [
           {
            "automargin": true,
            "type": "pie"
           }
          ],
          "scatter": [
           {
            "fillpattern": {
             "fillmode": "overlay",
             "size": 10,
             "solidity": 0.2
            },
            "type": "scatter"
           }
          ],
          "scatter3d": [
           {
            "line": {
             "colorbar": {
              "outlinewidth": 0,
              "ticks": ""
             }
            },
            "marker": {
             "colorbar": {
              "outlinewidth": 0,
              "ticks": ""
             }
            },
            "type": "scatter3d"
           }
          ],
          "scattercarpet": [
           {
            "marker": {
             "colorbar": {
              "outlinewidth": 0,
              "ticks": ""
             }
            },
            "type": "scattercarpet"
           }
          ],
          "scattergeo": [
           {
            "marker": {
             "colorbar": {
              "outlinewidth": 0,
              "ticks": ""
             }
            },
            "type": "scattergeo"
           }
          ],
          "scattergl": [
           {
            "marker": {
             "colorbar": {
              "outlinewidth": 0,
              "ticks": ""
             }
            },
            "type": "scattergl"
           }
          ],
          "scattermapbox": [
           {
            "marker": {
             "colorbar": {
              "outlinewidth": 0,
              "ticks": ""
             }
            },
            "type": "scattermapbox"
           }
          ],
          "scatterpolar": [
           {
            "marker": {
             "colorbar": {
              "outlinewidth": 0,
              "ticks": ""
             }
            },
            "type": "scatterpolar"
           }
          ],
          "scatterpolargl": [
           {
            "marker": {
             "colorbar": {
              "outlinewidth": 0,
              "ticks": ""
             }
            },
            "type": "scatterpolargl"
           }
          ],
          "scatterternary": [
           {
            "marker": {
             "colorbar": {
              "outlinewidth": 0,
              "ticks": ""
             }
            },
            "type": "scatterternary"
           }
          ],
          "surface": [
           {
            "colorbar": {
             "outlinewidth": 0,
             "ticks": ""
            },
            "colorscale": [
             [
              0,
              "#0d0887"
             ],
             [
              0.1111111111111111,
              "#46039f"
             ],
             [
              0.2222222222222222,
              "#7201a8"
             ],
             [
              0.3333333333333333,
              "#9c179e"
             ],
             [
              0.4444444444444444,
              "#bd3786"
             ],
             [
              0.5555555555555556,
              "#d8576b"
             ],
             [
              0.6666666666666666,
              "#ed7953"
             ],
             [
              0.7777777777777778,
              "#fb9f3a"
             ],
             [
              0.8888888888888888,
              "#fdca26"
             ],
             [
              1,
              "#f0f921"
             ]
            ],
            "type": "surface"
           }
          ],
          "table": [
           {
            "cells": {
             "fill": {
              "color": "#EBF0F8"
             },
             "line": {
              "color": "white"
             }
            },
            "header": {
             "fill": {
              "color": "#C8D4E3"
             },
             "line": {
              "color": "white"
             }
            },
            "type": "table"
           }
          ]
         },
         "layout": {
          "annotationdefaults": {
           "arrowcolor": "#2a3f5f",
           "arrowhead": 0,
           "arrowwidth": 1
          },
          "autotypenumbers": "strict",
          "coloraxis": {
           "colorbar": {
            "outlinewidth": 0,
            "ticks": ""
           }
          },
          "colorscale": {
           "diverging": [
            [
             0,
             "#8e0152"
            ],
            [
             0.1,
             "#c51b7d"
            ],
            [
             0.2,
             "#de77ae"
            ],
            [
             0.3,
             "#f1b6da"
            ],
            [
             0.4,
             "#fde0ef"
            ],
            [
             0.5,
             "#f7f7f7"
            ],
            [
             0.6,
             "#e6f5d0"
            ],
            [
             0.7,
             "#b8e186"
            ],
            [
             0.8,
             "#7fbc41"
            ],
            [
             0.9,
             "#4d9221"
            ],
            [
             1,
             "#276419"
            ]
           ],
           "sequential": [
            [
             0,
             "#0d0887"
            ],
            [
             0.1111111111111111,
             "#46039f"
            ],
            [
             0.2222222222222222,
             "#7201a8"
            ],
            [
             0.3333333333333333,
             "#9c179e"
            ],
            [
             0.4444444444444444,
             "#bd3786"
            ],
            [
             0.5555555555555556,
             "#d8576b"
            ],
            [
             0.6666666666666666,
             "#ed7953"
            ],
            [
             0.7777777777777778,
             "#fb9f3a"
            ],
            [
             0.8888888888888888,
             "#fdca26"
            ],
            [
             1,
             "#f0f921"
            ]
           ],
           "sequentialminus": [
            [
             0,
             "#0d0887"
            ],
            [
             0.1111111111111111,
             "#46039f"
            ],
            [
             0.2222222222222222,
             "#7201a8"
            ],
            [
             0.3333333333333333,
             "#9c179e"
            ],
            [
             0.4444444444444444,
             "#bd3786"
            ],
            [
             0.5555555555555556,
             "#d8576b"
            ],
            [
             0.6666666666666666,
             "#ed7953"
            ],
            [
             0.7777777777777778,
             "#fb9f3a"
            ],
            [
             0.8888888888888888,
             "#fdca26"
            ],
            [
             1,
             "#f0f921"
            ]
           ]
          },
          "colorway": [
           "#636efa",
           "#EF553B",
           "#00cc96",
           "#ab63fa",
           "#FFA15A",
           "#19d3f3",
           "#FF6692",
           "#B6E880",
           "#FF97FF",
           "#FECB52"
          ],
          "font": {
           "color": "#2a3f5f"
          },
          "geo": {
           "bgcolor": "white",
           "lakecolor": "white",
           "landcolor": "#E5ECF6",
           "showlakes": true,
           "showland": true,
           "subunitcolor": "white"
          },
          "hoverlabel": {
           "align": "left"
          },
          "hovermode": "closest",
          "mapbox": {
           "style": "light"
          },
          "paper_bgcolor": "white",
          "plot_bgcolor": "#E5ECF6",
          "polar": {
           "angularaxis": {
            "gridcolor": "white",
            "linecolor": "white",
            "ticks": ""
           },
           "bgcolor": "#E5ECF6",
           "radialaxis": {
            "gridcolor": "white",
            "linecolor": "white",
            "ticks": ""
           }
          },
          "scene": {
           "xaxis": {
            "backgroundcolor": "#E5ECF6",
            "gridcolor": "white",
            "gridwidth": 2,
            "linecolor": "white",
            "showbackground": true,
            "ticks": "",
            "zerolinecolor": "white"
           },
           "yaxis": {
            "backgroundcolor": "#E5ECF6",
            "gridcolor": "white",
            "gridwidth": 2,
            "linecolor": "white",
            "showbackground": true,
            "ticks": "",
            "zerolinecolor": "white"
           },
           "zaxis": {
            "backgroundcolor": "#E5ECF6",
            "gridcolor": "white",
            "gridwidth": 2,
            "linecolor": "white",
            "showbackground": true,
            "ticks": "",
            "zerolinecolor": "white"
           }
          },
          "shapedefaults": {
           "line": {
            "color": "#2a3f5f"
           }
          },
          "ternary": {
           "aaxis": {
            "gridcolor": "white",
            "linecolor": "white",
            "ticks": ""
           },
           "baxis": {
            "gridcolor": "white",
            "linecolor": "white",
            "ticks": ""
           },
           "bgcolor": "#E5ECF6",
           "caxis": {
            "gridcolor": "white",
            "linecolor": "white",
            "ticks": ""
           }
          },
          "title": {
           "x": 0.05
          },
          "xaxis": {
           "automargin": true,
           "gridcolor": "white",
           "linecolor": "white",
           "ticks": "",
           "title": {
            "standoff": 15
           },
           "zerolinecolor": "white",
           "zerolinewidth": 2
          },
          "yaxis": {
           "automargin": true,
           "gridcolor": "white",
           "linecolor": "white",
           "ticks": "",
           "title": {
            "standoff": 15
           },
           "zerolinecolor": "white",
           "zerolinewidth": 2
          }
         }
        },
        "title": {
         "text": "CHE - Habitat over Time"
        },
        "xaxis": {
         "anchor": "y",
         "domain": [
          0,
          1
         ],
         "title": {
          "text": "Time"
         }
        },
        "yaxis": {
         "anchor": "x",
         "domain": [
          0,
          1
         ],
         "title": {
          "text": "#Robots"
         }
        }
       }
      },
      "text/html": [
       "<div>                            <div id=\"4e70d2e9-4817-4869-b187-2af2ff7b73d3\" class=\"plotly-graph-div\" style=\"height:525px; width:100%;\"></div>            <script type=\"text/javascript\">                require([\"plotly\"], function(Plotly) {                    window.PLOTLYENV=window.PLOTLYENV || {};                                    if (document.getElementById(\"4e70d2e9-4817-4869-b187-2af2ff7b73d3\")) {                    Plotly.newPlot(                        \"4e70d2e9-4817-4869-b187-2af2ff7b73d3\",                        [{\"alignmentgroup\":\"True\",\"hovertemplate\":\"variable=#In<br>Time=%{x}<br>value=%{y}<extra></extra>\",\"legendgroup\":\"#In\",\"marker\":{\"color\":\"#636efa\",\"pattern\":{\"shape\":\"\"}},\"name\":\"#In\",\"offsetgroup\":\"#In\",\"orientation\":\"v\",\"showlegend\":true,\"textposition\":\"auto\",\"x\":[0.0,1.0,2.0,3.0,4.0,5.0,6.0,7.0,8.0,9.0,10.0,11.0,12.0,13.0,14.0,15.0,16.0,17.0,18.0,19.0,20.0,21.0,22.0,23.0,24.0,25.0,26.0,27.0,28.0,29.0,30.0,31.0,32.0,33.0,34.0,35.0,36.0,37.0,38.0,39.0,40.0,41.0,42.0,43.0,44.0,45.0,46.0,47.0,48.0,49.0,50.0,51.0,52.0,53.0,54.0,55.0,56.0,57.0,58.0,59.0,60.0,61.0,62.0,63.0,64.0,65.0,66.0,67.0,68.0,69.0,70.0,71.0,72.0,73.0,74.0],\"xaxis\":\"x\",\"y\":[2.0,2.0,4.0,4.0,6.0,6.0,8.0,8.0,10.0,10.0,12.0,12.0,14.0,14.0,16.0,16.0,18.0,18.0,20.0,20.0,22.0,22.0,24.0,24.0,26.0,26.0,28.0,28.0,30.0,30.0,32.0,32.0,34.0,34.0,36.0,36.0,38.0,38.0,40.0,40.0,42.0,42.0,44.0,44.0,46.0,46.0,48.0,48.0,50.0,50.0,52.0,52.0,54.0,54.0,56.0,56.0,58.0,58.0,60.0,60.0,62.0,62.0,64.0,64.0,66.0,66.0,68.0,68.0,70.0,70.0,72.0,72.0,74.0,74.0,76.0],\"yaxis\":\"y\",\"type\":\"bar\"},{\"alignmentgroup\":\"True\",\"hovertemplate\":\"variable=#Out<br>Time=%{x}<br>value=%{y}<extra></extra>\",\"legendgroup\":\"#Out\",\"marker\":{\"color\":\"#EF553B\",\"pattern\":{\"shape\":\"\"}},\"name\":\"#Out\",\"offsetgroup\":\"#Out\",\"orientation\":\"v\",\"showlegend\":true,\"textposition\":\"auto\",\"x\":[0.0,1.0,2.0,3.0,4.0,5.0,6.0,7.0,8.0,9.0,10.0,11.0,12.0,13.0,14.0,15.0,16.0,17.0,18.0,19.0,20.0,21.0,22.0,23.0,24.0,25.0,26.0,27.0,28.0,29.0,30.0,31.0,32.0,33.0,34.0,35.0,36.0,37.0,38.0,39.0,40.0,41.0,42.0,43.0,44.0,45.0,46.0,47.0,48.0,49.0,50.0,51.0,52.0,53.0,54.0,55.0,56.0,57.0,58.0,59.0,60.0,61.0,62.0,63.0,64.0,65.0,66.0,67.0,68.0,69.0,70.0,71.0,72.0,73.0,74.0],\"xaxis\":\"x\",\"y\":[0.0,0.0,0.0,0.0,0.0,0.0,0.0,0.0,0.0,0.0,0.0,0.0,0.0,0.0,0.0,0.0,0.0,0.0,0.0,0.0,0.0,0.0,0.0,0.0,0.0,0.0,0.0,0.0,0.0,0.0,0.0,0.0,0.0,0.0,0.0,0.0,0.0,0.0,0.0,0.0,0.0,0.0,0.0,0.0,0.0,0.0,0.0,0.0,0.0,0.0,0.0,0.0,0.0,0.0,0.0,0.0,0.0,0.0,0.0,0.0,0.0,0.0,0.0,0.0,0.0,0.0,0.0,0.0,0.0,0.0,0.0,0.0,0.0,0.0,0.0],\"yaxis\":\"y\",\"type\":\"bar\"}],                        {\"template\":{\"data\":{\"histogram2dcontour\":[{\"type\":\"histogram2dcontour\",\"colorbar\":{\"outlinewidth\":0,\"ticks\":\"\"},\"colorscale\":[[0.0,\"#0d0887\"],[0.1111111111111111,\"#46039f\"],[0.2222222222222222,\"#7201a8\"],[0.3333333333333333,\"#9c179e\"],[0.4444444444444444,\"#bd3786\"],[0.5555555555555556,\"#d8576b\"],[0.6666666666666666,\"#ed7953\"],[0.7777777777777778,\"#fb9f3a\"],[0.8888888888888888,\"#fdca26\"],[1.0,\"#f0f921\"]]}],\"choropleth\":[{\"type\":\"choropleth\",\"colorbar\":{\"outlinewidth\":0,\"ticks\":\"\"}}],\"histogram2d\":[{\"type\":\"histogram2d\",\"colorbar\":{\"outlinewidth\":0,\"ticks\":\"\"},\"colorscale\":[[0.0,\"#0d0887\"],[0.1111111111111111,\"#46039f\"],[0.2222222222222222,\"#7201a8\"],[0.3333333333333333,\"#9c179e\"],[0.4444444444444444,\"#bd3786\"],[0.5555555555555556,\"#d8576b\"],[0.6666666666666666,\"#ed7953\"],[0.7777777777777778,\"#fb9f3a\"],[0.8888888888888888,\"#fdca26\"],[1.0,\"#f0f921\"]]}],\"heatmap\":[{\"type\":\"heatmap\",\"colorbar\":{\"outlinewidth\":0,\"ticks\":\"\"},\"colorscale\":[[0.0,\"#0d0887\"],[0.1111111111111111,\"#46039f\"],[0.2222222222222222,\"#7201a8\"],[0.3333333333333333,\"#9c179e\"],[0.4444444444444444,\"#bd3786\"],[0.5555555555555556,\"#d8576b\"],[0.6666666666666666,\"#ed7953\"],[0.7777777777777778,\"#fb9f3a\"],[0.8888888888888888,\"#fdca26\"],[1.0,\"#f0f921\"]]}],\"heatmapgl\":[{\"type\":\"heatmapgl\",\"colorbar\":{\"outlinewidth\":0,\"ticks\":\"\"},\"colorscale\":[[0.0,\"#0d0887\"],[0.1111111111111111,\"#46039f\"],[0.2222222222222222,\"#7201a8\"],[0.3333333333333333,\"#9c179e\"],[0.4444444444444444,\"#bd3786\"],[0.5555555555555556,\"#d8576b\"],[0.6666666666666666,\"#ed7953\"],[0.7777777777777778,\"#fb9f3a\"],[0.8888888888888888,\"#fdca26\"],[1.0,\"#f0f921\"]]}],\"contourcarpet\":[{\"type\":\"contourcarpet\",\"colorbar\":{\"outlinewidth\":0,\"ticks\":\"\"}}],\"contour\":[{\"type\":\"contour\",\"colorbar\":{\"outlinewidth\":0,\"ticks\":\"\"},\"colorscale\":[[0.0,\"#0d0887\"],[0.1111111111111111,\"#46039f\"],[0.2222222222222222,\"#7201a8\"],[0.3333333333333333,\"#9c179e\"],[0.4444444444444444,\"#bd3786\"],[0.5555555555555556,\"#d8576b\"],[0.6666666666666666,\"#ed7953\"],[0.7777777777777778,\"#fb9f3a\"],[0.8888888888888888,\"#fdca26\"],[1.0,\"#f0f921\"]]}],\"surface\":[{\"type\":\"surface\",\"colorbar\":{\"outlinewidth\":0,\"ticks\":\"\"},\"colorscale\":[[0.0,\"#0d0887\"],[0.1111111111111111,\"#46039f\"],[0.2222222222222222,\"#7201a8\"],[0.3333333333333333,\"#9c179e\"],[0.4444444444444444,\"#bd3786\"],[0.5555555555555556,\"#d8576b\"],[0.6666666666666666,\"#ed7953\"],[0.7777777777777778,\"#fb9f3a\"],[0.8888888888888888,\"#fdca26\"],[1.0,\"#f0f921\"]]}],\"mesh3d\":[{\"type\":\"mesh3d\",\"colorbar\":{\"outlinewidth\":0,\"ticks\":\"\"}}],\"scatter\":[{\"fillpattern\":{\"fillmode\":\"overlay\",\"size\":10,\"solidity\":0.2},\"type\":\"scatter\"}],\"parcoords\":[{\"type\":\"parcoords\",\"line\":{\"colorbar\":{\"outlinewidth\":0,\"ticks\":\"\"}}}],\"scatterpolargl\":[{\"type\":\"scatterpolargl\",\"marker\":{\"colorbar\":{\"outlinewidth\":0,\"ticks\":\"\"}}}],\"bar\":[{\"error_x\":{\"color\":\"#2a3f5f\"},\"error_y\":{\"color\":\"#2a3f5f\"},\"marker\":{\"line\":{\"color\":\"#E5ECF6\",\"width\":0.5},\"pattern\":{\"fillmode\":\"overlay\",\"size\":10,\"solidity\":0.2}},\"type\":\"bar\"}],\"scattergeo\":[{\"type\":\"scattergeo\",\"marker\":{\"colorbar\":{\"outlinewidth\":0,\"ticks\":\"\"}}}],\"scatterpolar\":[{\"type\":\"scatterpolar\",\"marker\":{\"colorbar\":{\"outlinewidth\":0,\"ticks\":\"\"}}}],\"histogram\":[{\"marker\":{\"pattern\":{\"fillmode\":\"overlay\",\"size\":10,\"solidity\":0.2}},\"type\":\"histogram\"}],\"scattergl\":[{\"type\":\"scattergl\",\"marker\":{\"colorbar\":{\"outlinewidth\":0,\"ticks\":\"\"}}}],\"scatter3d\":[{\"type\":\"scatter3d\",\"line\":{\"colorbar\":{\"outlinewidth\":0,\"ticks\":\"\"}},\"marker\":{\"colorbar\":{\"outlinewidth\":0,\"ticks\":\"\"}}}],\"scattermapbox\":[{\"type\":\"scattermapbox\",\"marker\":{\"colorbar\":{\"outlinewidth\":0,\"ticks\":\"\"}}}],\"scatterternary\":[{\"type\":\"scatterternary\",\"marker\":{\"colorbar\":{\"outlinewidth\":0,\"ticks\":\"\"}}}],\"scattercarpet\":[{\"type\":\"scattercarpet\",\"marker\":{\"colorbar\":{\"outlinewidth\":0,\"ticks\":\"\"}}}],\"carpet\":[{\"aaxis\":{\"endlinecolor\":\"#2a3f5f\",\"gridcolor\":\"white\",\"linecolor\":\"white\",\"minorgridcolor\":\"white\",\"startlinecolor\":\"#2a3f5f\"},\"baxis\":{\"endlinecolor\":\"#2a3f5f\",\"gridcolor\":\"white\",\"linecolor\":\"white\",\"minorgridcolor\":\"white\",\"startlinecolor\":\"#2a3f5f\"},\"type\":\"carpet\"}],\"table\":[{\"cells\":{\"fill\":{\"color\":\"#EBF0F8\"},\"line\":{\"color\":\"white\"}},\"header\":{\"fill\":{\"color\":\"#C8D4E3\"},\"line\":{\"color\":\"white\"}},\"type\":\"table\"}],\"barpolar\":[{\"marker\":{\"line\":{\"color\":\"#E5ECF6\",\"width\":0.5},\"pattern\":{\"fillmode\":\"overlay\",\"size\":10,\"solidity\":0.2}},\"type\":\"barpolar\"}],\"pie\":[{\"automargin\":true,\"type\":\"pie\"}]},\"layout\":{\"autotypenumbers\":\"strict\",\"colorway\":[\"#636efa\",\"#EF553B\",\"#00cc96\",\"#ab63fa\",\"#FFA15A\",\"#19d3f3\",\"#FF6692\",\"#B6E880\",\"#FF97FF\",\"#FECB52\"],\"font\":{\"color\":\"#2a3f5f\"},\"hovermode\":\"closest\",\"hoverlabel\":{\"align\":\"left\"},\"paper_bgcolor\":\"white\",\"plot_bgcolor\":\"#E5ECF6\",\"polar\":{\"bgcolor\":\"#E5ECF6\",\"angularaxis\":{\"gridcolor\":\"white\",\"linecolor\":\"white\",\"ticks\":\"\"},\"radialaxis\":{\"gridcolor\":\"white\",\"linecolor\":\"white\",\"ticks\":\"\"}},\"ternary\":{\"bgcolor\":\"#E5ECF6\",\"aaxis\":{\"gridcolor\":\"white\",\"linecolor\":\"white\",\"ticks\":\"\"},\"baxis\":{\"gridcolor\":\"white\",\"linecolor\":\"white\",\"ticks\":\"\"},\"caxis\":{\"gridcolor\":\"white\",\"linecolor\":\"white\",\"ticks\":\"\"}},\"coloraxis\":{\"colorbar\":{\"outlinewidth\":0,\"ticks\":\"\"}},\"colorscale\":{\"sequential\":[[0.0,\"#0d0887\"],[0.1111111111111111,\"#46039f\"],[0.2222222222222222,\"#7201a8\"],[0.3333333333333333,\"#9c179e\"],[0.4444444444444444,\"#bd3786\"],[0.5555555555555556,\"#d8576b\"],[0.6666666666666666,\"#ed7953\"],[0.7777777777777778,\"#fb9f3a\"],[0.8888888888888888,\"#fdca26\"],[1.0,\"#f0f921\"]],\"sequentialminus\":[[0.0,\"#0d0887\"],[0.1111111111111111,\"#46039f\"],[0.2222222222222222,\"#7201a8\"],[0.3333333333333333,\"#9c179e\"],[0.4444444444444444,\"#bd3786\"],[0.5555555555555556,\"#d8576b\"],[0.6666666666666666,\"#ed7953\"],[0.7777777777777778,\"#fb9f3a\"],[0.8888888888888888,\"#fdca26\"],[1.0,\"#f0f921\"]],\"diverging\":[[0,\"#8e0152\"],[0.1,\"#c51b7d\"],[0.2,\"#de77ae\"],[0.3,\"#f1b6da\"],[0.4,\"#fde0ef\"],[0.5,\"#f7f7f7\"],[0.6,\"#e6f5d0\"],[0.7,\"#b8e186\"],[0.8,\"#7fbc41\"],[0.9,\"#4d9221\"],[1,\"#276419\"]]},\"xaxis\":{\"gridcolor\":\"white\",\"linecolor\":\"white\",\"ticks\":\"\",\"title\":{\"standoff\":15},\"zerolinecolor\":\"white\",\"automargin\":true,\"zerolinewidth\":2},\"yaxis\":{\"gridcolor\":\"white\",\"linecolor\":\"white\",\"ticks\":\"\",\"title\":{\"standoff\":15},\"zerolinecolor\":\"white\",\"automargin\":true,\"zerolinewidth\":2},\"scene\":{\"xaxis\":{\"backgroundcolor\":\"#E5ECF6\",\"gridcolor\":\"white\",\"linecolor\":\"white\",\"showbackground\":true,\"ticks\":\"\",\"zerolinecolor\":\"white\",\"gridwidth\":2},\"yaxis\":{\"backgroundcolor\":\"#E5ECF6\",\"gridcolor\":\"white\",\"linecolor\":\"white\",\"showbackground\":true,\"ticks\":\"\",\"zerolinecolor\":\"white\",\"gridwidth\":2},\"zaxis\":{\"backgroundcolor\":\"#E5ECF6\",\"gridcolor\":\"white\",\"linecolor\":\"white\",\"showbackground\":true,\"ticks\":\"\",\"zerolinecolor\":\"white\",\"gridwidth\":2}},\"shapedefaults\":{\"line\":{\"color\":\"#2a3f5f\"}},\"annotationdefaults\":{\"arrowcolor\":\"#2a3f5f\",\"arrowhead\":0,\"arrowwidth\":1},\"geo\":{\"bgcolor\":\"white\",\"landcolor\":\"#E5ECF6\",\"subunitcolor\":\"white\",\"showland\":true,\"showlakes\":true,\"lakecolor\":\"white\"},\"title\":{\"x\":0.05},\"mapbox\":{\"style\":\"light\"}}},\"xaxis\":{\"anchor\":\"y\",\"domain\":[0.0,1.0],\"title\":{\"text\":\"Time\"}},\"yaxis\":{\"anchor\":\"x\",\"domain\":[0.0,1.0],\"title\":{\"text\":\"#Robots\"}},\"legend\":{\"title\":{\"text\":\"variable\"},\"tracegroupgap\":0},\"title\":{\"text\":\"CHE - Habitat over Time\"},\"barmode\":\"relative\",\"hovermode\":\"x\"},                        {\"responsive\": true}                    ).then(function(){\n",
       "                            \n",
       "var gd = document.getElementById('4e70d2e9-4817-4869-b187-2af2ff7b73d3');\n",
       "var x = new MutationObserver(function (mutations, observer) {{\n",
       "        var display = window.getComputedStyle(gd).display;\n",
       "        if (!display || display === 'none') {{\n",
       "            console.log([gd, 'removed!']);\n",
       "            Plotly.purge(gd);\n",
       "            observer.disconnect();\n",
       "        }}\n",
       "}});\n",
       "\n",
       "// Listen for the removal of the full notebook cells\n",
       "var notebookContainer = gd.closest('#notebook-container');\n",
       "if (notebookContainer) {{\n",
       "    x.observe(notebookContainer, {childList: true});\n",
       "}}\n",
       "\n",
       "// Listen for the clearing of the current output cell\n",
       "var outputEl = gd.closest('.output');\n",
       "if (outputEl) {{\n",
       "    x.observe(outputEl, {childList: true});\n",
       "}}\n",
       "\n",
       "                        })                };                });            </script>        </div>"
      ]
     },
     "metadata": {},
     "output_type": "display_data"
    },
    {
     "data": {
      "application/vnd.plotly.v1+json": {
       "config": {
        "plotlyServerURL": "https://plotly.com"
       },
       "data": [
        {
         "name": "#Replicator",
         "type": "bar",
         "x": [
          0,
          1,
          2,
          3,
          4,
          5,
          6,
          7,
          8,
          9,
          10,
          11,
          12,
          13,
          14,
          15,
          16,
          17,
          18,
          19,
          20,
          21,
          22,
          23,
          24,
          25,
          26,
          27,
          28,
          29,
          30,
          31,
          32,
          33,
          34,
          35,
          36,
          37,
          38,
          39,
          40,
          41,
          42,
          43,
          44,
          45,
          46,
          47,
          48,
          49,
          50,
          51,
          52,
          53,
          54,
          55,
          56,
          57,
          58,
          59,
          60,
          61,
          62,
          63,
          64,
          65,
          66,
          67,
          68,
          69,
          70,
          71,
          72,
          73,
          74
         ],
         "xaxis": "x",
         "y": [
          0,
          0,
          0,
          0,
          0,
          0,
          0,
          0,
          0,
          0,
          0,
          0,
          0,
          0,
          0,
          0,
          0,
          0,
          0,
          0,
          0,
          0,
          0,
          0,
          0,
          0,
          0,
          0,
          0,
          0,
          0,
          0,
          0,
          0,
          0,
          0,
          0,
          0,
          0,
          0,
          0,
          0,
          0,
          0,
          0,
          0,
          0,
          0,
          0,
          0,
          0,
          0,
          0,
          0,
          0,
          0,
          0,
          0,
          0,
          0,
          0,
          0,
          0,
          0,
          0,
          0,
          0,
          0,
          0,
          0,
          0,
          0,
          0,
          0,
          0
         ],
         "yaxis": "y"
        },
        {
         "name": "#Normal",
         "type": "bar",
         "x": [
          0,
          1,
          2,
          3,
          4,
          5,
          6,
          7,
          8,
          9,
          10,
          11,
          12,
          13,
          14,
          15,
          16,
          17,
          18,
          19,
          20,
          21,
          22,
          23,
          24,
          25,
          26,
          27,
          28,
          29,
          30,
          31,
          32,
          33,
          34,
          35,
          36,
          37,
          38,
          39,
          40,
          41,
          42,
          43,
          44,
          45,
          46,
          47,
          48,
          49,
          50,
          51,
          52,
          53,
          54,
          55,
          56,
          57,
          58,
          59,
          60,
          61,
          62,
          63,
          64,
          65,
          66,
          67,
          68,
          69,
          70,
          71,
          72,
          73,
          74
         ],
         "xaxis": "x",
         "y": [
          0,
          0,
          2,
          2,
          4,
          4,
          6,
          6,
          8,
          8,
          10,
          10,
          12,
          12,
          14,
          14,
          16,
          16,
          18,
          18,
          20,
          20,
          22,
          22,
          24,
          24,
          26,
          26,
          28,
          28,
          30,
          30,
          32,
          32,
          34,
          34,
          36,
          36,
          38,
          38,
          40,
          40,
          42,
          42,
          44,
          44,
          46,
          46,
          48,
          48,
          50,
          50,
          52,
          52,
          54,
          54,
          56,
          56,
          58,
          58,
          60,
          60,
          62,
          62,
          64,
          64,
          66,
          66,
          68,
          68,
          70,
          70,
          72,
          72,
          74
         ],
         "yaxis": "y"
        },
        {
         "name": "#Assembler",
         "type": "bar",
         "x": [
          0,
          1,
          2,
          3,
          4,
          5,
          6,
          7,
          8,
          9,
          10,
          11,
          12,
          13,
          14,
          15,
          16,
          17,
          18,
          19,
          20,
          21,
          22,
          23,
          24,
          25,
          26,
          27,
          28,
          29,
          30,
          31,
          32,
          33,
          34,
          35,
          36,
          37,
          38,
          39,
          40,
          41,
          42,
          43,
          44,
          45,
          46,
          47,
          48,
          49,
          50,
          51,
          52,
          53,
          54,
          55,
          56,
          57,
          58,
          59,
          60,
          61,
          62,
          63,
          64,
          65,
          66,
          67,
          68,
          69,
          70,
          71,
          72,
          73,
          74
         ],
         "xaxis": "x",
         "y": [
          1,
          1,
          1,
          1,
          1,
          1,
          1,
          1,
          1,
          1,
          1,
          1,
          1,
          1,
          1,
          1,
          1,
          1,
          1,
          1,
          1,
          1,
          1,
          1,
          1,
          1,
          1,
          1,
          1,
          1,
          1,
          1,
          1,
          1,
          1,
          1,
          1,
          1,
          1,
          1,
          1,
          1,
          1,
          1,
          1,
          1,
          1,
          1,
          1,
          1,
          1,
          1,
          1,
          1,
          1,
          1,
          1,
          1,
          1,
          1,
          1,
          1,
          1,
          1,
          1,
          1,
          1,
          1,
          1,
          1,
          1,
          1,
          1,
          1,
          1
         ],
         "yaxis": "y"
        },
        {
         "name": "#Printer",
         "type": "bar",
         "x": [
          0,
          1,
          2,
          3,
          4,
          5,
          6,
          7,
          8,
          9,
          10,
          11,
          12,
          13,
          14,
          15,
          16,
          17,
          18,
          19,
          20,
          21,
          22,
          23,
          24,
          25,
          26,
          27,
          28,
          29,
          30,
          31,
          32,
          33,
          34,
          35,
          36,
          37,
          38,
          39,
          40,
          41,
          42,
          43,
          44,
          45,
          46,
          47,
          48,
          49,
          50,
          51,
          52,
          53,
          54,
          55,
          56,
          57,
          58,
          59,
          60,
          61,
          62,
          63,
          64,
          65,
          66,
          67,
          68,
          69,
          70,
          71,
          72,
          73,
          74
         ],
         "xaxis": "x",
         "y": [
          1,
          1,
          1,
          1,
          1,
          1,
          1,
          1,
          1,
          1,
          1,
          1,
          1,
          1,
          1,
          1,
          1,
          1,
          1,
          1,
          1,
          1,
          1,
          1,
          1,
          1,
          1,
          1,
          1,
          1,
          1,
          1,
          1,
          1,
          1,
          1,
          1,
          1,
          1,
          1,
          1,
          1,
          1,
          1,
          1,
          1,
          1,
          1,
          1,
          1,
          1,
          1,
          1,
          1,
          1,
          1,
          1,
          1,
          1,
          1,
          1,
          1,
          1,
          1,
          1,
          1,
          1,
          1,
          1,
          1,
          1,
          1,
          1,
          1,
          1
         ],
         "yaxis": "y"
        },
        {
         "name": "#Assembling",
         "type": "bar",
         "x": [
          0,
          1,
          2,
          3,
          4,
          5,
          6,
          7,
          8,
          9,
          10,
          11,
          12,
          13,
          14,
          15,
          16,
          17,
          18,
          19,
          20,
          21,
          22,
          23,
          24,
          25,
          26,
          27,
          28,
          29,
          30,
          31,
          32,
          33,
          34,
          35,
          36,
          37,
          38,
          39,
          40,
          41,
          42,
          43,
          44,
          45,
          46,
          47,
          48,
          49,
          50,
          51,
          52,
          53,
          54,
          55,
          56,
          57,
          58,
          59,
          60,
          61,
          62,
          63,
          64,
          65,
          66,
          67,
          68,
          69,
          70,
          71,
          72,
          73,
          74
         ],
         "xaxis": "x3",
         "y": [
          1,
          1,
          1,
          1,
          1,
          1,
          1,
          1,
          1,
          1,
          1,
          1,
          1,
          1,
          1,
          1,
          1,
          1,
          1,
          1,
          1,
          1,
          1,
          1,
          1,
          1,
          1,
          1,
          1,
          1,
          1,
          1,
          1,
          1,
          1,
          1,
          1,
          1,
          1,
          1,
          1,
          1,
          1,
          1,
          1,
          1,
          1,
          1,
          1,
          1,
          1,
          1,
          1,
          1,
          1,
          1,
          1,
          1,
          1,
          1,
          1,
          1,
          1,
          1,
          1,
          1,
          1,
          1,
          1,
          1,
          1,
          1,
          1,
          1,
          1
         ],
         "yaxis": "y3"
        },
        {
         "name": "#Printing",
         "type": "bar",
         "x": [
          0,
          1,
          2,
          3,
          4,
          5,
          6,
          7,
          8,
          9,
          10,
          11,
          12,
          13,
          14,
          15,
          16,
          17,
          18,
          19,
          20,
          21,
          22,
          23,
          24,
          25,
          26,
          27,
          28,
          29,
          30,
          31,
          32,
          33,
          34,
          35,
          36,
          37,
          38,
          39,
          40,
          41,
          42,
          43,
          44,
          45,
          46,
          47,
          48,
          49,
          50,
          51,
          52,
          53,
          54,
          55,
          56,
          57,
          58,
          59,
          60,
          61,
          62,
          63,
          64,
          65,
          66,
          67,
          68,
          69,
          70,
          71,
          72,
          73,
          74
         ],
         "xaxis": "x3",
         "y": [
          1,
          1,
          1,
          1,
          1,
          1,
          1,
          1,
          1,
          1,
          1,
          1,
          1,
          1,
          1,
          1,
          1,
          1,
          1,
          1,
          1,
          1,
          1,
          1,
          1,
          1,
          1,
          1,
          1,
          1,
          1,
          1,
          1,
          1,
          1,
          1,
          1,
          1,
          1,
          1,
          1,
          1,
          1,
          1,
          1,
          1,
          1,
          1,
          1,
          1,
          1,
          1,
          1,
          1,
          1,
          1,
          1,
          1,
          1,
          1,
          1,
          1,
          1,
          1,
          1,
          1,
          1,
          1,
          1,
          1,
          1,
          1,
          1,
          1,
          1
         ],
         "yaxis": "y3"
        },
        {
         "name": "#Collecting",
         "type": "bar",
         "x": [
          0,
          1,
          2,
          3,
          4,
          5,
          6,
          7,
          8,
          9,
          10,
          11,
          12,
          13,
          14,
          15,
          16,
          17,
          18,
          19,
          20,
          21,
          22,
          23,
          24,
          25,
          26,
          27,
          28,
          29,
          30,
          31,
          32,
          33,
          34,
          35,
          36,
          37,
          38,
          39,
          40,
          41,
          42,
          43,
          44,
          45,
          46,
          47,
          48,
          49,
          50,
          51,
          52,
          53,
          54,
          55,
          56,
          57,
          58,
          59,
          60,
          61,
          62,
          63,
          64,
          65,
          66,
          67,
          68,
          69,
          70,
          71,
          72,
          73,
          74
         ],
         "xaxis": "x3",
         "y": [
          0,
          0,
          2,
          2,
          4,
          4,
          6,
          6,
          8,
          8,
          10,
          10,
          12,
          12,
          14,
          14,
          16,
          16,
          18,
          18,
          20,
          20,
          22,
          22,
          24,
          24,
          26,
          26,
          28,
          28,
          30,
          30,
          32,
          4,
          0,
          0,
          0,
          0,
          0,
          0,
          0,
          0,
          0,
          0,
          0,
          0,
          0,
          0,
          0,
          0,
          0,
          0,
          0,
          0,
          0,
          0,
          0,
          0,
          0,
          0,
          0,
          0,
          0,
          0,
          0,
          0,
          0,
          0,
          0,
          0,
          0,
          0,
          0,
          0,
          0
         ],
         "yaxis": "y3"
        },
        {
         "name": "#Idle",
         "type": "bar",
         "x": [
          0,
          1,
          2,
          3,
          4,
          5,
          6,
          7,
          8,
          9,
          10,
          11,
          12,
          13,
          14,
          15,
          16,
          17,
          18,
          19,
          20,
          21,
          22,
          23,
          24,
          25,
          26,
          27,
          28,
          29,
          30,
          31,
          32,
          33,
          34,
          35,
          36,
          37,
          38,
          39,
          40,
          41,
          42,
          43,
          44,
          45,
          46,
          47,
          48,
          49,
          50,
          51,
          52,
          53,
          54,
          55,
          56,
          57,
          58,
          59,
          60,
          61,
          62,
          63,
          64,
          65,
          66,
          67,
          68,
          69,
          70,
          71,
          72,
          73,
          74
         ],
         "xaxis": "x3",
         "y": [
          0,
          0,
          0,
          0,
          0,
          0,
          0,
          0,
          0,
          0,
          0,
          0,
          0,
          0,
          0,
          0,
          0,
          0,
          0,
          0,
          0,
          0,
          0,
          0,
          0,
          0,
          0,
          0,
          0,
          0,
          0,
          0,
          0,
          28,
          34,
          34,
          36,
          36,
          38,
          38,
          40,
          40,
          42,
          42,
          44,
          44,
          46,
          46,
          48,
          48,
          50,
          50,
          52,
          52,
          54,
          54,
          56,
          56,
          58,
          58,
          60,
          60,
          62,
          62,
          64,
          64,
          66,
          66,
          68,
          68,
          70,
          70,
          72,
          72,
          74
         ],
         "yaxis": "y3"
        },
        {
         "mode": "lines",
         "name": "NonPr",
         "type": "scatter",
         "x": [
          0,
          1,
          2,
          3,
          4,
          5,
          6,
          7,
          8,
          9,
          10,
          11,
          12,
          13,
          14,
          15,
          16,
          17,
          18,
          19,
          20,
          21,
          22,
          23,
          24,
          25,
          26,
          27,
          28,
          29,
          30,
          31,
          32,
          33,
          34,
          35,
          36,
          37,
          38,
          39,
          40,
          41,
          42,
          43,
          44,
          45,
          46,
          47,
          48,
          49,
          50,
          51,
          52,
          53,
          54,
          55,
          56,
          57,
          58,
          59,
          60,
          61,
          62,
          63,
          64,
          65,
          66,
          67,
          68,
          69,
          70,
          71,
          72,
          73,
          74
         ],
         "xaxis": "x2",
         "y": [
          299,
          299,
          298,
          298,
          297,
          297,
          296,
          296,
          295,
          295,
          294,
          294,
          293,
          293,
          292,
          292,
          291,
          291,
          290,
          290,
          289,
          289,
          288,
          288,
          287,
          287,
          286,
          286,
          285,
          285,
          284,
          284,
          283,
          283,
          282,
          282,
          281,
          281,
          280,
          280,
          279,
          279,
          278,
          278,
          277,
          277,
          276,
          276,
          275,
          275,
          274,
          274,
          273,
          273,
          272,
          272,
          271,
          271,
          270,
          270,
          269,
          269,
          268,
          268,
          267,
          267,
          266,
          266,
          265,
          265,
          264,
          264,
          263,
          263,
          262
         ],
         "yaxis": "y2"
        },
        {
         "mode": "lines",
         "name": "Printable",
         "type": "scatter",
         "x": [
          0,
          1,
          2,
          3,
          4,
          5,
          6,
          7,
          8,
          9,
          10,
          11,
          12,
          13,
          14,
          15,
          16,
          17,
          18,
          19,
          20,
          21,
          22,
          23,
          24,
          25,
          26,
          27,
          28,
          29,
          30,
          31,
          32,
          33,
          34,
          35,
          36,
          37,
          38,
          39,
          40,
          41,
          42,
          43,
          44,
          45,
          46,
          47,
          48,
          49,
          50,
          51,
          52,
          53,
          54,
          55,
          56,
          57,
          58,
          59,
          60,
          61,
          62,
          63,
          64,
          65,
          66,
          67,
          68,
          69,
          70,
          71,
          72,
          73,
          74
         ],
         "xaxis": "x2",
         "y": [
          99,
          99,
          98,
          98,
          97,
          97,
          96,
          96,
          95,
          95,
          94,
          94,
          93,
          93,
          92,
          92,
          91,
          91,
          90,
          90,
          89,
          89,
          88,
          88,
          87,
          87,
          86,
          86,
          85,
          85,
          84,
          84,
          83,
          83,
          82,
          82,
          81,
          81,
          80,
          80,
          79,
          79,
          78,
          78,
          77,
          77,
          76,
          76,
          75,
          75,
          74,
          74,
          73,
          73,
          72,
          72,
          71,
          71,
          70,
          70,
          69,
          69,
          68,
          68,
          67,
          67,
          66,
          66,
          65,
          65,
          64,
          64,
          63,
          63,
          62
         ],
         "yaxis": "y2"
        },
        {
         "mode": "lines",
         "name": "Materials",
         "type": "scatter",
         "x": [
          0,
          1,
          2,
          3,
          4,
          5,
          6,
          7,
          8,
          9,
          10,
          11,
          12,
          13,
          14,
          15,
          16,
          17,
          18,
          19,
          20,
          21,
          22,
          23,
          24,
          25,
          26,
          27,
          28,
          29,
          30,
          31,
          32,
          33,
          34,
          35,
          36,
          37,
          38,
          39,
          40,
          41,
          42,
          43,
          44,
          45,
          46,
          47,
          48,
          49,
          50,
          51,
          52,
          53,
          54,
          55,
          56,
          57,
          58,
          59,
          60,
          61,
          62,
          63,
          64,
          65,
          66,
          67,
          68,
          69,
          70,
          71,
          72,
          73,
          74
         ],
         "xaxis": "x2",
         "y": [
          49,
          49,
          49,
          51,
          53,
          57,
          61,
          67,
          73,
          81,
          89,
          99,
          109,
          121,
          133,
          147,
          161,
          177,
          193,
          211,
          229,
          249,
          269,
          291,
          313,
          337,
          361,
          387,
          413,
          441,
          469,
          499,
          529,
          533,
          532,
          532,
          531,
          531,
          530,
          530,
          529,
          529,
          528,
          528,
          527,
          527,
          526,
          526,
          525,
          525,
          524,
          524,
          523,
          523,
          522,
          522,
          521,
          521,
          520,
          520,
          519,
          519,
          518,
          518,
          517,
          517,
          516,
          516,
          515,
          515,
          514,
          514,
          513,
          513,
          512
         ],
         "yaxis": "y2"
        },
        {
         "mode": "lines",
         "name": "Env_Materials",
         "type": "scatter",
         "x": [
          0,
          1,
          2,
          3,
          4,
          5,
          6,
          7,
          8,
          9,
          10,
          11,
          12,
          13,
          14,
          15,
          16,
          17,
          18,
          19,
          20,
          21,
          22,
          23,
          24,
          25,
          26,
          27,
          28,
          29,
          30,
          31,
          32,
          33,
          34,
          35,
          36,
          37,
          38,
          39,
          40,
          41,
          42,
          43,
          44,
          45,
          46,
          47,
          48,
          49,
          50,
          51,
          52,
          53,
          54,
          55,
          56,
          57,
          58,
          59,
          60,
          61,
          62,
          63,
          64,
          65,
          66,
          67,
          68,
          69,
          70,
          71,
          72,
          73,
          74
         ],
         "xaxis": "x2",
         "y": [
          500,
          500,
          499,
          497,
          494,
          490,
          485,
          479,
          472,
          464,
          455,
          445,
          434,
          422,
          409,
          395,
          380,
          364,
          347,
          329,
          310,
          290,
          269,
          247,
          224,
          200,
          175,
          149,
          122,
          94,
          65,
          35,
          4,
          0,
          0,
          0,
          0,
          0,
          0,
          0,
          0,
          0,
          0,
          0,
          0,
          0,
          0,
          0,
          0,
          0,
          0,
          0,
          0,
          0,
          0,
          0,
          0,
          0,
          0,
          0,
          0,
          0,
          0,
          0,
          0,
          0,
          0,
          0,
          0,
          0,
          0,
          0,
          0,
          0,
          0
         ],
         "yaxis": "y2"
        },
        {
         "mode": "lines",
         "name": "Avg. Quality #in",
         "type": "scatter",
         "x": [
          0,
          1,
          2,
          3,
          4,
          5,
          6,
          7,
          8,
          9,
          10,
          11,
          12,
          13,
          14,
          15,
          16,
          17,
          18,
          19,
          20,
          21,
          22,
          23,
          24,
          25,
          26,
          27,
          28,
          29,
          30,
          31,
          32,
          33,
          34,
          35,
          36,
          37,
          38,
          39,
          40,
          41,
          42,
          43,
          44,
          45,
          46,
          47,
          48,
          49,
          50,
          51,
          52,
          53,
          54,
          55,
          56,
          57,
          58,
          59,
          60,
          61,
          62,
          63,
          64,
          65,
          66,
          67,
          68,
          69,
          70,
          71,
          72,
          73,
          74
         ],
         "xaxis": "x4",
         "y": [
          0.864,
          0.864,
          0.778,
          0.778,
          0.788,
          0.788,
          0.748,
          0.748,
          0.725,
          0.725,
          0.739,
          0.739,
          0.743,
          0.743,
          0.751,
          0.751,
          0.738,
          0.738,
          0.732,
          0.732,
          0.732,
          0.732,
          0.722,
          0.722,
          0.729,
          0.729,
          0.737,
          0.737,
          0.732,
          0.732,
          0.725,
          0.725,
          0.724,
          0.724,
          0.73,
          0.73,
          0.726,
          0.726,
          0.727,
          0.727,
          0.732,
          0.732,
          0.732,
          0.732,
          0.727,
          0.727,
          0.731,
          0.731,
          0.734,
          0.734,
          0.73,
          0.73,
          0.732,
          0.732,
          0.735,
          0.735,
          0.739,
          0.739,
          0.741,
          0.741,
          0.743,
          0.743,
          0.743,
          0.743,
          0.742,
          0.742,
          0.738,
          0.738,
          0.736,
          0.736,
          0.734,
          0.734,
          0.731,
          0.731,
          0.729
         ],
         "yaxis": "y4"
        },
        {
         "mode": "lines",
         "name": "Avg. Quality #total",
         "type": "scatter",
         "x": [
          0,
          1,
          2,
          3,
          4,
          5,
          6,
          7,
          8,
          9,
          10,
          11,
          12,
          13,
          14,
          15,
          16,
          17,
          18,
          19,
          20,
          21,
          22,
          23,
          24,
          25,
          26,
          27,
          28,
          29,
          30,
          31,
          32,
          33,
          34,
          35,
          36,
          37,
          38,
          39,
          40,
          41,
          42,
          43,
          44,
          45,
          46,
          47,
          48,
          49,
          50,
          51,
          52,
          53,
          54,
          55,
          56,
          57,
          58,
          59,
          60,
          61,
          62,
          63,
          64,
          65,
          66,
          67,
          68,
          69,
          70,
          71,
          72,
          73,
          74
         ],
         "xaxis": "x4",
         "y": [
          0.864,
          0.864,
          0.778,
          0.778,
          0.788,
          0.788,
          0.748,
          0.748,
          0.725,
          0.725,
          0.739,
          0.739,
          0.743,
          0.743,
          0.751,
          0.751,
          0.738,
          0.738,
          0.732,
          0.732,
          0.732,
          0.732,
          0.722,
          0.722,
          0.729,
          0.729,
          0.737,
          0.737,
          0.732,
          0.732,
          0.725,
          0.725,
          0.724,
          0.724,
          0.73,
          0.73,
          0.726,
          0.726,
          0.727,
          0.727,
          0.732,
          0.732,
          0.732,
          0.732,
          0.727,
          0.727,
          0.731,
          0.731,
          0.734,
          0.734,
          0.73,
          0.73,
          0.732,
          0.732,
          0.735,
          0.735,
          0.739,
          0.739,
          0.741,
          0.741,
          0.743,
          0.743,
          0.743,
          0.743,
          0.742,
          0.742,
          0.738,
          0.738,
          0.736,
          0.736,
          0.734,
          0.734,
          0.731,
          0.731,
          0.729
         ],
         "yaxis": "y4"
        }
       ],
       "layout": {
        "annotations": [
         {
          "font": {
           "size": 16
          },
          "showarrow": false,
          "text": "Types of Robots vs Time",
          "x": 0.225,
          "xanchor": "center",
          "xref": "paper",
          "y": 1,
          "yanchor": "bottom",
          "yref": "paper"
         },
         {
          "font": {
           "size": 16
          },
          "showarrow": false,
          "text": "Resources vs Time",
          "x": 0.775,
          "xanchor": "center",
          "xref": "paper",
          "y": 1,
          "yanchor": "bottom",
          "yref": "paper"
         },
         {
          "font": {
           "size": 16
          },
          "showarrow": false,
          "text": "Tasks of Robots vs Time",
          "x": 0.225,
          "xanchor": "center",
          "xref": "paper",
          "y": 0.375,
          "yanchor": "bottom",
          "yref": "paper"
         },
         {
          "font": {
           "size": 16
          },
          "showarrow": false,
          "text": "Build Quality vs Time",
          "x": 0.775,
          "xanchor": "center",
          "xref": "paper",
          "y": 0.375,
          "yanchor": "bottom",
          "yref": "paper"
         }
        ],
        "hovermode": "x",
        "template": {
         "data": {
          "bar": [
           {
            "error_x": {
             "color": "#2a3f5f"
            },
            "error_y": {
             "color": "#2a3f5f"
            },
            "marker": {
             "line": {
              "color": "#E5ECF6",
              "width": 0.5
             },
             "pattern": {
              "fillmode": "overlay",
              "size": 10,
              "solidity": 0.2
             }
            },
            "type": "bar"
           }
          ],
          "barpolar": [
           {
            "marker": {
             "line": {
              "color": "#E5ECF6",
              "width": 0.5
             },
             "pattern": {
              "fillmode": "overlay",
              "size": 10,
              "solidity": 0.2
             }
            },
            "type": "barpolar"
           }
          ],
          "carpet": [
           {
            "aaxis": {
             "endlinecolor": "#2a3f5f",
             "gridcolor": "white",
             "linecolor": "white",
             "minorgridcolor": "white",
             "startlinecolor": "#2a3f5f"
            },
            "baxis": {
             "endlinecolor": "#2a3f5f",
             "gridcolor": "white",
             "linecolor": "white",
             "minorgridcolor": "white",
             "startlinecolor": "#2a3f5f"
            },
            "type": "carpet"
           }
          ],
          "choropleth": [
           {
            "colorbar": {
             "outlinewidth": 0,
             "ticks": ""
            },
            "type": "choropleth"
           }
          ],
          "contour": [
           {
            "colorbar": {
             "outlinewidth": 0,
             "ticks": ""
            },
            "colorscale": [
             [
              0,
              "#0d0887"
             ],
             [
              0.1111111111111111,
              "#46039f"
             ],
             [
              0.2222222222222222,
              "#7201a8"
             ],
             [
              0.3333333333333333,
              "#9c179e"
             ],
             [
              0.4444444444444444,
              "#bd3786"
             ],
             [
              0.5555555555555556,
              "#d8576b"
             ],
             [
              0.6666666666666666,
              "#ed7953"
             ],
             [
              0.7777777777777778,
              "#fb9f3a"
             ],
             [
              0.8888888888888888,
              "#fdca26"
             ],
             [
              1,
              "#f0f921"
             ]
            ],
            "type": "contour"
           }
          ],
          "contourcarpet": [
           {
            "colorbar": {
             "outlinewidth": 0,
             "ticks": ""
            },
            "type": "contourcarpet"
           }
          ],
          "heatmap": [
           {
            "colorbar": {
             "outlinewidth": 0,
             "ticks": ""
            },
            "colorscale": [
             [
              0,
              "#0d0887"
             ],
             [
              0.1111111111111111,
              "#46039f"
             ],
             [
              0.2222222222222222,
              "#7201a8"
             ],
             [
              0.3333333333333333,
              "#9c179e"
             ],
             [
              0.4444444444444444,
              "#bd3786"
             ],
             [
              0.5555555555555556,
              "#d8576b"
             ],
             [
              0.6666666666666666,
              "#ed7953"
             ],
             [
              0.7777777777777778,
              "#fb9f3a"
             ],
             [
              0.8888888888888888,
              "#fdca26"
             ],
             [
              1,
              "#f0f921"
             ]
            ],
            "type": "heatmap"
           }
          ],
          "heatmapgl": [
           {
            "colorbar": {
             "outlinewidth": 0,
             "ticks": ""
            },
            "colorscale": [
             [
              0,
              "#0d0887"
             ],
             [
              0.1111111111111111,
              "#46039f"
             ],
             [
              0.2222222222222222,
              "#7201a8"
             ],
             [
              0.3333333333333333,
              "#9c179e"
             ],
             [
              0.4444444444444444,
              "#bd3786"
             ],
             [
              0.5555555555555556,
              "#d8576b"
             ],
             [
              0.6666666666666666,
              "#ed7953"
             ],
             [
              0.7777777777777778,
              "#fb9f3a"
             ],
             [
              0.8888888888888888,
              "#fdca26"
             ],
             [
              1,
              "#f0f921"
             ]
            ],
            "type": "heatmapgl"
           }
          ],
          "histogram": [
           {
            "marker": {
             "pattern": {
              "fillmode": "overlay",
              "size": 10,
              "solidity": 0.2
             }
            },
            "type": "histogram"
           }
          ],
          "histogram2d": [
           {
            "colorbar": {
             "outlinewidth": 0,
             "ticks": ""
            },
            "colorscale": [
             [
              0,
              "#0d0887"
             ],
             [
              0.1111111111111111,
              "#46039f"
             ],
             [
              0.2222222222222222,
              "#7201a8"
             ],
             [
              0.3333333333333333,
              "#9c179e"
             ],
             [
              0.4444444444444444,
              "#bd3786"
             ],
             [
              0.5555555555555556,
              "#d8576b"
             ],
             [
              0.6666666666666666,
              "#ed7953"
             ],
             [
              0.7777777777777778,
              "#fb9f3a"
             ],
             [
              0.8888888888888888,
              "#fdca26"
             ],
             [
              1,
              "#f0f921"
             ]
            ],
            "type": "histogram2d"
           }
          ],
          "histogram2dcontour": [
           {
            "colorbar": {
             "outlinewidth": 0,
             "ticks": ""
            },
            "colorscale": [
             [
              0,
              "#0d0887"
             ],
             [
              0.1111111111111111,
              "#46039f"
             ],
             [
              0.2222222222222222,
              "#7201a8"
             ],
             [
              0.3333333333333333,
              "#9c179e"
             ],
             [
              0.4444444444444444,
              "#bd3786"
             ],
             [
              0.5555555555555556,
              "#d8576b"
             ],
             [
              0.6666666666666666,
              "#ed7953"
             ],
             [
              0.7777777777777778,
              "#fb9f3a"
             ],
             [
              0.8888888888888888,
              "#fdca26"
             ],
             [
              1,
              "#f0f921"
             ]
            ],
            "type": "histogram2dcontour"
           }
          ],
          "mesh3d": [
           {
            "colorbar": {
             "outlinewidth": 0,
             "ticks": ""
            },
            "type": "mesh3d"
           }
          ],
          "parcoords": [
           {
            "line": {
             "colorbar": {
              "outlinewidth": 0,
              "ticks": ""
             }
            },
            "type": "parcoords"
           }
          ],
          "pie": [
           {
            "automargin": true,
            "type": "pie"
           }
          ],
          "scatter": [
           {
            "fillpattern": {
             "fillmode": "overlay",
             "size": 10,
             "solidity": 0.2
            },
            "type": "scatter"
           }
          ],
          "scatter3d": [
           {
            "line": {
             "colorbar": {
              "outlinewidth": 0,
              "ticks": ""
             }
            },
            "marker": {
             "colorbar": {
              "outlinewidth": 0,
              "ticks": ""
             }
            },
            "type": "scatter3d"
           }
          ],
          "scattercarpet": [
           {
            "marker": {
             "colorbar": {
              "outlinewidth": 0,
              "ticks": ""
             }
            },
            "type": "scattercarpet"
           }
          ],
          "scattergeo": [
           {
            "marker": {
             "colorbar": {
              "outlinewidth": 0,
              "ticks": ""
             }
            },
            "type": "scattergeo"
           }
          ],
          "scattergl": [
           {
            "marker": {
             "colorbar": {
              "outlinewidth": 0,
              "ticks": ""
             }
            },
            "type": "scattergl"
           }
          ],
          "scattermapbox": [
           {
            "marker": {
             "colorbar": {
              "outlinewidth": 0,
              "ticks": ""
             }
            },
            "type": "scattermapbox"
           }
          ],
          "scatterpolar": [
           {
            "marker": {
             "colorbar": {
              "outlinewidth": 0,
              "ticks": ""
             }
            },
            "type": "scatterpolar"
           }
          ],
          "scatterpolargl": [
           {
            "marker": {
             "colorbar": {
              "outlinewidth": 0,
              "ticks": ""
             }
            },
            "type": "scatterpolargl"
           }
          ],
          "scatterternary": [
           {
            "marker": {
             "colorbar": {
              "outlinewidth": 0,
              "ticks": ""
             }
            },
            "type": "scatterternary"
           }
          ],
          "surface": [
           {
            "colorbar": {
             "outlinewidth": 0,
             "ticks": ""
            },
            "colorscale": [
             [
              0,
              "#0d0887"
             ],
             [
              0.1111111111111111,
              "#46039f"
             ],
             [
              0.2222222222222222,
              "#7201a8"
             ],
             [
              0.3333333333333333,
              "#9c179e"
             ],
             [
              0.4444444444444444,
              "#bd3786"
             ],
             [
              0.5555555555555556,
              "#d8576b"
             ],
             [
              0.6666666666666666,
              "#ed7953"
             ],
             [
              0.7777777777777778,
              "#fb9f3a"
             ],
             [
              0.8888888888888888,
              "#fdca26"
             ],
             [
              1,
              "#f0f921"
             ]
            ],
            "type": "surface"
           }
          ],
          "table": [
           {
            "cells": {
             "fill": {
              "color": "#EBF0F8"
             },
             "line": {
              "color": "white"
             }
            },
            "header": {
             "fill": {
              "color": "#C8D4E3"
             },
             "line": {
              "color": "white"
             }
            },
            "type": "table"
           }
          ]
         },
         "layout": {
          "annotationdefaults": {
           "arrowcolor": "#2a3f5f",
           "arrowhead": 0,
           "arrowwidth": 1
          },
          "autotypenumbers": "strict",
          "coloraxis": {
           "colorbar": {
            "outlinewidth": 0,
            "ticks": ""
           }
          },
          "colorscale": {
           "diverging": [
            [
             0,
             "#8e0152"
            ],
            [
             0.1,
             "#c51b7d"
            ],
            [
             0.2,
             "#de77ae"
            ],
            [
             0.3,
             "#f1b6da"
            ],
            [
             0.4,
             "#fde0ef"
            ],
            [
             0.5,
             "#f7f7f7"
            ],
            [
             0.6,
             "#e6f5d0"
            ],
            [
             0.7,
             "#b8e186"
            ],
            [
             0.8,
             "#7fbc41"
            ],
            [
             0.9,
             "#4d9221"
            ],
            [
             1,
             "#276419"
            ]
           ],
           "sequential": [
            [
             0,
             "#0d0887"
            ],
            [
             0.1111111111111111,
             "#46039f"
            ],
            [
             0.2222222222222222,
             "#7201a8"
            ],
            [
             0.3333333333333333,
             "#9c179e"
            ],
            [
             0.4444444444444444,
             "#bd3786"
            ],
            [
             0.5555555555555556,
             "#d8576b"
            ],
            [
             0.6666666666666666,
             "#ed7953"
            ],
            [
             0.7777777777777778,
             "#fb9f3a"
            ],
            [
             0.8888888888888888,
             "#fdca26"
            ],
            [
             1,
             "#f0f921"
            ]
           ],
           "sequentialminus": [
            [
             0,
             "#0d0887"
            ],
            [
             0.1111111111111111,
             "#46039f"
            ],
            [
             0.2222222222222222,
             "#7201a8"
            ],
            [
             0.3333333333333333,
             "#9c179e"
            ],
            [
             0.4444444444444444,
             "#bd3786"
            ],
            [
             0.5555555555555556,
             "#d8576b"
            ],
            [
             0.6666666666666666,
             "#ed7953"
            ],
            [
             0.7777777777777778,
             "#fb9f3a"
            ],
            [
             0.8888888888888888,
             "#fdca26"
            ],
            [
             1,
             "#f0f921"
            ]
           ]
          },
          "colorway": [
           "#636efa",
           "#EF553B",
           "#00cc96",
           "#ab63fa",
           "#FFA15A",
           "#19d3f3",
           "#FF6692",
           "#B6E880",
           "#FF97FF",
           "#FECB52"
          ],
          "font": {
           "color": "#2a3f5f"
          },
          "geo": {
           "bgcolor": "white",
           "lakecolor": "white",
           "landcolor": "#E5ECF6",
           "showlakes": true,
           "showland": true,
           "subunitcolor": "white"
          },
          "hoverlabel": {
           "align": "left"
          },
          "hovermode": "closest",
          "mapbox": {
           "style": "light"
          },
          "paper_bgcolor": "white",
          "plot_bgcolor": "#E5ECF6",
          "polar": {
           "angularaxis": {
            "gridcolor": "white",
            "linecolor": "white",
            "ticks": ""
           },
           "bgcolor": "#E5ECF6",
           "radialaxis": {
            "gridcolor": "white",
            "linecolor": "white",
            "ticks": ""
           }
          },
          "scene": {
           "xaxis": {
            "backgroundcolor": "#E5ECF6",
            "gridcolor": "white",
            "gridwidth": 2,
            "linecolor": "white",
            "showbackground": true,
            "ticks": "",
            "zerolinecolor": "white"
           },
           "yaxis": {
            "backgroundcolor": "#E5ECF6",
            "gridcolor": "white",
            "gridwidth": 2,
            "linecolor": "white",
            "showbackground": true,
            "ticks": "",
            "zerolinecolor": "white"
           },
           "zaxis": {
            "backgroundcolor": "#E5ECF6",
            "gridcolor": "white",
            "gridwidth": 2,
            "linecolor": "white",
            "showbackground": true,
            "ticks": "",
            "zerolinecolor": "white"
           }
          },
          "shapedefaults": {
           "line": {
            "color": "#2a3f5f"
           }
          },
          "ternary": {
           "aaxis": {
            "gridcolor": "white",
            "linecolor": "white",
            "ticks": ""
           },
           "baxis": {
            "gridcolor": "white",
            "linecolor": "white",
            "ticks": ""
           },
           "bgcolor": "#E5ECF6",
           "caxis": {
            "gridcolor": "white",
            "linecolor": "white",
            "ticks": ""
           }
          },
          "title": {
           "x": 0.05
          },
          "xaxis": {
           "automargin": true,
           "gridcolor": "white",
           "linecolor": "white",
           "ticks": "",
           "title": {
            "standoff": 15
           },
           "zerolinecolor": "white",
           "zerolinewidth": 2
          },
          "yaxis": {
           "automargin": true,
           "gridcolor": "white",
           "linecolor": "white",
           "ticks": "",
           "title": {
            "standoff": 15
           },
           "zerolinecolor": "white",
           "zerolinewidth": 2
          }
         }
        },
        "title": {
         "text": "CHE - Characteristics"
        },
        "xaxis": {
         "anchor": "y",
         "domain": [
          0,
          0.45
         ]
        },
        "xaxis2": {
         "anchor": "y2",
         "domain": [
          0.55,
          1
         ]
        },
        "xaxis3": {
         "anchor": "y3",
         "domain": [
          0,
          0.45
         ]
        },
        "xaxis4": {
         "anchor": "y4",
         "domain": [
          0.55,
          1
         ]
        },
        "yaxis": {
         "anchor": "x",
         "domain": [
          0.625,
          1
         ]
        },
        "yaxis2": {
         "anchor": "x2",
         "domain": [
          0.625,
          1
         ]
        },
        "yaxis3": {
         "anchor": "x3",
         "domain": [
          0,
          0.375
         ]
        },
        "yaxis4": {
         "anchor": "x4",
         "domain": [
          0,
          0.375
         ]
        }
       }
      },
      "text/html": [
       "<div>                            <div id=\"5049925c-916a-4eea-9f4a-0363ad57aaa6\" class=\"plotly-graph-div\" style=\"height:525px; width:100%;\"></div>            <script type=\"text/javascript\">                require([\"plotly\"], function(Plotly) {                    window.PLOTLYENV=window.PLOTLYENV || {};                                    if (document.getElementById(\"5049925c-916a-4eea-9f4a-0363ad57aaa6\")) {                    Plotly.newPlot(                        \"5049925c-916a-4eea-9f4a-0363ad57aaa6\",                        [{\"name\":\"#Replicator\",\"x\":[0.0,1.0,2.0,3.0,4.0,5.0,6.0,7.0,8.0,9.0,10.0,11.0,12.0,13.0,14.0,15.0,16.0,17.0,18.0,19.0,20.0,21.0,22.0,23.0,24.0,25.0,26.0,27.0,28.0,29.0,30.0,31.0,32.0,33.0,34.0,35.0,36.0,37.0,38.0,39.0,40.0,41.0,42.0,43.0,44.0,45.0,46.0,47.0,48.0,49.0,50.0,51.0,52.0,53.0,54.0,55.0,56.0,57.0,58.0,59.0,60.0,61.0,62.0,63.0,64.0,65.0,66.0,67.0,68.0,69.0,70.0,71.0,72.0,73.0,74.0],\"y\":[0.0,0.0,0.0,0.0,0.0,0.0,0.0,0.0,0.0,0.0,0.0,0.0,0.0,0.0,0.0,0.0,0.0,0.0,0.0,0.0,0.0,0.0,0.0,0.0,0.0,0.0,0.0,0.0,0.0,0.0,0.0,0.0,0.0,0.0,0.0,0.0,0.0,0.0,0.0,0.0,0.0,0.0,0.0,0.0,0.0,0.0,0.0,0.0,0.0,0.0,0.0,0.0,0.0,0.0,0.0,0.0,0.0,0.0,0.0,0.0,0.0,0.0,0.0,0.0,0.0,0.0,0.0,0.0,0.0,0.0,0.0,0.0,0.0,0.0,0.0],\"type\":\"bar\",\"xaxis\":\"x\",\"yaxis\":\"y\"},{\"name\":\"#Normal\",\"x\":[0.0,1.0,2.0,3.0,4.0,5.0,6.0,7.0,8.0,9.0,10.0,11.0,12.0,13.0,14.0,15.0,16.0,17.0,18.0,19.0,20.0,21.0,22.0,23.0,24.0,25.0,26.0,27.0,28.0,29.0,30.0,31.0,32.0,33.0,34.0,35.0,36.0,37.0,38.0,39.0,40.0,41.0,42.0,43.0,44.0,45.0,46.0,47.0,48.0,49.0,50.0,51.0,52.0,53.0,54.0,55.0,56.0,57.0,58.0,59.0,60.0,61.0,62.0,63.0,64.0,65.0,66.0,67.0,68.0,69.0,70.0,71.0,72.0,73.0,74.0],\"y\":[0.0,0.0,2.0,2.0,4.0,4.0,6.0,6.0,8.0,8.0,10.0,10.0,12.0,12.0,14.0,14.0,16.0,16.0,18.0,18.0,20.0,20.0,22.0,22.0,24.0,24.0,26.0,26.0,28.0,28.0,30.0,30.0,32.0,32.0,34.0,34.0,36.0,36.0,38.0,38.0,40.0,40.0,42.0,42.0,44.0,44.0,46.0,46.0,48.0,48.0,50.0,50.0,52.0,52.0,54.0,54.0,56.0,56.0,58.0,58.0,60.0,60.0,62.0,62.0,64.0,64.0,66.0,66.0,68.0,68.0,70.0,70.0,72.0,72.0,74.0],\"type\":\"bar\",\"xaxis\":\"x\",\"yaxis\":\"y\"},{\"name\":\"#Assembler\",\"x\":[0.0,1.0,2.0,3.0,4.0,5.0,6.0,7.0,8.0,9.0,10.0,11.0,12.0,13.0,14.0,15.0,16.0,17.0,18.0,19.0,20.0,21.0,22.0,23.0,24.0,25.0,26.0,27.0,28.0,29.0,30.0,31.0,32.0,33.0,34.0,35.0,36.0,37.0,38.0,39.0,40.0,41.0,42.0,43.0,44.0,45.0,46.0,47.0,48.0,49.0,50.0,51.0,52.0,53.0,54.0,55.0,56.0,57.0,58.0,59.0,60.0,61.0,62.0,63.0,64.0,65.0,66.0,67.0,68.0,69.0,70.0,71.0,72.0,73.0,74.0],\"y\":[1.0,1.0,1.0,1.0,1.0,1.0,1.0,1.0,1.0,1.0,1.0,1.0,1.0,1.0,1.0,1.0,1.0,1.0,1.0,1.0,1.0,1.0,1.0,1.0,1.0,1.0,1.0,1.0,1.0,1.0,1.0,1.0,1.0,1.0,1.0,1.0,1.0,1.0,1.0,1.0,1.0,1.0,1.0,1.0,1.0,1.0,1.0,1.0,1.0,1.0,1.0,1.0,1.0,1.0,1.0,1.0,1.0,1.0,1.0,1.0,1.0,1.0,1.0,1.0,1.0,1.0,1.0,1.0,1.0,1.0,1.0,1.0,1.0,1.0,1.0],\"type\":\"bar\",\"xaxis\":\"x\",\"yaxis\":\"y\"},{\"name\":\"#Printer\",\"x\":[0.0,1.0,2.0,3.0,4.0,5.0,6.0,7.0,8.0,9.0,10.0,11.0,12.0,13.0,14.0,15.0,16.0,17.0,18.0,19.0,20.0,21.0,22.0,23.0,24.0,25.0,26.0,27.0,28.0,29.0,30.0,31.0,32.0,33.0,34.0,35.0,36.0,37.0,38.0,39.0,40.0,41.0,42.0,43.0,44.0,45.0,46.0,47.0,48.0,49.0,50.0,51.0,52.0,53.0,54.0,55.0,56.0,57.0,58.0,59.0,60.0,61.0,62.0,63.0,64.0,65.0,66.0,67.0,68.0,69.0,70.0,71.0,72.0,73.0,74.0],\"y\":[1.0,1.0,1.0,1.0,1.0,1.0,1.0,1.0,1.0,1.0,1.0,1.0,1.0,1.0,1.0,1.0,1.0,1.0,1.0,1.0,1.0,1.0,1.0,1.0,1.0,1.0,1.0,1.0,1.0,1.0,1.0,1.0,1.0,1.0,1.0,1.0,1.0,1.0,1.0,1.0,1.0,1.0,1.0,1.0,1.0,1.0,1.0,1.0,1.0,1.0,1.0,1.0,1.0,1.0,1.0,1.0,1.0,1.0,1.0,1.0,1.0,1.0,1.0,1.0,1.0,1.0,1.0,1.0,1.0,1.0,1.0,1.0,1.0,1.0,1.0],\"type\":\"bar\",\"xaxis\":\"x\",\"yaxis\":\"y\"},{\"name\":\"#Assembling\",\"x\":[0.0,1.0,2.0,3.0,4.0,5.0,6.0,7.0,8.0,9.0,10.0,11.0,12.0,13.0,14.0,15.0,16.0,17.0,18.0,19.0,20.0,21.0,22.0,23.0,24.0,25.0,26.0,27.0,28.0,29.0,30.0,31.0,32.0,33.0,34.0,35.0,36.0,37.0,38.0,39.0,40.0,41.0,42.0,43.0,44.0,45.0,46.0,47.0,48.0,49.0,50.0,51.0,52.0,53.0,54.0,55.0,56.0,57.0,58.0,59.0,60.0,61.0,62.0,63.0,64.0,65.0,66.0,67.0,68.0,69.0,70.0,71.0,72.0,73.0,74.0],\"y\":[1.0,1.0,1.0,1.0,1.0,1.0,1.0,1.0,1.0,1.0,1.0,1.0,1.0,1.0,1.0,1.0,1.0,1.0,1.0,1.0,1.0,1.0,1.0,1.0,1.0,1.0,1.0,1.0,1.0,1.0,1.0,1.0,1.0,1.0,1.0,1.0,1.0,1.0,1.0,1.0,1.0,1.0,1.0,1.0,1.0,1.0,1.0,1.0,1.0,1.0,1.0,1.0,1.0,1.0,1.0,1.0,1.0,1.0,1.0,1.0,1.0,1.0,1.0,1.0,1.0,1.0,1.0,1.0,1.0,1.0,1.0,1.0,1.0,1.0,1.0],\"type\":\"bar\",\"xaxis\":\"x3\",\"yaxis\":\"y3\"},{\"name\":\"#Printing\",\"x\":[0.0,1.0,2.0,3.0,4.0,5.0,6.0,7.0,8.0,9.0,10.0,11.0,12.0,13.0,14.0,15.0,16.0,17.0,18.0,19.0,20.0,21.0,22.0,23.0,24.0,25.0,26.0,27.0,28.0,29.0,30.0,31.0,32.0,33.0,34.0,35.0,36.0,37.0,38.0,39.0,40.0,41.0,42.0,43.0,44.0,45.0,46.0,47.0,48.0,49.0,50.0,51.0,52.0,53.0,54.0,55.0,56.0,57.0,58.0,59.0,60.0,61.0,62.0,63.0,64.0,65.0,66.0,67.0,68.0,69.0,70.0,71.0,72.0,73.0,74.0],\"y\":[1.0,1.0,1.0,1.0,1.0,1.0,1.0,1.0,1.0,1.0,1.0,1.0,1.0,1.0,1.0,1.0,1.0,1.0,1.0,1.0,1.0,1.0,1.0,1.0,1.0,1.0,1.0,1.0,1.0,1.0,1.0,1.0,1.0,1.0,1.0,1.0,1.0,1.0,1.0,1.0,1.0,1.0,1.0,1.0,1.0,1.0,1.0,1.0,1.0,1.0,1.0,1.0,1.0,1.0,1.0,1.0,1.0,1.0,1.0,1.0,1.0,1.0,1.0,1.0,1.0,1.0,1.0,1.0,1.0,1.0,1.0,1.0,1.0,1.0,1.0],\"type\":\"bar\",\"xaxis\":\"x3\",\"yaxis\":\"y3\"},{\"name\":\"#Collecting\",\"x\":[0.0,1.0,2.0,3.0,4.0,5.0,6.0,7.0,8.0,9.0,10.0,11.0,12.0,13.0,14.0,15.0,16.0,17.0,18.0,19.0,20.0,21.0,22.0,23.0,24.0,25.0,26.0,27.0,28.0,29.0,30.0,31.0,32.0,33.0,34.0,35.0,36.0,37.0,38.0,39.0,40.0,41.0,42.0,43.0,44.0,45.0,46.0,47.0,48.0,49.0,50.0,51.0,52.0,53.0,54.0,55.0,56.0,57.0,58.0,59.0,60.0,61.0,62.0,63.0,64.0,65.0,66.0,67.0,68.0,69.0,70.0,71.0,72.0,73.0,74.0],\"y\":[0.0,0.0,2.0,2.0,4.0,4.0,6.0,6.0,8.0,8.0,10.0,10.0,12.0,12.0,14.0,14.0,16.0,16.0,18.0,18.0,20.0,20.0,22.0,22.0,24.0,24.0,26.0,26.0,28.0,28.0,30.0,30.0,32.0,4.0,0.0,0.0,0.0,0.0,0.0,0.0,0.0,0.0,0.0,0.0,0.0,0.0,0.0,0.0,0.0,0.0,0.0,0.0,0.0,0.0,0.0,0.0,0.0,0.0,0.0,0.0,0.0,0.0,0.0,0.0,0.0,0.0,0.0,0.0,0.0,0.0,0.0,0.0,0.0,0.0,0.0],\"type\":\"bar\",\"xaxis\":\"x3\",\"yaxis\":\"y3\"},{\"name\":\"#Idle\",\"x\":[0.0,1.0,2.0,3.0,4.0,5.0,6.0,7.0,8.0,9.0,10.0,11.0,12.0,13.0,14.0,15.0,16.0,17.0,18.0,19.0,20.0,21.0,22.0,23.0,24.0,25.0,26.0,27.0,28.0,29.0,30.0,31.0,32.0,33.0,34.0,35.0,36.0,37.0,38.0,39.0,40.0,41.0,42.0,43.0,44.0,45.0,46.0,47.0,48.0,49.0,50.0,51.0,52.0,53.0,54.0,55.0,56.0,57.0,58.0,59.0,60.0,61.0,62.0,63.0,64.0,65.0,66.0,67.0,68.0,69.0,70.0,71.0,72.0,73.0,74.0],\"y\":[0.0,0.0,0.0,0.0,0.0,0.0,0.0,0.0,0.0,0.0,0.0,0.0,0.0,0.0,0.0,0.0,0.0,0.0,0.0,0.0,0.0,0.0,0.0,0.0,0.0,0.0,0.0,0.0,0.0,0.0,0.0,0.0,0.0,28.0,34.0,34.0,36.0,36.0,38.0,38.0,40.0,40.0,42.0,42.0,44.0,44.0,46.0,46.0,48.0,48.0,50.0,50.0,52.0,52.0,54.0,54.0,56.0,56.0,58.0,58.0,60.0,60.0,62.0,62.0,64.0,64.0,66.0,66.0,68.0,68.0,70.0,70.0,72.0,72.0,74.0],\"type\":\"bar\",\"xaxis\":\"x3\",\"yaxis\":\"y3\"},{\"mode\":\"lines\",\"name\":\"NonPr\",\"x\":[0.0,1.0,2.0,3.0,4.0,5.0,6.0,7.0,8.0,9.0,10.0,11.0,12.0,13.0,14.0,15.0,16.0,17.0,18.0,19.0,20.0,21.0,22.0,23.0,24.0,25.0,26.0,27.0,28.0,29.0,30.0,31.0,32.0,33.0,34.0,35.0,36.0,37.0,38.0,39.0,40.0,41.0,42.0,43.0,44.0,45.0,46.0,47.0,48.0,49.0,50.0,51.0,52.0,53.0,54.0,55.0,56.0,57.0,58.0,59.0,60.0,61.0,62.0,63.0,64.0,65.0,66.0,67.0,68.0,69.0,70.0,71.0,72.0,73.0,74.0],\"y\":[299.0,299.0,298.0,298.0,297.0,297.0,296.0,296.0,295.0,295.0,294.0,294.0,293.0,293.0,292.0,292.0,291.0,291.0,290.0,290.0,289.0,289.0,288.0,288.0,287.0,287.0,286.0,286.0,285.0,285.0,284.0,284.0,283.0,283.0,282.0,282.0,281.0,281.0,280.0,280.0,279.0,279.0,278.0,278.0,277.0,277.0,276.0,276.0,275.0,275.0,274.0,274.0,273.0,273.0,272.0,272.0,271.0,271.0,270.0,270.0,269.0,269.0,268.0,268.0,267.0,267.0,266.0,266.0,265.0,265.0,264.0,264.0,263.0,263.0,262.0],\"type\":\"scatter\",\"xaxis\":\"x2\",\"yaxis\":\"y2\"},{\"mode\":\"lines\",\"name\":\"Printable\",\"x\":[0.0,1.0,2.0,3.0,4.0,5.0,6.0,7.0,8.0,9.0,10.0,11.0,12.0,13.0,14.0,15.0,16.0,17.0,18.0,19.0,20.0,21.0,22.0,23.0,24.0,25.0,26.0,27.0,28.0,29.0,30.0,31.0,32.0,33.0,34.0,35.0,36.0,37.0,38.0,39.0,40.0,41.0,42.0,43.0,44.0,45.0,46.0,47.0,48.0,49.0,50.0,51.0,52.0,53.0,54.0,55.0,56.0,57.0,58.0,59.0,60.0,61.0,62.0,63.0,64.0,65.0,66.0,67.0,68.0,69.0,70.0,71.0,72.0,73.0,74.0],\"y\":[99.0,99.0,98.0,98.0,97.0,97.0,96.0,96.0,95.0,95.0,94.0,94.0,93.0,93.0,92.0,92.0,91.0,91.0,90.0,90.0,89.0,89.0,88.0,88.0,87.0,87.0,86.0,86.0,85.0,85.0,84.0,84.0,83.0,83.0,82.0,82.0,81.0,81.0,80.0,80.0,79.0,79.0,78.0,78.0,77.0,77.0,76.0,76.0,75.0,75.0,74.0,74.0,73.0,73.0,72.0,72.0,71.0,71.0,70.0,70.0,69.0,69.0,68.0,68.0,67.0,67.0,66.0,66.0,65.0,65.0,64.0,64.0,63.0,63.0,62.0],\"type\":\"scatter\",\"xaxis\":\"x2\",\"yaxis\":\"y2\"},{\"mode\":\"lines\",\"name\":\"Materials\",\"x\":[0.0,1.0,2.0,3.0,4.0,5.0,6.0,7.0,8.0,9.0,10.0,11.0,12.0,13.0,14.0,15.0,16.0,17.0,18.0,19.0,20.0,21.0,22.0,23.0,24.0,25.0,26.0,27.0,28.0,29.0,30.0,31.0,32.0,33.0,34.0,35.0,36.0,37.0,38.0,39.0,40.0,41.0,42.0,43.0,44.0,45.0,46.0,47.0,48.0,49.0,50.0,51.0,52.0,53.0,54.0,55.0,56.0,57.0,58.0,59.0,60.0,61.0,62.0,63.0,64.0,65.0,66.0,67.0,68.0,69.0,70.0,71.0,72.0,73.0,74.0],\"y\":[49.0,49.0,49.0,51.0,53.0,57.0,61.0,67.0,73.0,81.0,89.0,99.0,109.0,121.0,133.0,147.0,161.0,177.0,193.0,211.0,229.0,249.0,269.0,291.0,313.0,337.0,361.0,387.0,413.0,441.0,469.0,499.0,529.0,533.0,532.0,532.0,531.0,531.0,530.0,530.0,529.0,529.0,528.0,528.0,527.0,527.0,526.0,526.0,525.0,525.0,524.0,524.0,523.0,523.0,522.0,522.0,521.0,521.0,520.0,520.0,519.0,519.0,518.0,518.0,517.0,517.0,516.0,516.0,515.0,515.0,514.0,514.0,513.0,513.0,512.0],\"type\":\"scatter\",\"xaxis\":\"x2\",\"yaxis\":\"y2\"},{\"mode\":\"lines\",\"name\":\"Env_Materials\",\"x\":[0.0,1.0,2.0,3.0,4.0,5.0,6.0,7.0,8.0,9.0,10.0,11.0,12.0,13.0,14.0,15.0,16.0,17.0,18.0,19.0,20.0,21.0,22.0,23.0,24.0,25.0,26.0,27.0,28.0,29.0,30.0,31.0,32.0,33.0,34.0,35.0,36.0,37.0,38.0,39.0,40.0,41.0,42.0,43.0,44.0,45.0,46.0,47.0,48.0,49.0,50.0,51.0,52.0,53.0,54.0,55.0,56.0,57.0,58.0,59.0,60.0,61.0,62.0,63.0,64.0,65.0,66.0,67.0,68.0,69.0,70.0,71.0,72.0,73.0,74.0],\"y\":[500.0,500.0,499.0,497.0,494.0,490.0,485.0,479.0,472.0,464.0,455.0,445.0,434.0,422.0,409.0,395.0,380.0,364.0,347.0,329.0,310.0,290.0,269.0,247.0,224.0,200.0,175.0,149.0,122.0,94.0,65.0,35.0,4.0,0.0,0.0,0.0,0.0,0.0,0.0,0.0,0.0,0.0,0.0,0.0,0.0,0.0,0.0,0.0,0.0,0.0,0.0,0.0,0.0,0.0,0.0,0.0,0.0,0.0,0.0,0.0,0.0,0.0,0.0,0.0,0.0,0.0,0.0,0.0,0.0,0.0,0.0,0.0,0.0,0.0,0.0],\"type\":\"scatter\",\"xaxis\":\"x2\",\"yaxis\":\"y2\"},{\"mode\":\"lines\",\"name\":\"Avg. Quality #in\",\"x\":[0.0,1.0,2.0,3.0,4.0,5.0,6.0,7.0,8.0,9.0,10.0,11.0,12.0,13.0,14.0,15.0,16.0,17.0,18.0,19.0,20.0,21.0,22.0,23.0,24.0,25.0,26.0,27.0,28.0,29.0,30.0,31.0,32.0,33.0,34.0,35.0,36.0,37.0,38.0,39.0,40.0,41.0,42.0,43.0,44.0,45.0,46.0,47.0,48.0,49.0,50.0,51.0,52.0,53.0,54.0,55.0,56.0,57.0,58.0,59.0,60.0,61.0,62.0,63.0,64.0,65.0,66.0,67.0,68.0,69.0,70.0,71.0,72.0,73.0,74.0],\"y\":[0.864,0.864,0.778,0.778,0.788,0.788,0.748,0.748,0.725,0.725,0.739,0.739,0.743,0.743,0.751,0.751,0.738,0.738,0.732,0.732,0.732,0.732,0.722,0.722,0.729,0.729,0.737,0.737,0.732,0.732,0.725,0.725,0.724,0.724,0.73,0.73,0.726,0.726,0.727,0.727,0.732,0.732,0.732,0.732,0.727,0.727,0.731,0.731,0.734,0.734,0.73,0.73,0.732,0.732,0.735,0.735,0.739,0.739,0.741,0.741,0.743,0.743,0.743,0.743,0.742,0.742,0.738,0.738,0.736,0.736,0.734,0.734,0.731,0.731,0.729],\"type\":\"scatter\",\"xaxis\":\"x4\",\"yaxis\":\"y4\"},{\"mode\":\"lines\",\"name\":\"Avg. Quality #total\",\"x\":[0.0,1.0,2.0,3.0,4.0,5.0,6.0,7.0,8.0,9.0,10.0,11.0,12.0,13.0,14.0,15.0,16.0,17.0,18.0,19.0,20.0,21.0,22.0,23.0,24.0,25.0,26.0,27.0,28.0,29.0,30.0,31.0,32.0,33.0,34.0,35.0,36.0,37.0,38.0,39.0,40.0,41.0,42.0,43.0,44.0,45.0,46.0,47.0,48.0,49.0,50.0,51.0,52.0,53.0,54.0,55.0,56.0,57.0,58.0,59.0,60.0,61.0,62.0,63.0,64.0,65.0,66.0,67.0,68.0,69.0,70.0,71.0,72.0,73.0,74.0],\"y\":[0.864,0.864,0.778,0.778,0.788,0.788,0.748,0.748,0.725,0.725,0.739,0.739,0.743,0.743,0.751,0.751,0.738,0.738,0.732,0.732,0.732,0.732,0.722,0.722,0.729,0.729,0.737,0.737,0.732,0.732,0.725,0.725,0.724,0.724,0.73,0.73,0.726,0.726,0.727,0.727,0.732,0.732,0.732,0.732,0.727,0.727,0.731,0.731,0.734,0.734,0.73,0.73,0.732,0.732,0.735,0.735,0.739,0.739,0.741,0.741,0.743,0.743,0.743,0.743,0.742,0.742,0.738,0.738,0.736,0.736,0.734,0.734,0.731,0.731,0.729],\"type\":\"scatter\",\"xaxis\":\"x4\",\"yaxis\":\"y4\"}],                        {\"template\":{\"data\":{\"histogram2dcontour\":[{\"type\":\"histogram2dcontour\",\"colorbar\":{\"outlinewidth\":0,\"ticks\":\"\"},\"colorscale\":[[0.0,\"#0d0887\"],[0.1111111111111111,\"#46039f\"],[0.2222222222222222,\"#7201a8\"],[0.3333333333333333,\"#9c179e\"],[0.4444444444444444,\"#bd3786\"],[0.5555555555555556,\"#d8576b\"],[0.6666666666666666,\"#ed7953\"],[0.7777777777777778,\"#fb9f3a\"],[0.8888888888888888,\"#fdca26\"],[1.0,\"#f0f921\"]]}],\"choropleth\":[{\"type\":\"choropleth\",\"colorbar\":{\"outlinewidth\":0,\"ticks\":\"\"}}],\"histogram2d\":[{\"type\":\"histogram2d\",\"colorbar\":{\"outlinewidth\":0,\"ticks\":\"\"},\"colorscale\":[[0.0,\"#0d0887\"],[0.1111111111111111,\"#46039f\"],[0.2222222222222222,\"#7201a8\"],[0.3333333333333333,\"#9c179e\"],[0.4444444444444444,\"#bd3786\"],[0.5555555555555556,\"#d8576b\"],[0.6666666666666666,\"#ed7953\"],[0.7777777777777778,\"#fb9f3a\"],[0.8888888888888888,\"#fdca26\"],[1.0,\"#f0f921\"]]}],\"heatmap\":[{\"type\":\"heatmap\",\"colorbar\":{\"outlinewidth\":0,\"ticks\":\"\"},\"colorscale\":[[0.0,\"#0d0887\"],[0.1111111111111111,\"#46039f\"],[0.2222222222222222,\"#7201a8\"],[0.3333333333333333,\"#9c179e\"],[0.4444444444444444,\"#bd3786\"],[0.5555555555555556,\"#d8576b\"],[0.6666666666666666,\"#ed7953\"],[0.7777777777777778,\"#fb9f3a\"],[0.8888888888888888,\"#fdca26\"],[1.0,\"#f0f921\"]]}],\"heatmapgl\":[{\"type\":\"heatmapgl\",\"colorbar\":{\"outlinewidth\":0,\"ticks\":\"\"},\"colorscale\":[[0.0,\"#0d0887\"],[0.1111111111111111,\"#46039f\"],[0.2222222222222222,\"#7201a8\"],[0.3333333333333333,\"#9c179e\"],[0.4444444444444444,\"#bd3786\"],[0.5555555555555556,\"#d8576b\"],[0.6666666666666666,\"#ed7953\"],[0.7777777777777778,\"#fb9f3a\"],[0.8888888888888888,\"#fdca26\"],[1.0,\"#f0f921\"]]}],\"contourcarpet\":[{\"type\":\"contourcarpet\",\"colorbar\":{\"outlinewidth\":0,\"ticks\":\"\"}}],\"contour\":[{\"type\":\"contour\",\"colorbar\":{\"outlinewidth\":0,\"ticks\":\"\"},\"colorscale\":[[0.0,\"#0d0887\"],[0.1111111111111111,\"#46039f\"],[0.2222222222222222,\"#7201a8\"],[0.3333333333333333,\"#9c179e\"],[0.4444444444444444,\"#bd3786\"],[0.5555555555555556,\"#d8576b\"],[0.6666666666666666,\"#ed7953\"],[0.7777777777777778,\"#fb9f3a\"],[0.8888888888888888,\"#fdca26\"],[1.0,\"#f0f921\"]]}],\"surface\":[{\"type\":\"surface\",\"colorbar\":{\"outlinewidth\":0,\"ticks\":\"\"},\"colorscale\":[[0.0,\"#0d0887\"],[0.1111111111111111,\"#46039f\"],[0.2222222222222222,\"#7201a8\"],[0.3333333333333333,\"#9c179e\"],[0.4444444444444444,\"#bd3786\"],[0.5555555555555556,\"#d8576b\"],[0.6666666666666666,\"#ed7953\"],[0.7777777777777778,\"#fb9f3a\"],[0.8888888888888888,\"#fdca26\"],[1.0,\"#f0f921\"]]}],\"mesh3d\":[{\"type\":\"mesh3d\",\"colorbar\":{\"outlinewidth\":0,\"ticks\":\"\"}}],\"scatter\":[{\"fillpattern\":{\"fillmode\":\"overlay\",\"size\":10,\"solidity\":0.2},\"type\":\"scatter\"}],\"parcoords\":[{\"type\":\"parcoords\",\"line\":{\"colorbar\":{\"outlinewidth\":0,\"ticks\":\"\"}}}],\"scatterpolargl\":[{\"type\":\"scatterpolargl\",\"marker\":{\"colorbar\":{\"outlinewidth\":0,\"ticks\":\"\"}}}],\"bar\":[{\"error_x\":{\"color\":\"#2a3f5f\"},\"error_y\":{\"color\":\"#2a3f5f\"},\"marker\":{\"line\":{\"color\":\"#E5ECF6\",\"width\":0.5},\"pattern\":{\"fillmode\":\"overlay\",\"size\":10,\"solidity\":0.2}},\"type\":\"bar\"}],\"scattergeo\":[{\"type\":\"scattergeo\",\"marker\":{\"colorbar\":{\"outlinewidth\":0,\"ticks\":\"\"}}}],\"scatterpolar\":[{\"type\":\"scatterpolar\",\"marker\":{\"colorbar\":{\"outlinewidth\":0,\"ticks\":\"\"}}}],\"histogram\":[{\"marker\":{\"pattern\":{\"fillmode\":\"overlay\",\"size\":10,\"solidity\":0.2}},\"type\":\"histogram\"}],\"scattergl\":[{\"type\":\"scattergl\",\"marker\":{\"colorbar\":{\"outlinewidth\":0,\"ticks\":\"\"}}}],\"scatter3d\":[{\"type\":\"scatter3d\",\"line\":{\"colorbar\":{\"outlinewidth\":0,\"ticks\":\"\"}},\"marker\":{\"colorbar\":{\"outlinewidth\":0,\"ticks\":\"\"}}}],\"scattermapbox\":[{\"type\":\"scattermapbox\",\"marker\":{\"colorbar\":{\"outlinewidth\":0,\"ticks\":\"\"}}}],\"scatterternary\":[{\"type\":\"scatterternary\",\"marker\":{\"colorbar\":{\"outlinewidth\":0,\"ticks\":\"\"}}}],\"scattercarpet\":[{\"type\":\"scattercarpet\",\"marker\":{\"colorbar\":{\"outlinewidth\":0,\"ticks\":\"\"}}}],\"carpet\":[{\"aaxis\":{\"endlinecolor\":\"#2a3f5f\",\"gridcolor\":\"white\",\"linecolor\":\"white\",\"minorgridcolor\":\"white\",\"startlinecolor\":\"#2a3f5f\"},\"baxis\":{\"endlinecolor\":\"#2a3f5f\",\"gridcolor\":\"white\",\"linecolor\":\"white\",\"minorgridcolor\":\"white\",\"startlinecolor\":\"#2a3f5f\"},\"type\":\"carpet\"}],\"table\":[{\"cells\":{\"fill\":{\"color\":\"#EBF0F8\"},\"line\":{\"color\":\"white\"}},\"header\":{\"fill\":{\"color\":\"#C8D4E3\"},\"line\":{\"color\":\"white\"}},\"type\":\"table\"}],\"barpolar\":[{\"marker\":{\"line\":{\"color\":\"#E5ECF6\",\"width\":0.5},\"pattern\":{\"fillmode\":\"overlay\",\"size\":10,\"solidity\":0.2}},\"type\":\"barpolar\"}],\"pie\":[{\"automargin\":true,\"type\":\"pie\"}]},\"layout\":{\"autotypenumbers\":\"strict\",\"colorway\":[\"#636efa\",\"#EF553B\",\"#00cc96\",\"#ab63fa\",\"#FFA15A\",\"#19d3f3\",\"#FF6692\",\"#B6E880\",\"#FF97FF\",\"#FECB52\"],\"font\":{\"color\":\"#2a3f5f\"},\"hovermode\":\"closest\",\"hoverlabel\":{\"align\":\"left\"},\"paper_bgcolor\":\"white\",\"plot_bgcolor\":\"#E5ECF6\",\"polar\":{\"bgcolor\":\"#E5ECF6\",\"angularaxis\":{\"gridcolor\":\"white\",\"linecolor\":\"white\",\"ticks\":\"\"},\"radialaxis\":{\"gridcolor\":\"white\",\"linecolor\":\"white\",\"ticks\":\"\"}},\"ternary\":{\"bgcolor\":\"#E5ECF6\",\"aaxis\":{\"gridcolor\":\"white\",\"linecolor\":\"white\",\"ticks\":\"\"},\"baxis\":{\"gridcolor\":\"white\",\"linecolor\":\"white\",\"ticks\":\"\"},\"caxis\":{\"gridcolor\":\"white\",\"linecolor\":\"white\",\"ticks\":\"\"}},\"coloraxis\":{\"colorbar\":{\"outlinewidth\":0,\"ticks\":\"\"}},\"colorscale\":{\"sequential\":[[0.0,\"#0d0887\"],[0.1111111111111111,\"#46039f\"],[0.2222222222222222,\"#7201a8\"],[0.3333333333333333,\"#9c179e\"],[0.4444444444444444,\"#bd3786\"],[0.5555555555555556,\"#d8576b\"],[0.6666666666666666,\"#ed7953\"],[0.7777777777777778,\"#fb9f3a\"],[0.8888888888888888,\"#fdca26\"],[1.0,\"#f0f921\"]],\"sequentialminus\":[[0.0,\"#0d0887\"],[0.1111111111111111,\"#46039f\"],[0.2222222222222222,\"#7201a8\"],[0.3333333333333333,\"#9c179e\"],[0.4444444444444444,\"#bd3786\"],[0.5555555555555556,\"#d8576b\"],[0.6666666666666666,\"#ed7953\"],[0.7777777777777778,\"#fb9f3a\"],[0.8888888888888888,\"#fdca26\"],[1.0,\"#f0f921\"]],\"diverging\":[[0,\"#8e0152\"],[0.1,\"#c51b7d\"],[0.2,\"#de77ae\"],[0.3,\"#f1b6da\"],[0.4,\"#fde0ef\"],[0.5,\"#f7f7f7\"],[0.6,\"#e6f5d0\"],[0.7,\"#b8e186\"],[0.8,\"#7fbc41\"],[0.9,\"#4d9221\"],[1,\"#276419\"]]},\"xaxis\":{\"gridcolor\":\"white\",\"linecolor\":\"white\",\"ticks\":\"\",\"title\":{\"standoff\":15},\"zerolinecolor\":\"white\",\"automargin\":true,\"zerolinewidth\":2},\"yaxis\":{\"gridcolor\":\"white\",\"linecolor\":\"white\",\"ticks\":\"\",\"title\":{\"standoff\":15},\"zerolinecolor\":\"white\",\"automargin\":true,\"zerolinewidth\":2},\"scene\":{\"xaxis\":{\"backgroundcolor\":\"#E5ECF6\",\"gridcolor\":\"white\",\"linecolor\":\"white\",\"showbackground\":true,\"ticks\":\"\",\"zerolinecolor\":\"white\",\"gridwidth\":2},\"yaxis\":{\"backgroundcolor\":\"#E5ECF6\",\"gridcolor\":\"white\",\"linecolor\":\"white\",\"showbackground\":true,\"ticks\":\"\",\"zerolinecolor\":\"white\",\"gridwidth\":2},\"zaxis\":{\"backgroundcolor\":\"#E5ECF6\",\"gridcolor\":\"white\",\"linecolor\":\"white\",\"showbackground\":true,\"ticks\":\"\",\"zerolinecolor\":\"white\",\"gridwidth\":2}},\"shapedefaults\":{\"line\":{\"color\":\"#2a3f5f\"}},\"annotationdefaults\":{\"arrowcolor\":\"#2a3f5f\",\"arrowhead\":0,\"arrowwidth\":1},\"geo\":{\"bgcolor\":\"white\",\"landcolor\":\"#E5ECF6\",\"subunitcolor\":\"white\",\"showland\":true,\"showlakes\":true,\"lakecolor\":\"white\"},\"title\":{\"x\":0.05},\"mapbox\":{\"style\":\"light\"}}},\"xaxis\":{\"anchor\":\"y\",\"domain\":[0.0,0.45]},\"yaxis\":{\"anchor\":\"x\",\"domain\":[0.625,1.0]},\"xaxis2\":{\"anchor\":\"y2\",\"domain\":[0.55,1.0]},\"yaxis2\":{\"anchor\":\"x2\",\"domain\":[0.625,1.0]},\"xaxis3\":{\"anchor\":\"y3\",\"domain\":[0.0,0.45]},\"yaxis3\":{\"anchor\":\"x3\",\"domain\":[0.0,0.375]},\"xaxis4\":{\"anchor\":\"y4\",\"domain\":[0.55,1.0]},\"yaxis4\":{\"anchor\":\"x4\",\"domain\":[0.0,0.375]},\"annotations\":[{\"font\":{\"size\":16},\"showarrow\":false,\"text\":\"Types of Robots vs Time\",\"x\":0.225,\"xanchor\":\"center\",\"xref\":\"paper\",\"y\":1.0,\"yanchor\":\"bottom\",\"yref\":\"paper\"},{\"font\":{\"size\":16},\"showarrow\":false,\"text\":\"Resources vs Time\",\"x\":0.775,\"xanchor\":\"center\",\"xref\":\"paper\",\"y\":1.0,\"yanchor\":\"bottom\",\"yref\":\"paper\"},{\"font\":{\"size\":16},\"showarrow\":false,\"text\":\"Tasks of Robots vs Time\",\"x\":0.225,\"xanchor\":\"center\",\"xref\":\"paper\",\"y\":0.375,\"yanchor\":\"bottom\",\"yref\":\"paper\"},{\"font\":{\"size\":16},\"showarrow\":false,\"text\":\"Build Quality vs Time\",\"x\":0.775,\"xanchor\":\"center\",\"xref\":\"paper\",\"y\":0.375,\"yanchor\":\"bottom\",\"yref\":\"paper\"}],\"hovermode\":\"x\",\"title\":{\"text\":\"CHE - Characteristics\"}},                        {\"responsive\": true}                    ).then(function(){\n",
       "                            \n",
       "var gd = document.getElementById('5049925c-916a-4eea-9f4a-0363ad57aaa6');\n",
       "var x = new MutationObserver(function (mutations, observer) {{\n",
       "        var display = window.getComputedStyle(gd).display;\n",
       "        if (!display || display === 'none') {{\n",
       "            console.log([gd, 'removed!']);\n",
       "            Plotly.purge(gd);\n",
       "            observer.disconnect();\n",
       "        }}\n",
       "}});\n",
       "\n",
       "// Listen for the removal of the full notebook cells\n",
       "var notebookContainer = gd.closest('#notebook-container');\n",
       "if (notebookContainer) {{\n",
       "    x.observe(notebookContainer, {childList: true});\n",
       "}}\n",
       "\n",
       "// Listen for the clearing of the current output cell\n",
       "var outputEl = gd.closest('.output');\n",
       "if (outputEl) {{\n",
       "    x.observe(outputEl, {childList: true});\n",
       "}}\n",
       "\n",
       "                        })                };                });            </script>        </div>"
      ]
     },
     "metadata": {},
     "output_type": "display_data"
    },
    {
     "data": {
      "application/vnd.plotly.v1+json": {
       "config": {
        "plotlyServerURL": "https://plotly.com"
       },
       "data": [
        {
         "alignmentgroup": "True",
         "hovertemplate": "variable=#In<br>Time=%{x}<br>value=%{y}<extra></extra>",
         "legendgroup": "#In",
         "marker": {
          "color": "#636efa",
          "pattern": {
           "shape": ""
          }
         },
         "name": "#In",
         "offsetgroup": "#In",
         "orientation": "v",
         "showlegend": true,
         "textposition": "auto",
         "type": "bar",
         "x": [
          0,
          1,
          2,
          3,
          4,
          5,
          6,
          7,
          8,
          9,
          10,
          11,
          12,
          13,
          14,
          15,
          16,
          17,
          18,
          19,
          20,
          21,
          22,
          23,
          24,
          25,
          26,
          27,
          28,
          29,
          30,
          31,
          32,
          33,
          34,
          35,
          36,
          37,
          38,
          39,
          40,
          41,
          42,
          43,
          44,
          45,
          46,
          47,
          48,
          49,
          50,
          51,
          52,
          53,
          54,
          55,
          56,
          57,
          58,
          59,
          60,
          61,
          62,
          63,
          64,
          65,
          66,
          67,
          68,
          69,
          70,
          71,
          72,
          73,
          74
         ],
         "xaxis": "x",
         "y": [
          2,
          2,
          2,
          2,
          4,
          4,
          6,
          6,
          11,
          11,
          15,
          15,
          23,
          24,
          34,
          34,
          47,
          48,
          59,
          62,
          67,
          70,
          74,
          82,
          90,
          96,
          101,
          108,
          118,
          125,
          131,
          143,
          150,
          166,
          172,
          184,
          205,
          214,
          218,
          219,
          219,
          219,
          219,
          219,
          219,
          219,
          219,
          219,
          219,
          219,
          219,
          219,
          219,
          219,
          219,
          219,
          219,
          219,
          219,
          219,
          219,
          219,
          219,
          219,
          219,
          219,
          219,
          219,
          219,
          219,
          219,
          219,
          219,
          219,
          219
         ],
         "yaxis": "y"
        },
        {
         "alignmentgroup": "True",
         "hovertemplate": "variable=#Out<br>Time=%{x}<br>value=%{y}<extra></extra>",
         "legendgroup": "#Out",
         "marker": {
          "color": "#EF553B",
          "pattern": {
           "shape": ""
          }
         },
         "name": "#Out",
         "offsetgroup": "#Out",
         "orientation": "v",
         "showlegend": true,
         "textposition": "auto",
         "type": "bar",
         "x": [
          0,
          1,
          2,
          3,
          4,
          5,
          6,
          7,
          8,
          9,
          10,
          11,
          12,
          13,
          14,
          15,
          16,
          17,
          18,
          19,
          20,
          21,
          22,
          23,
          24,
          25,
          26,
          27,
          28,
          29,
          30,
          31,
          32,
          33,
          34,
          35,
          36,
          37,
          38,
          39,
          40,
          41,
          42,
          43,
          44,
          45,
          46,
          47,
          48,
          49,
          50,
          51,
          52,
          53,
          54,
          55,
          56,
          57,
          58,
          59,
          60,
          61,
          62,
          63,
          64,
          65,
          66,
          67,
          68,
          69,
          70,
          71,
          72,
          73,
          74
         ],
         "xaxis": "x",
         "y": [
          0,
          0,
          0,
          0,
          0,
          0,
          0,
          0,
          1,
          1,
          1,
          1,
          1,
          2,
          4,
          4,
          9,
          10,
          11,
          14,
          15,
          16,
          18,
          20,
          22,
          22,
          25,
          28,
          32,
          35,
          37,
          43,
          48,
          52,
          56,
          62,
          73,
          80,
          82,
          83,
          83,
          83,
          83,
          83,
          83,
          83,
          83,
          83,
          83,
          83,
          83,
          83,
          83,
          83,
          83,
          83,
          83,
          83,
          83,
          83,
          83,
          83,
          83,
          83,
          83,
          83,
          83,
          83,
          83,
          83,
          83,
          83,
          83,
          83,
          83
         ],
         "yaxis": "y"
        }
       ],
       "layout": {
        "barmode": "relative",
        "hovermode": "x",
        "legend": {
         "title": {
          "text": "variable"
         },
         "tracegroupgap": 0
        },
        "template": {
         "data": {
          "bar": [
           {
            "error_x": {
             "color": "#2a3f5f"
            },
            "error_y": {
             "color": "#2a3f5f"
            },
            "marker": {
             "line": {
              "color": "#E5ECF6",
              "width": 0.5
             },
             "pattern": {
              "fillmode": "overlay",
              "size": 10,
              "solidity": 0.2
             }
            },
            "type": "bar"
           }
          ],
          "barpolar": [
           {
            "marker": {
             "line": {
              "color": "#E5ECF6",
              "width": 0.5
             },
             "pattern": {
              "fillmode": "overlay",
              "size": 10,
              "solidity": 0.2
             }
            },
            "type": "barpolar"
           }
          ],
          "carpet": [
           {
            "aaxis": {
             "endlinecolor": "#2a3f5f",
             "gridcolor": "white",
             "linecolor": "white",
             "minorgridcolor": "white",
             "startlinecolor": "#2a3f5f"
            },
            "baxis": {
             "endlinecolor": "#2a3f5f",
             "gridcolor": "white",
             "linecolor": "white",
             "minorgridcolor": "white",
             "startlinecolor": "#2a3f5f"
            },
            "type": "carpet"
           }
          ],
          "choropleth": [
           {
            "colorbar": {
             "outlinewidth": 0,
             "ticks": ""
            },
            "type": "choropleth"
           }
          ],
          "contour": [
           {
            "colorbar": {
             "outlinewidth": 0,
             "ticks": ""
            },
            "colorscale": [
             [
              0,
              "#0d0887"
             ],
             [
              0.1111111111111111,
              "#46039f"
             ],
             [
              0.2222222222222222,
              "#7201a8"
             ],
             [
              0.3333333333333333,
              "#9c179e"
             ],
             [
              0.4444444444444444,
              "#bd3786"
             ],
             [
              0.5555555555555556,
              "#d8576b"
             ],
             [
              0.6666666666666666,
              "#ed7953"
             ],
             [
              0.7777777777777778,
              "#fb9f3a"
             ],
             [
              0.8888888888888888,
              "#fdca26"
             ],
             [
              1,
              "#f0f921"
             ]
            ],
            "type": "contour"
           }
          ],
          "contourcarpet": [
           {
            "colorbar": {
             "outlinewidth": 0,
             "ticks": ""
            },
            "type": "contourcarpet"
           }
          ],
          "heatmap": [
           {
            "colorbar": {
             "outlinewidth": 0,
             "ticks": ""
            },
            "colorscale": [
             [
              0,
              "#0d0887"
             ],
             [
              0.1111111111111111,
              "#46039f"
             ],
             [
              0.2222222222222222,
              "#7201a8"
             ],
             [
              0.3333333333333333,
              "#9c179e"
             ],
             [
              0.4444444444444444,
              "#bd3786"
             ],
             [
              0.5555555555555556,
              "#d8576b"
             ],
             [
              0.6666666666666666,
              "#ed7953"
             ],
             [
              0.7777777777777778,
              "#fb9f3a"
             ],
             [
              0.8888888888888888,
              "#fdca26"
             ],
             [
              1,
              "#f0f921"
             ]
            ],
            "type": "heatmap"
           }
          ],
          "heatmapgl": [
           {
            "colorbar": {
             "outlinewidth": 0,
             "ticks": ""
            },
            "colorscale": [
             [
              0,
              "#0d0887"
             ],
             [
              0.1111111111111111,
              "#46039f"
             ],
             [
              0.2222222222222222,
              "#7201a8"
             ],
             [
              0.3333333333333333,
              "#9c179e"
             ],
             [
              0.4444444444444444,
              "#bd3786"
             ],
             [
              0.5555555555555556,
              "#d8576b"
             ],
             [
              0.6666666666666666,
              "#ed7953"
             ],
             [
              0.7777777777777778,
              "#fb9f3a"
             ],
             [
              0.8888888888888888,
              "#fdca26"
             ],
             [
              1,
              "#f0f921"
             ]
            ],
            "type": "heatmapgl"
           }
          ],
          "histogram": [
           {
            "marker": {
             "pattern": {
              "fillmode": "overlay",
              "size": 10,
              "solidity": 0.2
             }
            },
            "type": "histogram"
           }
          ],
          "histogram2d": [
           {
            "colorbar": {
             "outlinewidth": 0,
             "ticks": ""
            },
            "colorscale": [
             [
              0,
              "#0d0887"
             ],
             [
              0.1111111111111111,
              "#46039f"
             ],
             [
              0.2222222222222222,
              "#7201a8"
             ],
             [
              0.3333333333333333,
              "#9c179e"
             ],
             [
              0.4444444444444444,
              "#bd3786"
             ],
             [
              0.5555555555555556,
              "#d8576b"
             ],
             [
              0.6666666666666666,
              "#ed7953"
             ],
             [
              0.7777777777777778,
              "#fb9f3a"
             ],
             [
              0.8888888888888888,
              "#fdca26"
             ],
             [
              1,
              "#f0f921"
             ]
            ],
            "type": "histogram2d"
           }
          ],
          "histogram2dcontour": [
           {
            "colorbar": {
             "outlinewidth": 0,
             "ticks": ""
            },
            "colorscale": [
             [
              0,
              "#0d0887"
             ],
             [
              0.1111111111111111,
              "#46039f"
             ],
             [
              0.2222222222222222,
              "#7201a8"
             ],
             [
              0.3333333333333333,
              "#9c179e"
             ],
             [
              0.4444444444444444,
              "#bd3786"
             ],
             [
              0.5555555555555556,
              "#d8576b"
             ],
             [
              0.6666666666666666,
              "#ed7953"
             ],
             [
              0.7777777777777778,
              "#fb9f3a"
             ],
             [
              0.8888888888888888,
              "#fdca26"
             ],
             [
              1,
              "#f0f921"
             ]
            ],
            "type": "histogram2dcontour"
           }
          ],
          "mesh3d": [
           {
            "colorbar": {
             "outlinewidth": 0,
             "ticks": ""
            },
            "type": "mesh3d"
           }
          ],
          "parcoords": [
           {
            "line": {
             "colorbar": {
              "outlinewidth": 0,
              "ticks": ""
             }
            },
            "type": "parcoords"
           }
          ],
          "pie": [
           {
            "automargin": true,
            "type": "pie"
           }
          ],
          "scatter": [
           {
            "fillpattern": {
             "fillmode": "overlay",
             "size": 10,
             "solidity": 0.2
            },
            "type": "scatter"
           }
          ],
          "scatter3d": [
           {
            "line": {
             "colorbar": {
              "outlinewidth": 0,
              "ticks": ""
             }
            },
            "marker": {
             "colorbar": {
              "outlinewidth": 0,
              "ticks": ""
             }
            },
            "type": "scatter3d"
           }
          ],
          "scattercarpet": [
           {
            "marker": {
             "colorbar": {
              "outlinewidth": 0,
              "ticks": ""
             }
            },
            "type": "scattercarpet"
           }
          ],
          "scattergeo": [
           {
            "marker": {
             "colorbar": {
              "outlinewidth": 0,
              "ticks": ""
             }
            },
            "type": "scattergeo"
           }
          ],
          "scattergl": [
           {
            "marker": {
             "colorbar": {
              "outlinewidth": 0,
              "ticks": ""
             }
            },
            "type": "scattergl"
           }
          ],
          "scattermapbox": [
           {
            "marker": {
             "colorbar": {
              "outlinewidth": 0,
              "ticks": ""
             }
            },
            "type": "scattermapbox"
           }
          ],
          "scatterpolar": [
           {
            "marker": {
             "colorbar": {
              "outlinewidth": 0,
              "ticks": ""
             }
            },
            "type": "scatterpolar"
           }
          ],
          "scatterpolargl": [
           {
            "marker": {
             "colorbar": {
              "outlinewidth": 0,
              "ticks": ""
             }
            },
            "type": "scatterpolargl"
           }
          ],
          "scatterternary": [
           {
            "marker": {
             "colorbar": {
              "outlinewidth": 0,
              "ticks": ""
             }
            },
            "type": "scatterternary"
           }
          ],
          "surface": [
           {
            "colorbar": {
             "outlinewidth": 0,
             "ticks": ""
            },
            "colorscale": [
             [
              0,
              "#0d0887"
             ],
             [
              0.1111111111111111,
              "#46039f"
             ],
             [
              0.2222222222222222,
              "#7201a8"
             ],
             [
              0.3333333333333333,
              "#9c179e"
             ],
             [
              0.4444444444444444,
              "#bd3786"
             ],
             [
              0.5555555555555556,
              "#d8576b"
             ],
             [
              0.6666666666666666,
              "#ed7953"
             ],
             [
              0.7777777777777778,
              "#fb9f3a"
             ],
             [
              0.8888888888888888,
              "#fdca26"
             ],
             [
              1,
              "#f0f921"
             ]
            ],
            "type": "surface"
           }
          ],
          "table": [
           {
            "cells": {
             "fill": {
              "color": "#EBF0F8"
             },
             "line": {
              "color": "white"
             }
            },
            "header": {
             "fill": {
              "color": "#C8D4E3"
             },
             "line": {
              "color": "white"
             }
            },
            "type": "table"
           }
          ]
         },
         "layout": {
          "annotationdefaults": {
           "arrowcolor": "#2a3f5f",
           "arrowhead": 0,
           "arrowwidth": 1
          },
          "autotypenumbers": "strict",
          "coloraxis": {
           "colorbar": {
            "outlinewidth": 0,
            "ticks": ""
           }
          },
          "colorscale": {
           "diverging": [
            [
             0,
             "#8e0152"
            ],
            [
             0.1,
             "#c51b7d"
            ],
            [
             0.2,
             "#de77ae"
            ],
            [
             0.3,
             "#f1b6da"
            ],
            [
             0.4,
             "#fde0ef"
            ],
            [
             0.5,
             "#f7f7f7"
            ],
            [
             0.6,
             "#e6f5d0"
            ],
            [
             0.7,
             "#b8e186"
            ],
            [
             0.8,
             "#7fbc41"
            ],
            [
             0.9,
             "#4d9221"
            ],
            [
             1,
             "#276419"
            ]
           ],
           "sequential": [
            [
             0,
             "#0d0887"
            ],
            [
             0.1111111111111111,
             "#46039f"
            ],
            [
             0.2222222222222222,
             "#7201a8"
            ],
            [
             0.3333333333333333,
             "#9c179e"
            ],
            [
             0.4444444444444444,
             "#bd3786"
            ],
            [
             0.5555555555555556,
             "#d8576b"
            ],
            [
             0.6666666666666666,
             "#ed7953"
            ],
            [
             0.7777777777777778,
             "#fb9f3a"
            ],
            [
             0.8888888888888888,
             "#fdca26"
            ],
            [
             1,
             "#f0f921"
            ]
           ],
           "sequentialminus": [
            [
             0,
             "#0d0887"
            ],
            [
             0.1111111111111111,
             "#46039f"
            ],
            [
             0.2222222222222222,
             "#7201a8"
            ],
            [
             0.3333333333333333,
             "#9c179e"
            ],
            [
             0.4444444444444444,
             "#bd3786"
            ],
            [
             0.5555555555555556,
             "#d8576b"
            ],
            [
             0.6666666666666666,
             "#ed7953"
            ],
            [
             0.7777777777777778,
             "#fb9f3a"
            ],
            [
             0.8888888888888888,
             "#fdca26"
            ],
            [
             1,
             "#f0f921"
            ]
           ]
          },
          "colorway": [
           "#636efa",
           "#EF553B",
           "#00cc96",
           "#ab63fa",
           "#FFA15A",
           "#19d3f3",
           "#FF6692",
           "#B6E880",
           "#FF97FF",
           "#FECB52"
          ],
          "font": {
           "color": "#2a3f5f"
          },
          "geo": {
           "bgcolor": "white",
           "lakecolor": "white",
           "landcolor": "#E5ECF6",
           "showlakes": true,
           "showland": true,
           "subunitcolor": "white"
          },
          "hoverlabel": {
           "align": "left"
          },
          "hovermode": "closest",
          "mapbox": {
           "style": "light"
          },
          "paper_bgcolor": "white",
          "plot_bgcolor": "#E5ECF6",
          "polar": {
           "angularaxis": {
            "gridcolor": "white",
            "linecolor": "white",
            "ticks": ""
           },
           "bgcolor": "#E5ECF6",
           "radialaxis": {
            "gridcolor": "white",
            "linecolor": "white",
            "ticks": ""
           }
          },
          "scene": {
           "xaxis": {
            "backgroundcolor": "#E5ECF6",
            "gridcolor": "white",
            "gridwidth": 2,
            "linecolor": "white",
            "showbackground": true,
            "ticks": "",
            "zerolinecolor": "white"
           },
           "yaxis": {
            "backgroundcolor": "#E5ECF6",
            "gridcolor": "white",
            "gridwidth": 2,
            "linecolor": "white",
            "showbackground": true,
            "ticks": "",
            "zerolinecolor": "white"
           },
           "zaxis": {
            "backgroundcolor": "#E5ECF6",
            "gridcolor": "white",
            "gridwidth": 2,
            "linecolor": "white",
            "showbackground": true,
            "ticks": "",
            "zerolinecolor": "white"
           }
          },
          "shapedefaults": {
           "line": {
            "color": "#2a3f5f"
           }
          },
          "ternary": {
           "aaxis": {
            "gridcolor": "white",
            "linecolor": "white",
            "ticks": ""
           },
           "baxis": {
            "gridcolor": "white",
            "linecolor": "white",
            "ticks": ""
           },
           "bgcolor": "#E5ECF6",
           "caxis": {
            "gridcolor": "white",
            "linecolor": "white",
            "ticks": ""
           }
          },
          "title": {
           "x": 0.05
          },
          "xaxis": {
           "automargin": true,
           "gridcolor": "white",
           "linecolor": "white",
           "ticks": "",
           "title": {
            "standoff": 15
           },
           "zerolinecolor": "white",
           "zerolinewidth": 2
          },
          "yaxis": {
           "automargin": true,
           "gridcolor": "white",
           "linecolor": "white",
           "ticks": "",
           "title": {
            "standoff": 15
           },
           "zerolinecolor": "white",
           "zerolinewidth": 2
          }
         }
        },
        "title": {
         "text": "DHE - Habitat over Time"
        },
        "xaxis": {
         "anchor": "y",
         "domain": [
          0,
          1
         ],
         "title": {
          "text": "Time"
         }
        },
        "yaxis": {
         "anchor": "x",
         "domain": [
          0,
          1
         ],
         "title": {
          "text": "#Robots"
         }
        }
       }
      },
      "text/html": [
       "<div>                            <div id=\"05f46abd-1376-4aca-8955-abb562c31098\" class=\"plotly-graph-div\" style=\"height:525px; width:100%;\"></div>            <script type=\"text/javascript\">                require([\"plotly\"], function(Plotly) {                    window.PLOTLYENV=window.PLOTLYENV || {};                                    if (document.getElementById(\"05f46abd-1376-4aca-8955-abb562c31098\")) {                    Plotly.newPlot(                        \"05f46abd-1376-4aca-8955-abb562c31098\",                        [{\"alignmentgroup\":\"True\",\"hovertemplate\":\"variable=#In<br>Time=%{x}<br>value=%{y}<extra></extra>\",\"legendgroup\":\"#In\",\"marker\":{\"color\":\"#636efa\",\"pattern\":{\"shape\":\"\"}},\"name\":\"#In\",\"offsetgroup\":\"#In\",\"orientation\":\"v\",\"showlegend\":true,\"textposition\":\"auto\",\"x\":[0.0,1.0,2.0,3.0,4.0,5.0,6.0,7.0,8.0,9.0,10.0,11.0,12.0,13.0,14.0,15.0,16.0,17.0,18.0,19.0,20.0,21.0,22.0,23.0,24.0,25.0,26.0,27.0,28.0,29.0,30.0,31.0,32.0,33.0,34.0,35.0,36.0,37.0,38.0,39.0,40.0,41.0,42.0,43.0,44.0,45.0,46.0,47.0,48.0,49.0,50.0,51.0,52.0,53.0,54.0,55.0,56.0,57.0,58.0,59.0,60.0,61.0,62.0,63.0,64.0,65.0,66.0,67.0,68.0,69.0,70.0,71.0,72.0,73.0,74.0],\"xaxis\":\"x\",\"y\":[2.0,2.0,2.0,2.0,4.0,4.0,6.0,6.0,11.0,11.0,15.0,15.0,23.0,24.0,34.0,34.0,47.0,48.0,59.0,62.0,67.0,70.0,74.0,82.0,90.0,96.0,101.0,108.0,118.0,125.0,131.0,143.0,150.0,166.0,172.0,184.0,205.0,214.0,218.0,219.0,219.0,219.0,219.0,219.0,219.0,219.0,219.0,219.0,219.0,219.0,219.0,219.0,219.0,219.0,219.0,219.0,219.0,219.0,219.0,219.0,219.0,219.0,219.0,219.0,219.0,219.0,219.0,219.0,219.0,219.0,219.0,219.0,219.0,219.0,219.0],\"yaxis\":\"y\",\"type\":\"bar\"},{\"alignmentgroup\":\"True\",\"hovertemplate\":\"variable=#Out<br>Time=%{x}<br>value=%{y}<extra></extra>\",\"legendgroup\":\"#Out\",\"marker\":{\"color\":\"#EF553B\",\"pattern\":{\"shape\":\"\"}},\"name\":\"#Out\",\"offsetgroup\":\"#Out\",\"orientation\":\"v\",\"showlegend\":true,\"textposition\":\"auto\",\"x\":[0.0,1.0,2.0,3.0,4.0,5.0,6.0,7.0,8.0,9.0,10.0,11.0,12.0,13.0,14.0,15.0,16.0,17.0,18.0,19.0,20.0,21.0,22.0,23.0,24.0,25.0,26.0,27.0,28.0,29.0,30.0,31.0,32.0,33.0,34.0,35.0,36.0,37.0,38.0,39.0,40.0,41.0,42.0,43.0,44.0,45.0,46.0,47.0,48.0,49.0,50.0,51.0,52.0,53.0,54.0,55.0,56.0,57.0,58.0,59.0,60.0,61.0,62.0,63.0,64.0,65.0,66.0,67.0,68.0,69.0,70.0,71.0,72.0,73.0,74.0],\"xaxis\":\"x\",\"y\":[0.0,0.0,0.0,0.0,0.0,0.0,0.0,0.0,1.0,1.0,1.0,1.0,1.0,2.0,4.0,4.0,9.0,10.0,11.0,14.0,15.0,16.0,18.0,20.0,22.0,22.0,25.0,28.0,32.0,35.0,37.0,43.0,48.0,52.0,56.0,62.0,73.0,80.0,82.0,83.0,83.0,83.0,83.0,83.0,83.0,83.0,83.0,83.0,83.0,83.0,83.0,83.0,83.0,83.0,83.0,83.0,83.0,83.0,83.0,83.0,83.0,83.0,83.0,83.0,83.0,83.0,83.0,83.0,83.0,83.0,83.0,83.0,83.0,83.0,83.0],\"yaxis\":\"y\",\"type\":\"bar\"}],                        {\"template\":{\"data\":{\"histogram2dcontour\":[{\"type\":\"histogram2dcontour\",\"colorbar\":{\"outlinewidth\":0,\"ticks\":\"\"},\"colorscale\":[[0.0,\"#0d0887\"],[0.1111111111111111,\"#46039f\"],[0.2222222222222222,\"#7201a8\"],[0.3333333333333333,\"#9c179e\"],[0.4444444444444444,\"#bd3786\"],[0.5555555555555556,\"#d8576b\"],[0.6666666666666666,\"#ed7953\"],[0.7777777777777778,\"#fb9f3a\"],[0.8888888888888888,\"#fdca26\"],[1.0,\"#f0f921\"]]}],\"choropleth\":[{\"type\":\"choropleth\",\"colorbar\":{\"outlinewidth\":0,\"ticks\":\"\"}}],\"histogram2d\":[{\"type\":\"histogram2d\",\"colorbar\":{\"outlinewidth\":0,\"ticks\":\"\"},\"colorscale\":[[0.0,\"#0d0887\"],[0.1111111111111111,\"#46039f\"],[0.2222222222222222,\"#7201a8\"],[0.3333333333333333,\"#9c179e\"],[0.4444444444444444,\"#bd3786\"],[0.5555555555555556,\"#d8576b\"],[0.6666666666666666,\"#ed7953\"],[0.7777777777777778,\"#fb9f3a\"],[0.8888888888888888,\"#fdca26\"],[1.0,\"#f0f921\"]]}],\"heatmap\":[{\"type\":\"heatmap\",\"colorbar\":{\"outlinewidth\":0,\"ticks\":\"\"},\"colorscale\":[[0.0,\"#0d0887\"],[0.1111111111111111,\"#46039f\"],[0.2222222222222222,\"#7201a8\"],[0.3333333333333333,\"#9c179e\"],[0.4444444444444444,\"#bd3786\"],[0.5555555555555556,\"#d8576b\"],[0.6666666666666666,\"#ed7953\"],[0.7777777777777778,\"#fb9f3a\"],[0.8888888888888888,\"#fdca26\"],[1.0,\"#f0f921\"]]}],\"heatmapgl\":[{\"type\":\"heatmapgl\",\"colorbar\":{\"outlinewidth\":0,\"ticks\":\"\"},\"colorscale\":[[0.0,\"#0d0887\"],[0.1111111111111111,\"#46039f\"],[0.2222222222222222,\"#7201a8\"],[0.3333333333333333,\"#9c179e\"],[0.4444444444444444,\"#bd3786\"],[0.5555555555555556,\"#d8576b\"],[0.6666666666666666,\"#ed7953\"],[0.7777777777777778,\"#fb9f3a\"],[0.8888888888888888,\"#fdca26\"],[1.0,\"#f0f921\"]]}],\"contourcarpet\":[{\"type\":\"contourcarpet\",\"colorbar\":{\"outlinewidth\":0,\"ticks\":\"\"}}],\"contour\":[{\"type\":\"contour\",\"colorbar\":{\"outlinewidth\":0,\"ticks\":\"\"},\"colorscale\":[[0.0,\"#0d0887\"],[0.1111111111111111,\"#46039f\"],[0.2222222222222222,\"#7201a8\"],[0.3333333333333333,\"#9c179e\"],[0.4444444444444444,\"#bd3786\"],[0.5555555555555556,\"#d8576b\"],[0.6666666666666666,\"#ed7953\"],[0.7777777777777778,\"#fb9f3a\"],[0.8888888888888888,\"#fdca26\"],[1.0,\"#f0f921\"]]}],\"surface\":[{\"type\":\"surface\",\"colorbar\":{\"outlinewidth\":0,\"ticks\":\"\"},\"colorscale\":[[0.0,\"#0d0887\"],[0.1111111111111111,\"#46039f\"],[0.2222222222222222,\"#7201a8\"],[0.3333333333333333,\"#9c179e\"],[0.4444444444444444,\"#bd3786\"],[0.5555555555555556,\"#d8576b\"],[0.6666666666666666,\"#ed7953\"],[0.7777777777777778,\"#fb9f3a\"],[0.8888888888888888,\"#fdca26\"],[1.0,\"#f0f921\"]]}],\"mesh3d\":[{\"type\":\"mesh3d\",\"colorbar\":{\"outlinewidth\":0,\"ticks\":\"\"}}],\"scatter\":[{\"fillpattern\":{\"fillmode\":\"overlay\",\"size\":10,\"solidity\":0.2},\"type\":\"scatter\"}],\"parcoords\":[{\"type\":\"parcoords\",\"line\":{\"colorbar\":{\"outlinewidth\":0,\"ticks\":\"\"}}}],\"scatterpolargl\":[{\"type\":\"scatterpolargl\",\"marker\":{\"colorbar\":{\"outlinewidth\":0,\"ticks\":\"\"}}}],\"bar\":[{\"error_x\":{\"color\":\"#2a3f5f\"},\"error_y\":{\"color\":\"#2a3f5f\"},\"marker\":{\"line\":{\"color\":\"#E5ECF6\",\"width\":0.5},\"pattern\":{\"fillmode\":\"overlay\",\"size\":10,\"solidity\":0.2}},\"type\":\"bar\"}],\"scattergeo\":[{\"type\":\"scattergeo\",\"marker\":{\"colorbar\":{\"outlinewidth\":0,\"ticks\":\"\"}}}],\"scatterpolar\":[{\"type\":\"scatterpolar\",\"marker\":{\"colorbar\":{\"outlinewidth\":0,\"ticks\":\"\"}}}],\"histogram\":[{\"marker\":{\"pattern\":{\"fillmode\":\"overlay\",\"size\":10,\"solidity\":0.2}},\"type\":\"histogram\"}],\"scattergl\":[{\"type\":\"scattergl\",\"marker\":{\"colorbar\":{\"outlinewidth\":0,\"ticks\":\"\"}}}],\"scatter3d\":[{\"type\":\"scatter3d\",\"line\":{\"colorbar\":{\"outlinewidth\":0,\"ticks\":\"\"}},\"marker\":{\"colorbar\":{\"outlinewidth\":0,\"ticks\":\"\"}}}],\"scattermapbox\":[{\"type\":\"scattermapbox\",\"marker\":{\"colorbar\":{\"outlinewidth\":0,\"ticks\":\"\"}}}],\"scatterternary\":[{\"type\":\"scatterternary\",\"marker\":{\"colorbar\":{\"outlinewidth\":0,\"ticks\":\"\"}}}],\"scattercarpet\":[{\"type\":\"scattercarpet\",\"marker\":{\"colorbar\":{\"outlinewidth\":0,\"ticks\":\"\"}}}],\"carpet\":[{\"aaxis\":{\"endlinecolor\":\"#2a3f5f\",\"gridcolor\":\"white\",\"linecolor\":\"white\",\"minorgridcolor\":\"white\",\"startlinecolor\":\"#2a3f5f\"},\"baxis\":{\"endlinecolor\":\"#2a3f5f\",\"gridcolor\":\"white\",\"linecolor\":\"white\",\"minorgridcolor\":\"white\",\"startlinecolor\":\"#2a3f5f\"},\"type\":\"carpet\"}],\"table\":[{\"cells\":{\"fill\":{\"color\":\"#EBF0F8\"},\"line\":{\"color\":\"white\"}},\"header\":{\"fill\":{\"color\":\"#C8D4E3\"},\"line\":{\"color\":\"white\"}},\"type\":\"table\"}],\"barpolar\":[{\"marker\":{\"line\":{\"color\":\"#E5ECF6\",\"width\":0.5},\"pattern\":{\"fillmode\":\"overlay\",\"size\":10,\"solidity\":0.2}},\"type\":\"barpolar\"}],\"pie\":[{\"automargin\":true,\"type\":\"pie\"}]},\"layout\":{\"autotypenumbers\":\"strict\",\"colorway\":[\"#636efa\",\"#EF553B\",\"#00cc96\",\"#ab63fa\",\"#FFA15A\",\"#19d3f3\",\"#FF6692\",\"#B6E880\",\"#FF97FF\",\"#FECB52\"],\"font\":{\"color\":\"#2a3f5f\"},\"hovermode\":\"closest\",\"hoverlabel\":{\"align\":\"left\"},\"paper_bgcolor\":\"white\",\"plot_bgcolor\":\"#E5ECF6\",\"polar\":{\"bgcolor\":\"#E5ECF6\",\"angularaxis\":{\"gridcolor\":\"white\",\"linecolor\":\"white\",\"ticks\":\"\"},\"radialaxis\":{\"gridcolor\":\"white\",\"linecolor\":\"white\",\"ticks\":\"\"}},\"ternary\":{\"bgcolor\":\"#E5ECF6\",\"aaxis\":{\"gridcolor\":\"white\",\"linecolor\":\"white\",\"ticks\":\"\"},\"baxis\":{\"gridcolor\":\"white\",\"linecolor\":\"white\",\"ticks\":\"\"},\"caxis\":{\"gridcolor\":\"white\",\"linecolor\":\"white\",\"ticks\":\"\"}},\"coloraxis\":{\"colorbar\":{\"outlinewidth\":0,\"ticks\":\"\"}},\"colorscale\":{\"sequential\":[[0.0,\"#0d0887\"],[0.1111111111111111,\"#46039f\"],[0.2222222222222222,\"#7201a8\"],[0.3333333333333333,\"#9c179e\"],[0.4444444444444444,\"#bd3786\"],[0.5555555555555556,\"#d8576b\"],[0.6666666666666666,\"#ed7953\"],[0.7777777777777778,\"#fb9f3a\"],[0.8888888888888888,\"#fdca26\"],[1.0,\"#f0f921\"]],\"sequentialminus\":[[0.0,\"#0d0887\"],[0.1111111111111111,\"#46039f\"],[0.2222222222222222,\"#7201a8\"],[0.3333333333333333,\"#9c179e\"],[0.4444444444444444,\"#bd3786\"],[0.5555555555555556,\"#d8576b\"],[0.6666666666666666,\"#ed7953\"],[0.7777777777777778,\"#fb9f3a\"],[0.8888888888888888,\"#fdca26\"],[1.0,\"#f0f921\"]],\"diverging\":[[0,\"#8e0152\"],[0.1,\"#c51b7d\"],[0.2,\"#de77ae\"],[0.3,\"#f1b6da\"],[0.4,\"#fde0ef\"],[0.5,\"#f7f7f7\"],[0.6,\"#e6f5d0\"],[0.7,\"#b8e186\"],[0.8,\"#7fbc41\"],[0.9,\"#4d9221\"],[1,\"#276419\"]]},\"xaxis\":{\"gridcolor\":\"white\",\"linecolor\":\"white\",\"ticks\":\"\",\"title\":{\"standoff\":15},\"zerolinecolor\":\"white\",\"automargin\":true,\"zerolinewidth\":2},\"yaxis\":{\"gridcolor\":\"white\",\"linecolor\":\"white\",\"ticks\":\"\",\"title\":{\"standoff\":15},\"zerolinecolor\":\"white\",\"automargin\":true,\"zerolinewidth\":2},\"scene\":{\"xaxis\":{\"backgroundcolor\":\"#E5ECF6\",\"gridcolor\":\"white\",\"linecolor\":\"white\",\"showbackground\":true,\"ticks\":\"\",\"zerolinecolor\":\"white\",\"gridwidth\":2},\"yaxis\":{\"backgroundcolor\":\"#E5ECF6\",\"gridcolor\":\"white\",\"linecolor\":\"white\",\"showbackground\":true,\"ticks\":\"\",\"zerolinecolor\":\"white\",\"gridwidth\":2},\"zaxis\":{\"backgroundcolor\":\"#E5ECF6\",\"gridcolor\":\"white\",\"linecolor\":\"white\",\"showbackground\":true,\"ticks\":\"\",\"zerolinecolor\":\"white\",\"gridwidth\":2}},\"shapedefaults\":{\"line\":{\"color\":\"#2a3f5f\"}},\"annotationdefaults\":{\"arrowcolor\":\"#2a3f5f\",\"arrowhead\":0,\"arrowwidth\":1},\"geo\":{\"bgcolor\":\"white\",\"landcolor\":\"#E5ECF6\",\"subunitcolor\":\"white\",\"showland\":true,\"showlakes\":true,\"lakecolor\":\"white\"},\"title\":{\"x\":0.05},\"mapbox\":{\"style\":\"light\"}}},\"xaxis\":{\"anchor\":\"y\",\"domain\":[0.0,1.0],\"title\":{\"text\":\"Time\"}},\"yaxis\":{\"anchor\":\"x\",\"domain\":[0.0,1.0],\"title\":{\"text\":\"#Robots\"}},\"legend\":{\"title\":{\"text\":\"variable\"},\"tracegroupgap\":0},\"title\":{\"text\":\"DHE - Habitat over Time\"},\"barmode\":\"relative\",\"hovermode\":\"x\"},                        {\"responsive\": true}                    ).then(function(){\n",
       "                            \n",
       "var gd = document.getElementById('05f46abd-1376-4aca-8955-abb562c31098');\n",
       "var x = new MutationObserver(function (mutations, observer) {{\n",
       "        var display = window.getComputedStyle(gd).display;\n",
       "        if (!display || display === 'none') {{\n",
       "            console.log([gd, 'removed!']);\n",
       "            Plotly.purge(gd);\n",
       "            observer.disconnect();\n",
       "        }}\n",
       "}});\n",
       "\n",
       "// Listen for the removal of the full notebook cells\n",
       "var notebookContainer = gd.closest('#notebook-container');\n",
       "if (notebookContainer) {{\n",
       "    x.observe(notebookContainer, {childList: true});\n",
       "}}\n",
       "\n",
       "// Listen for the clearing of the current output cell\n",
       "var outputEl = gd.closest('.output');\n",
       "if (outputEl) {{\n",
       "    x.observe(outputEl, {childList: true});\n",
       "}}\n",
       "\n",
       "                        })                };                });            </script>        </div>"
      ]
     },
     "metadata": {},
     "output_type": "display_data"
    },
    {
     "data": {
      "application/vnd.plotly.v1+json": {
       "config": {
        "plotlyServerURL": "https://plotly.com"
       },
       "data": [
        {
         "name": "#Replicator",
         "type": "bar",
         "x": [
          0,
          1,
          2,
          3,
          4,
          5,
          6,
          7,
          8,
          9,
          10,
          11,
          12,
          13,
          14,
          15,
          16,
          17,
          18,
          19,
          20,
          21,
          22,
          23,
          24,
          25,
          26,
          27,
          28,
          29,
          30,
          31,
          32,
          33,
          34,
          35,
          36,
          37,
          38,
          39,
          40,
          41,
          42,
          43,
          44,
          45,
          46,
          47,
          48,
          49,
          50,
          51,
          52,
          53,
          54,
          55,
          56,
          57,
          58,
          59,
          60,
          61,
          62,
          63,
          64,
          65,
          66,
          67,
          68,
          69,
          70,
          71,
          72,
          73,
          74
         ],
         "xaxis": "x",
         "y": [
          0,
          0,
          0,
          0,
          0,
          0,
          0,
          0,
          0,
          0,
          0,
          0,
          0,
          0,
          0,
          0,
          0,
          0,
          0,
          0,
          0,
          0,
          0,
          0,
          0,
          0,
          0,
          0,
          0,
          0,
          0,
          0,
          0,
          0,
          0,
          0,
          0,
          0,
          0,
          0,
          0,
          0,
          0,
          0,
          0,
          0,
          0,
          0,
          0,
          0,
          0,
          0,
          0,
          0,
          0,
          0,
          0,
          0,
          0,
          0,
          0,
          0,
          0,
          0,
          0,
          0,
          0,
          0,
          0,
          0,
          0,
          0,
          0,
          0,
          0
         ],
         "yaxis": "y"
        },
        {
         "name": "#Normal",
         "type": "bar",
         "x": [
          0,
          1,
          2,
          3,
          4,
          5,
          6,
          7,
          8,
          9,
          10,
          11,
          12,
          13,
          14,
          15,
          16,
          17,
          18,
          19,
          20,
          21,
          22,
          23,
          24,
          25,
          26,
          27,
          28,
          29,
          30,
          31,
          32,
          33,
          34,
          35,
          36,
          37,
          38,
          39,
          40,
          41,
          42,
          43,
          44,
          45,
          46,
          47,
          48,
          49,
          50,
          51,
          52,
          53,
          54,
          55,
          56,
          57,
          58,
          59,
          60,
          61,
          62,
          63,
          64,
          65,
          66,
          67,
          68,
          69,
          70,
          71,
          72,
          73,
          74
         ],
         "xaxis": "x",
         "y": [
          0,
          0,
          0,
          0,
          0,
          0,
          0,
          0,
          0,
          0,
          0,
          0,
          0,
          0,
          0,
          0,
          0,
          0,
          0,
          0,
          0,
          0,
          0,
          0,
          0,
          0,
          0,
          0,
          0,
          0,
          0,
          0,
          0,
          0,
          0,
          0,
          0,
          0,
          0,
          0,
          0,
          0,
          0,
          0,
          0,
          0,
          0,
          0,
          0,
          0,
          0,
          0,
          0,
          0,
          0,
          0,
          0,
          0,
          0,
          0,
          0,
          0,
          0,
          0,
          0,
          0,
          0,
          0,
          0,
          0,
          0,
          0,
          0,
          0,
          0
         ],
         "yaxis": "y"
        },
        {
         "name": "#Assembler",
         "type": "bar",
         "x": [
          0,
          1,
          2,
          3,
          4,
          5,
          6,
          7,
          8,
          9,
          10,
          11,
          12,
          13,
          14,
          15,
          16,
          17,
          18,
          19,
          20,
          21,
          22,
          23,
          24,
          25,
          26,
          27,
          28,
          29,
          30,
          31,
          32,
          33,
          34,
          35,
          36,
          37,
          38,
          39,
          40,
          41,
          42,
          43,
          44,
          45,
          46,
          47,
          48,
          49,
          50,
          51,
          52,
          53,
          54,
          55,
          56,
          57,
          58,
          59,
          60,
          61,
          62,
          63,
          64,
          65,
          66,
          67,
          68,
          69,
          70,
          71,
          72,
          73,
          74
         ],
         "xaxis": "x",
         "y": [
          1,
          1,
          1,
          1,
          3,
          3,
          5,
          5,
          6,
          6,
          8,
          8,
          14,
          15,
          21,
          21,
          27,
          28,
          34,
          34,
          38,
          40,
          42,
          43,
          45,
          49,
          52,
          53,
          58,
          63,
          68,
          73,
          75,
          82,
          86,
          94,
          100,
          104,
          106,
          107,
          107,
          107,
          107,
          107,
          107,
          107,
          107,
          107,
          107,
          107,
          107,
          107,
          107,
          107,
          107,
          107,
          107,
          107,
          107,
          107,
          107,
          107,
          107,
          107,
          107,
          107,
          107,
          107,
          107,
          107,
          107,
          107,
          107,
          107,
          107
         ],
         "yaxis": "y"
        },
        {
         "name": "#Printer",
         "type": "bar",
         "x": [
          0,
          1,
          2,
          3,
          4,
          5,
          6,
          7,
          8,
          9,
          10,
          11,
          12,
          13,
          14,
          15,
          16,
          17,
          18,
          19,
          20,
          21,
          22,
          23,
          24,
          25,
          26,
          27,
          28,
          29,
          30,
          31,
          32,
          33,
          34,
          35,
          36,
          37,
          38,
          39,
          40,
          41,
          42,
          43,
          44,
          45,
          46,
          47,
          48,
          49,
          50,
          51,
          52,
          53,
          54,
          55,
          56,
          57,
          58,
          59,
          60,
          61,
          62,
          63,
          64,
          65,
          66,
          67,
          68,
          69,
          70,
          71,
          72,
          73,
          74
         ],
         "xaxis": "x",
         "y": [
          1,
          1,
          1,
          1,
          1,
          1,
          1,
          1,
          5,
          5,
          7,
          7,
          9,
          9,
          13,
          13,
          20,
          20,
          25,
          28,
          29,
          30,
          32,
          39,
          45,
          47,
          49,
          55,
          60,
          62,
          63,
          70,
          75,
          84,
          86,
          90,
          105,
          110,
          112,
          112,
          112,
          112,
          112,
          112,
          112,
          112,
          112,
          112,
          112,
          112,
          112,
          112,
          112,
          112,
          112,
          112,
          112,
          112,
          112,
          112,
          112,
          112,
          112,
          112,
          112,
          112,
          112,
          112,
          112,
          112,
          112,
          112,
          112,
          112,
          112
         ],
         "yaxis": "y"
        },
        {
         "name": "#Assembling",
         "type": "bar",
         "x": [
          0,
          1,
          2,
          3,
          4,
          5,
          6,
          7,
          8,
          9,
          10,
          11,
          12,
          13,
          14,
          15,
          16,
          17,
          18,
          19,
          20,
          21,
          22,
          23,
          24,
          25,
          26,
          27,
          28,
          29,
          30,
          31,
          32,
          33,
          34,
          35,
          36,
          37,
          38,
          39,
          40,
          41,
          42,
          43,
          44,
          45,
          46,
          47,
          48,
          49,
          50,
          51,
          52,
          53,
          54,
          55,
          56,
          57,
          58,
          59,
          60,
          61,
          62,
          63,
          64,
          65,
          66,
          67,
          68,
          69,
          70,
          71,
          72,
          73,
          74
         ],
         "xaxis": "x3",
         "y": [
          1,
          1,
          1,
          1,
          3,
          3,
          5,
          5,
          5,
          6,
          8,
          8,
          14,
          14,
          19,
          21,
          15,
          17,
          11,
          10,
          10,
          15,
          19,
          17,
          16,
          18,
          23,
          29,
          24,
          26,
          29,
          34,
          36,
          32,
          46,
          39,
          14,
          4,
          1,
          0,
          0,
          0,
          0,
          0,
          0,
          0,
          0,
          0,
          0,
          0,
          0,
          0,
          0,
          0,
          0,
          0,
          0,
          0,
          0,
          0,
          0,
          0,
          0,
          0,
          0,
          0,
          0,
          0,
          0,
          0,
          0,
          0,
          0,
          0,
          0
         ],
         "yaxis": "y3"
        },
        {
         "name": "#Printing",
         "type": "bar",
         "x": [
          0,
          1,
          2,
          3,
          4,
          5,
          6,
          7,
          8,
          9,
          10,
          11,
          12,
          13,
          14,
          15,
          16,
          17,
          18,
          19,
          20,
          21,
          22,
          23,
          24,
          25,
          26,
          27,
          28,
          29,
          30,
          31,
          32,
          33,
          34,
          35,
          36,
          37,
          38,
          39,
          40,
          41,
          42,
          43,
          44,
          45,
          46,
          47,
          48,
          49,
          50,
          51,
          52,
          53,
          54,
          55,
          56,
          57,
          58,
          59,
          60,
          61,
          62,
          63,
          64,
          65,
          66,
          67,
          68,
          69,
          70,
          71,
          72,
          73,
          74
         ],
         "xaxis": "x3",
         "y": [
          1,
          1,
          1,
          1,
          1,
          1,
          1,
          1,
          5,
          5,
          7,
          7,
          9,
          9,
          13,
          13,
          19,
          20,
          24,
          25,
          28,
          29,
          30,
          38,
          43,
          47,
          49,
          53,
          59,
          60,
          62,
          69,
          72,
          83,
          84,
          88,
          38,
          2,
          0,
          0,
          0,
          0,
          0,
          0,
          0,
          0,
          0,
          0,
          0,
          0,
          0,
          0,
          0,
          0,
          0,
          0,
          0,
          0,
          0,
          0,
          0,
          0,
          0,
          0,
          0,
          0,
          0,
          0,
          0,
          0,
          0,
          0,
          0,
          0,
          0
         ],
         "yaxis": "y3"
        },
        {
         "name": "#Collecting",
         "type": "bar",
         "x": [
          0,
          1,
          2,
          3,
          4,
          5,
          6,
          7,
          8,
          9,
          10,
          11,
          12,
          13,
          14,
          15,
          16,
          17,
          18,
          19,
          20,
          21,
          22,
          23,
          24,
          25,
          26,
          27,
          28,
          29,
          30,
          31,
          32,
          33,
          34,
          35,
          36,
          37,
          38,
          39,
          40,
          41,
          42,
          43,
          44,
          45,
          46,
          47,
          48,
          49,
          50,
          51,
          52,
          53,
          54,
          55,
          56,
          57,
          58,
          59,
          60,
          61,
          62,
          63,
          64,
          65,
          66,
          67,
          68,
          69,
          70,
          71,
          72,
          73,
          74
         ],
         "xaxis": "x3",
         "y": [
          0,
          0,
          0,
          0,
          0,
          0,
          0,
          0,
          0,
          0,
          0,
          0,
          0,
          0,
          0,
          0,
          8,
          10,
          23,
          24,
          28,
          25,
          23,
          25,
          29,
          31,
          26,
          23,
          31,
          36,
          38,
          34,
          37,
          47,
          24,
          0,
          0,
          0,
          0,
          0,
          0,
          0,
          0,
          0,
          0,
          0,
          0,
          0,
          0,
          0,
          0,
          0,
          0,
          0,
          0,
          0,
          0,
          0,
          0,
          0,
          0,
          0,
          0,
          0,
          0,
          0,
          0,
          0,
          0,
          0,
          0,
          0,
          0,
          0,
          0
         ],
         "yaxis": "y3"
        },
        {
         "name": "#Idle",
         "type": "bar",
         "x": [
          0,
          1,
          2,
          3,
          4,
          5,
          6,
          7,
          8,
          9,
          10,
          11,
          12,
          13,
          14,
          15,
          16,
          17,
          18,
          19,
          20,
          21,
          22,
          23,
          24,
          25,
          26,
          27,
          28,
          29,
          30,
          31,
          32,
          33,
          34,
          35,
          36,
          37,
          38,
          39,
          40,
          41,
          42,
          43,
          44,
          45,
          46,
          47,
          48,
          49,
          50,
          51,
          52,
          53,
          54,
          55,
          56,
          57,
          58,
          59,
          60,
          61,
          62,
          63,
          64,
          65,
          66,
          67,
          68,
          69,
          70,
          71,
          72,
          73,
          74
         ],
         "xaxis": "x3",
         "y": [
          0,
          0,
          0,
          0,
          0,
          0,
          0,
          0,
          1,
          0,
          0,
          0,
          0,
          1,
          2,
          0,
          5,
          1,
          1,
          3,
          1,
          1,
          2,
          2,
          2,
          0,
          3,
          3,
          4,
          3,
          2,
          6,
          5,
          4,
          18,
          57,
          153,
          208,
          217,
          219,
          219,
          219,
          219,
          219,
          219,
          219,
          219,
          219,
          219,
          219,
          219,
          219,
          219,
          219,
          219,
          219,
          219,
          219,
          219,
          219,
          219,
          219,
          219,
          219,
          219,
          219,
          219,
          219,
          219,
          219,
          219,
          219,
          219,
          219,
          219
         ],
         "yaxis": "y3"
        },
        {
         "mode": "lines",
         "name": "NonPr",
         "type": "scatter",
         "x": [
          0,
          1,
          2,
          3,
          4,
          5,
          6,
          7,
          8,
          9,
          10,
          11,
          12,
          13,
          14,
          15,
          16,
          17,
          18,
          19,
          20,
          21,
          22,
          23,
          24,
          25,
          26,
          27,
          28,
          29,
          30,
          31,
          32,
          33,
          34,
          35,
          36,
          37,
          38,
          39,
          40,
          41,
          42,
          43,
          44,
          45,
          46,
          47,
          48,
          49,
          50,
          51,
          52,
          53,
          54,
          55,
          56,
          57,
          58,
          59,
          60,
          61,
          62,
          63,
          64,
          65,
          66,
          67,
          68,
          69,
          70,
          71,
          72,
          73,
          74
         ],
         "xaxis": "x2",
         "y": [
          298,
          298,
          298,
          298,
          294,
          294,
          290,
          290,
          284,
          282,
          276,
          276,
          262,
          260,
          242,
          238,
          226,
          222,
          216,
          212,
          206,
          198,
          188,
          180,
          170,
          162,
          148,
          128,
          118,
          102,
          90,
          66,
          48,
          30,
          6,
          0,
          0,
          0,
          0,
          0,
          0,
          0,
          0,
          0,
          0,
          0,
          0,
          0,
          0,
          0,
          0,
          0,
          0,
          0,
          0,
          0,
          0,
          0,
          0,
          0,
          0,
          0,
          0,
          0,
          0,
          0,
          0,
          0,
          0,
          0,
          0,
          0,
          0,
          0,
          0
         ],
         "yaxis": "y2"
        },
        {
         "mode": "lines",
         "name": "Printable",
         "type": "scatter",
         "x": [
          0,
          1,
          2,
          3,
          4,
          5,
          6,
          7,
          8,
          9,
          10,
          11,
          12,
          13,
          14,
          15,
          16,
          17,
          18,
          19,
          20,
          21,
          22,
          23,
          24,
          25,
          26,
          27,
          28,
          29,
          30,
          31,
          32,
          33,
          34,
          35,
          36,
          37,
          38,
          39,
          40,
          41,
          42,
          43,
          44,
          45,
          46,
          47,
          48,
          49,
          50,
          51,
          52,
          53,
          54,
          55,
          56,
          57,
          58,
          59,
          60,
          61,
          62,
          63,
          64,
          65,
          66,
          67,
          68,
          69,
          70,
          71,
          72,
          73,
          74
         ],
         "xaxis": "x2",
         "y": [
          97,
          97,
          98,
          98,
          91,
          91,
          84,
          84,
          75,
          73,
          65,
          68,
          45,
          45,
          16,
          14,
          0,
          2,
          2,
          7,
          10,
          8,
          4,
          7,
          9,
          17,
          13,
          0,
          10,
          8,
          16,
          2,
          3,
          9,
          3,
          36,
          49,
          49,
          49,
          49,
          49,
          49,
          49,
          49,
          49,
          49,
          49,
          49,
          49,
          49,
          49,
          49,
          49,
          49,
          49,
          49,
          49,
          49,
          49,
          49,
          49,
          49,
          49,
          49,
          49,
          49,
          49,
          49,
          49,
          49,
          49,
          49,
          49,
          49,
          49
         ],
         "yaxis": "y2"
        },
        {
         "mode": "lines",
         "name": "Materials",
         "type": "scatter",
         "x": [
          0,
          1,
          2,
          3,
          4,
          5,
          6,
          7,
          8,
          9,
          10,
          11,
          12,
          13,
          14,
          15,
          16,
          17,
          18,
          19,
          20,
          21,
          22,
          23,
          24,
          25,
          26,
          27,
          28,
          29,
          30,
          31,
          32,
          33,
          34,
          35,
          36,
          37,
          38,
          39,
          40,
          41,
          42,
          43,
          44,
          45,
          46,
          47,
          48,
          49,
          50,
          51,
          52,
          53,
          54,
          55,
          56,
          57,
          58,
          59,
          60,
          61,
          62,
          63,
          64,
          65,
          66,
          67,
          68,
          69,
          70,
          71,
          72,
          73,
          74
         ],
         "xaxis": "x2",
         "y": [
          49,
          49,
          48,
          48,
          47,
          47,
          46,
          46,
          43,
          41,
          37,
          34,
          29,
          25,
          18,
          12,
          6,
          6,
          11,
          22,
          32,
          42,
          48,
          55,
          61,
          67,
          69,
          65,
          65,
          69,
          73,
          73,
          73,
          76,
          59,
          14,
          1,
          1,
          1,
          1,
          1,
          1,
          1,
          1,
          1,
          1,
          1,
          1,
          1,
          1,
          1,
          1,
          1,
          1,
          1,
          1,
          1,
          1,
          1,
          1,
          1,
          1,
          1,
          1,
          1,
          1,
          1,
          1,
          1,
          1,
          1,
          1,
          1,
          1,
          1
         ],
         "yaxis": "y2"
        },
        {
         "mode": "lines",
         "name": "Env_Materials",
         "type": "scatter",
         "x": [
          0,
          1,
          2,
          3,
          4,
          5,
          6,
          7,
          8,
          9,
          10,
          11,
          12,
          13,
          14,
          15,
          16,
          17,
          18,
          19,
          20,
          21,
          22,
          23,
          24,
          25,
          26,
          27,
          28,
          29,
          30,
          31,
          32,
          33,
          34,
          35,
          36,
          37,
          38,
          39,
          40,
          41,
          42,
          43,
          44,
          45,
          46,
          47,
          48,
          49,
          50,
          51,
          52,
          53,
          54,
          55,
          56,
          57,
          58,
          59,
          60,
          61,
          62,
          63,
          64,
          65,
          66,
          67,
          68,
          69,
          70,
          71,
          72,
          73,
          74
         ],
         "xaxis": "x2",
         "y": [
          500,
          500,
          500,
          500,
          500,
          500,
          500,
          500,
          500,
          500,
          500,
          500,
          500,
          500,
          500,
          500,
          496,
          486,
          469,
          445,
          420,
          396,
          374,
          348,
          320,
          290,
          264,
          241,
          211,
          177,
          141,
          107,
          70,
          25,
          0,
          0,
          0,
          0,
          0,
          0,
          0,
          0,
          0,
          0,
          0,
          0,
          0,
          0,
          0,
          0,
          0,
          0,
          0,
          0,
          0,
          0,
          0,
          0,
          0,
          0,
          0,
          0,
          0,
          0,
          0,
          0,
          0,
          0,
          0,
          0,
          0,
          0,
          0,
          0,
          0
         ],
         "yaxis": "y2"
        },
        {
         "mode": "lines",
         "name": "Avg. Quality #in",
         "type": "scatter",
         "x": [
          0,
          1,
          2,
          3,
          4,
          5,
          6,
          7,
          8,
          9,
          10,
          11,
          12,
          13,
          14,
          15,
          16,
          17,
          18,
          19,
          20,
          21,
          22,
          23,
          24,
          25,
          26,
          27,
          28,
          29,
          30,
          31,
          32,
          33,
          34,
          35,
          36,
          37,
          38,
          39,
          40,
          41,
          42,
          43,
          44,
          45,
          46,
          47,
          48,
          49,
          50,
          51,
          52,
          53,
          54,
          55,
          56,
          57,
          58,
          59,
          60,
          61,
          62,
          63,
          64,
          65,
          66,
          67,
          68,
          69,
          70,
          71,
          72,
          73,
          74
         ],
         "xaxis": "x4",
         "y": [
          0.869,
          0.869,
          0.869,
          0.869,
          0.795,
          0.795,
          0.717,
          0.717,
          0.627,
          0.627,
          0.628,
          0.628,
          0.613,
          0.588,
          0.554,
          0.554,
          0.524,
          0.513,
          0.526,
          0.501,
          0.504,
          0.505,
          0.494,
          0.493,
          0.5,
          0.509,
          0.496,
          0.484,
          0.477,
          0.469,
          0.468,
          0.453,
          0.441,
          0.445,
          0.437,
          0.429,
          0.414,
          0.402,
          0.402,
          0.4,
          0.4,
          0.4,
          0.4,
          0.4,
          0.4,
          0.4,
          0.4,
          0.4,
          0.4,
          0.4,
          0.4,
          0.4,
          0.4,
          0.4,
          0.4,
          0.4,
          0.4,
          0.4,
          0.4,
          0.4,
          0.4,
          0.4,
          0.4,
          0.4,
          0.4,
          0.4,
          0.4,
          0.4,
          0.4,
          0.4,
          0.4,
          0.4,
          0.4,
          0.4,
          0.4
         ],
         "yaxis": "y4"
        },
        {
         "mode": "lines",
         "name": "Avg. Quality #total",
         "type": "scatter",
         "x": [
          0,
          1,
          2,
          3,
          4,
          5,
          6,
          7,
          8,
          9,
          10,
          11,
          12,
          13,
          14,
          15,
          16,
          17,
          18,
          19,
          20,
          21,
          22,
          23,
          24,
          25,
          26,
          27,
          28,
          29,
          30,
          31,
          32,
          33,
          34,
          35,
          36,
          37,
          38,
          39,
          40,
          41,
          42,
          43,
          44,
          45,
          46,
          47,
          48,
          49,
          50,
          51,
          52,
          53,
          54,
          55,
          56,
          57,
          58,
          59,
          60,
          61,
          62,
          63,
          64,
          65,
          66,
          67,
          68,
          69,
          70,
          71,
          72,
          73,
          74
         ],
         "xaxis": "x4",
         "y": [
          0.869,
          0.869,
          0.869,
          0.869,
          0.795,
          0.795,
          0.717,
          0.717,
          0.665,
          0.665,
          0.656,
          0.656,
          0.632,
          0.616,
          0.597,
          0.597,
          0.601,
          0.593,
          0.591,
          0.578,
          0.581,
          0.582,
          0.574,
          0.573,
          0.583,
          0.586,
          0.581,
          0.571,
          0.569,
          0.566,
          0.563,
          0.551,
          0.546,
          0.545,
          0.541,
          0.532,
          0.521,
          0.511,
          0.511,
          0.511,
          0.511,
          0.511,
          0.511,
          0.511,
          0.511,
          0.511,
          0.511,
          0.511,
          0.511,
          0.511,
          0.511,
          0.511,
          0.511,
          0.511,
          0.511,
          0.511,
          0.511,
          0.511,
          0.511,
          0.511,
          0.511,
          0.511,
          0.511,
          0.511,
          0.511,
          0.511,
          0.511,
          0.511,
          0.511,
          0.511,
          0.511,
          0.511,
          0.511,
          0.511,
          0.511
         ],
         "yaxis": "y4"
        }
       ],
       "layout": {
        "annotations": [
         {
          "font": {
           "size": 16
          },
          "showarrow": false,
          "text": "Types of Robots vs Time",
          "x": 0.225,
          "xanchor": "center",
          "xref": "paper",
          "y": 1,
          "yanchor": "bottom",
          "yref": "paper"
         },
         {
          "font": {
           "size": 16
          },
          "showarrow": false,
          "text": "Resources vs Time",
          "x": 0.775,
          "xanchor": "center",
          "xref": "paper",
          "y": 1,
          "yanchor": "bottom",
          "yref": "paper"
         },
         {
          "font": {
           "size": 16
          },
          "showarrow": false,
          "text": "Tasks of Robots vs Time",
          "x": 0.225,
          "xanchor": "center",
          "xref": "paper",
          "y": 0.375,
          "yanchor": "bottom",
          "yref": "paper"
         },
         {
          "font": {
           "size": 16
          },
          "showarrow": false,
          "text": "Build Quality vs Time",
          "x": 0.775,
          "xanchor": "center",
          "xref": "paper",
          "y": 0.375,
          "yanchor": "bottom",
          "yref": "paper"
         }
        ],
        "hovermode": "x",
        "template": {
         "data": {
          "bar": [
           {
            "error_x": {
             "color": "#2a3f5f"
            },
            "error_y": {
             "color": "#2a3f5f"
            },
            "marker": {
             "line": {
              "color": "#E5ECF6",
              "width": 0.5
             },
             "pattern": {
              "fillmode": "overlay",
              "size": 10,
              "solidity": 0.2
             }
            },
            "type": "bar"
           }
          ],
          "barpolar": [
           {
            "marker": {
             "line": {
              "color": "#E5ECF6",
              "width": 0.5
             },
             "pattern": {
              "fillmode": "overlay",
              "size": 10,
              "solidity": 0.2
             }
            },
            "type": "barpolar"
           }
          ],
          "carpet": [
           {
            "aaxis": {
             "endlinecolor": "#2a3f5f",
             "gridcolor": "white",
             "linecolor": "white",
             "minorgridcolor": "white",
             "startlinecolor": "#2a3f5f"
            },
            "baxis": {
             "endlinecolor": "#2a3f5f",
             "gridcolor": "white",
             "linecolor": "white",
             "minorgridcolor": "white",
             "startlinecolor": "#2a3f5f"
            },
            "type": "carpet"
           }
          ],
          "choropleth": [
           {
            "colorbar": {
             "outlinewidth": 0,
             "ticks": ""
            },
            "type": "choropleth"
           }
          ],
          "contour": [
           {
            "colorbar": {
             "outlinewidth": 0,
             "ticks": ""
            },
            "colorscale": [
             [
              0,
              "#0d0887"
             ],
             [
              0.1111111111111111,
              "#46039f"
             ],
             [
              0.2222222222222222,
              "#7201a8"
             ],
             [
              0.3333333333333333,
              "#9c179e"
             ],
             [
              0.4444444444444444,
              "#bd3786"
             ],
             [
              0.5555555555555556,
              "#d8576b"
             ],
             [
              0.6666666666666666,
              "#ed7953"
             ],
             [
              0.7777777777777778,
              "#fb9f3a"
             ],
             [
              0.8888888888888888,
              "#fdca26"
             ],
             [
              1,
              "#f0f921"
             ]
            ],
            "type": "contour"
           }
          ],
          "contourcarpet": [
           {
            "colorbar": {
             "outlinewidth": 0,
             "ticks": ""
            },
            "type": "contourcarpet"
           }
          ],
          "heatmap": [
           {
            "colorbar": {
             "outlinewidth": 0,
             "ticks": ""
            },
            "colorscale": [
             [
              0,
              "#0d0887"
             ],
             [
              0.1111111111111111,
              "#46039f"
             ],
             [
              0.2222222222222222,
              "#7201a8"
             ],
             [
              0.3333333333333333,
              "#9c179e"
             ],
             [
              0.4444444444444444,
              "#bd3786"
             ],
             [
              0.5555555555555556,
              "#d8576b"
             ],
             [
              0.6666666666666666,
              "#ed7953"
             ],
             [
              0.7777777777777778,
              "#fb9f3a"
             ],
             [
              0.8888888888888888,
              "#fdca26"
             ],
             [
              1,
              "#f0f921"
             ]
            ],
            "type": "heatmap"
           }
          ],
          "heatmapgl": [
           {
            "colorbar": {
             "outlinewidth": 0,
             "ticks": ""
            },
            "colorscale": [
             [
              0,
              "#0d0887"
             ],
             [
              0.1111111111111111,
              "#46039f"
             ],
             [
              0.2222222222222222,
              "#7201a8"
             ],
             [
              0.3333333333333333,
              "#9c179e"
             ],
             [
              0.4444444444444444,
              "#bd3786"
             ],
             [
              0.5555555555555556,
              "#d8576b"
             ],
             [
              0.6666666666666666,
              "#ed7953"
             ],
             [
              0.7777777777777778,
              "#fb9f3a"
             ],
             [
              0.8888888888888888,
              "#fdca26"
             ],
             [
              1,
              "#f0f921"
             ]
            ],
            "type": "heatmapgl"
           }
          ],
          "histogram": [
           {
            "marker": {
             "pattern": {
              "fillmode": "overlay",
              "size": 10,
              "solidity": 0.2
             }
            },
            "type": "histogram"
           }
          ],
          "histogram2d": [
           {
            "colorbar": {
             "outlinewidth": 0,
             "ticks": ""
            },
            "colorscale": [
             [
              0,
              "#0d0887"
             ],
             [
              0.1111111111111111,
              "#46039f"
             ],
             [
              0.2222222222222222,
              "#7201a8"
             ],
             [
              0.3333333333333333,
              "#9c179e"
             ],
             [
              0.4444444444444444,
              "#bd3786"
             ],
             [
              0.5555555555555556,
              "#d8576b"
             ],
             [
              0.6666666666666666,
              "#ed7953"
             ],
             [
              0.7777777777777778,
              "#fb9f3a"
             ],
             [
              0.8888888888888888,
              "#fdca26"
             ],
             [
              1,
              "#f0f921"
             ]
            ],
            "type": "histogram2d"
           }
          ],
          "histogram2dcontour": [
           {
            "colorbar": {
             "outlinewidth": 0,
             "ticks": ""
            },
            "colorscale": [
             [
              0,
              "#0d0887"
             ],
             [
              0.1111111111111111,
              "#46039f"
             ],
             [
              0.2222222222222222,
              "#7201a8"
             ],
             [
              0.3333333333333333,
              "#9c179e"
             ],
             [
              0.4444444444444444,
              "#bd3786"
             ],
             [
              0.5555555555555556,
              "#d8576b"
             ],
             [
              0.6666666666666666,
              "#ed7953"
             ],
             [
              0.7777777777777778,
              "#fb9f3a"
             ],
             [
              0.8888888888888888,
              "#fdca26"
             ],
             [
              1,
              "#f0f921"
             ]
            ],
            "type": "histogram2dcontour"
           }
          ],
          "mesh3d": [
           {
            "colorbar": {
             "outlinewidth": 0,
             "ticks": ""
            },
            "type": "mesh3d"
           }
          ],
          "parcoords": [
           {
            "line": {
             "colorbar": {
              "outlinewidth": 0,
              "ticks": ""
             }
            },
            "type": "parcoords"
           }
          ],
          "pie": [
           {
            "automargin": true,
            "type": "pie"
           }
          ],
          "scatter": [
           {
            "fillpattern": {
             "fillmode": "overlay",
             "size": 10,
             "solidity": 0.2
            },
            "type": "scatter"
           }
          ],
          "scatter3d": [
           {
            "line": {
             "colorbar": {
              "outlinewidth": 0,
              "ticks": ""
             }
            },
            "marker": {
             "colorbar": {
              "outlinewidth": 0,
              "ticks": ""
             }
            },
            "type": "scatter3d"
           }
          ],
          "scattercarpet": [
           {
            "marker": {
             "colorbar": {
              "outlinewidth": 0,
              "ticks": ""
             }
            },
            "type": "scattercarpet"
           }
          ],
          "scattergeo": [
           {
            "marker": {
             "colorbar": {
              "outlinewidth": 0,
              "ticks": ""
             }
            },
            "type": "scattergeo"
           }
          ],
          "scattergl": [
           {
            "marker": {
             "colorbar": {
              "outlinewidth": 0,
              "ticks": ""
             }
            },
            "type": "scattergl"
           }
          ],
          "scattermapbox": [
           {
            "marker": {
             "colorbar": {
              "outlinewidth": 0,
              "ticks": ""
             }
            },
            "type": "scattermapbox"
           }
          ],
          "scatterpolar": [
           {
            "marker": {
             "colorbar": {
              "outlinewidth": 0,
              "ticks": ""
             }
            },
            "type": "scatterpolar"
           }
          ],
          "scatterpolargl": [
           {
            "marker": {
             "colorbar": {
              "outlinewidth": 0,
              "ticks": ""
             }
            },
            "type": "scatterpolargl"
           }
          ],
          "scatterternary": [
           {
            "marker": {
             "colorbar": {
              "outlinewidth": 0,
              "ticks": ""
             }
            },
            "type": "scatterternary"
           }
          ],
          "surface": [
           {
            "colorbar": {
             "outlinewidth": 0,
             "ticks": ""
            },
            "colorscale": [
             [
              0,
              "#0d0887"
             ],
             [
              0.1111111111111111,
              "#46039f"
             ],
             [
              0.2222222222222222,
              "#7201a8"
             ],
             [
              0.3333333333333333,
              "#9c179e"
             ],
             [
              0.4444444444444444,
              "#bd3786"
             ],
             [
              0.5555555555555556,
              "#d8576b"
             ],
             [
              0.6666666666666666,
              "#ed7953"
             ],
             [
              0.7777777777777778,
              "#fb9f3a"
             ],
             [
              0.8888888888888888,
              "#fdca26"
             ],
             [
              1,
              "#f0f921"
             ]
            ],
            "type": "surface"
           }
          ],
          "table": [
           {
            "cells": {
             "fill": {
              "color": "#EBF0F8"
             },
             "line": {
              "color": "white"
             }
            },
            "header": {
             "fill": {
              "color": "#C8D4E3"
             },
             "line": {
              "color": "white"
             }
            },
            "type": "table"
           }
          ]
         },
         "layout": {
          "annotationdefaults": {
           "arrowcolor": "#2a3f5f",
           "arrowhead": 0,
           "arrowwidth": 1
          },
          "autotypenumbers": "strict",
          "coloraxis": {
           "colorbar": {
            "outlinewidth": 0,
            "ticks": ""
           }
          },
          "colorscale": {
           "diverging": [
            [
             0,
             "#8e0152"
            ],
            [
             0.1,
             "#c51b7d"
            ],
            [
             0.2,
             "#de77ae"
            ],
            [
             0.3,
             "#f1b6da"
            ],
            [
             0.4,
             "#fde0ef"
            ],
            [
             0.5,
             "#f7f7f7"
            ],
            [
             0.6,
             "#e6f5d0"
            ],
            [
             0.7,
             "#b8e186"
            ],
            [
             0.8,
             "#7fbc41"
            ],
            [
             0.9,
             "#4d9221"
            ],
            [
             1,
             "#276419"
            ]
           ],
           "sequential": [
            [
             0,
             "#0d0887"
            ],
            [
             0.1111111111111111,
             "#46039f"
            ],
            [
             0.2222222222222222,
             "#7201a8"
            ],
            [
             0.3333333333333333,
             "#9c179e"
            ],
            [
             0.4444444444444444,
             "#bd3786"
            ],
            [
             0.5555555555555556,
             "#d8576b"
            ],
            [
             0.6666666666666666,
             "#ed7953"
            ],
            [
             0.7777777777777778,
             "#fb9f3a"
            ],
            [
             0.8888888888888888,
             "#fdca26"
            ],
            [
             1,
             "#f0f921"
            ]
           ],
           "sequentialminus": [
            [
             0,
             "#0d0887"
            ],
            [
             0.1111111111111111,
             "#46039f"
            ],
            [
             0.2222222222222222,
             "#7201a8"
            ],
            [
             0.3333333333333333,
             "#9c179e"
            ],
            [
             0.4444444444444444,
             "#bd3786"
            ],
            [
             0.5555555555555556,
             "#d8576b"
            ],
            [
             0.6666666666666666,
             "#ed7953"
            ],
            [
             0.7777777777777778,
             "#fb9f3a"
            ],
            [
             0.8888888888888888,
             "#fdca26"
            ],
            [
             1,
             "#f0f921"
            ]
           ]
          },
          "colorway": [
           "#636efa",
           "#EF553B",
           "#00cc96",
           "#ab63fa",
           "#FFA15A",
           "#19d3f3",
           "#FF6692",
           "#B6E880",
           "#FF97FF",
           "#FECB52"
          ],
          "font": {
           "color": "#2a3f5f"
          },
          "geo": {
           "bgcolor": "white",
           "lakecolor": "white",
           "landcolor": "#E5ECF6",
           "showlakes": true,
           "showland": true,
           "subunitcolor": "white"
          },
          "hoverlabel": {
           "align": "left"
          },
          "hovermode": "closest",
          "mapbox": {
           "style": "light"
          },
          "paper_bgcolor": "white",
          "plot_bgcolor": "#E5ECF6",
          "polar": {
           "angularaxis": {
            "gridcolor": "white",
            "linecolor": "white",
            "ticks": ""
           },
           "bgcolor": "#E5ECF6",
           "radialaxis": {
            "gridcolor": "white",
            "linecolor": "white",
            "ticks": ""
           }
          },
          "scene": {
           "xaxis": {
            "backgroundcolor": "#E5ECF6",
            "gridcolor": "white",
            "gridwidth": 2,
            "linecolor": "white",
            "showbackground": true,
            "ticks": "",
            "zerolinecolor": "white"
           },
           "yaxis": {
            "backgroundcolor": "#E5ECF6",
            "gridcolor": "white",
            "gridwidth": 2,
            "linecolor": "white",
            "showbackground": true,
            "ticks": "",
            "zerolinecolor": "white"
           },
           "zaxis": {
            "backgroundcolor": "#E5ECF6",
            "gridcolor": "white",
            "gridwidth": 2,
            "linecolor": "white",
            "showbackground": true,
            "ticks": "",
            "zerolinecolor": "white"
           }
          },
          "shapedefaults": {
           "line": {
            "color": "#2a3f5f"
           }
          },
          "ternary": {
           "aaxis": {
            "gridcolor": "white",
            "linecolor": "white",
            "ticks": ""
           },
           "baxis": {
            "gridcolor": "white",
            "linecolor": "white",
            "ticks": ""
           },
           "bgcolor": "#E5ECF6",
           "caxis": {
            "gridcolor": "white",
            "linecolor": "white",
            "ticks": ""
           }
          },
          "title": {
           "x": 0.05
          },
          "xaxis": {
           "automargin": true,
           "gridcolor": "white",
           "linecolor": "white",
           "ticks": "",
           "title": {
            "standoff": 15
           },
           "zerolinecolor": "white",
           "zerolinewidth": 2
          },
          "yaxis": {
           "automargin": true,
           "gridcolor": "white",
           "linecolor": "white",
           "ticks": "",
           "title": {
            "standoff": 15
           },
           "zerolinecolor": "white",
           "zerolinewidth": 2
          }
         }
        },
        "title": {
         "text": "DHE - Characteristics"
        },
        "xaxis": {
         "anchor": "y",
         "domain": [
          0,
          0.45
         ]
        },
        "xaxis2": {
         "anchor": "y2",
         "domain": [
          0.55,
          1
         ]
        },
        "xaxis3": {
         "anchor": "y3",
         "domain": [
          0,
          0.45
         ]
        },
        "xaxis4": {
         "anchor": "y4",
         "domain": [
          0.55,
          1
         ]
        },
        "yaxis": {
         "anchor": "x",
         "domain": [
          0.625,
          1
         ]
        },
        "yaxis2": {
         "anchor": "x2",
         "domain": [
          0.625,
          1
         ]
        },
        "yaxis3": {
         "anchor": "x3",
         "domain": [
          0,
          0.375
         ]
        },
        "yaxis4": {
         "anchor": "x4",
         "domain": [
          0,
          0.375
         ]
        }
       }
      },
      "text/html": [
       "<div>                            <div id=\"447f22cf-7d80-4d91-bc5d-c499ac9e1530\" class=\"plotly-graph-div\" style=\"height:525px; width:100%;\"></div>            <script type=\"text/javascript\">                require([\"plotly\"], function(Plotly) {                    window.PLOTLYENV=window.PLOTLYENV || {};                                    if (document.getElementById(\"447f22cf-7d80-4d91-bc5d-c499ac9e1530\")) {                    Plotly.newPlot(                        \"447f22cf-7d80-4d91-bc5d-c499ac9e1530\",                        [{\"name\":\"#Replicator\",\"x\":[0.0,1.0,2.0,3.0,4.0,5.0,6.0,7.0,8.0,9.0,10.0,11.0,12.0,13.0,14.0,15.0,16.0,17.0,18.0,19.0,20.0,21.0,22.0,23.0,24.0,25.0,26.0,27.0,28.0,29.0,30.0,31.0,32.0,33.0,34.0,35.0,36.0,37.0,38.0,39.0,40.0,41.0,42.0,43.0,44.0,45.0,46.0,47.0,48.0,49.0,50.0,51.0,52.0,53.0,54.0,55.0,56.0,57.0,58.0,59.0,60.0,61.0,62.0,63.0,64.0,65.0,66.0,67.0,68.0,69.0,70.0,71.0,72.0,73.0,74.0],\"y\":[0.0,0.0,0.0,0.0,0.0,0.0,0.0,0.0,0.0,0.0,0.0,0.0,0.0,0.0,0.0,0.0,0.0,0.0,0.0,0.0,0.0,0.0,0.0,0.0,0.0,0.0,0.0,0.0,0.0,0.0,0.0,0.0,0.0,0.0,0.0,0.0,0.0,0.0,0.0,0.0,0.0,0.0,0.0,0.0,0.0,0.0,0.0,0.0,0.0,0.0,0.0,0.0,0.0,0.0,0.0,0.0,0.0,0.0,0.0,0.0,0.0,0.0,0.0,0.0,0.0,0.0,0.0,0.0,0.0,0.0,0.0,0.0,0.0,0.0,0.0],\"type\":\"bar\",\"xaxis\":\"x\",\"yaxis\":\"y\"},{\"name\":\"#Normal\",\"x\":[0.0,1.0,2.0,3.0,4.0,5.0,6.0,7.0,8.0,9.0,10.0,11.0,12.0,13.0,14.0,15.0,16.0,17.0,18.0,19.0,20.0,21.0,22.0,23.0,24.0,25.0,26.0,27.0,28.0,29.0,30.0,31.0,32.0,33.0,34.0,35.0,36.0,37.0,38.0,39.0,40.0,41.0,42.0,43.0,44.0,45.0,46.0,47.0,48.0,49.0,50.0,51.0,52.0,53.0,54.0,55.0,56.0,57.0,58.0,59.0,60.0,61.0,62.0,63.0,64.0,65.0,66.0,67.0,68.0,69.0,70.0,71.0,72.0,73.0,74.0],\"y\":[0.0,0.0,0.0,0.0,0.0,0.0,0.0,0.0,0.0,0.0,0.0,0.0,0.0,0.0,0.0,0.0,0.0,0.0,0.0,0.0,0.0,0.0,0.0,0.0,0.0,0.0,0.0,0.0,0.0,0.0,0.0,0.0,0.0,0.0,0.0,0.0,0.0,0.0,0.0,0.0,0.0,0.0,0.0,0.0,0.0,0.0,0.0,0.0,0.0,0.0,0.0,0.0,0.0,0.0,0.0,0.0,0.0,0.0,0.0,0.0,0.0,0.0,0.0,0.0,0.0,0.0,0.0,0.0,0.0,0.0,0.0,0.0,0.0,0.0,0.0],\"type\":\"bar\",\"xaxis\":\"x\",\"yaxis\":\"y\"},{\"name\":\"#Assembler\",\"x\":[0.0,1.0,2.0,3.0,4.0,5.0,6.0,7.0,8.0,9.0,10.0,11.0,12.0,13.0,14.0,15.0,16.0,17.0,18.0,19.0,20.0,21.0,22.0,23.0,24.0,25.0,26.0,27.0,28.0,29.0,30.0,31.0,32.0,33.0,34.0,35.0,36.0,37.0,38.0,39.0,40.0,41.0,42.0,43.0,44.0,45.0,46.0,47.0,48.0,49.0,50.0,51.0,52.0,53.0,54.0,55.0,56.0,57.0,58.0,59.0,60.0,61.0,62.0,63.0,64.0,65.0,66.0,67.0,68.0,69.0,70.0,71.0,72.0,73.0,74.0],\"y\":[1.0,1.0,1.0,1.0,3.0,3.0,5.0,5.0,6.0,6.0,8.0,8.0,14.0,15.0,21.0,21.0,27.0,28.0,34.0,34.0,38.0,40.0,42.0,43.0,45.0,49.0,52.0,53.0,58.0,63.0,68.0,73.0,75.0,82.0,86.0,94.0,100.0,104.0,106.0,107.0,107.0,107.0,107.0,107.0,107.0,107.0,107.0,107.0,107.0,107.0,107.0,107.0,107.0,107.0,107.0,107.0,107.0,107.0,107.0,107.0,107.0,107.0,107.0,107.0,107.0,107.0,107.0,107.0,107.0,107.0,107.0,107.0,107.0,107.0,107.0],\"type\":\"bar\",\"xaxis\":\"x\",\"yaxis\":\"y\"},{\"name\":\"#Printer\",\"x\":[0.0,1.0,2.0,3.0,4.0,5.0,6.0,7.0,8.0,9.0,10.0,11.0,12.0,13.0,14.0,15.0,16.0,17.0,18.0,19.0,20.0,21.0,22.0,23.0,24.0,25.0,26.0,27.0,28.0,29.0,30.0,31.0,32.0,33.0,34.0,35.0,36.0,37.0,38.0,39.0,40.0,41.0,42.0,43.0,44.0,45.0,46.0,47.0,48.0,49.0,50.0,51.0,52.0,53.0,54.0,55.0,56.0,57.0,58.0,59.0,60.0,61.0,62.0,63.0,64.0,65.0,66.0,67.0,68.0,69.0,70.0,71.0,72.0,73.0,74.0],\"y\":[1.0,1.0,1.0,1.0,1.0,1.0,1.0,1.0,5.0,5.0,7.0,7.0,9.0,9.0,13.0,13.0,20.0,20.0,25.0,28.0,29.0,30.0,32.0,39.0,45.0,47.0,49.0,55.0,60.0,62.0,63.0,70.0,75.0,84.0,86.0,90.0,105.0,110.0,112.0,112.0,112.0,112.0,112.0,112.0,112.0,112.0,112.0,112.0,112.0,112.0,112.0,112.0,112.0,112.0,112.0,112.0,112.0,112.0,112.0,112.0,112.0,112.0,112.0,112.0,112.0,112.0,112.0,112.0,112.0,112.0,112.0,112.0,112.0,112.0,112.0],\"type\":\"bar\",\"xaxis\":\"x\",\"yaxis\":\"y\"},{\"name\":\"#Assembling\",\"x\":[0.0,1.0,2.0,3.0,4.0,5.0,6.0,7.0,8.0,9.0,10.0,11.0,12.0,13.0,14.0,15.0,16.0,17.0,18.0,19.0,20.0,21.0,22.0,23.0,24.0,25.0,26.0,27.0,28.0,29.0,30.0,31.0,32.0,33.0,34.0,35.0,36.0,37.0,38.0,39.0,40.0,41.0,42.0,43.0,44.0,45.0,46.0,47.0,48.0,49.0,50.0,51.0,52.0,53.0,54.0,55.0,56.0,57.0,58.0,59.0,60.0,61.0,62.0,63.0,64.0,65.0,66.0,67.0,68.0,69.0,70.0,71.0,72.0,73.0,74.0],\"y\":[1.0,1.0,1.0,1.0,3.0,3.0,5.0,5.0,5.0,6.0,8.0,8.0,14.0,14.0,19.0,21.0,15.0,17.0,11.0,10.0,10.0,15.0,19.0,17.0,16.0,18.0,23.0,29.0,24.0,26.0,29.0,34.0,36.0,32.0,46.0,39.0,14.0,4.0,1.0,0.0,0.0,0.0,0.0,0.0,0.0,0.0,0.0,0.0,0.0,0.0,0.0,0.0,0.0,0.0,0.0,0.0,0.0,0.0,0.0,0.0,0.0,0.0,0.0,0.0,0.0,0.0,0.0,0.0,0.0,0.0,0.0,0.0,0.0,0.0,0.0],\"type\":\"bar\",\"xaxis\":\"x3\",\"yaxis\":\"y3\"},{\"name\":\"#Printing\",\"x\":[0.0,1.0,2.0,3.0,4.0,5.0,6.0,7.0,8.0,9.0,10.0,11.0,12.0,13.0,14.0,15.0,16.0,17.0,18.0,19.0,20.0,21.0,22.0,23.0,24.0,25.0,26.0,27.0,28.0,29.0,30.0,31.0,32.0,33.0,34.0,35.0,36.0,37.0,38.0,39.0,40.0,41.0,42.0,43.0,44.0,45.0,46.0,47.0,48.0,49.0,50.0,51.0,52.0,53.0,54.0,55.0,56.0,57.0,58.0,59.0,60.0,61.0,62.0,63.0,64.0,65.0,66.0,67.0,68.0,69.0,70.0,71.0,72.0,73.0,74.0],\"y\":[1.0,1.0,1.0,1.0,1.0,1.0,1.0,1.0,5.0,5.0,7.0,7.0,9.0,9.0,13.0,13.0,19.0,20.0,24.0,25.0,28.0,29.0,30.0,38.0,43.0,47.0,49.0,53.0,59.0,60.0,62.0,69.0,72.0,83.0,84.0,88.0,38.0,2.0,0.0,0.0,0.0,0.0,0.0,0.0,0.0,0.0,0.0,0.0,0.0,0.0,0.0,0.0,0.0,0.0,0.0,0.0,0.0,0.0,0.0,0.0,0.0,0.0,0.0,0.0,0.0,0.0,0.0,0.0,0.0,0.0,0.0,0.0,0.0,0.0,0.0],\"type\":\"bar\",\"xaxis\":\"x3\",\"yaxis\":\"y3\"},{\"name\":\"#Collecting\",\"x\":[0.0,1.0,2.0,3.0,4.0,5.0,6.0,7.0,8.0,9.0,10.0,11.0,12.0,13.0,14.0,15.0,16.0,17.0,18.0,19.0,20.0,21.0,22.0,23.0,24.0,25.0,26.0,27.0,28.0,29.0,30.0,31.0,32.0,33.0,34.0,35.0,36.0,37.0,38.0,39.0,40.0,41.0,42.0,43.0,44.0,45.0,46.0,47.0,48.0,49.0,50.0,51.0,52.0,53.0,54.0,55.0,56.0,57.0,58.0,59.0,60.0,61.0,62.0,63.0,64.0,65.0,66.0,67.0,68.0,69.0,70.0,71.0,72.0,73.0,74.0],\"y\":[0.0,0.0,0.0,0.0,0.0,0.0,0.0,0.0,0.0,0.0,0.0,0.0,0.0,0.0,0.0,0.0,8.0,10.0,23.0,24.0,28.0,25.0,23.0,25.0,29.0,31.0,26.0,23.0,31.0,36.0,38.0,34.0,37.0,47.0,24.0,0.0,0.0,0.0,0.0,0.0,0.0,0.0,0.0,0.0,0.0,0.0,0.0,0.0,0.0,0.0,0.0,0.0,0.0,0.0,0.0,0.0,0.0,0.0,0.0,0.0,0.0,0.0,0.0,0.0,0.0,0.0,0.0,0.0,0.0,0.0,0.0,0.0,0.0,0.0,0.0],\"type\":\"bar\",\"xaxis\":\"x3\",\"yaxis\":\"y3\"},{\"name\":\"#Idle\",\"x\":[0.0,1.0,2.0,3.0,4.0,5.0,6.0,7.0,8.0,9.0,10.0,11.0,12.0,13.0,14.0,15.0,16.0,17.0,18.0,19.0,20.0,21.0,22.0,23.0,24.0,25.0,26.0,27.0,28.0,29.0,30.0,31.0,32.0,33.0,34.0,35.0,36.0,37.0,38.0,39.0,40.0,41.0,42.0,43.0,44.0,45.0,46.0,47.0,48.0,49.0,50.0,51.0,52.0,53.0,54.0,55.0,56.0,57.0,58.0,59.0,60.0,61.0,62.0,63.0,64.0,65.0,66.0,67.0,68.0,69.0,70.0,71.0,72.0,73.0,74.0],\"y\":[0.0,0.0,0.0,0.0,0.0,0.0,0.0,0.0,1.0,0.0,0.0,0.0,0.0,1.0,2.0,0.0,5.0,1.0,1.0,3.0,1.0,1.0,2.0,2.0,2.0,0.0,3.0,3.0,4.0,3.0,2.0,6.0,5.0,4.0,18.0,57.0,153.0,208.0,217.0,219.0,219.0,219.0,219.0,219.0,219.0,219.0,219.0,219.0,219.0,219.0,219.0,219.0,219.0,219.0,219.0,219.0,219.0,219.0,219.0,219.0,219.0,219.0,219.0,219.0,219.0,219.0,219.0,219.0,219.0,219.0,219.0,219.0,219.0,219.0,219.0],\"type\":\"bar\",\"xaxis\":\"x3\",\"yaxis\":\"y3\"},{\"mode\":\"lines\",\"name\":\"NonPr\",\"x\":[0.0,1.0,2.0,3.0,4.0,5.0,6.0,7.0,8.0,9.0,10.0,11.0,12.0,13.0,14.0,15.0,16.0,17.0,18.0,19.0,20.0,21.0,22.0,23.0,24.0,25.0,26.0,27.0,28.0,29.0,30.0,31.0,32.0,33.0,34.0,35.0,36.0,37.0,38.0,39.0,40.0,41.0,42.0,43.0,44.0,45.0,46.0,47.0,48.0,49.0,50.0,51.0,52.0,53.0,54.0,55.0,56.0,57.0,58.0,59.0,60.0,61.0,62.0,63.0,64.0,65.0,66.0,67.0,68.0,69.0,70.0,71.0,72.0,73.0,74.0],\"y\":[298.0,298.0,298.0,298.0,294.0,294.0,290.0,290.0,284.0,282.0,276.0,276.0,262.0,260.0,242.0,238.0,226.0,222.0,216.0,212.0,206.0,198.0,188.0,180.0,170.0,162.0,148.0,128.0,118.0,102.0,90.0,66.0,48.0,30.0,6.0,0.0,0.0,0.0,0.0,0.0,0.0,0.0,0.0,0.0,0.0,0.0,0.0,0.0,0.0,0.0,0.0,0.0,0.0,0.0,0.0,0.0,0.0,0.0,0.0,0.0,0.0,0.0,0.0,0.0,0.0,0.0,0.0,0.0,0.0,0.0,0.0,0.0,0.0,0.0,0.0],\"type\":\"scatter\",\"xaxis\":\"x2\",\"yaxis\":\"y2\"},{\"mode\":\"lines\",\"name\":\"Printable\",\"x\":[0.0,1.0,2.0,3.0,4.0,5.0,6.0,7.0,8.0,9.0,10.0,11.0,12.0,13.0,14.0,15.0,16.0,17.0,18.0,19.0,20.0,21.0,22.0,23.0,24.0,25.0,26.0,27.0,28.0,29.0,30.0,31.0,32.0,33.0,34.0,35.0,36.0,37.0,38.0,39.0,40.0,41.0,42.0,43.0,44.0,45.0,46.0,47.0,48.0,49.0,50.0,51.0,52.0,53.0,54.0,55.0,56.0,57.0,58.0,59.0,60.0,61.0,62.0,63.0,64.0,65.0,66.0,67.0,68.0,69.0,70.0,71.0,72.0,73.0,74.0],\"y\":[97.0,97.0,98.0,98.0,91.0,91.0,84.0,84.0,75.0,73.0,65.0,68.0,45.0,45.0,16.0,14.0,0.0,2.0,2.0,7.0,10.0,8.0,4.0,7.0,9.0,17.0,13.0,0.0,10.0,8.0,16.0,2.0,3.0,9.0,3.0,36.0,49.0,49.0,49.0,49.0,49.0,49.0,49.0,49.0,49.0,49.0,49.0,49.0,49.0,49.0,49.0,49.0,49.0,49.0,49.0,49.0,49.0,49.0,49.0,49.0,49.0,49.0,49.0,49.0,49.0,49.0,49.0,49.0,49.0,49.0,49.0,49.0,49.0,49.0,49.0],\"type\":\"scatter\",\"xaxis\":\"x2\",\"yaxis\":\"y2\"},{\"mode\":\"lines\",\"name\":\"Materials\",\"x\":[0.0,1.0,2.0,3.0,4.0,5.0,6.0,7.0,8.0,9.0,10.0,11.0,12.0,13.0,14.0,15.0,16.0,17.0,18.0,19.0,20.0,21.0,22.0,23.0,24.0,25.0,26.0,27.0,28.0,29.0,30.0,31.0,32.0,33.0,34.0,35.0,36.0,37.0,38.0,39.0,40.0,41.0,42.0,43.0,44.0,45.0,46.0,47.0,48.0,49.0,50.0,51.0,52.0,53.0,54.0,55.0,56.0,57.0,58.0,59.0,60.0,61.0,62.0,63.0,64.0,65.0,66.0,67.0,68.0,69.0,70.0,71.0,72.0,73.0,74.0],\"y\":[49.0,49.0,48.0,48.0,47.0,47.0,46.0,46.0,43.0,41.0,37.0,34.0,29.0,25.0,18.0,12.0,6.0,6.0,11.0,22.0,32.0,42.0,48.0,55.0,61.0,67.0,69.0,65.0,65.0,69.0,73.0,73.0,73.0,76.0,59.0,14.0,1.0,1.0,1.0,1.0,1.0,1.0,1.0,1.0,1.0,1.0,1.0,1.0,1.0,1.0,1.0,1.0,1.0,1.0,1.0,1.0,1.0,1.0,1.0,1.0,1.0,1.0,1.0,1.0,1.0,1.0,1.0,1.0,1.0,1.0,1.0,1.0,1.0,1.0,1.0],\"type\":\"scatter\",\"xaxis\":\"x2\",\"yaxis\":\"y2\"},{\"mode\":\"lines\",\"name\":\"Env_Materials\",\"x\":[0.0,1.0,2.0,3.0,4.0,5.0,6.0,7.0,8.0,9.0,10.0,11.0,12.0,13.0,14.0,15.0,16.0,17.0,18.0,19.0,20.0,21.0,22.0,23.0,24.0,25.0,26.0,27.0,28.0,29.0,30.0,31.0,32.0,33.0,34.0,35.0,36.0,37.0,38.0,39.0,40.0,41.0,42.0,43.0,44.0,45.0,46.0,47.0,48.0,49.0,50.0,51.0,52.0,53.0,54.0,55.0,56.0,57.0,58.0,59.0,60.0,61.0,62.0,63.0,64.0,65.0,66.0,67.0,68.0,69.0,70.0,71.0,72.0,73.0,74.0],\"y\":[500.0,500.0,500.0,500.0,500.0,500.0,500.0,500.0,500.0,500.0,500.0,500.0,500.0,500.0,500.0,500.0,496.0,486.0,469.0,445.0,420.0,396.0,374.0,348.0,320.0,290.0,264.0,241.0,211.0,177.0,141.0,107.0,70.0,25.0,0.0,0.0,0.0,0.0,0.0,0.0,0.0,0.0,0.0,0.0,0.0,0.0,0.0,0.0,0.0,0.0,0.0,0.0,0.0,0.0,0.0,0.0,0.0,0.0,0.0,0.0,0.0,0.0,0.0,0.0,0.0,0.0,0.0,0.0,0.0,0.0,0.0,0.0,0.0,0.0,0.0],\"type\":\"scatter\",\"xaxis\":\"x2\",\"yaxis\":\"y2\"},{\"mode\":\"lines\",\"name\":\"Avg. Quality #in\",\"x\":[0.0,1.0,2.0,3.0,4.0,5.0,6.0,7.0,8.0,9.0,10.0,11.0,12.0,13.0,14.0,15.0,16.0,17.0,18.0,19.0,20.0,21.0,22.0,23.0,24.0,25.0,26.0,27.0,28.0,29.0,30.0,31.0,32.0,33.0,34.0,35.0,36.0,37.0,38.0,39.0,40.0,41.0,42.0,43.0,44.0,45.0,46.0,47.0,48.0,49.0,50.0,51.0,52.0,53.0,54.0,55.0,56.0,57.0,58.0,59.0,60.0,61.0,62.0,63.0,64.0,65.0,66.0,67.0,68.0,69.0,70.0,71.0,72.0,73.0,74.0],\"y\":[0.869,0.869,0.869,0.869,0.795,0.795,0.717,0.717,0.627,0.627,0.628,0.628,0.613,0.588,0.554,0.554,0.524,0.513,0.526,0.501,0.504,0.505,0.494,0.493,0.5,0.509,0.496,0.484,0.477,0.469,0.468,0.453,0.441,0.445,0.437,0.429,0.414,0.402,0.402,0.4,0.4,0.4,0.4,0.4,0.4,0.4,0.4,0.4,0.4,0.4,0.4,0.4,0.4,0.4,0.4,0.4,0.4,0.4,0.4,0.4,0.4,0.4,0.4,0.4,0.4,0.4,0.4,0.4,0.4,0.4,0.4,0.4,0.4,0.4,0.4],\"type\":\"scatter\",\"xaxis\":\"x4\",\"yaxis\":\"y4\"},{\"mode\":\"lines\",\"name\":\"Avg. Quality #total\",\"x\":[0.0,1.0,2.0,3.0,4.0,5.0,6.0,7.0,8.0,9.0,10.0,11.0,12.0,13.0,14.0,15.0,16.0,17.0,18.0,19.0,20.0,21.0,22.0,23.0,24.0,25.0,26.0,27.0,28.0,29.0,30.0,31.0,32.0,33.0,34.0,35.0,36.0,37.0,38.0,39.0,40.0,41.0,42.0,43.0,44.0,45.0,46.0,47.0,48.0,49.0,50.0,51.0,52.0,53.0,54.0,55.0,56.0,57.0,58.0,59.0,60.0,61.0,62.0,63.0,64.0,65.0,66.0,67.0,68.0,69.0,70.0,71.0,72.0,73.0,74.0],\"y\":[0.869,0.869,0.869,0.869,0.795,0.795,0.717,0.717,0.665,0.665,0.656,0.656,0.632,0.616,0.597,0.597,0.601,0.593,0.591,0.578,0.581,0.582,0.574,0.573,0.583,0.586,0.581,0.571,0.569,0.566,0.563,0.551,0.546,0.545,0.541,0.532,0.521,0.511,0.511,0.511,0.511,0.511,0.511,0.511,0.511,0.511,0.511,0.511,0.511,0.511,0.511,0.511,0.511,0.511,0.511,0.511,0.511,0.511,0.511,0.511,0.511,0.511,0.511,0.511,0.511,0.511,0.511,0.511,0.511,0.511,0.511,0.511,0.511,0.511,0.511],\"type\":\"scatter\",\"xaxis\":\"x4\",\"yaxis\":\"y4\"}],                        {\"template\":{\"data\":{\"histogram2dcontour\":[{\"type\":\"histogram2dcontour\",\"colorbar\":{\"outlinewidth\":0,\"ticks\":\"\"},\"colorscale\":[[0.0,\"#0d0887\"],[0.1111111111111111,\"#46039f\"],[0.2222222222222222,\"#7201a8\"],[0.3333333333333333,\"#9c179e\"],[0.4444444444444444,\"#bd3786\"],[0.5555555555555556,\"#d8576b\"],[0.6666666666666666,\"#ed7953\"],[0.7777777777777778,\"#fb9f3a\"],[0.8888888888888888,\"#fdca26\"],[1.0,\"#f0f921\"]]}],\"choropleth\":[{\"type\":\"choropleth\",\"colorbar\":{\"outlinewidth\":0,\"ticks\":\"\"}}],\"histogram2d\":[{\"type\":\"histogram2d\",\"colorbar\":{\"outlinewidth\":0,\"ticks\":\"\"},\"colorscale\":[[0.0,\"#0d0887\"],[0.1111111111111111,\"#46039f\"],[0.2222222222222222,\"#7201a8\"],[0.3333333333333333,\"#9c179e\"],[0.4444444444444444,\"#bd3786\"],[0.5555555555555556,\"#d8576b\"],[0.6666666666666666,\"#ed7953\"],[0.7777777777777778,\"#fb9f3a\"],[0.8888888888888888,\"#fdca26\"],[1.0,\"#f0f921\"]]}],\"heatmap\":[{\"type\":\"heatmap\",\"colorbar\":{\"outlinewidth\":0,\"ticks\":\"\"},\"colorscale\":[[0.0,\"#0d0887\"],[0.1111111111111111,\"#46039f\"],[0.2222222222222222,\"#7201a8\"],[0.3333333333333333,\"#9c179e\"],[0.4444444444444444,\"#bd3786\"],[0.5555555555555556,\"#d8576b\"],[0.6666666666666666,\"#ed7953\"],[0.7777777777777778,\"#fb9f3a\"],[0.8888888888888888,\"#fdca26\"],[1.0,\"#f0f921\"]]}],\"heatmapgl\":[{\"type\":\"heatmapgl\",\"colorbar\":{\"outlinewidth\":0,\"ticks\":\"\"},\"colorscale\":[[0.0,\"#0d0887\"],[0.1111111111111111,\"#46039f\"],[0.2222222222222222,\"#7201a8\"],[0.3333333333333333,\"#9c179e\"],[0.4444444444444444,\"#bd3786\"],[0.5555555555555556,\"#d8576b\"],[0.6666666666666666,\"#ed7953\"],[0.7777777777777778,\"#fb9f3a\"],[0.8888888888888888,\"#fdca26\"],[1.0,\"#f0f921\"]]}],\"contourcarpet\":[{\"type\":\"contourcarpet\",\"colorbar\":{\"outlinewidth\":0,\"ticks\":\"\"}}],\"contour\":[{\"type\":\"contour\",\"colorbar\":{\"outlinewidth\":0,\"ticks\":\"\"},\"colorscale\":[[0.0,\"#0d0887\"],[0.1111111111111111,\"#46039f\"],[0.2222222222222222,\"#7201a8\"],[0.3333333333333333,\"#9c179e\"],[0.4444444444444444,\"#bd3786\"],[0.5555555555555556,\"#d8576b\"],[0.6666666666666666,\"#ed7953\"],[0.7777777777777778,\"#fb9f3a\"],[0.8888888888888888,\"#fdca26\"],[1.0,\"#f0f921\"]]}],\"surface\":[{\"type\":\"surface\",\"colorbar\":{\"outlinewidth\":0,\"ticks\":\"\"},\"colorscale\":[[0.0,\"#0d0887\"],[0.1111111111111111,\"#46039f\"],[0.2222222222222222,\"#7201a8\"],[0.3333333333333333,\"#9c179e\"],[0.4444444444444444,\"#bd3786\"],[0.5555555555555556,\"#d8576b\"],[0.6666666666666666,\"#ed7953\"],[0.7777777777777778,\"#fb9f3a\"],[0.8888888888888888,\"#fdca26\"],[1.0,\"#f0f921\"]]}],\"mesh3d\":[{\"type\":\"mesh3d\",\"colorbar\":{\"outlinewidth\":0,\"ticks\":\"\"}}],\"scatter\":[{\"fillpattern\":{\"fillmode\":\"overlay\",\"size\":10,\"solidity\":0.2},\"type\":\"scatter\"}],\"parcoords\":[{\"type\":\"parcoords\",\"line\":{\"colorbar\":{\"outlinewidth\":0,\"ticks\":\"\"}}}],\"scatterpolargl\":[{\"type\":\"scatterpolargl\",\"marker\":{\"colorbar\":{\"outlinewidth\":0,\"ticks\":\"\"}}}],\"bar\":[{\"error_x\":{\"color\":\"#2a3f5f\"},\"error_y\":{\"color\":\"#2a3f5f\"},\"marker\":{\"line\":{\"color\":\"#E5ECF6\",\"width\":0.5},\"pattern\":{\"fillmode\":\"overlay\",\"size\":10,\"solidity\":0.2}},\"type\":\"bar\"}],\"scattergeo\":[{\"type\":\"scattergeo\",\"marker\":{\"colorbar\":{\"outlinewidth\":0,\"ticks\":\"\"}}}],\"scatterpolar\":[{\"type\":\"scatterpolar\",\"marker\":{\"colorbar\":{\"outlinewidth\":0,\"ticks\":\"\"}}}],\"histogram\":[{\"marker\":{\"pattern\":{\"fillmode\":\"overlay\",\"size\":10,\"solidity\":0.2}},\"type\":\"histogram\"}],\"scattergl\":[{\"type\":\"scattergl\",\"marker\":{\"colorbar\":{\"outlinewidth\":0,\"ticks\":\"\"}}}],\"scatter3d\":[{\"type\":\"scatter3d\",\"line\":{\"colorbar\":{\"outlinewidth\":0,\"ticks\":\"\"}},\"marker\":{\"colorbar\":{\"outlinewidth\":0,\"ticks\":\"\"}}}],\"scattermapbox\":[{\"type\":\"scattermapbox\",\"marker\":{\"colorbar\":{\"outlinewidth\":0,\"ticks\":\"\"}}}],\"scatterternary\":[{\"type\":\"scatterternary\",\"marker\":{\"colorbar\":{\"outlinewidth\":0,\"ticks\":\"\"}}}],\"scattercarpet\":[{\"type\":\"scattercarpet\",\"marker\":{\"colorbar\":{\"outlinewidth\":0,\"ticks\":\"\"}}}],\"carpet\":[{\"aaxis\":{\"endlinecolor\":\"#2a3f5f\",\"gridcolor\":\"white\",\"linecolor\":\"white\",\"minorgridcolor\":\"white\",\"startlinecolor\":\"#2a3f5f\"},\"baxis\":{\"endlinecolor\":\"#2a3f5f\",\"gridcolor\":\"white\",\"linecolor\":\"white\",\"minorgridcolor\":\"white\",\"startlinecolor\":\"#2a3f5f\"},\"type\":\"carpet\"}],\"table\":[{\"cells\":{\"fill\":{\"color\":\"#EBF0F8\"},\"line\":{\"color\":\"white\"}},\"header\":{\"fill\":{\"color\":\"#C8D4E3\"},\"line\":{\"color\":\"white\"}},\"type\":\"table\"}],\"barpolar\":[{\"marker\":{\"line\":{\"color\":\"#E5ECF6\",\"width\":0.5},\"pattern\":{\"fillmode\":\"overlay\",\"size\":10,\"solidity\":0.2}},\"type\":\"barpolar\"}],\"pie\":[{\"automargin\":true,\"type\":\"pie\"}]},\"layout\":{\"autotypenumbers\":\"strict\",\"colorway\":[\"#636efa\",\"#EF553B\",\"#00cc96\",\"#ab63fa\",\"#FFA15A\",\"#19d3f3\",\"#FF6692\",\"#B6E880\",\"#FF97FF\",\"#FECB52\"],\"font\":{\"color\":\"#2a3f5f\"},\"hovermode\":\"closest\",\"hoverlabel\":{\"align\":\"left\"},\"paper_bgcolor\":\"white\",\"plot_bgcolor\":\"#E5ECF6\",\"polar\":{\"bgcolor\":\"#E5ECF6\",\"angularaxis\":{\"gridcolor\":\"white\",\"linecolor\":\"white\",\"ticks\":\"\"},\"radialaxis\":{\"gridcolor\":\"white\",\"linecolor\":\"white\",\"ticks\":\"\"}},\"ternary\":{\"bgcolor\":\"#E5ECF6\",\"aaxis\":{\"gridcolor\":\"white\",\"linecolor\":\"white\",\"ticks\":\"\"},\"baxis\":{\"gridcolor\":\"white\",\"linecolor\":\"white\",\"ticks\":\"\"},\"caxis\":{\"gridcolor\":\"white\",\"linecolor\":\"white\",\"ticks\":\"\"}},\"coloraxis\":{\"colorbar\":{\"outlinewidth\":0,\"ticks\":\"\"}},\"colorscale\":{\"sequential\":[[0.0,\"#0d0887\"],[0.1111111111111111,\"#46039f\"],[0.2222222222222222,\"#7201a8\"],[0.3333333333333333,\"#9c179e\"],[0.4444444444444444,\"#bd3786\"],[0.5555555555555556,\"#d8576b\"],[0.6666666666666666,\"#ed7953\"],[0.7777777777777778,\"#fb9f3a\"],[0.8888888888888888,\"#fdca26\"],[1.0,\"#f0f921\"]],\"sequentialminus\":[[0.0,\"#0d0887\"],[0.1111111111111111,\"#46039f\"],[0.2222222222222222,\"#7201a8\"],[0.3333333333333333,\"#9c179e\"],[0.4444444444444444,\"#bd3786\"],[0.5555555555555556,\"#d8576b\"],[0.6666666666666666,\"#ed7953\"],[0.7777777777777778,\"#fb9f3a\"],[0.8888888888888888,\"#fdca26\"],[1.0,\"#f0f921\"]],\"diverging\":[[0,\"#8e0152\"],[0.1,\"#c51b7d\"],[0.2,\"#de77ae\"],[0.3,\"#f1b6da\"],[0.4,\"#fde0ef\"],[0.5,\"#f7f7f7\"],[0.6,\"#e6f5d0\"],[0.7,\"#b8e186\"],[0.8,\"#7fbc41\"],[0.9,\"#4d9221\"],[1,\"#276419\"]]},\"xaxis\":{\"gridcolor\":\"white\",\"linecolor\":\"white\",\"ticks\":\"\",\"title\":{\"standoff\":15},\"zerolinecolor\":\"white\",\"automargin\":true,\"zerolinewidth\":2},\"yaxis\":{\"gridcolor\":\"white\",\"linecolor\":\"white\",\"ticks\":\"\",\"title\":{\"standoff\":15},\"zerolinecolor\":\"white\",\"automargin\":true,\"zerolinewidth\":2},\"scene\":{\"xaxis\":{\"backgroundcolor\":\"#E5ECF6\",\"gridcolor\":\"white\",\"linecolor\":\"white\",\"showbackground\":true,\"ticks\":\"\",\"zerolinecolor\":\"white\",\"gridwidth\":2},\"yaxis\":{\"backgroundcolor\":\"#E5ECF6\",\"gridcolor\":\"white\",\"linecolor\":\"white\",\"showbackground\":true,\"ticks\":\"\",\"zerolinecolor\":\"white\",\"gridwidth\":2},\"zaxis\":{\"backgroundcolor\":\"#E5ECF6\",\"gridcolor\":\"white\",\"linecolor\":\"white\",\"showbackground\":true,\"ticks\":\"\",\"zerolinecolor\":\"white\",\"gridwidth\":2}},\"shapedefaults\":{\"line\":{\"color\":\"#2a3f5f\"}},\"annotationdefaults\":{\"arrowcolor\":\"#2a3f5f\",\"arrowhead\":0,\"arrowwidth\":1},\"geo\":{\"bgcolor\":\"white\",\"landcolor\":\"#E5ECF6\",\"subunitcolor\":\"white\",\"showland\":true,\"showlakes\":true,\"lakecolor\":\"white\"},\"title\":{\"x\":0.05},\"mapbox\":{\"style\":\"light\"}}},\"xaxis\":{\"anchor\":\"y\",\"domain\":[0.0,0.45]},\"yaxis\":{\"anchor\":\"x\",\"domain\":[0.625,1.0]},\"xaxis2\":{\"anchor\":\"y2\",\"domain\":[0.55,1.0]},\"yaxis2\":{\"anchor\":\"x2\",\"domain\":[0.625,1.0]},\"xaxis3\":{\"anchor\":\"y3\",\"domain\":[0.0,0.45]},\"yaxis3\":{\"anchor\":\"x3\",\"domain\":[0.0,0.375]},\"xaxis4\":{\"anchor\":\"y4\",\"domain\":[0.55,1.0]},\"yaxis4\":{\"anchor\":\"x4\",\"domain\":[0.0,0.375]},\"annotations\":[{\"font\":{\"size\":16},\"showarrow\":false,\"text\":\"Types of Robots vs Time\",\"x\":0.225,\"xanchor\":\"center\",\"xref\":\"paper\",\"y\":1.0,\"yanchor\":\"bottom\",\"yref\":\"paper\"},{\"font\":{\"size\":16},\"showarrow\":false,\"text\":\"Resources vs Time\",\"x\":0.775,\"xanchor\":\"center\",\"xref\":\"paper\",\"y\":1.0,\"yanchor\":\"bottom\",\"yref\":\"paper\"},{\"font\":{\"size\":16},\"showarrow\":false,\"text\":\"Tasks of Robots vs Time\",\"x\":0.225,\"xanchor\":\"center\",\"xref\":\"paper\",\"y\":0.375,\"yanchor\":\"bottom\",\"yref\":\"paper\"},{\"font\":{\"size\":16},\"showarrow\":false,\"text\":\"Build Quality vs Time\",\"x\":0.775,\"xanchor\":\"center\",\"xref\":\"paper\",\"y\":0.375,\"yanchor\":\"bottom\",\"yref\":\"paper\"}],\"hovermode\":\"x\",\"title\":{\"text\":\"DHE - Characteristics\"}},                        {\"responsive\": true}                    ).then(function(){\n",
       "                            \n",
       "var gd = document.getElementById('447f22cf-7d80-4d91-bc5d-c499ac9e1530');\n",
       "var x = new MutationObserver(function (mutations, observer) {{\n",
       "        var display = window.getComputedStyle(gd).display;\n",
       "        if (!display || display === 'none') {{\n",
       "            console.log([gd, 'removed!']);\n",
       "            Plotly.purge(gd);\n",
       "            observer.disconnect();\n",
       "        }}\n",
       "}});\n",
       "\n",
       "// Listen for the removal of the full notebook cells\n",
       "var notebookContainer = gd.closest('#notebook-container');\n",
       "if (notebookContainer) {{\n",
       "    x.observe(notebookContainer, {childList: true});\n",
       "}}\n",
       "\n",
       "// Listen for the clearing of the current output cell\n",
       "var outputEl = gd.closest('.output');\n",
       "if (outputEl) {{\n",
       "    x.observe(outputEl, {childList: true});\n",
       "}}\n",
       "\n",
       "                        })                };                });            </script>        </div>"
      ]
     },
     "metadata": {},
     "output_type": "display_data"
    },
    {
     "data": {
      "application/vnd.plotly.v1+json": {
       "config": {
        "plotlyServerURL": "https://plotly.com"
       },
       "data": [
        {
         "alignmentgroup": "True",
         "hovertemplate": "variable=#In<br>Time=%{x}<br>value=%{y}<extra></extra>",
         "legendgroup": "#In",
         "marker": {
          "color": "#636efa",
          "pattern": {
           "shape": ""
          }
         },
         "name": "#In",
         "offsetgroup": "#In",
         "orientation": "v",
         "showlegend": true,
         "textposition": "auto",
         "type": "bar",
         "x": [
          0,
          1,
          2,
          3,
          4,
          5,
          6,
          7,
          8,
          9,
          10,
          11,
          12,
          13,
          14,
          15,
          16,
          17,
          18,
          19,
          20,
          21,
          22,
          23,
          24,
          25,
          26,
          27,
          28,
          29,
          30,
          31,
          32,
          33,
          34,
          35,
          36,
          37,
          38,
          39,
          40,
          41,
          42,
          43,
          44,
          45,
          46,
          47,
          48,
          49,
          50,
          51,
          52,
          53,
          54,
          55,
          56,
          57,
          58,
          59,
          60,
          61,
          62,
          63,
          64,
          65,
          66,
          67,
          68,
          69,
          70,
          71,
          72,
          73,
          74
         ],
         "xaxis": "x",
         "y": [
          2,
          2,
          4,
          4,
          4,
          4,
          6,
          8,
          8,
          10,
          13,
          15,
          21,
          22,
          25,
          29,
          33,
          42,
          47,
          53,
          63,
          67,
          74,
          76,
          84,
          85,
          92,
          96,
          97,
          106,
          111,
          124,
          128,
          139,
          152,
          161,
          167,
          188,
          200,
          206,
          215,
          231,
          250,
          258,
          262,
          266,
          266,
          266,
          266,
          266,
          266,
          266,
          266,
          266,
          266,
          266,
          266,
          266,
          266,
          266,
          266,
          266,
          266,
          266,
          266,
          266,
          266,
          266,
          266,
          266,
          266,
          266,
          266,
          266,
          266
         ],
         "yaxis": "y"
        },
        {
         "alignmentgroup": "True",
         "hovertemplate": "variable=#Out<br>Time=%{x}<br>value=%{y}<extra></extra>",
         "legendgroup": "#Out",
         "marker": {
          "color": "#EF553B",
          "pattern": {
           "shape": ""
          }
         },
         "name": "#Out",
         "offsetgroup": "#Out",
         "orientation": "v",
         "showlegend": true,
         "textposition": "auto",
         "type": "bar",
         "x": [
          0,
          1,
          2,
          3,
          4,
          5,
          6,
          7,
          8,
          9,
          10,
          11,
          12,
          13,
          14,
          15,
          16,
          17,
          18,
          19,
          20,
          21,
          22,
          23,
          24,
          25,
          26,
          27,
          28,
          29,
          30,
          31,
          32,
          33,
          34,
          35,
          36,
          37,
          38,
          39,
          40,
          41,
          42,
          43,
          44,
          45,
          46,
          47,
          48,
          49,
          50,
          51,
          52,
          53,
          54,
          55,
          56,
          57,
          58,
          59,
          60,
          61,
          62,
          63,
          64,
          65,
          66,
          67,
          68,
          69,
          70,
          71,
          72,
          73,
          74
         ],
         "xaxis": "x",
         "y": [
          0,
          0,
          0,
          0,
          0,
          0,
          0,
          0,
          0,
          0,
          1,
          1,
          1,
          2,
          3,
          5,
          5,
          6,
          9,
          11,
          17,
          17,
          20,
          22,
          24,
          25,
          26,
          30,
          31,
          34,
          37,
          40,
          42,
          45,
          50,
          53,
          55,
          62,
          74,
          78,
          83,
          91,
          98,
          102,
          106,
          110,
          110,
          110,
          110,
          110,
          110,
          110,
          110,
          110,
          110,
          110,
          110,
          110,
          110,
          110,
          110,
          110,
          110,
          110,
          110,
          110,
          110,
          110,
          110,
          110,
          110,
          110,
          110,
          110,
          110
         ],
         "yaxis": "y"
        }
       ],
       "layout": {
        "barmode": "relative",
        "hovermode": "x",
        "legend": {
         "title": {
          "text": "variable"
         },
         "tracegroupgap": 0
        },
        "template": {
         "data": {
          "bar": [
           {
            "error_x": {
             "color": "#2a3f5f"
            },
            "error_y": {
             "color": "#2a3f5f"
            },
            "marker": {
             "line": {
              "color": "#E5ECF6",
              "width": 0.5
             },
             "pattern": {
              "fillmode": "overlay",
              "size": 10,
              "solidity": 0.2
             }
            },
            "type": "bar"
           }
          ],
          "barpolar": [
           {
            "marker": {
             "line": {
              "color": "#E5ECF6",
              "width": 0.5
             },
             "pattern": {
              "fillmode": "overlay",
              "size": 10,
              "solidity": 0.2
             }
            },
            "type": "barpolar"
           }
          ],
          "carpet": [
           {
            "aaxis": {
             "endlinecolor": "#2a3f5f",
             "gridcolor": "white",
             "linecolor": "white",
             "minorgridcolor": "white",
             "startlinecolor": "#2a3f5f"
            },
            "baxis": {
             "endlinecolor": "#2a3f5f",
             "gridcolor": "white",
             "linecolor": "white",
             "minorgridcolor": "white",
             "startlinecolor": "#2a3f5f"
            },
            "type": "carpet"
           }
          ],
          "choropleth": [
           {
            "colorbar": {
             "outlinewidth": 0,
             "ticks": ""
            },
            "type": "choropleth"
           }
          ],
          "contour": [
           {
            "colorbar": {
             "outlinewidth": 0,
             "ticks": ""
            },
            "colorscale": [
             [
              0,
              "#0d0887"
             ],
             [
              0.1111111111111111,
              "#46039f"
             ],
             [
              0.2222222222222222,
              "#7201a8"
             ],
             [
              0.3333333333333333,
              "#9c179e"
             ],
             [
              0.4444444444444444,
              "#bd3786"
             ],
             [
              0.5555555555555556,
              "#d8576b"
             ],
             [
              0.6666666666666666,
              "#ed7953"
             ],
             [
              0.7777777777777778,
              "#fb9f3a"
             ],
             [
              0.8888888888888888,
              "#fdca26"
             ],
             [
              1,
              "#f0f921"
             ]
            ],
            "type": "contour"
           }
          ],
          "contourcarpet": [
           {
            "colorbar": {
             "outlinewidth": 0,
             "ticks": ""
            },
            "type": "contourcarpet"
           }
          ],
          "heatmap": [
           {
            "colorbar": {
             "outlinewidth": 0,
             "ticks": ""
            },
            "colorscale": [
             [
              0,
              "#0d0887"
             ],
             [
              0.1111111111111111,
              "#46039f"
             ],
             [
              0.2222222222222222,
              "#7201a8"
             ],
             [
              0.3333333333333333,
              "#9c179e"
             ],
             [
              0.4444444444444444,
              "#bd3786"
             ],
             [
              0.5555555555555556,
              "#d8576b"
             ],
             [
              0.6666666666666666,
              "#ed7953"
             ],
             [
              0.7777777777777778,
              "#fb9f3a"
             ],
             [
              0.8888888888888888,
              "#fdca26"
             ],
             [
              1,
              "#f0f921"
             ]
            ],
            "type": "heatmap"
           }
          ],
          "heatmapgl": [
           {
            "colorbar": {
             "outlinewidth": 0,
             "ticks": ""
            },
            "colorscale": [
             [
              0,
              "#0d0887"
             ],
             [
              0.1111111111111111,
              "#46039f"
             ],
             [
              0.2222222222222222,
              "#7201a8"
             ],
             [
              0.3333333333333333,
              "#9c179e"
             ],
             [
              0.4444444444444444,
              "#bd3786"
             ],
             [
              0.5555555555555556,
              "#d8576b"
             ],
             [
              0.6666666666666666,
              "#ed7953"
             ],
             [
              0.7777777777777778,
              "#fb9f3a"
             ],
             [
              0.8888888888888888,
              "#fdca26"
             ],
             [
              1,
              "#f0f921"
             ]
            ],
            "type": "heatmapgl"
           }
          ],
          "histogram": [
           {
            "marker": {
             "pattern": {
              "fillmode": "overlay",
              "size": 10,
              "solidity": 0.2
             }
            },
            "type": "histogram"
           }
          ],
          "histogram2d": [
           {
            "colorbar": {
             "outlinewidth": 0,
             "ticks": ""
            },
            "colorscale": [
             [
              0,
              "#0d0887"
             ],
             [
              0.1111111111111111,
              "#46039f"
             ],
             [
              0.2222222222222222,
              "#7201a8"
             ],
             [
              0.3333333333333333,
              "#9c179e"
             ],
             [
              0.4444444444444444,
              "#bd3786"
             ],
             [
              0.5555555555555556,
              "#d8576b"
             ],
             [
              0.6666666666666666,
              "#ed7953"
             ],
             [
              0.7777777777777778,
              "#fb9f3a"
             ],
             [
              0.8888888888888888,
              "#fdca26"
             ],
             [
              1,
              "#f0f921"
             ]
            ],
            "type": "histogram2d"
           }
          ],
          "histogram2dcontour": [
           {
            "colorbar": {
             "outlinewidth": 0,
             "ticks": ""
            },
            "colorscale": [
             [
              0,
              "#0d0887"
             ],
             [
              0.1111111111111111,
              "#46039f"
             ],
             [
              0.2222222222222222,
              "#7201a8"
             ],
             [
              0.3333333333333333,
              "#9c179e"
             ],
             [
              0.4444444444444444,
              "#bd3786"
             ],
             [
              0.5555555555555556,
              "#d8576b"
             ],
             [
              0.6666666666666666,
              "#ed7953"
             ],
             [
              0.7777777777777778,
              "#fb9f3a"
             ],
             [
              0.8888888888888888,
              "#fdca26"
             ],
             [
              1,
              "#f0f921"
             ]
            ],
            "type": "histogram2dcontour"
           }
          ],
          "mesh3d": [
           {
            "colorbar": {
             "outlinewidth": 0,
             "ticks": ""
            },
            "type": "mesh3d"
           }
          ],
          "parcoords": [
           {
            "line": {
             "colorbar": {
              "outlinewidth": 0,
              "ticks": ""
             }
            },
            "type": "parcoords"
           }
          ],
          "pie": [
           {
            "automargin": true,
            "type": "pie"
           }
          ],
          "scatter": [
           {
            "fillpattern": {
             "fillmode": "overlay",
             "size": 10,
             "solidity": 0.2
            },
            "type": "scatter"
           }
          ],
          "scatter3d": [
           {
            "line": {
             "colorbar": {
              "outlinewidth": 0,
              "ticks": ""
             }
            },
            "marker": {
             "colorbar": {
              "outlinewidth": 0,
              "ticks": ""
             }
            },
            "type": "scatter3d"
           }
          ],
          "scattercarpet": [
           {
            "marker": {
             "colorbar": {
              "outlinewidth": 0,
              "ticks": ""
             }
            },
            "type": "scattercarpet"
           }
          ],
          "scattergeo": [
           {
            "marker": {
             "colorbar": {
              "outlinewidth": 0,
              "ticks": ""
             }
            },
            "type": "scattergeo"
           }
          ],
          "scattergl": [
           {
            "marker": {
             "colorbar": {
              "outlinewidth": 0,
              "ticks": ""
             }
            },
            "type": "scattergl"
           }
          ],
          "scattermapbox": [
           {
            "marker": {
             "colorbar": {
              "outlinewidth": 0,
              "ticks": ""
             }
            },
            "type": "scattermapbox"
           }
          ],
          "scatterpolar": [
           {
            "marker": {
             "colorbar": {
              "outlinewidth": 0,
              "ticks": ""
             }
            },
            "type": "scatterpolar"
           }
          ],
          "scatterpolargl": [
           {
            "marker": {
             "colorbar": {
              "outlinewidth": 0,
              "ticks": ""
             }
            },
            "type": "scatterpolargl"
           }
          ],
          "scatterternary": [
           {
            "marker": {
             "colorbar": {
              "outlinewidth": 0,
              "ticks": ""
             }
            },
            "type": "scatterternary"
           }
          ],
          "surface": [
           {
            "colorbar": {
             "outlinewidth": 0,
             "ticks": ""
            },
            "colorscale": [
             [
              0,
              "#0d0887"
             ],
             [
              0.1111111111111111,
              "#46039f"
             ],
             [
              0.2222222222222222,
              "#7201a8"
             ],
             [
              0.3333333333333333,
              "#9c179e"
             ],
             [
              0.4444444444444444,
              "#bd3786"
             ],
             [
              0.5555555555555556,
              "#d8576b"
             ],
             [
              0.6666666666666666,
              "#ed7953"
             ],
             [
              0.7777777777777778,
              "#fb9f3a"
             ],
             [
              0.8888888888888888,
              "#fdca26"
             ],
             [
              1,
              "#f0f921"
             ]
            ],
            "type": "surface"
           }
          ],
          "table": [
           {
            "cells": {
             "fill": {
              "color": "#EBF0F8"
             },
             "line": {
              "color": "white"
             }
            },
            "header": {
             "fill": {
              "color": "#C8D4E3"
             },
             "line": {
              "color": "white"
             }
            },
            "type": "table"
           }
          ]
         },
         "layout": {
          "annotationdefaults": {
           "arrowcolor": "#2a3f5f",
           "arrowhead": 0,
           "arrowwidth": 1
          },
          "autotypenumbers": "strict",
          "coloraxis": {
           "colorbar": {
            "outlinewidth": 0,
            "ticks": ""
           }
          },
          "colorscale": {
           "diverging": [
            [
             0,
             "#8e0152"
            ],
            [
             0.1,
             "#c51b7d"
            ],
            [
             0.2,
             "#de77ae"
            ],
            [
             0.3,
             "#f1b6da"
            ],
            [
             0.4,
             "#fde0ef"
            ],
            [
             0.5,
             "#f7f7f7"
            ],
            [
             0.6,
             "#e6f5d0"
            ],
            [
             0.7,
             "#b8e186"
            ],
            [
             0.8,
             "#7fbc41"
            ],
            [
             0.9,
             "#4d9221"
            ],
            [
             1,
             "#276419"
            ]
           ],
           "sequential": [
            [
             0,
             "#0d0887"
            ],
            [
             0.1111111111111111,
             "#46039f"
            ],
            [
             0.2222222222222222,
             "#7201a8"
            ],
            [
             0.3333333333333333,
             "#9c179e"
            ],
            [
             0.4444444444444444,
             "#bd3786"
            ],
            [
             0.5555555555555556,
             "#d8576b"
            ],
            [
             0.6666666666666666,
             "#ed7953"
            ],
            [
             0.7777777777777778,
             "#fb9f3a"
            ],
            [
             0.8888888888888888,
             "#fdca26"
            ],
            [
             1,
             "#f0f921"
            ]
           ],
           "sequentialminus": [
            [
             0,
             "#0d0887"
            ],
            [
             0.1111111111111111,
             "#46039f"
            ],
            [
             0.2222222222222222,
             "#7201a8"
            ],
            [
             0.3333333333333333,
             "#9c179e"
            ],
            [
             0.4444444444444444,
             "#bd3786"
            ],
            [
             0.5555555555555556,
             "#d8576b"
            ],
            [
             0.6666666666666666,
             "#ed7953"
            ],
            [
             0.7777777777777778,
             "#fb9f3a"
            ],
            [
             0.8888888888888888,
             "#fdca26"
            ],
            [
             1,
             "#f0f921"
            ]
           ]
          },
          "colorway": [
           "#636efa",
           "#EF553B",
           "#00cc96",
           "#ab63fa",
           "#FFA15A",
           "#19d3f3",
           "#FF6692",
           "#B6E880",
           "#FF97FF",
           "#FECB52"
          ],
          "font": {
           "color": "#2a3f5f"
          },
          "geo": {
           "bgcolor": "white",
           "lakecolor": "white",
           "landcolor": "#E5ECF6",
           "showlakes": true,
           "showland": true,
           "subunitcolor": "white"
          },
          "hoverlabel": {
           "align": "left"
          },
          "hovermode": "closest",
          "mapbox": {
           "style": "light"
          },
          "paper_bgcolor": "white",
          "plot_bgcolor": "#E5ECF6",
          "polar": {
           "angularaxis": {
            "gridcolor": "white",
            "linecolor": "white",
            "ticks": ""
           },
           "bgcolor": "#E5ECF6",
           "radialaxis": {
            "gridcolor": "white",
            "linecolor": "white",
            "ticks": ""
           }
          },
          "scene": {
           "xaxis": {
            "backgroundcolor": "#E5ECF6",
            "gridcolor": "white",
            "gridwidth": 2,
            "linecolor": "white",
            "showbackground": true,
            "ticks": "",
            "zerolinecolor": "white"
           },
           "yaxis": {
            "backgroundcolor": "#E5ECF6",
            "gridcolor": "white",
            "gridwidth": 2,
            "linecolor": "white",
            "showbackground": true,
            "ticks": "",
            "zerolinecolor": "white"
           },
           "zaxis": {
            "backgroundcolor": "#E5ECF6",
            "gridcolor": "white",
            "gridwidth": 2,
            "linecolor": "white",
            "showbackground": true,
            "ticks": "",
            "zerolinecolor": "white"
           }
          },
          "shapedefaults": {
           "line": {
            "color": "#2a3f5f"
           }
          },
          "ternary": {
           "aaxis": {
            "gridcolor": "white",
            "linecolor": "white",
            "ticks": ""
           },
           "baxis": {
            "gridcolor": "white",
            "linecolor": "white",
            "ticks": ""
           },
           "bgcolor": "#E5ECF6",
           "caxis": {
            "gridcolor": "white",
            "linecolor": "white",
            "ticks": ""
           }
          },
          "title": {
           "x": 0.05
          },
          "xaxis": {
           "automargin": true,
           "gridcolor": "white",
           "linecolor": "white",
           "ticks": "",
           "title": {
            "standoff": 15
           },
           "zerolinecolor": "white",
           "zerolinewidth": 2
          },
          "yaxis": {
           "automargin": true,
           "gridcolor": "white",
           "linecolor": "white",
           "ticks": "",
           "title": {
            "standoff": 15
           },
           "zerolinecolor": "white",
           "zerolinewidth": 2
          }
         }
        },
        "title": {
         "text": "HHE - Habitat over Time"
        },
        "xaxis": {
         "anchor": "y",
         "domain": [
          0,
          1
         ],
         "title": {
          "text": "Time"
         }
        },
        "yaxis": {
         "anchor": "x",
         "domain": [
          0,
          1
         ],
         "title": {
          "text": "#Robots"
         }
        }
       }
      },
      "text/html": [
       "<div>                            <div id=\"4d0136b6-1ac3-4267-9bf6-beccdd223a22\" class=\"plotly-graph-div\" style=\"height:525px; width:100%;\"></div>            <script type=\"text/javascript\">                require([\"plotly\"], function(Plotly) {                    window.PLOTLYENV=window.PLOTLYENV || {};                                    if (document.getElementById(\"4d0136b6-1ac3-4267-9bf6-beccdd223a22\")) {                    Plotly.newPlot(                        \"4d0136b6-1ac3-4267-9bf6-beccdd223a22\",                        [{\"alignmentgroup\":\"True\",\"hovertemplate\":\"variable=#In<br>Time=%{x}<br>value=%{y}<extra></extra>\",\"legendgroup\":\"#In\",\"marker\":{\"color\":\"#636efa\",\"pattern\":{\"shape\":\"\"}},\"name\":\"#In\",\"offsetgroup\":\"#In\",\"orientation\":\"v\",\"showlegend\":true,\"textposition\":\"auto\",\"x\":[0.0,1.0,2.0,3.0,4.0,5.0,6.0,7.0,8.0,9.0,10.0,11.0,12.0,13.0,14.0,15.0,16.0,17.0,18.0,19.0,20.0,21.0,22.0,23.0,24.0,25.0,26.0,27.0,28.0,29.0,30.0,31.0,32.0,33.0,34.0,35.0,36.0,37.0,38.0,39.0,40.0,41.0,42.0,43.0,44.0,45.0,46.0,47.0,48.0,49.0,50.0,51.0,52.0,53.0,54.0,55.0,56.0,57.0,58.0,59.0,60.0,61.0,62.0,63.0,64.0,65.0,66.0,67.0,68.0,69.0,70.0,71.0,72.0,73.0,74.0],\"xaxis\":\"x\",\"y\":[2.0,2.0,4.0,4.0,4.0,4.0,6.0,8.0,8.0,10.0,13.0,15.0,21.0,22.0,25.0,29.0,33.0,42.0,47.0,53.0,63.0,67.0,74.0,76.0,84.0,85.0,92.0,96.0,97.0,106.0,111.0,124.0,128.0,139.0,152.0,161.0,167.0,188.0,200.0,206.0,215.0,231.0,250.0,258.0,262.0,266.0,266.0,266.0,266.0,266.0,266.0,266.0,266.0,266.0,266.0,266.0,266.0,266.0,266.0,266.0,266.0,266.0,266.0,266.0,266.0,266.0,266.0,266.0,266.0,266.0,266.0,266.0,266.0,266.0,266.0],\"yaxis\":\"y\",\"type\":\"bar\"},{\"alignmentgroup\":\"True\",\"hovertemplate\":\"variable=#Out<br>Time=%{x}<br>value=%{y}<extra></extra>\",\"legendgroup\":\"#Out\",\"marker\":{\"color\":\"#EF553B\",\"pattern\":{\"shape\":\"\"}},\"name\":\"#Out\",\"offsetgroup\":\"#Out\",\"orientation\":\"v\",\"showlegend\":true,\"textposition\":\"auto\",\"x\":[0.0,1.0,2.0,3.0,4.0,5.0,6.0,7.0,8.0,9.0,10.0,11.0,12.0,13.0,14.0,15.0,16.0,17.0,18.0,19.0,20.0,21.0,22.0,23.0,24.0,25.0,26.0,27.0,28.0,29.0,30.0,31.0,32.0,33.0,34.0,35.0,36.0,37.0,38.0,39.0,40.0,41.0,42.0,43.0,44.0,45.0,46.0,47.0,48.0,49.0,50.0,51.0,52.0,53.0,54.0,55.0,56.0,57.0,58.0,59.0,60.0,61.0,62.0,63.0,64.0,65.0,66.0,67.0,68.0,69.0,70.0,71.0,72.0,73.0,74.0],\"xaxis\":\"x\",\"y\":[0.0,0.0,0.0,0.0,0.0,0.0,0.0,0.0,0.0,0.0,1.0,1.0,1.0,2.0,3.0,5.0,5.0,6.0,9.0,11.0,17.0,17.0,20.0,22.0,24.0,25.0,26.0,30.0,31.0,34.0,37.0,40.0,42.0,45.0,50.0,53.0,55.0,62.0,74.0,78.0,83.0,91.0,98.0,102.0,106.0,110.0,110.0,110.0,110.0,110.0,110.0,110.0,110.0,110.0,110.0,110.0,110.0,110.0,110.0,110.0,110.0,110.0,110.0,110.0,110.0,110.0,110.0,110.0,110.0,110.0,110.0,110.0,110.0,110.0,110.0],\"yaxis\":\"y\",\"type\":\"bar\"}],                        {\"template\":{\"data\":{\"histogram2dcontour\":[{\"type\":\"histogram2dcontour\",\"colorbar\":{\"outlinewidth\":0,\"ticks\":\"\"},\"colorscale\":[[0.0,\"#0d0887\"],[0.1111111111111111,\"#46039f\"],[0.2222222222222222,\"#7201a8\"],[0.3333333333333333,\"#9c179e\"],[0.4444444444444444,\"#bd3786\"],[0.5555555555555556,\"#d8576b\"],[0.6666666666666666,\"#ed7953\"],[0.7777777777777778,\"#fb9f3a\"],[0.8888888888888888,\"#fdca26\"],[1.0,\"#f0f921\"]]}],\"choropleth\":[{\"type\":\"choropleth\",\"colorbar\":{\"outlinewidth\":0,\"ticks\":\"\"}}],\"histogram2d\":[{\"type\":\"histogram2d\",\"colorbar\":{\"outlinewidth\":0,\"ticks\":\"\"},\"colorscale\":[[0.0,\"#0d0887\"],[0.1111111111111111,\"#46039f\"],[0.2222222222222222,\"#7201a8\"],[0.3333333333333333,\"#9c179e\"],[0.4444444444444444,\"#bd3786\"],[0.5555555555555556,\"#d8576b\"],[0.6666666666666666,\"#ed7953\"],[0.7777777777777778,\"#fb9f3a\"],[0.8888888888888888,\"#fdca26\"],[1.0,\"#f0f921\"]]}],\"heatmap\":[{\"type\":\"heatmap\",\"colorbar\":{\"outlinewidth\":0,\"ticks\":\"\"},\"colorscale\":[[0.0,\"#0d0887\"],[0.1111111111111111,\"#46039f\"],[0.2222222222222222,\"#7201a8\"],[0.3333333333333333,\"#9c179e\"],[0.4444444444444444,\"#bd3786\"],[0.5555555555555556,\"#d8576b\"],[0.6666666666666666,\"#ed7953\"],[0.7777777777777778,\"#fb9f3a\"],[0.8888888888888888,\"#fdca26\"],[1.0,\"#f0f921\"]]}],\"heatmapgl\":[{\"type\":\"heatmapgl\",\"colorbar\":{\"outlinewidth\":0,\"ticks\":\"\"},\"colorscale\":[[0.0,\"#0d0887\"],[0.1111111111111111,\"#46039f\"],[0.2222222222222222,\"#7201a8\"],[0.3333333333333333,\"#9c179e\"],[0.4444444444444444,\"#bd3786\"],[0.5555555555555556,\"#d8576b\"],[0.6666666666666666,\"#ed7953\"],[0.7777777777777778,\"#fb9f3a\"],[0.8888888888888888,\"#fdca26\"],[1.0,\"#f0f921\"]]}],\"contourcarpet\":[{\"type\":\"contourcarpet\",\"colorbar\":{\"outlinewidth\":0,\"ticks\":\"\"}}],\"contour\":[{\"type\":\"contour\",\"colorbar\":{\"outlinewidth\":0,\"ticks\":\"\"},\"colorscale\":[[0.0,\"#0d0887\"],[0.1111111111111111,\"#46039f\"],[0.2222222222222222,\"#7201a8\"],[0.3333333333333333,\"#9c179e\"],[0.4444444444444444,\"#bd3786\"],[0.5555555555555556,\"#d8576b\"],[0.6666666666666666,\"#ed7953\"],[0.7777777777777778,\"#fb9f3a\"],[0.8888888888888888,\"#fdca26\"],[1.0,\"#f0f921\"]]}],\"surface\":[{\"type\":\"surface\",\"colorbar\":{\"outlinewidth\":0,\"ticks\":\"\"},\"colorscale\":[[0.0,\"#0d0887\"],[0.1111111111111111,\"#46039f\"],[0.2222222222222222,\"#7201a8\"],[0.3333333333333333,\"#9c179e\"],[0.4444444444444444,\"#bd3786\"],[0.5555555555555556,\"#d8576b\"],[0.6666666666666666,\"#ed7953\"],[0.7777777777777778,\"#fb9f3a\"],[0.8888888888888888,\"#fdca26\"],[1.0,\"#f0f921\"]]}],\"mesh3d\":[{\"type\":\"mesh3d\",\"colorbar\":{\"outlinewidth\":0,\"ticks\":\"\"}}],\"scatter\":[{\"fillpattern\":{\"fillmode\":\"overlay\",\"size\":10,\"solidity\":0.2},\"type\":\"scatter\"}],\"parcoords\":[{\"type\":\"parcoords\",\"line\":{\"colorbar\":{\"outlinewidth\":0,\"ticks\":\"\"}}}],\"scatterpolargl\":[{\"type\":\"scatterpolargl\",\"marker\":{\"colorbar\":{\"outlinewidth\":0,\"ticks\":\"\"}}}],\"bar\":[{\"error_x\":{\"color\":\"#2a3f5f\"},\"error_y\":{\"color\":\"#2a3f5f\"},\"marker\":{\"line\":{\"color\":\"#E5ECF6\",\"width\":0.5},\"pattern\":{\"fillmode\":\"overlay\",\"size\":10,\"solidity\":0.2}},\"type\":\"bar\"}],\"scattergeo\":[{\"type\":\"scattergeo\",\"marker\":{\"colorbar\":{\"outlinewidth\":0,\"ticks\":\"\"}}}],\"scatterpolar\":[{\"type\":\"scatterpolar\",\"marker\":{\"colorbar\":{\"outlinewidth\":0,\"ticks\":\"\"}}}],\"histogram\":[{\"marker\":{\"pattern\":{\"fillmode\":\"overlay\",\"size\":10,\"solidity\":0.2}},\"type\":\"histogram\"}],\"scattergl\":[{\"type\":\"scattergl\",\"marker\":{\"colorbar\":{\"outlinewidth\":0,\"ticks\":\"\"}}}],\"scatter3d\":[{\"type\":\"scatter3d\",\"line\":{\"colorbar\":{\"outlinewidth\":0,\"ticks\":\"\"}},\"marker\":{\"colorbar\":{\"outlinewidth\":0,\"ticks\":\"\"}}}],\"scattermapbox\":[{\"type\":\"scattermapbox\",\"marker\":{\"colorbar\":{\"outlinewidth\":0,\"ticks\":\"\"}}}],\"scatterternary\":[{\"type\":\"scatterternary\",\"marker\":{\"colorbar\":{\"outlinewidth\":0,\"ticks\":\"\"}}}],\"scattercarpet\":[{\"type\":\"scattercarpet\",\"marker\":{\"colorbar\":{\"outlinewidth\":0,\"ticks\":\"\"}}}],\"carpet\":[{\"aaxis\":{\"endlinecolor\":\"#2a3f5f\",\"gridcolor\":\"white\",\"linecolor\":\"white\",\"minorgridcolor\":\"white\",\"startlinecolor\":\"#2a3f5f\"},\"baxis\":{\"endlinecolor\":\"#2a3f5f\",\"gridcolor\":\"white\",\"linecolor\":\"white\",\"minorgridcolor\":\"white\",\"startlinecolor\":\"#2a3f5f\"},\"type\":\"carpet\"}],\"table\":[{\"cells\":{\"fill\":{\"color\":\"#EBF0F8\"},\"line\":{\"color\":\"white\"}},\"header\":{\"fill\":{\"color\":\"#C8D4E3\"},\"line\":{\"color\":\"white\"}},\"type\":\"table\"}],\"barpolar\":[{\"marker\":{\"line\":{\"color\":\"#E5ECF6\",\"width\":0.5},\"pattern\":{\"fillmode\":\"overlay\",\"size\":10,\"solidity\":0.2}},\"type\":\"barpolar\"}],\"pie\":[{\"automargin\":true,\"type\":\"pie\"}]},\"layout\":{\"autotypenumbers\":\"strict\",\"colorway\":[\"#636efa\",\"#EF553B\",\"#00cc96\",\"#ab63fa\",\"#FFA15A\",\"#19d3f3\",\"#FF6692\",\"#B6E880\",\"#FF97FF\",\"#FECB52\"],\"font\":{\"color\":\"#2a3f5f\"},\"hovermode\":\"closest\",\"hoverlabel\":{\"align\":\"left\"},\"paper_bgcolor\":\"white\",\"plot_bgcolor\":\"#E5ECF6\",\"polar\":{\"bgcolor\":\"#E5ECF6\",\"angularaxis\":{\"gridcolor\":\"white\",\"linecolor\":\"white\",\"ticks\":\"\"},\"radialaxis\":{\"gridcolor\":\"white\",\"linecolor\":\"white\",\"ticks\":\"\"}},\"ternary\":{\"bgcolor\":\"#E5ECF6\",\"aaxis\":{\"gridcolor\":\"white\",\"linecolor\":\"white\",\"ticks\":\"\"},\"baxis\":{\"gridcolor\":\"white\",\"linecolor\":\"white\",\"ticks\":\"\"},\"caxis\":{\"gridcolor\":\"white\",\"linecolor\":\"white\",\"ticks\":\"\"}},\"coloraxis\":{\"colorbar\":{\"outlinewidth\":0,\"ticks\":\"\"}},\"colorscale\":{\"sequential\":[[0.0,\"#0d0887\"],[0.1111111111111111,\"#46039f\"],[0.2222222222222222,\"#7201a8\"],[0.3333333333333333,\"#9c179e\"],[0.4444444444444444,\"#bd3786\"],[0.5555555555555556,\"#d8576b\"],[0.6666666666666666,\"#ed7953\"],[0.7777777777777778,\"#fb9f3a\"],[0.8888888888888888,\"#fdca26\"],[1.0,\"#f0f921\"]],\"sequentialminus\":[[0.0,\"#0d0887\"],[0.1111111111111111,\"#46039f\"],[0.2222222222222222,\"#7201a8\"],[0.3333333333333333,\"#9c179e\"],[0.4444444444444444,\"#bd3786\"],[0.5555555555555556,\"#d8576b\"],[0.6666666666666666,\"#ed7953\"],[0.7777777777777778,\"#fb9f3a\"],[0.8888888888888888,\"#fdca26\"],[1.0,\"#f0f921\"]],\"diverging\":[[0,\"#8e0152\"],[0.1,\"#c51b7d\"],[0.2,\"#de77ae\"],[0.3,\"#f1b6da\"],[0.4,\"#fde0ef\"],[0.5,\"#f7f7f7\"],[0.6,\"#e6f5d0\"],[0.7,\"#b8e186\"],[0.8,\"#7fbc41\"],[0.9,\"#4d9221\"],[1,\"#276419\"]]},\"xaxis\":{\"gridcolor\":\"white\",\"linecolor\":\"white\",\"ticks\":\"\",\"title\":{\"standoff\":15},\"zerolinecolor\":\"white\",\"automargin\":true,\"zerolinewidth\":2},\"yaxis\":{\"gridcolor\":\"white\",\"linecolor\":\"white\",\"ticks\":\"\",\"title\":{\"standoff\":15},\"zerolinecolor\":\"white\",\"automargin\":true,\"zerolinewidth\":2},\"scene\":{\"xaxis\":{\"backgroundcolor\":\"#E5ECF6\",\"gridcolor\":\"white\",\"linecolor\":\"white\",\"showbackground\":true,\"ticks\":\"\",\"zerolinecolor\":\"white\",\"gridwidth\":2},\"yaxis\":{\"backgroundcolor\":\"#E5ECF6\",\"gridcolor\":\"white\",\"linecolor\":\"white\",\"showbackground\":true,\"ticks\":\"\",\"zerolinecolor\":\"white\",\"gridwidth\":2},\"zaxis\":{\"backgroundcolor\":\"#E5ECF6\",\"gridcolor\":\"white\",\"linecolor\":\"white\",\"showbackground\":true,\"ticks\":\"\",\"zerolinecolor\":\"white\",\"gridwidth\":2}},\"shapedefaults\":{\"line\":{\"color\":\"#2a3f5f\"}},\"annotationdefaults\":{\"arrowcolor\":\"#2a3f5f\",\"arrowhead\":0,\"arrowwidth\":1},\"geo\":{\"bgcolor\":\"white\",\"landcolor\":\"#E5ECF6\",\"subunitcolor\":\"white\",\"showland\":true,\"showlakes\":true,\"lakecolor\":\"white\"},\"title\":{\"x\":0.05},\"mapbox\":{\"style\":\"light\"}}},\"xaxis\":{\"anchor\":\"y\",\"domain\":[0.0,1.0],\"title\":{\"text\":\"Time\"}},\"yaxis\":{\"anchor\":\"x\",\"domain\":[0.0,1.0],\"title\":{\"text\":\"#Robots\"}},\"legend\":{\"title\":{\"text\":\"variable\"},\"tracegroupgap\":0},\"title\":{\"text\":\"HHE - Habitat over Time\"},\"barmode\":\"relative\",\"hovermode\":\"x\"},                        {\"responsive\": true}                    ).then(function(){\n",
       "                            \n",
       "var gd = document.getElementById('4d0136b6-1ac3-4267-9bf6-beccdd223a22');\n",
       "var x = new MutationObserver(function (mutations, observer) {{\n",
       "        var display = window.getComputedStyle(gd).display;\n",
       "        if (!display || display === 'none') {{\n",
       "            console.log([gd, 'removed!']);\n",
       "            Plotly.purge(gd);\n",
       "            observer.disconnect();\n",
       "        }}\n",
       "}});\n",
       "\n",
       "// Listen for the removal of the full notebook cells\n",
       "var notebookContainer = gd.closest('#notebook-container');\n",
       "if (notebookContainer) {{\n",
       "    x.observe(notebookContainer, {childList: true});\n",
       "}}\n",
       "\n",
       "// Listen for the clearing of the current output cell\n",
       "var outputEl = gd.closest('.output');\n",
       "if (outputEl) {{\n",
       "    x.observe(outputEl, {childList: true});\n",
       "}}\n",
       "\n",
       "                        })                };                });            </script>        </div>"
      ]
     },
     "metadata": {},
     "output_type": "display_data"
    },
    {
     "data": {
      "application/vnd.plotly.v1+json": {
       "config": {
        "plotlyServerURL": "https://plotly.com"
       },
       "data": [
        {
         "name": "#Replicator",
         "type": "bar",
         "x": [
          0,
          1,
          2,
          3,
          4,
          5,
          6,
          7,
          8,
          9,
          10,
          11,
          12,
          13,
          14,
          15,
          16,
          17,
          18,
          19,
          20,
          21,
          22,
          23,
          24,
          25,
          26,
          27,
          28,
          29,
          30,
          31,
          32,
          33,
          34,
          35,
          36,
          37,
          38,
          39,
          40,
          41,
          42,
          43,
          44,
          45,
          46,
          47,
          48,
          49,
          50,
          51,
          52,
          53,
          54,
          55,
          56,
          57,
          58,
          59,
          60,
          61,
          62,
          63,
          64,
          65,
          66,
          67,
          68,
          69,
          70,
          71,
          72,
          73,
          74
         ],
         "xaxis": "x",
         "y": [
          0,
          0,
          0,
          0,
          0,
          0,
          0,
          0,
          0,
          0,
          0,
          0,
          0,
          0,
          0,
          0,
          0,
          0,
          0,
          0,
          0,
          0,
          0,
          0,
          0,
          0,
          0,
          0,
          0,
          0,
          0,
          0,
          0,
          0,
          0,
          0,
          0,
          0,
          0,
          0,
          0,
          0,
          0,
          0,
          0,
          0,
          0,
          0,
          0,
          0,
          0,
          0,
          0,
          0,
          0,
          0,
          0,
          0,
          0,
          0,
          0,
          0,
          0,
          0,
          0,
          0,
          0,
          0,
          0,
          0,
          0,
          0,
          0,
          0,
          0
         ],
         "yaxis": "y"
        },
        {
         "name": "#Normal",
         "type": "bar",
         "x": [
          0,
          1,
          2,
          3,
          4,
          5,
          6,
          7,
          8,
          9,
          10,
          11,
          12,
          13,
          14,
          15,
          16,
          17,
          18,
          19,
          20,
          21,
          22,
          23,
          24,
          25,
          26,
          27,
          28,
          29,
          30,
          31,
          32,
          33,
          34,
          35,
          36,
          37,
          38,
          39,
          40,
          41,
          42,
          43,
          44,
          45,
          46,
          47,
          48,
          49,
          50,
          51,
          52,
          53,
          54,
          55,
          56,
          57,
          58,
          59,
          60,
          61,
          62,
          63,
          64,
          65,
          66,
          67,
          68,
          69,
          70,
          71,
          72,
          73,
          74
         ],
         "xaxis": "x",
         "y": [
          0,
          0,
          2,
          2,
          2,
          2,
          2,
          4,
          4,
          4,
          5,
          5,
          9,
          10,
          10,
          13,
          13,
          17,
          22,
          22,
          26,
          26,
          30,
          30,
          32,
          33,
          39,
          41,
          41,
          47,
          50,
          50,
          52,
          58,
          60,
          60,
          63,
          71,
          76,
          77,
          80,
          83,
          84,
          88,
          92,
          95,
          95,
          95,
          95,
          95,
          95,
          95,
          95,
          95,
          95,
          95,
          95,
          95,
          95,
          95,
          95,
          95,
          95,
          95,
          95,
          95,
          95,
          95,
          95,
          95,
          95,
          95,
          95,
          95,
          95
         ],
         "yaxis": "y"
        },
        {
         "name": "#Assembler",
         "type": "bar",
         "x": [
          0,
          1,
          2,
          3,
          4,
          5,
          6,
          7,
          8,
          9,
          10,
          11,
          12,
          13,
          14,
          15,
          16,
          17,
          18,
          19,
          20,
          21,
          22,
          23,
          24,
          25,
          26,
          27,
          28,
          29,
          30,
          31,
          32,
          33,
          34,
          35,
          36,
          37,
          38,
          39,
          40,
          41,
          42,
          43,
          44,
          45,
          46,
          47,
          48,
          49,
          50,
          51,
          52,
          53,
          54,
          55,
          56,
          57,
          58,
          59,
          60,
          61,
          62,
          63,
          64,
          65,
          66,
          67,
          68,
          69,
          70,
          71,
          72,
          73,
          74
         ],
         "xaxis": "x",
         "y": [
          1,
          1,
          1,
          1,
          1,
          1,
          3,
          3,
          3,
          5,
          5,
          5,
          7,
          7,
          9,
          10,
          12,
          16,
          16,
          20,
          21,
          23,
          24,
          24,
          25,
          25,
          25,
          26,
          26,
          26,
          26,
          33,
          35,
          37,
          42,
          46,
          46,
          47,
          49,
          53,
          58,
          62,
          71,
          75,
          75,
          76,
          76,
          76,
          76,
          76,
          76,
          76,
          76,
          76,
          76,
          76,
          76,
          76,
          76,
          76,
          76,
          76,
          76,
          76,
          76,
          76,
          76,
          76,
          76,
          76,
          76,
          76,
          76,
          76,
          76
         ],
         "yaxis": "y"
        },
        {
         "name": "#Printer",
         "type": "bar",
         "x": [
          0,
          1,
          2,
          3,
          4,
          5,
          6,
          7,
          8,
          9,
          10,
          11,
          12,
          13,
          14,
          15,
          16,
          17,
          18,
          19,
          20,
          21,
          22,
          23,
          24,
          25,
          26,
          27,
          28,
          29,
          30,
          31,
          32,
          33,
          34,
          35,
          36,
          37,
          38,
          39,
          40,
          41,
          42,
          43,
          44,
          45,
          46,
          47,
          48,
          49,
          50,
          51,
          52,
          53,
          54,
          55,
          56,
          57,
          58,
          59,
          60,
          61,
          62,
          63,
          64,
          65,
          66,
          67,
          68,
          69,
          70,
          71,
          72,
          73,
          74
         ],
         "xaxis": "x",
         "y": [
          1,
          1,
          1,
          1,
          1,
          1,
          1,
          1,
          1,
          1,
          3,
          5,
          5,
          5,
          6,
          6,
          8,
          9,
          9,
          11,
          16,
          18,
          20,
          22,
          27,
          27,
          28,
          29,
          30,
          33,
          35,
          41,
          41,
          44,
          50,
          55,
          58,
          70,
          75,
          76,
          77,
          86,
          95,
          95,
          95,
          95,
          95,
          95,
          95,
          95,
          95,
          95,
          95,
          95,
          95,
          95,
          95,
          95,
          95,
          95,
          95,
          95,
          95,
          95,
          95,
          95,
          95,
          95,
          95,
          95,
          95,
          95,
          95,
          95,
          95
         ],
         "yaxis": "y"
        },
        {
         "name": "#Assembling",
         "type": "bar",
         "x": [
          0,
          1,
          2,
          3,
          4,
          5,
          6,
          7,
          8,
          9,
          10,
          11,
          12,
          13,
          14,
          15,
          16,
          17,
          18,
          19,
          20,
          21,
          22,
          23,
          24,
          25,
          26,
          27,
          28,
          29,
          30,
          31,
          32,
          33,
          34,
          35,
          36,
          37,
          38,
          39,
          40,
          41,
          42,
          43,
          44,
          45,
          46,
          47,
          48,
          49,
          50,
          51,
          52,
          53,
          54,
          55,
          56,
          57,
          58,
          59,
          60,
          61,
          62,
          63,
          64,
          65,
          66,
          67,
          68,
          69,
          70,
          71,
          72,
          73,
          74
         ],
         "xaxis": "x3",
         "y": [
          1,
          1,
          1,
          1,
          1,
          1,
          3,
          3,
          3,
          5,
          5,
          5,
          7,
          7,
          9,
          9,
          12,
          16,
          16,
          20,
          10,
          11,
          8,
          12,
          8,
          14,
          11,
          9,
          18,
          16,
          19,
          15,
          24,
          24,
          21,
          25,
          35,
          29,
          25,
          31,
          41,
          39,
          17,
          8,
          4,
          0,
          0,
          0,
          0,
          0,
          0,
          0,
          0,
          0,
          0,
          0,
          0,
          0,
          0,
          0,
          0,
          0,
          0,
          0,
          0,
          0,
          0,
          0,
          0,
          0,
          0,
          0,
          0,
          0,
          0
         ],
         "yaxis": "y3"
        },
        {
         "name": "#Printing",
         "type": "bar",
         "x": [
          0,
          1,
          2,
          3,
          4,
          5,
          6,
          7,
          8,
          9,
          10,
          11,
          12,
          13,
          14,
          15,
          16,
          17,
          18,
          19,
          20,
          21,
          22,
          23,
          24,
          25,
          26,
          27,
          28,
          29,
          30,
          31,
          32,
          33,
          34,
          35,
          36,
          37,
          38,
          39,
          40,
          41,
          42,
          43,
          44,
          45,
          46,
          47,
          48,
          49,
          50,
          51,
          52,
          53,
          54,
          55,
          56,
          57,
          58,
          59,
          60,
          61,
          62,
          63,
          64,
          65,
          66,
          67,
          68,
          69,
          70,
          71,
          72,
          73,
          74
         ],
         "xaxis": "x3",
         "y": [
          1,
          1,
          1,
          1,
          1,
          1,
          1,
          1,
          1,
          1,
          3,
          5,
          5,
          5,
          5,
          6,
          8,
          8,
          9,
          9,
          13,
          18,
          20,
          20,
          26,
          27,
          27,
          28,
          29,
          32,
          33,
          39,
          41,
          43,
          50,
          54,
          57,
          66,
          70,
          75,
          76,
          83,
          82,
          16,
          0,
          0,
          0,
          0,
          0,
          0,
          0,
          0,
          0,
          0,
          0,
          0,
          0,
          0,
          0,
          0,
          0,
          0,
          0,
          0,
          0,
          0,
          0,
          0,
          0,
          0,
          0,
          0,
          0,
          0,
          0
         ],
         "yaxis": "y3"
        },
        {
         "name": "#Collecting",
         "type": "bar",
         "x": [
          0,
          1,
          2,
          3,
          4,
          5,
          6,
          7,
          8,
          9,
          10,
          11,
          12,
          13,
          14,
          15,
          16,
          17,
          18,
          19,
          20,
          21,
          22,
          23,
          24,
          25,
          26,
          27,
          28,
          29,
          30,
          31,
          32,
          33,
          34,
          35,
          36,
          37,
          38,
          39,
          40,
          41,
          42,
          43,
          44,
          45,
          46,
          47,
          48,
          49,
          50,
          51,
          52,
          53,
          54,
          55,
          56,
          57,
          58,
          59,
          60,
          61,
          62,
          63,
          64,
          65,
          66,
          67,
          68,
          69,
          70,
          71,
          72,
          73,
          74
         ],
         "xaxis": "x3",
         "y": [
          0,
          0,
          2,
          2,
          2,
          2,
          2,
          4,
          4,
          4,
          4,
          5,
          9,
          9,
          10,
          12,
          13,
          17,
          19,
          22,
          34,
          38,
          43,
          42,
          48,
          43,
          53,
          55,
          26,
          0,
          0,
          0,
          0,
          0,
          0,
          0,
          0,
          0,
          0,
          0,
          0,
          0,
          0,
          0,
          0,
          0,
          0,
          0,
          0,
          0,
          0,
          0,
          0,
          0,
          0,
          0,
          0,
          0,
          0,
          0,
          0,
          0,
          0,
          0,
          0,
          0,
          0,
          0,
          0,
          0,
          0,
          0,
          0,
          0,
          0
         ],
         "yaxis": "y3"
        },
        {
         "name": "#Idle",
         "type": "bar",
         "x": [
          0,
          1,
          2,
          3,
          4,
          5,
          6,
          7,
          8,
          9,
          10,
          11,
          12,
          13,
          14,
          15,
          16,
          17,
          18,
          19,
          20,
          21,
          22,
          23,
          24,
          25,
          26,
          27,
          28,
          29,
          30,
          31,
          32,
          33,
          34,
          35,
          36,
          37,
          38,
          39,
          40,
          41,
          42,
          43,
          44,
          45,
          46,
          47,
          48,
          49,
          50,
          51,
          52,
          53,
          54,
          55,
          56,
          57,
          58,
          59,
          60,
          61,
          62,
          63,
          64,
          65,
          66,
          67,
          68,
          69,
          70,
          71,
          72,
          73,
          74
         ],
         "xaxis": "x3",
         "y": [
          0,
          0,
          0,
          0,
          0,
          0,
          0,
          0,
          0,
          0,
          1,
          0,
          0,
          1,
          1,
          2,
          0,
          1,
          3,
          2,
          6,
          0,
          3,
          2,
          2,
          1,
          1,
          4,
          24,
          58,
          59,
          70,
          63,
          72,
          81,
          82,
          75,
          93,
          105,
          100,
          98,
          109,
          151,
          234,
          258,
          266,
          266,
          266,
          266,
          266,
          266,
          266,
          266,
          266,
          266,
          266,
          266,
          266,
          266,
          266,
          266,
          266,
          266,
          266,
          266,
          266,
          266,
          266,
          266,
          266,
          266,
          266,
          266,
          266,
          266
         ],
         "yaxis": "y3"
        },
        {
         "mode": "lines",
         "name": "NonPr",
         "type": "scatter",
         "x": [
          0,
          1,
          2,
          3,
          4,
          5,
          6,
          7,
          8,
          9,
          10,
          11,
          12,
          13,
          14,
          15,
          16,
          17,
          18,
          19,
          20,
          21,
          22,
          23,
          24,
          25,
          26,
          27,
          28,
          29,
          30,
          31,
          32,
          33,
          34,
          35,
          36,
          37,
          38,
          39,
          40,
          41,
          42,
          43,
          44,
          45,
          46,
          47,
          48,
          49,
          50,
          51,
          52,
          53,
          54,
          55,
          56,
          57,
          58,
          59,
          60,
          61,
          62,
          63,
          64,
          65,
          66,
          67,
          68,
          69,
          70,
          71,
          72,
          73,
          74
         ],
         "xaxis": "x2",
         "y": [
          299,
          299,
          297,
          297,
          297,
          297,
          294,
          292,
          292,
          289,
          286,
          285,
          278,
          276,
          272,
          266,
          261,
          250,
          242,
          234,
          229,
          225,
          219,
          215,
          209,
          200,
          197,
          189,
          181,
          174,
          164,
          155,
          143,
          131,
          119,
          105,
          91,
          75,
          59,
          41,
          18,
          0,
          0,
          0,
          0,
          0,
          0,
          0,
          0,
          0,
          0,
          0,
          0,
          0,
          0,
          0,
          0,
          0,
          0,
          0,
          0,
          0,
          0,
          0,
          0,
          0,
          0,
          0,
          0,
          0,
          0,
          0,
          0,
          0,
          0
         ],
         "yaxis": "y2"
        },
        {
         "mode": "lines",
         "name": "Printable",
         "type": "scatter",
         "x": [
          0,
          1,
          2,
          3,
          4,
          5,
          6,
          7,
          8,
          9,
          10,
          11,
          12,
          13,
          14,
          15,
          16,
          17,
          18,
          19,
          20,
          21,
          22,
          23,
          24,
          25,
          26,
          27,
          28,
          29,
          30,
          31,
          32,
          33,
          34,
          35,
          36,
          37,
          38,
          39,
          40,
          41,
          42,
          43,
          44,
          45,
          46,
          47,
          48,
          49,
          50,
          51,
          52,
          53,
          54,
          55,
          56,
          57,
          58,
          59,
          60,
          61,
          62,
          63,
          64,
          65,
          66,
          67,
          68,
          69,
          70,
          71,
          72,
          73,
          74
         ],
         "xaxis": "x2",
         "y": [
          99,
          99,
          96,
          96,
          97,
          97,
          92,
          88,
          89,
          83,
          79,
          79,
          68,
          66,
          61,
          52,
          46,
          28,
          17,
          5,
          3,
          4,
          2,
          4,
          6,
          1,
          9,
          7,
          6,
          8,
          5,
          7,
          4,
          1,
          3,
          1,
          3,
          3,
          9,
          10,
          3,
          8,
          49,
          49,
          49,
          49,
          49,
          49,
          49,
          49,
          49,
          49,
          49,
          49,
          49,
          49,
          49,
          49,
          49,
          49,
          49,
          49,
          49,
          49,
          49,
          49,
          49,
          49,
          49,
          49,
          49,
          49,
          49,
          49,
          49
         ],
         "yaxis": "y2"
        },
        {
         "mode": "lines",
         "name": "Materials",
         "type": "scatter",
         "x": [
          0,
          1,
          2,
          3,
          4,
          5,
          6,
          7,
          8,
          9,
          10,
          11,
          12,
          13,
          14,
          15,
          16,
          17,
          18,
          19,
          20,
          21,
          22,
          23,
          24,
          25,
          26,
          27,
          28,
          29,
          30,
          31,
          32,
          33,
          34,
          35,
          36,
          37,
          38,
          39,
          40,
          41,
          42,
          43,
          44,
          45,
          46,
          47,
          48,
          49,
          50,
          51,
          52,
          53,
          54,
          55,
          56,
          57,
          58,
          59,
          60,
          61,
          62,
          63,
          64,
          65,
          66,
          67,
          68,
          69,
          70,
          71,
          72,
          73,
          74
         ],
         "xaxis": "x2",
         "y": [
          49,
          49,
          49,
          51,
          52,
          54,
          55,
          58,
          61,
          65,
          67,
          70,
          74,
          81,
          88,
          96,
          105,
          116,
          129,
          147,
          167,
          194,
          223,
          255,
          289,
          319,
          354,
          395,
          406,
          390,
          373,
          353,
          332,
          311,
          285,
          259,
          229,
          197,
          159,
          122,
          83,
          42,
          1,
          1,
          1,
          1,
          1,
          1,
          1,
          1,
          1,
          1,
          1,
          1,
          1,
          1,
          1,
          1,
          1,
          1,
          1,
          1,
          1,
          1,
          1,
          1,
          1,
          1,
          1,
          1,
          1,
          1,
          1,
          1,
          1
         ],
         "yaxis": "y2"
        },
        {
         "mode": "lines",
         "name": "Env_Materials",
         "type": "scatter",
         "x": [
          0,
          1,
          2,
          3,
          4,
          5,
          6,
          7,
          8,
          9,
          10,
          11,
          12,
          13,
          14,
          15,
          16,
          17,
          18,
          19,
          20,
          21,
          22,
          23,
          24,
          25,
          26,
          27,
          28,
          29,
          30,
          31,
          32,
          33,
          34,
          35,
          36,
          37,
          38,
          39,
          40,
          41,
          42,
          43,
          44,
          45,
          46,
          47,
          48,
          49,
          50,
          51,
          52,
          53,
          54,
          55,
          56,
          57,
          58,
          59,
          60,
          61,
          62,
          63,
          64,
          65,
          66,
          67,
          68,
          69,
          70,
          71,
          72,
          73,
          74
         ],
         "xaxis": "x2",
         "y": [
          500,
          500,
          499,
          497,
          495,
          493,
          491,
          488,
          484,
          480,
          476,
          471,
          464,
          455,
          445,
          434,
          421,
          406,
          388,
          366,
          338,
          302,
          263,
          221,
          173,
          130,
          81,
          26,
          0,
          0,
          0,
          0,
          0,
          0,
          0,
          0,
          0,
          0,
          0,
          0,
          0,
          0,
          0,
          0,
          0,
          0,
          0,
          0,
          0,
          0,
          0,
          0,
          0,
          0,
          0,
          0,
          0,
          0,
          0,
          0,
          0,
          0,
          0,
          0,
          0,
          0,
          0,
          0,
          0,
          0,
          0,
          0,
          0,
          0,
          0
         ],
         "yaxis": "y2"
        },
        {
         "mode": "lines",
         "name": "Avg. Quality #in",
         "type": "scatter",
         "x": [
          0,
          1,
          2,
          3,
          4,
          5,
          6,
          7,
          8,
          9,
          10,
          11,
          12,
          13,
          14,
          15,
          16,
          17,
          18,
          19,
          20,
          21,
          22,
          23,
          24,
          25,
          26,
          27,
          28,
          29,
          30,
          31,
          32,
          33,
          34,
          35,
          36,
          37,
          38,
          39,
          40,
          41,
          42,
          43,
          44,
          45,
          46,
          47,
          48,
          49,
          50,
          51,
          52,
          53,
          54,
          55,
          56,
          57,
          58,
          59,
          60,
          61,
          62,
          63,
          64,
          65,
          66,
          67,
          68,
          69,
          70,
          71,
          72,
          73,
          74
         ],
         "xaxis": "x4",
         "y": [
          0.939,
          0.939,
          0.91,
          0.91,
          0.91,
          0.91,
          0.877,
          0.814,
          0.814,
          0.784,
          0.721,
          0.71,
          0.695,
          0.664,
          0.63,
          0.581,
          0.593,
          0.594,
          0.554,
          0.536,
          0.492,
          0.502,
          0.495,
          0.482,
          0.477,
          0.472,
          0.485,
          0.465,
          0.46,
          0.457,
          0.449,
          0.452,
          0.448,
          0.447,
          0.44,
          0.439,
          0.437,
          0.432,
          0.406,
          0.4,
          0.393,
          0.388,
          0.388,
          0.386,
          0.38,
          0.374,
          0.374,
          0.374,
          0.374,
          0.374,
          0.374,
          0.374,
          0.374,
          0.374,
          0.374,
          0.374,
          0.374,
          0.374,
          0.374,
          0.374,
          0.374,
          0.374,
          0.374,
          0.374,
          0.374,
          0.374,
          0.374,
          0.374,
          0.374,
          0.374,
          0.374,
          0.374,
          0.374,
          0.374,
          0.374
         ],
         "yaxis": "y4"
        },
        {
         "mode": "lines",
         "name": "Avg. Quality #total",
         "type": "scatter",
         "x": [
          0,
          1,
          2,
          3,
          4,
          5,
          6,
          7,
          8,
          9,
          10,
          11,
          12,
          13,
          14,
          15,
          16,
          17,
          18,
          19,
          20,
          21,
          22,
          23,
          24,
          25,
          26,
          27,
          28,
          29,
          30,
          31,
          32,
          33,
          34,
          35,
          36,
          37,
          38,
          39,
          40,
          41,
          42,
          43,
          44,
          45,
          46,
          47,
          48,
          49,
          50,
          51,
          52,
          53,
          54,
          55,
          56,
          57,
          58,
          59,
          60,
          61,
          62,
          63,
          64,
          65,
          66,
          67,
          68,
          69,
          70,
          71,
          72,
          73,
          74
         ],
         "xaxis": "x4",
         "y": [
          0.939,
          0.939,
          0.91,
          0.91,
          0.91,
          0.91,
          0.877,
          0.814,
          0.814,
          0.784,
          0.754,
          0.738,
          0.716,
          0.697,
          0.679,
          0.648,
          0.653,
          0.652,
          0.628,
          0.615,
          0.598,
          0.602,
          0.6,
          0.593,
          0.585,
          0.583,
          0.593,
          0.586,
          0.584,
          0.58,
          0.578,
          0.574,
          0.572,
          0.569,
          0.563,
          0.561,
          0.56,
          0.552,
          0.54,
          0.537,
          0.532,
          0.528,
          0.527,
          0.525,
          0.521,
          0.519,
          0.519,
          0.519,
          0.519,
          0.519,
          0.519,
          0.519,
          0.519,
          0.519,
          0.519,
          0.519,
          0.519,
          0.519,
          0.519,
          0.519,
          0.519,
          0.519,
          0.519,
          0.519,
          0.519,
          0.519,
          0.519,
          0.519,
          0.519,
          0.519,
          0.519,
          0.519,
          0.519,
          0.519,
          0.519
         ],
         "yaxis": "y4"
        }
       ],
       "layout": {
        "annotations": [
         {
          "font": {
           "size": 16
          },
          "showarrow": false,
          "text": "Types of Robots vs Time",
          "x": 0.225,
          "xanchor": "center",
          "xref": "paper",
          "y": 1,
          "yanchor": "bottom",
          "yref": "paper"
         },
         {
          "font": {
           "size": 16
          },
          "showarrow": false,
          "text": "Resources vs Time",
          "x": 0.775,
          "xanchor": "center",
          "xref": "paper",
          "y": 1,
          "yanchor": "bottom",
          "yref": "paper"
         },
         {
          "font": {
           "size": 16
          },
          "showarrow": false,
          "text": "Tasks of Robots vs Time",
          "x": 0.225,
          "xanchor": "center",
          "xref": "paper",
          "y": 0.375,
          "yanchor": "bottom",
          "yref": "paper"
         },
         {
          "font": {
           "size": 16
          },
          "showarrow": false,
          "text": "Build Quality vs Time",
          "x": 0.775,
          "xanchor": "center",
          "xref": "paper",
          "y": 0.375,
          "yanchor": "bottom",
          "yref": "paper"
         }
        ],
        "hovermode": "x",
        "template": {
         "data": {
          "bar": [
           {
            "error_x": {
             "color": "#2a3f5f"
            },
            "error_y": {
             "color": "#2a3f5f"
            },
            "marker": {
             "line": {
              "color": "#E5ECF6",
              "width": 0.5
             },
             "pattern": {
              "fillmode": "overlay",
              "size": 10,
              "solidity": 0.2
             }
            },
            "type": "bar"
           }
          ],
          "barpolar": [
           {
            "marker": {
             "line": {
              "color": "#E5ECF6",
              "width": 0.5
             },
             "pattern": {
              "fillmode": "overlay",
              "size": 10,
              "solidity": 0.2
             }
            },
            "type": "barpolar"
           }
          ],
          "carpet": [
           {
            "aaxis": {
             "endlinecolor": "#2a3f5f",
             "gridcolor": "white",
             "linecolor": "white",
             "minorgridcolor": "white",
             "startlinecolor": "#2a3f5f"
            },
            "baxis": {
             "endlinecolor": "#2a3f5f",
             "gridcolor": "white",
             "linecolor": "white",
             "minorgridcolor": "white",
             "startlinecolor": "#2a3f5f"
            },
            "type": "carpet"
           }
          ],
          "choropleth": [
           {
            "colorbar": {
             "outlinewidth": 0,
             "ticks": ""
            },
            "type": "choropleth"
           }
          ],
          "contour": [
           {
            "colorbar": {
             "outlinewidth": 0,
             "ticks": ""
            },
            "colorscale": [
             [
              0,
              "#0d0887"
             ],
             [
              0.1111111111111111,
              "#46039f"
             ],
             [
              0.2222222222222222,
              "#7201a8"
             ],
             [
              0.3333333333333333,
              "#9c179e"
             ],
             [
              0.4444444444444444,
              "#bd3786"
             ],
             [
              0.5555555555555556,
              "#d8576b"
             ],
             [
              0.6666666666666666,
              "#ed7953"
             ],
             [
              0.7777777777777778,
              "#fb9f3a"
             ],
             [
              0.8888888888888888,
              "#fdca26"
             ],
             [
              1,
              "#f0f921"
             ]
            ],
            "type": "contour"
           }
          ],
          "contourcarpet": [
           {
            "colorbar": {
             "outlinewidth": 0,
             "ticks": ""
            },
            "type": "contourcarpet"
           }
          ],
          "heatmap": [
           {
            "colorbar": {
             "outlinewidth": 0,
             "ticks": ""
            },
            "colorscale": [
             [
              0,
              "#0d0887"
             ],
             [
              0.1111111111111111,
              "#46039f"
             ],
             [
              0.2222222222222222,
              "#7201a8"
             ],
             [
              0.3333333333333333,
              "#9c179e"
             ],
             [
              0.4444444444444444,
              "#bd3786"
             ],
             [
              0.5555555555555556,
              "#d8576b"
             ],
             [
              0.6666666666666666,
              "#ed7953"
             ],
             [
              0.7777777777777778,
              "#fb9f3a"
             ],
             [
              0.8888888888888888,
              "#fdca26"
             ],
             [
              1,
              "#f0f921"
             ]
            ],
            "type": "heatmap"
           }
          ],
          "heatmapgl": [
           {
            "colorbar": {
             "outlinewidth": 0,
             "ticks": ""
            },
            "colorscale": [
             [
              0,
              "#0d0887"
             ],
             [
              0.1111111111111111,
              "#46039f"
             ],
             [
              0.2222222222222222,
              "#7201a8"
             ],
             [
              0.3333333333333333,
              "#9c179e"
             ],
             [
              0.4444444444444444,
              "#bd3786"
             ],
             [
              0.5555555555555556,
              "#d8576b"
             ],
             [
              0.6666666666666666,
              "#ed7953"
             ],
             [
              0.7777777777777778,
              "#fb9f3a"
             ],
             [
              0.8888888888888888,
              "#fdca26"
             ],
             [
              1,
              "#f0f921"
             ]
            ],
            "type": "heatmapgl"
           }
          ],
          "histogram": [
           {
            "marker": {
             "pattern": {
              "fillmode": "overlay",
              "size": 10,
              "solidity": 0.2
             }
            },
            "type": "histogram"
           }
          ],
          "histogram2d": [
           {
            "colorbar": {
             "outlinewidth": 0,
             "ticks": ""
            },
            "colorscale": [
             [
              0,
              "#0d0887"
             ],
             [
              0.1111111111111111,
              "#46039f"
             ],
             [
              0.2222222222222222,
              "#7201a8"
             ],
             [
              0.3333333333333333,
              "#9c179e"
             ],
             [
              0.4444444444444444,
              "#bd3786"
             ],
             [
              0.5555555555555556,
              "#d8576b"
             ],
             [
              0.6666666666666666,
              "#ed7953"
             ],
             [
              0.7777777777777778,
              "#fb9f3a"
             ],
             [
              0.8888888888888888,
              "#fdca26"
             ],
             [
              1,
              "#f0f921"
             ]
            ],
            "type": "histogram2d"
           }
          ],
          "histogram2dcontour": [
           {
            "colorbar": {
             "outlinewidth": 0,
             "ticks": ""
            },
            "colorscale": [
             [
              0,
              "#0d0887"
             ],
             [
              0.1111111111111111,
              "#46039f"
             ],
             [
              0.2222222222222222,
              "#7201a8"
             ],
             [
              0.3333333333333333,
              "#9c179e"
             ],
             [
              0.4444444444444444,
              "#bd3786"
             ],
             [
              0.5555555555555556,
              "#d8576b"
             ],
             [
              0.6666666666666666,
              "#ed7953"
             ],
             [
              0.7777777777777778,
              "#fb9f3a"
             ],
             [
              0.8888888888888888,
              "#fdca26"
             ],
             [
              1,
              "#f0f921"
             ]
            ],
            "type": "histogram2dcontour"
           }
          ],
          "mesh3d": [
           {
            "colorbar": {
             "outlinewidth": 0,
             "ticks": ""
            },
            "type": "mesh3d"
           }
          ],
          "parcoords": [
           {
            "line": {
             "colorbar": {
              "outlinewidth": 0,
              "ticks": ""
             }
            },
            "type": "parcoords"
           }
          ],
          "pie": [
           {
            "automargin": true,
            "type": "pie"
           }
          ],
          "scatter": [
           {
            "fillpattern": {
             "fillmode": "overlay",
             "size": 10,
             "solidity": 0.2
            },
            "type": "scatter"
           }
          ],
          "scatter3d": [
           {
            "line": {
             "colorbar": {
              "outlinewidth": 0,
              "ticks": ""
             }
            },
            "marker": {
             "colorbar": {
              "outlinewidth": 0,
              "ticks": ""
             }
            },
            "type": "scatter3d"
           }
          ],
          "scattercarpet": [
           {
            "marker": {
             "colorbar": {
              "outlinewidth": 0,
              "ticks": ""
             }
            },
            "type": "scattercarpet"
           }
          ],
          "scattergeo": [
           {
            "marker": {
             "colorbar": {
              "outlinewidth": 0,
              "ticks": ""
             }
            },
            "type": "scattergeo"
           }
          ],
          "scattergl": [
           {
            "marker": {
             "colorbar": {
              "outlinewidth": 0,
              "ticks": ""
             }
            },
            "type": "scattergl"
           }
          ],
          "scattermapbox": [
           {
            "marker": {
             "colorbar": {
              "outlinewidth": 0,
              "ticks": ""
             }
            },
            "type": "scattermapbox"
           }
          ],
          "scatterpolar": [
           {
            "marker": {
             "colorbar": {
              "outlinewidth": 0,
              "ticks": ""
             }
            },
            "type": "scatterpolar"
           }
          ],
          "scatterpolargl": [
           {
            "marker": {
             "colorbar": {
              "outlinewidth": 0,
              "ticks": ""
             }
            },
            "type": "scatterpolargl"
           }
          ],
          "scatterternary": [
           {
            "marker": {
             "colorbar": {
              "outlinewidth": 0,
              "ticks": ""
             }
            },
            "type": "scatterternary"
           }
          ],
          "surface": [
           {
            "colorbar": {
             "outlinewidth": 0,
             "ticks": ""
            },
            "colorscale": [
             [
              0,
              "#0d0887"
             ],
             [
              0.1111111111111111,
              "#46039f"
             ],
             [
              0.2222222222222222,
              "#7201a8"
             ],
             [
              0.3333333333333333,
              "#9c179e"
             ],
             [
              0.4444444444444444,
              "#bd3786"
             ],
             [
              0.5555555555555556,
              "#d8576b"
             ],
             [
              0.6666666666666666,
              "#ed7953"
             ],
             [
              0.7777777777777778,
              "#fb9f3a"
             ],
             [
              0.8888888888888888,
              "#fdca26"
             ],
             [
              1,
              "#f0f921"
             ]
            ],
            "type": "surface"
           }
          ],
          "table": [
           {
            "cells": {
             "fill": {
              "color": "#EBF0F8"
             },
             "line": {
              "color": "white"
             }
            },
            "header": {
             "fill": {
              "color": "#C8D4E3"
             },
             "line": {
              "color": "white"
             }
            },
            "type": "table"
           }
          ]
         },
         "layout": {
          "annotationdefaults": {
           "arrowcolor": "#2a3f5f",
           "arrowhead": 0,
           "arrowwidth": 1
          },
          "autotypenumbers": "strict",
          "coloraxis": {
           "colorbar": {
            "outlinewidth": 0,
            "ticks": ""
           }
          },
          "colorscale": {
           "diverging": [
            [
             0,
             "#8e0152"
            ],
            [
             0.1,
             "#c51b7d"
            ],
            [
             0.2,
             "#de77ae"
            ],
            [
             0.3,
             "#f1b6da"
            ],
            [
             0.4,
             "#fde0ef"
            ],
            [
             0.5,
             "#f7f7f7"
            ],
            [
             0.6,
             "#e6f5d0"
            ],
            [
             0.7,
             "#b8e186"
            ],
            [
             0.8,
             "#7fbc41"
            ],
            [
             0.9,
             "#4d9221"
            ],
            [
             1,
             "#276419"
            ]
           ],
           "sequential": [
            [
             0,
             "#0d0887"
            ],
            [
             0.1111111111111111,
             "#46039f"
            ],
            [
             0.2222222222222222,
             "#7201a8"
            ],
            [
             0.3333333333333333,
             "#9c179e"
            ],
            [
             0.4444444444444444,
             "#bd3786"
            ],
            [
             0.5555555555555556,
             "#d8576b"
            ],
            [
             0.6666666666666666,
             "#ed7953"
            ],
            [
             0.7777777777777778,
             "#fb9f3a"
            ],
            [
             0.8888888888888888,
             "#fdca26"
            ],
            [
             1,
             "#f0f921"
            ]
           ],
           "sequentialminus": [
            [
             0,
             "#0d0887"
            ],
            [
             0.1111111111111111,
             "#46039f"
            ],
            [
             0.2222222222222222,
             "#7201a8"
            ],
            [
             0.3333333333333333,
             "#9c179e"
            ],
            [
             0.4444444444444444,
             "#bd3786"
            ],
            [
             0.5555555555555556,
             "#d8576b"
            ],
            [
             0.6666666666666666,
             "#ed7953"
            ],
            [
             0.7777777777777778,
             "#fb9f3a"
            ],
            [
             0.8888888888888888,
             "#fdca26"
            ],
            [
             1,
             "#f0f921"
            ]
           ]
          },
          "colorway": [
           "#636efa",
           "#EF553B",
           "#00cc96",
           "#ab63fa",
           "#FFA15A",
           "#19d3f3",
           "#FF6692",
           "#B6E880",
           "#FF97FF",
           "#FECB52"
          ],
          "font": {
           "color": "#2a3f5f"
          },
          "geo": {
           "bgcolor": "white",
           "lakecolor": "white",
           "landcolor": "#E5ECF6",
           "showlakes": true,
           "showland": true,
           "subunitcolor": "white"
          },
          "hoverlabel": {
           "align": "left"
          },
          "hovermode": "closest",
          "mapbox": {
           "style": "light"
          },
          "paper_bgcolor": "white",
          "plot_bgcolor": "#E5ECF6",
          "polar": {
           "angularaxis": {
            "gridcolor": "white",
            "linecolor": "white",
            "ticks": ""
           },
           "bgcolor": "#E5ECF6",
           "radialaxis": {
            "gridcolor": "white",
            "linecolor": "white",
            "ticks": ""
           }
          },
          "scene": {
           "xaxis": {
            "backgroundcolor": "#E5ECF6",
            "gridcolor": "white",
            "gridwidth": 2,
            "linecolor": "white",
            "showbackground": true,
            "ticks": "",
            "zerolinecolor": "white"
           },
           "yaxis": {
            "backgroundcolor": "#E5ECF6",
            "gridcolor": "white",
            "gridwidth": 2,
            "linecolor": "white",
            "showbackground": true,
            "ticks": "",
            "zerolinecolor": "white"
           },
           "zaxis": {
            "backgroundcolor": "#E5ECF6",
            "gridcolor": "white",
            "gridwidth": 2,
            "linecolor": "white",
            "showbackground": true,
            "ticks": "",
            "zerolinecolor": "white"
           }
          },
          "shapedefaults": {
           "line": {
            "color": "#2a3f5f"
           }
          },
          "ternary": {
           "aaxis": {
            "gridcolor": "white",
            "linecolor": "white",
            "ticks": ""
           },
           "baxis": {
            "gridcolor": "white",
            "linecolor": "white",
            "ticks": ""
           },
           "bgcolor": "#E5ECF6",
           "caxis": {
            "gridcolor": "white",
            "linecolor": "white",
            "ticks": ""
           }
          },
          "title": {
           "x": 0.05
          },
          "xaxis": {
           "automargin": true,
           "gridcolor": "white",
           "linecolor": "white",
           "ticks": "",
           "title": {
            "standoff": 15
           },
           "zerolinecolor": "white",
           "zerolinewidth": 2
          },
          "yaxis": {
           "automargin": true,
           "gridcolor": "white",
           "linecolor": "white",
           "ticks": "",
           "title": {
            "standoff": 15
           },
           "zerolinecolor": "white",
           "zerolinewidth": 2
          }
         }
        },
        "title": {
         "text": "HHE - Characteristics"
        },
        "xaxis": {
         "anchor": "y",
         "domain": [
          0,
          0.45
         ]
        },
        "xaxis2": {
         "anchor": "y2",
         "domain": [
          0.55,
          1
         ]
        },
        "xaxis3": {
         "anchor": "y3",
         "domain": [
          0,
          0.45
         ]
        },
        "xaxis4": {
         "anchor": "y4",
         "domain": [
          0.55,
          1
         ]
        },
        "yaxis": {
         "anchor": "x",
         "domain": [
          0.625,
          1
         ]
        },
        "yaxis2": {
         "anchor": "x2",
         "domain": [
          0.625,
          1
         ]
        },
        "yaxis3": {
         "anchor": "x3",
         "domain": [
          0,
          0.375
         ]
        },
        "yaxis4": {
         "anchor": "x4",
         "domain": [
          0,
          0.375
         ]
        }
       }
      },
      "text/html": [
       "<div>                            <div id=\"60013fd1-29a9-48ea-8e47-dbded104c34c\" class=\"plotly-graph-div\" style=\"height:525px; width:100%;\"></div>            <script type=\"text/javascript\">                require([\"plotly\"], function(Plotly) {                    window.PLOTLYENV=window.PLOTLYENV || {};                                    if (document.getElementById(\"60013fd1-29a9-48ea-8e47-dbded104c34c\")) {                    Plotly.newPlot(                        \"60013fd1-29a9-48ea-8e47-dbded104c34c\",                        [{\"name\":\"#Replicator\",\"x\":[0.0,1.0,2.0,3.0,4.0,5.0,6.0,7.0,8.0,9.0,10.0,11.0,12.0,13.0,14.0,15.0,16.0,17.0,18.0,19.0,20.0,21.0,22.0,23.0,24.0,25.0,26.0,27.0,28.0,29.0,30.0,31.0,32.0,33.0,34.0,35.0,36.0,37.0,38.0,39.0,40.0,41.0,42.0,43.0,44.0,45.0,46.0,47.0,48.0,49.0,50.0,51.0,52.0,53.0,54.0,55.0,56.0,57.0,58.0,59.0,60.0,61.0,62.0,63.0,64.0,65.0,66.0,67.0,68.0,69.0,70.0,71.0,72.0,73.0,74.0],\"y\":[0.0,0.0,0.0,0.0,0.0,0.0,0.0,0.0,0.0,0.0,0.0,0.0,0.0,0.0,0.0,0.0,0.0,0.0,0.0,0.0,0.0,0.0,0.0,0.0,0.0,0.0,0.0,0.0,0.0,0.0,0.0,0.0,0.0,0.0,0.0,0.0,0.0,0.0,0.0,0.0,0.0,0.0,0.0,0.0,0.0,0.0,0.0,0.0,0.0,0.0,0.0,0.0,0.0,0.0,0.0,0.0,0.0,0.0,0.0,0.0,0.0,0.0,0.0,0.0,0.0,0.0,0.0,0.0,0.0,0.0,0.0,0.0,0.0,0.0,0.0],\"type\":\"bar\",\"xaxis\":\"x\",\"yaxis\":\"y\"},{\"name\":\"#Normal\",\"x\":[0.0,1.0,2.0,3.0,4.0,5.0,6.0,7.0,8.0,9.0,10.0,11.0,12.0,13.0,14.0,15.0,16.0,17.0,18.0,19.0,20.0,21.0,22.0,23.0,24.0,25.0,26.0,27.0,28.0,29.0,30.0,31.0,32.0,33.0,34.0,35.0,36.0,37.0,38.0,39.0,40.0,41.0,42.0,43.0,44.0,45.0,46.0,47.0,48.0,49.0,50.0,51.0,52.0,53.0,54.0,55.0,56.0,57.0,58.0,59.0,60.0,61.0,62.0,63.0,64.0,65.0,66.0,67.0,68.0,69.0,70.0,71.0,72.0,73.0,74.0],\"y\":[0.0,0.0,2.0,2.0,2.0,2.0,2.0,4.0,4.0,4.0,5.0,5.0,9.0,10.0,10.0,13.0,13.0,17.0,22.0,22.0,26.0,26.0,30.0,30.0,32.0,33.0,39.0,41.0,41.0,47.0,50.0,50.0,52.0,58.0,60.0,60.0,63.0,71.0,76.0,77.0,80.0,83.0,84.0,88.0,92.0,95.0,95.0,95.0,95.0,95.0,95.0,95.0,95.0,95.0,95.0,95.0,95.0,95.0,95.0,95.0,95.0,95.0,95.0,95.0,95.0,95.0,95.0,95.0,95.0,95.0,95.0,95.0,95.0,95.0,95.0],\"type\":\"bar\",\"xaxis\":\"x\",\"yaxis\":\"y\"},{\"name\":\"#Assembler\",\"x\":[0.0,1.0,2.0,3.0,4.0,5.0,6.0,7.0,8.0,9.0,10.0,11.0,12.0,13.0,14.0,15.0,16.0,17.0,18.0,19.0,20.0,21.0,22.0,23.0,24.0,25.0,26.0,27.0,28.0,29.0,30.0,31.0,32.0,33.0,34.0,35.0,36.0,37.0,38.0,39.0,40.0,41.0,42.0,43.0,44.0,45.0,46.0,47.0,48.0,49.0,50.0,51.0,52.0,53.0,54.0,55.0,56.0,57.0,58.0,59.0,60.0,61.0,62.0,63.0,64.0,65.0,66.0,67.0,68.0,69.0,70.0,71.0,72.0,73.0,74.0],\"y\":[1.0,1.0,1.0,1.0,1.0,1.0,3.0,3.0,3.0,5.0,5.0,5.0,7.0,7.0,9.0,10.0,12.0,16.0,16.0,20.0,21.0,23.0,24.0,24.0,25.0,25.0,25.0,26.0,26.0,26.0,26.0,33.0,35.0,37.0,42.0,46.0,46.0,47.0,49.0,53.0,58.0,62.0,71.0,75.0,75.0,76.0,76.0,76.0,76.0,76.0,76.0,76.0,76.0,76.0,76.0,76.0,76.0,76.0,76.0,76.0,76.0,76.0,76.0,76.0,76.0,76.0,76.0,76.0,76.0,76.0,76.0,76.0,76.0,76.0,76.0],\"type\":\"bar\",\"xaxis\":\"x\",\"yaxis\":\"y\"},{\"name\":\"#Printer\",\"x\":[0.0,1.0,2.0,3.0,4.0,5.0,6.0,7.0,8.0,9.0,10.0,11.0,12.0,13.0,14.0,15.0,16.0,17.0,18.0,19.0,20.0,21.0,22.0,23.0,24.0,25.0,26.0,27.0,28.0,29.0,30.0,31.0,32.0,33.0,34.0,35.0,36.0,37.0,38.0,39.0,40.0,41.0,42.0,43.0,44.0,45.0,46.0,47.0,48.0,49.0,50.0,51.0,52.0,53.0,54.0,55.0,56.0,57.0,58.0,59.0,60.0,61.0,62.0,63.0,64.0,65.0,66.0,67.0,68.0,69.0,70.0,71.0,72.0,73.0,74.0],\"y\":[1.0,1.0,1.0,1.0,1.0,1.0,1.0,1.0,1.0,1.0,3.0,5.0,5.0,5.0,6.0,6.0,8.0,9.0,9.0,11.0,16.0,18.0,20.0,22.0,27.0,27.0,28.0,29.0,30.0,33.0,35.0,41.0,41.0,44.0,50.0,55.0,58.0,70.0,75.0,76.0,77.0,86.0,95.0,95.0,95.0,95.0,95.0,95.0,95.0,95.0,95.0,95.0,95.0,95.0,95.0,95.0,95.0,95.0,95.0,95.0,95.0,95.0,95.0,95.0,95.0,95.0,95.0,95.0,95.0,95.0,95.0,95.0,95.0,95.0,95.0],\"type\":\"bar\",\"xaxis\":\"x\",\"yaxis\":\"y\"},{\"name\":\"#Assembling\",\"x\":[0.0,1.0,2.0,3.0,4.0,5.0,6.0,7.0,8.0,9.0,10.0,11.0,12.0,13.0,14.0,15.0,16.0,17.0,18.0,19.0,20.0,21.0,22.0,23.0,24.0,25.0,26.0,27.0,28.0,29.0,30.0,31.0,32.0,33.0,34.0,35.0,36.0,37.0,38.0,39.0,40.0,41.0,42.0,43.0,44.0,45.0,46.0,47.0,48.0,49.0,50.0,51.0,52.0,53.0,54.0,55.0,56.0,57.0,58.0,59.0,60.0,61.0,62.0,63.0,64.0,65.0,66.0,67.0,68.0,69.0,70.0,71.0,72.0,73.0,74.0],\"y\":[1.0,1.0,1.0,1.0,1.0,1.0,3.0,3.0,3.0,5.0,5.0,5.0,7.0,7.0,9.0,9.0,12.0,16.0,16.0,20.0,10.0,11.0,8.0,12.0,8.0,14.0,11.0,9.0,18.0,16.0,19.0,15.0,24.0,24.0,21.0,25.0,35.0,29.0,25.0,31.0,41.0,39.0,17.0,8.0,4.0,0.0,0.0,0.0,0.0,0.0,0.0,0.0,0.0,0.0,0.0,0.0,0.0,0.0,0.0,0.0,0.0,0.0,0.0,0.0,0.0,0.0,0.0,0.0,0.0,0.0,0.0,0.0,0.0,0.0,0.0],\"type\":\"bar\",\"xaxis\":\"x3\",\"yaxis\":\"y3\"},{\"name\":\"#Printing\",\"x\":[0.0,1.0,2.0,3.0,4.0,5.0,6.0,7.0,8.0,9.0,10.0,11.0,12.0,13.0,14.0,15.0,16.0,17.0,18.0,19.0,20.0,21.0,22.0,23.0,24.0,25.0,26.0,27.0,28.0,29.0,30.0,31.0,32.0,33.0,34.0,35.0,36.0,37.0,38.0,39.0,40.0,41.0,42.0,43.0,44.0,45.0,46.0,47.0,48.0,49.0,50.0,51.0,52.0,53.0,54.0,55.0,56.0,57.0,58.0,59.0,60.0,61.0,62.0,63.0,64.0,65.0,66.0,67.0,68.0,69.0,70.0,71.0,72.0,73.0,74.0],\"y\":[1.0,1.0,1.0,1.0,1.0,1.0,1.0,1.0,1.0,1.0,3.0,5.0,5.0,5.0,5.0,6.0,8.0,8.0,9.0,9.0,13.0,18.0,20.0,20.0,26.0,27.0,27.0,28.0,29.0,32.0,33.0,39.0,41.0,43.0,50.0,54.0,57.0,66.0,70.0,75.0,76.0,83.0,82.0,16.0,0.0,0.0,0.0,0.0,0.0,0.0,0.0,0.0,0.0,0.0,0.0,0.0,0.0,0.0,0.0,0.0,0.0,0.0,0.0,0.0,0.0,0.0,0.0,0.0,0.0,0.0,0.0,0.0,0.0,0.0,0.0],\"type\":\"bar\",\"xaxis\":\"x3\",\"yaxis\":\"y3\"},{\"name\":\"#Collecting\",\"x\":[0.0,1.0,2.0,3.0,4.0,5.0,6.0,7.0,8.0,9.0,10.0,11.0,12.0,13.0,14.0,15.0,16.0,17.0,18.0,19.0,20.0,21.0,22.0,23.0,24.0,25.0,26.0,27.0,28.0,29.0,30.0,31.0,32.0,33.0,34.0,35.0,36.0,37.0,38.0,39.0,40.0,41.0,42.0,43.0,44.0,45.0,46.0,47.0,48.0,49.0,50.0,51.0,52.0,53.0,54.0,55.0,56.0,57.0,58.0,59.0,60.0,61.0,62.0,63.0,64.0,65.0,66.0,67.0,68.0,69.0,70.0,71.0,72.0,73.0,74.0],\"y\":[0.0,0.0,2.0,2.0,2.0,2.0,2.0,4.0,4.0,4.0,4.0,5.0,9.0,9.0,10.0,12.0,13.0,17.0,19.0,22.0,34.0,38.0,43.0,42.0,48.0,43.0,53.0,55.0,26.0,0.0,0.0,0.0,0.0,0.0,0.0,0.0,0.0,0.0,0.0,0.0,0.0,0.0,0.0,0.0,0.0,0.0,0.0,0.0,0.0,0.0,0.0,0.0,0.0,0.0,0.0,0.0,0.0,0.0,0.0,0.0,0.0,0.0,0.0,0.0,0.0,0.0,0.0,0.0,0.0,0.0,0.0,0.0,0.0,0.0,0.0],\"type\":\"bar\",\"xaxis\":\"x3\",\"yaxis\":\"y3\"},{\"name\":\"#Idle\",\"x\":[0.0,1.0,2.0,3.0,4.0,5.0,6.0,7.0,8.0,9.0,10.0,11.0,12.0,13.0,14.0,15.0,16.0,17.0,18.0,19.0,20.0,21.0,22.0,23.0,24.0,25.0,26.0,27.0,28.0,29.0,30.0,31.0,32.0,33.0,34.0,35.0,36.0,37.0,38.0,39.0,40.0,41.0,42.0,43.0,44.0,45.0,46.0,47.0,48.0,49.0,50.0,51.0,52.0,53.0,54.0,55.0,56.0,57.0,58.0,59.0,60.0,61.0,62.0,63.0,64.0,65.0,66.0,67.0,68.0,69.0,70.0,71.0,72.0,73.0,74.0],\"y\":[0.0,0.0,0.0,0.0,0.0,0.0,0.0,0.0,0.0,0.0,1.0,0.0,0.0,1.0,1.0,2.0,0.0,1.0,3.0,2.0,6.0,0.0,3.0,2.0,2.0,1.0,1.0,4.0,24.0,58.0,59.0,70.0,63.0,72.0,81.0,82.0,75.0,93.0,105.0,100.0,98.0,109.0,151.0,234.0,258.0,266.0,266.0,266.0,266.0,266.0,266.0,266.0,266.0,266.0,266.0,266.0,266.0,266.0,266.0,266.0,266.0,266.0,266.0,266.0,266.0,266.0,266.0,266.0,266.0,266.0,266.0,266.0,266.0,266.0,266.0],\"type\":\"bar\",\"xaxis\":\"x3\",\"yaxis\":\"y3\"},{\"mode\":\"lines\",\"name\":\"NonPr\",\"x\":[0.0,1.0,2.0,3.0,4.0,5.0,6.0,7.0,8.0,9.0,10.0,11.0,12.0,13.0,14.0,15.0,16.0,17.0,18.0,19.0,20.0,21.0,22.0,23.0,24.0,25.0,26.0,27.0,28.0,29.0,30.0,31.0,32.0,33.0,34.0,35.0,36.0,37.0,38.0,39.0,40.0,41.0,42.0,43.0,44.0,45.0,46.0,47.0,48.0,49.0,50.0,51.0,52.0,53.0,54.0,55.0,56.0,57.0,58.0,59.0,60.0,61.0,62.0,63.0,64.0,65.0,66.0,67.0,68.0,69.0,70.0,71.0,72.0,73.0,74.0],\"y\":[299.0,299.0,297.0,297.0,297.0,297.0,294.0,292.0,292.0,289.0,286.0,285.0,278.0,276.0,272.0,266.0,261.0,250.0,242.0,234.0,229.0,225.0,219.0,215.0,209.0,200.0,197.0,189.0,181.0,174.0,164.0,155.0,143.0,131.0,119.0,105.0,91.0,75.0,59.0,41.0,18.0,0.0,0.0,0.0,0.0,0.0,0.0,0.0,0.0,0.0,0.0,0.0,0.0,0.0,0.0,0.0,0.0,0.0,0.0,0.0,0.0,0.0,0.0,0.0,0.0,0.0,0.0,0.0,0.0,0.0,0.0,0.0,0.0,0.0,0.0],\"type\":\"scatter\",\"xaxis\":\"x2\",\"yaxis\":\"y2\"},{\"mode\":\"lines\",\"name\":\"Printable\",\"x\":[0.0,1.0,2.0,3.0,4.0,5.0,6.0,7.0,8.0,9.0,10.0,11.0,12.0,13.0,14.0,15.0,16.0,17.0,18.0,19.0,20.0,21.0,22.0,23.0,24.0,25.0,26.0,27.0,28.0,29.0,30.0,31.0,32.0,33.0,34.0,35.0,36.0,37.0,38.0,39.0,40.0,41.0,42.0,43.0,44.0,45.0,46.0,47.0,48.0,49.0,50.0,51.0,52.0,53.0,54.0,55.0,56.0,57.0,58.0,59.0,60.0,61.0,62.0,63.0,64.0,65.0,66.0,67.0,68.0,69.0,70.0,71.0,72.0,73.0,74.0],\"y\":[99.0,99.0,96.0,96.0,97.0,97.0,92.0,88.0,89.0,83.0,79.0,79.0,68.0,66.0,61.0,52.0,46.0,28.0,17.0,5.0,3.0,4.0,2.0,4.0,6.0,1.0,9.0,7.0,6.0,8.0,5.0,7.0,4.0,1.0,3.0,1.0,3.0,3.0,9.0,10.0,3.0,8.0,49.0,49.0,49.0,49.0,49.0,49.0,49.0,49.0,49.0,49.0,49.0,49.0,49.0,49.0,49.0,49.0,49.0,49.0,49.0,49.0,49.0,49.0,49.0,49.0,49.0,49.0,49.0,49.0,49.0,49.0,49.0,49.0,49.0],\"type\":\"scatter\",\"xaxis\":\"x2\",\"yaxis\":\"y2\"},{\"mode\":\"lines\",\"name\":\"Materials\",\"x\":[0.0,1.0,2.0,3.0,4.0,5.0,6.0,7.0,8.0,9.0,10.0,11.0,12.0,13.0,14.0,15.0,16.0,17.0,18.0,19.0,20.0,21.0,22.0,23.0,24.0,25.0,26.0,27.0,28.0,29.0,30.0,31.0,32.0,33.0,34.0,35.0,36.0,37.0,38.0,39.0,40.0,41.0,42.0,43.0,44.0,45.0,46.0,47.0,48.0,49.0,50.0,51.0,52.0,53.0,54.0,55.0,56.0,57.0,58.0,59.0,60.0,61.0,62.0,63.0,64.0,65.0,66.0,67.0,68.0,69.0,70.0,71.0,72.0,73.0,74.0],\"y\":[49.0,49.0,49.0,51.0,52.0,54.0,55.0,58.0,61.0,65.0,67.0,70.0,74.0,81.0,88.0,96.0,105.0,116.0,129.0,147.0,167.0,194.0,223.0,255.0,289.0,319.0,354.0,395.0,406.0,390.0,373.0,353.0,332.0,311.0,285.0,259.0,229.0,197.0,159.0,122.0,83.0,42.0,1.0,1.0,1.0,1.0,1.0,1.0,1.0,1.0,1.0,1.0,1.0,1.0,1.0,1.0,1.0,1.0,1.0,1.0,1.0,1.0,1.0,1.0,1.0,1.0,1.0,1.0,1.0,1.0,1.0,1.0,1.0,1.0,1.0],\"type\":\"scatter\",\"xaxis\":\"x2\",\"yaxis\":\"y2\"},{\"mode\":\"lines\",\"name\":\"Env_Materials\",\"x\":[0.0,1.0,2.0,3.0,4.0,5.0,6.0,7.0,8.0,9.0,10.0,11.0,12.0,13.0,14.0,15.0,16.0,17.0,18.0,19.0,20.0,21.0,22.0,23.0,24.0,25.0,26.0,27.0,28.0,29.0,30.0,31.0,32.0,33.0,34.0,35.0,36.0,37.0,38.0,39.0,40.0,41.0,42.0,43.0,44.0,45.0,46.0,47.0,48.0,49.0,50.0,51.0,52.0,53.0,54.0,55.0,56.0,57.0,58.0,59.0,60.0,61.0,62.0,63.0,64.0,65.0,66.0,67.0,68.0,69.0,70.0,71.0,72.0,73.0,74.0],\"y\":[500.0,500.0,499.0,497.0,495.0,493.0,491.0,488.0,484.0,480.0,476.0,471.0,464.0,455.0,445.0,434.0,421.0,406.0,388.0,366.0,338.0,302.0,263.0,221.0,173.0,130.0,81.0,26.0,0.0,0.0,0.0,0.0,0.0,0.0,0.0,0.0,0.0,0.0,0.0,0.0,0.0,0.0,0.0,0.0,0.0,0.0,0.0,0.0,0.0,0.0,0.0,0.0,0.0,0.0,0.0,0.0,0.0,0.0,0.0,0.0,0.0,0.0,0.0,0.0,0.0,0.0,0.0,0.0,0.0,0.0,0.0,0.0,0.0,0.0,0.0],\"type\":\"scatter\",\"xaxis\":\"x2\",\"yaxis\":\"y2\"},{\"mode\":\"lines\",\"name\":\"Avg. Quality #in\",\"x\":[0.0,1.0,2.0,3.0,4.0,5.0,6.0,7.0,8.0,9.0,10.0,11.0,12.0,13.0,14.0,15.0,16.0,17.0,18.0,19.0,20.0,21.0,22.0,23.0,24.0,25.0,26.0,27.0,28.0,29.0,30.0,31.0,32.0,33.0,34.0,35.0,36.0,37.0,38.0,39.0,40.0,41.0,42.0,43.0,44.0,45.0,46.0,47.0,48.0,49.0,50.0,51.0,52.0,53.0,54.0,55.0,56.0,57.0,58.0,59.0,60.0,61.0,62.0,63.0,64.0,65.0,66.0,67.0,68.0,69.0,70.0,71.0,72.0,73.0,74.0],\"y\":[0.939,0.939,0.91,0.91,0.91,0.91,0.877,0.814,0.814,0.784,0.721,0.71,0.695,0.664,0.63,0.581,0.593,0.594,0.554,0.536,0.492,0.502,0.495,0.482,0.477,0.472,0.485,0.465,0.46,0.457,0.449,0.452,0.448,0.447,0.44,0.439,0.437,0.432,0.406,0.4,0.393,0.388,0.388,0.386,0.38,0.374,0.374,0.374,0.374,0.374,0.374,0.374,0.374,0.374,0.374,0.374,0.374,0.374,0.374,0.374,0.374,0.374,0.374,0.374,0.374,0.374,0.374,0.374,0.374,0.374,0.374,0.374,0.374,0.374,0.374],\"type\":\"scatter\",\"xaxis\":\"x4\",\"yaxis\":\"y4\"},{\"mode\":\"lines\",\"name\":\"Avg. Quality #total\",\"x\":[0.0,1.0,2.0,3.0,4.0,5.0,6.0,7.0,8.0,9.0,10.0,11.0,12.0,13.0,14.0,15.0,16.0,17.0,18.0,19.0,20.0,21.0,22.0,23.0,24.0,25.0,26.0,27.0,28.0,29.0,30.0,31.0,32.0,33.0,34.0,35.0,36.0,37.0,38.0,39.0,40.0,41.0,42.0,43.0,44.0,45.0,46.0,47.0,48.0,49.0,50.0,51.0,52.0,53.0,54.0,55.0,56.0,57.0,58.0,59.0,60.0,61.0,62.0,63.0,64.0,65.0,66.0,67.0,68.0,69.0,70.0,71.0,72.0,73.0,74.0],\"y\":[0.939,0.939,0.91,0.91,0.91,0.91,0.877,0.814,0.814,0.784,0.754,0.738,0.716,0.697,0.679,0.648,0.653,0.652,0.628,0.615,0.598,0.602,0.6,0.593,0.585,0.583,0.593,0.586,0.584,0.58,0.578,0.574,0.572,0.569,0.563,0.561,0.56,0.552,0.54,0.537,0.532,0.528,0.527,0.525,0.521,0.519,0.519,0.519,0.519,0.519,0.519,0.519,0.519,0.519,0.519,0.519,0.519,0.519,0.519,0.519,0.519,0.519,0.519,0.519,0.519,0.519,0.519,0.519,0.519,0.519,0.519,0.519,0.519,0.519,0.519],\"type\":\"scatter\",\"xaxis\":\"x4\",\"yaxis\":\"y4\"}],                        {\"template\":{\"data\":{\"histogram2dcontour\":[{\"type\":\"histogram2dcontour\",\"colorbar\":{\"outlinewidth\":0,\"ticks\":\"\"},\"colorscale\":[[0.0,\"#0d0887\"],[0.1111111111111111,\"#46039f\"],[0.2222222222222222,\"#7201a8\"],[0.3333333333333333,\"#9c179e\"],[0.4444444444444444,\"#bd3786\"],[0.5555555555555556,\"#d8576b\"],[0.6666666666666666,\"#ed7953\"],[0.7777777777777778,\"#fb9f3a\"],[0.8888888888888888,\"#fdca26\"],[1.0,\"#f0f921\"]]}],\"choropleth\":[{\"type\":\"choropleth\",\"colorbar\":{\"outlinewidth\":0,\"ticks\":\"\"}}],\"histogram2d\":[{\"type\":\"histogram2d\",\"colorbar\":{\"outlinewidth\":0,\"ticks\":\"\"},\"colorscale\":[[0.0,\"#0d0887\"],[0.1111111111111111,\"#46039f\"],[0.2222222222222222,\"#7201a8\"],[0.3333333333333333,\"#9c179e\"],[0.4444444444444444,\"#bd3786\"],[0.5555555555555556,\"#d8576b\"],[0.6666666666666666,\"#ed7953\"],[0.7777777777777778,\"#fb9f3a\"],[0.8888888888888888,\"#fdca26\"],[1.0,\"#f0f921\"]]}],\"heatmap\":[{\"type\":\"heatmap\",\"colorbar\":{\"outlinewidth\":0,\"ticks\":\"\"},\"colorscale\":[[0.0,\"#0d0887\"],[0.1111111111111111,\"#46039f\"],[0.2222222222222222,\"#7201a8\"],[0.3333333333333333,\"#9c179e\"],[0.4444444444444444,\"#bd3786\"],[0.5555555555555556,\"#d8576b\"],[0.6666666666666666,\"#ed7953\"],[0.7777777777777778,\"#fb9f3a\"],[0.8888888888888888,\"#fdca26\"],[1.0,\"#f0f921\"]]}],\"heatmapgl\":[{\"type\":\"heatmapgl\",\"colorbar\":{\"outlinewidth\":0,\"ticks\":\"\"},\"colorscale\":[[0.0,\"#0d0887\"],[0.1111111111111111,\"#46039f\"],[0.2222222222222222,\"#7201a8\"],[0.3333333333333333,\"#9c179e\"],[0.4444444444444444,\"#bd3786\"],[0.5555555555555556,\"#d8576b\"],[0.6666666666666666,\"#ed7953\"],[0.7777777777777778,\"#fb9f3a\"],[0.8888888888888888,\"#fdca26\"],[1.0,\"#f0f921\"]]}],\"contourcarpet\":[{\"type\":\"contourcarpet\",\"colorbar\":{\"outlinewidth\":0,\"ticks\":\"\"}}],\"contour\":[{\"type\":\"contour\",\"colorbar\":{\"outlinewidth\":0,\"ticks\":\"\"},\"colorscale\":[[0.0,\"#0d0887\"],[0.1111111111111111,\"#46039f\"],[0.2222222222222222,\"#7201a8\"],[0.3333333333333333,\"#9c179e\"],[0.4444444444444444,\"#bd3786\"],[0.5555555555555556,\"#d8576b\"],[0.6666666666666666,\"#ed7953\"],[0.7777777777777778,\"#fb9f3a\"],[0.8888888888888888,\"#fdca26\"],[1.0,\"#f0f921\"]]}],\"surface\":[{\"type\":\"surface\",\"colorbar\":{\"outlinewidth\":0,\"ticks\":\"\"},\"colorscale\":[[0.0,\"#0d0887\"],[0.1111111111111111,\"#46039f\"],[0.2222222222222222,\"#7201a8\"],[0.3333333333333333,\"#9c179e\"],[0.4444444444444444,\"#bd3786\"],[0.5555555555555556,\"#d8576b\"],[0.6666666666666666,\"#ed7953\"],[0.7777777777777778,\"#fb9f3a\"],[0.8888888888888888,\"#fdca26\"],[1.0,\"#f0f921\"]]}],\"mesh3d\":[{\"type\":\"mesh3d\",\"colorbar\":{\"outlinewidth\":0,\"ticks\":\"\"}}],\"scatter\":[{\"fillpattern\":{\"fillmode\":\"overlay\",\"size\":10,\"solidity\":0.2},\"type\":\"scatter\"}],\"parcoords\":[{\"type\":\"parcoords\",\"line\":{\"colorbar\":{\"outlinewidth\":0,\"ticks\":\"\"}}}],\"scatterpolargl\":[{\"type\":\"scatterpolargl\",\"marker\":{\"colorbar\":{\"outlinewidth\":0,\"ticks\":\"\"}}}],\"bar\":[{\"error_x\":{\"color\":\"#2a3f5f\"},\"error_y\":{\"color\":\"#2a3f5f\"},\"marker\":{\"line\":{\"color\":\"#E5ECF6\",\"width\":0.5},\"pattern\":{\"fillmode\":\"overlay\",\"size\":10,\"solidity\":0.2}},\"type\":\"bar\"}],\"scattergeo\":[{\"type\":\"scattergeo\",\"marker\":{\"colorbar\":{\"outlinewidth\":0,\"ticks\":\"\"}}}],\"scatterpolar\":[{\"type\":\"scatterpolar\",\"marker\":{\"colorbar\":{\"outlinewidth\":0,\"ticks\":\"\"}}}],\"histogram\":[{\"marker\":{\"pattern\":{\"fillmode\":\"overlay\",\"size\":10,\"solidity\":0.2}},\"type\":\"histogram\"}],\"scattergl\":[{\"type\":\"scattergl\",\"marker\":{\"colorbar\":{\"outlinewidth\":0,\"ticks\":\"\"}}}],\"scatter3d\":[{\"type\":\"scatter3d\",\"line\":{\"colorbar\":{\"outlinewidth\":0,\"ticks\":\"\"}},\"marker\":{\"colorbar\":{\"outlinewidth\":0,\"ticks\":\"\"}}}],\"scattermapbox\":[{\"type\":\"scattermapbox\",\"marker\":{\"colorbar\":{\"outlinewidth\":0,\"ticks\":\"\"}}}],\"scatterternary\":[{\"type\":\"scatterternary\",\"marker\":{\"colorbar\":{\"outlinewidth\":0,\"ticks\":\"\"}}}],\"scattercarpet\":[{\"type\":\"scattercarpet\",\"marker\":{\"colorbar\":{\"outlinewidth\":0,\"ticks\":\"\"}}}],\"carpet\":[{\"aaxis\":{\"endlinecolor\":\"#2a3f5f\",\"gridcolor\":\"white\",\"linecolor\":\"white\",\"minorgridcolor\":\"white\",\"startlinecolor\":\"#2a3f5f\"},\"baxis\":{\"endlinecolor\":\"#2a3f5f\",\"gridcolor\":\"white\",\"linecolor\":\"white\",\"minorgridcolor\":\"white\",\"startlinecolor\":\"#2a3f5f\"},\"type\":\"carpet\"}],\"table\":[{\"cells\":{\"fill\":{\"color\":\"#EBF0F8\"},\"line\":{\"color\":\"white\"}},\"header\":{\"fill\":{\"color\":\"#C8D4E3\"},\"line\":{\"color\":\"white\"}},\"type\":\"table\"}],\"barpolar\":[{\"marker\":{\"line\":{\"color\":\"#E5ECF6\",\"width\":0.5},\"pattern\":{\"fillmode\":\"overlay\",\"size\":10,\"solidity\":0.2}},\"type\":\"barpolar\"}],\"pie\":[{\"automargin\":true,\"type\":\"pie\"}]},\"layout\":{\"autotypenumbers\":\"strict\",\"colorway\":[\"#636efa\",\"#EF553B\",\"#00cc96\",\"#ab63fa\",\"#FFA15A\",\"#19d3f3\",\"#FF6692\",\"#B6E880\",\"#FF97FF\",\"#FECB52\"],\"font\":{\"color\":\"#2a3f5f\"},\"hovermode\":\"closest\",\"hoverlabel\":{\"align\":\"left\"},\"paper_bgcolor\":\"white\",\"plot_bgcolor\":\"#E5ECF6\",\"polar\":{\"bgcolor\":\"#E5ECF6\",\"angularaxis\":{\"gridcolor\":\"white\",\"linecolor\":\"white\",\"ticks\":\"\"},\"radialaxis\":{\"gridcolor\":\"white\",\"linecolor\":\"white\",\"ticks\":\"\"}},\"ternary\":{\"bgcolor\":\"#E5ECF6\",\"aaxis\":{\"gridcolor\":\"white\",\"linecolor\":\"white\",\"ticks\":\"\"},\"baxis\":{\"gridcolor\":\"white\",\"linecolor\":\"white\",\"ticks\":\"\"},\"caxis\":{\"gridcolor\":\"white\",\"linecolor\":\"white\",\"ticks\":\"\"}},\"coloraxis\":{\"colorbar\":{\"outlinewidth\":0,\"ticks\":\"\"}},\"colorscale\":{\"sequential\":[[0.0,\"#0d0887\"],[0.1111111111111111,\"#46039f\"],[0.2222222222222222,\"#7201a8\"],[0.3333333333333333,\"#9c179e\"],[0.4444444444444444,\"#bd3786\"],[0.5555555555555556,\"#d8576b\"],[0.6666666666666666,\"#ed7953\"],[0.7777777777777778,\"#fb9f3a\"],[0.8888888888888888,\"#fdca26\"],[1.0,\"#f0f921\"]],\"sequentialminus\":[[0.0,\"#0d0887\"],[0.1111111111111111,\"#46039f\"],[0.2222222222222222,\"#7201a8\"],[0.3333333333333333,\"#9c179e\"],[0.4444444444444444,\"#bd3786\"],[0.5555555555555556,\"#d8576b\"],[0.6666666666666666,\"#ed7953\"],[0.7777777777777778,\"#fb9f3a\"],[0.8888888888888888,\"#fdca26\"],[1.0,\"#f0f921\"]],\"diverging\":[[0,\"#8e0152\"],[0.1,\"#c51b7d\"],[0.2,\"#de77ae\"],[0.3,\"#f1b6da\"],[0.4,\"#fde0ef\"],[0.5,\"#f7f7f7\"],[0.6,\"#e6f5d0\"],[0.7,\"#b8e186\"],[0.8,\"#7fbc41\"],[0.9,\"#4d9221\"],[1,\"#276419\"]]},\"xaxis\":{\"gridcolor\":\"white\",\"linecolor\":\"white\",\"ticks\":\"\",\"title\":{\"standoff\":15},\"zerolinecolor\":\"white\",\"automargin\":true,\"zerolinewidth\":2},\"yaxis\":{\"gridcolor\":\"white\",\"linecolor\":\"white\",\"ticks\":\"\",\"title\":{\"standoff\":15},\"zerolinecolor\":\"white\",\"automargin\":true,\"zerolinewidth\":2},\"scene\":{\"xaxis\":{\"backgroundcolor\":\"#E5ECF6\",\"gridcolor\":\"white\",\"linecolor\":\"white\",\"showbackground\":true,\"ticks\":\"\",\"zerolinecolor\":\"white\",\"gridwidth\":2},\"yaxis\":{\"backgroundcolor\":\"#E5ECF6\",\"gridcolor\":\"white\",\"linecolor\":\"white\",\"showbackground\":true,\"ticks\":\"\",\"zerolinecolor\":\"white\",\"gridwidth\":2},\"zaxis\":{\"backgroundcolor\":\"#E5ECF6\",\"gridcolor\":\"white\",\"linecolor\":\"white\",\"showbackground\":true,\"ticks\":\"\",\"zerolinecolor\":\"white\",\"gridwidth\":2}},\"shapedefaults\":{\"line\":{\"color\":\"#2a3f5f\"}},\"annotationdefaults\":{\"arrowcolor\":\"#2a3f5f\",\"arrowhead\":0,\"arrowwidth\":1},\"geo\":{\"bgcolor\":\"white\",\"landcolor\":\"#E5ECF6\",\"subunitcolor\":\"white\",\"showland\":true,\"showlakes\":true,\"lakecolor\":\"white\"},\"title\":{\"x\":0.05},\"mapbox\":{\"style\":\"light\"}}},\"xaxis\":{\"anchor\":\"y\",\"domain\":[0.0,0.45]},\"yaxis\":{\"anchor\":\"x\",\"domain\":[0.625,1.0]},\"xaxis2\":{\"anchor\":\"y2\",\"domain\":[0.55,1.0]},\"yaxis2\":{\"anchor\":\"x2\",\"domain\":[0.625,1.0]},\"xaxis3\":{\"anchor\":\"y3\",\"domain\":[0.0,0.45]},\"yaxis3\":{\"anchor\":\"x3\",\"domain\":[0.0,0.375]},\"xaxis4\":{\"anchor\":\"y4\",\"domain\":[0.55,1.0]},\"yaxis4\":{\"anchor\":\"x4\",\"domain\":[0.0,0.375]},\"annotations\":[{\"font\":{\"size\":16},\"showarrow\":false,\"text\":\"Types of Robots vs Time\",\"x\":0.225,\"xanchor\":\"center\",\"xref\":\"paper\",\"y\":1.0,\"yanchor\":\"bottom\",\"yref\":\"paper\"},{\"font\":{\"size\":16},\"showarrow\":false,\"text\":\"Resources vs Time\",\"x\":0.775,\"xanchor\":\"center\",\"xref\":\"paper\",\"y\":1.0,\"yanchor\":\"bottom\",\"yref\":\"paper\"},{\"font\":{\"size\":16},\"showarrow\":false,\"text\":\"Tasks of Robots vs Time\",\"x\":0.225,\"xanchor\":\"center\",\"xref\":\"paper\",\"y\":0.375,\"yanchor\":\"bottom\",\"yref\":\"paper\"},{\"font\":{\"size\":16},\"showarrow\":false,\"text\":\"Build Quality vs Time\",\"x\":0.775,\"xanchor\":\"center\",\"xref\":\"paper\",\"y\":0.375,\"yanchor\":\"bottom\",\"yref\":\"paper\"}],\"hovermode\":\"x\",\"title\":{\"text\":\"HHE - Characteristics\"}},                        {\"responsive\": true}                    ).then(function(){\n",
       "                            \n",
       "var gd = document.getElementById('60013fd1-29a9-48ea-8e47-dbded104c34c');\n",
       "var x = new MutationObserver(function (mutations, observer) {{\n",
       "        var display = window.getComputedStyle(gd).display;\n",
       "        if (!display || display === 'none') {{\n",
       "            console.log([gd, 'removed!']);\n",
       "            Plotly.purge(gd);\n",
       "            observer.disconnect();\n",
       "        }}\n",
       "}});\n",
       "\n",
       "// Listen for the removal of the full notebook cells\n",
       "var notebookContainer = gd.closest('#notebook-container');\n",
       "if (notebookContainer) {{\n",
       "    x.observe(notebookContainer, {childList: true});\n",
       "}}\n",
       "\n",
       "// Listen for the clearing of the current output cell\n",
       "var outputEl = gd.closest('.output');\n",
       "if (outputEl) {{\n",
       "    x.observe(outputEl, {childList: true});\n",
       "}}\n",
       "\n",
       "                        })                };                });            </script>        </div>"
      ]
     },
     "metadata": {},
     "output_type": "display_data"
    }
   ],
   "source": [
    "if __name__ == \"__main__\":\n",
    "    main(\"CHO\",75) #2000\n",
    "    main(\"DHO\",75)\n",
    "    main(\"HHO\",75)\n",
    "    main(\"CHE\",75) #1500\n",
    "    main(\"DHE\",75)\n",
    "    main(\"HHE\",75)"
   ]
  },
  {
   "cell_type": "code",
   "execution_count": null,
   "id": "a82b21e9",
   "metadata": {},
   "outputs": [],
   "source": []
  },
  {
   "cell_type": "code",
   "execution_count": null,
   "id": "973e6087",
   "metadata": {},
   "outputs": [],
   "source": []
  }
 ],
 "metadata": {
  "kernelspec": {
   "display_name": "Python 3 (ipykernel)",
   "language": "python",
   "name": "python3"
  },
  "language_info": {
   "codemirror_mode": {
    "name": "ipython",
    "version": 3
   },
   "file_extension": ".py",
   "mimetype": "text/x-python",
   "name": "python",
   "nbconvert_exporter": "python",
   "pygments_lexer": "ipython3",
   "version": "3.9.14"
  }
 },
 "nbformat": 4,
 "nbformat_minor": 5
}
